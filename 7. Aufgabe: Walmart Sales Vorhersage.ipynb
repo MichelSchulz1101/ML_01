{
 "cells": [
  {
   "cell_type": "markdown",
   "metadata": {},
   "source": [
    "# Walmart Sales Vorhersage"
   ]
  },
  {
   "cell_type": "code",
   "execution_count": 14,
   "metadata": {},
   "outputs": [],
   "source": [
    "import pandas as pd\n",
    "from sklearn.model_selection import train_test_split\n",
    "import numpy as np\n",
    "import plotly.graph_objects as go"
   ]
  },
  {
   "cell_type": "markdown",
   "metadata": {},
   "source": [
    "## 1. Einlesen & erste Sichtung"
   ]
  },
  {
   "cell_type": "code",
   "execution_count": 2,
   "metadata": {},
   "outputs": [
    {
     "data": {
      "application/vnd.microsoft.datawrangler.viewer.v0+json": {
       "columns": [
        {
         "name": "index",
         "rawType": "int64",
         "type": "integer"
        },
        {
         "name": "Store",
         "rawType": "int64",
         "type": "integer"
        },
        {
         "name": "Date",
         "rawType": "object",
         "type": "string"
        },
        {
         "name": "Weekly_Sales",
         "rawType": "float64",
         "type": "float"
        },
        {
         "name": "Holiday_Flag",
         "rawType": "int64",
         "type": "integer"
        },
        {
         "name": "Temperature",
         "rawType": "float64",
         "type": "float"
        },
        {
         "name": "Fuel_Price",
         "rawType": "float64",
         "type": "float"
        },
        {
         "name": "CPI",
         "rawType": "float64",
         "type": "float"
        },
        {
         "name": "Unemployment",
         "rawType": "float64",
         "type": "float"
        }
       ],
       "ref": "9d9058f2-0c16-4e10-aaf2-307a8824ae1d",
       "rows": [
        [
         "0",
         "1",
         "05-02-2010",
         "1643690.9",
         "0",
         "42.31",
         "2.572",
         "211.0963582",
         "8.106"
        ],
        [
         "1",
         "1",
         "12-02-2010",
         "1641957.44",
         "1",
         "38.51",
         "2.548",
         "211.2421698",
         "8.106"
        ],
        [
         "2",
         "1",
         "19-02-2010",
         "1611968.17",
         "0",
         "39.93",
         "2.514",
         "211.2891429",
         "8.106"
        ],
        [
         "3",
         "1",
         "26-02-2010",
         "1409727.59",
         "0",
         "46.63",
         "2.561",
         "211.3196429",
         "8.106"
        ],
        [
         "4",
         "1",
         "05-03-2010",
         "1554806.68",
         "0",
         "46.5",
         "2.625",
         "211.3501429",
         "8.106"
        ],
        [
         "5",
         "1",
         "12-03-2010",
         "1439541.59",
         "0",
         "57.79",
         "2.667",
         "211.3806429",
         "8.106"
        ],
        [
         "6",
         "1",
         "19-03-2010",
         "1472515.79",
         "0",
         "54.58",
         "2.72",
         "211.215635",
         "8.106"
        ],
        [
         "7",
         "1",
         "26-03-2010",
         "1404429.92",
         "0",
         "51.45",
         "2.732",
         "211.0180424",
         "8.106"
        ],
        [
         "8",
         "1",
         "02-04-2010",
         "1594968.28",
         "0",
         "62.27",
         "2.719",
         "210.8204499",
         "7.808"
        ],
        [
         "9",
         "1",
         "09-04-2010",
         "1545418.53",
         "0",
         "65.86",
         "2.77",
         "210.6228574",
         "7.808"
        ],
        [
         "10",
         "1",
         "16-04-2010",
         "1466058.28",
         "0",
         "66.32",
         "2.808",
         "210.4887",
         "7.808"
        ],
        [
         "11",
         "1",
         "23-04-2010",
         "1391256.12",
         "0",
         "64.84",
         "2.795",
         "210.4391228",
         "7.808"
        ],
        [
         "12",
         "1",
         "30-04-2010",
         "1425100.71",
         "0",
         "67.41",
         "2.78",
         "210.3895456",
         "7.808"
        ],
        [
         "13",
         "1",
         "07-05-2010",
         "1603955.12",
         "0",
         "72.55",
         "2.835",
         "210.3399684",
         "7.808"
        ],
        [
         "14",
         "1",
         "14-05-2010",
         "1494251.5",
         "0",
         "74.78",
         "2.854",
         "210.3374261",
         "7.808"
        ],
        [
         "15",
         "1",
         "21-05-2010",
         "1399662.07",
         "0",
         "76.44",
         "2.826",
         "210.6170934",
         "7.808"
        ],
        [
         "16",
         "1",
         "28-05-2010",
         "1432069.95",
         "0",
         "80.44",
         "2.759",
         "210.8967606",
         "7.808"
        ],
        [
         "17",
         "1",
         "04-06-2010",
         "1615524.71",
         "0",
         "80.69",
         "2.705",
         "211.1764278",
         "7.808"
        ],
        [
         "18",
         "1",
         "11-06-2010",
         "1542561.09",
         "0",
         "80.43",
         "2.668",
         "211.4560951",
         "7.808"
        ],
        [
         "19",
         "1",
         "18-06-2010",
         "1503284.06",
         "0",
         "84.11",
         "2.637",
         "211.4537719",
         "7.808"
        ],
        [
         "20",
         "1",
         "25-06-2010",
         "1422711.6",
         "0",
         "84.34",
         "2.653",
         "211.3386526",
         "7.808"
        ],
        [
         "21",
         "1",
         "02-07-2010",
         "1492418.14",
         "0",
         "80.91",
         "2.669",
         "211.2235333",
         "7.787"
        ],
        [
         "22",
         "1",
         "09-07-2010",
         "1546074.18",
         "0",
         "80.48",
         "2.642",
         "211.108414",
         "7.787"
        ],
        [
         "23",
         "1",
         "16-07-2010",
         "1448938.92",
         "0",
         "83.15",
         "2.623",
         "211.1003854",
         "7.787"
        ],
        [
         "24",
         "1",
         "23-07-2010",
         "1385065.2",
         "0",
         "83.36",
         "2.608",
         "211.2351443",
         "7.787"
        ],
        [
         "25",
         "1",
         "30-07-2010",
         "1371986.6",
         "0",
         "81.84",
         "2.64",
         "211.3699032",
         "7.787"
        ],
        [
         "26",
         "1",
         "06-08-2010",
         "1605491.78",
         "0",
         "87.16",
         "2.627",
         "211.5046621",
         "7.787"
        ],
        [
         "27",
         "1",
         "13-08-2010",
         "1508237.76",
         "0",
         "87.0",
         "2.692",
         "211.6394211",
         "7.787"
        ],
        [
         "28",
         "1",
         "20-08-2010",
         "1513080.49",
         "0",
         "86.65",
         "2.664",
         "211.6033633",
         "7.787"
        ],
        [
         "29",
         "1",
         "27-08-2010",
         "1449142.92",
         "0",
         "85.22",
         "2.619",
         "211.5673056",
         "7.787"
        ],
        [
         "30",
         "1",
         "03-09-2010",
         "1540163.53",
         "0",
         "81.21",
         "2.577",
         "211.5312479",
         "7.787"
        ],
        [
         "31",
         "1",
         "10-09-2010",
         "1507460.69",
         "1",
         "78.69",
         "2.565",
         "211.4951902",
         "7.787"
        ],
        [
         "32",
         "1",
         "17-09-2010",
         "1430378.67",
         "0",
         "82.11",
         "2.582",
         "211.5224596",
         "7.787"
        ],
        [
         "33",
         "1",
         "24-09-2010",
         "1351791.03",
         "0",
         "80.94",
         "2.624",
         "211.5972246",
         "7.787"
        ],
        [
         "34",
         "1",
         "01-10-2010",
         "1453329.5",
         "0",
         "71.89",
         "2.603",
         "211.6719895",
         "7.838"
        ],
        [
         "35",
         "1",
         "08-10-2010",
         "1508239.93",
         "0",
         "63.93",
         "2.633",
         "211.7467544",
         "7.838"
        ],
        [
         "36",
         "1",
         "15-10-2010",
         "1459409.1",
         "0",
         "67.18",
         "2.72",
         "211.8137436",
         "7.838"
        ],
        [
         "37",
         "1",
         "22-10-2010",
         "1345454.0",
         "0",
         "69.86",
         "2.725",
         "211.8612937",
         "7.838"
        ],
        [
         "38",
         "1",
         "29-10-2010",
         "1384209.22",
         "0",
         "69.64",
         "2.716",
         "211.9088438",
         "7.838"
        ],
        [
         "39",
         "1",
         "05-11-2010",
         "1551659.28",
         "0",
         "58.74",
         "2.689",
         "211.9563939",
         "7.838"
        ],
        [
         "40",
         "1",
         "12-11-2010",
         "1494479.49",
         "0",
         "59.61",
         "2.728",
         "212.003944",
         "7.838"
        ],
        [
         "41",
         "1",
         "19-11-2010",
         "1483784.18",
         "0",
         "51.41",
         "2.771",
         "211.8896737",
         "7.838"
        ],
        [
         "42",
         "1",
         "26-11-2010",
         "1955624.11",
         "1",
         "64.52",
         "2.735",
         "211.7484333",
         "7.838"
        ],
        [
         "43",
         "1",
         "03-12-2010",
         "1548033.78",
         "0",
         "49.27",
         "2.708",
         "211.607193",
         "7.838"
        ],
        [
         "44",
         "1",
         "10-12-2010",
         "1682614.26",
         "0",
         "46.33",
         "2.843",
         "211.4659526",
         "7.838"
        ],
        [
         "45",
         "1",
         "17-12-2010",
         "1891034.93",
         "0",
         "49.84",
         "2.869",
         "211.4053124",
         "7.838"
        ],
        [
         "46",
         "1",
         "24-12-2010",
         "2387950.2",
         "0",
         "52.33",
         "2.886",
         "211.4051222",
         "7.838"
        ],
        [
         "47",
         "1",
         "31-12-2010",
         "1367320.01",
         "1",
         "48.43",
         "2.943",
         "211.4049321",
         "7.838"
        ],
        [
         "48",
         "1",
         "07-01-2011",
         "1444732.28",
         "0",
         "48.27",
         "2.976",
         "211.4047419",
         "7.742"
        ],
        [
         "49",
         "1",
         "14-01-2011",
         "1391013.96",
         "0",
         "35.4",
         "2.983",
         "211.4574109",
         "7.742"
        ]
       ],
       "shape": {
        "columns": 8,
        "rows": 6435
       }
      },
      "text/html": [
       "<div>\n",
       "<style scoped>\n",
       "    .dataframe tbody tr th:only-of-type {\n",
       "        vertical-align: middle;\n",
       "    }\n",
       "\n",
       "    .dataframe tbody tr th {\n",
       "        vertical-align: top;\n",
       "    }\n",
       "\n",
       "    .dataframe thead th {\n",
       "        text-align: right;\n",
       "    }\n",
       "</style>\n",
       "<table border=\"1\" class=\"dataframe\">\n",
       "  <thead>\n",
       "    <tr style=\"text-align: right;\">\n",
       "      <th></th>\n",
       "      <th>Store</th>\n",
       "      <th>Date</th>\n",
       "      <th>Weekly_Sales</th>\n",
       "      <th>Holiday_Flag</th>\n",
       "      <th>Temperature</th>\n",
       "      <th>Fuel_Price</th>\n",
       "      <th>CPI</th>\n",
       "      <th>Unemployment</th>\n",
       "    </tr>\n",
       "  </thead>\n",
       "  <tbody>\n",
       "    <tr>\n",
       "      <th>0</th>\n",
       "      <td>1</td>\n",
       "      <td>05-02-2010</td>\n",
       "      <td>1643690.90</td>\n",
       "      <td>0</td>\n",
       "      <td>42.31</td>\n",
       "      <td>2.572</td>\n",
       "      <td>211.096358</td>\n",
       "      <td>8.106</td>\n",
       "    </tr>\n",
       "    <tr>\n",
       "      <th>1</th>\n",
       "      <td>1</td>\n",
       "      <td>12-02-2010</td>\n",
       "      <td>1641957.44</td>\n",
       "      <td>1</td>\n",
       "      <td>38.51</td>\n",
       "      <td>2.548</td>\n",
       "      <td>211.242170</td>\n",
       "      <td>8.106</td>\n",
       "    </tr>\n",
       "    <tr>\n",
       "      <th>2</th>\n",
       "      <td>1</td>\n",
       "      <td>19-02-2010</td>\n",
       "      <td>1611968.17</td>\n",
       "      <td>0</td>\n",
       "      <td>39.93</td>\n",
       "      <td>2.514</td>\n",
       "      <td>211.289143</td>\n",
       "      <td>8.106</td>\n",
       "    </tr>\n",
       "    <tr>\n",
       "      <th>3</th>\n",
       "      <td>1</td>\n",
       "      <td>26-02-2010</td>\n",
       "      <td>1409727.59</td>\n",
       "      <td>0</td>\n",
       "      <td>46.63</td>\n",
       "      <td>2.561</td>\n",
       "      <td>211.319643</td>\n",
       "      <td>8.106</td>\n",
       "    </tr>\n",
       "    <tr>\n",
       "      <th>4</th>\n",
       "      <td>1</td>\n",
       "      <td>05-03-2010</td>\n",
       "      <td>1554806.68</td>\n",
       "      <td>0</td>\n",
       "      <td>46.50</td>\n",
       "      <td>2.625</td>\n",
       "      <td>211.350143</td>\n",
       "      <td>8.106</td>\n",
       "    </tr>\n",
       "    <tr>\n",
       "      <th>...</th>\n",
       "      <td>...</td>\n",
       "      <td>...</td>\n",
       "      <td>...</td>\n",
       "      <td>...</td>\n",
       "      <td>...</td>\n",
       "      <td>...</td>\n",
       "      <td>...</td>\n",
       "      <td>...</td>\n",
       "    </tr>\n",
       "    <tr>\n",
       "      <th>6430</th>\n",
       "      <td>45</td>\n",
       "      <td>28-09-2012</td>\n",
       "      <td>713173.95</td>\n",
       "      <td>0</td>\n",
       "      <td>64.88</td>\n",
       "      <td>3.997</td>\n",
       "      <td>192.013558</td>\n",
       "      <td>8.684</td>\n",
       "    </tr>\n",
       "    <tr>\n",
       "      <th>6431</th>\n",
       "      <td>45</td>\n",
       "      <td>05-10-2012</td>\n",
       "      <td>733455.07</td>\n",
       "      <td>0</td>\n",
       "      <td>64.89</td>\n",
       "      <td>3.985</td>\n",
       "      <td>192.170412</td>\n",
       "      <td>8.667</td>\n",
       "    </tr>\n",
       "    <tr>\n",
       "      <th>6432</th>\n",
       "      <td>45</td>\n",
       "      <td>12-10-2012</td>\n",
       "      <td>734464.36</td>\n",
       "      <td>0</td>\n",
       "      <td>54.47</td>\n",
       "      <td>4.000</td>\n",
       "      <td>192.327265</td>\n",
       "      <td>8.667</td>\n",
       "    </tr>\n",
       "    <tr>\n",
       "      <th>6433</th>\n",
       "      <td>45</td>\n",
       "      <td>19-10-2012</td>\n",
       "      <td>718125.53</td>\n",
       "      <td>0</td>\n",
       "      <td>56.47</td>\n",
       "      <td>3.969</td>\n",
       "      <td>192.330854</td>\n",
       "      <td>8.667</td>\n",
       "    </tr>\n",
       "    <tr>\n",
       "      <th>6434</th>\n",
       "      <td>45</td>\n",
       "      <td>26-10-2012</td>\n",
       "      <td>760281.43</td>\n",
       "      <td>0</td>\n",
       "      <td>58.85</td>\n",
       "      <td>3.882</td>\n",
       "      <td>192.308899</td>\n",
       "      <td>8.667</td>\n",
       "    </tr>\n",
       "  </tbody>\n",
       "</table>\n",
       "<p>6435 rows × 8 columns</p>\n",
       "</div>"
      ],
      "text/plain": [
       "      Store        Date  Weekly_Sales  ...  Fuel_Price         CPI  Unemployment\n",
       "0         1  05-02-2010    1643690.90  ...       2.572  211.096358         8.106\n",
       "1         1  12-02-2010    1641957.44  ...       2.548  211.242170         8.106\n",
       "2         1  19-02-2010    1611968.17  ...       2.514  211.289143         8.106\n",
       "3         1  26-02-2010    1409727.59  ...       2.561  211.319643         8.106\n",
       "4         1  05-03-2010    1554806.68  ...       2.625  211.350143         8.106\n",
       "...     ...         ...           ...  ...         ...         ...           ...\n",
       "6430     45  28-09-2012     713173.95  ...       3.997  192.013558         8.684\n",
       "6431     45  05-10-2012     733455.07  ...       3.985  192.170412         8.667\n",
       "6432     45  12-10-2012     734464.36  ...       4.000  192.327265         8.667\n",
       "6433     45  19-10-2012     718125.53  ...       3.969  192.330854         8.667\n",
       "6434     45  26-10-2012     760281.43  ...       3.882  192.308899         8.667\n",
       "\n",
       "[6435 rows x 8 columns]"
      ]
     },
     "execution_count": 2,
     "metadata": {},
     "output_type": "execute_result"
    }
   ],
   "source": [
    "walmart_sales = pd.read_csv(\"data/Walmart_Sales.csv\")\n",
    "walmart_sales"
   ]
  },
  {
   "cell_type": "code",
   "execution_count": 5,
   "metadata": {},
   "outputs": [
    {
     "name": "stdout",
     "output_type": "stream",
     "text": [
      "Shape (Zeilen, Spalten): (6435, 8)\n"
     ]
    }
   ],
   "source": [
    "print(\"Shape (Zeilen, Spalten):\", walmart_sales.shape)"
   ]
  },
  {
   "cell_type": "code",
   "execution_count": 7,
   "metadata": {},
   "outputs": [
    {
     "name": "stdout",
     "output_type": "stream",
     "text": [
      "\n",
      "Datentypen:\n",
      "Store             int64\n",
      "Date             object\n",
      "Weekly_Sales    float64\n",
      "Holiday_Flag      int64\n",
      "Temperature     float64\n",
      "Fuel_Price      float64\n",
      "CPI             float64\n",
      "Unemployment    float64\n",
      "dtype: object\n"
     ]
    }
   ],
   "source": [
    "print(\"\\nDatentypen:\")\n",
    "print(walmart_sales.dtypes)\n"
   ]
  },
  {
   "cell_type": "code",
   "execution_count": 8,
   "metadata": {},
   "outputs": [
    {
     "name": "stdout",
     "output_type": "stream",
     "text": [
      "\n",
      "Fehlende Werte pro Spalte:\n",
      "Store           0\n",
      "Date            0\n",
      "Weekly_Sales    0\n",
      "Holiday_Flag    0\n",
      "Temperature     0\n",
      "Fuel_Price      0\n",
      "CPI             0\n",
      "Unemployment    0\n",
      "dtype: int64\n"
     ]
    }
   ],
   "source": [
    "print(\"\\nFehlende Werte pro Spalte:\")\n",
    "print(walmart_sales.isnull().sum())"
   ]
  },
  {
   "cell_type": "code",
   "execution_count": 3,
   "metadata": {},
   "outputs": [],
   "source": [
    "X = walmart_sales.drop(\"Weekly_Sales\", axis=1)\n",
    "\n",
    "y = walmart_sales[\"Weekly_Sales\"]"
   ]
  },
  {
   "cell_type": "markdown",
   "metadata": {},
   "source": [
    "## 2. Zeitspalte parsen"
   ]
  },
  {
   "cell_type": "code",
   "execution_count": 12,
   "metadata": {},
   "outputs": [
    {
     "name": "stdout",
     "output_type": "stream",
     "text": [
      "   Store       Date  Weekly_Sales  ...  Month  WeekOfYear  Quarter\n",
      "0      1 2010-02-05    1643690.90  ...      2           5        1\n",
      "1      1 2010-02-12    1641957.44  ...      2           6        1\n",
      "2      1 2010-02-19    1611968.17  ...      2           7        1\n",
      "3      1 2010-02-26    1409727.59  ...      2           8        1\n",
      "4      1 2010-03-05    1554806.68  ...      3           9        1\n",
      "\n",
      "[5 rows x 12 columns]\n"
     ]
    }
   ],
   "source": [
    "walmart_sales[\"Date\"] = pd.to_datetime(walmart_sales[\"Date\"], dayfirst=True)\n",
    "\n",
    "walmart_sales[\"Year\"] = walmart_sales[\"Date\"].dt.year\n",
    "walmart_sales[\"Month\"] = walmart_sales[\"Date\"].dt.month\n",
    "walmart_sales[\"WeekOfYear\"] = walmart_sales[\"Date\"].dt.isocalendar().week\n",
    "walmart_sales[\"Quarter\"] = walmart_sales[\"Date\"].dt.quarter\n",
    "\n",
    "print(walmart_sales.head())"
   ]
  },
  {
   "cell_type": "markdown",
   "metadata": {},
   "source": [
    "## 3. Deskriptive Statistik & Visuals"
   ]
  },
  {
   "cell_type": "code",
   "execution_count": 15,
   "metadata": {},
   "outputs": [
    {
     "name": "stdout",
     "output_type": "stream",
     "text": [
      "\n",
      "Deskriptive Statistik:\n",
      "               count          mean  ...           75%           max\n",
      "Weekly_Sales  6435.0  1.046965e+06  ...  1.420159e+06  3.818686e+06\n",
      "Temperature   6435.0  6.066378e+01  ...  7.494000e+01  1.001400e+02\n",
      "Fuel_Price    6435.0  3.358607e+00  ...  3.735000e+00  4.468000e+00\n",
      "CPI           6435.0  1.715784e+02  ...  2.127433e+02  2.272328e+02\n",
      "Unemployment  6435.0  7.999151e+00  ...  8.622000e+00  1.431300e+01\n",
      "\n",
      "[5 rows x 8 columns]\n"
     ]
    }
   ],
   "source": [
    "# Numerische Spalten\n",
    "num_cols = [\"Weekly_Sales\", \"Temperature\", \"Fuel_Price\", \"CPI\", \"Unemployment\"]\n",
    "\n",
    "print(\"\\nDeskriptive Statistik:\")\n",
    "print(walmart_sales[num_cols].describe().T)\n"
   ]
  },
  {
   "cell_type": "code",
   "execution_count": 19,
   "metadata": {},
   "outputs": [
    {
     "data": {
      "application/vnd.plotly.v1+json": {
       "config": {
        "plotlyServerURL": "https://plot.ly"
       },
       "data": [
        {
         "marker": {
          "color": "royalblue"
         },
         "nbinsx": 20,
         "type": "histogram",
         "x": {
          "bdata": "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",
          "dtype": "f8"
         }
        }
       ],
       "layout": {
        "bargap": 0.05,
        "template": {
         "data": {
          "bar": [
           {
            "error_x": {
             "color": "#2a3f5f"
            },
            "error_y": {
             "color": "#2a3f5f"
            },
            "marker": {
             "line": {
              "color": "#E5ECF6",
              "width": 0.5
             },
             "pattern": {
              "fillmode": "overlay",
              "size": 10,
              "solidity": 0.2
             }
            },
            "type": "bar"
           }
          ],
          "barpolar": [
           {
            "marker": {
             "line": {
              "color": "#E5ECF6",
              "width": 0.5
             },
             "pattern": {
              "fillmode": "overlay",
              "size": 10,
              "solidity": 0.2
             }
            },
            "type": "barpolar"
           }
          ],
          "carpet": [
           {
            "aaxis": {
             "endlinecolor": "#2a3f5f",
             "gridcolor": "white",
             "linecolor": "white",
             "minorgridcolor": "white",
             "startlinecolor": "#2a3f5f"
            },
            "baxis": {
             "endlinecolor": "#2a3f5f",
             "gridcolor": "white",
             "linecolor": "white",
             "minorgridcolor": "white",
             "startlinecolor": "#2a3f5f"
            },
            "type": "carpet"
           }
          ],
          "choropleth": [
           {
            "colorbar": {
             "outlinewidth": 0,
             "ticks": ""
            },
            "type": "choropleth"
           }
          ],
          "contour": [
           {
            "colorbar": {
             "outlinewidth": 0,
             "ticks": ""
            },
            "colorscale": [
             [
              0,
              "#0d0887"
             ],
             [
              0.1111111111111111,
              "#46039f"
             ],
             [
              0.2222222222222222,
              "#7201a8"
             ],
             [
              0.3333333333333333,
              "#9c179e"
             ],
             [
              0.4444444444444444,
              "#bd3786"
             ],
             [
              0.5555555555555556,
              "#d8576b"
             ],
             [
              0.6666666666666666,
              "#ed7953"
             ],
             [
              0.7777777777777778,
              "#fb9f3a"
             ],
             [
              0.8888888888888888,
              "#fdca26"
             ],
             [
              1,
              "#f0f921"
             ]
            ],
            "type": "contour"
           }
          ],
          "contourcarpet": [
           {
            "colorbar": {
             "outlinewidth": 0,
             "ticks": ""
            },
            "type": "contourcarpet"
           }
          ],
          "heatmap": [
           {
            "colorbar": {
             "outlinewidth": 0,
             "ticks": ""
            },
            "colorscale": [
             [
              0,
              "#0d0887"
             ],
             [
              0.1111111111111111,
              "#46039f"
             ],
             [
              0.2222222222222222,
              "#7201a8"
             ],
             [
              0.3333333333333333,
              "#9c179e"
             ],
             [
              0.4444444444444444,
              "#bd3786"
             ],
             [
              0.5555555555555556,
              "#d8576b"
             ],
             [
              0.6666666666666666,
              "#ed7953"
             ],
             [
              0.7777777777777778,
              "#fb9f3a"
             ],
             [
              0.8888888888888888,
              "#fdca26"
             ],
             [
              1,
              "#f0f921"
             ]
            ],
            "type": "heatmap"
           }
          ],
          "histogram": [
           {
            "marker": {
             "pattern": {
              "fillmode": "overlay",
              "size": 10,
              "solidity": 0.2
             }
            },
            "type": "histogram"
           }
          ],
          "histogram2d": [
           {
            "colorbar": {
             "outlinewidth": 0,
             "ticks": ""
            },
            "colorscale": [
             [
              0,
              "#0d0887"
             ],
             [
              0.1111111111111111,
              "#46039f"
             ],
             [
              0.2222222222222222,
              "#7201a8"
             ],
             [
              0.3333333333333333,
              "#9c179e"
             ],
             [
              0.4444444444444444,
              "#bd3786"
             ],
             [
              0.5555555555555556,
              "#d8576b"
             ],
             [
              0.6666666666666666,
              "#ed7953"
             ],
             [
              0.7777777777777778,
              "#fb9f3a"
             ],
             [
              0.8888888888888888,
              "#fdca26"
             ],
             [
              1,
              "#f0f921"
             ]
            ],
            "type": "histogram2d"
           }
          ],
          "histogram2dcontour": [
           {
            "colorbar": {
             "outlinewidth": 0,
             "ticks": ""
            },
            "colorscale": [
             [
              0,
              "#0d0887"
             ],
             [
              0.1111111111111111,
              "#46039f"
             ],
             [
              0.2222222222222222,
              "#7201a8"
             ],
             [
              0.3333333333333333,
              "#9c179e"
             ],
             [
              0.4444444444444444,
              "#bd3786"
             ],
             [
              0.5555555555555556,
              "#d8576b"
             ],
             [
              0.6666666666666666,
              "#ed7953"
             ],
             [
              0.7777777777777778,
              "#fb9f3a"
             ],
             [
              0.8888888888888888,
              "#fdca26"
             ],
             [
              1,
              "#f0f921"
             ]
            ],
            "type": "histogram2dcontour"
           }
          ],
          "mesh3d": [
           {
            "colorbar": {
             "outlinewidth": 0,
             "ticks": ""
            },
            "type": "mesh3d"
           }
          ],
          "parcoords": [
           {
            "line": {
             "colorbar": {
              "outlinewidth": 0,
              "ticks": ""
             }
            },
            "type": "parcoords"
           }
          ],
          "pie": [
           {
            "automargin": true,
            "type": "pie"
           }
          ],
          "scatter": [
           {
            "fillpattern": {
             "fillmode": "overlay",
             "size": 10,
             "solidity": 0.2
            },
            "type": "scatter"
           }
          ],
          "scatter3d": [
           {
            "line": {
             "colorbar": {
              "outlinewidth": 0,
              "ticks": ""
             }
            },
            "marker": {
             "colorbar": {
              "outlinewidth": 0,
              "ticks": ""
             }
            },
            "type": "scatter3d"
           }
          ],
          "scattercarpet": [
           {
            "marker": {
             "colorbar": {
              "outlinewidth": 0,
              "ticks": ""
             }
            },
            "type": "scattercarpet"
           }
          ],
          "scattergeo": [
           {
            "marker": {
             "colorbar": {
              "outlinewidth": 0,
              "ticks": ""
             }
            },
            "type": "scattergeo"
           }
          ],
          "scattergl": [
           {
            "marker": {
             "colorbar": {
              "outlinewidth": 0,
              "ticks": ""
             }
            },
            "type": "scattergl"
           }
          ],
          "scattermap": [
           {
            "marker": {
             "colorbar": {
              "outlinewidth": 0,
              "ticks": ""
             }
            },
            "type": "scattermap"
           }
          ],
          "scattermapbox": [
           {
            "marker": {
             "colorbar": {
              "outlinewidth": 0,
              "ticks": ""
             }
            },
            "type": "scattermapbox"
           }
          ],
          "scatterpolar": [
           {
            "marker": {
             "colorbar": {
              "outlinewidth": 0,
              "ticks": ""
             }
            },
            "type": "scatterpolar"
           }
          ],
          "scatterpolargl": [
           {
            "marker": {
             "colorbar": {
              "outlinewidth": 0,
              "ticks": ""
             }
            },
            "type": "scatterpolargl"
           }
          ],
          "scatterternary": [
           {
            "marker": {
             "colorbar": {
              "outlinewidth": 0,
              "ticks": ""
             }
            },
            "type": "scatterternary"
           }
          ],
          "surface": [
           {
            "colorbar": {
             "outlinewidth": 0,
             "ticks": ""
            },
            "colorscale": [
             [
              0,
              "#0d0887"
             ],
             [
              0.1111111111111111,
              "#46039f"
             ],
             [
              0.2222222222222222,
              "#7201a8"
             ],
             [
              0.3333333333333333,
              "#9c179e"
             ],
             [
              0.4444444444444444,
              "#bd3786"
             ],
             [
              0.5555555555555556,
              "#d8576b"
             ],
             [
              0.6666666666666666,
              "#ed7953"
             ],
             [
              0.7777777777777778,
              "#fb9f3a"
             ],
             [
              0.8888888888888888,
              "#fdca26"
             ],
             [
              1,
              "#f0f921"
             ]
            ],
            "type": "surface"
           }
          ],
          "table": [
           {
            "cells": {
             "fill": {
              "color": "#EBF0F8"
             },
             "line": {
              "color": "white"
             }
            },
            "header": {
             "fill": {
              "color": "#C8D4E3"
             },
             "line": {
              "color": "white"
             }
            },
            "type": "table"
           }
          ]
         },
         "layout": {
          "annotationdefaults": {
           "arrowcolor": "#2a3f5f",
           "arrowhead": 0,
           "arrowwidth": 1
          },
          "autotypenumbers": "strict",
          "coloraxis": {
           "colorbar": {
            "outlinewidth": 0,
            "ticks": ""
           }
          },
          "colorscale": {
           "diverging": [
            [
             0,
             "#8e0152"
            ],
            [
             0.1,
             "#c51b7d"
            ],
            [
             0.2,
             "#de77ae"
            ],
            [
             0.3,
             "#f1b6da"
            ],
            [
             0.4,
             "#fde0ef"
            ],
            [
             0.5,
             "#f7f7f7"
            ],
            [
             0.6,
             "#e6f5d0"
            ],
            [
             0.7,
             "#b8e186"
            ],
            [
             0.8,
             "#7fbc41"
            ],
            [
             0.9,
             "#4d9221"
            ],
            [
             1,
             "#276419"
            ]
           ],
           "sequential": [
            [
             0,
             "#0d0887"
            ],
            [
             0.1111111111111111,
             "#46039f"
            ],
            [
             0.2222222222222222,
             "#7201a8"
            ],
            [
             0.3333333333333333,
             "#9c179e"
            ],
            [
             0.4444444444444444,
             "#bd3786"
            ],
            [
             0.5555555555555556,
             "#d8576b"
            ],
            [
             0.6666666666666666,
             "#ed7953"
            ],
            [
             0.7777777777777778,
             "#fb9f3a"
            ],
            [
             0.8888888888888888,
             "#fdca26"
            ],
            [
             1,
             "#f0f921"
            ]
           ],
           "sequentialminus": [
            [
             0,
             "#0d0887"
            ],
            [
             0.1111111111111111,
             "#46039f"
            ],
            [
             0.2222222222222222,
             "#7201a8"
            ],
            [
             0.3333333333333333,
             "#9c179e"
            ],
            [
             0.4444444444444444,
             "#bd3786"
            ],
            [
             0.5555555555555556,
             "#d8576b"
            ],
            [
             0.6666666666666666,
             "#ed7953"
            ],
            [
             0.7777777777777778,
             "#fb9f3a"
            ],
            [
             0.8888888888888888,
             "#fdca26"
            ],
            [
             1,
             "#f0f921"
            ]
           ]
          },
          "colorway": [
           "#636efa",
           "#EF553B",
           "#00cc96",
           "#ab63fa",
           "#FFA15A",
           "#19d3f3",
           "#FF6692",
           "#B6E880",
           "#FF97FF",
           "#FECB52"
          ],
          "font": {
           "color": "#2a3f5f"
          },
          "geo": {
           "bgcolor": "white",
           "lakecolor": "white",
           "landcolor": "#E5ECF6",
           "showlakes": true,
           "showland": true,
           "subunitcolor": "white"
          },
          "hoverlabel": {
           "align": "left"
          },
          "hovermode": "closest",
          "mapbox": {
           "style": "light"
          },
          "paper_bgcolor": "white",
          "plot_bgcolor": "#E5ECF6",
          "polar": {
           "angularaxis": {
            "gridcolor": "white",
            "linecolor": "white",
            "ticks": ""
           },
           "bgcolor": "#E5ECF6",
           "radialaxis": {
            "gridcolor": "white",
            "linecolor": "white",
            "ticks": ""
           }
          },
          "scene": {
           "xaxis": {
            "backgroundcolor": "#E5ECF6",
            "gridcolor": "white",
            "gridwidth": 2,
            "linecolor": "white",
            "showbackground": true,
            "ticks": "",
            "zerolinecolor": "white"
           },
           "yaxis": {
            "backgroundcolor": "#E5ECF6",
            "gridcolor": "white",
            "gridwidth": 2,
            "linecolor": "white",
            "showbackground": true,
            "ticks": "",
            "zerolinecolor": "white"
           },
           "zaxis": {
            "backgroundcolor": "#E5ECF6",
            "gridcolor": "white",
            "gridwidth": 2,
            "linecolor": "white",
            "showbackground": true,
            "ticks": "",
            "zerolinecolor": "white"
           }
          },
          "shapedefaults": {
           "line": {
            "color": "#2a3f5f"
           }
          },
          "ternary": {
           "aaxis": {
            "gridcolor": "white",
            "linecolor": "white",
            "ticks": ""
           },
           "baxis": {
            "gridcolor": "white",
            "linecolor": "white",
            "ticks": ""
           },
           "bgcolor": "#E5ECF6",
           "caxis": {
            "gridcolor": "white",
            "linecolor": "white",
            "ticks": ""
           }
          },
          "title": {
           "x": 0.05
          },
          "xaxis": {
           "automargin": true,
           "gridcolor": "white",
           "linecolor": "white",
           "ticks": "",
           "title": {
            "standoff": 15
           },
           "zerolinecolor": "white",
           "zerolinewidth": 2
          },
          "yaxis": {
           "automargin": true,
           "gridcolor": "white",
           "linecolor": "white",
           "ticks": "",
           "title": {
            "standoff": 15
           },
           "zerolinecolor": "white",
           "zerolinewidth": 2
          }
         }
        },
        "title": {
         "text": "Histogramm - Weekly_Sales"
        },
        "xaxis": {
         "title": {
          "text": "Weekly_Sales"
         }
        },
        "yaxis": {
         "title": {
          "text": "Häufigkeit"
         }
        }
       }
      }
     },
     "metadata": {},
     "output_type": "display_data"
    },
    {
     "data": {
      "application/vnd.plotly.v1+json": {
       "config": {
        "plotlyServerURL": "https://plot.ly"
       },
       "data": [
        {
         "marker": {
          "color": "royalblue"
         },
         "nbinsx": 20,
         "type": "histogram",
         "x": {
          "bdata": "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",
          "dtype": "f8"
         }
        }
       ],
       "layout": {
        "bargap": 0.05,
        "template": {
         "data": {
          "bar": [
           {
            "error_x": {
             "color": "#2a3f5f"
            },
            "error_y": {
             "color": "#2a3f5f"
            },
            "marker": {
             "line": {
              "color": "#E5ECF6",
              "width": 0.5
             },
             "pattern": {
              "fillmode": "overlay",
              "size": 10,
              "solidity": 0.2
             }
            },
            "type": "bar"
           }
          ],
          "barpolar": [
           {
            "marker": {
             "line": {
              "color": "#E5ECF6",
              "width": 0.5
             },
             "pattern": {
              "fillmode": "overlay",
              "size": 10,
              "solidity": 0.2
             }
            },
            "type": "barpolar"
           }
          ],
          "carpet": [
           {
            "aaxis": {
             "endlinecolor": "#2a3f5f",
             "gridcolor": "white",
             "linecolor": "white",
             "minorgridcolor": "white",
             "startlinecolor": "#2a3f5f"
            },
            "baxis": {
             "endlinecolor": "#2a3f5f",
             "gridcolor": "white",
             "linecolor": "white",
             "minorgridcolor": "white",
             "startlinecolor": "#2a3f5f"
            },
            "type": "carpet"
           }
          ],
          "choropleth": [
           {
            "colorbar": {
             "outlinewidth": 0,
             "ticks": ""
            },
            "type": "choropleth"
           }
          ],
          "contour": [
           {
            "colorbar": {
             "outlinewidth": 0,
             "ticks": ""
            },
            "colorscale": [
             [
              0,
              "#0d0887"
             ],
             [
              0.1111111111111111,
              "#46039f"
             ],
             [
              0.2222222222222222,
              "#7201a8"
             ],
             [
              0.3333333333333333,
              "#9c179e"
             ],
             [
              0.4444444444444444,
              "#bd3786"
             ],
             [
              0.5555555555555556,
              "#d8576b"
             ],
             [
              0.6666666666666666,
              "#ed7953"
             ],
             [
              0.7777777777777778,
              "#fb9f3a"
             ],
             [
              0.8888888888888888,
              "#fdca26"
             ],
             [
              1,
              "#f0f921"
             ]
            ],
            "type": "contour"
           }
          ],
          "contourcarpet": [
           {
            "colorbar": {
             "outlinewidth": 0,
             "ticks": ""
            },
            "type": "contourcarpet"
           }
          ],
          "heatmap": [
           {
            "colorbar": {
             "outlinewidth": 0,
             "ticks": ""
            },
            "colorscale": [
             [
              0,
              "#0d0887"
             ],
             [
              0.1111111111111111,
              "#46039f"
             ],
             [
              0.2222222222222222,
              "#7201a8"
             ],
             [
              0.3333333333333333,
              "#9c179e"
             ],
             [
              0.4444444444444444,
              "#bd3786"
             ],
             [
              0.5555555555555556,
              "#d8576b"
             ],
             [
              0.6666666666666666,
              "#ed7953"
             ],
             [
              0.7777777777777778,
              "#fb9f3a"
             ],
             [
              0.8888888888888888,
              "#fdca26"
             ],
             [
              1,
              "#f0f921"
             ]
            ],
            "type": "heatmap"
           }
          ],
          "histogram": [
           {
            "marker": {
             "pattern": {
              "fillmode": "overlay",
              "size": 10,
              "solidity": 0.2
             }
            },
            "type": "histogram"
           }
          ],
          "histogram2d": [
           {
            "colorbar": {
             "outlinewidth": 0,
             "ticks": ""
            },
            "colorscale": [
             [
              0,
              "#0d0887"
             ],
             [
              0.1111111111111111,
              "#46039f"
             ],
             [
              0.2222222222222222,
              "#7201a8"
             ],
             [
              0.3333333333333333,
              "#9c179e"
             ],
             [
              0.4444444444444444,
              "#bd3786"
             ],
             [
              0.5555555555555556,
              "#d8576b"
             ],
             [
              0.6666666666666666,
              "#ed7953"
             ],
             [
              0.7777777777777778,
              "#fb9f3a"
             ],
             [
              0.8888888888888888,
              "#fdca26"
             ],
             [
              1,
              "#f0f921"
             ]
            ],
            "type": "histogram2d"
           }
          ],
          "histogram2dcontour": [
           {
            "colorbar": {
             "outlinewidth": 0,
             "ticks": ""
            },
            "colorscale": [
             [
              0,
              "#0d0887"
             ],
             [
              0.1111111111111111,
              "#46039f"
             ],
             [
              0.2222222222222222,
              "#7201a8"
             ],
             [
              0.3333333333333333,
              "#9c179e"
             ],
             [
              0.4444444444444444,
              "#bd3786"
             ],
             [
              0.5555555555555556,
              "#d8576b"
             ],
             [
              0.6666666666666666,
              "#ed7953"
             ],
             [
              0.7777777777777778,
              "#fb9f3a"
             ],
             [
              0.8888888888888888,
              "#fdca26"
             ],
             [
              1,
              "#f0f921"
             ]
            ],
            "type": "histogram2dcontour"
           }
          ],
          "mesh3d": [
           {
            "colorbar": {
             "outlinewidth": 0,
             "ticks": ""
            },
            "type": "mesh3d"
           }
          ],
          "parcoords": [
           {
            "line": {
             "colorbar": {
              "outlinewidth": 0,
              "ticks": ""
             }
            },
            "type": "parcoords"
           }
          ],
          "pie": [
           {
            "automargin": true,
            "type": "pie"
           }
          ],
          "scatter": [
           {
            "fillpattern": {
             "fillmode": "overlay",
             "size": 10,
             "solidity": 0.2
            },
            "type": "scatter"
           }
          ],
          "scatter3d": [
           {
            "line": {
             "colorbar": {
              "outlinewidth": 0,
              "ticks": ""
             }
            },
            "marker": {
             "colorbar": {
              "outlinewidth": 0,
              "ticks": ""
             }
            },
            "type": "scatter3d"
           }
          ],
          "scattercarpet": [
           {
            "marker": {
             "colorbar": {
              "outlinewidth": 0,
              "ticks": ""
             }
            },
            "type": "scattercarpet"
           }
          ],
          "scattergeo": [
           {
            "marker": {
             "colorbar": {
              "outlinewidth": 0,
              "ticks": ""
             }
            },
            "type": "scattergeo"
           }
          ],
          "scattergl": [
           {
            "marker": {
             "colorbar": {
              "outlinewidth": 0,
              "ticks": ""
             }
            },
            "type": "scattergl"
           }
          ],
          "scattermap": [
           {
            "marker": {
             "colorbar": {
              "outlinewidth": 0,
              "ticks": ""
             }
            },
            "type": "scattermap"
           }
          ],
          "scattermapbox": [
           {
            "marker": {
             "colorbar": {
              "outlinewidth": 0,
              "ticks": ""
             }
            },
            "type": "scattermapbox"
           }
          ],
          "scatterpolar": [
           {
            "marker": {
             "colorbar": {
              "outlinewidth": 0,
              "ticks": ""
             }
            },
            "type": "scatterpolar"
           }
          ],
          "scatterpolargl": [
           {
            "marker": {
             "colorbar": {
              "outlinewidth": 0,
              "ticks": ""
             }
            },
            "type": "scatterpolargl"
           }
          ],
          "scatterternary": [
           {
            "marker": {
             "colorbar": {
              "outlinewidth": 0,
              "ticks": ""
             }
            },
            "type": "scatterternary"
           }
          ],
          "surface": [
           {
            "colorbar": {
             "outlinewidth": 0,
             "ticks": ""
            },
            "colorscale": [
             [
              0,
              "#0d0887"
             ],
             [
              0.1111111111111111,
              "#46039f"
             ],
             [
              0.2222222222222222,
              "#7201a8"
             ],
             [
              0.3333333333333333,
              "#9c179e"
             ],
             [
              0.4444444444444444,
              "#bd3786"
             ],
             [
              0.5555555555555556,
              "#d8576b"
             ],
             [
              0.6666666666666666,
              "#ed7953"
             ],
             [
              0.7777777777777778,
              "#fb9f3a"
             ],
             [
              0.8888888888888888,
              "#fdca26"
             ],
             [
              1,
              "#f0f921"
             ]
            ],
            "type": "surface"
           }
          ],
          "table": [
           {
            "cells": {
             "fill": {
              "color": "#EBF0F8"
             },
             "line": {
              "color": "white"
             }
            },
            "header": {
             "fill": {
              "color": "#C8D4E3"
             },
             "line": {
              "color": "white"
             }
            },
            "type": "table"
           }
          ]
         },
         "layout": {
          "annotationdefaults": {
           "arrowcolor": "#2a3f5f",
           "arrowhead": 0,
           "arrowwidth": 1
          },
          "autotypenumbers": "strict",
          "coloraxis": {
           "colorbar": {
            "outlinewidth": 0,
            "ticks": ""
           }
          },
          "colorscale": {
           "diverging": [
            [
             0,
             "#8e0152"
            ],
            [
             0.1,
             "#c51b7d"
            ],
            [
             0.2,
             "#de77ae"
            ],
            [
             0.3,
             "#f1b6da"
            ],
            [
             0.4,
             "#fde0ef"
            ],
            [
             0.5,
             "#f7f7f7"
            ],
            [
             0.6,
             "#e6f5d0"
            ],
            [
             0.7,
             "#b8e186"
            ],
            [
             0.8,
             "#7fbc41"
            ],
            [
             0.9,
             "#4d9221"
            ],
            [
             1,
             "#276419"
            ]
           ],
           "sequential": [
            [
             0,
             "#0d0887"
            ],
            [
             0.1111111111111111,
             "#46039f"
            ],
            [
             0.2222222222222222,
             "#7201a8"
            ],
            [
             0.3333333333333333,
             "#9c179e"
            ],
            [
             0.4444444444444444,
             "#bd3786"
            ],
            [
             0.5555555555555556,
             "#d8576b"
            ],
            [
             0.6666666666666666,
             "#ed7953"
            ],
            [
             0.7777777777777778,
             "#fb9f3a"
            ],
            [
             0.8888888888888888,
             "#fdca26"
            ],
            [
             1,
             "#f0f921"
            ]
           ],
           "sequentialminus": [
            [
             0,
             "#0d0887"
            ],
            [
             0.1111111111111111,
             "#46039f"
            ],
            [
             0.2222222222222222,
             "#7201a8"
            ],
            [
             0.3333333333333333,
             "#9c179e"
            ],
            [
             0.4444444444444444,
             "#bd3786"
            ],
            [
             0.5555555555555556,
             "#d8576b"
            ],
            [
             0.6666666666666666,
             "#ed7953"
            ],
            [
             0.7777777777777778,
             "#fb9f3a"
            ],
            [
             0.8888888888888888,
             "#fdca26"
            ],
            [
             1,
             "#f0f921"
            ]
           ]
          },
          "colorway": [
           "#636efa",
           "#EF553B",
           "#00cc96",
           "#ab63fa",
           "#FFA15A",
           "#19d3f3",
           "#FF6692",
           "#B6E880",
           "#FF97FF",
           "#FECB52"
          ],
          "font": {
           "color": "#2a3f5f"
          },
          "geo": {
           "bgcolor": "white",
           "lakecolor": "white",
           "landcolor": "#E5ECF6",
           "showlakes": true,
           "showland": true,
           "subunitcolor": "white"
          },
          "hoverlabel": {
           "align": "left"
          },
          "hovermode": "closest",
          "mapbox": {
           "style": "light"
          },
          "paper_bgcolor": "white",
          "plot_bgcolor": "#E5ECF6",
          "polar": {
           "angularaxis": {
            "gridcolor": "white",
            "linecolor": "white",
            "ticks": ""
           },
           "bgcolor": "#E5ECF6",
           "radialaxis": {
            "gridcolor": "white",
            "linecolor": "white",
            "ticks": ""
           }
          },
          "scene": {
           "xaxis": {
            "backgroundcolor": "#E5ECF6",
            "gridcolor": "white",
            "gridwidth": 2,
            "linecolor": "white",
            "showbackground": true,
            "ticks": "",
            "zerolinecolor": "white"
           },
           "yaxis": {
            "backgroundcolor": "#E5ECF6",
            "gridcolor": "white",
            "gridwidth": 2,
            "linecolor": "white",
            "showbackground": true,
            "ticks": "",
            "zerolinecolor": "white"
           },
           "zaxis": {
            "backgroundcolor": "#E5ECF6",
            "gridcolor": "white",
            "gridwidth": 2,
            "linecolor": "white",
            "showbackground": true,
            "ticks": "",
            "zerolinecolor": "white"
           }
          },
          "shapedefaults": {
           "line": {
            "color": "#2a3f5f"
           }
          },
          "ternary": {
           "aaxis": {
            "gridcolor": "white",
            "linecolor": "white",
            "ticks": ""
           },
           "baxis": {
            "gridcolor": "white",
            "linecolor": "white",
            "ticks": ""
           },
           "bgcolor": "#E5ECF6",
           "caxis": {
            "gridcolor": "white",
            "linecolor": "white",
            "ticks": ""
           }
          },
          "title": {
           "x": 0.05
          },
          "xaxis": {
           "automargin": true,
           "gridcolor": "white",
           "linecolor": "white",
           "ticks": "",
           "title": {
            "standoff": 15
           },
           "zerolinecolor": "white",
           "zerolinewidth": 2
          },
          "yaxis": {
           "automargin": true,
           "gridcolor": "white",
           "linecolor": "white",
           "ticks": "",
           "title": {
            "standoff": 15
           },
           "zerolinecolor": "white",
           "zerolinewidth": 2
          }
         }
        },
        "title": {
         "text": "Histogramm - Temperature"
        },
        "xaxis": {
         "title": {
          "text": "Temperature"
         }
        },
        "yaxis": {
         "title": {
          "text": "Häufigkeit"
         }
        }
       }
      }
     },
     "metadata": {},
     "output_type": "display_data"
    },
    {
     "data": {
      "application/vnd.plotly.v1+json": {
       "config": {
        "plotlyServerURL": "https://plot.ly"
       },
       "data": [
        {
         "marker": {
          "color": "royalblue"
         },
         "nbinsx": 20,
         "type": "histogram",
         "x": {
          "bdata": "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",
          "dtype": "f8"
         }
        }
       ],
       "layout": {
        "bargap": 0.05,
        "template": {
         "data": {
          "bar": [
           {
            "error_x": {
             "color": "#2a3f5f"
            },
            "error_y": {
             "color": "#2a3f5f"
            },
            "marker": {
             "line": {
              "color": "#E5ECF6",
              "width": 0.5
             },
             "pattern": {
              "fillmode": "overlay",
              "size": 10,
              "solidity": 0.2
             }
            },
            "type": "bar"
           }
          ],
          "barpolar": [
           {
            "marker": {
             "line": {
              "color": "#E5ECF6",
              "width": 0.5
             },
             "pattern": {
              "fillmode": "overlay",
              "size": 10,
              "solidity": 0.2
             }
            },
            "type": "barpolar"
           }
          ],
          "carpet": [
           {
            "aaxis": {
             "endlinecolor": "#2a3f5f",
             "gridcolor": "white",
             "linecolor": "white",
             "minorgridcolor": "white",
             "startlinecolor": "#2a3f5f"
            },
            "baxis": {
             "endlinecolor": "#2a3f5f",
             "gridcolor": "white",
             "linecolor": "white",
             "minorgridcolor": "white",
             "startlinecolor": "#2a3f5f"
            },
            "type": "carpet"
           }
          ],
          "choropleth": [
           {
            "colorbar": {
             "outlinewidth": 0,
             "ticks": ""
            },
            "type": "choropleth"
           }
          ],
          "contour": [
           {
            "colorbar": {
             "outlinewidth": 0,
             "ticks": ""
            },
            "colorscale": [
             [
              0,
              "#0d0887"
             ],
             [
              0.1111111111111111,
              "#46039f"
             ],
             [
              0.2222222222222222,
              "#7201a8"
             ],
             [
              0.3333333333333333,
              "#9c179e"
             ],
             [
              0.4444444444444444,
              "#bd3786"
             ],
             [
              0.5555555555555556,
              "#d8576b"
             ],
             [
              0.6666666666666666,
              "#ed7953"
             ],
             [
              0.7777777777777778,
              "#fb9f3a"
             ],
             [
              0.8888888888888888,
              "#fdca26"
             ],
             [
              1,
              "#f0f921"
             ]
            ],
            "type": "contour"
           }
          ],
          "contourcarpet": [
           {
            "colorbar": {
             "outlinewidth": 0,
             "ticks": ""
            },
            "type": "contourcarpet"
           }
          ],
          "heatmap": [
           {
            "colorbar": {
             "outlinewidth": 0,
             "ticks": ""
            },
            "colorscale": [
             [
              0,
              "#0d0887"
             ],
             [
              0.1111111111111111,
              "#46039f"
             ],
             [
              0.2222222222222222,
              "#7201a8"
             ],
             [
              0.3333333333333333,
              "#9c179e"
             ],
             [
              0.4444444444444444,
              "#bd3786"
             ],
             [
              0.5555555555555556,
              "#d8576b"
             ],
             [
              0.6666666666666666,
              "#ed7953"
             ],
             [
              0.7777777777777778,
              "#fb9f3a"
             ],
             [
              0.8888888888888888,
              "#fdca26"
             ],
             [
              1,
              "#f0f921"
             ]
            ],
            "type": "heatmap"
           }
          ],
          "histogram": [
           {
            "marker": {
             "pattern": {
              "fillmode": "overlay",
              "size": 10,
              "solidity": 0.2
             }
            },
            "type": "histogram"
           }
          ],
          "histogram2d": [
           {
            "colorbar": {
             "outlinewidth": 0,
             "ticks": ""
            },
            "colorscale": [
             [
              0,
              "#0d0887"
             ],
             [
              0.1111111111111111,
              "#46039f"
             ],
             [
              0.2222222222222222,
              "#7201a8"
             ],
             [
              0.3333333333333333,
              "#9c179e"
             ],
             [
              0.4444444444444444,
              "#bd3786"
             ],
             [
              0.5555555555555556,
              "#d8576b"
             ],
             [
              0.6666666666666666,
              "#ed7953"
             ],
             [
              0.7777777777777778,
              "#fb9f3a"
             ],
             [
              0.8888888888888888,
              "#fdca26"
             ],
             [
              1,
              "#f0f921"
             ]
            ],
            "type": "histogram2d"
           }
          ],
          "histogram2dcontour": [
           {
            "colorbar": {
             "outlinewidth": 0,
             "ticks": ""
            },
            "colorscale": [
             [
              0,
              "#0d0887"
             ],
             [
              0.1111111111111111,
              "#46039f"
             ],
             [
              0.2222222222222222,
              "#7201a8"
             ],
             [
              0.3333333333333333,
              "#9c179e"
             ],
             [
              0.4444444444444444,
              "#bd3786"
             ],
             [
              0.5555555555555556,
              "#d8576b"
             ],
             [
              0.6666666666666666,
              "#ed7953"
             ],
             [
              0.7777777777777778,
              "#fb9f3a"
             ],
             [
              0.8888888888888888,
              "#fdca26"
             ],
             [
              1,
              "#f0f921"
             ]
            ],
            "type": "histogram2dcontour"
           }
          ],
          "mesh3d": [
           {
            "colorbar": {
             "outlinewidth": 0,
             "ticks": ""
            },
            "type": "mesh3d"
           }
          ],
          "parcoords": [
           {
            "line": {
             "colorbar": {
              "outlinewidth": 0,
              "ticks": ""
             }
            },
            "type": "parcoords"
           }
          ],
          "pie": [
           {
            "automargin": true,
            "type": "pie"
           }
          ],
          "scatter": [
           {
            "fillpattern": {
             "fillmode": "overlay",
             "size": 10,
             "solidity": 0.2
            },
            "type": "scatter"
           }
          ],
          "scatter3d": [
           {
            "line": {
             "colorbar": {
              "outlinewidth": 0,
              "ticks": ""
             }
            },
            "marker": {
             "colorbar": {
              "outlinewidth": 0,
              "ticks": ""
             }
            },
            "type": "scatter3d"
           }
          ],
          "scattercarpet": [
           {
            "marker": {
             "colorbar": {
              "outlinewidth": 0,
              "ticks": ""
             }
            },
            "type": "scattercarpet"
           }
          ],
          "scattergeo": [
           {
            "marker": {
             "colorbar": {
              "outlinewidth": 0,
              "ticks": ""
             }
            },
            "type": "scattergeo"
           }
          ],
          "scattergl": [
           {
            "marker": {
             "colorbar": {
              "outlinewidth": 0,
              "ticks": ""
             }
            },
            "type": "scattergl"
           }
          ],
          "scattermap": [
           {
            "marker": {
             "colorbar": {
              "outlinewidth": 0,
              "ticks": ""
             }
            },
            "type": "scattermap"
           }
          ],
          "scattermapbox": [
           {
            "marker": {
             "colorbar": {
              "outlinewidth": 0,
              "ticks": ""
             }
            },
            "type": "scattermapbox"
           }
          ],
          "scatterpolar": [
           {
            "marker": {
             "colorbar": {
              "outlinewidth": 0,
              "ticks": ""
             }
            },
            "type": "scatterpolar"
           }
          ],
          "scatterpolargl": [
           {
            "marker": {
             "colorbar": {
              "outlinewidth": 0,
              "ticks": ""
             }
            },
            "type": "scatterpolargl"
           }
          ],
          "scatterternary": [
           {
            "marker": {
             "colorbar": {
              "outlinewidth": 0,
              "ticks": ""
             }
            },
            "type": "scatterternary"
           }
          ],
          "surface": [
           {
            "colorbar": {
             "outlinewidth": 0,
             "ticks": ""
            },
            "colorscale": [
             [
              0,
              "#0d0887"
             ],
             [
              0.1111111111111111,
              "#46039f"
             ],
             [
              0.2222222222222222,
              "#7201a8"
             ],
             [
              0.3333333333333333,
              "#9c179e"
             ],
             [
              0.4444444444444444,
              "#bd3786"
             ],
             [
              0.5555555555555556,
              "#d8576b"
             ],
             [
              0.6666666666666666,
              "#ed7953"
             ],
             [
              0.7777777777777778,
              "#fb9f3a"
             ],
             [
              0.8888888888888888,
              "#fdca26"
             ],
             [
              1,
              "#f0f921"
             ]
            ],
            "type": "surface"
           }
          ],
          "table": [
           {
            "cells": {
             "fill": {
              "color": "#EBF0F8"
             },
             "line": {
              "color": "white"
             }
            },
            "header": {
             "fill": {
              "color": "#C8D4E3"
             },
             "line": {
              "color": "white"
             }
            },
            "type": "table"
           }
          ]
         },
         "layout": {
          "annotationdefaults": {
           "arrowcolor": "#2a3f5f",
           "arrowhead": 0,
           "arrowwidth": 1
          },
          "autotypenumbers": "strict",
          "coloraxis": {
           "colorbar": {
            "outlinewidth": 0,
            "ticks": ""
           }
          },
          "colorscale": {
           "diverging": [
            [
             0,
             "#8e0152"
            ],
            [
             0.1,
             "#c51b7d"
            ],
            [
             0.2,
             "#de77ae"
            ],
            [
             0.3,
             "#f1b6da"
            ],
            [
             0.4,
             "#fde0ef"
            ],
            [
             0.5,
             "#f7f7f7"
            ],
            [
             0.6,
             "#e6f5d0"
            ],
            [
             0.7,
             "#b8e186"
            ],
            [
             0.8,
             "#7fbc41"
            ],
            [
             0.9,
             "#4d9221"
            ],
            [
             1,
             "#276419"
            ]
           ],
           "sequential": [
            [
             0,
             "#0d0887"
            ],
            [
             0.1111111111111111,
             "#46039f"
            ],
            [
             0.2222222222222222,
             "#7201a8"
            ],
            [
             0.3333333333333333,
             "#9c179e"
            ],
            [
             0.4444444444444444,
             "#bd3786"
            ],
            [
             0.5555555555555556,
             "#d8576b"
            ],
            [
             0.6666666666666666,
             "#ed7953"
            ],
            [
             0.7777777777777778,
             "#fb9f3a"
            ],
            [
             0.8888888888888888,
             "#fdca26"
            ],
            [
             1,
             "#f0f921"
            ]
           ],
           "sequentialminus": [
            [
             0,
             "#0d0887"
            ],
            [
             0.1111111111111111,
             "#46039f"
            ],
            [
             0.2222222222222222,
             "#7201a8"
            ],
            [
             0.3333333333333333,
             "#9c179e"
            ],
            [
             0.4444444444444444,
             "#bd3786"
            ],
            [
             0.5555555555555556,
             "#d8576b"
            ],
            [
             0.6666666666666666,
             "#ed7953"
            ],
            [
             0.7777777777777778,
             "#fb9f3a"
            ],
            [
             0.8888888888888888,
             "#fdca26"
            ],
            [
             1,
             "#f0f921"
            ]
           ]
          },
          "colorway": [
           "#636efa",
           "#EF553B",
           "#00cc96",
           "#ab63fa",
           "#FFA15A",
           "#19d3f3",
           "#FF6692",
           "#B6E880",
           "#FF97FF",
           "#FECB52"
          ],
          "font": {
           "color": "#2a3f5f"
          },
          "geo": {
           "bgcolor": "white",
           "lakecolor": "white",
           "landcolor": "#E5ECF6",
           "showlakes": true,
           "showland": true,
           "subunitcolor": "white"
          },
          "hoverlabel": {
           "align": "left"
          },
          "hovermode": "closest",
          "mapbox": {
           "style": "light"
          },
          "paper_bgcolor": "white",
          "plot_bgcolor": "#E5ECF6",
          "polar": {
           "angularaxis": {
            "gridcolor": "white",
            "linecolor": "white",
            "ticks": ""
           },
           "bgcolor": "#E5ECF6",
           "radialaxis": {
            "gridcolor": "white",
            "linecolor": "white",
            "ticks": ""
           }
          },
          "scene": {
           "xaxis": {
            "backgroundcolor": "#E5ECF6",
            "gridcolor": "white",
            "gridwidth": 2,
            "linecolor": "white",
            "showbackground": true,
            "ticks": "",
            "zerolinecolor": "white"
           },
           "yaxis": {
            "backgroundcolor": "#E5ECF6",
            "gridcolor": "white",
            "gridwidth": 2,
            "linecolor": "white",
            "showbackground": true,
            "ticks": "",
            "zerolinecolor": "white"
           },
           "zaxis": {
            "backgroundcolor": "#E5ECF6",
            "gridcolor": "white",
            "gridwidth": 2,
            "linecolor": "white",
            "showbackground": true,
            "ticks": "",
            "zerolinecolor": "white"
           }
          },
          "shapedefaults": {
           "line": {
            "color": "#2a3f5f"
           }
          },
          "ternary": {
           "aaxis": {
            "gridcolor": "white",
            "linecolor": "white",
            "ticks": ""
           },
           "baxis": {
            "gridcolor": "white",
            "linecolor": "white",
            "ticks": ""
           },
           "bgcolor": "#E5ECF6",
           "caxis": {
            "gridcolor": "white",
            "linecolor": "white",
            "ticks": ""
           }
          },
          "title": {
           "x": 0.05
          },
          "xaxis": {
           "automargin": true,
           "gridcolor": "white",
           "linecolor": "white",
           "ticks": "",
           "title": {
            "standoff": 15
           },
           "zerolinecolor": "white",
           "zerolinewidth": 2
          },
          "yaxis": {
           "automargin": true,
           "gridcolor": "white",
           "linecolor": "white",
           "ticks": "",
           "title": {
            "standoff": 15
           },
           "zerolinecolor": "white",
           "zerolinewidth": 2
          }
         }
        },
        "title": {
         "text": "Histogramm - Fuel_Price"
        },
        "xaxis": {
         "title": {
          "text": "Fuel_Price"
         }
        },
        "yaxis": {
         "title": {
          "text": "Häufigkeit"
         }
        }
       }
      }
     },
     "metadata": {},
     "output_type": "display_data"
    },
    {
     "data": {
      "application/vnd.plotly.v1+json": {
       "config": {
        "plotlyServerURL": "https://plot.ly"
       },
       "data": [
        {
         "marker": {
          "color": "royalblue"
         },
         "nbinsx": 20,
         "type": "histogram",
         "x": {
          "bdata": "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",
          "dtype": "f8"
         }
        }
       ],
       "layout": {
        "bargap": 0.05,
        "template": {
         "data": {
          "bar": [
           {
            "error_x": {
             "color": "#2a3f5f"
            },
            "error_y": {
             "color": "#2a3f5f"
            },
            "marker": {
             "line": {
              "color": "#E5ECF6",
              "width": 0.5
             },
             "pattern": {
              "fillmode": "overlay",
              "size": 10,
              "solidity": 0.2
             }
            },
            "type": "bar"
           }
          ],
          "barpolar": [
           {
            "marker": {
             "line": {
              "color": "#E5ECF6",
              "width": 0.5
             },
             "pattern": {
              "fillmode": "overlay",
              "size": 10,
              "solidity": 0.2
             }
            },
            "type": "barpolar"
           }
          ],
          "carpet": [
           {
            "aaxis": {
             "endlinecolor": "#2a3f5f",
             "gridcolor": "white",
             "linecolor": "white",
             "minorgridcolor": "white",
             "startlinecolor": "#2a3f5f"
            },
            "baxis": {
             "endlinecolor": "#2a3f5f",
             "gridcolor": "white",
             "linecolor": "white",
             "minorgridcolor": "white",
             "startlinecolor": "#2a3f5f"
            },
            "type": "carpet"
           }
          ],
          "choropleth": [
           {
            "colorbar": {
             "outlinewidth": 0,
             "ticks": ""
            },
            "type": "choropleth"
           }
          ],
          "contour": [
           {
            "colorbar": {
             "outlinewidth": 0,
             "ticks": ""
            },
            "colorscale": [
             [
              0,
              "#0d0887"
             ],
             [
              0.1111111111111111,
              "#46039f"
             ],
             [
              0.2222222222222222,
              "#7201a8"
             ],
             [
              0.3333333333333333,
              "#9c179e"
             ],
             [
              0.4444444444444444,
              "#bd3786"
             ],
             [
              0.5555555555555556,
              "#d8576b"
             ],
             [
              0.6666666666666666,
              "#ed7953"
             ],
             [
              0.7777777777777778,
              "#fb9f3a"
             ],
             [
              0.8888888888888888,
              "#fdca26"
             ],
             [
              1,
              "#f0f921"
             ]
            ],
            "type": "contour"
           }
          ],
          "contourcarpet": [
           {
            "colorbar": {
             "outlinewidth": 0,
             "ticks": ""
            },
            "type": "contourcarpet"
           }
          ],
          "heatmap": [
           {
            "colorbar": {
             "outlinewidth": 0,
             "ticks": ""
            },
            "colorscale": [
             [
              0,
              "#0d0887"
             ],
             [
              0.1111111111111111,
              "#46039f"
             ],
             [
              0.2222222222222222,
              "#7201a8"
             ],
             [
              0.3333333333333333,
              "#9c179e"
             ],
             [
              0.4444444444444444,
              "#bd3786"
             ],
             [
              0.5555555555555556,
              "#d8576b"
             ],
             [
              0.6666666666666666,
              "#ed7953"
             ],
             [
              0.7777777777777778,
              "#fb9f3a"
             ],
             [
              0.8888888888888888,
              "#fdca26"
             ],
             [
              1,
              "#f0f921"
             ]
            ],
            "type": "heatmap"
           }
          ],
          "histogram": [
           {
            "marker": {
             "pattern": {
              "fillmode": "overlay",
              "size": 10,
              "solidity": 0.2
             }
            },
            "type": "histogram"
           }
          ],
          "histogram2d": [
           {
            "colorbar": {
             "outlinewidth": 0,
             "ticks": ""
            },
            "colorscale": [
             [
              0,
              "#0d0887"
             ],
             [
              0.1111111111111111,
              "#46039f"
             ],
             [
              0.2222222222222222,
              "#7201a8"
             ],
             [
              0.3333333333333333,
              "#9c179e"
             ],
             [
              0.4444444444444444,
              "#bd3786"
             ],
             [
              0.5555555555555556,
              "#d8576b"
             ],
             [
              0.6666666666666666,
              "#ed7953"
             ],
             [
              0.7777777777777778,
              "#fb9f3a"
             ],
             [
              0.8888888888888888,
              "#fdca26"
             ],
             [
              1,
              "#f0f921"
             ]
            ],
            "type": "histogram2d"
           }
          ],
          "histogram2dcontour": [
           {
            "colorbar": {
             "outlinewidth": 0,
             "ticks": ""
            },
            "colorscale": [
             [
              0,
              "#0d0887"
             ],
             [
              0.1111111111111111,
              "#46039f"
             ],
             [
              0.2222222222222222,
              "#7201a8"
             ],
             [
              0.3333333333333333,
              "#9c179e"
             ],
             [
              0.4444444444444444,
              "#bd3786"
             ],
             [
              0.5555555555555556,
              "#d8576b"
             ],
             [
              0.6666666666666666,
              "#ed7953"
             ],
             [
              0.7777777777777778,
              "#fb9f3a"
             ],
             [
              0.8888888888888888,
              "#fdca26"
             ],
             [
              1,
              "#f0f921"
             ]
            ],
            "type": "histogram2dcontour"
           }
          ],
          "mesh3d": [
           {
            "colorbar": {
             "outlinewidth": 0,
             "ticks": ""
            },
            "type": "mesh3d"
           }
          ],
          "parcoords": [
           {
            "line": {
             "colorbar": {
              "outlinewidth": 0,
              "ticks": ""
             }
            },
            "type": "parcoords"
           }
          ],
          "pie": [
           {
            "automargin": true,
            "type": "pie"
           }
          ],
          "scatter": [
           {
            "fillpattern": {
             "fillmode": "overlay",
             "size": 10,
             "solidity": 0.2
            },
            "type": "scatter"
           }
          ],
          "scatter3d": [
           {
            "line": {
             "colorbar": {
              "outlinewidth": 0,
              "ticks": ""
             }
            },
            "marker": {
             "colorbar": {
              "outlinewidth": 0,
              "ticks": ""
             }
            },
            "type": "scatter3d"
           }
          ],
          "scattercarpet": [
           {
            "marker": {
             "colorbar": {
              "outlinewidth": 0,
              "ticks": ""
             }
            },
            "type": "scattercarpet"
           }
          ],
          "scattergeo": [
           {
            "marker": {
             "colorbar": {
              "outlinewidth": 0,
              "ticks": ""
             }
            },
            "type": "scattergeo"
           }
          ],
          "scattergl": [
           {
            "marker": {
             "colorbar": {
              "outlinewidth": 0,
              "ticks": ""
             }
            },
            "type": "scattergl"
           }
          ],
          "scattermap": [
           {
            "marker": {
             "colorbar": {
              "outlinewidth": 0,
              "ticks": ""
             }
            },
            "type": "scattermap"
           }
          ],
          "scattermapbox": [
           {
            "marker": {
             "colorbar": {
              "outlinewidth": 0,
              "ticks": ""
             }
            },
            "type": "scattermapbox"
           }
          ],
          "scatterpolar": [
           {
            "marker": {
             "colorbar": {
              "outlinewidth": 0,
              "ticks": ""
             }
            },
            "type": "scatterpolar"
           }
          ],
          "scatterpolargl": [
           {
            "marker": {
             "colorbar": {
              "outlinewidth": 0,
              "ticks": ""
             }
            },
            "type": "scatterpolargl"
           }
          ],
          "scatterternary": [
           {
            "marker": {
             "colorbar": {
              "outlinewidth": 0,
              "ticks": ""
             }
            },
            "type": "scatterternary"
           }
          ],
          "surface": [
           {
            "colorbar": {
             "outlinewidth": 0,
             "ticks": ""
            },
            "colorscale": [
             [
              0,
              "#0d0887"
             ],
             [
              0.1111111111111111,
              "#46039f"
             ],
             [
              0.2222222222222222,
              "#7201a8"
             ],
             [
              0.3333333333333333,
              "#9c179e"
             ],
             [
              0.4444444444444444,
              "#bd3786"
             ],
             [
              0.5555555555555556,
              "#d8576b"
             ],
             [
              0.6666666666666666,
              "#ed7953"
             ],
             [
              0.7777777777777778,
              "#fb9f3a"
             ],
             [
              0.8888888888888888,
              "#fdca26"
             ],
             [
              1,
              "#f0f921"
             ]
            ],
            "type": "surface"
           }
          ],
          "table": [
           {
            "cells": {
             "fill": {
              "color": "#EBF0F8"
             },
             "line": {
              "color": "white"
             }
            },
            "header": {
             "fill": {
              "color": "#C8D4E3"
             },
             "line": {
              "color": "white"
             }
            },
            "type": "table"
           }
          ]
         },
         "layout": {
          "annotationdefaults": {
           "arrowcolor": "#2a3f5f",
           "arrowhead": 0,
           "arrowwidth": 1
          },
          "autotypenumbers": "strict",
          "coloraxis": {
           "colorbar": {
            "outlinewidth": 0,
            "ticks": ""
           }
          },
          "colorscale": {
           "diverging": [
            [
             0,
             "#8e0152"
            ],
            [
             0.1,
             "#c51b7d"
            ],
            [
             0.2,
             "#de77ae"
            ],
            [
             0.3,
             "#f1b6da"
            ],
            [
             0.4,
             "#fde0ef"
            ],
            [
             0.5,
             "#f7f7f7"
            ],
            [
             0.6,
             "#e6f5d0"
            ],
            [
             0.7,
             "#b8e186"
            ],
            [
             0.8,
             "#7fbc41"
            ],
            [
             0.9,
             "#4d9221"
            ],
            [
             1,
             "#276419"
            ]
           ],
           "sequential": [
            [
             0,
             "#0d0887"
            ],
            [
             0.1111111111111111,
             "#46039f"
            ],
            [
             0.2222222222222222,
             "#7201a8"
            ],
            [
             0.3333333333333333,
             "#9c179e"
            ],
            [
             0.4444444444444444,
             "#bd3786"
            ],
            [
             0.5555555555555556,
             "#d8576b"
            ],
            [
             0.6666666666666666,
             "#ed7953"
            ],
            [
             0.7777777777777778,
             "#fb9f3a"
            ],
            [
             0.8888888888888888,
             "#fdca26"
            ],
            [
             1,
             "#f0f921"
            ]
           ],
           "sequentialminus": [
            [
             0,
             "#0d0887"
            ],
            [
             0.1111111111111111,
             "#46039f"
            ],
            [
             0.2222222222222222,
             "#7201a8"
            ],
            [
             0.3333333333333333,
             "#9c179e"
            ],
            [
             0.4444444444444444,
             "#bd3786"
            ],
            [
             0.5555555555555556,
             "#d8576b"
            ],
            [
             0.6666666666666666,
             "#ed7953"
            ],
            [
             0.7777777777777778,
             "#fb9f3a"
            ],
            [
             0.8888888888888888,
             "#fdca26"
            ],
            [
             1,
             "#f0f921"
            ]
           ]
          },
          "colorway": [
           "#636efa",
           "#EF553B",
           "#00cc96",
           "#ab63fa",
           "#FFA15A",
           "#19d3f3",
           "#FF6692",
           "#B6E880",
           "#FF97FF",
           "#FECB52"
          ],
          "font": {
           "color": "#2a3f5f"
          },
          "geo": {
           "bgcolor": "white",
           "lakecolor": "white",
           "landcolor": "#E5ECF6",
           "showlakes": true,
           "showland": true,
           "subunitcolor": "white"
          },
          "hoverlabel": {
           "align": "left"
          },
          "hovermode": "closest",
          "mapbox": {
           "style": "light"
          },
          "paper_bgcolor": "white",
          "plot_bgcolor": "#E5ECF6",
          "polar": {
           "angularaxis": {
            "gridcolor": "white",
            "linecolor": "white",
            "ticks": ""
           },
           "bgcolor": "#E5ECF6",
           "radialaxis": {
            "gridcolor": "white",
            "linecolor": "white",
            "ticks": ""
           }
          },
          "scene": {
           "xaxis": {
            "backgroundcolor": "#E5ECF6",
            "gridcolor": "white",
            "gridwidth": 2,
            "linecolor": "white",
            "showbackground": true,
            "ticks": "",
            "zerolinecolor": "white"
           },
           "yaxis": {
            "backgroundcolor": "#E5ECF6",
            "gridcolor": "white",
            "gridwidth": 2,
            "linecolor": "white",
            "showbackground": true,
            "ticks": "",
            "zerolinecolor": "white"
           },
           "zaxis": {
            "backgroundcolor": "#E5ECF6",
            "gridcolor": "white",
            "gridwidth": 2,
            "linecolor": "white",
            "showbackground": true,
            "ticks": "",
            "zerolinecolor": "white"
           }
          },
          "shapedefaults": {
           "line": {
            "color": "#2a3f5f"
           }
          },
          "ternary": {
           "aaxis": {
            "gridcolor": "white",
            "linecolor": "white",
            "ticks": ""
           },
           "baxis": {
            "gridcolor": "white",
            "linecolor": "white",
            "ticks": ""
           },
           "bgcolor": "#E5ECF6",
           "caxis": {
            "gridcolor": "white",
            "linecolor": "white",
            "ticks": ""
           }
          },
          "title": {
           "x": 0.05
          },
          "xaxis": {
           "automargin": true,
           "gridcolor": "white",
           "linecolor": "white",
           "ticks": "",
           "title": {
            "standoff": 15
           },
           "zerolinecolor": "white",
           "zerolinewidth": 2
          },
          "yaxis": {
           "automargin": true,
           "gridcolor": "white",
           "linecolor": "white",
           "ticks": "",
           "title": {
            "standoff": 15
           },
           "zerolinecolor": "white",
           "zerolinewidth": 2
          }
         }
        },
        "title": {
         "text": "Histogramm - CPI"
        },
        "xaxis": {
         "title": {
          "text": "CPI"
         }
        },
        "yaxis": {
         "title": {
          "text": "Häufigkeit"
         }
        }
       }
      }
     },
     "metadata": {},
     "output_type": "display_data"
    },
    {
     "data": {
      "application/vnd.plotly.v1+json": {
       "config": {
        "plotlyServerURL": "https://plot.ly"
       },
       "data": [
        {
         "marker": {
          "color": "royalblue"
         },
         "nbinsx": 20,
         "type": "histogram",
         "x": {
          "bdata": "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",
          "dtype": "f8"
         }
        }
       ],
       "layout": {
        "bargap": 0.05,
        "template": {
         "data": {
          "bar": [
           {
            "error_x": {
             "color": "#2a3f5f"
            },
            "error_y": {
             "color": "#2a3f5f"
            },
            "marker": {
             "line": {
              "color": "#E5ECF6",
              "width": 0.5
             },
             "pattern": {
              "fillmode": "overlay",
              "size": 10,
              "solidity": 0.2
             }
            },
            "type": "bar"
           }
          ],
          "barpolar": [
           {
            "marker": {
             "line": {
              "color": "#E5ECF6",
              "width": 0.5
             },
             "pattern": {
              "fillmode": "overlay",
              "size": 10,
              "solidity": 0.2
             }
            },
            "type": "barpolar"
           }
          ],
          "carpet": [
           {
            "aaxis": {
             "endlinecolor": "#2a3f5f",
             "gridcolor": "white",
             "linecolor": "white",
             "minorgridcolor": "white",
             "startlinecolor": "#2a3f5f"
            },
            "baxis": {
             "endlinecolor": "#2a3f5f",
             "gridcolor": "white",
             "linecolor": "white",
             "minorgridcolor": "white",
             "startlinecolor": "#2a3f5f"
            },
            "type": "carpet"
           }
          ],
          "choropleth": [
           {
            "colorbar": {
             "outlinewidth": 0,
             "ticks": ""
            },
            "type": "choropleth"
           }
          ],
          "contour": [
           {
            "colorbar": {
             "outlinewidth": 0,
             "ticks": ""
            },
            "colorscale": [
             [
              0,
              "#0d0887"
             ],
             [
              0.1111111111111111,
              "#46039f"
             ],
             [
              0.2222222222222222,
              "#7201a8"
             ],
             [
              0.3333333333333333,
              "#9c179e"
             ],
             [
              0.4444444444444444,
              "#bd3786"
             ],
             [
              0.5555555555555556,
              "#d8576b"
             ],
             [
              0.6666666666666666,
              "#ed7953"
             ],
             [
              0.7777777777777778,
              "#fb9f3a"
             ],
             [
              0.8888888888888888,
              "#fdca26"
             ],
             [
              1,
              "#f0f921"
             ]
            ],
            "type": "contour"
           }
          ],
          "contourcarpet": [
           {
            "colorbar": {
             "outlinewidth": 0,
             "ticks": ""
            },
            "type": "contourcarpet"
           }
          ],
          "heatmap": [
           {
            "colorbar": {
             "outlinewidth": 0,
             "ticks": ""
            },
            "colorscale": [
             [
              0,
              "#0d0887"
             ],
             [
              0.1111111111111111,
              "#46039f"
             ],
             [
              0.2222222222222222,
              "#7201a8"
             ],
             [
              0.3333333333333333,
              "#9c179e"
             ],
             [
              0.4444444444444444,
              "#bd3786"
             ],
             [
              0.5555555555555556,
              "#d8576b"
             ],
             [
              0.6666666666666666,
              "#ed7953"
             ],
             [
              0.7777777777777778,
              "#fb9f3a"
             ],
             [
              0.8888888888888888,
              "#fdca26"
             ],
             [
              1,
              "#f0f921"
             ]
            ],
            "type": "heatmap"
           }
          ],
          "histogram": [
           {
            "marker": {
             "pattern": {
              "fillmode": "overlay",
              "size": 10,
              "solidity": 0.2
             }
            },
            "type": "histogram"
           }
          ],
          "histogram2d": [
           {
            "colorbar": {
             "outlinewidth": 0,
             "ticks": ""
            },
            "colorscale": [
             [
              0,
              "#0d0887"
             ],
             [
              0.1111111111111111,
              "#46039f"
             ],
             [
              0.2222222222222222,
              "#7201a8"
             ],
             [
              0.3333333333333333,
              "#9c179e"
             ],
             [
              0.4444444444444444,
              "#bd3786"
             ],
             [
              0.5555555555555556,
              "#d8576b"
             ],
             [
              0.6666666666666666,
              "#ed7953"
             ],
             [
              0.7777777777777778,
              "#fb9f3a"
             ],
             [
              0.8888888888888888,
              "#fdca26"
             ],
             [
              1,
              "#f0f921"
             ]
            ],
            "type": "histogram2d"
           }
          ],
          "histogram2dcontour": [
           {
            "colorbar": {
             "outlinewidth": 0,
             "ticks": ""
            },
            "colorscale": [
             [
              0,
              "#0d0887"
             ],
             [
              0.1111111111111111,
              "#46039f"
             ],
             [
              0.2222222222222222,
              "#7201a8"
             ],
             [
              0.3333333333333333,
              "#9c179e"
             ],
             [
              0.4444444444444444,
              "#bd3786"
             ],
             [
              0.5555555555555556,
              "#d8576b"
             ],
             [
              0.6666666666666666,
              "#ed7953"
             ],
             [
              0.7777777777777778,
              "#fb9f3a"
             ],
             [
              0.8888888888888888,
              "#fdca26"
             ],
             [
              1,
              "#f0f921"
             ]
            ],
            "type": "histogram2dcontour"
           }
          ],
          "mesh3d": [
           {
            "colorbar": {
             "outlinewidth": 0,
             "ticks": ""
            },
            "type": "mesh3d"
           }
          ],
          "parcoords": [
           {
            "line": {
             "colorbar": {
              "outlinewidth": 0,
              "ticks": ""
             }
            },
            "type": "parcoords"
           }
          ],
          "pie": [
           {
            "automargin": true,
            "type": "pie"
           }
          ],
          "scatter": [
           {
            "fillpattern": {
             "fillmode": "overlay",
             "size": 10,
             "solidity": 0.2
            },
            "type": "scatter"
           }
          ],
          "scatter3d": [
           {
            "line": {
             "colorbar": {
              "outlinewidth": 0,
              "ticks": ""
             }
            },
            "marker": {
             "colorbar": {
              "outlinewidth": 0,
              "ticks": ""
             }
            },
            "type": "scatter3d"
           }
          ],
          "scattercarpet": [
           {
            "marker": {
             "colorbar": {
              "outlinewidth": 0,
              "ticks": ""
             }
            },
            "type": "scattercarpet"
           }
          ],
          "scattergeo": [
           {
            "marker": {
             "colorbar": {
              "outlinewidth": 0,
              "ticks": ""
             }
            },
            "type": "scattergeo"
           }
          ],
          "scattergl": [
           {
            "marker": {
             "colorbar": {
              "outlinewidth": 0,
              "ticks": ""
             }
            },
            "type": "scattergl"
           }
          ],
          "scattermap": [
           {
            "marker": {
             "colorbar": {
              "outlinewidth": 0,
              "ticks": ""
             }
            },
            "type": "scattermap"
           }
          ],
          "scattermapbox": [
           {
            "marker": {
             "colorbar": {
              "outlinewidth": 0,
              "ticks": ""
             }
            },
            "type": "scattermapbox"
           }
          ],
          "scatterpolar": [
           {
            "marker": {
             "colorbar": {
              "outlinewidth": 0,
              "ticks": ""
             }
            },
            "type": "scatterpolar"
           }
          ],
          "scatterpolargl": [
           {
            "marker": {
             "colorbar": {
              "outlinewidth": 0,
              "ticks": ""
             }
            },
            "type": "scatterpolargl"
           }
          ],
          "scatterternary": [
           {
            "marker": {
             "colorbar": {
              "outlinewidth": 0,
              "ticks": ""
             }
            },
            "type": "scatterternary"
           }
          ],
          "surface": [
           {
            "colorbar": {
             "outlinewidth": 0,
             "ticks": ""
            },
            "colorscale": [
             [
              0,
              "#0d0887"
             ],
             [
              0.1111111111111111,
              "#46039f"
             ],
             [
              0.2222222222222222,
              "#7201a8"
             ],
             [
              0.3333333333333333,
              "#9c179e"
             ],
             [
              0.4444444444444444,
              "#bd3786"
             ],
             [
              0.5555555555555556,
              "#d8576b"
             ],
             [
              0.6666666666666666,
              "#ed7953"
             ],
             [
              0.7777777777777778,
              "#fb9f3a"
             ],
             [
              0.8888888888888888,
              "#fdca26"
             ],
             [
              1,
              "#f0f921"
             ]
            ],
            "type": "surface"
           }
          ],
          "table": [
           {
            "cells": {
             "fill": {
              "color": "#EBF0F8"
             },
             "line": {
              "color": "white"
             }
            },
            "header": {
             "fill": {
              "color": "#C8D4E3"
             },
             "line": {
              "color": "white"
             }
            },
            "type": "table"
           }
          ]
         },
         "layout": {
          "annotationdefaults": {
           "arrowcolor": "#2a3f5f",
           "arrowhead": 0,
           "arrowwidth": 1
          },
          "autotypenumbers": "strict",
          "coloraxis": {
           "colorbar": {
            "outlinewidth": 0,
            "ticks": ""
           }
          },
          "colorscale": {
           "diverging": [
            [
             0,
             "#8e0152"
            ],
            [
             0.1,
             "#c51b7d"
            ],
            [
             0.2,
             "#de77ae"
            ],
            [
             0.3,
             "#f1b6da"
            ],
            [
             0.4,
             "#fde0ef"
            ],
            [
             0.5,
             "#f7f7f7"
            ],
            [
             0.6,
             "#e6f5d0"
            ],
            [
             0.7,
             "#b8e186"
            ],
            [
             0.8,
             "#7fbc41"
            ],
            [
             0.9,
             "#4d9221"
            ],
            [
             1,
             "#276419"
            ]
           ],
           "sequential": [
            [
             0,
             "#0d0887"
            ],
            [
             0.1111111111111111,
             "#46039f"
            ],
            [
             0.2222222222222222,
             "#7201a8"
            ],
            [
             0.3333333333333333,
             "#9c179e"
            ],
            [
             0.4444444444444444,
             "#bd3786"
            ],
            [
             0.5555555555555556,
             "#d8576b"
            ],
            [
             0.6666666666666666,
             "#ed7953"
            ],
            [
             0.7777777777777778,
             "#fb9f3a"
            ],
            [
             0.8888888888888888,
             "#fdca26"
            ],
            [
             1,
             "#f0f921"
            ]
           ],
           "sequentialminus": [
            [
             0,
             "#0d0887"
            ],
            [
             0.1111111111111111,
             "#46039f"
            ],
            [
             0.2222222222222222,
             "#7201a8"
            ],
            [
             0.3333333333333333,
             "#9c179e"
            ],
            [
             0.4444444444444444,
             "#bd3786"
            ],
            [
             0.5555555555555556,
             "#d8576b"
            ],
            [
             0.6666666666666666,
             "#ed7953"
            ],
            [
             0.7777777777777778,
             "#fb9f3a"
            ],
            [
             0.8888888888888888,
             "#fdca26"
            ],
            [
             1,
             "#f0f921"
            ]
           ]
          },
          "colorway": [
           "#636efa",
           "#EF553B",
           "#00cc96",
           "#ab63fa",
           "#FFA15A",
           "#19d3f3",
           "#FF6692",
           "#B6E880",
           "#FF97FF",
           "#FECB52"
          ],
          "font": {
           "color": "#2a3f5f"
          },
          "geo": {
           "bgcolor": "white",
           "lakecolor": "white",
           "landcolor": "#E5ECF6",
           "showlakes": true,
           "showland": true,
           "subunitcolor": "white"
          },
          "hoverlabel": {
           "align": "left"
          },
          "hovermode": "closest",
          "mapbox": {
           "style": "light"
          },
          "paper_bgcolor": "white",
          "plot_bgcolor": "#E5ECF6",
          "polar": {
           "angularaxis": {
            "gridcolor": "white",
            "linecolor": "white",
            "ticks": ""
           },
           "bgcolor": "#E5ECF6",
           "radialaxis": {
            "gridcolor": "white",
            "linecolor": "white",
            "ticks": ""
           }
          },
          "scene": {
           "xaxis": {
            "backgroundcolor": "#E5ECF6",
            "gridcolor": "white",
            "gridwidth": 2,
            "linecolor": "white",
            "showbackground": true,
            "ticks": "",
            "zerolinecolor": "white"
           },
           "yaxis": {
            "backgroundcolor": "#E5ECF6",
            "gridcolor": "white",
            "gridwidth": 2,
            "linecolor": "white",
            "showbackground": true,
            "ticks": "",
            "zerolinecolor": "white"
           },
           "zaxis": {
            "backgroundcolor": "#E5ECF6",
            "gridcolor": "white",
            "gridwidth": 2,
            "linecolor": "white",
            "showbackground": true,
            "ticks": "",
            "zerolinecolor": "white"
           }
          },
          "shapedefaults": {
           "line": {
            "color": "#2a3f5f"
           }
          },
          "ternary": {
           "aaxis": {
            "gridcolor": "white",
            "linecolor": "white",
            "ticks": ""
           },
           "baxis": {
            "gridcolor": "white",
            "linecolor": "white",
            "ticks": ""
           },
           "bgcolor": "#E5ECF6",
           "caxis": {
            "gridcolor": "white",
            "linecolor": "white",
            "ticks": ""
           }
          },
          "title": {
           "x": 0.05
          },
          "xaxis": {
           "automargin": true,
           "gridcolor": "white",
           "linecolor": "white",
           "ticks": "",
           "title": {
            "standoff": 15
           },
           "zerolinecolor": "white",
           "zerolinewidth": 2
          },
          "yaxis": {
           "automargin": true,
           "gridcolor": "white",
           "linecolor": "white",
           "ticks": "",
           "title": {
            "standoff": 15
           },
           "zerolinecolor": "white",
           "zerolinewidth": 2
          }
         }
        },
        "title": {
         "text": "Histogramm - Unemployment"
        },
        "xaxis": {
         "title": {
          "text": "Unemployment"
         }
        },
        "yaxis": {
         "title": {
          "text": "Häufigkeit"
         }
        }
       }
      }
     },
     "metadata": {},
     "output_type": "display_data"
    },
    {
     "data": {
      "application/vnd.plotly.v1+json": {
       "config": {
        "plotlyServerURL": "https://plot.ly"
       },
       "data": [
        {
         "boxmean": "sd",
         "marker": {
          "color": "indianred"
         },
         "name": "Weekly_Sales",
         "type": "box",
         "y": {
          "bdata": "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",
          "dtype": "f8"
         }
        }
       ],
       "layout": {
        "template": {
         "data": {
          "bar": [
           {
            "error_x": {
             "color": "#2a3f5f"
            },
            "error_y": {
             "color": "#2a3f5f"
            },
            "marker": {
             "line": {
              "color": "#E5ECF6",
              "width": 0.5
             },
             "pattern": {
              "fillmode": "overlay",
              "size": 10,
              "solidity": 0.2
             }
            },
            "type": "bar"
           }
          ],
          "barpolar": [
           {
            "marker": {
             "line": {
              "color": "#E5ECF6",
              "width": 0.5
             },
             "pattern": {
              "fillmode": "overlay",
              "size": 10,
              "solidity": 0.2
             }
            },
            "type": "barpolar"
           }
          ],
          "carpet": [
           {
            "aaxis": {
             "endlinecolor": "#2a3f5f",
             "gridcolor": "white",
             "linecolor": "white",
             "minorgridcolor": "white",
             "startlinecolor": "#2a3f5f"
            },
            "baxis": {
             "endlinecolor": "#2a3f5f",
             "gridcolor": "white",
             "linecolor": "white",
             "minorgridcolor": "white",
             "startlinecolor": "#2a3f5f"
            },
            "type": "carpet"
           }
          ],
          "choropleth": [
           {
            "colorbar": {
             "outlinewidth": 0,
             "ticks": ""
            },
            "type": "choropleth"
           }
          ],
          "contour": [
           {
            "colorbar": {
             "outlinewidth": 0,
             "ticks": ""
            },
            "colorscale": [
             [
              0,
              "#0d0887"
             ],
             [
              0.1111111111111111,
              "#46039f"
             ],
             [
              0.2222222222222222,
              "#7201a8"
             ],
             [
              0.3333333333333333,
              "#9c179e"
             ],
             [
              0.4444444444444444,
              "#bd3786"
             ],
             [
              0.5555555555555556,
              "#d8576b"
             ],
             [
              0.6666666666666666,
              "#ed7953"
             ],
             [
              0.7777777777777778,
              "#fb9f3a"
             ],
             [
              0.8888888888888888,
              "#fdca26"
             ],
             [
              1,
              "#f0f921"
             ]
            ],
            "type": "contour"
           }
          ],
          "contourcarpet": [
           {
            "colorbar": {
             "outlinewidth": 0,
             "ticks": ""
            },
            "type": "contourcarpet"
           }
          ],
          "heatmap": [
           {
            "colorbar": {
             "outlinewidth": 0,
             "ticks": ""
            },
            "colorscale": [
             [
              0,
              "#0d0887"
             ],
             [
              0.1111111111111111,
              "#46039f"
             ],
             [
              0.2222222222222222,
              "#7201a8"
             ],
             [
              0.3333333333333333,
              "#9c179e"
             ],
             [
              0.4444444444444444,
              "#bd3786"
             ],
             [
              0.5555555555555556,
              "#d8576b"
             ],
             [
              0.6666666666666666,
              "#ed7953"
             ],
             [
              0.7777777777777778,
              "#fb9f3a"
             ],
             [
              0.8888888888888888,
              "#fdca26"
             ],
             [
              1,
              "#f0f921"
             ]
            ],
            "type": "heatmap"
           }
          ],
          "histogram": [
           {
            "marker": {
             "pattern": {
              "fillmode": "overlay",
              "size": 10,
              "solidity": 0.2
             }
            },
            "type": "histogram"
           }
          ],
          "histogram2d": [
           {
            "colorbar": {
             "outlinewidth": 0,
             "ticks": ""
            },
            "colorscale": [
             [
              0,
              "#0d0887"
             ],
             [
              0.1111111111111111,
              "#46039f"
             ],
             [
              0.2222222222222222,
              "#7201a8"
             ],
             [
              0.3333333333333333,
              "#9c179e"
             ],
             [
              0.4444444444444444,
              "#bd3786"
             ],
             [
              0.5555555555555556,
              "#d8576b"
             ],
             [
              0.6666666666666666,
              "#ed7953"
             ],
             [
              0.7777777777777778,
              "#fb9f3a"
             ],
             [
              0.8888888888888888,
              "#fdca26"
             ],
             [
              1,
              "#f0f921"
             ]
            ],
            "type": "histogram2d"
           }
          ],
          "histogram2dcontour": [
           {
            "colorbar": {
             "outlinewidth": 0,
             "ticks": ""
            },
            "colorscale": [
             [
              0,
              "#0d0887"
             ],
             [
              0.1111111111111111,
              "#46039f"
             ],
             [
              0.2222222222222222,
              "#7201a8"
             ],
             [
              0.3333333333333333,
              "#9c179e"
             ],
             [
              0.4444444444444444,
              "#bd3786"
             ],
             [
              0.5555555555555556,
              "#d8576b"
             ],
             [
              0.6666666666666666,
              "#ed7953"
             ],
             [
              0.7777777777777778,
              "#fb9f3a"
             ],
             [
              0.8888888888888888,
              "#fdca26"
             ],
             [
              1,
              "#f0f921"
             ]
            ],
            "type": "histogram2dcontour"
           }
          ],
          "mesh3d": [
           {
            "colorbar": {
             "outlinewidth": 0,
             "ticks": ""
            },
            "type": "mesh3d"
           }
          ],
          "parcoords": [
           {
            "line": {
             "colorbar": {
              "outlinewidth": 0,
              "ticks": ""
             }
            },
            "type": "parcoords"
           }
          ],
          "pie": [
           {
            "automargin": true,
            "type": "pie"
           }
          ],
          "scatter": [
           {
            "fillpattern": {
             "fillmode": "overlay",
             "size": 10,
             "solidity": 0.2
            },
            "type": "scatter"
           }
          ],
          "scatter3d": [
           {
            "line": {
             "colorbar": {
              "outlinewidth": 0,
              "ticks": ""
             }
            },
            "marker": {
             "colorbar": {
              "outlinewidth": 0,
              "ticks": ""
             }
            },
            "type": "scatter3d"
           }
          ],
          "scattercarpet": [
           {
            "marker": {
             "colorbar": {
              "outlinewidth": 0,
              "ticks": ""
             }
            },
            "type": "scattercarpet"
           }
          ],
          "scattergeo": [
           {
            "marker": {
             "colorbar": {
              "outlinewidth": 0,
              "ticks": ""
             }
            },
            "type": "scattergeo"
           }
          ],
          "scattergl": [
           {
            "marker": {
             "colorbar": {
              "outlinewidth": 0,
              "ticks": ""
             }
            },
            "type": "scattergl"
           }
          ],
          "scattermap": [
           {
            "marker": {
             "colorbar": {
              "outlinewidth": 0,
              "ticks": ""
             }
            },
            "type": "scattermap"
           }
          ],
          "scattermapbox": [
           {
            "marker": {
             "colorbar": {
              "outlinewidth": 0,
              "ticks": ""
             }
            },
            "type": "scattermapbox"
           }
          ],
          "scatterpolar": [
           {
            "marker": {
             "colorbar": {
              "outlinewidth": 0,
              "ticks": ""
             }
            },
            "type": "scatterpolar"
           }
          ],
          "scatterpolargl": [
           {
            "marker": {
             "colorbar": {
              "outlinewidth": 0,
              "ticks": ""
             }
            },
            "type": "scatterpolargl"
           }
          ],
          "scatterternary": [
           {
            "marker": {
             "colorbar": {
              "outlinewidth": 0,
              "ticks": ""
             }
            },
            "type": "scatterternary"
           }
          ],
          "surface": [
           {
            "colorbar": {
             "outlinewidth": 0,
             "ticks": ""
            },
            "colorscale": [
             [
              0,
              "#0d0887"
             ],
             [
              0.1111111111111111,
              "#46039f"
             ],
             [
              0.2222222222222222,
              "#7201a8"
             ],
             [
              0.3333333333333333,
              "#9c179e"
             ],
             [
              0.4444444444444444,
              "#bd3786"
             ],
             [
              0.5555555555555556,
              "#d8576b"
             ],
             [
              0.6666666666666666,
              "#ed7953"
             ],
             [
              0.7777777777777778,
              "#fb9f3a"
             ],
             [
              0.8888888888888888,
              "#fdca26"
             ],
             [
              1,
              "#f0f921"
             ]
            ],
            "type": "surface"
           }
          ],
          "table": [
           {
            "cells": {
             "fill": {
              "color": "#EBF0F8"
             },
             "line": {
              "color": "white"
             }
            },
            "header": {
             "fill": {
              "color": "#C8D4E3"
             },
             "line": {
              "color": "white"
             }
            },
            "type": "table"
           }
          ]
         },
         "layout": {
          "annotationdefaults": {
           "arrowcolor": "#2a3f5f",
           "arrowhead": 0,
           "arrowwidth": 1
          },
          "autotypenumbers": "strict",
          "coloraxis": {
           "colorbar": {
            "outlinewidth": 0,
            "ticks": ""
           }
          },
          "colorscale": {
           "diverging": [
            [
             0,
             "#8e0152"
            ],
            [
             0.1,
             "#c51b7d"
            ],
            [
             0.2,
             "#de77ae"
            ],
            [
             0.3,
             "#f1b6da"
            ],
            [
             0.4,
             "#fde0ef"
            ],
            [
             0.5,
             "#f7f7f7"
            ],
            [
             0.6,
             "#e6f5d0"
            ],
            [
             0.7,
             "#b8e186"
            ],
            [
             0.8,
             "#7fbc41"
            ],
            [
             0.9,
             "#4d9221"
            ],
            [
             1,
             "#276419"
            ]
           ],
           "sequential": [
            [
             0,
             "#0d0887"
            ],
            [
             0.1111111111111111,
             "#46039f"
            ],
            [
             0.2222222222222222,
             "#7201a8"
            ],
            [
             0.3333333333333333,
             "#9c179e"
            ],
            [
             0.4444444444444444,
             "#bd3786"
            ],
            [
             0.5555555555555556,
             "#d8576b"
            ],
            [
             0.6666666666666666,
             "#ed7953"
            ],
            [
             0.7777777777777778,
             "#fb9f3a"
            ],
            [
             0.8888888888888888,
             "#fdca26"
            ],
            [
             1,
             "#f0f921"
            ]
           ],
           "sequentialminus": [
            [
             0,
             "#0d0887"
            ],
            [
             0.1111111111111111,
             "#46039f"
            ],
            [
             0.2222222222222222,
             "#7201a8"
            ],
            [
             0.3333333333333333,
             "#9c179e"
            ],
            [
             0.4444444444444444,
             "#bd3786"
            ],
            [
             0.5555555555555556,
             "#d8576b"
            ],
            [
             0.6666666666666666,
             "#ed7953"
            ],
            [
             0.7777777777777778,
             "#fb9f3a"
            ],
            [
             0.8888888888888888,
             "#fdca26"
            ],
            [
             1,
             "#f0f921"
            ]
           ]
          },
          "colorway": [
           "#636efa",
           "#EF553B",
           "#00cc96",
           "#ab63fa",
           "#FFA15A",
           "#19d3f3",
           "#FF6692",
           "#B6E880",
           "#FF97FF",
           "#FECB52"
          ],
          "font": {
           "color": "#2a3f5f"
          },
          "geo": {
           "bgcolor": "white",
           "lakecolor": "white",
           "landcolor": "#E5ECF6",
           "showlakes": true,
           "showland": true,
           "subunitcolor": "white"
          },
          "hoverlabel": {
           "align": "left"
          },
          "hovermode": "closest",
          "mapbox": {
           "style": "light"
          },
          "paper_bgcolor": "white",
          "plot_bgcolor": "#E5ECF6",
          "polar": {
           "angularaxis": {
            "gridcolor": "white",
            "linecolor": "white",
            "ticks": ""
           },
           "bgcolor": "#E5ECF6",
           "radialaxis": {
            "gridcolor": "white",
            "linecolor": "white",
            "ticks": ""
           }
          },
          "scene": {
           "xaxis": {
            "backgroundcolor": "#E5ECF6",
            "gridcolor": "white",
            "gridwidth": 2,
            "linecolor": "white",
            "showbackground": true,
            "ticks": "",
            "zerolinecolor": "white"
           },
           "yaxis": {
            "backgroundcolor": "#E5ECF6",
            "gridcolor": "white",
            "gridwidth": 2,
            "linecolor": "white",
            "showbackground": true,
            "ticks": "",
            "zerolinecolor": "white"
           },
           "zaxis": {
            "backgroundcolor": "#E5ECF6",
            "gridcolor": "white",
            "gridwidth": 2,
            "linecolor": "white",
            "showbackground": true,
            "ticks": "",
            "zerolinecolor": "white"
           }
          },
          "shapedefaults": {
           "line": {
            "color": "#2a3f5f"
           }
          },
          "ternary": {
           "aaxis": {
            "gridcolor": "white",
            "linecolor": "white",
            "ticks": ""
           },
           "baxis": {
            "gridcolor": "white",
            "linecolor": "white",
            "ticks": ""
           },
           "bgcolor": "#E5ECF6",
           "caxis": {
            "gridcolor": "white",
            "linecolor": "white",
            "ticks": ""
           }
          },
          "title": {
           "x": 0.05
          },
          "xaxis": {
           "automargin": true,
           "gridcolor": "white",
           "linecolor": "white",
           "ticks": "",
           "title": {
            "standoff": 15
           },
           "zerolinecolor": "white",
           "zerolinewidth": 2
          },
          "yaxis": {
           "automargin": true,
           "gridcolor": "white",
           "linecolor": "white",
           "ticks": "",
           "title": {
            "standoff": 15
           },
           "zerolinecolor": "white",
           "zerolinewidth": 2
          }
         }
        },
        "title": {
         "text": "Boxplot - Weekly_Sales"
        },
        "yaxis": {
         "title": {
          "text": "Weekly_Sales"
         }
        }
       }
      }
     },
     "metadata": {},
     "output_type": "display_data"
    },
    {
     "data": {
      "application/vnd.plotly.v1+json": {
       "config": {
        "plotlyServerURL": "https://plot.ly"
       },
       "data": [
        {
         "boxmean": "sd",
         "marker": {
          "color": "indianred"
         },
         "name": "Temperature",
         "type": "box",
         "y": {
          "bdata": "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",
          "dtype": "f8"
         }
        }
       ],
       "layout": {
        "template": {
         "data": {
          "bar": [
           {
            "error_x": {
             "color": "#2a3f5f"
            },
            "error_y": {
             "color": "#2a3f5f"
            },
            "marker": {
             "line": {
              "color": "#E5ECF6",
              "width": 0.5
             },
             "pattern": {
              "fillmode": "overlay",
              "size": 10,
              "solidity": 0.2
             }
            },
            "type": "bar"
           }
          ],
          "barpolar": [
           {
            "marker": {
             "line": {
              "color": "#E5ECF6",
              "width": 0.5
             },
             "pattern": {
              "fillmode": "overlay",
              "size": 10,
              "solidity": 0.2
             }
            },
            "type": "barpolar"
           }
          ],
          "carpet": [
           {
            "aaxis": {
             "endlinecolor": "#2a3f5f",
             "gridcolor": "white",
             "linecolor": "white",
             "minorgridcolor": "white",
             "startlinecolor": "#2a3f5f"
            },
            "baxis": {
             "endlinecolor": "#2a3f5f",
             "gridcolor": "white",
             "linecolor": "white",
             "minorgridcolor": "white",
             "startlinecolor": "#2a3f5f"
            },
            "type": "carpet"
           }
          ],
          "choropleth": [
           {
            "colorbar": {
             "outlinewidth": 0,
             "ticks": ""
            },
            "type": "choropleth"
           }
          ],
          "contour": [
           {
            "colorbar": {
             "outlinewidth": 0,
             "ticks": ""
            },
            "colorscale": [
             [
              0,
              "#0d0887"
             ],
             [
              0.1111111111111111,
              "#46039f"
             ],
             [
              0.2222222222222222,
              "#7201a8"
             ],
             [
              0.3333333333333333,
              "#9c179e"
             ],
             [
              0.4444444444444444,
              "#bd3786"
             ],
             [
              0.5555555555555556,
              "#d8576b"
             ],
             [
              0.6666666666666666,
              "#ed7953"
             ],
             [
              0.7777777777777778,
              "#fb9f3a"
             ],
             [
              0.8888888888888888,
              "#fdca26"
             ],
             [
              1,
              "#f0f921"
             ]
            ],
            "type": "contour"
           }
          ],
          "contourcarpet": [
           {
            "colorbar": {
             "outlinewidth": 0,
             "ticks": ""
            },
            "type": "contourcarpet"
           }
          ],
          "heatmap": [
           {
            "colorbar": {
             "outlinewidth": 0,
             "ticks": ""
            },
            "colorscale": [
             [
              0,
              "#0d0887"
             ],
             [
              0.1111111111111111,
              "#46039f"
             ],
             [
              0.2222222222222222,
              "#7201a8"
             ],
             [
              0.3333333333333333,
              "#9c179e"
             ],
             [
              0.4444444444444444,
              "#bd3786"
             ],
             [
              0.5555555555555556,
              "#d8576b"
             ],
             [
              0.6666666666666666,
              "#ed7953"
             ],
             [
              0.7777777777777778,
              "#fb9f3a"
             ],
             [
              0.8888888888888888,
              "#fdca26"
             ],
             [
              1,
              "#f0f921"
             ]
            ],
            "type": "heatmap"
           }
          ],
          "histogram": [
           {
            "marker": {
             "pattern": {
              "fillmode": "overlay",
              "size": 10,
              "solidity": 0.2
             }
            },
            "type": "histogram"
           }
          ],
          "histogram2d": [
           {
            "colorbar": {
             "outlinewidth": 0,
             "ticks": ""
            },
            "colorscale": [
             [
              0,
              "#0d0887"
             ],
             [
              0.1111111111111111,
              "#46039f"
             ],
             [
              0.2222222222222222,
              "#7201a8"
             ],
             [
              0.3333333333333333,
              "#9c179e"
             ],
             [
              0.4444444444444444,
              "#bd3786"
             ],
             [
              0.5555555555555556,
              "#d8576b"
             ],
             [
              0.6666666666666666,
              "#ed7953"
             ],
             [
              0.7777777777777778,
              "#fb9f3a"
             ],
             [
              0.8888888888888888,
              "#fdca26"
             ],
             [
              1,
              "#f0f921"
             ]
            ],
            "type": "histogram2d"
           }
          ],
          "histogram2dcontour": [
           {
            "colorbar": {
             "outlinewidth": 0,
             "ticks": ""
            },
            "colorscale": [
             [
              0,
              "#0d0887"
             ],
             [
              0.1111111111111111,
              "#46039f"
             ],
             [
              0.2222222222222222,
              "#7201a8"
             ],
             [
              0.3333333333333333,
              "#9c179e"
             ],
             [
              0.4444444444444444,
              "#bd3786"
             ],
             [
              0.5555555555555556,
              "#d8576b"
             ],
             [
              0.6666666666666666,
              "#ed7953"
             ],
             [
              0.7777777777777778,
              "#fb9f3a"
             ],
             [
              0.8888888888888888,
              "#fdca26"
             ],
             [
              1,
              "#f0f921"
             ]
            ],
            "type": "histogram2dcontour"
           }
          ],
          "mesh3d": [
           {
            "colorbar": {
             "outlinewidth": 0,
             "ticks": ""
            },
            "type": "mesh3d"
           }
          ],
          "parcoords": [
           {
            "line": {
             "colorbar": {
              "outlinewidth": 0,
              "ticks": ""
             }
            },
            "type": "parcoords"
           }
          ],
          "pie": [
           {
            "automargin": true,
            "type": "pie"
           }
          ],
          "scatter": [
           {
            "fillpattern": {
             "fillmode": "overlay",
             "size": 10,
             "solidity": 0.2
            },
            "type": "scatter"
           }
          ],
          "scatter3d": [
           {
            "line": {
             "colorbar": {
              "outlinewidth": 0,
              "ticks": ""
             }
            },
            "marker": {
             "colorbar": {
              "outlinewidth": 0,
              "ticks": ""
             }
            },
            "type": "scatter3d"
           }
          ],
          "scattercarpet": [
           {
            "marker": {
             "colorbar": {
              "outlinewidth": 0,
              "ticks": ""
             }
            },
            "type": "scattercarpet"
           }
          ],
          "scattergeo": [
           {
            "marker": {
             "colorbar": {
              "outlinewidth": 0,
              "ticks": ""
             }
            },
            "type": "scattergeo"
           }
          ],
          "scattergl": [
           {
            "marker": {
             "colorbar": {
              "outlinewidth": 0,
              "ticks": ""
             }
            },
            "type": "scattergl"
           }
          ],
          "scattermap": [
           {
            "marker": {
             "colorbar": {
              "outlinewidth": 0,
              "ticks": ""
             }
            },
            "type": "scattermap"
           }
          ],
          "scattermapbox": [
           {
            "marker": {
             "colorbar": {
              "outlinewidth": 0,
              "ticks": ""
             }
            },
            "type": "scattermapbox"
           }
          ],
          "scatterpolar": [
           {
            "marker": {
             "colorbar": {
              "outlinewidth": 0,
              "ticks": ""
             }
            },
            "type": "scatterpolar"
           }
          ],
          "scatterpolargl": [
           {
            "marker": {
             "colorbar": {
              "outlinewidth": 0,
              "ticks": ""
             }
            },
            "type": "scatterpolargl"
           }
          ],
          "scatterternary": [
           {
            "marker": {
             "colorbar": {
              "outlinewidth": 0,
              "ticks": ""
             }
            },
            "type": "scatterternary"
           }
          ],
          "surface": [
           {
            "colorbar": {
             "outlinewidth": 0,
             "ticks": ""
            },
            "colorscale": [
             [
              0,
              "#0d0887"
             ],
             [
              0.1111111111111111,
              "#46039f"
             ],
             [
              0.2222222222222222,
              "#7201a8"
             ],
             [
              0.3333333333333333,
              "#9c179e"
             ],
             [
              0.4444444444444444,
              "#bd3786"
             ],
             [
              0.5555555555555556,
              "#d8576b"
             ],
             [
              0.6666666666666666,
              "#ed7953"
             ],
             [
              0.7777777777777778,
              "#fb9f3a"
             ],
             [
              0.8888888888888888,
              "#fdca26"
             ],
             [
              1,
              "#f0f921"
             ]
            ],
            "type": "surface"
           }
          ],
          "table": [
           {
            "cells": {
             "fill": {
              "color": "#EBF0F8"
             },
             "line": {
              "color": "white"
             }
            },
            "header": {
             "fill": {
              "color": "#C8D4E3"
             },
             "line": {
              "color": "white"
             }
            },
            "type": "table"
           }
          ]
         },
         "layout": {
          "annotationdefaults": {
           "arrowcolor": "#2a3f5f",
           "arrowhead": 0,
           "arrowwidth": 1
          },
          "autotypenumbers": "strict",
          "coloraxis": {
           "colorbar": {
            "outlinewidth": 0,
            "ticks": ""
           }
          },
          "colorscale": {
           "diverging": [
            [
             0,
             "#8e0152"
            ],
            [
             0.1,
             "#c51b7d"
            ],
            [
             0.2,
             "#de77ae"
            ],
            [
             0.3,
             "#f1b6da"
            ],
            [
             0.4,
             "#fde0ef"
            ],
            [
             0.5,
             "#f7f7f7"
            ],
            [
             0.6,
             "#e6f5d0"
            ],
            [
             0.7,
             "#b8e186"
            ],
            [
             0.8,
             "#7fbc41"
            ],
            [
             0.9,
             "#4d9221"
            ],
            [
             1,
             "#276419"
            ]
           ],
           "sequential": [
            [
             0,
             "#0d0887"
            ],
            [
             0.1111111111111111,
             "#46039f"
            ],
            [
             0.2222222222222222,
             "#7201a8"
            ],
            [
             0.3333333333333333,
             "#9c179e"
            ],
            [
             0.4444444444444444,
             "#bd3786"
            ],
            [
             0.5555555555555556,
             "#d8576b"
            ],
            [
             0.6666666666666666,
             "#ed7953"
            ],
            [
             0.7777777777777778,
             "#fb9f3a"
            ],
            [
             0.8888888888888888,
             "#fdca26"
            ],
            [
             1,
             "#f0f921"
            ]
           ],
           "sequentialminus": [
            [
             0,
             "#0d0887"
            ],
            [
             0.1111111111111111,
             "#46039f"
            ],
            [
             0.2222222222222222,
             "#7201a8"
            ],
            [
             0.3333333333333333,
             "#9c179e"
            ],
            [
             0.4444444444444444,
             "#bd3786"
            ],
            [
             0.5555555555555556,
             "#d8576b"
            ],
            [
             0.6666666666666666,
             "#ed7953"
            ],
            [
             0.7777777777777778,
             "#fb9f3a"
            ],
            [
             0.8888888888888888,
             "#fdca26"
            ],
            [
             1,
             "#f0f921"
            ]
           ]
          },
          "colorway": [
           "#636efa",
           "#EF553B",
           "#00cc96",
           "#ab63fa",
           "#FFA15A",
           "#19d3f3",
           "#FF6692",
           "#B6E880",
           "#FF97FF",
           "#FECB52"
          ],
          "font": {
           "color": "#2a3f5f"
          },
          "geo": {
           "bgcolor": "white",
           "lakecolor": "white",
           "landcolor": "#E5ECF6",
           "showlakes": true,
           "showland": true,
           "subunitcolor": "white"
          },
          "hoverlabel": {
           "align": "left"
          },
          "hovermode": "closest",
          "mapbox": {
           "style": "light"
          },
          "paper_bgcolor": "white",
          "plot_bgcolor": "#E5ECF6",
          "polar": {
           "angularaxis": {
            "gridcolor": "white",
            "linecolor": "white",
            "ticks": ""
           },
           "bgcolor": "#E5ECF6",
           "radialaxis": {
            "gridcolor": "white",
            "linecolor": "white",
            "ticks": ""
           }
          },
          "scene": {
           "xaxis": {
            "backgroundcolor": "#E5ECF6",
            "gridcolor": "white",
            "gridwidth": 2,
            "linecolor": "white",
            "showbackground": true,
            "ticks": "",
            "zerolinecolor": "white"
           },
           "yaxis": {
            "backgroundcolor": "#E5ECF6",
            "gridcolor": "white",
            "gridwidth": 2,
            "linecolor": "white",
            "showbackground": true,
            "ticks": "",
            "zerolinecolor": "white"
           },
           "zaxis": {
            "backgroundcolor": "#E5ECF6",
            "gridcolor": "white",
            "gridwidth": 2,
            "linecolor": "white",
            "showbackground": true,
            "ticks": "",
            "zerolinecolor": "white"
           }
          },
          "shapedefaults": {
           "line": {
            "color": "#2a3f5f"
           }
          },
          "ternary": {
           "aaxis": {
            "gridcolor": "white",
            "linecolor": "white",
            "ticks": ""
           },
           "baxis": {
            "gridcolor": "white",
            "linecolor": "white",
            "ticks": ""
           },
           "bgcolor": "#E5ECF6",
           "caxis": {
            "gridcolor": "white",
            "linecolor": "white",
            "ticks": ""
           }
          },
          "title": {
           "x": 0.05
          },
          "xaxis": {
           "automargin": true,
           "gridcolor": "white",
           "linecolor": "white",
           "ticks": "",
           "title": {
            "standoff": 15
           },
           "zerolinecolor": "white",
           "zerolinewidth": 2
          },
          "yaxis": {
           "automargin": true,
           "gridcolor": "white",
           "linecolor": "white",
           "ticks": "",
           "title": {
            "standoff": 15
           },
           "zerolinecolor": "white",
           "zerolinewidth": 2
          }
         }
        },
        "title": {
         "text": "Boxplot - Temperature"
        },
        "yaxis": {
         "title": {
          "text": "Temperature"
         }
        }
       }
      }
     },
     "metadata": {},
     "output_type": "display_data"
    },
    {
     "data": {
      "application/vnd.plotly.v1+json": {
       "config": {
        "plotlyServerURL": "https://plot.ly"
       },
       "data": [
        {
         "boxmean": "sd",
         "marker": {
          "color": "indianred"
         },
         "name": "Fuel_Price",
         "type": "box",
         "y": {
          "bdata": "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",
          "dtype": "f8"
         }
        }
       ],
       "layout": {
        "template": {
         "data": {
          "bar": [
           {
            "error_x": {
             "color": "#2a3f5f"
            },
            "error_y": {
             "color": "#2a3f5f"
            },
            "marker": {
             "line": {
              "color": "#E5ECF6",
              "width": 0.5
             },
             "pattern": {
              "fillmode": "overlay",
              "size": 10,
              "solidity": 0.2
             }
            },
            "type": "bar"
           }
          ],
          "barpolar": [
           {
            "marker": {
             "line": {
              "color": "#E5ECF6",
              "width": 0.5
             },
             "pattern": {
              "fillmode": "overlay",
              "size": 10,
              "solidity": 0.2
             }
            },
            "type": "barpolar"
           }
          ],
          "carpet": [
           {
            "aaxis": {
             "endlinecolor": "#2a3f5f",
             "gridcolor": "white",
             "linecolor": "white",
             "minorgridcolor": "white",
             "startlinecolor": "#2a3f5f"
            },
            "baxis": {
             "endlinecolor": "#2a3f5f",
             "gridcolor": "white",
             "linecolor": "white",
             "minorgridcolor": "white",
             "startlinecolor": "#2a3f5f"
            },
            "type": "carpet"
           }
          ],
          "choropleth": [
           {
            "colorbar": {
             "outlinewidth": 0,
             "ticks": ""
            },
            "type": "choropleth"
           }
          ],
          "contour": [
           {
            "colorbar": {
             "outlinewidth": 0,
             "ticks": ""
            },
            "colorscale": [
             [
              0,
              "#0d0887"
             ],
             [
              0.1111111111111111,
              "#46039f"
             ],
             [
              0.2222222222222222,
              "#7201a8"
             ],
             [
              0.3333333333333333,
              "#9c179e"
             ],
             [
              0.4444444444444444,
              "#bd3786"
             ],
             [
              0.5555555555555556,
              "#d8576b"
             ],
             [
              0.6666666666666666,
              "#ed7953"
             ],
             [
              0.7777777777777778,
              "#fb9f3a"
             ],
             [
              0.8888888888888888,
              "#fdca26"
             ],
             [
              1,
              "#f0f921"
             ]
            ],
            "type": "contour"
           }
          ],
          "contourcarpet": [
           {
            "colorbar": {
             "outlinewidth": 0,
             "ticks": ""
            },
            "type": "contourcarpet"
           }
          ],
          "heatmap": [
           {
            "colorbar": {
             "outlinewidth": 0,
             "ticks": ""
            },
            "colorscale": [
             [
              0,
              "#0d0887"
             ],
             [
              0.1111111111111111,
              "#46039f"
             ],
             [
              0.2222222222222222,
              "#7201a8"
             ],
             [
              0.3333333333333333,
              "#9c179e"
             ],
             [
              0.4444444444444444,
              "#bd3786"
             ],
             [
              0.5555555555555556,
              "#d8576b"
             ],
             [
              0.6666666666666666,
              "#ed7953"
             ],
             [
              0.7777777777777778,
              "#fb9f3a"
             ],
             [
              0.8888888888888888,
              "#fdca26"
             ],
             [
              1,
              "#f0f921"
             ]
            ],
            "type": "heatmap"
           }
          ],
          "histogram": [
           {
            "marker": {
             "pattern": {
              "fillmode": "overlay",
              "size": 10,
              "solidity": 0.2
             }
            },
            "type": "histogram"
           }
          ],
          "histogram2d": [
           {
            "colorbar": {
             "outlinewidth": 0,
             "ticks": ""
            },
            "colorscale": [
             [
              0,
              "#0d0887"
             ],
             [
              0.1111111111111111,
              "#46039f"
             ],
             [
              0.2222222222222222,
              "#7201a8"
             ],
             [
              0.3333333333333333,
              "#9c179e"
             ],
             [
              0.4444444444444444,
              "#bd3786"
             ],
             [
              0.5555555555555556,
              "#d8576b"
             ],
             [
              0.6666666666666666,
              "#ed7953"
             ],
             [
              0.7777777777777778,
              "#fb9f3a"
             ],
             [
              0.8888888888888888,
              "#fdca26"
             ],
             [
              1,
              "#f0f921"
             ]
            ],
            "type": "histogram2d"
           }
          ],
          "histogram2dcontour": [
           {
            "colorbar": {
             "outlinewidth": 0,
             "ticks": ""
            },
            "colorscale": [
             [
              0,
              "#0d0887"
             ],
             [
              0.1111111111111111,
              "#46039f"
             ],
             [
              0.2222222222222222,
              "#7201a8"
             ],
             [
              0.3333333333333333,
              "#9c179e"
             ],
             [
              0.4444444444444444,
              "#bd3786"
             ],
             [
              0.5555555555555556,
              "#d8576b"
             ],
             [
              0.6666666666666666,
              "#ed7953"
             ],
             [
              0.7777777777777778,
              "#fb9f3a"
             ],
             [
              0.8888888888888888,
              "#fdca26"
             ],
             [
              1,
              "#f0f921"
             ]
            ],
            "type": "histogram2dcontour"
           }
          ],
          "mesh3d": [
           {
            "colorbar": {
             "outlinewidth": 0,
             "ticks": ""
            },
            "type": "mesh3d"
           }
          ],
          "parcoords": [
           {
            "line": {
             "colorbar": {
              "outlinewidth": 0,
              "ticks": ""
             }
            },
            "type": "parcoords"
           }
          ],
          "pie": [
           {
            "automargin": true,
            "type": "pie"
           }
          ],
          "scatter": [
           {
            "fillpattern": {
             "fillmode": "overlay",
             "size": 10,
             "solidity": 0.2
            },
            "type": "scatter"
           }
          ],
          "scatter3d": [
           {
            "line": {
             "colorbar": {
              "outlinewidth": 0,
              "ticks": ""
             }
            },
            "marker": {
             "colorbar": {
              "outlinewidth": 0,
              "ticks": ""
             }
            },
            "type": "scatter3d"
           }
          ],
          "scattercarpet": [
           {
            "marker": {
             "colorbar": {
              "outlinewidth": 0,
              "ticks": ""
             }
            },
            "type": "scattercarpet"
           }
          ],
          "scattergeo": [
           {
            "marker": {
             "colorbar": {
              "outlinewidth": 0,
              "ticks": ""
             }
            },
            "type": "scattergeo"
           }
          ],
          "scattergl": [
           {
            "marker": {
             "colorbar": {
              "outlinewidth": 0,
              "ticks": ""
             }
            },
            "type": "scattergl"
           }
          ],
          "scattermap": [
           {
            "marker": {
             "colorbar": {
              "outlinewidth": 0,
              "ticks": ""
             }
            },
            "type": "scattermap"
           }
          ],
          "scattermapbox": [
           {
            "marker": {
             "colorbar": {
              "outlinewidth": 0,
              "ticks": ""
             }
            },
            "type": "scattermapbox"
           }
          ],
          "scatterpolar": [
           {
            "marker": {
             "colorbar": {
              "outlinewidth": 0,
              "ticks": ""
             }
            },
            "type": "scatterpolar"
           }
          ],
          "scatterpolargl": [
           {
            "marker": {
             "colorbar": {
              "outlinewidth": 0,
              "ticks": ""
             }
            },
            "type": "scatterpolargl"
           }
          ],
          "scatterternary": [
           {
            "marker": {
             "colorbar": {
              "outlinewidth": 0,
              "ticks": ""
             }
            },
            "type": "scatterternary"
           }
          ],
          "surface": [
           {
            "colorbar": {
             "outlinewidth": 0,
             "ticks": ""
            },
            "colorscale": [
             [
              0,
              "#0d0887"
             ],
             [
              0.1111111111111111,
              "#46039f"
             ],
             [
              0.2222222222222222,
              "#7201a8"
             ],
             [
              0.3333333333333333,
              "#9c179e"
             ],
             [
              0.4444444444444444,
              "#bd3786"
             ],
             [
              0.5555555555555556,
              "#d8576b"
             ],
             [
              0.6666666666666666,
              "#ed7953"
             ],
             [
              0.7777777777777778,
              "#fb9f3a"
             ],
             [
              0.8888888888888888,
              "#fdca26"
             ],
             [
              1,
              "#f0f921"
             ]
            ],
            "type": "surface"
           }
          ],
          "table": [
           {
            "cells": {
             "fill": {
              "color": "#EBF0F8"
             },
             "line": {
              "color": "white"
             }
            },
            "header": {
             "fill": {
              "color": "#C8D4E3"
             },
             "line": {
              "color": "white"
             }
            },
            "type": "table"
           }
          ]
         },
         "layout": {
          "annotationdefaults": {
           "arrowcolor": "#2a3f5f",
           "arrowhead": 0,
           "arrowwidth": 1
          },
          "autotypenumbers": "strict",
          "coloraxis": {
           "colorbar": {
            "outlinewidth": 0,
            "ticks": ""
           }
          },
          "colorscale": {
           "diverging": [
            [
             0,
             "#8e0152"
            ],
            [
             0.1,
             "#c51b7d"
            ],
            [
             0.2,
             "#de77ae"
            ],
            [
             0.3,
             "#f1b6da"
            ],
            [
             0.4,
             "#fde0ef"
            ],
            [
             0.5,
             "#f7f7f7"
            ],
            [
             0.6,
             "#e6f5d0"
            ],
            [
             0.7,
             "#b8e186"
            ],
            [
             0.8,
             "#7fbc41"
            ],
            [
             0.9,
             "#4d9221"
            ],
            [
             1,
             "#276419"
            ]
           ],
           "sequential": [
            [
             0,
             "#0d0887"
            ],
            [
             0.1111111111111111,
             "#46039f"
            ],
            [
             0.2222222222222222,
             "#7201a8"
            ],
            [
             0.3333333333333333,
             "#9c179e"
            ],
            [
             0.4444444444444444,
             "#bd3786"
            ],
            [
             0.5555555555555556,
             "#d8576b"
            ],
            [
             0.6666666666666666,
             "#ed7953"
            ],
            [
             0.7777777777777778,
             "#fb9f3a"
            ],
            [
             0.8888888888888888,
             "#fdca26"
            ],
            [
             1,
             "#f0f921"
            ]
           ],
           "sequentialminus": [
            [
             0,
             "#0d0887"
            ],
            [
             0.1111111111111111,
             "#46039f"
            ],
            [
             0.2222222222222222,
             "#7201a8"
            ],
            [
             0.3333333333333333,
             "#9c179e"
            ],
            [
             0.4444444444444444,
             "#bd3786"
            ],
            [
             0.5555555555555556,
             "#d8576b"
            ],
            [
             0.6666666666666666,
             "#ed7953"
            ],
            [
             0.7777777777777778,
             "#fb9f3a"
            ],
            [
             0.8888888888888888,
             "#fdca26"
            ],
            [
             1,
             "#f0f921"
            ]
           ]
          },
          "colorway": [
           "#636efa",
           "#EF553B",
           "#00cc96",
           "#ab63fa",
           "#FFA15A",
           "#19d3f3",
           "#FF6692",
           "#B6E880",
           "#FF97FF",
           "#FECB52"
          ],
          "font": {
           "color": "#2a3f5f"
          },
          "geo": {
           "bgcolor": "white",
           "lakecolor": "white",
           "landcolor": "#E5ECF6",
           "showlakes": true,
           "showland": true,
           "subunitcolor": "white"
          },
          "hoverlabel": {
           "align": "left"
          },
          "hovermode": "closest",
          "mapbox": {
           "style": "light"
          },
          "paper_bgcolor": "white",
          "plot_bgcolor": "#E5ECF6",
          "polar": {
           "angularaxis": {
            "gridcolor": "white",
            "linecolor": "white",
            "ticks": ""
           },
           "bgcolor": "#E5ECF6",
           "radialaxis": {
            "gridcolor": "white",
            "linecolor": "white",
            "ticks": ""
           }
          },
          "scene": {
           "xaxis": {
            "backgroundcolor": "#E5ECF6",
            "gridcolor": "white",
            "gridwidth": 2,
            "linecolor": "white",
            "showbackground": true,
            "ticks": "",
            "zerolinecolor": "white"
           },
           "yaxis": {
            "backgroundcolor": "#E5ECF6",
            "gridcolor": "white",
            "gridwidth": 2,
            "linecolor": "white",
            "showbackground": true,
            "ticks": "",
            "zerolinecolor": "white"
           },
           "zaxis": {
            "backgroundcolor": "#E5ECF6",
            "gridcolor": "white",
            "gridwidth": 2,
            "linecolor": "white",
            "showbackground": true,
            "ticks": "",
            "zerolinecolor": "white"
           }
          },
          "shapedefaults": {
           "line": {
            "color": "#2a3f5f"
           }
          },
          "ternary": {
           "aaxis": {
            "gridcolor": "white",
            "linecolor": "white",
            "ticks": ""
           },
           "baxis": {
            "gridcolor": "white",
            "linecolor": "white",
            "ticks": ""
           },
           "bgcolor": "#E5ECF6",
           "caxis": {
            "gridcolor": "white",
            "linecolor": "white",
            "ticks": ""
           }
          },
          "title": {
           "x": 0.05
          },
          "xaxis": {
           "automargin": true,
           "gridcolor": "white",
           "linecolor": "white",
           "ticks": "",
           "title": {
            "standoff": 15
           },
           "zerolinecolor": "white",
           "zerolinewidth": 2
          },
          "yaxis": {
           "automargin": true,
           "gridcolor": "white",
           "linecolor": "white",
           "ticks": "",
           "title": {
            "standoff": 15
           },
           "zerolinecolor": "white",
           "zerolinewidth": 2
          }
         }
        },
        "title": {
         "text": "Boxplot - Fuel_Price"
        },
        "yaxis": {
         "title": {
          "text": "Fuel_Price"
         }
        }
       }
      }
     },
     "metadata": {},
     "output_type": "display_data"
    },
    {
     "data": {
      "application/vnd.plotly.v1+json": {
       "config": {
        "plotlyServerURL": "https://plot.ly"
       },
       "data": [
        {
         "boxmean": "sd",
         "marker": {
          "color": "indianred"
         },
         "name": "CPI",
         "type": "box",
         "y": {
          "bdata": "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",
          "dtype": "f8"
         }
        }
       ],
       "layout": {
        "template": {
         "data": {
          "bar": [
           {
            "error_x": {
             "color": "#2a3f5f"
            },
            "error_y": {
             "color": "#2a3f5f"
            },
            "marker": {
             "line": {
              "color": "#E5ECF6",
              "width": 0.5
             },
             "pattern": {
              "fillmode": "overlay",
              "size": 10,
              "solidity": 0.2
             }
            },
            "type": "bar"
           }
          ],
          "barpolar": [
           {
            "marker": {
             "line": {
              "color": "#E5ECF6",
              "width": 0.5
             },
             "pattern": {
              "fillmode": "overlay",
              "size": 10,
              "solidity": 0.2
             }
            },
            "type": "barpolar"
           }
          ],
          "carpet": [
           {
            "aaxis": {
             "endlinecolor": "#2a3f5f",
             "gridcolor": "white",
             "linecolor": "white",
             "minorgridcolor": "white",
             "startlinecolor": "#2a3f5f"
            },
            "baxis": {
             "endlinecolor": "#2a3f5f",
             "gridcolor": "white",
             "linecolor": "white",
             "minorgridcolor": "white",
             "startlinecolor": "#2a3f5f"
            },
            "type": "carpet"
           }
          ],
          "choropleth": [
           {
            "colorbar": {
             "outlinewidth": 0,
             "ticks": ""
            },
            "type": "choropleth"
           }
          ],
          "contour": [
           {
            "colorbar": {
             "outlinewidth": 0,
             "ticks": ""
            },
            "colorscale": [
             [
              0,
              "#0d0887"
             ],
             [
              0.1111111111111111,
              "#46039f"
             ],
             [
              0.2222222222222222,
              "#7201a8"
             ],
             [
              0.3333333333333333,
              "#9c179e"
             ],
             [
              0.4444444444444444,
              "#bd3786"
             ],
             [
              0.5555555555555556,
              "#d8576b"
             ],
             [
              0.6666666666666666,
              "#ed7953"
             ],
             [
              0.7777777777777778,
              "#fb9f3a"
             ],
             [
              0.8888888888888888,
              "#fdca26"
             ],
             [
              1,
              "#f0f921"
             ]
            ],
            "type": "contour"
           }
          ],
          "contourcarpet": [
           {
            "colorbar": {
             "outlinewidth": 0,
             "ticks": ""
            },
            "type": "contourcarpet"
           }
          ],
          "heatmap": [
           {
            "colorbar": {
             "outlinewidth": 0,
             "ticks": ""
            },
            "colorscale": [
             [
              0,
              "#0d0887"
             ],
             [
              0.1111111111111111,
              "#46039f"
             ],
             [
              0.2222222222222222,
              "#7201a8"
             ],
             [
              0.3333333333333333,
              "#9c179e"
             ],
             [
              0.4444444444444444,
              "#bd3786"
             ],
             [
              0.5555555555555556,
              "#d8576b"
             ],
             [
              0.6666666666666666,
              "#ed7953"
             ],
             [
              0.7777777777777778,
              "#fb9f3a"
             ],
             [
              0.8888888888888888,
              "#fdca26"
             ],
             [
              1,
              "#f0f921"
             ]
            ],
            "type": "heatmap"
           }
          ],
          "histogram": [
           {
            "marker": {
             "pattern": {
              "fillmode": "overlay",
              "size": 10,
              "solidity": 0.2
             }
            },
            "type": "histogram"
           }
          ],
          "histogram2d": [
           {
            "colorbar": {
             "outlinewidth": 0,
             "ticks": ""
            },
            "colorscale": [
             [
              0,
              "#0d0887"
             ],
             [
              0.1111111111111111,
              "#46039f"
             ],
             [
              0.2222222222222222,
              "#7201a8"
             ],
             [
              0.3333333333333333,
              "#9c179e"
             ],
             [
              0.4444444444444444,
              "#bd3786"
             ],
             [
              0.5555555555555556,
              "#d8576b"
             ],
             [
              0.6666666666666666,
              "#ed7953"
             ],
             [
              0.7777777777777778,
              "#fb9f3a"
             ],
             [
              0.8888888888888888,
              "#fdca26"
             ],
             [
              1,
              "#f0f921"
             ]
            ],
            "type": "histogram2d"
           }
          ],
          "histogram2dcontour": [
           {
            "colorbar": {
             "outlinewidth": 0,
             "ticks": ""
            },
            "colorscale": [
             [
              0,
              "#0d0887"
             ],
             [
              0.1111111111111111,
              "#46039f"
             ],
             [
              0.2222222222222222,
              "#7201a8"
             ],
             [
              0.3333333333333333,
              "#9c179e"
             ],
             [
              0.4444444444444444,
              "#bd3786"
             ],
             [
              0.5555555555555556,
              "#d8576b"
             ],
             [
              0.6666666666666666,
              "#ed7953"
             ],
             [
              0.7777777777777778,
              "#fb9f3a"
             ],
             [
              0.8888888888888888,
              "#fdca26"
             ],
             [
              1,
              "#f0f921"
             ]
            ],
            "type": "histogram2dcontour"
           }
          ],
          "mesh3d": [
           {
            "colorbar": {
             "outlinewidth": 0,
             "ticks": ""
            },
            "type": "mesh3d"
           }
          ],
          "parcoords": [
           {
            "line": {
             "colorbar": {
              "outlinewidth": 0,
              "ticks": ""
             }
            },
            "type": "parcoords"
           }
          ],
          "pie": [
           {
            "automargin": true,
            "type": "pie"
           }
          ],
          "scatter": [
           {
            "fillpattern": {
             "fillmode": "overlay",
             "size": 10,
             "solidity": 0.2
            },
            "type": "scatter"
           }
          ],
          "scatter3d": [
           {
            "line": {
             "colorbar": {
              "outlinewidth": 0,
              "ticks": ""
             }
            },
            "marker": {
             "colorbar": {
              "outlinewidth": 0,
              "ticks": ""
             }
            },
            "type": "scatter3d"
           }
          ],
          "scattercarpet": [
           {
            "marker": {
             "colorbar": {
              "outlinewidth": 0,
              "ticks": ""
             }
            },
            "type": "scattercarpet"
           }
          ],
          "scattergeo": [
           {
            "marker": {
             "colorbar": {
              "outlinewidth": 0,
              "ticks": ""
             }
            },
            "type": "scattergeo"
           }
          ],
          "scattergl": [
           {
            "marker": {
             "colorbar": {
              "outlinewidth": 0,
              "ticks": ""
             }
            },
            "type": "scattergl"
           }
          ],
          "scattermap": [
           {
            "marker": {
             "colorbar": {
              "outlinewidth": 0,
              "ticks": ""
             }
            },
            "type": "scattermap"
           }
          ],
          "scattermapbox": [
           {
            "marker": {
             "colorbar": {
              "outlinewidth": 0,
              "ticks": ""
             }
            },
            "type": "scattermapbox"
           }
          ],
          "scatterpolar": [
           {
            "marker": {
             "colorbar": {
              "outlinewidth": 0,
              "ticks": ""
             }
            },
            "type": "scatterpolar"
           }
          ],
          "scatterpolargl": [
           {
            "marker": {
             "colorbar": {
              "outlinewidth": 0,
              "ticks": ""
             }
            },
            "type": "scatterpolargl"
           }
          ],
          "scatterternary": [
           {
            "marker": {
             "colorbar": {
              "outlinewidth": 0,
              "ticks": ""
             }
            },
            "type": "scatterternary"
           }
          ],
          "surface": [
           {
            "colorbar": {
             "outlinewidth": 0,
             "ticks": ""
            },
            "colorscale": [
             [
              0,
              "#0d0887"
             ],
             [
              0.1111111111111111,
              "#46039f"
             ],
             [
              0.2222222222222222,
              "#7201a8"
             ],
             [
              0.3333333333333333,
              "#9c179e"
             ],
             [
              0.4444444444444444,
              "#bd3786"
             ],
             [
              0.5555555555555556,
              "#d8576b"
             ],
             [
              0.6666666666666666,
              "#ed7953"
             ],
             [
              0.7777777777777778,
              "#fb9f3a"
             ],
             [
              0.8888888888888888,
              "#fdca26"
             ],
             [
              1,
              "#f0f921"
             ]
            ],
            "type": "surface"
           }
          ],
          "table": [
           {
            "cells": {
             "fill": {
              "color": "#EBF0F8"
             },
             "line": {
              "color": "white"
             }
            },
            "header": {
             "fill": {
              "color": "#C8D4E3"
             },
             "line": {
              "color": "white"
             }
            },
            "type": "table"
           }
          ]
         },
         "layout": {
          "annotationdefaults": {
           "arrowcolor": "#2a3f5f",
           "arrowhead": 0,
           "arrowwidth": 1
          },
          "autotypenumbers": "strict",
          "coloraxis": {
           "colorbar": {
            "outlinewidth": 0,
            "ticks": ""
           }
          },
          "colorscale": {
           "diverging": [
            [
             0,
             "#8e0152"
            ],
            [
             0.1,
             "#c51b7d"
            ],
            [
             0.2,
             "#de77ae"
            ],
            [
             0.3,
             "#f1b6da"
            ],
            [
             0.4,
             "#fde0ef"
            ],
            [
             0.5,
             "#f7f7f7"
            ],
            [
             0.6,
             "#e6f5d0"
            ],
            [
             0.7,
             "#b8e186"
            ],
            [
             0.8,
             "#7fbc41"
            ],
            [
             0.9,
             "#4d9221"
            ],
            [
             1,
             "#276419"
            ]
           ],
           "sequential": [
            [
             0,
             "#0d0887"
            ],
            [
             0.1111111111111111,
             "#46039f"
            ],
            [
             0.2222222222222222,
             "#7201a8"
            ],
            [
             0.3333333333333333,
             "#9c179e"
            ],
            [
             0.4444444444444444,
             "#bd3786"
            ],
            [
             0.5555555555555556,
             "#d8576b"
            ],
            [
             0.6666666666666666,
             "#ed7953"
            ],
            [
             0.7777777777777778,
             "#fb9f3a"
            ],
            [
             0.8888888888888888,
             "#fdca26"
            ],
            [
             1,
             "#f0f921"
            ]
           ],
           "sequentialminus": [
            [
             0,
             "#0d0887"
            ],
            [
             0.1111111111111111,
             "#46039f"
            ],
            [
             0.2222222222222222,
             "#7201a8"
            ],
            [
             0.3333333333333333,
             "#9c179e"
            ],
            [
             0.4444444444444444,
             "#bd3786"
            ],
            [
             0.5555555555555556,
             "#d8576b"
            ],
            [
             0.6666666666666666,
             "#ed7953"
            ],
            [
             0.7777777777777778,
             "#fb9f3a"
            ],
            [
             0.8888888888888888,
             "#fdca26"
            ],
            [
             1,
             "#f0f921"
            ]
           ]
          },
          "colorway": [
           "#636efa",
           "#EF553B",
           "#00cc96",
           "#ab63fa",
           "#FFA15A",
           "#19d3f3",
           "#FF6692",
           "#B6E880",
           "#FF97FF",
           "#FECB52"
          ],
          "font": {
           "color": "#2a3f5f"
          },
          "geo": {
           "bgcolor": "white",
           "lakecolor": "white",
           "landcolor": "#E5ECF6",
           "showlakes": true,
           "showland": true,
           "subunitcolor": "white"
          },
          "hoverlabel": {
           "align": "left"
          },
          "hovermode": "closest",
          "mapbox": {
           "style": "light"
          },
          "paper_bgcolor": "white",
          "plot_bgcolor": "#E5ECF6",
          "polar": {
           "angularaxis": {
            "gridcolor": "white",
            "linecolor": "white",
            "ticks": ""
           },
           "bgcolor": "#E5ECF6",
           "radialaxis": {
            "gridcolor": "white",
            "linecolor": "white",
            "ticks": ""
           }
          },
          "scene": {
           "xaxis": {
            "backgroundcolor": "#E5ECF6",
            "gridcolor": "white",
            "gridwidth": 2,
            "linecolor": "white",
            "showbackground": true,
            "ticks": "",
            "zerolinecolor": "white"
           },
           "yaxis": {
            "backgroundcolor": "#E5ECF6",
            "gridcolor": "white",
            "gridwidth": 2,
            "linecolor": "white",
            "showbackground": true,
            "ticks": "",
            "zerolinecolor": "white"
           },
           "zaxis": {
            "backgroundcolor": "#E5ECF6",
            "gridcolor": "white",
            "gridwidth": 2,
            "linecolor": "white",
            "showbackground": true,
            "ticks": "",
            "zerolinecolor": "white"
           }
          },
          "shapedefaults": {
           "line": {
            "color": "#2a3f5f"
           }
          },
          "ternary": {
           "aaxis": {
            "gridcolor": "white",
            "linecolor": "white",
            "ticks": ""
           },
           "baxis": {
            "gridcolor": "white",
            "linecolor": "white",
            "ticks": ""
           },
           "bgcolor": "#E5ECF6",
           "caxis": {
            "gridcolor": "white",
            "linecolor": "white",
            "ticks": ""
           }
          },
          "title": {
           "x": 0.05
          },
          "xaxis": {
           "automargin": true,
           "gridcolor": "white",
           "linecolor": "white",
           "ticks": "",
           "title": {
            "standoff": 15
           },
           "zerolinecolor": "white",
           "zerolinewidth": 2
          },
          "yaxis": {
           "automargin": true,
           "gridcolor": "white",
           "linecolor": "white",
           "ticks": "",
           "title": {
            "standoff": 15
           },
           "zerolinecolor": "white",
           "zerolinewidth": 2
          }
         }
        },
        "title": {
         "text": "Boxplot - CPI"
        },
        "yaxis": {
         "title": {
          "text": "CPI"
         }
        }
       }
      }
     },
     "metadata": {},
     "output_type": "display_data"
    },
    {
     "data": {
      "application/vnd.plotly.v1+json": {
       "config": {
        "plotlyServerURL": "https://plot.ly"
       },
       "data": [
        {
         "boxmean": "sd",
         "marker": {
          "color": "indianred"
         },
         "name": "Unemployment",
         "type": "box",
         "y": {
          "bdata": "g8DKoUU2IECDwMqhRTYgQIPAyqFFNiBAg8DKoUU2IECDwMqhRTYgQIPAyqFFNiBAg8DKoUU2IECDwMqhRTYgQAisHFpkOx9ACKwcWmQ7H0AIrBxaZDsfQAisHFpkOx9ACKwcWmQ7H0AIrBxaZDsfQAisHFpkOx9ACKwcWmQ7H0AIrBxaZDsfQAisHFpkOx9ACKwcWmQ7H0AIrBxaZDsfQAisHFpkOx9A2c73U+MlH0DZzvdT4yUfQNnO91PjJR9A2c73U+MlH0DZzvdT4yUfQNnO91PjJR9A2c73U+MlH0DZzvdT4yUfQNnO91PjJR9A2c73U+MlH0DZzvdT4yUfQNnO91PjJR9A2c73U+MlH0AnMQisHFofQCcxCKwcWh9AJzEIrBxaH0AnMQisHFofQCcxCKwcWh9AJzEIrBxaH0AnMQisHFofQCcxCKwcWh9AJzEIrBxaH0AnMQisHFofQCcxCKwcWh9AJzEIrBxaH0AnMQisHFofQCcxCKwcWh9AK4cW2c73HkArhxbZzvceQCuHFtnO9x5AK4cW2c73HkArhxbZzvceQCuHFtnO9x5AK4cW2c73HkArhxbZzvceQCuHFtnO9x5AK4cW2c73HkArhxbZzvceQCuHFtnO9x5A7nw/NV66HkDufD81XroeQO58PzVeuh5A7nw/NV66HkDufD81XroeQO58PzVeuh5A7nw/NV66HkDufD81XroeQO58PzVeuh5A7nw/NV66HkDufD81XroeQO58PzVeuh5A7nw/NV66HkAMAiuHFtkfQAwCK4cW2R9ADAIrhxbZH0AMAiuHFtkfQAwCK4cW2R9ADAIrhxbZH0AMAiuHFtkfQAwCK4cW2R9ADAIrhxbZH0AMAiuHFtkfQAwCK4cW2R9ADAIrhxbZH0AMAiuHFtkfQAwCK4cW2R9AEFg5tMh2H0AQWDm0yHYfQBBYObTIdh9AEFg5tMh2H0AQWDm0yHYfQBBYObTIdh9AEFg5tMh2H0AQWDm0yHYfQBBYObTIdh9AEFg5tMh2H0AQWDm0yHYfQBBYObTIdh9AEFg5tMh2H0AxCKwcWmQdQDEIrBxaZB1AMQisHFpkHUAxCKwcWmQdQDEIrBxaZB1AMQisHFpkHUAxCKwcWmQdQDEIrBxaZB1AMQisHFpkHUAxCKwcWmQdQDEIrBxaZB1AMQisHFpkHUAxCKwcWmQdQN9PjZdukhxA30+Nl26SHEDfT42XbpIcQN9PjZdukhxA30+Nl26SHEDfT42XbpIcQN9PjZdukhxA30+Nl26SHEDfT42XbpIcQN9PjZdukhxA30+Nl26SHEDfT42XbpIcQN9PjZdukhxAbxKDwMqhG0BvEoPAyqEbQG8Sg8DKoRtAbxKDwMqhG0BvEoPAyqEbQG8Sg8DKoRtAbxKDwMqhG0BvEoPAyqEbQG8Sg8DKoRtAbxKDwMqhG0BvEoPAyqEbQG8Sg8DKoRtAbxKDwMqhG0CYbhKDwEoaQJhuEoPAShpAmG4Sg8BKGkCYbhKDwEoaQNnO91PjpSBA2c73U+OlIEDZzvdT46UgQNnO91PjpSBA2c73U+OlIEDZzvdT46UgQNnO91PjpSBA2c73U+OlIEBmZmZmZmYgQGZmZmZmZiBAZmZmZmZmIEBmZmZmZmYgQGZmZmZmZiBAZmZmZmZmIEBmZmZmZmYgQGZmZmZmZiBAZmZmZmZmIEBmZmZmZmYgQGZmZmZmZiBAZmZmZmZmIEBmZmZmZmYgQKabxCCwMiBAppvEILAyIECmm8QgsDIgQKabxCCwMiBAppvEILAyIECmm8QgsDIgQKabxCCwMiBAppvEILAyIECmm8QgsDIgQKabxCCwMiBAppvEILAyIECmm8QgsDIgQKabxCCwMiBA+n5qvHRTIED6fmq8dFMgQPp+arx0UyBA+n5qvHRTIED6fmq8dFMgQPp+arx0UyBA+n5qvHRTIED6fmq8dFMgQPp+arx0UyBA+n5qvHRTIED6fmq8dFMgQPp+arx0UyBA+n5qvHRTIED6fmq8dFMgQHWTGARWDiBAdZMYBFYOIEB1kxgEVg4gQHWTGARWDiBAdZMYBFYOIEB1kxgEVg4gQHWTGARWDiBAdZMYBFYOIEB1kxgEVg4gQHWTGARWDiBAdZMYBFYOIEB1kxgEVg4gQNNNYhBYuR9A001iEFi5H0DTTWIQWLkfQNNNYhBYuR9A001iEFi5H0DTTWIQWLkfQNNNYhBYuR9A001iEFi5H0DTTWIQWLkfQNNNYhBYuR9A001iEFi5H0DTTWIQWLkfQNNNYhBYuR9AnMQgsHJoH0CcxCCwcmgfQJzEILByaB9AnMQgsHJoH0CcxCCwcmgfQJzEILByaB9AnMQgsHJoH0CcxCCwcmgfQJzEILByaB9AnMQgsHJoH0CcxCCwcmgfQJzEILByaB9AnMQgsHJoH0CcxCCwcmgfQN0kBoGVwx1A3SQGgZXDHUDdJAaBlcMdQN0kBoGVwx1A3SQGgZXDHUDdJAaBlcMdQN0kBoGVwx1A3SQGgZXDHUDdJAaBlcMdQN0kBoGVwx1A3SQGgZXDHUDdJAaBlcMdQN0kBoGVwx1A7nw/NV46HEDufD81XjocQO58PzVeOhxA7nw/NV46HEDufD81XjocQO58PzVeOhxA7nw/NV46HEDufD81XjocQO58PzVeOhxA7nw/NV46HEDufD81XjocQO58PzVeOhxA7nw/NV46HECq8dJNYpAbQKrx0k1ikBtAqvHSTWKQG0Cq8dJNYpAbQKrx0k1ikBtAqvHSTWKQG0Cq8dJNYpAbQKrx0k1ikBtAqvHSTWKQG0Cq8dJNYpAbQKrx0k1ikBtAqvHSTWKQG0Cq8dJNYpAbQMP1KFyPQhpAw/UoXI9CGkDD9Shcj0IaQMP1KFyPQhpAw/UoXI9CGkDD9Shcj0IaQMP1KFyPQhpAw/UoXI9CGkDD9Shcj0IaQMP1KFyPQhpAw/UoXI9CGkDD9Shcj0IaQMP1KFyPQhpArkfhehSuGECuR+F6FK4YQK5H4XoUrhhArkfhehSuGEBGtvP91HgdQEa28/3UeB1ARrbz/dR4HUBGtvP91HgdQEa28/3UeB1ARrbz/dR4HUBGtvP91HgdQEa28/3UeB1ArBxaZDtfHUCsHFpkO18dQKwcWmQ7Xx1ArBxaZDtfHUCsHFpkO18dQKwcWmQ7Xx1ArBxaZDtfHUCsHFpkO18dQKwcWmQ7Xx1ArBxaZDtfHUCsHFpkO18dQKwcWmQ7Xx1ArBxaZDtfHUD8qfHSTWIdQPyp8dJNYh1A/Knx0k1iHUD8qfHSTWIdQPyp8dJNYh1A/Knx0k1iHUD8qfHSTWIdQPyp8dJNYh1A/Knx0k1iHUD8qfHSTWIdQPyp8dJNYh1A/Knx0k1iHUD8qfHSTWIdQKjGSzeJQR5AqMZLN4lBHkCoxks3iUEeQKjGSzeJQR5AqMZLN4lBHkCoxks3iUEeQKjGSzeJQR5AqMZLN4lBHkCoxks3iUEeQKjGSzeJQR5AqMZLN4lBHkCoxks3iUEeQKjGSzeJQR5AqMZLN4lBHkBOYhBYOTQeQE5iEFg5NB5ATmIQWDk0HkBOYhBYOTQeQE5iEFg5NB5ATmIQWDk0HkBOYhBYOTQeQE5iEFg5NB5ATmIQWDk0HkBOYhBYOTQeQE5iEFg5NB5ATmIQWDk0HkCyne+nxkseQLKd76fGSx5Asp3vp8ZLHkCyne+nxkseQLKd76fGSx5Asp3vp8ZLHkCyne+nxkseQLKd76fGSx5Asp3vp8ZLHkCyne+nxkseQLKd76fGSx5Asp3vp8ZLHkCyne+nxkseQPhT46WbRB5A+FPjpZtEHkD4U+Olm0QeQPhT46WbRB5A+FPjpZtEHkD4U+Olm0QeQPhT46WbRB5A+FPjpZtEHkD4U+Olm0QeQPhT46WbRB5A+FPjpZtEHkD4U+Olm0QeQPhT46WbRB5A+FPjpZtEHkB9PzVeuskcQH0/NV66yRxAfT81XrrJHEB9PzVeuskcQH0/NV66yRxAfT81XrrJHEB9PzVeuskcQH0/NV66yRxAfT81XrrJHEB9PzVeuskcQH0/NV66yRxAfT81XrrJHEB9PzVeuskcQKJFtvP9VBtAokW28/1UG0CiRbbz/VQbQKJFtvP9VBtAokW28/1UG0CiRbbz/VQbQKJFtvP9VBtAokW28/1UG0CiRbbz/VQbQKJFtvP9VBtAokW28/1UG0CiRbbz/VQbQKJFtvP9VBtADi2yne+nGkAOLbKd76caQA4tsp3vpxpADi2yne+nGkAOLbKd76caQA4tsp3vpxpADi2yne+nGkAOLbKd76caQA4tsp3vpxpADi2yne+nGkAOLbKd76caQA4tsp3vpxpADi2yne+nGkC8dJMYBFYZQLx0kxgEVhlAvHSTGARWGUC8dJMYBFYZQLx0kxgEVhlAvHSTGARWGUC8dJMYBFYZQLx0kxgEVhlAvHSTGARWGUC8dJMYBFYZQLx0kxgEVhlAvHSTGARWGUC8dJMYBFYZQIlBYOXQIhhAiUFg5dAiGECJQWDl0CIYQIlBYOXQIhhA5dAi2/k+IUDl0CLb+T4hQOXQItv5PiFA5dAi2/k+IUDl0CLb+T4hQOXQItv5PiFA5dAi2/k+IUDl0CLb+T4hQC/dJAaBlR9AL90kBoGVH0Av3SQGgZUfQC/dJAaBlR9AL90kBoGVH0Av3SQGgZUfQC/dJAaBlR9AL90kBoGVH0Av3SQGgZUfQC/dJAaBlR9AL90kBoGVH0Av3SQGgZUfQC/dJAaBlR9AsHJoke18HUCwcmiR7XwdQLByaJHtfB1AsHJoke18HUCwcmiR7XwdQLByaJHtfB1AsHJoke18HUCwcmiR7XwdQLByaJHtfB1AsHJoke18HUCwcmiR7XwdQLByaJHtfB1AsHJoke18HUA1XrpJDIIcQDVeukkMghxANV66SQyCHEA1XrpJDIIcQDVeukkMghxANV66SQyCHEA1XrpJDIIcQDVeukkMghxANV66SQyCHEA1XrpJDIIcQDVeukkMghxANV66SQyCHEA1XrpJDIIcQDVeukkMghxACtejcD0KGkAK16NwPQoaQArXo3A9ChpACtejcD0KGkAK16NwPQoaQArXo3A9ChpACtejcD0KGkAK16NwPQoaQArXo3A9ChpACtejcD0KGkAK16NwPQoaQArXo3A9ChpAYhBYObTIF0BiEFg5tMgXQGIQWDm0yBdAYhBYObTIF0BiEFg5tMgXQGIQWDm0yBdAYhBYObTIF0BiEFg5tMgXQGIQWDm0yBdAYhBYObTIF0BiEFg5tMgXQGIQWDm0yBdAYhBYObTIF0D6fmq8dJMWQPp+arx0kxZA+n5qvHSTFkD6fmq8dJMWQPp+arx0kxZA+n5qvHSTFkD6fmq8dJMWQPp+arx0kxZA+n5qvHSTFkD6fmq8dJMWQPp+arx0kxZA+n5qvHSTFkD6fmq8dJMWQPp+arx0kxZA30+Nl26SFEDfT42XbpIUQN9PjZdukhRA30+Nl26SFEDfT42XbpIUQN9PjZdukhRA30+Nl26SFEDfT42XbpIUQN9PjZdukhRA30+Nl26SFEDfT42XbpIUQN9PjZdukhRA30+Nl26SFEAhsHJokW0SQCGwcmiRbRJAIbByaJFtEkAhsHJokW0SQCGwcmiRbRJAIbByaJFtEkAhsHJokW0SQCGwcmiRbRJAIbByaJFtEkAhsHJokW0SQCGwcmiRbRJAIbByaJFtEkAhsHJokW0SQAisHFpkOxFACKwcWmQ7EUAIrBxaZDsRQAisHFpkOxFACKwcWmQ7EUAIrBxaZDsRQAisHFpkOxFACKwcWmQ7EUAIrBxaZDsRQAisHFpkOxFACKwcWmQ7EUAIrBxaZDsRQAisHFpkOxFAAiuHFtlOEEACK4cW2U4QQAIrhxbZThBAAiuHFtlOEEACK4cW2U4QQAIrhxbZThBAAiuHFtlOEEACK4cW2U4QQAIrhxbZThBAAiuHFtlOEEACK4cW2U4QQAIrhxbZThBAAiuHFtlOEEDVeOkmMQgPQNV46SYxCA9A1XjpJjEID0DVeOkmMQgPQN0kBoGVQxpA3SQGgZVDGkDdJAaBlUMaQN0kBoGVQxpA3SQGgZVDGkDdJAaBlUMaQN0kBoGVQxpA3SQGgZVDGkBcj8L1KNwZQFyPwvUo3BlAXI/C9SjcGUBcj8L1KNwZQFyPwvUo3BlAXI/C9SjcGUBcj8L1KNwZQFyPwvUo3BlAXI/C9SjcGUBcj8L1KNwZQFyPwvUo3BlAXI/C9SjcGUBcj8L1KNwZQJZDi2zn+xlAlkOLbOf7GUCWQ4ts5/sZQJZDi2zn+xlAlkOLbOf7GUCWQ4ts5/sZQJZDi2zn+xlAlkOLbOf7GUCWQ4ts5/sZQJZDi2zn+xlAlkOLbOf7GUCWQ4ts5/sZQJZDi2zn+xlA30+Nl24SG0DfT42XbhIbQN9PjZduEhtA30+Nl24SG0DfT42XbhIbQN9PjZduEhtA30+Nl24SG0DfT42XbhIbQN9PjZduEhtA30+Nl24SG0DfT42XbhIbQN9PjZduEhtA30+Nl24SG0DfT42XbhIbQPCnxks3iRpA8KfGSzeJGkDwp8ZLN4kaQPCnxks3iRpA8KfGSzeJGkDwp8ZLN4kaQPCnxks3iRpA8KfGSzeJGkDwp8ZLN4kaQPCnxks3iRpA8KfGSzeJGkDwp8ZLN4kaQNv5fmq89BlA2/l+arz0GUDb+X5qvPQZQNv5fmq89BlA2/l+arz0GUDb+X5qvPQZQNv5fmq89BlA2/l+arz0GUDb+X5qvPQZQNv5fmq89BlA2/l+arz0GUDb+X5qvPQZQNv5fmq89BlABFYOLbIdGkAEVg4tsh0aQARWDi2yHRpABFYOLbIdGkAEVg4tsh0aQARWDi2yHRpABFYOLbIdGkAEVg4tsh0aQARWDi2yHRpABFYOLbIdGkAEVg4tsh0aQARWDi2yHRpABFYOLbIdGkAEVg4tsh0aQDMzMzMzMxlAMzMzMzMzGUAzMzMzMzMZQDMzMzMzMxlAMzMzMzMzGUAzMzMzMzMZQDMzMzMzMxlAMzMzMzMzGUAzMzMzMzMZQDMzMzMzMxlAMzMzMzMzGUAzMzMzMzMZQDMzMzMzMxlAEoPAyqHFF0ASg8DKocUXQBKDwMqhxRdAEoPAyqHFF0ASg8DKocUXQBKDwMqhxRdAEoPAyqHFF0ASg8DKocUXQBKDwMqhxRdAEoPAyqHFF0ASg8DKocUXQBKDwMqhxRdAEoPAyqHFF0BOYhBYOTQXQE5iEFg5NBdATmIQWDk0F0BOYhBYOTQXQE5iEFg5NBdATmIQWDk0F0BOYhBYOTQXQE5iEFg5NBdATmIQWDk0F0BOYhBYOTQXQE5iEFg5NBdATmIQWDk0F0BOYhBYOTQXQLbz/dR4aRZAtvP91HhpFkC28/3UeGkWQLbz/dR4aRZAtvP91HhpFkC28/3UeGkWQLbz/dR4aRZAtvP91HhpFkC28/3UeGkWQLbz/dR4aRZAtvP91HhpFkC28/3UeGkWQLbz/dR4aRZA46WbxCCwFUDjpZvEILAVQOOlm8QgsBVA46WbxCCwFUDwp8ZLNwkdQPCnxks3CR1A8KfGSzcJHUDwp8ZLNwkdQPCnxks3CR1A8KfGSzcJHUDwp8ZLNwkdQPCnxks3CR1Ake18PzVeHECR7Xw/NV4cQJHtfD81XhxAke18PzVeHECR7Xw/NV4cQJHtfD81XhxAke18PzVeHECR7Xw/NV4cQJHtfD81XhxAke18PzVeHECR7Xw/NV4cQJHtfD81XhxAke18PzVeHEAxCKwcWuQbQDEIrBxa5BtAMQisHFrkG0AxCKwcWuQbQDEIrBxa5BtAMQisHFrkG0AxCKwcWuQbQDEIrBxa5BtAMQisHFrkG0AxCKwcWuQbQDEIrBxa5BtAMQisHFrkG0AxCKwcWuQbQLpJDAIrBxxAukkMAisHHEC6SQwCKwccQLpJDAIrBxxAukkMAisHHEC6SQwCKwccQLpJDAIrBxxAukkMAisHHEC6SQwCKwccQLpJDAIrBxxAukkMAisHHEC6SQwCKwccQLpJDAIrBxxAukkMAisHHEA730+Nl24bQDvfT42XbhtAO99PjZduG0A730+Nl24bQDvfT42XbhtAO99PjZduG0A730+Nl24bQDvfT42XbhtAO99PjZduG0A730+Nl24bQDvfT42XbhtAO99PjZduG0DsUbgehWsbQOxRuB6FaxtA7FG4HoVrG0DsUbgehWsbQOxRuB6FaxtA7FG4HoVrG0DsUbgehWsbQOxRuB6FaxtA7FG4HoVrG0DsUbgehWsbQOxRuB6FaxtA7FG4HoVrG0DsUbgehWsbQDMzMzMzsxtAMzMzMzOzG0AzMzMzM7MbQDMzMzMzsxtAMzMzMzOzG0AzMzMzM7MbQDMzMzMzsxtAMzMzMzOzG0AzMzMzM7MbQDMzMzMzsxtAMzMzMzOzG0AzMzMzM7MbQDMzMzMzsxtAMzMzMzOzG0BOYhBYOTQaQE5iEFg5NBpATmIQWDk0GkBOYhBYOTQaQE5iEFg5NBpATmIQWDk0GkBOYhBYOTQaQE5iEFg5NBpATmIQWDk0GkBOYhBYOTQaQE5iEFg5NBpATmIQWDk0GkBOYhBYOTQaQLpJDAIrhxhAukkMAiuHGEC6SQwCK4cYQLpJDAIrhxhAukkMAiuHGEC6SQwCK4cYQLpJDAIrhxhAukkMAiuHGEC6SQwCK4cYQLpJDAIrhxhAukkMAiuHGEC6SQwCK4cYQLpJDAIrhxhAQmDl0CLbF0BCYOXQItsXQEJg5dAi2xdAQmDl0CLbF0BCYOXQItsXQEJg5dAi2xdAQmDl0CLbF0BCYOXQItsXQEJg5dAi2xdAQmDl0CLbF0BCYOXQItsXQEJg5dAi2xdAQmDl0CLbF0B56SYxCKwWQHnpJjEIrBZAeekmMQisFkB56SYxCKwWQHnpJjEIrBZAeekmMQisFkB56SYxCKwWQHnpJjEIrBZAeekmMQisFkB56SYxCKwWQHnpJjEIrBZAeekmMQisFkB56SYxCKwWQDeJQWDlUBVAN4lBYOVQFUA3iUFg5VAVQDeJQWDlUBVAukkMAisHIkC6SQwCKwciQLpJDAIrByJAukkMAisHIkC6SQwCKwciQLpJDAIrByJAukkMAisHIkC6SQwCKwciQJMYBFYO7SFAkxgEVg7tIUCTGARWDu0hQJMYBFYO7SFAkxgEVg7tIUCTGARWDu0hQJMYBFYO7SFAkxgEVg7tIUCTGARWDu0hQJMYBFYO7SFAkxgEVg7tIUCTGARWDu0hQJMYBFYO7SFAYhBYObQIIkBiEFg5tAgiQGIQWDm0CCJAYhBYObQIIkBiEFg5tAgiQGIQWDm0CCJAYhBYObQIIkBiEFg5tAgiQGIQWDm0CCJAYhBYObQIIkBiEFg5tAgiQGIQWDm0CCJAYhBYObQIIkCgGi/dJEYiQKAaL90kRiJAoBov3SRGIkCgGi/dJEYiQKAaL90kRiJAoBov3SRGIkCgGi/dJEYiQKAaL90kRiJAoBov3SRGIkCgGi/dJEYiQKAaL90kRiJAoBov3SRGIkCgGi/dJEYiQKAaL90kRiJAiUFg5dCiIUCJQWDl0KIhQIlBYOXQoiFAiUFg5dCiIUCJQWDl0KIhQIlBYOXQoiFAiUFg5dCiIUCJQWDl0KIhQIlBYOXQoiFAiUFg5dCiIUCJQWDl0KIhQIlBYOXQoiFAcT0K16MwIUBxPQrXozAhQHE9CtejMCFAcT0K16MwIUBxPQrXozAhQHE9CtejMCFAcT0K16MwIUBxPQrXozAhQHE9CtejMCFAcT0K16MwIUBxPQrXozAhQHE9CtejMCFAcT0K16MwIUBYObTIdj4hQFg5tMh2PiFAWDm0yHY+IUBYObTIdj4hQFg5tMh2PiFAWDm0yHY+IUBYObTIdj4hQFg5tMh2PiFAWDm0yHY+IUBYObTIdj4hQFg5tMh2PiFAWDm0yHY+IUBYObTIdj4hQFg5tMh2PiFALbKd76cGIUAtsp3vpwYhQC2yne+nBiFALbKd76cGIUAtsp3vpwYhQC2yne+nBiFALbKd76cGIUAtsp3vpwYhQC2yne+nBiFALbKd76cGIUAtsp3vpwYhQC2yne+nBiFALbKd76cGIUBQjZduEoMgQFCNl24SgyBAUI2XbhKDIEBQjZduEoMgQFCNl24SgyBAUI2XbhKDIEBQjZduEoMgQFCNl24SgyBAUI2XbhKDIEBQjZduEoMgQFCNl24SgyBAUI2XbhKDIEBQjZduEoMgQK5H4XoULiBArkfhehQuIECuR+F6FC4gQK5H4XoULiBArkfhehQuIECuR+F6FC4gQK5H4XoULiBArkfhehQuIECuR+F6FC4gQK5H4XoULiBArkfhehQuIECuR+F6FC4gQK5H4XoULiBAsHJoke18H0CwcmiR7XwfQLByaJHtfB9AsHJoke18H0CwcmiR7XwfQLByaJHtfB9AsHJoke18H0CwcmiR7XwfQLByaJHtfB9AsHJoke18H0CwcmiR7XwfQLByaJHtfB9AsHJoke18H0DufD81XjoeQO58PzVeOh5A7nw/NV46HkDufD81XjoeQBkEVg4tMhlAGQRWDi0yGUAZBFYOLTIZQBkEVg4tMhlAGQRWDi0yGUAZBFYOLTIZQBkEVg4tMhlAGQRWDi0yGUApXI/C9SgZQClcj8L1KBlAKVyPwvUoGUApXI/C9SgZQClcj8L1KBlAKVyPwvUoGUApXI/C9SgZQClcj8L1KBlAKVyPwvUoGUApXI/C9SgZQClcj8L1KBlAKVyPwvUoGUApXI/C9SgZQMP1KFyPQhlAw/UoXI9CGUDD9Shcj0IZQMP1KFyPQhlAw/UoXI9CGUDD9Shcj0IZQMP1KFyPQhlAw/UoXI9CGUDD9Shcj0IZQMP1KFyPQhlAw/UoXI9CGUDD9Shcj0IZQMP1KFyPQhlACKwcWmS7GUAIrBxaZLsZQAisHFpkuxlACKwcWmS7GUAIrBxaZLsZQAisHFpkuxlACKwcWmS7GUAIrBxaZLsZQAisHFpkuxlACKwcWmS7GUAIrBxaZLsZQAisHFpkuxlACKwcWmS7GUAIrBxaZLsZQD81XrpJDBlAPzVeukkMGUA/NV66SQwZQD81XrpJDBlAPzVeukkMGUA/NV66SQwZQD81XrpJDBlAPzVeukkMGUA/NV66SQwZQD81XrpJDBlAPzVeukkMGUA/NV66SQwZQOOlm8QgMBlA46WbxCAwGUDjpZvEIDAZQOOlm8QgMBlA46WbxCAwGUDjpZvEIDAZQOOlm8QgMBlA46WbxCAwGUDjpZvEIDAZQOOlm8QgMBlA46WbxCAwGUDjpZvEIDAZQOOlm8QgMBlAMzMzMzOzGUAzMzMzM7MZQDMzMzMzsxlAMzMzMzOzGUAzMzMzM7MZQDMzMzMzsxlAMzMzMzOzGUAzMzMzM7MZQDMzMzMzsxlAMzMzMzOzGUAzMzMzM7MZQDMzMzMzsxlAMzMzMzOzGUAzMzMzM7MZQMuhRbbzfRhAy6FFtvN9GEDLoUW2830YQMuhRbbzfRhAy6FFtvN9GEDLoUW2830YQMuhRbbzfRhAy6FFtvN9GEDLoUW2830YQMuhRbbzfRhAy6FFtvN9GEDLoUW2830YQMuhRbbzfRhAzczMzMxMF0DNzMzMzEwXQM3MzMzMTBdAzczMzMxMF0DNzMzMzEwXQM3MzMzMTBdAzczMzMxMF0DNzMzMzEwXQM3MzMzMTBdAzczMzMxMF0DNzMzMzEwXQM3MzMzMTBdAzczMzMxMF0Ce76fGS7cWQJ7vp8ZLtxZAnu+nxku3FkCe76fGS7cWQJ7vp8ZLtxZAnu+nxku3FkCe76fGS7cWQJ7vp8ZLtxZAnu+nxku3FkCe76fGS7cWQJ7vp8ZLtxZAnu+nxku3FkCe76fGS7cWQLTIdr6fmhVAtMh2vp+aFUC0yHa+n5oVQLTIdr6fmhVAtMh2vp+aFUC0yHa+n5oVQLTIdr6fmhVAtMh2vp+aFUC0yHa+n5oVQLTIdr6fmhVAtMh2vp+aFUC0yHa+n5oVQLTIdr6fmhVA5dAi2/l+FEDl0CLb+X4UQOXQItv5fhRA5dAi2/l+FEApXI/C9agZQClcj8L1qBlAKVyPwvWoGUApXI/C9agZQClcj8L1qBlAKVyPwvWoGUApXI/C9agZQClcj8L1qBlA8KfGSzeJGUDwp8ZLN4kZQPCnxks3iRlA8KfGSzeJGUDwp8ZLN4kZQPCnxks3iRlA8KfGSzeJGUDwp8ZLN4kZQPCnxks3iRlA8KfGSzeJGUDwp8ZLN4kZQPCnxks3iRlA8KfGSzeJGUD4U+Olm8QZQPhT46WbxBlA+FPjpZvEGUD4U+Olm8QZQPhT46WbxBlA+FPjpZvEGUD4U+Olm8QZQPhT46WbxBlA+FPjpZvEGUD4U+Olm8QZQPhT46WbxBlA+FPjpZvEGUD4U+Olm8QZQD0K16NwPRpAPQrXo3A9GkA9CtejcD0aQD0K16NwPRpAPQrXo3A9GkA9CtejcD0aQD0K16NwPRpAPQrXo3A9GkA9CtejcD0aQD0K16NwPRpAPQrXo3A9GkA9CtejcD0aQD0K16NwPRpAPQrXo3A9GkBEi2zn+6kZQESLbOf7qRlARIts5/upGUBEi2zn+6kZQESLbOf7qRlARIts5/upGUBEi2zn+6kZQESLbOf7qRlARIts5/upGUBEi2zn+6kZQESLbOf7qRlARIts5/upGUCF61G4HoUZQIXrUbgehRlAhetRuB6FGUCF61G4HoUZQIXrUbgehRlAhetRuB6FGUCF61G4HoUZQIXrUbgehRlAhetRuB6FGUCF61G4HoUZQIXrUbgehRlAhetRuB6FGUCF61G4HoUZQARWDi2ynRlABFYOLbKdGUAEVg4tsp0ZQARWDi2ynRlABFYOLbKdGUAEVg4tsp0ZQARWDi2ynRlABFYOLbKdGUAEVg4tsp0ZQARWDi2ynRlABFYOLbKdGUAEVg4tsp0ZQARWDi2ynRlABFYOLbKdGUCe76fGSzcYQJ7vp8ZLNxhAnu+nxks3GECe76fGSzcYQJ7vp8ZLNxhAnu+nxks3GECe76fGSzcYQJ7vp8ZLNxhAnu+nxks3GECe76fGSzcYQJ7vp8ZLNxhAnu+nxks3GECe76fGSzcYQF66SQwCqxZAXrpJDAKrFkBeukkMAqsWQF66SQwCqxZAXrpJDAKrFkBeukkMAqsWQF66SQwCqxZAXrpJDAKrFkBeukkMAqsWQF66SQwCqxZAXrpJDAKrFkBeukkMAqsWQF66SQwCqxZADi2yne8nFkAOLbKd7ycWQA4tsp3vJxZADi2yne8nFkAOLbKd7ycWQA4tsp3vJxZADi2yne8nFkAOLbKd7ycWQA4tsp3vJxZADi2yne8nFkAOLbKd7ycWQA4tsp3vJxZADi2yne8nFkDP91PjpRsVQM/3U+OlGxVAz/dT46UbFUDP91PjpRsVQM/3U+OlGxVAz/dT46UbFUDP91PjpRsVQM/3U+OlGxVAz/dT46UbFUDP91PjpRsVQM/3U+OlGxVAz/dT46UbFUDP91PjpRsVQDeJQWDl0BNAN4lBYOXQE0A3iUFg5dATQDeJQWDl0BNASOF6FK6HI0BI4XoUrocjQEjhehSuhyNASOF6FK6HI0BI4XoUrocjQEjhehSuhyNASOF6FK6HI0BI4XoUrocjQD81XrpJDCNAPzVeukkMI0A/NV66SQwjQD81XrpJDCNAPzVeukkMI0A/NV66SQwjQD81XrpJDCNAPzVeukkMI0A/NV66SQwjQD81XrpJDCNAPzVeukkMI0A/NV66SQwjQD81XrpJDCNA2c73U+NlIkDZzvdT42UiQNnO91PjZSJA2c73U+NlIkDZzvdT42UiQNnO91PjZSJA2c73U+NlIkDZzvdT42UiQNnO91PjZSJA2c73U+NlIkDZzvdT42UiQNnO91PjZSJA2c73U+NlIkCoxks3iQEiQKjGSzeJASJAqMZLN4kBIkCoxks3iQEiQKjGSzeJASJAqMZLN4kBIkCoxks3iQEiQKjGSzeJASJAqMZLN4kBIkCoxks3iQEiQKjGSzeJASJAqMZLN4kBIkCoxks3iQEiQKjGSzeJASJAsHJoke18IUCwcmiR7XwhQLByaJHtfCFAsHJoke18IUCwcmiR7XwhQLByaJHtfCFAsHJoke18IUCwcmiR7XwhQLByaJHtfCFAsHJoke18IUCwcmiR7XwhQLByaJHtfCFAsHJoke38IECwcmiR7fwgQLByaJHt/CBAsHJoke38IECwcmiR7fwgQLByaJHt/CBAsHJoke38IECwcmiR7fwgQLByaJHt/CBAsHJoke38IECwcmiR7fwgQLByaJHt/CBAsHJoke38IEDdJAaBlYMgQN0kBoGVgyBA3SQGgZWDIEDdJAaBlYMgQN0kBoGVgyBA3SQGgZWDIEDdJAaBlYMgQN0kBoGVgyBA3SQGgZWDIEDdJAaBlYMgQN0kBoGVgyBA3SQGgZWDIEDdJAaBlYMgQN0kBoGVgyBA5dAi2/l+H0Dl0CLb+X4fQOXQItv5fh9A5dAi2/l+H0Dl0CLb+X4fQOXQItv5fh9A5dAi2/l+H0Dl0CLb+X4fQOXQItv5fh9A5dAi2/l+H0Dl0CLb+X4fQOXQItv5fh9A5dAi2/l+H0CuR+F6FC4eQK5H4XoULh5ArkfhehQuHkCuR+F6FC4eQK5H4XoULh5ArkfhehQuHkCuR+F6FC4eQK5H4XoULh5ArkfhehQuHkCuR+F6FC4eQK5H4XoULh5ArkfhehQuHkCuR+F6FC4eQLpJDAIrhx1AukkMAiuHHUC6SQwCK4cdQLpJDAIrhx1AukkMAiuHHUC6SQwCK4cdQLpJDAIrhx1AukkMAiuHHUC6SQwCK4cdQLpJDAIrhx1AukkMAiuHHUC6SQwCK4cdQLpJDAIrhx1ArkfhehSuHECuR+F6FK4cQK5H4XoUrhxArkfhehSuHECuR+F6FK4cQK5H4XoUrhxArkfhehSuHECuR+F6FK4cQK5H4XoUrhxArkfhehSuHECuR+F6FK4cQK5H4XoUrhxArkfhehSuHEASg8DKocUbQBKDwMqhxRtAEoPAyqHFG0ASg8DKocUbQEa28/3UeB1ARrbz/dR4HUBGtvP91HgdQEa28/3UeB1ARrbz/dR4HUBGtvP91HgdQEa28/3UeB1ARrbz/dR4HUCsHFpkO18dQKwcWmQ7Xx1ArBxaZDtfHUCsHFpkO18dQKwcWmQ7Xx1ArBxaZDtfHUCsHFpkO18dQKwcWmQ7Xx1ArBxaZDtfHUCsHFpkO18dQKwcWmQ7Xx1ArBxaZDtfHUCsHFpkO18dQPyp8dJNYh1A/Knx0k1iHUD8qfHSTWIdQPyp8dJNYh1A/Knx0k1iHUD8qfHSTWIdQPyp8dJNYh1A/Knx0k1iHUD8qfHSTWIdQPyp8dJNYh1A/Knx0k1iHUD8qfHSTWIdQPyp8dJNYh1AqMZLN4lBHkCoxks3iUEeQKjGSzeJQR5AqMZLN4lBHkCoxks3iUEeQKjGSzeJQR5AqMZLN4lBHkCoxks3iUEeQKjGSzeJQR5AqMZLN4lBHkCoxks3iUEeQKjGSzeJQR5AqMZLN4lBHkCoxks3iUEeQE5iEFg5NB5ATmIQWDk0HkBOYhBYOTQeQE5iEFg5NB5ATmIQWDk0HkBOYhBYOTQeQE5iEFg5NB5ATmIQWDk0HkBOYhBYOTQeQE5iEFg5NB5ATmIQWDk0HkBOYhBYOTQeQLKd76fGSx5Asp3vp8ZLHkCyne+nxkseQLKd76fGSx5Asp3vp8ZLHkCyne+nxkseQLKd76fGSx5Asp3vp8ZLHkCyne+nxkseQLKd76fGSx5Asp3vp8ZLHkCyne+nxkseQLKd76fGSx5A+FPjpZtEHkD4U+Olm0QeQPhT46WbRB5A+FPjpZtEHkD4U+Olm0QeQPhT46WbRB5A+FPjpZtEHkD4U+Olm0QeQPhT46WbRB5A+FPjpZtEHkD4U+Olm0QeQPhT46WbRB5A+FPjpZtEHkD4U+Olm0QeQH0/NV66yRxAfT81XrrJHEB9PzVeuskcQH0/NV66yRxAfT81XrrJHEB9PzVeuskcQH0/NV66yRxAfT81XrrJHEB9PzVeuskcQH0/NV66yRxAfT81XrrJHEB9PzVeuskcQH0/NV66yRxAokW28/1UG0CiRbbz/VQbQKJFtvP9VBtAokW28/1UG0CiRbbz/VQbQKJFtvP9VBtAokW28/1UG0CiRbbz/VQbQKJFtvP9VBtAokW28/1UG0CiRbbz/VQbQKJFtvP9VBtAokW28/1UG0AOLbKd76caQA4tsp3vpxpADi2yne+nGkAOLbKd76caQA4tsp3vpxpADi2yne+nGkAOLbKd76caQA4tsp3vpxpADi2yne+nGkAOLbKd76caQA4tsp3vpxpADi2yne+nGkAOLbKd76caQLx0kxgEVhlAvHSTGARWGUC8dJMYBFYZQLx0kxgEVhlAvHSTGARWGUC8dJMYBFYZQLx0kxgEVhlAvHSTGARWGUC8dJMYBFYZQLx0kxgEVhlAvHSTGARWGUC8dJMYBFYZQLx0kxgEVhlAiUFg5dAiGECJQWDl0CIYQIlBYOXQIhhAiUFg5dAiGEAzMzMzM/MrQDMzMzMz8ytAMzMzMzPzK0AzMzMzM/MrQDMzMzMz8ytAMzMzMzPzK0AzMzMzM/MrQDMzMzMz8ytAppvEILAyLECmm8QgsDIsQKabxCCwMixAppvEILAyLECmm8QgsDIsQKabxCCwMixAppvEILAyLECmm8QgsDIsQKabxCCwMixAppvEILAyLECmm8QgsDIsQKabxCCwMixAppvEILAyLEBcj8L1KFwsQFyPwvUoXCxAXI/C9ShcLEBcj8L1KFwsQFyPwvUoXCxAXI/C9ShcLEBcj8L1KFwsQFyPwvUoXCxAXI/C9ShcLEBcj8L1KFwsQFyPwvUoXCxAXI/C9ShcLEBcj8L1KFwsQMdLN4lBoCxAx0s3iUGgLEDHSzeJQaAsQMdLN4lBoCxAx0s3iUGgLEDHSzeJQaAsQMdLN4lBoCxAx0s3iUGgLEDHSzeJQaAsQMdLN4lBoCxAx0s3iUGgLEDHSzeJQaAsQMdLN4lBoCxAx0s3iUGgLECYbhKDwAosQJhuEoPACixAmG4Sg8AKLECYbhKDwAosQJhuEoPACixAmG4Sg8AKLECYbhKDwAosQJhuEoPACixAmG4Sg8AKLECYbhKDwAosQJhuEoPACixAmG4Sg8AKLEBGtvP91HgrQEa28/3UeCtARrbz/dR4K0BGtvP91HgrQEa28/3UeCtARrbz/dR4K0BGtvP91HgrQEa28/3UeCtARrbz/dR4K0BGtvP91HgrQEa28/3UeCtARrbz/dR4K0BGtvP91HgrQKjGSzeJAStAqMZLN4kBK0Coxks3iQErQKjGSzeJAStAqMZLN4kBK0Coxks3iQErQKjGSzeJAStAqMZLN4kBK0Coxks3iQErQKjGSzeJAStAqMZLN4kBK0Coxks3iQErQKjGSzeJAStAqMZLN4kBK0BI4XoUrscpQEjhehSuxylASOF6FK7HKUBI4XoUrscpQEjhehSuxylASOF6FK7HKUBI4XoUrscpQEjhehSuxylASOF6FK7HKUBI4XoUrscpQEjhehSuxylASOF6FK7HKUBI4XoUrscpQDm0yHa+XyhAObTIdr5fKEA5tMh2vl8oQDm0yHa+XyhAObTIdr5fKEA5tMh2vl8oQDm0yHa+XyhAObTIdr5fKEA5tMh2vl8oQDm0yHa+XyhAObTIdr5fKEA5tMh2vl8oQDm0yHa+XyhAGy/dJAZBJ0AbL90kBkEnQBsv3SQGQSdAGy/dJAZBJ0AbL90kBkEnQBsv3SQGQSdAGy/dJAZBJ0AbL90kBkEnQBsv3SQGQSdAGy/dJAZBJ0AbL90kBkEnQBsv3SQGQSdAGy/dJAZBJ0AnMQisHNolQCcxCKwc2iVAJzEIrBzaJUAnMQisHNolQCcxCKwc2iVAJzEIrBzaJUAnMQisHNolQCcxCKwc2iVAJzEIrBzaJUAnMQisHNolQCcxCKwc2iVAJzEIrBzaJUAnMQisHNolQNnO91PjZSRA2c73U+NlJEDZzvdT42UkQNnO91PjZSRAbxKDwMqhIEBvEoPAyqEgQG8Sg8DKoSBAbxKDwMqhIEBvEoPAyqEgQG8Sg8DKoSBAbxKDwMqhIEBvEoPAyqEgQBBYObTINiBAEFg5tMg2IEAQWDm0yDYgQBBYObTINiBAEFg5tMg2IEAQWDm0yDYgQBBYObTINiBAEFg5tMg2IEAQWDm0yDYgQBBYObTINiBAEFg5tMg2IEAQWDm0yDYgQBBYObTINiBA5/up8dLNH0Dn+6nx0s0fQOf7qfHSzR9A5/up8dLNH0Dn+6nx0s0fQOf7qfHSzR9A5/up8dLNH0Dn+6nx0s0fQOf7qfHSzR9A5/up8dLNH0Dn+6nx0s0fQOf7qfHSzR9A5/up8dLNH0CuR+F6FC4fQK5H4XoULh9ArkfhehQuH0CuR+F6FC4fQK5H4XoULh9ArkfhehQuH0CuR+F6FC4fQK5H4XoULh9ArkfhehQuH0CuR+F6FC4fQK5H4XoULh9ArkfhehQuH0CuR+F6FC4fQK5H4XoULh9A4XoUrkfhHUDhehSuR+EdQOF6FK5H4R1A4XoUrkfhHUDhehSuR+EdQOF6FK5H4R1A4XoUrkfhHUDhehSuR+EdQOF6FK5H4R1A4XoUrkfhHUDhehSuR+EdQOF6FK5H4R1AEoPAyqHFHEASg8DKocUcQBKDwMqhxRxAEoPAyqHFHEASg8DKocUcQBKDwMqhxRxAEoPAyqHFHEASg8DKocUcQBKDwMqhxRxAEoPAyqHFHEASg8DKocUcQBKDwMqhxRxAEoPAyqHFHEA1XrpJDIIbQDVeukkMghtANV66SQyCG0A1XrpJDIIbQDVeukkMghtANV66SQyCG0A1XrpJDIIbQDVeukkMghtANV66SQyCG0A1XrpJDIIbQDVeukkMghtANV66SQyCG0A1XrpJDIIbQDVeukkMghtAxSCwcmiRGUDFILByaJEZQMUgsHJokRlAxSCwcmiRGUDFILByaJEZQMUgsHJokRlAxSCwcmiRGUDFILByaJEZQMUgsHJokRlAxSCwcmiRGUDFILByaJEZQMUgsHJokRlAxSCwcmiRGUDRItv5fmoYQNEi2/l+ahhA0SLb+X5qGEDRItv5fmoYQNEi2/l+ahhA0SLb+X5qGEDRItv5fmoYQNEi2/l+ahhA0SLb+X5qGEDRItv5fmoYQNEi2/l+ahhA0SLb+X5qGEDRItv5fmoYQFyPwvUo3BdAXI/C9SjcF0Bcj8L1KNwXQFyPwvUo3BdAXI/C9SjcF0Bcj8L1KNwXQFyPwvUo3BdAXI/C9SjcF0Bcj8L1KNwXQFyPwvUo3BdAXI/C9SjcF0Bcj8L1KNwXQFyPwvUo3BdAj8L1KFwPF0CPwvUoXA8XQI/C9ShcDxdAj8L1KFwPF0CPwvUoXA8XQI/C9ShcDxdAj8L1KFwPF0CPwvUoXA8XQI/C9ShcDxdAj8L1KFwPF0CPwvUoXA8XQI/C9ShcDxdAj8L1KFwPF0CWQ4ts53sWQJZDi2znexZAlkOLbOd7FkCWQ4ts53sWQJZDi2zn+yFAlkOLbOf7IUCWQ4ts5/shQJZDi2zn+yFAlkOLbOf7IUCWQ4ts5/shQJZDi2zn+yFAlkOLbOf7IUA/NV66ScwhQD81XrpJzCFAPzVeuknMIUA/NV66ScwhQD81XrpJzCFAPzVeuknMIUA/NV66ScwhQD81XrpJzCFAPzVeuknMIUA/NV66ScwhQD81XrpJzCFAPzVeuknMIUA/NV66ScwhQCPb+X5qfCFAI9v5fmp8IUAj2/l+anwhQCPb+X5qfCFAI9v5fmp8IUAj2/l+anwhQCPb+X5qfCFAI9v5fmp8IUAj2/l+anwhQCPb+X5qfCFAI9v5fmp8IUAj2/l+anwhQCPb+X5qfCFAppvEILByIUCmm8QgsHIhQKabxCCwciFAppvEILByIUCmm8QgsHIhQKabxCCwciFAppvEILByIUCmm8QgsHIhQKabxCCwciFAppvEILByIUCmm8QgsHIhQKabxCCwciFAppvEILByIUCmm8QgsHIhQAwCK4cWGSFADAIrhxYZIUAMAiuHFhkhQAwCK4cWGSFADAIrhxYZIUAMAiuHFhkhQAwCK4cWGSFADAIrhxYZIUAMAiuHFhkhQAwCK4cWGSFADAIrhxYZIUAMAiuHFhkhQJhuEoPACiFAmG4Sg8AKIUCYbhKDwAohQJhuEoPACiFAmG4Sg8AKIUCYbhKDwAohQJhuEoPACiFAmG4Sg8AKIUCYbhKDwAohQJhuEoPACiFAmG4Sg8AKIUCYbhKDwAohQJhuEoPACiFAAAAAAABAIUAAAAAAAEAhQAAAAAAAQCFAAAAAAABAIUAAAAAAAEAhQAAAAAAAQCFAAAAAAABAIUAAAAAAAEAhQAAAAAAAQCFAAAAAAABAIUAAAAAAAEAhQAAAAAAAQCFAAAAAAABAIUAAAAAAAEAhQLKd76fGCyFAsp3vp8YLIUCyne+nxgshQLKd76fGCyFAsp3vp8YLIUCyne+nxgshQLKd76fGCyFAsp3vp8YLIUCyne+nxgshQLKd76fGCyFAsp3vp8YLIUCyne+nxgshQLKd76fGCyFADAIrhxbZIEAMAiuHFtkgQAwCK4cW2SBADAIrhxbZIEAMAiuHFtkgQAwCK4cW2SBADAIrhxbZIEAMAiuHFtkgQAwCK4cW2SBADAIrhxbZIEAMAiuHFtkgQAwCK4cW2SBADAIrhxbZIED8qfHSTSIhQPyp8dJNIiFA/Knx0k0iIUD8qfHSTSIhQPyp8dJNIiFA/Knx0k0iIUD8qfHSTSIhQPyp8dJNIiFA/Knx0k0iIUD8qfHSTSIhQPyp8dJNIiFA/Knx0k0iIUD8qfHSTSIhQJHtfD81XiFAke18PzVeIUCR7Xw/NV4hQJHtfD81XiFAke18PzVeIUCR7Xw/NV4hQJHtfD81XiFAke18PzVeIUCR7Xw/NV4hQJHtfD81XiFAke18PzVeIUCR7Xw/NV4hQJHtfD81XiFAL90kBoFVIUAv3SQGgVUhQC/dJAaBVSFAL90kBoFVIUAzMzMzM7MgQDMzMzMzsyBAMzMzMzOzIEAzMzMzM7MgQDMzMzMzsyBAMzMzMzOzIEAzMzMzM7MgQDMzMzMzsyBAH4XrUbheIEAfhetRuF4gQB+F61G4XiBAH4XrUbheIEAfhetRuF4gQB+F61G4XiBAH4XrUbheIEAfhetRuF4gQB+F61G4XiBAH4XrUbheIEAfhetRuF4gQB+F61G4XiBAH4XrUbheIECmm8QgsDIgQKabxCCwMiBAppvEILAyIECmm8QgsDIgQKabxCCwMiBAppvEILAyIECmm8QgsDIgQKabxCCwMiBAppvEILAyIECmm8QgsDIgQKabxCCwMiBAppvEILAyIECmm8QgsDIgQPyp8dJNIiBA/Knx0k0iIED8qfHSTSIgQPyp8dJNIiBA/Knx0k0iIED8qfHSTSIgQPyp8dJNIiBA/Knx0k0iIED8qfHSTSIgQPyp8dJNIiBA/Knx0k0iIED8qfHSTSIgQPyp8dJNIiBA/Knx0k0iIEAv3SQGgRUfQC/dJAaBFR9AL90kBoEVH0Av3SQGgRUfQC/dJAaBFR9AL90kBoEVH0Av3SQGgRUfQC/dJAaBFR9AL90kBoEVH0Av3SQGgRUfQC/dJAaBFR9AL90kBoEVH0BvEoPAyqEeQG8Sg8DKoR5AbxKDwMqhHkBvEoPAyqEeQG8Sg8DKoR5AbxKDwMqhHkBvEoPAyqEeQG8Sg8DKoR5AbxKDwMqhHkBvEoPAyqEeQG8Sg8DKoR5AbxKDwMqhHkBvEoPAyqEeQNNNYhBYOR9A001iEFg5H0DTTWIQWDkfQNNNYhBYOR9A001iEFg5H0DTTWIQWDkfQNNNYhBYOR9A001iEFg5H0DTTWIQWDkfQNNNYhBYOR9A001iEFg5H0DTTWIQWDkfQNNNYhBYOR9A001iEFg5H0AQWDm0yHYfQBBYObTIdh9AEFg5tMh2H0AQWDm0yHYfQBBYObTIdh9AEFg5tMh2H0AQWDm0yHYfQBBYObTIdh9AEFg5tMh2H0AQWDm0yHYfQBBYObTIdh9AEFg5tMh2H0AQWDm0yHYfQBKDwMqhxR9AEoPAyqHFH0ASg8DKocUfQBKDwMqhxR9AEoPAyqHFH0ASg8DKocUfQBKDwMqhxR9AEoPAyqHFH0ASg8DKocUfQBKDwMqhxR9AEoPAyqHFH0ASg8DKocUfQBKDwMqhxR9AzczMzMxMIEDNzMzMzEwgQM3MzMzMTCBAzczMzMxMIEDNzMzMzEwgQM3MzMzMTCBAzczMzMxMIEDNzMzMzEwgQM3MzMzMTCBAzczMzMxMIEDNzMzMzEwgQM3MzMzMTCBAzczMzMxMIECJQWDl0GIgQIlBYOXQYiBAiUFg5dBiIECJQWDl0GIgQIlBYOXQYiBAiUFg5dBiIECJQWDl0GIgQIlBYOXQYiBAiUFg5dBiIECJQWDl0GIgQIlBYOXQYiBAiUFg5dBiIECJQWDl0GIgQCuHFtnO9x9AK4cW2c73H0ArhxbZzvcfQCuHFtnO9x9ADi2yne8nHEAOLbKd7yccQA4tsp3vJxxADi2yne8nHEAOLbKd7yccQA4tsp3vJxxADi2yne8nHEAOLbKd7yccQJHtfD81XhtAke18PzVeG0CR7Xw/NV4bQJHtfD81XhtAke18PzVeG0CR7Xw/NV4bQJHtfD81XhtAke18PzVeG0CR7Xw/NV4bQJHtfD81XhtAke18PzVeG0CR7Xw/NV4bQJHtfD81XhtARrbz/dR4G0BGtvP91HgbQEa28/3UeBtARrbz/dR4G0BGtvP91HgbQEa28/3UeBtARrbz/dR4G0BGtvP91HgbQEa28/3UeBtARrbz/dR4G0BGtvP91HgbQEa28/3UeBtARrbz/dR4G0CLbOf7qfEbQIts5/up8RtAi2zn+6nxG0CLbOf7qfEbQIts5/up8RtAi2zn+6nxG0CLbOf7qfEbQIts5/up8RtAi2zn+6nxG0CLbOf7qfEbQIts5/up8RtAi2zn+6nxG0CLbOf7qfEbQIts5/up8RtA2/l+arx0GkDb+X5qvHQaQNv5fmq8dBpA2/l+arx0GkDb+X5qvHQaQNv5fmq8dBpA2/l+arx0GkDb+X5qvHQaQNv5fmq8dBpA2/l+arx0GkDb+X5qvHQaQNv5fmq8dBpAQmDl0CJbGUBCYOXQIlsZQEJg5dAiWxlAQmDl0CJbGUBCYOXQIlsZQEJg5dAiWxlAQmDl0CJbGUBCYOXQIlsZQEJg5dAiWxlAQmDl0CJbGUBCYOXQIlsZQEJg5dAiWxlAQmDl0CJbGUAnMQisHFoZQCcxCKwcWhlAJzEIrBxaGUAnMQisHFoZQCcxCKwcWhlAJzEIrBxaGUAnMQisHFoZQCcxCKwcWhlAJzEIrBxaGUAnMQisHFoZQCcxCKwcWhlAJzEIrBxaGUAnMQisHFoZQCcxCKwcWhlAIbByaJHtGEAhsHJoke0YQCGwcmiR7RhAIbByaJHtGEAhsHJoke0YQCGwcmiR7RhAIbByaJHtGEAhsHJoke0YQCGwcmiR7RhAIbByaJHtGEAhsHJoke0YQCGwcmiR7RhAIbByaJHtGEDZzvdT46UYQNnO91PjpRhA2c73U+OlGEDZzvdT46UYQNnO91PjpRhA2c73U+OlGEDZzvdT46UYQNnO91PjpRhA2c73U+OlGEDZzvdT46UYQNnO91PjpRhA2c73U+OlGEDZzvdT46UYQJMYBFYOrRhAkxgEVg6tGECTGARWDq0YQJMYBFYOrRhAkxgEVg6tGECTGARWDq0YQJMYBFYOrRhAkxgEVg6tGECTGARWDq0YQJMYBFYOrRhAkxgEVg6tGECTGARWDq0YQJMYBFYOrRhAWDm0yHY+GEBYObTIdj4YQFg5tMh2PhhAWDm0yHY+GEBYObTIdj4YQFg5tMh2PhhAWDm0yHY+GEBYObTIdj4YQFg5tMh2PhhAWDm0yHY+GEBYObTIdj4YQFg5tMh2PhhAWDm0yHY+GEAX2c73U2MXQBfZzvdTYxdAF9nO91NjF0AX2c73U2MXQP7UeOkmMRpA/tR46SYxGkD+1HjpJjEaQP7UeOkmMRpA/tR46SYxGkD+1HjpJjEaQP7UeOkmMRpA/tR46SYxGkAK16NwPYoaQArXo3A9ihpACtejcD2KGkAK16NwPYoaQArXo3A9ihpACtejcD2KGkAK16NwPYoaQArXo3A9ihpACtejcD2KGkAK16NwPYoaQArXo3A9ihpACtejcD2KGkAK16NwPYoaQH0/NV66yRpAfT81XrrJGkB9PzVeuskaQH0/NV66yRpAfT81XrrJGkB9PzVeuskaQH0/NV66yRpAfT81XrrJGkB9PzVeuskaQH0/NV66yRpAfT81XrrJGkB9PzVeuskaQH0/NV66yRpACtejcD2KG0AK16NwPYobQArXo3A9ihtACtejcD2KG0AK16NwPYobQArXo3A9ihtACtejcD2KG0AK16NwPYobQArXo3A9ihtACtejcD2KG0AK16NwPYobQArXo3A9ihtACtejcD2KG0AK16NwPYobQBBYObTIdhtAEFg5tMh2G0AQWDm0yHYbQBBYObTIdhtAEFg5tMh2G0AQWDm0yHYbQBBYObTIdhtAEFg5tMh2G0AQWDm0yHYbQBBYObTIdhtAEFg5tMh2G0AQWDm0yHYbQH9qvHSTGBtAf2q8dJMYG0B/arx0kxgbQH9qvHSTGBtAf2q8dJMYG0B/arx0kxgbQH9qvHSTGBtAf2q8dJMYG0B/arx0kxgbQH9qvHSTGBtAf2q8dJMYG0B/arx0kxgbQH9qvHSTGBtAexSuR+H6GkB7FK5H4foaQHsUrkfh+hpAexSuR+H6GkB7FK5H4foaQHsUrkfh+hpAexSuR+H6GkB7FK5H4foaQHsUrkfh+hpAexSuR+H6GkB7FK5H4foaQHsUrkfh+hpAexSuR+H6GkB7FK5H4foaQCuHFtnOdxpAK4cW2c53GkArhxbZzncaQCuHFtnOdxpAK4cW2c53GkArhxbZzncaQCuHFtnOdxpAK4cW2c53GkArhxbZzncaQCuHFtnOdxpAK4cW2c53GkArhxbZzncaQCuHFtnOdxpA6SYxCKycGUDpJjEIrJwZQOkmMQisnBlA6SYxCKycGUDpJjEIrJwZQOkmMQisnBlA6SYxCKycGUDpJjEIrJwZQOkmMQisnBlA6SYxCKycGUDpJjEIrJwZQOkmMQisnBlA6SYxCKycGUBxPQrXo/AYQHE9Ctej8BhAcT0K16PwGEBxPQrXo/AYQHE9Ctej8BhAcT0K16PwGEBxPQrXo/AYQHE9Ctej8BhAcT0K16PwGEBxPQrXo/AYQHE9Ctej8BhAcT0K16PwGEBxPQrXo/AYQFg5tMh2vhdAWDm0yHa+F0BYObTIdr4XQFg5tMh2vhdAWDm0yHa+F0BYObTIdr4XQFg5tMh2vhdAWDm0yHa+F0BYObTIdr4XQFg5tMh2vhdAWDm0yHa+F0BYObTIdr4XQFg5tMh2vhdAz/dT46UbFkDP91PjpRsWQM/3U+OlGxZAz/dT46UbFkCBlUOLbGciQIGVQ4tsZyJAgZVDi2xnIkCBlUOLbGciQIGVQ4tsZyJAgZVDi2xnIkCBlUOLbGciQIGVQ4tsZyJAfT81XrqJIkB9PzVeuokiQH0/NV66iSJAfT81XrqJIkB9PzVeuokiQH0/NV66iSJAfT81XrqJIkB9PzVeuokiQH0/NV66iSJAfT81XrqJIkB9PzVeuokiQH0/NV66iSJAfT81XrqJIkDJdr6fGq8iQMl2vp8aryJAyXa+nxqvIkDJdr6fGq8iQMl2vp8aryJAyXa+nxqvIkDJdr6fGq8iQMl2vp8aryJAyXa+nxqvIkDJdr6fGq8iQMl2vp8aryJAyXa+nxqvIkDJdr6fGq8iQLbz/dR4qSJAtvP91HipIkC28/3UeKkiQLbz/dR4qSJAtvP91HipIkC28/3UeKkiQLbz/dR4qSJAtvP91HipIkC28/3UeKkiQLbz/dR4qSJAtvP91HipIkC28/3UeKkiQLbz/dR4qSJAtvP91HipIkBQjZduEkMiQFCNl24SQyJAUI2XbhJDIkBQjZduEkMiQFCNl24SQyJAUI2XbhJDIkBQjZduEkMiQFCNl24SQyJAUI2XbhJDIkBQjZduEkMiQFCNl24SQyJAUI2XbhJDIkAzMzMzM/MhQDMzMzMz8yFAMzMzMzPzIUAzMzMzM/MhQDMzMzMz8yFAMzMzMzPzIUAzMzMzM/MhQDMzMzMz8yFAMzMzMzPzIUAzMzMzM/MhQDMzMzMz8yFAMzMzMzPzIUAzMzMzM/MhQEjhehSuxyFASOF6FK7HIUBI4XoUrschQEjhehSuxyFASOF6FK7HIUBI4XoUrschQEjhehSuxyFASOF6FK7HIUBI4XoUrschQEjhehSuxyFASOF6FK7HIUBI4XoUrschQEjhehSuxyFASOF6FK7HIUD+1HjpJvEgQP7UeOkm8SBA/tR46SbxIED+1HjpJvEgQP7UeOkm8SBA/tR46SbxIED+1HjpJvEgQP7UeOkm8SBA/tR46SbxIED+1HjpJvEgQP7UeOkm8SBA/tR46SbxIED+1HjpJvEgQGZmZmZmJiBAZmZmZmYmIEBmZmZmZiYgQGZmZmZmJiBAZmZmZmYmIEBmZmZmZiYgQGZmZmZmJiBAZmZmZmYmIEBmZmZmZiYgQGZmZmZmJiBAZmZmZmYmIEBmZmZmZiYgQGZmZmZmJiBAz/dT46WbIEDP91PjpZsgQM/3U+OlmyBAz/dT46WbIEDP91PjpZsgQM/3U+OlmyBAz/dT46WbIEDP91PjpZsgQM/3U+OlmyBAz/dT46WbIEDP91PjpZsgQM/3U+OlmyBAz/dT46WbIEBSuB6F6xEhQFK4HoXrESFAUrgehesRIUBSuB6F6xEhQFK4HoXrESFAUrgehesRIUBSuB6F6xEhQFK4HoXrESFAUrgehesRIUBSuB6F6xEhQFK4HoXrESFAUrgehesRIUBSuB6F6xEhQCPb+X5qfCBAI9v5fmp8IEAj2/l+anwgQCPb+X5qfCBAMzMzMzOzIEAzMzMzM7MgQDMzMzMzsyBAMzMzMzOzIEAzMzMzM7MgQDMzMzMzsyBAMzMzMzOzIEAzMzMzM7MgQB+F61G4XiBAH4XrUbheIEAfhetRuF4gQB+F61G4XiBAH4XrUbheIEAfhetRuF4gQB+F61G4XiBAH4XrUbheIEAfhetRuF4gQB+F61G4XiBAH4XrUbheIEAfhetRuF4gQB+F61G4XiBAppvEILAyIECmm8QgsDIgQKabxCCwMiBAppvEILAyIECmm8QgsDIgQKabxCCwMiBAppvEILAyIECmm8QgsDIgQKabxCCwMiBAppvEILAyIECmm8QgsDIgQKabxCCwMiBAppvEILAyIED8qfHSTSIgQPyp8dJNIiBA/Knx0k0iIED8qfHSTSIgQPyp8dJNIiBA/Knx0k0iIED8qfHSTSIgQPyp8dJNIiBA/Knx0k0iIED8qfHSTSIgQPyp8dJNIiBA/Knx0k0iIED8qfHSTSIgQPyp8dJNIiBAL90kBoEVH0Av3SQGgRUfQC/dJAaBFR9AL90kBoEVH0Av3SQGgRUfQC/dJAaBFR9AL90kBoEVH0Av3SQGgRUfQC/dJAaBFR9AL90kBoEVH0Av3SQGgRUfQC/dJAaBFR9AbxKDwMqhHkBvEoPAyqEeQG8Sg8DKoR5AbxKDwMqhHkBvEoPAyqEeQG8Sg8DKoR5AbxKDwMqhHkBvEoPAyqEeQG8Sg8DKoR5AbxKDwMqhHkBvEoPAyqEeQG8Sg8DKoR5AbxKDwMqhHkDTTWIQWDkfQNNNYhBYOR9A001iEFg5H0DTTWIQWDkfQNNNYhBYOR9A001iEFg5H0DTTWIQWDkfQNNNYhBYOR9A001iEFg5H0DTTWIQWDkfQNNNYhBYOR9A001iEFg5H0DTTWIQWDkfQNNNYhBYOR9AEFg5tMh2H0AQWDm0yHYfQBBYObTIdh9AEFg5tMh2H0AQWDm0yHYfQBBYObTIdh9AEFg5tMh2H0AQWDm0yHYfQBBYObTIdh9AEFg5tMh2H0AQWDm0yHYfQBBYObTIdh9AEFg5tMh2H0ASg8DKocUfQBKDwMqhxR9AEoPAyqHFH0ASg8DKocUfQBKDwMqhxR9AEoPAyqHFH0ASg8DKocUfQBKDwMqhxR9AEoPAyqHFH0ASg8DKocUfQBKDwMqhxR9AEoPAyqHFH0ASg8DKocUfQM3MzMzMTCBAzczMzMxMIEDNzMzMzEwgQM3MzMzMTCBAzczMzMxMIEDNzMzMzEwgQM3MzMzMTCBAzczMzMxMIEDNzMzMzEwgQM3MzMzMTCBAzczMzMxMIEDNzMzMzEwgQM3MzMzMTCBAiUFg5dBiIECJQWDl0GIgQIlBYOXQYiBAiUFg5dBiIECJQWDl0GIgQIlBYOXQYiBAiUFg5dBiIECJQWDl0GIgQIlBYOXQYiBAiUFg5dBiIECJQWDl0GIgQIlBYOXQYiBAiUFg5dBiIEArhxbZzvcfQCuHFtnO9x9AK4cW2c73H0ArhxbZzvcfQDm0yHa+XyBAObTIdr5fIEA5tMh2vl8gQDm0yHa+XyBAObTIdr5fIEA5tMh2vl8gQDm0yHa+XyBAObTIdr5fIEAGgZVDi2wfQAaBlUOLbB9ABoGVQ4tsH0AGgZVDi2wfQAaBlUOLbB9ABoGVQ4tsH0AGgZVDi2wfQAaBlUOLbB9ABoGVQ4tsH0AGgZVDi2wfQAaBlUOLbB9ABoGVQ4tsH0AGgZVDi2wfQM/3U+OlGx5Az/dT46UbHkDP91PjpRseQM/3U+OlGx5Az/dT46UbHkDP91PjpRseQM/3U+OlGx5Az/dT46UbHkDP91PjpRseQM/3U+OlGx5Az/dT46UbHkDP91PjpRseQM/3U+OlGx5AVg4tsp3vHUBWDi2yne8dQFYOLbKd7x1AVg4tsp3vHUBWDi2yne8dQFYOLbKd7x1AVg4tsp3vHUBWDi2yne8dQFYOLbKd7x1AVg4tsp3vHUBWDi2yne8dQFYOLbKd7x1AVg4tsp3vHUBWDi2yne8dQKwcWmQ7Xx1ArBxaZDtfHUCsHFpkO18dQKwcWmQ7Xx1ArBxaZDtfHUCsHFpkO18dQKwcWmQ7Xx1ArBxaZDtfHUCsHFpkO18dQKwcWmQ7Xx1ArBxaZDtfHUCsHFpkO18dQNnO91PjJR1A2c73U+MlHUDZzvdT4yUdQNnO91PjJR1A2c73U+MlHUDZzvdT4yUdQNnO91PjJR1A2c73U+MlHUDZzvdT4yUdQNnO91PjJR1A2c73U+MlHUDZzvdT4yUdQNnO91PjJR1Af2q8dJMYHUB/arx0kxgdQH9qvHSTGB1Af2q8dJMYHUB/arx0kxgdQH9qvHSTGB1Af2q8dJMYHUB/arx0kxgdQH9qvHSTGB1Af2q8dJMYHUB/arx0kxgdQH9qvHSTGB1Af2q8dJMYHUB/arx0kxgdQIcW2c73UxxAhxbZzvdTHECHFtnO91McQIcW2c73UxxAhxbZzvdTHECHFtnO91McQIcW2c73UxxAhxbZzvdTHECHFtnO91McQIcW2c73UxxAhxbZzvdTHECHFtnO91McQIcW2c73UxxA8tJNYhDYG0Dy0k1iENgbQPLSTWIQ2BtA8tJNYhDYG0Dy0k1iENgbQPLSTWIQ2BtA8tJNYhDYG0Dy0k1iENgbQPLSTWIQ2BtA8tJNYhDYG0Dy0k1iENgbQPLSTWIQ2BtA8tJNYhDYG0B1kxgEVo4cQHWTGARWjhxAdZMYBFaOHEB1kxgEVo4cQHWTGARWjhxAdZMYBFaOHEB1kxgEVo4cQHWTGARWjhxAdZMYBFaOHEB1kxgEVo4cQHWTGARWjhxAdZMYBFaOHEB1kxgEVo4cQB+F61G4Hh1AH4XrUbgeHUAfhetRuB4dQB+F61G4Hh1AH4XrUbgeHUAfhetRuB4dQB+F61G4Hh1AH4XrUbgeHUAfhetRuB4dQB+F61G4Hh1AH4XrUbgeHUAfhetRuB4dQB+F61G4Hh1AeekmMQgsHUB56SYxCCwdQHnpJjEILB1AeekmMQgsHUDZzvdT46UgQNnO91PjpSBA2c73U+OlIEDZzvdT46UgQNnO91PjpSBA2c73U+OlIEDZzvdT46UgQNnO91PjpSBAZmZmZmZmIEBmZmZmZmYgQGZmZmZmZiBAZmZmZmZmIEBmZmZmZmYgQGZmZmZmZiBAZmZmZmZmIEBmZmZmZmYgQGZmZmZmZiBAZmZmZmZmIEBmZmZmZmYgQGZmZmZmZiBAZmZmZmZmIECmm8QgsDIgQKabxCCwMiBAppvEILAyIECmm8QgsDIgQKabxCCwMiBAppvEILAyIECmm8QgsDIgQKabxCCwMiBAppvEILAyIECmm8QgsDIgQKabxCCwMiBAppvEILAyIECmm8QgsDIgQPp+arx0UyBA+n5qvHRTIED6fmq8dFMgQPp+arx0UyBA+n5qvHRTIED6fmq8dFMgQPp+arx0UyBA+n5qvHRTIED6fmq8dFMgQPp+arx0UyBA+n5qvHRTIED6fmq8dFMgQPp+arx0UyBA+n5qvHRTIEB1kxgEVg4gQHWTGARWDiBAdZMYBFYOIEB1kxgEVg4gQHWTGARWDiBAdZMYBFYOIEB1kxgEVg4gQHWTGARWDiBAdZMYBFYOIEB1kxgEVg4gQHWTGARWDiBAdZMYBFYOIEDTTWIQWLkfQNNNYhBYuR9A001iEFi5H0DTTWIQWLkfQNNNYhBYuR9A001iEFi5H0DTTWIQWLkfQNNNYhBYuR9A001iEFi5H0DTTWIQWLkfQNNNYhBYuR9A001iEFi5H0DTTWIQWLkfQJzEILByaB9AnMQgsHJoH0CcxCCwcmgfQJzEILByaB9AnMQgsHJoH0CcxCCwcmgfQJzEILByaB9AnMQgsHJoH0CcxCCwcmgfQJzEILByaB9AnMQgsHJoH0CcxCCwcmgfQJzEILByaB9AnMQgsHJoH0DdJAaBlcMdQN0kBoGVwx1A3SQGgZXDHUDdJAaBlcMdQN0kBoGVwx1A3SQGgZXDHUDdJAaBlcMdQN0kBoGVwx1A3SQGgZXDHUDdJAaBlcMdQN0kBoGVwx1A3SQGgZXDHUDdJAaBlcMdQO58PzVeOhxA7nw/NV46HEDufD81XjocQO58PzVeOhxA7nw/NV46HEDufD81XjocQO58PzVeOhxA7nw/NV46HEDufD81XjocQO58PzVeOhxA7nw/NV46HEDufD81XjocQO58PzVeOhxAqvHSTWKQG0Cq8dJNYpAbQKrx0k1ikBtAqvHSTWKQG0Cq8dJNYpAbQKrx0k1ikBtAqvHSTWKQG0Cq8dJNYpAbQKrx0k1ikBtAqvHSTWKQG0Cq8dJNYpAbQKrx0k1ikBtAqvHSTWKQG0DD9Shcj0IaQMP1KFyPQhpAw/UoXI9CGkDD9Shcj0IaQMP1KFyPQhpAw/UoXI9CGkDD9Shcj0IaQMP1KFyPQhpAw/UoXI9CGkDD9Shcj0IaQMP1KFyPQhpAw/UoXI9CGkDD9Shcj0IaQK5H4XoUrhhArkfhehSuGECuR+F6FK4YQK5H4XoUrhhAN4lBYOWQIEA3iUFg5ZAgQDeJQWDlkCBAN4lBYOWQIEA3iUFg5ZAgQDeJQWDlkCBAN4lBYOWQIEA3iUFg5ZAgQBkEVg4tsiBAGQRWDi2yIEAZBFYOLbIgQBkEVg4tsiBAGQRWDi2yIEAZBFYOLbIgQBkEVg4tsiBAGQRWDi2yIEAZBFYOLbIgQBkEVg4tsiBAGQRWDi2yIEAZBFYOLbIgQBkEVg4tsiBABFYOLbLdIEAEVg4tst0gQARWDi2y3SBABFYOLbLdIEAEVg4tst0gQARWDi2y3SBABFYOLbLdIEAEVg4tst0gQARWDi2y3SBABFYOLbLdIEAEVg4tst0gQARWDi2y3SBABFYOLbLdIEC+nxov3SQhQL6fGi/dJCFAvp8aL90kIUC+nxov3SQhQL6fGi/dJCFAvp8aL90kIUC+nxov3SQhQL6fGi/dJCFAvp8aL90kIUC+nxov3SQhQL6fGi/dJCFAvp8aL90kIUC+nxov3SQhQL6fGi/dJCFA0SLb+X7qIEDRItv5fuogQNEi2/l+6iBA0SLb+X7qIEDRItv5fuogQNEi2/l+6iBA0SLb+X7qIEDRItv5fuogQNEi2/l+6iBA0SLb+X7qIEDRItv5fuogQNEi2/l+6iBAGy/dJAaBIEAbL90kBoEgQBsv3SQGgSBAGy/dJAaBIEAbL90kBoEgQBsv3SQGgSBAGy/dJAaBIEAbL90kBoEgQBsv3SQGgSBAGy/dJAaBIEAbL90kBoEgQBsv3SQGgSBAGy/dJAaBIECyne+nxgsgQLKd76fGCyBAsp3vp8YLIECyne+nxgsgQLKd76fGCyBAsp3vp8YLIECyne+nxgsgQLKd76fGCyBAsp3vp8YLIECyne+nxgsgQLKd76fGCyBAsp3vp8YLIECyne+nxgsgQLKd76fGCyBAbef7qfHSHkBt5/up8dIeQG3n+6nx0h5Abef7qfHSHkBt5/up8dIeQG3n+6nx0h5Abef7qfHSHkBt5/up8dIeQG3n+6nx0h5Abef7qfHSHkBt5/up8dIeQG3n+6nx0h5Abef7qfHSHkBQjZduEgMeQFCNl24SAx5AUI2XbhIDHkBQjZduEgMeQFCNl24SAx5AUI2XbhIDHkBQjZduEgMeQFCNl24SAx5AUI2XbhIDHkBQjZduEgMeQFCNl24SAx5AUI2XbhIDHkBQjZduEgMeQMl2vp8arx5AyXa+nxqvHkDJdr6fGq8eQMl2vp8arx5AyXa+nxqvHkDJdr6fGq8eQMl2vp8arx5AyXa+nxqvHkDJdr6fGq8eQMl2vp8arx5AyXa+nxqvHkDJdr6fGq8eQMl2vp8arx5AUI2XbhIDH0BQjZduEgMfQFCNl24SAx9AUI2XbhIDH0BQjZduEgMfQFCNl24SAx9AUI2XbhIDH0BQjZduEgMfQFCNl24SAx9AUI2XbhIDH0BQjZduEgMfQFCNl24SAx9AUI2XbhIDH0B56SYxCCweQHnpJjEILB5AeekmMQgsHkB56SYxCCweQMUgsHJokRdAxSCwcmiRF0DFILByaJEXQMUgsHJokRdAxSCwcmiRF0DFILByaJEXQMUgsHJokRdAxSCwcmiRF0A9CtejcL0VQD0K16NwvRVAPQrXo3C9FUA9CtejcL0VQD0K16NwvRVAPQrXo3C9FUA9CtejcL0VQD0K16NwvRVAPQrXo3C9FUA9CtejcL0VQD0K16NwvRVAPQrXo3C9FUA9CtejcL0VQOf7qfHSTRVA5/up8dJNFUDn+6nx0k0VQOf7qfHSTRVA5/up8dJNFUDn+6nx0k0VQOf7qfHSTRVA5/up8dJNFUDn+6nx0k0VQOf7qfHSTRVA5/up8dJNFUDn+6nx0k0VQOf7qfHSTRVA2c73U+MlFUDZzvdT4yUVQNnO91PjJRVA2c73U+MlFUDZzvdT4yUVQNnO91PjJRVA2c73U+MlFUDZzvdT4yUVQNnO91PjJRVA2c73U+MlFUDZzvdT4yUVQNnO91PjJRVA2c73U+MlFUDZzvdT4yUVQNv5fmq8dBRA2/l+arx0FEDb+X5qvHQUQNv5fmq8dBRA2/l+arx0FEDb+X5qvHQUQNv5fmq8dBRA2/l+arx0FEDb+X5qvHQUQNv5fmq8dBRA2/l+arx0FEDb+X5qvHQUQDm0yHa+HxNAObTIdr4fE0A5tMh2vh8TQDm0yHa+HxNAObTIdr4fE0A5tMh2vh8TQDm0yHa+HxNAObTIdr4fE0A5tMh2vh8TQDm0yHa+HxNAObTIdr4fE0A5tMh2vh8TQDm0yHa+HxNAvHSTGARWEkC8dJMYBFYSQLx0kxgEVhJAvHSTGARWEkC8dJMYBFYSQLx0kxgEVhJAvHSTGARWEkC8dJMYBFYSQLx0kxgEVhJAvHSTGARWEkC8dJMYBFYSQLx0kxgEVhJAvHSTGARWEkC8dJMYBFYSQK5H4XoUrhFArkfhehSuEUCuR+F6FK4RQK5H4XoUrhFArkfhehSuEUCuR+F6FK4RQK5H4XoUrhFArkfhehSuEUCuR+F6FK4RQK5H4XoUrhFArkfhehSuEUCuR+F6FK4RQK5H4XoUrhFAJQaBlUMLEUAlBoGVQwsRQCUGgZVDCxFAJQaBlUMLEUAlBoGVQwsRQCUGgZVDCxFAJQaBlUMLEUAlBoGVQwsRQCUGgZVDCxFAJQaBlUMLEUAlBoGVQwsRQCUGgZVDCxFAJQaBlUMLEUAAAAAAAIAQQAAAAAAAgBBAAAAAAACAEEAAAAAAAIAQQAAAAAAAgBBAAAAAAACAEEAAAAAAAIAQQAAAAAAAgBBAAAAAAACAEEAAAAAAAIAQQAAAAAAAgBBAAAAAAACAEEAAAAAAAIAQQDm0yHa+nxBAObTIdr6fEEA5tMh2vp8QQDm0yHa+nxBAObTIdr6fEEA5tMh2vp8QQDm0yHa+nxBAObTIdr6fEEA5tMh2vp8QQDm0yHa+nxBAObTIdr6fEEA5tMh2vp8QQDm0yHa+nxBAFK5H4XqUEEAUrkfhepQQQBSuR+F6lBBAFK5H4XqUEED0/dR46aYgQPT91HjppiBA9P3UeOmmIED0/dR46aYgQPT91HjppiBA9P3UeOmmIED0/dR46aYgQPT91HjppiBAeekmMQhsIEB56SYxCGwgQHnpJjEIbCBAeekmMQhsIEB56SYxCGwgQHnpJjEIbCBAeekmMQhsIEB56SYxCGwgQHnpJjEIbCBAeekmMQhsIEB56SYxCGwgQHnpJjEIbCBAeekmMQhsIECWQ4ts5zsgQJZDi2znOyBAlkOLbOc7IECWQ4ts5zsgQJZDi2znOyBAlkOLbOc7IECWQ4ts5zsgQJZDi2znOyBAlkOLbOc7IECWQ4ts5zsgQJZDi2znOyBAlkOLbOc7IECWQ4ts5zsgQM3MzMzMjCBAzczMzMyMIEDNzMzMzIwgQM3MzMzMjCBAzczMzMyMIEDNzMzMzIwgQM3MzMzMjCBAzczMzMyMIEDNzMzMzIwgQM3MzMzMjCBAzczMzMyMIEDNzMzMzIwgQM3MzMzMjCBAzczMzMyMIEAbL90kBoEgQBsv3SQGgSBAGy/dJAaBIEAbL90kBoEgQBsv3SQGgSBAGy/dJAaBIEAbL90kBoEgQBsv3SQGgSBAGy/dJAaBIEAbL90kBoEgQBsv3SQGgSBAGy/dJAaBIEAGgZVDi2wgQAaBlUOLbCBABoGVQ4tsIEAGgZVDi2wgQAaBlUOLbCBABoGVQ4tsIEAGgZVDi2wgQAaBlUOLbCBABoGVQ4tsIEAGgZVDi2wgQAaBlUOLbCBABoGVQ4tsIEAGgZVDi2wgQJ7vp8ZLtyBAnu+nxku3IECe76fGS7cgQJ7vp8ZLtyBAnu+nxku3IECe76fGS7cgQJ7vp8ZLtyBAnu+nxku3IECe76fGS7cgQJ7vp8ZLtyBAnu+nxku3IECe76fGS7cgQJ7vp8ZLtyBAnu+nxku3IECcxCCwcuggQJzEILBy6CBAnMQgsHLoIECcxCCwcuggQJzEILBy6CBAnMQgsHLoIECcxCCwcuggQJzEILBy6CBAnMQgsHLoIECcxCCwcuggQJzEILBy6CBAnMQgsHLoIECcxCCwcuggQMUgsHJoUSFAxSCwcmhRIUDFILByaFEhQMUgsHJoUSFAxSCwcmhRIUDFILByaFEhQMUgsHJoUSFAxSCwcmhRIUDFILByaFEhQMUgsHJoUSFAxSCwcmhRIUDFILByaFEhQMUgsHJoUSFAnu+nxkv3IUCe76fGS/chQJ7vp8ZL9yFAnu+nxkv3IUCe76fGS/chQJ7vp8ZL9yFAnu+nxkv3IUCe76fGS/chQJ7vp8ZL9yFAnu+nxkv3IUCe76fGS/chQJ7vp8ZL9yFAnu+nxkv3IUAOLbKd7+chQA4tsp3v5yFADi2yne/nIUAOLbKd7+chQA4tsp3v5yFADi2yne/nIUAOLbKd7+chQA4tsp3v5yFADi2yne/nIUAOLbKd7+chQA4tsp3v5yFADi2yne/nIUAOLbKd7+chQIlBYOXQYiFAiUFg5dBiIUCJQWDl0GIhQIlBYOXQYiFAObTIdr5fIEA5tMh2vl8gQDm0yHa+XyBAObTIdr5fIEA5tMh2vl8gQDm0yHa+XyBAObTIdr5fIEA5tMh2vl8gQAaBlUOLbB9ABoGVQ4tsH0AGgZVDi2wfQAaBlUOLbB9ABoGVQ4tsH0AGgZVDi2wfQAaBlUOLbB9ABoGVQ4tsH0AGgZVDi2wfQAaBlUOLbB9ABoGVQ4tsH0AGgZVDi2wfQAaBlUOLbB9Az/dT46UbHkDP91PjpRseQM/3U+OlGx5Az/dT46UbHkDP91PjpRseQM/3U+OlGx5Az/dT46UbHkDP91PjpRseQM/3U+OlGx5Az/dT46UbHkDP91PjpRseQM/3U+OlGx5Az/dT46UbHkBWDi2yne8dQFYOLbKd7x1AVg4tsp3vHUBWDi2yne8dQFYOLbKd7x1AVg4tsp3vHUBWDi2yne8dQFYOLbKd7x1AVg4tsp3vHUBWDi2yne8dQFYOLbKd7x1AVg4tsp3vHUBWDi2yne8dQFYOLbKd7x1ArBxaZDtfHUCsHFpkO18dQKwcWmQ7Xx1ArBxaZDtfHUCsHFpkO18dQKwcWmQ7Xx1ArBxaZDtfHUCsHFpkO18dQKwcWmQ7Xx1ArBxaZDtfHUCsHFpkO18dQKwcWmQ7Xx1A2c73U+MlHUDZzvdT4yUdQNnO91PjJR1A2c73U+MlHUDZzvdT4yUdQNnO91PjJR1A2c73U+MlHUDZzvdT4yUdQNnO91PjJR1A2c73U+MlHUDZzvdT4yUdQNnO91PjJR1A2c73U+MlHUB/arx0kxgdQH9qvHSTGB1Af2q8dJMYHUB/arx0kxgdQH9qvHSTGB1Af2q8dJMYHUB/arx0kxgdQH9qvHSTGB1Af2q8dJMYHUB/arx0kxgdQH9qvHSTGB1Af2q8dJMYHUB/arx0kxgdQH9qvHSTGB1AhxbZzvdTHECHFtnO91McQIcW2c73UxxAhxbZzvdTHECHFtnO91McQIcW2c73UxxAhxbZzvdTHECHFtnO91McQIcW2c73UxxAhxbZzvdTHECHFtnO91McQIcW2c73UxxAhxbZzvdTHEDy0k1iENgbQPLSTWIQ2BtA8tJNYhDYG0Dy0k1iENgbQPLSTWIQ2BtA8tJNYhDYG0Dy0k1iENgbQPLSTWIQ2BtA8tJNYhDYG0Dy0k1iENgbQPLSTWIQ2BtA8tJNYhDYG0Dy0k1iENgbQHWTGARWjhxAdZMYBFaOHEB1kxgEVo4cQHWTGARWjhxAdZMYBFaOHEB1kxgEVo4cQHWTGARWjhxAdZMYBFaOHEB1kxgEVo4cQHWTGARWjhxAdZMYBFaOHEB1kxgEVo4cQHWTGARWjhxAH4XrUbgeHUAfhetRuB4dQB+F61G4Hh1AH4XrUbgeHUAfhetRuB4dQB+F61G4Hh1AH4XrUbgeHUAfhetRuB4dQB+F61G4Hh1AH4XrUbgeHUAfhetRuB4dQB+F61G4Hh1AH4XrUbgeHUB56SYxCCwdQHnpJjEILB1AeekmMQgsHUB56SYxCCwdQGDl0CLb+SBAYOXQItv5IEBg5dAi2/kgQGDl0CLb+SBAYOXQItv5IEBg5dAi2/kgQGDl0CLb+SBAYOXQItv5IECgGi/dJAYhQKAaL90kBiFAoBov3SQGIUCgGi/dJAYhQKAaL90kBiFAoBov3SQGIUCgGi/dJAYhQKAaL90kBiFAoBov3SQGIUCgGi/dJAYhQKAaL90kBiFAoBov3SQGIUCgGi/dJAYhQKRwPQrX4yBApHA9CtfjIECkcD0K1+MgQKRwPQrX4yBApHA9CtfjIECkcD0K1+MgQKRwPQrX4yBApHA9CtfjIECkcD0K1+MgQKRwPQrX4yBApHA9CtfjIECkcD0K1+MgQKRwPQrX4yBAPzVeuklMIEA/NV66SUwgQD81XrpJTCBAPzVeuklMIEA/NV66SUwgQD81XrpJTCBAPzVeuklMIEA/NV66SUwgQD81XrpJTCBAPzVeuklMIEA/NV66SUwgQD81XrpJTCBAPzVeuklMIEA/NV66SUwgQFTjpZvEoB9AVOOlm8SgH0BU46WbxKAfQFTjpZvEoB9AVOOlm8SgH0BU46WbxKAfQFTjpZvEoB9AVOOlm8SgH0BU46WbxKAfQFTjpZvEoB9AVOOlm8SgH0BU46WbxKAfQBKDwMqhRR9AEoPAyqFFH0ASg8DKoUUfQBKDwMqhRR9AEoPAyqFFH0ASg8DKoUUfQBKDwMqhRR9AEoPAyqFFH0ASg8DKoUUfQBKDwMqhRR9AEoPAyqFFH0ASg8DKoUUfQBKDwMqhRR9AxSCwcmgRH0DFILByaBEfQMUgsHJoER9AxSCwcmgRH0DFILByaBEfQMUgsHJoER9AxSCwcmgRH0DFILByaBEfQMUgsHJoER9AxSCwcmgRH0DFILByaBEfQMUgsHJoER9AxSCwcmgRH0DFILByaBEfQDEIrBxaZB5AMQisHFpkHkAxCKwcWmQeQDEIrBxaZB5AMQisHFpkHkAxCKwcWmQeQDEIrBxaZB5AMQisHFpkHkAxCKwcWmQeQDEIrBxaZB5AMQisHFpkHkAxCKwcWmQeQDEIrBxaZB5Ake18PzXeHUCR7Xw/Nd4dQJHtfD813h1Ake18PzXeHUCR7Xw/Nd4dQJHtfD813h1Ake18PzXeHUCR7Xw/Nd4dQJHtfD813h1Ake18PzXeHUCR7Xw/Nd4dQJHtfD813h1Ake18PzXeHUDb+X5qvPQdQNv5fmq89B1A2/l+arz0HUDb+X5qvPQdQNv5fmq89B1A2/l+arz0HUDb+X5qvPQdQNv5fmq89B1A2/l+arz0HUDb+X5qvPQdQNv5fmq89B1A2/l+arz0HUDb+X5qvPQdQB+F61G4nh1AH4XrUbieHUAfhetRuJ4dQB+F61G4nh1AH4XrUbieHUAfhetRuJ4dQB+F61G4nh1AH4XrUbieHUAfhetRuJ4dQB+F61G4nh1AH4XrUbieHUAfhetRuJ4dQB+F61G4nh1AWmQ730+NHEBaZDvfT40cQFpkO99PjRxAWmQ730+NHEDTTWIQWHkgQNNNYhBYeSBA001iEFh5IEDTTWIQWHkgQNNNYhBYeSBA001iEFh5IEDTTWIQWHkgQNNNYhBYeSBABFYOLbIdIEAEVg4tsh0gQARWDi2yHSBABFYOLbIdIEAEVg4tsh0gQARWDi2yHSBABFYOLbIdIEAEVg4tsh0gQARWDi2yHSBABFYOLbIdIEAEVg4tsh0gQARWDi2yHSBABFYOLbIdIEAhsHJoke0fQCGwcmiR7R9AIbByaJHtH0AhsHJoke0fQCGwcmiR7R9AIbByaJHtH0AhsHJoke0fQCGwcmiR7R9AIbByaJHtH0AhsHJoke0fQCGwcmiR7R9AIbByaJHtH0AhsHJoke0fQJhuEoPACiBAmG4Sg8AKIECYbhKDwAogQJhuEoPACiBAmG4Sg8AKIECYbhKDwAogQJhuEoPACiBAmG4Sg8AKIECYbhKDwAogQJhuEoPACiBAmG4Sg8AKIECYbhKDwAogQJhuEoPACiBAmG4Sg8AKIEACK4cW2U4fQAIrhxbZTh9AAiuHFtlOH0ACK4cW2U4fQAIrhxbZTh9AAiuHFtlOH0ACK4cW2U4fQAIrhxbZTh9AAiuHFtlOH0ACK4cW2U4fQAIrhxbZTh9AAiuHFtlOH0BmZmZmZuYeQGZmZmZm5h5AZmZmZmbmHkBmZmZmZuYeQGZmZmZm5h5AZmZmZmbmHkBmZmZmZuYeQGZmZmZm5h5AZmZmZmbmHkBmZmZmZuYeQGZmZmZm5h5AZmZmZmbmHkBmZmZmZuYeQGZmZmZmZh9AZmZmZmZmH0BmZmZmZmYfQGZmZmZmZh9AZmZmZmZmH0BmZmZmZmYfQGZmZmZmZh9AZmZmZmZmH0BmZmZmZmYfQGZmZmZmZh9AZmZmZmZmH0BmZmZmZmYfQGZmZmZmZh9AZmZmZmZmH0A5tMh2vp8fQDm0yHa+nx9AObTIdr6fH0A5tMh2vp8fQDm0yHa+nx9AObTIdr6fH0A5tMh2vp8fQDm0yHa+nx9AObTIdr6fH0A5tMh2vp8fQDm0yHa+nx9AObTIdr6fH0A5tMh2vp8fQPhT46WbBCBA+FPjpZsEIED4U+OlmwQgQPhT46WbBCBA+FPjpZsEIED4U+OlmwQgQPhT46WbBCBA+FPjpZsEIED4U+OlmwQgQPhT46WbBCBA+FPjpZsEIED4U+OlmwQgQPhT46WbBCBAqMZLN4mBIECoxks3iYEgQKjGSzeJgSBAqMZLN4mBIECoxks3iYEgQKjGSzeJgSBAqMZLN4mBIECoxks3iYEgQKjGSzeJgSBAqMZLN4mBIECoxks3iYEgQKjGSzeJgSBAqMZLN4mBIEDufD81XnogQO58PzVeeiBA7nw/NV56IEDufD81XnogQO58PzVeeiBA7nw/NV56IEDufD81XnogQO58PzVeeiBA7nw/NV56IEDufD81XnogQO58PzVeeiBA7nw/NV56IEDufD81XnogQAAAAAAAACBAAAAAAAAAIEAAAAAAAAAgQAAAAAAAACBAMzMzMzPzK0AzMzMzM/MrQDMzMzMz8ytAMzMzMzPzK0AzMzMzM/MrQDMzMzMz8ytAMzMzMzPzK0AzMzMzM/MrQKabxCCwMixAppvEILAyLECmm8QgsDIsQKabxCCwMixAppvEILAyLECmm8QgsDIsQKabxCCwMixAppvEILAyLECmm8QgsDIsQKabxCCwMixAppvEILAyLECmm8QgsDIsQKabxCCwMixAXI/C9ShcLEBcj8L1KFwsQFyPwvUoXCxAXI/C9ShcLEBcj8L1KFwsQFyPwvUoXCxAXI/C9ShcLEBcj8L1KFwsQFyPwvUoXCxAXI/C9ShcLEBcj8L1KFwsQFyPwvUoXCxAXI/C9ShcLEDHSzeJQaAsQMdLN4lBoCxAx0s3iUGgLEDHSzeJQaAsQMdLN4lBoCxAx0s3iUGgLEDHSzeJQaAsQMdLN4lBoCxAx0s3iUGgLEDHSzeJQaAsQMdLN4lBoCxAx0s3iUGgLEDHSzeJQaAsQMdLN4lBoCxAmG4Sg8AKLECYbhKDwAosQJhuEoPACixAmG4Sg8AKLECYbhKDwAosQJhuEoPACixAmG4Sg8AKLECYbhKDwAosQJhuEoPACixAmG4Sg8AKLECYbhKDwAosQJhuEoPACixARrbz/dR4K0BGtvP91HgrQEa28/3UeCtARrbz/dR4K0BGtvP91HgrQEa28/3UeCtARrbz/dR4K0BGtvP91HgrQEa28/3UeCtARrbz/dR4K0BGtvP91HgrQEa28/3UeCtARrbz/dR4K0Coxks3iQErQKjGSzeJAStAqMZLN4kBK0Coxks3iQErQKjGSzeJAStAqMZLN4kBK0Coxks3iQErQKjGSzeJAStAqMZLN4kBK0Coxks3iQErQKjGSzeJAStAqMZLN4kBK0Coxks3iQErQKjGSzeJAStASOF6FK7HKUBI4XoUrscpQEjhehSuxylASOF6FK7HKUBI4XoUrscpQEjhehSuxylASOF6FK7HKUBI4XoUrscpQEjhehSuxylASOF6FK7HKUBI4XoUrscpQEjhehSuxylASOF6FK7HKUA5tMh2vl8oQDm0yHa+XyhAObTIdr5fKEA5tMh2vl8oQDm0yHa+XyhAObTIdr5fKEA5tMh2vl8oQDm0yHa+XyhAObTIdr5fKEA5tMh2vl8oQDm0yHa+XyhAObTIdr5fKEA5tMh2vl8oQBsv3SQGQSdAGy/dJAZBJ0AbL90kBkEnQBsv3SQGQSdAGy/dJAZBJ0AbL90kBkEnQBsv3SQGQSdAGy/dJAZBJ0AbL90kBkEnQBsv3SQGQSdAGy/dJAZBJ0AbL90kBkEnQBsv3SQGQSdAJzEIrBzaJUAnMQisHNolQCcxCKwc2iVAJzEIrBzaJUAnMQisHNolQCcxCKwc2iVAJzEIrBzaJUAnMQisHNolQCcxCKwc2iVAJzEIrBzaJUAnMQisHNolQCcxCKwc2iVAJzEIrBzaJUDZzvdT42UkQNnO91PjZSRA2c73U+NlJEDZzvdT42UkQFTjpZvEICRAVOOlm8QgJEBU46WbxCAkQFTjpZvEICRAVOOlm8QgJEBU46WbxCAkQFTjpZvEICRAVOOlm8QgJEBSuB6F61EkQFK4HoXrUSRAUrgehetRJEBSuB6F61EkQFK4HoXrUSRAUrgehetRJEBSuB6F61EkQFK4HoXrUSRAUrgehetRJEBSuB6F61EkQFK4HoXrUSRAUrgehetRJEBSuB6F61EkQMUgsHJo0SRAxSCwcmjRJEDFILByaNEkQMUgsHJo0SRAxSCwcmjRJEDFILByaNEkQMUgsHJo0SRAxSCwcmjRJEDFILByaNEkQMUgsHJo0SRAxSCwcmjRJEDFILByaNEkQMUgsHJo0SRAPzVeukkMJUA/NV66SQwlQD81XrpJDCVAPzVeukkMJUA/NV66SQwlQD81XrpJDCVAPzVeukkMJUA/NV66SQwlQD81XrpJDCVAPzVeukkMJUA/NV66SQwlQD81XrpJDCVAPzVeukkMJUA/NV66SQwlQFCNl24SgyRAUI2XbhKDJEBQjZduEoMkQFCNl24SgyRAUI2XbhKDJEBQjZduEoMkQFCNl24SgyRAUI2XbhKDJEBQjZduEoMkQFCNl24SgyRAUI2XbhKDJEBQjZduEoMkQDvfT42X7iNAO99PjZfuI0A730+Nl+4jQDvfT42X7iNAO99PjZfuI0A730+Nl+4jQDvfT42X7iNAO99PjZfuI0A730+Nl+4jQDvfT42X7iNAO99PjZfuI0A730+Nl+4jQDvfT42X7iNAYOXQItu5I0Bg5dAi27kjQGDl0CLbuSNAYOXQItu5I0Bg5dAi27kjQGDl0CLbuSNAYOXQItu5I0Bg5dAi27kjQGDl0CLbuSNAYOXQItu5I0Bg5dAi27kjQGDl0CLbuSNAYOXQItu5I0Bg5dAi27kjQBBYObTItiJAEFg5tMi2IkAQWDm0yLYiQBBYObTItiJAEFg5tMi2IkAQWDm0yLYiQBBYObTItiJAEFg5tMi2IkAQWDm0yLYiQBBYObTItiJAEFg5tMi2IkAQWDm0yLYiQBBYObTItiJAYOXQItv5IUBg5dAi2/khQGDl0CLb+SFAYOXQItv5IUBg5dAi2/khQGDl0CLb+SFAYOXQItv5IUBg5dAi2/khQGDl0CLb+SFAYOXQItv5IUBg5dAi2/khQGDl0CLb+SFAYOXQItv5IUBI4XoUrkciQEjhehSuRyJASOF6FK5HIkBI4XoUrkciQEjhehSuRyJASOF6FK5HIkBI4XoUrkciQEjhehSuRyJASOF6FK5HIkBI4XoUrkciQEjhehSuRyJASOF6FK5HIkBI4XoUrkciQEoMAiuH1iJASgwCK4fWIkBKDAIrh9YiQEoMAiuH1iJASgwCK4fWIkBKDAIrh9YiQEoMAiuH1iJASgwCK4fWIkBKDAIrh9YiQEoMAiuH1iJASgwCK4fWIkBKDAIrh9YiQEoMAiuH1iJAWmQ7309NIkBaZDvfT00iQFpkO99PTSJAWmQ7309NIkDZzvdT46UgQNnO91PjpSBA2c73U+OlIEDZzvdT46UgQNnO91PjpSBA2c73U+OlIEDZzvdT46UgQNnO91PjpSBAZmZmZmZmIEBmZmZmZmYgQGZmZmZmZiBAZmZmZmZmIEBmZmZmZmYgQGZmZmZmZiBAZmZmZmZmIEBmZmZmZmYgQGZmZmZmZiBAZmZmZmZmIEBmZmZmZmYgQGZmZmZmZiBAZmZmZmZmIECmm8QgsDIgQKabxCCwMiBAppvEILAyIECmm8QgsDIgQKabxCCwMiBAppvEILAyIECmm8QgsDIgQKabxCCwMiBAppvEILAyIECmm8QgsDIgQKabxCCwMiBAppvEILAyIECmm8QgsDIgQPp+arx0UyBA+n5qvHRTIED6fmq8dFMgQPp+arx0UyBA+n5qvHRTIED6fmq8dFMgQPp+arx0UyBA+n5qvHRTIED6fmq8dFMgQPp+arx0UyBA+n5qvHRTIED6fmq8dFMgQPp+arx0UyBA+n5qvHRTIEB1kxgEVg4gQHWTGARWDiBAdZMYBFYOIEB1kxgEVg4gQHWTGARWDiBAdZMYBFYOIEB1kxgEVg4gQHWTGARWDiBAdZMYBFYOIEB1kxgEVg4gQHWTGARWDiBAdZMYBFYOIEDTTWIQWLkfQNNNYhBYuR9A001iEFi5H0DTTWIQWLkfQNNNYhBYuR9A001iEFi5H0DTTWIQWLkfQNNNYhBYuR9A001iEFi5H0DTTWIQWLkfQNNNYhBYuR9A001iEFi5H0DTTWIQWLkfQJzEILByaB9AnMQgsHJoH0CcxCCwcmgfQJzEILByaB9AnMQgsHJoH0CcxCCwcmgfQJzEILByaB9AnMQgsHJoH0CcxCCwcmgfQJzEILByaB9AnMQgsHJoH0CcxCCwcmgfQJzEILByaB9AnMQgsHJoH0DdJAaBlcMdQN0kBoGVwx1A3SQGgZXDHUDdJAaBlcMdQN0kBoGVwx1A3SQGgZXDHUDdJAaBlcMdQN0kBoGVwx1A3SQGgZXDHUDdJAaBlcMdQN0kBoGVwx1A3SQGgZXDHUDdJAaBlcMdQO58PzVeOhxA7nw/NV46HEDufD81XjocQO58PzVeOhxA7nw/NV46HEDufD81XjocQO58PzVeOhxA7nw/NV46HEDufD81XjocQO58PzVeOhxA7nw/NV46HEDufD81XjocQO58PzVeOhxAqvHSTWKQG0Cq8dJNYpAbQKrx0k1ikBtAqvHSTWKQG0Cq8dJNYpAbQKrx0k1ikBtAqvHSTWKQG0Cq8dJNYpAbQKrx0k1ikBtAqvHSTWKQG0Cq8dJNYpAbQKrx0k1ikBtAqvHSTWKQG0DD9Shcj0IaQMP1KFyPQhpAw/UoXI9CGkDD9Shcj0IaQMP1KFyPQhpAw/UoXI9CGkDD9Shcj0IaQMP1KFyPQhpAw/UoXI9CGkDD9Shcj0IaQMP1KFyPQhpAw/UoXI9CGkDD9Shcj0IaQK5H4XoUrhhArkfhehSuGECuR+F6FK4YQK5H4XoUrhhA2c73U+OlIEDZzvdT46UgQNnO91PjpSBA2c73U+OlIEDZzvdT46UgQNnO91PjpSBA2c73U+OlIEDZzvdT46UgQGZmZmZmZiBAZmZmZmZmIEBmZmZmZmYgQGZmZmZmZiBAZmZmZmZmIEBmZmZmZmYgQGZmZmZmZiBAZmZmZmZmIEBmZmZmZmYgQGZmZmZmZiBAZmZmZmZmIEBmZmZmZmYgQGZmZmZmZiBAppvEILAyIECmm8QgsDIgQKabxCCwMiBAppvEILAyIECmm8QgsDIgQKabxCCwMiBAppvEILAyIECmm8QgsDIgQKabxCCwMiBAppvEILAyIECmm8QgsDIgQKabxCCwMiBAppvEILAyIED6fmq8dFMgQPp+arx0UyBA+n5qvHRTIED6fmq8dFMgQPp+arx0UyBA+n5qvHRTIED6fmq8dFMgQPp+arx0UyBA+n5qvHRTIED6fmq8dFMgQPp+arx0UyBA+n5qvHRTIED6fmq8dFMgQPp+arx0UyBAdZMYBFYOIEB1kxgEVg4gQHWTGARWDiBAdZMYBFYOIEB1kxgEVg4gQHWTGARWDiBAdZMYBFYOIEB1kxgEVg4gQHWTGARWDiBAdZMYBFYOIEB1kxgEVg4gQHWTGARWDiBA001iEFi5H0DTTWIQWLkfQNNNYhBYuR9A001iEFi5H0DTTWIQWLkfQNNNYhBYuR9A001iEFi5H0DTTWIQWLkfQNNNYhBYuR9A001iEFi5H0DTTWIQWLkfQNNNYhBYuR9A001iEFi5H0CcxCCwcmgfQJzEILByaB9AnMQgsHJoH0CcxCCwcmgfQJzEILByaB9AnMQgsHJoH0CcxCCwcmgfQJzEILByaB9AnMQgsHJoH0CcxCCwcmgfQJzEILByaB9AnMQgsHJoH0CcxCCwcmgfQJzEILByaB9A3SQGgZXDHUDdJAaBlcMdQN0kBoGVwx1A3SQGgZXDHUDdJAaBlcMdQN0kBoGVwx1A3SQGgZXDHUDdJAaBlcMdQN0kBoGVwx1A3SQGgZXDHUDdJAaBlcMdQN0kBoGVwx1A3SQGgZXDHUDufD81XjocQO58PzVeOhxA7nw/NV46HEDufD81XjocQO58PzVeOhxA7nw/NV46HEDufD81XjocQO58PzVeOhxA7nw/NV46HEDufD81XjocQO58PzVeOhxA7nw/NV46HEDufD81XjocQKrx0k1ikBtAqvHSTWKQG0Cq8dJNYpAbQKrx0k1ikBtAqvHSTWKQG0Cq8dJNYpAbQKrx0k1ikBtAqvHSTWKQG0Cq8dJNYpAbQKrx0k1ikBtAqvHSTWKQG0Cq8dJNYpAbQKrx0k1ikBtAw/UoXI9CGkDD9Shcj0IaQMP1KFyPQhpAw/UoXI9CGkDD9Shcj0IaQMP1KFyPQhpAw/UoXI9CGkDD9Shcj0IaQMP1KFyPQhpAw/UoXI9CGkDD9Shcj0IaQMP1KFyPQhpAw/UoXI9CGkCuR+F6FK4YQK5H4XoUrhhArkfhehSuGECuR+F6FK4YQLpJDAIrByJAukkMAisHIkC6SQwCKwciQLpJDAIrByJAukkMAisHIkC6SQwCKwciQLpJDAIrByJAukkMAisHIkCTGARWDu0hQJMYBFYO7SFAkxgEVg7tIUCTGARWDu0hQJMYBFYO7SFAkxgEVg7tIUCTGARWDu0hQJMYBFYO7SFAkxgEVg7tIUCTGARWDu0hQJMYBFYO7SFAkxgEVg7tIUCTGARWDu0hQGIQWDm0CCJAYhBYObQIIkBiEFg5tAgiQGIQWDm0CCJAYhBYObQIIkBiEFg5tAgiQGIQWDm0CCJAYhBYObQIIkBiEFg5tAgiQGIQWDm0CCJAYhBYObQIIkBiEFg5tAgiQGIQWDm0CCJAoBov3SRGIkCgGi/dJEYiQKAaL90kRiJAoBov3SRGIkCgGi/dJEYiQKAaL90kRiJAoBov3SRGIkCgGi/dJEYiQKAaL90kRiJAoBov3SRGIkCgGi/dJEYiQKAaL90kRiJAoBov3SRGIkCgGi/dJEYiQIlBYOXQoiFAiUFg5dCiIUCJQWDl0KIhQIlBYOXQoiFAiUFg5dCiIUCJQWDl0KIhQIlBYOXQoiFAiUFg5dCiIUCJQWDl0KIhQIlBYOXQoiFAiUFg5dCiIUCJQWDl0KIhQHE9CtejMCFAcT0K16MwIUBxPQrXozAhQHE9CtejMCFAcT0K16MwIUBxPQrXozAhQHE9CtejMCFAcT0K16MwIUBxPQrXozAhQHE9CtejMCFAcT0K16MwIUBxPQrXozAhQHE9CtejMCFAWDm0yHY+IUBYObTIdj4hQFg5tMh2PiFAWDm0yHY+IUBYObTIdj4hQFg5tMh2PiFAWDm0yHY+IUBYObTIdj4hQFg5tMh2PiFAWDm0yHY+IUBYObTIdj4hQFg5tMh2PiFAWDm0yHY+IUBYObTIdj4hQC2yne+nBiFALbKd76cGIUAtsp3vpwYhQC2yne+nBiFALbKd76cGIUAtsp3vpwYhQC2yne+nBiFALbKd76cGIUAtsp3vpwYhQC2yne+nBiFALbKd76cGIUAtsp3vpwYhQC2yne+nBiFAUI2XbhKDIEBQjZduEoMgQFCNl24SgyBAUI2XbhKDIEBQjZduEoMgQFCNl24SgyBAUI2XbhKDIEBQjZduEoMgQFCNl24SgyBAUI2XbhKDIEBQjZduEoMgQFCNl24SgyBAUI2XbhKDIECuR+F6FC4gQK5H4XoULiBArkfhehQuIECuR+F6FC4gQK5H4XoULiBArkfhehQuIECuR+F6FC4gQK5H4XoULiBArkfhehQuIECuR+F6FC4gQK5H4XoULiBArkfhehQuIECuR+F6FC4gQLByaJHtfB9AsHJoke18H0CwcmiR7XwfQLByaJHtfB9AsHJoke18H0CwcmiR7XwfQLByaJHtfB9AsHJoke18H0CwcmiR7XwfQLByaJHtfB9AsHJoke18H0CwcmiR7XwfQLByaJHtfB9A7nw/NV46HkDufD81XjoeQO58PzVeOh5A7nw/NV46HkB7FK5H4TokQHsUrkfhOiRAexSuR+E6JEB7FK5H4TokQHsUrkfhOiRAexSuR+E6JEB7FK5H4TokQHsUrkfhOiRAppvEILCyI0Cmm8QgsLIjQKabxCCwsiNAppvEILCyI0Cmm8QgsLIjQKabxCCwsiNAppvEILCyI0Cmm8QgsLIjQKabxCCwsiNAppvEILCyI0Cmm8QgsLIjQKabxCCwsiNAppvEILCyI0A9CtejcP0iQD0K16Nw/SJAPQrXo3D9IkA9CtejcP0iQD0K16Nw/SJAPQrXo3D9IkA9CtejcP0iQD0K16Nw/SJAPQrXo3D9IkA9CtejcP0iQD0K16Nw/SJAPQrXo3D9IkA9CtejcP0iQEjhehSuhyJASOF6FK6HIkBI4XoUrociQEjhehSuhyJASOF6FK6HIkBI4XoUrociQEjhehSuhyJASOF6FK6HIkBI4XoUrociQEjhehSuhyJASOF6FK6HIkBI4XoUrociQEjhehSuhyJASOF6FK6HIkD0/dR46eYhQPT91Hjp5iFA9P3UeOnmIUD0/dR46eYhQPT91Hjp5iFA9P3UeOnmIUD0/dR46eYhQPT91Hjp5iFA9P3UeOnmIUD0/dR46eYhQPT91Hjp5iFA9P3UeOnmIUA5tMh2vl8hQDm0yHa+XyFAObTIdr5fIUA5tMh2vl8hQDm0yHa+XyFAObTIdr5fIUA5tMh2vl8hQDm0yHa+XyFAObTIdr5fIUA5tMh2vl8hQDm0yHa+XyFAObTIdr5fIUA5tMh2vl8hQPyp8dJN4iBA/Knx0k3iIED8qfHSTeIgQPyp8dJN4iBA/Knx0k3iIED8qfHSTeIgQPyp8dJN4iBA/Knx0k3iIED8qfHSTeIgQPyp8dJN4iBA/Knx0k3iIED8qfHSTeIgQPyp8dJN4iBA/Knx0k3iIECF61G4HgUgQIXrUbgeBSBAhetRuB4FIECF61G4HgUgQIXrUbgeBSBAhetRuB4FIECF61G4HgUgQIXrUbgeBSBAhetRuB4FIECF61G4HgUgQIXrUbgeBSBAhetRuB4FIECF61G4HgUgQLbz/dR4aR5AtvP91HhpHkC28/3UeGkeQLbz/dR4aR5AtvP91HhpHkC28/3UeGkeQLbz/dR4aR5AtvP91HhpHkC28/3UeGkeQLbz/dR4aR5AtvP91HhpHkC28/3UeGkeQLbz/dR4aR5AL90kBoGVHUAv3SQGgZUdQC/dJAaBlR1AL90kBoGVHUAv3SQGgZUdQC/dJAaBlR1AL90kBoGVHUAv3SQGgZUdQC/dJAaBlR1AL90kBoGVHUAv3SQGgZUdQC/dJAaBlR1AL90kBoGVHUBKDAIrh5YcQEoMAiuHlhxASgwCK4eWHEBKDAIrh5YcQEoMAiuHlhxASgwCK4eWHEBKDAIrh5YcQEoMAiuHlhxASgwCK4eWHEBKDAIrh5YcQEoMAiuHlhxASgwCK4eWHEBKDAIrh5YcQBSuR+F6lBtAFK5H4XqUG0AUrkfhepQbQBSuR+F6lBtAmG4Sg8AKI0CYbhKDwAojQJhuEoPACiNAmG4Sg8AKI0CYbhKDwAojQJhuEoPACiNAmG4Sg8AKI0CYbhKDwAojQFYOLbKdLyNAVg4tsp0vI0BWDi2ynS8jQFYOLbKdLyNAVg4tsp0vI0BWDi2ynS8jQFYOLbKdLyNAVg4tsp0vI0BWDi2ynS8jQFYOLbKdLyNAVg4tsp0vI0BWDi2ynS8jQFYOLbKdLyNAbxKDwMqhI0BvEoPAyqEjQG8Sg8DKoSNAbxKDwMqhI0BvEoPAyqEjQG8Sg8DKoSNAbxKDwMqhI0BvEoPAyqEjQG8Sg8DKoSNAbxKDwMqhI0BvEoPAyqEjQG8Sg8DKoSNAbxKDwMqhI0DsUbgehWskQOxRuB6FayRA7FG4HoVrJEDsUbgehWskQOxRuB6FayRA7FG4HoVrJEDsUbgehWskQOxRuB6FayRA7FG4HoVrJEDsUbgehWskQOxRuB6FayRA7FG4HoVrJEDsUbgehWskQOxRuB6FayRAsp3vp8bLJECyne+nxsskQLKd76fGyyRAsp3vp8bLJECyne+nxsskQLKd76fGyyRAsp3vp8bLJECyne+nxsskQLKd76fGyyRAsp3vp8bLJECyne+nxsskQLKd76fGyyRAtvP91HgpJUC28/3UeCklQLbz/dR4KSVAtvP91HgpJUC28/3UeCklQLbz/dR4KSVAtvP91HgpJUC28/3UeCklQLbz/dR4KSVAtvP91HgpJUC28/3UeCklQLbz/dR4KSVAtvP91HgpJUDVeOkmMUglQNV46SYxSCVA1XjpJjFIJUDVeOkmMUglQNV46SYxSCVA1XjpJjFIJUDVeOkmMUglQNV46SYxSCVA1XjpJjFIJUDVeOkmMUglQNV46SYxSCVA1XjpJjFIJUDVeOkmMUglQNV46SYxSCVAsp3vp8ZLJECyne+nxkskQLKd76fGSyRAsp3vp8ZLJECyne+nxkskQLKd76fGSyRAsp3vp8ZLJECyne+nxkskQLKd76fGSyRAsp3vp8ZLJECyne+nxkskQLKd76fGSyRAsp3vp8ZLJEB1kxgEVk4jQHWTGARWTiNAdZMYBFZOI0B1kxgEVk4jQHWTGARWTiNAdZMYBFZOI0B1kxgEVk4jQHWTGARWTiNAdZMYBFZOI0B1kxgEVk4jQHWTGARWTiNAdZMYBFZOI0B1kxgEVk4jQGZmZmZmJiNAZmZmZmYmI0BmZmZmZiYjQGZmZmZmJiNAZmZmZmYmI0BmZmZmZiYjQGZmZmZmJiNAZmZmZmYmI0BmZmZmZiYjQGZmZmZmJiNAZmZmZmYmI0BmZmZmZiYjQGZmZmZmJiNAUrgeheuRIkBSuB6F65EiQFK4HoXrkSJAUrgeheuRIkBSuB6F65EiQFK4HoXrkSJAUrgeheuRIkBSuB6F65EiQFK4HoXrkSJAUrgeheuRIkBSuB6F65EiQFK4HoXrkSJAUrgeheuRIkAhsHJoka0hQCGwcmiRrSFAIbByaJGtIUAhsHJoka0hQKAaL90khiJAoBov3SSGIkCgGi/dJIYiQKAaL90khiJAoBov3SSGIkCgGi/dJIYiQKAaL90khiJAoBov3SSGIkAnMQisHBoiQCcxCKwcGiJAJzEIrBwaIkAnMQisHBoiQCcxCKwcGiJAJzEIrBwaIkAnMQisHBoiQCcxCKwcGiJAJzEIrBwaIkAnMQisHBoiQCcxCKwcGiJAJzEIrBwaIkAnMQisHBoiQEa28/3UuCFARrbz/dS4IUBGtvP91LghQEa28/3UuCFARrbz/dS4IUBGtvP91LghQEa28/3UuCFARrbz/dS4IUBGtvP91LghQEa28/3UuCFARrbz/dS4IUBGtvP91LghQEa28/3UuCFALbKd76eGIUAtsp3vp4YhQC2yne+nhiFALbKd76eGIUAtsp3vp4YhQC2yne+nhiFALbKd76eGIUAtsp3vp4YhQC2yne+nhiFALbKd76eGIUAtsp3vp4YhQC2yne+nhiFALbKd76eGIUAtsp3vp4YhQAwCK4cWGSFADAIrhxYZIUAMAiuHFhkhQAwCK4cWGSFADAIrhxYZIUAMAiuHFhkhQAwCK4cWGSFADAIrhxYZIUAMAiuHFhkhQAwCK4cWGSFADAIrhxYZIUAMAiuHFhkhQKAaL90kBiFAoBov3SQGIUCgGi/dJAYhQKAaL90kBiFAoBov3SQGIUCgGi/dJAYhQKAaL90kBiFAoBov3SQGIUCgGi/dJAYhQKAaL90kBiFAoBov3SQGIUCgGi/dJAYhQKAaL90kBiFAke18PzVeIUCR7Xw/NV4hQJHtfD81XiFAke18PzVeIUCR7Xw/NV4hQJHtfD81XiFAke18PzVeIUCR7Xw/NV4hQJHtfD81XiFAke18PzVeIUCR7Xw/NV4hQJHtfD81XiFAke18PzVeIUCR7Xw/NV4hQD0K16NwfSFAPQrXo3B9IUA9CtejcH0hQD0K16NwfSFAPQrXo3B9IUA9CtejcH0hQD0K16NwfSFAPQrXo3B9IUA9CtejcH0hQD0K16NwfSFAPQrXo3B9IUA9CtejcH0hQD0K16NwfSFAsHJoke18IUCwcmiR7XwhQLByaJHtfCFAsHJoke18IUCwcmiR7XwhQLByaJHtfCFAsHJoke18IUCwcmiR7XwhQLByaJHtfCFAsHJoke18IUCwcmiR7XwhQLByaJHtfCFAsHJoke18IUCNl24Sg8AhQI2XbhKDwCFAjZduEoPAIUCNl24Sg8AhQI2XbhKDwCFAjZduEoPAIUCNl24Sg8AhQI2XbhKDwCFAjZduEoPAIUCNl24Sg8AhQI2XbhKDwCFAjZduEoPAIUCNl24Sg8AhQCGwcmiRrSFAIbByaJGtIUAhsHJoka0hQCGwcmiRrSFAIbByaJGtIUAhsHJoka0hQCGwcmiRrSFAIbByaJGtIUAhsHJoka0hQCGwcmiRrSFAIbByaJGtIUAhsHJoka0hQCGwcmiRrSFAFK5H4XpUIUAUrkfhelQhQBSuR+F6VCFAFK5H4XpUIUDP91PjpRshQM/3U+OlGyFAz/dT46UbIUDP91PjpRshQM/3U+OlGyFAz/dT46UbIUDP91PjpRshQM/3U+OlGyFAIbByaJHtIEAhsHJoke0gQCGwcmiR7SBAIbByaJHtIEAhsHJoke0gQCGwcmiR7SBAIbByaJHtIEAhsHJoke0gQCGwcmiR7SBAIbByaJHtIEAhsHJoke0gQCGwcmiR7SBAIbByaJHtIEC4HoXrUbggQLgehetRuCBAuB6F61G4IEC4HoXrUbggQLgehetRuCBAuB6F61G4IEC4HoXrUbggQLgehetRuCBAuB6F61G4IEC4HoXrUbggQLgehetRuCBAuB6F61G4IEC4HoXrUbggQMHKoUW28yBAwcqhRbbzIEDByqFFtvMgQMHKoUW28yBAwcqhRbbzIEDByqFFtvMgQMHKoUW28yBAwcqhRbbzIEDByqFFtvMgQMHKoUW28yBAwcqhRbbzIEDByqFFtvMgQMHKoUW28yBAwcqhRbbzIEAK16NwPcogQArXo3A9yiBACtejcD3KIEAK16NwPcogQArXo3A9yiBACtejcD3KIEAK16NwPcogQArXo3A9yiBACtejcD3KIEAK16NwPcogQArXo3A9yiBACtejcD3KIECamZmZmZkgQJqZmZmZmSBAmpmZmZmZIECamZmZmZkgQJqZmZmZmSBAmpmZmZmZIECamZmZmZkgQJqZmZmZmSBAmpmZmZmZIECamZmZmZkgQJqZmZmZmSBAmpmZmZmZIECamZmZmZkgQLTIdr6fWiBAtMh2vp9aIEC0yHa+n1ogQLTIdr6fWiBAtMh2vp9aIEC0yHa+n1ogQLTIdr6fWiBAtMh2vp9aIEC0yHa+n1ogQLTIdr6fWiBAtMh2vp9aIEC0yHa+n1ogQLTIdr6fWiBAtMh2vp9aIEB3vp8aL90eQHe+nxov3R5Ad76fGi/dHkB3vp8aL90eQHe+nxov3R5Ad76fGi/dHkB3vp8aL90eQHe+nxov3R5Ad76fGi/dHkB3vp8aL90eQHe+nxov3R5Ad76fGi/dHkB3vp8aL90eQGDl0CLb+RxAYOXQItv5HEBg5dAi2/kcQGDl0CLb+RxAYOXQItv5HEBg5dAi2/kcQGDl0CLb+RxAYOXQItv5HEBg5dAi2/kcQGDl0CLb+RxAYOXQItv5HEBg5dAi2/kcQGDl0CLb+RxA2/l+arz0G0Db+X5qvPQbQNv5fmq89BtA2/l+arz0G0Db+X5qvPQbQNv5fmq89BtA2/l+arz0G0Db+X5qvPQbQNv5fmq89BtA2/l+arz0G0Db+X5qvPQbQNv5fmq89BtA2/l+arz0G0DLoUW2830aQMuhRbbzfRpAy6FFtvN9GkDLoUW2830aQMuhRbbzfRpAy6FFtvN9GkDLoUW2830aQMuhRbbzfRpAy6FFtvN9GkDLoUW2830aQMuhRbbzfRpAy6FFtvN9GkDLoUW2830aQLbz/dR46RhAtvP91HjpGEC28/3UeOkYQLbz/dR46RhAz/dT46UbIUDP91PjpRshQM/3U+OlGyFAz/dT46UbIUDP91PjpRshQM/3U+OlGyFAz/dT46UbIUDP91PjpRshQCGwcmiR7SBAIbByaJHtIEAhsHJoke0gQCGwcmiR7SBAIbByaJHtIEAhsHJoke0gQCGwcmiR7SBAIbByaJHtIEAhsHJoke0gQCGwcmiR7SBAIbByaJHtIEAhsHJoke0gQCGwcmiR7SBAuB6F61G4IEC4HoXrUbggQLgehetRuCBAuB6F61G4IEC4HoXrUbggQLgehetRuCBAuB6F61G4IEC4HoXrUbggQLgehetRuCBAuB6F61G4IEC4HoXrUbggQLgehetRuCBAuB6F61G4IEDByqFFtvMgQMHKoUW28yBAwcqhRbbzIEDByqFFtvMgQMHKoUW28yBAwcqhRbbzIEDByqFFtvMgQMHKoUW28yBAwcqhRbbzIEDByqFFtvMgQMHKoUW28yBAwcqhRbbzIEDByqFFtvMgQMHKoUW28yBACtejcD3KIEAK16NwPcogQArXo3A9yiBACtejcD3KIEAK16NwPcogQArXo3A9yiBACtejcD3KIEAK16NwPcogQArXo3A9yiBACtejcD3KIEAK16NwPcogQArXo3A9yiBAmpmZmZmZIECamZmZmZkgQJqZmZmZmSBAmpmZmZmZIECamZmZmZkgQJqZmZmZmSBAmpmZmZmZIECamZmZmZkgQJqZmZmZmSBAmpmZmZmZIECamZmZmZkgQJqZmZmZmSBAmpmZmZmZIEC0yHa+n1ogQLTIdr6fWiBAtMh2vp9aIEC0yHa+n1ogQLTIdr6fWiBAtMh2vp9aIEC0yHa+n1ogQLTIdr6fWiBAtMh2vp9aIEC0yHa+n1ogQLTIdr6fWiBAtMh2vp9aIEC0yHa+n1ogQLTIdr6fWiBAd76fGi/dHkB3vp8aL90eQHe+nxov3R5Ad76fGi/dHkB3vp8aL90eQHe+nxov3R5Ad76fGi/dHkB3vp8aL90eQHe+nxov3R5Ad76fGi/dHkB3vp8aL90eQHe+nxov3R5Ad76fGi/dHkBg5dAi2/kcQGDl0CLb+RxAYOXQItv5HEBg5dAi2/kcQGDl0CLb+RxAYOXQItv5HEBg5dAi2/kcQGDl0CLb+RxAYOXQItv5HEBg5dAi2/kcQGDl0CLb+RxAYOXQItv5HEBg5dAi2/kcQNv5fmq89BtA2/l+arz0G0Db+X5qvPQbQNv5fmq89BtA2/l+arz0G0Db+X5qvPQbQNv5fmq89BtA2/l+arz0G0Db+X5qvPQbQNv5fmq89BtA2/l+arz0G0Db+X5qvPQbQNv5fmq89BtAy6FFtvN9GkDLoUW2830aQMuhRbbzfRpAy6FFtvN9GkDLoUW2830aQMuhRbbzfRpAy6FFtvN9GkDLoUW2830aQMuhRbbzfRpAy6FFtvN9GkDLoUW2830aQMuhRbbzfRpAy6FFtvN9GkC28/3UeOkYQLbz/dR46RhAtvP91HjpGEC28/3UeOkYQDMzMzMz8ytAMzMzMzPzK0AzMzMzM/MrQDMzMzMz8ytAMzMzMzPzK0AzMzMzM/MrQDMzMzMz8ytAMzMzMzPzK0Cmm8QgsDIsQKabxCCwMixAppvEILAyLECmm8QgsDIsQKabxCCwMixAppvEILAyLECmm8QgsDIsQKabxCCwMixAppvEILAyLECmm8QgsDIsQKabxCCwMixAppvEILAyLECmm8QgsDIsQFyPwvUoXCxAXI/C9ShcLEBcj8L1KFwsQFyPwvUoXCxAXI/C9ShcLEBcj8L1KFwsQFyPwvUoXCxAXI/C9ShcLEBcj8L1KFwsQFyPwvUoXCxAXI/C9ShcLEBcj8L1KFwsQFyPwvUoXCxAx0s3iUGgLEDHSzeJQaAsQMdLN4lBoCxAx0s3iUGgLEDHSzeJQaAsQMdLN4lBoCxAx0s3iUGgLEDHSzeJQaAsQMdLN4lBoCxAx0s3iUGgLEDHSzeJQaAsQMdLN4lBoCxAx0s3iUGgLEDHSzeJQaAsQJhuEoPACixAmG4Sg8AKLECYbhKDwAosQJhuEoPACixAmG4Sg8AKLECYbhKDwAosQJhuEoPACixAmG4Sg8AKLECYbhKDwAosQJhuEoPACixAmG4Sg8AKLECYbhKDwAosQEa28/3UeCtARrbz/dR4K0BGtvP91HgrQEa28/3UeCtARrbz/dR4K0BGtvP91HgrQEa28/3UeCtARrbz/dR4K0BGtvP91HgrQEa28/3UeCtARrbz/dR4K0BGtvP91HgrQEa28/3UeCtAqMZLN4kBK0Coxks3iQErQKjGSzeJAStAqMZLN4kBK0Coxks3iQErQKjGSzeJAStAqMZLN4kBK0Coxks3iQErQKjGSzeJAStAqMZLN4kBK0Coxks3iQErQKjGSzeJAStAqMZLN4kBK0Coxks3iQErQEjhehSuxylASOF6FK7HKUBI4XoUrscpQEjhehSuxylASOF6FK7HKUBI4XoUrscpQEjhehSuxylASOF6FK7HKUBI4XoUrscpQEjhehSuxylASOF6FK7HKUBI4XoUrscpQEjhehSuxylAObTIdr5fKEA5tMh2vl8oQDm0yHa+XyhAObTIdr5fKEA5tMh2vl8oQDm0yHa+XyhAObTIdr5fKEA5tMh2vl8oQDm0yHa+XyhAObTIdr5fKEA5tMh2vl8oQDm0yHa+XyhAObTIdr5fKEAbL90kBkEnQBsv3SQGQSdAGy/dJAZBJ0AbL90kBkEnQBsv3SQGQSdAGy/dJAZBJ0AbL90kBkEnQBsv3SQGQSdAGy/dJAZBJ0AbL90kBkEnQBsv3SQGQSdAGy/dJAZBJ0AbL90kBkEnQCcxCKwc2iVAJzEIrBzaJUAnMQisHNolQCcxCKwc2iVAJzEIrBzaJUAnMQisHNolQCcxCKwc2iVAJzEIrBzaJUAnMQisHNolQCcxCKwc2iVAJzEIrBzaJUAnMQisHNolQCcxCKwc2iVA2c73U+NlJEDZzvdT42UkQNnO91PjZSRA2c73U+NlJEDP91PjpRshQM/3U+OlGyFAz/dT46UbIUDP91PjpRshQM/3U+OlGyFAz/dT46UbIUDP91PjpRshQM/3U+OlGyFAIbByaJHtIEAhsHJoke0gQCGwcmiR7SBAIbByaJHtIEAhsHJoke0gQCGwcmiR7SBAIbByaJHtIEAhsHJoke0gQCGwcmiR7SBAIbByaJHtIEAhsHJoke0gQCGwcmiR7SBAIbByaJHtIEC4HoXrUbggQLgehetRuCBAuB6F61G4IEC4HoXrUbggQLgehetRuCBAuB6F61G4IEC4HoXrUbggQLgehetRuCBAuB6F61G4IEC4HoXrUbggQLgehetRuCBAuB6F61G4IEC4HoXrUbggQMHKoUW28yBAwcqhRbbzIEDByqFFtvMgQMHKoUW28yBAwcqhRbbzIEDByqFFtvMgQMHKoUW28yBAwcqhRbbzIEDByqFFtvMgQMHKoUW28yBAwcqhRbbzIEDByqFFtvMgQMHKoUW28yBAwcqhRbbzIEAK16NwPcogQArXo3A9yiBACtejcD3KIEAK16NwPcogQArXo3A9yiBACtejcD3KIEAK16NwPcogQArXo3A9yiBACtejcD3KIEAK16NwPcogQArXo3A9yiBACtejcD3KIECamZmZmZkgQJqZmZmZmSBAmpmZmZmZIECamZmZmZkgQJqZmZmZmSBAmpmZmZmZIECamZmZmZkgQJqZmZmZmSBAmpmZmZmZIECamZmZmZkgQJqZmZmZmSBAmpmZmZmZIECamZmZmZkgQLTIdr6fWiBAtMh2vp9aIEC0yHa+n1ogQLTIdr6fWiBAtMh2vp9aIEC0yHa+n1ogQLTIdr6fWiBAtMh2vp9aIEC0yHa+n1ogQLTIdr6fWiBAtMh2vp9aIEC0yHa+n1ogQLTIdr6fWiBAtMh2vp9aIEB3vp8aL90eQHe+nxov3R5Ad76fGi/dHkB3vp8aL90eQHe+nxov3R5Ad76fGi/dHkB3vp8aL90eQHe+nxov3R5Ad76fGi/dHkB3vp8aL90eQHe+nxov3R5Ad76fGi/dHkB3vp8aL90eQGDl0CLb+RxAYOXQItv5HEBg5dAi2/kcQGDl0CLb+RxAYOXQItv5HEBg5dAi2/kcQGDl0CLb+RxAYOXQItv5HEBg5dAi2/kcQGDl0CLb+RxAYOXQItv5HEBg5dAi2/kcQGDl0CLb+RxA2/l+arz0G0Db+X5qvPQbQNv5fmq89BtA2/l+arz0G0Db+X5qvPQbQNv5fmq89BtA2/l+arz0G0Db+X5qvPQbQNv5fmq89BtA2/l+arz0G0Db+X5qvPQbQNv5fmq89BtA2/l+arz0G0DLoUW2830aQMuhRbbzfRpAy6FFtvN9GkDLoUW2830aQMuhRbbzfRpAy6FFtvN9GkDLoUW2830aQMuhRbbzfRpAy6FFtvN9GkDLoUW2830aQMuhRbbzfRpAy6FFtvN9GkDLoUW2830aQLbz/dR46RhAtvP91HjpGEC28/3UeOkYQLbz/dR46RhAxSCwcmiRF0DFILByaJEXQMUgsHJokRdAxSCwcmiRF0DFILByaJEXQMUgsHJokRdAxSCwcmiRF0DFILByaJEXQD0K16NwvRVAPQrXo3C9FUA9CtejcL0VQD0K16NwvRVAPQrXo3C9FUA9CtejcL0VQD0K16NwvRVAPQrXo3C9FUA9CtejcL0VQD0K16NwvRVAPQrXo3C9FUA9CtejcL0VQD0K16NwvRVA5/up8dJNFUDn+6nx0k0VQOf7qfHSTRVA5/up8dJNFUDn+6nx0k0VQOf7qfHSTRVA5/up8dJNFUDn+6nx0k0VQOf7qfHSTRVA5/up8dJNFUDn+6nx0k0VQOf7qfHSTRVA5/up8dJNFUDZzvdT4yUVQNnO91PjJRVA2c73U+MlFUDZzvdT4yUVQNnO91PjJRVA2c73U+MlFUDZzvdT4yUVQNnO91PjJRVA2c73U+MlFUDZzvdT4yUVQNnO91PjJRVA2c73U+MlFUDZzvdT4yUVQNnO91PjJRVA2/l+arx0FEDb+X5qvHQUQNv5fmq8dBRA2/l+arx0FEDb+X5qvHQUQNv5fmq8dBRA2/l+arx0FEDb+X5qvHQUQNv5fmq8dBRA2/l+arx0FEDb+X5qvHQUQNv5fmq8dBRAObTIdr4fE0A5tMh2vh8TQDm0yHa+HxNAObTIdr4fE0A5tMh2vh8TQDm0yHa+HxNAObTIdr4fE0A5tMh2vh8TQDm0yHa+HxNAObTIdr4fE0A5tMh2vh8TQDm0yHa+HxNAObTIdr4fE0C8dJMYBFYSQLx0kxgEVhJAvHSTGARWEkC8dJMYBFYSQLx0kxgEVhJAvHSTGARWEkC8dJMYBFYSQLx0kxgEVhJAvHSTGARWEkC8dJMYBFYSQLx0kxgEVhJAvHSTGARWEkC8dJMYBFYSQLx0kxgEVhJArkfhehSuEUCuR+F6FK4RQK5H4XoUrhFArkfhehSuEUCuR+F6FK4RQK5H4XoUrhFArkfhehSuEUCuR+F6FK4RQK5H4XoUrhFArkfhehSuEUCuR+F6FK4RQK5H4XoUrhFArkfhehSuEUAlBoGVQwsRQCUGgZVDCxFAJQaBlUMLEUAlBoGVQwsRQCUGgZVDCxFAJQaBlUMLEUAlBoGVQwsRQCUGgZVDCxFAJQaBlUMLEUAlBoGVQwsRQCUGgZVDCxFAJQaBlUMLEUAlBoGVQwsRQAAAAAAAgBBAAAAAAACAEEAAAAAAAIAQQAAAAAAAgBBAAAAAAACAEEAAAAAAAIAQQAAAAAAAgBBAAAAAAACAEEAAAAAAAIAQQAAAAAAAgBBAAAAAAACAEEAAAAAAAIAQQAAAAAAAgBBAObTIdr6fEEA5tMh2vp8QQDm0yHa+nxBAObTIdr6fEEA5tMh2vp8QQDm0yHa+nxBAObTIdr6fEEA5tMh2vp8QQDm0yHa+nxBAObTIdr6fEEA5tMh2vp8QQDm0yHa+nxBAObTIdr6fEEAUrkfhepQQQBSuR+F6lBBAFK5H4XqUEEAUrkfhepQQQESLbOf7KR5ARIts5/spHkBEi2zn+ykeQESLbOf7KR5ARIts5/spHkBEi2zn+ykeQESLbOf7KR5ARIts5/spHkDByqFFtnMdQMHKoUW2cx1AwcqhRbZzHUDByqFFtnMdQMHKoUW2cx1AwcqhRbZzHUDByqFFtnMdQMHKoUW2cx1AwcqhRbZzHUDByqFFtnMdQMHKoUW2cx1AwcqhRbZzHUDByqFFtnMdQNejcD0KVx1A16NwPQpXHUDXo3A9ClcdQNejcD0KVx1A16NwPQpXHUDXo3A9ClcdQNejcD0KVx1A16NwPQpXHUDXo3A9ClcdQNejcD0KVx1A16NwPQpXHUDXo3A9ClcdQNejcD0KVx1A1XjpJjEIHkDVeOkmMQgeQNV46SYxCB5A1XjpJjEIHkDVeOkmMQgeQNV46SYxCB5A1XjpJjEIHkDVeOkmMQgeQNV46SYxCB5A1XjpJjEIHkDVeOkmMQgeQNV46SYxCB5A1XjpJjEIHkDVeOkmMQgeQBBYObTI9hxAEFg5tMj2HEAQWDm0yPYcQBBYObTI9hxAEFg5tMj2HEAQWDm0yPYcQBBYObTI9hxAEFg5tMj2HEAQWDm0yPYcQBBYObTI9hxAEFg5tMj2HEAQWDm0yPYcQCPb+X5qvBtAI9v5fmq8G0Aj2/l+arwbQCPb+X5qvBtAI9v5fmq8G0Aj2/l+arwbQCPb+X5qvBtAI9v5fmq8G0Aj2/l+arwbQCPb+X5qvBtAI9v5fmq8G0Aj2/l+arwbQCPb+X5qvBtAtMh2vp+aG0C0yHa+n5obQLTIdr6fmhtAtMh2vp+aG0C0yHa+n5obQLTIdr6fmhtAtMh2vp+aG0C0yHa+n5obQLTIdr6fmhtAtMh2vp+aG0C0yHa+n5obQLTIdr6fmhtAtMh2vp+aG0C0yHa+n5obQPCnxks3CRtA8KfGSzcJG0Dwp8ZLNwkbQPCnxks3CRtA8KfGSzcJG0Dwp8ZLNwkbQPCnxks3CRtA8KfGSzcJG0Dwp8ZLNwkbQPCnxks3CRtA8KfGSzcJG0Dwp8ZLNwkbQPCnxks3CRtAQmDl0CJbGkBCYOXQIlsaQEJg5dAiWxpAQmDl0CJbGkBCYOXQIlsaQEJg5dAiWxpAQmDl0CJbGkBCYOXQIlsaQEJg5dAiWxpAQmDl0CJbGkBCYOXQIlsaQEJg5dAiWxpAQmDl0CJbGkDjpZvEIDAaQOOlm8QgMBpA46WbxCAwGkDjpZvEIDAaQOOlm8QgMBpA46WbxCAwGkDjpZvEIDAaQOOlm8QgMBpA46WbxCAwGkDjpZvEIDAaQOOlm8QgMBpA46WbxCAwGkDjpZvEIDAaQO58PzVeuhlA7nw/NV66GUDufD81XroZQO58PzVeuhlA7nw/NV66GUDufD81XroZQO58PzVeuhlA7nw/NV66GUDufD81XroZQO58PzVeuhlA7nw/NV66GUDufD81XroZQO58PzVeuhlASOF6FK7HGEBI4XoUrscYQEjhehSuxxhASOF6FK7HGEBI4XoUrocjQEjhehSuhyNASOF6FK6HI0BI4XoUrocjQEjhehSuhyNASOF6FK6HI0BI4XoUrocjQEjhehSuhyNAPzVeukkMI0A/NV66SQwjQD81XrpJDCNAPzVeukkMI0A/NV66SQwjQD81XrpJDCNAPzVeukkMI0A/NV66SQwjQD81XrpJDCNAPzVeukkMI0A/NV66SQwjQD81XrpJDCNAPzVeukkMI0DZzvdT42UiQNnO91PjZSJA2c73U+NlIkDZzvdT42UiQNnO91PjZSJA2c73U+NlIkDZzvdT42UiQNnO91PjZSJA2c73U+NlIkDZzvdT42UiQNnO91PjZSJA2c73U+NlIkDZzvdT42UiQKjGSzeJASJAqMZLN4kBIkCoxks3iQEiQKjGSzeJASJAqMZLN4kBIkCoxks3iQEiQKjGSzeJASJAqMZLN4kBIkCoxks3iQEiQKjGSzeJASJAqMZLN4kBIkCoxks3iQEiQKjGSzeJASJAqMZLN4kBIkCwcmiR7XwhQLByaJHtfCFAsHJoke18IUCwcmiR7XwhQLByaJHtfCFAsHJoke18IUCwcmiR7XwhQLByaJHtfCFAsHJoke18IUCwcmiR7XwhQLByaJHtfCFAsHJoke18IUCwcmiR7fwgQLByaJHt/CBAsHJoke38IECwcmiR7fwgQLByaJHt/CBAsHJoke38IECwcmiR7fwgQLByaJHt/CBAsHJoke38IECwcmiR7fwgQLByaJHt/CBAsHJoke38IECwcmiR7fwgQN0kBoGVgyBA3SQGgZWDIEDdJAaBlYMgQN0kBoGVgyBA3SQGgZWDIEDdJAaBlYMgQN0kBoGVgyBA3SQGgZWDIEDdJAaBlYMgQN0kBoGVgyBA3SQGgZWDIEDdJAaBlYMgQN0kBoGVgyBA3SQGgZWDIEDl0CLb+X4fQOXQItv5fh9A5dAi2/l+H0Dl0CLb+X4fQOXQItv5fh9A5dAi2/l+H0Dl0CLb+X4fQOXQItv5fh9A5dAi2/l+H0Dl0CLb+X4fQOXQItv5fh9A5dAi2/l+H0Dl0CLb+X4fQK5H4XoULh5ArkfhehQuHkCuR+F6FC4eQK5H4XoULh5ArkfhehQuHkCuR+F6FC4eQK5H4XoULh5ArkfhehQuHkCuR+F6FC4eQK5H4XoULh5ArkfhehQuHkCuR+F6FC4eQK5H4XoULh5AukkMAiuHHUC6SQwCK4cdQLpJDAIrhx1AukkMAiuHHUC6SQwCK4cdQLpJDAIrhx1AukkMAiuHHUC6SQwCK4cdQLpJDAIrhx1AukkMAiuHHUC6SQwCK4cdQLpJDAIrhx1AukkMAiuHHUCuR+F6FK4cQK5H4XoUrhxArkfhehSuHECuR+F6FK4cQK5H4XoUrhxArkfhehSuHECuR+F6FK4cQK5H4XoUrhxArkfhehSuHECuR+F6FK4cQK5H4XoUrhxArkfhehSuHECuR+F6FK4cQBKDwMqhxRtAEoPAyqHFG0ASg8DKocUbQBKDwMqhxRtAmG4Sg8AKI0CYbhKDwAojQJhuEoPACiNAmG4Sg8AKI0CYbhKDwAojQJhuEoPACiNAmG4Sg8AKI0CYbhKDwAojQFYOLbKdLyNAVg4tsp0vI0BWDi2ynS8jQFYOLbKdLyNAVg4tsp0vI0BWDi2ynS8jQFYOLbKdLyNAVg4tsp0vI0BWDi2ynS8jQFYOLbKdLyNAVg4tsp0vI0BWDi2ynS8jQFYOLbKdLyNAbxKDwMqhI0BvEoPAyqEjQG8Sg8DKoSNAbxKDwMqhI0BvEoPAyqEjQG8Sg8DKoSNAbxKDwMqhI0BvEoPAyqEjQG8Sg8DKoSNAbxKDwMqhI0BvEoPAyqEjQG8Sg8DKoSNAbxKDwMqhI0DsUbgehWskQOxRuB6FayRA7FG4HoVrJEDsUbgehWskQOxRuB6FayRA7FG4HoVrJEDsUbgehWskQOxRuB6FayRA7FG4HoVrJEDsUbgehWskQOxRuB6FayRA7FG4HoVrJEDsUbgehWskQOxRuB6FayRAsp3vp8bLJECyne+nxsskQLKd76fGyyRAsp3vp8bLJECyne+nxsskQLKd76fGyyRAsp3vp8bLJECyne+nxsskQLKd76fGyyRAsp3vp8bLJECyne+nxsskQLKd76fGyyRAtvP91HgpJUC28/3UeCklQLbz/dR4KSVAtvP91HgpJUC28/3UeCklQLbz/dR4KSVAtvP91HgpJUC28/3UeCklQLbz/dR4KSVAtvP91HgpJUC28/3UeCklQLbz/dR4KSVAtvP91HgpJUDVeOkmMUglQNV46SYxSCVA1XjpJjFIJUDVeOkmMUglQNV46SYxSCVA1XjpJjFIJUDVeOkmMUglQNV46SYxSCVA1XjpJjFIJUDVeOkmMUglQNV46SYxSCVA1XjpJjFIJUDVeOkmMUglQNV46SYxSCVAsp3vp8ZLJECyne+nxkskQLKd76fGSyRAsp3vp8ZLJECyne+nxkskQLKd76fGSyRAsp3vp8ZLJECyne+nxkskQLKd76fGSyRAsp3vp8ZLJECyne+nxkskQLKd76fGSyRAsp3vp8ZLJEB1kxgEVk4jQHWTGARWTiNAdZMYBFZOI0B1kxgEVk4jQHWTGARWTiNAdZMYBFZOI0B1kxgEVk4jQHWTGARWTiNAdZMYBFZOI0B1kxgEVk4jQHWTGARWTiNAdZMYBFZOI0B1kxgEVk4jQGZmZmZmJiNAZmZmZmYmI0BmZmZmZiYjQGZmZmZmJiNAZmZmZmYmI0BmZmZmZiYjQGZmZmZmJiNAZmZmZmYmI0BmZmZmZiYjQGZmZmZmJiNAZmZmZmYmI0BmZmZmZiYjQGZmZmZmJiNAUrgeheuRIkBSuB6F65EiQFK4HoXrkSJAUrgeheuRIkBSuB6F65EiQFK4HoXrkSJAUrgeheuRIkBSuB6F65EiQFK4HoXrkSJAUrgeheuRIkBSuB6F65EiQFK4HoXrkSJAUrgeheuRIkAhsHJoka0hQCGwcmiRrSFAIbByaJGtIUAhsHJoka0hQLByaJHtPCBAsHJoke08IECwcmiR7TwgQLByaJHtPCBAsHJoke08IECwcmiR7TwgQLByaJHtPCBAsHJoke08IEAX2c73U+MfQBfZzvdT4x9AF9nO91PjH0AX2c73U+MfQBfZzvdT4x9AF9nO91PjH0AX2c73U+MfQBfZzvdT4x9AF9nO91PjH0AX2c73U+MfQBfZzvdT4x9AF9nO91PjH0AX2c73U+MfQJ7vp8ZLNx9Anu+nxks3H0Ce76fGSzcfQJ7vp8ZLNx9Anu+nxks3H0Ce76fGSzcfQJ7vp8ZLNx9Anu+nxks3H0Ce76fGSzcfQJ7vp8ZLNx9Anu+nxks3H0Ce76fGSzcfQJ7vp8ZLNx9AcT0K16NwHkBxPQrXo3AeQHE9CtejcB5AcT0K16NwHkBxPQrXo3AeQHE9CtejcB5AcT0K16NwHkBxPQrXo3AeQHE9CtejcB5AcT0K16NwHkBxPQrXo3AeQHE9CtejcB5AcT0K16NwHkBxPQrXo3AeQEw3iUFg5RxATDeJQWDlHEBMN4lBYOUcQEw3iUFg5RxATDeJQWDlHEBMN4lBYOUcQEw3iUFg5RxATDeJQWDlHEBMN4lBYOUcQEw3iUFg5RxATDeJQWDlHEBMN4lBYOUcQDm0yHa+nxtAObTIdr6fG0A5tMh2vp8bQDm0yHa+nxtAObTIdr6fG0A5tMh2vp8bQDm0yHa+nxtAObTIdr6fG0A5tMh2vp8bQDm0yHa+nxtAObTIdr6fG0A5tMh2vp8bQDm0yHa+nxtAPQrXo3A9GkA9CtejcD0aQD0K16NwPRpAPQrXo3A9GkA9CtejcD0aQD0K16NwPRpAPQrXo3A9GkA9CtejcD0aQD0K16NwPRpAPQrXo3A9GkA9CtejcD0aQD0K16NwPRpAPQrXo3A9GkA9CtejcD0aQB1aZDvfTxhAHVpkO99PGEAdWmQ7308YQB1aZDvfTxhAHVpkO99PGEAdWmQ7308YQB1aZDvfTxhAHVpkO99PGEAdWmQ7308YQB1aZDvfTxhAHVpkO99PGEAdWmQ7308YQB1aZDvfTxhAf2q8dJMYF0B/arx0kxgXQH9qvHSTGBdAf2q8dJMYF0B/arx0kxgXQH9qvHSTGBdAf2q8dJMYF0B/arx0kxgXQH9qvHSTGBdAf2q8dJMYF0B/arx0kxgXQH9qvHSTGBdAf2q8dJMYF0CWQ4ts53sWQJZDi2znexZAlkOLbOd7FkCWQ4ts53sWQJZDi2znexZAlkOLbOd7FkCWQ4ts53sWQJZDi2znexZAlkOLbOd7FkCWQ4ts53sWQJZDi2znexZAlkOLbOd7FkCWQ4ts53sWQFTjpZvEoBVAVOOlm8SgFUBU46WbxKAVQFTjpZvEoBVAVOOlm8SgFUBU46WbxKAVQFTjpZvEoBVAVOOlm8SgFUBU46WbxKAVQFTjpZvEoBVAVOOlm8SgFUBU46WbxKAVQFTjpZvEoBVAke18PzXeFECR7Xw/Nd4UQJHtfD813hRAke18PzXeFECWQ4ts5/shQJZDi2zn+yFAlkOLbOf7IUCWQ4ts5/shQJZDi2zn+yFAlkOLbOf7IUCWQ4ts5/shQJZDi2zn+yFAPzVeuknMIUA/NV66ScwhQD81XrpJzCFAPzVeuknMIUA/NV66ScwhQD81XrpJzCFAPzVeuknMIUA/NV66ScwhQD81XrpJzCFAPzVeuknMIUA/NV66ScwhQD81XrpJzCFAPzVeuknMIUAj2/l+anwhQCPb+X5qfCFAI9v5fmp8IUAj2/l+anwhQCPb+X5qfCFAI9v5fmp8IUAj2/l+anwhQCPb+X5qfCFAI9v5fmp8IUAj2/l+anwhQCPb+X5qfCFAI9v5fmp8IUAj2/l+anwhQKabxCCwciFAppvEILByIUCmm8QgsHIhQKabxCCwciFAppvEILByIUCmm8QgsHIhQKabxCCwciFAppvEILByIUCmm8QgsHIhQKabxCCwciFAppvEILByIUCmm8QgsHIhQKabxCCwciFAppvEILByIUAMAiuHFhkhQAwCK4cWGSFADAIrhxYZIUAMAiuHFhkhQAwCK4cWGSFADAIrhxYZIUAMAiuHFhkhQAwCK4cWGSFADAIrhxYZIUAMAiuHFhkhQAwCK4cWGSFADAIrhxYZIUCYbhKDwAohQJhuEoPACiFAmG4Sg8AKIUCYbhKDwAohQJhuEoPACiFAmG4Sg8AKIUCYbhKDwAohQJhuEoPACiFAmG4Sg8AKIUCYbhKDwAohQJhuEoPACiFAmG4Sg8AKIUCYbhKDwAohQAAAAAAAQCFAAAAAAABAIUAAAAAAAEAhQAAAAAAAQCFAAAAAAABAIUAAAAAAAEAhQAAAAAAAQCFAAAAAAABAIUAAAAAAAEAhQAAAAAAAQCFAAAAAAABAIUAAAAAAAEAhQAAAAAAAQCFAAAAAAABAIUCyne+nxgshQLKd76fGCyFAsp3vp8YLIUCyne+nxgshQLKd76fGCyFAsp3vp8YLIUCyne+nxgshQLKd76fGCyFAsp3vp8YLIUCyne+nxgshQLKd76fGCyFAsp3vp8YLIUCyne+nxgshQAwCK4cW2SBADAIrhxbZIEAMAiuHFtkgQAwCK4cW2SBADAIrhxbZIEAMAiuHFtkgQAwCK4cW2SBADAIrhxbZIEAMAiuHFtkgQAwCK4cW2SBADAIrhxbZIEAMAiuHFtkgQAwCK4cW2SBA/Knx0k0iIUD8qfHSTSIhQPyp8dJNIiFA/Knx0k0iIUD8qfHSTSIhQPyp8dJNIiFA/Knx0k0iIUD8qfHSTSIhQPyp8dJNIiFA/Knx0k0iIUD8qfHSTSIhQPyp8dJNIiFA/Knx0k0iIUCR7Xw/NV4hQJHtfD81XiFAke18PzVeIUCR7Xw/NV4hQJHtfD81XiFAke18PzVeIUCR7Xw/NV4hQJHtfD81XiFAke18PzVeIUCR7Xw/NV4hQJHtfD81XiFAke18PzVeIUCR7Xw/NV4hQC/dJAaBVSFAL90kBoFVIUAv3SQGgVUhQC/dJAaBVSFA",
          "dtype": "f8"
         }
        }
       ],
       "layout": {
        "template": {
         "data": {
          "bar": [
           {
            "error_x": {
             "color": "#2a3f5f"
            },
            "error_y": {
             "color": "#2a3f5f"
            },
            "marker": {
             "line": {
              "color": "#E5ECF6",
              "width": 0.5
             },
             "pattern": {
              "fillmode": "overlay",
              "size": 10,
              "solidity": 0.2
             }
            },
            "type": "bar"
           }
          ],
          "barpolar": [
           {
            "marker": {
             "line": {
              "color": "#E5ECF6",
              "width": 0.5
             },
             "pattern": {
              "fillmode": "overlay",
              "size": 10,
              "solidity": 0.2
             }
            },
            "type": "barpolar"
           }
          ],
          "carpet": [
           {
            "aaxis": {
             "endlinecolor": "#2a3f5f",
             "gridcolor": "white",
             "linecolor": "white",
             "minorgridcolor": "white",
             "startlinecolor": "#2a3f5f"
            },
            "baxis": {
             "endlinecolor": "#2a3f5f",
             "gridcolor": "white",
             "linecolor": "white",
             "minorgridcolor": "white",
             "startlinecolor": "#2a3f5f"
            },
            "type": "carpet"
           }
          ],
          "choropleth": [
           {
            "colorbar": {
             "outlinewidth": 0,
             "ticks": ""
            },
            "type": "choropleth"
           }
          ],
          "contour": [
           {
            "colorbar": {
             "outlinewidth": 0,
             "ticks": ""
            },
            "colorscale": [
             [
              0,
              "#0d0887"
             ],
             [
              0.1111111111111111,
              "#46039f"
             ],
             [
              0.2222222222222222,
              "#7201a8"
             ],
             [
              0.3333333333333333,
              "#9c179e"
             ],
             [
              0.4444444444444444,
              "#bd3786"
             ],
             [
              0.5555555555555556,
              "#d8576b"
             ],
             [
              0.6666666666666666,
              "#ed7953"
             ],
             [
              0.7777777777777778,
              "#fb9f3a"
             ],
             [
              0.8888888888888888,
              "#fdca26"
             ],
             [
              1,
              "#f0f921"
             ]
            ],
            "type": "contour"
           }
          ],
          "contourcarpet": [
           {
            "colorbar": {
             "outlinewidth": 0,
             "ticks": ""
            },
            "type": "contourcarpet"
           }
          ],
          "heatmap": [
           {
            "colorbar": {
             "outlinewidth": 0,
             "ticks": ""
            },
            "colorscale": [
             [
              0,
              "#0d0887"
             ],
             [
              0.1111111111111111,
              "#46039f"
             ],
             [
              0.2222222222222222,
              "#7201a8"
             ],
             [
              0.3333333333333333,
              "#9c179e"
             ],
             [
              0.4444444444444444,
              "#bd3786"
             ],
             [
              0.5555555555555556,
              "#d8576b"
             ],
             [
              0.6666666666666666,
              "#ed7953"
             ],
             [
              0.7777777777777778,
              "#fb9f3a"
             ],
             [
              0.8888888888888888,
              "#fdca26"
             ],
             [
              1,
              "#f0f921"
             ]
            ],
            "type": "heatmap"
           }
          ],
          "histogram": [
           {
            "marker": {
             "pattern": {
              "fillmode": "overlay",
              "size": 10,
              "solidity": 0.2
             }
            },
            "type": "histogram"
           }
          ],
          "histogram2d": [
           {
            "colorbar": {
             "outlinewidth": 0,
             "ticks": ""
            },
            "colorscale": [
             [
              0,
              "#0d0887"
             ],
             [
              0.1111111111111111,
              "#46039f"
             ],
             [
              0.2222222222222222,
              "#7201a8"
             ],
             [
              0.3333333333333333,
              "#9c179e"
             ],
             [
              0.4444444444444444,
              "#bd3786"
             ],
             [
              0.5555555555555556,
              "#d8576b"
             ],
             [
              0.6666666666666666,
              "#ed7953"
             ],
             [
              0.7777777777777778,
              "#fb9f3a"
             ],
             [
              0.8888888888888888,
              "#fdca26"
             ],
             [
              1,
              "#f0f921"
             ]
            ],
            "type": "histogram2d"
           }
          ],
          "histogram2dcontour": [
           {
            "colorbar": {
             "outlinewidth": 0,
             "ticks": ""
            },
            "colorscale": [
             [
              0,
              "#0d0887"
             ],
             [
              0.1111111111111111,
              "#46039f"
             ],
             [
              0.2222222222222222,
              "#7201a8"
             ],
             [
              0.3333333333333333,
              "#9c179e"
             ],
             [
              0.4444444444444444,
              "#bd3786"
             ],
             [
              0.5555555555555556,
              "#d8576b"
             ],
             [
              0.6666666666666666,
              "#ed7953"
             ],
             [
              0.7777777777777778,
              "#fb9f3a"
             ],
             [
              0.8888888888888888,
              "#fdca26"
             ],
             [
              1,
              "#f0f921"
             ]
            ],
            "type": "histogram2dcontour"
           }
          ],
          "mesh3d": [
           {
            "colorbar": {
             "outlinewidth": 0,
             "ticks": ""
            },
            "type": "mesh3d"
           }
          ],
          "parcoords": [
           {
            "line": {
             "colorbar": {
              "outlinewidth": 0,
              "ticks": ""
             }
            },
            "type": "parcoords"
           }
          ],
          "pie": [
           {
            "automargin": true,
            "type": "pie"
           }
          ],
          "scatter": [
           {
            "fillpattern": {
             "fillmode": "overlay",
             "size": 10,
             "solidity": 0.2
            },
            "type": "scatter"
           }
          ],
          "scatter3d": [
           {
            "line": {
             "colorbar": {
              "outlinewidth": 0,
              "ticks": ""
             }
            },
            "marker": {
             "colorbar": {
              "outlinewidth": 0,
              "ticks": ""
             }
            },
            "type": "scatter3d"
           }
          ],
          "scattercarpet": [
           {
            "marker": {
             "colorbar": {
              "outlinewidth": 0,
              "ticks": ""
             }
            },
            "type": "scattercarpet"
           }
          ],
          "scattergeo": [
           {
            "marker": {
             "colorbar": {
              "outlinewidth": 0,
              "ticks": ""
             }
            },
            "type": "scattergeo"
           }
          ],
          "scattergl": [
           {
            "marker": {
             "colorbar": {
              "outlinewidth": 0,
              "ticks": ""
             }
            },
            "type": "scattergl"
           }
          ],
          "scattermap": [
           {
            "marker": {
             "colorbar": {
              "outlinewidth": 0,
              "ticks": ""
             }
            },
            "type": "scattermap"
           }
          ],
          "scattermapbox": [
           {
            "marker": {
             "colorbar": {
              "outlinewidth": 0,
              "ticks": ""
             }
            },
            "type": "scattermapbox"
           }
          ],
          "scatterpolar": [
           {
            "marker": {
             "colorbar": {
              "outlinewidth": 0,
              "ticks": ""
             }
            },
            "type": "scatterpolar"
           }
          ],
          "scatterpolargl": [
           {
            "marker": {
             "colorbar": {
              "outlinewidth": 0,
              "ticks": ""
             }
            },
            "type": "scatterpolargl"
           }
          ],
          "scatterternary": [
           {
            "marker": {
             "colorbar": {
              "outlinewidth": 0,
              "ticks": ""
             }
            },
            "type": "scatterternary"
           }
          ],
          "surface": [
           {
            "colorbar": {
             "outlinewidth": 0,
             "ticks": ""
            },
            "colorscale": [
             [
              0,
              "#0d0887"
             ],
             [
              0.1111111111111111,
              "#46039f"
             ],
             [
              0.2222222222222222,
              "#7201a8"
             ],
             [
              0.3333333333333333,
              "#9c179e"
             ],
             [
              0.4444444444444444,
              "#bd3786"
             ],
             [
              0.5555555555555556,
              "#d8576b"
             ],
             [
              0.6666666666666666,
              "#ed7953"
             ],
             [
              0.7777777777777778,
              "#fb9f3a"
             ],
             [
              0.8888888888888888,
              "#fdca26"
             ],
             [
              1,
              "#f0f921"
             ]
            ],
            "type": "surface"
           }
          ],
          "table": [
           {
            "cells": {
             "fill": {
              "color": "#EBF0F8"
             },
             "line": {
              "color": "white"
             }
            },
            "header": {
             "fill": {
              "color": "#C8D4E3"
             },
             "line": {
              "color": "white"
             }
            },
            "type": "table"
           }
          ]
         },
         "layout": {
          "annotationdefaults": {
           "arrowcolor": "#2a3f5f",
           "arrowhead": 0,
           "arrowwidth": 1
          },
          "autotypenumbers": "strict",
          "coloraxis": {
           "colorbar": {
            "outlinewidth": 0,
            "ticks": ""
           }
          },
          "colorscale": {
           "diverging": [
            [
             0,
             "#8e0152"
            ],
            [
             0.1,
             "#c51b7d"
            ],
            [
             0.2,
             "#de77ae"
            ],
            [
             0.3,
             "#f1b6da"
            ],
            [
             0.4,
             "#fde0ef"
            ],
            [
             0.5,
             "#f7f7f7"
            ],
            [
             0.6,
             "#e6f5d0"
            ],
            [
             0.7,
             "#b8e186"
            ],
            [
             0.8,
             "#7fbc41"
            ],
            [
             0.9,
             "#4d9221"
            ],
            [
             1,
             "#276419"
            ]
           ],
           "sequential": [
            [
             0,
             "#0d0887"
            ],
            [
             0.1111111111111111,
             "#46039f"
            ],
            [
             0.2222222222222222,
             "#7201a8"
            ],
            [
             0.3333333333333333,
             "#9c179e"
            ],
            [
             0.4444444444444444,
             "#bd3786"
            ],
            [
             0.5555555555555556,
             "#d8576b"
            ],
            [
             0.6666666666666666,
             "#ed7953"
            ],
            [
             0.7777777777777778,
             "#fb9f3a"
            ],
            [
             0.8888888888888888,
             "#fdca26"
            ],
            [
             1,
             "#f0f921"
            ]
           ],
           "sequentialminus": [
            [
             0,
             "#0d0887"
            ],
            [
             0.1111111111111111,
             "#46039f"
            ],
            [
             0.2222222222222222,
             "#7201a8"
            ],
            [
             0.3333333333333333,
             "#9c179e"
            ],
            [
             0.4444444444444444,
             "#bd3786"
            ],
            [
             0.5555555555555556,
             "#d8576b"
            ],
            [
             0.6666666666666666,
             "#ed7953"
            ],
            [
             0.7777777777777778,
             "#fb9f3a"
            ],
            [
             0.8888888888888888,
             "#fdca26"
            ],
            [
             1,
             "#f0f921"
            ]
           ]
          },
          "colorway": [
           "#636efa",
           "#EF553B",
           "#00cc96",
           "#ab63fa",
           "#FFA15A",
           "#19d3f3",
           "#FF6692",
           "#B6E880",
           "#FF97FF",
           "#FECB52"
          ],
          "font": {
           "color": "#2a3f5f"
          },
          "geo": {
           "bgcolor": "white",
           "lakecolor": "white",
           "landcolor": "#E5ECF6",
           "showlakes": true,
           "showland": true,
           "subunitcolor": "white"
          },
          "hoverlabel": {
           "align": "left"
          },
          "hovermode": "closest",
          "mapbox": {
           "style": "light"
          },
          "paper_bgcolor": "white",
          "plot_bgcolor": "#E5ECF6",
          "polar": {
           "angularaxis": {
            "gridcolor": "white",
            "linecolor": "white",
            "ticks": ""
           },
           "bgcolor": "#E5ECF6",
           "radialaxis": {
            "gridcolor": "white",
            "linecolor": "white",
            "ticks": ""
           }
          },
          "scene": {
           "xaxis": {
            "backgroundcolor": "#E5ECF6",
            "gridcolor": "white",
            "gridwidth": 2,
            "linecolor": "white",
            "showbackground": true,
            "ticks": "",
            "zerolinecolor": "white"
           },
           "yaxis": {
            "backgroundcolor": "#E5ECF6",
            "gridcolor": "white",
            "gridwidth": 2,
            "linecolor": "white",
            "showbackground": true,
            "ticks": "",
            "zerolinecolor": "white"
           },
           "zaxis": {
            "backgroundcolor": "#E5ECF6",
            "gridcolor": "white",
            "gridwidth": 2,
            "linecolor": "white",
            "showbackground": true,
            "ticks": "",
            "zerolinecolor": "white"
           }
          },
          "shapedefaults": {
           "line": {
            "color": "#2a3f5f"
           }
          },
          "ternary": {
           "aaxis": {
            "gridcolor": "white",
            "linecolor": "white",
            "ticks": ""
           },
           "baxis": {
            "gridcolor": "white",
            "linecolor": "white",
            "ticks": ""
           },
           "bgcolor": "#E5ECF6",
           "caxis": {
            "gridcolor": "white",
            "linecolor": "white",
            "ticks": ""
           }
          },
          "title": {
           "x": 0.05
          },
          "xaxis": {
           "automargin": true,
           "gridcolor": "white",
           "linecolor": "white",
           "ticks": "",
           "title": {
            "standoff": 15
           },
           "zerolinecolor": "white",
           "zerolinewidth": 2
          },
          "yaxis": {
           "automargin": true,
           "gridcolor": "white",
           "linecolor": "white",
           "ticks": "",
           "title": {
            "standoff": 15
           },
           "zerolinecolor": "white",
           "zerolinewidth": 2
          }
         }
        },
        "title": {
         "text": "Boxplot - Unemployment"
        },
        "yaxis": {
         "title": {
          "text": "Unemployment"
         }
        }
       }
      }
     },
     "metadata": {},
     "output_type": "display_data"
    }
   ],
   "source": [
    "# Histogramme für jede Variable\n",
    "for col_name in num_cols:\n",
    "    fig = go.Figure()\n",
    "    fig.add_trace(go.Histogram(\n",
    "        x=walmart_sales[col_name],\n",
    "        nbinsx=20,\n",
    "        marker_color='royalblue'\n",
    "    ))\n",
    "    fig.update_layout(\n",
    "        title=f\"Histogramm - {col_name}\",\n",
    "        xaxis_title=col_name,\n",
    "        yaxis_title=\"Häufigkeit\",\n",
    "        bargap=0.05\n",
    "    )\n",
    "    fig.show()\n",
    "\n",
    "for col_name in num_cols:\n",
    "    fig1 = go.Figure()\n",
    "    fig1.add_trace(go.Box(\n",
    "        y=walmart_sales[col_name],\n",
    "        name=col_name,\n",
    "        boxmean='sd',\n",
    "        marker_color='indianred'\n",
    "    ))\n",
    "    fig1.update_layout(\n",
    "        title=f\"Boxplot - {col_name}\",\n",
    "        yaxis_title=col_name\n",
    "    )\n",
    "    fig1.show()"
   ]
  },
  {
   "cell_type": "markdown",
   "metadata": {},
   "source": [
    "## 4. Korrelationen & erste Hypothesen\n",
    "\n"
   ]
  },
  {
   "cell_type": "code",
   "execution_count": 21,
   "metadata": {},
   "outputs": [],
   "source": [
    "# Pearson-Korrelationen berechnen\n",
    "corr_matrix = walmart_sales[num_cols].corr(method=\"pearson\")"
   ]
  },
  {
   "cell_type": "code",
   "execution_count": 22,
   "metadata": {},
   "outputs": [
    {
     "data": {
      "application/vnd.plotly.v1+json": {
       "config": {
        "plotlyServerURL": "https://plot.ly"
       },
       "data": [
        {
         "colorbar": {
          "title": {
           "text": "Korrelation"
          }
         },
         "colorscale": [
          [
           0,
           "rgb(103,0,31)"
          ],
          [
           0.1,
           "rgb(178,24,43)"
          ],
          [
           0.2,
           "rgb(214,96,77)"
          ],
          [
           0.3,
           "rgb(244,165,130)"
          ],
          [
           0.4,
           "rgb(253,219,199)"
          ],
          [
           0.5,
           "rgb(247,247,247)"
          ],
          [
           0.6,
           "rgb(209,229,240)"
          ],
          [
           0.7,
           "rgb(146,197,222)"
          ],
          [
           0.8,
           "rgb(67,147,195)"
          ],
          [
           0.9,
           "rgb(33,102,172)"
          ],
          [
           1,
           "rgb(5,48,97)"
          ]
         ],
         "type": "heatmap",
         "x": [
          "Weekly_Sales",
          "Temperature",
          "Fuel_Price",
          "CPI",
          "Unemployment"
         ],
         "y": [
          "Weekly_Sales",
          "Temperature",
          "Fuel_Price",
          "CPI",
          "Unemployment"
         ],
         "z": {
          "bdata": "AAAAAAAA8D+OXcNf2lWwv99svOW/YYM/B/CIBieYsr+ptLIwWy67v45dw1/aVbC/AAAAAAAA8D91+JOJw47CP4xPemBBpMY/x3CsOHvluT/fbLzlv2GDP3X4k4nDjsI/AAAAAAAA8D8QVtggl9fFv3tb4FsRwqG/B/CIBieYsr+MT3pgQaTGPxBW2CCX18W/AAAAAAAA8D+fEBv2S1TTv6m0sjBbLru/x3CsOHvluT97W+BbEcKhv58QG/ZLVNO/AAAAAAAA8D8=",
          "dtype": "f8",
          "shape": "5, 5"
         },
         "zmax": 1,
         "zmin": -1
        }
       ],
       "layout": {
        "template": {
         "data": {
          "bar": [
           {
            "error_x": {
             "color": "#2a3f5f"
            },
            "error_y": {
             "color": "#2a3f5f"
            },
            "marker": {
             "line": {
              "color": "#E5ECF6",
              "width": 0.5
             },
             "pattern": {
              "fillmode": "overlay",
              "size": 10,
              "solidity": 0.2
             }
            },
            "type": "bar"
           }
          ],
          "barpolar": [
           {
            "marker": {
             "line": {
              "color": "#E5ECF6",
              "width": 0.5
             },
             "pattern": {
              "fillmode": "overlay",
              "size": 10,
              "solidity": 0.2
             }
            },
            "type": "barpolar"
           }
          ],
          "carpet": [
           {
            "aaxis": {
             "endlinecolor": "#2a3f5f",
             "gridcolor": "white",
             "linecolor": "white",
             "minorgridcolor": "white",
             "startlinecolor": "#2a3f5f"
            },
            "baxis": {
             "endlinecolor": "#2a3f5f",
             "gridcolor": "white",
             "linecolor": "white",
             "minorgridcolor": "white",
             "startlinecolor": "#2a3f5f"
            },
            "type": "carpet"
           }
          ],
          "choropleth": [
           {
            "colorbar": {
             "outlinewidth": 0,
             "ticks": ""
            },
            "type": "choropleth"
           }
          ],
          "contour": [
           {
            "colorbar": {
             "outlinewidth": 0,
             "ticks": ""
            },
            "colorscale": [
             [
              0,
              "#0d0887"
             ],
             [
              0.1111111111111111,
              "#46039f"
             ],
             [
              0.2222222222222222,
              "#7201a8"
             ],
             [
              0.3333333333333333,
              "#9c179e"
             ],
             [
              0.4444444444444444,
              "#bd3786"
             ],
             [
              0.5555555555555556,
              "#d8576b"
             ],
             [
              0.6666666666666666,
              "#ed7953"
             ],
             [
              0.7777777777777778,
              "#fb9f3a"
             ],
             [
              0.8888888888888888,
              "#fdca26"
             ],
             [
              1,
              "#f0f921"
             ]
            ],
            "type": "contour"
           }
          ],
          "contourcarpet": [
           {
            "colorbar": {
             "outlinewidth": 0,
             "ticks": ""
            },
            "type": "contourcarpet"
           }
          ],
          "heatmap": [
           {
            "colorbar": {
             "outlinewidth": 0,
             "ticks": ""
            },
            "colorscale": [
             [
              0,
              "#0d0887"
             ],
             [
              0.1111111111111111,
              "#46039f"
             ],
             [
              0.2222222222222222,
              "#7201a8"
             ],
             [
              0.3333333333333333,
              "#9c179e"
             ],
             [
              0.4444444444444444,
              "#bd3786"
             ],
             [
              0.5555555555555556,
              "#d8576b"
             ],
             [
              0.6666666666666666,
              "#ed7953"
             ],
             [
              0.7777777777777778,
              "#fb9f3a"
             ],
             [
              0.8888888888888888,
              "#fdca26"
             ],
             [
              1,
              "#f0f921"
             ]
            ],
            "type": "heatmap"
           }
          ],
          "histogram": [
           {
            "marker": {
             "pattern": {
              "fillmode": "overlay",
              "size": 10,
              "solidity": 0.2
             }
            },
            "type": "histogram"
           }
          ],
          "histogram2d": [
           {
            "colorbar": {
             "outlinewidth": 0,
             "ticks": ""
            },
            "colorscale": [
             [
              0,
              "#0d0887"
             ],
             [
              0.1111111111111111,
              "#46039f"
             ],
             [
              0.2222222222222222,
              "#7201a8"
             ],
             [
              0.3333333333333333,
              "#9c179e"
             ],
             [
              0.4444444444444444,
              "#bd3786"
             ],
             [
              0.5555555555555556,
              "#d8576b"
             ],
             [
              0.6666666666666666,
              "#ed7953"
             ],
             [
              0.7777777777777778,
              "#fb9f3a"
             ],
             [
              0.8888888888888888,
              "#fdca26"
             ],
             [
              1,
              "#f0f921"
             ]
            ],
            "type": "histogram2d"
           }
          ],
          "histogram2dcontour": [
           {
            "colorbar": {
             "outlinewidth": 0,
             "ticks": ""
            },
            "colorscale": [
             [
              0,
              "#0d0887"
             ],
             [
              0.1111111111111111,
              "#46039f"
             ],
             [
              0.2222222222222222,
              "#7201a8"
             ],
             [
              0.3333333333333333,
              "#9c179e"
             ],
             [
              0.4444444444444444,
              "#bd3786"
             ],
             [
              0.5555555555555556,
              "#d8576b"
             ],
             [
              0.6666666666666666,
              "#ed7953"
             ],
             [
              0.7777777777777778,
              "#fb9f3a"
             ],
             [
              0.8888888888888888,
              "#fdca26"
             ],
             [
              1,
              "#f0f921"
             ]
            ],
            "type": "histogram2dcontour"
           }
          ],
          "mesh3d": [
           {
            "colorbar": {
             "outlinewidth": 0,
             "ticks": ""
            },
            "type": "mesh3d"
           }
          ],
          "parcoords": [
           {
            "line": {
             "colorbar": {
              "outlinewidth": 0,
              "ticks": ""
             }
            },
            "type": "parcoords"
           }
          ],
          "pie": [
           {
            "automargin": true,
            "type": "pie"
           }
          ],
          "scatter": [
           {
            "fillpattern": {
             "fillmode": "overlay",
             "size": 10,
             "solidity": 0.2
            },
            "type": "scatter"
           }
          ],
          "scatter3d": [
           {
            "line": {
             "colorbar": {
              "outlinewidth": 0,
              "ticks": ""
             }
            },
            "marker": {
             "colorbar": {
              "outlinewidth": 0,
              "ticks": ""
             }
            },
            "type": "scatter3d"
           }
          ],
          "scattercarpet": [
           {
            "marker": {
             "colorbar": {
              "outlinewidth": 0,
              "ticks": ""
             }
            },
            "type": "scattercarpet"
           }
          ],
          "scattergeo": [
           {
            "marker": {
             "colorbar": {
              "outlinewidth": 0,
              "ticks": ""
             }
            },
            "type": "scattergeo"
           }
          ],
          "scattergl": [
           {
            "marker": {
             "colorbar": {
              "outlinewidth": 0,
              "ticks": ""
             }
            },
            "type": "scattergl"
           }
          ],
          "scattermap": [
           {
            "marker": {
             "colorbar": {
              "outlinewidth": 0,
              "ticks": ""
             }
            },
            "type": "scattermap"
           }
          ],
          "scattermapbox": [
           {
            "marker": {
             "colorbar": {
              "outlinewidth": 0,
              "ticks": ""
             }
            },
            "type": "scattermapbox"
           }
          ],
          "scatterpolar": [
           {
            "marker": {
             "colorbar": {
              "outlinewidth": 0,
              "ticks": ""
             }
            },
            "type": "scatterpolar"
           }
          ],
          "scatterpolargl": [
           {
            "marker": {
             "colorbar": {
              "outlinewidth": 0,
              "ticks": ""
             }
            },
            "type": "scatterpolargl"
           }
          ],
          "scatterternary": [
           {
            "marker": {
             "colorbar": {
              "outlinewidth": 0,
              "ticks": ""
             }
            },
            "type": "scatterternary"
           }
          ],
          "surface": [
           {
            "colorbar": {
             "outlinewidth": 0,
             "ticks": ""
            },
            "colorscale": [
             [
              0,
              "#0d0887"
             ],
             [
              0.1111111111111111,
              "#46039f"
             ],
             [
              0.2222222222222222,
              "#7201a8"
             ],
             [
              0.3333333333333333,
              "#9c179e"
             ],
             [
              0.4444444444444444,
              "#bd3786"
             ],
             [
              0.5555555555555556,
              "#d8576b"
             ],
             [
              0.6666666666666666,
              "#ed7953"
             ],
             [
              0.7777777777777778,
              "#fb9f3a"
             ],
             [
              0.8888888888888888,
              "#fdca26"
             ],
             [
              1,
              "#f0f921"
             ]
            ],
            "type": "surface"
           }
          ],
          "table": [
           {
            "cells": {
             "fill": {
              "color": "#EBF0F8"
             },
             "line": {
              "color": "white"
             }
            },
            "header": {
             "fill": {
              "color": "#C8D4E3"
             },
             "line": {
              "color": "white"
             }
            },
            "type": "table"
           }
          ]
         },
         "layout": {
          "annotationdefaults": {
           "arrowcolor": "#2a3f5f",
           "arrowhead": 0,
           "arrowwidth": 1
          },
          "autotypenumbers": "strict",
          "coloraxis": {
           "colorbar": {
            "outlinewidth": 0,
            "ticks": ""
           }
          },
          "colorscale": {
           "diverging": [
            [
             0,
             "#8e0152"
            ],
            [
             0.1,
             "#c51b7d"
            ],
            [
             0.2,
             "#de77ae"
            ],
            [
             0.3,
             "#f1b6da"
            ],
            [
             0.4,
             "#fde0ef"
            ],
            [
             0.5,
             "#f7f7f7"
            ],
            [
             0.6,
             "#e6f5d0"
            ],
            [
             0.7,
             "#b8e186"
            ],
            [
             0.8,
             "#7fbc41"
            ],
            [
             0.9,
             "#4d9221"
            ],
            [
             1,
             "#276419"
            ]
           ],
           "sequential": [
            [
             0,
             "#0d0887"
            ],
            [
             0.1111111111111111,
             "#46039f"
            ],
            [
             0.2222222222222222,
             "#7201a8"
            ],
            [
             0.3333333333333333,
             "#9c179e"
            ],
            [
             0.4444444444444444,
             "#bd3786"
            ],
            [
             0.5555555555555556,
             "#d8576b"
            ],
            [
             0.6666666666666666,
             "#ed7953"
            ],
            [
             0.7777777777777778,
             "#fb9f3a"
            ],
            [
             0.8888888888888888,
             "#fdca26"
            ],
            [
             1,
             "#f0f921"
            ]
           ],
           "sequentialminus": [
            [
             0,
             "#0d0887"
            ],
            [
             0.1111111111111111,
             "#46039f"
            ],
            [
             0.2222222222222222,
             "#7201a8"
            ],
            [
             0.3333333333333333,
             "#9c179e"
            ],
            [
             0.4444444444444444,
             "#bd3786"
            ],
            [
             0.5555555555555556,
             "#d8576b"
            ],
            [
             0.6666666666666666,
             "#ed7953"
            ],
            [
             0.7777777777777778,
             "#fb9f3a"
            ],
            [
             0.8888888888888888,
             "#fdca26"
            ],
            [
             1,
             "#f0f921"
            ]
           ]
          },
          "colorway": [
           "#636efa",
           "#EF553B",
           "#00cc96",
           "#ab63fa",
           "#FFA15A",
           "#19d3f3",
           "#FF6692",
           "#B6E880",
           "#FF97FF",
           "#FECB52"
          ],
          "font": {
           "color": "#2a3f5f"
          },
          "geo": {
           "bgcolor": "white",
           "lakecolor": "white",
           "landcolor": "#E5ECF6",
           "showlakes": true,
           "showland": true,
           "subunitcolor": "white"
          },
          "hoverlabel": {
           "align": "left"
          },
          "hovermode": "closest",
          "mapbox": {
           "style": "light"
          },
          "paper_bgcolor": "white",
          "plot_bgcolor": "#E5ECF6",
          "polar": {
           "angularaxis": {
            "gridcolor": "white",
            "linecolor": "white",
            "ticks": ""
           },
           "bgcolor": "#E5ECF6",
           "radialaxis": {
            "gridcolor": "white",
            "linecolor": "white",
            "ticks": ""
           }
          },
          "scene": {
           "xaxis": {
            "backgroundcolor": "#E5ECF6",
            "gridcolor": "white",
            "gridwidth": 2,
            "linecolor": "white",
            "showbackground": true,
            "ticks": "",
            "zerolinecolor": "white"
           },
           "yaxis": {
            "backgroundcolor": "#E5ECF6",
            "gridcolor": "white",
            "gridwidth": 2,
            "linecolor": "white",
            "showbackground": true,
            "ticks": "",
            "zerolinecolor": "white"
           },
           "zaxis": {
            "backgroundcolor": "#E5ECF6",
            "gridcolor": "white",
            "gridwidth": 2,
            "linecolor": "white",
            "showbackground": true,
            "ticks": "",
            "zerolinecolor": "white"
           }
          },
          "shapedefaults": {
           "line": {
            "color": "#2a3f5f"
           }
          },
          "ternary": {
           "aaxis": {
            "gridcolor": "white",
            "linecolor": "white",
            "ticks": ""
           },
           "baxis": {
            "gridcolor": "white",
            "linecolor": "white",
            "ticks": ""
           },
           "bgcolor": "#E5ECF6",
           "caxis": {
            "gridcolor": "white",
            "linecolor": "white",
            "ticks": ""
           }
          },
          "title": {
           "x": 0.05
          },
          "xaxis": {
           "automargin": true,
           "gridcolor": "white",
           "linecolor": "white",
           "ticks": "",
           "title": {
            "standoff": 15
           },
           "zerolinecolor": "white",
           "zerolinewidth": 2
          },
          "yaxis": {
           "automargin": true,
           "gridcolor": "white",
           "linecolor": "white",
           "ticks": "",
           "title": {
            "standoff": 15
           },
           "zerolinecolor": "white",
           "zerolinewidth": 2
          }
         }
        },
        "title": {
         "text": "Korrelationsmatrix (Pearson)"
        },
        "xaxis": {
         "nticks": 5
        }
       }
      }
     },
     "metadata": {},
     "output_type": "display_data"
    }
   ],
   "source": [
    "fig = go.Figure(data=go.Heatmap(\n",
    "    z=corr_matrix.values,\n",
    "    x=corr_matrix.columns,\n",
    "    y=corr_matrix.columns,\n",
    "    colorscale=\"RdBu\",\n",
    "    zmin=-1,\n",
    "    zmax=1,\n",
    "    colorbar=dict(title=\"Korrelation\")\n",
    "))\n",
    "fig.update_layout(\n",
    "    title=\"Korrelationsmatrix (Pearson)\",\n",
    "    xaxis_nticks=len(num_cols)\n",
    ")\n",
    "fig.show()"
   ]
  },
  {
   "cell_type": "code",
   "execution_count": 23,
   "metadata": {},
   "outputs": [
    {
     "name": "stdout",
     "output_type": "stream",
     "text": [
      "\n",
      "Korrelationen mit Weekly_Sales:\n",
      "Weekly_Sales    1.000000\n",
      "Fuel_Price      0.009464\n",
      "Temperature    -0.063810\n",
      "CPI            -0.072634\n",
      "Unemployment   -0.106176\n",
      "Name: Weekly_Sales, dtype: float64\n"
     ]
    }
   ],
   "source": [
    "# Sortierte Korrelationen zu Weekly_Sales\n",
    "corr_with_sales = corr_matrix[\"Weekly_Sales\"].sort_values(ascending=False)\n",
    "print(\"\\nKorrelationen mit Weekly_Sales:\")\n",
    "print(corr_with_sales)"
   ]
  },
  {
   "cell_type": "markdown",
   "metadata": {},
   "source": [
    "## 2. Aufgabe - Baseline-Modelle"
   ]
  },
  {
   "cell_type": "markdown",
   "metadata": {},
   "source": [
    "### Train/Test-Split"
   ]
  },
  {
   "cell_type": "code",
   "execution_count": 24,
   "metadata": {},
   "outputs": [],
   "source": [
    "X = walmart_sales.drop(\"Weekly_Sales\", axis=1)\n",
    "y = walmart_sales[\"Weekly_Sales\"]\n",
    "\n",
    "X_train, X_test, y_train, y_test = train_test_split(X, y, test_size=0.2, random_state=42)"
   ]
  },
  {
   "cell_type": "markdown",
   "metadata": {},
   "source": [
    "## Baseline mit DummyRegressor"
   ]
  }
 ],
 "metadata": {
  "kernelspec": {
   "display_name": ".venv",
   "language": "python",
   "name": "python3"
  },
  "language_info": {
   "codemirror_mode": {
    "name": "ipython",
    "version": 3
   },
   "file_extension": ".py",
   "mimetype": "text/x-python",
   "name": "python",
   "nbconvert_exporter": "python",
   "pygments_lexer": "ipython3",
   "version": "3.13.2"
  }
 },
 "nbformat": 4,
 "nbformat_minor": 2
}
