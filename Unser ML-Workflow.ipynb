{
 "cells": [
  {
   "cell_type": "markdown",
   "metadata": {},
   "source": [
    "# Unser ML-Workflow"
   ]
  },
  {
   "cell_type": "markdown",
   "metadata": {},
   "source": [
    "## 1. Daten vorbereiten\n",
    "\n",
    "### 1.1 Daten laden"
   ]
  },
  {
   "cell_type": "code",
   "execution_count": 1,
   "metadata": {},
   "outputs": [
    {
     "data": {
      "application/vnd.microsoft.datawrangler.viewer.v0+json": {
       "columns": [
        {
         "name": "index",
         "rawType": "int64",
         "type": "integer"
        },
        {
         "name": "Make",
         "rawType": "object",
         "type": "unknown"
        },
        {
         "name": "Colour",
         "rawType": "object",
         "type": "unknown"
        },
        {
         "name": "Odometer (KM)",
         "rawType": "float64",
         "type": "float"
        },
        {
         "name": "Doors",
         "rawType": "float64",
         "type": "float"
        },
        {
         "name": "Price",
         "rawType": "float64",
         "type": "float"
        }
       ],
       "ref": "19c8b510-1c78-4e22-8a48-8f8618aec388",
       "rows": [
        [
         "0",
         "Honda",
         "White",
         "35431.0",
         "4.0",
         "15323.0"
        ],
        [
         "1",
         "BMW",
         "Blue",
         "192714.0",
         "5.0",
         "19943.0"
        ],
        [
         "2",
         "Honda",
         "White",
         "84714.0",
         "4.0",
         "28343.0"
        ],
        [
         "3",
         "Toyota",
         "White",
         "154365.0",
         "4.0",
         "13434.0"
        ],
        [
         "4",
         "Nissan",
         "Blue",
         "181577.0",
         "3.0",
         "14043.0"
        ],
        [
         "5",
         "Honda",
         "Red",
         "42652.0",
         "4.0",
         "23883.0"
        ],
        [
         "6",
         "Toyota",
         "Blue",
         "163453.0",
         "4.0",
         "8473.0"
        ],
        [
         "7",
         "Honda",
         "White",
         null,
         "4.0",
         "20306.0"
        ],
        [
         "8",
         null,
         "White",
         "130538.0",
         "4.0",
         "9374.0"
        ],
        [
         "9",
         "Honda",
         "Blue",
         "51029.0",
         "4.0",
         "26683.0"
        ],
        [
         "10",
         "Nissan",
         "White",
         "167421.0",
         "4.0",
         "16259.0"
        ],
        [
         "11",
         "Nissan",
         "Green",
         "17119.0",
         "4.0",
         "6160.0"
        ],
        [
         "12",
         "Nissan",
         "White",
         "102303.0",
         "4.0",
         "16909.0"
        ],
        [
         "13",
         null,
         "White",
         "134181.0",
         "4.0",
         "11121.0"
        ],
        [
         "14",
         "Honda",
         "Blue",
         "199833.0",
         "4.0",
         "18946.0"
        ],
        [
         "15",
         "Toyota",
         "Blue",
         "205592.0",
         "4.0",
         "16290.0"
        ],
        [
         "16",
         "Toyota",
         "Red",
         "96742.0",
         "4.0",
         "34465.0"
        ],
        [
         "17",
         "BMW",
         "White",
         "194189.0",
         "5.0",
         "17177.0"
        ],
        [
         "18",
         "Nissan",
         "White",
         "67991.0",
         "3.0",
         "9109.0"
        ],
        [
         "19",
         "Nissan",
         "Blue",
         "215820.0",
         "4.0",
         "6010.0"
        ],
        [
         "20",
         "Toyota",
         null,
         "124844.0",
         "4.0",
         "24130.0"
        ],
        [
         "21",
         "Honda",
         null,
         "30615.0",
         "4.0",
         "29653.0"
        ],
        [
         "22",
         "Toyota",
         "White",
         "148744.0",
         "4.0",
         "22489.0"
        ],
        [
         "23",
         "Honda",
         "Green",
         "130075.0",
         "4.0",
         "21242.0"
        ],
        [
         "24",
         "Honda",
         "Blue",
         "172718.0",
         "4.0",
         "14274.0"
        ],
        [
         "25",
         "Honda",
         "Blue",
         "125819.0",
         "4.0",
         "15686.0"
        ],
        [
         "26",
         "Honda",
         "White",
         "180390.0",
         "4.0",
         "13344.0"
        ],
        [
         "27",
         "Honda",
         "Green",
         "82783.0",
         "4.0",
         "10984.0"
        ],
        [
         "28",
         "Honda",
         "White",
         "56687.0",
         "4.0",
         "6135.0"
        ],
        [
         "29",
         "Toyota",
         "White",
         "112004.0",
         "4.0",
         "13586.0"
        ],
        [
         "30",
         "Nissan",
         "Blue",
         "34024.0",
         "4.0",
         "23929.0"
        ],
        [
         "31",
         "Toyota",
         "White",
         "108569.0",
         null,
         "6866.0"
        ],
        [
         "32",
         "Nissan",
         "White",
         "203795.0",
         "4.0",
         "9330.0"
        ],
        [
         "33",
         "Nissan",
         "Green",
         "153554.0",
         "3.0",
         "9780.0"
        ],
        [
         "34",
         "Honda",
         "Blue",
         "71949.0",
         "4.0",
         "17516.0"
        ],
        [
         "35",
         "Honda",
         "Blue",
         "191622.0",
         "4.0",
         "8738.0"
        ],
        [
         "36",
         "Nissan",
         "Blue",
         "38186.0",
         "4.0",
         "23438.0"
        ],
        [
         "37",
         "Nissan",
         "White",
         null,
         "4.0",
         "15131.0"
        ],
        [
         "38",
         "Nissan",
         "Blue",
         "146430.0",
         "3.0",
         "9224.0"
        ],
        [
         "39",
         "Toyota",
         "Green",
         "109868.0",
         "4.0",
         "6574.0"
        ],
        [
         "40",
         null,
         "White",
         "177894.0",
         "4.0",
         "9229.0"
        ],
        [
         "41",
         "Toyota",
         "Blue",
         "189209.0",
         "4.0",
         "7100.0"
        ],
        [
         "42",
         "Honda",
         "Black",
         "200490.0",
         "4.0",
         "6337.0"
        ],
        [
         "43",
         "Toyota",
         "Blue",
         "141617.0",
         "4.0",
         "19085.0"
        ],
        [
         "44",
         "Toyota",
         "Blue",
         "213893.0",
         "4.0",
         "5743.0"
        ],
        [
         "45",
         "Nissan",
         "Blue",
         "231057.0",
         "4.0",
         "5925.0"
        ],
        [
         "46",
         "Toyota",
         "White",
         "100938.0",
         "4.0",
         "25196.0"
        ],
        [
         "47",
         "Toyota",
         "Blue",
         "243969.0",
         null,
         "16138.0"
        ],
        [
         "48",
         "Nissan",
         "White",
         "107096.0",
         "3.0",
         "6075.0"
        ],
        [
         "49",
         "Toyota",
         "Black",
         "86333.0",
         "4.0",
         "9928.0"
        ]
       ],
       "shape": {
        "columns": 5,
        "rows": 1000
       }
      },
      "text/html": [
       "<div>\n",
       "<style scoped>\n",
       "    .dataframe tbody tr th:only-of-type {\n",
       "        vertical-align: middle;\n",
       "    }\n",
       "\n",
       "    .dataframe tbody tr th {\n",
       "        vertical-align: top;\n",
       "    }\n",
       "\n",
       "    .dataframe thead th {\n",
       "        text-align: right;\n",
       "    }\n",
       "</style>\n",
       "<table border=\"1\" class=\"dataframe\">\n",
       "  <thead>\n",
       "    <tr style=\"text-align: right;\">\n",
       "      <th></th>\n",
       "      <th>Make</th>\n",
       "      <th>Colour</th>\n",
       "      <th>Odometer (KM)</th>\n",
       "      <th>Doors</th>\n",
       "      <th>Price</th>\n",
       "    </tr>\n",
       "  </thead>\n",
       "  <tbody>\n",
       "    <tr>\n",
       "      <th>0</th>\n",
       "      <td>Honda</td>\n",
       "      <td>White</td>\n",
       "      <td>35431.0</td>\n",
       "      <td>4.0</td>\n",
       "      <td>15323.0</td>\n",
       "    </tr>\n",
       "    <tr>\n",
       "      <th>1</th>\n",
       "      <td>BMW</td>\n",
       "      <td>Blue</td>\n",
       "      <td>192714.0</td>\n",
       "      <td>5.0</td>\n",
       "      <td>19943.0</td>\n",
       "    </tr>\n",
       "    <tr>\n",
       "      <th>2</th>\n",
       "      <td>Honda</td>\n",
       "      <td>White</td>\n",
       "      <td>84714.0</td>\n",
       "      <td>4.0</td>\n",
       "      <td>28343.0</td>\n",
       "    </tr>\n",
       "    <tr>\n",
       "      <th>3</th>\n",
       "      <td>Toyota</td>\n",
       "      <td>White</td>\n",
       "      <td>154365.0</td>\n",
       "      <td>4.0</td>\n",
       "      <td>13434.0</td>\n",
       "    </tr>\n",
       "    <tr>\n",
       "      <th>4</th>\n",
       "      <td>Nissan</td>\n",
       "      <td>Blue</td>\n",
       "      <td>181577.0</td>\n",
       "      <td>3.0</td>\n",
       "      <td>14043.0</td>\n",
       "    </tr>\n",
       "    <tr>\n",
       "      <th>...</th>\n",
       "      <td>...</td>\n",
       "      <td>...</td>\n",
       "      <td>...</td>\n",
       "      <td>...</td>\n",
       "      <td>...</td>\n",
       "    </tr>\n",
       "    <tr>\n",
       "      <th>995</th>\n",
       "      <td>Toyota</td>\n",
       "      <td>Black</td>\n",
       "      <td>35820.0</td>\n",
       "      <td>4.0</td>\n",
       "      <td>32042.0</td>\n",
       "    </tr>\n",
       "    <tr>\n",
       "      <th>996</th>\n",
       "      <td>NaN</td>\n",
       "      <td>White</td>\n",
       "      <td>155144.0</td>\n",
       "      <td>3.0</td>\n",
       "      <td>5716.0</td>\n",
       "    </tr>\n",
       "    <tr>\n",
       "      <th>997</th>\n",
       "      <td>Nissan</td>\n",
       "      <td>Blue</td>\n",
       "      <td>66604.0</td>\n",
       "      <td>4.0</td>\n",
       "      <td>31570.0</td>\n",
       "    </tr>\n",
       "    <tr>\n",
       "      <th>998</th>\n",
       "      <td>Honda</td>\n",
       "      <td>White</td>\n",
       "      <td>215883.0</td>\n",
       "      <td>4.0</td>\n",
       "      <td>4001.0</td>\n",
       "    </tr>\n",
       "    <tr>\n",
       "      <th>999</th>\n",
       "      <td>Toyota</td>\n",
       "      <td>Blue</td>\n",
       "      <td>248360.0</td>\n",
       "      <td>4.0</td>\n",
       "      <td>12732.0</td>\n",
       "    </tr>\n",
       "  </tbody>\n",
       "</table>\n",
       "<p>1000 rows × 5 columns</p>\n",
       "</div>"
      ],
      "text/plain": [
       "       Make Colour  Odometer (KM)  Doors    Price\n",
       "0     Honda  White        35431.0    4.0  15323.0\n",
       "1       BMW   Blue       192714.0    5.0  19943.0\n",
       "2     Honda  White        84714.0    4.0  28343.0\n",
       "3    Toyota  White       154365.0    4.0  13434.0\n",
       "4    Nissan   Blue       181577.0    3.0  14043.0\n",
       "..      ...    ...            ...    ...      ...\n",
       "995  Toyota  Black        35820.0    4.0  32042.0\n",
       "996     NaN  White       155144.0    3.0   5716.0\n",
       "997  Nissan   Blue        66604.0    4.0  31570.0\n",
       "998   Honda  White       215883.0    4.0   4001.0\n",
       "999  Toyota   Blue       248360.0    4.0  12732.0\n",
       "\n",
       "[1000 rows x 5 columns]"
      ]
     },
     "execution_count": 1,
     "metadata": {},
     "output_type": "execute_result"
    }
   ],
   "source": [
    "import pandas as pd\n",
    "\n",
    "df = pd.read_csv(\"data/car-sales-extended-missing-data.csv\")\n",
    "df"
   ]
  },
  {
   "cell_type": "markdown",
   "metadata": {},
   "source": [
    "### 1.2 Fehlende Werte prüfen/behandeln"
   ]
  },
  {
   "cell_type": "code",
   "execution_count": 2,
   "metadata": {},
   "outputs": [
    {
     "data": {
      "application/vnd.microsoft.datawrangler.viewer.v0+json": {
       "columns": [
        {
         "name": "index",
         "rawType": "object",
         "type": "string"
        },
        {
         "name": "0",
         "rawType": "int64",
         "type": "integer"
        }
       ],
       "ref": "05cd1858-32f9-4b3b-af18-cc93a06a3ea7",
       "rows": [
        [
         "Make",
         "49"
        ],
        [
         "Colour",
         "50"
        ],
        [
         "Odometer (KM)",
         "50"
        ],
        [
         "Doors",
         "50"
        ],
        [
         "Price",
         "50"
        ]
       ],
       "shape": {
        "columns": 1,
        "rows": 5
       }
      },
      "text/plain": [
       "Make             49\n",
       "Colour           50\n",
       "Odometer (KM)    50\n",
       "Doors            50\n",
       "Price            50\n",
       "dtype: int64"
      ]
     },
     "execution_count": 2,
     "metadata": {},
     "output_type": "execute_result"
    }
   ],
   "source": [
    "df.isna().sum()"
   ]
  },
  {
   "cell_type": "code",
   "execution_count": 3,
   "metadata": {},
   "outputs": [
    {
     "data": {
      "application/vnd.microsoft.datawrangler.viewer.v0+json": {
       "columns": [
        {
         "name": "index",
         "rawType": "object",
         "type": "string"
        },
        {
         "name": "0",
         "rawType": "int64",
         "type": "integer"
        }
       ],
       "ref": "8b733d71-500c-49a3-8083-acbeb54967ab",
       "rows": [
        [
         "Make",
         "47"
        ],
        [
         "Colour",
         "46"
        ],
        [
         "Odometer (KM)",
         "48"
        ],
        [
         "Doors",
         "47"
        ],
        [
         "Price",
         "0"
        ]
       ],
       "shape": {
        "columns": 1,
        "rows": 5
       }
      },
      "text/plain": [
       "Make             47\n",
       "Colour           46\n",
       "Odometer (KM)    48\n",
       "Doors            47\n",
       "Price             0\n",
       "dtype: int64"
      ]
     },
     "execution_count": 3,
     "metadata": {},
     "output_type": "execute_result"
    }
   ],
   "source": [
    "df.dropna(subset=[\"Price\"], inplace=True)\n",
    "df.isna().sum()"
   ]
  },
  {
   "cell_type": "code",
   "execution_count": 4,
   "metadata": {},
   "outputs": [],
   "source": [
    "X = df.drop(\"Price\", axis=1)\n",
    "y = df[\"Price\"]"
   ]
  },
  {
   "cell_type": "code",
   "execution_count": 5,
   "metadata": {},
   "outputs": [],
   "source": [
    "from sklearn.model_selection import train_test_split\n",
    "\n",
    "X_train, X_test, y_train, y_test = train_test_split(X, y, test_size=0.2, random_state=42)"
   ]
  },
  {
   "cell_type": "code",
   "execution_count": 6,
   "metadata": {},
   "outputs": [],
   "source": [
    "from sklearn.impute import SimpleImputer\n",
    "\n",
    "categorical_features = [\"Make\", \"Colour\"]\n",
    "door_feature = [\"Doors\"]\n",
    "numerical_features = [\"Odometer (KM)\"]\n",
    "\n",
    "categorical_imputer = SimpleImputer(strategy=\"constant\", fill_value=\"missing\")\n",
    "door_imputer = SimpleImputer(strategy=\"constant\", fill_value=4)\n",
    "numerical_imputer = SimpleImputer(strategy=\"mean\")"
   ]
  },
  {
   "cell_type": "code",
   "execution_count": 7,
   "metadata": {},
   "outputs": [],
   "source": [
    "from sklearn.compose import ColumnTransformer\n",
    "\n",
    "imputer = ColumnTransformer([\n",
    "    (\"cat_imputer\", categorical_imputer, categorical_features),\n",
    "    (\"door_imputer\", door_imputer, door_feature),\n",
    "    (\"num_imputer\", numerical_imputer, numerical_features)\n",
    "])"
   ]
  },
  {
   "cell_type": "code",
   "execution_count": 8,
   "metadata": {},
   "outputs": [],
   "source": [
    "filled_X_train = imputer.fit_transform(X_train)\n",
    "filled_X_test = imputer.transform(X_test)"
   ]
  },
  {
   "cell_type": "code",
   "execution_count": 9,
   "metadata": {},
   "outputs": [
    {
     "data": {
      "application/vnd.microsoft.datawrangler.viewer.v0+json": {
       "columns": [
        {
         "name": "index",
         "rawType": "int64",
         "type": "integer"
        },
        {
         "name": "Make",
         "rawType": "object",
         "type": "string"
        },
        {
         "name": "Colour",
         "rawType": "object",
         "type": "string"
        },
        {
         "name": "Doors",
         "rawType": "object",
         "type": "unknown"
        },
        {
         "name": "Odometer (KM)",
         "rawType": "object",
         "type": "unknown"
        }
       ],
       "ref": "4a3701c4-6356-4779-b103-ccf86e1f3080",
       "rows": [
        [
         "0",
         "Honda",
         "White",
         "4.0",
         "71934.0"
        ],
        [
         "1",
         "Toyota",
         "Red",
         "4.0",
         "162665.0"
        ],
        [
         "2",
         "Honda",
         "White",
         "4.0",
         "42844.0"
        ],
        [
         "3",
         "Honda",
         "White",
         "4.0",
         "195829.0"
        ],
        [
         "4",
         "Honda",
         "Blue",
         "4.0",
         "219217.0"
        ],
        [
         "5",
         "missing",
         "White",
         "4.0",
         "126669.0"
        ],
        [
         "6",
         "Toyota",
         "Blue",
         "4.0",
         "76416.0"
        ],
        [
         "7",
         "Nissan",
         "White",
         "4.0",
         "114699.0"
        ],
        [
         "8",
         "Nissan",
         "Blue",
         "3.0",
         "180021.0"
        ],
        [
         "9",
         "Honda",
         "Blue",
         "4.0",
         "28561.0"
        ],
        [
         "10",
         "Toyota",
         "Blue",
         "4.0",
         "61337.0"
        ],
        [
         "11",
         "Honda",
         "White",
         "4.0",
         "130319.03314917127"
        ],
        [
         "12",
         "Toyota",
         "Blue",
         "4.0",
         "119745.0"
        ],
        [
         "13",
         "Honda",
         "White",
         "4.0",
         "84714.0"
        ],
        [
         "14",
         "Toyota",
         "White",
         "4.0",
         "224657.0"
        ],
        [
         "15",
         "Toyota",
         "White",
         "4.0",
         "245977.0"
        ],
        [
         "16",
         "Toyota",
         "Blue",
         "4.0",
         "71306.0"
        ],
        [
         "17",
         "Honda",
         "missing",
         "4.0",
         "102032.0"
        ],
        [
         "18",
         "Honda",
         "Red",
         "4.0",
         "42652.0"
        ],
        [
         "19",
         "missing",
         "White",
         "4.0",
         "109384.0"
        ],
        [
         "20",
         "Toyota",
         "Blue",
         "4.0",
         "135237.0"
        ],
        [
         "21",
         "Honda",
         "Black",
         "4.0",
         "231825.0"
        ],
        [
         "22",
         "Honda",
         "Blue",
         "4.0",
         "130319.03314917127"
        ],
        [
         "23",
         "Toyota",
         "missing",
         "4.0",
         "199315.0"
        ],
        [
         "24",
         "Toyota",
         "Black",
         "4.0",
         "133433.0"
        ],
        [
         "25",
         "Toyota",
         "White",
         "4.0",
         "61623.0"
        ],
        [
         "26",
         "Toyota",
         "Blue",
         "4.0",
         "130319.03314917127"
        ],
        [
         "27",
         "Honda",
         "White",
         "4.0",
         "126854.0"
        ],
        [
         "28",
         "BMW",
         "White",
         "5.0",
         "192673.0"
        ],
        [
         "29",
         "Honda",
         "Blue",
         "4.0",
         "26824.0"
        ],
        [
         "30",
         "Toyota",
         "Red",
         "4.0",
         "68125.0"
        ],
        [
         "31",
         "Honda",
         "Blue",
         "4.0",
         "76252.0"
        ],
        [
         "32",
         "BMW",
         "White",
         "5.0",
         "118286.0"
        ],
        [
         "33",
         "Honda",
         "Blue",
         "4.0",
         "125819.0"
        ],
        [
         "34",
         "Toyota",
         "Green",
         "4.0",
         "61651.0"
        ],
        [
         "35",
         "Nissan",
         "White",
         "4.0",
         "167421.0"
        ],
        [
         "36",
         "Honda",
         "Blue",
         "4.0",
         "50475.0"
        ],
        [
         "37",
         "Toyota",
         "White",
         "4.0",
         "28809.0"
        ],
        [
         "38",
         "Toyota",
         "Blue",
         "4.0",
         "81864.0"
        ],
        [
         "39",
         "Toyota",
         "White",
         "4.0",
         "62712.0"
        ],
        [
         "40",
         "Nissan",
         "White",
         "4.0",
         "235952.0"
        ],
        [
         "41",
         "Toyota",
         "missing",
         "4.0",
         "73360.0"
        ],
        [
         "42",
         "Nissan",
         "Blue",
         "4.0",
         "166938.0"
        ],
        [
         "43",
         "Honda",
         "Blue",
         "4.0",
         "247869.0"
        ],
        [
         "44",
         "Toyota",
         "White",
         "4.0",
         "122266.0"
        ],
        [
         "45",
         "Toyota",
         "White",
         "4.0",
         "112004.0"
        ],
        [
         "46",
         "BMW",
         "White",
         "5.0",
         "79937.0"
        ],
        [
         "47",
         "Honda",
         "missing",
         "4.0",
         "41846.0"
        ],
        [
         "48",
         "Toyota",
         "Green",
         "4.0",
         "165225.0"
        ],
        [
         "49",
         "Nissan",
         "Red",
         "3.0",
         "143204.0"
        ]
       ],
       "shape": {
        "columns": 4,
        "rows": 760
       }
      },
      "text/html": [
       "<div>\n",
       "<style scoped>\n",
       "    .dataframe tbody tr th:only-of-type {\n",
       "        vertical-align: middle;\n",
       "    }\n",
       "\n",
       "    .dataframe tbody tr th {\n",
       "        vertical-align: top;\n",
       "    }\n",
       "\n",
       "    .dataframe thead th {\n",
       "        text-align: right;\n",
       "    }\n",
       "</style>\n",
       "<table border=\"1\" class=\"dataframe\">\n",
       "  <thead>\n",
       "    <tr style=\"text-align: right;\">\n",
       "      <th></th>\n",
       "      <th>Make</th>\n",
       "      <th>Colour</th>\n",
       "      <th>Doors</th>\n",
       "      <th>Odometer (KM)</th>\n",
       "    </tr>\n",
       "  </thead>\n",
       "  <tbody>\n",
       "    <tr>\n",
       "      <th>0</th>\n",
       "      <td>Honda</td>\n",
       "      <td>White</td>\n",
       "      <td>4.0</td>\n",
       "      <td>71934.0</td>\n",
       "    </tr>\n",
       "    <tr>\n",
       "      <th>1</th>\n",
       "      <td>Toyota</td>\n",
       "      <td>Red</td>\n",
       "      <td>4.0</td>\n",
       "      <td>162665.0</td>\n",
       "    </tr>\n",
       "    <tr>\n",
       "      <th>2</th>\n",
       "      <td>Honda</td>\n",
       "      <td>White</td>\n",
       "      <td>4.0</td>\n",
       "      <td>42844.0</td>\n",
       "    </tr>\n",
       "    <tr>\n",
       "      <th>3</th>\n",
       "      <td>Honda</td>\n",
       "      <td>White</td>\n",
       "      <td>4.0</td>\n",
       "      <td>195829.0</td>\n",
       "    </tr>\n",
       "    <tr>\n",
       "      <th>4</th>\n",
       "      <td>Honda</td>\n",
       "      <td>Blue</td>\n",
       "      <td>4.0</td>\n",
       "      <td>219217.0</td>\n",
       "    </tr>\n",
       "    <tr>\n",
       "      <th>...</th>\n",
       "      <td>...</td>\n",
       "      <td>...</td>\n",
       "      <td>...</td>\n",
       "      <td>...</td>\n",
       "    </tr>\n",
       "    <tr>\n",
       "      <th>755</th>\n",
       "      <td>Toyota</td>\n",
       "      <td>missing</td>\n",
       "      <td>4.0</td>\n",
       "      <td>218803.0</td>\n",
       "    </tr>\n",
       "    <tr>\n",
       "      <th>756</th>\n",
       "      <td>BMW</td>\n",
       "      <td>Blue</td>\n",
       "      <td>5.0</td>\n",
       "      <td>245427.0</td>\n",
       "    </tr>\n",
       "    <tr>\n",
       "      <th>757</th>\n",
       "      <td>Toyota</td>\n",
       "      <td>White</td>\n",
       "      <td>4.0</td>\n",
       "      <td>196225.0</td>\n",
       "    </tr>\n",
       "    <tr>\n",
       "      <th>758</th>\n",
       "      <td>Honda</td>\n",
       "      <td>Blue</td>\n",
       "      <td>4.0</td>\n",
       "      <td>133117.0</td>\n",
       "    </tr>\n",
       "    <tr>\n",
       "      <th>759</th>\n",
       "      <td>Honda</td>\n",
       "      <td>missing</td>\n",
       "      <td>4.0</td>\n",
       "      <td>150582.0</td>\n",
       "    </tr>\n",
       "  </tbody>\n",
       "</table>\n",
       "<p>760 rows × 4 columns</p>\n",
       "</div>"
      ],
      "text/plain": [
       "       Make   Colour Doors Odometer (KM)\n",
       "0     Honda    White   4.0       71934.0\n",
       "1    Toyota      Red   4.0      162665.0\n",
       "2     Honda    White   4.0       42844.0\n",
       "3     Honda    White   4.0      195829.0\n",
       "4     Honda     Blue   4.0      219217.0\n",
       "..      ...      ...   ...           ...\n",
       "755  Toyota  missing   4.0      218803.0\n",
       "756     BMW     Blue   5.0      245427.0\n",
       "757  Toyota    White   4.0      196225.0\n",
       "758   Honda     Blue   4.0      133117.0\n",
       "759   Honda  missing   4.0      150582.0\n",
       "\n",
       "[760 rows x 4 columns]"
      ]
     },
     "execution_count": 9,
     "metadata": {},
     "output_type": "execute_result"
    }
   ],
   "source": [
    "filled_columns = categorical_features + door_feature + numerical_features\n",
    "X_train_df = pd.DataFrame(filled_X_train, columns=filled_columns)\n",
    "X_test_df = pd.DataFrame(filled_X_test, columns=filled_columns)\n",
    "X_train_df"
   ]
  },
  {
   "cell_type": "code",
   "execution_count": 10,
   "metadata": {},
   "outputs": [
    {
     "data": {
      "application/vnd.microsoft.datawrangler.viewer.v0+json": {
       "columns": [
        {
         "name": "index",
         "rawType": "object",
         "type": "string"
        },
        {
         "name": "0",
         "rawType": "int64",
         "type": "integer"
        }
       ],
       "ref": "837bcc92-4003-4b97-8e00-e43b6dba3d53",
       "rows": [
        [
         "Make",
         "0"
        ],
        [
         "Colour",
         "0"
        ],
        [
         "Doors",
         "0"
        ],
        [
         "Odometer (KM)",
         "0"
        ]
       ],
       "shape": {
        "columns": 1,
        "rows": 4
       }
      },
      "text/plain": [
       "Make             0\n",
       "Colour           0\n",
       "Doors            0\n",
       "Odometer (KM)    0\n",
       "dtype: int64"
      ]
     },
     "execution_count": 10,
     "metadata": {},
     "output_type": "execute_result"
    }
   ],
   "source": [
    "X_train_df.isna().sum()"
   ]
  },
  {
   "cell_type": "code",
   "execution_count": 11,
   "metadata": {},
   "outputs": [
    {
     "data": {
      "application/vnd.microsoft.datawrangler.viewer.v0+json": {
       "columns": [
        {
         "name": "index",
         "rawType": "object",
         "type": "string"
        },
        {
         "name": "0",
         "rawType": "int64",
         "type": "integer"
        }
       ],
       "ref": "1d2246c9-0b4a-4376-b8e8-6c016b661d32",
       "rows": [
        [
         "Make",
         "0"
        ],
        [
         "Colour",
         "0"
        ],
        [
         "Doors",
         "0"
        ],
        [
         "Odometer (KM)",
         "0"
        ]
       ],
       "shape": {
        "columns": 1,
        "rows": 4
       }
      },
      "text/plain": [
       "Make             0\n",
       "Colour           0\n",
       "Doors            0\n",
       "Odometer (KM)    0\n",
       "dtype: int64"
      ]
     },
     "execution_count": 11,
     "metadata": {},
     "output_type": "execute_result"
    }
   ],
   "source": [
    "X_test_df.isna().sum()"
   ]
  },
  {
   "cell_type": "markdown",
   "metadata": {},
   "source": [
    "### 1.3 Encoding der kategorischen Daten"
   ]
  },
  {
   "cell_type": "code",
   "execution_count": 12,
   "metadata": {},
   "outputs": [],
   "source": [
    "from sklearn.preprocessing import OneHotEncoder\n",
    "\n",
    "# Erneute Definition der kategorialen Spalten:\n",
    "categorical_features = [\"Make\", \"Colour\", \"Doors\"]\n",
    "\n",
    "# Initialisierung des OneHotEncoders:\n",
    "one_hot = OneHotEncoder()\n",
    "\n",
    "transformer = ColumnTransformer([\n",
    "    (\"one_hot\", one_hot, categorical_features)],\n",
    "    remainder=\"passthrough\")\n",
    "\n",
    "X_train_transformed = transformer.fit_transform(X_train_df)\n",
    "X_test_transformed= transformer.transform(X_test_df)"
   ]
  },
  {
   "cell_type": "code",
   "execution_count": 13,
   "metadata": {},
   "outputs": [
    {
     "data": {
      "text/plain": [
       "<Compressed Sparse Row sparse matrix of dtype 'float64'\n",
       "\twith 3040 stored elements and shape (760, 15)>"
      ]
     },
     "execution_count": 13,
     "metadata": {},
     "output_type": "execute_result"
    }
   ],
   "source": [
    "X_train_transformed"
   ]
  },
  {
   "cell_type": "code",
   "execution_count": 14,
   "metadata": {},
   "outputs": [
    {
     "data": {
      "application/vnd.microsoft.datawrangler.viewer.v0+json": {
       "columns": [
        {
         "name": "index",
         "rawType": "int64",
         "type": "integer"
        },
        {
         "name": "Make_BMW",
         "rawType": "float64",
         "type": "float"
        },
        {
         "name": "Make_Honda",
         "rawType": "float64",
         "type": "float"
        },
        {
         "name": "Make_Nissan",
         "rawType": "float64",
         "type": "float"
        },
        {
         "name": "Make_Toyota",
         "rawType": "float64",
         "type": "float"
        },
        {
         "name": "Make_missing",
         "rawType": "float64",
         "type": "float"
        },
        {
         "name": "Colour_Black",
         "rawType": "float64",
         "type": "float"
        },
        {
         "name": "Colour_Blue",
         "rawType": "float64",
         "type": "float"
        },
        {
         "name": "Colour_Green",
         "rawType": "float64",
         "type": "float"
        },
        {
         "name": "Colour_Red",
         "rawType": "float64",
         "type": "float"
        },
        {
         "name": "Colour_White",
         "rawType": "float64",
         "type": "float"
        },
        {
         "name": "Colour_missing",
         "rawType": "float64",
         "type": "float"
        },
        {
         "name": "Doors_3.0",
         "rawType": "float64",
         "type": "float"
        },
        {
         "name": "Doors_4.0",
         "rawType": "float64",
         "type": "float"
        },
        {
         "name": "Doors_5.0",
         "rawType": "float64",
         "type": "float"
        },
        {
         "name": "Odometer (KM)",
         "rawType": "float64",
         "type": "float"
        }
       ],
       "ref": "c39ba053-a999-4ffe-835f-0ea635eaf393",
       "rows": [
        [
         "0",
         "0.0",
         "1.0",
         "0.0",
         "0.0",
         "0.0",
         "0.0",
         "0.0",
         "0.0",
         "0.0",
         "1.0",
         "0.0",
         "0.0",
         "1.0",
         "0.0",
         "71934.0"
        ],
        [
         "1",
         "0.0",
         "0.0",
         "0.0",
         "1.0",
         "0.0",
         "0.0",
         "0.0",
         "0.0",
         "1.0",
         "0.0",
         "0.0",
         "0.0",
         "1.0",
         "0.0",
         "162665.0"
        ],
        [
         "2",
         "0.0",
         "1.0",
         "0.0",
         "0.0",
         "0.0",
         "0.0",
         "0.0",
         "0.0",
         "0.0",
         "1.0",
         "0.0",
         "0.0",
         "1.0",
         "0.0",
         "42844.0"
        ],
        [
         "3",
         "0.0",
         "1.0",
         "0.0",
         "0.0",
         "0.0",
         "0.0",
         "0.0",
         "0.0",
         "0.0",
         "1.0",
         "0.0",
         "0.0",
         "1.0",
         "0.0",
         "195829.0"
        ],
        [
         "4",
         "0.0",
         "1.0",
         "0.0",
         "0.0",
         "0.0",
         "0.0",
         "1.0",
         "0.0",
         "0.0",
         "0.0",
         "0.0",
         "0.0",
         "1.0",
         "0.0",
         "219217.0"
        ],
        [
         "5",
         "0.0",
         "0.0",
         "0.0",
         "0.0",
         "1.0",
         "0.0",
         "0.0",
         "0.0",
         "0.0",
         "1.0",
         "0.0",
         "0.0",
         "1.0",
         "0.0",
         "126669.0"
        ],
        [
         "6",
         "0.0",
         "0.0",
         "0.0",
         "1.0",
         "0.0",
         "0.0",
         "1.0",
         "0.0",
         "0.0",
         "0.0",
         "0.0",
         "0.0",
         "1.0",
         "0.0",
         "76416.0"
        ],
        [
         "7",
         "0.0",
         "0.0",
         "1.0",
         "0.0",
         "0.0",
         "0.0",
         "0.0",
         "0.0",
         "0.0",
         "1.0",
         "0.0",
         "0.0",
         "1.0",
         "0.0",
         "114699.0"
        ],
        [
         "8",
         "0.0",
         "0.0",
         "1.0",
         "0.0",
         "0.0",
         "0.0",
         "1.0",
         "0.0",
         "0.0",
         "0.0",
         "0.0",
         "1.0",
         "0.0",
         "0.0",
         "180021.0"
        ],
        [
         "9",
         "0.0",
         "1.0",
         "0.0",
         "0.0",
         "0.0",
         "0.0",
         "1.0",
         "0.0",
         "0.0",
         "0.0",
         "0.0",
         "0.0",
         "1.0",
         "0.0",
         "28561.0"
        ],
        [
         "10",
         "0.0",
         "0.0",
         "0.0",
         "1.0",
         "0.0",
         "0.0",
         "1.0",
         "0.0",
         "0.0",
         "0.0",
         "0.0",
         "0.0",
         "1.0",
         "0.0",
         "61337.0"
        ],
        [
         "11",
         "0.0",
         "1.0",
         "0.0",
         "0.0",
         "0.0",
         "0.0",
         "0.0",
         "0.0",
         "0.0",
         "1.0",
         "0.0",
         "0.0",
         "1.0",
         "0.0",
         "130319.03314917127"
        ],
        [
         "12",
         "0.0",
         "0.0",
         "0.0",
         "1.0",
         "0.0",
         "0.0",
         "1.0",
         "0.0",
         "0.0",
         "0.0",
         "0.0",
         "0.0",
         "1.0",
         "0.0",
         "119745.0"
        ],
        [
         "13",
         "0.0",
         "1.0",
         "0.0",
         "0.0",
         "0.0",
         "0.0",
         "0.0",
         "0.0",
         "0.0",
         "1.0",
         "0.0",
         "0.0",
         "1.0",
         "0.0",
         "84714.0"
        ],
        [
         "14",
         "0.0",
         "0.0",
         "0.0",
         "1.0",
         "0.0",
         "0.0",
         "0.0",
         "0.0",
         "0.0",
         "1.0",
         "0.0",
         "0.0",
         "1.0",
         "0.0",
         "224657.0"
        ],
        [
         "15",
         "0.0",
         "0.0",
         "0.0",
         "1.0",
         "0.0",
         "0.0",
         "0.0",
         "0.0",
         "0.0",
         "1.0",
         "0.0",
         "0.0",
         "1.0",
         "0.0",
         "245977.0"
        ],
        [
         "16",
         "0.0",
         "0.0",
         "0.0",
         "1.0",
         "0.0",
         "0.0",
         "1.0",
         "0.0",
         "0.0",
         "0.0",
         "0.0",
         "0.0",
         "1.0",
         "0.0",
         "71306.0"
        ],
        [
         "17",
         "0.0",
         "1.0",
         "0.0",
         "0.0",
         "0.0",
         "0.0",
         "0.0",
         "0.0",
         "0.0",
         "0.0",
         "1.0",
         "0.0",
         "1.0",
         "0.0",
         "102032.0"
        ],
        [
         "18",
         "0.0",
         "1.0",
         "0.0",
         "0.0",
         "0.0",
         "0.0",
         "0.0",
         "0.0",
         "1.0",
         "0.0",
         "0.0",
         "0.0",
         "1.0",
         "0.0",
         "42652.0"
        ],
        [
         "19",
         "0.0",
         "0.0",
         "0.0",
         "0.0",
         "1.0",
         "0.0",
         "0.0",
         "0.0",
         "0.0",
         "1.0",
         "0.0",
         "0.0",
         "1.0",
         "0.0",
         "109384.0"
        ],
        [
         "20",
         "0.0",
         "0.0",
         "0.0",
         "1.0",
         "0.0",
         "0.0",
         "1.0",
         "0.0",
         "0.0",
         "0.0",
         "0.0",
         "0.0",
         "1.0",
         "0.0",
         "135237.0"
        ],
        [
         "21",
         "0.0",
         "1.0",
         "0.0",
         "0.0",
         "0.0",
         "1.0",
         "0.0",
         "0.0",
         "0.0",
         "0.0",
         "0.0",
         "0.0",
         "1.0",
         "0.0",
         "231825.0"
        ],
        [
         "22",
         "0.0",
         "1.0",
         "0.0",
         "0.0",
         "0.0",
         "0.0",
         "1.0",
         "0.0",
         "0.0",
         "0.0",
         "0.0",
         "0.0",
         "1.0",
         "0.0",
         "130319.03314917127"
        ],
        [
         "23",
         "0.0",
         "0.0",
         "0.0",
         "1.0",
         "0.0",
         "0.0",
         "0.0",
         "0.0",
         "0.0",
         "0.0",
         "1.0",
         "0.0",
         "1.0",
         "0.0",
         "199315.0"
        ],
        [
         "24",
         "0.0",
         "0.0",
         "0.0",
         "1.0",
         "0.0",
         "1.0",
         "0.0",
         "0.0",
         "0.0",
         "0.0",
         "0.0",
         "0.0",
         "1.0",
         "0.0",
         "133433.0"
        ],
        [
         "25",
         "0.0",
         "0.0",
         "0.0",
         "1.0",
         "0.0",
         "0.0",
         "0.0",
         "0.0",
         "0.0",
         "1.0",
         "0.0",
         "0.0",
         "1.0",
         "0.0",
         "61623.0"
        ],
        [
         "26",
         "0.0",
         "0.0",
         "0.0",
         "1.0",
         "0.0",
         "0.0",
         "1.0",
         "0.0",
         "0.0",
         "0.0",
         "0.0",
         "0.0",
         "1.0",
         "0.0",
         "130319.03314917127"
        ],
        [
         "27",
         "0.0",
         "1.0",
         "0.0",
         "0.0",
         "0.0",
         "0.0",
         "0.0",
         "0.0",
         "0.0",
         "1.0",
         "0.0",
         "0.0",
         "1.0",
         "0.0",
         "126854.0"
        ],
        [
         "28",
         "1.0",
         "0.0",
         "0.0",
         "0.0",
         "0.0",
         "0.0",
         "0.0",
         "0.0",
         "0.0",
         "1.0",
         "0.0",
         "0.0",
         "0.0",
         "1.0",
         "192673.0"
        ],
        [
         "29",
         "0.0",
         "1.0",
         "0.0",
         "0.0",
         "0.0",
         "0.0",
         "1.0",
         "0.0",
         "0.0",
         "0.0",
         "0.0",
         "0.0",
         "1.0",
         "0.0",
         "26824.0"
        ],
        [
         "30",
         "0.0",
         "0.0",
         "0.0",
         "1.0",
         "0.0",
         "0.0",
         "0.0",
         "0.0",
         "1.0",
         "0.0",
         "0.0",
         "0.0",
         "1.0",
         "0.0",
         "68125.0"
        ],
        [
         "31",
         "0.0",
         "1.0",
         "0.0",
         "0.0",
         "0.0",
         "0.0",
         "1.0",
         "0.0",
         "0.0",
         "0.0",
         "0.0",
         "0.0",
         "1.0",
         "0.0",
         "76252.0"
        ],
        [
         "32",
         "1.0",
         "0.0",
         "0.0",
         "0.0",
         "0.0",
         "0.0",
         "0.0",
         "0.0",
         "0.0",
         "1.0",
         "0.0",
         "0.0",
         "0.0",
         "1.0",
         "118286.0"
        ],
        [
         "33",
         "0.0",
         "1.0",
         "0.0",
         "0.0",
         "0.0",
         "0.0",
         "1.0",
         "0.0",
         "0.0",
         "0.0",
         "0.0",
         "0.0",
         "1.0",
         "0.0",
         "125819.0"
        ],
        [
         "34",
         "0.0",
         "0.0",
         "0.0",
         "1.0",
         "0.0",
         "0.0",
         "0.0",
         "1.0",
         "0.0",
         "0.0",
         "0.0",
         "0.0",
         "1.0",
         "0.0",
         "61651.0"
        ],
        [
         "35",
         "0.0",
         "0.0",
         "1.0",
         "0.0",
         "0.0",
         "0.0",
         "0.0",
         "0.0",
         "0.0",
         "1.0",
         "0.0",
         "0.0",
         "1.0",
         "0.0",
         "167421.0"
        ],
        [
         "36",
         "0.0",
         "1.0",
         "0.0",
         "0.0",
         "0.0",
         "0.0",
         "1.0",
         "0.0",
         "0.0",
         "0.0",
         "0.0",
         "0.0",
         "1.0",
         "0.0",
         "50475.0"
        ],
        [
         "37",
         "0.0",
         "0.0",
         "0.0",
         "1.0",
         "0.0",
         "0.0",
         "0.0",
         "0.0",
         "0.0",
         "1.0",
         "0.0",
         "0.0",
         "1.0",
         "0.0",
         "28809.0"
        ],
        [
         "38",
         "0.0",
         "0.0",
         "0.0",
         "1.0",
         "0.0",
         "0.0",
         "1.0",
         "0.0",
         "0.0",
         "0.0",
         "0.0",
         "0.0",
         "1.0",
         "0.0",
         "81864.0"
        ],
        [
         "39",
         "0.0",
         "0.0",
         "0.0",
         "1.0",
         "0.0",
         "0.0",
         "0.0",
         "0.0",
         "0.0",
         "1.0",
         "0.0",
         "0.0",
         "1.0",
         "0.0",
         "62712.0"
        ],
        [
         "40",
         "0.0",
         "0.0",
         "1.0",
         "0.0",
         "0.0",
         "0.0",
         "0.0",
         "0.0",
         "0.0",
         "1.0",
         "0.0",
         "0.0",
         "1.0",
         "0.0",
         "235952.0"
        ],
        [
         "41",
         "0.0",
         "0.0",
         "0.0",
         "1.0",
         "0.0",
         "0.0",
         "0.0",
         "0.0",
         "0.0",
         "0.0",
         "1.0",
         "0.0",
         "1.0",
         "0.0",
         "73360.0"
        ],
        [
         "42",
         "0.0",
         "0.0",
         "1.0",
         "0.0",
         "0.0",
         "0.0",
         "1.0",
         "0.0",
         "0.0",
         "0.0",
         "0.0",
         "0.0",
         "1.0",
         "0.0",
         "166938.0"
        ],
        [
         "43",
         "0.0",
         "1.0",
         "0.0",
         "0.0",
         "0.0",
         "0.0",
         "1.0",
         "0.0",
         "0.0",
         "0.0",
         "0.0",
         "0.0",
         "1.0",
         "0.0",
         "247869.0"
        ],
        [
         "44",
         "0.0",
         "0.0",
         "0.0",
         "1.0",
         "0.0",
         "0.0",
         "0.0",
         "0.0",
         "0.0",
         "1.0",
         "0.0",
         "0.0",
         "1.0",
         "0.0",
         "122266.0"
        ],
        [
         "45",
         "0.0",
         "0.0",
         "0.0",
         "1.0",
         "0.0",
         "0.0",
         "0.0",
         "0.0",
         "0.0",
         "1.0",
         "0.0",
         "0.0",
         "1.0",
         "0.0",
         "112004.0"
        ],
        [
         "46",
         "1.0",
         "0.0",
         "0.0",
         "0.0",
         "0.0",
         "0.0",
         "0.0",
         "0.0",
         "0.0",
         "1.0",
         "0.0",
         "0.0",
         "0.0",
         "1.0",
         "79937.0"
        ],
        [
         "47",
         "0.0",
         "1.0",
         "0.0",
         "0.0",
         "0.0",
         "0.0",
         "0.0",
         "0.0",
         "0.0",
         "0.0",
         "1.0",
         "0.0",
         "1.0",
         "0.0",
         "41846.0"
        ],
        [
         "48",
         "0.0",
         "0.0",
         "0.0",
         "1.0",
         "0.0",
         "0.0",
         "0.0",
         "1.0",
         "0.0",
         "0.0",
         "0.0",
         "0.0",
         "1.0",
         "0.0",
         "165225.0"
        ],
        [
         "49",
         "0.0",
         "0.0",
         "1.0",
         "0.0",
         "0.0",
         "0.0",
         "0.0",
         "0.0",
         "1.0",
         "0.0",
         "0.0",
         "1.0",
         "0.0",
         "0.0",
         "143204.0"
        ]
       ],
       "shape": {
        "columns": 15,
        "rows": 760
       }
      },
      "text/html": [
       "<div>\n",
       "<style scoped>\n",
       "    .dataframe tbody tr th:only-of-type {\n",
       "        vertical-align: middle;\n",
       "    }\n",
       "\n",
       "    .dataframe tbody tr th {\n",
       "        vertical-align: top;\n",
       "    }\n",
       "\n",
       "    .dataframe thead th {\n",
       "        text-align: right;\n",
       "    }\n",
       "</style>\n",
       "<table border=\"1\" class=\"dataframe\">\n",
       "  <thead>\n",
       "    <tr style=\"text-align: right;\">\n",
       "      <th></th>\n",
       "      <th>Make_BMW</th>\n",
       "      <th>Make_Honda</th>\n",
       "      <th>Make_Nissan</th>\n",
       "      <th>Make_Toyota</th>\n",
       "      <th>Make_missing</th>\n",
       "      <th>Colour_Black</th>\n",
       "      <th>Colour_Blue</th>\n",
       "      <th>Colour_Green</th>\n",
       "      <th>Colour_Red</th>\n",
       "      <th>Colour_White</th>\n",
       "      <th>Colour_missing</th>\n",
       "      <th>Doors_3.0</th>\n",
       "      <th>Doors_4.0</th>\n",
       "      <th>Doors_5.0</th>\n",
       "      <th>Odometer (KM)</th>\n",
       "    </tr>\n",
       "  </thead>\n",
       "  <tbody>\n",
       "    <tr>\n",
       "      <th>0</th>\n",
       "      <td>0.0</td>\n",
       "      <td>1.0</td>\n",
       "      <td>0.0</td>\n",
       "      <td>0.0</td>\n",
       "      <td>0.0</td>\n",
       "      <td>0.0</td>\n",
       "      <td>0.0</td>\n",
       "      <td>0.0</td>\n",
       "      <td>0.0</td>\n",
       "      <td>1.0</td>\n",
       "      <td>0.0</td>\n",
       "      <td>0.0</td>\n",
       "      <td>1.0</td>\n",
       "      <td>0.0</td>\n",
       "      <td>71934.0</td>\n",
       "    </tr>\n",
       "    <tr>\n",
       "      <th>1</th>\n",
       "      <td>0.0</td>\n",
       "      <td>0.0</td>\n",
       "      <td>0.0</td>\n",
       "      <td>1.0</td>\n",
       "      <td>0.0</td>\n",
       "      <td>0.0</td>\n",
       "      <td>0.0</td>\n",
       "      <td>0.0</td>\n",
       "      <td>1.0</td>\n",
       "      <td>0.0</td>\n",
       "      <td>0.0</td>\n",
       "      <td>0.0</td>\n",
       "      <td>1.0</td>\n",
       "      <td>0.0</td>\n",
       "      <td>162665.0</td>\n",
       "    </tr>\n",
       "    <tr>\n",
       "      <th>2</th>\n",
       "      <td>0.0</td>\n",
       "      <td>1.0</td>\n",
       "      <td>0.0</td>\n",
       "      <td>0.0</td>\n",
       "      <td>0.0</td>\n",
       "      <td>0.0</td>\n",
       "      <td>0.0</td>\n",
       "      <td>0.0</td>\n",
       "      <td>0.0</td>\n",
       "      <td>1.0</td>\n",
       "      <td>0.0</td>\n",
       "      <td>0.0</td>\n",
       "      <td>1.0</td>\n",
       "      <td>0.0</td>\n",
       "      <td>42844.0</td>\n",
       "    </tr>\n",
       "    <tr>\n",
       "      <th>3</th>\n",
       "      <td>0.0</td>\n",
       "      <td>1.0</td>\n",
       "      <td>0.0</td>\n",
       "      <td>0.0</td>\n",
       "      <td>0.0</td>\n",
       "      <td>0.0</td>\n",
       "      <td>0.0</td>\n",
       "      <td>0.0</td>\n",
       "      <td>0.0</td>\n",
       "      <td>1.0</td>\n",
       "      <td>0.0</td>\n",
       "      <td>0.0</td>\n",
       "      <td>1.0</td>\n",
       "      <td>0.0</td>\n",
       "      <td>195829.0</td>\n",
       "    </tr>\n",
       "    <tr>\n",
       "      <th>4</th>\n",
       "      <td>0.0</td>\n",
       "      <td>1.0</td>\n",
       "      <td>0.0</td>\n",
       "      <td>0.0</td>\n",
       "      <td>0.0</td>\n",
       "      <td>0.0</td>\n",
       "      <td>1.0</td>\n",
       "      <td>0.0</td>\n",
       "      <td>0.0</td>\n",
       "      <td>0.0</td>\n",
       "      <td>0.0</td>\n",
       "      <td>0.0</td>\n",
       "      <td>1.0</td>\n",
       "      <td>0.0</td>\n",
       "      <td>219217.0</td>\n",
       "    </tr>\n",
       "    <tr>\n",
       "      <th>...</th>\n",
       "      <td>...</td>\n",
       "      <td>...</td>\n",
       "      <td>...</td>\n",
       "      <td>...</td>\n",
       "      <td>...</td>\n",
       "      <td>...</td>\n",
       "      <td>...</td>\n",
       "      <td>...</td>\n",
       "      <td>...</td>\n",
       "      <td>...</td>\n",
       "      <td>...</td>\n",
       "      <td>...</td>\n",
       "      <td>...</td>\n",
       "      <td>...</td>\n",
       "      <td>...</td>\n",
       "    </tr>\n",
       "    <tr>\n",
       "      <th>755</th>\n",
       "      <td>0.0</td>\n",
       "      <td>0.0</td>\n",
       "      <td>0.0</td>\n",
       "      <td>1.0</td>\n",
       "      <td>0.0</td>\n",
       "      <td>0.0</td>\n",
       "      <td>0.0</td>\n",
       "      <td>0.0</td>\n",
       "      <td>0.0</td>\n",
       "      <td>0.0</td>\n",
       "      <td>1.0</td>\n",
       "      <td>0.0</td>\n",
       "      <td>1.0</td>\n",
       "      <td>0.0</td>\n",
       "      <td>218803.0</td>\n",
       "    </tr>\n",
       "    <tr>\n",
       "      <th>756</th>\n",
       "      <td>1.0</td>\n",
       "      <td>0.0</td>\n",
       "      <td>0.0</td>\n",
       "      <td>0.0</td>\n",
       "      <td>0.0</td>\n",
       "      <td>0.0</td>\n",
       "      <td>1.0</td>\n",
       "      <td>0.0</td>\n",
       "      <td>0.0</td>\n",
       "      <td>0.0</td>\n",
       "      <td>0.0</td>\n",
       "      <td>0.0</td>\n",
       "      <td>0.0</td>\n",
       "      <td>1.0</td>\n",
       "      <td>245427.0</td>\n",
       "    </tr>\n",
       "    <tr>\n",
       "      <th>757</th>\n",
       "      <td>0.0</td>\n",
       "      <td>0.0</td>\n",
       "      <td>0.0</td>\n",
       "      <td>1.0</td>\n",
       "      <td>0.0</td>\n",
       "      <td>0.0</td>\n",
       "      <td>0.0</td>\n",
       "      <td>0.0</td>\n",
       "      <td>0.0</td>\n",
       "      <td>1.0</td>\n",
       "      <td>0.0</td>\n",
       "      <td>0.0</td>\n",
       "      <td>1.0</td>\n",
       "      <td>0.0</td>\n",
       "      <td>196225.0</td>\n",
       "    </tr>\n",
       "    <tr>\n",
       "      <th>758</th>\n",
       "      <td>0.0</td>\n",
       "      <td>1.0</td>\n",
       "      <td>0.0</td>\n",
       "      <td>0.0</td>\n",
       "      <td>0.0</td>\n",
       "      <td>0.0</td>\n",
       "      <td>1.0</td>\n",
       "      <td>0.0</td>\n",
       "      <td>0.0</td>\n",
       "      <td>0.0</td>\n",
       "      <td>0.0</td>\n",
       "      <td>0.0</td>\n",
       "      <td>1.0</td>\n",
       "      <td>0.0</td>\n",
       "      <td>133117.0</td>\n",
       "    </tr>\n",
       "    <tr>\n",
       "      <th>759</th>\n",
       "      <td>0.0</td>\n",
       "      <td>1.0</td>\n",
       "      <td>0.0</td>\n",
       "      <td>0.0</td>\n",
       "      <td>0.0</td>\n",
       "      <td>0.0</td>\n",
       "      <td>0.0</td>\n",
       "      <td>0.0</td>\n",
       "      <td>0.0</td>\n",
       "      <td>0.0</td>\n",
       "      <td>1.0</td>\n",
       "      <td>0.0</td>\n",
       "      <td>1.0</td>\n",
       "      <td>0.0</td>\n",
       "      <td>150582.0</td>\n",
       "    </tr>\n",
       "  </tbody>\n",
       "</table>\n",
       "<p>760 rows × 15 columns</p>\n",
       "</div>"
      ],
      "text/plain": [
       "     Make_BMW  Make_Honda  Make_Nissan  Make_Toyota  Make_missing  \\\n",
       "0         0.0         1.0          0.0          0.0           0.0   \n",
       "1         0.0         0.0          0.0          1.0           0.0   \n",
       "2         0.0         1.0          0.0          0.0           0.0   \n",
       "3         0.0         1.0          0.0          0.0           0.0   \n",
       "4         0.0         1.0          0.0          0.0           0.0   \n",
       "..        ...         ...          ...          ...           ...   \n",
       "755       0.0         0.0          0.0          1.0           0.0   \n",
       "756       1.0         0.0          0.0          0.0           0.0   \n",
       "757       0.0         0.0          0.0          1.0           0.0   \n",
       "758       0.0         1.0          0.0          0.0           0.0   \n",
       "759       0.0         1.0          0.0          0.0           0.0   \n",
       "\n",
       "     Colour_Black  Colour_Blue  Colour_Green  Colour_Red  Colour_White  \\\n",
       "0             0.0          0.0           0.0         0.0           1.0   \n",
       "1             0.0          0.0           0.0         1.0           0.0   \n",
       "2             0.0          0.0           0.0         0.0           1.0   \n",
       "3             0.0          0.0           0.0         0.0           1.0   \n",
       "4             0.0          1.0           0.0         0.0           0.0   \n",
       "..            ...          ...           ...         ...           ...   \n",
       "755           0.0          0.0           0.0         0.0           0.0   \n",
       "756           0.0          1.0           0.0         0.0           0.0   \n",
       "757           0.0          0.0           0.0         0.0           1.0   \n",
       "758           0.0          1.0           0.0         0.0           0.0   \n",
       "759           0.0          0.0           0.0         0.0           0.0   \n",
       "\n",
       "     Colour_missing  Doors_3.0  Doors_4.0  Doors_5.0  Odometer (KM)  \n",
       "0               0.0        0.0        1.0        0.0        71934.0  \n",
       "1               0.0        0.0        1.0        0.0       162665.0  \n",
       "2               0.0        0.0        1.0        0.0        42844.0  \n",
       "3               0.0        0.0        1.0        0.0       195829.0  \n",
       "4               0.0        0.0        1.0        0.0       219217.0  \n",
       "..              ...        ...        ...        ...            ...  \n",
       "755             1.0        0.0        1.0        0.0       218803.0  \n",
       "756             0.0        0.0        0.0        1.0       245427.0  \n",
       "757             0.0        0.0        1.0        0.0       196225.0  \n",
       "758             0.0        0.0        1.0        0.0       133117.0  \n",
       "759             1.0        0.0        1.0        0.0       150582.0  \n",
       "\n",
       "[760 rows x 15 columns]"
      ]
     },
     "execution_count": 14,
     "metadata": {},
     "output_type": "execute_result"
    }
   ],
   "source": [
    "X_train_array = X_train_transformed.toarray()\n",
    "X_test_array = X_test_transformed.toarray()\n",
    "\n",
    "# Neue Spaltennamen aus dem OneHotEncoder:\n",
    "ohe_columns = transformer.named_transformers_[\"one_hot\"].get_feature_names_out(categorical_features)\n",
    "\n",
    "# Die Reihenfolge stimmt: one_hot-Spalten + passtrough-Spalten:\n",
    "all_feature_names = list(ohe_columns) + numerical_features\n",
    "\n",
    "# DataFrame erzeugen:\n",
    "X_train_df_final = pd.DataFrame(X_train_array, columns=all_feature_names)\n",
    "X_test_df_final = pd.DataFrame(X_test_array, columns=all_feature_names)\n",
    "\n",
    "X_train_df_final"
   ]
  },
  {
   "cell_type": "markdown",
   "metadata": {},
   "source": [
    "### 1.4 Ausreißerprüfung (outlier detection/treatment)"
   ]
  },
  {
   "cell_type": "code",
   "execution_count": 15,
   "metadata": {},
   "outputs": [
    {
     "data": {
      "text/plain": [
       "Index(['Make_BMW', 'Make_Honda', 'Make_Nissan', 'Make_Toyota', 'Make_missing',\n",
       "       'Colour_Black', 'Colour_Blue', 'Colour_Green', 'Colour_Red',\n",
       "       'Colour_White', 'Colour_missing', 'Doors_3.0', 'Doors_4.0', 'Doors_5.0',\n",
       "       'Odometer (KM)'],\n",
       "      dtype='object')"
      ]
     },
     "execution_count": 15,
     "metadata": {},
     "output_type": "execute_result"
    }
   ],
   "source": [
    "num_cols = X_train_df_final.select_dtypes(include=\"number\").columns\n",
    "num_cols"
   ]
  },
  {
   "cell_type": "code",
   "execution_count": 16,
   "metadata": {},
   "outputs": [
    {
     "data": {
      "text/plain": [
       "['Make_BMW',\n",
       " 'Make_Honda',\n",
       " 'Make_Nissan',\n",
       " 'Make_Toyota',\n",
       " 'Make_missing',\n",
       " 'Colour_Black',\n",
       " 'Colour_Blue',\n",
       " 'Colour_Green',\n",
       " 'Colour_Red',\n",
       " 'Colour_White',\n",
       " 'Colour_missing',\n",
       " 'Doors_3.0',\n",
       " 'Doors_4.0',\n",
       " 'Doors_5.0',\n",
       " 'Odometer (KM)']"
      ]
     },
     "execution_count": 16,
     "metadata": {},
     "output_type": "execute_result"
    }
   ],
   "source": [
    "# Numerische Spalten:\n",
    "num_cols = X_train_df_final.select_dtypes(include=\"number\").columns.tolist()\n",
    "num_cols"
   ]
  },
  {
   "cell_type": "code",
   "execution_count": 17,
   "metadata": {},
   "outputs": [
    {
     "data": {
      "text/plain": [
       "['Make_BMW',\n",
       " 'Make_Honda',\n",
       " 'Make_Nissan',\n",
       " 'Make_Toyota',\n",
       " 'Make_missing',\n",
       " 'Colour_Black',\n",
       " 'Colour_Blue',\n",
       " 'Colour_Green',\n",
       " 'Colour_Red',\n",
       " 'Colour_White',\n",
       " 'Colour_missing',\n",
       " 'Doors_3.0',\n",
       " 'Doors_4.0',\n",
       " 'Doors_5.0']"
      ]
     },
     "execution_count": 17,
     "metadata": {},
     "output_type": "execute_result"
    }
   ],
   "source": [
    "# Binäre (One-Hot) Spalten erkennen:\n",
    "binary_cols = []\n",
    "for c in num_cols:\n",
    "    u = pd.unique(X_train_df_final[c].dropna())\n",
    "    if len(u) <= 2 and set(u).issubset({0, 1, 0.0, 1.0}):\n",
    "        binary_cols.append(c)\n",
    "        \n",
    "binary_cols"
   ]
  },
  {
   "cell_type": "code",
   "execution_count": 18,
   "metadata": {},
   "outputs": [
    {
     "name": "stdout",
     "output_type": "stream",
     "text": [
      "Kontinuierliche Features: ['Odometer (KM)']\n",
      "Binäre (One-Hot) Features: ['Make_BMW', 'Make_Honda', 'Make_Nissan', 'Make_Toyota', 'Make_missing', 'Colour_Black', 'Colour_Blue', 'Colour_Green', 'Colour_Red', 'Colour_White', 'Colour_missing', 'Doors_3.0', 'Doors_4.0', 'Doors_5.0']\n"
     ]
    }
   ],
   "source": [
    "# Nur kontinuierliche Spalten:\n",
    "continous_cols = [c for c in num_cols if c not in binary_cols]\n",
    "print(\"Kontinuierliche Features:\", continous_cols)\n",
    "print(\"Binäre (One-Hot) Features:\", binary_cols)"
   ]
  },
  {
   "cell_type": "code",
   "execution_count": 19,
   "metadata": {},
   "outputs": [
    {
     "name": "stdout",
     "output_type": "stream",
     "text": [
      "Odometer (KM): 0 Ausreißer\n"
     ]
    },
    {
     "data": {
      "application/vnd.plotly.v1+json": {
       "config": {
        "plotlyServerURL": "https://plot.ly"
       },
       "data": [
        {
         "alignmentgroup": "True",
         "boxpoints": "all",
         "hovertemplate": "is_outlier=False<br>Odometer (KM)=%{y}<extra></extra>",
         "legendgroup": "False",
         "marker": {
          "color": "#636efa"
         },
         "name": "False",
         "notched": false,
         "offsetgroup": "False",
         "orientation": "v",
         "showlegend": true,
         "type": "box",
         "x0": " ",
         "xaxis": "x",
         "y": {
          "bdata": "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",
          "dtype": "f8"
         },
         "y0": " ",
         "yaxis": "y"
        }
       ],
       "layout": {
        "boxmode": "group",
        "legend": {
         "title": {
          "text": "is_outlier"
         },
         "tracegroupgap": 0
        },
        "template": {
         "data": {
          "bar": [
           {
            "error_x": {
             "color": "#2a3f5f"
            },
            "error_y": {
             "color": "#2a3f5f"
            },
            "marker": {
             "line": {
              "color": "#E5ECF6",
              "width": 0.5
             },
             "pattern": {
              "fillmode": "overlay",
              "size": 10,
              "solidity": 0.2
             }
            },
            "type": "bar"
           }
          ],
          "barpolar": [
           {
            "marker": {
             "line": {
              "color": "#E5ECF6",
              "width": 0.5
             },
             "pattern": {
              "fillmode": "overlay",
              "size": 10,
              "solidity": 0.2
             }
            },
            "type": "barpolar"
           }
          ],
          "carpet": [
           {
            "aaxis": {
             "endlinecolor": "#2a3f5f",
             "gridcolor": "white",
             "linecolor": "white",
             "minorgridcolor": "white",
             "startlinecolor": "#2a3f5f"
            },
            "baxis": {
             "endlinecolor": "#2a3f5f",
             "gridcolor": "white",
             "linecolor": "white",
             "minorgridcolor": "white",
             "startlinecolor": "#2a3f5f"
            },
            "type": "carpet"
           }
          ],
          "choropleth": [
           {
            "colorbar": {
             "outlinewidth": 0,
             "ticks": ""
            },
            "type": "choropleth"
           }
          ],
          "contour": [
           {
            "colorbar": {
             "outlinewidth": 0,
             "ticks": ""
            },
            "colorscale": [
             [
              0,
              "#0d0887"
             ],
             [
              0.1111111111111111,
              "#46039f"
             ],
             [
              0.2222222222222222,
              "#7201a8"
             ],
             [
              0.3333333333333333,
              "#9c179e"
             ],
             [
              0.4444444444444444,
              "#bd3786"
             ],
             [
              0.5555555555555556,
              "#d8576b"
             ],
             [
              0.6666666666666666,
              "#ed7953"
             ],
             [
              0.7777777777777778,
              "#fb9f3a"
             ],
             [
              0.8888888888888888,
              "#fdca26"
             ],
             [
              1,
              "#f0f921"
             ]
            ],
            "type": "contour"
           }
          ],
          "contourcarpet": [
           {
            "colorbar": {
             "outlinewidth": 0,
             "ticks": ""
            },
            "type": "contourcarpet"
           }
          ],
          "heatmap": [
           {
            "colorbar": {
             "outlinewidth": 0,
             "ticks": ""
            },
            "colorscale": [
             [
              0,
              "#0d0887"
             ],
             [
              0.1111111111111111,
              "#46039f"
             ],
             [
              0.2222222222222222,
              "#7201a8"
             ],
             [
              0.3333333333333333,
              "#9c179e"
             ],
             [
              0.4444444444444444,
              "#bd3786"
             ],
             [
              0.5555555555555556,
              "#d8576b"
             ],
             [
              0.6666666666666666,
              "#ed7953"
             ],
             [
              0.7777777777777778,
              "#fb9f3a"
             ],
             [
              0.8888888888888888,
              "#fdca26"
             ],
             [
              1,
              "#f0f921"
             ]
            ],
            "type": "heatmap"
           }
          ],
          "histogram": [
           {
            "marker": {
             "pattern": {
              "fillmode": "overlay",
              "size": 10,
              "solidity": 0.2
             }
            },
            "type": "histogram"
           }
          ],
          "histogram2d": [
           {
            "colorbar": {
             "outlinewidth": 0,
             "ticks": ""
            },
            "colorscale": [
             [
              0,
              "#0d0887"
             ],
             [
              0.1111111111111111,
              "#46039f"
             ],
             [
              0.2222222222222222,
              "#7201a8"
             ],
             [
              0.3333333333333333,
              "#9c179e"
             ],
             [
              0.4444444444444444,
              "#bd3786"
             ],
             [
              0.5555555555555556,
              "#d8576b"
             ],
             [
              0.6666666666666666,
              "#ed7953"
             ],
             [
              0.7777777777777778,
              "#fb9f3a"
             ],
             [
              0.8888888888888888,
              "#fdca26"
             ],
             [
              1,
              "#f0f921"
             ]
            ],
            "type": "histogram2d"
           }
          ],
          "histogram2dcontour": [
           {
            "colorbar": {
             "outlinewidth": 0,
             "ticks": ""
            },
            "colorscale": [
             [
              0,
              "#0d0887"
             ],
             [
              0.1111111111111111,
              "#46039f"
             ],
             [
              0.2222222222222222,
              "#7201a8"
             ],
             [
              0.3333333333333333,
              "#9c179e"
             ],
             [
              0.4444444444444444,
              "#bd3786"
             ],
             [
              0.5555555555555556,
              "#d8576b"
             ],
             [
              0.6666666666666666,
              "#ed7953"
             ],
             [
              0.7777777777777778,
              "#fb9f3a"
             ],
             [
              0.8888888888888888,
              "#fdca26"
             ],
             [
              1,
              "#f0f921"
             ]
            ],
            "type": "histogram2dcontour"
           }
          ],
          "mesh3d": [
           {
            "colorbar": {
             "outlinewidth": 0,
             "ticks": ""
            },
            "type": "mesh3d"
           }
          ],
          "parcoords": [
           {
            "line": {
             "colorbar": {
              "outlinewidth": 0,
              "ticks": ""
             }
            },
            "type": "parcoords"
           }
          ],
          "pie": [
           {
            "automargin": true,
            "type": "pie"
           }
          ],
          "scatter": [
           {
            "fillpattern": {
             "fillmode": "overlay",
             "size": 10,
             "solidity": 0.2
            },
            "type": "scatter"
           }
          ],
          "scatter3d": [
           {
            "line": {
             "colorbar": {
              "outlinewidth": 0,
              "ticks": ""
             }
            },
            "marker": {
             "colorbar": {
              "outlinewidth": 0,
              "ticks": ""
             }
            },
            "type": "scatter3d"
           }
          ],
          "scattercarpet": [
           {
            "marker": {
             "colorbar": {
              "outlinewidth": 0,
              "ticks": ""
             }
            },
            "type": "scattercarpet"
           }
          ],
          "scattergeo": [
           {
            "marker": {
             "colorbar": {
              "outlinewidth": 0,
              "ticks": ""
             }
            },
            "type": "scattergeo"
           }
          ],
          "scattergl": [
           {
            "marker": {
             "colorbar": {
              "outlinewidth": 0,
              "ticks": ""
             }
            },
            "type": "scattergl"
           }
          ],
          "scattermap": [
           {
            "marker": {
             "colorbar": {
              "outlinewidth": 0,
              "ticks": ""
             }
            },
            "type": "scattermap"
           }
          ],
          "scattermapbox": [
           {
            "marker": {
             "colorbar": {
              "outlinewidth": 0,
              "ticks": ""
             }
            },
            "type": "scattermapbox"
           }
          ],
          "scatterpolar": [
           {
            "marker": {
             "colorbar": {
              "outlinewidth": 0,
              "ticks": ""
             }
            },
            "type": "scatterpolar"
           }
          ],
          "scatterpolargl": [
           {
            "marker": {
             "colorbar": {
              "outlinewidth": 0,
              "ticks": ""
             }
            },
            "type": "scatterpolargl"
           }
          ],
          "scatterternary": [
           {
            "marker": {
             "colorbar": {
              "outlinewidth": 0,
              "ticks": ""
             }
            },
            "type": "scatterternary"
           }
          ],
          "surface": [
           {
            "colorbar": {
             "outlinewidth": 0,
             "ticks": ""
            },
            "colorscale": [
             [
              0,
              "#0d0887"
             ],
             [
              0.1111111111111111,
              "#46039f"
             ],
             [
              0.2222222222222222,
              "#7201a8"
             ],
             [
              0.3333333333333333,
              "#9c179e"
             ],
             [
              0.4444444444444444,
              "#bd3786"
             ],
             [
              0.5555555555555556,
              "#d8576b"
             ],
             [
              0.6666666666666666,
              "#ed7953"
             ],
             [
              0.7777777777777778,
              "#fb9f3a"
             ],
             [
              0.8888888888888888,
              "#fdca26"
             ],
             [
              1,
              "#f0f921"
             ]
            ],
            "type": "surface"
           }
          ],
          "table": [
           {
            "cells": {
             "fill": {
              "color": "#EBF0F8"
             },
             "line": {
              "color": "white"
             }
            },
            "header": {
             "fill": {
              "color": "#C8D4E3"
             },
             "line": {
              "color": "white"
             }
            },
            "type": "table"
           }
          ]
         },
         "layout": {
          "annotationdefaults": {
           "arrowcolor": "#2a3f5f",
           "arrowhead": 0,
           "arrowwidth": 1
          },
          "autotypenumbers": "strict",
          "coloraxis": {
           "colorbar": {
            "outlinewidth": 0,
            "ticks": ""
           }
          },
          "colorscale": {
           "diverging": [
            [
             0,
             "#8e0152"
            ],
            [
             0.1,
             "#c51b7d"
            ],
            [
             0.2,
             "#de77ae"
            ],
            [
             0.3,
             "#f1b6da"
            ],
            [
             0.4,
             "#fde0ef"
            ],
            [
             0.5,
             "#f7f7f7"
            ],
            [
             0.6,
             "#e6f5d0"
            ],
            [
             0.7,
             "#b8e186"
            ],
            [
             0.8,
             "#7fbc41"
            ],
            [
             0.9,
             "#4d9221"
            ],
            [
             1,
             "#276419"
            ]
           ],
           "sequential": [
            [
             0,
             "#0d0887"
            ],
            [
             0.1111111111111111,
             "#46039f"
            ],
            [
             0.2222222222222222,
             "#7201a8"
            ],
            [
             0.3333333333333333,
             "#9c179e"
            ],
            [
             0.4444444444444444,
             "#bd3786"
            ],
            [
             0.5555555555555556,
             "#d8576b"
            ],
            [
             0.6666666666666666,
             "#ed7953"
            ],
            [
             0.7777777777777778,
             "#fb9f3a"
            ],
            [
             0.8888888888888888,
             "#fdca26"
            ],
            [
             1,
             "#f0f921"
            ]
           ],
           "sequentialminus": [
            [
             0,
             "#0d0887"
            ],
            [
             0.1111111111111111,
             "#46039f"
            ],
            [
             0.2222222222222222,
             "#7201a8"
            ],
            [
             0.3333333333333333,
             "#9c179e"
            ],
            [
             0.4444444444444444,
             "#bd3786"
            ],
            [
             0.5555555555555556,
             "#d8576b"
            ],
            [
             0.6666666666666666,
             "#ed7953"
            ],
            [
             0.7777777777777778,
             "#fb9f3a"
            ],
            [
             0.8888888888888888,
             "#fdca26"
            ],
            [
             1,
             "#f0f921"
            ]
           ]
          },
          "colorway": [
           "#636efa",
           "#EF553B",
           "#00cc96",
           "#ab63fa",
           "#FFA15A",
           "#19d3f3",
           "#FF6692",
           "#B6E880",
           "#FF97FF",
           "#FECB52"
          ],
          "font": {
           "color": "#2a3f5f"
          },
          "geo": {
           "bgcolor": "white",
           "lakecolor": "white",
           "landcolor": "#E5ECF6",
           "showlakes": true,
           "showland": true,
           "subunitcolor": "white"
          },
          "hoverlabel": {
           "align": "left"
          },
          "hovermode": "closest",
          "mapbox": {
           "style": "light"
          },
          "paper_bgcolor": "white",
          "plot_bgcolor": "#E5ECF6",
          "polar": {
           "angularaxis": {
            "gridcolor": "white",
            "linecolor": "white",
            "ticks": ""
           },
           "bgcolor": "#E5ECF6",
           "radialaxis": {
            "gridcolor": "white",
            "linecolor": "white",
            "ticks": ""
           }
          },
          "scene": {
           "xaxis": {
            "backgroundcolor": "#E5ECF6",
            "gridcolor": "white",
            "gridwidth": 2,
            "linecolor": "white",
            "showbackground": true,
            "ticks": "",
            "zerolinecolor": "white"
           },
           "yaxis": {
            "backgroundcolor": "#E5ECF6",
            "gridcolor": "white",
            "gridwidth": 2,
            "linecolor": "white",
            "showbackground": true,
            "ticks": "",
            "zerolinecolor": "white"
           },
           "zaxis": {
            "backgroundcolor": "#E5ECF6",
            "gridcolor": "white",
            "gridwidth": 2,
            "linecolor": "white",
            "showbackground": true,
            "ticks": "",
            "zerolinecolor": "white"
           }
          },
          "shapedefaults": {
           "line": {
            "color": "#2a3f5f"
           }
          },
          "ternary": {
           "aaxis": {
            "gridcolor": "white",
            "linecolor": "white",
            "ticks": ""
           },
           "baxis": {
            "gridcolor": "white",
            "linecolor": "white",
            "ticks": ""
           },
           "bgcolor": "#E5ECF6",
           "caxis": {
            "gridcolor": "white",
            "linecolor": "white",
            "ticks": ""
           }
          },
          "title": {
           "x": 0.05
          },
          "xaxis": {
           "automargin": true,
           "gridcolor": "white",
           "linecolor": "white",
           "ticks": "",
           "title": {
            "standoff": 15
           },
           "zerolinecolor": "white",
           "zerolinewidth": 2
          },
          "yaxis": {
           "automargin": true,
           "gridcolor": "white",
           "linecolor": "white",
           "ticks": "",
           "title": {
            "standoff": 15
           },
           "zerolinecolor": "white",
           "zerolinewidth": 2
          }
         }
        },
        "title": {
         "text": "Boxplot - Odometer (KM) (Outlier farbig)"
        },
        "xaxis": {
         "anchor": "y",
         "domain": [
          0,
          1
         ]
        },
        "yaxis": {
         "anchor": "x",
         "domain": [
          0,
          1
         ],
         "title": {
          "text": "Odometer (KM)"
         }
        }
       }
      }
     },
     "metadata": {},
     "output_type": "display_data"
    }
   ],
   "source": [
    "import plotly.express as px\n",
    "\n",
    "for col in continous_cols:\n",
    "    Q1 = X_train_df_final[col].quantile(0.25)\n",
    "    Q3 = X_train_df_final[col].quantile(0.75)\n",
    "    IQR = Q3 - Q1\n",
    "    lower = Q1 - 1.5 * IQR\n",
    "    upper = Q3 + 1.5 * IQR\n",
    "\n",
    "    # Outlier-Flag erstellen\n",
    "    df_plot = X_train_df_final[[col]].copy()\n",
    "    df_plot[\"is_outlier\"] = (\n",
    "        (df_plot[col] < lower) | (df_plot[col] > upper)\n",
    "    )\n",
    "\n",
    "    print(f\"{col}: {df_plot['is_outlier'].sum()} Ausreißer\")\n",
    "\n",
    "    # Plotly Boxplot mit farblichen Punkten für Ausreißer\n",
    "    fig = px.box(\n",
    "        df_plot,\n",
    "        y=col,\n",
    "        points=\"all\",  # alle Punkte anzeigen\n",
    "        color=\"is_outlier\",  # Ausreißer farbig markieren\n",
    "        title=f\"Boxplot - {col} (Outlier farbig)\"\n",
    "    )\n",
    "    fig.show()"
   ]
  },
  {
   "cell_type": "markdown",
   "metadata": {},
   "source": [
    "### 1.5 Verteilung der Daten prüfen"
   ]
  },
  {
   "cell_type": "code",
   "execution_count": 20,
   "metadata": {},
   "outputs": [
    {
     "data": {
      "text/plain": [
       "['Odometer (KM)']"
      ]
     },
     "execution_count": 20,
     "metadata": {},
     "output_type": "execute_result"
    }
   ],
   "source": [
    "continous_cols"
   ]
  },
  {
   "cell_type": "code",
   "execution_count": 21,
   "metadata": {},
   "outputs": [
    {
     "data": {
      "application/vnd.plotly.v1+json": {
       "config": {
        "plotlyServerURL": "https://plot.ly"
       },
       "data": [
        {
         "nbinsx": 30,
         "type": "histogram",
         "x": {
          "bdata": "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",
          "dtype": "f8"
         }
        }
       ],
       "layout": {
        "bargap": 0.05,
        "template": {
         "data": {
          "bar": [
           {
            "error_x": {
             "color": "#2a3f5f"
            },
            "error_y": {
             "color": "#2a3f5f"
            },
            "marker": {
             "line": {
              "color": "#E5ECF6",
              "width": 0.5
             },
             "pattern": {
              "fillmode": "overlay",
              "size": 10,
              "solidity": 0.2
             }
            },
            "type": "bar"
           }
          ],
          "barpolar": [
           {
            "marker": {
             "line": {
              "color": "#E5ECF6",
              "width": 0.5
             },
             "pattern": {
              "fillmode": "overlay",
              "size": 10,
              "solidity": 0.2
             }
            },
            "type": "barpolar"
           }
          ],
          "carpet": [
           {
            "aaxis": {
             "endlinecolor": "#2a3f5f",
             "gridcolor": "white",
             "linecolor": "white",
             "minorgridcolor": "white",
             "startlinecolor": "#2a3f5f"
            },
            "baxis": {
             "endlinecolor": "#2a3f5f",
             "gridcolor": "white",
             "linecolor": "white",
             "minorgridcolor": "white",
             "startlinecolor": "#2a3f5f"
            },
            "type": "carpet"
           }
          ],
          "choropleth": [
           {
            "colorbar": {
             "outlinewidth": 0,
             "ticks": ""
            },
            "type": "choropleth"
           }
          ],
          "contour": [
           {
            "colorbar": {
             "outlinewidth": 0,
             "ticks": ""
            },
            "colorscale": [
             [
              0,
              "#0d0887"
             ],
             [
              0.1111111111111111,
              "#46039f"
             ],
             [
              0.2222222222222222,
              "#7201a8"
             ],
             [
              0.3333333333333333,
              "#9c179e"
             ],
             [
              0.4444444444444444,
              "#bd3786"
             ],
             [
              0.5555555555555556,
              "#d8576b"
             ],
             [
              0.6666666666666666,
              "#ed7953"
             ],
             [
              0.7777777777777778,
              "#fb9f3a"
             ],
             [
              0.8888888888888888,
              "#fdca26"
             ],
             [
              1,
              "#f0f921"
             ]
            ],
            "type": "contour"
           }
          ],
          "contourcarpet": [
           {
            "colorbar": {
             "outlinewidth": 0,
             "ticks": ""
            },
            "type": "contourcarpet"
           }
          ],
          "heatmap": [
           {
            "colorbar": {
             "outlinewidth": 0,
             "ticks": ""
            },
            "colorscale": [
             [
              0,
              "#0d0887"
             ],
             [
              0.1111111111111111,
              "#46039f"
             ],
             [
              0.2222222222222222,
              "#7201a8"
             ],
             [
              0.3333333333333333,
              "#9c179e"
             ],
             [
              0.4444444444444444,
              "#bd3786"
             ],
             [
              0.5555555555555556,
              "#d8576b"
             ],
             [
              0.6666666666666666,
              "#ed7953"
             ],
             [
              0.7777777777777778,
              "#fb9f3a"
             ],
             [
              0.8888888888888888,
              "#fdca26"
             ],
             [
              1,
              "#f0f921"
             ]
            ],
            "type": "heatmap"
           }
          ],
          "histogram": [
           {
            "marker": {
             "pattern": {
              "fillmode": "overlay",
              "size": 10,
              "solidity": 0.2
             }
            },
            "type": "histogram"
           }
          ],
          "histogram2d": [
           {
            "colorbar": {
             "outlinewidth": 0,
             "ticks": ""
            },
            "colorscale": [
             [
              0,
              "#0d0887"
             ],
             [
              0.1111111111111111,
              "#46039f"
             ],
             [
              0.2222222222222222,
              "#7201a8"
             ],
             [
              0.3333333333333333,
              "#9c179e"
             ],
             [
              0.4444444444444444,
              "#bd3786"
             ],
             [
              0.5555555555555556,
              "#d8576b"
             ],
             [
              0.6666666666666666,
              "#ed7953"
             ],
             [
              0.7777777777777778,
              "#fb9f3a"
             ],
             [
              0.8888888888888888,
              "#fdca26"
             ],
             [
              1,
              "#f0f921"
             ]
            ],
            "type": "histogram2d"
           }
          ],
          "histogram2dcontour": [
           {
            "colorbar": {
             "outlinewidth": 0,
             "ticks": ""
            },
            "colorscale": [
             [
              0,
              "#0d0887"
             ],
             [
              0.1111111111111111,
              "#46039f"
             ],
             [
              0.2222222222222222,
              "#7201a8"
             ],
             [
              0.3333333333333333,
              "#9c179e"
             ],
             [
              0.4444444444444444,
              "#bd3786"
             ],
             [
              0.5555555555555556,
              "#d8576b"
             ],
             [
              0.6666666666666666,
              "#ed7953"
             ],
             [
              0.7777777777777778,
              "#fb9f3a"
             ],
             [
              0.8888888888888888,
              "#fdca26"
             ],
             [
              1,
              "#f0f921"
             ]
            ],
            "type": "histogram2dcontour"
           }
          ],
          "mesh3d": [
           {
            "colorbar": {
             "outlinewidth": 0,
             "ticks": ""
            },
            "type": "mesh3d"
           }
          ],
          "parcoords": [
           {
            "line": {
             "colorbar": {
              "outlinewidth": 0,
              "ticks": ""
             }
            },
            "type": "parcoords"
           }
          ],
          "pie": [
           {
            "automargin": true,
            "type": "pie"
           }
          ],
          "scatter": [
           {
            "fillpattern": {
             "fillmode": "overlay",
             "size": 10,
             "solidity": 0.2
            },
            "type": "scatter"
           }
          ],
          "scatter3d": [
           {
            "line": {
             "colorbar": {
              "outlinewidth": 0,
              "ticks": ""
             }
            },
            "marker": {
             "colorbar": {
              "outlinewidth": 0,
              "ticks": ""
             }
            },
            "type": "scatter3d"
           }
          ],
          "scattercarpet": [
           {
            "marker": {
             "colorbar": {
              "outlinewidth": 0,
              "ticks": ""
             }
            },
            "type": "scattercarpet"
           }
          ],
          "scattergeo": [
           {
            "marker": {
             "colorbar": {
              "outlinewidth": 0,
              "ticks": ""
             }
            },
            "type": "scattergeo"
           }
          ],
          "scattergl": [
           {
            "marker": {
             "colorbar": {
              "outlinewidth": 0,
              "ticks": ""
             }
            },
            "type": "scattergl"
           }
          ],
          "scattermap": [
           {
            "marker": {
             "colorbar": {
              "outlinewidth": 0,
              "ticks": ""
             }
            },
            "type": "scattermap"
           }
          ],
          "scattermapbox": [
           {
            "marker": {
             "colorbar": {
              "outlinewidth": 0,
              "ticks": ""
             }
            },
            "type": "scattermapbox"
           }
          ],
          "scatterpolar": [
           {
            "marker": {
             "colorbar": {
              "outlinewidth": 0,
              "ticks": ""
             }
            },
            "type": "scatterpolar"
           }
          ],
          "scatterpolargl": [
           {
            "marker": {
             "colorbar": {
              "outlinewidth": 0,
              "ticks": ""
             }
            },
            "type": "scatterpolargl"
           }
          ],
          "scatterternary": [
           {
            "marker": {
             "colorbar": {
              "outlinewidth": 0,
              "ticks": ""
             }
            },
            "type": "scatterternary"
           }
          ],
          "surface": [
           {
            "colorbar": {
             "outlinewidth": 0,
             "ticks": ""
            },
            "colorscale": [
             [
              0,
              "#0d0887"
             ],
             [
              0.1111111111111111,
              "#46039f"
             ],
             [
              0.2222222222222222,
              "#7201a8"
             ],
             [
              0.3333333333333333,
              "#9c179e"
             ],
             [
              0.4444444444444444,
              "#bd3786"
             ],
             [
              0.5555555555555556,
              "#d8576b"
             ],
             [
              0.6666666666666666,
              "#ed7953"
             ],
             [
              0.7777777777777778,
              "#fb9f3a"
             ],
             [
              0.8888888888888888,
              "#fdca26"
             ],
             [
              1,
              "#f0f921"
             ]
            ],
            "type": "surface"
           }
          ],
          "table": [
           {
            "cells": {
             "fill": {
              "color": "#EBF0F8"
             },
             "line": {
              "color": "white"
             }
            },
            "header": {
             "fill": {
              "color": "#C8D4E3"
             },
             "line": {
              "color": "white"
             }
            },
            "type": "table"
           }
          ]
         },
         "layout": {
          "annotationdefaults": {
           "arrowcolor": "#2a3f5f",
           "arrowhead": 0,
           "arrowwidth": 1
          },
          "autotypenumbers": "strict",
          "coloraxis": {
           "colorbar": {
            "outlinewidth": 0,
            "ticks": ""
           }
          },
          "colorscale": {
           "diverging": [
            [
             0,
             "#8e0152"
            ],
            [
             0.1,
             "#c51b7d"
            ],
            [
             0.2,
             "#de77ae"
            ],
            [
             0.3,
             "#f1b6da"
            ],
            [
             0.4,
             "#fde0ef"
            ],
            [
             0.5,
             "#f7f7f7"
            ],
            [
             0.6,
             "#e6f5d0"
            ],
            [
             0.7,
             "#b8e186"
            ],
            [
             0.8,
             "#7fbc41"
            ],
            [
             0.9,
             "#4d9221"
            ],
            [
             1,
             "#276419"
            ]
           ],
           "sequential": [
            [
             0,
             "#0d0887"
            ],
            [
             0.1111111111111111,
             "#46039f"
            ],
            [
             0.2222222222222222,
             "#7201a8"
            ],
            [
             0.3333333333333333,
             "#9c179e"
            ],
            [
             0.4444444444444444,
             "#bd3786"
            ],
            [
             0.5555555555555556,
             "#d8576b"
            ],
            [
             0.6666666666666666,
             "#ed7953"
            ],
            [
             0.7777777777777778,
             "#fb9f3a"
            ],
            [
             0.8888888888888888,
             "#fdca26"
            ],
            [
             1,
             "#f0f921"
            ]
           ],
           "sequentialminus": [
            [
             0,
             "#0d0887"
            ],
            [
             0.1111111111111111,
             "#46039f"
            ],
            [
             0.2222222222222222,
             "#7201a8"
            ],
            [
             0.3333333333333333,
             "#9c179e"
            ],
            [
             0.4444444444444444,
             "#bd3786"
            ],
            [
             0.5555555555555556,
             "#d8576b"
            ],
            [
             0.6666666666666666,
             "#ed7953"
            ],
            [
             0.7777777777777778,
             "#fb9f3a"
            ],
            [
             0.8888888888888888,
             "#fdca26"
            ],
            [
             1,
             "#f0f921"
            ]
           ]
          },
          "colorway": [
           "#636efa",
           "#EF553B",
           "#00cc96",
           "#ab63fa",
           "#FFA15A",
           "#19d3f3",
           "#FF6692",
           "#B6E880",
           "#FF97FF",
           "#FECB52"
          ],
          "font": {
           "color": "#2a3f5f"
          },
          "geo": {
           "bgcolor": "white",
           "lakecolor": "white",
           "landcolor": "#E5ECF6",
           "showlakes": true,
           "showland": true,
           "subunitcolor": "white"
          },
          "hoverlabel": {
           "align": "left"
          },
          "hovermode": "closest",
          "mapbox": {
           "style": "light"
          },
          "paper_bgcolor": "white",
          "plot_bgcolor": "#E5ECF6",
          "polar": {
           "angularaxis": {
            "gridcolor": "white",
            "linecolor": "white",
            "ticks": ""
           },
           "bgcolor": "#E5ECF6",
           "radialaxis": {
            "gridcolor": "white",
            "linecolor": "white",
            "ticks": ""
           }
          },
          "scene": {
           "xaxis": {
            "backgroundcolor": "#E5ECF6",
            "gridcolor": "white",
            "gridwidth": 2,
            "linecolor": "white",
            "showbackground": true,
            "ticks": "",
            "zerolinecolor": "white"
           },
           "yaxis": {
            "backgroundcolor": "#E5ECF6",
            "gridcolor": "white",
            "gridwidth": 2,
            "linecolor": "white",
            "showbackground": true,
            "ticks": "",
            "zerolinecolor": "white"
           },
           "zaxis": {
            "backgroundcolor": "#E5ECF6",
            "gridcolor": "white",
            "gridwidth": 2,
            "linecolor": "white",
            "showbackground": true,
            "ticks": "",
            "zerolinecolor": "white"
           }
          },
          "shapedefaults": {
           "line": {
            "color": "#2a3f5f"
           }
          },
          "ternary": {
           "aaxis": {
            "gridcolor": "white",
            "linecolor": "white",
            "ticks": ""
           },
           "baxis": {
            "gridcolor": "white",
            "linecolor": "white",
            "ticks": ""
           },
           "bgcolor": "#E5ECF6",
           "caxis": {
            "gridcolor": "white",
            "linecolor": "white",
            "ticks": ""
           }
          },
          "title": {
           "x": 0.05
          },
          "xaxis": {
           "automargin": true,
           "gridcolor": "white",
           "linecolor": "white",
           "ticks": "",
           "title": {
            "standoff": 15
           },
           "zerolinecolor": "white",
           "zerolinewidth": 2
          },
          "yaxis": {
           "automargin": true,
           "gridcolor": "white",
           "linecolor": "white",
           "ticks": "",
           "title": {
            "standoff": 15
           },
           "zerolinecolor": "white",
           "zerolinewidth": 2
          }
         }
        },
        "title": {
         "text": "Odometer (KM) | Skew=0.0006 | n=760"
        },
        "xaxis": {
         "title": {
          "text": "Odometer (KM)"
         }
        },
        "yaxis": {
         "title": {
          "text": "Häufigkeit"
         }
        }
       }
      }
     },
     "metadata": {},
     "output_type": "display_data"
    }
   ],
   "source": [
    "import plotly.graph_objects as go\n",
    "\n",
    "skews = {}\n",
    "for c in continous_cols:\n",
    "    s = X_train_df_final[c].dropna().astype(float)\n",
    "    skew_val = s.skew()\n",
    "    skews[c] = skew_val\n",
    "\n",
    "    fig = go.Figure()\n",
    "    fig.add_trace(go.Histogram(x=s, nbinsx=30))\n",
    "    fig.update_layout(\n",
    "        title=f\"{c} | Skew={skew_val:.4f} | n={len(s)}\",\n",
    "        xaxis_title=c,\n",
    "        yaxis_title=\"Häufigkeit\",\n",
    "        bargap=0.05\n",
    "    )\n",
    "\n",
    "fig"
   ]
  },
  {
   "cell_type": "code",
   "execution_count": 22,
   "metadata": {},
   "outputs": [
    {
     "name": "stdout",
     "output_type": "stream",
     "text": [
      "Skewness (absteigend):\n"
     ]
    },
    {
     "data": {
      "application/vnd.microsoft.datawrangler.viewer.v0+json": {
       "columns": [
        {
         "name": "index",
         "rawType": "object",
         "type": "string"
        },
        {
         "name": "0",
         "rawType": "float64",
         "type": "float"
        }
       ],
       "ref": "a1e6c616-b6a3-4c76-8996-f8ced87d9a30",
       "rows": [
        [
         "Odometer (KM)",
         "0.0005781084960302645"
        ]
       ],
       "shape": {
        "columns": 1,
        "rows": 1
       }
      },
      "text/plain": [
       "Odometer (KM)    0.000578\n",
       "dtype: float64"
      ]
     },
     "metadata": {},
     "output_type": "display_data"
    }
   ],
   "source": [
    "skew_series = pd.Series(skews).sort_values(ascending=False)\n",
    "print(\"Skewness (absteigend):\")\n",
    "display(skew_series)"
   ]
  },
  {
   "cell_type": "markdown",
   "metadata": {},
   "source": [
    "### 1.6 Transformation\n",
    "Da unsere Skewness für alle kontinuierlichen Features ungefähr 0 ist, haben wir eine symmetrische Verteilung. Eine log-Transformation oder andere Transformationsmethoden zur Normalisierung entfallen an dieser Stelle."
   ]
  },
  {
   "cell_type": "markdown",
   "metadata": {},
   "source": [
    "### 1.7 Skalierung / Standardisierung"
   ]
  },
  {
   "cell_type": "code",
   "execution_count": 23,
   "metadata": {},
   "outputs": [
    {
     "name": "stdout",
     "output_type": "stream",
     "text": [
      "Odometer (KM)\n",
      "Mittelwert = 130319.0331\n",
      "Standardabweichung = 67130.4786\n"
     ]
    }
   ],
   "source": [
    "# Standardabweichung und Mittelwert vor Standardisierung prüfen:\n",
    "for col in continous_cols:\n",
    "    mean_val = X_train_df_final[col].mean()\n",
    "    std_val = X_train_df_final[col].std(ddof=0)\n",
    "    print(f\"{col}\\nMittelwert = {mean_val:.4f}\\nStandardabweichung = {std_val:.4f}\")"
   ]
  },
  {
   "cell_type": "code",
   "execution_count": 24,
   "metadata": {},
   "outputs": [],
   "source": [
    "from sklearn.preprocessing import StandardScaler\n",
    "\n",
    "# StandardScaler fitten (nur auf Train):\n",
    "scaler = StandardScaler()\n",
    "scaler.fit(X_train_df_final[continous_cols].astype(float))\n",
    "\n",
    "# StandardScaler anwenden:\n",
    "X_train_scaled = X_train_df_final.copy()\n",
    "X_test_scaled = X_test_df_final.copy()\n",
    "X_train_scaled[continous_cols] = scaler.transform(X_train_df_final[continous_cols].astype(float))\n",
    "X_test_scaled[continous_cols]  = scaler.transform(X_test_df_final[continous_cols].astype(float))"
   ]
  },
  {
   "cell_type": "code",
   "execution_count": 25,
   "metadata": {},
   "outputs": [
    {
     "name": "stdout",
     "output_type": "stream",
     "text": [
      "Odometer (KM)\n",
      "Mittelwert = -0.0000\n",
      "Standardabweichung = 1.0000\n"
     ]
    }
   ],
   "source": [
    "# Standardabweichung und Mittelwert vor Standardisierung prüfen:\n",
    "for col in continous_cols:\n",
    "    mean_val = X_train_scaled[col].mean()\n",
    "    std_val = X_train_scaled[col].std(ddof=0)\n",
    "    print(f\"{col}\\nMittelwert = {mean_val:.4f}\\nStandardabweichung = {std_val:.4f}\")"
   ]
  },
  {
   "cell_type": "markdown",
   "metadata": {},
   "source": [
    "### 2. Das richtige Modell auswählen\n",
    "\n",
    "Dabei entscheiden wir uns für die Ridge Regression. Es ist ein Verfahren, das wie eine normale lineare Regression arbeitet, aber zusätzlich verhindert, dass einzelne Merkmale (Features) zu viel Einfluss bekommen. Sie bestraft im Training große Zahlen bei den Modell-Gewichten (Koeffizienten). Dadurch werden sehr Große, extreme Gewichte kleiner gemacht, wodurch das Modell \"ruhiger\" und stabiler wird. Ridge Regression ist wie eine normale Regression, aber mit einem \"Dämpfer\" auf den Gewichten, damit sie nicht zu verrückt spielt."
   ]
  },
  {
   "cell_type": "markdown",
   "metadata": {},
   "source": [
    "### 3. Modell trainieren"
   ]
  },
  {
   "cell_type": "code",
   "execution_count": 26,
   "metadata": {},
   "outputs": [
    {
     "data": {
      "text/html": [
       "<style>#sk-container-id-1 {\n",
       "  /* Definition of color scheme common for light and dark mode */\n",
       "  --sklearn-color-text: #000;\n",
       "  --sklearn-color-text-muted: #666;\n",
       "  --sklearn-color-line: gray;\n",
       "  /* Definition of color scheme for unfitted estimators */\n",
       "  --sklearn-color-unfitted-level-0: #fff5e6;\n",
       "  --sklearn-color-unfitted-level-1: #f6e4d2;\n",
       "  --sklearn-color-unfitted-level-2: #ffe0b3;\n",
       "  --sklearn-color-unfitted-level-3: chocolate;\n",
       "  /* Definition of color scheme for fitted estimators */\n",
       "  --sklearn-color-fitted-level-0: #f0f8ff;\n",
       "  --sklearn-color-fitted-level-1: #d4ebff;\n",
       "  --sklearn-color-fitted-level-2: #b3dbfd;\n",
       "  --sklearn-color-fitted-level-3: cornflowerblue;\n",
       "\n",
       "  /* Specific color for light theme */\n",
       "  --sklearn-color-text-on-default-background: var(--sg-text-color, var(--theme-code-foreground, var(--jp-content-font-color1, black)));\n",
       "  --sklearn-color-background: var(--sg-background-color, var(--theme-background, var(--jp-layout-color0, white)));\n",
       "  --sklearn-color-border-box: var(--sg-text-color, var(--theme-code-foreground, var(--jp-content-font-color1, black)));\n",
       "  --sklearn-color-icon: #696969;\n",
       "\n",
       "  @media (prefers-color-scheme: dark) {\n",
       "    /* Redefinition of color scheme for dark theme */\n",
       "    --sklearn-color-text-on-default-background: var(--sg-text-color, var(--theme-code-foreground, var(--jp-content-font-color1, white)));\n",
       "    --sklearn-color-background: var(--sg-background-color, var(--theme-background, var(--jp-layout-color0, #111)));\n",
       "    --sklearn-color-border-box: var(--sg-text-color, var(--theme-code-foreground, var(--jp-content-font-color1, white)));\n",
       "    --sklearn-color-icon: #878787;\n",
       "  }\n",
       "}\n",
       "\n",
       "#sk-container-id-1 {\n",
       "  color: var(--sklearn-color-text);\n",
       "}\n",
       "\n",
       "#sk-container-id-1 pre {\n",
       "  padding: 0;\n",
       "}\n",
       "\n",
       "#sk-container-id-1 input.sk-hidden--visually {\n",
       "  border: 0;\n",
       "  clip: rect(1px 1px 1px 1px);\n",
       "  clip: rect(1px, 1px, 1px, 1px);\n",
       "  height: 1px;\n",
       "  margin: -1px;\n",
       "  overflow: hidden;\n",
       "  padding: 0;\n",
       "  position: absolute;\n",
       "  width: 1px;\n",
       "}\n",
       "\n",
       "#sk-container-id-1 div.sk-dashed-wrapped {\n",
       "  border: 1px dashed var(--sklearn-color-line);\n",
       "  margin: 0 0.4em 0.5em 0.4em;\n",
       "  box-sizing: border-box;\n",
       "  padding-bottom: 0.4em;\n",
       "  background-color: var(--sklearn-color-background);\n",
       "}\n",
       "\n",
       "#sk-container-id-1 div.sk-container {\n",
       "  /* jupyter's `normalize.less` sets `[hidden] { display: none; }`\n",
       "     but bootstrap.min.css set `[hidden] { display: none !important; }`\n",
       "     so we also need the `!important` here to be able to override the\n",
       "     default hidden behavior on the sphinx rendered scikit-learn.org.\n",
       "     See: https://github.com/scikit-learn/scikit-learn/issues/21755 */\n",
       "  display: inline-block !important;\n",
       "  position: relative;\n",
       "}\n",
       "\n",
       "#sk-container-id-1 div.sk-text-repr-fallback {\n",
       "  display: none;\n",
       "}\n",
       "\n",
       "div.sk-parallel-item,\n",
       "div.sk-serial,\n",
       "div.sk-item {\n",
       "  /* draw centered vertical line to link estimators */\n",
       "  background-image: linear-gradient(var(--sklearn-color-text-on-default-background), var(--sklearn-color-text-on-default-background));\n",
       "  background-size: 2px 100%;\n",
       "  background-repeat: no-repeat;\n",
       "  background-position: center center;\n",
       "}\n",
       "\n",
       "/* Parallel-specific style estimator block */\n",
       "\n",
       "#sk-container-id-1 div.sk-parallel-item::after {\n",
       "  content: \"\";\n",
       "  width: 100%;\n",
       "  border-bottom: 2px solid var(--sklearn-color-text-on-default-background);\n",
       "  flex-grow: 1;\n",
       "}\n",
       "\n",
       "#sk-container-id-1 div.sk-parallel {\n",
       "  display: flex;\n",
       "  align-items: stretch;\n",
       "  justify-content: center;\n",
       "  background-color: var(--sklearn-color-background);\n",
       "  position: relative;\n",
       "}\n",
       "\n",
       "#sk-container-id-1 div.sk-parallel-item {\n",
       "  display: flex;\n",
       "  flex-direction: column;\n",
       "}\n",
       "\n",
       "#sk-container-id-1 div.sk-parallel-item:first-child::after {\n",
       "  align-self: flex-end;\n",
       "  width: 50%;\n",
       "}\n",
       "\n",
       "#sk-container-id-1 div.sk-parallel-item:last-child::after {\n",
       "  align-self: flex-start;\n",
       "  width: 50%;\n",
       "}\n",
       "\n",
       "#sk-container-id-1 div.sk-parallel-item:only-child::after {\n",
       "  width: 0;\n",
       "}\n",
       "\n",
       "/* Serial-specific style estimator block */\n",
       "\n",
       "#sk-container-id-1 div.sk-serial {\n",
       "  display: flex;\n",
       "  flex-direction: column;\n",
       "  align-items: center;\n",
       "  background-color: var(--sklearn-color-background);\n",
       "  padding-right: 1em;\n",
       "  padding-left: 1em;\n",
       "}\n",
       "\n",
       "\n",
       "/* Toggleable style: style used for estimator/Pipeline/ColumnTransformer box that is\n",
       "clickable and can be expanded/collapsed.\n",
       "- Pipeline and ColumnTransformer use this feature and define the default style\n",
       "- Estimators will overwrite some part of the style using the `sk-estimator` class\n",
       "*/\n",
       "\n",
       "/* Pipeline and ColumnTransformer style (default) */\n",
       "\n",
       "#sk-container-id-1 div.sk-toggleable {\n",
       "  /* Default theme specific background. It is overwritten whether we have a\n",
       "  specific estimator or a Pipeline/ColumnTransformer */\n",
       "  background-color: var(--sklearn-color-background);\n",
       "}\n",
       "\n",
       "/* Toggleable label */\n",
       "#sk-container-id-1 label.sk-toggleable__label {\n",
       "  cursor: pointer;\n",
       "  display: flex;\n",
       "  width: 100%;\n",
       "  margin-bottom: 0;\n",
       "  padding: 0.5em;\n",
       "  box-sizing: border-box;\n",
       "  text-align: center;\n",
       "  align-items: start;\n",
       "  justify-content: space-between;\n",
       "  gap: 0.5em;\n",
       "}\n",
       "\n",
       "#sk-container-id-1 label.sk-toggleable__label .caption {\n",
       "  font-size: 0.6rem;\n",
       "  font-weight: lighter;\n",
       "  color: var(--sklearn-color-text-muted);\n",
       "}\n",
       "\n",
       "#sk-container-id-1 label.sk-toggleable__label-arrow:before {\n",
       "  /* Arrow on the left of the label */\n",
       "  content: \"▸\";\n",
       "  float: left;\n",
       "  margin-right: 0.25em;\n",
       "  color: var(--sklearn-color-icon);\n",
       "}\n",
       "\n",
       "#sk-container-id-1 label.sk-toggleable__label-arrow:hover:before {\n",
       "  color: var(--sklearn-color-text);\n",
       "}\n",
       "\n",
       "/* Toggleable content - dropdown */\n",
       "\n",
       "#sk-container-id-1 div.sk-toggleable__content {\n",
       "  display: none;\n",
       "  text-align: left;\n",
       "  /* unfitted */\n",
       "  background-color: var(--sklearn-color-unfitted-level-0);\n",
       "}\n",
       "\n",
       "#sk-container-id-1 div.sk-toggleable__content.fitted {\n",
       "  /* fitted */\n",
       "  background-color: var(--sklearn-color-fitted-level-0);\n",
       "}\n",
       "\n",
       "#sk-container-id-1 div.sk-toggleable__content pre {\n",
       "  margin: 0.2em;\n",
       "  border-radius: 0.25em;\n",
       "  color: var(--sklearn-color-text);\n",
       "  /* unfitted */\n",
       "  background-color: var(--sklearn-color-unfitted-level-0);\n",
       "}\n",
       "\n",
       "#sk-container-id-1 div.sk-toggleable__content.fitted pre {\n",
       "  /* unfitted */\n",
       "  background-color: var(--sklearn-color-fitted-level-0);\n",
       "}\n",
       "\n",
       "#sk-container-id-1 input.sk-toggleable__control:checked~div.sk-toggleable__content {\n",
       "  /* Expand drop-down */\n",
       "  display: block;\n",
       "  width: 100%;\n",
       "  overflow: visible;\n",
       "}\n",
       "\n",
       "#sk-container-id-1 input.sk-toggleable__control:checked~label.sk-toggleable__label-arrow:before {\n",
       "  content: \"▾\";\n",
       "}\n",
       "\n",
       "/* Pipeline/ColumnTransformer-specific style */\n",
       "\n",
       "#sk-container-id-1 div.sk-label input.sk-toggleable__control:checked~label.sk-toggleable__label {\n",
       "  color: var(--sklearn-color-text);\n",
       "  background-color: var(--sklearn-color-unfitted-level-2);\n",
       "}\n",
       "\n",
       "#sk-container-id-1 div.sk-label.fitted input.sk-toggleable__control:checked~label.sk-toggleable__label {\n",
       "  background-color: var(--sklearn-color-fitted-level-2);\n",
       "}\n",
       "\n",
       "/* Estimator-specific style */\n",
       "\n",
       "/* Colorize estimator box */\n",
       "#sk-container-id-1 div.sk-estimator input.sk-toggleable__control:checked~label.sk-toggleable__label {\n",
       "  /* unfitted */\n",
       "  background-color: var(--sklearn-color-unfitted-level-2);\n",
       "}\n",
       "\n",
       "#sk-container-id-1 div.sk-estimator.fitted input.sk-toggleable__control:checked~label.sk-toggleable__label {\n",
       "  /* fitted */\n",
       "  background-color: var(--sklearn-color-fitted-level-2);\n",
       "}\n",
       "\n",
       "#sk-container-id-1 div.sk-label label.sk-toggleable__label,\n",
       "#sk-container-id-1 div.sk-label label {\n",
       "  /* The background is the default theme color */\n",
       "  color: var(--sklearn-color-text-on-default-background);\n",
       "}\n",
       "\n",
       "/* On hover, darken the color of the background */\n",
       "#sk-container-id-1 div.sk-label:hover label.sk-toggleable__label {\n",
       "  color: var(--sklearn-color-text);\n",
       "  background-color: var(--sklearn-color-unfitted-level-2);\n",
       "}\n",
       "\n",
       "/* Label box, darken color on hover, fitted */\n",
       "#sk-container-id-1 div.sk-label.fitted:hover label.sk-toggleable__label.fitted {\n",
       "  color: var(--sklearn-color-text);\n",
       "  background-color: var(--sklearn-color-fitted-level-2);\n",
       "}\n",
       "\n",
       "/* Estimator label */\n",
       "\n",
       "#sk-container-id-1 div.sk-label label {\n",
       "  font-family: monospace;\n",
       "  font-weight: bold;\n",
       "  display: inline-block;\n",
       "  line-height: 1.2em;\n",
       "}\n",
       "\n",
       "#sk-container-id-1 div.sk-label-container {\n",
       "  text-align: center;\n",
       "}\n",
       "\n",
       "/* Estimator-specific */\n",
       "#sk-container-id-1 div.sk-estimator {\n",
       "  font-family: monospace;\n",
       "  border: 1px dotted var(--sklearn-color-border-box);\n",
       "  border-radius: 0.25em;\n",
       "  box-sizing: border-box;\n",
       "  margin-bottom: 0.5em;\n",
       "  /* unfitted */\n",
       "  background-color: var(--sklearn-color-unfitted-level-0);\n",
       "}\n",
       "\n",
       "#sk-container-id-1 div.sk-estimator.fitted {\n",
       "  /* fitted */\n",
       "  background-color: var(--sklearn-color-fitted-level-0);\n",
       "}\n",
       "\n",
       "/* on hover */\n",
       "#sk-container-id-1 div.sk-estimator:hover {\n",
       "  /* unfitted */\n",
       "  background-color: var(--sklearn-color-unfitted-level-2);\n",
       "}\n",
       "\n",
       "#sk-container-id-1 div.sk-estimator.fitted:hover {\n",
       "  /* fitted */\n",
       "  background-color: var(--sklearn-color-fitted-level-2);\n",
       "}\n",
       "\n",
       "/* Specification for estimator info (e.g. \"i\" and \"?\") */\n",
       "\n",
       "/* Common style for \"i\" and \"?\" */\n",
       "\n",
       ".sk-estimator-doc-link,\n",
       "a:link.sk-estimator-doc-link,\n",
       "a:visited.sk-estimator-doc-link {\n",
       "  float: right;\n",
       "  font-size: smaller;\n",
       "  line-height: 1em;\n",
       "  font-family: monospace;\n",
       "  background-color: var(--sklearn-color-background);\n",
       "  border-radius: 1em;\n",
       "  height: 1em;\n",
       "  width: 1em;\n",
       "  text-decoration: none !important;\n",
       "  margin-left: 0.5em;\n",
       "  text-align: center;\n",
       "  /* unfitted */\n",
       "  border: var(--sklearn-color-unfitted-level-1) 1pt solid;\n",
       "  color: var(--sklearn-color-unfitted-level-1);\n",
       "}\n",
       "\n",
       ".sk-estimator-doc-link.fitted,\n",
       "a:link.sk-estimator-doc-link.fitted,\n",
       "a:visited.sk-estimator-doc-link.fitted {\n",
       "  /* fitted */\n",
       "  border: var(--sklearn-color-fitted-level-1) 1pt solid;\n",
       "  color: var(--sklearn-color-fitted-level-1);\n",
       "}\n",
       "\n",
       "/* On hover */\n",
       "div.sk-estimator:hover .sk-estimator-doc-link:hover,\n",
       ".sk-estimator-doc-link:hover,\n",
       "div.sk-label-container:hover .sk-estimator-doc-link:hover,\n",
       ".sk-estimator-doc-link:hover {\n",
       "  /* unfitted */\n",
       "  background-color: var(--sklearn-color-unfitted-level-3);\n",
       "  color: var(--sklearn-color-background);\n",
       "  text-decoration: none;\n",
       "}\n",
       "\n",
       "div.sk-estimator.fitted:hover .sk-estimator-doc-link.fitted:hover,\n",
       ".sk-estimator-doc-link.fitted:hover,\n",
       "div.sk-label-container:hover .sk-estimator-doc-link.fitted:hover,\n",
       ".sk-estimator-doc-link.fitted:hover {\n",
       "  /* fitted */\n",
       "  background-color: var(--sklearn-color-fitted-level-3);\n",
       "  color: var(--sklearn-color-background);\n",
       "  text-decoration: none;\n",
       "}\n",
       "\n",
       "/* Span, style for the box shown on hovering the info icon */\n",
       ".sk-estimator-doc-link span {\n",
       "  display: none;\n",
       "  z-index: 9999;\n",
       "  position: relative;\n",
       "  font-weight: normal;\n",
       "  right: .2ex;\n",
       "  padding: .5ex;\n",
       "  margin: .5ex;\n",
       "  width: min-content;\n",
       "  min-width: 20ex;\n",
       "  max-width: 50ex;\n",
       "  color: var(--sklearn-color-text);\n",
       "  box-shadow: 2pt 2pt 4pt #999;\n",
       "  /* unfitted */\n",
       "  background: var(--sklearn-color-unfitted-level-0);\n",
       "  border: .5pt solid var(--sklearn-color-unfitted-level-3);\n",
       "}\n",
       "\n",
       ".sk-estimator-doc-link.fitted span {\n",
       "  /* fitted */\n",
       "  background: var(--sklearn-color-fitted-level-0);\n",
       "  border: var(--sklearn-color-fitted-level-3);\n",
       "}\n",
       "\n",
       ".sk-estimator-doc-link:hover span {\n",
       "  display: block;\n",
       "}\n",
       "\n",
       "/* \"?\"-specific style due to the `<a>` HTML tag */\n",
       "\n",
       "#sk-container-id-1 a.estimator_doc_link {\n",
       "  float: right;\n",
       "  font-size: 1rem;\n",
       "  line-height: 1em;\n",
       "  font-family: monospace;\n",
       "  background-color: var(--sklearn-color-background);\n",
       "  border-radius: 1rem;\n",
       "  height: 1rem;\n",
       "  width: 1rem;\n",
       "  text-decoration: none;\n",
       "  /* unfitted */\n",
       "  color: var(--sklearn-color-unfitted-level-1);\n",
       "  border: var(--sklearn-color-unfitted-level-1) 1pt solid;\n",
       "}\n",
       "\n",
       "#sk-container-id-1 a.estimator_doc_link.fitted {\n",
       "  /* fitted */\n",
       "  border: var(--sklearn-color-fitted-level-1) 1pt solid;\n",
       "  color: var(--sklearn-color-fitted-level-1);\n",
       "}\n",
       "\n",
       "/* On hover */\n",
       "#sk-container-id-1 a.estimator_doc_link:hover {\n",
       "  /* unfitted */\n",
       "  background-color: var(--sklearn-color-unfitted-level-3);\n",
       "  color: var(--sklearn-color-background);\n",
       "  text-decoration: none;\n",
       "}\n",
       "\n",
       "#sk-container-id-1 a.estimator_doc_link.fitted:hover {\n",
       "  /* fitted */\n",
       "  background-color: var(--sklearn-color-fitted-level-3);\n",
       "}\n",
       "\n",
       ".estimator-table summary {\n",
       "    padding: .5rem;\n",
       "    font-family: monospace;\n",
       "    cursor: pointer;\n",
       "}\n",
       "\n",
       ".estimator-table details[open] {\n",
       "    padding-left: 0.1rem;\n",
       "    padding-right: 0.1rem;\n",
       "    padding-bottom: 0.3rem;\n",
       "}\n",
       "\n",
       ".estimator-table .parameters-table {\n",
       "    margin-left: auto !important;\n",
       "    margin-right: auto !important;\n",
       "}\n",
       "\n",
       ".estimator-table .parameters-table tr:nth-child(odd) {\n",
       "    background-color: #fff;\n",
       "}\n",
       "\n",
       ".estimator-table .parameters-table tr:nth-child(even) {\n",
       "    background-color: #f6f6f6;\n",
       "}\n",
       "\n",
       ".estimator-table .parameters-table tr:hover {\n",
       "    background-color: #e0e0e0;\n",
       "}\n",
       "\n",
       ".estimator-table table td {\n",
       "    border: 1px solid rgba(106, 105, 104, 0.232);\n",
       "}\n",
       "\n",
       ".user-set td {\n",
       "    color:rgb(255, 94, 0);\n",
       "    text-align: left;\n",
       "}\n",
       "\n",
       ".user-set td.value pre {\n",
       "    color:rgb(255, 94, 0) !important;\n",
       "    background-color: transparent !important;\n",
       "}\n",
       "\n",
       ".default td {\n",
       "    color: black;\n",
       "    text-align: left;\n",
       "}\n",
       "\n",
       ".user-set td i,\n",
       ".default td i {\n",
       "    color: black;\n",
       "}\n",
       "\n",
       ".copy-paste-icon {\n",
       "    background-image: url(data:image/svg+xml;base64,PHN2ZyB4bWxucz0iaHR0cDovL3d3dy53My5vcmcvMjAwMC9zdmciIHZpZXdCb3g9IjAgMCA0NDggNTEyIj48IS0tIUZvbnQgQXdlc29tZSBGcmVlIDYuNy4yIGJ5IEBmb250YXdlc29tZSAtIGh0dHBzOi8vZm9udGF3ZXNvbWUuY29tIExpY2Vuc2UgLSBodHRwczovL2ZvbnRhd2Vzb21lLmNvbS9saWNlbnNlL2ZyZWUgQ29weXJpZ2h0IDIwMjUgRm9udGljb25zLCBJbmMuLS0+PHBhdGggZD0iTTIwOCAwTDMzMi4xIDBjMTIuNyAwIDI0LjkgNS4xIDMzLjkgMTQuMWw2Ny45IDY3LjljOSA5IDE0LjEgMjEuMiAxNC4xIDMzLjlMNDQ4IDMzNmMwIDI2LjUtMjEuNSA0OC00OCA0OGwtMTkyIDBjLTI2LjUgMC00OC0yMS41LTQ4LTQ4bDAtMjg4YzAtMjYuNSAyMS41LTQ4IDQ4LTQ4ek00OCAxMjhsODAgMCAwIDY0LTY0IDAgMCAyNTYgMTkyIDAgMC0zMiA2NCAwIDAgNDhjMCAyNi41LTIxLjUgNDgtNDggNDhMNDggNTEyYy0yNi41IDAtNDgtMjEuNS00OC00OEwwIDE3NmMwLTI2LjUgMjEuNS00OCA0OC00OHoiLz48L3N2Zz4=);\n",
       "    background-repeat: no-repeat;\n",
       "    background-size: 14px 14px;\n",
       "    background-position: 0;\n",
       "    display: inline-block;\n",
       "    width: 14px;\n",
       "    height: 14px;\n",
       "    cursor: pointer;\n",
       "}\n",
       "</style><body><div id=\"sk-container-id-1\" class=\"sk-top-container\"><div class=\"sk-text-repr-fallback\"><pre>Ridge(random_state=42)</pre><b>In a Jupyter environment, please rerun this cell to show the HTML representation or trust the notebook. <br />On GitHub, the HTML representation is unable to render, please try loading this page with nbviewer.org.</b></div><div class=\"sk-container\" hidden><div class=\"sk-item\"><div class=\"sk-estimator fitted sk-toggleable\"><input class=\"sk-toggleable__control sk-hidden--visually\" id=\"sk-estimator-id-1\" type=\"checkbox\" checked><label for=\"sk-estimator-id-1\" class=\"sk-toggleable__label fitted sk-toggleable__label-arrow\"><div><div>Ridge</div></div><div><a class=\"sk-estimator-doc-link fitted\" rel=\"noreferrer\" target=\"_blank\" href=\"https://scikit-learn.org/1.7/modules/generated/sklearn.linear_model.Ridge.html\">?<span>Documentation for Ridge</span></a><span class=\"sk-estimator-doc-link fitted\">i<span>Fitted</span></span></div></label><div class=\"sk-toggleable__content fitted\" data-param-prefix=\"\">\n",
       "        <div class=\"estimator-table\">\n",
       "            <details>\n",
       "                <summary>Parameters</summary>\n",
       "                <table class=\"parameters-table\">\n",
       "                  <tbody>\n",
       "                    \n",
       "        <tr class=\"default\">\n",
       "            <td><i class=\"copy-paste-icon\"\n",
       "                 onclick=\"copyToClipboard('alpha',\n",
       "                          this.parentElement.nextElementSibling)\"\n",
       "            ></i></td>\n",
       "            <td class=\"param\">alpha&nbsp;</td>\n",
       "            <td class=\"value\">1.0</td>\n",
       "        </tr>\n",
       "    \n",
       "\n",
       "        <tr class=\"default\">\n",
       "            <td><i class=\"copy-paste-icon\"\n",
       "                 onclick=\"copyToClipboard('fit_intercept',\n",
       "                          this.parentElement.nextElementSibling)\"\n",
       "            ></i></td>\n",
       "            <td class=\"param\">fit_intercept&nbsp;</td>\n",
       "            <td class=\"value\">True</td>\n",
       "        </tr>\n",
       "    \n",
       "\n",
       "        <tr class=\"default\">\n",
       "            <td><i class=\"copy-paste-icon\"\n",
       "                 onclick=\"copyToClipboard('copy_X',\n",
       "                          this.parentElement.nextElementSibling)\"\n",
       "            ></i></td>\n",
       "            <td class=\"param\">copy_X&nbsp;</td>\n",
       "            <td class=\"value\">True</td>\n",
       "        </tr>\n",
       "    \n",
       "\n",
       "        <tr class=\"default\">\n",
       "            <td><i class=\"copy-paste-icon\"\n",
       "                 onclick=\"copyToClipboard('max_iter',\n",
       "                          this.parentElement.nextElementSibling)\"\n",
       "            ></i></td>\n",
       "            <td class=\"param\">max_iter&nbsp;</td>\n",
       "            <td class=\"value\">None</td>\n",
       "        </tr>\n",
       "    \n",
       "\n",
       "        <tr class=\"default\">\n",
       "            <td><i class=\"copy-paste-icon\"\n",
       "                 onclick=\"copyToClipboard('tol',\n",
       "                          this.parentElement.nextElementSibling)\"\n",
       "            ></i></td>\n",
       "            <td class=\"param\">tol&nbsp;</td>\n",
       "            <td class=\"value\">0.0001</td>\n",
       "        </tr>\n",
       "    \n",
       "\n",
       "        <tr class=\"default\">\n",
       "            <td><i class=\"copy-paste-icon\"\n",
       "                 onclick=\"copyToClipboard('solver',\n",
       "                          this.parentElement.nextElementSibling)\"\n",
       "            ></i></td>\n",
       "            <td class=\"param\">solver&nbsp;</td>\n",
       "            <td class=\"value\">&#x27;auto&#x27;</td>\n",
       "        </tr>\n",
       "    \n",
       "\n",
       "        <tr class=\"default\">\n",
       "            <td><i class=\"copy-paste-icon\"\n",
       "                 onclick=\"copyToClipboard('positive',\n",
       "                          this.parentElement.nextElementSibling)\"\n",
       "            ></i></td>\n",
       "            <td class=\"param\">positive&nbsp;</td>\n",
       "            <td class=\"value\">False</td>\n",
       "        </tr>\n",
       "    \n",
       "\n",
       "        <tr class=\"user-set\">\n",
       "            <td><i class=\"copy-paste-icon\"\n",
       "                 onclick=\"copyToClipboard('random_state',\n",
       "                          this.parentElement.nextElementSibling)\"\n",
       "            ></i></td>\n",
       "            <td class=\"param\">random_state&nbsp;</td>\n",
       "            <td class=\"value\">42</td>\n",
       "        </tr>\n",
       "    \n",
       "                  </tbody>\n",
       "                </table>\n",
       "            </details>\n",
       "        </div>\n",
       "    </div></div></div></div></div><script>function copyToClipboard(text, element) {\n",
       "    // Get the parameter prefix from the closest toggleable content\n",
       "    const toggleableContent = element.closest('.sk-toggleable__content');\n",
       "    const paramPrefix = toggleableContent ? toggleableContent.dataset.paramPrefix : '';\n",
       "    const fullParamName = paramPrefix ? `${paramPrefix}${text}` : text;\n",
       "\n",
       "    const originalStyle = element.style;\n",
       "    const computedStyle = window.getComputedStyle(element);\n",
       "    const originalWidth = computedStyle.width;\n",
       "    const originalHTML = element.innerHTML.replace('Copied!', '');\n",
       "\n",
       "    navigator.clipboard.writeText(fullParamName)\n",
       "        .then(() => {\n",
       "            element.style.width = originalWidth;\n",
       "            element.style.color = 'green';\n",
       "            element.innerHTML = \"Copied!\";\n",
       "\n",
       "            setTimeout(() => {\n",
       "                element.innerHTML = originalHTML;\n",
       "                element.style = originalStyle;\n",
       "            }, 2000);\n",
       "        })\n",
       "        .catch(err => {\n",
       "            console.error('Failed to copy:', err);\n",
       "            element.style.color = 'red';\n",
       "            element.innerHTML = \"Failed!\";\n",
       "            setTimeout(() => {\n",
       "                element.innerHTML = originalHTML;\n",
       "                element.style = originalStyle;\n",
       "            }, 2000);\n",
       "        });\n",
       "    return false;\n",
       "}\n",
       "\n",
       "document.querySelectorAll('.fa-regular.fa-copy').forEach(function(element) {\n",
       "    const toggleableContent = element.closest('.sk-toggleable__content');\n",
       "    const paramPrefix = toggleableContent ? toggleableContent.dataset.paramPrefix : '';\n",
       "    const paramName = element.parentElement.nextElementSibling.textContent.trim();\n",
       "    const fullParamName = paramPrefix ? `${paramPrefix}${paramName}` : paramName;\n",
       "\n",
       "    element.setAttribute('title', fullParamName);\n",
       "});\n",
       "</script></body>"
      ],
      "text/plain": [
       "Ridge(random_state=42)"
      ]
     },
     "execution_count": 26,
     "metadata": {},
     "output_type": "execute_result"
    }
   ],
   "source": [
    "from sklearn.linear_model import Ridge\n",
    "\n",
    "ridge_basic = Ridge(alpha=1.0, random_state=42)\n",
    "ridge_basic.fit(X_train_scaled, y_train)"
   ]
  },
  {
   "cell_type": "markdown",
   "metadata": {},
   "source": [
    "### 4. Vorhersagen machen"
   ]
  },
  {
   "cell_type": "code",
   "execution_count": 27,
   "metadata": {},
   "outputs": [
    {
     "data": {
      "application/vnd.microsoft.datawrangler.viewer.v0+json": {
       "columns": [
        {
         "name": "index",
         "rawType": "int64",
         "type": "integer"
        },
        {
         "name": "Tatsächlicher Preis",
         "rawType": "float64",
         "type": "float"
        },
        {
         "name": "Vorhergesagter Preis",
         "rawType": "float64",
         "type": "float"
        },
        {
         "name": "Abweichung (Residuum)",
         "rawType": "float64",
         "type": "float"
        },
        {
         "name": "Abweichung (%)",
         "rawType": "float64",
         "type": "float"
        },
        {
         "name": "Absoluter Fehler",
         "rawType": "float64",
         "type": "float"
        },
        {
         "name": "Absoluter Fehler (%)",
         "rawType": "float64",
         "type": "float"
        },
        {
         "name": "Quadratischer Fehler",
         "rawType": "float64",
         "type": "float"
        },
        {
         "name": "Wurzel-Fehler",
         "rawType": "float64",
         "type": "float"
        }
       ],
       "ref": "18fd8049-6d11-41bc-b29f-fa55815bdb5e",
       "rows": [
        [
         "0",
         "10547.0",
         "18525.01359723523",
         "-7978.013597235229",
         "-75.64249167758823",
         "7978.013597235229",
         "75.64249167758823",
         "63648700.9576702",
         "7978.013597235229"
        ],
        [
         "1",
         "17940.0",
         "22183.75424092308",
         "-4243.754240923081",
         "-23.655263327330438",
         "4243.754240923081",
         "23.655263327330438",
         "18009450.057352636",
         "4243.754240923081"
        ],
        [
         "2",
         "12950.0",
         "11059.037590456519",
         "1890.962409543481",
         "14.60202632852109",
         "1890.962409543481",
         "14.60202632852109",
         "3575738.834306488",
         "1890.962409543481"
        ],
        [
         "3",
         "5905.0",
         "6992.444071904056",
         "-1087.4440719040558",
         "-18.415648973819742",
         "1087.4440719040558",
         "18.415648973819742",
         "1182534.6095192733",
         "1087.4440719040558"
        ],
        [
         "4",
         "9826.0",
         "8779.30643771532",
         "1046.6935622846795",
         "10.652285388608584",
         "1046.6935622846795",
         "10.652285388608584",
         "1095567.4133281922",
         "1046.6935622846795"
        ],
        [
         "5",
         "11162.0",
         "10942.217884777474",
         "219.78211522252604",
         "1.969020921183713",
         "219.78211522252604",
         "1.969020921183713",
         "48304.178171687716",
         "219.78211522252604"
        ],
        [
         "6",
         "13650.0",
         "15281.658783174093",
         "-1631.6587831740926",
         "-11.953544199077601",
         "1631.6587831740926",
         "11.953544199077601",
         "2662310.384709161",
         "1631.6587831740926"
        ],
        [
         "7",
         "14345.0",
         "13940.11082650531",
         "404.8891734946901",
         "2.8225107946649715",
         "404.8891734946901",
         "2.8225107946649715",
         "163935.24281321326",
         "404.8891734946901"
        ],
        [
         "8",
         "12024.0",
         "20281.993012763633",
         "-8257.993012763633",
         "-68.6792499398173",
         "8257.993012763633",
         "68.6792499398173",
         "68194448.59885298",
         "8257.993012763633"
        ],
        [
         "9",
         "10076.0",
         "14371.13912499908",
         "-4295.139124999079",
         "-42.627422836433894",
         "4295.139124999079",
         "42.627422836433894",
         "18448220.103097856",
         "4295.139124999079"
        ]
       ],
       "shape": {
        "columns": 8,
        "rows": 10
       }
      },
      "text/html": [
       "<div>\n",
       "<style scoped>\n",
       "    .dataframe tbody tr th:only-of-type {\n",
       "        vertical-align: middle;\n",
       "    }\n",
       "\n",
       "    .dataframe tbody tr th {\n",
       "        vertical-align: top;\n",
       "    }\n",
       "\n",
       "    .dataframe thead th {\n",
       "        text-align: right;\n",
       "    }\n",
       "</style>\n",
       "<table border=\"1\" class=\"dataframe\">\n",
       "  <thead>\n",
       "    <tr style=\"text-align: right;\">\n",
       "      <th></th>\n",
       "      <th>Tatsächlicher Preis</th>\n",
       "      <th>Vorhergesagter Preis</th>\n",
       "      <th>Abweichung (Residuum)</th>\n",
       "      <th>Abweichung (%)</th>\n",
       "      <th>Absoluter Fehler</th>\n",
       "      <th>Absoluter Fehler (%)</th>\n",
       "      <th>Quadratischer Fehler</th>\n",
       "      <th>Wurzel-Fehler</th>\n",
       "    </tr>\n",
       "  </thead>\n",
       "  <tbody>\n",
       "    <tr>\n",
       "      <th>0</th>\n",
       "      <td>10547.0</td>\n",
       "      <td>18525.013597</td>\n",
       "      <td>-7978.013597</td>\n",
       "      <td>-75.642492</td>\n",
       "      <td>7978.013597</td>\n",
       "      <td>75.642492</td>\n",
       "      <td>6.364870e+07</td>\n",
       "      <td>7978.013597</td>\n",
       "    </tr>\n",
       "    <tr>\n",
       "      <th>1</th>\n",
       "      <td>17940.0</td>\n",
       "      <td>22183.754241</td>\n",
       "      <td>-4243.754241</td>\n",
       "      <td>-23.655263</td>\n",
       "      <td>4243.754241</td>\n",
       "      <td>23.655263</td>\n",
       "      <td>1.800945e+07</td>\n",
       "      <td>4243.754241</td>\n",
       "    </tr>\n",
       "    <tr>\n",
       "      <th>2</th>\n",
       "      <td>12950.0</td>\n",
       "      <td>11059.037590</td>\n",
       "      <td>1890.962410</td>\n",
       "      <td>14.602026</td>\n",
       "      <td>1890.962410</td>\n",
       "      <td>14.602026</td>\n",
       "      <td>3.575739e+06</td>\n",
       "      <td>1890.962410</td>\n",
       "    </tr>\n",
       "    <tr>\n",
       "      <th>3</th>\n",
       "      <td>5905.0</td>\n",
       "      <td>6992.444072</td>\n",
       "      <td>-1087.444072</td>\n",
       "      <td>-18.415649</td>\n",
       "      <td>1087.444072</td>\n",
       "      <td>18.415649</td>\n",
       "      <td>1.182535e+06</td>\n",
       "      <td>1087.444072</td>\n",
       "    </tr>\n",
       "    <tr>\n",
       "      <th>4</th>\n",
       "      <td>9826.0</td>\n",
       "      <td>8779.306438</td>\n",
       "      <td>1046.693562</td>\n",
       "      <td>10.652285</td>\n",
       "      <td>1046.693562</td>\n",
       "      <td>10.652285</td>\n",
       "      <td>1.095567e+06</td>\n",
       "      <td>1046.693562</td>\n",
       "    </tr>\n",
       "    <tr>\n",
       "      <th>5</th>\n",
       "      <td>11162.0</td>\n",
       "      <td>10942.217885</td>\n",
       "      <td>219.782115</td>\n",
       "      <td>1.969021</td>\n",
       "      <td>219.782115</td>\n",
       "      <td>1.969021</td>\n",
       "      <td>4.830418e+04</td>\n",
       "      <td>219.782115</td>\n",
       "    </tr>\n",
       "    <tr>\n",
       "      <th>6</th>\n",
       "      <td>13650.0</td>\n",
       "      <td>15281.658783</td>\n",
       "      <td>-1631.658783</td>\n",
       "      <td>-11.953544</td>\n",
       "      <td>1631.658783</td>\n",
       "      <td>11.953544</td>\n",
       "      <td>2.662310e+06</td>\n",
       "      <td>1631.658783</td>\n",
       "    </tr>\n",
       "    <tr>\n",
       "      <th>7</th>\n",
       "      <td>14345.0</td>\n",
       "      <td>13940.110827</td>\n",
       "      <td>404.889173</td>\n",
       "      <td>2.822511</td>\n",
       "      <td>404.889173</td>\n",
       "      <td>2.822511</td>\n",
       "      <td>1.639352e+05</td>\n",
       "      <td>404.889173</td>\n",
       "    </tr>\n",
       "    <tr>\n",
       "      <th>8</th>\n",
       "      <td>12024.0</td>\n",
       "      <td>20281.993013</td>\n",
       "      <td>-8257.993013</td>\n",
       "      <td>-68.679250</td>\n",
       "      <td>8257.993013</td>\n",
       "      <td>68.679250</td>\n",
       "      <td>6.819445e+07</td>\n",
       "      <td>8257.993013</td>\n",
       "    </tr>\n",
       "    <tr>\n",
       "      <th>9</th>\n",
       "      <td>10076.0</td>\n",
       "      <td>14371.139125</td>\n",
       "      <td>-4295.139125</td>\n",
       "      <td>-42.627423</td>\n",
       "      <td>4295.139125</td>\n",
       "      <td>42.627423</td>\n",
       "      <td>1.844822e+07</td>\n",
       "      <td>4295.139125</td>\n",
       "    </tr>\n",
       "  </tbody>\n",
       "</table>\n",
       "</div>"
      ],
      "text/plain": [
       "   Tatsächlicher Preis  Vorhergesagter Preis  Abweichung (Residuum)  \\\n",
       "0              10547.0          18525.013597           -7978.013597   \n",
       "1              17940.0          22183.754241           -4243.754241   \n",
       "2              12950.0          11059.037590            1890.962410   \n",
       "3               5905.0           6992.444072           -1087.444072   \n",
       "4               9826.0           8779.306438            1046.693562   \n",
       "5              11162.0          10942.217885             219.782115   \n",
       "6              13650.0          15281.658783           -1631.658783   \n",
       "7              14345.0          13940.110827             404.889173   \n",
       "8              12024.0          20281.993013           -8257.993013   \n",
       "9              10076.0          14371.139125           -4295.139125   \n",
       "\n",
       "   Abweichung (%)  Absoluter Fehler  Absoluter Fehler (%)  \\\n",
       "0      -75.642492       7978.013597             75.642492   \n",
       "1      -23.655263       4243.754241             23.655263   \n",
       "2       14.602026       1890.962410             14.602026   \n",
       "3      -18.415649       1087.444072             18.415649   \n",
       "4       10.652285       1046.693562             10.652285   \n",
       "5        1.969021        219.782115              1.969021   \n",
       "6      -11.953544       1631.658783             11.953544   \n",
       "7        2.822511        404.889173              2.822511   \n",
       "8      -68.679250       8257.993013             68.679250   \n",
       "9      -42.627423       4295.139125             42.627423   \n",
       "\n",
       "   Quadratischer Fehler  Wurzel-Fehler  \n",
       "0          6.364870e+07    7978.013597  \n",
       "1          1.800945e+07    4243.754241  \n",
       "2          3.575739e+06    1890.962410  \n",
       "3          1.182535e+06    1087.444072  \n",
       "4          1.095567e+06    1046.693562  \n",
       "5          4.830418e+04     219.782115  \n",
       "6          2.662310e+06    1631.658783  \n",
       "7          1.639352e+05     404.889173  \n",
       "8          6.819445e+07    8257.993013  \n",
       "9          1.844822e+07    4295.139125  "
      ]
     },
     "execution_count": 27,
     "metadata": {},
     "output_type": "execute_result"
    }
   ],
   "source": [
    "import numpy as np\n",
    "\n",
    "y_pred_basic = ridge_basic.predict(X_test_scaled)\n",
    "\n",
    "# Kurzer Überblick einiger Kennzahlen:\n",
    "pd.DataFrame({\n",
    "    \"Tatsächlicher Preis\": y_test.values[:10],\n",
    "    \"Vorhergesagter Preis\": y_pred_basic[:10],\n",
    "    \"Abweichung (Residuum)\": y_test.values[:10] - y_pred_basic[:10],\n",
    "    \"Abweichung (%)\": ((y_test.values[:10] - y_pred_basic[:10]) / y_test.values[:10]) * 100,\n",
    "    \"Absoluter Fehler\": abs(y_test.values[:10] - y_pred_basic[:10]),\n",
    "    \"Absoluter Fehler (%)\": (abs(y_test.values[:10] - y_pred_basic[:10]) / y_test.values[:10]) * 100,\n",
    "    \"Quadratischer Fehler\": (y_test.values[:10] - y_pred_basic[:10]) ** 2,\n",
    "    \"Wurzel-Fehler\": np.sqrt((y_test.values[:10] - y_pred_basic[:10]) ** 2)\n",
    "})"
   ]
  },
  {
   "cell_type": "markdown",
   "metadata": {},
   "source": [
    "### 5. Modell evaluieren\n",
    "Die gängigen und aussagekräftigen Kennzahlen für ein Regressionsmodell sind:\n",
    "\n",
    "MAE (Mean Absolute Error): Durchschnittlicher absoluter Fehler\n",
    "RMSE (Root Mean Squared Error): Mittlerer quadratischer Fehler, große Ausreißer stärker gewichtet\n",
    "R² (Bestimmtheitsmaß): Erklärt den Anteil der Varianz, den das Modell erfasst"
   ]
  },
  {
   "cell_type": "code",
   "execution_count": 28,
   "metadata": {},
   "outputs": [
    {
     "name": "stdout",
     "output_type": "stream",
     "text": [
      "Mean Absolute Error (MAE): 5,722.18 €\n",
      "Root Mean Squared Error (RMSE): 7,072.77 €\n",
      "Bestimmtheitsmaß (R²): 0.253\n"
     ]
    }
   ],
   "source": [
    "from sklearn.metrics import mean_absolute_error, root_mean_squared_error, r2_score\n",
    "\n",
    "mae = mean_absolute_error(y_test, y_pred_basic)\n",
    "rmse = root_mean_squared_error(y_test, y_pred_basic)\n",
    "r2 = r2_score(y_test, y_pred_basic)\n",
    "\n",
    "print(f\"Mean Absolute Error (MAE): {mae:,.2f} €\")\n",
    "print(f\"Root Mean Squared Error (RMSE): {rmse:,.2f} €\")\n",
    "print(f\"Bestimmtheitsmaß (R²): {r2:.3f}\")"
   ]
  },
  {
   "cell_type": "code",
   "execution_count": 29,
   "metadata": {},
   "outputs": [
    {
     "data": {
      "application/vnd.plotly.v1+json": {
       "config": {
        "plotlyServerURL": "https://plot.ly"
       },
       "data": [
        {
         "hovertemplate": "Tatsächlich: %{x:.0f} €<br>Vorhersage: %{y:.0f} €<br>Residuum: %{marker.color:.0f} €<extra></extra>",
         "marker": {
          "cmax": 13278.865455794103,
          "cmin": -13278.865455794103,
          "color": {
           "bdata": "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",
           "dtype": "f8"
          },
          "colorbar": {
           "title": {
            "text": "Residuum: <br>(Tatsächlich - Vorhersage)"
           }
          },
          "colorscale": [
           [
            0,
            "rgb(103,0,31)"
           ],
           [
            0.1,
            "rgb(178,24,43)"
           ],
           [
            0.2,
            "rgb(214,96,77)"
           ],
           [
            0.3,
            "rgb(244,165,130)"
           ],
           [
            0.4,
            "rgb(253,219,199)"
           ],
           [
            0.5,
            "rgb(247,247,247)"
           ],
           [
            0.6,
            "rgb(209,229,240)"
           ],
           [
            0.7,
            "rgb(146,197,222)"
           ],
           [
            0.8,
            "rgb(67,147,195)"
           ],
           [
            0.9,
            "rgb(33,102,172)"
           ],
           [
            1,
            "rgb(5,48,97)"
           ]
          ],
          "opacity": 0.75,
          "size": 8
         },
         "mode": "markers",
         "name": "Vorhersagen",
         "type": "scatter",
         "x": {
          "bdata": "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",
          "dtype": "f8"
         },
         "xaxis": "x",
         "y": {
          "bdata": "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",
          "dtype": "f8"
         },
         "yaxis": "y"
        },
        {
         "line": {
          "color": "red",
          "dash": "dash"
         },
         "mode": "lines",
         "name": "Ideal",
         "type": "scatter",
         "x": [
          3300,
          48419
         ],
         "xaxis": "x",
         "y": [
          3300,
          48419
         ],
         "yaxis": "y"
        },
        {
         "marker": {
          "opacity": 0.6,
          "size": 6
         },
         "mode": "markers",
         "name": "Residuen",
         "type": "scatter",
         "x": {
          "bdata": "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",
          "dtype": "f8"
         },
         "xaxis": "x2",
         "y": {
          "bdata": "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",
          "dtype": "f8"
         },
         "yaxis": "y2"
        },
        {
         "name": "Residuen",
         "nbinsx": 30,
         "type": "histogram",
         "x": {
          "bdata": "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",
          "dtype": "f8"
         },
         "xaxis": "x3",
         "yaxis": "y3"
        },
        {
         "name": "Fehler",
         "text": [
          "5,722",
          "7,073"
         ],
         "textposition": "auto",
         "type": "bar",
         "x": [
          "MAE",
          "RMSE"
         ],
         "xaxis": "x4",
         "y": [
          5722.176414389837,
          7072.7706379583815
         ],
         "yaxis": "y4"
        }
       ],
       "layout": {
        "annotations": [
         {
          "font": {
           "size": 16
          },
          "showarrow": false,
          "text": "Tatsächlich vs. Vorhersage",
          "x": 0.225,
          "xanchor": "center",
          "xref": "paper",
          "y": 1,
          "yanchor": "bottom",
          "yref": "paper"
         },
         {
          "font": {
           "size": 16
          },
          "showarrow": false,
          "text": "Residuen vs. Vorhersage",
          "x": 0.775,
          "xanchor": "center",
          "xref": "paper",
          "y": 1,
          "yanchor": "bottom",
          "yref": "paper"
         },
         {
          "font": {
           "size": 16
          },
          "showarrow": false,
          "text": "Histogramm der Residuen",
          "x": 0.225,
          "xanchor": "center",
          "xref": "paper",
          "y": 0.375,
          "yanchor": "bottom",
          "yref": "paper"
         },
         {
          "font": {
           "size": 16
          },
          "showarrow": false,
          "text": "Modellmetriken",
          "x": 0.775,
          "xanchor": "center",
          "xref": "paper",
          "y": 0.375,
          "yanchor": "bottom",
          "yref": "paper"
         },
         {
          "bgcolor": "lightgray",
          "font": {
           "color": "black",
           "size": 14
          },
          "showarrow": false,
          "text": "R² = 0.253",
          "x": 0,
          "xref": "x4 domain",
          "y": 1,
          "yref": "y4 domain"
         }
        ],
        "bargap": 0.05,
        "height": 800,
        "shapes": [
         {
          "line": {
           "dash": "dash"
          },
          "type": "line",
          "x0": 0,
          "x1": 1,
          "xref": "x2 domain",
          "y0": 0,
          "y1": 0,
          "yref": "y2"
         },
         {
          "fillcolor": "lightgreen",
          "opacity": 0.2,
          "type": "rect",
          "x0": 0,
          "x1": 1,
          "xref": "x2 domain",
          "y0": -7031.012717641914,
          "y1": 7031.012717641914,
          "yref": "y2"
         },
         {
          "line": {
           "dash": "dash"
          },
          "type": "line",
          "x0": 0,
          "x1": 0,
          "xref": "x3",
          "y0": 0,
          "y1": 1,
          "yref": "y3 domain"
         }
        ],
        "showlegend": false,
        "template": {
         "data": {
          "bar": [
           {
            "error_x": {
             "color": "#2a3f5f"
            },
            "error_y": {
             "color": "#2a3f5f"
            },
            "marker": {
             "line": {
              "color": "#E5ECF6",
              "width": 0.5
             },
             "pattern": {
              "fillmode": "overlay",
              "size": 10,
              "solidity": 0.2
             }
            },
            "type": "bar"
           }
          ],
          "barpolar": [
           {
            "marker": {
             "line": {
              "color": "#E5ECF6",
              "width": 0.5
             },
             "pattern": {
              "fillmode": "overlay",
              "size": 10,
              "solidity": 0.2
             }
            },
            "type": "barpolar"
           }
          ],
          "carpet": [
           {
            "aaxis": {
             "endlinecolor": "#2a3f5f",
             "gridcolor": "white",
             "linecolor": "white",
             "minorgridcolor": "white",
             "startlinecolor": "#2a3f5f"
            },
            "baxis": {
             "endlinecolor": "#2a3f5f",
             "gridcolor": "white",
             "linecolor": "white",
             "minorgridcolor": "white",
             "startlinecolor": "#2a3f5f"
            },
            "type": "carpet"
           }
          ],
          "choropleth": [
           {
            "colorbar": {
             "outlinewidth": 0,
             "ticks": ""
            },
            "type": "choropleth"
           }
          ],
          "contour": [
           {
            "colorbar": {
             "outlinewidth": 0,
             "ticks": ""
            },
            "colorscale": [
             [
              0,
              "#0d0887"
             ],
             [
              0.1111111111111111,
              "#46039f"
             ],
             [
              0.2222222222222222,
              "#7201a8"
             ],
             [
              0.3333333333333333,
              "#9c179e"
             ],
             [
              0.4444444444444444,
              "#bd3786"
             ],
             [
              0.5555555555555556,
              "#d8576b"
             ],
             [
              0.6666666666666666,
              "#ed7953"
             ],
             [
              0.7777777777777778,
              "#fb9f3a"
             ],
             [
              0.8888888888888888,
              "#fdca26"
             ],
             [
              1,
              "#f0f921"
             ]
            ],
            "type": "contour"
           }
          ],
          "contourcarpet": [
           {
            "colorbar": {
             "outlinewidth": 0,
             "ticks": ""
            },
            "type": "contourcarpet"
           }
          ],
          "heatmap": [
           {
            "colorbar": {
             "outlinewidth": 0,
             "ticks": ""
            },
            "colorscale": [
             [
              0,
              "#0d0887"
             ],
             [
              0.1111111111111111,
              "#46039f"
             ],
             [
              0.2222222222222222,
              "#7201a8"
             ],
             [
              0.3333333333333333,
              "#9c179e"
             ],
             [
              0.4444444444444444,
              "#bd3786"
             ],
             [
              0.5555555555555556,
              "#d8576b"
             ],
             [
              0.6666666666666666,
              "#ed7953"
             ],
             [
              0.7777777777777778,
              "#fb9f3a"
             ],
             [
              0.8888888888888888,
              "#fdca26"
             ],
             [
              1,
              "#f0f921"
             ]
            ],
            "type": "heatmap"
           }
          ],
          "histogram": [
           {
            "marker": {
             "pattern": {
              "fillmode": "overlay",
              "size": 10,
              "solidity": 0.2
             }
            },
            "type": "histogram"
           }
          ],
          "histogram2d": [
           {
            "colorbar": {
             "outlinewidth": 0,
             "ticks": ""
            },
            "colorscale": [
             [
              0,
              "#0d0887"
             ],
             [
              0.1111111111111111,
              "#46039f"
             ],
             [
              0.2222222222222222,
              "#7201a8"
             ],
             [
              0.3333333333333333,
              "#9c179e"
             ],
             [
              0.4444444444444444,
              "#bd3786"
             ],
             [
              0.5555555555555556,
              "#d8576b"
             ],
             [
              0.6666666666666666,
              "#ed7953"
             ],
             [
              0.7777777777777778,
              "#fb9f3a"
             ],
             [
              0.8888888888888888,
              "#fdca26"
             ],
             [
              1,
              "#f0f921"
             ]
            ],
            "type": "histogram2d"
           }
          ],
          "histogram2dcontour": [
           {
            "colorbar": {
             "outlinewidth": 0,
             "ticks": ""
            },
            "colorscale": [
             [
              0,
              "#0d0887"
             ],
             [
              0.1111111111111111,
              "#46039f"
             ],
             [
              0.2222222222222222,
              "#7201a8"
             ],
             [
              0.3333333333333333,
              "#9c179e"
             ],
             [
              0.4444444444444444,
              "#bd3786"
             ],
             [
              0.5555555555555556,
              "#d8576b"
             ],
             [
              0.6666666666666666,
              "#ed7953"
             ],
             [
              0.7777777777777778,
              "#fb9f3a"
             ],
             [
              0.8888888888888888,
              "#fdca26"
             ],
             [
              1,
              "#f0f921"
             ]
            ],
            "type": "histogram2dcontour"
           }
          ],
          "mesh3d": [
           {
            "colorbar": {
             "outlinewidth": 0,
             "ticks": ""
            },
            "type": "mesh3d"
           }
          ],
          "parcoords": [
           {
            "line": {
             "colorbar": {
              "outlinewidth": 0,
              "ticks": ""
             }
            },
            "type": "parcoords"
           }
          ],
          "pie": [
           {
            "automargin": true,
            "type": "pie"
           }
          ],
          "scatter": [
           {
            "fillpattern": {
             "fillmode": "overlay",
             "size": 10,
             "solidity": 0.2
            },
            "type": "scatter"
           }
          ],
          "scatter3d": [
           {
            "line": {
             "colorbar": {
              "outlinewidth": 0,
              "ticks": ""
             }
            },
            "marker": {
             "colorbar": {
              "outlinewidth": 0,
              "ticks": ""
             }
            },
            "type": "scatter3d"
           }
          ],
          "scattercarpet": [
           {
            "marker": {
             "colorbar": {
              "outlinewidth": 0,
              "ticks": ""
             }
            },
            "type": "scattercarpet"
           }
          ],
          "scattergeo": [
           {
            "marker": {
             "colorbar": {
              "outlinewidth": 0,
              "ticks": ""
             }
            },
            "type": "scattergeo"
           }
          ],
          "scattergl": [
           {
            "marker": {
             "colorbar": {
              "outlinewidth": 0,
              "ticks": ""
             }
            },
            "type": "scattergl"
           }
          ],
          "scattermap": [
           {
            "marker": {
             "colorbar": {
              "outlinewidth": 0,
              "ticks": ""
             }
            },
            "type": "scattermap"
           }
          ],
          "scattermapbox": [
           {
            "marker": {
             "colorbar": {
              "outlinewidth": 0,
              "ticks": ""
             }
            },
            "type": "scattermapbox"
           }
          ],
          "scatterpolar": [
           {
            "marker": {
             "colorbar": {
              "outlinewidth": 0,
              "ticks": ""
             }
            },
            "type": "scatterpolar"
           }
          ],
          "scatterpolargl": [
           {
            "marker": {
             "colorbar": {
              "outlinewidth": 0,
              "ticks": ""
             }
            },
            "type": "scatterpolargl"
           }
          ],
          "scatterternary": [
           {
            "marker": {
             "colorbar": {
              "outlinewidth": 0,
              "ticks": ""
             }
            },
            "type": "scatterternary"
           }
          ],
          "surface": [
           {
            "colorbar": {
             "outlinewidth": 0,
             "ticks": ""
            },
            "colorscale": [
             [
              0,
              "#0d0887"
             ],
             [
              0.1111111111111111,
              "#46039f"
             ],
             [
              0.2222222222222222,
              "#7201a8"
             ],
             [
              0.3333333333333333,
              "#9c179e"
             ],
             [
              0.4444444444444444,
              "#bd3786"
             ],
             [
              0.5555555555555556,
              "#d8576b"
             ],
             [
              0.6666666666666666,
              "#ed7953"
             ],
             [
              0.7777777777777778,
              "#fb9f3a"
             ],
             [
              0.8888888888888888,
              "#fdca26"
             ],
             [
              1,
              "#f0f921"
             ]
            ],
            "type": "surface"
           }
          ],
          "table": [
           {
            "cells": {
             "fill": {
              "color": "#EBF0F8"
             },
             "line": {
              "color": "white"
             }
            },
            "header": {
             "fill": {
              "color": "#C8D4E3"
             },
             "line": {
              "color": "white"
             }
            },
            "type": "table"
           }
          ]
         },
         "layout": {
          "annotationdefaults": {
           "arrowcolor": "#2a3f5f",
           "arrowhead": 0,
           "arrowwidth": 1
          },
          "autotypenumbers": "strict",
          "coloraxis": {
           "colorbar": {
            "outlinewidth": 0,
            "ticks": ""
           }
          },
          "colorscale": {
           "diverging": [
            [
             0,
             "#8e0152"
            ],
            [
             0.1,
             "#c51b7d"
            ],
            [
             0.2,
             "#de77ae"
            ],
            [
             0.3,
             "#f1b6da"
            ],
            [
             0.4,
             "#fde0ef"
            ],
            [
             0.5,
             "#f7f7f7"
            ],
            [
             0.6,
             "#e6f5d0"
            ],
            [
             0.7,
             "#b8e186"
            ],
            [
             0.8,
             "#7fbc41"
            ],
            [
             0.9,
             "#4d9221"
            ],
            [
             1,
             "#276419"
            ]
           ],
           "sequential": [
            [
             0,
             "#0d0887"
            ],
            [
             0.1111111111111111,
             "#46039f"
            ],
            [
             0.2222222222222222,
             "#7201a8"
            ],
            [
             0.3333333333333333,
             "#9c179e"
            ],
            [
             0.4444444444444444,
             "#bd3786"
            ],
            [
             0.5555555555555556,
             "#d8576b"
            ],
            [
             0.6666666666666666,
             "#ed7953"
            ],
            [
             0.7777777777777778,
             "#fb9f3a"
            ],
            [
             0.8888888888888888,
             "#fdca26"
            ],
            [
             1,
             "#f0f921"
            ]
           ],
           "sequentialminus": [
            [
             0,
             "#0d0887"
            ],
            [
             0.1111111111111111,
             "#46039f"
            ],
            [
             0.2222222222222222,
             "#7201a8"
            ],
            [
             0.3333333333333333,
             "#9c179e"
            ],
            [
             0.4444444444444444,
             "#bd3786"
            ],
            [
             0.5555555555555556,
             "#d8576b"
            ],
            [
             0.6666666666666666,
             "#ed7953"
            ],
            [
             0.7777777777777778,
             "#fb9f3a"
            ],
            [
             0.8888888888888888,
             "#fdca26"
            ],
            [
             1,
             "#f0f921"
            ]
           ]
          },
          "colorway": [
           "#636efa",
           "#EF553B",
           "#00cc96",
           "#ab63fa",
           "#FFA15A",
           "#19d3f3",
           "#FF6692",
           "#B6E880",
           "#FF97FF",
           "#FECB52"
          ],
          "font": {
           "color": "#2a3f5f"
          },
          "geo": {
           "bgcolor": "white",
           "lakecolor": "white",
           "landcolor": "#E5ECF6",
           "showlakes": true,
           "showland": true,
           "subunitcolor": "white"
          },
          "hoverlabel": {
           "align": "left"
          },
          "hovermode": "closest",
          "mapbox": {
           "style": "light"
          },
          "paper_bgcolor": "white",
          "plot_bgcolor": "#E5ECF6",
          "polar": {
           "angularaxis": {
            "gridcolor": "white",
            "linecolor": "white",
            "ticks": ""
           },
           "bgcolor": "#E5ECF6",
           "radialaxis": {
            "gridcolor": "white",
            "linecolor": "white",
            "ticks": ""
           }
          },
          "scene": {
           "xaxis": {
            "backgroundcolor": "#E5ECF6",
            "gridcolor": "white",
            "gridwidth": 2,
            "linecolor": "white",
            "showbackground": true,
            "ticks": "",
            "zerolinecolor": "white"
           },
           "yaxis": {
            "backgroundcolor": "#E5ECF6",
            "gridcolor": "white",
            "gridwidth": 2,
            "linecolor": "white",
            "showbackground": true,
            "ticks": "",
            "zerolinecolor": "white"
           },
           "zaxis": {
            "backgroundcolor": "#E5ECF6",
            "gridcolor": "white",
            "gridwidth": 2,
            "linecolor": "white",
            "showbackground": true,
            "ticks": "",
            "zerolinecolor": "white"
           }
          },
          "shapedefaults": {
           "line": {
            "color": "#2a3f5f"
           }
          },
          "ternary": {
           "aaxis": {
            "gridcolor": "white",
            "linecolor": "white",
            "ticks": ""
           },
           "baxis": {
            "gridcolor": "white",
            "linecolor": "white",
            "ticks": ""
           },
           "bgcolor": "#E5ECF6",
           "caxis": {
            "gridcolor": "white",
            "linecolor": "white",
            "ticks": ""
           }
          },
          "title": {
           "x": 0.05
          },
          "xaxis": {
           "automargin": true,
           "gridcolor": "white",
           "linecolor": "white",
           "ticks": "",
           "title": {
            "standoff": 15
           },
           "zerolinecolor": "white",
           "zerolinewidth": 2
          },
          "yaxis": {
           "automargin": true,
           "gridcolor": "white",
           "linecolor": "white",
           "ticks": "",
           "title": {
            "standoff": 15
           },
           "zerolinecolor": "white",
           "zerolinewidth": 2
          }
         }
        },
        "title": {
         "text": "Modell-Evaluation - Ridge Regression"
        },
        "width": 900,
        "xaxis": {
         "anchor": "y",
         "domain": [
          0,
          0.45
         ]
        },
        "xaxis2": {
         "anchor": "y2",
         "domain": [
          0.55,
          1
         ]
        },
        "xaxis3": {
         "anchor": "y3",
         "domain": [
          0,
          0.45
         ]
        },
        "xaxis4": {
         "anchor": "y4",
         "domain": [
          0.55,
          1
         ]
        },
        "yaxis": {
         "anchor": "x",
         "domain": [
          0.625,
          1
         ]
        },
        "yaxis2": {
         "anchor": "x2",
         "domain": [
          0.625,
          1
         ]
        },
        "yaxis3": {
         "anchor": "x3",
         "domain": [
          0,
          0.375
         ]
        },
        "yaxis4": {
         "anchor": "x4",
         "domain": [
          0,
          0.375
         ]
        }
       }
      }
     },
     "metadata": {},
     "output_type": "display_data"
    }
   ],
   "source": [
    "from plotly.subplots import make_subplots\n",
    "\n",
    "residuum  = (y_test - y_pred_basic).to_numpy() \n",
    "abs_resid = np.abs(residuum)\n",
    "vmax = np.quantile(abs_resid, 0.95)\n",
    "sigma_residuum = residuum.std()\n",
    "\n",
    "# Plotly-Subplots erstellen (2 Reihen, 2 Spalten):\n",
    "fig = make_subplots(\n",
    "    rows=2, cols=2,\n",
    "    subplot_titles=(\n",
    "        \"Tatsächlich vs. Vorhersage\",\n",
    "        \"Residuen vs. Vorhersage\",\n",
    "        \"Histogramm der Residuen\",\n",
    "        \"Modellmetriken\"\n",
    "    )\n",
    ")\n",
    "\n",
    "# Tatsächlich vs. Vorhersage\n",
    "fig.add_trace(\n",
    "    go.Scatter(\n",
    "        x=y_test, y=y_pred_basic,\n",
    "        mode=\"markers\",\n",
    "        name=\"Vorhersagen\",\n",
    "        marker=dict(\n",
    "            size=8,\n",
    "            opacity=0.75,\n",
    "            color=residuum,     \n",
    "            colorscale=\"RdBu\",\n",
    "            cmin=-vmax,\n",
    "            cmax=vmax,\n",
    "            colorbar=dict(\n",
    "                title=dict(\n",
    "                    text=\"Residuum: <br>(Tatsächlich - Vorhersage)\"\n",
    "                )\n",
    "            )\n",
    "        ),\n",
    "        hovertemplate=(\n",
    "            \"Tatsächlich: %{x:.0f} €<br>\"\n",
    "            \"Vorhersage: %{y:.0f} €<br>\"\n",
    "            \"Residuum: %{marker.color:.0f} €<extra></extra>\"\n",
    "        )\n",
    "    ),\n",
    "    row=1, col=1\n",
    ")\n",
    "# Ideal-Linie:\n",
    "lims = [min(y_test.min(), y_pred_basic.min()), max(y_test.max(), y_pred_basic.max())]\n",
    "fig.add_trace(\n",
    "    go.Scatter(\n",
    "        x=lims, y=lims,\n",
    "        mode=\"lines\",\n",
    "        name=\"Ideal\",\n",
    "        line=dict(dash=\"dash\", color=\"red\")\n",
    "    ),\n",
    "    row=1, col=1\n",
    ")\n",
    "\n",
    "# Residuen vs. Vorhersage:\n",
    "fig.add_trace(\n",
    "    go.Scatter(\n",
    "        x=y_pred_basic, y=residuum,\n",
    "        mode=\"markers\",\n",
    "        name=\"Residuen\",\n",
    "        marker=dict(size=6, opacity=0.6)\n",
    "    ),\n",
    "    row=1, col=2\n",
    ")\n",
    "fig.add_hline(y=0, line_dash=\"dash\", row=1, col=2)\n",
    "fig.add_hrect(y0=-sigma_residuum, y1=sigma_residuum, fillcolor=\"lightgreen\", opacity=0.2, row=1, col=2)\n",
    "\n",
    "# Histogramm der Residuen:\n",
    "fig.add_trace(\n",
    "    go.Histogram(\n",
    "        x=residuum,\n",
    "        nbinsx=30,\n",
    "        name=\"Residuen\",\n",
    "    ),\n",
    "    row=2, col=1\n",
    ")\n",
    "fig.add_vline(x=0, line_dash=\"dash\", row=2, col=1)\n",
    "\n",
    "# Metriken Balkendiagramm:\n",
    "metrics = [\"MAE\", \"RMSE\"]\n",
    "values = [mae, rmse]\n",
    "fig.add_trace(\n",
    "    go.Bar(\n",
    "        x=metrics,\n",
    "        y=values,\n",
    "        text=[f\"{v:,.0f}\" for v in values],\n",
    "        textposition=\"auto\",\n",
    "        name=\"Fehler\"\n",
    "    ),\n",
    "    row=2, col=2\n",
    ")\n",
    "# R² als Annotation hinzufügen:\n",
    "fig.add_annotation(\n",
    "    text=f\"R² = {r2:.3f}\",\n",
    "    xref=\"x domain\", yref=\"y domain\",\n",
    "    x=0, y=1, showarrow=False,\n",
    "    font=dict(size=14, color=\"black\"),\n",
    "    bgcolor=\"lightgray\",\n",
    "    row=2, col=2\n",
    ")\n",
    "\n",
    "# Layout anpassen\n",
    "fig.update_layout(\n",
    "    height=800, width=900,\n",
    "    showlegend=False,\n",
    "    title_text=\"Modell-Evaluation - Ridge Regression\",\n",
    "    bargap=0.05\n",
    ")\n",
    "\n",
    "fig"
   ]
  },
  {
   "cell_type": "code",
   "execution_count": 30,
   "metadata": {},
   "outputs": [
    {
     "name": "stdout",
     "output_type": "stream",
     "text": [
      "MAE: 5804 ± 64\n",
      "RMSE: 7105 ± 62\n",
      "R²: 0.318 ± 0.055\n"
     ]
    }
   ],
   "source": [
    "from sklearn.model_selection import cross_val_score, KFold\n",
    "\n",
    "cv = KFold(n_splits=5, shuffle=True, random_state=42)\n",
    "\n",
    "mae_scores = -cross_val_score(ridge_basic, X_train_scaled, y_train, cv=cv, scoring=\"neg_mean_absolute_error\")\n",
    "rmse_scores = np.sqrt(-cross_val_score(ridge_basic, X_train_scaled, y_train, cv=cv, scoring=\"neg_mean_squared_error\"))\n",
    "r2_scores = cross_val_score(ridge_basic, X_train_scaled, y_train, cv=cv, scoring=\"r2\")\n",
    "\n",
    "print(f\"MAE: {mae_scores.mean():.0f} ± {mae_scores.std():.0f}\")\n",
    "print(f\"RMSE: {rmse_scores.mean():.0f} ± {rmse_scores.std():.0f}\")\n",
    "print(f\"R²: {r2_scores.mean():.3f} ± {r2_scores.std():.3f}\")"
   ]
  },
  {
   "cell_type": "markdown",
   "metadata": {},
   "source": [
    "### 6. Modell verbessern\n",
    "### 6.1 Feature-Engineering"
   ]
  },
  {
   "cell_type": "code",
   "execution_count": 31,
   "metadata": {},
   "outputs": [],
   "source": [
    "X[\"Odometer_Sq\"] = X[\"Odometer (KM)\"] ** 2\n",
    "X[\"Doors_Sq\"] = X[\"Doors\"] ** 2"
   ]
  },
  {
   "cell_type": "code",
   "execution_count": 32,
   "metadata": {},
   "outputs": [],
   "source": [
    "X[\"Doors_x_Odometer\"] = X[\"Doors\"] * X[\"Odometer (KM)\"]"
   ]
  },
  {
   "cell_type": "code",
   "execution_count": 33,
   "metadata": {},
   "outputs": [
    {
     "data": {
      "application/vnd.microsoft.datawrangler.viewer.v0+json": {
       "columns": [
        {
         "name": "index",
         "rawType": "int64",
         "type": "integer"
        },
        {
         "name": "Make",
         "rawType": "object",
         "type": "unknown"
        },
        {
         "name": "Colour",
         "rawType": "object",
         "type": "unknown"
        },
        {
         "name": "Odometer (KM)",
         "rawType": "float64",
         "type": "float"
        },
        {
         "name": "Doors",
         "rawType": "float64",
         "type": "float"
        },
        {
         "name": "Odometer_Sq",
         "rawType": "float64",
         "type": "float"
        },
        {
         "name": "Doors_Sq",
         "rawType": "float64",
         "type": "float"
        },
        {
         "name": "Doors_x_Odometer",
         "rawType": "float64",
         "type": "float"
        },
        {
         "name": "Odometer_bin",
         "rawType": "float64",
         "type": "float"
        }
       ],
       "ref": "770b0c98-704e-4265-ab75-d5a6e34086e2",
       "rows": [
        [
         "0",
         "Honda",
         "White",
         "35431.0",
         "4.0",
         "1255355761.0",
         "16.0",
         "141724.0",
         "0.0"
        ],
        [
         "1",
         "BMW",
         "Blue",
         "192714.0",
         "5.0",
         "37138685796.0",
         "25.0",
         "963570.0",
         "3.0"
        ],
        [
         "2",
         "Honda",
         "White",
         "84714.0",
         "4.0",
         "7176461796.0",
         "16.0",
         "338856.0",
         "1.0"
        ],
        [
         "3",
         "Toyota",
         "White",
         "154365.0",
         "4.0",
         "23828553225.0",
         "16.0",
         "617460.0",
         "3.0"
        ],
        [
         "4",
         "Nissan",
         "Blue",
         "181577.0",
         "3.0",
         "32970206929.0",
         "9.0",
         "544731.0",
         "3.0"
        ],
        [
         "5",
         "Honda",
         "Red",
         "42652.0",
         "4.0",
         "1819193104.0",
         "16.0",
         "170608.0",
         "0.0"
        ],
        [
         "6",
         "Toyota",
         "Blue",
         "163453.0",
         "4.0",
         "26716883209.0",
         "16.0",
         "653812.0",
         "3.0"
        ],
        [
         "7",
         "Honda",
         "White",
         null,
         "4.0",
         null,
         "16.0",
         null,
         null
        ],
        [
         "8",
         null,
         "White",
         "130538.0",
         "4.0",
         "17040169444.0",
         "16.0",
         "522152.0",
         "2.0"
        ],
        [
         "9",
         "Honda",
         "Blue",
         "51029.0",
         "4.0",
         "2603958841.0",
         "16.0",
         "204116.0",
         "1.0"
        ],
        [
         "10",
         "Nissan",
         "White",
         "167421.0",
         "4.0",
         "28029791241.0",
         "16.0",
         "669684.0",
         "3.0"
        ],
        [
         "11",
         "Nissan",
         "Green",
         "17119.0",
         "4.0",
         "293060161.0",
         "16.0",
         "68476.0",
         "0.0"
        ],
        [
         "12",
         "Nissan",
         "White",
         "102303.0",
         "4.0",
         "10465903809.0",
         "16.0",
         "409212.0",
         "2.0"
        ],
        [
         "13",
         null,
         "White",
         "134181.0",
         "4.0",
         "18004540761.0",
         "16.0",
         "536724.0",
         "2.0"
        ],
        [
         "14",
         "Honda",
         "Blue",
         "199833.0",
         "4.0",
         "39933227889.0",
         "16.0",
         "799332.0",
         "3.0"
        ],
        [
         "15",
         "Toyota",
         "Blue",
         "205592.0",
         "4.0",
         "42268070464.0",
         "16.0",
         "822368.0",
         "4.0"
        ],
        [
         "16",
         "Toyota",
         "Red",
         "96742.0",
         "4.0",
         "9359014564.0",
         "16.0",
         "386968.0",
         "1.0"
        ],
        [
         "17",
         "BMW",
         "White",
         "194189.0",
         "5.0",
         "37709367721.0",
         "25.0",
         "970945.0",
         "3.0"
        ],
        [
         "18",
         "Nissan",
         "White",
         "67991.0",
         "3.0",
         "4622776081.0",
         "9.0",
         "203973.0",
         "1.0"
        ],
        [
         "19",
         "Nissan",
         "Blue",
         "215820.0",
         "4.0",
         "46578272400.0",
         "16.0",
         "863280.0",
         "4.0"
        ],
        [
         "20",
         "Toyota",
         null,
         "124844.0",
         "4.0",
         "15586024336.0",
         "16.0",
         "499376.0",
         "2.0"
        ],
        [
         "21",
         "Honda",
         null,
         "30615.0",
         "4.0",
         "937278225.0",
         "16.0",
         "122460.0",
         "0.0"
        ],
        [
         "22",
         "Toyota",
         "White",
         "148744.0",
         "4.0",
         "22124777536.0",
         "16.0",
         "594976.0",
         "2.0"
        ],
        [
         "23",
         "Honda",
         "Green",
         "130075.0",
         "4.0",
         "16919505625.0",
         "16.0",
         "520300.0",
         "2.0"
        ],
        [
         "24",
         "Honda",
         "Blue",
         "172718.0",
         "4.0",
         "29831507524.0",
         "16.0",
         "690872.0",
         "3.0"
        ],
        [
         "25",
         "Honda",
         "Blue",
         "125819.0",
         "4.0",
         "15830420761.0",
         "16.0",
         "503276.0",
         "2.0"
        ],
        [
         "26",
         "Honda",
         "White",
         "180390.0",
         "4.0",
         "32540552100.0",
         "16.0",
         "721560.0",
         "3.0"
        ],
        [
         "27",
         "Honda",
         "Green",
         "82783.0",
         "4.0",
         "6853025089.0",
         "16.0",
         "331132.0",
         "1.0"
        ],
        [
         "28",
         "Honda",
         "White",
         "56687.0",
         "4.0",
         "3213415969.0",
         "16.0",
         "226748.0",
         "1.0"
        ],
        [
         "29",
         "Toyota",
         "White",
         "112004.0",
         "4.0",
         "12544896016.0",
         "16.0",
         "448016.0",
         "2.0"
        ],
        [
         "30",
         "Nissan",
         "Blue",
         "34024.0",
         "4.0",
         "1157632576.0",
         "16.0",
         "136096.0",
         "0.0"
        ],
        [
         "31",
         "Toyota",
         "White",
         "108569.0",
         null,
         "11787227761.0",
         null,
         null,
         "2.0"
        ],
        [
         "32",
         "Nissan",
         "White",
         "203795.0",
         "4.0",
         "41532402025.0",
         "16.0",
         "815180.0",
         "4.0"
        ],
        [
         "33",
         "Nissan",
         "Green",
         "153554.0",
         "3.0",
         "23578830916.0",
         "9.0",
         "460662.0",
         "3.0"
        ],
        [
         "34",
         "Honda",
         "Blue",
         "71949.0",
         "4.0",
         "5176658601.0",
         "16.0",
         "287796.0",
         "1.0"
        ],
        [
         "35",
         "Honda",
         "Blue",
         "191622.0",
         "4.0",
         "36718990884.0",
         "16.0",
         "766488.0",
         "3.0"
        ],
        [
         "36",
         "Nissan",
         "Blue",
         "38186.0",
         "4.0",
         "1458170596.0",
         "16.0",
         "152744.0",
         "0.0"
        ],
        [
         "37",
         "Nissan",
         "White",
         null,
         "4.0",
         null,
         "16.0",
         null,
         null
        ],
        [
         "38",
         "Nissan",
         "Blue",
         "146430.0",
         "3.0",
         "21441744900.0",
         "9.0",
         "439290.0",
         "2.0"
        ],
        [
         "39",
         "Toyota",
         "Green",
         "109868.0",
         "4.0",
         "12070977424.0",
         "16.0",
         "439472.0",
         "2.0"
        ],
        [
         "40",
         null,
         "White",
         "177894.0",
         "4.0",
         "31646275236.0",
         "16.0",
         "711576.0",
         "3.0"
        ],
        [
         "41",
         "Toyota",
         "Blue",
         "189209.0",
         "4.0",
         "35800045681.0",
         "16.0",
         "756836.0",
         "3.0"
        ],
        [
         "42",
         "Honda",
         "Black",
         "200490.0",
         "4.0",
         "40196240100.0",
         "16.0",
         "801960.0",
         "4.0"
        ],
        [
         "43",
         "Toyota",
         "Blue",
         "141617.0",
         "4.0",
         "20055374689.0",
         "16.0",
         "566468.0",
         "2.0"
        ],
        [
         "44",
         "Toyota",
         "Blue",
         "213893.0",
         "4.0",
         "45750215449.0",
         "16.0",
         "855572.0",
         "4.0"
        ],
        [
         "45",
         "Nissan",
         "Blue",
         "231057.0",
         "4.0",
         "53387337249.0",
         "16.0",
         "924228.0",
         "4.0"
        ],
        [
         "46",
         "Toyota",
         "White",
         "100938.0",
         "4.0",
         "10188479844.0",
         "16.0",
         "403752.0",
         "2.0"
        ],
        [
         "47",
         "Toyota",
         "Blue",
         "243969.0",
         null,
         "59520872961.0",
         null,
         null,
         "4.0"
        ],
        [
         "48",
         "Nissan",
         "White",
         "107096.0",
         "3.0",
         "11469553216.0",
         "9.0",
         "321288.0",
         "2.0"
        ],
        [
         "49",
         "Toyota",
         "Black",
         "86333.0",
         "4.0",
         "7453386889.0",
         "16.0",
         "345332.0",
         "1.0"
        ]
       ],
       "shape": {
        "columns": 8,
        "rows": 950
       }
      },
      "text/html": [
       "<div>\n",
       "<style scoped>\n",
       "    .dataframe tbody tr th:only-of-type {\n",
       "        vertical-align: middle;\n",
       "    }\n",
       "\n",
       "    .dataframe tbody tr th {\n",
       "        vertical-align: top;\n",
       "    }\n",
       "\n",
       "    .dataframe thead th {\n",
       "        text-align: right;\n",
       "    }\n",
       "</style>\n",
       "<table border=\"1\" class=\"dataframe\">\n",
       "  <thead>\n",
       "    <tr style=\"text-align: right;\">\n",
       "      <th></th>\n",
       "      <th>Make</th>\n",
       "      <th>Colour</th>\n",
       "      <th>Odometer (KM)</th>\n",
       "      <th>Doors</th>\n",
       "      <th>Odometer_Sq</th>\n",
       "      <th>Doors_Sq</th>\n",
       "      <th>Doors_x_Odometer</th>\n",
       "      <th>Odometer_bin</th>\n",
       "    </tr>\n",
       "  </thead>\n",
       "  <tbody>\n",
       "    <tr>\n",
       "      <th>0</th>\n",
       "      <td>Honda</td>\n",
       "      <td>White</td>\n",
       "      <td>35431.0</td>\n",
       "      <td>4.0</td>\n",
       "      <td>1.255356e+09</td>\n",
       "      <td>16.0</td>\n",
       "      <td>141724.0</td>\n",
       "      <td>0.0</td>\n",
       "    </tr>\n",
       "    <tr>\n",
       "      <th>1</th>\n",
       "      <td>BMW</td>\n",
       "      <td>Blue</td>\n",
       "      <td>192714.0</td>\n",
       "      <td>5.0</td>\n",
       "      <td>3.713869e+10</td>\n",
       "      <td>25.0</td>\n",
       "      <td>963570.0</td>\n",
       "      <td>3.0</td>\n",
       "    </tr>\n",
       "    <tr>\n",
       "      <th>2</th>\n",
       "      <td>Honda</td>\n",
       "      <td>White</td>\n",
       "      <td>84714.0</td>\n",
       "      <td>4.0</td>\n",
       "      <td>7.176462e+09</td>\n",
       "      <td>16.0</td>\n",
       "      <td>338856.0</td>\n",
       "      <td>1.0</td>\n",
       "    </tr>\n",
       "    <tr>\n",
       "      <th>3</th>\n",
       "      <td>Toyota</td>\n",
       "      <td>White</td>\n",
       "      <td>154365.0</td>\n",
       "      <td>4.0</td>\n",
       "      <td>2.382855e+10</td>\n",
       "      <td>16.0</td>\n",
       "      <td>617460.0</td>\n",
       "      <td>3.0</td>\n",
       "    </tr>\n",
       "    <tr>\n",
       "      <th>4</th>\n",
       "      <td>Nissan</td>\n",
       "      <td>Blue</td>\n",
       "      <td>181577.0</td>\n",
       "      <td>3.0</td>\n",
       "      <td>3.297021e+10</td>\n",
       "      <td>9.0</td>\n",
       "      <td>544731.0</td>\n",
       "      <td>3.0</td>\n",
       "    </tr>\n",
       "    <tr>\n",
       "      <th>...</th>\n",
       "      <td>...</td>\n",
       "      <td>...</td>\n",
       "      <td>...</td>\n",
       "      <td>...</td>\n",
       "      <td>...</td>\n",
       "      <td>...</td>\n",
       "      <td>...</td>\n",
       "      <td>...</td>\n",
       "    </tr>\n",
       "    <tr>\n",
       "      <th>995</th>\n",
       "      <td>Toyota</td>\n",
       "      <td>Black</td>\n",
       "      <td>35820.0</td>\n",
       "      <td>4.0</td>\n",
       "      <td>1.283072e+09</td>\n",
       "      <td>16.0</td>\n",
       "      <td>143280.0</td>\n",
       "      <td>0.0</td>\n",
       "    </tr>\n",
       "    <tr>\n",
       "      <th>996</th>\n",
       "      <td>NaN</td>\n",
       "      <td>White</td>\n",
       "      <td>155144.0</td>\n",
       "      <td>3.0</td>\n",
       "      <td>2.406966e+10</td>\n",
       "      <td>9.0</td>\n",
       "      <td>465432.0</td>\n",
       "      <td>3.0</td>\n",
       "    </tr>\n",
       "    <tr>\n",
       "      <th>997</th>\n",
       "      <td>Nissan</td>\n",
       "      <td>Blue</td>\n",
       "      <td>66604.0</td>\n",
       "      <td>4.0</td>\n",
       "      <td>4.436093e+09</td>\n",
       "      <td>16.0</td>\n",
       "      <td>266416.0</td>\n",
       "      <td>1.0</td>\n",
       "    </tr>\n",
       "    <tr>\n",
       "      <th>998</th>\n",
       "      <td>Honda</td>\n",
       "      <td>White</td>\n",
       "      <td>215883.0</td>\n",
       "      <td>4.0</td>\n",
       "      <td>4.660547e+10</td>\n",
       "      <td>16.0</td>\n",
       "      <td>863532.0</td>\n",
       "      <td>4.0</td>\n",
       "    </tr>\n",
       "    <tr>\n",
       "      <th>999</th>\n",
       "      <td>Toyota</td>\n",
       "      <td>Blue</td>\n",
       "      <td>248360.0</td>\n",
       "      <td>4.0</td>\n",
       "      <td>6.168269e+10</td>\n",
       "      <td>16.0</td>\n",
       "      <td>993440.0</td>\n",
       "      <td>4.0</td>\n",
       "    </tr>\n",
       "  </tbody>\n",
       "</table>\n",
       "<p>950 rows × 8 columns</p>\n",
       "</div>"
      ],
      "text/plain": [
       "       Make Colour  Odometer (KM)  Doors   Odometer_Sq  Doors_Sq  \\\n",
       "0     Honda  White        35431.0    4.0  1.255356e+09      16.0   \n",
       "1       BMW   Blue       192714.0    5.0  3.713869e+10      25.0   \n",
       "2     Honda  White        84714.0    4.0  7.176462e+09      16.0   \n",
       "3    Toyota  White       154365.0    4.0  2.382855e+10      16.0   \n",
       "4    Nissan   Blue       181577.0    3.0  3.297021e+10       9.0   \n",
       "..      ...    ...            ...    ...           ...       ...   \n",
       "995  Toyota  Black        35820.0    4.0  1.283072e+09      16.0   \n",
       "996     NaN  White       155144.0    3.0  2.406966e+10       9.0   \n",
       "997  Nissan   Blue        66604.0    4.0  4.436093e+09      16.0   \n",
       "998   Honda  White       215883.0    4.0  4.660547e+10      16.0   \n",
       "999  Toyota   Blue       248360.0    4.0  6.168269e+10      16.0   \n",
       "\n",
       "     Doors_x_Odometer  Odometer_bin  \n",
       "0            141724.0           0.0  \n",
       "1            963570.0           3.0  \n",
       "2            338856.0           1.0  \n",
       "3            617460.0           3.0  \n",
       "4            544731.0           3.0  \n",
       "..                ...           ...  \n",
       "995          143280.0           0.0  \n",
       "996          465432.0           3.0  \n",
       "997          266416.0           1.0  \n",
       "998          863532.0           4.0  \n",
       "999          993440.0           4.0  \n",
       "\n",
       "[950 rows x 8 columns]"
      ]
     },
     "execution_count": 33,
     "metadata": {},
     "output_type": "execute_result"
    }
   ],
   "source": [
    "X[\"Odometer_bin\"] = pd.cut(X[\"Odometer (KM)\"], bins=[0, 50000, 100000, 150000, 200000, float(\"inf\")], labels=False)\n",
    "X"
   ]
  },
  {
   "cell_type": "code",
   "execution_count": 34,
   "metadata": {},
   "outputs": [],
   "source": [
    "# Aufteilen der Daten in Trainings- und Testdaten:\n",
    "X_train, X_test, y_train, y_test = train_test_split(X, y, test_size=0.2, random_state=42)"
   ]
  },
  {
   "cell_type": "code",
   "execution_count": 35,
   "metadata": {},
   "outputs": [
    {
     "data": {
      "application/vnd.microsoft.datawrangler.viewer.v0+json": {
       "columns": [
        {
         "name": "index",
         "rawType": "object",
         "type": "string"
        },
        {
         "name": "0",
         "rawType": "int64",
         "type": "integer"
        }
       ],
       "ref": "bb6e188a-f14b-44cb-bee2-bcb99335b9ad",
       "rows": [
        [
         "Make",
         "35"
        ],
        [
         "Colour",
         "38"
        ],
        [
         "Odometer (KM)",
         "36"
        ],
        [
         "Doors",
         "38"
        ],
        [
         "Odometer_Sq",
         "36"
        ],
        [
         "Doors_Sq",
         "38"
        ],
        [
         "Doors_x_Odometer",
         "73"
        ],
        [
         "Odometer_bin",
         "36"
        ]
       ],
       "shape": {
        "columns": 1,
        "rows": 8
       }
      },
      "text/plain": [
       "Make                35\n",
       "Colour              38\n",
       "Odometer (KM)       36\n",
       "Doors               38\n",
       "Odometer_Sq         36\n",
       "Doors_Sq            38\n",
       "Doors_x_Odometer    73\n",
       "Odometer_bin        36\n",
       "dtype: int64"
      ]
     },
     "execution_count": 35,
     "metadata": {},
     "output_type": "execute_result"
    }
   ],
   "source": [
    "X_train.isna().sum()"
   ]
  },
  {
   "cell_type": "code",
   "execution_count": 36,
   "metadata": {},
   "outputs": [],
   "source": [
    "categorical_features = [\"Make\", \"Colour\"]\n",
    "door_feature = [\"Doors\"]\n",
    "door_feature_sq = [\"Doors_Sq\"]\n",
    "numerical_features = [\"Odometer (KM)\", \"Odometer_Sq\", \"Doors_x_Odometer\"]\n",
    "odometer_bin_feature = [\"Odometer_bin\"]\n",
    "\n",
    "\n",
    "categorical_imputer = SimpleImputer(strategy=\"constant\", fill_value=\"missing\")\n",
    "door_imputer = SimpleImputer(strategy=\"constant\", fill_value=4)\n",
    "door_imputer_sq = SimpleImputer(strategy=\"constant\", fill_value=16)\n",
    "numerical_imputer = SimpleImputer(strategy=\"mean\")\n",
    "odometer_bin_imputer = SimpleImputer(strategy=\"most_frequent\")\n",
    "\n",
    "imputer = ColumnTransformer([\n",
    "    (\"cat_imputer\", categorical_imputer, categorical_features),\n",
    "    (\"door_imputer\", door_imputer, door_feature),\n",
    "    (\"door_imputer_sq\", door_imputer_sq, door_feature_sq),\n",
    "    (\"num_imputer\", numerical_imputer, numerical_features),\n",
    "    (\"odo_bin_imputer\", odometer_bin_imputer, odometer_bin_feature),\n",
    "])"
   ]
  },
  {
   "cell_type": "code",
   "execution_count": 37,
   "metadata": {},
   "outputs": [],
   "source": [
    "filled_X_train = imputer.fit_transform(X_train)\n",
    "filled_X_test = imputer.transform(X_test)"
   ]
  },
  {
   "cell_type": "code",
   "execution_count": 38,
   "metadata": {},
   "outputs": [
    {
     "data": {
      "application/vnd.microsoft.datawrangler.viewer.v0+json": {
       "columns": [
        {
         "name": "index",
         "rawType": "int64",
         "type": "integer"
        },
        {
         "name": "Make",
         "rawType": "object",
         "type": "string"
        },
        {
         "name": "Colour",
         "rawType": "object",
         "type": "string"
        },
        {
         "name": "Doors",
         "rawType": "object",
         "type": "unknown"
        },
        {
         "name": "Doors_Sq",
         "rawType": "object",
         "type": "unknown"
        },
        {
         "name": "Odometer (KM)",
         "rawType": "object",
         "type": "unknown"
        },
        {
         "name": "Odometer_Sq",
         "rawType": "object",
         "type": "unknown"
        },
        {
         "name": "Doors_x_Odometer",
         "rawType": "object",
         "type": "unknown"
        },
        {
         "name": "Odometer_bin",
         "rawType": "object",
         "type": "unknown"
        }
       ],
       "ref": "683f6c14-af2e-46bc-b8e8-e253ee502c48",
       "rows": [
        [
         "0",
         "Honda",
         "White",
         "4.0",
         "16.0",
         "71934.0",
         "5174500356.0",
         "287736.0",
         "1.0"
        ],
        [
         "1",
         "Toyota",
         "Red",
         "4.0",
         "16.0",
         "162665.0",
         "26459902225.0",
         "650660.0",
         "3.0"
        ],
        [
         "2",
         "Honda",
         "White",
         "4.0",
         "16.0",
         "42844.0",
         "1835608336.0",
         "171376.0",
         "0.0"
        ],
        [
         "3",
         "Honda",
         "White",
         "4.0",
         "16.0",
         "195829.0",
         "38348997241.0",
         "783316.0",
         "3.0"
        ],
        [
         "4",
         "Honda",
         "Blue",
         "4.0",
         "16.0",
         "219217.0",
         "48056093089.0",
         "876868.0",
         "4.0"
        ],
        [
         "5",
         "missing",
         "White",
         "4.0",
         "16.0",
         "126669.0",
         "16045035561.0",
         "506676.0",
         "2.0"
        ],
        [
         "6",
         "Toyota",
         "Blue",
         "4.0",
         "16.0",
         "76416.0",
         "5839405056.0",
         "305664.0",
         "1.0"
        ],
        [
         "7",
         "Nissan",
         "White",
         "4.0",
         "16.0",
         "114699.0",
         "13155860601.0",
         "458796.0",
         "2.0"
        ],
        [
         "8",
         "Nissan",
         "Blue",
         "3.0",
         "9.0",
         "180021.0",
         "32407560441.0",
         "540063.0",
         "3.0"
        ],
        [
         "9",
         "Honda",
         "Blue",
         "4.0",
         "16.0",
         "28561.0",
         "815730721.0",
         "114244.0",
         "0.0"
        ],
        [
         "10",
         "Toyota",
         "Blue",
         "4.0",
         "16.0",
         "61337.0",
         "3762227569.0",
         "245348.0",
         "1.0"
        ],
        [
         "11",
         "Honda",
         "White",
         "4.0",
         "16.0",
         "130319.03314917127",
         "21713631731.453037",
         "515473.16448326054",
         "3.0"
        ],
        [
         "12",
         "Toyota",
         "Blue",
         "4.0",
         "16.0",
         "119745.0",
         "14338865025.0",
         "478980.0",
         "2.0"
        ],
        [
         "13",
         "Honda",
         "White",
         "4.0",
         "16.0",
         "84714.0",
         "7176461796.0",
         "338856.0",
         "1.0"
        ],
        [
         "14",
         "Toyota",
         "White",
         "4.0",
         "16.0",
         "224657.0",
         "50470767649.0",
         "898628.0",
         "4.0"
        ],
        [
         "15",
         "Toyota",
         "White",
         "4.0",
         "16.0",
         "245977.0",
         "60504684529.0",
         "983908.0",
         "4.0"
        ],
        [
         "16",
         "Toyota",
         "Blue",
         "4.0",
         "16.0",
         "71306.0",
         "5084545636.0",
         "285224.0",
         "1.0"
        ],
        [
         "17",
         "Honda",
         "missing",
         "4.0",
         "16.0",
         "102032.0",
         "10410529024.0",
         "408128.0",
         "2.0"
        ],
        [
         "18",
         "Honda",
         "Red",
         "4.0",
         "16.0",
         "42652.0",
         "1819193104.0",
         "170608.0",
         "0.0"
        ],
        [
         "19",
         "missing",
         "White",
         "4.0",
         "16.0",
         "109384.0",
         "11964859456.0",
         "437536.0",
         "2.0"
        ],
        [
         "20",
         "Toyota",
         "Blue",
         "4.0",
         "16.0",
         "135237.0",
         "18289046169.0",
         "540948.0",
         "2.0"
        ],
        [
         "21",
         "Honda",
         "Black",
         "4.0",
         "16.0",
         "231825.0",
         "53742830625.0",
         "927300.0",
         "4.0"
        ],
        [
         "22",
         "Honda",
         "Blue",
         "4.0",
         "16.0",
         "130319.03314917127",
         "21713631731.453037",
         "515473.16448326054",
         "3.0"
        ],
        [
         "23",
         "Toyota",
         "missing",
         "4.0",
         "16.0",
         "199315.0",
         "39726469225.0",
         "797260.0",
         "3.0"
        ],
        [
         "24",
         "Toyota",
         "Black",
         "4.0",
         "16.0",
         "133433.0",
         "17804365489.0",
         "533732.0",
         "2.0"
        ],
        [
         "25",
         "Toyota",
         "White",
         "4.0",
         "16.0",
         "61623.0",
         "3797394129.0",
         "246492.0",
         "1.0"
        ],
        [
         "26",
         "Toyota",
         "Blue",
         "4.0",
         "16.0",
         "130319.03314917127",
         "21713631731.453037",
         "515473.16448326054",
         "3.0"
        ],
        [
         "27",
         "Honda",
         "White",
         "4.0",
         "16.0",
         "126854.0",
         "16091937316.0",
         "507416.0",
         "2.0"
        ],
        [
         "28",
         "BMW",
         "White",
         "5.0",
         "25.0",
         "192673.0",
         "37122884929.0",
         "963365.0",
         "3.0"
        ],
        [
         "29",
         "Honda",
         "Blue",
         "4.0",
         "16.0",
         "26824.0",
         "719526976.0",
         "107296.0",
         "0.0"
        ],
        [
         "30",
         "Toyota",
         "Red",
         "4.0",
         "16.0",
         "68125.0",
         "4641015625.0",
         "272500.0",
         "1.0"
        ],
        [
         "31",
         "Honda",
         "Blue",
         "4.0",
         "16.0",
         "76252.0",
         "5814367504.0",
         "305008.0",
         "1.0"
        ],
        [
         "32",
         "BMW",
         "White",
         "5.0",
         "25.0",
         "118286.0",
         "13991577796.0",
         "591430.0",
         "2.0"
        ],
        [
         "33",
         "Honda",
         "Blue",
         "4.0",
         "16.0",
         "125819.0",
         "15830420761.0",
         "503276.0",
         "2.0"
        ],
        [
         "34",
         "Toyota",
         "Green",
         "4.0",
         "16.0",
         "61651.0",
         "3800845801.0",
         "246604.0",
         "1.0"
        ],
        [
         "35",
         "Nissan",
         "White",
         "4.0",
         "16.0",
         "167421.0",
         "28029791241.0",
         "669684.0",
         "3.0"
        ],
        [
         "36",
         "Honda",
         "Blue",
         "4.0",
         "16.0",
         "50475.0",
         "2547725625.0",
         "201900.0",
         "1.0"
        ],
        [
         "37",
         "Toyota",
         "White",
         "4.0",
         "16.0",
         "28809.0",
         "829958481.0",
         "115236.0",
         "0.0"
        ],
        [
         "38",
         "Toyota",
         "Blue",
         "4.0",
         "16.0",
         "81864.0",
         "6701714496.0",
         "327456.0",
         "1.0"
        ],
        [
         "39",
         "Toyota",
         "White",
         "4.0",
         "16.0",
         "62712.0",
         "3932794944.0",
         "250848.0",
         "1.0"
        ],
        [
         "40",
         "Nissan",
         "White",
         "4.0",
         "16.0",
         "235952.0",
         "55673346304.0",
         "943808.0",
         "4.0"
        ],
        [
         "41",
         "Toyota",
         "missing",
         "4.0",
         "16.0",
         "73360.0",
         "5381689600.0",
         "293440.0",
         "1.0"
        ],
        [
         "42",
         "Nissan",
         "Blue",
         "4.0",
         "16.0",
         "166938.0",
         "27868295844.0",
         "667752.0",
         "3.0"
        ],
        [
         "43",
         "Honda",
         "Blue",
         "4.0",
         "16.0",
         "247869.0",
         "61439041161.0",
         "991476.0",
         "4.0"
        ],
        [
         "44",
         "Toyota",
         "White",
         "4.0",
         "16.0",
         "122266.0",
         "14948974756.0",
         "489064.0",
         "2.0"
        ],
        [
         "45",
         "Toyota",
         "White",
         "4.0",
         "16.0",
         "112004.0",
         "12544896016.0",
         "448016.0",
         "2.0"
        ],
        [
         "46",
         "BMW",
         "White",
         "5.0",
         "25.0",
         "79937.0",
         "6389923969.0",
         "399685.0",
         "1.0"
        ],
        [
         "47",
         "Honda",
         "missing",
         "4.0",
         "16.0",
         "41846.0",
         "1751087716.0",
         "167384.0",
         "0.0"
        ],
        [
         "48",
         "Toyota",
         "Green",
         "4.0",
         "16.0",
         "165225.0",
         "27299300625.0",
         "660900.0",
         "3.0"
        ],
        [
         "49",
         "Nissan",
         "Red",
         "3.0",
         "9.0",
         "143204.0",
         "20507385616.0",
         "429612.0",
         "2.0"
        ]
       ],
       "shape": {
        "columns": 8,
        "rows": 760
       }
      },
      "text/html": [
       "<div>\n",
       "<style scoped>\n",
       "    .dataframe tbody tr th:only-of-type {\n",
       "        vertical-align: middle;\n",
       "    }\n",
       "\n",
       "    .dataframe tbody tr th {\n",
       "        vertical-align: top;\n",
       "    }\n",
       "\n",
       "    .dataframe thead th {\n",
       "        text-align: right;\n",
       "    }\n",
       "</style>\n",
       "<table border=\"1\" class=\"dataframe\">\n",
       "  <thead>\n",
       "    <tr style=\"text-align: right;\">\n",
       "      <th></th>\n",
       "      <th>Make</th>\n",
       "      <th>Colour</th>\n",
       "      <th>Doors</th>\n",
       "      <th>Doors_Sq</th>\n",
       "      <th>Odometer (KM)</th>\n",
       "      <th>Odometer_Sq</th>\n",
       "      <th>Doors_x_Odometer</th>\n",
       "      <th>Odometer_bin</th>\n",
       "    </tr>\n",
       "  </thead>\n",
       "  <tbody>\n",
       "    <tr>\n",
       "      <th>0</th>\n",
       "      <td>Honda</td>\n",
       "      <td>White</td>\n",
       "      <td>4.0</td>\n",
       "      <td>16.0</td>\n",
       "      <td>71934.0</td>\n",
       "      <td>5174500356.0</td>\n",
       "      <td>287736.0</td>\n",
       "      <td>1.0</td>\n",
       "    </tr>\n",
       "    <tr>\n",
       "      <th>1</th>\n",
       "      <td>Toyota</td>\n",
       "      <td>Red</td>\n",
       "      <td>4.0</td>\n",
       "      <td>16.0</td>\n",
       "      <td>162665.0</td>\n",
       "      <td>26459902225.0</td>\n",
       "      <td>650660.0</td>\n",
       "      <td>3.0</td>\n",
       "    </tr>\n",
       "    <tr>\n",
       "      <th>2</th>\n",
       "      <td>Honda</td>\n",
       "      <td>White</td>\n",
       "      <td>4.0</td>\n",
       "      <td>16.0</td>\n",
       "      <td>42844.0</td>\n",
       "      <td>1835608336.0</td>\n",
       "      <td>171376.0</td>\n",
       "      <td>0.0</td>\n",
       "    </tr>\n",
       "    <tr>\n",
       "      <th>3</th>\n",
       "      <td>Honda</td>\n",
       "      <td>White</td>\n",
       "      <td>4.0</td>\n",
       "      <td>16.0</td>\n",
       "      <td>195829.0</td>\n",
       "      <td>38348997241.0</td>\n",
       "      <td>783316.0</td>\n",
       "      <td>3.0</td>\n",
       "    </tr>\n",
       "    <tr>\n",
       "      <th>4</th>\n",
       "      <td>Honda</td>\n",
       "      <td>Blue</td>\n",
       "      <td>4.0</td>\n",
       "      <td>16.0</td>\n",
       "      <td>219217.0</td>\n",
       "      <td>48056093089.0</td>\n",
       "      <td>876868.0</td>\n",
       "      <td>4.0</td>\n",
       "    </tr>\n",
       "    <tr>\n",
       "      <th>...</th>\n",
       "      <td>...</td>\n",
       "      <td>...</td>\n",
       "      <td>...</td>\n",
       "      <td>...</td>\n",
       "      <td>...</td>\n",
       "      <td>...</td>\n",
       "      <td>...</td>\n",
       "      <td>...</td>\n",
       "    </tr>\n",
       "    <tr>\n",
       "      <th>755</th>\n",
       "      <td>Toyota</td>\n",
       "      <td>missing</td>\n",
       "      <td>4.0</td>\n",
       "      <td>16.0</td>\n",
       "      <td>218803.0</td>\n",
       "      <td>47874752809.0</td>\n",
       "      <td>875212.0</td>\n",
       "      <td>4.0</td>\n",
       "    </tr>\n",
       "    <tr>\n",
       "      <th>756</th>\n",
       "      <td>BMW</td>\n",
       "      <td>Blue</td>\n",
       "      <td>5.0</td>\n",
       "      <td>25.0</td>\n",
       "      <td>245427.0</td>\n",
       "      <td>60234412329.0</td>\n",
       "      <td>1227135.0</td>\n",
       "      <td>4.0</td>\n",
       "    </tr>\n",
       "    <tr>\n",
       "      <th>757</th>\n",
       "      <td>Toyota</td>\n",
       "      <td>White</td>\n",
       "      <td>4.0</td>\n",
       "      <td>16.0</td>\n",
       "      <td>196225.0</td>\n",
       "      <td>38504250625.0</td>\n",
       "      <td>784900.0</td>\n",
       "      <td>3.0</td>\n",
       "    </tr>\n",
       "    <tr>\n",
       "      <th>758</th>\n",
       "      <td>Honda</td>\n",
       "      <td>Blue</td>\n",
       "      <td>4.0</td>\n",
       "      <td>16.0</td>\n",
       "      <td>133117.0</td>\n",
       "      <td>17720135689.0</td>\n",
       "      <td>515473.164483</td>\n",
       "      <td>2.0</td>\n",
       "    </tr>\n",
       "    <tr>\n",
       "      <th>759</th>\n",
       "      <td>Honda</td>\n",
       "      <td>missing</td>\n",
       "      <td>4.0</td>\n",
       "      <td>16.0</td>\n",
       "      <td>150582.0</td>\n",
       "      <td>22674938724.0</td>\n",
       "      <td>515473.164483</td>\n",
       "      <td>3.0</td>\n",
       "    </tr>\n",
       "  </tbody>\n",
       "</table>\n",
       "<p>760 rows × 8 columns</p>\n",
       "</div>"
      ],
      "text/plain": [
       "       Make   Colour Doors Doors_Sq Odometer (KM)    Odometer_Sq  \\\n",
       "0     Honda    White   4.0     16.0       71934.0   5174500356.0   \n",
       "1    Toyota      Red   4.0     16.0      162665.0  26459902225.0   \n",
       "2     Honda    White   4.0     16.0       42844.0   1835608336.0   \n",
       "3     Honda    White   4.0     16.0      195829.0  38348997241.0   \n",
       "4     Honda     Blue   4.0     16.0      219217.0  48056093089.0   \n",
       "..      ...      ...   ...      ...           ...            ...   \n",
       "755  Toyota  missing   4.0     16.0      218803.0  47874752809.0   \n",
       "756     BMW     Blue   5.0     25.0      245427.0  60234412329.0   \n",
       "757  Toyota    White   4.0     16.0      196225.0  38504250625.0   \n",
       "758   Honda     Blue   4.0     16.0      133117.0  17720135689.0   \n",
       "759   Honda  missing   4.0     16.0      150582.0  22674938724.0   \n",
       "\n",
       "    Doors_x_Odometer Odometer_bin  \n",
       "0           287736.0          1.0  \n",
       "1           650660.0          3.0  \n",
       "2           171376.0          0.0  \n",
       "3           783316.0          3.0  \n",
       "4           876868.0          4.0  \n",
       "..               ...          ...  \n",
       "755         875212.0          4.0  \n",
       "756        1227135.0          4.0  \n",
       "757         784900.0          3.0  \n",
       "758    515473.164483          2.0  \n",
       "759    515473.164483          3.0  \n",
       "\n",
       "[760 rows x 8 columns]"
      ]
     },
     "execution_count": 38,
     "metadata": {},
     "output_type": "execute_result"
    }
   ],
   "source": [
    "filled_columns = categorical_features + door_feature + door_feature_sq + numerical_features + odometer_bin_feature\n",
    "X_train_df = pd.DataFrame(filled_X_train, columns=filled_columns)\n",
    "X_test_df = pd.DataFrame(filled_X_test, columns=filled_columns)\n",
    "X_train_df"
   ]
  },
  {
   "cell_type": "code",
   "execution_count": 39,
   "metadata": {},
   "outputs": [
    {
     "data": {
      "application/vnd.microsoft.datawrangler.viewer.v0+json": {
       "columns": [
        {
         "name": "index",
         "rawType": "object",
         "type": "string"
        },
        {
         "name": "0",
         "rawType": "int64",
         "type": "integer"
        }
       ],
       "ref": "7a06d625-a849-4a8d-b304-a80c92b9fc6e",
       "rows": [
        [
         "Make",
         "0"
        ],
        [
         "Colour",
         "0"
        ],
        [
         "Doors",
         "0"
        ],
        [
         "Doors_Sq",
         "0"
        ],
        [
         "Odometer (KM)",
         "0"
        ],
        [
         "Odometer_Sq",
         "0"
        ],
        [
         "Doors_x_Odometer",
         "0"
        ],
        [
         "Odometer_bin",
         "0"
        ]
       ],
       "shape": {
        "columns": 1,
        "rows": 8
       }
      },
      "text/plain": [
       "Make                0\n",
       "Colour              0\n",
       "Doors               0\n",
       "Doors_Sq            0\n",
       "Odometer (KM)       0\n",
       "Odometer_Sq         0\n",
       "Doors_x_Odometer    0\n",
       "Odometer_bin        0\n",
       "dtype: int64"
      ]
     },
     "execution_count": 39,
     "metadata": {},
     "output_type": "execute_result"
    }
   ],
   "source": [
    "X_train_df.isna().sum()"
   ]
  },
  {
   "cell_type": "code",
   "execution_count": 40,
   "metadata": {},
   "outputs": [
    {
     "data": {
      "application/vnd.microsoft.datawrangler.viewer.v0+json": {
       "columns": [
        {
         "name": "index",
         "rawType": "object",
         "type": "string"
        },
        {
         "name": "0",
         "rawType": "int64",
         "type": "integer"
        }
       ],
       "ref": "2c5148ca-1c2d-4986-8690-a760a0f071ba",
       "rows": [
        [
         "Make",
         "0"
        ],
        [
         "Colour",
         "0"
        ],
        [
         "Doors",
         "0"
        ],
        [
         "Doors_Sq",
         "0"
        ],
        [
         "Odometer (KM)",
         "0"
        ],
        [
         "Odometer_Sq",
         "0"
        ],
        [
         "Doors_x_Odometer",
         "0"
        ],
        [
         "Odometer_bin",
         "0"
        ]
       ],
       "shape": {
        "columns": 1,
        "rows": 8
       }
      },
      "text/plain": [
       "Make                0\n",
       "Colour              0\n",
       "Doors               0\n",
       "Doors_Sq            0\n",
       "Odometer (KM)       0\n",
       "Odometer_Sq         0\n",
       "Doors_x_Odometer    0\n",
       "Odometer_bin        0\n",
       "dtype: int64"
      ]
     },
     "execution_count": 40,
     "metadata": {},
     "output_type": "execute_result"
    }
   ],
   "source": [
    "X_test_df.isna().sum()"
   ]
  },
  {
   "cell_type": "code",
   "execution_count": 41,
   "metadata": {},
   "outputs": [],
   "source": [
    "from sklearn.preprocessing import OneHotEncoder\n",
    "\n",
    "# Erneute Definition der kategorialen Spalten:\n",
    "categorical_features = [\"Make\", \"Colour\", \"Doors\", \"Doors_Sq\", \"Odometer_bin\"]\n",
    "\n",
    "# Initialisierung des OneHotEncoders:\n",
    "one_hot = OneHotEncoder()\n",
    "\n",
    "transformer = ColumnTransformer([\n",
    "    (\"one_hot\", one_hot, categorical_features)],\n",
    "    remainder=\"passthrough\")\n",
    "\n",
    "X_train_transformed = transformer.fit_transform(X_train_df)\n",
    "X_test_transformed = transformer.transform(X_test_df)"
   ]
  },
  {
   "cell_type": "code",
   "execution_count": 42,
   "metadata": {},
   "outputs": [],
   "source": [
    "# Hole die Namen der kategorischen Spalten nach dem One-Hot-Encoding:\n",
    "one_hot_feature_names = transformer.named_transformers_[\"one_hot\"].get_feature_names_out(categorical_features)\n",
    "# Alle Spaltennamen holen (one-hot + \"remainder\" passthrough):\n",
    "all_feature_names = list(one_hot_feature_names) + list(X_train_df.drop(columns=categorical_features).columns)"
   ]
  },
  {
   "cell_type": "code",
   "execution_count": 43,
   "metadata": {},
   "outputs": [
    {
     "data": {
      "text/plain": [
       "array([[0.0, 0.0, 0.0, ..., 99761.0, 9952257121.0, 399044.0],\n",
       "       [0.0, 0.0, 0.0, ..., 17975.0, 323100625.0, 71900.0],\n",
       "       [0.0, 1.0, 0.0, ..., 197664.0, 39071056896.0, 790656.0],\n",
       "       ...,\n",
       "       [0.0, 0.0, 0.0, ..., 108569.0, 11787227761.0, 515473.16448326054],\n",
       "       [1.0, 0.0, 0.0, ..., 201190.0, 40477416100.0, 603570.0],\n",
       "       [0.0, 1.0, 0.0, ..., 61163.0, 3740912569.0, 244652.0]],\n",
       "      shape=(190, 25), dtype=object)"
      ]
     },
     "execution_count": 43,
     "metadata": {},
     "output_type": "execute_result"
    }
   ],
   "source": [
    "# Jetzt die DataFrames:\n",
    "X_train_df_transformed = pd.DataFrame(X_train_transformed, columns=all_feature_names)\n",
    "X_test_df_transformed = pd.DataFrame(X_test_transformed, columns=all_feature_names)\n",
    "\n",
    "X_test_transformed"
   ]
  },
  {
   "cell_type": "code",
   "execution_count": 44,
   "metadata": {},
   "outputs": [
    {
     "data": {
      "application/vnd.microsoft.datawrangler.viewer.v0+json": {
       "columns": [
        {
         "name": "index",
         "rawType": "int64",
         "type": "integer"
        },
        {
         "name": "Make_BMW",
         "rawType": "object",
         "type": "unknown"
        },
        {
         "name": "Make_Honda",
         "rawType": "object",
         "type": "unknown"
        },
        {
         "name": "Make_Nissan",
         "rawType": "object",
         "type": "unknown"
        },
        {
         "name": "Make_Toyota",
         "rawType": "object",
         "type": "unknown"
        },
        {
         "name": "Make_missing",
         "rawType": "object",
         "type": "unknown"
        },
        {
         "name": "Colour_Black",
         "rawType": "object",
         "type": "unknown"
        },
        {
         "name": "Colour_Blue",
         "rawType": "object",
         "type": "unknown"
        },
        {
         "name": "Colour_Green",
         "rawType": "object",
         "type": "unknown"
        },
        {
         "name": "Colour_Red",
         "rawType": "object",
         "type": "unknown"
        },
        {
         "name": "Colour_White",
         "rawType": "object",
         "type": "unknown"
        },
        {
         "name": "Colour_missing",
         "rawType": "object",
         "type": "unknown"
        },
        {
         "name": "Doors_3.0",
         "rawType": "object",
         "type": "unknown"
        },
        {
         "name": "Doors_4.0",
         "rawType": "object",
         "type": "unknown"
        },
        {
         "name": "Doors_5.0",
         "rawType": "object",
         "type": "unknown"
        },
        {
         "name": "Doors_Sq_9.0",
         "rawType": "object",
         "type": "unknown"
        },
        {
         "name": "Doors_Sq_16.0",
         "rawType": "object",
         "type": "unknown"
        },
        {
         "name": "Doors_Sq_25.0",
         "rawType": "object",
         "type": "unknown"
        },
        {
         "name": "Odometer_bin_0.0",
         "rawType": "object",
         "type": "unknown"
        },
        {
         "name": "Odometer_bin_1.0",
         "rawType": "object",
         "type": "unknown"
        },
        {
         "name": "Odometer_bin_2.0",
         "rawType": "object",
         "type": "unknown"
        },
        {
         "name": "Odometer_bin_3.0",
         "rawType": "object",
         "type": "unknown"
        },
        {
         "name": "Odometer_bin_4.0",
         "rawType": "object",
         "type": "unknown"
        },
        {
         "name": "Odometer (KM)",
         "rawType": "object",
         "type": "unknown"
        },
        {
         "name": "Odometer_Sq",
         "rawType": "object",
         "type": "unknown"
        },
        {
         "name": "Doors_x_Odometer",
         "rawType": "object",
         "type": "unknown"
        }
       ],
       "ref": "c45273fd-aca0-4aa8-81b6-7ec700e994a1",
       "rows": [
        [
         "0",
         "0.0",
         "1.0",
         "0.0",
         "0.0",
         "0.0",
         "0.0",
         "0.0",
         "0.0",
         "0.0",
         "1.0",
         "0.0",
         "0.0",
         "1.0",
         "0.0",
         "0.0",
         "1.0",
         "0.0",
         "0.0",
         "1.0",
         "0.0",
         "0.0",
         "0.0",
         "71934.0",
         "5174500356.0",
         "287736.0"
        ],
        [
         "1",
         "0.0",
         "0.0",
         "0.0",
         "1.0",
         "0.0",
         "0.0",
         "0.0",
         "0.0",
         "1.0",
         "0.0",
         "0.0",
         "0.0",
         "1.0",
         "0.0",
         "0.0",
         "1.0",
         "0.0",
         "0.0",
         "0.0",
         "0.0",
         "1.0",
         "0.0",
         "162665.0",
         "26459902225.0",
         "650660.0"
        ],
        [
         "2",
         "0.0",
         "1.0",
         "0.0",
         "0.0",
         "0.0",
         "0.0",
         "0.0",
         "0.0",
         "0.0",
         "1.0",
         "0.0",
         "0.0",
         "1.0",
         "0.0",
         "0.0",
         "1.0",
         "0.0",
         "1.0",
         "0.0",
         "0.0",
         "0.0",
         "0.0",
         "42844.0",
         "1835608336.0",
         "171376.0"
        ],
        [
         "3",
         "0.0",
         "1.0",
         "0.0",
         "0.0",
         "0.0",
         "0.0",
         "0.0",
         "0.0",
         "0.0",
         "1.0",
         "0.0",
         "0.0",
         "1.0",
         "0.0",
         "0.0",
         "1.0",
         "0.0",
         "0.0",
         "0.0",
         "0.0",
         "1.0",
         "0.0",
         "195829.0",
         "38348997241.0",
         "783316.0"
        ],
        [
         "4",
         "0.0",
         "1.0",
         "0.0",
         "0.0",
         "0.0",
         "0.0",
         "1.0",
         "0.0",
         "0.0",
         "0.0",
         "0.0",
         "0.0",
         "1.0",
         "0.0",
         "0.0",
         "1.0",
         "0.0",
         "0.0",
         "0.0",
         "0.0",
         "0.0",
         "1.0",
         "219217.0",
         "48056093089.0",
         "876868.0"
        ],
        [
         "5",
         "0.0",
         "0.0",
         "0.0",
         "0.0",
         "1.0",
         "0.0",
         "0.0",
         "0.0",
         "0.0",
         "1.0",
         "0.0",
         "0.0",
         "1.0",
         "0.0",
         "0.0",
         "1.0",
         "0.0",
         "0.0",
         "0.0",
         "1.0",
         "0.0",
         "0.0",
         "126669.0",
         "16045035561.0",
         "506676.0"
        ],
        [
         "6",
         "0.0",
         "0.0",
         "0.0",
         "1.0",
         "0.0",
         "0.0",
         "1.0",
         "0.0",
         "0.0",
         "0.0",
         "0.0",
         "0.0",
         "1.0",
         "0.0",
         "0.0",
         "1.0",
         "0.0",
         "0.0",
         "1.0",
         "0.0",
         "0.0",
         "0.0",
         "76416.0",
         "5839405056.0",
         "305664.0"
        ],
        [
         "7",
         "0.0",
         "0.0",
         "1.0",
         "0.0",
         "0.0",
         "0.0",
         "0.0",
         "0.0",
         "0.0",
         "1.0",
         "0.0",
         "0.0",
         "1.0",
         "0.0",
         "0.0",
         "1.0",
         "0.0",
         "0.0",
         "0.0",
         "1.0",
         "0.0",
         "0.0",
         "114699.0",
         "13155860601.0",
         "458796.0"
        ],
        [
         "8",
         "0.0",
         "0.0",
         "1.0",
         "0.0",
         "0.0",
         "0.0",
         "1.0",
         "0.0",
         "0.0",
         "0.0",
         "0.0",
         "1.0",
         "0.0",
         "0.0",
         "1.0",
         "0.0",
         "0.0",
         "0.0",
         "0.0",
         "0.0",
         "1.0",
         "0.0",
         "180021.0",
         "32407560441.0",
         "540063.0"
        ],
        [
         "9",
         "0.0",
         "1.0",
         "0.0",
         "0.0",
         "0.0",
         "0.0",
         "1.0",
         "0.0",
         "0.0",
         "0.0",
         "0.0",
         "0.0",
         "1.0",
         "0.0",
         "0.0",
         "1.0",
         "0.0",
         "1.0",
         "0.0",
         "0.0",
         "0.0",
         "0.0",
         "28561.0",
         "815730721.0",
         "114244.0"
        ],
        [
         "10",
         "0.0",
         "0.0",
         "0.0",
         "1.0",
         "0.0",
         "0.0",
         "1.0",
         "0.0",
         "0.0",
         "0.0",
         "0.0",
         "0.0",
         "1.0",
         "0.0",
         "0.0",
         "1.0",
         "0.0",
         "0.0",
         "1.0",
         "0.0",
         "0.0",
         "0.0",
         "61337.0",
         "3762227569.0",
         "245348.0"
        ],
        [
         "11",
         "0.0",
         "1.0",
         "0.0",
         "0.0",
         "0.0",
         "0.0",
         "0.0",
         "0.0",
         "0.0",
         "1.0",
         "0.0",
         "0.0",
         "1.0",
         "0.0",
         "0.0",
         "1.0",
         "0.0",
         "0.0",
         "0.0",
         "0.0",
         "1.0",
         "0.0",
         "130319.03314917127",
         "21713631731.453037",
         "515473.16448326054"
        ],
        [
         "12",
         "0.0",
         "0.0",
         "0.0",
         "1.0",
         "0.0",
         "0.0",
         "1.0",
         "0.0",
         "0.0",
         "0.0",
         "0.0",
         "0.0",
         "1.0",
         "0.0",
         "0.0",
         "1.0",
         "0.0",
         "0.0",
         "0.0",
         "1.0",
         "0.0",
         "0.0",
         "119745.0",
         "14338865025.0",
         "478980.0"
        ],
        [
         "13",
         "0.0",
         "1.0",
         "0.0",
         "0.0",
         "0.0",
         "0.0",
         "0.0",
         "0.0",
         "0.0",
         "1.0",
         "0.0",
         "0.0",
         "1.0",
         "0.0",
         "0.0",
         "1.0",
         "0.0",
         "0.0",
         "1.0",
         "0.0",
         "0.0",
         "0.0",
         "84714.0",
         "7176461796.0",
         "338856.0"
        ],
        [
         "14",
         "0.0",
         "0.0",
         "0.0",
         "1.0",
         "0.0",
         "0.0",
         "0.0",
         "0.0",
         "0.0",
         "1.0",
         "0.0",
         "0.0",
         "1.0",
         "0.0",
         "0.0",
         "1.0",
         "0.0",
         "0.0",
         "0.0",
         "0.0",
         "0.0",
         "1.0",
         "224657.0",
         "50470767649.0",
         "898628.0"
        ],
        [
         "15",
         "0.0",
         "0.0",
         "0.0",
         "1.0",
         "0.0",
         "0.0",
         "0.0",
         "0.0",
         "0.0",
         "1.0",
         "0.0",
         "0.0",
         "1.0",
         "0.0",
         "0.0",
         "1.0",
         "0.0",
         "0.0",
         "0.0",
         "0.0",
         "0.0",
         "1.0",
         "245977.0",
         "60504684529.0",
         "983908.0"
        ],
        [
         "16",
         "0.0",
         "0.0",
         "0.0",
         "1.0",
         "0.0",
         "0.0",
         "1.0",
         "0.0",
         "0.0",
         "0.0",
         "0.0",
         "0.0",
         "1.0",
         "0.0",
         "0.0",
         "1.0",
         "0.0",
         "0.0",
         "1.0",
         "0.0",
         "0.0",
         "0.0",
         "71306.0",
         "5084545636.0",
         "285224.0"
        ],
        [
         "17",
         "0.0",
         "1.0",
         "0.0",
         "0.0",
         "0.0",
         "0.0",
         "0.0",
         "0.0",
         "0.0",
         "0.0",
         "1.0",
         "0.0",
         "1.0",
         "0.0",
         "0.0",
         "1.0",
         "0.0",
         "0.0",
         "0.0",
         "1.0",
         "0.0",
         "0.0",
         "102032.0",
         "10410529024.0",
         "408128.0"
        ],
        [
         "18",
         "0.0",
         "1.0",
         "0.0",
         "0.0",
         "0.0",
         "0.0",
         "0.0",
         "0.0",
         "1.0",
         "0.0",
         "0.0",
         "0.0",
         "1.0",
         "0.0",
         "0.0",
         "1.0",
         "0.0",
         "1.0",
         "0.0",
         "0.0",
         "0.0",
         "0.0",
         "42652.0",
         "1819193104.0",
         "170608.0"
        ],
        [
         "19",
         "0.0",
         "0.0",
         "0.0",
         "0.0",
         "1.0",
         "0.0",
         "0.0",
         "0.0",
         "0.0",
         "1.0",
         "0.0",
         "0.0",
         "1.0",
         "0.0",
         "0.0",
         "1.0",
         "0.0",
         "0.0",
         "0.0",
         "1.0",
         "0.0",
         "0.0",
         "109384.0",
         "11964859456.0",
         "437536.0"
        ],
        [
         "20",
         "0.0",
         "0.0",
         "0.0",
         "1.0",
         "0.0",
         "0.0",
         "1.0",
         "0.0",
         "0.0",
         "0.0",
         "0.0",
         "0.0",
         "1.0",
         "0.0",
         "0.0",
         "1.0",
         "0.0",
         "0.0",
         "0.0",
         "1.0",
         "0.0",
         "0.0",
         "135237.0",
         "18289046169.0",
         "540948.0"
        ],
        [
         "21",
         "0.0",
         "1.0",
         "0.0",
         "0.0",
         "0.0",
         "1.0",
         "0.0",
         "0.0",
         "0.0",
         "0.0",
         "0.0",
         "0.0",
         "1.0",
         "0.0",
         "0.0",
         "1.0",
         "0.0",
         "0.0",
         "0.0",
         "0.0",
         "0.0",
         "1.0",
         "231825.0",
         "53742830625.0",
         "927300.0"
        ],
        [
         "22",
         "0.0",
         "1.0",
         "0.0",
         "0.0",
         "0.0",
         "0.0",
         "1.0",
         "0.0",
         "0.0",
         "0.0",
         "0.0",
         "0.0",
         "1.0",
         "0.0",
         "0.0",
         "1.0",
         "0.0",
         "0.0",
         "0.0",
         "0.0",
         "1.0",
         "0.0",
         "130319.03314917127",
         "21713631731.453037",
         "515473.16448326054"
        ],
        [
         "23",
         "0.0",
         "0.0",
         "0.0",
         "1.0",
         "0.0",
         "0.0",
         "0.0",
         "0.0",
         "0.0",
         "0.0",
         "1.0",
         "0.0",
         "1.0",
         "0.0",
         "0.0",
         "1.0",
         "0.0",
         "0.0",
         "0.0",
         "0.0",
         "1.0",
         "0.0",
         "199315.0",
         "39726469225.0",
         "797260.0"
        ],
        [
         "24",
         "0.0",
         "0.0",
         "0.0",
         "1.0",
         "0.0",
         "1.0",
         "0.0",
         "0.0",
         "0.0",
         "0.0",
         "0.0",
         "0.0",
         "1.0",
         "0.0",
         "0.0",
         "1.0",
         "0.0",
         "0.0",
         "0.0",
         "1.0",
         "0.0",
         "0.0",
         "133433.0",
         "17804365489.0",
         "533732.0"
        ],
        [
         "25",
         "0.0",
         "0.0",
         "0.0",
         "1.0",
         "0.0",
         "0.0",
         "0.0",
         "0.0",
         "0.0",
         "1.0",
         "0.0",
         "0.0",
         "1.0",
         "0.0",
         "0.0",
         "1.0",
         "0.0",
         "0.0",
         "1.0",
         "0.0",
         "0.0",
         "0.0",
         "61623.0",
         "3797394129.0",
         "246492.0"
        ],
        [
         "26",
         "0.0",
         "0.0",
         "0.0",
         "1.0",
         "0.0",
         "0.0",
         "1.0",
         "0.0",
         "0.0",
         "0.0",
         "0.0",
         "0.0",
         "1.0",
         "0.0",
         "0.0",
         "1.0",
         "0.0",
         "0.0",
         "0.0",
         "0.0",
         "1.0",
         "0.0",
         "130319.03314917127",
         "21713631731.453037",
         "515473.16448326054"
        ],
        [
         "27",
         "0.0",
         "1.0",
         "0.0",
         "0.0",
         "0.0",
         "0.0",
         "0.0",
         "0.0",
         "0.0",
         "1.0",
         "0.0",
         "0.0",
         "1.0",
         "0.0",
         "0.0",
         "1.0",
         "0.0",
         "0.0",
         "0.0",
         "1.0",
         "0.0",
         "0.0",
         "126854.0",
         "16091937316.0",
         "507416.0"
        ],
        [
         "28",
         "1.0",
         "0.0",
         "0.0",
         "0.0",
         "0.0",
         "0.0",
         "0.0",
         "0.0",
         "0.0",
         "1.0",
         "0.0",
         "0.0",
         "0.0",
         "1.0",
         "0.0",
         "0.0",
         "1.0",
         "0.0",
         "0.0",
         "0.0",
         "1.0",
         "0.0",
         "192673.0",
         "37122884929.0",
         "963365.0"
        ],
        [
         "29",
         "0.0",
         "1.0",
         "0.0",
         "0.0",
         "0.0",
         "0.0",
         "1.0",
         "0.0",
         "0.0",
         "0.0",
         "0.0",
         "0.0",
         "1.0",
         "0.0",
         "0.0",
         "1.0",
         "0.0",
         "1.0",
         "0.0",
         "0.0",
         "0.0",
         "0.0",
         "26824.0",
         "719526976.0",
         "107296.0"
        ],
        [
         "30",
         "0.0",
         "0.0",
         "0.0",
         "1.0",
         "0.0",
         "0.0",
         "0.0",
         "0.0",
         "1.0",
         "0.0",
         "0.0",
         "0.0",
         "1.0",
         "0.0",
         "0.0",
         "1.0",
         "0.0",
         "0.0",
         "1.0",
         "0.0",
         "0.0",
         "0.0",
         "68125.0",
         "4641015625.0",
         "272500.0"
        ],
        [
         "31",
         "0.0",
         "1.0",
         "0.0",
         "0.0",
         "0.0",
         "0.0",
         "1.0",
         "0.0",
         "0.0",
         "0.0",
         "0.0",
         "0.0",
         "1.0",
         "0.0",
         "0.0",
         "1.0",
         "0.0",
         "0.0",
         "1.0",
         "0.0",
         "0.0",
         "0.0",
         "76252.0",
         "5814367504.0",
         "305008.0"
        ],
        [
         "32",
         "1.0",
         "0.0",
         "0.0",
         "0.0",
         "0.0",
         "0.0",
         "0.0",
         "0.0",
         "0.0",
         "1.0",
         "0.0",
         "0.0",
         "0.0",
         "1.0",
         "0.0",
         "0.0",
         "1.0",
         "0.0",
         "0.0",
         "1.0",
         "0.0",
         "0.0",
         "118286.0",
         "13991577796.0",
         "591430.0"
        ],
        [
         "33",
         "0.0",
         "1.0",
         "0.0",
         "0.0",
         "0.0",
         "0.0",
         "1.0",
         "0.0",
         "0.0",
         "0.0",
         "0.0",
         "0.0",
         "1.0",
         "0.0",
         "0.0",
         "1.0",
         "0.0",
         "0.0",
         "0.0",
         "1.0",
         "0.0",
         "0.0",
         "125819.0",
         "15830420761.0",
         "503276.0"
        ],
        [
         "34",
         "0.0",
         "0.0",
         "0.0",
         "1.0",
         "0.0",
         "0.0",
         "0.0",
         "1.0",
         "0.0",
         "0.0",
         "0.0",
         "0.0",
         "1.0",
         "0.0",
         "0.0",
         "1.0",
         "0.0",
         "0.0",
         "1.0",
         "0.0",
         "0.0",
         "0.0",
         "61651.0",
         "3800845801.0",
         "246604.0"
        ],
        [
         "35",
         "0.0",
         "0.0",
         "1.0",
         "0.0",
         "0.0",
         "0.0",
         "0.0",
         "0.0",
         "0.0",
         "1.0",
         "0.0",
         "0.0",
         "1.0",
         "0.0",
         "0.0",
         "1.0",
         "0.0",
         "0.0",
         "0.0",
         "0.0",
         "1.0",
         "0.0",
         "167421.0",
         "28029791241.0",
         "669684.0"
        ],
        [
         "36",
         "0.0",
         "1.0",
         "0.0",
         "0.0",
         "0.0",
         "0.0",
         "1.0",
         "0.0",
         "0.0",
         "0.0",
         "0.0",
         "0.0",
         "1.0",
         "0.0",
         "0.0",
         "1.0",
         "0.0",
         "0.0",
         "1.0",
         "0.0",
         "0.0",
         "0.0",
         "50475.0",
         "2547725625.0",
         "201900.0"
        ],
        [
         "37",
         "0.0",
         "0.0",
         "0.0",
         "1.0",
         "0.0",
         "0.0",
         "0.0",
         "0.0",
         "0.0",
         "1.0",
         "0.0",
         "0.0",
         "1.0",
         "0.0",
         "0.0",
         "1.0",
         "0.0",
         "1.0",
         "0.0",
         "0.0",
         "0.0",
         "0.0",
         "28809.0",
         "829958481.0",
         "115236.0"
        ],
        [
         "38",
         "0.0",
         "0.0",
         "0.0",
         "1.0",
         "0.0",
         "0.0",
         "1.0",
         "0.0",
         "0.0",
         "0.0",
         "0.0",
         "0.0",
         "1.0",
         "0.0",
         "0.0",
         "1.0",
         "0.0",
         "0.0",
         "1.0",
         "0.0",
         "0.0",
         "0.0",
         "81864.0",
         "6701714496.0",
         "327456.0"
        ],
        [
         "39",
         "0.0",
         "0.0",
         "0.0",
         "1.0",
         "0.0",
         "0.0",
         "0.0",
         "0.0",
         "0.0",
         "1.0",
         "0.0",
         "0.0",
         "1.0",
         "0.0",
         "0.0",
         "1.0",
         "0.0",
         "0.0",
         "1.0",
         "0.0",
         "0.0",
         "0.0",
         "62712.0",
         "3932794944.0",
         "250848.0"
        ],
        [
         "40",
         "0.0",
         "0.0",
         "1.0",
         "0.0",
         "0.0",
         "0.0",
         "0.0",
         "0.0",
         "0.0",
         "1.0",
         "0.0",
         "0.0",
         "1.0",
         "0.0",
         "0.0",
         "1.0",
         "0.0",
         "0.0",
         "0.0",
         "0.0",
         "0.0",
         "1.0",
         "235952.0",
         "55673346304.0",
         "943808.0"
        ],
        [
         "41",
         "0.0",
         "0.0",
         "0.0",
         "1.0",
         "0.0",
         "0.0",
         "0.0",
         "0.0",
         "0.0",
         "0.0",
         "1.0",
         "0.0",
         "1.0",
         "0.0",
         "0.0",
         "1.0",
         "0.0",
         "0.0",
         "1.0",
         "0.0",
         "0.0",
         "0.0",
         "73360.0",
         "5381689600.0",
         "293440.0"
        ],
        [
         "42",
         "0.0",
         "0.0",
         "1.0",
         "0.0",
         "0.0",
         "0.0",
         "1.0",
         "0.0",
         "0.0",
         "0.0",
         "0.0",
         "0.0",
         "1.0",
         "0.0",
         "0.0",
         "1.0",
         "0.0",
         "0.0",
         "0.0",
         "0.0",
         "1.0",
         "0.0",
         "166938.0",
         "27868295844.0",
         "667752.0"
        ],
        [
         "43",
         "0.0",
         "1.0",
         "0.0",
         "0.0",
         "0.0",
         "0.0",
         "1.0",
         "0.0",
         "0.0",
         "0.0",
         "0.0",
         "0.0",
         "1.0",
         "0.0",
         "0.0",
         "1.0",
         "0.0",
         "0.0",
         "0.0",
         "0.0",
         "0.0",
         "1.0",
         "247869.0",
         "61439041161.0",
         "991476.0"
        ],
        [
         "44",
         "0.0",
         "0.0",
         "0.0",
         "1.0",
         "0.0",
         "0.0",
         "0.0",
         "0.0",
         "0.0",
         "1.0",
         "0.0",
         "0.0",
         "1.0",
         "0.0",
         "0.0",
         "1.0",
         "0.0",
         "0.0",
         "0.0",
         "1.0",
         "0.0",
         "0.0",
         "122266.0",
         "14948974756.0",
         "489064.0"
        ],
        [
         "45",
         "0.0",
         "0.0",
         "0.0",
         "1.0",
         "0.0",
         "0.0",
         "0.0",
         "0.0",
         "0.0",
         "1.0",
         "0.0",
         "0.0",
         "1.0",
         "0.0",
         "0.0",
         "1.0",
         "0.0",
         "0.0",
         "0.0",
         "1.0",
         "0.0",
         "0.0",
         "112004.0",
         "12544896016.0",
         "448016.0"
        ],
        [
         "46",
         "1.0",
         "0.0",
         "0.0",
         "0.0",
         "0.0",
         "0.0",
         "0.0",
         "0.0",
         "0.0",
         "1.0",
         "0.0",
         "0.0",
         "0.0",
         "1.0",
         "0.0",
         "0.0",
         "1.0",
         "0.0",
         "1.0",
         "0.0",
         "0.0",
         "0.0",
         "79937.0",
         "6389923969.0",
         "399685.0"
        ],
        [
         "47",
         "0.0",
         "1.0",
         "0.0",
         "0.0",
         "0.0",
         "0.0",
         "0.0",
         "0.0",
         "0.0",
         "0.0",
         "1.0",
         "0.0",
         "1.0",
         "0.0",
         "0.0",
         "1.0",
         "0.0",
         "1.0",
         "0.0",
         "0.0",
         "0.0",
         "0.0",
         "41846.0",
         "1751087716.0",
         "167384.0"
        ],
        [
         "48",
         "0.0",
         "0.0",
         "0.0",
         "1.0",
         "0.0",
         "0.0",
         "0.0",
         "1.0",
         "0.0",
         "0.0",
         "0.0",
         "0.0",
         "1.0",
         "0.0",
         "0.0",
         "1.0",
         "0.0",
         "0.0",
         "0.0",
         "0.0",
         "1.0",
         "0.0",
         "165225.0",
         "27299300625.0",
         "660900.0"
        ],
        [
         "49",
         "0.0",
         "0.0",
         "1.0",
         "0.0",
         "0.0",
         "0.0",
         "0.0",
         "0.0",
         "1.0",
         "0.0",
         "0.0",
         "1.0",
         "0.0",
         "0.0",
         "1.0",
         "0.0",
         "0.0",
         "0.0",
         "0.0",
         "1.0",
         "0.0",
         "0.0",
         "143204.0",
         "20507385616.0",
         "429612.0"
        ]
       ],
       "shape": {
        "columns": 25,
        "rows": 760
       }
      },
      "text/html": [
       "<div>\n",
       "<style scoped>\n",
       "    .dataframe tbody tr th:only-of-type {\n",
       "        vertical-align: middle;\n",
       "    }\n",
       "\n",
       "    .dataframe tbody tr th {\n",
       "        vertical-align: top;\n",
       "    }\n",
       "\n",
       "    .dataframe thead th {\n",
       "        text-align: right;\n",
       "    }\n",
       "</style>\n",
       "<table border=\"1\" class=\"dataframe\">\n",
       "  <thead>\n",
       "    <tr style=\"text-align: right;\">\n",
       "      <th></th>\n",
       "      <th>Make_BMW</th>\n",
       "      <th>Make_Honda</th>\n",
       "      <th>Make_Nissan</th>\n",
       "      <th>Make_Toyota</th>\n",
       "      <th>Make_missing</th>\n",
       "      <th>Colour_Black</th>\n",
       "      <th>Colour_Blue</th>\n",
       "      <th>Colour_Green</th>\n",
       "      <th>Colour_Red</th>\n",
       "      <th>Colour_White</th>\n",
       "      <th>...</th>\n",
       "      <th>Doors_Sq_16.0</th>\n",
       "      <th>Doors_Sq_25.0</th>\n",
       "      <th>Odometer_bin_0.0</th>\n",
       "      <th>Odometer_bin_1.0</th>\n",
       "      <th>Odometer_bin_2.0</th>\n",
       "      <th>Odometer_bin_3.0</th>\n",
       "      <th>Odometer_bin_4.0</th>\n",
       "      <th>Odometer (KM)</th>\n",
       "      <th>Odometer_Sq</th>\n",
       "      <th>Doors_x_Odometer</th>\n",
       "    </tr>\n",
       "  </thead>\n",
       "  <tbody>\n",
       "    <tr>\n",
       "      <th>0</th>\n",
       "      <td>0.0</td>\n",
       "      <td>1.0</td>\n",
       "      <td>0.0</td>\n",
       "      <td>0.0</td>\n",
       "      <td>0.0</td>\n",
       "      <td>0.0</td>\n",
       "      <td>0.0</td>\n",
       "      <td>0.0</td>\n",
       "      <td>0.0</td>\n",
       "      <td>1.0</td>\n",
       "      <td>...</td>\n",
       "      <td>1.0</td>\n",
       "      <td>0.0</td>\n",
       "      <td>0.0</td>\n",
       "      <td>1.0</td>\n",
       "      <td>0.0</td>\n",
       "      <td>0.0</td>\n",
       "      <td>0.0</td>\n",
       "      <td>71934.0</td>\n",
       "      <td>5174500356.0</td>\n",
       "      <td>287736.0</td>\n",
       "    </tr>\n",
       "    <tr>\n",
       "      <th>1</th>\n",
       "      <td>0.0</td>\n",
       "      <td>0.0</td>\n",
       "      <td>0.0</td>\n",
       "      <td>1.0</td>\n",
       "      <td>0.0</td>\n",
       "      <td>0.0</td>\n",
       "      <td>0.0</td>\n",
       "      <td>0.0</td>\n",
       "      <td>1.0</td>\n",
       "      <td>0.0</td>\n",
       "      <td>...</td>\n",
       "      <td>1.0</td>\n",
       "      <td>0.0</td>\n",
       "      <td>0.0</td>\n",
       "      <td>0.0</td>\n",
       "      <td>0.0</td>\n",
       "      <td>1.0</td>\n",
       "      <td>0.0</td>\n",
       "      <td>162665.0</td>\n",
       "      <td>26459902225.0</td>\n",
       "      <td>650660.0</td>\n",
       "    </tr>\n",
       "    <tr>\n",
       "      <th>2</th>\n",
       "      <td>0.0</td>\n",
       "      <td>1.0</td>\n",
       "      <td>0.0</td>\n",
       "      <td>0.0</td>\n",
       "      <td>0.0</td>\n",
       "      <td>0.0</td>\n",
       "      <td>0.0</td>\n",
       "      <td>0.0</td>\n",
       "      <td>0.0</td>\n",
       "      <td>1.0</td>\n",
       "      <td>...</td>\n",
       "      <td>1.0</td>\n",
       "      <td>0.0</td>\n",
       "      <td>1.0</td>\n",
       "      <td>0.0</td>\n",
       "      <td>0.0</td>\n",
       "      <td>0.0</td>\n",
       "      <td>0.0</td>\n",
       "      <td>42844.0</td>\n",
       "      <td>1835608336.0</td>\n",
       "      <td>171376.0</td>\n",
       "    </tr>\n",
       "    <tr>\n",
       "      <th>3</th>\n",
       "      <td>0.0</td>\n",
       "      <td>1.0</td>\n",
       "      <td>0.0</td>\n",
       "      <td>0.0</td>\n",
       "      <td>0.0</td>\n",
       "      <td>0.0</td>\n",
       "      <td>0.0</td>\n",
       "      <td>0.0</td>\n",
       "      <td>0.0</td>\n",
       "      <td>1.0</td>\n",
       "      <td>...</td>\n",
       "      <td>1.0</td>\n",
       "      <td>0.0</td>\n",
       "      <td>0.0</td>\n",
       "      <td>0.0</td>\n",
       "      <td>0.0</td>\n",
       "      <td>1.0</td>\n",
       "      <td>0.0</td>\n",
       "      <td>195829.0</td>\n",
       "      <td>38348997241.0</td>\n",
       "      <td>783316.0</td>\n",
       "    </tr>\n",
       "    <tr>\n",
       "      <th>4</th>\n",
       "      <td>0.0</td>\n",
       "      <td>1.0</td>\n",
       "      <td>0.0</td>\n",
       "      <td>0.0</td>\n",
       "      <td>0.0</td>\n",
       "      <td>0.0</td>\n",
       "      <td>1.0</td>\n",
       "      <td>0.0</td>\n",
       "      <td>0.0</td>\n",
       "      <td>0.0</td>\n",
       "      <td>...</td>\n",
       "      <td>1.0</td>\n",
       "      <td>0.0</td>\n",
       "      <td>0.0</td>\n",
       "      <td>0.0</td>\n",
       "      <td>0.0</td>\n",
       "      <td>0.0</td>\n",
       "      <td>1.0</td>\n",
       "      <td>219217.0</td>\n",
       "      <td>48056093089.0</td>\n",
       "      <td>876868.0</td>\n",
       "    </tr>\n",
       "    <tr>\n",
       "      <th>...</th>\n",
       "      <td>...</td>\n",
       "      <td>...</td>\n",
       "      <td>...</td>\n",
       "      <td>...</td>\n",
       "      <td>...</td>\n",
       "      <td>...</td>\n",
       "      <td>...</td>\n",
       "      <td>...</td>\n",
       "      <td>...</td>\n",
       "      <td>...</td>\n",
       "      <td>...</td>\n",
       "      <td>...</td>\n",
       "      <td>...</td>\n",
       "      <td>...</td>\n",
       "      <td>...</td>\n",
       "      <td>...</td>\n",
       "      <td>...</td>\n",
       "      <td>...</td>\n",
       "      <td>...</td>\n",
       "      <td>...</td>\n",
       "      <td>...</td>\n",
       "    </tr>\n",
       "    <tr>\n",
       "      <th>755</th>\n",
       "      <td>0.0</td>\n",
       "      <td>0.0</td>\n",
       "      <td>0.0</td>\n",
       "      <td>1.0</td>\n",
       "      <td>0.0</td>\n",
       "      <td>0.0</td>\n",
       "      <td>0.0</td>\n",
       "      <td>0.0</td>\n",
       "      <td>0.0</td>\n",
       "      <td>0.0</td>\n",
       "      <td>...</td>\n",
       "      <td>1.0</td>\n",
       "      <td>0.0</td>\n",
       "      <td>0.0</td>\n",
       "      <td>0.0</td>\n",
       "      <td>0.0</td>\n",
       "      <td>0.0</td>\n",
       "      <td>1.0</td>\n",
       "      <td>218803.0</td>\n",
       "      <td>47874752809.0</td>\n",
       "      <td>875212.0</td>\n",
       "    </tr>\n",
       "    <tr>\n",
       "      <th>756</th>\n",
       "      <td>1.0</td>\n",
       "      <td>0.0</td>\n",
       "      <td>0.0</td>\n",
       "      <td>0.0</td>\n",
       "      <td>0.0</td>\n",
       "      <td>0.0</td>\n",
       "      <td>1.0</td>\n",
       "      <td>0.0</td>\n",
       "      <td>0.0</td>\n",
       "      <td>0.0</td>\n",
       "      <td>...</td>\n",
       "      <td>0.0</td>\n",
       "      <td>1.0</td>\n",
       "      <td>0.0</td>\n",
       "      <td>0.0</td>\n",
       "      <td>0.0</td>\n",
       "      <td>0.0</td>\n",
       "      <td>1.0</td>\n",
       "      <td>245427.0</td>\n",
       "      <td>60234412329.0</td>\n",
       "      <td>1227135.0</td>\n",
       "    </tr>\n",
       "    <tr>\n",
       "      <th>757</th>\n",
       "      <td>0.0</td>\n",
       "      <td>0.0</td>\n",
       "      <td>0.0</td>\n",
       "      <td>1.0</td>\n",
       "      <td>0.0</td>\n",
       "      <td>0.0</td>\n",
       "      <td>0.0</td>\n",
       "      <td>0.0</td>\n",
       "      <td>0.0</td>\n",
       "      <td>1.0</td>\n",
       "      <td>...</td>\n",
       "      <td>1.0</td>\n",
       "      <td>0.0</td>\n",
       "      <td>0.0</td>\n",
       "      <td>0.0</td>\n",
       "      <td>0.0</td>\n",
       "      <td>1.0</td>\n",
       "      <td>0.0</td>\n",
       "      <td>196225.0</td>\n",
       "      <td>38504250625.0</td>\n",
       "      <td>784900.0</td>\n",
       "    </tr>\n",
       "    <tr>\n",
       "      <th>758</th>\n",
       "      <td>0.0</td>\n",
       "      <td>1.0</td>\n",
       "      <td>0.0</td>\n",
       "      <td>0.0</td>\n",
       "      <td>0.0</td>\n",
       "      <td>0.0</td>\n",
       "      <td>1.0</td>\n",
       "      <td>0.0</td>\n",
       "      <td>0.0</td>\n",
       "      <td>0.0</td>\n",
       "      <td>...</td>\n",
       "      <td>1.0</td>\n",
       "      <td>0.0</td>\n",
       "      <td>0.0</td>\n",
       "      <td>0.0</td>\n",
       "      <td>1.0</td>\n",
       "      <td>0.0</td>\n",
       "      <td>0.0</td>\n",
       "      <td>133117.0</td>\n",
       "      <td>17720135689.0</td>\n",
       "      <td>515473.164483</td>\n",
       "    </tr>\n",
       "    <tr>\n",
       "      <th>759</th>\n",
       "      <td>0.0</td>\n",
       "      <td>1.0</td>\n",
       "      <td>0.0</td>\n",
       "      <td>0.0</td>\n",
       "      <td>0.0</td>\n",
       "      <td>0.0</td>\n",
       "      <td>0.0</td>\n",
       "      <td>0.0</td>\n",
       "      <td>0.0</td>\n",
       "      <td>0.0</td>\n",
       "      <td>...</td>\n",
       "      <td>1.0</td>\n",
       "      <td>0.0</td>\n",
       "      <td>0.0</td>\n",
       "      <td>0.0</td>\n",
       "      <td>0.0</td>\n",
       "      <td>1.0</td>\n",
       "      <td>0.0</td>\n",
       "      <td>150582.0</td>\n",
       "      <td>22674938724.0</td>\n",
       "      <td>515473.164483</td>\n",
       "    </tr>\n",
       "  </tbody>\n",
       "</table>\n",
       "<p>760 rows × 25 columns</p>\n",
       "</div>"
      ],
      "text/plain": [
       "    Make_BMW Make_Honda Make_Nissan Make_Toyota Make_missing Colour_Black  \\\n",
       "0        0.0        1.0         0.0         0.0          0.0          0.0   \n",
       "1        0.0        0.0         0.0         1.0          0.0          0.0   \n",
       "2        0.0        1.0         0.0         0.0          0.0          0.0   \n",
       "3        0.0        1.0         0.0         0.0          0.0          0.0   \n",
       "4        0.0        1.0         0.0         0.0          0.0          0.0   \n",
       "..       ...        ...         ...         ...          ...          ...   \n",
       "755      0.0        0.0         0.0         1.0          0.0          0.0   \n",
       "756      1.0        0.0         0.0         0.0          0.0          0.0   \n",
       "757      0.0        0.0         0.0         1.0          0.0          0.0   \n",
       "758      0.0        1.0         0.0         0.0          0.0          0.0   \n",
       "759      0.0        1.0         0.0         0.0          0.0          0.0   \n",
       "\n",
       "    Colour_Blue Colour_Green Colour_Red Colour_White  ... Doors_Sq_16.0  \\\n",
       "0           0.0          0.0        0.0          1.0  ...           1.0   \n",
       "1           0.0          0.0        1.0          0.0  ...           1.0   \n",
       "2           0.0          0.0        0.0          1.0  ...           1.0   \n",
       "3           0.0          0.0        0.0          1.0  ...           1.0   \n",
       "4           1.0          0.0        0.0          0.0  ...           1.0   \n",
       "..          ...          ...        ...          ...  ...           ...   \n",
       "755         0.0          0.0        0.0          0.0  ...           1.0   \n",
       "756         1.0          0.0        0.0          0.0  ...           0.0   \n",
       "757         0.0          0.0        0.0          1.0  ...           1.0   \n",
       "758         1.0          0.0        0.0          0.0  ...           1.0   \n",
       "759         0.0          0.0        0.0          0.0  ...           1.0   \n",
       "\n",
       "    Doors_Sq_25.0 Odometer_bin_0.0 Odometer_bin_1.0 Odometer_bin_2.0  \\\n",
       "0             0.0              0.0              1.0              0.0   \n",
       "1             0.0              0.0              0.0              0.0   \n",
       "2             0.0              1.0              0.0              0.0   \n",
       "3             0.0              0.0              0.0              0.0   \n",
       "4             0.0              0.0              0.0              0.0   \n",
       "..            ...              ...              ...              ...   \n",
       "755           0.0              0.0              0.0              0.0   \n",
       "756           1.0              0.0              0.0              0.0   \n",
       "757           0.0              0.0              0.0              0.0   \n",
       "758           0.0              0.0              0.0              1.0   \n",
       "759           0.0              0.0              0.0              0.0   \n",
       "\n",
       "    Odometer_bin_3.0 Odometer_bin_4.0 Odometer (KM)    Odometer_Sq  \\\n",
       "0                0.0              0.0       71934.0   5174500356.0   \n",
       "1                1.0              0.0      162665.0  26459902225.0   \n",
       "2                0.0              0.0       42844.0   1835608336.0   \n",
       "3                1.0              0.0      195829.0  38348997241.0   \n",
       "4                0.0              1.0      219217.0  48056093089.0   \n",
       "..               ...              ...           ...            ...   \n",
       "755              0.0              1.0      218803.0  47874752809.0   \n",
       "756              0.0              1.0      245427.0  60234412329.0   \n",
       "757              1.0              0.0      196225.0  38504250625.0   \n",
       "758              0.0              0.0      133117.0  17720135689.0   \n",
       "759              1.0              0.0      150582.0  22674938724.0   \n",
       "\n",
       "    Doors_x_Odometer  \n",
       "0           287736.0  \n",
       "1           650660.0  \n",
       "2           171376.0  \n",
       "3           783316.0  \n",
       "4           876868.0  \n",
       "..               ...  \n",
       "755         875212.0  \n",
       "756        1227135.0  \n",
       "757         784900.0  \n",
       "758    515473.164483  \n",
       "759    515473.164483  \n",
       "\n",
       "[760 rows x 25 columns]"
      ]
     },
     "execution_count": 44,
     "metadata": {},
     "output_type": "execute_result"
    }
   ],
   "source": [
    "X_train_df_transformed"
   ]
  },
  {
   "cell_type": "code",
   "execution_count": 45,
   "metadata": {},
   "outputs": [
    {
     "data": {
      "application/vnd.microsoft.datawrangler.viewer.v0+json": {
       "columns": [
        {
         "name": "index",
         "rawType": "int64",
         "type": "integer"
        },
        {
         "name": "Make_BMW",
         "rawType": "object",
         "type": "unknown"
        },
        {
         "name": "Make_Honda",
         "rawType": "object",
         "type": "unknown"
        },
        {
         "name": "Make_Nissan",
         "rawType": "object",
         "type": "unknown"
        },
        {
         "name": "Make_Toyota",
         "rawType": "object",
         "type": "unknown"
        },
        {
         "name": "Make_missing",
         "rawType": "object",
         "type": "unknown"
        },
        {
         "name": "Colour_Black",
         "rawType": "object",
         "type": "unknown"
        },
        {
         "name": "Colour_Blue",
         "rawType": "object",
         "type": "unknown"
        },
        {
         "name": "Colour_Green",
         "rawType": "object",
         "type": "unknown"
        },
        {
         "name": "Colour_Red",
         "rawType": "object",
         "type": "unknown"
        },
        {
         "name": "Colour_White",
         "rawType": "object",
         "type": "unknown"
        },
        {
         "name": "Colour_missing",
         "rawType": "object",
         "type": "unknown"
        },
        {
         "name": "Doors_3.0",
         "rawType": "object",
         "type": "unknown"
        },
        {
         "name": "Doors_4.0",
         "rawType": "object",
         "type": "unknown"
        },
        {
         "name": "Doors_5.0",
         "rawType": "object",
         "type": "unknown"
        },
        {
         "name": "Doors_Sq_9.0",
         "rawType": "object",
         "type": "unknown"
        },
        {
         "name": "Doors_Sq_16.0",
         "rawType": "object",
         "type": "unknown"
        },
        {
         "name": "Doors_Sq_25.0",
         "rawType": "object",
         "type": "unknown"
        },
        {
         "name": "Odometer_bin_0.0",
         "rawType": "object",
         "type": "unknown"
        },
        {
         "name": "Odometer_bin_1.0",
         "rawType": "object",
         "type": "unknown"
        },
        {
         "name": "Odometer_bin_2.0",
         "rawType": "object",
         "type": "unknown"
        },
        {
         "name": "Odometer_bin_3.0",
         "rawType": "object",
         "type": "unknown"
        },
        {
         "name": "Odometer_bin_4.0",
         "rawType": "object",
         "type": "unknown"
        },
        {
         "name": "Odometer (KM)",
         "rawType": "object",
         "type": "unknown"
        },
        {
         "name": "Odometer_Sq",
         "rawType": "object",
         "type": "unknown"
        },
        {
         "name": "Doors_x_Odometer",
         "rawType": "object",
         "type": "unknown"
        },
        {
         "name": "Odometer_Centered",
         "rawType": "object",
         "type": "unknown"
        }
       ],
       "ref": "52730358-2b77-4d0c-b96f-685b444e94bd",
       "rows": [
        [
         "0",
         "0.0",
         "1.0",
         "0.0",
         "0.0",
         "0.0",
         "0.0",
         "0.0",
         "0.0",
         "0.0",
         "1.0",
         "0.0",
         "0.0",
         "1.0",
         "0.0",
         "0.0",
         "1.0",
         "0.0",
         "0.0",
         "1.0",
         "0.0",
         "0.0",
         "0.0",
         "71934.0",
         "5174500356.0",
         "287736.0",
         "-58385.03314917117"
        ],
        [
         "1",
         "0.0",
         "0.0",
         "0.0",
         "1.0",
         "0.0",
         "0.0",
         "0.0",
         "0.0",
         "1.0",
         "0.0",
         "0.0",
         "0.0",
         "1.0",
         "0.0",
         "0.0",
         "1.0",
         "0.0",
         "0.0",
         "0.0",
         "0.0",
         "1.0",
         "0.0",
         "162665.0",
         "26459902225.0",
         "650660.0",
         "32345.96685082883"
        ],
        [
         "2",
         "0.0",
         "1.0",
         "0.0",
         "0.0",
         "0.0",
         "0.0",
         "0.0",
         "0.0",
         "0.0",
         "1.0",
         "0.0",
         "0.0",
         "1.0",
         "0.0",
         "0.0",
         "1.0",
         "0.0",
         "1.0",
         "0.0",
         "0.0",
         "0.0",
         "0.0",
         "42844.0",
         "1835608336.0",
         "171376.0",
         "-87475.03314917117"
        ],
        [
         "3",
         "0.0",
         "1.0",
         "0.0",
         "0.0",
         "0.0",
         "0.0",
         "0.0",
         "0.0",
         "0.0",
         "1.0",
         "0.0",
         "0.0",
         "1.0",
         "0.0",
         "0.0",
         "1.0",
         "0.0",
         "0.0",
         "0.0",
         "0.0",
         "1.0",
         "0.0",
         "195829.0",
         "38348997241.0",
         "783316.0",
         "65509.96685082883"
        ],
        [
         "4",
         "0.0",
         "1.0",
         "0.0",
         "0.0",
         "0.0",
         "0.0",
         "1.0",
         "0.0",
         "0.0",
         "0.0",
         "0.0",
         "0.0",
         "1.0",
         "0.0",
         "0.0",
         "1.0",
         "0.0",
         "0.0",
         "0.0",
         "0.0",
         "0.0",
         "1.0",
         "219217.0",
         "48056093089.0",
         "876868.0",
         "88897.96685082883"
        ],
        [
         "5",
         "0.0",
         "0.0",
         "0.0",
         "0.0",
         "1.0",
         "0.0",
         "0.0",
         "0.0",
         "0.0",
         "1.0",
         "0.0",
         "0.0",
         "1.0",
         "0.0",
         "0.0",
         "1.0",
         "0.0",
         "0.0",
         "0.0",
         "1.0",
         "0.0",
         "0.0",
         "126669.0",
         "16045035561.0",
         "506676.0",
         "-3650.0331491711695"
        ],
        [
         "6",
         "0.0",
         "0.0",
         "0.0",
         "1.0",
         "0.0",
         "0.0",
         "1.0",
         "0.0",
         "0.0",
         "0.0",
         "0.0",
         "0.0",
         "1.0",
         "0.0",
         "0.0",
         "1.0",
         "0.0",
         "0.0",
         "1.0",
         "0.0",
         "0.0",
         "0.0",
         "76416.0",
         "5839405056.0",
         "305664.0",
         "-53903.03314917117"
        ],
        [
         "7",
         "0.0",
         "0.0",
         "1.0",
         "0.0",
         "0.0",
         "0.0",
         "0.0",
         "0.0",
         "0.0",
         "1.0",
         "0.0",
         "0.0",
         "1.0",
         "0.0",
         "0.0",
         "1.0",
         "0.0",
         "0.0",
         "0.0",
         "1.0",
         "0.0",
         "0.0",
         "114699.0",
         "13155860601.0",
         "458796.0",
         "-15620.03314917117"
        ],
        [
         "8",
         "0.0",
         "0.0",
         "1.0",
         "0.0",
         "0.0",
         "0.0",
         "1.0",
         "0.0",
         "0.0",
         "0.0",
         "0.0",
         "1.0",
         "0.0",
         "0.0",
         "1.0",
         "0.0",
         "0.0",
         "0.0",
         "0.0",
         "0.0",
         "1.0",
         "0.0",
         "180021.0",
         "32407560441.0",
         "540063.0",
         "49701.96685082883"
        ],
        [
         "9",
         "0.0",
         "1.0",
         "0.0",
         "0.0",
         "0.0",
         "0.0",
         "1.0",
         "0.0",
         "0.0",
         "0.0",
         "0.0",
         "0.0",
         "1.0",
         "0.0",
         "0.0",
         "1.0",
         "0.0",
         "1.0",
         "0.0",
         "0.0",
         "0.0",
         "0.0",
         "28561.0",
         "815730721.0",
         "114244.0",
         "-101758.03314917117"
        ],
        [
         "10",
         "0.0",
         "0.0",
         "0.0",
         "1.0",
         "0.0",
         "0.0",
         "1.0",
         "0.0",
         "0.0",
         "0.0",
         "0.0",
         "0.0",
         "1.0",
         "0.0",
         "0.0",
         "1.0",
         "0.0",
         "0.0",
         "1.0",
         "0.0",
         "0.0",
         "0.0",
         "61337.0",
         "3762227569.0",
         "245348.0",
         "-68982.03314917117"
        ],
        [
         "11",
         "0.0",
         "1.0",
         "0.0",
         "0.0",
         "0.0",
         "0.0",
         "0.0",
         "0.0",
         "0.0",
         "1.0",
         "0.0",
         "0.0",
         "1.0",
         "0.0",
         "0.0",
         "1.0",
         "0.0",
         "0.0",
         "0.0",
         "0.0",
         "1.0",
         "0.0",
         "130319.03314917127",
         "21713631731.453037",
         "515473.16448326054",
         "1.0186340659856796e-10"
        ],
        [
         "12",
         "0.0",
         "0.0",
         "0.0",
         "1.0",
         "0.0",
         "0.0",
         "1.0",
         "0.0",
         "0.0",
         "0.0",
         "0.0",
         "0.0",
         "1.0",
         "0.0",
         "0.0",
         "1.0",
         "0.0",
         "0.0",
         "0.0",
         "1.0",
         "0.0",
         "0.0",
         "119745.0",
         "14338865025.0",
         "478980.0",
         "-10574.03314917117"
        ],
        [
         "13",
         "0.0",
         "1.0",
         "0.0",
         "0.0",
         "0.0",
         "0.0",
         "0.0",
         "0.0",
         "0.0",
         "1.0",
         "0.0",
         "0.0",
         "1.0",
         "0.0",
         "0.0",
         "1.0",
         "0.0",
         "0.0",
         "1.0",
         "0.0",
         "0.0",
         "0.0",
         "84714.0",
         "7176461796.0",
         "338856.0",
         "-45605.03314917117"
        ],
        [
         "14",
         "0.0",
         "0.0",
         "0.0",
         "1.0",
         "0.0",
         "0.0",
         "0.0",
         "0.0",
         "0.0",
         "1.0",
         "0.0",
         "0.0",
         "1.0",
         "0.0",
         "0.0",
         "1.0",
         "0.0",
         "0.0",
         "0.0",
         "0.0",
         "0.0",
         "1.0",
         "224657.0",
         "50470767649.0",
         "898628.0",
         "94337.96685082883"
        ],
        [
         "15",
         "0.0",
         "0.0",
         "0.0",
         "1.0",
         "0.0",
         "0.0",
         "0.0",
         "0.0",
         "0.0",
         "1.0",
         "0.0",
         "0.0",
         "1.0",
         "0.0",
         "0.0",
         "1.0",
         "0.0",
         "0.0",
         "0.0",
         "0.0",
         "0.0",
         "1.0",
         "245977.0",
         "60504684529.0",
         "983908.0",
         "115657.96685082883"
        ],
        [
         "16",
         "0.0",
         "0.0",
         "0.0",
         "1.0",
         "0.0",
         "0.0",
         "1.0",
         "0.0",
         "0.0",
         "0.0",
         "0.0",
         "0.0",
         "1.0",
         "0.0",
         "0.0",
         "1.0",
         "0.0",
         "0.0",
         "1.0",
         "0.0",
         "0.0",
         "0.0",
         "71306.0",
         "5084545636.0",
         "285224.0",
         "-59013.03314917117"
        ],
        [
         "17",
         "0.0",
         "1.0",
         "0.0",
         "0.0",
         "0.0",
         "0.0",
         "0.0",
         "0.0",
         "0.0",
         "0.0",
         "1.0",
         "0.0",
         "1.0",
         "0.0",
         "0.0",
         "1.0",
         "0.0",
         "0.0",
         "0.0",
         "1.0",
         "0.0",
         "0.0",
         "102032.0",
         "10410529024.0",
         "408128.0",
         "-28287.03314917117"
        ],
        [
         "18",
         "0.0",
         "1.0",
         "0.0",
         "0.0",
         "0.0",
         "0.0",
         "0.0",
         "0.0",
         "1.0",
         "0.0",
         "0.0",
         "0.0",
         "1.0",
         "0.0",
         "0.0",
         "1.0",
         "0.0",
         "1.0",
         "0.0",
         "0.0",
         "0.0",
         "0.0",
         "42652.0",
         "1819193104.0",
         "170608.0",
         "-87667.03314917117"
        ],
        [
         "19",
         "0.0",
         "0.0",
         "0.0",
         "0.0",
         "1.0",
         "0.0",
         "0.0",
         "0.0",
         "0.0",
         "1.0",
         "0.0",
         "0.0",
         "1.0",
         "0.0",
         "0.0",
         "1.0",
         "0.0",
         "0.0",
         "0.0",
         "1.0",
         "0.0",
         "0.0",
         "109384.0",
         "11964859456.0",
         "437536.0",
         "-20935.03314917117"
        ],
        [
         "20",
         "0.0",
         "0.0",
         "0.0",
         "1.0",
         "0.0",
         "0.0",
         "1.0",
         "0.0",
         "0.0",
         "0.0",
         "0.0",
         "0.0",
         "1.0",
         "0.0",
         "0.0",
         "1.0",
         "0.0",
         "0.0",
         "0.0",
         "1.0",
         "0.0",
         "0.0",
         "135237.0",
         "18289046169.0",
         "540948.0",
         "4917.9668508288305"
        ],
        [
         "21",
         "0.0",
         "1.0",
         "0.0",
         "0.0",
         "0.0",
         "1.0",
         "0.0",
         "0.0",
         "0.0",
         "0.0",
         "0.0",
         "0.0",
         "1.0",
         "0.0",
         "0.0",
         "1.0",
         "0.0",
         "0.0",
         "0.0",
         "0.0",
         "0.0",
         "1.0",
         "231825.0",
         "53742830625.0",
         "927300.0",
         "101505.96685082883"
        ],
        [
         "22",
         "0.0",
         "1.0",
         "0.0",
         "0.0",
         "0.0",
         "0.0",
         "1.0",
         "0.0",
         "0.0",
         "0.0",
         "0.0",
         "0.0",
         "1.0",
         "0.0",
         "0.0",
         "1.0",
         "0.0",
         "0.0",
         "0.0",
         "0.0",
         "1.0",
         "0.0",
         "130319.03314917127",
         "21713631731.453037",
         "515473.16448326054",
         "1.0186340659856796e-10"
        ],
        [
         "23",
         "0.0",
         "0.0",
         "0.0",
         "1.0",
         "0.0",
         "0.0",
         "0.0",
         "0.0",
         "0.0",
         "0.0",
         "1.0",
         "0.0",
         "1.0",
         "0.0",
         "0.0",
         "1.0",
         "0.0",
         "0.0",
         "0.0",
         "0.0",
         "1.0",
         "0.0",
         "199315.0",
         "39726469225.0",
         "797260.0",
         "68995.96685082883"
        ],
        [
         "24",
         "0.0",
         "0.0",
         "0.0",
         "1.0",
         "0.0",
         "1.0",
         "0.0",
         "0.0",
         "0.0",
         "0.0",
         "0.0",
         "0.0",
         "1.0",
         "0.0",
         "0.0",
         "1.0",
         "0.0",
         "0.0",
         "0.0",
         "1.0",
         "0.0",
         "0.0",
         "133433.0",
         "17804365489.0",
         "533732.0",
         "3113.9668508288305"
        ],
        [
         "25",
         "0.0",
         "0.0",
         "0.0",
         "1.0",
         "0.0",
         "0.0",
         "0.0",
         "0.0",
         "0.0",
         "1.0",
         "0.0",
         "0.0",
         "1.0",
         "0.0",
         "0.0",
         "1.0",
         "0.0",
         "0.0",
         "1.0",
         "0.0",
         "0.0",
         "0.0",
         "61623.0",
         "3797394129.0",
         "246492.0",
         "-68696.03314917117"
        ],
        [
         "26",
         "0.0",
         "0.0",
         "0.0",
         "1.0",
         "0.0",
         "0.0",
         "1.0",
         "0.0",
         "0.0",
         "0.0",
         "0.0",
         "0.0",
         "1.0",
         "0.0",
         "0.0",
         "1.0",
         "0.0",
         "0.0",
         "0.0",
         "0.0",
         "1.0",
         "0.0",
         "130319.03314917127",
         "21713631731.453037",
         "515473.16448326054",
         "1.0186340659856796e-10"
        ],
        [
         "27",
         "0.0",
         "1.0",
         "0.0",
         "0.0",
         "0.0",
         "0.0",
         "0.0",
         "0.0",
         "0.0",
         "1.0",
         "0.0",
         "0.0",
         "1.0",
         "0.0",
         "0.0",
         "1.0",
         "0.0",
         "0.0",
         "0.0",
         "1.0",
         "0.0",
         "0.0",
         "126854.0",
         "16091937316.0",
         "507416.0",
         "-3465.0331491711695"
        ],
        [
         "28",
         "1.0",
         "0.0",
         "0.0",
         "0.0",
         "0.0",
         "0.0",
         "0.0",
         "0.0",
         "0.0",
         "1.0",
         "0.0",
         "0.0",
         "0.0",
         "1.0",
         "0.0",
         "0.0",
         "1.0",
         "0.0",
         "0.0",
         "0.0",
         "1.0",
         "0.0",
         "192673.0",
         "37122884929.0",
         "963365.0",
         "62353.96685082883"
        ],
        [
         "29",
         "0.0",
         "1.0",
         "0.0",
         "0.0",
         "0.0",
         "0.0",
         "1.0",
         "0.0",
         "0.0",
         "0.0",
         "0.0",
         "0.0",
         "1.0",
         "0.0",
         "0.0",
         "1.0",
         "0.0",
         "1.0",
         "0.0",
         "0.0",
         "0.0",
         "0.0",
         "26824.0",
         "719526976.0",
         "107296.0",
         "-103495.03314917117"
        ],
        [
         "30",
         "0.0",
         "0.0",
         "0.0",
         "1.0",
         "0.0",
         "0.0",
         "0.0",
         "0.0",
         "1.0",
         "0.0",
         "0.0",
         "0.0",
         "1.0",
         "0.0",
         "0.0",
         "1.0",
         "0.0",
         "0.0",
         "1.0",
         "0.0",
         "0.0",
         "0.0",
         "68125.0",
         "4641015625.0",
         "272500.0",
         "-62194.03314917117"
        ],
        [
         "31",
         "0.0",
         "1.0",
         "0.0",
         "0.0",
         "0.0",
         "0.0",
         "1.0",
         "0.0",
         "0.0",
         "0.0",
         "0.0",
         "0.0",
         "1.0",
         "0.0",
         "0.0",
         "1.0",
         "0.0",
         "0.0",
         "1.0",
         "0.0",
         "0.0",
         "0.0",
         "76252.0",
         "5814367504.0",
         "305008.0",
         "-54067.03314917117"
        ],
        [
         "32",
         "1.0",
         "0.0",
         "0.0",
         "0.0",
         "0.0",
         "0.0",
         "0.0",
         "0.0",
         "0.0",
         "1.0",
         "0.0",
         "0.0",
         "0.0",
         "1.0",
         "0.0",
         "0.0",
         "1.0",
         "0.0",
         "0.0",
         "1.0",
         "0.0",
         "0.0",
         "118286.0",
         "13991577796.0",
         "591430.0",
         "-12033.03314917117"
        ],
        [
         "33",
         "0.0",
         "1.0",
         "0.0",
         "0.0",
         "0.0",
         "0.0",
         "1.0",
         "0.0",
         "0.0",
         "0.0",
         "0.0",
         "0.0",
         "1.0",
         "0.0",
         "0.0",
         "1.0",
         "0.0",
         "0.0",
         "0.0",
         "1.0",
         "0.0",
         "0.0",
         "125819.0",
         "15830420761.0",
         "503276.0",
         "-4500.0331491711695"
        ],
        [
         "34",
         "0.0",
         "0.0",
         "0.0",
         "1.0",
         "0.0",
         "0.0",
         "0.0",
         "1.0",
         "0.0",
         "0.0",
         "0.0",
         "0.0",
         "1.0",
         "0.0",
         "0.0",
         "1.0",
         "0.0",
         "0.0",
         "1.0",
         "0.0",
         "0.0",
         "0.0",
         "61651.0",
         "3800845801.0",
         "246604.0",
         "-68668.03314917117"
        ],
        [
         "35",
         "0.0",
         "0.0",
         "1.0",
         "0.0",
         "0.0",
         "0.0",
         "0.0",
         "0.0",
         "0.0",
         "1.0",
         "0.0",
         "0.0",
         "1.0",
         "0.0",
         "0.0",
         "1.0",
         "0.0",
         "0.0",
         "0.0",
         "0.0",
         "1.0",
         "0.0",
         "167421.0",
         "28029791241.0",
         "669684.0",
         "37101.96685082883"
        ],
        [
         "36",
         "0.0",
         "1.0",
         "0.0",
         "0.0",
         "0.0",
         "0.0",
         "1.0",
         "0.0",
         "0.0",
         "0.0",
         "0.0",
         "0.0",
         "1.0",
         "0.0",
         "0.0",
         "1.0",
         "0.0",
         "0.0",
         "1.0",
         "0.0",
         "0.0",
         "0.0",
         "50475.0",
         "2547725625.0",
         "201900.0",
         "-79844.03314917117"
        ],
        [
         "37",
         "0.0",
         "0.0",
         "0.0",
         "1.0",
         "0.0",
         "0.0",
         "0.0",
         "0.0",
         "0.0",
         "1.0",
         "0.0",
         "0.0",
         "1.0",
         "0.0",
         "0.0",
         "1.0",
         "0.0",
         "1.0",
         "0.0",
         "0.0",
         "0.0",
         "0.0",
         "28809.0",
         "829958481.0",
         "115236.0",
         "-101510.03314917117"
        ],
        [
         "38",
         "0.0",
         "0.0",
         "0.0",
         "1.0",
         "0.0",
         "0.0",
         "1.0",
         "0.0",
         "0.0",
         "0.0",
         "0.0",
         "0.0",
         "1.0",
         "0.0",
         "0.0",
         "1.0",
         "0.0",
         "0.0",
         "1.0",
         "0.0",
         "0.0",
         "0.0",
         "81864.0",
         "6701714496.0",
         "327456.0",
         "-48455.03314917117"
        ],
        [
         "39",
         "0.0",
         "0.0",
         "0.0",
         "1.0",
         "0.0",
         "0.0",
         "0.0",
         "0.0",
         "0.0",
         "1.0",
         "0.0",
         "0.0",
         "1.0",
         "0.0",
         "0.0",
         "1.0",
         "0.0",
         "0.0",
         "1.0",
         "0.0",
         "0.0",
         "0.0",
         "62712.0",
         "3932794944.0",
         "250848.0",
         "-67607.03314917117"
        ],
        [
         "40",
         "0.0",
         "0.0",
         "1.0",
         "0.0",
         "0.0",
         "0.0",
         "0.0",
         "0.0",
         "0.0",
         "1.0",
         "0.0",
         "0.0",
         "1.0",
         "0.0",
         "0.0",
         "1.0",
         "0.0",
         "0.0",
         "0.0",
         "0.0",
         "0.0",
         "1.0",
         "235952.0",
         "55673346304.0",
         "943808.0",
         "105632.96685082883"
        ],
        [
         "41",
         "0.0",
         "0.0",
         "0.0",
         "1.0",
         "0.0",
         "0.0",
         "0.0",
         "0.0",
         "0.0",
         "0.0",
         "1.0",
         "0.0",
         "1.0",
         "0.0",
         "0.0",
         "1.0",
         "0.0",
         "0.0",
         "1.0",
         "0.0",
         "0.0",
         "0.0",
         "73360.0",
         "5381689600.0",
         "293440.0",
         "-56959.03314917117"
        ],
        [
         "42",
         "0.0",
         "0.0",
         "1.0",
         "0.0",
         "0.0",
         "0.0",
         "1.0",
         "0.0",
         "0.0",
         "0.0",
         "0.0",
         "0.0",
         "1.0",
         "0.0",
         "0.0",
         "1.0",
         "0.0",
         "0.0",
         "0.0",
         "0.0",
         "1.0",
         "0.0",
         "166938.0",
         "27868295844.0",
         "667752.0",
         "36618.96685082883"
        ],
        [
         "43",
         "0.0",
         "1.0",
         "0.0",
         "0.0",
         "0.0",
         "0.0",
         "1.0",
         "0.0",
         "0.0",
         "0.0",
         "0.0",
         "0.0",
         "1.0",
         "0.0",
         "0.0",
         "1.0",
         "0.0",
         "0.0",
         "0.0",
         "0.0",
         "0.0",
         "1.0",
         "247869.0",
         "61439041161.0",
         "991476.0",
         "117549.96685082883"
        ],
        [
         "44",
         "0.0",
         "0.0",
         "0.0",
         "1.0",
         "0.0",
         "0.0",
         "0.0",
         "0.0",
         "0.0",
         "1.0",
         "0.0",
         "0.0",
         "1.0",
         "0.0",
         "0.0",
         "1.0",
         "0.0",
         "0.0",
         "0.0",
         "1.0",
         "0.0",
         "0.0",
         "122266.0",
         "14948974756.0",
         "489064.0",
         "-8053.0331491711695"
        ],
        [
         "45",
         "0.0",
         "0.0",
         "0.0",
         "1.0",
         "0.0",
         "0.0",
         "0.0",
         "0.0",
         "0.0",
         "1.0",
         "0.0",
         "0.0",
         "1.0",
         "0.0",
         "0.0",
         "1.0",
         "0.0",
         "0.0",
         "0.0",
         "1.0",
         "0.0",
         "0.0",
         "112004.0",
         "12544896016.0",
         "448016.0",
         "-18315.03314917117"
        ],
        [
         "46",
         "1.0",
         "0.0",
         "0.0",
         "0.0",
         "0.0",
         "0.0",
         "0.0",
         "0.0",
         "0.0",
         "1.0",
         "0.0",
         "0.0",
         "0.0",
         "1.0",
         "0.0",
         "0.0",
         "1.0",
         "0.0",
         "1.0",
         "0.0",
         "0.0",
         "0.0",
         "79937.0",
         "6389923969.0",
         "399685.0",
         "-50382.03314917117"
        ],
        [
         "47",
         "0.0",
         "1.0",
         "0.0",
         "0.0",
         "0.0",
         "0.0",
         "0.0",
         "0.0",
         "0.0",
         "0.0",
         "1.0",
         "0.0",
         "1.0",
         "0.0",
         "0.0",
         "1.0",
         "0.0",
         "1.0",
         "0.0",
         "0.0",
         "0.0",
         "0.0",
         "41846.0",
         "1751087716.0",
         "167384.0",
         "-88473.03314917117"
        ],
        [
         "48",
         "0.0",
         "0.0",
         "0.0",
         "1.0",
         "0.0",
         "0.0",
         "0.0",
         "1.0",
         "0.0",
         "0.0",
         "0.0",
         "0.0",
         "1.0",
         "0.0",
         "0.0",
         "1.0",
         "0.0",
         "0.0",
         "0.0",
         "0.0",
         "1.0",
         "0.0",
         "165225.0",
         "27299300625.0",
         "660900.0",
         "34905.96685082883"
        ],
        [
         "49",
         "0.0",
         "0.0",
         "1.0",
         "0.0",
         "0.0",
         "0.0",
         "0.0",
         "0.0",
         "1.0",
         "0.0",
         "0.0",
         "1.0",
         "0.0",
         "0.0",
         "1.0",
         "0.0",
         "0.0",
         "0.0",
         "0.0",
         "1.0",
         "0.0",
         "0.0",
         "143204.0",
         "20507385616.0",
         "429612.0",
         "12884.96685082883"
        ]
       ],
       "shape": {
        "columns": 26,
        "rows": 760
       }
      },
      "text/html": [
       "<div>\n",
       "<style scoped>\n",
       "    .dataframe tbody tr th:only-of-type {\n",
       "        vertical-align: middle;\n",
       "    }\n",
       "\n",
       "    .dataframe tbody tr th {\n",
       "        vertical-align: top;\n",
       "    }\n",
       "\n",
       "    .dataframe thead th {\n",
       "        text-align: right;\n",
       "    }\n",
       "</style>\n",
       "<table border=\"1\" class=\"dataframe\">\n",
       "  <thead>\n",
       "    <tr style=\"text-align: right;\">\n",
       "      <th></th>\n",
       "      <th>Make_BMW</th>\n",
       "      <th>Make_Honda</th>\n",
       "      <th>Make_Nissan</th>\n",
       "      <th>Make_Toyota</th>\n",
       "      <th>Make_missing</th>\n",
       "      <th>Colour_Black</th>\n",
       "      <th>Colour_Blue</th>\n",
       "      <th>Colour_Green</th>\n",
       "      <th>Colour_Red</th>\n",
       "      <th>Colour_White</th>\n",
       "      <th>...</th>\n",
       "      <th>Doors_Sq_25.0</th>\n",
       "      <th>Odometer_bin_0.0</th>\n",
       "      <th>Odometer_bin_1.0</th>\n",
       "      <th>Odometer_bin_2.0</th>\n",
       "      <th>Odometer_bin_3.0</th>\n",
       "      <th>Odometer_bin_4.0</th>\n",
       "      <th>Odometer (KM)</th>\n",
       "      <th>Odometer_Sq</th>\n",
       "      <th>Doors_x_Odometer</th>\n",
       "      <th>Odometer_Centered</th>\n",
       "    </tr>\n",
       "  </thead>\n",
       "  <tbody>\n",
       "    <tr>\n",
       "      <th>0</th>\n",
       "      <td>0.0</td>\n",
       "      <td>1.0</td>\n",
       "      <td>0.0</td>\n",
       "      <td>0.0</td>\n",
       "      <td>0.0</td>\n",
       "      <td>0.0</td>\n",
       "      <td>0.0</td>\n",
       "      <td>0.0</td>\n",
       "      <td>0.0</td>\n",
       "      <td>1.0</td>\n",
       "      <td>...</td>\n",
       "      <td>0.0</td>\n",
       "      <td>0.0</td>\n",
       "      <td>1.0</td>\n",
       "      <td>0.0</td>\n",
       "      <td>0.0</td>\n",
       "      <td>0.0</td>\n",
       "      <td>71934.0</td>\n",
       "      <td>5174500356.0</td>\n",
       "      <td>287736.0</td>\n",
       "      <td>-58385.033149</td>\n",
       "    </tr>\n",
       "    <tr>\n",
       "      <th>1</th>\n",
       "      <td>0.0</td>\n",
       "      <td>0.0</td>\n",
       "      <td>0.0</td>\n",
       "      <td>1.0</td>\n",
       "      <td>0.0</td>\n",
       "      <td>0.0</td>\n",
       "      <td>0.0</td>\n",
       "      <td>0.0</td>\n",
       "      <td>1.0</td>\n",
       "      <td>0.0</td>\n",
       "      <td>...</td>\n",
       "      <td>0.0</td>\n",
       "      <td>0.0</td>\n",
       "      <td>0.0</td>\n",
       "      <td>0.0</td>\n",
       "      <td>1.0</td>\n",
       "      <td>0.0</td>\n",
       "      <td>162665.0</td>\n",
       "      <td>26459902225.0</td>\n",
       "      <td>650660.0</td>\n",
       "      <td>32345.966851</td>\n",
       "    </tr>\n",
       "    <tr>\n",
       "      <th>2</th>\n",
       "      <td>0.0</td>\n",
       "      <td>1.0</td>\n",
       "      <td>0.0</td>\n",
       "      <td>0.0</td>\n",
       "      <td>0.0</td>\n",
       "      <td>0.0</td>\n",
       "      <td>0.0</td>\n",
       "      <td>0.0</td>\n",
       "      <td>0.0</td>\n",
       "      <td>1.0</td>\n",
       "      <td>...</td>\n",
       "      <td>0.0</td>\n",
       "      <td>1.0</td>\n",
       "      <td>0.0</td>\n",
       "      <td>0.0</td>\n",
       "      <td>0.0</td>\n",
       "      <td>0.0</td>\n",
       "      <td>42844.0</td>\n",
       "      <td>1835608336.0</td>\n",
       "      <td>171376.0</td>\n",
       "      <td>-87475.033149</td>\n",
       "    </tr>\n",
       "    <tr>\n",
       "      <th>3</th>\n",
       "      <td>0.0</td>\n",
       "      <td>1.0</td>\n",
       "      <td>0.0</td>\n",
       "      <td>0.0</td>\n",
       "      <td>0.0</td>\n",
       "      <td>0.0</td>\n",
       "      <td>0.0</td>\n",
       "      <td>0.0</td>\n",
       "      <td>0.0</td>\n",
       "      <td>1.0</td>\n",
       "      <td>...</td>\n",
       "      <td>0.0</td>\n",
       "      <td>0.0</td>\n",
       "      <td>0.0</td>\n",
       "      <td>0.0</td>\n",
       "      <td>1.0</td>\n",
       "      <td>0.0</td>\n",
       "      <td>195829.0</td>\n",
       "      <td>38348997241.0</td>\n",
       "      <td>783316.0</td>\n",
       "      <td>65509.966851</td>\n",
       "    </tr>\n",
       "    <tr>\n",
       "      <th>4</th>\n",
       "      <td>0.0</td>\n",
       "      <td>1.0</td>\n",
       "      <td>0.0</td>\n",
       "      <td>0.0</td>\n",
       "      <td>0.0</td>\n",
       "      <td>0.0</td>\n",
       "      <td>1.0</td>\n",
       "      <td>0.0</td>\n",
       "      <td>0.0</td>\n",
       "      <td>0.0</td>\n",
       "      <td>...</td>\n",
       "      <td>0.0</td>\n",
       "      <td>0.0</td>\n",
       "      <td>0.0</td>\n",
       "      <td>0.0</td>\n",
       "      <td>0.0</td>\n",
       "      <td>1.0</td>\n",
       "      <td>219217.0</td>\n",
       "      <td>48056093089.0</td>\n",
       "      <td>876868.0</td>\n",
       "      <td>88897.966851</td>\n",
       "    </tr>\n",
       "    <tr>\n",
       "      <th>...</th>\n",
       "      <td>...</td>\n",
       "      <td>...</td>\n",
       "      <td>...</td>\n",
       "      <td>...</td>\n",
       "      <td>...</td>\n",
       "      <td>...</td>\n",
       "      <td>...</td>\n",
       "      <td>...</td>\n",
       "      <td>...</td>\n",
       "      <td>...</td>\n",
       "      <td>...</td>\n",
       "      <td>...</td>\n",
       "      <td>...</td>\n",
       "      <td>...</td>\n",
       "      <td>...</td>\n",
       "      <td>...</td>\n",
       "      <td>...</td>\n",
       "      <td>...</td>\n",
       "      <td>...</td>\n",
       "      <td>...</td>\n",
       "      <td>...</td>\n",
       "    </tr>\n",
       "    <tr>\n",
       "      <th>755</th>\n",
       "      <td>0.0</td>\n",
       "      <td>0.0</td>\n",
       "      <td>0.0</td>\n",
       "      <td>1.0</td>\n",
       "      <td>0.0</td>\n",
       "      <td>0.0</td>\n",
       "      <td>0.0</td>\n",
       "      <td>0.0</td>\n",
       "      <td>0.0</td>\n",
       "      <td>0.0</td>\n",
       "      <td>...</td>\n",
       "      <td>0.0</td>\n",
       "      <td>0.0</td>\n",
       "      <td>0.0</td>\n",
       "      <td>0.0</td>\n",
       "      <td>0.0</td>\n",
       "      <td>1.0</td>\n",
       "      <td>218803.0</td>\n",
       "      <td>47874752809.0</td>\n",
       "      <td>875212.0</td>\n",
       "      <td>88483.966851</td>\n",
       "    </tr>\n",
       "    <tr>\n",
       "      <th>756</th>\n",
       "      <td>1.0</td>\n",
       "      <td>0.0</td>\n",
       "      <td>0.0</td>\n",
       "      <td>0.0</td>\n",
       "      <td>0.0</td>\n",
       "      <td>0.0</td>\n",
       "      <td>1.0</td>\n",
       "      <td>0.0</td>\n",
       "      <td>0.0</td>\n",
       "      <td>0.0</td>\n",
       "      <td>...</td>\n",
       "      <td>1.0</td>\n",
       "      <td>0.0</td>\n",
       "      <td>0.0</td>\n",
       "      <td>0.0</td>\n",
       "      <td>0.0</td>\n",
       "      <td>1.0</td>\n",
       "      <td>245427.0</td>\n",
       "      <td>60234412329.0</td>\n",
       "      <td>1227135.0</td>\n",
       "      <td>115107.966851</td>\n",
       "    </tr>\n",
       "    <tr>\n",
       "      <th>757</th>\n",
       "      <td>0.0</td>\n",
       "      <td>0.0</td>\n",
       "      <td>0.0</td>\n",
       "      <td>1.0</td>\n",
       "      <td>0.0</td>\n",
       "      <td>0.0</td>\n",
       "      <td>0.0</td>\n",
       "      <td>0.0</td>\n",
       "      <td>0.0</td>\n",
       "      <td>1.0</td>\n",
       "      <td>...</td>\n",
       "      <td>0.0</td>\n",
       "      <td>0.0</td>\n",
       "      <td>0.0</td>\n",
       "      <td>0.0</td>\n",
       "      <td>1.0</td>\n",
       "      <td>0.0</td>\n",
       "      <td>196225.0</td>\n",
       "      <td>38504250625.0</td>\n",
       "      <td>784900.0</td>\n",
       "      <td>65905.966851</td>\n",
       "    </tr>\n",
       "    <tr>\n",
       "      <th>758</th>\n",
       "      <td>0.0</td>\n",
       "      <td>1.0</td>\n",
       "      <td>0.0</td>\n",
       "      <td>0.0</td>\n",
       "      <td>0.0</td>\n",
       "      <td>0.0</td>\n",
       "      <td>1.0</td>\n",
       "      <td>0.0</td>\n",
       "      <td>0.0</td>\n",
       "      <td>0.0</td>\n",
       "      <td>...</td>\n",
       "      <td>0.0</td>\n",
       "      <td>0.0</td>\n",
       "      <td>0.0</td>\n",
       "      <td>1.0</td>\n",
       "      <td>0.0</td>\n",
       "      <td>0.0</td>\n",
       "      <td>133117.0</td>\n",
       "      <td>17720135689.0</td>\n",
       "      <td>515473.164483</td>\n",
       "      <td>2797.966851</td>\n",
       "    </tr>\n",
       "    <tr>\n",
       "      <th>759</th>\n",
       "      <td>0.0</td>\n",
       "      <td>1.0</td>\n",
       "      <td>0.0</td>\n",
       "      <td>0.0</td>\n",
       "      <td>0.0</td>\n",
       "      <td>0.0</td>\n",
       "      <td>0.0</td>\n",
       "      <td>0.0</td>\n",
       "      <td>0.0</td>\n",
       "      <td>0.0</td>\n",
       "      <td>...</td>\n",
       "      <td>0.0</td>\n",
       "      <td>0.0</td>\n",
       "      <td>0.0</td>\n",
       "      <td>0.0</td>\n",
       "      <td>1.0</td>\n",
       "      <td>0.0</td>\n",
       "      <td>150582.0</td>\n",
       "      <td>22674938724.0</td>\n",
       "      <td>515473.164483</td>\n",
       "      <td>20262.966851</td>\n",
       "    </tr>\n",
       "  </tbody>\n",
       "</table>\n",
       "<p>760 rows × 26 columns</p>\n",
       "</div>"
      ],
      "text/plain": [
       "    Make_BMW Make_Honda Make_Nissan Make_Toyota Make_missing Colour_Black  \\\n",
       "0        0.0        1.0         0.0         0.0          0.0          0.0   \n",
       "1        0.0        0.0         0.0         1.0          0.0          0.0   \n",
       "2        0.0        1.0         0.0         0.0          0.0          0.0   \n",
       "3        0.0        1.0         0.0         0.0          0.0          0.0   \n",
       "4        0.0        1.0         0.0         0.0          0.0          0.0   \n",
       "..       ...        ...         ...         ...          ...          ...   \n",
       "755      0.0        0.0         0.0         1.0          0.0          0.0   \n",
       "756      1.0        0.0         0.0         0.0          0.0          0.0   \n",
       "757      0.0        0.0         0.0         1.0          0.0          0.0   \n",
       "758      0.0        1.0         0.0         0.0          0.0          0.0   \n",
       "759      0.0        1.0         0.0         0.0          0.0          0.0   \n",
       "\n",
       "    Colour_Blue Colour_Green Colour_Red Colour_White  ... Doors_Sq_25.0  \\\n",
       "0           0.0          0.0        0.0          1.0  ...           0.0   \n",
       "1           0.0          0.0        1.0          0.0  ...           0.0   \n",
       "2           0.0          0.0        0.0          1.0  ...           0.0   \n",
       "3           0.0          0.0        0.0          1.0  ...           0.0   \n",
       "4           1.0          0.0        0.0          0.0  ...           0.0   \n",
       "..          ...          ...        ...          ...  ...           ...   \n",
       "755         0.0          0.0        0.0          0.0  ...           0.0   \n",
       "756         1.0          0.0        0.0          0.0  ...           1.0   \n",
       "757         0.0          0.0        0.0          1.0  ...           0.0   \n",
       "758         1.0          0.0        0.0          0.0  ...           0.0   \n",
       "759         0.0          0.0        0.0          0.0  ...           0.0   \n",
       "\n",
       "    Odometer_bin_0.0 Odometer_bin_1.0 Odometer_bin_2.0 Odometer_bin_3.0  \\\n",
       "0                0.0              1.0              0.0              0.0   \n",
       "1                0.0              0.0              0.0              1.0   \n",
       "2                1.0              0.0              0.0              0.0   \n",
       "3                0.0              0.0              0.0              1.0   \n",
       "4                0.0              0.0              0.0              0.0   \n",
       "..               ...              ...              ...              ...   \n",
       "755              0.0              0.0              0.0              0.0   \n",
       "756              0.0              0.0              0.0              0.0   \n",
       "757              0.0              0.0              0.0              1.0   \n",
       "758              0.0              0.0              1.0              0.0   \n",
       "759              0.0              0.0              0.0              1.0   \n",
       "\n",
       "    Odometer_bin_4.0 Odometer (KM)    Odometer_Sq Doors_x_Odometer  \\\n",
       "0                0.0       71934.0   5174500356.0         287736.0   \n",
       "1                0.0      162665.0  26459902225.0         650660.0   \n",
       "2                0.0       42844.0   1835608336.0         171376.0   \n",
       "3                0.0      195829.0  38348997241.0         783316.0   \n",
       "4                1.0      219217.0  48056093089.0         876868.0   \n",
       "..               ...           ...            ...              ...   \n",
       "755              1.0      218803.0  47874752809.0         875212.0   \n",
       "756              1.0      245427.0  60234412329.0        1227135.0   \n",
       "757              0.0      196225.0  38504250625.0         784900.0   \n",
       "758              0.0      133117.0  17720135689.0    515473.164483   \n",
       "759              0.0      150582.0  22674938724.0    515473.164483   \n",
       "\n",
       "    Odometer_Centered  \n",
       "0       -58385.033149  \n",
       "1        32345.966851  \n",
       "2       -87475.033149  \n",
       "3        65509.966851  \n",
       "4        88897.966851  \n",
       "..                ...  \n",
       "755      88483.966851  \n",
       "756     115107.966851  \n",
       "757      65905.966851  \n",
       "758       2797.966851  \n",
       "759      20262.966851  \n",
       "\n",
       "[760 rows x 26 columns]"
      ]
     },
     "execution_count": 45,
     "metadata": {},
     "output_type": "execute_result"
    }
   ],
   "source": [
    "# Mittelwert nur aus Trainingsdaten berechnen:\n",
    "odom_mean = X_train_df_transformed[\"Odometer (KM)\"].mean()\n",
    "\n",
    "# Neues Feature für Trainingsdaten:\n",
    "X_train_df_transformed[\"Odometer_Centered\"] = X_train_df_transformed[\"Odometer (KM)\"] - odom_mean\n",
    "\n",
    "# Neues Feature für Testdaten – gleicher Mittelwert!\n",
    "X_test_df_transformed[\"Odometer_Centered\"] = X_test_df_transformed[\"Odometer (KM)\"] - odom_mean\n",
    "\n",
    "X_train_df_transformed"
   ]
  },
  {
   "cell_type": "code",
   "execution_count": 46,
   "metadata": {},
   "outputs": [
    {
     "data": {
      "text/plain": [
       "array([[0.0, 0.0, 0.0, ..., 99761.0, 9952257121.0, 399044.0],\n",
       "       [0.0, 0.0, 0.0, ..., 17975.0, 323100625.0, 71900.0],\n",
       "       [0.0, 1.0, 0.0, ..., 197664.0, 39071056896.0, 790656.0],\n",
       "       ...,\n",
       "       [0.0, 0.0, 0.0, ..., 108569.0, 11787227761.0, 515473.16448326054],\n",
       "       [1.0, 0.0, 0.0, ..., 201190.0, 40477416100.0, 603570.0],\n",
       "       [0.0, 1.0, 0.0, ..., 61163.0, 3740912569.0, 244652.0]],\n",
       "      shape=(190, 25), dtype=object)"
      ]
     },
     "execution_count": 46,
     "metadata": {},
     "output_type": "execute_result"
    }
   ],
   "source": [
    "X_test_transformed"
   ]
  },
  {
   "cell_type": "code",
   "execution_count": 47,
   "metadata": {},
   "outputs": [
    {
     "data": {
      "application/vnd.microsoft.datawrangler.viewer.v0+json": {
       "columns": [
        {
         "name": "index",
         "rawType": "object",
         "type": "string"
        },
        {
         "name": "0",
         "rawType": "object",
         "type": "unknown"
        }
       ],
       "ref": "34438d86-1423-4075-9969-c17107442975",
       "rows": [
        [
         "Make_BMW",
         "object"
        ],
        [
         "Make_Honda",
         "object"
        ],
        [
         "Make_Nissan",
         "object"
        ],
        [
         "Make_Toyota",
         "object"
        ],
        [
         "Make_missing",
         "object"
        ],
        [
         "Colour_Black",
         "object"
        ],
        [
         "Colour_Blue",
         "object"
        ],
        [
         "Colour_Green",
         "object"
        ],
        [
         "Colour_Red",
         "object"
        ],
        [
         "Colour_White",
         "object"
        ],
        [
         "Colour_missing",
         "object"
        ],
        [
         "Doors_3.0",
         "object"
        ],
        [
         "Doors_4.0",
         "object"
        ],
        [
         "Doors_5.0",
         "object"
        ],
        [
         "Doors_Sq_9.0",
         "object"
        ],
        [
         "Doors_Sq_16.0",
         "object"
        ],
        [
         "Doors_Sq_25.0",
         "object"
        ],
        [
         "Odometer_bin_0.0",
         "object"
        ],
        [
         "Odometer_bin_1.0",
         "object"
        ],
        [
         "Odometer_bin_2.0",
         "object"
        ],
        [
         "Odometer_bin_3.0",
         "object"
        ],
        [
         "Odometer_bin_4.0",
         "object"
        ],
        [
         "Odometer (KM)",
         "object"
        ],
        [
         "Odometer_Sq",
         "object"
        ],
        [
         "Doors_x_Odometer",
         "object"
        ],
        [
         "Odometer_Centered",
         "object"
        ]
       ],
       "shape": {
        "columns": 1,
        "rows": 26
       }
      },
      "text/plain": [
       "Make_BMW             object\n",
       "Make_Honda           object\n",
       "Make_Nissan          object\n",
       "Make_Toyota          object\n",
       "Make_missing         object\n",
       "Colour_Black         object\n",
       "Colour_Blue          object\n",
       "Colour_Green         object\n",
       "Colour_Red           object\n",
       "Colour_White         object\n",
       "Colour_missing       object\n",
       "Doors_3.0            object\n",
       "Doors_4.0            object\n",
       "Doors_5.0            object\n",
       "Doors_Sq_9.0         object\n",
       "Doors_Sq_16.0        object\n",
       "Doors_Sq_25.0        object\n",
       "Odometer_bin_0.0     object\n",
       "Odometer_bin_1.0     object\n",
       "Odometer_bin_2.0     object\n",
       "Odometer_bin_3.0     object\n",
       "Odometer_bin_4.0     object\n",
       "Odometer (KM)        object\n",
       "Odometer_Sq          object\n",
       "Doors_x_Odometer     object\n",
       "Odometer_Centered    object\n",
       "dtype: object"
      ]
     },
     "execution_count": 47,
     "metadata": {},
     "output_type": "execute_result"
    }
   ],
   "source": [
    "# Datentypen prüfen:\n",
    "X_train_df_transformed.dtypes"
   ]
  },
  {
   "cell_type": "code",
   "execution_count": 48,
   "metadata": {},
   "outputs": [
    {
     "data": {
      "application/vnd.microsoft.datawrangler.viewer.v0+json": {
       "columns": [
        {
         "name": "index",
         "rawType": "object",
         "type": "string"
        },
        {
         "name": "0",
         "rawType": "object",
         "type": "unknown"
        }
       ],
       "ref": "89c1c738-2a5e-4665-ab5d-fe88d552ad1e",
       "rows": [
        [
         "Make_BMW",
         "float64"
        ],
        [
         "Make_Honda",
         "float64"
        ],
        [
         "Make_Nissan",
         "float64"
        ],
        [
         "Make_Toyota",
         "float64"
        ],
        [
         "Make_missing",
         "float64"
        ],
        [
         "Colour_Black",
         "float64"
        ],
        [
         "Colour_Blue",
         "float64"
        ],
        [
         "Colour_Green",
         "float64"
        ],
        [
         "Colour_Red",
         "float64"
        ],
        [
         "Colour_White",
         "float64"
        ],
        [
         "Colour_missing",
         "float64"
        ],
        [
         "Doors_3.0",
         "float64"
        ],
        [
         "Doors_4.0",
         "float64"
        ],
        [
         "Doors_5.0",
         "float64"
        ],
        [
         "Doors_Sq_9.0",
         "float64"
        ],
        [
         "Doors_Sq_16.0",
         "float64"
        ],
        [
         "Doors_Sq_25.0",
         "float64"
        ],
        [
         "Odometer_bin_0.0",
         "float64"
        ],
        [
         "Odometer_bin_1.0",
         "float64"
        ],
        [
         "Odometer_bin_2.0",
         "float64"
        ],
        [
         "Odometer_bin_3.0",
         "float64"
        ],
        [
         "Odometer_bin_4.0",
         "float64"
        ],
        [
         "Odometer (KM)",
         "float64"
        ],
        [
         "Odometer_Sq",
         "float64"
        ],
        [
         "Doors_x_Odometer",
         "float64"
        ],
        [
         "Odometer_Centered",
         "float64"
        ]
       ],
       "shape": {
        "columns": 1,
        "rows": 26
       }
      },
      "text/plain": [
       "Make_BMW             float64\n",
       "Make_Honda           float64\n",
       "Make_Nissan          float64\n",
       "Make_Toyota          float64\n",
       "Make_missing         float64\n",
       "Colour_Black         float64\n",
       "Colour_Blue          float64\n",
       "Colour_Green         float64\n",
       "Colour_Red           float64\n",
       "Colour_White         float64\n",
       "Colour_missing       float64\n",
       "Doors_3.0            float64\n",
       "Doors_4.0            float64\n",
       "Doors_5.0            float64\n",
       "Doors_Sq_9.0         float64\n",
       "Doors_Sq_16.0        float64\n",
       "Doors_Sq_25.0        float64\n",
       "Odometer_bin_0.0     float64\n",
       "Odometer_bin_1.0     float64\n",
       "Odometer_bin_2.0     float64\n",
       "Odometer_bin_3.0     float64\n",
       "Odometer_bin_4.0     float64\n",
       "Odometer (KM)        float64\n",
       "Odometer_Sq          float64\n",
       "Doors_x_Odometer     float64\n",
       "Odometer_Centered    float64\n",
       "dtype: object"
      ]
     },
     "execution_count": 48,
     "metadata": {},
     "output_type": "execute_result"
    }
   ],
   "source": [
    "# Datentypen anpassen:\n",
    "X_train_df_transformed = X_train_df_transformed.apply(pd.to_numeric)\n",
    "X_test_df_transformed = X_test_df_transformed.apply(pd.to_numeric)\n",
    "\n",
    "# Kontrolle der Datentypen:\n",
    "X_train_df_transformed.dtypes"
   ]
  },
  {
   "cell_type": "code",
   "execution_count": 49,
   "metadata": {},
   "outputs": [],
   "source": [
    "import pandas as pd\n",
    "import numpy as np\n",
    "import plotly.express as px\n",
    "\n",
    "def plot_outliers_boxplots(df: pd.DataFrame, dataset_name: str = \"Dataset\"):\n",
    "    \"\"\"\n",
    "    Sucht kontinuierliche numerische Features (exkl. binär/One-Hot),\n",
    "    erstellt für jedes einen Boxplot mit Outlier-Highlighting und\n",
    "    gibt alle Figure-Objekte sowie eine Outlier-Summary zurück.\n",
    "\n",
    "    Returns\n",
    "    -------\n",
    "    figs : list[plotly.graph_objs._figure.Figure]\n",
    "        Alle erzeugten Boxplot-Figuren.\n",
    "    summary : pd.DataFrame\n",
    "        Tabelle mit #Ausreißer je Feature und IQR-Grenzen.\n",
    "    \"\"\"\n",
    "    # 0) Sicherstellen, dass numerische Spalten numerisch sind\n",
    "    df_num = df.apply(pd.to_numeric)\n",
    "    \n",
    "    # 1) Numerische (und bool) Spalten erfassen\n",
    "    num_cols = df_num.select_dtypes(include=[\"number\", \"bool\"]).columns.tolist()\n",
    "\n",
    "    # 2) Binäre (One-Hot) Spalten erkennen (0/1 oder 0.0/1.0/False/True)\n",
    "    binary_cols = []\n",
    "    for c in num_cols:\n",
    "        u = pd.unique(df_num[c].dropna())\n",
    "        # auf 0/1 normalisieren (True/False -> 1/0)\n",
    "        norm = set()\n",
    "        for v in u:\n",
    "            if isinstance(v, (bool, np.bool_)):\n",
    "                norm.add(int(v))\n",
    "            else:\n",
    "                norm.add(v)\n",
    "        if len(norm) <= 2 and set(norm).issubset({0, 1, 0.0, 1.0}):\n",
    "            binary_cols.append(c)\n",
    "\n",
    "    # 3) Kontinuierliche Spalten\n",
    "    continuous_cols = [c for c in num_cols if c not in binary_cols]\n",
    "\n",
    "    figs = []\n",
    "    rows = []\n",
    "\n",
    "    for col in continuous_cols:\n",
    "        s = df_num[col].dropna()\n",
    "        if s.empty:\n",
    "            continue\n",
    "\n",
    "        Q1 = s.quantile(0.25)\n",
    "        Q3 = s.quantile(0.75)\n",
    "        IQR = Q3 - Q1\n",
    "        lower = Q1 - 1.5 * IQR\n",
    "        upper = Q3 + 1.5 * IQR\n",
    "\n",
    "        # Outlier-Flag\n",
    "        df_plot = pd.DataFrame({col: df_num[col]})\n",
    "        df_plot[\"is_outlier\"] = (df_plot[col] < lower) | (df_plot[col] > upper)\n",
    "\n",
    "        # Summary-Zeile\n",
    "        rows.append({\n",
    "            \"dataset\": dataset_name,\n",
    "            \"feature\": col,\n",
    "            \"n_total\": df_plot[col].notna().sum(),\n",
    "            \"n_outliers\": int(df_plot[\"is_outlier\"].sum()),\n",
    "            \"lower_bound\": lower,\n",
    "            \"upper_bound\": upper,\n",
    "            \"Q1\": Q1,\n",
    "            \"Q3\": Q3,\n",
    "            \"IQR\": IQR\n",
    "        })\n",
    "\n",
    "        fig = px.box(\n",
    "            df_plot,\n",
    "            y=col,\n",
    "            points=\"all\",\n",
    "            color=\"is_outlier\",\n",
    "            title=f\"{dataset_name} · {col} — Boxplot mit Outlier-Highlight\",\n",
    "        )\n",
    "        figs.append(fig)\n",
    "\n",
    "    summary = pd.DataFrame(rows).sort_values([\"n_outliers\", \"feature\"], ascending=[False, True])\n",
    "    return figs, summary"
   ]
  },
  {
   "cell_type": "code",
   "execution_count": 50,
   "metadata": {},
   "outputs": [
    {
     "data": {
      "application/vnd.plotly.v1+json": {
       "config": {
        "plotlyServerURL": "https://plot.ly"
       },
       "data": [
        {
         "alignmentgroup": "True",
         "boxpoints": "all",
         "hovertemplate": "is_outlier=False<br>Odometer (KM)=%{y}<extra></extra>",
         "legendgroup": "False",
         "marker": {
          "color": "#636efa"
         },
         "name": "False",
         "notched": false,
         "offsetgroup": "False",
         "orientation": "v",
         "showlegend": true,
         "type": "box",
         "x0": " ",
         "xaxis": "x",
         "y": {
          "bdata": "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",
          "dtype": "f8"
         },
         "y0": " ",
         "yaxis": "y"
        }
       ],
       "layout": {
        "boxmode": "group",
        "legend": {
         "title": {
          "text": "is_outlier"
         },
         "tracegroupgap": 0
        },
        "template": {
         "data": {
          "bar": [
           {
            "error_x": {
             "color": "#2a3f5f"
            },
            "error_y": {
             "color": "#2a3f5f"
            },
            "marker": {
             "line": {
              "color": "#E5ECF6",
              "width": 0.5
             },
             "pattern": {
              "fillmode": "overlay",
              "size": 10,
              "solidity": 0.2
             }
            },
            "type": "bar"
           }
          ],
          "barpolar": [
           {
            "marker": {
             "line": {
              "color": "#E5ECF6",
              "width": 0.5
             },
             "pattern": {
              "fillmode": "overlay",
              "size": 10,
              "solidity": 0.2
             }
            },
            "type": "barpolar"
           }
          ],
          "carpet": [
           {
            "aaxis": {
             "endlinecolor": "#2a3f5f",
             "gridcolor": "white",
             "linecolor": "white",
             "minorgridcolor": "white",
             "startlinecolor": "#2a3f5f"
            },
            "baxis": {
             "endlinecolor": "#2a3f5f",
             "gridcolor": "white",
             "linecolor": "white",
             "minorgridcolor": "white",
             "startlinecolor": "#2a3f5f"
            },
            "type": "carpet"
           }
          ],
          "choropleth": [
           {
            "colorbar": {
             "outlinewidth": 0,
             "ticks": ""
            },
            "type": "choropleth"
           }
          ],
          "contour": [
           {
            "colorbar": {
             "outlinewidth": 0,
             "ticks": ""
            },
            "colorscale": [
             [
              0,
              "#0d0887"
             ],
             [
              0.1111111111111111,
              "#46039f"
             ],
             [
              0.2222222222222222,
              "#7201a8"
             ],
             [
              0.3333333333333333,
              "#9c179e"
             ],
             [
              0.4444444444444444,
              "#bd3786"
             ],
             [
              0.5555555555555556,
              "#d8576b"
             ],
             [
              0.6666666666666666,
              "#ed7953"
             ],
             [
              0.7777777777777778,
              "#fb9f3a"
             ],
             [
              0.8888888888888888,
              "#fdca26"
             ],
             [
              1,
              "#f0f921"
             ]
            ],
            "type": "contour"
           }
          ],
          "contourcarpet": [
           {
            "colorbar": {
             "outlinewidth": 0,
             "ticks": ""
            },
            "type": "contourcarpet"
           }
          ],
          "heatmap": [
           {
            "colorbar": {
             "outlinewidth": 0,
             "ticks": ""
            },
            "colorscale": [
             [
              0,
              "#0d0887"
             ],
             [
              0.1111111111111111,
              "#46039f"
             ],
             [
              0.2222222222222222,
              "#7201a8"
             ],
             [
              0.3333333333333333,
              "#9c179e"
             ],
             [
              0.4444444444444444,
              "#bd3786"
             ],
             [
              0.5555555555555556,
              "#d8576b"
             ],
             [
              0.6666666666666666,
              "#ed7953"
             ],
             [
              0.7777777777777778,
              "#fb9f3a"
             ],
             [
              0.8888888888888888,
              "#fdca26"
             ],
             [
              1,
              "#f0f921"
             ]
            ],
            "type": "heatmap"
           }
          ],
          "histogram": [
           {
            "marker": {
             "pattern": {
              "fillmode": "overlay",
              "size": 10,
              "solidity": 0.2
             }
            },
            "type": "histogram"
           }
          ],
          "histogram2d": [
           {
            "colorbar": {
             "outlinewidth": 0,
             "ticks": ""
            },
            "colorscale": [
             [
              0,
              "#0d0887"
             ],
             [
              0.1111111111111111,
              "#46039f"
             ],
             [
              0.2222222222222222,
              "#7201a8"
             ],
             [
              0.3333333333333333,
              "#9c179e"
             ],
             [
              0.4444444444444444,
              "#bd3786"
             ],
             [
              0.5555555555555556,
              "#d8576b"
             ],
             [
              0.6666666666666666,
              "#ed7953"
             ],
             [
              0.7777777777777778,
              "#fb9f3a"
             ],
             [
              0.8888888888888888,
              "#fdca26"
             ],
             [
              1,
              "#f0f921"
             ]
            ],
            "type": "histogram2d"
           }
          ],
          "histogram2dcontour": [
           {
            "colorbar": {
             "outlinewidth": 0,
             "ticks": ""
            },
            "colorscale": [
             [
              0,
              "#0d0887"
             ],
             [
              0.1111111111111111,
              "#46039f"
             ],
             [
              0.2222222222222222,
              "#7201a8"
             ],
             [
              0.3333333333333333,
              "#9c179e"
             ],
             [
              0.4444444444444444,
              "#bd3786"
             ],
             [
              0.5555555555555556,
              "#d8576b"
             ],
             [
              0.6666666666666666,
              "#ed7953"
             ],
             [
              0.7777777777777778,
              "#fb9f3a"
             ],
             [
              0.8888888888888888,
              "#fdca26"
             ],
             [
              1,
              "#f0f921"
             ]
            ],
            "type": "histogram2dcontour"
           }
          ],
          "mesh3d": [
           {
            "colorbar": {
             "outlinewidth": 0,
             "ticks": ""
            },
            "type": "mesh3d"
           }
          ],
          "parcoords": [
           {
            "line": {
             "colorbar": {
              "outlinewidth": 0,
              "ticks": ""
             }
            },
            "type": "parcoords"
           }
          ],
          "pie": [
           {
            "automargin": true,
            "type": "pie"
           }
          ],
          "scatter": [
           {
            "fillpattern": {
             "fillmode": "overlay",
             "size": 10,
             "solidity": 0.2
            },
            "type": "scatter"
           }
          ],
          "scatter3d": [
           {
            "line": {
             "colorbar": {
              "outlinewidth": 0,
              "ticks": ""
             }
            },
            "marker": {
             "colorbar": {
              "outlinewidth": 0,
              "ticks": ""
             }
            },
            "type": "scatter3d"
           }
          ],
          "scattercarpet": [
           {
            "marker": {
             "colorbar": {
              "outlinewidth": 0,
              "ticks": ""
             }
            },
            "type": "scattercarpet"
           }
          ],
          "scattergeo": [
           {
            "marker": {
             "colorbar": {
              "outlinewidth": 0,
              "ticks": ""
             }
            },
            "type": "scattergeo"
           }
          ],
          "scattergl": [
           {
            "marker": {
             "colorbar": {
              "outlinewidth": 0,
              "ticks": ""
             }
            },
            "type": "scattergl"
           }
          ],
          "scattermap": [
           {
            "marker": {
             "colorbar": {
              "outlinewidth": 0,
              "ticks": ""
             }
            },
            "type": "scattermap"
           }
          ],
          "scattermapbox": [
           {
            "marker": {
             "colorbar": {
              "outlinewidth": 0,
              "ticks": ""
             }
            },
            "type": "scattermapbox"
           }
          ],
          "scatterpolar": [
           {
            "marker": {
             "colorbar": {
              "outlinewidth": 0,
              "ticks": ""
             }
            },
            "type": "scatterpolar"
           }
          ],
          "scatterpolargl": [
           {
            "marker": {
             "colorbar": {
              "outlinewidth": 0,
              "ticks": ""
             }
            },
            "type": "scatterpolargl"
           }
          ],
          "scatterternary": [
           {
            "marker": {
             "colorbar": {
              "outlinewidth": 0,
              "ticks": ""
             }
            },
            "type": "scatterternary"
           }
          ],
          "surface": [
           {
            "colorbar": {
             "outlinewidth": 0,
             "ticks": ""
            },
            "colorscale": [
             [
              0,
              "#0d0887"
             ],
             [
              0.1111111111111111,
              "#46039f"
             ],
             [
              0.2222222222222222,
              "#7201a8"
             ],
             [
              0.3333333333333333,
              "#9c179e"
             ],
             [
              0.4444444444444444,
              "#bd3786"
             ],
             [
              0.5555555555555556,
              "#d8576b"
             ],
             [
              0.6666666666666666,
              "#ed7953"
             ],
             [
              0.7777777777777778,
              "#fb9f3a"
             ],
             [
              0.8888888888888888,
              "#fdca26"
             ],
             [
              1,
              "#f0f921"
             ]
            ],
            "type": "surface"
           }
          ],
          "table": [
           {
            "cells": {
             "fill": {
              "color": "#EBF0F8"
             },
             "line": {
              "color": "white"
             }
            },
            "header": {
             "fill": {
              "color": "#C8D4E3"
             },
             "line": {
              "color": "white"
             }
            },
            "type": "table"
           }
          ]
         },
         "layout": {
          "annotationdefaults": {
           "arrowcolor": "#2a3f5f",
           "arrowhead": 0,
           "arrowwidth": 1
          },
          "autotypenumbers": "strict",
          "coloraxis": {
           "colorbar": {
            "outlinewidth": 0,
            "ticks": ""
           }
          },
          "colorscale": {
           "diverging": [
            [
             0,
             "#8e0152"
            ],
            [
             0.1,
             "#c51b7d"
            ],
            [
             0.2,
             "#de77ae"
            ],
            [
             0.3,
             "#f1b6da"
            ],
            [
             0.4,
             "#fde0ef"
            ],
            [
             0.5,
             "#f7f7f7"
            ],
            [
             0.6,
             "#e6f5d0"
            ],
            [
             0.7,
             "#b8e186"
            ],
            [
             0.8,
             "#7fbc41"
            ],
            [
             0.9,
             "#4d9221"
            ],
            [
             1,
             "#276419"
            ]
           ],
           "sequential": [
            [
             0,
             "#0d0887"
            ],
            [
             0.1111111111111111,
             "#46039f"
            ],
            [
             0.2222222222222222,
             "#7201a8"
            ],
            [
             0.3333333333333333,
             "#9c179e"
            ],
            [
             0.4444444444444444,
             "#bd3786"
            ],
            [
             0.5555555555555556,
             "#d8576b"
            ],
            [
             0.6666666666666666,
             "#ed7953"
            ],
            [
             0.7777777777777778,
             "#fb9f3a"
            ],
            [
             0.8888888888888888,
             "#fdca26"
            ],
            [
             1,
             "#f0f921"
            ]
           ],
           "sequentialminus": [
            [
             0,
             "#0d0887"
            ],
            [
             0.1111111111111111,
             "#46039f"
            ],
            [
             0.2222222222222222,
             "#7201a8"
            ],
            [
             0.3333333333333333,
             "#9c179e"
            ],
            [
             0.4444444444444444,
             "#bd3786"
            ],
            [
             0.5555555555555556,
             "#d8576b"
            ],
            [
             0.6666666666666666,
             "#ed7953"
            ],
            [
             0.7777777777777778,
             "#fb9f3a"
            ],
            [
             0.8888888888888888,
             "#fdca26"
            ],
            [
             1,
             "#f0f921"
            ]
           ]
          },
          "colorway": [
           "#636efa",
           "#EF553B",
           "#00cc96",
           "#ab63fa",
           "#FFA15A",
           "#19d3f3",
           "#FF6692",
           "#B6E880",
           "#FF97FF",
           "#FECB52"
          ],
          "font": {
           "color": "#2a3f5f"
          },
          "geo": {
           "bgcolor": "white",
           "lakecolor": "white",
           "landcolor": "#E5ECF6",
           "showlakes": true,
           "showland": true,
           "subunitcolor": "white"
          },
          "hoverlabel": {
           "align": "left"
          },
          "hovermode": "closest",
          "mapbox": {
           "style": "light"
          },
          "paper_bgcolor": "white",
          "plot_bgcolor": "#E5ECF6",
          "polar": {
           "angularaxis": {
            "gridcolor": "white",
            "linecolor": "white",
            "ticks": ""
           },
           "bgcolor": "#E5ECF6",
           "radialaxis": {
            "gridcolor": "white",
            "linecolor": "white",
            "ticks": ""
           }
          },
          "scene": {
           "xaxis": {
            "backgroundcolor": "#E5ECF6",
            "gridcolor": "white",
            "gridwidth": 2,
            "linecolor": "white",
            "showbackground": true,
            "ticks": "",
            "zerolinecolor": "white"
           },
           "yaxis": {
            "backgroundcolor": "#E5ECF6",
            "gridcolor": "white",
            "gridwidth": 2,
            "linecolor": "white",
            "showbackground": true,
            "ticks": "",
            "zerolinecolor": "white"
           },
           "zaxis": {
            "backgroundcolor": "#E5ECF6",
            "gridcolor": "white",
            "gridwidth": 2,
            "linecolor": "white",
            "showbackground": true,
            "ticks": "",
            "zerolinecolor": "white"
           }
          },
          "shapedefaults": {
           "line": {
            "color": "#2a3f5f"
           }
          },
          "ternary": {
           "aaxis": {
            "gridcolor": "white",
            "linecolor": "white",
            "ticks": ""
           },
           "baxis": {
            "gridcolor": "white",
            "linecolor": "white",
            "ticks": ""
           },
           "bgcolor": "#E5ECF6",
           "caxis": {
            "gridcolor": "white",
            "linecolor": "white",
            "ticks": ""
           }
          },
          "title": {
           "x": 0.05
          },
          "xaxis": {
           "automargin": true,
           "gridcolor": "white",
           "linecolor": "white",
           "ticks": "",
           "title": {
            "standoff": 15
           },
           "zerolinecolor": "white",
           "zerolinewidth": 2
          },
          "yaxis": {
           "automargin": true,
           "gridcolor": "white",
           "linecolor": "white",
           "ticks": "",
           "title": {
            "standoff": 15
           },
           "zerolinecolor": "white",
           "zerolinewidth": 2
          }
         }
        },
        "title": {
         "text": "Train · Odometer (KM) — Boxplot mit Outlier-Highlight"
        },
        "xaxis": {
         "anchor": "y",
         "domain": [
          0,
          1
         ]
        },
        "yaxis": {
         "anchor": "x",
         "domain": [
          0,
          1
         ],
         "title": {
          "text": "Odometer (KM)"
         }
        }
       }
      }
     },
     "metadata": {},
     "output_type": "display_data"
    },
    {
     "data": {
      "application/vnd.plotly.v1+json": {
       "config": {
        "plotlyServerURL": "https://plot.ly"
       },
       "data": [
        {
         "alignmentgroup": "True",
         "boxpoints": "all",
         "hovertemplate": "is_outlier=False<br>Odometer_Sq=%{y}<extra></extra>",
         "legendgroup": "False",
         "marker": {
          "color": "#636efa"
         },
         "name": "False",
         "notched": false,
         "offsetgroup": "False",
         "orientation": "v",
         "showlegend": true,
         "type": "box",
         "x0": " ",
         "xaxis": "x",
         "y": {
          "bdata": "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",
          "dtype": "f8"
         },
         "y0": " ",
         "yaxis": "y"
        }
       ],
       "layout": {
        "boxmode": "group",
        "legend": {
         "title": {
          "text": "is_outlier"
         },
         "tracegroupgap": 0
        },
        "template": {
         "data": {
          "bar": [
           {
            "error_x": {
             "color": "#2a3f5f"
            },
            "error_y": {
             "color": "#2a3f5f"
            },
            "marker": {
             "line": {
              "color": "#E5ECF6",
              "width": 0.5
             },
             "pattern": {
              "fillmode": "overlay",
              "size": 10,
              "solidity": 0.2
             }
            },
            "type": "bar"
           }
          ],
          "barpolar": [
           {
            "marker": {
             "line": {
              "color": "#E5ECF6",
              "width": 0.5
             },
             "pattern": {
              "fillmode": "overlay",
              "size": 10,
              "solidity": 0.2
             }
            },
            "type": "barpolar"
           }
          ],
          "carpet": [
           {
            "aaxis": {
             "endlinecolor": "#2a3f5f",
             "gridcolor": "white",
             "linecolor": "white",
             "minorgridcolor": "white",
             "startlinecolor": "#2a3f5f"
            },
            "baxis": {
             "endlinecolor": "#2a3f5f",
             "gridcolor": "white",
             "linecolor": "white",
             "minorgridcolor": "white",
             "startlinecolor": "#2a3f5f"
            },
            "type": "carpet"
           }
          ],
          "choropleth": [
           {
            "colorbar": {
             "outlinewidth": 0,
             "ticks": ""
            },
            "type": "choropleth"
           }
          ],
          "contour": [
           {
            "colorbar": {
             "outlinewidth": 0,
             "ticks": ""
            },
            "colorscale": [
             [
              0,
              "#0d0887"
             ],
             [
              0.1111111111111111,
              "#46039f"
             ],
             [
              0.2222222222222222,
              "#7201a8"
             ],
             [
              0.3333333333333333,
              "#9c179e"
             ],
             [
              0.4444444444444444,
              "#bd3786"
             ],
             [
              0.5555555555555556,
              "#d8576b"
             ],
             [
              0.6666666666666666,
              "#ed7953"
             ],
             [
              0.7777777777777778,
              "#fb9f3a"
             ],
             [
              0.8888888888888888,
              "#fdca26"
             ],
             [
              1,
              "#f0f921"
             ]
            ],
            "type": "contour"
           }
          ],
          "contourcarpet": [
           {
            "colorbar": {
             "outlinewidth": 0,
             "ticks": ""
            },
            "type": "contourcarpet"
           }
          ],
          "heatmap": [
           {
            "colorbar": {
             "outlinewidth": 0,
             "ticks": ""
            },
            "colorscale": [
             [
              0,
              "#0d0887"
             ],
             [
              0.1111111111111111,
              "#46039f"
             ],
             [
              0.2222222222222222,
              "#7201a8"
             ],
             [
              0.3333333333333333,
              "#9c179e"
             ],
             [
              0.4444444444444444,
              "#bd3786"
             ],
             [
              0.5555555555555556,
              "#d8576b"
             ],
             [
              0.6666666666666666,
              "#ed7953"
             ],
             [
              0.7777777777777778,
              "#fb9f3a"
             ],
             [
              0.8888888888888888,
              "#fdca26"
             ],
             [
              1,
              "#f0f921"
             ]
            ],
            "type": "heatmap"
           }
          ],
          "histogram": [
           {
            "marker": {
             "pattern": {
              "fillmode": "overlay",
              "size": 10,
              "solidity": 0.2
             }
            },
            "type": "histogram"
           }
          ],
          "histogram2d": [
           {
            "colorbar": {
             "outlinewidth": 0,
             "ticks": ""
            },
            "colorscale": [
             [
              0,
              "#0d0887"
             ],
             [
              0.1111111111111111,
              "#46039f"
             ],
             [
              0.2222222222222222,
              "#7201a8"
             ],
             [
              0.3333333333333333,
              "#9c179e"
             ],
             [
              0.4444444444444444,
              "#bd3786"
             ],
             [
              0.5555555555555556,
              "#d8576b"
             ],
             [
              0.6666666666666666,
              "#ed7953"
             ],
             [
              0.7777777777777778,
              "#fb9f3a"
             ],
             [
              0.8888888888888888,
              "#fdca26"
             ],
             [
              1,
              "#f0f921"
             ]
            ],
            "type": "histogram2d"
           }
          ],
          "histogram2dcontour": [
           {
            "colorbar": {
             "outlinewidth": 0,
             "ticks": ""
            },
            "colorscale": [
             [
              0,
              "#0d0887"
             ],
             [
              0.1111111111111111,
              "#46039f"
             ],
             [
              0.2222222222222222,
              "#7201a8"
             ],
             [
              0.3333333333333333,
              "#9c179e"
             ],
             [
              0.4444444444444444,
              "#bd3786"
             ],
             [
              0.5555555555555556,
              "#d8576b"
             ],
             [
              0.6666666666666666,
              "#ed7953"
             ],
             [
              0.7777777777777778,
              "#fb9f3a"
             ],
             [
              0.8888888888888888,
              "#fdca26"
             ],
             [
              1,
              "#f0f921"
             ]
            ],
            "type": "histogram2dcontour"
           }
          ],
          "mesh3d": [
           {
            "colorbar": {
             "outlinewidth": 0,
             "ticks": ""
            },
            "type": "mesh3d"
           }
          ],
          "parcoords": [
           {
            "line": {
             "colorbar": {
              "outlinewidth": 0,
              "ticks": ""
             }
            },
            "type": "parcoords"
           }
          ],
          "pie": [
           {
            "automargin": true,
            "type": "pie"
           }
          ],
          "scatter": [
           {
            "fillpattern": {
             "fillmode": "overlay",
             "size": 10,
             "solidity": 0.2
            },
            "type": "scatter"
           }
          ],
          "scatter3d": [
           {
            "line": {
             "colorbar": {
              "outlinewidth": 0,
              "ticks": ""
             }
            },
            "marker": {
             "colorbar": {
              "outlinewidth": 0,
              "ticks": ""
             }
            },
            "type": "scatter3d"
           }
          ],
          "scattercarpet": [
           {
            "marker": {
             "colorbar": {
              "outlinewidth": 0,
              "ticks": ""
             }
            },
            "type": "scattercarpet"
           }
          ],
          "scattergeo": [
           {
            "marker": {
             "colorbar": {
              "outlinewidth": 0,
              "ticks": ""
             }
            },
            "type": "scattergeo"
           }
          ],
          "scattergl": [
           {
            "marker": {
             "colorbar": {
              "outlinewidth": 0,
              "ticks": ""
             }
            },
            "type": "scattergl"
           }
          ],
          "scattermap": [
           {
            "marker": {
             "colorbar": {
              "outlinewidth": 0,
              "ticks": ""
             }
            },
            "type": "scattermap"
           }
          ],
          "scattermapbox": [
           {
            "marker": {
             "colorbar": {
              "outlinewidth": 0,
              "ticks": ""
             }
            },
            "type": "scattermapbox"
           }
          ],
          "scatterpolar": [
           {
            "marker": {
             "colorbar": {
              "outlinewidth": 0,
              "ticks": ""
             }
            },
            "type": "scatterpolar"
           }
          ],
          "scatterpolargl": [
           {
            "marker": {
             "colorbar": {
              "outlinewidth": 0,
              "ticks": ""
             }
            },
            "type": "scatterpolargl"
           }
          ],
          "scatterternary": [
           {
            "marker": {
             "colorbar": {
              "outlinewidth": 0,
              "ticks": ""
             }
            },
            "type": "scatterternary"
           }
          ],
          "surface": [
           {
            "colorbar": {
             "outlinewidth": 0,
             "ticks": ""
            },
            "colorscale": [
             [
              0,
              "#0d0887"
             ],
             [
              0.1111111111111111,
              "#46039f"
             ],
             [
              0.2222222222222222,
              "#7201a8"
             ],
             [
              0.3333333333333333,
              "#9c179e"
             ],
             [
              0.4444444444444444,
              "#bd3786"
             ],
             [
              0.5555555555555556,
              "#d8576b"
             ],
             [
              0.6666666666666666,
              "#ed7953"
             ],
             [
              0.7777777777777778,
              "#fb9f3a"
             ],
             [
              0.8888888888888888,
              "#fdca26"
             ],
             [
              1,
              "#f0f921"
             ]
            ],
            "type": "surface"
           }
          ],
          "table": [
           {
            "cells": {
             "fill": {
              "color": "#EBF0F8"
             },
             "line": {
              "color": "white"
             }
            },
            "header": {
             "fill": {
              "color": "#C8D4E3"
             },
             "line": {
              "color": "white"
             }
            },
            "type": "table"
           }
          ]
         },
         "layout": {
          "annotationdefaults": {
           "arrowcolor": "#2a3f5f",
           "arrowhead": 0,
           "arrowwidth": 1
          },
          "autotypenumbers": "strict",
          "coloraxis": {
           "colorbar": {
            "outlinewidth": 0,
            "ticks": ""
           }
          },
          "colorscale": {
           "diverging": [
            [
             0,
             "#8e0152"
            ],
            [
             0.1,
             "#c51b7d"
            ],
            [
             0.2,
             "#de77ae"
            ],
            [
             0.3,
             "#f1b6da"
            ],
            [
             0.4,
             "#fde0ef"
            ],
            [
             0.5,
             "#f7f7f7"
            ],
            [
             0.6,
             "#e6f5d0"
            ],
            [
             0.7,
             "#b8e186"
            ],
            [
             0.8,
             "#7fbc41"
            ],
            [
             0.9,
             "#4d9221"
            ],
            [
             1,
             "#276419"
            ]
           ],
           "sequential": [
            [
             0,
             "#0d0887"
            ],
            [
             0.1111111111111111,
             "#46039f"
            ],
            [
             0.2222222222222222,
             "#7201a8"
            ],
            [
             0.3333333333333333,
             "#9c179e"
            ],
            [
             0.4444444444444444,
             "#bd3786"
            ],
            [
             0.5555555555555556,
             "#d8576b"
            ],
            [
             0.6666666666666666,
             "#ed7953"
            ],
            [
             0.7777777777777778,
             "#fb9f3a"
            ],
            [
             0.8888888888888888,
             "#fdca26"
            ],
            [
             1,
             "#f0f921"
            ]
           ],
           "sequentialminus": [
            [
             0,
             "#0d0887"
            ],
            [
             0.1111111111111111,
             "#46039f"
            ],
            [
             0.2222222222222222,
             "#7201a8"
            ],
            [
             0.3333333333333333,
             "#9c179e"
            ],
            [
             0.4444444444444444,
             "#bd3786"
            ],
            [
             0.5555555555555556,
             "#d8576b"
            ],
            [
             0.6666666666666666,
             "#ed7953"
            ],
            [
             0.7777777777777778,
             "#fb9f3a"
            ],
            [
             0.8888888888888888,
             "#fdca26"
            ],
            [
             1,
             "#f0f921"
            ]
           ]
          },
          "colorway": [
           "#636efa",
           "#EF553B",
           "#00cc96",
           "#ab63fa",
           "#FFA15A",
           "#19d3f3",
           "#FF6692",
           "#B6E880",
           "#FF97FF",
           "#FECB52"
          ],
          "font": {
           "color": "#2a3f5f"
          },
          "geo": {
           "bgcolor": "white",
           "lakecolor": "white",
           "landcolor": "#E5ECF6",
           "showlakes": true,
           "showland": true,
           "subunitcolor": "white"
          },
          "hoverlabel": {
           "align": "left"
          },
          "hovermode": "closest",
          "mapbox": {
           "style": "light"
          },
          "paper_bgcolor": "white",
          "plot_bgcolor": "#E5ECF6",
          "polar": {
           "angularaxis": {
            "gridcolor": "white",
            "linecolor": "white",
            "ticks": ""
           },
           "bgcolor": "#E5ECF6",
           "radialaxis": {
            "gridcolor": "white",
            "linecolor": "white",
            "ticks": ""
           }
          },
          "scene": {
           "xaxis": {
            "backgroundcolor": "#E5ECF6",
            "gridcolor": "white",
            "gridwidth": 2,
            "linecolor": "white",
            "showbackground": true,
            "ticks": "",
            "zerolinecolor": "white"
           },
           "yaxis": {
            "backgroundcolor": "#E5ECF6",
            "gridcolor": "white",
            "gridwidth": 2,
            "linecolor": "white",
            "showbackground": true,
            "ticks": "",
            "zerolinecolor": "white"
           },
           "zaxis": {
            "backgroundcolor": "#E5ECF6",
            "gridcolor": "white",
            "gridwidth": 2,
            "linecolor": "white",
            "showbackground": true,
            "ticks": "",
            "zerolinecolor": "white"
           }
          },
          "shapedefaults": {
           "line": {
            "color": "#2a3f5f"
           }
          },
          "ternary": {
           "aaxis": {
            "gridcolor": "white",
            "linecolor": "white",
            "ticks": ""
           },
           "baxis": {
            "gridcolor": "white",
            "linecolor": "white",
            "ticks": ""
           },
           "bgcolor": "#E5ECF6",
           "caxis": {
            "gridcolor": "white",
            "linecolor": "white",
            "ticks": ""
           }
          },
          "title": {
           "x": 0.05
          },
          "xaxis": {
           "automargin": true,
           "gridcolor": "white",
           "linecolor": "white",
           "ticks": "",
           "title": {
            "standoff": 15
           },
           "zerolinecolor": "white",
           "zerolinewidth": 2
          },
          "yaxis": {
           "automargin": true,
           "gridcolor": "white",
           "linecolor": "white",
           "ticks": "",
           "title": {
            "standoff": 15
           },
           "zerolinecolor": "white",
           "zerolinewidth": 2
          }
         }
        },
        "title": {
         "text": "Train · Odometer_Sq — Boxplot mit Outlier-Highlight"
        },
        "xaxis": {
         "anchor": "y",
         "domain": [
          0,
          1
         ]
        },
        "yaxis": {
         "anchor": "x",
         "domain": [
          0,
          1
         ],
         "title": {
          "text": "Odometer_Sq"
         }
        }
       }
      }
     },
     "metadata": {},
     "output_type": "display_data"
    },
    {
     "data": {
      "application/vnd.plotly.v1+json": {
       "config": {
        "plotlyServerURL": "https://plot.ly"
       },
       "data": [
        {
         "alignmentgroup": "True",
         "boxpoints": "all",
         "hovertemplate": "is_outlier=False<br>Doors_x_Odometer=%{y}<extra></extra>",
         "legendgroup": "False",
         "marker": {
          "color": "#636efa"
         },
         "name": "False",
         "notched": false,
         "offsetgroup": "False",
         "orientation": "v",
         "showlegend": true,
         "type": "box",
         "x0": " ",
         "xaxis": "x",
         "y": {
          "bdata": "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",
          "dtype": "f8"
         },
         "y0": " ",
         "yaxis": "y"
        }
       ],
       "layout": {
        "boxmode": "group",
        "legend": {
         "title": {
          "text": "is_outlier"
         },
         "tracegroupgap": 0
        },
        "template": {
         "data": {
          "bar": [
           {
            "error_x": {
             "color": "#2a3f5f"
            },
            "error_y": {
             "color": "#2a3f5f"
            },
            "marker": {
             "line": {
              "color": "#E5ECF6",
              "width": 0.5
             },
             "pattern": {
              "fillmode": "overlay",
              "size": 10,
              "solidity": 0.2
             }
            },
            "type": "bar"
           }
          ],
          "barpolar": [
           {
            "marker": {
             "line": {
              "color": "#E5ECF6",
              "width": 0.5
             },
             "pattern": {
              "fillmode": "overlay",
              "size": 10,
              "solidity": 0.2
             }
            },
            "type": "barpolar"
           }
          ],
          "carpet": [
           {
            "aaxis": {
             "endlinecolor": "#2a3f5f",
             "gridcolor": "white",
             "linecolor": "white",
             "minorgridcolor": "white",
             "startlinecolor": "#2a3f5f"
            },
            "baxis": {
             "endlinecolor": "#2a3f5f",
             "gridcolor": "white",
             "linecolor": "white",
             "minorgridcolor": "white",
             "startlinecolor": "#2a3f5f"
            },
            "type": "carpet"
           }
          ],
          "choropleth": [
           {
            "colorbar": {
             "outlinewidth": 0,
             "ticks": ""
            },
            "type": "choropleth"
           }
          ],
          "contour": [
           {
            "colorbar": {
             "outlinewidth": 0,
             "ticks": ""
            },
            "colorscale": [
             [
              0,
              "#0d0887"
             ],
             [
              0.1111111111111111,
              "#46039f"
             ],
             [
              0.2222222222222222,
              "#7201a8"
             ],
             [
              0.3333333333333333,
              "#9c179e"
             ],
             [
              0.4444444444444444,
              "#bd3786"
             ],
             [
              0.5555555555555556,
              "#d8576b"
             ],
             [
              0.6666666666666666,
              "#ed7953"
             ],
             [
              0.7777777777777778,
              "#fb9f3a"
             ],
             [
              0.8888888888888888,
              "#fdca26"
             ],
             [
              1,
              "#f0f921"
             ]
            ],
            "type": "contour"
           }
          ],
          "contourcarpet": [
           {
            "colorbar": {
             "outlinewidth": 0,
             "ticks": ""
            },
            "type": "contourcarpet"
           }
          ],
          "heatmap": [
           {
            "colorbar": {
             "outlinewidth": 0,
             "ticks": ""
            },
            "colorscale": [
             [
              0,
              "#0d0887"
             ],
             [
              0.1111111111111111,
              "#46039f"
             ],
             [
              0.2222222222222222,
              "#7201a8"
             ],
             [
              0.3333333333333333,
              "#9c179e"
             ],
             [
              0.4444444444444444,
              "#bd3786"
             ],
             [
              0.5555555555555556,
              "#d8576b"
             ],
             [
              0.6666666666666666,
              "#ed7953"
             ],
             [
              0.7777777777777778,
              "#fb9f3a"
             ],
             [
              0.8888888888888888,
              "#fdca26"
             ],
             [
              1,
              "#f0f921"
             ]
            ],
            "type": "heatmap"
           }
          ],
          "histogram": [
           {
            "marker": {
             "pattern": {
              "fillmode": "overlay",
              "size": 10,
              "solidity": 0.2
             }
            },
            "type": "histogram"
           }
          ],
          "histogram2d": [
           {
            "colorbar": {
             "outlinewidth": 0,
             "ticks": ""
            },
            "colorscale": [
             [
              0,
              "#0d0887"
             ],
             [
              0.1111111111111111,
              "#46039f"
             ],
             [
              0.2222222222222222,
              "#7201a8"
             ],
             [
              0.3333333333333333,
              "#9c179e"
             ],
             [
              0.4444444444444444,
              "#bd3786"
             ],
             [
              0.5555555555555556,
              "#d8576b"
             ],
             [
              0.6666666666666666,
              "#ed7953"
             ],
             [
              0.7777777777777778,
              "#fb9f3a"
             ],
             [
              0.8888888888888888,
              "#fdca26"
             ],
             [
              1,
              "#f0f921"
             ]
            ],
            "type": "histogram2d"
           }
          ],
          "histogram2dcontour": [
           {
            "colorbar": {
             "outlinewidth": 0,
             "ticks": ""
            },
            "colorscale": [
             [
              0,
              "#0d0887"
             ],
             [
              0.1111111111111111,
              "#46039f"
             ],
             [
              0.2222222222222222,
              "#7201a8"
             ],
             [
              0.3333333333333333,
              "#9c179e"
             ],
             [
              0.4444444444444444,
              "#bd3786"
             ],
             [
              0.5555555555555556,
              "#d8576b"
             ],
             [
              0.6666666666666666,
              "#ed7953"
             ],
             [
              0.7777777777777778,
              "#fb9f3a"
             ],
             [
              0.8888888888888888,
              "#fdca26"
             ],
             [
              1,
              "#f0f921"
             ]
            ],
            "type": "histogram2dcontour"
           }
          ],
          "mesh3d": [
           {
            "colorbar": {
             "outlinewidth": 0,
             "ticks": ""
            },
            "type": "mesh3d"
           }
          ],
          "parcoords": [
           {
            "line": {
             "colorbar": {
              "outlinewidth": 0,
              "ticks": ""
             }
            },
            "type": "parcoords"
           }
          ],
          "pie": [
           {
            "automargin": true,
            "type": "pie"
           }
          ],
          "scatter": [
           {
            "fillpattern": {
             "fillmode": "overlay",
             "size": 10,
             "solidity": 0.2
            },
            "type": "scatter"
           }
          ],
          "scatter3d": [
           {
            "line": {
             "colorbar": {
              "outlinewidth": 0,
              "ticks": ""
             }
            },
            "marker": {
             "colorbar": {
              "outlinewidth": 0,
              "ticks": ""
             }
            },
            "type": "scatter3d"
           }
          ],
          "scattercarpet": [
           {
            "marker": {
             "colorbar": {
              "outlinewidth": 0,
              "ticks": ""
             }
            },
            "type": "scattercarpet"
           }
          ],
          "scattergeo": [
           {
            "marker": {
             "colorbar": {
              "outlinewidth": 0,
              "ticks": ""
             }
            },
            "type": "scattergeo"
           }
          ],
          "scattergl": [
           {
            "marker": {
             "colorbar": {
              "outlinewidth": 0,
              "ticks": ""
             }
            },
            "type": "scattergl"
           }
          ],
          "scattermap": [
           {
            "marker": {
             "colorbar": {
              "outlinewidth": 0,
              "ticks": ""
             }
            },
            "type": "scattermap"
           }
          ],
          "scattermapbox": [
           {
            "marker": {
             "colorbar": {
              "outlinewidth": 0,
              "ticks": ""
             }
            },
            "type": "scattermapbox"
           }
          ],
          "scatterpolar": [
           {
            "marker": {
             "colorbar": {
              "outlinewidth": 0,
              "ticks": ""
             }
            },
            "type": "scatterpolar"
           }
          ],
          "scatterpolargl": [
           {
            "marker": {
             "colorbar": {
              "outlinewidth": 0,
              "ticks": ""
             }
            },
            "type": "scatterpolargl"
           }
          ],
          "scatterternary": [
           {
            "marker": {
             "colorbar": {
              "outlinewidth": 0,
              "ticks": ""
             }
            },
            "type": "scatterternary"
           }
          ],
          "surface": [
           {
            "colorbar": {
             "outlinewidth": 0,
             "ticks": ""
            },
            "colorscale": [
             [
              0,
              "#0d0887"
             ],
             [
              0.1111111111111111,
              "#46039f"
             ],
             [
              0.2222222222222222,
              "#7201a8"
             ],
             [
              0.3333333333333333,
              "#9c179e"
             ],
             [
              0.4444444444444444,
              "#bd3786"
             ],
             [
              0.5555555555555556,
              "#d8576b"
             ],
             [
              0.6666666666666666,
              "#ed7953"
             ],
             [
              0.7777777777777778,
              "#fb9f3a"
             ],
             [
              0.8888888888888888,
              "#fdca26"
             ],
             [
              1,
              "#f0f921"
             ]
            ],
            "type": "surface"
           }
          ],
          "table": [
           {
            "cells": {
             "fill": {
              "color": "#EBF0F8"
             },
             "line": {
              "color": "white"
             }
            },
            "header": {
             "fill": {
              "color": "#C8D4E3"
             },
             "line": {
              "color": "white"
             }
            },
            "type": "table"
           }
          ]
         },
         "layout": {
          "annotationdefaults": {
           "arrowcolor": "#2a3f5f",
           "arrowhead": 0,
           "arrowwidth": 1
          },
          "autotypenumbers": "strict",
          "coloraxis": {
           "colorbar": {
            "outlinewidth": 0,
            "ticks": ""
           }
          },
          "colorscale": {
           "diverging": [
            [
             0,
             "#8e0152"
            ],
            [
             0.1,
             "#c51b7d"
            ],
            [
             0.2,
             "#de77ae"
            ],
            [
             0.3,
             "#f1b6da"
            ],
            [
             0.4,
             "#fde0ef"
            ],
            [
             0.5,
             "#f7f7f7"
            ],
            [
             0.6,
             "#e6f5d0"
            ],
            [
             0.7,
             "#b8e186"
            ],
            [
             0.8,
             "#7fbc41"
            ],
            [
             0.9,
             "#4d9221"
            ],
            [
             1,
             "#276419"
            ]
           ],
           "sequential": [
            [
             0,
             "#0d0887"
            ],
            [
             0.1111111111111111,
             "#46039f"
            ],
            [
             0.2222222222222222,
             "#7201a8"
            ],
            [
             0.3333333333333333,
             "#9c179e"
            ],
            [
             0.4444444444444444,
             "#bd3786"
            ],
            [
             0.5555555555555556,
             "#d8576b"
            ],
            [
             0.6666666666666666,
             "#ed7953"
            ],
            [
             0.7777777777777778,
             "#fb9f3a"
            ],
            [
             0.8888888888888888,
             "#fdca26"
            ],
            [
             1,
             "#f0f921"
            ]
           ],
           "sequentialminus": [
            [
             0,
             "#0d0887"
            ],
            [
             0.1111111111111111,
             "#46039f"
            ],
            [
             0.2222222222222222,
             "#7201a8"
            ],
            [
             0.3333333333333333,
             "#9c179e"
            ],
            [
             0.4444444444444444,
             "#bd3786"
            ],
            [
             0.5555555555555556,
             "#d8576b"
            ],
            [
             0.6666666666666666,
             "#ed7953"
            ],
            [
             0.7777777777777778,
             "#fb9f3a"
            ],
            [
             0.8888888888888888,
             "#fdca26"
            ],
            [
             1,
             "#f0f921"
            ]
           ]
          },
          "colorway": [
           "#636efa",
           "#EF553B",
           "#00cc96",
           "#ab63fa",
           "#FFA15A",
           "#19d3f3",
           "#FF6692",
           "#B6E880",
           "#FF97FF",
           "#FECB52"
          ],
          "font": {
           "color": "#2a3f5f"
          },
          "geo": {
           "bgcolor": "white",
           "lakecolor": "white",
           "landcolor": "#E5ECF6",
           "showlakes": true,
           "showland": true,
           "subunitcolor": "white"
          },
          "hoverlabel": {
           "align": "left"
          },
          "hovermode": "closest",
          "mapbox": {
           "style": "light"
          },
          "paper_bgcolor": "white",
          "plot_bgcolor": "#E5ECF6",
          "polar": {
           "angularaxis": {
            "gridcolor": "white",
            "linecolor": "white",
            "ticks": ""
           },
           "bgcolor": "#E5ECF6",
           "radialaxis": {
            "gridcolor": "white",
            "linecolor": "white",
            "ticks": ""
           }
          },
          "scene": {
           "xaxis": {
            "backgroundcolor": "#E5ECF6",
            "gridcolor": "white",
            "gridwidth": 2,
            "linecolor": "white",
            "showbackground": true,
            "ticks": "",
            "zerolinecolor": "white"
           },
           "yaxis": {
            "backgroundcolor": "#E5ECF6",
            "gridcolor": "white",
            "gridwidth": 2,
            "linecolor": "white",
            "showbackground": true,
            "ticks": "",
            "zerolinecolor": "white"
           },
           "zaxis": {
            "backgroundcolor": "#E5ECF6",
            "gridcolor": "white",
            "gridwidth": 2,
            "linecolor": "white",
            "showbackground": true,
            "ticks": "",
            "zerolinecolor": "white"
           }
          },
          "shapedefaults": {
           "line": {
            "color": "#2a3f5f"
           }
          },
          "ternary": {
           "aaxis": {
            "gridcolor": "white",
            "linecolor": "white",
            "ticks": ""
           },
           "baxis": {
            "gridcolor": "white",
            "linecolor": "white",
            "ticks": ""
           },
           "bgcolor": "#E5ECF6",
           "caxis": {
            "gridcolor": "white",
            "linecolor": "white",
            "ticks": ""
           }
          },
          "title": {
           "x": 0.05
          },
          "xaxis": {
           "automargin": true,
           "gridcolor": "white",
           "linecolor": "white",
           "ticks": "",
           "title": {
            "standoff": 15
           },
           "zerolinecolor": "white",
           "zerolinewidth": 2
          },
          "yaxis": {
           "automargin": true,
           "gridcolor": "white",
           "linecolor": "white",
           "ticks": "",
           "title": {
            "standoff": 15
           },
           "zerolinecolor": "white",
           "zerolinewidth": 2
          }
         }
        },
        "title": {
         "text": "Train · Doors_x_Odometer — Boxplot mit Outlier-Highlight"
        },
        "xaxis": {
         "anchor": "y",
         "domain": [
          0,
          1
         ]
        },
        "yaxis": {
         "anchor": "x",
         "domain": [
          0,
          1
         ],
         "title": {
          "text": "Doors_x_Odometer"
         }
        }
       }
      }
     },
     "metadata": {},
     "output_type": "display_data"
    },
    {
     "data": {
      "application/vnd.plotly.v1+json": {
       "config": {
        "plotlyServerURL": "https://plot.ly"
       },
       "data": [
        {
         "alignmentgroup": "True",
         "boxpoints": "all",
         "hovertemplate": "is_outlier=False<br>Odometer_Centered=%{y}<extra></extra>",
         "legendgroup": "False",
         "marker": {
          "color": "#636efa"
         },
         "name": "False",
         "notched": false,
         "offsetgroup": "False",
         "orientation": "v",
         "showlegend": true,
         "type": "box",
         "x0": " ",
         "xaxis": "x",
         "y": {
          "bdata": "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",
          "dtype": "f8"
         },
         "y0": " ",
         "yaxis": "y"
        }
       ],
       "layout": {
        "boxmode": "group",
        "legend": {
         "title": {
          "text": "is_outlier"
         },
         "tracegroupgap": 0
        },
        "template": {
         "data": {
          "bar": [
           {
            "error_x": {
             "color": "#2a3f5f"
            },
            "error_y": {
             "color": "#2a3f5f"
            },
            "marker": {
             "line": {
              "color": "#E5ECF6",
              "width": 0.5
             },
             "pattern": {
              "fillmode": "overlay",
              "size": 10,
              "solidity": 0.2
             }
            },
            "type": "bar"
           }
          ],
          "barpolar": [
           {
            "marker": {
             "line": {
              "color": "#E5ECF6",
              "width": 0.5
             },
             "pattern": {
              "fillmode": "overlay",
              "size": 10,
              "solidity": 0.2
             }
            },
            "type": "barpolar"
           }
          ],
          "carpet": [
           {
            "aaxis": {
             "endlinecolor": "#2a3f5f",
             "gridcolor": "white",
             "linecolor": "white",
             "minorgridcolor": "white",
             "startlinecolor": "#2a3f5f"
            },
            "baxis": {
             "endlinecolor": "#2a3f5f",
             "gridcolor": "white",
             "linecolor": "white",
             "minorgridcolor": "white",
             "startlinecolor": "#2a3f5f"
            },
            "type": "carpet"
           }
          ],
          "choropleth": [
           {
            "colorbar": {
             "outlinewidth": 0,
             "ticks": ""
            },
            "type": "choropleth"
           }
          ],
          "contour": [
           {
            "colorbar": {
             "outlinewidth": 0,
             "ticks": ""
            },
            "colorscale": [
             [
              0,
              "#0d0887"
             ],
             [
              0.1111111111111111,
              "#46039f"
             ],
             [
              0.2222222222222222,
              "#7201a8"
             ],
             [
              0.3333333333333333,
              "#9c179e"
             ],
             [
              0.4444444444444444,
              "#bd3786"
             ],
             [
              0.5555555555555556,
              "#d8576b"
             ],
             [
              0.6666666666666666,
              "#ed7953"
             ],
             [
              0.7777777777777778,
              "#fb9f3a"
             ],
             [
              0.8888888888888888,
              "#fdca26"
             ],
             [
              1,
              "#f0f921"
             ]
            ],
            "type": "contour"
           }
          ],
          "contourcarpet": [
           {
            "colorbar": {
             "outlinewidth": 0,
             "ticks": ""
            },
            "type": "contourcarpet"
           }
          ],
          "heatmap": [
           {
            "colorbar": {
             "outlinewidth": 0,
             "ticks": ""
            },
            "colorscale": [
             [
              0,
              "#0d0887"
             ],
             [
              0.1111111111111111,
              "#46039f"
             ],
             [
              0.2222222222222222,
              "#7201a8"
             ],
             [
              0.3333333333333333,
              "#9c179e"
             ],
             [
              0.4444444444444444,
              "#bd3786"
             ],
             [
              0.5555555555555556,
              "#d8576b"
             ],
             [
              0.6666666666666666,
              "#ed7953"
             ],
             [
              0.7777777777777778,
              "#fb9f3a"
             ],
             [
              0.8888888888888888,
              "#fdca26"
             ],
             [
              1,
              "#f0f921"
             ]
            ],
            "type": "heatmap"
           }
          ],
          "histogram": [
           {
            "marker": {
             "pattern": {
              "fillmode": "overlay",
              "size": 10,
              "solidity": 0.2
             }
            },
            "type": "histogram"
           }
          ],
          "histogram2d": [
           {
            "colorbar": {
             "outlinewidth": 0,
             "ticks": ""
            },
            "colorscale": [
             [
              0,
              "#0d0887"
             ],
             [
              0.1111111111111111,
              "#46039f"
             ],
             [
              0.2222222222222222,
              "#7201a8"
             ],
             [
              0.3333333333333333,
              "#9c179e"
             ],
             [
              0.4444444444444444,
              "#bd3786"
             ],
             [
              0.5555555555555556,
              "#d8576b"
             ],
             [
              0.6666666666666666,
              "#ed7953"
             ],
             [
              0.7777777777777778,
              "#fb9f3a"
             ],
             [
              0.8888888888888888,
              "#fdca26"
             ],
             [
              1,
              "#f0f921"
             ]
            ],
            "type": "histogram2d"
           }
          ],
          "histogram2dcontour": [
           {
            "colorbar": {
             "outlinewidth": 0,
             "ticks": ""
            },
            "colorscale": [
             [
              0,
              "#0d0887"
             ],
             [
              0.1111111111111111,
              "#46039f"
             ],
             [
              0.2222222222222222,
              "#7201a8"
             ],
             [
              0.3333333333333333,
              "#9c179e"
             ],
             [
              0.4444444444444444,
              "#bd3786"
             ],
             [
              0.5555555555555556,
              "#d8576b"
             ],
             [
              0.6666666666666666,
              "#ed7953"
             ],
             [
              0.7777777777777778,
              "#fb9f3a"
             ],
             [
              0.8888888888888888,
              "#fdca26"
             ],
             [
              1,
              "#f0f921"
             ]
            ],
            "type": "histogram2dcontour"
           }
          ],
          "mesh3d": [
           {
            "colorbar": {
             "outlinewidth": 0,
             "ticks": ""
            },
            "type": "mesh3d"
           }
          ],
          "parcoords": [
           {
            "line": {
             "colorbar": {
              "outlinewidth": 0,
              "ticks": ""
             }
            },
            "type": "parcoords"
           }
          ],
          "pie": [
           {
            "automargin": true,
            "type": "pie"
           }
          ],
          "scatter": [
           {
            "fillpattern": {
             "fillmode": "overlay",
             "size": 10,
             "solidity": 0.2
            },
            "type": "scatter"
           }
          ],
          "scatter3d": [
           {
            "line": {
             "colorbar": {
              "outlinewidth": 0,
              "ticks": ""
             }
            },
            "marker": {
             "colorbar": {
              "outlinewidth": 0,
              "ticks": ""
             }
            },
            "type": "scatter3d"
           }
          ],
          "scattercarpet": [
           {
            "marker": {
             "colorbar": {
              "outlinewidth": 0,
              "ticks": ""
             }
            },
            "type": "scattercarpet"
           }
          ],
          "scattergeo": [
           {
            "marker": {
             "colorbar": {
              "outlinewidth": 0,
              "ticks": ""
             }
            },
            "type": "scattergeo"
           }
          ],
          "scattergl": [
           {
            "marker": {
             "colorbar": {
              "outlinewidth": 0,
              "ticks": ""
             }
            },
            "type": "scattergl"
           }
          ],
          "scattermap": [
           {
            "marker": {
             "colorbar": {
              "outlinewidth": 0,
              "ticks": ""
             }
            },
            "type": "scattermap"
           }
          ],
          "scattermapbox": [
           {
            "marker": {
             "colorbar": {
              "outlinewidth": 0,
              "ticks": ""
             }
            },
            "type": "scattermapbox"
           }
          ],
          "scatterpolar": [
           {
            "marker": {
             "colorbar": {
              "outlinewidth": 0,
              "ticks": ""
             }
            },
            "type": "scatterpolar"
           }
          ],
          "scatterpolargl": [
           {
            "marker": {
             "colorbar": {
              "outlinewidth": 0,
              "ticks": ""
             }
            },
            "type": "scatterpolargl"
           }
          ],
          "scatterternary": [
           {
            "marker": {
             "colorbar": {
              "outlinewidth": 0,
              "ticks": ""
             }
            },
            "type": "scatterternary"
           }
          ],
          "surface": [
           {
            "colorbar": {
             "outlinewidth": 0,
             "ticks": ""
            },
            "colorscale": [
             [
              0,
              "#0d0887"
             ],
             [
              0.1111111111111111,
              "#46039f"
             ],
             [
              0.2222222222222222,
              "#7201a8"
             ],
             [
              0.3333333333333333,
              "#9c179e"
             ],
             [
              0.4444444444444444,
              "#bd3786"
             ],
             [
              0.5555555555555556,
              "#d8576b"
             ],
             [
              0.6666666666666666,
              "#ed7953"
             ],
             [
              0.7777777777777778,
              "#fb9f3a"
             ],
             [
              0.8888888888888888,
              "#fdca26"
             ],
             [
              1,
              "#f0f921"
             ]
            ],
            "type": "surface"
           }
          ],
          "table": [
           {
            "cells": {
             "fill": {
              "color": "#EBF0F8"
             },
             "line": {
              "color": "white"
             }
            },
            "header": {
             "fill": {
              "color": "#C8D4E3"
             },
             "line": {
              "color": "white"
             }
            },
            "type": "table"
           }
          ]
         },
         "layout": {
          "annotationdefaults": {
           "arrowcolor": "#2a3f5f",
           "arrowhead": 0,
           "arrowwidth": 1
          },
          "autotypenumbers": "strict",
          "coloraxis": {
           "colorbar": {
            "outlinewidth": 0,
            "ticks": ""
           }
          },
          "colorscale": {
           "diverging": [
            [
             0,
             "#8e0152"
            ],
            [
             0.1,
             "#c51b7d"
            ],
            [
             0.2,
             "#de77ae"
            ],
            [
             0.3,
             "#f1b6da"
            ],
            [
             0.4,
             "#fde0ef"
            ],
            [
             0.5,
             "#f7f7f7"
            ],
            [
             0.6,
             "#e6f5d0"
            ],
            [
             0.7,
             "#b8e186"
            ],
            [
             0.8,
             "#7fbc41"
            ],
            [
             0.9,
             "#4d9221"
            ],
            [
             1,
             "#276419"
            ]
           ],
           "sequential": [
            [
             0,
             "#0d0887"
            ],
            [
             0.1111111111111111,
             "#46039f"
            ],
            [
             0.2222222222222222,
             "#7201a8"
            ],
            [
             0.3333333333333333,
             "#9c179e"
            ],
            [
             0.4444444444444444,
             "#bd3786"
            ],
            [
             0.5555555555555556,
             "#d8576b"
            ],
            [
             0.6666666666666666,
             "#ed7953"
            ],
            [
             0.7777777777777778,
             "#fb9f3a"
            ],
            [
             0.8888888888888888,
             "#fdca26"
            ],
            [
             1,
             "#f0f921"
            ]
           ],
           "sequentialminus": [
            [
             0,
             "#0d0887"
            ],
            [
             0.1111111111111111,
             "#46039f"
            ],
            [
             0.2222222222222222,
             "#7201a8"
            ],
            [
             0.3333333333333333,
             "#9c179e"
            ],
            [
             0.4444444444444444,
             "#bd3786"
            ],
            [
             0.5555555555555556,
             "#d8576b"
            ],
            [
             0.6666666666666666,
             "#ed7953"
            ],
            [
             0.7777777777777778,
             "#fb9f3a"
            ],
            [
             0.8888888888888888,
             "#fdca26"
            ],
            [
             1,
             "#f0f921"
            ]
           ]
          },
          "colorway": [
           "#636efa",
           "#EF553B",
           "#00cc96",
           "#ab63fa",
           "#FFA15A",
           "#19d3f3",
           "#FF6692",
           "#B6E880",
           "#FF97FF",
           "#FECB52"
          ],
          "font": {
           "color": "#2a3f5f"
          },
          "geo": {
           "bgcolor": "white",
           "lakecolor": "white",
           "landcolor": "#E5ECF6",
           "showlakes": true,
           "showland": true,
           "subunitcolor": "white"
          },
          "hoverlabel": {
           "align": "left"
          },
          "hovermode": "closest",
          "mapbox": {
           "style": "light"
          },
          "paper_bgcolor": "white",
          "plot_bgcolor": "#E5ECF6",
          "polar": {
           "angularaxis": {
            "gridcolor": "white",
            "linecolor": "white",
            "ticks": ""
           },
           "bgcolor": "#E5ECF6",
           "radialaxis": {
            "gridcolor": "white",
            "linecolor": "white",
            "ticks": ""
           }
          },
          "scene": {
           "xaxis": {
            "backgroundcolor": "#E5ECF6",
            "gridcolor": "white",
            "gridwidth": 2,
            "linecolor": "white",
            "showbackground": true,
            "ticks": "",
            "zerolinecolor": "white"
           },
           "yaxis": {
            "backgroundcolor": "#E5ECF6",
            "gridcolor": "white",
            "gridwidth": 2,
            "linecolor": "white",
            "showbackground": true,
            "ticks": "",
            "zerolinecolor": "white"
           },
           "zaxis": {
            "backgroundcolor": "#E5ECF6",
            "gridcolor": "white",
            "gridwidth": 2,
            "linecolor": "white",
            "showbackground": true,
            "ticks": "",
            "zerolinecolor": "white"
           }
          },
          "shapedefaults": {
           "line": {
            "color": "#2a3f5f"
           }
          },
          "ternary": {
           "aaxis": {
            "gridcolor": "white",
            "linecolor": "white",
            "ticks": ""
           },
           "baxis": {
            "gridcolor": "white",
            "linecolor": "white",
            "ticks": ""
           },
           "bgcolor": "#E5ECF6",
           "caxis": {
            "gridcolor": "white",
            "linecolor": "white",
            "ticks": ""
           }
          },
          "title": {
           "x": 0.05
          },
          "xaxis": {
           "automargin": true,
           "gridcolor": "white",
           "linecolor": "white",
           "ticks": "",
           "title": {
            "standoff": 15
           },
           "zerolinecolor": "white",
           "zerolinewidth": 2
          },
          "yaxis": {
           "automargin": true,
           "gridcolor": "white",
           "linecolor": "white",
           "ticks": "",
           "title": {
            "standoff": 15
           },
           "zerolinecolor": "white",
           "zerolinewidth": 2
          }
         }
        },
        "title": {
         "text": "Train · Odometer_Centered — Boxplot mit Outlier-Highlight"
        },
        "xaxis": {
         "anchor": "y",
         "domain": [
          0,
          1
         ]
        },
        "yaxis": {
         "anchor": "x",
         "domain": [
          0,
          1
         ],
         "title": {
          "text": "Odometer_Centered"
         }
        }
       }
      }
     },
     "metadata": {},
     "output_type": "display_data"
    },
    {
     "data": {
      "application/vnd.microsoft.datawrangler.viewer.v0+json": {
       "columns": [
        {
         "name": "index",
         "rawType": "int64",
         "type": "integer"
        },
        {
         "name": "dataset",
         "rawType": "object",
         "type": "string"
        },
        {
         "name": "feature",
         "rawType": "object",
         "type": "string"
        },
        {
         "name": "n_total",
         "rawType": "int64",
         "type": "integer"
        },
        {
         "name": "n_outliers",
         "rawType": "int64",
         "type": "integer"
        },
        {
         "name": "lower_bound",
         "rawType": "float64",
         "type": "float"
        },
        {
         "name": "upper_bound",
         "rawType": "float64",
         "type": "float"
        },
        {
         "name": "Q1",
         "rawType": "float64",
         "type": "float"
        },
        {
         "name": "Q3",
         "rawType": "float64",
         "type": "float"
        },
        {
         "name": "IQR",
         "rawType": "float64",
         "type": "float"
        }
       ],
       "ref": "ce36c5dd-73de-4dcd-aef6-a63486bf7360",
       "rows": [
        [
         "2",
         "Train",
         "Doors_x_Odometer",
         "760",
         "0",
         "-376059.0",
         "1414701.0",
         "295476.0",
         "743166.0",
         "447690.0"
        ],
        [
         "0",
         "Train",
         "Odometer (KM)",
         "760",
         "0",
         "-103599.75",
         "364876.25",
         "72078.75",
         "189197.75",
         "117119.0"
        ],
        [
         "3",
         "Train",
         "Odometer_Centered",
         "760",
         "0",
         "-233918.78314917115",
         "234557.21685082885",
         "-58240.28314917117",
         "58878.71685082883",
         "117119.0"
        ],
        [
         "1",
         "Train",
         "Odometer_Sq",
         "760",
         "0",
         "-40705303437.75",
         "81696443898.25",
         "5195351813.25",
         "35795788647.25",
         "30600436834.0"
        ]
       ],
       "shape": {
        "columns": 9,
        "rows": 4
       }
      },
      "text/html": [
       "<div>\n",
       "<style scoped>\n",
       "    .dataframe tbody tr th:only-of-type {\n",
       "        vertical-align: middle;\n",
       "    }\n",
       "\n",
       "    .dataframe tbody tr th {\n",
       "        vertical-align: top;\n",
       "    }\n",
       "\n",
       "    .dataframe thead th {\n",
       "        text-align: right;\n",
       "    }\n",
       "</style>\n",
       "<table border=\"1\" class=\"dataframe\">\n",
       "  <thead>\n",
       "    <tr style=\"text-align: right;\">\n",
       "      <th></th>\n",
       "      <th>dataset</th>\n",
       "      <th>feature</th>\n",
       "      <th>n_total</th>\n",
       "      <th>n_outliers</th>\n",
       "      <th>lower_bound</th>\n",
       "      <th>upper_bound</th>\n",
       "      <th>Q1</th>\n",
       "      <th>Q3</th>\n",
       "      <th>IQR</th>\n",
       "    </tr>\n",
       "  </thead>\n",
       "  <tbody>\n",
       "    <tr>\n",
       "      <th>2</th>\n",
       "      <td>Train</td>\n",
       "      <td>Doors_x_Odometer</td>\n",
       "      <td>760</td>\n",
       "      <td>0</td>\n",
       "      <td>-3.760590e+05</td>\n",
       "      <td>1.414701e+06</td>\n",
       "      <td>2.954760e+05</td>\n",
       "      <td>7.431660e+05</td>\n",
       "      <td>4.476900e+05</td>\n",
       "    </tr>\n",
       "    <tr>\n",
       "      <th>0</th>\n",
       "      <td>Train</td>\n",
       "      <td>Odometer (KM)</td>\n",
       "      <td>760</td>\n",
       "      <td>0</td>\n",
       "      <td>-1.035998e+05</td>\n",
       "      <td>3.648762e+05</td>\n",
       "      <td>7.207875e+04</td>\n",
       "      <td>1.891978e+05</td>\n",
       "      <td>1.171190e+05</td>\n",
       "    </tr>\n",
       "    <tr>\n",
       "      <th>3</th>\n",
       "      <td>Train</td>\n",
       "      <td>Odometer_Centered</td>\n",
       "      <td>760</td>\n",
       "      <td>0</td>\n",
       "      <td>-2.339188e+05</td>\n",
       "      <td>2.345572e+05</td>\n",
       "      <td>-5.824028e+04</td>\n",
       "      <td>5.887872e+04</td>\n",
       "      <td>1.171190e+05</td>\n",
       "    </tr>\n",
       "    <tr>\n",
       "      <th>1</th>\n",
       "      <td>Train</td>\n",
       "      <td>Odometer_Sq</td>\n",
       "      <td>760</td>\n",
       "      <td>0</td>\n",
       "      <td>-4.070530e+10</td>\n",
       "      <td>8.169644e+10</td>\n",
       "      <td>5.195352e+09</td>\n",
       "      <td>3.579579e+10</td>\n",
       "      <td>3.060044e+10</td>\n",
       "    </tr>\n",
       "  </tbody>\n",
       "</table>\n",
       "</div>"
      ],
      "text/plain": [
       "  dataset            feature  n_total  n_outliers   lower_bound   upper_bound  \\\n",
       "2   Train   Doors_x_Odometer      760           0 -3.760590e+05  1.414701e+06   \n",
       "0   Train      Odometer (KM)      760           0 -1.035998e+05  3.648762e+05   \n",
       "3   Train  Odometer_Centered      760           0 -2.339188e+05  2.345572e+05   \n",
       "1   Train        Odometer_Sq      760           0 -4.070530e+10  8.169644e+10   \n",
       "\n",
       "             Q1            Q3           IQR  \n",
       "2  2.954760e+05  7.431660e+05  4.476900e+05  \n",
       "0  7.207875e+04  1.891978e+05  1.171190e+05  \n",
       "3 -5.824028e+04  5.887872e+04  1.171190e+05  \n",
       "1  5.195352e+09  3.579579e+10  3.060044e+10  "
      ]
     },
     "metadata": {},
     "output_type": "display_data"
    }
   ],
   "source": [
    "# Trainingsdaten:\n",
    "train_figs, train_summary = plot_outliers_boxplots(X_train_df_transformed, dataset_name=\"Train\")\n",
    "for f in train_figs:\n",
    "    f.show()\n",
    "display(train_summary)"
   ]
  },
  {
   "cell_type": "code",
   "execution_count": 51,
   "metadata": {},
   "outputs": [
    {
     "data": {
      "application/vnd.plotly.v1+json": {
       "config": {
        "plotlyServerURL": "https://plot.ly"
       },
       "data": [
        {
         "alignmentgroup": "True",
         "boxpoints": "all",
         "hovertemplate": "is_outlier=False<br>Odometer (KM)=%{y}<extra></extra>",
         "legendgroup": "False",
         "marker": {
          "color": "#636efa"
         },
         "name": "False",
         "notched": false,
         "offsetgroup": "False",
         "orientation": "v",
         "showlegend": true,
         "type": "box",
         "x0": " ",
         "xaxis": "x",
         "y": {
          "bdata": "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",
          "dtype": "f8"
         },
         "y0": " ",
         "yaxis": "y"
        }
       ],
       "layout": {
        "boxmode": "group",
        "legend": {
         "title": {
          "text": "is_outlier"
         },
         "tracegroupgap": 0
        },
        "template": {
         "data": {
          "bar": [
           {
            "error_x": {
             "color": "#2a3f5f"
            },
            "error_y": {
             "color": "#2a3f5f"
            },
            "marker": {
             "line": {
              "color": "#E5ECF6",
              "width": 0.5
             },
             "pattern": {
              "fillmode": "overlay",
              "size": 10,
              "solidity": 0.2
             }
            },
            "type": "bar"
           }
          ],
          "barpolar": [
           {
            "marker": {
             "line": {
              "color": "#E5ECF6",
              "width": 0.5
             },
             "pattern": {
              "fillmode": "overlay",
              "size": 10,
              "solidity": 0.2
             }
            },
            "type": "barpolar"
           }
          ],
          "carpet": [
           {
            "aaxis": {
             "endlinecolor": "#2a3f5f",
             "gridcolor": "white",
             "linecolor": "white",
             "minorgridcolor": "white",
             "startlinecolor": "#2a3f5f"
            },
            "baxis": {
             "endlinecolor": "#2a3f5f",
             "gridcolor": "white",
             "linecolor": "white",
             "minorgridcolor": "white",
             "startlinecolor": "#2a3f5f"
            },
            "type": "carpet"
           }
          ],
          "choropleth": [
           {
            "colorbar": {
             "outlinewidth": 0,
             "ticks": ""
            },
            "type": "choropleth"
           }
          ],
          "contour": [
           {
            "colorbar": {
             "outlinewidth": 0,
             "ticks": ""
            },
            "colorscale": [
             [
              0,
              "#0d0887"
             ],
             [
              0.1111111111111111,
              "#46039f"
             ],
             [
              0.2222222222222222,
              "#7201a8"
             ],
             [
              0.3333333333333333,
              "#9c179e"
             ],
             [
              0.4444444444444444,
              "#bd3786"
             ],
             [
              0.5555555555555556,
              "#d8576b"
             ],
             [
              0.6666666666666666,
              "#ed7953"
             ],
             [
              0.7777777777777778,
              "#fb9f3a"
             ],
             [
              0.8888888888888888,
              "#fdca26"
             ],
             [
              1,
              "#f0f921"
             ]
            ],
            "type": "contour"
           }
          ],
          "contourcarpet": [
           {
            "colorbar": {
             "outlinewidth": 0,
             "ticks": ""
            },
            "type": "contourcarpet"
           }
          ],
          "heatmap": [
           {
            "colorbar": {
             "outlinewidth": 0,
             "ticks": ""
            },
            "colorscale": [
             [
              0,
              "#0d0887"
             ],
             [
              0.1111111111111111,
              "#46039f"
             ],
             [
              0.2222222222222222,
              "#7201a8"
             ],
             [
              0.3333333333333333,
              "#9c179e"
             ],
             [
              0.4444444444444444,
              "#bd3786"
             ],
             [
              0.5555555555555556,
              "#d8576b"
             ],
             [
              0.6666666666666666,
              "#ed7953"
             ],
             [
              0.7777777777777778,
              "#fb9f3a"
             ],
             [
              0.8888888888888888,
              "#fdca26"
             ],
             [
              1,
              "#f0f921"
             ]
            ],
            "type": "heatmap"
           }
          ],
          "histogram": [
           {
            "marker": {
             "pattern": {
              "fillmode": "overlay",
              "size": 10,
              "solidity": 0.2
             }
            },
            "type": "histogram"
           }
          ],
          "histogram2d": [
           {
            "colorbar": {
             "outlinewidth": 0,
             "ticks": ""
            },
            "colorscale": [
             [
              0,
              "#0d0887"
             ],
             [
              0.1111111111111111,
              "#46039f"
             ],
             [
              0.2222222222222222,
              "#7201a8"
             ],
             [
              0.3333333333333333,
              "#9c179e"
             ],
             [
              0.4444444444444444,
              "#bd3786"
             ],
             [
              0.5555555555555556,
              "#d8576b"
             ],
             [
              0.6666666666666666,
              "#ed7953"
             ],
             [
              0.7777777777777778,
              "#fb9f3a"
             ],
             [
              0.8888888888888888,
              "#fdca26"
             ],
             [
              1,
              "#f0f921"
             ]
            ],
            "type": "histogram2d"
           }
          ],
          "histogram2dcontour": [
           {
            "colorbar": {
             "outlinewidth": 0,
             "ticks": ""
            },
            "colorscale": [
             [
              0,
              "#0d0887"
             ],
             [
              0.1111111111111111,
              "#46039f"
             ],
             [
              0.2222222222222222,
              "#7201a8"
             ],
             [
              0.3333333333333333,
              "#9c179e"
             ],
             [
              0.4444444444444444,
              "#bd3786"
             ],
             [
              0.5555555555555556,
              "#d8576b"
             ],
             [
              0.6666666666666666,
              "#ed7953"
             ],
             [
              0.7777777777777778,
              "#fb9f3a"
             ],
             [
              0.8888888888888888,
              "#fdca26"
             ],
             [
              1,
              "#f0f921"
             ]
            ],
            "type": "histogram2dcontour"
           }
          ],
          "mesh3d": [
           {
            "colorbar": {
             "outlinewidth": 0,
             "ticks": ""
            },
            "type": "mesh3d"
           }
          ],
          "parcoords": [
           {
            "line": {
             "colorbar": {
              "outlinewidth": 0,
              "ticks": ""
             }
            },
            "type": "parcoords"
           }
          ],
          "pie": [
           {
            "automargin": true,
            "type": "pie"
           }
          ],
          "scatter": [
           {
            "fillpattern": {
             "fillmode": "overlay",
             "size": 10,
             "solidity": 0.2
            },
            "type": "scatter"
           }
          ],
          "scatter3d": [
           {
            "line": {
             "colorbar": {
              "outlinewidth": 0,
              "ticks": ""
             }
            },
            "marker": {
             "colorbar": {
              "outlinewidth": 0,
              "ticks": ""
             }
            },
            "type": "scatter3d"
           }
          ],
          "scattercarpet": [
           {
            "marker": {
             "colorbar": {
              "outlinewidth": 0,
              "ticks": ""
             }
            },
            "type": "scattercarpet"
           }
          ],
          "scattergeo": [
           {
            "marker": {
             "colorbar": {
              "outlinewidth": 0,
              "ticks": ""
             }
            },
            "type": "scattergeo"
           }
          ],
          "scattergl": [
           {
            "marker": {
             "colorbar": {
              "outlinewidth": 0,
              "ticks": ""
             }
            },
            "type": "scattergl"
           }
          ],
          "scattermap": [
           {
            "marker": {
             "colorbar": {
              "outlinewidth": 0,
              "ticks": ""
             }
            },
            "type": "scattermap"
           }
          ],
          "scattermapbox": [
           {
            "marker": {
             "colorbar": {
              "outlinewidth": 0,
              "ticks": ""
             }
            },
            "type": "scattermapbox"
           }
          ],
          "scatterpolar": [
           {
            "marker": {
             "colorbar": {
              "outlinewidth": 0,
              "ticks": ""
             }
            },
            "type": "scatterpolar"
           }
          ],
          "scatterpolargl": [
           {
            "marker": {
             "colorbar": {
              "outlinewidth": 0,
              "ticks": ""
             }
            },
            "type": "scatterpolargl"
           }
          ],
          "scatterternary": [
           {
            "marker": {
             "colorbar": {
              "outlinewidth": 0,
              "ticks": ""
             }
            },
            "type": "scatterternary"
           }
          ],
          "surface": [
           {
            "colorbar": {
             "outlinewidth": 0,
             "ticks": ""
            },
            "colorscale": [
             [
              0,
              "#0d0887"
             ],
             [
              0.1111111111111111,
              "#46039f"
             ],
             [
              0.2222222222222222,
              "#7201a8"
             ],
             [
              0.3333333333333333,
              "#9c179e"
             ],
             [
              0.4444444444444444,
              "#bd3786"
             ],
             [
              0.5555555555555556,
              "#d8576b"
             ],
             [
              0.6666666666666666,
              "#ed7953"
             ],
             [
              0.7777777777777778,
              "#fb9f3a"
             ],
             [
              0.8888888888888888,
              "#fdca26"
             ],
             [
              1,
              "#f0f921"
             ]
            ],
            "type": "surface"
           }
          ],
          "table": [
           {
            "cells": {
             "fill": {
              "color": "#EBF0F8"
             },
             "line": {
              "color": "white"
             }
            },
            "header": {
             "fill": {
              "color": "#C8D4E3"
             },
             "line": {
              "color": "white"
             }
            },
            "type": "table"
           }
          ]
         },
         "layout": {
          "annotationdefaults": {
           "arrowcolor": "#2a3f5f",
           "arrowhead": 0,
           "arrowwidth": 1
          },
          "autotypenumbers": "strict",
          "coloraxis": {
           "colorbar": {
            "outlinewidth": 0,
            "ticks": ""
           }
          },
          "colorscale": {
           "diverging": [
            [
             0,
             "#8e0152"
            ],
            [
             0.1,
             "#c51b7d"
            ],
            [
             0.2,
             "#de77ae"
            ],
            [
             0.3,
             "#f1b6da"
            ],
            [
             0.4,
             "#fde0ef"
            ],
            [
             0.5,
             "#f7f7f7"
            ],
            [
             0.6,
             "#e6f5d0"
            ],
            [
             0.7,
             "#b8e186"
            ],
            [
             0.8,
             "#7fbc41"
            ],
            [
             0.9,
             "#4d9221"
            ],
            [
             1,
             "#276419"
            ]
           ],
           "sequential": [
            [
             0,
             "#0d0887"
            ],
            [
             0.1111111111111111,
             "#46039f"
            ],
            [
             0.2222222222222222,
             "#7201a8"
            ],
            [
             0.3333333333333333,
             "#9c179e"
            ],
            [
             0.4444444444444444,
             "#bd3786"
            ],
            [
             0.5555555555555556,
             "#d8576b"
            ],
            [
             0.6666666666666666,
             "#ed7953"
            ],
            [
             0.7777777777777778,
             "#fb9f3a"
            ],
            [
             0.8888888888888888,
             "#fdca26"
            ],
            [
             1,
             "#f0f921"
            ]
           ],
           "sequentialminus": [
            [
             0,
             "#0d0887"
            ],
            [
             0.1111111111111111,
             "#46039f"
            ],
            [
             0.2222222222222222,
             "#7201a8"
            ],
            [
             0.3333333333333333,
             "#9c179e"
            ],
            [
             0.4444444444444444,
             "#bd3786"
            ],
            [
             0.5555555555555556,
             "#d8576b"
            ],
            [
             0.6666666666666666,
             "#ed7953"
            ],
            [
             0.7777777777777778,
             "#fb9f3a"
            ],
            [
             0.8888888888888888,
             "#fdca26"
            ],
            [
             1,
             "#f0f921"
            ]
           ]
          },
          "colorway": [
           "#636efa",
           "#EF553B",
           "#00cc96",
           "#ab63fa",
           "#FFA15A",
           "#19d3f3",
           "#FF6692",
           "#B6E880",
           "#FF97FF",
           "#FECB52"
          ],
          "font": {
           "color": "#2a3f5f"
          },
          "geo": {
           "bgcolor": "white",
           "lakecolor": "white",
           "landcolor": "#E5ECF6",
           "showlakes": true,
           "showland": true,
           "subunitcolor": "white"
          },
          "hoverlabel": {
           "align": "left"
          },
          "hovermode": "closest",
          "mapbox": {
           "style": "light"
          },
          "paper_bgcolor": "white",
          "plot_bgcolor": "#E5ECF6",
          "polar": {
           "angularaxis": {
            "gridcolor": "white",
            "linecolor": "white",
            "ticks": ""
           },
           "bgcolor": "#E5ECF6",
           "radialaxis": {
            "gridcolor": "white",
            "linecolor": "white",
            "ticks": ""
           }
          },
          "scene": {
           "xaxis": {
            "backgroundcolor": "#E5ECF6",
            "gridcolor": "white",
            "gridwidth": 2,
            "linecolor": "white",
            "showbackground": true,
            "ticks": "",
            "zerolinecolor": "white"
           },
           "yaxis": {
            "backgroundcolor": "#E5ECF6",
            "gridcolor": "white",
            "gridwidth": 2,
            "linecolor": "white",
            "showbackground": true,
            "ticks": "",
            "zerolinecolor": "white"
           },
           "zaxis": {
            "backgroundcolor": "#E5ECF6",
            "gridcolor": "white",
            "gridwidth": 2,
            "linecolor": "white",
            "showbackground": true,
            "ticks": "",
            "zerolinecolor": "white"
           }
          },
          "shapedefaults": {
           "line": {
            "color": "#2a3f5f"
           }
          },
          "ternary": {
           "aaxis": {
            "gridcolor": "white",
            "linecolor": "white",
            "ticks": ""
           },
           "baxis": {
            "gridcolor": "white",
            "linecolor": "white",
            "ticks": ""
           },
           "bgcolor": "#E5ECF6",
           "caxis": {
            "gridcolor": "white",
            "linecolor": "white",
            "ticks": ""
           }
          },
          "title": {
           "x": 0.05
          },
          "xaxis": {
           "automargin": true,
           "gridcolor": "white",
           "linecolor": "white",
           "ticks": "",
           "title": {
            "standoff": 15
           },
           "zerolinecolor": "white",
           "zerolinewidth": 2
          },
          "yaxis": {
           "automargin": true,
           "gridcolor": "white",
           "linecolor": "white",
           "ticks": "",
           "title": {
            "standoff": 15
           },
           "zerolinecolor": "white",
           "zerolinewidth": 2
          }
         }
        },
        "title": {
         "text": "Test · Odometer (KM) — Boxplot mit Outlier-Highlight"
        },
        "xaxis": {
         "anchor": "y",
         "domain": [
          0,
          1
         ]
        },
        "yaxis": {
         "anchor": "x",
         "domain": [
          0,
          1
         ],
         "title": {
          "text": "Odometer (KM)"
         }
        }
       }
      }
     },
     "metadata": {},
     "output_type": "display_data"
    },
    {
     "data": {
      "application/vnd.plotly.v1+json": {
       "config": {
        "plotlyServerURL": "https://plot.ly"
       },
       "data": [
        {
         "alignmentgroup": "True",
         "boxpoints": "all",
         "hovertemplate": "is_outlier=False<br>Odometer_Sq=%{y}<extra></extra>",
         "legendgroup": "False",
         "marker": {
          "color": "#636efa"
         },
         "name": "False",
         "notched": false,
         "offsetgroup": "False",
         "orientation": "v",
         "showlegend": true,
         "type": "box",
         "x0": " ",
         "xaxis": "x",
         "y": {
          "bdata": "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",
          "dtype": "f8"
         },
         "y0": " ",
         "yaxis": "y"
        }
       ],
       "layout": {
        "boxmode": "group",
        "legend": {
         "title": {
          "text": "is_outlier"
         },
         "tracegroupgap": 0
        },
        "template": {
         "data": {
          "bar": [
           {
            "error_x": {
             "color": "#2a3f5f"
            },
            "error_y": {
             "color": "#2a3f5f"
            },
            "marker": {
             "line": {
              "color": "#E5ECF6",
              "width": 0.5
             },
             "pattern": {
              "fillmode": "overlay",
              "size": 10,
              "solidity": 0.2
             }
            },
            "type": "bar"
           }
          ],
          "barpolar": [
           {
            "marker": {
             "line": {
              "color": "#E5ECF6",
              "width": 0.5
             },
             "pattern": {
              "fillmode": "overlay",
              "size": 10,
              "solidity": 0.2
             }
            },
            "type": "barpolar"
           }
          ],
          "carpet": [
           {
            "aaxis": {
             "endlinecolor": "#2a3f5f",
             "gridcolor": "white",
             "linecolor": "white",
             "minorgridcolor": "white",
             "startlinecolor": "#2a3f5f"
            },
            "baxis": {
             "endlinecolor": "#2a3f5f",
             "gridcolor": "white",
             "linecolor": "white",
             "minorgridcolor": "white",
             "startlinecolor": "#2a3f5f"
            },
            "type": "carpet"
           }
          ],
          "choropleth": [
           {
            "colorbar": {
             "outlinewidth": 0,
             "ticks": ""
            },
            "type": "choropleth"
           }
          ],
          "contour": [
           {
            "colorbar": {
             "outlinewidth": 0,
             "ticks": ""
            },
            "colorscale": [
             [
              0,
              "#0d0887"
             ],
             [
              0.1111111111111111,
              "#46039f"
             ],
             [
              0.2222222222222222,
              "#7201a8"
             ],
             [
              0.3333333333333333,
              "#9c179e"
             ],
             [
              0.4444444444444444,
              "#bd3786"
             ],
             [
              0.5555555555555556,
              "#d8576b"
             ],
             [
              0.6666666666666666,
              "#ed7953"
             ],
             [
              0.7777777777777778,
              "#fb9f3a"
             ],
             [
              0.8888888888888888,
              "#fdca26"
             ],
             [
              1,
              "#f0f921"
             ]
            ],
            "type": "contour"
           }
          ],
          "contourcarpet": [
           {
            "colorbar": {
             "outlinewidth": 0,
             "ticks": ""
            },
            "type": "contourcarpet"
           }
          ],
          "heatmap": [
           {
            "colorbar": {
             "outlinewidth": 0,
             "ticks": ""
            },
            "colorscale": [
             [
              0,
              "#0d0887"
             ],
             [
              0.1111111111111111,
              "#46039f"
             ],
             [
              0.2222222222222222,
              "#7201a8"
             ],
             [
              0.3333333333333333,
              "#9c179e"
             ],
             [
              0.4444444444444444,
              "#bd3786"
             ],
             [
              0.5555555555555556,
              "#d8576b"
             ],
             [
              0.6666666666666666,
              "#ed7953"
             ],
             [
              0.7777777777777778,
              "#fb9f3a"
             ],
             [
              0.8888888888888888,
              "#fdca26"
             ],
             [
              1,
              "#f0f921"
             ]
            ],
            "type": "heatmap"
           }
          ],
          "histogram": [
           {
            "marker": {
             "pattern": {
              "fillmode": "overlay",
              "size": 10,
              "solidity": 0.2
             }
            },
            "type": "histogram"
           }
          ],
          "histogram2d": [
           {
            "colorbar": {
             "outlinewidth": 0,
             "ticks": ""
            },
            "colorscale": [
             [
              0,
              "#0d0887"
             ],
             [
              0.1111111111111111,
              "#46039f"
             ],
             [
              0.2222222222222222,
              "#7201a8"
             ],
             [
              0.3333333333333333,
              "#9c179e"
             ],
             [
              0.4444444444444444,
              "#bd3786"
             ],
             [
              0.5555555555555556,
              "#d8576b"
             ],
             [
              0.6666666666666666,
              "#ed7953"
             ],
             [
              0.7777777777777778,
              "#fb9f3a"
             ],
             [
              0.8888888888888888,
              "#fdca26"
             ],
             [
              1,
              "#f0f921"
             ]
            ],
            "type": "histogram2d"
           }
          ],
          "histogram2dcontour": [
           {
            "colorbar": {
             "outlinewidth": 0,
             "ticks": ""
            },
            "colorscale": [
             [
              0,
              "#0d0887"
             ],
             [
              0.1111111111111111,
              "#46039f"
             ],
             [
              0.2222222222222222,
              "#7201a8"
             ],
             [
              0.3333333333333333,
              "#9c179e"
             ],
             [
              0.4444444444444444,
              "#bd3786"
             ],
             [
              0.5555555555555556,
              "#d8576b"
             ],
             [
              0.6666666666666666,
              "#ed7953"
             ],
             [
              0.7777777777777778,
              "#fb9f3a"
             ],
             [
              0.8888888888888888,
              "#fdca26"
             ],
             [
              1,
              "#f0f921"
             ]
            ],
            "type": "histogram2dcontour"
           }
          ],
          "mesh3d": [
           {
            "colorbar": {
             "outlinewidth": 0,
             "ticks": ""
            },
            "type": "mesh3d"
           }
          ],
          "parcoords": [
           {
            "line": {
             "colorbar": {
              "outlinewidth": 0,
              "ticks": ""
             }
            },
            "type": "parcoords"
           }
          ],
          "pie": [
           {
            "automargin": true,
            "type": "pie"
           }
          ],
          "scatter": [
           {
            "fillpattern": {
             "fillmode": "overlay",
             "size": 10,
             "solidity": 0.2
            },
            "type": "scatter"
           }
          ],
          "scatter3d": [
           {
            "line": {
             "colorbar": {
              "outlinewidth": 0,
              "ticks": ""
             }
            },
            "marker": {
             "colorbar": {
              "outlinewidth": 0,
              "ticks": ""
             }
            },
            "type": "scatter3d"
           }
          ],
          "scattercarpet": [
           {
            "marker": {
             "colorbar": {
              "outlinewidth": 0,
              "ticks": ""
             }
            },
            "type": "scattercarpet"
           }
          ],
          "scattergeo": [
           {
            "marker": {
             "colorbar": {
              "outlinewidth": 0,
              "ticks": ""
             }
            },
            "type": "scattergeo"
           }
          ],
          "scattergl": [
           {
            "marker": {
             "colorbar": {
              "outlinewidth": 0,
              "ticks": ""
             }
            },
            "type": "scattergl"
           }
          ],
          "scattermap": [
           {
            "marker": {
             "colorbar": {
              "outlinewidth": 0,
              "ticks": ""
             }
            },
            "type": "scattermap"
           }
          ],
          "scattermapbox": [
           {
            "marker": {
             "colorbar": {
              "outlinewidth": 0,
              "ticks": ""
             }
            },
            "type": "scattermapbox"
           }
          ],
          "scatterpolar": [
           {
            "marker": {
             "colorbar": {
              "outlinewidth": 0,
              "ticks": ""
             }
            },
            "type": "scatterpolar"
           }
          ],
          "scatterpolargl": [
           {
            "marker": {
             "colorbar": {
              "outlinewidth": 0,
              "ticks": ""
             }
            },
            "type": "scatterpolargl"
           }
          ],
          "scatterternary": [
           {
            "marker": {
             "colorbar": {
              "outlinewidth": 0,
              "ticks": ""
             }
            },
            "type": "scatterternary"
           }
          ],
          "surface": [
           {
            "colorbar": {
             "outlinewidth": 0,
             "ticks": ""
            },
            "colorscale": [
             [
              0,
              "#0d0887"
             ],
             [
              0.1111111111111111,
              "#46039f"
             ],
             [
              0.2222222222222222,
              "#7201a8"
             ],
             [
              0.3333333333333333,
              "#9c179e"
             ],
             [
              0.4444444444444444,
              "#bd3786"
             ],
             [
              0.5555555555555556,
              "#d8576b"
             ],
             [
              0.6666666666666666,
              "#ed7953"
             ],
             [
              0.7777777777777778,
              "#fb9f3a"
             ],
             [
              0.8888888888888888,
              "#fdca26"
             ],
             [
              1,
              "#f0f921"
             ]
            ],
            "type": "surface"
           }
          ],
          "table": [
           {
            "cells": {
             "fill": {
              "color": "#EBF0F8"
             },
             "line": {
              "color": "white"
             }
            },
            "header": {
             "fill": {
              "color": "#C8D4E3"
             },
             "line": {
              "color": "white"
             }
            },
            "type": "table"
           }
          ]
         },
         "layout": {
          "annotationdefaults": {
           "arrowcolor": "#2a3f5f",
           "arrowhead": 0,
           "arrowwidth": 1
          },
          "autotypenumbers": "strict",
          "coloraxis": {
           "colorbar": {
            "outlinewidth": 0,
            "ticks": ""
           }
          },
          "colorscale": {
           "diverging": [
            [
             0,
             "#8e0152"
            ],
            [
             0.1,
             "#c51b7d"
            ],
            [
             0.2,
             "#de77ae"
            ],
            [
             0.3,
             "#f1b6da"
            ],
            [
             0.4,
             "#fde0ef"
            ],
            [
             0.5,
             "#f7f7f7"
            ],
            [
             0.6,
             "#e6f5d0"
            ],
            [
             0.7,
             "#b8e186"
            ],
            [
             0.8,
             "#7fbc41"
            ],
            [
             0.9,
             "#4d9221"
            ],
            [
             1,
             "#276419"
            ]
           ],
           "sequential": [
            [
             0,
             "#0d0887"
            ],
            [
             0.1111111111111111,
             "#46039f"
            ],
            [
             0.2222222222222222,
             "#7201a8"
            ],
            [
             0.3333333333333333,
             "#9c179e"
            ],
            [
             0.4444444444444444,
             "#bd3786"
            ],
            [
             0.5555555555555556,
             "#d8576b"
            ],
            [
             0.6666666666666666,
             "#ed7953"
            ],
            [
             0.7777777777777778,
             "#fb9f3a"
            ],
            [
             0.8888888888888888,
             "#fdca26"
            ],
            [
             1,
             "#f0f921"
            ]
           ],
           "sequentialminus": [
            [
             0,
             "#0d0887"
            ],
            [
             0.1111111111111111,
             "#46039f"
            ],
            [
             0.2222222222222222,
             "#7201a8"
            ],
            [
             0.3333333333333333,
             "#9c179e"
            ],
            [
             0.4444444444444444,
             "#bd3786"
            ],
            [
             0.5555555555555556,
             "#d8576b"
            ],
            [
             0.6666666666666666,
             "#ed7953"
            ],
            [
             0.7777777777777778,
             "#fb9f3a"
            ],
            [
             0.8888888888888888,
             "#fdca26"
            ],
            [
             1,
             "#f0f921"
            ]
           ]
          },
          "colorway": [
           "#636efa",
           "#EF553B",
           "#00cc96",
           "#ab63fa",
           "#FFA15A",
           "#19d3f3",
           "#FF6692",
           "#B6E880",
           "#FF97FF",
           "#FECB52"
          ],
          "font": {
           "color": "#2a3f5f"
          },
          "geo": {
           "bgcolor": "white",
           "lakecolor": "white",
           "landcolor": "#E5ECF6",
           "showlakes": true,
           "showland": true,
           "subunitcolor": "white"
          },
          "hoverlabel": {
           "align": "left"
          },
          "hovermode": "closest",
          "mapbox": {
           "style": "light"
          },
          "paper_bgcolor": "white",
          "plot_bgcolor": "#E5ECF6",
          "polar": {
           "angularaxis": {
            "gridcolor": "white",
            "linecolor": "white",
            "ticks": ""
           },
           "bgcolor": "#E5ECF6",
           "radialaxis": {
            "gridcolor": "white",
            "linecolor": "white",
            "ticks": ""
           }
          },
          "scene": {
           "xaxis": {
            "backgroundcolor": "#E5ECF6",
            "gridcolor": "white",
            "gridwidth": 2,
            "linecolor": "white",
            "showbackground": true,
            "ticks": "",
            "zerolinecolor": "white"
           },
           "yaxis": {
            "backgroundcolor": "#E5ECF6",
            "gridcolor": "white",
            "gridwidth": 2,
            "linecolor": "white",
            "showbackground": true,
            "ticks": "",
            "zerolinecolor": "white"
           },
           "zaxis": {
            "backgroundcolor": "#E5ECF6",
            "gridcolor": "white",
            "gridwidth": 2,
            "linecolor": "white",
            "showbackground": true,
            "ticks": "",
            "zerolinecolor": "white"
           }
          },
          "shapedefaults": {
           "line": {
            "color": "#2a3f5f"
           }
          },
          "ternary": {
           "aaxis": {
            "gridcolor": "white",
            "linecolor": "white",
            "ticks": ""
           },
           "baxis": {
            "gridcolor": "white",
            "linecolor": "white",
            "ticks": ""
           },
           "bgcolor": "#E5ECF6",
           "caxis": {
            "gridcolor": "white",
            "linecolor": "white",
            "ticks": ""
           }
          },
          "title": {
           "x": 0.05
          },
          "xaxis": {
           "automargin": true,
           "gridcolor": "white",
           "linecolor": "white",
           "ticks": "",
           "title": {
            "standoff": 15
           },
           "zerolinecolor": "white",
           "zerolinewidth": 2
          },
          "yaxis": {
           "automargin": true,
           "gridcolor": "white",
           "linecolor": "white",
           "ticks": "",
           "title": {
            "standoff": 15
           },
           "zerolinecolor": "white",
           "zerolinewidth": 2
          }
         }
        },
        "title": {
         "text": "Test · Odometer_Sq — Boxplot mit Outlier-Highlight"
        },
        "xaxis": {
         "anchor": "y",
         "domain": [
          0,
          1
         ]
        },
        "yaxis": {
         "anchor": "x",
         "domain": [
          0,
          1
         ],
         "title": {
          "text": "Odometer_Sq"
         }
        }
       }
      }
     },
     "metadata": {},
     "output_type": "display_data"
    },
    {
     "data": {
      "application/vnd.plotly.v1+json": {
       "config": {
        "plotlyServerURL": "https://plot.ly"
       },
       "data": [
        {
         "alignmentgroup": "True",
         "boxpoints": "all",
         "hovertemplate": "is_outlier=False<br>Doors_x_Odometer=%{y}<extra></extra>",
         "legendgroup": "False",
         "marker": {
          "color": "#636efa"
         },
         "name": "False",
         "notched": false,
         "offsetgroup": "False",
         "orientation": "v",
         "showlegend": true,
         "type": "box",
         "x0": " ",
         "xaxis": "x",
         "y": {
          "bdata": "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",
          "dtype": "f8"
         },
         "y0": " ",
         "yaxis": "y"
        }
       ],
       "layout": {
        "boxmode": "group",
        "legend": {
         "title": {
          "text": "is_outlier"
         },
         "tracegroupgap": 0
        },
        "template": {
         "data": {
          "bar": [
           {
            "error_x": {
             "color": "#2a3f5f"
            },
            "error_y": {
             "color": "#2a3f5f"
            },
            "marker": {
             "line": {
              "color": "#E5ECF6",
              "width": 0.5
             },
             "pattern": {
              "fillmode": "overlay",
              "size": 10,
              "solidity": 0.2
             }
            },
            "type": "bar"
           }
          ],
          "barpolar": [
           {
            "marker": {
             "line": {
              "color": "#E5ECF6",
              "width": 0.5
             },
             "pattern": {
              "fillmode": "overlay",
              "size": 10,
              "solidity": 0.2
             }
            },
            "type": "barpolar"
           }
          ],
          "carpet": [
           {
            "aaxis": {
             "endlinecolor": "#2a3f5f",
             "gridcolor": "white",
             "linecolor": "white",
             "minorgridcolor": "white",
             "startlinecolor": "#2a3f5f"
            },
            "baxis": {
             "endlinecolor": "#2a3f5f",
             "gridcolor": "white",
             "linecolor": "white",
             "minorgridcolor": "white",
             "startlinecolor": "#2a3f5f"
            },
            "type": "carpet"
           }
          ],
          "choropleth": [
           {
            "colorbar": {
             "outlinewidth": 0,
             "ticks": ""
            },
            "type": "choropleth"
           }
          ],
          "contour": [
           {
            "colorbar": {
             "outlinewidth": 0,
             "ticks": ""
            },
            "colorscale": [
             [
              0,
              "#0d0887"
             ],
             [
              0.1111111111111111,
              "#46039f"
             ],
             [
              0.2222222222222222,
              "#7201a8"
             ],
             [
              0.3333333333333333,
              "#9c179e"
             ],
             [
              0.4444444444444444,
              "#bd3786"
             ],
             [
              0.5555555555555556,
              "#d8576b"
             ],
             [
              0.6666666666666666,
              "#ed7953"
             ],
             [
              0.7777777777777778,
              "#fb9f3a"
             ],
             [
              0.8888888888888888,
              "#fdca26"
             ],
             [
              1,
              "#f0f921"
             ]
            ],
            "type": "contour"
           }
          ],
          "contourcarpet": [
           {
            "colorbar": {
             "outlinewidth": 0,
             "ticks": ""
            },
            "type": "contourcarpet"
           }
          ],
          "heatmap": [
           {
            "colorbar": {
             "outlinewidth": 0,
             "ticks": ""
            },
            "colorscale": [
             [
              0,
              "#0d0887"
             ],
             [
              0.1111111111111111,
              "#46039f"
             ],
             [
              0.2222222222222222,
              "#7201a8"
             ],
             [
              0.3333333333333333,
              "#9c179e"
             ],
             [
              0.4444444444444444,
              "#bd3786"
             ],
             [
              0.5555555555555556,
              "#d8576b"
             ],
             [
              0.6666666666666666,
              "#ed7953"
             ],
             [
              0.7777777777777778,
              "#fb9f3a"
             ],
             [
              0.8888888888888888,
              "#fdca26"
             ],
             [
              1,
              "#f0f921"
             ]
            ],
            "type": "heatmap"
           }
          ],
          "histogram": [
           {
            "marker": {
             "pattern": {
              "fillmode": "overlay",
              "size": 10,
              "solidity": 0.2
             }
            },
            "type": "histogram"
           }
          ],
          "histogram2d": [
           {
            "colorbar": {
             "outlinewidth": 0,
             "ticks": ""
            },
            "colorscale": [
             [
              0,
              "#0d0887"
             ],
             [
              0.1111111111111111,
              "#46039f"
             ],
             [
              0.2222222222222222,
              "#7201a8"
             ],
             [
              0.3333333333333333,
              "#9c179e"
             ],
             [
              0.4444444444444444,
              "#bd3786"
             ],
             [
              0.5555555555555556,
              "#d8576b"
             ],
             [
              0.6666666666666666,
              "#ed7953"
             ],
             [
              0.7777777777777778,
              "#fb9f3a"
             ],
             [
              0.8888888888888888,
              "#fdca26"
             ],
             [
              1,
              "#f0f921"
             ]
            ],
            "type": "histogram2d"
           }
          ],
          "histogram2dcontour": [
           {
            "colorbar": {
             "outlinewidth": 0,
             "ticks": ""
            },
            "colorscale": [
             [
              0,
              "#0d0887"
             ],
             [
              0.1111111111111111,
              "#46039f"
             ],
             [
              0.2222222222222222,
              "#7201a8"
             ],
             [
              0.3333333333333333,
              "#9c179e"
             ],
             [
              0.4444444444444444,
              "#bd3786"
             ],
             [
              0.5555555555555556,
              "#d8576b"
             ],
             [
              0.6666666666666666,
              "#ed7953"
             ],
             [
              0.7777777777777778,
              "#fb9f3a"
             ],
             [
              0.8888888888888888,
              "#fdca26"
             ],
             [
              1,
              "#f0f921"
             ]
            ],
            "type": "histogram2dcontour"
           }
          ],
          "mesh3d": [
           {
            "colorbar": {
             "outlinewidth": 0,
             "ticks": ""
            },
            "type": "mesh3d"
           }
          ],
          "parcoords": [
           {
            "line": {
             "colorbar": {
              "outlinewidth": 0,
              "ticks": ""
             }
            },
            "type": "parcoords"
           }
          ],
          "pie": [
           {
            "automargin": true,
            "type": "pie"
           }
          ],
          "scatter": [
           {
            "fillpattern": {
             "fillmode": "overlay",
             "size": 10,
             "solidity": 0.2
            },
            "type": "scatter"
           }
          ],
          "scatter3d": [
           {
            "line": {
             "colorbar": {
              "outlinewidth": 0,
              "ticks": ""
             }
            },
            "marker": {
             "colorbar": {
              "outlinewidth": 0,
              "ticks": ""
             }
            },
            "type": "scatter3d"
           }
          ],
          "scattercarpet": [
           {
            "marker": {
             "colorbar": {
              "outlinewidth": 0,
              "ticks": ""
             }
            },
            "type": "scattercarpet"
           }
          ],
          "scattergeo": [
           {
            "marker": {
             "colorbar": {
              "outlinewidth": 0,
              "ticks": ""
             }
            },
            "type": "scattergeo"
           }
          ],
          "scattergl": [
           {
            "marker": {
             "colorbar": {
              "outlinewidth": 0,
              "ticks": ""
             }
            },
            "type": "scattergl"
           }
          ],
          "scattermap": [
           {
            "marker": {
             "colorbar": {
              "outlinewidth": 0,
              "ticks": ""
             }
            },
            "type": "scattermap"
           }
          ],
          "scattermapbox": [
           {
            "marker": {
             "colorbar": {
              "outlinewidth": 0,
              "ticks": ""
             }
            },
            "type": "scattermapbox"
           }
          ],
          "scatterpolar": [
           {
            "marker": {
             "colorbar": {
              "outlinewidth": 0,
              "ticks": ""
             }
            },
            "type": "scatterpolar"
           }
          ],
          "scatterpolargl": [
           {
            "marker": {
             "colorbar": {
              "outlinewidth": 0,
              "ticks": ""
             }
            },
            "type": "scatterpolargl"
           }
          ],
          "scatterternary": [
           {
            "marker": {
             "colorbar": {
              "outlinewidth": 0,
              "ticks": ""
             }
            },
            "type": "scatterternary"
           }
          ],
          "surface": [
           {
            "colorbar": {
             "outlinewidth": 0,
             "ticks": ""
            },
            "colorscale": [
             [
              0,
              "#0d0887"
             ],
             [
              0.1111111111111111,
              "#46039f"
             ],
             [
              0.2222222222222222,
              "#7201a8"
             ],
             [
              0.3333333333333333,
              "#9c179e"
             ],
             [
              0.4444444444444444,
              "#bd3786"
             ],
             [
              0.5555555555555556,
              "#d8576b"
             ],
             [
              0.6666666666666666,
              "#ed7953"
             ],
             [
              0.7777777777777778,
              "#fb9f3a"
             ],
             [
              0.8888888888888888,
              "#fdca26"
             ],
             [
              1,
              "#f0f921"
             ]
            ],
            "type": "surface"
           }
          ],
          "table": [
           {
            "cells": {
             "fill": {
              "color": "#EBF0F8"
             },
             "line": {
              "color": "white"
             }
            },
            "header": {
             "fill": {
              "color": "#C8D4E3"
             },
             "line": {
              "color": "white"
             }
            },
            "type": "table"
           }
          ]
         },
         "layout": {
          "annotationdefaults": {
           "arrowcolor": "#2a3f5f",
           "arrowhead": 0,
           "arrowwidth": 1
          },
          "autotypenumbers": "strict",
          "coloraxis": {
           "colorbar": {
            "outlinewidth": 0,
            "ticks": ""
           }
          },
          "colorscale": {
           "diverging": [
            [
             0,
             "#8e0152"
            ],
            [
             0.1,
             "#c51b7d"
            ],
            [
             0.2,
             "#de77ae"
            ],
            [
             0.3,
             "#f1b6da"
            ],
            [
             0.4,
             "#fde0ef"
            ],
            [
             0.5,
             "#f7f7f7"
            ],
            [
             0.6,
             "#e6f5d0"
            ],
            [
             0.7,
             "#b8e186"
            ],
            [
             0.8,
             "#7fbc41"
            ],
            [
             0.9,
             "#4d9221"
            ],
            [
             1,
             "#276419"
            ]
           ],
           "sequential": [
            [
             0,
             "#0d0887"
            ],
            [
             0.1111111111111111,
             "#46039f"
            ],
            [
             0.2222222222222222,
             "#7201a8"
            ],
            [
             0.3333333333333333,
             "#9c179e"
            ],
            [
             0.4444444444444444,
             "#bd3786"
            ],
            [
             0.5555555555555556,
             "#d8576b"
            ],
            [
             0.6666666666666666,
             "#ed7953"
            ],
            [
             0.7777777777777778,
             "#fb9f3a"
            ],
            [
             0.8888888888888888,
             "#fdca26"
            ],
            [
             1,
             "#f0f921"
            ]
           ],
           "sequentialminus": [
            [
             0,
             "#0d0887"
            ],
            [
             0.1111111111111111,
             "#46039f"
            ],
            [
             0.2222222222222222,
             "#7201a8"
            ],
            [
             0.3333333333333333,
             "#9c179e"
            ],
            [
             0.4444444444444444,
             "#bd3786"
            ],
            [
             0.5555555555555556,
             "#d8576b"
            ],
            [
             0.6666666666666666,
             "#ed7953"
            ],
            [
             0.7777777777777778,
             "#fb9f3a"
            ],
            [
             0.8888888888888888,
             "#fdca26"
            ],
            [
             1,
             "#f0f921"
            ]
           ]
          },
          "colorway": [
           "#636efa",
           "#EF553B",
           "#00cc96",
           "#ab63fa",
           "#FFA15A",
           "#19d3f3",
           "#FF6692",
           "#B6E880",
           "#FF97FF",
           "#FECB52"
          ],
          "font": {
           "color": "#2a3f5f"
          },
          "geo": {
           "bgcolor": "white",
           "lakecolor": "white",
           "landcolor": "#E5ECF6",
           "showlakes": true,
           "showland": true,
           "subunitcolor": "white"
          },
          "hoverlabel": {
           "align": "left"
          },
          "hovermode": "closest",
          "mapbox": {
           "style": "light"
          },
          "paper_bgcolor": "white",
          "plot_bgcolor": "#E5ECF6",
          "polar": {
           "angularaxis": {
            "gridcolor": "white",
            "linecolor": "white",
            "ticks": ""
           },
           "bgcolor": "#E5ECF6",
           "radialaxis": {
            "gridcolor": "white",
            "linecolor": "white",
            "ticks": ""
           }
          },
          "scene": {
           "xaxis": {
            "backgroundcolor": "#E5ECF6",
            "gridcolor": "white",
            "gridwidth": 2,
            "linecolor": "white",
            "showbackground": true,
            "ticks": "",
            "zerolinecolor": "white"
           },
           "yaxis": {
            "backgroundcolor": "#E5ECF6",
            "gridcolor": "white",
            "gridwidth": 2,
            "linecolor": "white",
            "showbackground": true,
            "ticks": "",
            "zerolinecolor": "white"
           },
           "zaxis": {
            "backgroundcolor": "#E5ECF6",
            "gridcolor": "white",
            "gridwidth": 2,
            "linecolor": "white",
            "showbackground": true,
            "ticks": "",
            "zerolinecolor": "white"
           }
          },
          "shapedefaults": {
           "line": {
            "color": "#2a3f5f"
           }
          },
          "ternary": {
           "aaxis": {
            "gridcolor": "white",
            "linecolor": "white",
            "ticks": ""
           },
           "baxis": {
            "gridcolor": "white",
            "linecolor": "white",
            "ticks": ""
           },
           "bgcolor": "#E5ECF6",
           "caxis": {
            "gridcolor": "white",
            "linecolor": "white",
            "ticks": ""
           }
          },
          "title": {
           "x": 0.05
          },
          "xaxis": {
           "automargin": true,
           "gridcolor": "white",
           "linecolor": "white",
           "ticks": "",
           "title": {
            "standoff": 15
           },
           "zerolinecolor": "white",
           "zerolinewidth": 2
          },
          "yaxis": {
           "automargin": true,
           "gridcolor": "white",
           "linecolor": "white",
           "ticks": "",
           "title": {
            "standoff": 15
           },
           "zerolinecolor": "white",
           "zerolinewidth": 2
          }
         }
        },
        "title": {
         "text": "Test · Doors_x_Odometer — Boxplot mit Outlier-Highlight"
        },
        "xaxis": {
         "anchor": "y",
         "domain": [
          0,
          1
         ]
        },
        "yaxis": {
         "anchor": "x",
         "domain": [
          0,
          1
         ],
         "title": {
          "text": "Doors_x_Odometer"
         }
        }
       }
      }
     },
     "metadata": {},
     "output_type": "display_data"
    },
    {
     "data": {
      "application/vnd.plotly.v1+json": {
       "config": {
        "plotlyServerURL": "https://plot.ly"
       },
       "data": [
        {
         "alignmentgroup": "True",
         "boxpoints": "all",
         "hovertemplate": "is_outlier=False<br>Odometer_Centered=%{y}<extra></extra>",
         "legendgroup": "False",
         "marker": {
          "color": "#636efa"
         },
         "name": "False",
         "notched": false,
         "offsetgroup": "False",
         "orientation": "v",
         "showlegend": true,
         "type": "box",
         "x0": " ",
         "xaxis": "x",
         "y": {
          "bdata": "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",
          "dtype": "f8"
         },
         "y0": " ",
         "yaxis": "y"
        }
       ],
       "layout": {
        "boxmode": "group",
        "legend": {
         "title": {
          "text": "is_outlier"
         },
         "tracegroupgap": 0
        },
        "template": {
         "data": {
          "bar": [
           {
            "error_x": {
             "color": "#2a3f5f"
            },
            "error_y": {
             "color": "#2a3f5f"
            },
            "marker": {
             "line": {
              "color": "#E5ECF6",
              "width": 0.5
             },
             "pattern": {
              "fillmode": "overlay",
              "size": 10,
              "solidity": 0.2
             }
            },
            "type": "bar"
           }
          ],
          "barpolar": [
           {
            "marker": {
             "line": {
              "color": "#E5ECF6",
              "width": 0.5
             },
             "pattern": {
              "fillmode": "overlay",
              "size": 10,
              "solidity": 0.2
             }
            },
            "type": "barpolar"
           }
          ],
          "carpet": [
           {
            "aaxis": {
             "endlinecolor": "#2a3f5f",
             "gridcolor": "white",
             "linecolor": "white",
             "minorgridcolor": "white",
             "startlinecolor": "#2a3f5f"
            },
            "baxis": {
             "endlinecolor": "#2a3f5f",
             "gridcolor": "white",
             "linecolor": "white",
             "minorgridcolor": "white",
             "startlinecolor": "#2a3f5f"
            },
            "type": "carpet"
           }
          ],
          "choropleth": [
           {
            "colorbar": {
             "outlinewidth": 0,
             "ticks": ""
            },
            "type": "choropleth"
           }
          ],
          "contour": [
           {
            "colorbar": {
             "outlinewidth": 0,
             "ticks": ""
            },
            "colorscale": [
             [
              0,
              "#0d0887"
             ],
             [
              0.1111111111111111,
              "#46039f"
             ],
             [
              0.2222222222222222,
              "#7201a8"
             ],
             [
              0.3333333333333333,
              "#9c179e"
             ],
             [
              0.4444444444444444,
              "#bd3786"
             ],
             [
              0.5555555555555556,
              "#d8576b"
             ],
             [
              0.6666666666666666,
              "#ed7953"
             ],
             [
              0.7777777777777778,
              "#fb9f3a"
             ],
             [
              0.8888888888888888,
              "#fdca26"
             ],
             [
              1,
              "#f0f921"
             ]
            ],
            "type": "contour"
           }
          ],
          "contourcarpet": [
           {
            "colorbar": {
             "outlinewidth": 0,
             "ticks": ""
            },
            "type": "contourcarpet"
           }
          ],
          "heatmap": [
           {
            "colorbar": {
             "outlinewidth": 0,
             "ticks": ""
            },
            "colorscale": [
             [
              0,
              "#0d0887"
             ],
             [
              0.1111111111111111,
              "#46039f"
             ],
             [
              0.2222222222222222,
              "#7201a8"
             ],
             [
              0.3333333333333333,
              "#9c179e"
             ],
             [
              0.4444444444444444,
              "#bd3786"
             ],
             [
              0.5555555555555556,
              "#d8576b"
             ],
             [
              0.6666666666666666,
              "#ed7953"
             ],
             [
              0.7777777777777778,
              "#fb9f3a"
             ],
             [
              0.8888888888888888,
              "#fdca26"
             ],
             [
              1,
              "#f0f921"
             ]
            ],
            "type": "heatmap"
           }
          ],
          "histogram": [
           {
            "marker": {
             "pattern": {
              "fillmode": "overlay",
              "size": 10,
              "solidity": 0.2
             }
            },
            "type": "histogram"
           }
          ],
          "histogram2d": [
           {
            "colorbar": {
             "outlinewidth": 0,
             "ticks": ""
            },
            "colorscale": [
             [
              0,
              "#0d0887"
             ],
             [
              0.1111111111111111,
              "#46039f"
             ],
             [
              0.2222222222222222,
              "#7201a8"
             ],
             [
              0.3333333333333333,
              "#9c179e"
             ],
             [
              0.4444444444444444,
              "#bd3786"
             ],
             [
              0.5555555555555556,
              "#d8576b"
             ],
             [
              0.6666666666666666,
              "#ed7953"
             ],
             [
              0.7777777777777778,
              "#fb9f3a"
             ],
             [
              0.8888888888888888,
              "#fdca26"
             ],
             [
              1,
              "#f0f921"
             ]
            ],
            "type": "histogram2d"
           }
          ],
          "histogram2dcontour": [
           {
            "colorbar": {
             "outlinewidth": 0,
             "ticks": ""
            },
            "colorscale": [
             [
              0,
              "#0d0887"
             ],
             [
              0.1111111111111111,
              "#46039f"
             ],
             [
              0.2222222222222222,
              "#7201a8"
             ],
             [
              0.3333333333333333,
              "#9c179e"
             ],
             [
              0.4444444444444444,
              "#bd3786"
             ],
             [
              0.5555555555555556,
              "#d8576b"
             ],
             [
              0.6666666666666666,
              "#ed7953"
             ],
             [
              0.7777777777777778,
              "#fb9f3a"
             ],
             [
              0.8888888888888888,
              "#fdca26"
             ],
             [
              1,
              "#f0f921"
             ]
            ],
            "type": "histogram2dcontour"
           }
          ],
          "mesh3d": [
           {
            "colorbar": {
             "outlinewidth": 0,
             "ticks": ""
            },
            "type": "mesh3d"
           }
          ],
          "parcoords": [
           {
            "line": {
             "colorbar": {
              "outlinewidth": 0,
              "ticks": ""
             }
            },
            "type": "parcoords"
           }
          ],
          "pie": [
           {
            "automargin": true,
            "type": "pie"
           }
          ],
          "scatter": [
           {
            "fillpattern": {
             "fillmode": "overlay",
             "size": 10,
             "solidity": 0.2
            },
            "type": "scatter"
           }
          ],
          "scatter3d": [
           {
            "line": {
             "colorbar": {
              "outlinewidth": 0,
              "ticks": ""
             }
            },
            "marker": {
             "colorbar": {
              "outlinewidth": 0,
              "ticks": ""
             }
            },
            "type": "scatter3d"
           }
          ],
          "scattercarpet": [
           {
            "marker": {
             "colorbar": {
              "outlinewidth": 0,
              "ticks": ""
             }
            },
            "type": "scattercarpet"
           }
          ],
          "scattergeo": [
           {
            "marker": {
             "colorbar": {
              "outlinewidth": 0,
              "ticks": ""
             }
            },
            "type": "scattergeo"
           }
          ],
          "scattergl": [
           {
            "marker": {
             "colorbar": {
              "outlinewidth": 0,
              "ticks": ""
             }
            },
            "type": "scattergl"
           }
          ],
          "scattermap": [
           {
            "marker": {
             "colorbar": {
              "outlinewidth": 0,
              "ticks": ""
             }
            },
            "type": "scattermap"
           }
          ],
          "scattermapbox": [
           {
            "marker": {
             "colorbar": {
              "outlinewidth": 0,
              "ticks": ""
             }
            },
            "type": "scattermapbox"
           }
          ],
          "scatterpolar": [
           {
            "marker": {
             "colorbar": {
              "outlinewidth": 0,
              "ticks": ""
             }
            },
            "type": "scatterpolar"
           }
          ],
          "scatterpolargl": [
           {
            "marker": {
             "colorbar": {
              "outlinewidth": 0,
              "ticks": ""
             }
            },
            "type": "scatterpolargl"
           }
          ],
          "scatterternary": [
           {
            "marker": {
             "colorbar": {
              "outlinewidth": 0,
              "ticks": ""
             }
            },
            "type": "scatterternary"
           }
          ],
          "surface": [
           {
            "colorbar": {
             "outlinewidth": 0,
             "ticks": ""
            },
            "colorscale": [
             [
              0,
              "#0d0887"
             ],
             [
              0.1111111111111111,
              "#46039f"
             ],
             [
              0.2222222222222222,
              "#7201a8"
             ],
             [
              0.3333333333333333,
              "#9c179e"
             ],
             [
              0.4444444444444444,
              "#bd3786"
             ],
             [
              0.5555555555555556,
              "#d8576b"
             ],
             [
              0.6666666666666666,
              "#ed7953"
             ],
             [
              0.7777777777777778,
              "#fb9f3a"
             ],
             [
              0.8888888888888888,
              "#fdca26"
             ],
             [
              1,
              "#f0f921"
             ]
            ],
            "type": "surface"
           }
          ],
          "table": [
           {
            "cells": {
             "fill": {
              "color": "#EBF0F8"
             },
             "line": {
              "color": "white"
             }
            },
            "header": {
             "fill": {
              "color": "#C8D4E3"
             },
             "line": {
              "color": "white"
             }
            },
            "type": "table"
           }
          ]
         },
         "layout": {
          "annotationdefaults": {
           "arrowcolor": "#2a3f5f",
           "arrowhead": 0,
           "arrowwidth": 1
          },
          "autotypenumbers": "strict",
          "coloraxis": {
           "colorbar": {
            "outlinewidth": 0,
            "ticks": ""
           }
          },
          "colorscale": {
           "diverging": [
            [
             0,
             "#8e0152"
            ],
            [
             0.1,
             "#c51b7d"
            ],
            [
             0.2,
             "#de77ae"
            ],
            [
             0.3,
             "#f1b6da"
            ],
            [
             0.4,
             "#fde0ef"
            ],
            [
             0.5,
             "#f7f7f7"
            ],
            [
             0.6,
             "#e6f5d0"
            ],
            [
             0.7,
             "#b8e186"
            ],
            [
             0.8,
             "#7fbc41"
            ],
            [
             0.9,
             "#4d9221"
            ],
            [
             1,
             "#276419"
            ]
           ],
           "sequential": [
            [
             0,
             "#0d0887"
            ],
            [
             0.1111111111111111,
             "#46039f"
            ],
            [
             0.2222222222222222,
             "#7201a8"
            ],
            [
             0.3333333333333333,
             "#9c179e"
            ],
            [
             0.4444444444444444,
             "#bd3786"
            ],
            [
             0.5555555555555556,
             "#d8576b"
            ],
            [
             0.6666666666666666,
             "#ed7953"
            ],
            [
             0.7777777777777778,
             "#fb9f3a"
            ],
            [
             0.8888888888888888,
             "#fdca26"
            ],
            [
             1,
             "#f0f921"
            ]
           ],
           "sequentialminus": [
            [
             0,
             "#0d0887"
            ],
            [
             0.1111111111111111,
             "#46039f"
            ],
            [
             0.2222222222222222,
             "#7201a8"
            ],
            [
             0.3333333333333333,
             "#9c179e"
            ],
            [
             0.4444444444444444,
             "#bd3786"
            ],
            [
             0.5555555555555556,
             "#d8576b"
            ],
            [
             0.6666666666666666,
             "#ed7953"
            ],
            [
             0.7777777777777778,
             "#fb9f3a"
            ],
            [
             0.8888888888888888,
             "#fdca26"
            ],
            [
             1,
             "#f0f921"
            ]
           ]
          },
          "colorway": [
           "#636efa",
           "#EF553B",
           "#00cc96",
           "#ab63fa",
           "#FFA15A",
           "#19d3f3",
           "#FF6692",
           "#B6E880",
           "#FF97FF",
           "#FECB52"
          ],
          "font": {
           "color": "#2a3f5f"
          },
          "geo": {
           "bgcolor": "white",
           "lakecolor": "white",
           "landcolor": "#E5ECF6",
           "showlakes": true,
           "showland": true,
           "subunitcolor": "white"
          },
          "hoverlabel": {
           "align": "left"
          },
          "hovermode": "closest",
          "mapbox": {
           "style": "light"
          },
          "paper_bgcolor": "white",
          "plot_bgcolor": "#E5ECF6",
          "polar": {
           "angularaxis": {
            "gridcolor": "white",
            "linecolor": "white",
            "ticks": ""
           },
           "bgcolor": "#E5ECF6",
           "radialaxis": {
            "gridcolor": "white",
            "linecolor": "white",
            "ticks": ""
           }
          },
          "scene": {
           "xaxis": {
            "backgroundcolor": "#E5ECF6",
            "gridcolor": "white",
            "gridwidth": 2,
            "linecolor": "white",
            "showbackground": true,
            "ticks": "",
            "zerolinecolor": "white"
           },
           "yaxis": {
            "backgroundcolor": "#E5ECF6",
            "gridcolor": "white",
            "gridwidth": 2,
            "linecolor": "white",
            "showbackground": true,
            "ticks": "",
            "zerolinecolor": "white"
           },
           "zaxis": {
            "backgroundcolor": "#E5ECF6",
            "gridcolor": "white",
            "gridwidth": 2,
            "linecolor": "white",
            "showbackground": true,
            "ticks": "",
            "zerolinecolor": "white"
           }
          },
          "shapedefaults": {
           "line": {
            "color": "#2a3f5f"
           }
          },
          "ternary": {
           "aaxis": {
            "gridcolor": "white",
            "linecolor": "white",
            "ticks": ""
           },
           "baxis": {
            "gridcolor": "white",
            "linecolor": "white",
            "ticks": ""
           },
           "bgcolor": "#E5ECF6",
           "caxis": {
            "gridcolor": "white",
            "linecolor": "white",
            "ticks": ""
           }
          },
          "title": {
           "x": 0.05
          },
          "xaxis": {
           "automargin": true,
           "gridcolor": "white",
           "linecolor": "white",
           "ticks": "",
           "title": {
            "standoff": 15
           },
           "zerolinecolor": "white",
           "zerolinewidth": 2
          },
          "yaxis": {
           "automargin": true,
           "gridcolor": "white",
           "linecolor": "white",
           "ticks": "",
           "title": {
            "standoff": 15
           },
           "zerolinecolor": "white",
           "zerolinewidth": 2
          }
         }
        },
        "title": {
         "text": "Test · Odometer_Centered — Boxplot mit Outlier-Highlight"
        },
        "xaxis": {
         "anchor": "y",
         "domain": [
          0,
          1
         ]
        },
        "yaxis": {
         "anchor": "x",
         "domain": [
          0,
          1
         ],
         "title": {
          "text": "Odometer_Centered"
         }
        }
       }
      }
     },
     "metadata": {},
     "output_type": "display_data"
    },
    {
     "data": {
      "application/vnd.microsoft.datawrangler.viewer.v0+json": {
       "columns": [
        {
         "name": "index",
         "rawType": "int64",
         "type": "integer"
        },
        {
         "name": "dataset",
         "rawType": "object",
         "type": "string"
        },
        {
         "name": "feature",
         "rawType": "object",
         "type": "string"
        },
        {
         "name": "n_total",
         "rawType": "int64",
         "type": "integer"
        },
        {
         "name": "n_outliers",
         "rawType": "int64",
         "type": "integer"
        },
        {
         "name": "lower_bound",
         "rawType": "float64",
         "type": "float"
        },
        {
         "name": "upper_bound",
         "rawType": "float64",
         "type": "float"
        },
        {
         "name": "Q1",
         "rawType": "float64",
         "type": "float"
        },
        {
         "name": "Q3",
         "rawType": "float64",
         "type": "float"
        },
        {
         "name": "IQR",
         "rawType": "float64",
         "type": "float"
        }
       ],
       "ref": "cb129659-19ef-48c2-ad24-8a407725fcae",
       "rows": [
        [
         "2",
         "Test",
         "Doors_x_Odometer",
         "190",
         "0",
         "-290376.0",
         "1389640.0",
         "339630.0",
         "759634.0",
         "420004.0"
        ],
        [
         "0",
         "Test",
         "Odometer (KM)",
         "190",
         "0",
         "-83240.375",
         "357214.625",
         "81930.25",
         "192044.0",
         "110113.75"
        ],
        [
         "3",
         "Test",
         "Odometer_Centered",
         "190",
         "0",
         "-213559.40814917115",
         "226895.59185082885",
         "-48388.78314917117",
         "61724.96685082883",
         "110113.75"
        ],
        [
         "1",
         "Test",
         "Odometer_Sq",
         "190",
         "0",
         "-38541404892.875",
         "82136071574.125",
         "6712648782.25",
         "36882017899.0",
         "30169369116.75"
        ]
       ],
       "shape": {
        "columns": 9,
        "rows": 4
       }
      },
      "text/html": [
       "<div>\n",
       "<style scoped>\n",
       "    .dataframe tbody tr th:only-of-type {\n",
       "        vertical-align: middle;\n",
       "    }\n",
       "\n",
       "    .dataframe tbody tr th {\n",
       "        vertical-align: top;\n",
       "    }\n",
       "\n",
       "    .dataframe thead th {\n",
       "        text-align: right;\n",
       "    }\n",
       "</style>\n",
       "<table border=\"1\" class=\"dataframe\">\n",
       "  <thead>\n",
       "    <tr style=\"text-align: right;\">\n",
       "      <th></th>\n",
       "      <th>dataset</th>\n",
       "      <th>feature</th>\n",
       "      <th>n_total</th>\n",
       "      <th>n_outliers</th>\n",
       "      <th>lower_bound</th>\n",
       "      <th>upper_bound</th>\n",
       "      <th>Q1</th>\n",
       "      <th>Q3</th>\n",
       "      <th>IQR</th>\n",
       "    </tr>\n",
       "  </thead>\n",
       "  <tbody>\n",
       "    <tr>\n",
       "      <th>2</th>\n",
       "      <td>Test</td>\n",
       "      <td>Doors_x_Odometer</td>\n",
       "      <td>190</td>\n",
       "      <td>0</td>\n",
       "      <td>-2.903760e+05</td>\n",
       "      <td>1.389640e+06</td>\n",
       "      <td>3.396300e+05</td>\n",
       "      <td>7.596340e+05</td>\n",
       "      <td>4.200040e+05</td>\n",
       "    </tr>\n",
       "    <tr>\n",
       "      <th>0</th>\n",
       "      <td>Test</td>\n",
       "      <td>Odometer (KM)</td>\n",
       "      <td>190</td>\n",
       "      <td>0</td>\n",
       "      <td>-8.324038e+04</td>\n",
       "      <td>3.572146e+05</td>\n",
       "      <td>8.193025e+04</td>\n",
       "      <td>1.920440e+05</td>\n",
       "      <td>1.101138e+05</td>\n",
       "    </tr>\n",
       "    <tr>\n",
       "      <th>3</th>\n",
       "      <td>Test</td>\n",
       "      <td>Odometer_Centered</td>\n",
       "      <td>190</td>\n",
       "      <td>0</td>\n",
       "      <td>-2.135594e+05</td>\n",
       "      <td>2.268956e+05</td>\n",
       "      <td>-4.838878e+04</td>\n",
       "      <td>6.172497e+04</td>\n",
       "      <td>1.101138e+05</td>\n",
       "    </tr>\n",
       "    <tr>\n",
       "      <th>1</th>\n",
       "      <td>Test</td>\n",
       "      <td>Odometer_Sq</td>\n",
       "      <td>190</td>\n",
       "      <td>0</td>\n",
       "      <td>-3.854140e+10</td>\n",
       "      <td>8.213607e+10</td>\n",
       "      <td>6.712649e+09</td>\n",
       "      <td>3.688202e+10</td>\n",
       "      <td>3.016937e+10</td>\n",
       "    </tr>\n",
       "  </tbody>\n",
       "</table>\n",
       "</div>"
      ],
      "text/plain": [
       "  dataset            feature  n_total  n_outliers   lower_bound   upper_bound  \\\n",
       "2    Test   Doors_x_Odometer      190           0 -2.903760e+05  1.389640e+06   \n",
       "0    Test      Odometer (KM)      190           0 -8.324038e+04  3.572146e+05   \n",
       "3    Test  Odometer_Centered      190           0 -2.135594e+05  2.268956e+05   \n",
       "1    Test        Odometer_Sq      190           0 -3.854140e+10  8.213607e+10   \n",
       "\n",
       "             Q1            Q3           IQR  \n",
       "2  3.396300e+05  7.596340e+05  4.200040e+05  \n",
       "0  8.193025e+04  1.920440e+05  1.101138e+05  \n",
       "3 -4.838878e+04  6.172497e+04  1.101138e+05  \n",
       "1  6.712649e+09  3.688202e+10  3.016937e+10  "
      ]
     },
     "metadata": {},
     "output_type": "display_data"
    }
   ],
   "source": [
    "# Testdaten:\n",
    "test_figs, test_summary = plot_outliers_boxplots(X_test_df_transformed, dataset_name=\"Test\")\n",
    "for f in test_figs:\n",
    "    f.show()\n",
    "display(test_summary)"
   ]
  },
  {
   "cell_type": "code",
   "execution_count": 52,
   "metadata": {},
   "outputs": [
    {
     "name": "stdout",
     "output_type": "stream",
     "text": [
      "Kontinuierliche Features: ['Odometer (KM)', 'Odometer_Sq', 'Doors_x_Odometer', 'Odometer_Centered']\n",
      "Binäre (One-Hot) Features: ['Make_BMW', 'Make_Honda', 'Make_Nissan', 'Make_Toyota', 'Make_missing', 'Colour_Black', 'Colour_Blue', 'Colour_Green', 'Colour_Red', 'Colour_White', 'Colour_missing', 'Doors_3.0', 'Doors_4.0', 'Doors_5.0', 'Doors_Sq_9.0', 'Doors_Sq_16.0', 'Doors_Sq_25.0', 'Odometer_bin_0.0', 'Odometer_bin_1.0', 'Odometer_bin_2.0', 'Odometer_bin_3.0', 'Odometer_bin_4.0']\n",
      "Vor der Standardisierung:\n",
      "Odometer (KM)\n",
      "  Mittelwert = 130319.0331\n",
      "  Std-Abw.  = 67130.4786\n",
      "Odometer_Sq\n",
      "  Mittelwert = 21713631731.4530\n",
      "  Std-Abw.  = 17972505231.7079\n",
      "Doors_x_Odometer\n",
      "  Mittelwert = 515473.1645\n",
      "  Std-Abw.  = 267762.7651\n",
      "Odometer_Centered\n",
      "  Mittelwert = 0.0000\n",
      "  Std-Abw.  = 67130.4786\n"
     ]
    }
   ],
   "source": [
    "# Alle numerischen Spalten holen:\n",
    "num_cols = X_train_df_transformed.select_dtypes(include=[\"number\", \"bool\"]).columns.tolist()\n",
    "\n",
    "# One-Hot-Spalten (binär) erkennen:\n",
    "binary_cols = []\n",
    "for c in num_cols:\n",
    "    unique_vals = pd.unique(X_train_df_transformed[c].dropna())\n",
    "    # Prüfen, ob nur 0/1 (oder 0.0/1.0, True/False) vorkommen\n",
    "    if len(unique_vals) <= 2 and set(unique_vals).issubset({0, 1, 0.0, 1.0, True, False}):\n",
    "        binary_cols.append(c)\n",
    "\n",
    "# Kontinuierliche Spalten sind alle numerischen ohne binäre:\n",
    "continous_cols = [c for c in num_cols if c not in binary_cols]\n",
    "\n",
    "print(\"Kontinuierliche Features:\", continous_cols)\n",
    "print(\"Binäre (One-Hot) Features:\", binary_cols)\n",
    "\n",
    "print(\"Vor der Standardisierung:\")\n",
    "for col in continous_cols:\n",
    "    mean_val = X_train_df_transformed[col].mean()\n",
    "    std_val = X_train_df_transformed[col].std(ddof=0)\n",
    "    print(f\"{col}\\n  Mittelwert = {mean_val:.4f}\\n  Std-Abw.  = {std_val:.4f}\")"
   ]
  },
  {
   "cell_type": "code",
   "execution_count": 53,
   "metadata": {},
   "outputs": [
    {
     "name": "stdout",
     "output_type": "stream",
     "text": [
      "\n",
      "Nach der Standardisierung (Trainingsdaten):\n",
      "Odometer (KM)\n",
      "  Mittelwert = -0.0000\n",
      "  Std-Abw.  = 0.9827\n",
      "Odometer_Sq\n",
      "  Mittelwert = -0.0000\n",
      "  Std-Abw.  = 0.9799\n",
      "Doors_x_Odometer\n",
      "  Mittelwert = 0.0000\n",
      "  Std-Abw.  = 0.9917\n",
      "Odometer_Centered\n",
      "  Mittelwert = -0.0000\n",
      "  Std-Abw.  = 0.9827\n"
     ]
    }
   ],
   "source": [
    "# StandardScaler fitten (nur auf Trainingsdaten):\n",
    "scaler = StandardScaler()\n",
    "scaler.fit(X_train_df_transformed[continous_cols].astype(float))\n",
    "\n",
    "# Kopien erstellen & Transformation anwenden:\n",
    "X_train_df_transformed_scaled = X_train_df_transformed.copy()\n",
    "X_test_df_transformed_scaled = X_test_df_transformed.copy()\n",
    "\n",
    "X_train_df_transformed_scaled[continous_cols] = scaler.transform(X_train_df_transformed[continous_cols].astype(float))\n",
    "X_test_df_transformed_scaled[continous_cols]  = scaler.transform(X_test_df_transformed[continous_cols].astype(float))\n",
    "\n",
    "# Mittelwert & Standardabweichung nach der Standardisierung prüfen:\n",
    "print(\"\\nNach der Standardisierung (Trainingsdaten):\")\n",
    "for col in continous_cols:\n",
    "    mean_val = X_train_df_transformed_scaled[col].mean()\n",
    "    std_val = X_test_df_transformed_scaled[col].std(ddof=0)\n",
    "    print(f\"{col}\\n  Mittelwert = {mean_val:.4f}\\n  Std-Abw.  = {std_val:.4f}\")"
   ]
  },
  {
   "cell_type": "code",
   "execution_count": 54,
   "metadata": {},
   "outputs": [
    {
     "data": {
      "application/vnd.microsoft.datawrangler.viewer.v0+json": {
       "columns": [
        {
         "name": "index",
         "rawType": "int64",
         "type": "integer"
        },
        {
         "name": "Make_BMW",
         "rawType": "float64",
         "type": "float"
        },
        {
         "name": "Make_Honda",
         "rawType": "float64",
         "type": "float"
        },
        {
         "name": "Make_Nissan",
         "rawType": "float64",
         "type": "float"
        },
        {
         "name": "Make_Toyota",
         "rawType": "float64",
         "type": "float"
        },
        {
         "name": "Make_missing",
         "rawType": "float64",
         "type": "float"
        },
        {
         "name": "Colour_Black",
         "rawType": "float64",
         "type": "float"
        },
        {
         "name": "Colour_Blue",
         "rawType": "float64",
         "type": "float"
        },
        {
         "name": "Colour_Green",
         "rawType": "float64",
         "type": "float"
        },
        {
         "name": "Colour_Red",
         "rawType": "float64",
         "type": "float"
        },
        {
         "name": "Colour_White",
         "rawType": "float64",
         "type": "float"
        },
        {
         "name": "Colour_missing",
         "rawType": "float64",
         "type": "float"
        },
        {
         "name": "Doors_3.0",
         "rawType": "float64",
         "type": "float"
        },
        {
         "name": "Doors_4.0",
         "rawType": "float64",
         "type": "float"
        },
        {
         "name": "Doors_5.0",
         "rawType": "float64",
         "type": "float"
        },
        {
         "name": "Doors_Sq_9.0",
         "rawType": "float64",
         "type": "float"
        },
        {
         "name": "Doors_Sq_16.0",
         "rawType": "float64",
         "type": "float"
        },
        {
         "name": "Doors_Sq_25.0",
         "rawType": "float64",
         "type": "float"
        },
        {
         "name": "Odometer_bin_0.0",
         "rawType": "float64",
         "type": "float"
        },
        {
         "name": "Odometer_bin_1.0",
         "rawType": "float64",
         "type": "float"
        },
        {
         "name": "Odometer_bin_2.0",
         "rawType": "float64",
         "type": "float"
        },
        {
         "name": "Odometer_bin_3.0",
         "rawType": "float64",
         "type": "float"
        },
        {
         "name": "Odometer_bin_4.0",
         "rawType": "float64",
         "type": "float"
        },
        {
         "name": "Odometer (KM)",
         "rawType": "float64",
         "type": "float"
        },
        {
         "name": "Odometer_Sq",
         "rawType": "float64",
         "type": "float"
        },
        {
         "name": "Doors_x_Odometer",
         "rawType": "float64",
         "type": "float"
        },
        {
         "name": "Odometer_Centered",
         "rawType": "float64",
         "type": "float"
        }
       ],
       "ref": "6c67c4dc-6527-463a-a27d-6fa318d7392d",
       "rows": [
        [
         "0",
         "0.0",
         "1.0",
         "0.0",
         "0.0",
         "0.0",
         "0.0",
         "0.0",
         "0.0",
         "0.0",
         "1.0",
         "0.0",
         "0.0",
         "1.0",
         "0.0",
         "0.0",
         "1.0",
         "0.0",
         "0.0",
         "1.0",
         "0.0",
         "0.0",
         "0.0",
         "-0.8697246665497483",
         "-0.9202462963412553",
         "-0.8505184220070237",
         "-0.8697246665497483"
        ],
        [
         "1",
         "0.0",
         "0.0",
         "0.0",
         "1.0",
         "0.0",
         "0.0",
         "0.0",
         "0.0",
         "1.0",
         "0.0",
         "0.0",
         "0.0",
         "1.0",
         "0.0",
         "0.0",
         "1.0",
         "0.0",
         "0.0",
         "0.0",
         "0.0",
         "1.0",
         "0.0",
         "0.4818372743180594",
         "0.26408508064715275",
         "0.5048754088104563",
         "0.48183727431805934"
        ],
        [
         "2",
         "0.0",
         "1.0",
         "0.0",
         "0.0",
         "0.0",
         "0.0",
         "0.0",
         "0.0",
         "0.0",
         "1.0",
         "0.0",
         "0.0",
         "1.0",
         "0.0",
         "0.0",
         "1.0",
         "0.0",
         "1.0",
         "0.0",
         "0.0",
         "0.0",
         "0.0",
         "-1.3030598756827296",
         "-1.106024070611109",
         "-1.2850822043799777",
         "-1.3030598756827296"
        ],
        [
         "3",
         "0.0",
         "1.0",
         "0.0",
         "0.0",
         "0.0",
         "0.0",
         "0.0",
         "0.0",
         "0.0",
         "1.0",
         "0.0",
         "0.0",
         "1.0",
         "0.0",
         "0.0",
         "1.0",
         "0.0",
         "0.0",
         "0.0",
         "0.0",
         "1.0",
         "0.0",
         "0.9758602676383135",
         "0.9256008160842312",
         "1.0002990347512142",
         "0.9758602676383135"
        ],
        [
         "4",
         "0.0",
         "1.0",
         "0.0",
         "0.0",
         "0.0",
         "0.0",
         "1.0",
         "0.0",
         "0.0",
         "0.0",
         "0.0",
         "0.0",
         "1.0",
         "0.0",
         "0.0",
         "1.0",
         "0.0",
         "0.0",
         "0.0",
         "0.0",
         "0.0",
         "1.0",
         "1.3242564130904333",
         "1.4657089269375974",
         "1.3496829378842032",
         "1.3242564130904333"
        ],
        [
         "5",
         "0.0",
         "0.0",
         "0.0",
         "0.0",
         "1.0",
         "0.0",
         "0.0",
         "0.0",
         "0.0",
         "1.0",
         "0.0",
         "0.0",
         "1.0",
         "0.0",
         "0.0",
         "1.0",
         "0.0",
         "0.0",
         "0.0",
         "1.0",
         "0.0",
         "0.0",
         "-0.05437221993944473",
         "-0.3154037846906421",
         "-0.03285432341012988",
         "-0.05437221993944477"
        ],
        [
         "6",
         "0.0",
         "0.0",
         "0.0",
         "1.0",
         "0.0",
         "0.0",
         "1.0",
         "0.0",
         "0.0",
         "0.0",
         "0.0",
         "0.0",
         "1.0",
         "0.0",
         "0.0",
         "1.0",
         "0.0",
         "0.0",
         "1.0",
         "0.0",
         "0.0",
         "0.0",
         "-0.802959166125753",
         "-0.8832506359462345",
         "-0.7835636309243292",
         "-0.802959166125753"
        ],
        [
         "7",
         "0.0",
         "0.0",
         "1.0",
         "0.0",
         "0.0",
         "0.0",
         "0.0",
         "0.0",
         "0.0",
         "1.0",
         "0.0",
         "0.0",
         "1.0",
         "0.0",
         "0.0",
         "1.0",
         "0.0",
         "0.0",
         "0.0",
         "1.0",
         "0.0",
         "0.0",
         "-0.2326816889432875",
         "-0.4761590562986751",
         "-0.21166932770728558",
         "-0.23268168894328753"
        ],
        [
         "8",
         "0.0",
         "0.0",
         "1.0",
         "0.0",
         "0.0",
         "0.0",
         "1.0",
         "0.0",
         "0.0",
         "0.0",
         "0.0",
         "1.0",
         "0.0",
         "0.0",
         "1.0",
         "0.0",
         "0.0",
         "0.0",
         "0.0",
         "0.0",
         "1.0",
         "0.0",
         "0.7403785561919688",
         "0.5950160298565523",
         "0.09183440984945947",
         "0.7403785561919688"
        ],
        [
         "9",
         "0.0",
         "1.0",
         "0.0",
         "0.0",
         "0.0",
         "0.0",
         "1.0",
         "0.0",
         "0.0",
         "0.0",
         "0.0",
         "0.0",
         "1.0",
         "0.0",
         "0.0",
         "1.0",
         "0.0",
         "1.0",
         "0.0",
         "0.0",
         "0.0",
         "0.0",
         "-1.5158246330579916",
         "-1.1627706177313561",
         "-1.4984501831916965",
         "-1.5158246330579916"
        ],
        [
         "10",
         "0.0",
         "0.0",
         "0.0",
         "1.0",
         "0.0",
         "0.0",
         "1.0",
         "0.0",
         "0.0",
         "0.0",
         "0.0",
         "0.0",
         "1.0",
         "0.0",
         "0.0",
         "1.0",
         "0.0",
         "0.0",
         "1.0",
         "0.0",
         "0.0",
         "0.0",
         "-1.027581428707954",
         "-0.9988259249902655",
         "-1.0088227328288246",
         "-1.027581428707954"
        ],
        [
         "11",
         "0.0",
         "1.0",
         "0.0",
         "0.0",
         "0.0",
         "0.0",
         "0.0",
         "0.0",
         "0.0",
         "1.0",
         "0.0",
         "0.0",
         "1.0",
         "0.0",
         "0.0",
         "1.0",
         "0.0",
         "0.0",
         "0.0",
         "0.0",
         "1.0",
         "0.0",
         "0.0",
         "-2.1225183781807654e-16",
         "0.0",
         "-3.879053134160268e-17"
        ],
        [
         "12",
         "0.0",
         "0.0",
         "0.0",
         "1.0",
         "0.0",
         "0.0",
         "1.0",
         "0.0",
         "0.0",
         "0.0",
         "0.0",
         "0.0",
         "1.0",
         "0.0",
         "0.0",
         "1.0",
         "0.0",
         "0.0",
         "0.0",
         "1.0",
         "0.0",
         "0.0",
         "-0.15751463960382295",
         "-0.41033604449546307",
         "-0.13628916800106608",
         "-0.15751463960382298"
        ],
        [
         "13",
         "0.0",
         "1.0",
         "0.0",
         "0.0",
         "0.0",
         "0.0",
         "0.0",
         "0.0",
         "0.0",
         "1.0",
         "0.0",
         "0.0",
         "1.0",
         "0.0",
         "0.0",
         "1.0",
         "0.0",
         "0.0",
         "1.0",
         "0.0",
         "0.0",
         "0.0",
         "-0.6793491432524125",
         "-0.8088560692031906",
         "-0.6596031542611882",
         "-0.6793491432524125"
        ],
        [
         "14",
         "0.0",
         "0.0",
         "0.0",
         "1.0",
         "0.0",
         "0.0",
         "0.0",
         "0.0",
         "0.0",
         "1.0",
         "0.0",
         "0.0",
         "1.0",
         "0.0",
         "0.0",
         "1.0",
         "0.0",
         "0.0",
         "0.0",
         "0.0",
         "0.0",
         "1.0",
         "1.405292629580066",
         "1.6000627373201322",
         "1.4309489047494102",
         "1.405292629580066"
        ],
        [
         "15",
         "0.0",
         "0.0",
         "0.0",
         "1.0",
         "0.0",
         "0.0",
         "0.0",
         "0.0",
         "0.0",
         "1.0",
         "0.0",
         "0.0",
         "1.0",
         "0.0",
         "0.0",
         "1.0",
         "0.0",
         "0.0",
         "0.0",
         "0.0",
         "0.0",
         "1.0",
         "1.7228830956754653",
         "2.1583553487640676",
         "1.7494397895961402",
         "1.7228830956754653"
        ],
        [
         "16",
         "0.0",
         "0.0",
         "0.0",
         "1.0",
         "0.0",
         "0.0",
         "1.0",
         "0.0",
         "0.0",
         "0.0",
         "0.0",
         "0.0",
         "1.0",
         "0.0",
         "0.0",
         "1.0",
         "0.0",
         "0.0",
         "1.0",
         "0.0",
         "0.0",
         "0.0",
         "-0.8790795827180368",
         "-0.9252514260569111",
         "-0.859899860828963",
         "-0.8790795827180368"
        ],
        [
         "17",
         "0.0",
         "1.0",
         "0.0",
         "0.0",
         "0.0",
         "0.0",
         "0.0",
         "0.0",
         "0.0",
         "0.0",
         "1.0",
         "0.0",
         "1.0",
         "0.0",
         "0.0",
         "1.0",
         "0.0",
         "0.0",
         "0.0",
         "1.0",
         "0.0",
         "0.0",
         "-0.4213739231848645",
         "-0.6289108035707561",
         "-0.40089653400904596",
         "-0.42137392318486455"
        ],
        [
         "18",
         "0.0",
         "1.0",
         "0.0",
         "0.0",
         "0.0",
         "0.0",
         "0.0",
         "0.0",
         "1.0",
         "0.0",
         "0.0",
         "0.0",
         "1.0",
         "0.0",
         "0.0",
         "1.0",
         "0.0",
         "1.0",
         "0.0",
         "0.0",
         "0.0",
         "0.0",
         "-1.3059199774411872",
         "-1.1069374230785793",
         "-1.2879504149752201",
         "-1.3059199774411872"
        ],
        [
         "19",
         "0.0",
         "0.0",
         "0.0",
         "0.0",
         "1.0",
         "0.0",
         "0.0",
         "0.0",
         "0.0",
         "1.0",
         "0.0",
         "0.0",
         "1.0",
         "0.0",
         "0.0",
         "1.0",
         "0.0",
         "0.0",
         "0.0",
         "1.0",
         "0.0",
         "0.0",
         "-0.3118558600172578",
         "-0.5424270100227214",
         "-0.2910679699662148",
         "-0.31185586001725785"
        ],
        [
         "20",
         "0.0",
         "0.0",
         "0.0",
         "1.0",
         "0.0",
         "0.0",
         "1.0",
         "0.0",
         "0.0",
         "0.0",
         "0.0",
         "0.0",
         "1.0",
         "0.0",
         "0.0",
         "1.0",
         "0.0",
         "0.0",
         "0.0",
         "1.0",
         "0.0",
         "0.0",
         "0.07325982103172694",
         "-0.19054580974116125",
         "0.09513957440257105",
         "0.0732598210317269"
        ],
        [
         "21",
         "0.0",
         "1.0",
         "0.0",
         "0.0",
         "0.0",
         "1.0",
         "0.0",
         "0.0",
         "0.0",
         "0.0",
         "0.0",
         "0.0",
         "1.0",
         "0.0",
         "0.0",
         "1.0",
         "0.0",
         "0.0",
         "0.0",
         "0.0",
         "0.0",
         "1.0",
         "1.5120697618958177",
         "1.7821221071083395",
         "1.5380287669718005",
         "1.5120697618958177"
        ],
        [
         "22",
         "0.0",
         "1.0",
         "0.0",
         "0.0",
         "0.0",
         "0.0",
         "1.0",
         "0.0",
         "0.0",
         "0.0",
         "0.0",
         "0.0",
         "1.0",
         "0.0",
         "0.0",
         "1.0",
         "0.0",
         "0.0",
         "0.0",
         "0.0",
         "1.0",
         "0.0",
         "0.0",
         "-2.1225183781807654e-16",
         "0.0",
         "-3.879053134160268e-17"
        ],
        [
         "23",
         "0.0",
         "0.0",
         "0.0",
         "1.0",
         "0.0",
         "0.0",
         "0.0",
         "0.0",
         "0.0",
         "0.0",
         "1.0",
         "0.0",
         "1.0",
         "0.0",
         "0.0",
         "1.0",
         "0.0",
         "0.0",
         "0.0",
         "0.0",
         "1.0",
         "0.0",
         "1.02778899019031",
         "1.0022441090609833",
         "1.0523749833710876",
         "1.02778899019031"
        ],
        [
         "24",
         "0.0",
         "0.0",
         "0.0",
         "1.0",
         "0.0",
         "1.0",
         "0.0",
         "0.0",
         "0.0",
         "0.0",
         "0.0",
         "0.0",
         "1.0",
         "0.0",
         "0.0",
         "1.0",
         "0.0",
         "0.0",
         "0.0",
         "1.0",
         "0.0",
         "0.0",
         "0.04638678159288547",
         "-0.21751370730198122",
         "0.06819034568477081",
         "0.04638678159288543"
        ],
        [
         "25",
         "0.0",
         "0.0",
         "0.0",
         "1.0",
         "0.0",
         "0.0",
         "0.0",
         "0.0",
         "0.0",
         "1.0",
         "0.0",
         "0.0",
         "1.0",
         "0.0",
         "0.0",
         "1.0",
         "0.0",
         "0.0",
         "1.0",
         "0.0",
         "0.0",
         "0.0",
         "-1.023321068796918",
         "-0.9968692383989072",
         "-1.0045502941296613",
         "-1.023321068796918"
        ],
        [
         "26",
         "0.0",
         "0.0",
         "0.0",
         "1.0",
         "0.0",
         "0.0",
         "1.0",
         "0.0",
         "0.0",
         "0.0",
         "0.0",
         "0.0",
         "1.0",
         "0.0",
         "0.0",
         "1.0",
         "0.0",
         "0.0",
         "0.0",
         "0.0",
         "1.0",
         "0.0",
         "0.0",
         "-2.1225183781807654e-16",
         "0.0",
         "-3.879053134160268e-17"
        ],
        [
         "27",
         "0.0",
         "1.0",
         "0.0",
         "0.0",
         "0.0",
         "0.0",
         "0.0",
         "0.0",
         "0.0",
         "1.0",
         "0.0",
         "0.0",
         "1.0",
         "0.0",
         "0.0",
         "1.0",
         "0.0",
         "0.0",
         "0.0",
         "1.0",
         "0.0",
         "0.0",
         "-0.0516163927242642",
         "-0.31279414544473144",
         "-0.030090682992838836",
         "-0.05161639272426424"
        ],
        [
         "28",
         "1.0",
         "0.0",
         "0.0",
         "0.0",
         "0.0",
         "0.0",
         "0.0",
         "0.0",
         "0.0",
         "1.0",
         "0.0",
         "0.0",
         "0.0",
         "1.0",
         "0.0",
         "0.0",
         "1.0",
         "0.0",
         "0.0",
         "0.0",
         "1.0",
         "0.0",
         "0.9288473449836663",
         "0.8573792578655786",
         "1.6727188908226134",
         "0.9288473449836663"
        ],
        [
         "29",
         "0.0",
         "1.0",
         "0.0",
         "0.0",
         "0.0",
         "0.0",
         "1.0",
         "0.0",
         "0.0",
         "0.0",
         "0.0",
         "0.0",
         "1.0",
         "0.0",
         "0.0",
         "1.0",
         "0.0",
         "1.0",
         "0.0",
         "0.0",
         "0.0",
         "0.0",
         "-1.541699616154038",
         "-1.168123446608561",
         "-1.524398525920532",
         "-1.541699616154038"
        ],
        [
         "30",
         "0.0",
         "0.0",
         "0.0",
         "1.0",
         "0.0",
         "0.0",
         "0.0",
         "0.0",
         "1.0",
         "0.0",
         "0.0",
         "0.0",
         "1.0",
         "0.0",
         "0.0",
         "1.0",
         "0.0",
         "0.0",
         "1.0",
         "0.0",
         "0.0",
         "0.0",
         "-0.9264649144558166",
         "-0.9499296779356478",
         "-0.9074195374095186",
         "-0.9264649144558166"
        ],
        [
         "31",
         "0.0",
         "1.0",
         "0.0",
         "0.0",
         "0.0",
         "0.0",
         "1.0",
         "0.0",
         "0.0",
         "0.0",
         "0.0",
         "0.0",
         "1.0",
         "0.0",
         "0.0",
         "1.0",
         "0.0",
         "0.0",
         "1.0",
         "0.0",
         "0.0",
         "0.0",
         "-0.8054021697111023",
         "-0.8846437390043339",
         "-0.7860135608077656",
         "-0.8054021697111023"
        ],
        [
         "32",
         "1.0",
         "0.0",
         "0.0",
         "0.0",
         "0.0",
         "0.0",
         "0.0",
         "0.0",
         "0.0",
         "1.0",
         "0.0",
         "0.0",
         "0.0",
         "1.0",
         "0.0",
         "0.0",
         "1.0",
         "0.0",
         "0.0",
         "1.0",
         "0.0",
         "0.0",
         "-0.17924843369543586",
         "-0.4296592954570096",
         "0.2836721359507961",
         "-0.1792484336954359"
        ],
        [
         "33",
         "0.0",
         "1.0",
         "0.0",
         "0.0",
         "0.0",
         "0.0",
         "1.0",
         "0.0",
         "0.0",
         "0.0",
         "0.0",
         "0.0",
         "1.0",
         "0.0",
         "0.0",
         "1.0",
         "0.0",
         "0.0",
         "0.0",
         "1.0",
         "0.0",
         "0.0",
         "-0.06703412876594986",
         "-0.32734506929360146",
         "-0.04555213073281846",
         "-0.0670341287659499"
        ],
        [
         "34",
         "0.0",
         "0.0",
         "0.0",
         "1.0",
         "0.0",
         "0.0",
         "0.0",
         "1.0",
         "0.0",
         "0.0",
         "0.0",
         "0.0",
         "1.0",
         "0.0",
         "0.0",
         "1.0",
         "0.0",
         "0.0",
         "1.0",
         "0.0",
         "0.0",
         "0.0",
         "-1.0229039706238097",
         "-0.9966771854849978",
         "-1.004132013417855",
         "-1.0229039706238097"
        ],
        [
         "35",
         "0.0",
         "0.0",
         "1.0",
         "0.0",
         "0.0",
         "0.0",
         "0.0",
         "0.0",
         "0.0",
         "1.0",
         "0.0",
         "0.0",
         "1.0",
         "0.0",
         "0.0",
         "1.0",
         "0.0",
         "0.0",
         "0.0",
         "0.0",
         "1.0",
         "0.0",
         "0.552684378293187",
         "0.3514345623004022",
         "0.5759233754301115",
         "0.552684378293187"
        ],
        [
         "36",
         "0.0",
         "1.0",
         "0.0",
         "0.0",
         "0.0",
         "0.0",
         "1.0",
         "0.0",
         "0.0",
         "0.0",
         "0.0",
         "0.0",
         "1.0",
         "0.0",
         "0.0",
         "1.0",
         "0.0",
         "0.0",
         "1.0",
         "0.0",
         "0.0",
         "0.0",
         "-1.1893857271473642",
         "-1.0664014759967728",
         "-1.1710857718159347",
         "-1.1893857271473642"
        ],
        [
         "37",
         "0.0",
         "0.0",
         "0.0",
         "1.0",
         "0.0",
         "0.0",
         "0.0",
         "0.0",
         "0.0",
         "1.0",
         "0.0",
         "0.0",
         "1.0",
         "0.0",
         "0.0",
         "1.0",
         "0.0",
         "1.0",
         "0.0",
         "0.0",
         "0.0",
         "0.0",
         "-1.5121303349533173",
         "-1.1619789773998292",
         "-1.4947454111728415",
         "-1.5121303349533173"
        ],
        [
         "38",
         "0.0",
         "0.0",
         "0.0",
         "1.0",
         "0.0",
         "0.0",
         "1.0",
         "0.0",
         "0.0",
         "0.0",
         "0.0",
         "0.0",
         "1.0",
         "0.0",
         "0.0",
         "1.0",
         "0.0",
         "0.0",
         "1.0",
         "0.0",
         "0.0",
         "0.0",
         "-0.7218037787295178",
         "-0.8352712680794402",
         "-0.7021781552843205",
         "-0.7218037787295178"
        ],
        [
         "39",
         "0.0",
         "0.0",
         "0.0",
         "1.0",
         "0.0",
         "0.0",
         "0.0",
         "0.0",
         "0.0",
         "1.0",
         "0.0",
         "0.0",
         "1.0",
         "0.0",
         "0.0",
         "1.0",
         "0.0",
         "0.0",
         "1.0",
         "0.0",
         "0.0",
         "0.0",
         "-1.0070989291356662",
         "-0.9893354631542006",
         "-0.9882821621597696",
         "-1.0070989291356662"
        ],
        [
         "40",
         "0.0",
         "0.0",
         "1.0",
         "0.0",
         "0.0",
         "0.0",
         "0.0",
         "0.0",
         "0.0",
         "1.0",
         "0.0",
         "0.0",
         "1.0",
         "0.0",
         "0.0",
         "1.0",
         "0.0",
         "0.0",
         "0.0",
         "0.0",
         "0.0",
         "1.0",
         "1.5735470533393314",
         "1.8895370531111981",
         "1.599680356172666",
         "1.5735470533393314"
        ],
        [
         "41",
         "0.0",
         "0.0",
         "0.0",
         "1.0",
         "0.0",
         "0.0",
         "0.0",
         "0.0",
         "0.0",
         "0.0",
         "1.0",
         "0.0",
         "1.0",
         "0.0",
         "0.0",
         "1.0",
         "0.0",
         "0.0",
         "1.0",
         "0.0",
         "0.0",
         "0.0",
         "-0.8484824524478704",
         "-0.9087181737268039",
         "-0.8292159828986072",
         "-0.8484824524478704"
        ],
        [
         "42",
         "0.0",
         "0.0",
         "1.0",
         "0.0",
         "0.0",
         "0.0",
         "1.0",
         "0.0",
         "0.0",
         "0.0",
         "0.0",
         "0.0",
         "1.0",
         "0.0",
         "0.0",
         "1.0",
         "0.0",
         "0.0",
         "0.0",
         "0.0",
         "1.0",
         "0.0",
         "0.5454894348070669",
         "0.34244887027149784",
         "0.5687080331514544",
         "0.5454894348070669"
        ],
        [
         "43",
         "0.0",
         "1.0",
         "0.0",
         "0.0",
         "0.0",
         "0.0",
         "1.0",
         "0.0",
         "0.0",
         "0.0",
         "0.0",
         "0.0",
         "1.0",
         "0.0",
         "0.0",
         "1.0",
         "0.0",
         "0.0",
         "0.0",
         "0.0",
         "0.0",
         "1.0",
         "1.7510670150869332",
         "2.2103434617151527",
         "1.77770361483676",
         "1.7510670150869332"
        ],
        [
         "44",
         "0.0",
         "0.0",
         "0.0",
         "1.0",
         "0.0",
         "0.0",
         "0.0",
         "0.0",
         "0.0",
         "1.0",
         "0.0",
         "0.0",
         "1.0",
         "0.0",
         "0.0",
         "1.0",
         "0.0",
         "0.0",
         "0.0",
         "1.0",
         "0.0",
         "0.0",
         "-0.11996090766074129",
         "-0.37638920608121595",
         "-0.09862896534165674",
         "-0.11996090766074133"
        ],
        [
         "45",
         "0.0",
         "0.0",
         "0.0",
         "1.0",
         "0.0",
         "0.0",
         "0.0",
         "0.0",
         "0.0",
         "1.0",
         "0.0",
         "0.0",
         "1.0",
         "0.0",
         "0.0",
         "1.0",
         "0.0",
         "0.0",
         "0.0",
         "1.0",
         "0.0",
         "0.0",
         "-0.2728273881049714",
         "-0.5101534592560385",
         "-0.25192884621863354",
         "-0.2728273881049715"
        ],
        [
         "46",
         "1.0",
         "0.0",
         "0.0",
         "0.0",
         "0.0",
         "0.0",
         "0.0",
         "0.0",
         "0.0",
         "1.0",
         "0.0",
         "0.0",
         "0.0",
         "1.0",
         "0.0",
         "0.0",
         "1.0",
         "0.0",
         "1.0",
         "0.0",
         "0.0",
         "0.0",
         "-0.7505090708573713",
         "-0.8526194631685658",
         "-0.43242817731065175",
         "-0.7505090708573713"
        ],
        [
         "47",
         "0.0",
         "1.0",
         "0.0",
         "0.0",
         "0.0",
         "0.0",
         "0.0",
         "0.0",
         "0.0",
         "0.0",
         "1.0",
         "0.0",
         "1.0",
         "0.0",
         "0.0",
         "1.0",
         "0.0",
         "1.0",
         "0.0",
         "0.0",
         "0.0",
         "0.0",
         "-1.3179264462813791",
         "-1.11072684403698",
         "-1.299990924036499",
         "-1.3179264462813791"
        ],
        [
         "48",
         "0.0",
         "0.0",
         "0.0",
         "1.0",
         "0.0",
         "0.0",
         "0.0",
         "1.0",
         "0.0",
         "0.0",
         "0.0",
         "0.0",
         "1.0",
         "0.0",
         "0.0",
         "1.0",
         "0.0",
         "0.0",
         "0.0",
         "0.0",
         "1.0",
         "0.0",
         "0.5199719644308278",
         "0.3107896657441205",
         "0.5431182167470243",
         "0.5199719644308278"
        ],
        [
         "49",
         "0.0",
         "0.0",
         "1.0",
         "0.0",
         "0.0",
         "0.0",
         "0.0",
         "0.0",
         "1.0",
         "0.0",
         "0.0",
         "1.0",
         "0.0",
         "0.0",
         "1.0",
         "0.0",
         "0.0",
         "0.0",
         "0.0",
         "1.0",
         "0.0",
         "0.0",
         "0.1919391476443932",
         "-0.0671161922003465",
         "-0.3206613303265043",
         "0.19193914764439318"
        ]
       ],
       "shape": {
        "columns": 26,
        "rows": 760
       }
      },
      "text/html": [
       "<div>\n",
       "<style scoped>\n",
       "    .dataframe tbody tr th:only-of-type {\n",
       "        vertical-align: middle;\n",
       "    }\n",
       "\n",
       "    .dataframe tbody tr th {\n",
       "        vertical-align: top;\n",
       "    }\n",
       "\n",
       "    .dataframe thead th {\n",
       "        text-align: right;\n",
       "    }\n",
       "</style>\n",
       "<table border=\"1\" class=\"dataframe\">\n",
       "  <thead>\n",
       "    <tr style=\"text-align: right;\">\n",
       "      <th></th>\n",
       "      <th>Make_BMW</th>\n",
       "      <th>Make_Honda</th>\n",
       "      <th>Make_Nissan</th>\n",
       "      <th>Make_Toyota</th>\n",
       "      <th>Make_missing</th>\n",
       "      <th>Colour_Black</th>\n",
       "      <th>Colour_Blue</th>\n",
       "      <th>Colour_Green</th>\n",
       "      <th>Colour_Red</th>\n",
       "      <th>Colour_White</th>\n",
       "      <th>...</th>\n",
       "      <th>Doors_Sq_25.0</th>\n",
       "      <th>Odometer_bin_0.0</th>\n",
       "      <th>Odometer_bin_1.0</th>\n",
       "      <th>Odometer_bin_2.0</th>\n",
       "      <th>Odometer_bin_3.0</th>\n",
       "      <th>Odometer_bin_4.0</th>\n",
       "      <th>Odometer (KM)</th>\n",
       "      <th>Odometer_Sq</th>\n",
       "      <th>Doors_x_Odometer</th>\n",
       "      <th>Odometer_Centered</th>\n",
       "    </tr>\n",
       "  </thead>\n",
       "  <tbody>\n",
       "    <tr>\n",
       "      <th>0</th>\n",
       "      <td>0.0</td>\n",
       "      <td>1.0</td>\n",
       "      <td>0.0</td>\n",
       "      <td>0.0</td>\n",
       "      <td>0.0</td>\n",
       "      <td>0.0</td>\n",
       "      <td>0.0</td>\n",
       "      <td>0.0</td>\n",
       "      <td>0.0</td>\n",
       "      <td>1.0</td>\n",
       "      <td>...</td>\n",
       "      <td>0.0</td>\n",
       "      <td>0.0</td>\n",
       "      <td>1.0</td>\n",
       "      <td>0.0</td>\n",
       "      <td>0.0</td>\n",
       "      <td>0.0</td>\n",
       "      <td>-0.869725</td>\n",
       "      <td>-0.920246</td>\n",
       "      <td>-0.850518</td>\n",
       "      <td>-0.869725</td>\n",
       "    </tr>\n",
       "    <tr>\n",
       "      <th>1</th>\n",
       "      <td>0.0</td>\n",
       "      <td>0.0</td>\n",
       "      <td>0.0</td>\n",
       "      <td>1.0</td>\n",
       "      <td>0.0</td>\n",
       "      <td>0.0</td>\n",
       "      <td>0.0</td>\n",
       "      <td>0.0</td>\n",
       "      <td>1.0</td>\n",
       "      <td>0.0</td>\n",
       "      <td>...</td>\n",
       "      <td>0.0</td>\n",
       "      <td>0.0</td>\n",
       "      <td>0.0</td>\n",
       "      <td>0.0</td>\n",
       "      <td>1.0</td>\n",
       "      <td>0.0</td>\n",
       "      <td>0.481837</td>\n",
       "      <td>0.264085</td>\n",
       "      <td>0.504875</td>\n",
       "      <td>0.481837</td>\n",
       "    </tr>\n",
       "    <tr>\n",
       "      <th>2</th>\n",
       "      <td>0.0</td>\n",
       "      <td>1.0</td>\n",
       "      <td>0.0</td>\n",
       "      <td>0.0</td>\n",
       "      <td>0.0</td>\n",
       "      <td>0.0</td>\n",
       "      <td>0.0</td>\n",
       "      <td>0.0</td>\n",
       "      <td>0.0</td>\n",
       "      <td>1.0</td>\n",
       "      <td>...</td>\n",
       "      <td>0.0</td>\n",
       "      <td>1.0</td>\n",
       "      <td>0.0</td>\n",
       "      <td>0.0</td>\n",
       "      <td>0.0</td>\n",
       "      <td>0.0</td>\n",
       "      <td>-1.303060</td>\n",
       "      <td>-1.106024</td>\n",
       "      <td>-1.285082</td>\n",
       "      <td>-1.303060</td>\n",
       "    </tr>\n",
       "    <tr>\n",
       "      <th>3</th>\n",
       "      <td>0.0</td>\n",
       "      <td>1.0</td>\n",
       "      <td>0.0</td>\n",
       "      <td>0.0</td>\n",
       "      <td>0.0</td>\n",
       "      <td>0.0</td>\n",
       "      <td>0.0</td>\n",
       "      <td>0.0</td>\n",
       "      <td>0.0</td>\n",
       "      <td>1.0</td>\n",
       "      <td>...</td>\n",
       "      <td>0.0</td>\n",
       "      <td>0.0</td>\n",
       "      <td>0.0</td>\n",
       "      <td>0.0</td>\n",
       "      <td>1.0</td>\n",
       "      <td>0.0</td>\n",
       "      <td>0.975860</td>\n",
       "      <td>0.925601</td>\n",
       "      <td>1.000299</td>\n",
       "      <td>0.975860</td>\n",
       "    </tr>\n",
       "    <tr>\n",
       "      <th>4</th>\n",
       "      <td>0.0</td>\n",
       "      <td>1.0</td>\n",
       "      <td>0.0</td>\n",
       "      <td>0.0</td>\n",
       "      <td>0.0</td>\n",
       "      <td>0.0</td>\n",
       "      <td>1.0</td>\n",
       "      <td>0.0</td>\n",
       "      <td>0.0</td>\n",
       "      <td>0.0</td>\n",
       "      <td>...</td>\n",
       "      <td>0.0</td>\n",
       "      <td>0.0</td>\n",
       "      <td>0.0</td>\n",
       "      <td>0.0</td>\n",
       "      <td>0.0</td>\n",
       "      <td>1.0</td>\n",
       "      <td>1.324256</td>\n",
       "      <td>1.465709</td>\n",
       "      <td>1.349683</td>\n",
       "      <td>1.324256</td>\n",
       "    </tr>\n",
       "    <tr>\n",
       "      <th>...</th>\n",
       "      <td>...</td>\n",
       "      <td>...</td>\n",
       "      <td>...</td>\n",
       "      <td>...</td>\n",
       "      <td>...</td>\n",
       "      <td>...</td>\n",
       "      <td>...</td>\n",
       "      <td>...</td>\n",
       "      <td>...</td>\n",
       "      <td>...</td>\n",
       "      <td>...</td>\n",
       "      <td>...</td>\n",
       "      <td>...</td>\n",
       "      <td>...</td>\n",
       "      <td>...</td>\n",
       "      <td>...</td>\n",
       "      <td>...</td>\n",
       "      <td>...</td>\n",
       "      <td>...</td>\n",
       "      <td>...</td>\n",
       "      <td>...</td>\n",
       "    </tr>\n",
       "    <tr>\n",
       "      <th>755</th>\n",
       "      <td>0.0</td>\n",
       "      <td>0.0</td>\n",
       "      <td>0.0</td>\n",
       "      <td>1.0</td>\n",
       "      <td>0.0</td>\n",
       "      <td>0.0</td>\n",
       "      <td>0.0</td>\n",
       "      <td>0.0</td>\n",
       "      <td>0.0</td>\n",
       "      <td>0.0</td>\n",
       "      <td>...</td>\n",
       "      <td>0.0</td>\n",
       "      <td>0.0</td>\n",
       "      <td>0.0</td>\n",
       "      <td>0.0</td>\n",
       "      <td>0.0</td>\n",
       "      <td>1.0</td>\n",
       "      <td>1.318089</td>\n",
       "      <td>1.455619</td>\n",
       "      <td>1.343498</td>\n",
       "      <td>1.318089</td>\n",
       "    </tr>\n",
       "    <tr>\n",
       "      <th>756</th>\n",
       "      <td>1.0</td>\n",
       "      <td>0.0</td>\n",
       "      <td>0.0</td>\n",
       "      <td>0.0</td>\n",
       "      <td>0.0</td>\n",
       "      <td>0.0</td>\n",
       "      <td>1.0</td>\n",
       "      <td>0.0</td>\n",
       "      <td>0.0</td>\n",
       "      <td>0.0</td>\n",
       "      <td>...</td>\n",
       "      <td>1.0</td>\n",
       "      <td>0.0</td>\n",
       "      <td>0.0</td>\n",
       "      <td>0.0</td>\n",
       "      <td>0.0</td>\n",
       "      <td>1.0</td>\n",
       "      <td>1.714690</td>\n",
       "      <td>2.143317</td>\n",
       "      <td>2.657807</td>\n",
       "      <td>1.714690</td>\n",
       "    </tr>\n",
       "    <tr>\n",
       "      <th>757</th>\n",
       "      <td>0.0</td>\n",
       "      <td>0.0</td>\n",
       "      <td>0.0</td>\n",
       "      <td>1.0</td>\n",
       "      <td>0.0</td>\n",
       "      <td>0.0</td>\n",
       "      <td>0.0</td>\n",
       "      <td>0.0</td>\n",
       "      <td>0.0</td>\n",
       "      <td>1.0</td>\n",
       "      <td>...</td>\n",
       "      <td>0.0</td>\n",
       "      <td>0.0</td>\n",
       "      <td>0.0</td>\n",
       "      <td>0.0</td>\n",
       "      <td>1.0</td>\n",
       "      <td>0.0</td>\n",
       "      <td>0.981759</td>\n",
       "      <td>0.934239</td>\n",
       "      <td>1.006215</td>\n",
       "      <td>0.981759</td>\n",
       "    </tr>\n",
       "    <tr>\n",
       "      <th>758</th>\n",
       "      <td>0.0</td>\n",
       "      <td>1.0</td>\n",
       "      <td>0.0</td>\n",
       "      <td>0.0</td>\n",
       "      <td>0.0</td>\n",
       "      <td>0.0</td>\n",
       "      <td>1.0</td>\n",
       "      <td>0.0</td>\n",
       "      <td>0.0</td>\n",
       "      <td>0.0</td>\n",
       "      <td>...</td>\n",
       "      <td>0.0</td>\n",
       "      <td>0.0</td>\n",
       "      <td>0.0</td>\n",
       "      <td>1.0</td>\n",
       "      <td>0.0</td>\n",
       "      <td>0.0</td>\n",
       "      <td>0.041680</td>\n",
       "      <td>-0.222200</td>\n",
       "      <td>0.000000</td>\n",
       "      <td>0.041680</td>\n",
       "    </tr>\n",
       "    <tr>\n",
       "      <th>759</th>\n",
       "      <td>0.0</td>\n",
       "      <td>1.0</td>\n",
       "      <td>0.0</td>\n",
       "      <td>0.0</td>\n",
       "      <td>0.0</td>\n",
       "      <td>0.0</td>\n",
       "      <td>0.0</td>\n",
       "      <td>0.0</td>\n",
       "      <td>0.0</td>\n",
       "      <td>0.0</td>\n",
       "      <td>...</td>\n",
       "      <td>0.0</td>\n",
       "      <td>0.0</td>\n",
       "      <td>0.0</td>\n",
       "      <td>0.0</td>\n",
       "      <td>1.0</td>\n",
       "      <td>0.0</td>\n",
       "      <td>0.301845</td>\n",
       "      <td>0.053488</td>\n",
       "      <td>0.000000</td>\n",
       "      <td>0.301845</td>\n",
       "    </tr>\n",
       "  </tbody>\n",
       "</table>\n",
       "<p>760 rows × 26 columns</p>\n",
       "</div>"
      ],
      "text/plain": [
       "     Make_BMW  Make_Honda  Make_Nissan  Make_Toyota  Make_missing  \\\n",
       "0         0.0         1.0          0.0          0.0           0.0   \n",
       "1         0.0         0.0          0.0          1.0           0.0   \n",
       "2         0.0         1.0          0.0          0.0           0.0   \n",
       "3         0.0         1.0          0.0          0.0           0.0   \n",
       "4         0.0         1.0          0.0          0.0           0.0   \n",
       "..        ...         ...          ...          ...           ...   \n",
       "755       0.0         0.0          0.0          1.0           0.0   \n",
       "756       1.0         0.0          0.0          0.0           0.0   \n",
       "757       0.0         0.0          0.0          1.0           0.0   \n",
       "758       0.0         1.0          0.0          0.0           0.0   \n",
       "759       0.0         1.0          0.0          0.0           0.0   \n",
       "\n",
       "     Colour_Black  Colour_Blue  Colour_Green  Colour_Red  Colour_White  ...  \\\n",
       "0             0.0          0.0           0.0         0.0           1.0  ...   \n",
       "1             0.0          0.0           0.0         1.0           0.0  ...   \n",
       "2             0.0          0.0           0.0         0.0           1.0  ...   \n",
       "3             0.0          0.0           0.0         0.0           1.0  ...   \n",
       "4             0.0          1.0           0.0         0.0           0.0  ...   \n",
       "..            ...          ...           ...         ...           ...  ...   \n",
       "755           0.0          0.0           0.0         0.0           0.0  ...   \n",
       "756           0.0          1.0           0.0         0.0           0.0  ...   \n",
       "757           0.0          0.0           0.0         0.0           1.0  ...   \n",
       "758           0.0          1.0           0.0         0.0           0.0  ...   \n",
       "759           0.0          0.0           0.0         0.0           0.0  ...   \n",
       "\n",
       "     Doors_Sq_25.0  Odometer_bin_0.0  Odometer_bin_1.0  Odometer_bin_2.0  \\\n",
       "0              0.0               0.0               1.0               0.0   \n",
       "1              0.0               0.0               0.0               0.0   \n",
       "2              0.0               1.0               0.0               0.0   \n",
       "3              0.0               0.0               0.0               0.0   \n",
       "4              0.0               0.0               0.0               0.0   \n",
       "..             ...               ...               ...               ...   \n",
       "755            0.0               0.0               0.0               0.0   \n",
       "756            1.0               0.0               0.0               0.0   \n",
       "757            0.0               0.0               0.0               0.0   \n",
       "758            0.0               0.0               0.0               1.0   \n",
       "759            0.0               0.0               0.0               0.0   \n",
       "\n",
       "     Odometer_bin_3.0  Odometer_bin_4.0  Odometer (KM)  Odometer_Sq  \\\n",
       "0                 0.0               0.0      -0.869725    -0.920246   \n",
       "1                 1.0               0.0       0.481837     0.264085   \n",
       "2                 0.0               0.0      -1.303060    -1.106024   \n",
       "3                 1.0               0.0       0.975860     0.925601   \n",
       "4                 0.0               1.0       1.324256     1.465709   \n",
       "..                ...               ...            ...          ...   \n",
       "755               0.0               1.0       1.318089     1.455619   \n",
       "756               0.0               1.0       1.714690     2.143317   \n",
       "757               1.0               0.0       0.981759     0.934239   \n",
       "758               0.0               0.0       0.041680    -0.222200   \n",
       "759               1.0               0.0       0.301845     0.053488   \n",
       "\n",
       "     Doors_x_Odometer  Odometer_Centered  \n",
       "0           -0.850518          -0.869725  \n",
       "1            0.504875           0.481837  \n",
       "2           -1.285082          -1.303060  \n",
       "3            1.000299           0.975860  \n",
       "4            1.349683           1.324256  \n",
       "..                ...                ...  \n",
       "755          1.343498           1.318089  \n",
       "756          2.657807           1.714690  \n",
       "757          1.006215           0.981759  \n",
       "758          0.000000           0.041680  \n",
       "759          0.000000           0.301845  \n",
       "\n",
       "[760 rows x 26 columns]"
      ]
     },
     "execution_count": 54,
     "metadata": {},
     "output_type": "execute_result"
    }
   ],
   "source": [
    "X_train_df_transformed_scaled"
   ]
  },
  {
   "cell_type": "code",
   "execution_count": 55,
   "metadata": {},
   "outputs": [
    {
     "data": {
      "application/vnd.microsoft.datawrangler.viewer.v0+json": {
       "columns": [
        {
         "name": "index",
         "rawType": "int64",
         "type": "integer"
        },
        {
         "name": "Tatsächlicher Preis",
         "rawType": "float64",
         "type": "float"
        },
        {
         "name": "Vorhergesagter Preis",
         "rawType": "float64",
         "type": "float"
        },
        {
         "name": "Abweichung (Residuum)",
         "rawType": "float64",
         "type": "float"
        },
        {
         "name": "Abweichung (%)",
         "rawType": "float64",
         "type": "float"
        },
        {
         "name": "Absoluter Fehler",
         "rawType": "float64",
         "type": "float"
        },
        {
         "name": "Absoluter Fehler (%)",
         "rawType": "float64",
         "type": "float"
        },
        {
         "name": "Quadratischer Fehler",
         "rawType": "float64",
         "type": "float"
        },
        {
         "name": "Wurzel-Fehler",
         "rawType": "float64",
         "type": "float"
        }
       ],
       "ref": "9246ebb2-783d-4052-8a39-9a2cb38843c8",
       "rows": [
        [
         "0",
         "10547.0",
         "20850.273534785076",
         "-10303.273534785076",
         "-97.68913942149499",
         "10303.273534785076",
         "97.68913942149499",
         "106157445.53260255",
         "10303.273534785076"
        ],
        [
         "1",
         "17940.0",
         "20866.145434397753",
         "-2926.145434397753",
         "-16.310732633209327",
         "2926.145434397753",
         "16.310732633209327",
         "8562327.103246814",
         "2926.145434397753"
        ],
        [
         "2",
         "12950.0",
         "11187.56775073746",
         "1762.4322492625397",
         "13.609515438320772",
         "1762.4322492625397",
         "13.609515438320772",
         "3106167.433240615",
         "1762.4322492625397"
        ],
        [
         "3",
         "5905.0",
         "7267.230803390585",
         "-1362.2308033905847",
         "-23.06910759340533",
         "1362.2308033905847",
         "23.06910759340533",
         "1855672.7617061578",
         "1362.2308033905847"
        ],
        [
         "4",
         "9826.0",
         "9076.597709796795",
         "749.4022902032048",
         "7.626727968687205",
         "749.4022902032048",
         "7.626727968687205",
         "561603.7925618084",
         "749.4022902032048"
        ],
        [
         "5",
         "11162.0",
         "11260.559727839325",
         "-98.5597278393252",
         "-0.8829934405959972",
         "98.5597278393252",
         "0.8829934405959972",
         "9714.019951761857",
         "98.5597278393252"
        ],
        [
         "6",
         "13650.0",
         "14054.349071610744",
         "-404.34907161074443",
         "-2.9622642608845746",
         "404.34907161074443",
         "2.9622642608845746",
         "163498.17171247094",
         "404.34907161074443"
        ],
        [
         "7",
         "14345.0",
         "13027.088843955207",
         "1317.9111560447927",
         "9.187251000660806",
         "1317.9111560447927",
         "9.187251000660806",
         "1736889.815227322",
         "1317.9111560447927"
        ],
        [
         "8",
         "12024.0",
         "19395.421368782783",
         "-7371.421368782783",
         "-61.305899607308575",
         "7371.421368782783",
         "61.305899607308575",
         "54337852.99614744",
         "7371.421368782783"
        ],
        [
         "9",
         "10076.0",
         "12862.099488101874",
         "-2786.099488101874",
         "-27.650848432928488",
         "2786.099488101874",
         "27.650848432928488",
         "7762350.357601525",
         "2786.099488101874"
        ]
       ],
       "shape": {
        "columns": 8,
        "rows": 10
       }
      },
      "text/html": [
       "<div>\n",
       "<style scoped>\n",
       "    .dataframe tbody tr th:only-of-type {\n",
       "        vertical-align: middle;\n",
       "    }\n",
       "\n",
       "    .dataframe tbody tr th {\n",
       "        vertical-align: top;\n",
       "    }\n",
       "\n",
       "    .dataframe thead th {\n",
       "        text-align: right;\n",
       "    }\n",
       "</style>\n",
       "<table border=\"1\" class=\"dataframe\">\n",
       "  <thead>\n",
       "    <tr style=\"text-align: right;\">\n",
       "      <th></th>\n",
       "      <th>Tatsächlicher Preis</th>\n",
       "      <th>Vorhergesagter Preis</th>\n",
       "      <th>Abweichung (Residuum)</th>\n",
       "      <th>Abweichung (%)</th>\n",
       "      <th>Absoluter Fehler</th>\n",
       "      <th>Absoluter Fehler (%)</th>\n",
       "      <th>Quadratischer Fehler</th>\n",
       "      <th>Wurzel-Fehler</th>\n",
       "    </tr>\n",
       "  </thead>\n",
       "  <tbody>\n",
       "    <tr>\n",
       "      <th>0</th>\n",
       "      <td>10547.0</td>\n",
       "      <td>20850.273535</td>\n",
       "      <td>-10303.273535</td>\n",
       "      <td>-97.689139</td>\n",
       "      <td>10303.273535</td>\n",
       "      <td>97.689139</td>\n",
       "      <td>1.061574e+08</td>\n",
       "      <td>10303.273535</td>\n",
       "    </tr>\n",
       "    <tr>\n",
       "      <th>1</th>\n",
       "      <td>17940.0</td>\n",
       "      <td>20866.145434</td>\n",
       "      <td>-2926.145434</td>\n",
       "      <td>-16.310733</td>\n",
       "      <td>2926.145434</td>\n",
       "      <td>16.310733</td>\n",
       "      <td>8.562327e+06</td>\n",
       "      <td>2926.145434</td>\n",
       "    </tr>\n",
       "    <tr>\n",
       "      <th>2</th>\n",
       "      <td>12950.0</td>\n",
       "      <td>11187.567751</td>\n",
       "      <td>1762.432249</td>\n",
       "      <td>13.609515</td>\n",
       "      <td>1762.432249</td>\n",
       "      <td>13.609515</td>\n",
       "      <td>3.106167e+06</td>\n",
       "      <td>1762.432249</td>\n",
       "    </tr>\n",
       "    <tr>\n",
       "      <th>3</th>\n",
       "      <td>5905.0</td>\n",
       "      <td>7267.230803</td>\n",
       "      <td>-1362.230803</td>\n",
       "      <td>-23.069108</td>\n",
       "      <td>1362.230803</td>\n",
       "      <td>23.069108</td>\n",
       "      <td>1.855673e+06</td>\n",
       "      <td>1362.230803</td>\n",
       "    </tr>\n",
       "    <tr>\n",
       "      <th>4</th>\n",
       "      <td>9826.0</td>\n",
       "      <td>9076.597710</td>\n",
       "      <td>749.402290</td>\n",
       "      <td>7.626728</td>\n",
       "      <td>749.402290</td>\n",
       "      <td>7.626728</td>\n",
       "      <td>5.616038e+05</td>\n",
       "      <td>749.402290</td>\n",
       "    </tr>\n",
       "    <tr>\n",
       "      <th>5</th>\n",
       "      <td>11162.0</td>\n",
       "      <td>11260.559728</td>\n",
       "      <td>-98.559728</td>\n",
       "      <td>-0.882993</td>\n",
       "      <td>98.559728</td>\n",
       "      <td>0.882993</td>\n",
       "      <td>9.714020e+03</td>\n",
       "      <td>98.559728</td>\n",
       "    </tr>\n",
       "    <tr>\n",
       "      <th>6</th>\n",
       "      <td>13650.0</td>\n",
       "      <td>14054.349072</td>\n",
       "      <td>-404.349072</td>\n",
       "      <td>-2.962264</td>\n",
       "      <td>404.349072</td>\n",
       "      <td>2.962264</td>\n",
       "      <td>1.634982e+05</td>\n",
       "      <td>404.349072</td>\n",
       "    </tr>\n",
       "    <tr>\n",
       "      <th>7</th>\n",
       "      <td>14345.0</td>\n",
       "      <td>13027.088844</td>\n",
       "      <td>1317.911156</td>\n",
       "      <td>9.187251</td>\n",
       "      <td>1317.911156</td>\n",
       "      <td>9.187251</td>\n",
       "      <td>1.736890e+06</td>\n",
       "      <td>1317.911156</td>\n",
       "    </tr>\n",
       "    <tr>\n",
       "      <th>8</th>\n",
       "      <td>12024.0</td>\n",
       "      <td>19395.421369</td>\n",
       "      <td>-7371.421369</td>\n",
       "      <td>-61.305900</td>\n",
       "      <td>7371.421369</td>\n",
       "      <td>61.305900</td>\n",
       "      <td>5.433785e+07</td>\n",
       "      <td>7371.421369</td>\n",
       "    </tr>\n",
       "    <tr>\n",
       "      <th>9</th>\n",
       "      <td>10076.0</td>\n",
       "      <td>12862.099488</td>\n",
       "      <td>-2786.099488</td>\n",
       "      <td>-27.650848</td>\n",
       "      <td>2786.099488</td>\n",
       "      <td>27.650848</td>\n",
       "      <td>7.762350e+06</td>\n",
       "      <td>2786.099488</td>\n",
       "    </tr>\n",
       "  </tbody>\n",
       "</table>\n",
       "</div>"
      ],
      "text/plain": [
       "   Tatsächlicher Preis  Vorhergesagter Preis  Abweichung (Residuum)  \\\n",
       "0              10547.0          20850.273535          -10303.273535   \n",
       "1              17940.0          20866.145434           -2926.145434   \n",
       "2              12950.0          11187.567751            1762.432249   \n",
       "3               5905.0           7267.230803           -1362.230803   \n",
       "4               9826.0           9076.597710             749.402290   \n",
       "5              11162.0          11260.559728             -98.559728   \n",
       "6              13650.0          14054.349072            -404.349072   \n",
       "7              14345.0          13027.088844            1317.911156   \n",
       "8              12024.0          19395.421369           -7371.421369   \n",
       "9              10076.0          12862.099488           -2786.099488   \n",
       "\n",
       "   Abweichung (%)  Absoluter Fehler  Absoluter Fehler (%)  \\\n",
       "0      -97.689139      10303.273535             97.689139   \n",
       "1      -16.310733       2926.145434             16.310733   \n",
       "2       13.609515       1762.432249             13.609515   \n",
       "3      -23.069108       1362.230803             23.069108   \n",
       "4        7.626728        749.402290              7.626728   \n",
       "5       -0.882993         98.559728              0.882993   \n",
       "6       -2.962264        404.349072              2.962264   \n",
       "7        9.187251       1317.911156              9.187251   \n",
       "8      -61.305900       7371.421369             61.305900   \n",
       "9      -27.650848       2786.099488             27.650848   \n",
       "\n",
       "   Quadratischer Fehler  Wurzel-Fehler  \n",
       "0          1.061574e+08   10303.273535  \n",
       "1          8.562327e+06    2926.145434  \n",
       "2          3.106167e+06    1762.432249  \n",
       "3          1.855673e+06    1362.230803  \n",
       "4          5.616038e+05     749.402290  \n",
       "5          9.714020e+03      98.559728  \n",
       "6          1.634982e+05     404.349072  \n",
       "7          1.736890e+06    1317.911156  \n",
       "8          5.433785e+07    7371.421369  \n",
       "9          7.762350e+06    2786.099488  "
      ]
     },
     "execution_count": 55,
     "metadata": {},
     "output_type": "execute_result"
    }
   ],
   "source": [
    "ridge_basic = Ridge(alpha=1.0, random_state=42)\n",
    "ridge_basic.fit(X_train_df_transformed_scaled, y_train)\n",
    "y_pred_basic = ridge_basic.predict(X_test_df_transformed_scaled)\n",
    "\n",
    "# Kurzer Überblick einiger Kennzahlen:\n",
    "pd.DataFrame({\n",
    "    \"Tatsächlicher Preis\": y_test.values[:10],\n",
    "    \"Vorhergesagter Preis\": y_pred_basic[:10],\n",
    "    \"Abweichung (Residuum)\": y_test.values[:10] - y_pred_basic[:10],\n",
    "    \"Abweichung (%)\": ((y_test.values[:10] - y_pred_basic[:10]) / y_test.values[:10]) * 100,\n",
    "    \"Absoluter Fehler\": abs(y_test.values[:10] - y_pred_basic[:10]),\n",
    "    \"Absoluter Fehler (%)\": (abs(y_test.values[:10] - y_pred_basic[:10]) / y_test.values[:10]) * 100,\n",
    "    \"Quadratischer Fehler\": (y_test.values[:10] - y_pred_basic[:10]) ** 2,\n",
    "    \"Wurzel-Fehler\": np.sqrt((y_test.values[:10] - y_pred_basic[:10]) ** 2)\n",
    "})"
   ]
  },
  {
   "cell_type": "code",
   "execution_count": 56,
   "metadata": {},
   "outputs": [
    {
     "name": "stdout",
     "output_type": "stream",
     "text": [
      "Mean Absolute Error (MAE): 5,595.11 €\n",
      "Root Mean Squared Error (RMSE): 6,883.90 €\n",
      "Bestimmtheitsmaß (R²): 0.292\n"
     ]
    }
   ],
   "source": [
    "mae = mean_absolute_error(y_test, y_pred_basic)\n",
    "rmse = root_mean_squared_error(y_test, y_pred_basic)\n",
    "r2 = r2_score(y_test, y_pred_basic)\n",
    "\n",
    "print(f\"Mean Absolute Error (MAE): {mae:,.2f} €\")\n",
    "print(f\"Root Mean Squared Error (RMSE): {rmse:,.2f} €\")\n",
    "print(f\"Bestimmtheitsmaß (R²): {r2:.3f}\")"
   ]
  },
  {
   "cell_type": "markdown",
   "metadata": {},
   "source": [
    "### 6.2 Modellvergleich\n",
    "Empfohlener Ablauf, für einen sinnvollen Modellvergleich:\n",
    "\n",
    "1. Einheitliche Datenbasis schaffen\n",
    "\n",
    "Bevor wir unterschiedliche Modelle miteinander vergleichen, benötigen wir immer die selben Ausgangsbedingungen. Wir benötigne also z.B. gleiche Features, Imputationen, Encoding also alle gleichen Datenvorbereitungsschritte. Genau das hatten wir bereits gemacht.\n",
    "\n",
    "2. Modelle mit Standardparametern testen"
   ]
  },
  {
   "cell_type": "code",
   "execution_count": null,
   "metadata": {},
   "outputs": [],
   "source": []
  },
  {
   "cell_type": "code",
   "execution_count": 58,
   "metadata": {},
   "outputs": [
    {
     "ename": "NameError",
     "evalue": "name 'X_valid' is not defined",
     "output_type": "error",
     "traceback": [
      "\u001b[31m---------------------------------------------------------------------------\u001b[39m",
      "\u001b[31mNameError\u001b[39m                                 Traceback (most recent call last)",
      "\u001b[36mCell\u001b[39m\u001b[36m \u001b[39m\u001b[32mIn[58]\u001b[39m\u001b[32m, line 2\u001b[39m\n\u001b[32m      1\u001b[39m N = \u001b[38;5;28mlen\u001b[39m(df)\n\u001b[32m----> \u001b[39m\u001b[32m2\u001b[39m n_train, n_valid, n_test = \u001b[38;5;28mlen\u001b[39m(X_train), \u001b[38;5;28mlen\u001b[39m(\u001b[43mX_valid\u001b[49m), \u001b[38;5;28mlen\u001b[39m(X_test)\n\u001b[32m      3\u001b[39m p_train = n_train / N\n\u001b[32m      4\u001b[39m p_valid = n_valid / N\n",
      "\u001b[31mNameError\u001b[39m: name 'X_valid' is not defined"
     ]
    }
   ],
   "source": [
    "N = len(df)\n",
    "n_train, n_valid, n_test = len(X_train), len(X_valid), len(X_test)\n",
    "p_train = n_train / N\n",
    "p_valid = n_valid / N\n",
    "p_test = n_test / N\n",
    "\n",
    "print(\"Größen (absolut):\")\n",
    "print(f\"Training: {n_train}\")\n",
    "print(f\"Validierung: {n_valid}\")\n",
    "print(f\"Test: {n_test}\")\n",
    "print(f\"Summe: {n_train + n_valid + n_test} (soll = {N})\")\n",
    "\n",
    "print(\"\\nAnteile (relativ am Gesamt):\")\n",
    "print(f\"Training: {p_train:.4f} ({p_train * 100:.2f}%)\")\n",
    "print(f\"Validierung: {p_valid:.4f} ({p_valid * 100:.2f}%)\")\n",
    "print(f\"Test: {p_test:.4f} ({p_test * 100:.2f}%)\")"
   ]
  }
 ],
 "metadata": {
  "kernelspec": {
   "display_name": ".venv",
   "language": "python",
   "name": "python3"
  },
  "language_info": {
   "codemirror_mode": {
    "name": "ipython",
    "version": 3
   },
   "file_extension": ".py",
   "mimetype": "text/x-python",
   "name": "python",
   "nbconvert_exporter": "python",
   "pygments_lexer": "ipython3",
   "version": "3.13.2"
  }
 },
 "nbformat": 4,
 "nbformat_minor": 2
}
