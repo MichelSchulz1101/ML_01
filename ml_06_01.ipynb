{
 "cells": [
  {
   "cell_type": "markdown",
   "metadata": {},
   "source": [
    "# Bewertung von Regressionsmodellen"
   ]
  },
  {
   "cell_type": "code",
   "execution_count": 1,
   "metadata": {},
   "outputs": [
    {
     "data": {
      "application/vnd.microsoft.datawrangler.viewer.v0+json": {
       "columns": [
        {
         "name": "index",
         "rawType": "int64",
         "type": "integer"
        },
        {
         "name": "MedInc",
         "rawType": "float64",
         "type": "float"
        },
        {
         "name": "HouseAge",
         "rawType": "float64",
         "type": "float"
        },
        {
         "name": "AveRooms",
         "rawType": "float64",
         "type": "float"
        },
        {
         "name": "AveBedrms",
         "rawType": "float64",
         "type": "float"
        },
        {
         "name": "Population",
         "rawType": "float64",
         "type": "float"
        },
        {
         "name": "AveOccup",
         "rawType": "float64",
         "type": "float"
        },
        {
         "name": "Latitude",
         "rawType": "float64",
         "type": "float"
        },
        {
         "name": "Longitude",
         "rawType": "float64",
         "type": "float"
        },
        {
         "name": "MedHouseVal",
         "rawType": "float64",
         "type": "float"
        }
       ],
       "ref": "a17acc27-9bbd-4e1a-804f-f628ef615f99",
       "rows": [
        [
         "0",
         "8.3252",
         "41.0",
         "6.984126984126984",
         "1.0238095238095235",
         "322.0",
         "2.555555555555556",
         "37.88",
         "-122.23",
         "4.526"
        ],
        [
         "1",
         "8.3014",
         "21.0",
         "6.238137082601054",
         "0.9718804920913884",
         "2401.0",
         "2.109841827768014",
         "37.86",
         "-122.22",
         "3.585"
        ],
        [
         "2",
         "7.2574",
         "52.0",
         "8.288135593220339",
         "1.073446327683616",
         "496.0",
         "2.8022598870056497",
         "37.85",
         "-122.24",
         "3.521"
        ],
        [
         "3",
         "5.6431",
         "52.0",
         "5.817351598173516",
         "1.0730593607305936",
         "558.0",
         "2.547945205479452",
         "37.85",
         "-122.25",
         "3.413"
        ],
        [
         "4",
         "3.8462",
         "52.0",
         "6.281853281853282",
         "1.0810810810810811",
         "565.0",
         "2.1814671814671813",
         "37.85",
         "-122.25",
         "3.422"
        ],
        [
         "5",
         "4.0368",
         "52.0",
         "4.761658031088083",
         "1.1036269430051813",
         "413.0",
         "2.139896373056995",
         "37.85",
         "-122.25",
         "2.697"
        ],
        [
         "6",
         "3.6591",
         "52.0",
         "4.9319066147859925",
         "0.95136186770428",
         "1094.0",
         "2.1284046692607004",
         "37.84",
         "-122.25",
         "2.992"
        ],
        [
         "7",
         "3.12",
         "52.0",
         "4.797527047913447",
         "1.061823802163833",
         "1157.0",
         "1.7882534775888717",
         "37.84",
         "-122.25",
         "2.414"
        ],
        [
         "8",
         "2.0804",
         "42.0",
         "4.294117647058823",
         "1.1176470588235294",
         "1206.0",
         "2.026890756302521",
         "37.84",
         "-122.26",
         "2.267"
        ],
        [
         "9",
         "3.6912",
         "52.0",
         "4.970588235294118",
         "0.9901960784313726",
         "1551.0",
         "2.172268907563025",
         "37.84",
         "-122.25",
         "2.611"
        ],
        [
         "10",
         "3.2031",
         "52.0",
         "5.477611940298507",
         "1.079601990049751",
         "910.0",
         "2.263681592039801",
         "37.85",
         "-122.26",
         "2.815"
        ],
        [
         "11",
         "3.2705",
         "52.0",
         "4.772479564032698",
         "1.0245231607629428",
         "1504.0",
         "2.0490463215258856",
         "37.85",
         "-122.26",
         "2.418"
        ],
        [
         "12",
         "3.075",
         "52.0",
         "5.322649572649572",
         "1.0128205128205128",
         "1098.0",
         "2.3461538461538463",
         "37.85",
         "-122.26",
         "2.135"
        ],
        [
         "13",
         "2.6736",
         "52.0",
         "4.0",
         "1.0977011494252873",
         "345.0",
         "1.9827586206896552",
         "37.84",
         "-122.26",
         "1.913"
        ],
        [
         "14",
         "1.9167",
         "52.0",
         "4.262903225806451",
         "1.0096774193548388",
         "1212.0",
         "1.9548387096774196",
         "37.85",
         "-122.26",
         "1.592"
        ],
        [
         "15",
         "2.125",
         "50.0",
         "4.242424242424242",
         "1.071969696969697",
         "697.0",
         "2.640151515151515",
         "37.85",
         "-122.26",
         "1.4"
        ],
        [
         "16",
         "2.775",
         "52.0",
         "5.9395770392749245",
         "1.0483383685800605",
         "793.0",
         "2.395770392749245",
         "37.85",
         "-122.27",
         "1.525"
        ],
        [
         "17",
         "2.1202",
         "52.0",
         "4.052805280528053",
         "0.966996699669967",
         "648.0",
         "2.1386138613861387",
         "37.85",
         "-122.27",
         "1.555"
        ],
        [
         "18",
         "1.9911",
         "50.0",
         "5.343675417661098",
         "1.0859188544152745",
         "990.0",
         "2.362768496420048",
         "37.84",
         "-122.26",
         "1.587"
        ],
        [
         "19",
         "2.6033",
         "52.0",
         "5.465454545454546",
         "1.0836363636363635",
         "690.0",
         "2.5090909090909093",
         "37.84",
         "-122.27",
         "1.629"
        ],
        [
         "20",
         "1.3578",
         "40.0",
         "4.524096385542169",
         "1.108433734939759",
         "409.0",
         "2.463855421686747",
         "37.85",
         "-122.27",
         "1.475"
        ],
        [
         "21",
         "1.7135",
         "42.0",
         "4.478142076502732",
         "1.0027322404371584",
         "929.0",
         "2.5382513661202184",
         "37.85",
         "-122.27",
         "1.598"
        ],
        [
         "22",
         "1.725",
         "52.0",
         "5.096234309623431",
         "1.1317991631799162",
         "1015.0",
         "2.1234309623430963",
         "37.84",
         "-122.27",
         "1.139"
        ],
        [
         "23",
         "2.1806",
         "52.0",
         "5.193846153846154",
         "1.0369230769230768",
         "853.0",
         "2.624615384615385",
         "37.84",
         "-122.27",
         "0.997"
        ],
        [
         "24",
         "2.6",
         "52.0",
         "5.270142180094787",
         "1.0355450236966826",
         "1006.0",
         "2.3838862559241707",
         "37.84",
         "-122.27",
         "1.326"
        ],
        [
         "25",
         "2.4038",
         "41.0",
         "4.495798319327731",
         "1.0336134453781514",
         "317.0",
         "2.6638655462184877",
         "37.85",
         "-122.28",
         "1.075"
        ],
        [
         "26",
         "2.4597",
         "49.0",
         "4.728033472803348",
         "1.0209205020920502",
         "607.0",
         "2.5397489539748954",
         "37.85",
         "-122.28",
         "0.938"
        ],
        [
         "27",
         "1.808",
         "52.0",
         "4.780856423173804",
         "1.0604534005037782",
         "1102.0",
         "2.7758186397984885",
         "37.85",
         "-122.28",
         "1.055"
        ],
        [
         "28",
         "1.6424",
         "50.0",
         "4.40169133192389",
         "1.040169133192389",
         "1131.0",
         "2.3911205073995774",
         "37.84",
         "-122.28",
         "1.089"
        ],
        [
         "29",
         "1.6875",
         "52.0",
         "4.703225806451613",
         "1.032258064516129",
         "395.0",
         "2.548387096774193",
         "37.84",
         "-122.28",
         "1.32"
        ],
        [
         "30",
         "1.9274",
         "49.0",
         "5.068783068783069",
         "1.1825396825396826",
         "863.0",
         "2.2830687830687832",
         "37.84",
         "-122.28",
         "1.223"
        ],
        [
         "31",
         "1.9615",
         "52.0",
         "4.882086167800454",
         "1.090702947845805",
         "1168.0",
         "2.6485260770975056",
         "37.84",
         "-122.28",
         "1.152"
        ],
        [
         "32",
         "1.7969",
         "48.0",
         "5.737313432835821",
         "1.2208955223880598",
         "1026.0",
         "3.062686567164179",
         "37.84",
         "-122.27",
         "1.104"
        ],
        [
         "33",
         "1.375",
         "49.0",
         "5.030395136778116",
         "1.1124620060790271",
         "754.0",
         "2.291793313069909",
         "37.83",
         "-122.27",
         "1.049"
        ],
        [
         "34",
         "2.7303",
         "51.0",
         "4.972014925373134",
         "1.0708955223880596",
         "1258.0",
         "2.3470149253731343",
         "37.83",
         "-122.27",
         "1.097"
        ],
        [
         "35",
         "1.4861",
         "49.0",
         "4.602272727272728",
         "1.068181818181818",
         "570.0",
         "2.159090909090909",
         "37.83",
         "-122.27",
         "0.972"
        ],
        [
         "36",
         "1.0972",
         "48.0",
         "4.807486631016043",
         "1.1550802139037433",
         "987.0",
         "2.6390374331550803",
         "37.83",
         "-122.27",
         "1.045"
        ],
        [
         "37",
         "1.4103",
         "52.0",
         "3.7493796526054592",
         "0.967741935483871",
         "901.0",
         "2.235732009925558",
         "37.83",
         "-122.28",
         "1.039"
        ],
        [
         "38",
         "3.48",
         "52.0",
         "4.757281553398058",
         "1.0679611650485437",
         "689.0",
         "2.229773462783172",
         "37.83",
         "-122.26",
         "1.914"
        ],
        [
         "39",
         "2.5898",
         "52.0",
         "3.4942528735632186",
         "1.0272988505747127",
         "1377.0",
         "1.978448275862069",
         "37.83",
         "-122.26",
         "1.76"
        ],
        [
         "40",
         "2.0978",
         "52.0",
         "4.215189873417722",
         "1.0607594936708862",
         "946.0",
         "2.39493670886076",
         "37.83",
         "-122.26",
         "1.554"
        ],
        [
         "41",
         "1.2852",
         "51.0",
         "3.759036144578314",
         "1.248995983935743",
         "517.0",
         "2.076305220883534",
         "37.83",
         "-122.26",
         "1.5"
        ],
        [
         "42",
         "1.025",
         "49.0",
         "3.772486772486773",
         "1.0687830687830688",
         "462.0",
         "2.4444444444444446",
         "37.84",
         "-122.26",
         "1.188"
        ],
        [
         "43",
         "3.9643",
         "52.0",
         "4.797979797979798",
         "1.02020202020202",
         "467.0",
         "2.3585858585858586",
         "37.84",
         "-122.26",
         "1.888"
        ],
        [
         "44",
         "3.0125",
         "52.0",
         "4.941780821917808",
         "1.0650684931506849",
         "660.0",
         "2.26027397260274",
         "37.83",
         "-122.26",
         "1.844"
        ],
        [
         "45",
         "2.6768",
         "52.0",
         "4.335078534031414",
         "1.099476439790576",
         "718.0",
         "1.8795811518324608",
         "37.83",
         "-122.26",
         "1.823"
        ],
        [
         "46",
         "2.026",
         "50.0",
         "3.700657894736842",
         "1.0592105263157894",
         "616.0",
         "2.026315789473684",
         "37.83",
         "-122.26",
         "1.425"
        ],
        [
         "47",
         "1.7348",
         "43.0",
         "3.9802371541501977",
         "1.233201581027668",
         "558.0",
         "2.205533596837945",
         "37.82",
         "-122.27",
         "1.375"
        ],
        [
         "48",
         "0.9506",
         "40.0",
         "3.9",
         "1.21875",
         "423.0",
         "2.64375",
         "37.82",
         "-122.26",
         "1.875"
        ],
        [
         "49",
         "1.775",
         "40.0",
         "2.6875",
         "1.0653409090909092",
         "700.0",
         "1.9886363636363635",
         "37.82",
         "-122.27",
         "1.125"
        ]
       ],
       "shape": {
        "columns": 9,
        "rows": 20640
       }
      },
      "text/html": [
       "<div>\n",
       "<style scoped>\n",
       "    .dataframe tbody tr th:only-of-type {\n",
       "        vertical-align: middle;\n",
       "    }\n",
       "\n",
       "    .dataframe tbody tr th {\n",
       "        vertical-align: top;\n",
       "    }\n",
       "\n",
       "    .dataframe thead th {\n",
       "        text-align: right;\n",
       "    }\n",
       "</style>\n",
       "<table border=\"1\" class=\"dataframe\">\n",
       "  <thead>\n",
       "    <tr style=\"text-align: right;\">\n",
       "      <th></th>\n",
       "      <th>MedInc</th>\n",
       "      <th>HouseAge</th>\n",
       "      <th>AveRooms</th>\n",
       "      <th>AveBedrms</th>\n",
       "      <th>Population</th>\n",
       "      <th>AveOccup</th>\n",
       "      <th>Latitude</th>\n",
       "      <th>Longitude</th>\n",
       "      <th>MedHouseVal</th>\n",
       "    </tr>\n",
       "  </thead>\n",
       "  <tbody>\n",
       "    <tr>\n",
       "      <th>0</th>\n",
       "      <td>8.3252</td>\n",
       "      <td>41.0</td>\n",
       "      <td>6.984127</td>\n",
       "      <td>1.023810</td>\n",
       "      <td>322.0</td>\n",
       "      <td>2.555556</td>\n",
       "      <td>37.88</td>\n",
       "      <td>-122.23</td>\n",
       "      <td>4.526</td>\n",
       "    </tr>\n",
       "    <tr>\n",
       "      <th>1</th>\n",
       "      <td>8.3014</td>\n",
       "      <td>21.0</td>\n",
       "      <td>6.238137</td>\n",
       "      <td>0.971880</td>\n",
       "      <td>2401.0</td>\n",
       "      <td>2.109842</td>\n",
       "      <td>37.86</td>\n",
       "      <td>-122.22</td>\n",
       "      <td>3.585</td>\n",
       "    </tr>\n",
       "    <tr>\n",
       "      <th>2</th>\n",
       "      <td>7.2574</td>\n",
       "      <td>52.0</td>\n",
       "      <td>8.288136</td>\n",
       "      <td>1.073446</td>\n",
       "      <td>496.0</td>\n",
       "      <td>2.802260</td>\n",
       "      <td>37.85</td>\n",
       "      <td>-122.24</td>\n",
       "      <td>3.521</td>\n",
       "    </tr>\n",
       "    <tr>\n",
       "      <th>3</th>\n",
       "      <td>5.6431</td>\n",
       "      <td>52.0</td>\n",
       "      <td>5.817352</td>\n",
       "      <td>1.073059</td>\n",
       "      <td>558.0</td>\n",
       "      <td>2.547945</td>\n",
       "      <td>37.85</td>\n",
       "      <td>-122.25</td>\n",
       "      <td>3.413</td>\n",
       "    </tr>\n",
       "    <tr>\n",
       "      <th>4</th>\n",
       "      <td>3.8462</td>\n",
       "      <td>52.0</td>\n",
       "      <td>6.281853</td>\n",
       "      <td>1.081081</td>\n",
       "      <td>565.0</td>\n",
       "      <td>2.181467</td>\n",
       "      <td>37.85</td>\n",
       "      <td>-122.25</td>\n",
       "      <td>3.422</td>\n",
       "    </tr>\n",
       "    <tr>\n",
       "      <th>...</th>\n",
       "      <td>...</td>\n",
       "      <td>...</td>\n",
       "      <td>...</td>\n",
       "      <td>...</td>\n",
       "      <td>...</td>\n",
       "      <td>...</td>\n",
       "      <td>...</td>\n",
       "      <td>...</td>\n",
       "      <td>...</td>\n",
       "    </tr>\n",
       "    <tr>\n",
       "      <th>20635</th>\n",
       "      <td>1.5603</td>\n",
       "      <td>25.0</td>\n",
       "      <td>5.045455</td>\n",
       "      <td>1.133333</td>\n",
       "      <td>845.0</td>\n",
       "      <td>2.560606</td>\n",
       "      <td>39.48</td>\n",
       "      <td>-121.09</td>\n",
       "      <td>0.781</td>\n",
       "    </tr>\n",
       "    <tr>\n",
       "      <th>20636</th>\n",
       "      <td>2.5568</td>\n",
       "      <td>18.0</td>\n",
       "      <td>6.114035</td>\n",
       "      <td>1.315789</td>\n",
       "      <td>356.0</td>\n",
       "      <td>3.122807</td>\n",
       "      <td>39.49</td>\n",
       "      <td>-121.21</td>\n",
       "      <td>0.771</td>\n",
       "    </tr>\n",
       "    <tr>\n",
       "      <th>20637</th>\n",
       "      <td>1.7000</td>\n",
       "      <td>17.0</td>\n",
       "      <td>5.205543</td>\n",
       "      <td>1.120092</td>\n",
       "      <td>1007.0</td>\n",
       "      <td>2.325635</td>\n",
       "      <td>39.43</td>\n",
       "      <td>-121.22</td>\n",
       "      <td>0.923</td>\n",
       "    </tr>\n",
       "    <tr>\n",
       "      <th>20638</th>\n",
       "      <td>1.8672</td>\n",
       "      <td>18.0</td>\n",
       "      <td>5.329513</td>\n",
       "      <td>1.171920</td>\n",
       "      <td>741.0</td>\n",
       "      <td>2.123209</td>\n",
       "      <td>39.43</td>\n",
       "      <td>-121.32</td>\n",
       "      <td>0.847</td>\n",
       "    </tr>\n",
       "    <tr>\n",
       "      <th>20639</th>\n",
       "      <td>2.3886</td>\n",
       "      <td>16.0</td>\n",
       "      <td>5.254717</td>\n",
       "      <td>1.162264</td>\n",
       "      <td>1387.0</td>\n",
       "      <td>2.616981</td>\n",
       "      <td>39.37</td>\n",
       "      <td>-121.24</td>\n",
       "      <td>0.894</td>\n",
       "    </tr>\n",
       "  </tbody>\n",
       "</table>\n",
       "<p>20640 rows × 9 columns</p>\n",
       "</div>"
      ],
      "text/plain": [
       "       MedInc  HouseAge  AveRooms  AveBedrms  Population  AveOccup  Latitude  \\\n",
       "0      8.3252      41.0  6.984127   1.023810       322.0  2.555556     37.88   \n",
       "1      8.3014      21.0  6.238137   0.971880      2401.0  2.109842     37.86   \n",
       "2      7.2574      52.0  8.288136   1.073446       496.0  2.802260     37.85   \n",
       "3      5.6431      52.0  5.817352   1.073059       558.0  2.547945     37.85   \n",
       "4      3.8462      52.0  6.281853   1.081081       565.0  2.181467     37.85   \n",
       "...       ...       ...       ...        ...         ...       ...       ...   \n",
       "20635  1.5603      25.0  5.045455   1.133333       845.0  2.560606     39.48   \n",
       "20636  2.5568      18.0  6.114035   1.315789       356.0  3.122807     39.49   \n",
       "20637  1.7000      17.0  5.205543   1.120092      1007.0  2.325635     39.43   \n",
       "20638  1.8672      18.0  5.329513   1.171920       741.0  2.123209     39.43   \n",
       "20639  2.3886      16.0  5.254717   1.162264      1387.0  2.616981     39.37   \n",
       "\n",
       "       Longitude  MedHouseVal  \n",
       "0        -122.23        4.526  \n",
       "1        -122.22        3.585  \n",
       "2        -122.24        3.521  \n",
       "3        -122.25        3.413  \n",
       "4        -122.25        3.422  \n",
       "...          ...          ...  \n",
       "20635    -121.09        0.781  \n",
       "20636    -121.21        0.771  \n",
       "20637    -121.22        0.923  \n",
       "20638    -121.32        0.847  \n",
       "20639    -121.24        0.894  \n",
       "\n",
       "[20640 rows x 9 columns]"
      ]
     },
     "execution_count": 1,
     "metadata": {},
     "output_type": "execute_result"
    }
   ],
   "source": [
    "import pandas as pd\n",
    "\n",
    "\n",
    "housing_df = pd.read_csv(\"data/housing 1.csv\")\n",
    "housing_df.drop(\"Unnamed: 0\", axis=1, inplace=True)\n",
    "housing_df\n",
    "\n"
   ]
  },
  {
   "cell_type": "code",
   "execution_count": null,
   "metadata": {},
   "outputs": [
    {
     "data": {
      "text/html": [
       "<style>#sk-container-id-1 {\n",
       "  /* Definition of color scheme common for light and dark mode */\n",
       "  --sklearn-color-text: #000;\n",
       "  --sklearn-color-text-muted: #666;\n",
       "  --sklearn-color-line: gray;\n",
       "  /* Definition of color scheme for unfitted estimators */\n",
       "  --sklearn-color-unfitted-level-0: #fff5e6;\n",
       "  --sklearn-color-unfitted-level-1: #f6e4d2;\n",
       "  --sklearn-color-unfitted-level-2: #ffe0b3;\n",
       "  --sklearn-color-unfitted-level-3: chocolate;\n",
       "  /* Definition of color scheme for fitted estimators */\n",
       "  --sklearn-color-fitted-level-0: #f0f8ff;\n",
       "  --sklearn-color-fitted-level-1: #d4ebff;\n",
       "  --sklearn-color-fitted-level-2: #b3dbfd;\n",
       "  --sklearn-color-fitted-level-3: cornflowerblue;\n",
       "\n",
       "  /* Specific color for light theme */\n",
       "  --sklearn-color-text-on-default-background: var(--sg-text-color, var(--theme-code-foreground, var(--jp-content-font-color1, black)));\n",
       "  --sklearn-color-background: var(--sg-background-color, var(--theme-background, var(--jp-layout-color0, white)));\n",
       "  --sklearn-color-border-box: var(--sg-text-color, var(--theme-code-foreground, var(--jp-content-font-color1, black)));\n",
       "  --sklearn-color-icon: #696969;\n",
       "\n",
       "  @media (prefers-color-scheme: dark) {\n",
       "    /* Redefinition of color scheme for dark theme */\n",
       "    --sklearn-color-text-on-default-background: var(--sg-text-color, var(--theme-code-foreground, var(--jp-content-font-color1, white)));\n",
       "    --sklearn-color-background: var(--sg-background-color, var(--theme-background, var(--jp-layout-color0, #111)));\n",
       "    --sklearn-color-border-box: var(--sg-text-color, var(--theme-code-foreground, var(--jp-content-font-color1, white)));\n",
       "    --sklearn-color-icon: #878787;\n",
       "  }\n",
       "}\n",
       "\n",
       "#sk-container-id-1 {\n",
       "  color: var(--sklearn-color-text);\n",
       "}\n",
       "\n",
       "#sk-container-id-1 pre {\n",
       "  padding: 0;\n",
       "}\n",
       "\n",
       "#sk-container-id-1 input.sk-hidden--visually {\n",
       "  border: 0;\n",
       "  clip: rect(1px 1px 1px 1px);\n",
       "  clip: rect(1px, 1px, 1px, 1px);\n",
       "  height: 1px;\n",
       "  margin: -1px;\n",
       "  overflow: hidden;\n",
       "  padding: 0;\n",
       "  position: absolute;\n",
       "  width: 1px;\n",
       "}\n",
       "\n",
       "#sk-container-id-1 div.sk-dashed-wrapped {\n",
       "  border: 1px dashed var(--sklearn-color-line);\n",
       "  margin: 0 0.4em 0.5em 0.4em;\n",
       "  box-sizing: border-box;\n",
       "  padding-bottom: 0.4em;\n",
       "  background-color: var(--sklearn-color-background);\n",
       "}\n",
       "\n",
       "#sk-container-id-1 div.sk-container {\n",
       "  /* jupyter's `normalize.less` sets `[hidden] { display: none; }`\n",
       "     but bootstrap.min.css set `[hidden] { display: none !important; }`\n",
       "     so we also need the `!important` here to be able to override the\n",
       "     default hidden behavior on the sphinx rendered scikit-learn.org.\n",
       "     See: https://github.com/scikit-learn/scikit-learn/issues/21755 */\n",
       "  display: inline-block !important;\n",
       "  position: relative;\n",
       "}\n",
       "\n",
       "#sk-container-id-1 div.sk-text-repr-fallback {\n",
       "  display: none;\n",
       "}\n",
       "\n",
       "div.sk-parallel-item,\n",
       "div.sk-serial,\n",
       "div.sk-item {\n",
       "  /* draw centered vertical line to link estimators */\n",
       "  background-image: linear-gradient(var(--sklearn-color-text-on-default-background), var(--sklearn-color-text-on-default-background));\n",
       "  background-size: 2px 100%;\n",
       "  background-repeat: no-repeat;\n",
       "  background-position: center center;\n",
       "}\n",
       "\n",
       "/* Parallel-specific style estimator block */\n",
       "\n",
       "#sk-container-id-1 div.sk-parallel-item::after {\n",
       "  content: \"\";\n",
       "  width: 100%;\n",
       "  border-bottom: 2px solid var(--sklearn-color-text-on-default-background);\n",
       "  flex-grow: 1;\n",
       "}\n",
       "\n",
       "#sk-container-id-1 div.sk-parallel {\n",
       "  display: flex;\n",
       "  align-items: stretch;\n",
       "  justify-content: center;\n",
       "  background-color: var(--sklearn-color-background);\n",
       "  position: relative;\n",
       "}\n",
       "\n",
       "#sk-container-id-1 div.sk-parallel-item {\n",
       "  display: flex;\n",
       "  flex-direction: column;\n",
       "}\n",
       "\n",
       "#sk-container-id-1 div.sk-parallel-item:first-child::after {\n",
       "  align-self: flex-end;\n",
       "  width: 50%;\n",
       "}\n",
       "\n",
       "#sk-container-id-1 div.sk-parallel-item:last-child::after {\n",
       "  align-self: flex-start;\n",
       "  width: 50%;\n",
       "}\n",
       "\n",
       "#sk-container-id-1 div.sk-parallel-item:only-child::after {\n",
       "  width: 0;\n",
       "}\n",
       "\n",
       "/* Serial-specific style estimator block */\n",
       "\n",
       "#sk-container-id-1 div.sk-serial {\n",
       "  display: flex;\n",
       "  flex-direction: column;\n",
       "  align-items: center;\n",
       "  background-color: var(--sklearn-color-background);\n",
       "  padding-right: 1em;\n",
       "  padding-left: 1em;\n",
       "}\n",
       "\n",
       "\n",
       "/* Toggleable style: style used for estimator/Pipeline/ColumnTransformer box that is\n",
       "clickable and can be expanded/collapsed.\n",
       "- Pipeline and ColumnTransformer use this feature and define the default style\n",
       "- Estimators will overwrite some part of the style using the `sk-estimator` class\n",
       "*/\n",
       "\n",
       "/* Pipeline and ColumnTransformer style (default) */\n",
       "\n",
       "#sk-container-id-1 div.sk-toggleable {\n",
       "  /* Default theme specific background. It is overwritten whether we have a\n",
       "  specific estimator or a Pipeline/ColumnTransformer */\n",
       "  background-color: var(--sklearn-color-background);\n",
       "}\n",
       "\n",
       "/* Toggleable label */\n",
       "#sk-container-id-1 label.sk-toggleable__label {\n",
       "  cursor: pointer;\n",
       "  display: flex;\n",
       "  width: 100%;\n",
       "  margin-bottom: 0;\n",
       "  padding: 0.5em;\n",
       "  box-sizing: border-box;\n",
       "  text-align: center;\n",
       "  align-items: start;\n",
       "  justify-content: space-between;\n",
       "  gap: 0.5em;\n",
       "}\n",
       "\n",
       "#sk-container-id-1 label.sk-toggleable__label .caption {\n",
       "  font-size: 0.6rem;\n",
       "  font-weight: lighter;\n",
       "  color: var(--sklearn-color-text-muted);\n",
       "}\n",
       "\n",
       "#sk-container-id-1 label.sk-toggleable__label-arrow:before {\n",
       "  /* Arrow on the left of the label */\n",
       "  content: \"▸\";\n",
       "  float: left;\n",
       "  margin-right: 0.25em;\n",
       "  color: var(--sklearn-color-icon);\n",
       "}\n",
       "\n",
       "#sk-container-id-1 label.sk-toggleable__label-arrow:hover:before {\n",
       "  color: var(--sklearn-color-text);\n",
       "}\n",
       "\n",
       "/* Toggleable content - dropdown */\n",
       "\n",
       "#sk-container-id-1 div.sk-toggleable__content {\n",
       "  display: none;\n",
       "  text-align: left;\n",
       "  /* unfitted */\n",
       "  background-color: var(--sklearn-color-unfitted-level-0);\n",
       "}\n",
       "\n",
       "#sk-container-id-1 div.sk-toggleable__content.fitted {\n",
       "  /* fitted */\n",
       "  background-color: var(--sklearn-color-fitted-level-0);\n",
       "}\n",
       "\n",
       "#sk-container-id-1 div.sk-toggleable__content pre {\n",
       "  margin: 0.2em;\n",
       "  border-radius: 0.25em;\n",
       "  color: var(--sklearn-color-text);\n",
       "  /* unfitted */\n",
       "  background-color: var(--sklearn-color-unfitted-level-0);\n",
       "}\n",
       "\n",
       "#sk-container-id-1 div.sk-toggleable__content.fitted pre {\n",
       "  /* unfitted */\n",
       "  background-color: var(--sklearn-color-fitted-level-0);\n",
       "}\n",
       "\n",
       "#sk-container-id-1 input.sk-toggleable__control:checked~div.sk-toggleable__content {\n",
       "  /* Expand drop-down */\n",
       "  display: block;\n",
       "  width: 100%;\n",
       "  overflow: visible;\n",
       "}\n",
       "\n",
       "#sk-container-id-1 input.sk-toggleable__control:checked~label.sk-toggleable__label-arrow:before {\n",
       "  content: \"▾\";\n",
       "}\n",
       "\n",
       "/* Pipeline/ColumnTransformer-specific style */\n",
       "\n",
       "#sk-container-id-1 div.sk-label input.sk-toggleable__control:checked~label.sk-toggleable__label {\n",
       "  color: var(--sklearn-color-text);\n",
       "  background-color: var(--sklearn-color-unfitted-level-2);\n",
       "}\n",
       "\n",
       "#sk-container-id-1 div.sk-label.fitted input.sk-toggleable__control:checked~label.sk-toggleable__label {\n",
       "  background-color: var(--sklearn-color-fitted-level-2);\n",
       "}\n",
       "\n",
       "/* Estimator-specific style */\n",
       "\n",
       "/* Colorize estimator box */\n",
       "#sk-container-id-1 div.sk-estimator input.sk-toggleable__control:checked~label.sk-toggleable__label {\n",
       "  /* unfitted */\n",
       "  background-color: var(--sklearn-color-unfitted-level-2);\n",
       "}\n",
       "\n",
       "#sk-container-id-1 div.sk-estimator.fitted input.sk-toggleable__control:checked~label.sk-toggleable__label {\n",
       "  /* fitted */\n",
       "  background-color: var(--sklearn-color-fitted-level-2);\n",
       "}\n",
       "\n",
       "#sk-container-id-1 div.sk-label label.sk-toggleable__label,\n",
       "#sk-container-id-1 div.sk-label label {\n",
       "  /* The background is the default theme color */\n",
       "  color: var(--sklearn-color-text-on-default-background);\n",
       "}\n",
       "\n",
       "/* On hover, darken the color of the background */\n",
       "#sk-container-id-1 div.sk-label:hover label.sk-toggleable__label {\n",
       "  color: var(--sklearn-color-text);\n",
       "  background-color: var(--sklearn-color-unfitted-level-2);\n",
       "}\n",
       "\n",
       "/* Label box, darken color on hover, fitted */\n",
       "#sk-container-id-1 div.sk-label.fitted:hover label.sk-toggleable__label.fitted {\n",
       "  color: var(--sklearn-color-text);\n",
       "  background-color: var(--sklearn-color-fitted-level-2);\n",
       "}\n",
       "\n",
       "/* Estimator label */\n",
       "\n",
       "#sk-container-id-1 div.sk-label label {\n",
       "  font-family: monospace;\n",
       "  font-weight: bold;\n",
       "  display: inline-block;\n",
       "  line-height: 1.2em;\n",
       "}\n",
       "\n",
       "#sk-container-id-1 div.sk-label-container {\n",
       "  text-align: center;\n",
       "}\n",
       "\n",
       "/* Estimator-specific */\n",
       "#sk-container-id-1 div.sk-estimator {\n",
       "  font-family: monospace;\n",
       "  border: 1px dotted var(--sklearn-color-border-box);\n",
       "  border-radius: 0.25em;\n",
       "  box-sizing: border-box;\n",
       "  margin-bottom: 0.5em;\n",
       "  /* unfitted */\n",
       "  background-color: var(--sklearn-color-unfitted-level-0);\n",
       "}\n",
       "\n",
       "#sk-container-id-1 div.sk-estimator.fitted {\n",
       "  /* fitted */\n",
       "  background-color: var(--sklearn-color-fitted-level-0);\n",
       "}\n",
       "\n",
       "/* on hover */\n",
       "#sk-container-id-1 div.sk-estimator:hover {\n",
       "  /* unfitted */\n",
       "  background-color: var(--sklearn-color-unfitted-level-2);\n",
       "}\n",
       "\n",
       "#sk-container-id-1 div.sk-estimator.fitted:hover {\n",
       "  /* fitted */\n",
       "  background-color: var(--sklearn-color-fitted-level-2);\n",
       "}\n",
       "\n",
       "/* Specification for estimator info (e.g. \"i\" and \"?\") */\n",
       "\n",
       "/* Common style for \"i\" and \"?\" */\n",
       "\n",
       ".sk-estimator-doc-link,\n",
       "a:link.sk-estimator-doc-link,\n",
       "a:visited.sk-estimator-doc-link {\n",
       "  float: right;\n",
       "  font-size: smaller;\n",
       "  line-height: 1em;\n",
       "  font-family: monospace;\n",
       "  background-color: var(--sklearn-color-background);\n",
       "  border-radius: 1em;\n",
       "  height: 1em;\n",
       "  width: 1em;\n",
       "  text-decoration: none !important;\n",
       "  margin-left: 0.5em;\n",
       "  text-align: center;\n",
       "  /* unfitted */\n",
       "  border: var(--sklearn-color-unfitted-level-1) 1pt solid;\n",
       "  color: var(--sklearn-color-unfitted-level-1);\n",
       "}\n",
       "\n",
       ".sk-estimator-doc-link.fitted,\n",
       "a:link.sk-estimator-doc-link.fitted,\n",
       "a:visited.sk-estimator-doc-link.fitted {\n",
       "  /* fitted */\n",
       "  border: var(--sklearn-color-fitted-level-1) 1pt solid;\n",
       "  color: var(--sklearn-color-fitted-level-1);\n",
       "}\n",
       "\n",
       "/* On hover */\n",
       "div.sk-estimator:hover .sk-estimator-doc-link:hover,\n",
       ".sk-estimator-doc-link:hover,\n",
       "div.sk-label-container:hover .sk-estimator-doc-link:hover,\n",
       ".sk-estimator-doc-link:hover {\n",
       "  /* unfitted */\n",
       "  background-color: var(--sklearn-color-unfitted-level-3);\n",
       "  color: var(--sklearn-color-background);\n",
       "  text-decoration: none;\n",
       "}\n",
       "\n",
       "div.sk-estimator.fitted:hover .sk-estimator-doc-link.fitted:hover,\n",
       ".sk-estimator-doc-link.fitted:hover,\n",
       "div.sk-label-container:hover .sk-estimator-doc-link.fitted:hover,\n",
       ".sk-estimator-doc-link.fitted:hover {\n",
       "  /* fitted */\n",
       "  background-color: var(--sklearn-color-fitted-level-3);\n",
       "  color: var(--sklearn-color-background);\n",
       "  text-decoration: none;\n",
       "}\n",
       "\n",
       "/* Span, style for the box shown on hovering the info icon */\n",
       ".sk-estimator-doc-link span {\n",
       "  display: none;\n",
       "  z-index: 9999;\n",
       "  position: relative;\n",
       "  font-weight: normal;\n",
       "  right: .2ex;\n",
       "  padding: .5ex;\n",
       "  margin: .5ex;\n",
       "  width: min-content;\n",
       "  min-width: 20ex;\n",
       "  max-width: 50ex;\n",
       "  color: var(--sklearn-color-text);\n",
       "  box-shadow: 2pt 2pt 4pt #999;\n",
       "  /* unfitted */\n",
       "  background: var(--sklearn-color-unfitted-level-0);\n",
       "  border: .5pt solid var(--sklearn-color-unfitted-level-3);\n",
       "}\n",
       "\n",
       ".sk-estimator-doc-link.fitted span {\n",
       "  /* fitted */\n",
       "  background: var(--sklearn-color-fitted-level-0);\n",
       "  border: var(--sklearn-color-fitted-level-3);\n",
       "}\n",
       "\n",
       ".sk-estimator-doc-link:hover span {\n",
       "  display: block;\n",
       "}\n",
       "\n",
       "/* \"?\"-specific style due to the `<a>` HTML tag */\n",
       "\n",
       "#sk-container-id-1 a.estimator_doc_link {\n",
       "  float: right;\n",
       "  font-size: 1rem;\n",
       "  line-height: 1em;\n",
       "  font-family: monospace;\n",
       "  background-color: var(--sklearn-color-background);\n",
       "  border-radius: 1rem;\n",
       "  height: 1rem;\n",
       "  width: 1rem;\n",
       "  text-decoration: none;\n",
       "  /* unfitted */\n",
       "  color: var(--sklearn-color-unfitted-level-1);\n",
       "  border: var(--sklearn-color-unfitted-level-1) 1pt solid;\n",
       "}\n",
       "\n",
       "#sk-container-id-1 a.estimator_doc_link.fitted {\n",
       "  /* fitted */\n",
       "  border: var(--sklearn-color-fitted-level-1) 1pt solid;\n",
       "  color: var(--sklearn-color-fitted-level-1);\n",
       "}\n",
       "\n",
       "/* On hover */\n",
       "#sk-container-id-1 a.estimator_doc_link:hover {\n",
       "  /* unfitted */\n",
       "  background-color: var(--sklearn-color-unfitted-level-3);\n",
       "  color: var(--sklearn-color-background);\n",
       "  text-decoration: none;\n",
       "}\n",
       "\n",
       "#sk-container-id-1 a.estimator_doc_link.fitted:hover {\n",
       "  /* fitted */\n",
       "  background-color: var(--sklearn-color-fitted-level-3);\n",
       "}\n",
       "\n",
       ".estimator-table summary {\n",
       "    padding: .5rem;\n",
       "    font-family: monospace;\n",
       "    cursor: pointer;\n",
       "}\n",
       "\n",
       ".estimator-table details[open] {\n",
       "    padding-left: 0.1rem;\n",
       "    padding-right: 0.1rem;\n",
       "    padding-bottom: 0.3rem;\n",
       "}\n",
       "\n",
       ".estimator-table .parameters-table {\n",
       "    margin-left: auto !important;\n",
       "    margin-right: auto !important;\n",
       "}\n",
       "\n",
       ".estimator-table .parameters-table tr:nth-child(odd) {\n",
       "    background-color: #fff;\n",
       "}\n",
       "\n",
       ".estimator-table .parameters-table tr:nth-child(even) {\n",
       "    background-color: #f6f6f6;\n",
       "}\n",
       "\n",
       ".estimator-table .parameters-table tr:hover {\n",
       "    background-color: #e0e0e0;\n",
       "}\n",
       "\n",
       ".estimator-table table td {\n",
       "    border: 1px solid rgba(106, 105, 104, 0.232);\n",
       "}\n",
       "\n",
       ".user-set td {\n",
       "    color:rgb(255, 94, 0);\n",
       "    text-align: left;\n",
       "}\n",
       "\n",
       ".user-set td.value pre {\n",
       "    color:rgb(255, 94, 0) !important;\n",
       "    background-color: transparent !important;\n",
       "}\n",
       "\n",
       ".default td {\n",
       "    color: black;\n",
       "    text-align: left;\n",
       "}\n",
       "\n",
       ".user-set td i,\n",
       ".default td i {\n",
       "    color: black;\n",
       "}\n",
       "\n",
       ".copy-paste-icon {\n",
       "    background-image: url(data:image/svg+xml;base64,PHN2ZyB4bWxucz0iaHR0cDovL3d3dy53My5vcmcvMjAwMC9zdmciIHZpZXdCb3g9IjAgMCA0NDggNTEyIj48IS0tIUZvbnQgQXdlc29tZSBGcmVlIDYuNy4yIGJ5IEBmb250YXdlc29tZSAtIGh0dHBzOi8vZm9udGF3ZXNvbWUuY29tIExpY2Vuc2UgLSBodHRwczovL2ZvbnRhd2Vzb21lLmNvbS9saWNlbnNlL2ZyZWUgQ29weXJpZ2h0IDIwMjUgRm9udGljb25zLCBJbmMuLS0+PHBhdGggZD0iTTIwOCAwTDMzMi4xIDBjMTIuNyAwIDI0LjkgNS4xIDMzLjkgMTQuMWw2Ny45IDY3LjljOSA5IDE0LjEgMjEuMiAxNC4xIDMzLjlMNDQ4IDMzNmMwIDI2LjUtMjEuNSA0OC00OCA0OGwtMTkyIDBjLTI2LjUgMC00OC0yMS41LTQ4LTQ4bDAtMjg4YzAtMjYuNSAyMS41LTQ4IDQ4LTQ4ek00OCAxMjhsODAgMCAwIDY0LTY0IDAgMCAyNTYgMTkyIDAgMC0zMiA2NCAwIDAgNDhjMCAyNi41LTIxLjUgNDgtNDggNDhMNDggNTEyYy0yNi41IDAtNDgtMjEuNS00OC00OEwwIDE3NmMwLTI2LjUgMjEuNS00OCA0OC00OHoiLz48L3N2Zz4=);\n",
       "    background-repeat: no-repeat;\n",
       "    background-size: 14px 14px;\n",
       "    background-position: 0;\n",
       "    display: inline-block;\n",
       "    width: 14px;\n",
       "    height: 14px;\n",
       "    cursor: pointer;\n",
       "}\n",
       "</style><body><div id=\"sk-container-id-1\" class=\"sk-top-container\"><div class=\"sk-text-repr-fallback\"><pre>RandomForestRegressor(random_state=42)</pre><b>In a Jupyter environment, please rerun this cell to show the HTML representation or trust the notebook. <br />On GitHub, the HTML representation is unable to render, please try loading this page with nbviewer.org.</b></div><div class=\"sk-container\" hidden><div class=\"sk-item\"><div class=\"sk-estimator fitted sk-toggleable\"><input class=\"sk-toggleable__control sk-hidden--visually\" id=\"sk-estimator-id-1\" type=\"checkbox\" checked><label for=\"sk-estimator-id-1\" class=\"sk-toggleable__label fitted sk-toggleable__label-arrow\"><div><div>RandomForestRegressor</div></div><div><a class=\"sk-estimator-doc-link fitted\" rel=\"noreferrer\" target=\"_blank\" href=\"https://scikit-learn.org/1.7/modules/generated/sklearn.ensemble.RandomForestRegressor.html\">?<span>Documentation for RandomForestRegressor</span></a><span class=\"sk-estimator-doc-link fitted\">i<span>Fitted</span></span></div></label><div class=\"sk-toggleable__content fitted\" data-param-prefix=\"\">\n",
       "        <div class=\"estimator-table\">\n",
       "            <details>\n",
       "                <summary>Parameters</summary>\n",
       "                <table class=\"parameters-table\">\n",
       "                  <tbody>\n",
       "                    \n",
       "        <tr class=\"default\">\n",
       "            <td><i class=\"copy-paste-icon\"\n",
       "                 onclick=\"copyToClipboard('n_estimators',\n",
       "                          this.parentElement.nextElementSibling)\"\n",
       "            ></i></td>\n",
       "            <td class=\"param\">n_estimators&nbsp;</td>\n",
       "            <td class=\"value\">100</td>\n",
       "        </tr>\n",
       "    \n",
       "\n",
       "        <tr class=\"default\">\n",
       "            <td><i class=\"copy-paste-icon\"\n",
       "                 onclick=\"copyToClipboard('criterion',\n",
       "                          this.parentElement.nextElementSibling)\"\n",
       "            ></i></td>\n",
       "            <td class=\"param\">criterion&nbsp;</td>\n",
       "            <td class=\"value\">&#x27;squared_error&#x27;</td>\n",
       "        </tr>\n",
       "    \n",
       "\n",
       "        <tr class=\"default\">\n",
       "            <td><i class=\"copy-paste-icon\"\n",
       "                 onclick=\"copyToClipboard('max_depth',\n",
       "                          this.parentElement.nextElementSibling)\"\n",
       "            ></i></td>\n",
       "            <td class=\"param\">max_depth&nbsp;</td>\n",
       "            <td class=\"value\">None</td>\n",
       "        </tr>\n",
       "    \n",
       "\n",
       "        <tr class=\"default\">\n",
       "            <td><i class=\"copy-paste-icon\"\n",
       "                 onclick=\"copyToClipboard('min_samples_split',\n",
       "                          this.parentElement.nextElementSibling)\"\n",
       "            ></i></td>\n",
       "            <td class=\"param\">min_samples_split&nbsp;</td>\n",
       "            <td class=\"value\">2</td>\n",
       "        </tr>\n",
       "    \n",
       "\n",
       "        <tr class=\"default\">\n",
       "            <td><i class=\"copy-paste-icon\"\n",
       "                 onclick=\"copyToClipboard('min_samples_leaf',\n",
       "                          this.parentElement.nextElementSibling)\"\n",
       "            ></i></td>\n",
       "            <td class=\"param\">min_samples_leaf&nbsp;</td>\n",
       "            <td class=\"value\">1</td>\n",
       "        </tr>\n",
       "    \n",
       "\n",
       "        <tr class=\"default\">\n",
       "            <td><i class=\"copy-paste-icon\"\n",
       "                 onclick=\"copyToClipboard('min_weight_fraction_leaf',\n",
       "                          this.parentElement.nextElementSibling)\"\n",
       "            ></i></td>\n",
       "            <td class=\"param\">min_weight_fraction_leaf&nbsp;</td>\n",
       "            <td class=\"value\">0.0</td>\n",
       "        </tr>\n",
       "    \n",
       "\n",
       "        <tr class=\"default\">\n",
       "            <td><i class=\"copy-paste-icon\"\n",
       "                 onclick=\"copyToClipboard('max_features',\n",
       "                          this.parentElement.nextElementSibling)\"\n",
       "            ></i></td>\n",
       "            <td class=\"param\">max_features&nbsp;</td>\n",
       "            <td class=\"value\">1.0</td>\n",
       "        </tr>\n",
       "    \n",
       "\n",
       "        <tr class=\"default\">\n",
       "            <td><i class=\"copy-paste-icon\"\n",
       "                 onclick=\"copyToClipboard('max_leaf_nodes',\n",
       "                          this.parentElement.nextElementSibling)\"\n",
       "            ></i></td>\n",
       "            <td class=\"param\">max_leaf_nodes&nbsp;</td>\n",
       "            <td class=\"value\">None</td>\n",
       "        </tr>\n",
       "    \n",
       "\n",
       "        <tr class=\"default\">\n",
       "            <td><i class=\"copy-paste-icon\"\n",
       "                 onclick=\"copyToClipboard('min_impurity_decrease',\n",
       "                          this.parentElement.nextElementSibling)\"\n",
       "            ></i></td>\n",
       "            <td class=\"param\">min_impurity_decrease&nbsp;</td>\n",
       "            <td class=\"value\">0.0</td>\n",
       "        </tr>\n",
       "    \n",
       "\n",
       "        <tr class=\"default\">\n",
       "            <td><i class=\"copy-paste-icon\"\n",
       "                 onclick=\"copyToClipboard('bootstrap',\n",
       "                          this.parentElement.nextElementSibling)\"\n",
       "            ></i></td>\n",
       "            <td class=\"param\">bootstrap&nbsp;</td>\n",
       "            <td class=\"value\">True</td>\n",
       "        </tr>\n",
       "    \n",
       "\n",
       "        <tr class=\"default\">\n",
       "            <td><i class=\"copy-paste-icon\"\n",
       "                 onclick=\"copyToClipboard('oob_score',\n",
       "                          this.parentElement.nextElementSibling)\"\n",
       "            ></i></td>\n",
       "            <td class=\"param\">oob_score&nbsp;</td>\n",
       "            <td class=\"value\">False</td>\n",
       "        </tr>\n",
       "    \n",
       "\n",
       "        <tr class=\"default\">\n",
       "            <td><i class=\"copy-paste-icon\"\n",
       "                 onclick=\"copyToClipboard('n_jobs',\n",
       "                          this.parentElement.nextElementSibling)\"\n",
       "            ></i></td>\n",
       "            <td class=\"param\">n_jobs&nbsp;</td>\n",
       "            <td class=\"value\">None</td>\n",
       "        </tr>\n",
       "    \n",
       "\n",
       "        <tr class=\"user-set\">\n",
       "            <td><i class=\"copy-paste-icon\"\n",
       "                 onclick=\"copyToClipboard('random_state',\n",
       "                          this.parentElement.nextElementSibling)\"\n",
       "            ></i></td>\n",
       "            <td class=\"param\">random_state&nbsp;</td>\n",
       "            <td class=\"value\">42</td>\n",
       "        </tr>\n",
       "    \n",
       "\n",
       "        <tr class=\"default\">\n",
       "            <td><i class=\"copy-paste-icon\"\n",
       "                 onclick=\"copyToClipboard('verbose',\n",
       "                          this.parentElement.nextElementSibling)\"\n",
       "            ></i></td>\n",
       "            <td class=\"param\">verbose&nbsp;</td>\n",
       "            <td class=\"value\">0</td>\n",
       "        </tr>\n",
       "    \n",
       "\n",
       "        <tr class=\"default\">\n",
       "            <td><i class=\"copy-paste-icon\"\n",
       "                 onclick=\"copyToClipboard('warm_start',\n",
       "                          this.parentElement.nextElementSibling)\"\n",
       "            ></i></td>\n",
       "            <td class=\"param\">warm_start&nbsp;</td>\n",
       "            <td class=\"value\">False</td>\n",
       "        </tr>\n",
       "    \n",
       "\n",
       "        <tr class=\"default\">\n",
       "            <td><i class=\"copy-paste-icon\"\n",
       "                 onclick=\"copyToClipboard('ccp_alpha',\n",
       "                          this.parentElement.nextElementSibling)\"\n",
       "            ></i></td>\n",
       "            <td class=\"param\">ccp_alpha&nbsp;</td>\n",
       "            <td class=\"value\">0.0</td>\n",
       "        </tr>\n",
       "    \n",
       "\n",
       "        <tr class=\"default\">\n",
       "            <td><i class=\"copy-paste-icon\"\n",
       "                 onclick=\"copyToClipboard('max_samples',\n",
       "                          this.parentElement.nextElementSibling)\"\n",
       "            ></i></td>\n",
       "            <td class=\"param\">max_samples&nbsp;</td>\n",
       "            <td class=\"value\">None</td>\n",
       "        </tr>\n",
       "    \n",
       "\n",
       "        <tr class=\"default\">\n",
       "            <td><i class=\"copy-paste-icon\"\n",
       "                 onclick=\"copyToClipboard('monotonic_cst',\n",
       "                          this.parentElement.nextElementSibling)\"\n",
       "            ></i></td>\n",
       "            <td class=\"param\">monotonic_cst&nbsp;</td>\n",
       "            <td class=\"value\">None</td>\n",
       "        </tr>\n",
       "    \n",
       "                  </tbody>\n",
       "                </table>\n",
       "            </details>\n",
       "        </div>\n",
       "    </div></div></div></div></div><script>function copyToClipboard(text, element) {\n",
       "    // Get the parameter prefix from the closest toggleable content\n",
       "    const toggleableContent = element.closest('.sk-toggleable__content');\n",
       "    const paramPrefix = toggleableContent ? toggleableContent.dataset.paramPrefix : '';\n",
       "    const fullParamName = paramPrefix ? `${paramPrefix}${text}` : text;\n",
       "\n",
       "    const originalStyle = element.style;\n",
       "    const computedStyle = window.getComputedStyle(element);\n",
       "    const originalWidth = computedStyle.width;\n",
       "    const originalHTML = element.innerHTML.replace('Copied!', '');\n",
       "\n",
       "    navigator.clipboard.writeText(fullParamName)\n",
       "        .then(() => {\n",
       "            element.style.width = originalWidth;\n",
       "            element.style.color = 'green';\n",
       "            element.innerHTML = \"Copied!\";\n",
       "\n",
       "            setTimeout(() => {\n",
       "                element.innerHTML = originalHTML;\n",
       "                element.style = originalStyle;\n",
       "            }, 2000);\n",
       "        })\n",
       "        .catch(err => {\n",
       "            console.error('Failed to copy:', err);\n",
       "            element.style.color = 'red';\n",
       "            element.innerHTML = \"Failed!\";\n",
       "            setTimeout(() => {\n",
       "                element.innerHTML = originalHTML;\n",
       "                element.style = originalStyle;\n",
       "            }, 2000);\n",
       "        });\n",
       "    return false;\n",
       "}\n",
       "\n",
       "document.querySelectorAll('.fa-regular.fa-copy').forEach(function(element) {\n",
       "    const toggleableContent = element.closest('.sk-toggleable__content');\n",
       "    const paramPrefix = toggleableContent ? toggleableContent.dataset.paramPrefix : '';\n",
       "    const paramName = element.parentElement.nextElementSibling.textContent.trim();\n",
       "    const fullParamName = paramPrefix ? `${paramPrefix}${paramName}` : paramName;\n",
       "\n",
       "    element.setAttribute('title', fullParamName);\n",
       "});\n",
       "</script></body>"
      ],
      "text/plain": [
       "RandomForestRegressor(random_state=42)"
      ]
     },
     "execution_count": 2,
     "metadata": {},
     "output_type": "execute_result"
    }
   ],
   "source": [
    "from sklearn.model_selection import train_test_split\n",
    "from sklearn.ensemble import RandomForestRegressor\n",
    "\n",
    "X = housing_df.drop(\"MedHouseVal\", axis=1)\n",
    "y = housing_df[\"MedHouseVal\"]\n",
    "\n",
    "X_train, X_test, y_train, y_test = train_test_split(X, y, test_size=0.2, random_state=42)\n",
    "model = RandomForestRegressor(random_state=42)\n",
    "model.fit(X_train, y_train)"
   ]
  },
  {
   "cell_type": "markdown",
   "metadata": {},
   "source": [
    "## R^2 - Bestimmtheitsmaß"
   ]
  },
  {
   "cell_type": "code",
   "execution_count": 3,
   "metadata": {},
   "outputs": [
    {
     "name": "stdout",
     "output_type": "stream",
     "text": [
      "R^2: 0.8051230593157366\n"
     ]
    }
   ],
   "source": [
    "from sklearn.metrics import r2_score\n",
    "y_pred = model.predict(X_test)\n",
    "r2 = r2_score(y_test, y_pred)\n",
    "print(f\"R^2: {r2}\")"
   ]
  },
  {
   "cell_type": "code",
   "execution_count": 4,
   "metadata": {},
   "outputs": [
    {
     "name": "stdout",
     "output_type": "stream",
     "text": [
      "R^2: 0.8051230593157366\n"
     ]
    }
   ],
   "source": [
    "print(f\"R^2: {model.score(X_test, y_test)}\")"
   ]
  },
  {
   "cell_type": "markdown",
   "metadata": {},
   "source": [
    "$$R^2=1-\\frac{SS_{res}}{SS_{tot}}=1-\\frac{\\text{Residuenquadratsumme}}{\\text{Gesamtquadratsumme}}$$\n",
    " "
   ]
  },
  {
   "cell_type": "markdown",
   "metadata": {},
   "source": [
    "**Residuenquadratsumme (Fehler des Modells):**\n",
    "$$SS_{res}=\\sum_{i=1}^n(y_i-\\hat{y_i})^2$$\n",
    " "
   ]
  },
  {
   "cell_type": "code",
   "execution_count": 5,
   "metadata": {},
   "outputs": [
    {
     "name": "stdout",
     "output_type": "stream",
     "text": [
      "ss_res= 1054.1611379678839\n",
      "ss_tot= 5409.368262178434\n",
      "R^2 manuell berechnen: 0.8051230593157366\n"
     ]
    }
   ],
   "source": [
    "import numpy as np\n",
    "\n",
    "# Fehler des Modells bzw. Residuenquadratsumme:\n",
    "ss_res = np.sum((y_test - y_pred) ** 2)\n",
    "print(f\"ss_res= {ss_res}\")\n",
    "\n",
    "# Fehler des Mittelwerts bzw. Gesamtquadratsumme:\n",
    "ss_tot = np.sum((y_test - np.mean(y_test)) ** 2)\n",
    "print(f\"ss_tot= {ss_tot}\")\n",
    "\n",
    "# Berechnung von R^2:\n",
    "r2_manuel = 1 - (ss_res / ss_tot)\n",
    "print(f\"R^2 manuell berechnen: {r2_manuel}\")"
   ]
  },
  {
   "cell_type": "code",
   "execution_count": 6,
   "metadata": {},
   "outputs": [
    {
     "data": {
      "application/vnd.plotly.v1+json": {
       "config": {
        "plotlyServerURL": "https://plot.ly"
       },
       "data": [
        {
         "marker": {
          "color": "rgba(0, 150, 255, 0.6)",
          "size": 5
         },
         "mode": "markers",
         "name": "Vorhersagen",
         "type": "scatter",
         "x": {
          "bdata": "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",
          "dtype": "f8"
         },
         "y": {
          "bdata": "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",
          "dtype": "f8"
         }
        },
        {
         "line": {
          "dash": "dash"
         },
         "marker": {
          "color": "red",
          "size": 8,
          "symbol": "circle"
         },
         "mode": "lines+markers",
         "name": "Ideale Linie",
         "type": "scatter",
         "x": [
          0.14999,
          5.00001
         ],
         "y": [
          0.14999,
          5.00001
         ]
        }
       ],
       "layout": {
        "annotations": [
         {
          "align": "left",
          "text": "R^2 = 1- (ss_res / ss_tot)\nss_res = 1054.16\n",
          "x": 0.99,
          "xref": "paper",
          "yref": "paper"
         }
        ],
        "template": {
         "data": {
          "bar": [
           {
            "error_x": {
             "color": "#2a3f5f"
            },
            "error_y": {
             "color": "#2a3f5f"
            },
            "marker": {
             "line": {
              "color": "#E5ECF6",
              "width": 0.5
             },
             "pattern": {
              "fillmode": "overlay",
              "size": 10,
              "solidity": 0.2
             }
            },
            "type": "bar"
           }
          ],
          "barpolar": [
           {
            "marker": {
             "line": {
              "color": "#E5ECF6",
              "width": 0.5
             },
             "pattern": {
              "fillmode": "overlay",
              "size": 10,
              "solidity": 0.2
             }
            },
            "type": "barpolar"
           }
          ],
          "carpet": [
           {
            "aaxis": {
             "endlinecolor": "#2a3f5f",
             "gridcolor": "white",
             "linecolor": "white",
             "minorgridcolor": "white",
             "startlinecolor": "#2a3f5f"
            },
            "baxis": {
             "endlinecolor": "#2a3f5f",
             "gridcolor": "white",
             "linecolor": "white",
             "minorgridcolor": "white",
             "startlinecolor": "#2a3f5f"
            },
            "type": "carpet"
           }
          ],
          "choropleth": [
           {
            "colorbar": {
             "outlinewidth": 0,
             "ticks": ""
            },
            "type": "choropleth"
           }
          ],
          "contour": [
           {
            "colorbar": {
             "outlinewidth": 0,
             "ticks": ""
            },
            "colorscale": [
             [
              0,
              "#0d0887"
             ],
             [
              0.1111111111111111,
              "#46039f"
             ],
             [
              0.2222222222222222,
              "#7201a8"
             ],
             [
              0.3333333333333333,
              "#9c179e"
             ],
             [
              0.4444444444444444,
              "#bd3786"
             ],
             [
              0.5555555555555556,
              "#d8576b"
             ],
             [
              0.6666666666666666,
              "#ed7953"
             ],
             [
              0.7777777777777778,
              "#fb9f3a"
             ],
             [
              0.8888888888888888,
              "#fdca26"
             ],
             [
              1,
              "#f0f921"
             ]
            ],
            "type": "contour"
           }
          ],
          "contourcarpet": [
           {
            "colorbar": {
             "outlinewidth": 0,
             "ticks": ""
            },
            "type": "contourcarpet"
           }
          ],
          "heatmap": [
           {
            "colorbar": {
             "outlinewidth": 0,
             "ticks": ""
            },
            "colorscale": [
             [
              0,
              "#0d0887"
             ],
             [
              0.1111111111111111,
              "#46039f"
             ],
             [
              0.2222222222222222,
              "#7201a8"
             ],
             [
              0.3333333333333333,
              "#9c179e"
             ],
             [
              0.4444444444444444,
              "#bd3786"
             ],
             [
              0.5555555555555556,
              "#d8576b"
             ],
             [
              0.6666666666666666,
              "#ed7953"
             ],
             [
              0.7777777777777778,
              "#fb9f3a"
             ],
             [
              0.8888888888888888,
              "#fdca26"
             ],
             [
              1,
              "#f0f921"
             ]
            ],
            "type": "heatmap"
           }
          ],
          "histogram": [
           {
            "marker": {
             "pattern": {
              "fillmode": "overlay",
              "size": 10,
              "solidity": 0.2
             }
            },
            "type": "histogram"
           }
          ],
          "histogram2d": [
           {
            "colorbar": {
             "outlinewidth": 0,
             "ticks": ""
            },
            "colorscale": [
             [
              0,
              "#0d0887"
             ],
             [
              0.1111111111111111,
              "#46039f"
             ],
             [
              0.2222222222222222,
              "#7201a8"
             ],
             [
              0.3333333333333333,
              "#9c179e"
             ],
             [
              0.4444444444444444,
              "#bd3786"
             ],
             [
              0.5555555555555556,
              "#d8576b"
             ],
             [
              0.6666666666666666,
              "#ed7953"
             ],
             [
              0.7777777777777778,
              "#fb9f3a"
             ],
             [
              0.8888888888888888,
              "#fdca26"
             ],
             [
              1,
              "#f0f921"
             ]
            ],
            "type": "histogram2d"
           }
          ],
          "histogram2dcontour": [
           {
            "colorbar": {
             "outlinewidth": 0,
             "ticks": ""
            },
            "colorscale": [
             [
              0,
              "#0d0887"
             ],
             [
              0.1111111111111111,
              "#46039f"
             ],
             [
              0.2222222222222222,
              "#7201a8"
             ],
             [
              0.3333333333333333,
              "#9c179e"
             ],
             [
              0.4444444444444444,
              "#bd3786"
             ],
             [
              0.5555555555555556,
              "#d8576b"
             ],
             [
              0.6666666666666666,
              "#ed7953"
             ],
             [
              0.7777777777777778,
              "#fb9f3a"
             ],
             [
              0.8888888888888888,
              "#fdca26"
             ],
             [
              1,
              "#f0f921"
             ]
            ],
            "type": "histogram2dcontour"
           }
          ],
          "mesh3d": [
           {
            "colorbar": {
             "outlinewidth": 0,
             "ticks": ""
            },
            "type": "mesh3d"
           }
          ],
          "parcoords": [
           {
            "line": {
             "colorbar": {
              "outlinewidth": 0,
              "ticks": ""
             }
            },
            "type": "parcoords"
           }
          ],
          "pie": [
           {
            "automargin": true,
            "type": "pie"
           }
          ],
          "scatter": [
           {
            "fillpattern": {
             "fillmode": "overlay",
             "size": 10,
             "solidity": 0.2
            },
            "type": "scatter"
           }
          ],
          "scatter3d": [
           {
            "line": {
             "colorbar": {
              "outlinewidth": 0,
              "ticks": ""
             }
            },
            "marker": {
             "colorbar": {
              "outlinewidth": 0,
              "ticks": ""
             }
            },
            "type": "scatter3d"
           }
          ],
          "scattercarpet": [
           {
            "marker": {
             "colorbar": {
              "outlinewidth": 0,
              "ticks": ""
             }
            },
            "type": "scattercarpet"
           }
          ],
          "scattergeo": [
           {
            "marker": {
             "colorbar": {
              "outlinewidth": 0,
              "ticks": ""
             }
            },
            "type": "scattergeo"
           }
          ],
          "scattergl": [
           {
            "marker": {
             "colorbar": {
              "outlinewidth": 0,
              "ticks": ""
             }
            },
            "type": "scattergl"
           }
          ],
          "scattermap": [
           {
            "marker": {
             "colorbar": {
              "outlinewidth": 0,
              "ticks": ""
             }
            },
            "type": "scattermap"
           }
          ],
          "scattermapbox": [
           {
            "marker": {
             "colorbar": {
              "outlinewidth": 0,
              "ticks": ""
             }
            },
            "type": "scattermapbox"
           }
          ],
          "scatterpolar": [
           {
            "marker": {
             "colorbar": {
              "outlinewidth": 0,
              "ticks": ""
             }
            },
            "type": "scatterpolar"
           }
          ],
          "scatterpolargl": [
           {
            "marker": {
             "colorbar": {
              "outlinewidth": 0,
              "ticks": ""
             }
            },
            "type": "scatterpolargl"
           }
          ],
          "scatterternary": [
           {
            "marker": {
             "colorbar": {
              "outlinewidth": 0,
              "ticks": ""
             }
            },
            "type": "scatterternary"
           }
          ],
          "surface": [
           {
            "colorbar": {
             "outlinewidth": 0,
             "ticks": ""
            },
            "colorscale": [
             [
              0,
              "#0d0887"
             ],
             [
              0.1111111111111111,
              "#46039f"
             ],
             [
              0.2222222222222222,
              "#7201a8"
             ],
             [
              0.3333333333333333,
              "#9c179e"
             ],
             [
              0.4444444444444444,
              "#bd3786"
             ],
             [
              0.5555555555555556,
              "#d8576b"
             ],
             [
              0.6666666666666666,
              "#ed7953"
             ],
             [
              0.7777777777777778,
              "#fb9f3a"
             ],
             [
              0.8888888888888888,
              "#fdca26"
             ],
             [
              1,
              "#f0f921"
             ]
            ],
            "type": "surface"
           }
          ],
          "table": [
           {
            "cells": {
             "fill": {
              "color": "#EBF0F8"
             },
             "line": {
              "color": "white"
             }
            },
            "header": {
             "fill": {
              "color": "#C8D4E3"
             },
             "line": {
              "color": "white"
             }
            },
            "type": "table"
           }
          ]
         },
         "layout": {
          "annotationdefaults": {
           "arrowcolor": "#2a3f5f",
           "arrowhead": 0,
           "arrowwidth": 1
          },
          "autotypenumbers": "strict",
          "coloraxis": {
           "colorbar": {
            "outlinewidth": 0,
            "ticks": ""
           }
          },
          "colorscale": {
           "diverging": [
            [
             0,
             "#8e0152"
            ],
            [
             0.1,
             "#c51b7d"
            ],
            [
             0.2,
             "#de77ae"
            ],
            [
             0.3,
             "#f1b6da"
            ],
            [
             0.4,
             "#fde0ef"
            ],
            [
             0.5,
             "#f7f7f7"
            ],
            [
             0.6,
             "#e6f5d0"
            ],
            [
             0.7,
             "#b8e186"
            ],
            [
             0.8,
             "#7fbc41"
            ],
            [
             0.9,
             "#4d9221"
            ],
            [
             1,
             "#276419"
            ]
           ],
           "sequential": [
            [
             0,
             "#0d0887"
            ],
            [
             0.1111111111111111,
             "#46039f"
            ],
            [
             0.2222222222222222,
             "#7201a8"
            ],
            [
             0.3333333333333333,
             "#9c179e"
            ],
            [
             0.4444444444444444,
             "#bd3786"
            ],
            [
             0.5555555555555556,
             "#d8576b"
            ],
            [
             0.6666666666666666,
             "#ed7953"
            ],
            [
             0.7777777777777778,
             "#fb9f3a"
            ],
            [
             0.8888888888888888,
             "#fdca26"
            ],
            [
             1,
             "#f0f921"
            ]
           ],
           "sequentialminus": [
            [
             0,
             "#0d0887"
            ],
            [
             0.1111111111111111,
             "#46039f"
            ],
            [
             0.2222222222222222,
             "#7201a8"
            ],
            [
             0.3333333333333333,
             "#9c179e"
            ],
            [
             0.4444444444444444,
             "#bd3786"
            ],
            [
             0.5555555555555556,
             "#d8576b"
            ],
            [
             0.6666666666666666,
             "#ed7953"
            ],
            [
             0.7777777777777778,
             "#fb9f3a"
            ],
            [
             0.8888888888888888,
             "#fdca26"
            ],
            [
             1,
             "#f0f921"
            ]
           ]
          },
          "colorway": [
           "#636efa",
           "#EF553B",
           "#00cc96",
           "#ab63fa",
           "#FFA15A",
           "#19d3f3",
           "#FF6692",
           "#B6E880",
           "#FF97FF",
           "#FECB52"
          ],
          "font": {
           "color": "#2a3f5f"
          },
          "geo": {
           "bgcolor": "white",
           "lakecolor": "white",
           "landcolor": "#E5ECF6",
           "showlakes": true,
           "showland": true,
           "subunitcolor": "white"
          },
          "hoverlabel": {
           "align": "left"
          },
          "hovermode": "closest",
          "mapbox": {
           "style": "light"
          },
          "paper_bgcolor": "white",
          "plot_bgcolor": "#E5ECF6",
          "polar": {
           "angularaxis": {
            "gridcolor": "white",
            "linecolor": "white",
            "ticks": ""
           },
           "bgcolor": "#E5ECF6",
           "radialaxis": {
            "gridcolor": "white",
            "linecolor": "white",
            "ticks": ""
           }
          },
          "scene": {
           "xaxis": {
            "backgroundcolor": "#E5ECF6",
            "gridcolor": "white",
            "gridwidth": 2,
            "linecolor": "white",
            "showbackground": true,
            "ticks": "",
            "zerolinecolor": "white"
           },
           "yaxis": {
            "backgroundcolor": "#E5ECF6",
            "gridcolor": "white",
            "gridwidth": 2,
            "linecolor": "white",
            "showbackground": true,
            "ticks": "",
            "zerolinecolor": "white"
           },
           "zaxis": {
            "backgroundcolor": "#E5ECF6",
            "gridcolor": "white",
            "gridwidth": 2,
            "linecolor": "white",
            "showbackground": true,
            "ticks": "",
            "zerolinecolor": "white"
           }
          },
          "shapedefaults": {
           "line": {
            "color": "#2a3f5f"
           }
          },
          "ternary": {
           "aaxis": {
            "gridcolor": "white",
            "linecolor": "white",
            "ticks": ""
           },
           "baxis": {
            "gridcolor": "white",
            "linecolor": "white",
            "ticks": ""
           },
           "bgcolor": "#E5ECF6",
           "caxis": {
            "gridcolor": "white",
            "linecolor": "white",
            "ticks": ""
           }
          },
          "title": {
           "x": 0.05
          },
          "xaxis": {
           "automargin": true,
           "gridcolor": "white",
           "linecolor": "white",
           "ticks": "",
           "title": {
            "standoff": 15
           },
           "zerolinecolor": "white",
           "zerolinewidth": 2
          },
          "yaxis": {
           "automargin": true,
           "gridcolor": "white",
           "linecolor": "white",
           "ticks": "",
           "title": {
            "standoff": 15
           },
           "zerolinecolor": "white",
           "zerolinewidth": 2
          }
         }
        },
        "title": {
         "text": "Vorhersagen vs. Realität (R^2 = 0.805)"
        }
       }
      }
     },
     "metadata": {},
     "output_type": "display_data"
    }
   ],
   "source": [
    "import plotly.graph_objects as go\n",
    "\n",
    "fig1 = go.Figure()\n",
    "\n",
    "info_text = (\n",
    "    f\"R^2 = 1- (ss_res / ss_tot)\\n\"\n",
    "    f\"ss_res = {ss_res:.2f}\\n\"\n",
    ")\n",
    "\n",
    "fig1.add_trace(go.Scatter(\n",
    "    x=y_test,\n",
    "    y=y_pred,\n",
    "    mode=\"markers\",\n",
    "    name=\"Vorhersagen\",\n",
    "    marker=dict(color=\"rgba(0, 150, 255, 0.6)\", size=5)\n",
    "))\n",
    "\n",
    "# Ideale Linie:\n",
    "fig1.add_trace(go.Scatter(\n",
    "    x=[min(y_test), max(y_test)],\n",
    "    y=[min(y_test), max(y_test)],\n",
    "    mode=\"lines+markers\",\n",
    "    name=\"Ideale Linie\",\n",
    "    marker=dict(color=\"red\", size=8, symbol=\"circle\"),\n",
    "    line=dict(dash=\"dash\")\n",
    "))\n",
    "\n",
    "fig1.update_layout(\n",
    "    title=f\"Vorhersagen vs. Realität (R^2 = {r2:.3f})\",\n",
    "    annotations=[\n",
    "        dict(\n",
    "            text=info_text,\n",
    "            align=\"left\",\n",
    "            xref=\"paper\",\n",
    "            yref=\"paper\",\n",
    "            x=0.99,\n",
    "\n",
    "        )\n",
    "    ]\n",
    "    \n",
    ")\n",
    "\n",
    "fig1"
   ]
  },
  {
   "cell_type": "markdown",
   "metadata": {},
   "source": [
    "## 2. Mean Absolute Error (MAE)"
   ]
  },
  {
   "cell_type": "markdown",
   "metadata": {},
   "source": [
    "$$MAE=\\frac{1}{n} \\sum_{i=1}^n \\vert y_i - \\hat{y_i} \\vert$$\n",
    "\n",
    "Wie viel liegt das Model im Durchschnitt daneben?"
   ]
  },
  {
   "cell_type": "code",
   "execution_count": 7,
   "metadata": {},
   "outputs": [
    {
     "name": "stdout",
     "output_type": "stream",
     "text": [
      "MAE: 0.32754256845930246\n",
      "Modell liegt im Durchschnitt$32754.26 daneben!\n"
     ]
    }
   ],
   "source": [
    "from sklearn.metrics import mean_absolute_error\n",
    "\n",
    "mae = mean_absolute_error(y_test, y_pred)\n",
    "print(f\"MAE: {mae}\")\n",
    "print(f\"Modell liegt im Durchschnitt${mae * 10**5:.2f} daneben!\")"
   ]
  },
  {
   "cell_type": "code",
   "execution_count": 8,
   "metadata": {},
   "outputs": [
    {
     "name": "stdout",
     "output_type": "stream",
     "text": [
      "Relativer Fehler: 15.94%\n"
     ]
    }
   ],
   "source": [
    "mean_price = np.mean(y_test)\n",
    "relativer_error = mae / mean_price\n",
    "print(f\"Relativer Fehler: {relativer_error * 100:.2f}%\")"
   ]
  },
  {
   "cell_type": "code",
   "execution_count": 9,
   "metadata": {},
   "outputs": [
    {
     "ename": "KeyError",
     "evalue": "0",
     "output_type": "error",
     "traceback": [
      "\u001b[31m---------------------------------------------------------------------------\u001b[39m",
      "\u001b[31mKeyError\u001b[39m                                  Traceback (most recent call last)",
      "\u001b[36mFile \u001b[39m\u001b[32m~/Documents/Data Scientist/ML_01/.venv/lib/python3.13/site-packages/pandas/core/indexes/base.py:3812\u001b[39m, in \u001b[36mIndex.get_loc\u001b[39m\u001b[34m(self, key)\u001b[39m\n\u001b[32m   3811\u001b[39m \u001b[38;5;28;01mtry\u001b[39;00m:\n\u001b[32m-> \u001b[39m\u001b[32m3812\u001b[39m     \u001b[38;5;28;01mreturn\u001b[39;00m \u001b[38;5;28;43mself\u001b[39;49m\u001b[43m.\u001b[49m\u001b[43m_engine\u001b[49m\u001b[43m.\u001b[49m\u001b[43mget_loc\u001b[49m\u001b[43m(\u001b[49m\u001b[43mcasted_key\u001b[49m\u001b[43m)\u001b[49m\n\u001b[32m   3813\u001b[39m \u001b[38;5;28;01mexcept\u001b[39;00m \u001b[38;5;167;01mKeyError\u001b[39;00m \u001b[38;5;28;01mas\u001b[39;00m err:\n",
      "\u001b[36mFile \u001b[39m\u001b[32mpandas/_libs/index.pyx:167\u001b[39m, in \u001b[36mpandas._libs.index.IndexEngine.get_loc\u001b[39m\u001b[34m()\u001b[39m\n",
      "\u001b[36mFile \u001b[39m\u001b[32mpandas/_libs/index.pyx:196\u001b[39m, in \u001b[36mpandas._libs.index.IndexEngine.get_loc\u001b[39m\u001b[34m()\u001b[39m\n",
      "\u001b[36mFile \u001b[39m\u001b[32mpandas/_libs/hashtable_class_helper.pxi:2606\u001b[39m, in \u001b[36mpandas._libs.hashtable.Int64HashTable.get_item\u001b[39m\u001b[34m()\u001b[39m\n",
      "\u001b[36mFile \u001b[39m\u001b[32mpandas/_libs/hashtable_class_helper.pxi:2630\u001b[39m, in \u001b[36mpandas._libs.hashtable.Int64HashTable.get_item\u001b[39m\u001b[34m()\u001b[39m\n",
      "\u001b[31mKeyError\u001b[39m: 0",
      "\nThe above exception was the direct cause of the following exception:\n",
      "\u001b[31mKeyError\u001b[39m                                  Traceback (most recent call last)",
      "\u001b[36mCell\u001b[39m\u001b[36m \u001b[39m\u001b[32mIn[9]\u001b[39m\u001b[32m, line 31\u001b[39m\n\u001b[32m     27\u001b[39m \u001b[38;5;66;03m# Fehlerlinien:\u001b[39;00m\n\u001b[32m     28\u001b[39m \u001b[38;5;28;01mfor\u001b[39;00m i \u001b[38;5;129;01min\u001b[39;00m \u001b[38;5;28mrange\u001b[39m(n):\n\u001b[32m     29\u001b[39m     fig2.add_trace(go.Scatter(\n\u001b[32m     30\u001b[39m         x=[indices[i], indices[i]],\n\u001b[32m---> \u001b[39m\u001b[32m31\u001b[39m         y=[\u001b[43my_true\u001b[49m\u001b[43m[\u001b[49m\u001b[43mi\u001b[49m\u001b[43m]\u001b[49m, y_hat[i]],\n\u001b[32m     32\u001b[39m         mode=\u001b[33m\"\u001b[39m\u001b[33mlines\u001b[39m\u001b[33m\"\u001b[39m,\n\u001b[32m     33\u001b[39m         showlegend=(i == \u001b[32m0\u001b[39m),\n\u001b[32m     34\u001b[39m         name=\u001b[33m\"\u001b[39m\u001b[33mFehler (|y-ŷ|)\u001b[39m\u001b[33m\"\u001b[39m,\n\u001b[32m     35\u001b[39m         line=\u001b[38;5;28mdict\u001b[39m(color=\u001b[33m\"\u001b[39m\u001b[33morange\u001b[39m\u001b[33m\"\u001b[39m, width=\u001b[32m1\u001b[39m, dash=\u001b[33m\"\u001b[39m\u001b[33mdot\u001b[39m\u001b[33m\"\u001b[39m)\n\u001b[32m     36\u001b[39m     ))\n\u001b[32m     37\u001b[39m fig2\n",
      "\u001b[36mFile \u001b[39m\u001b[32m~/Documents/Data Scientist/ML_01/.venv/lib/python3.13/site-packages/pandas/core/series.py:1130\u001b[39m, in \u001b[36mSeries.__getitem__\u001b[39m\u001b[34m(self, key)\u001b[39m\n\u001b[32m   1127\u001b[39m     \u001b[38;5;28;01mreturn\u001b[39;00m \u001b[38;5;28mself\u001b[39m._values[key]\n\u001b[32m   1129\u001b[39m \u001b[38;5;28;01melif\u001b[39;00m key_is_scalar:\n\u001b[32m-> \u001b[39m\u001b[32m1130\u001b[39m     \u001b[38;5;28;01mreturn\u001b[39;00m \u001b[38;5;28;43mself\u001b[39;49m\u001b[43m.\u001b[49m\u001b[43m_get_value\u001b[49m\u001b[43m(\u001b[49m\u001b[43mkey\u001b[49m\u001b[43m)\u001b[49m\n\u001b[32m   1132\u001b[39m \u001b[38;5;66;03m# Convert generator to list before going through hashable part\u001b[39;00m\n\u001b[32m   1133\u001b[39m \u001b[38;5;66;03m# (We will iterate through the generator there to check for slices)\u001b[39;00m\n\u001b[32m   1134\u001b[39m \u001b[38;5;28;01mif\u001b[39;00m is_iterator(key):\n",
      "\u001b[36mFile \u001b[39m\u001b[32m~/Documents/Data Scientist/ML_01/.venv/lib/python3.13/site-packages/pandas/core/series.py:1246\u001b[39m, in \u001b[36mSeries._get_value\u001b[39m\u001b[34m(self, label, takeable)\u001b[39m\n\u001b[32m   1243\u001b[39m     \u001b[38;5;28;01mreturn\u001b[39;00m \u001b[38;5;28mself\u001b[39m._values[label]\n\u001b[32m   1245\u001b[39m \u001b[38;5;66;03m# Similar to Index.get_value, but we do not fall back to positional\u001b[39;00m\n\u001b[32m-> \u001b[39m\u001b[32m1246\u001b[39m loc = \u001b[38;5;28;43mself\u001b[39;49m\u001b[43m.\u001b[49m\u001b[43mindex\u001b[49m\u001b[43m.\u001b[49m\u001b[43mget_loc\u001b[49m\u001b[43m(\u001b[49m\u001b[43mlabel\u001b[49m\u001b[43m)\u001b[49m\n\u001b[32m   1248\u001b[39m \u001b[38;5;28;01mif\u001b[39;00m is_integer(loc):\n\u001b[32m   1249\u001b[39m     \u001b[38;5;28;01mreturn\u001b[39;00m \u001b[38;5;28mself\u001b[39m._values[loc]\n",
      "\u001b[36mFile \u001b[39m\u001b[32m~/Documents/Data Scientist/ML_01/.venv/lib/python3.13/site-packages/pandas/core/indexes/base.py:3819\u001b[39m, in \u001b[36mIndex.get_loc\u001b[39m\u001b[34m(self, key)\u001b[39m\n\u001b[32m   3814\u001b[39m     \u001b[38;5;28;01mif\u001b[39;00m \u001b[38;5;28misinstance\u001b[39m(casted_key, \u001b[38;5;28mslice\u001b[39m) \u001b[38;5;129;01mor\u001b[39;00m (\n\u001b[32m   3815\u001b[39m         \u001b[38;5;28misinstance\u001b[39m(casted_key, abc.Iterable)\n\u001b[32m   3816\u001b[39m         \u001b[38;5;129;01mand\u001b[39;00m \u001b[38;5;28many\u001b[39m(\u001b[38;5;28misinstance\u001b[39m(x, \u001b[38;5;28mslice\u001b[39m) \u001b[38;5;28;01mfor\u001b[39;00m x \u001b[38;5;129;01min\u001b[39;00m casted_key)\n\u001b[32m   3817\u001b[39m     ):\n\u001b[32m   3818\u001b[39m         \u001b[38;5;28;01mraise\u001b[39;00m InvalidIndexError(key)\n\u001b[32m-> \u001b[39m\u001b[32m3819\u001b[39m     \u001b[38;5;28;01mraise\u001b[39;00m \u001b[38;5;167;01mKeyError\u001b[39;00m(key) \u001b[38;5;28;01mfrom\u001b[39;00m\u001b[38;5;250m \u001b[39m\u001b[34;01merr\u001b[39;00m\n\u001b[32m   3820\u001b[39m \u001b[38;5;28;01mexcept\u001b[39;00m \u001b[38;5;167;01mTypeError\u001b[39;00m:\n\u001b[32m   3821\u001b[39m     \u001b[38;5;66;03m# If we have a listlike key, _check_indexing_error will raise\u001b[39;00m\n\u001b[32m   3822\u001b[39m     \u001b[38;5;66;03m#  InvalidIndexError. Otherwise we fall through and re-raise\u001b[39;00m\n\u001b[32m   3823\u001b[39m     \u001b[38;5;66;03m#  the TypeError.\u001b[39;00m\n\u001b[32m   3824\u001b[39m     \u001b[38;5;28mself\u001b[39m._check_indexing_error(key)\n",
      "\u001b[31mKeyError\u001b[39m: 0"
     ]
    }
   ],
   "source": [
    "fig2 = go.Figure()\n",
    "\n",
    "n = 100\n",
    "indices = np.arange(n)\n",
    "y_true = y_test[:n]\n",
    "y_hat = y_pred[:n]\n",
    "errors = np.abs(y_true - y_hat)\n",
    "\n",
    "# Tatsächlcihe Werte:\n",
    "fig2.add_trace(go.Scatter(\n",
    "    x=indices,\n",
    "    y=y_true,\n",
    "    mode=\"markers\",\n",
    "    name=\"Tatsächlicher Wert\",\n",
    "    marker=dict(color=\"blue\", size=6)\n",
    "))\n",
    "\n",
    "# Vorhergesagte Werte:\n",
    "fig2.add_trace(go.Scatter(\n",
    "    x=indices,\n",
    "    y=y_hat,\n",
    "    mode=\"markers\",\n",
    "    name=\"Vorhergesagter Wert\",\n",
    "    marker=dict(color=\"red\", size=6, symbol=\"x\")\n",
    "))\n",
    "\n",
    "# Fehlerlinien:\n",
    "for i in range(n):\n",
    "    fig2.add_trace(go.Scatter(\n",
    "        x=[indices[i], indices[i]],\n",
    "        y=[y_true[i], y_hat[i]],\n",
    "        mode=\"lines\",\n",
    "        showlegend=(i == 0),\n",
    "        name=\"Fehler (|y-ŷ|)\",\n",
    "        line=dict(color=\"orange\", width=1, dash=\"dot\")\n",
    "    ))\n",
    "fig2"
   ]
  },
  {
   "cell_type": "markdown",
   "metadata": {},
   "source": [
    "# 3. Der Mittlere Quadratische fehler"
   ]
  },
  {
   "cell_type": "markdown",
   "metadata": {},
   "source": [
    "| Tatsächlciher Wert | Vorhergesagter Wert | Fehler | Fehler² |\n",
    "| ------------------ | ------------------- | ------ | ------- |\n",
    "|100                 |102                     |2        |4         |\n",
    "|100                    |96                     |4        |16         |\n",
    "|100                    |110                     |10        |100         |\n",
    " "
   ]
  },
  {
   "cell_type": "code",
   "execution_count": 11,
   "metadata": {},
   "outputs": [
    {
     "name": "stdout",
     "output_type": "stream",
     "text": [
      "Mean Squared Error (MSE): 0.2554\n"
     ]
    }
   ],
   "source": [
    "from sklearn.metrics import mean_squared_error\n",
    "\n",
    "mse = mean_squared_error(y_test, y_pred)\n",
    "print(f\"Mean Squared Error (MSE): {mse:.4f}\")"
   ]
  },
  {
   "cell_type": "code",
   "execution_count": 12,
   "metadata": {},
   "outputs": [
    {
     "data": {
      "application/vnd.plotly.v1+json": {
       "config": {
        "plotlyServerURL": "https://plot.ly"
       },
       "data": [
        {
         "marker": {
          "color": {
           "bdata": "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",
           "dtype": "f8"
          },
          "colorbar": {
           "title": {
            "text": "Quadratische Fehler"
           }
          },
          "colorscale": [
           [
            0,
            "rgb(255,245,240)"
           ],
           [
            0.125,
            "rgb(254,224,210)"
           ],
           [
            0.25,
            "rgb(252,187,161)"
           ],
           [
            0.375,
            "rgb(252,146,114)"
           ],
           [
            0.5,
            "rgb(251,106,74)"
           ],
           [
            0.625,
            "rgb(239,59,44)"
           ],
           [
            0.75,
            "rgb(203,24,29)"
           ],
           [
            0.875,
            "rgb(165,15,21)"
           ],
           [
            1,
            "rgb(103,0,13)"
           ]
          ],
          "size": 6
         },
         "mode": "markers",
         "type": "scatter",
         "x": {
          "bdata": "ukkMAiuH3j8dWmQ730/dPxyxFp8CABRAsHJoke18AUA9CtejcD0GQDEIrBxaZPk/g8DKoUW2/z8zMzMzMzP5PzMzMzMzMwtAd76fGi/dEUCDwMqhRbbzPx1aZDvfTwRAaJHtfD81AUCkcD0K16MBQC/dJAaBlQFAmG4Sg8DK9T8lBoGVQ4v8PwAAAAAAAP4/ke18PzVe9j8AAAAAAAD2PwAAAAAAABFA001iEFg5EEBoke18PzX2PxyxFp8CABRAVg4tsp3v+T+mm8QgsHLgP2iR7Xw/Nfg/vHSTGARW7j+HFtnO91MAQOxRuB6F6wxACKwcWmQ76z++nxov3ST2PwAAAAAAAPY/mpmZmZmZEkBYObTIdr4FQPT91HjpJgNAEoPAyqFFC0Cq8dJNYhD4P+XQItv5fvQ/9ihcj8L1+D/ZzvdT46UEQPYoXI/C9ew/N4lBYOXQ5j/6fmq8dJMBQClcj8L1KPg/aJHtfD81B0C4HoXrUbj2P1K4HoXrUQdAO99PjZduBEAxCKwcWmTvP/T91HjpJgRAVg4tsp3v+T9OYhBYObT0P8/3U+Olm+w/FK5H4XoU+D+cxCCwcmj1P+58PzVeuuk/F9nO91PjAECmm8QgsHIEQClcj8L1KAFAHLEWnwIAFEBeukkMAisAQBSuR+F6FOo/BFYOLbKd7z9aZDvfT40GQPCnxks3if0/x0s3iUFgBEBMN4lBYOX2PwAAAAAAAPo/N4lBYOXQ9j+wcmiR7XzrP4GVQ4ts5/0/N4lBYOXQ5j+BlUOLbOf7PwAAAAAAAAJAcT0K16Nw9z8zMzMzMzMQQLx0kxgEVv4/5/up8dJN+j8AAAAAAAALQDMzMzMzM+c/NV66SQwC9z+amZmZmZn5P0w3iUFg5fI/7FG4HoXrDUCe76fGSzcAQLbz/dR46e4/dZMYBFYO5T9iEFg5tMj6P/hT46WbxPw/i2zn+6nx7j99PzVeukkFQPT91HjpJu0/rBxaZDvf3z+gGi/dJAbtP7pJDAIrh/I/fT81XrpJBkAAAAAAAAAEQDMzMzMzM+s/UrgehetR/D+BlUOLbOfvP8/3U+OlmwxAAAAAAAAAE0AX2c73U+MFQMl2vp8aL/0/c2iR7Xw/+T81XrpJDAL/P+Olm8QgsApAXrpJDAIrBUDjpZvEILDiP1g5tMh2vvs/yXa+nxovAUAAAAAAAAAAQLbz/dR46RBAwcqhRbbz7T9aZDvfT43zPzeJQWDl0Po/fT81XrpJCEAlBoGVQ4sFQPT91HjpJgVAj8L1KFyP/j/P91PjpZv4PwrXo3A9CgZATmIQWDm0AED4U+Olm8T2P1K4HoXrUeQ/Di2yne+n7j/wp8ZLN4kCQLgehetRuAFApHA9Ctej7D8UrkfhehQCQByxFp8CABRABFYOLbKdBUDfT42XbhLjPyGwcmiR7f4/x0s3iUFg9T+BlUOLbOf5P5qZmZmZmQxAH4XrUbgeBkAhsHJokW0QQAAAAAAAAA5AbxKDwMqh9T+Nl24Sg8D6Pylcj8L1KARAeekmMQisCEDwp8ZLN4n7PxyxFp8CABRANV66SQwC/z+iRbbz/dTwP3WTGARWDu0/NV66SQwC+z9WDi2yne/5P5huEoPAyvk/AAAAAAAA9j++nxov3SQHQLKd76fGSwZArBxaZDvf+T97FK5H4XoCQAAAAAAAAOw/ObTIdr6f7j9zaJHtfD8DQFTjpZvEIAFAvp8aL90kEUAAAAAAAAD0P6abxCCwcug/tMh2vp8aBUDdJAaBlUPzP9v5fmq8dPE/sp3vp8ZL+z9kO99PjZcEQJqZmZmZmQlAXrpJDAIrB0Av3SQGgZUIQArXo3A9CgpA46WbxCCw4j8K16NwPQrfP7x0kxgEVgFAhxbZzvdT7z/HSzeJQWD5PxSuR+F6FOY/YhBYObTICUBoke18P7USQBSuR+F6FPo/K4cW2c73BkBGtvP91HjhPyGwcmiR7ew/4XoUrkfh+D8AAAAAAAD8P6abxCCwchBAxSCwcmiRCkBkO99PjZf2P/hT46WbxANAexSuR+F6+D/NzMzMzMz4P90kBoGVQw9AzczMzMzM7D9GtvP91Hj/P23n+6nx0uU/HLEWnwIAFEBGtvP91HjtP6JFtvP91AdAHLEWnwIAFEAv3SQGgZUKQMdLN4lBYPs/vHSTGARW+D+PwvUoXI8CQLx0kxgEVvQ/AAAAAAAA7D8Sg8DKoUUAQH0/NV66SQJAeekmMQis8j9eukkMAqsQQGiR7Xw/NQJAO99PjZduBUC0yHa+nxrvPwAAAAAAAPY/AiuHFtnO/z/ByqFFtvPlPzMzMzMzMwxAz/dT46Wb8D9zaJHtfD/xP99PjZduEvU/TmIQWDm0BUCJQWDl0CLvP2ZmZmZmZu4/mpmZmZmZ5T9KDAIrhxYKQMuhRbbz/eQ/PzVeukkMAkC0yHa+nxoFQHe+nxov3QtAAAAAAAAACkCcxCCwcmjxPwAAAAAAABBAvp8aL90k9j+F61G4HoXjPzm0yHa+HxJAHLEWnwIAFEAIrBxaZDvzP7x0kxgEVgpAnMQgsHJo/z8AAAAAAAD4P1K4HoXrUfg/yXa+nxov+z8AAAAAAAD2P6RwPQrXowZArkfhehQuEED2KFyPwvX+P5zEILByaABAsp3vp8ZL9z8AAAAAAAACQBKDwMqhRQFAXI/C9Shc+T/ByqFFtvPzPyGwcmiR7eQ/0SLb+X5qBkDhehSuR+H8P3e+nxov3fA/AAAAAAAA8D/P91PjpZv6P0jhehSuR/k/Gy/dJAaBA0DVeOkmMQgNQPT91HjpJgBAokW28/3U4D8csRafAgAUQOxRuB6F6/E/AAAAAAAAAkB/arx0k5gRQKjGSzeJQew/HLEWnwIAFEC+nxov3SQGQHnpJjEIrPw/wcqhRbbz/z8fhetRuB71PwRWDi2yneM/Gy/dJAaB+z8CK4cW2c7zP9nO91PjpfU/Vg4tsp3v9T/jpZvEILD0PwisHFpkOwJAaJHtfD817j+PwvUoXI/wP0SLbOf7qQlAAAAAAAAA9D9kO99PjZcKQNv5fmq8dPk/wcqhRbbzAkAQWDm0yHYSQLTIdr6fGvk/g8DKoUW29z+kcD0K16P6Pxsv3SQGgf8/DAIrhxbZ+j8Sg8DKoUX0PxyxFp8CABRAukkMAiuH4j8K16NwPQoDQLgehetRuPY/AiuHFtnO6z/sUbgehevhPxyxFp8CABRAlkOLbOf78T8nMQisHFrkP42XbhKDQBFAEoPAyqFFBUCPwvUoXI/iP3WTGARWDv8/DAIrhxbZ9j9kO99PjZf8PwAAAAAAAP4/AAAAAAAAAkAK16NwPQoJQByxFp8CABRA+n5qvHST+D9WDi2yne/jPx+F61G4Hv8/001iEFg5+j+BlUOLbOcPQIcW2c73UwBAF9nO91Pj/z8Sg8DKoUX8PxyxFp8CABRAtvP91HjpA0AAAAAAAAD4P/Cnxks3iQJAj8L1KFyP4j8pXI/C9Sj0P1TjpZvEIPo/vp8aL90k8j8AAAAAAAAIQKwcWmQ73whAGy/dJAaBAUC6SQwCK4fmP2q8dJMYBANANV66SQwC8z8xCKwcWmTnPwAAAAAAAOg/ukkMAisHEkCe76fGSzcDQHWTGARWDuU/TmIQWDm05D9qvHSTGAT8P0w3iUFg5QFAN4lBYOXQ7j9OYhBYOTQQQL6fGi/dJA5AHLEWnwIAFEAAAAAAAAAMQAAAAAAAAPo/ke18PzVe/D+wcmiR7XzvP2iR7Xw/NfY/AAAAAAAA/D+sHFpkO98EQI2XbhKDwPA/hetRuB6F+T956SYxCKwHQAAAAAAAAPY/HLEWnwIAFEApXI/C9SgCQOkmMQisHAVARIts5/up+T+4HoXrUbj2PwAAAAAAAPo/O99PjZduAkAcsRafAgAUQNEi2/l+agFASOF6FK5H/T9Ei2zn+6kDQHnpJjEIrPQ/hxbZzvdT4z+amZmZmZnlPwRWDi2ynQdAN4lBYOXQ/j9/arx0kxj4P+kmMQisHPQ/fT81XrpJ5D9oke18PzX4P9nO91PjpQNAHLEWnwIAFEB7FK5H4Xr6Pylcj8L1KPI/LbKd76fGCUAAAAAAAAANQBKDwMqhReY/YOXQItv5+D8AAAAAAADsP0w3iUFg5f4/cT0K16NwAUB9PzVeuknwPw4tsp3vp/Q/NV66SQwC+T8dWmQ730/9PxkEVg4tsvc/HLEWnwIAFED4U+Olm8QBQDeJQWDl0Po/hetRuB6F/T+amZmZmZkNQPT91HjpJgNAeekmMQis+j9Ei2zn+6kCQDMzMzMzMwNAnu+nxks37T/Xo3A9ClcTQBSuR+F6FPg/16NwPQrX7z+e76fGSzcDQI/C9Shcj+4/HLEWnwIAFEBU46WbxCAEQIcW2c73U/M/g8DKoUW29T/VeOkmMQgCQByxFp8CABRACKwcWmQ76z8csRafAgAUQJHtfD81Xvo/QmDl0CLb8T/D9Shcj8L5P39qvHSTGAFApHA9Ctej8j8AAAAAAAAMQC/dJAaBlfk/1XjpJjGIEUDHSzeJQWD7P+Olm8QgsAVAHLEWnwIAFEDD9Shcj8LlP3npJjEIrP4/Rrbz/dR4BEAAAAAAAADyP/T91HjpJv0/AiuHFtnOC0CPwvUoXI8KQFg5tMh2vvE/wcqhRbbzAEAAAAAAAAAFQNV46SYxCANAzczMzMzM7D9KDAIrhxYRQKRwPQrXow1Az/dT46Wb8j+HFtnO91P7P9ejcD0K1wZA16NwPQrX8T85tMh2vp/qP0Jg5dAi2wNApHA9CtejD0AQWDm0yHYBQByxFp8CABRAppvEILBy7D/2KFyPwvX8P0a28/3UeAZAObTIdr6fC0D2KFyPwvX8P42XbhKDwP4/y6FFtvP96D8AAAAAAADoP6JFtvP9VBFABFYOLbKd+T9GtvP91HjxP2IQWDm0yO4/ObTIdr6f/j/NzMzMzMwMQBkEVg4tsv0/NV66SQwC8z9vEoPAyqHzPxsv3SQGgQBAsp3vp8ZL/z/+1HjpJjHoP+Olm8QgsPA/rBxaZDvfDkDTTWIQWDnyP5zEILByaOk/arx0kxgE6j956SYxCKz0P4XrUbgehec/vp8aL90k/D9iEFg5tMj2P+58PzVeugJAVg4tsp3vBkCamZmZmZntP57vp8ZLN/s/F9nO91Pj+T+gGi/dJAYCQLKd76fGS/s/WmQ730+NCUAOLbKd76fuP7ByaJHtfOc/wcqhRbbz7T8lBoGVQ4vgPxkEVg4tsgxATmIQWDm05D/wp8ZLN4kLQB+F61G4HglAg8DKoUW2/T/y0k1iEFgGQLTIdr6fGvM/O99PjZduBkBWDi2yne/9PzeJQWDl0Oo/WDm0yHa+CEC8dJMYBFYCQJqZmZmZmQNAaJHtfD81AkAcsRafAgAUQESLbOf7qQlAxSCwcmiR9z8rhxbZzvf5PxKDwMqhRQVAHLEWnwIAFECoxks3iUH+Px1aZDvfTwlAtMh2vp8a/T/sUbgehesEQBSuR+F6FOY/NV66SQwC/T9xPQrXo3AHQC2yne+nxvE/EFg5tMh2AUBaZDvfT433Pxsv3SQGgQNA16NwPQrXAUAAAAAAAAD2PzEIrBxaZOM/AAAAAAAABkAAAAAAAAAMQDEIrBxaZPs/uB6F61G46j8AAAAAAAACQOXQItv5fvo/UrgehetR+D+4HoXrUbj+P7x0kxgEVgRAAAAAAAAA+D8AAAAAAAABQO58PzVeuuk/hetRuB6FAECwcmiR7XwKQOkmMQisHABAvp8aL90k/j/dJAaBlUP/PzMzMzMzsxFAO99PjZdu+D8csRafAgAUQMl2vp8aLwNAGy/dJAaB+T/HSzeJQWDtPxKDwMqhRQNAbef7qfHS9T/6fmq8dJPwPzMzMzMzM/U/O99PjZduB0B/arx0kxjkP1YOLbKd7/E/UI2XbhKD7D8dWmQ730/zP0Jg5dAi2xJAkxgEVg4tCUDpJjEIrBwCQBfZzvdTYxBA16NwPQrX9z9GtvP91Hj7P9ejcD0K1wJAbef7qfHSCUCPwvUoXI8DQMHKoUW28/k/EoPAyqFFC0CR7Xw/NV7iP23n+6nx0v8/WmQ730+N8T8AAAAAAAD2PwaBlUOLbOs/2/l+arx07z9QjZduEoP8PwAAAAAAAPY/AAAAAAAABkCF61G4HoUOQByxFp8CABRAHLEWnwIAFEB56SYxCKz8P1yPwvUoXABAukkMAiuHD0AbL90kBoH9P9ejcD0K1/s/bef7qfHS6T+8dJMYBFb+PzMzMzMzM+M/qMZLN4lB9D8AAAAAAAAFQBKDwMqhRfY/0SLb+X5q4D+8dJMYBFYCQJMYBFYOLfA/3SQGgZVD7z+HFtnO91P5PyGwcmiR7QtAXI/C9Shc6z9U46WbxCABQF66SQwCKwJAtvP91Hjp+D/HSzeJQWDlPy/dJAaBlQBAbef7qfHSAUBcj8L1KFwMQD0K16NwPQtAIbByaJHt4D/l0CLb+X72P1TjpZvEIPg/wcqhRbbz4T/4U+Olm8QEQFCNl24SgwlAWDm0yHa+9z/+1HjpJjEHQBfZzvdT4/k/ZmZmZmZmBEAAAAAAAADsP5qZmZmZmQNAZmZmZmZmCEAzMzMzMzMBQOxRuB6F6wNAHLEWnwIAFECamZmZmZkJQNejcD0K1/s/ZmZmZmZmB0AcsRafAgAUQP7UeOkmMQdA8KfGSzeJEUAfhetRuB79P0jhehSuR/s/vp8aL90k5j9kO99PjZfuP23n+6nx0gVAarx0kxgE6j+YbhKDwMoFQNEi2/l+avg/F9nO91Pj4T8UrkfhehQBQBsv3SQGgQpAvp8aL90kAEASg8DKoUXiPyUGgZVDiwpAEoPAyqFFDUBmZmZmZmb0PxfZzvdT4/E/sp3vp8ZLDEDy0k1iEFgCQAAAAAAAAOw/AAAAAAAAA0BU46WbxCDyPwAAAAAAAPI/KVyPwvUo9j9kO99PjZcIQL6fGi/dJPA/sp3vp8ZL7z8Sg8DKoUX8P3E9CtejcAFAc2iR7Xw/B0AIrBxaZDv5P9ejcD0K1wtAGy/dJAaB5T+iRbbz/dQEQC2yne+nxvM/mpmZmZmZ5T+28/3UeOn0Px+F61G4HuU/Di2yne+n+j8/NV66SQwCQMUgsHJokQRAHLEWnwIAFEDTTWIQWDnyPx+F61G4Hu0/MQisHFpkAUC4HoXrUbjuP3npJjEIrPQ/arx0kxgEDEDJdr6fGq8RQKJFtvP91AFAarx0kxgE6j8ZBFYOLbL5PxyxFp8CABRAsp3vp8ZLC0DVeOkmMQgHQPp+arx0kwtAzczMzMzM/D8MAiuHFtn6P5qZmZmZmeE/qMZLN4lB4D83iUFg5dD2P3e+nxov3QJA1XjpJjEI8j83iUFg5dAAQEJg5dAi2wBAIbByaJHt5D8AAAAAAAD6Pz81XrpJDPg/HLEWnwIAFEDTTWIQWDnwP1g5tMh2vgFAbef7qfHSBEDP91PjpZv8P90kBoGVQ/s/WmQ730+NCUDl0CLb+X7+P9v5fmq8dP0/+n5qvHST/j9WDi2yne/3PxyxFp8CABRA8tJNYhBY/T/dJAaBlcMRQNEi2/l+agNA/Knx0k1i6D/dJAaBlUP1PzEIrBxaZBBAAAAAAAAA8j9U46WbxCAOQClcj8L1KOA/HLEWnwIAFEDD9Shcj8IAQEw3iUFg5eg/YOXQItv5B0AAAAAAAAAOQArXo3A9Cvk/MzMzMzMzA0BOYhBYObToP4XrUbgehe8/HLEWnwIAFEBEi2zn+6nxP9nO91Pjpes/O99PjZduAkDTTWIQWDn6PxyxFp8CABRArkfhehSu3z/Jdr6fGi/xPwAAAAAAAA1AMzMzMzMz9z97FK5H4XoBQDeJQWDl0PQ/XI/C9Shc9z9mZmZmZmb4P30/NV66SRJAO99PjZdu+j/6fmq8dJMPQLTIdr6fGvc/QmDl0CLb9T8dWmQ7308BQD0K16NwPfY/z/dT46Wb8D8K16NwPYoTQF66SQwCKwJACtejcD0KA0BzaJHtfD8BQPyp8dJNYgdA8tJNYhBY9z8rhxbZzvf9P0SLbOf7qf0/ZmZmZmZmBkD6fmq8dJP2PyUGgZVDi/4/AAAAAAAABUCuR+F6FK4RQJZDi2zn+wVAXI/C9Shc6z8lBoGVQ4sCQClcj8L1KAhAd76fGi/dAkC0yHa+nxrnP8l2vp8aL/0/HLEWnwIAFEDJdr6fGi/pPzVeukkMAv0/rkfhehSu/z9WDi2yne//P6jGSzeJQeQ/FK5H4XoU7j8X2c73U+P9P7gehetRuPI/DAIrhxbZ8j9cj8L1KFzzP0a28/3UeAJAZDvfT40XEUDl0CLb+X70Py2yne+nxg5ACKwcWmQ7B0Ce76fGSzftPwIrhxbZzuM/+n5qvHSTAkAj2/l+arz0P2ZmZmZmZvQ/FK5H4XoU+D8AAAAAAAD+P2q8dJMYhBFAPQrXo3A99D+JQWDl0CISQCcxCKwcWgJA/tR46SYxDUBOYhBYObT+PwAAAAAAAOw/MzMzMzMz0z9CYOXQItsKQJHtfD81XgNAmG4Sg8DK+z8dWmQ730/hPzm0yHa+nwBAAAAAAAAA8j956SYxCKz6P1g5tMh2vgVA+n5qvHST9j8AAAAAAAAOQEJg5dAi2/k/Gy/dJAaB+T8EVg4tsp3rPxsv3SQGgQRAdZMYBFYOAUCHFtnO91MEQJ7vp8ZLN/U/SgwCK4cW+z83iUFg5dALQFpkO99Pjfk/SgwCK4cW7T89CtejcD0HQPyp8dJNYv4/bef7qfHSE0BEi2zn+6kKQJzEILByaP0/PQrXo3A9/j8zMzMzMzP5Px1aZDvfT+U/yXa+nxov9T/2KFyPwvX4PwwCK4cW2QtA6SYxCKwcAkBYObTIdr7nP4cW2c73U/k/HLEWnwIAFEB7FK5H4Xr6P1yPwvUoXApAvHSTGARW9j8QWDm0yHb4P/yp8dJNYg1AZmZmZmZm5j9eukkMAivvP0oMAiuHFuU/WmQ730+N3z8OLbKd76f4P23n+6nx0gVA+FPjpZvEA0AbL90kBoEFQAIrhxbZzgNAeekmMQisEEDb+X5qvHTzP0a28/3UePs/AiuHFtnO+z8MAiuHFtkCQAIrhxbZzgRAAAAAAAAAAEDufD81XroHQCuHFtnO9w1AppvEILBy/D+PwvUoXI8FQNejcD0K1+M/BFYOLbKd/z93vp8aL93gPzm0yHa+n/4/0SLb+X5qCUAnMQisHFoKQNv5fmq8dApAlkOLbOf7/T/sUbgehesGQByxFp8CABRABoGVQ4ts9T8rhxbZzvf/P83MzMzMzNw/ke18PzVeDEC0yHa+nxoFQBKDwMqhRQZARIts5/up+T/n+6nx0k0DQESLbOf7qQBASgwCK4cWBUAzMzMzMzP3PzMzMzMzM/U/nMQgsHJo/T/ByqFFtvPpPz0K16NwPfw/cT0K16NwBED6fmq8dJP6P1K4HoXrUfA/WmQ730+N6z9/arx0kxjwPwAAAAAAABRAmG4Sg8DKAEDNzMzMzMzgP9V46SYxCAVAnMQgsHJo+T/D9Shcj8IAQAAAAAAAAAxAke18PzVeAUA5tMh2vp/2PxfZzvdT4+0/g8DKoUW2/z/ByqFFtvP9P9nO91Pjpf0/HLEWnwIAFEAbL90kBoEGQPp+arx0k/A/1XjpJjEIB0BEi2zn+6kAQAAAAAAAAPw/CKwcWmQ79T+F61G4HoX7PxyxFp8CABRAexSuR+F65D8IrBxaZDsCQP7UeOkmMeQ/tvP91Hjp6j+JQWDl0CILQDVeukkMAvk/46WbxCCwDkBWDi2yne/1P5MYBFYOLeI/ZmZmZmZm5j83iUFg5dDuP28Sg8DKoe0/7nw/NV66DEAxCKwcWmT5PxyxFp8CABRAvHSTGARW8j+cxCCwcmgQQFpkO99PjQZAEoPAyqFF8D9KDAIrhxb7Pzm0yHa+nwBAkxgEVg4tCkAIrBxaZDsGQG3n+6nx0vE/mG4Sg8DK6T+amZmZmZkAQKAaL90kBgZA16NwPQrXEEDP91PjpZv0P+kmMQisHAlAbxKDwMqh5T/P91PjpZvkPzm0yHa+n/g/tvP91Hjp9D8UrkfhehQDQJHtfD81Xg5AcT0K16Nw9z8/NV66SQz4PxkEVg4tsuk/EFg5tMh2B0AK16NwPQoHQHWTGARWDvc/UrgehetR9D+8dJMYBFb4P0oMAiuHFvk/YhBYObTI8D8csRafAgAUQBsv3SQGgfU/HLEWnwIAFEBt5/up8dIFQKjGSzeJQfg/NV66SQwCDUDfT42XbhL7PxBYObTIdvY/K4cW2c732z/D9Shcj8L1P/T91HjpJgVAJzEIrBxa+D8AAAAAAAD2P5MYBFYOLQFA8tJNYhBY+z9MN4lBYOUCQG3n+6nx0gdAUrgehetR7D/RItv5fmr0P0SLbOf7qek/exSuR+F6CEDb+X5qvHQRQOkmMQisHANA8KfGSzeJAkBEi2zn+6nzP9v5fmq8dAFAw/UoXI/CD0Bt5/up8dIEQCGwcmiRbRFAPQrXo3A9+j8fhetRuJ4RQIcW2c73U+s/5/up8dJN8D8bL90kBoH5P6abxCCwcv4/AAAAAAAA8D+8dJMYBFb2PxyxFp8CABRAuB6F61G4+D9I4XoUrkf7PxkEVg4tsvE/ZDvfT42X/j9g5dAi2/kGQGq8dJMYBPg/qvHSTWIQA0B56SYxCKz4P3E9CtejcAZAgZVDi2zn+T9zaJHtfD8FQG8Sg8DKofM/5dAi2/l+AkC6SQwCK4cJQBsv3SQGgQJAHLEWnwIAFEAxCKwcWmTzP83MzMzMzAFAAAAAAAAAEkC8dJMYBFbwP39qvHSTGABAeekmMQis8D8csRafAgAUQB+F61G4HvU/46WbxCCwAUCoxks3iUH4Pxsv3SQGgfc//tR46SYx+D/RItv5fmr6P0oMAiuHFgFAFK5H4XoUAUAcsRafAgAUQIXrUbgehRFAnMQgsHJo/T8AAAAAAAAMQLByaJHtfPk/Di2yne+n9D9QjZduEoPoPwAAAAAAAAJAEFg5tMh2AkASg8DKoUURQI/C9Shcj/4/tMh2vp8a6z9mZmZmZmb4P28Sg8DKoeU/g8DKoUW2/z8bL90kBoEIQPCnxks3ifM/SgwCK4cWBkB7FK5H4XrwP3e+nxovXRBAbxKDwMqh9T/b+X5qvHTzP3Noke18P/0/PQrXo3A9AkCamZmZmZnxP5huEoPAyvE/tMh2vp8a6z8xCKwcWuQRQKjGSzeJQew/rBxaZDvf6z8AAAAAAAD+Pxsv3SQGgfc/5dAi2/l+8D/l0CLb+X4LQAaBlUOLbO8/AAAAAAAABUD4U+Olm8ToPwRWDi2ynfU/WmQ730+N9T8bL90kBoECQMdLN4lBYPk/qMZLN4lB8D+F61G4HoXzP2ZmZmZmZg5A5/up8dJN/j+amZmZmZkRQGZmZmZmZuY/ZmZmZmZm5j+uR+F6FK4KQH0/NV66SfA/HLEWnwIAFEDXo3A9CtcMQB+F61G4Hvs/ppvEILByAEDP91PjpZv6P83MzMzMzNQ/arx0kxgEDUDsUbgehev7PwRWDi2ynf8/SOF6FK5H/T+HFtnO91P5P9V46SYxCPA/AAAAAAAA7D+LbOf7qXESQDvfT42Xbv4/L90kBoGVAkDufD81XroBQPT91HjpJgJAVg4tsp3vAUBeukkMAivzP6AaL90kBuk/0SLb+X5q+j/pJjEIrBwBQOf7qfHSTeY/IbByaJHt8D8AAAAAAADoP/LSTWIQWO0/j8L1KFyPBUBt5/up8dLlP7pJDAIrh/o/I9v5fmq8+D+cxCCwcugSQHnpJjEIrAtA2/l+arx0AkAAAAAAAAAIQMHKoUW28wNAIbByaJFtEUCq8dJNYhACQAAAAAAAAPw/JQaBlUOL/D8UrkfhehQGQCUGgZVDi/I/vp8aL90kAUAhsHJoke3yPxyxFp8CABRAvHSTGARW+D8QWDm0yHb2PwIrhxbZzgFASOF6FK7HEUAAAAAAAAAUQFTjpZvEIPo/NV66SQwC/z/2KFyPwvXsPzvfT42XbvI/hetRuB6F9z+28/3UeOkFQCUGgZVDi/4/Vg4tsp3v5z8csRafAgAUQPYoXI/C9fI/HLEWnwIAFECamZmZmZnhP+Olm8QgsOI/Di2yne+n7j9YObTIdr7vP2IQWDm0yPo/j8L1KFyP5j+amZmZmZnlP9NNYhBYOeg/SOF6FK5H/T8csRafAgAUQIlBYOXQIu8/ZmZmZmZmAkC6SQwCK4fqP05iEFg5tOA/ke18PzVe8j8pXI/C9SjsP1YOLbKd7wFAAAAAAAAA+D+8dJMYBFYLQN9PjZduEv0/5dAi2/l+9j/dJAaBlUPnP6wcWmQ73wBA3SQGgZVD7z9aZDvfT43xP+XQItv5fvo/ppvEILByAkBoke18PzX6Pw4tsp3vp+4/YhBYObTI3j/RItv5fmrcP9V46SYxCANAYhBYObTIBkCR7Xw/NV76PwAAAAAAAABATDeJQWDl6D/D9Shcj8L9P/T91HjpJvs/jZduEoPAEEDb+X5qvHTnP9ejcD0K1+s/tvP91Hjp+j/jpZvEILD4PwAAAAAAAAJApHA9CtejCkDfT42XbhICQH9qvHSTGPY/1XjpJjEI8j+6SQwCK4cCQN0kBoGVwxBA46WbxCCwAUB3vp8aL934PxKDwMqhRfg/tvP91HjpA0BQjZduEoP4Pz0K16NwPfQ/MzMzMzMzA0Atsp3vp8b9PxyxFp8CABRAdZMYBFYO/T/l0CLb+X78P76fGi/dJOY/x0s3iUFg5T8csRafAgAUQDVeukkMAv0/g8DKoUW2D0AAAAAAAAD+P6JFtvP91AdAbxKDwMqhC0DP91PjpZsDQOF6FK5H4fA/kxgEVg4t8D956SYxCKz2PyPb+X5qPBFAgZVDi2znBkAUrkfhehTyP166SQwCqxJAYOXQItv5+j/Xo3A9CtcMQFCNl24SgwRA001iEFg58j/VeOkmMQgMQO58PzVeugBACtejcD0K9T+8dJMYBFYBQGiR7Xw/NfA/001iEFg5AEA3iUFg5dDyP5zEILByaAdAHLEWnwIAFEAMAiuHFtn0P8UgsHJoke0/AAAAAAAA8j956SYxCKz4P6RwPQrXo/A/2/l+arx08z8bL90kBoEAQIcW2c73U/E/wcqhRbbzC0AOLbKd76fqP0SLbOf7qQNASOF6FK5H7T8csRafAgAUQByxFp8CABRAexSuR+F6/j+HFtnO91PxP3npJjEIrOw/HLEWnwIAFEASg8DKoUXuP5qZmZmZmeU/ZmZmZmZm/D+BlUOLbOcEQByxFp8CABRAi2zn+6nx+j85tMh2vp8DQDMzMzMzMwNACtejcD0K+T8csRafAgAUQAwCK4cW2QJAGQRWDi2y/T+8dJMYBFYJQDVeukkMAvM/4XoUrkfhA0DsUbgehesCQBKDwMqhRe4/fT81XrpJ/D8tsp3vp8b3P3Noke18P/8/EoPAyqFFAUCoxks3iUH0P23n+6nx0vs/SOF6FK5H/T8tsp3vp8bnP2Dl0CLb+QFAqMZLN4lB8D9I4XoUrkcPQDMzMzMzMwVAHLEWnwIAFEDXo3A9Ctf9P/YoXI/C9eg/QmDl0CLb6T+8dJMYBFb+P6wcWmQ73/8/vHSTGARW/j+amZmZmZn5P6AaL90kBg5AeekmMQis+j9zaJHtfD8BQH0/NV66SQJAnMQgsHJo+z89CtejcD0RQDVeukkMAgZAvp8aL90kBkBvEoPAyqHdPwrXo3A9Cvc/kxgEVg4t7j+e76fGSzf5Px+F61G4Hv8/SgwCK4cWDECJQWDl0CISQCuHFtnO9wFATDeJQWDl+D9cj8L1KFwDQGZmZmZmZuY/N4lBYOXQ5j/HSzeJQWDlP+XQItv5fvg/AAAAAAAA9j8730+Nl24CQMdLN4lBYANA9P3UeOkmCEBvEoPAyqEQQArXo3A9Cvk/9P3UeOkm6T8OLbKd76cRQLByaJHtfP0/H4XrUbgeBkA5tMh2vp8CQIcW2c73U+M/IbByaJHtAUCPwvUoXI8RQBkEVg4tsvM/2/l+arx0BEA730+Nl27iPyuHFtnO9/8/0SLb+X5q4D9CYOXQItsLQKAaL90kBg1A001iEFg5A0BaZDvfT43nPwRWDi2ynfs/UrgehetRAkDP91PjpZv6Pw4tsp3vp+o/HLEWnwIAFEBvEoPAyqEKQMdLN4lBYOE/vHSTGARWA0AAAAAAAAAPQG3n+6nx0vU/2/l+arx07z8pXI/C9Sj8Pylcj8L1KOQ/wcqhRbbzAkC0yHa+nxrvP5qZmZmZmQFAIbByaJHt8D956SYxCKwFQAIrhxbZzu8/z/dT46Wb+j81XrpJDAL3P+XQItv5fvY/Rrbz/dR4CkC0yHa+nxr5PxyxFp8CABRAAAAAAAAA+j8rhxbZzvfzP30/NV66SQFABoGVQ4ts+z8/NV66SQwKQMUgsHJokfE/f2q8dJMYBkBiEFg5tMj0P/yp8dJNYgdAUrgehetRC0DHSzeJQWDlP7TIdr6fGgNA+FPjpZvE6D+R7Xw/NV7qP5huEoPAygxAVOOlm8SgEkAfhetRuB4BQIlBYOXQIvE/c2iR7Xw/+T9KDAIrhxbzP28Sg8DKoQJAuB6F61G4/D8730+Nl27mP5qZmZmZmeE/SgwCK4cW5T+sHFpkO9/vPxyxFp8CABRAqMZLN4lB+j+kcD0K16PoP6abxCCwcvY/RIts5/up+z8csRafAgAUQL6fGi/dJAlAHLEWnwIAFEAcsRafAgAUQOF6FK5H4fY/ppvEILByBkAAAAAAAAAOQAAAAAAAAPY/K4cW2c73CkB7FK5H4Xr0P0SLbOf7qf0/KVyPwvUo5D+F61G4HoXxPwAAAAAAABBA5/up8dJN+D9qvHSTGATiP2ZmZmZmZvA/AAAAAAAAAkBI4XoUrkf3Pz81XrpJDA1A7FG4HoXrA0DpJjEIrJwQQDEIrBxaZAVAAAAAAAAA6D8AAAAAAAAEQBfZzvdT4/k/MzMzMzMz7z/Xo3A9CtfxP1YOLbKd7+s/okW28/3UBUCBlUOLbOfzP7Kd76fGSwJAXI/C9ShcAkAAAAAAAAD6P5qZmZmZmek/NV66SQwC8z/wp8ZLN4kDQAAAAAAAAP4/rkfhehSuA0DRItv5fmrwP3npJjEIrPI/AAAAAAAA9j8bL90kBoH7P+XQItv5fvA/VOOlm8QgA0AK16NwPQr/P2Q730+NlwFAZmZmZmZmDkC28/3UeOn4P/hT46WbxOw/+n5qvHST7D+amZmZmZnhP6wcWmQ7398/BoGVQ4ts9z89CtejcD0GQH9qvHSTGAdAeekmMQis9D/ufD81XroBQDEIrBxaZOs/RIts5/up+T8730+Nl27iP+F6FK5H4QtAgZVDi2zn/z/fT42XbhLvP2Q730+Nl+I/FK5H4XoUCEBYObTIdr7nP8HKoUW28wNAXI/C9ShcBUDJdr6fGi/zP3e+nxov3eg/i2zn+6nx9j8v3SQGgZXjPyUGgZVDiwBAqMZLN4lBCkAMAiuHFtkMQHNoke18P/E/exSuR+F64D+amZmZmZnlP9v5fmq8dP0/AAAAAAAAAEBSuB6F61EMQBsv3SQGgQ9AiUFg5dAi9T+F61G4HoUIQC/dJAaBlfU/JQaBlUOLCUAdWmQ7308IQAAAAAAAAAxA5dAi2/l+AkA1XrpJDAL1P4cW2c73U/M/bxKDwMqh9T8/NV66SQzmPwAAAAAAABFArkfhehSu+T8pXI/C9Sj4P/YoXI/C9QtA3SQGgZVD4z+DwMqhRbYPQEjhehSuRwZAvp8aL90kA0DLoUW28/0BQJ7vp8ZLN+0/bef7qfHS8T9U46WbxCD4P05iEFg5tOQ/TmIQWDm0DEA5tMh2vp8CQJzEILByaOE/BoGVQ4ts7z+q8dJNYhACQPp+arx0k/I/BoGVQ4ts/z+DwMqhRbbzP6AaL90kBvk/46WbxCCw+j8Sg8DKoUUBQPhT46WbxPI/2/l+arx0A0CHFtnO91PnP3npJjEIrP4/MzMzMzMz4z/dJAaBlUP/P0Jg5dAi2/E/exSuR+F6BUDNzMzMzMwEQM/3U+Olm+w/N4lBYOXQAkAX2c73U+MOQAAAAAAAAP4/rBxaZDvfAUBzaJHtfD/zP+58PzVeuvU/ZDvfT42XCEC+nxov3SQKQOXQItv5fuY/bef7qfHS5T+8dJMYBFbyPycxCKwcWvw/aJHtfD816j/LoUW28/3sP5MYBFYOLeI/gZVDi2znCUBaZDvfT40DQEoMAiuHFvc/EoPAyqFF+j81XrpJDAIDQHE9CtejcANADi2yne+n6j8AAAAAAADsP99PjZduEvU/FK5H4XoU3j9zaJHtfD//P9v5fmq8dP0/z/dT46Wb9D+28/3UeOnyP6AaL90kBgFAz/dT46Wb9j9eukkMAisCQEJg5dAi2+k/tMh2vp8aAECHFtnO91P9P83MzMzMzPg/NV66SQwC9z8AAAAAAAD2P5zEILByaAZAeekmMQisA0CwcmiR7XwDQHsUrkfhevA/z/dT46Wb8D+sHFpkO98CQIGVQ4ts5/k/WmQ730+ND0CHFtnO91P3P8UgsHJokf0//Knx0k1iA0DXo3A9CtcKQHsUrkfhevo//Knx0k1iAEBaZDvfT435P3WTGARWDvs/vp8aL90kE0CDwMqhRbYEQOxRuB6F6wlA5dAi2/l+8D9/arx0kxj2Px1aZDvfT+0/HVpkO99PAkBoke18PzX2P5MYBFYOLQRAHVpkO9/PEECwcmiR7XwDQCPb+X5qvPY/mpmZmZmZ5T8ZBFYOLbLtP7pJDAIrh/4/tvP91HjpAUCLbOf7qfH2PwisHFpkO/U/rkfhehSu7z9Ei2zn+6nlP/7UeOkmMQJAfT81XrpJAkDufD81Xrr1PyuHFtnO9wxAGy/dJAaBBkAcsRafAgAUQMuhRbbz/ew/nu+nxks35T/VeOkmMQj4P3Noke18P/s/LbKd76fG7z+iRbbz/dQJQHWTGARWDgFAXI/C9ShcAUA730+Nl24FQBsv3SQGgQBAvp8aL90kDkAAAAAAAADsP8dLN4lBYAhAnMQgsHJoEkCPwvUoXI/0P/hT46WbxAZAiUFg5dAi8z/jpZvEILAAQM3MzMzMzPI/nMQgsHJo5T/8qfHSTWIAQKwcWmQ73+c/2/l+arx08T99PzVeuknyP0SLbOf7qQhAFK5H4XoU8j/y0k1iEFjtP0a28/3UePU/AAAAAAAAEUBzaJHtfD/hPwwCK4cW2QhAvHSTGARWA0C+nxov3SQCQFTjpZvEIPA/CtejcD0KA0CkcD0K16MDQArXo3A9Cvk/5dAi2/l+8j9zaJHtfD/lPzeJQWDl0OI/F9nO91PjAUBKDAIrhxb7P3npJjEIrPo/AAAAAAAAAkAIrBxaZDvnP9nO91Pjpfk/mpmZmZmZ9z/Jdr6fGi/tP0SLbOf7qQBAbef7qfHSCkCPwvUoXI/iPx+F61G4HgJABFYOLbKdC0BKDAIrhxbxPxyxFp8CABRAAAAAAAAABkAOLbKd76fuP7TIdr6fGu8/zczMzMzM+D8AAAAAAAAQQByxFp8CABRA8tJNYhBYCEAj2/l+arwMQPT91HjpJvc/001iEFg5DECmm8QgsHIMQIPAyqFFtu8/1XjpJjEIBEBMN4lBYOXwPxyxFp8CABRA7FG4HoXr+T8tsp3vp8YFQHnpJjEIrANAhxbZzvdT/T8OLbKd76cBQMP1KFyPwvk/HVpkO99PCECyne+nxksFQKJFtvP91Ow/AAAAAAAA7D+Nl24Sg8AAQP7UeOkmMf4/001iEFg58D8AAAAAAAAPQO58PzVeugxAyXa+nxovCkC8dJMYBFYGQOOlm8QgsAJAKVyPwvUo+j+sHFpkO9/zPwAAAAAAABJAgZVDi2zn8T91kxgEVg7tP7Kd76fGS/M/JzEIrBxaE0C8dJMYBFYNQBSuR+F6FABA46WbxCCwCkAAAAAAAAANQJ7vp8ZLN/s/I9v5fmq8A0CYbhKDwMr5P4XrUbgehfc/d76fGi/d8j8CK4cW2c7xP1K4HoXrUQVAKVyPwvUo8j+HFtnO91MKQByxFp8CABRA7FG4HoXrAkBaZDvfT43zP2iR7Xw/Neo/tvP91HjpDkDFILByaJH9P4PAyqFFtvk/qMZLN4lB8D/2KFyPwvUQQAAAAAAAAAVAWmQ730+NDUDRItv5fmryP/Cnxks3iQZAMQisHFpk7z9g5dAi2/n0P76fGi/dJARABFYOLbKdAkASg8DKoUX2P+F6FK5H4eY/PQrXo3A9C0BEi2zn+6kFQEw3iUFg5fg/JQaBlUOL7D+4HoXrUbj6P+XQItv5fvA/4XoUrkfh/D/8qfHSTWLgP5HtfD81XgBAYOXQItv5DkAAAAAAAAD6P90kBoGVQ/M/JzEIrBxa9j8GgZVDi2zvP1pkO99PjQVAukkMAiuHBUAcsRafAgAUQFg5tMh2vt8/j8L1KFyP4j9KDAIrhxblP6rx0k1iEPw/8tJNYhBYD0AQWDm0yHYGQKAaL90kBu0/HLEWnwIAFEDwp8ZLN4ntP166SQwCKwJAAAAAAAAA+j8Sg8DKoUUHQLKd76fGS/0/Di2yne+nBkD8qfHSTWL8P39qvHSTGANATmIQWDm0CUDsUbgehesEQC2yne+nxu8/SgwCK4cWAkAlBoGVQ4vgP7TIdr6fGvk/WDm0yHa++T+YbhKDwMoBQNEi2/l+aghAaJHtfD819j/b+X5qvHQCQJMYBFYOLe4/tMh2vp8a7z/FILByaJEOQLbz/dR46f4/w/UoXI/CAEBQjZduEoMCQPp+arx0k+w/x0s3iUFg/z8pXI/C9SjyPyUGgZVDi/w/w/UoXI9CEECoxks3iUECQGIQWDm0yAJAGy/dJAaBAkAcsRafAgAUQNv5fmq8dP0/f2q8dJMYAUAcsRafAgAUQN9PjZduEvs/ZDvfT42XAkCJQWDl0CIMQPhT46WbxAJAAAAAAAAA8j8IrBxaZDv3P4GVQ4ts5+s/H4XrUbge4T/VeOkmMQjcP76fGi/dJO4/Gy/dJAaBAUBOYhBYObT+P/T91HjpJvU/wcqhRbbz3T/ByqFFtvP3P2iR7Xw/NfQ/Rrbz/dR4BEA9CtejcD3uPyuHFtnO9wJAHLEWnwIAFEAAAAAAAADsP6jGSzeJQfQ/z/dT46WbA0DJdr6fGi/5P0oMAiuHFuk/ppvEILByAUAAAAAAAAAMQFg5tMh2vv8/oBov3SQG9z/VeOkmMQgLQNEi2/l+aug/BFYOLbKd+T9MN4lBYOX0PwAAAAAAAPI/vHSTGARWCkBEi2zn+6kCQFg5tMh2vu8/RIts5/up/z+HFtnO91MAQAAAAAAAAAxArBxaZDvf4z8QWDm0yHb2P7x0kxgEVvg/4XoUrkfh9D+e76fGSzf/P+xRuB6F6/8/AAAAAAAA9j8AAAAAAAAGQESLbOf7qfM/cT0K16Nw8T9GtvP91HjzPylcj8L1KAhAvHSTGARWA0BQjZduEoP4P0oMAiuHFvs/rkfhehSuDEAAAAAAAAD8PwAAAAAAAPI/FK5H4XoUDkA1XrpJDALzPwrXo3A9ChBA3SQGgZVD8T+TGARWDi0LQEjhehSuR/k/jZduEoPAEkD+1HjpJjHkP/Cnxks3if0/JzEIrBxa/j8lBoGVQ4v+P5qZmZmZmeU/sp3vp8ZL6z8tsp3vp8b7P42XbhKDwPQ/9ihcj8L1/D8csRafAgAUQH9qvHSTGA5AcT0K16NwA0CDwMqhRbb3Pz81XrpJDANAAAAAAAAAEkAzMzMzMzMDQByxFp8CABRAIbByaJHtBUDRItv5fmr+P0a28/3UeAVAi2zn+6nxC0B1kxgEVg4GQHNoke18P/0/HLEWnwIAFEB1kxgEVg4BQLgehetRuPw/KVyPwvUo9j81XrpJDAL9Pz0K16NwPQtAAAAAAAAAAkBCYOXQItvlP9V46SYxCANAwcqhRbbz9z9U46WbxCD0P9V46SYxCOw/AAAAAAAA9D81XrpJDAL7P5qZmZmZmfU/BFYOLbKd6z/4U+Olm8TkPzVeukkMAvE/QmDl0CLbBkCYbhKDwMoFQNEi2/l+agFAx0s3iUFg7T8UrkfhehT6P57vp8ZLN/8/zczMzMzM1D+gGi/dJAYGQIGVQ4ts5/U/dZMYBFYO/z/RItv5fmoCQGDl0CLb+fY/8tJNYhBY2T+JQWDl0CLjP0Jg5dAi2wBANV66SQwC+T9zaJHtfD8BQGZmZmZmZvw/UI2XbhKDAUAlBoGVQ4v0P+XQItv5fv4/d76fGi/dD0CR7Xw/NV4NQJqZmZmZmfM/SgwCK4cWDkCe76fGSzf5P+XQItv5fvw/XrpJDAIr5z81XrpJDAIHQAAAAAAAAPw/EFg5tMh2BkCuR+F6FK75P8dLN4lBYPk/SgwCK4cW9z8CK4cW2c71P9v5fmq8dAFADi2yne+nEkAX2c73U+MOQH9qvHSTGARAEFg5tMh2/j8MAiuHFtkBQOF6FK5H4QxAAAAAAAAABkAOLbKd76fmP2ZmZmZmZhJAmpmZmZmZ5T8AAAAAAAACQJMYBFYOLfw/+FPjpZvE4D83iUFg5dD6P4GVQ4ts5+8/ppvEILBy7D9MN4lBYOUBQOF6FK5H4fw/bef7qfHS7T8CK4cW2c77P28Sg8DKoRNAeekmMQis8D9KDAIrhxYGQMdLN4lBYARAlkOLbOf7AEAAAAAAAADsP76fGi/dJO4/KVyPwvUo+j8csRafAgAUQAAAAAAAAPQ/XrpJDAIr/T+sHFpkO9/xP1yPwvUoXPc/HLEWnwIAFECkcD0K16MJQLgehetRuN4/NV66SQwC+z+amZmZmZnlPxkEVg4tsvs/AAAAAAAA+D+8dJMYBFYKQI/C9Shcj/Y/PQrXo3A9DkBEi2zn+6npP90kBoGVQwBAZDvfT42XD0AK16NwPQrrP8l2vp8aLwpAf2q8dJMYAEAAAAAAAAD6P0jhehSuRwVAGQRWDi2yAUA9CtejcD38Pxsv3SQGgQBAHLEWnwIAFECsHFpkO9/9PwAAAAAAAPI/9ihcj8L17D+6SQwCK4f+PwIrhxbZzv8/5dAi2/l++j8csRafAgAUQB1aZDvfT/c/nu+nxks37T8QWDm0yHb2P3npJjEIrP4/WmQ730+N4z97FK5H4Xr4P1yPwvUoXOs/UrgehetR+j9MN4lBYOUOQOf7qfHSTQtAg8DKoUW2A0CwcmiR7XzzPzMzMzMzM/U/XI/C9Shc7z8dWmQ7308DQJzEILByaPs/nu+nxks38z8csRafAgAUQKJFtvP91P4/ObTIdr6fAkDjpZvEILD+P5zEILByaP8/UI2XbhKDB0DfT42XbhLrPxyxFp8CABRAHLEWnwIAFEBeukkMAivxPwAAAAAAAPg/vHSTGARWAEAQWDm0yHYFQI/C9Shcj/A/16NwPQrX+T+YbhKDwMoBQE5iEFg5tPo/vHSTGARWAkBGtvP91HgAQI/C9Shcj+4/AAAAAAAA+j+oxks3iUEDQOXQItv5fuo/0SLb+X5qAkBYObTIdr79PyGwcmiR7fA/NV66SQwC8z+0yHa+nxr/P4cW2c73U/0/ZmZmZmZmB0DfT42XbhL3PxyxFp8CABRARrbz/dR49T9MN4lBYOXgP/7UeOkmMf4/UrgehetRAEC4HoXrUbj8P9nO91Pjpe8/MQisHFpkBkCe76fGSzcKQKRwPQrXowBARIts5/upAEAAAAAAAADyPy2yne+nxgJAKVyPwvUoAUAUrkfhehQLQByxFp8CABRA7nw/NV66BkAcsRafAgAUQDVeukkMAv0/AAAAAAAA9D8AAAAAAIAQQAAAAAAAAPI/TDeJQWDl7D+4HoXrUbjuP83MzMzMzPY/5/up8dJNBUBmZmZmZmb6P+F6FK5H4fI/oBov3SQG+T/fT42XbhIRQOOlm8QgsAhAiUFg5dAiA0AbL90kBoHxPx1aZDvfT+U/exSuR+F6DUBxPQrXo3AKQBfZzvdT4wVAHLEWnwIAFEDjpZvEILAJQJzEILByaANAWmQ730+NAkDTTWIQWDn4P9NNYhBYOQJAZmZmZmZmDkAQWDm0yHbuP6AaL90kBv8/QmDl0CLbBECPwvUoXI/+P/hT46WbxOQ/ukkMAiuH9D+R7Xw/NV7+P4cW2c73U/0/fT81XrpJ+D8v3SQGgZUEQAAAAAAAAPY/AAAAAAAA9D+mm8QgsHIBQEw3iUFg5fo/JQaBlUOLAkDXo3A9Ctf3P3Noke18P/s/5/up8dJND0Av3SQGgZUGQByxFp8CABRARIts5/up9T8Sg8DKoUUKQAAAAAAAAAxAXrpJDAIr/T8csRafAgAUQLgehetRuP4/3SQGgZVDA0AAAAAAAAD8P9NNYhBYOfQ/vp8aL90k9D/0/dR46Sb/P/LSTWIQWAtAwcqhRbbzAEAAAAAAAAD2P9nO91PjpQVAxSCwcmiR+z8rhxbZzvcEQEJg5dAi2/c/VOOlm8QgC0AX2c73U+MDQGQ730+Nl/Q/UI2XbhKDC0AAAAAAAAD8PwAAAAAAAAdAYOXQItv59j8ZBFYOLbILQPp+arx0kwJAAAAAAAAAAEBSuB6F61EDQJqZmZmZmeU/eekmMQis/j+6SQwCK4f8P1CNl24Sg/w/HVpkO99P9T+BlUOLbOcFQCcxCKwcWvg/Vg4tsp3v/T8AAAAAAAD2P0SLbOf7qfE/c2iR7Xw/A0AAAAAAAAD6PzeJQWDl0Oo/c2iR7Xw/BUDsUbgehesAQFg5tMh2vvs/zczMzMzMCEDXo3A9CtfvPzm0yHa+n/4/z/dT46WbAUD4U+Olm8T6P83MzMzMzOQ/46WbxCCw9j9zaJHtfD8HQPCnxks3iQlANV66SQwC8z8AAAAAAAAAQI/C9ShcjwFA9P3UeOkmB0A5tMh2vp/yPyuHFtnO9/k/qMZLN4lB8j83iUFg5dDmP3sUrkfhev4/xSCwcmiR/z+0yHa+nxrnP7pJDAIrh/A/4XoUrkfh9j9kO99PjZcDQByxFp8CABRAhxbZzvdT/T9aZDvfT43rP0a28/3UeAFA7nw/NV668T+BlUOLbOcAQLTIdr6fGgtAGQRWDi2y8z+PwvUoXI8FQIPAyqFFtglAaJHtfD816j8csRafAgAUQJHtfD81XghAhxbZzvdT5z9I4XoUrkf5P4GVQ4ts5+M/z/dT46Wb8j9U46WbxCAJQAAAAAAAAA1AHLEWnwIAFECDwMqhRbbnPwAAAAAAAPg/mpmZmZmZBUCHFtnO91PzPwAAAAAAAARAtMh2vp8a5z8AAAAAAAAOQF66SQwCKwNAhxbZzvdT/T+YbhKDwMr5PxSuR+F6FARAH4XrUbge3T/l0CLb+X78P4PAyqFFtgRAhxbZzvdT9z+0yHa+nxrrP7x0kxgEVgFAd76fGi/d9D9cj8L1KFz5PwwCK4cW2fI/MzMzMzMzAUCwcmiR7XwFQAAAAAAAAPA/BFYOLbKdCkCsHFpkO9/9P/YoXI/C9eA/wcqhRbbz9z9Ei2zn+6kLQOxRuB6F6/M/1XjpJjEIE0AcsRafAgAUQByxFp8CABRAvp8aL90k/D+HFtnO91P9P3Noke18PwRADAIrhxbZ8j/2KFyPwvX2PxyxFp8CABRA+FPjpZvE9j9cj8L1KFzzPxsv3SQGgQVA0SLb+X5qCkCwcmiR7XzzP5MYBFYOrRBAvHSTGARWBUDn+6nx0k3+P1g5tMh2vhFAFK5H4XoU+j+amZmZmZkOQDVeukkMAvE/5dAi2/l+4j9mZmZmZmbiPwrXo3A9CgNAUI2XbhKDAUBg5dAi2/nyP+58PzVeughAdZMYBFYOAUCiRbbz/dT8P6JFtvP91BJAYOXQItv5CkDl0CLb+X7uPzm0yHa+n/A/HLEWnwIAFEAzMzMzMzMBQOf7qfHSTf4/BoGVQ4ts+z+PwvUoXI8MQDEIrBxaZP8/hetRuB6F7z/P91PjpZv8P1TjpZvEIAJABoGVQ4ts+z+DwMqhRbYFQPLSTWIQWAFA7nw/NV665T+cxCCwcmj7P1g5tMh2vvE/mpmZmZmZCkAAAAAAAAD4P1g5tMh2vvs/AAAAAAAAA0B1kxgEVg7lPxkEVg4tsvs/GQRWDi2yCUAzMzMzMzMFQAAAAAAAAOw/bef7qfHSAEBt5/up8dIDQHWTGARWDg5A/tR46SYx8j8csRafAgAUQMl2vp8aL90/TDeJQWDl9D8tsp3vp8b/PyuHFtnOdxFAbxKDwMqh7T8AAAAAAAD4P5huEoPAygxAHLEWnwIAFEBqvHSTGATuP0SLbOf7qQ5AeekmMQis/j/HSzeJQWAFQNEi2/l+agZAeekmMQis4D9vEoPAyqHxP7x0kxgEVvo/lkOLbOf7CUBvEoPAyqHzP7x0kxgEVgFAWmQ730+N5z+HFtnO91MEQAAAAAAAAP4/j8L1KFyP+j/dJAaBlUP5PzVeukkMAv8/ukkMAiuH9j/l0CLb+X7uPylcj8L1KAJAc2iR7Xw/BUB3vp8aL93sPx1aZDvfT/0/8KfGSzeJ/T8AAAAAAAD6PwAAAAAAAPQ/tMh2vp8a7z8GgZVDi2wMQJhuEoPAyvU/AAAAAAAA9D+mm8QgsHIIQKjGSzeJQfw/F9nO91PjC0BWDi2yne8HQN9PjZduEuc/hetRuB6F8T+wcmiR7XwGQDVeukkMAvk/I9v5fmq8AkC0yHa+nxrjPwAAAAAAAARA3SQGgZVDAEAZBFYOLbL7P6AaL90kBghACtejcD0KA0CkcD0K16P8P4/C9Shcj/o/g8DKoUW2+T+amZmZmZn3PyPb+X5qvP4/PzVeukkM4j/8qfHSTWIIQGQ730+NlxFAAAAAAAAA9j8AAAAAAAD2P/Cnxks3ifU/AAAAAAAABUDjpZvEILDqPylcj8L1KPI/DAIrhxbZ5j9cj8L1KFwAQGQ730+NlwZAHVpkO99P9z+TGARWDi0FQAAAAAAAAAZA2/l+arx0+z+8dJMYBFYBQLbz/dR46fw/AAAAAAAAAUCiRbbz/dT6PzMzMzMzM9s/30+Nl24SA0AK16NwPQr3P4GVQ4ts59s/FK5H4XoUDUCYbhKDwMr9P5qZmZmZmeU/8KfGSzeJ+T+yne+nxkv/P/hT46WbxPg/ukkMAisHEkCR7Xw/NV7mP/T91HjpJvU/PQrXo3A9CkBt5/up8dIFQJ7vp8ZLN+U/46WbxCCw9D956SYxCKzoP+F6FK5H4fg/KVyPwvUo9D/TTWIQWDkDQEjhehSuR/U/ke18PzVe7j8dWmQ7308AQIXrUbgeheM/EoPAyqFF9j+8dJMYBFYCQAwCK4cW2QRASgwCK4cWBEBoke18PzUKQHe+nxov3fo/9ihcj8L1AEBEi2zn+6kCQDvfT42XbgRAmpmZmZmZ5T/sUbgehev5P42XbhKDwPI/WmQ730+N8T8AAAAAAAAGQBfZzvdT4/E/j8L1KFyP+j9Ei2zn+6ntP8P1KFyPwv0/iUFg5dAi7z/n+6nx0k0DQK5H4XoUrgRA6SYxCKwc9j/HSzeJQWD/P/hT46WbxBBAaJHtfD819j9U46WbxCAOQNEi2/l+avo/SgwCK4cW/T+LbOf7qfEAQAAAAAAAAPI/SgwCK4cW9z/D9Shcj8IBQPT91HjpJuE/IbByaJHt9D9oke18PzUCQAAAAAAAAAZATmIQWDm0/j9QjZduEoPkP5huEoPAyuU/0SLb+X5qBEC6SQwCK4cDQPYoXI/C9QpARIts5/upAEAcsRafAgAUQPCnxks3ifs/ObTIdr6f9D/Jdr6fGi/3PwrXo3A9Cuc/d76fGi/d9j+LbOf7qXERQLx0kxgEVgBAHVpkO99P/z/2KFyPwvXsPxfZzvdT4wJAgZVDi2zn/T8AAAAAAAD6PwAAAAAAAPI/j8L1KFyP4j9kO99PjZcIQOf7qfHSTQxAEoPAyqFFB0DjpZvEILAMQBkEVg4tsgNA30+Nl24S5z8zMzMzMzPxP/T91HjpJuk/arx0kxgE/j+HFtnO91PvP0Jg5dAi2/0/Gy/dJAaB/z/Xo3A9CtfxPzVeukkMAvk/2/l+arx0AUB7FK5H4XoHQOF6FK5H4eI/PzVeukkM+j8QWDm0yHbwP8dLN4lBYOE/z/dT46Wb+j9mZmZmZmb4PzeJQWDl0PY/AAAAAAAA+D81XrpJDALrP83MzMzMzABAAAAAAAAA9j8AAAAAAAAMQBsv3SQGgfs/TDeJQWDl9j9kO99PjRcSQClcj8L1KPw/1XjpJjEI8j8X2c73U+PlP1CNl24Sg/4/JQaBlUOLCkBxPQrXo3D9PwAAAAAAAPo/TmIQWDm09D/ZzvdT46X7P/p+arx0k/4/ZDvfT42XB0CTGARWDi3+P9Ei2/l+auQ/vp8aL92kEkAX2c73U+P9P30/NV66SfY/BoGVQ4tsCkBiEFg5tMgGQAIrhxbZzv8/kxgEVg4t5j9I4XoUrkf3P2Q730+Nl/o/gZVDi2znBUDXo3A9Ctf3PwisHFpkOwFAoBov3SQGB0CNl24Sg0AQQNnO91Pjpfk/MzMzMzMzA0CwcmiR7XzjP/hT46WbxPY/iUFg5dAi6z8730+Nl24AQFg5tMh2vg9ARIts5/up9T8QWDm0yHbyPwAAAAAAAPo/AAAAAAAAEUB9PzVeuknyPxyxFp8CABRAHLEWnwIAFEBeukkMAivfP/p+arx0kwdACtejcD0KCEDb+X5qvHQLQHE9CtejcO0/c2iR7Xw/BkBGtvP91HgOQMl2vp8aLwtAYOXQItv57j+amZmZmZkFQGZmZmZmZv4/NV66SQwC/T9/arx0kxjwP4cW2c73U/s/O99PjZdu+D99PzVeukkMQAAAAAAAAABA30+Nl24SAUDl0CLb+X74P8dLN4lBYA5AAAAAAAAABkD0/dR46SbpP1TjpZvEIP4/FK5H4XoU9j8csRafAgAUQC/dJAaBlf8/xSCwcmiRA0Cmm8QgsHL6P9V46SYxCAhA001iEFg57D8csRafAgAUQH9qvHSTGPo/TmIQWDm0/j8GgZVDi2wMQIPAyqFFNhFAhxbZzvdT2z9zaJHtfD8OQB+F61G4HgVAgZVDi2zn8T/2KFyPwvUBQAAAAAAAAPQ/UI2XbhKD5D99PzVeuknsP4lBYOXQIg9ANV66SQwC/z8csRafAgAUQAAAAAAAAP4/bef7qfHSAECgGi/dJAYBQGZmZmZmZvw/NV66SQwC/T+F61G4HoX5P2ZmZmZmZvw/+n5qvHST8j8csRafAgAUQAAAAAAAAPo/rkfhehSu9T+sHFpkO9/vP/YoXI/C9fI/tMh2vp8a+T9aZDvfT433P9v5fmq8dOs/HLEWnwIAFEDy0k1iEFj7P28Sg8DKoQRAfT81XrpJ+j91kxgEVo4RQFyPwvUoXO8/f2q8dJMYB0Coxks3iUEAQOOlm8QgsAZAAAAAAAAA+j/l0CLb+X7uP6wcWmQ73/k/AAAAAAAA/j9I4XoUrkf5P1g5tMh2PhJAEFg5tMh28D8QWDm0yHb6P5zEILByaOE/WmQ730+N9z9mZmZmZmbuP+F6FK5H4fY/tMh2vp8a7z+q8dJNYhDyP+58PzVeuvs/ppvEILByD0ApXI/C9SjkP2IQWDm0yAdAke18PzVeA0BQjZduEoMHQH9qvHSTGPI/wcqhRbbz9T/4U+Olm8QHQHsUrkfhegNABFYOLbKd7z8v3SQGgZUDQNNNYhBYOQpAAAAAAACAEUApXI/C9Sj6P/yp8dJNYvA/wcqhRbbz8T8lBoGVQ4v6PwAAAAAAAARAsp3vp8ZL+T8AAAAAAADsP5qZmZmZmfU/cT0K16Nw6T9WDi2yne/5PxKDwMqhRQJA5dAi2/l+9j83iUFg5dDmP+f7qfHSTQVAarx0kxgE6j+amZmZmZn9P/LSTWIQWApANV66SQwC+z9Ei2zn+6nxPxyxFp8CABRABoGVQ4ts6z+oxks3iUHkPxyxFp8CABRAnMQgsHJo/T/pJjEIrBz4PzvfT42XbgNAiUFg5dAiCkBvEoPAyqEBQKjGSzeJQQNAHLEWnwIAFECwcmiR7XzvP05iEFg5tPo/O99PjZduAECiRbbz/dTsP5HtfD81Xv4/AAAAAAAA+j8ZBFYOLbIKQAisHFpkO+s/Gy/dJAaB9T+JQWDl0CL3PzMzMzMzMwFAMzMzMzMz7z/NzMzMzMwAQPYoXI/C9QhAAAAAAAAACED+1HjpJjEAQIcW2c73UwRAj8L1KFyP8j+4HoXrUbj6P42XbhKDwA9AKVyPwvUoAkAcsRafAgAUQByxFp8CABRA16NwPQrX/z+6SQwCK4cNQM3MzMzMzMw/ObTIdr6f7j8Sg8DKoUUNQN0kBoGVQwFAcT0K16NwAEAcsRafAgAUQKrx0k1iEARASgwCK4cWDUDwp8ZLN4kHQAaBlUOLbPs/gZVDi2znBED8qfHSTWLyP3npJjEIrARANV66SQwC8T/ZzvdT46XvP1yPwvUoXANAx0s3iUFg9z8j2/l+arz4P5qZmZmZmf8/XrpJDAIrB0B1kxgEVg4KQHWTGARWDuE/f2q8dJMY7D+6SQwCK4f8P/Cnxks3if8/WDm0yHa+8z8730+Nl24HQMUgsHJokfE/rBxaZDvf8z+8dJMYBFbiP+Olm8QgMBBAAAAAAAAA/j/8qfHSTWLkP/7UeOkmMfA/AAAAAAAAFEAfhetRuB7dPwrXo3A9ihJANV66SQwC/T9kO99PjZcIQFg5tMh2vg1A7FG4HoXr4T++nxov3SQHQFCNl24Sg/Q/g8DKoUW2BUCJQWDl0CL9P1pkO99PjQFASgwCK4cW6T+Nl24Sg8DuP/p+arx0kw9AzczMzMzMAUAAAAAAAADsPwAAAAAAAPY/46WbxCCwA0DpJjEIrBz8P6jGSzeJQfo/c2iR7Xw/9T956SYxCKz0PyGwcmiR7QFAObTIdr6f8D8/NV66SQzyPxsv3SQGgQNAJzEIrBxa7D8tsp3vp8b9Py2yne+nxv0/WDm0yHa++T+sHFpkO9/3P6abxCCwcug/HLEWnwIAFEBkO99PjZfuPwAAAAAAAANACKwcWmS7EECamZmZmZn/P3Noke18P+U/hetRuB6FBUCF61G4HoUBQLTIdr6fGvk/Rrbz/dR49T+8dJMYBFYAQBsv3SQGgQFASgwCK4cW/T/2KFyPwvX6P1YOLbKd7wdAj8L1KFyP+j/2KFyPwvX+PwAAAAAAAAFATDeJQWDlDkBGtvP91HgFQOXQItv5fvQ/GQRWDi2yBUB9PzVeuknsPz0K16NwPfA/UrgehevRE0D4U+Olm8T6P8/3U+Olm/Y/HLEWnwIAFEBOYhBYObQJQBKDwMqhReo/7nw/NV667T/hehSuR+H6P5qZmZmZmfU/ppvEILByA0CJQWDl0CL5P4cW2c73U+8/O99PjZdu/D9KDAIrhxb1Pxsv3SQGgQVAvp8aL90kCUDHSzeJQWD9PwAAAAAAAPA/+n5qvHSTAkB/arx0kxj2PwAAAAAAAPo/mG4Sg8BKEkASg8DKoUX2P4/C9ShcjwNAg8DKoUW24z/2KFyPwvUCQAAAAAAAAPI/xSCwcmiR8z8csRafAgAUQARWDi2ynfE/30+Nl24SCEDNzMzMzMz6P4PAyqFFtgNA8tJNYhBYBkCPwvUoXI8QQGIQWDm0yOI/ZDvfT42XB0Ce76fGSzcNQBBYObTIdg1AiUFg5dAiA0AGgZVDi2zzPzMzMzMzMwFA001iEFg58j+28/3UeOkCQEa28/3UePs/4XoUrkfhA0A5tMh2vp/iPxkEVg4tsuU/001iEFg56D97FK5H4Xr8P4cW2c73U+M/SgwCK4cWAkC4HoXrUbj8Px1aZDvfT/k/fT81XrpJBkAIrBxaZDsTQPhT46WbxP4/eekmMQis9j8QWDm0yHYKQAAAAAAAAPA/UI2XbhKD8D8fhetRuB7hP4PAyqFFtv0/d76fGi/d/j97FK5H4XoEQClcj8L1KPY/EoPAyqFF5j9YObTIdr4DQBKDwMqhRQVAAAAAAAAA+j83iUFg5dAJQG3n+6nx0vc/KVyPwvUoEUAcsRafAgAUQIcW2c73UwRAc2iR7Xw/CkB1kxgEVg77PzvfT42XbgRAppvEILBy6D/TTWIQWDn4PxfZzvdT4whAAAAAAAAA/j91kxgEVg4BQESLbOf7qQBA001iEFg5AECiRbbz/dTsP8UgsHJoke0/16NwPQrX9T8bL90kBoHtP5zEILByaOk/j8L1KFyP7j9WDi2yne8DQKwcWmQ73/E/5dAi2/l+/j/jpZvEILD+PxyxFp8CABRAqMZLN4lB4D8pXI/C9Sj6P1CNl24Sgw1APQrXo3A94j8AAAAAAADoP1K4HoXrUQJAEoPAyqFFC0BU46WbxCAGQL6fGi/dJP4/2c73U+Ol5z8AAAAAAAD4P/Cnxks3ifc/AiuHFtnO/T+YbhKDwMoCQJqZmZmZmfM/tvP91HjpD0AAAAAAAAAEQJMYBFYOLfI/L90kBoGVA0AAAAAAAAACQIGVQ4ts5/0/LbKd76fGCEBMN4lBYOX0P/yp8dJNYgtAzczMzMzM5D8dWmQ7308GQDVeukkMAvs/I9v5fmq8EEBxPQrXo3DxPwRWDi2ynfk/mpmZmZmZC0CNl24Sg8AQQO58PzVeugBAMzMzMzMz7z8csRafAgAUQMdLN4lBYPE/hxbZzvdT9T99PzVeukngPyGwcmiR7QhAPQrXo3A9DUAAAAAAAAD8P3Noke18P/s/XI/C9ShcBkC+nxov3ST0P7bz/dR46fg/Di2yne+n6j81XrpJDAL5P8l2vp8aLwFA2c73U+Ol8T9mZmZmZmb6P/YoXI/C9QtAHLEWnwIAFEDpJjEIrBz0P0w3iUFg5f4/HLEWnwIAFEBWDi2yne//PxyxFp8CABRAvp8aL90k+j8AAAAAAAD2P3E9CtejcPM/5dAi2/l+DkCBlUOLbOfxP4/C9Shcj+I/0SLb+X5q5D91kxgEVg4NQFCNl24SgwBARIts5/upDUCTGARWDi3qP7gehetRuAVAhetRuB6F/z+wcmiR7XznP4lBYOXQIghAiUFg5dAi8z/ZzvdT46UEQGZmZmZmZsY/HVpkO99P9z9SuB6F61HwPwAAAAAAABBAWDm0yHa+7z/RItv5fmoTQC/dJAaBFRNAnMQgsHJo5T/VeOkmMQgOQIlBYOXQIvs/AiuHFtnOA0AnMQisHFr6P42XbhKDwAhA2c73U+Ol/T/RItv5fmoCQGDl0CLb+fg/MzMzMzMzCECyne+nxkvvP7TIdr6fGgRAGy/dJAaBBkDl0CLb+X74P6abxCCwcgxAaJHtfD818D9I4XoUrkcFQIPAyqFFtvk/EFg5tMh2CECamZmZmZn3PwIrhxbZzv0/arx0kxgE+j8X2c73U2MTQAAAAAAAAPw/JzEIrBxa9D9oke18PzUNQOxRuB6F6wJAH4XrUbgeAUCq8dJNYhACQDm0yHa+n/Q/hetRuB6F5z8nMQisHFryPwAAAAAAAPw/ppvEILByCUDl0CLb+X4KQM3MzMzMzP4/hetRuB6F+T/VeOkmMQj6P/Cnxks3ieU/1XjpJjEIAUDl0CLb+X72P9ejcD0K1/0/2/l+arx0D0AZBFYOLbLhPzEIrBxaZBBA46WbxCCw/j/Xo3A9CtfvPwAAAAAAAPw/SOF6FK5H+T+0yHa+nxrxP5MYBFYOLQZAiUFg5dAiCkC4HoXrUbjuPxKDwMqhRRFAWmQ730+N+z8AAAAAAADyPwAAAAAAAAJAw/UoXI/CBEBSuB6F61EHQFTjpZvEIOA/AAAAAAAA+D8rhxbZzvcBQEw3iUFg5fQ/5/up8dJN5j89CtejcD0MQOXQItv5fgJAnMQgsHJoAEAMAiuHFtkPQM/3U+Olm/Y/7nw/NV66+z8QWDm0yHb0Pylcj8L1KAdA46WbxCCw7j/y0k1iEFj1P7ByaJHtfPc/NV66SQwC/T9GtvP91HjhP8P1KFyPwuE/AAAAAAAA+D+mm8QgsHLwP0Jg5dAi2+0/GQRWDi2y8z8lBoGVQ4sCQIXrUbgehfk/hxbZzvdT8T8v3SQGgZXbP0w3iUFg5fA/IbByaJHt+j/pJjEIrBzSP28Sg8DKoQZAWDm0yHa+AkAAAAAAAAABQKabxCCwcgBAAAAAAAAA+D/hehSuR+H+P6YPXVDfMsM/MzMzMzMz+z8hsHJoke36P+xRuB6F6+0/46WbxCCw/j8K16NwPQr9P90kBoGVQ/8/Gy/dJAaB8z83iUFg5dD2P4cW2c73U/k/ppvEILBy+j/NzMzMzMz4P0a28/3UeO0/mG4Sg8DK5T+0yHa+nxoGQDeJQWDl0ApAx0s3iUFg8z+8dJMYBFb8PwAAAAAAAP4/uB6F61G4/j9/arx0kxgIQNv5fmq8dPk/HLEWnwIAFEBMN4lBYOUFQIPAyqFFtgJAHLEWnwIAFEBt5/up8dIBQDvfT42XbvY/xSCwcmiR+T81XrpJDALzPxyxFp8CABRA4XoUrkfh8D8GgZVDi2wBQAAAAAAAAP4/lkOLbOf7BkD2KFyPwvX0P0Jg5dAi2+E/gZVDi2zn+T99PzVeukkEQM3MzMzMzPg/7FG4HoXrCEB/arx0kxjsPyGwcmiR7fA/7FG4HoXr9T81XrpJDAL5P42XbhKDwPg/YhBYObTI+j8dWmQ7308SQByxFp8CABRAVOOlm8Qg/j+e76fGS7cRQByxFp8CABRAHLEWnwIAFEAAAAAAAAD+P5HtfD81XuI/AAAAAAAAD0DD9Shcj8IFQDeJQWDl0Po/2c73U+MlEEB56SYxCKz+PxyxFp8CABRAVg4tsp3v/T8MAiuHFtnuP8UgsHJoke0/6SYxCKwcAUDNzMzMzMz4P0jhehSuR/U/AAAAAAAABkAUrkfhehQDQIcW2c73U/k/j8L1KFyP5j9iEFg5tMgBQGDl0CLbeRBABFYOLbKd/T8csRafAgAUQJHtfD81XvY/5dAi2/l+/D+wcmiR7Xz5PwAAAAAAAPQ/8KfGSzeJ/z97FK5H4XrkP4lBYOXQIv8/AAAAAAAA+j81XrpJDALrPwRWDi2yneM/2/l+arx0DUDwp8ZLN4nzP1pkO99Pjes/mG4Sg8DKAECHFtnO91P7PwAAAAAAAPw/qMZLN4lB9D/6fmq8dJMGQARWDi2ynQBAeekmMQis8D++nxov3SQBQBkEVg4tsuk/DAIrhxbZBUAAAAAAAAADQARWDi2ynec/Gy/dJAaB/T9cj8L1KFwLQI2XbhKDwPQ/7FG4HoXrAUC0yHa+nxr5P2Q730+Nlw9ACKwcWmQ7+T/Jdr6fGi/zPycxCKwcWglAAAAAAAAAAUBCYOXQItvlP9Ei2/l+avo/wcqhRbbz7T/RItv5fmrsP1pkO99Pjf0/XrpJDAIrCkCwcmiR7Xz1PxyxFp8CABRAVg4tsp3v+T8csRafAgAUQLx0kxgEVgJAAAAAAAAA8j+8dJMYBFYMQCuHFtnO9wxAAAAAAAAA+j8UrkfhehTwP0SLbOf7qeU/EoPAyqFF4j+R7Xw/NV76P7x0kxgEVgBAMQisHFpkC0AK16NwPQr9P1yPwvUoXAhAbef7qfHSAkAMAiuHFtnwPx1aZDvfTwdA8KfGSzeJ+T8X2c73U+PxP4lBYOXQIvM/x0s3iUFgCkCsHFpkO9/1P9NNYhBYOfA/YOXQItv58j+HFtnO91P1P83MzMzMzOA/+FPjpZvEAkAAAAAAAADoP2iR7Xw/Nfw/WDm0yHa+C0C+nxov3SQEQPLSTWIQWOE/mpmZmZmZ5T/NzMzMzMz2P6jGSzeJQfA/yXa+nxovAkBg5dAi2/kKQDVeukkMAvM/mpmZmZmZ5T8pXI/C9SgAQL6fGi/dJO4/YhBYObTI7j8AAAAAAAACQBkEVg4tsgRA5dAi2/l+8D+Nl24Sg8DyP5HtfD81Xvo/CtejcD0K9z8csRafAgAUQHe+nxov3fg/JzEIrBxa8j8ZBFYOLbLzP76fGi/dJAJAd76fGi/d/D+sHFpkO98IQAIrhxbZzvc/tMh2vp8a6z/8qfHSTWLkP/YoXI/C9QRAoBov3SSGEUAfhetRuB4CQNV46SYxCOw/pHA9CtejC0DRItv5fmr2P7x0kxgEVg1ARIts5/upBUA1XrpJDAL7Pxsv3SQGgQdAvp8aL90kBEAIrBxaZDvrP2ZmZmZmZgVAJQaBlUOL9j/Xo3A9CtcGQGiR7Xw/Nfg/AAAAAAAAAkAlBoGVQ4vcPwAAAAAAABJA8tJNYhBYAkAAAAAAAAACQBSuR+F6FPY/NV66SQwC7z+YbhKDwMr5P0oMAiuHFvc/AAAAAAAAEkCamZmZmZnzP0w3iUFg5QNARrbz/dR49T8MAiuHFtkLQHWTGARWDuk/c2iR7Xw/8T8bL90kBoH3P1TjpZvEIP4/AAAAAAAA+j+Nl24Sg8DiPzEIrBxaZP0/d76fGi/d/D8AAAAAAAD8P8HKoUW28/U/mpmZmZmZ8T956SYxCKwCQLpJDAIrh/Q/AAAAAAAADECiRbbz/dT4P/Cnxks3iQRAsHJoke186z8GgZVDi2znP0SLbOf7qQRAf2q8dJMY5D9mZmZmZmYTQNejcD0K1/M/XI/C9Shc+T+JQWDl0CLvP6wcWmQ73/0/ukkMAiuHC0B56SYxCKz6PwaBlUOLbPE/N4lBYOVQE0AnMQisHFoAQNv5fmq8dAJA9ihcj8L14D+PwvUoXI/8PxyxFp8CABRAHLEWnwIAFEBeukkMAivrPxyxFp8CABRAWDm0yHa+A0A1XrpJDAL5P/hT46WbxAJACKwcWmQ73z+HFtnO91P3P7gehetRuAVAHLEWnwIAFEAAAAAAAADsP+kmMQisHOY/fT81XrpJ9j+sHFpkO98FQMdLN4lBYAJAbef7qfHS5T99PzVeuknyPy/dJAaBlfk/Di2yne+n8j+YbhKDwMoAQD81XrpJDOY/001iEFg58D8fhetRuB4BQAaBlUOLbAxATDeJQWDl7D+wcmiR7Xz5P6abxCCwcuQ/2/l+arx0AUB9PzVeukkEQGq8dJMYBOo/kxgEVg4t/j8QWDm0yHb6PzVeukkMAvE/AiuHFtnOAEAEVg4tsp33PwAAAAAAAPI/AAAAAAAA/D91kxgEVg75P/hT46WbxPI/vHSTGARWAkAAAAAAAAAMQBsv3SQGgfs/F9nO91Pj/z9U46WbxCAEQAAAAAAAAAhABoGVQ4ts+T/y0k1iEFgBQK5H4XoUrv8/sHJoke18DED4U+Olm8T+Pylcj8L1KAlAAAAAAAAA4D8AAAAAAAD6PyPb+X5qvPo/aJHtfD819j8EVg4tsp33PxSuR+F6FANAg8DKoUW28T9OYhBYObQKQCPb+X5qvP4/hetRuB6FB0C4HoXrUbj4P+f7qfHSTfg/HLEWnwIAFECiRbbz/dQJQOXQItv5fvo/GQRWDi2yAUDdJAaBlUP7P5huEoPAyv8/AAAAAAAA+j+mm8QgsHIQQNejcD0K1wpAQmDl0CLb9z+F61G4HoUOQAaBlUOLbP0/yXa+nxov7T/2KFyPwnUQQDm0yHa+nwFAsp3vp8ZL+T8Sg8DKoUXmP6RwPQrXowVAIbByaJHtBEApXI/C9SgPQAAAAAAAAOg/0SLb+X5q/D/dJAaBlUP7P3npJjEIrPg/tMh2vp8a9T/RItv5fmrcPzMzMzMzM/c/IbByaJHtAUAAAAAAAAD+P3e+nxov3f4/JzEIrBxa7D8GgZVDi2z9PwAAAAAAAAJAc2iR7Xw//T9qvHSTGAT2P9NNYhBYOQVABoGVQ4ts1z8UrkfhehT0P5MYBFYOLfY/lkOLbOd7E0D6fmq8dJP8P4XrUbgehfU/8KfGSzeJCEC6SQwCK4fyP3Noke18P+0/rBxaZDvfAEAj2/l+arwEQGIQWDm0yAtAi2zn+6nx+j++nxov3ST4Pylcj8L1KPI/aJHtfD81CEA730+Nl+4QQOOlm8QgsBNA5dAi2/l+/j+amZmZmZkDQG3n+6nx0uE/4XoUrkfh6j8AAAAAAAAGQLx0kxgEVv4/30+Nl24SBkAv3SQGgZUJQLx0kxgEVgdA7nw/NV665T89CtejcD3+P83MzMzMzOw/zczMzMzMCkASg8DKoUX8P4XrUbgehe8/PzVeukkMAEDdJAaBlUPjP05iEFg5tP4/+n5qvHST/j+WQ4ts5/sKQAAAAAAAAAJAc2iR7Xw/B0BxPQrXo3DzP9v5fmq8dAdAH4XrUbge8T8dWmQ7308FQM/3U+Olm+g/ObTIdr6fAUCTGARWDi3wP5ZDi2zn+xJATDeJQWDl5D/+1HjpJjHyP4lBYOXQIgFAvHSTGARWAUBYObTIdr7/P2Dl0CLb+QBAN4lBYOXQAUASg8DKoUUFQAAAAAAAANg/MzMzMzMzBUAxCKwcWmTxPxfZzvdT490/AAAAAAAA/j+DwMqhRbbjP3E9CtejcAtAj8L1KFyP+j8csRafAgAUQAAAAAAAAPY/y6FFtvP97D+kcD0K16PoPxkEVg4tsvc/HVpkO99P7T++nxov3ST4PzeJQWDl0Pg/JQaBlUOL7D8IrBxaZDsBQG8Sg8DKoeE/L90kBoGV/z9OYhBYObT4P3npJjEIrPY/sHJoke187z/RItv5fmr4P/Cnxks3ifE/nMQgsHJo+z8OLbKd76fwPzm0yHa+n/g/mpmZmZmZBUDsUbgehesGQM3MzMzMzApA1XjpJjEI9j+PwvUoXI8CQBsv3SQGgQ9A5dAi2/l+5j956SYxCKz2PzVeukkMAvk/AAAAAAAAEkArhxbZzvf/P+XQItv5fu4/AiuHFtnO6z8AAAAAAAD+P1g5tMh2vgFAN4lBYOXQ4j8bL90kBoH1P0oMAiuHFgNAWDm0yHa++T9t5/up8dL1PwrXo3A9Cvc/sHJoke18+T8MAiuHFtn4PzeJQWDl0PY/HVpkO99P8z/+1HjpJjH0P99PjZduEgFATmIQWDm08j/ufD81Xrr9P3sUrkfhegxAAAAAAAAA+D+mm8QgsHLsP+58PzVeugRAHLEWnwIAFEDRItv5fmr0P5HtfD81XuY/7FG4HoXr9T9MN4lBYOUFQHE9CtejcO0/IbByaJHt8j8730+Nl24QQBSuR+F6FPA/nu+nxku3E0D2KFyPwvXyPylcj8L1KPI/+FPjpZvE7D8csRafAgAUQByxFp8CABRAnMQgsHJo9z8pXI/C9SjyPwAAAAAAAAZAZmZmZmZm8D/wp8ZLN4n3PwAAAAAAAAJA5/up8dJN9j9U46WbxCD8Pz0K16NwPeI/xSCwcmiRBUCiRbbz/dQFQPyp8dJNYug/d76fGi9dE0BMN4lBYOX8PwrXo3A9CgNAAAAAAAAA9j8CK4cW2c79P3e+nxov3f4/CtejcD0K6z+e76fGSzfxP8P1KFyPwuE/001iEFg5BUCq8dJNYhAPQAIrhxbZThNAGQRWDi2y/z9Ei2zn+6ntPxkEVg4tsgtAokW28/3U2D++nxov3STiP5huEoPAyvM/arx0kxgE7j9t5/up8dLtPylcj8L1KNw/vp8aL90k5j++nxov3SQIQLx0kxgEVgRAYhBYObTIAECF61G4HoX9P7ByaJHtfOc/H4XrUbgeC0CYbhKDwMrtP8l2vp8aLwBAhxbZzvdT9T8OLbKd76cFQJ7vp8ZLNwNAfT81XrpJ9j89CtejcD3iPx1aZDvfT/s/30+Nl24S8z+R7Xw/NV78P166SQwCKwdAAiuHFtnOB0Av3SQGgZXxP5qZmZmZmfc/yXa+nxov6T/ZzvdT46X5P3e+nxov3eg/cT0K16PwEkAcsRafAgAUQLKd76fGS/U/7FG4HoXr7T+cxCCwcmgGQPCnxks3iQRACtejcD0KB0Atsp3vp8b5P+xRuB6F6/U/16NwPQrX4z+Nl24Sg8ARQEJg5dAi2+U/K4cW2c73BEAbL90kBoHxP6wcWmQ7XxBA1XjpJjEI/D9vEoPAyqH3PwAAAAAAAAdAbef7qfHS7T9qvHSTGATuPy/dJAaBlfs/sHJoke18CUBvEoPAyqH9P3e+nxov3eQ/jZduEoPA/D9GtvP91Hj5P+f7qfHSTfg/i2zn+6nx5j8EVg4tsp0DQN0kBoGVQwJABoGVQ4ts/z9iEFg5tMj+P0oMAiuHFuU/L90kBoGVBkDZzvdT46X9PycxCKwcWuw/mpmZmZmZ5T+LbOf7qfH2P7TIdr6fGvM/3SQGgZVDAUBkO99PjZcEQKwcWmQ73w1Ake18PzVe+D8OLbKd76cDQJqZmZmZmek/wcqhRbbz9T8nMQisHFoFQDm0yHa+nw9A+FPjpZvEAUAcsRafAgAUQByxFp8CABRAbxKDwMqhAkAtsp3vp8YEQKjGSzeJQQFA2/l+arx0A0CDwMqhRbYBQAAAAAAAAPI/FK5H4XoUD0BmZmZmZmYQQBSuR+F6FPo/AAAAAAAAFEAbL90kBoECQCcxCKwcWug/8tJNYhBYEkDn+6nx0k0NQFg5tMh2vgdAjZduEoPA4j+JQWDl0CLrP/hT46WbxPI/qMZLN4lB9D+HFtnO91P7PxfZzvdT4/c/CtejcD0K8z8AAAAAAAAOQJhuEoPAygZAnu+nxks3+z8csRafAgAUQC/dJAaBle8/2/l+arx04z8MAiuHFtn2P7bz/dR46QFAAAAAAAAA9j9t5/up8dIHQNV46SYxCPI/VOOlm8Qg8j8GgZVDi2zzP6wcWmQ73wNAHVpkO99PEEC6SQwCK4cMQDVeukkMAvE/BoGVQ4ts8z8Sg8DKoUUDQPhT46WbxANAqvHSTWIQ9j8EVg4tsp3rPxyxFp8CABRA5/up8dJNAUCmm8QgsHIIQIcW2c73U/k/L90kBoEVEkBmZmZmZmbuP7bz/dR46fA/30+Nl24S6z9oke18PzUDQAAAAAAAAPo/tvP91Hjp7j8bL90kBoHtP6jGSzeJQQJA/tR46SYx8j8UrkfhehTmPxyxFp8CABRAAAAAAAAAAkDXo3A9Ctf7PxyxFp8CABRAPQrXo3A9BEBoke18PzUGQDeJQWDl0AZATDeJQWDl7D/8qfHSTWL+P4cW2c73UwlA9P3UeOkmCECYbhKDwMrtP76fGi/dJO4/tMh2vp8aAUAAAAAAAAD+PxyxFp8CABRAdZMYBFYOCkAAAAAAAAAIQKAaL90kBvc/HLEWnwIAFEBU46WbxCAFQFYOLbKd7+M/aJHtfD819j93vp8aL93wP1K4HoXrUeQ/HLEWnwIAFECyne+nxkvvP/yp8dJNYvQ/2c73U+Ol9T9g5dAi2/n4P6wcWmQ73xFAzczMzMzM5D99PzVeukn4P42XbhKDwP4/5dAi2/l++D+6SQwCK4f6P7x0kxgEVgRAI9v5fmq8AkAAAAAAAADyP8uhRbbz/fI/EoPAyqFFA0BEi2zn+6kGQAAAAAAAABJAeekmMQis4D8X2c73U+PhP/7UeOkmMew/tvP91HjpA0DByqFFtvPlPzVeukkMAvk/N4lBYOXQBUAIrBxaZDsLQBsv3SQGgQFAO99PjZdu5j8csRafAgAUQAAAAAAAAPo/F9nO91Pj8T9vEoPAyqHxP1g5tMh2vuc/UI2XbhKD8D/wp8ZLN4n7Px+F61G4HvU/z/dT46Wb+j9eukkMAivxP90kBoGVQ/E/EoPAyqFF7j/0/dR46SblPx1aZDvfT/k/Di2yne+n7j+4HoXrUbjyP/LSTWIQWPs/7nw/NV667T8AAAAAAAD6PzVeukkMAv8/8KfGSzeJ9T8ZBFYOLbLzP1CNl24Sg/I/uB6F61G46j+BlUOLbOfjPwIrhxbZzuc/N4lBYOXQ/D+HFtnO91P/PxyxFp8CABRASgwCK4cW9z+q8dJNYhD0P0Jg5dAi2+k/SgwCK4cW5T/dJAaBlUP5PxyxFp8CABRAIbByaJHt/D9MN4lBYOUCQHsUrkfhevA/JzEIrBxaAUBEi2zn+6kOQByxFp8CABRAuB6F61G46j/0/dR46SYBQAAAAAAAAPA/nu+nxks36T8IrBxaZDvvPyUGgZVDi/w/K4cW2c73BkDP91PjpZsFQK5H4XoUrv0/y6FFtvP97D9KDAIrhxYBQBfZzvdT4/M/ZmZmZmZmAEDwp8ZLN4kEQNEi2/l+ag9AhxbZzvdT9T9WDi2yne/9PzvfT42XbgRAmG4Sg8DKC0BGtvP91Hj7PwAAAAAAAPI/O99PjZdu6j+0yHa+nxrfP9v5fmq8dPU/qvHSTWIQAkAcsRafAgAUQM3MzMzMzBJAqvHSTWIQAkBI4XoUrkf5PyPb+X5qvPI/9P3UeOmmEECHFtnO91PzP7TIdr6fGgJAWmQ730+N8z8AAAAAAADwP1yPwvUoXAJAhxbZzvdT/z8zMzMzMzPrP5MYBFYOLQVAuB6F61E4EkApXI/C9Sj8P8HKoUW28+k/ObTIdr6f+j8730+Nl27qPy2yne+nxgVA46WbxCCwBUD0/dR46SYDQLByaJHtfPs/sHJoke188z8tsp3vp8b7P76fGi/dJANAN4lBYOXQ4j8AAAAAAAAHQDm0yHa+n+Y/30+Nl24S/T/+1HjpJjHyPyGwcmiR7QFAtMh2vp8aDEC0yHa+nxoIQG3n+6nx0uk/0SLb+X5q+D/LoUW28/0CQE5iEFg5tPw/HLEWnwIAFEAIrBxaZDv7P6abxCCwcvo/30+Nl24SAkBaZDvfT435PxSuR+F6FA1AiUFg5dAi9T++nxov3SQOQDVeukkMAu8/sp3vp8ZLCUCBlUOLbOcJQAAAAAAAAA9AQmDl0CLb9z8csRafAgAUQAAAAAAAAAJAz/dT46Wb/D8AAAAAAADsPzeJQWDl0PQ/HLEWnwIAFEDsUbgehesLQFyPwvUoXOc/+n5qvHSTA0DVeOkmMQgGQBkEVg4tsgNATDeJQWDlAkD6fmq8dJMCQHWTGARWDuE/f2q8dJMY+j9eukkMAivnP8P1KFyPwgJAAAAAAAAA+D/6fmq8dJPyPzVeukkMAv0/XI/C9Shc8z/8qfHSTWLsPzMzMzMzM/0/L90kBoGV/z/l0CLb+X70P3sUrkfheug/AAAAAAAACEAcsRafAgAUQNnO91Pjpfk/DAIrhxbZCkCe76fGSzf5P+XQItv5fv4/IbByaJHt/D956SYxCKzwPxfZzvdT4/E/dZMYBFYO/z/n+6nx0k0EQLgehetRuPQ/N4lBYOXQ8j/Jdr6fGi8LQDvfT42XbgtASOF6FK5H/z83iUFg5dDqP76fGi/dJO4/5dAi2/l+9j9YObTIdr75P0oMAiuHFvs/30+Nl24SBkAxCKwcWmT3P8l2vp8aLwBApHA9Ctej+D+uR+F6FK71P6wcWmQ73wJAz/dT46Wb9D8rhxbZzvcDQAAAAAAAAAhA2/l+arx09T/jpZvEILAIQAAAAAAAAAxA7nw/NV668T+6SQwCK4f+P5zEILByaPE/tMh2vp8a9z+q8dJNYhD6P9NNYhBYOfo/XI/C9Shc7z8IrBxaZDv1P9nO91PjpQZAfT81XrpJEEBCYOXQItsDQKRwPQrXo+Q/HLEWnwIAFEC0yHa+nxr/PwAAAAAAAPY/ke18PzVe9D+yne+nxkvrP8l2vp8aL/8/46WbxCCwAUCNl24Sg8D+P65H4XoULhBAhetRuB6F5z8ZBFYOLbICQDVeukkMAvM/ZmZmZmZm5j9zaJHtfD/9PxyxFp8CABRACKwcWmQ7+T+iRbbz/dQDQByxFp8CABRAbxKDwMqhDEBoke18PzXiP/7UeOkmMQhAqvHSTWIQ9D+28/3UeOkOQH9qvHSTGPw/rkfhehSu8T9WDi2yne8OQAAAAAAAAPY/sp3vp8ZLAkCBlUOLbOf3Py/dJAaBlec/HLEWnwIAFECJQWDl0CL1P65H4XoUrus/nu+nxku3EEAEVg4tsp37P4GVQ4ts5+8/MzMzMzMz5z8hsHJoke38P3npJjEIrAhAqvHSTWIQB0CTGARWDi0IQLTIdr6fGgdAAAAAAAAA8D+kcD0K16MCQIGVQ4ts5/U/jZduEoPAAEDufD81XroDQHe+nxov3eQ/2c73U+OlE0Dwp8ZLN4kMQH0/NV66Sfo/001iEFg57D+LbOf7qfH4P3npJjEIrP4/NV66SQwC6z/RItv5fmr+PwAAAAAAAPI/O99PjZdu8j9WDi2yne/7Pylcj8L1KPI//Knx0k1i+D+gGi/dJAYEQDEIrBxaZP0/HLEWnwIAFECsHFpkO98IQKabxCCwcgJA7FG4HoXr5T8xCKwcWmQFQHNoke18P/c/j8L1KFyPBkDFILByaJEGQJHtfD81Xv4/JzEIrBxaBECsHFpkO9/5P2iR7Xw/Nf4/HLEWnwIAFEBoke18PzXuPwaBlUOLbAtApHA9Ctej/j/4U+Olm8QAQM3MzMzMzAJAUI2XbhKDAkCiRbbz/dT0Pw4tsp3vpwBAHLEWnwIAFEBg5dAi2/n6P3Noke18PwJA5/up8dJN9D+uR+F6FK71P99PjZduEvk/46WbxCCwAEArhxbZzncRQLgehetRuOY/0SLb+X5q7D+HFtnO91MLQAisHFpkO/M/g8DKoUW29z8csRafAgAUQAAAAAAAAA5AAAAAAAAA9j8j2/l+arzkPyUGgZVDiwJAg8DKoUW2+T8UrkfhehQEQM3MzMzMzPY/PQrXo3A9/D+8dJMYBFb8P4ts5/up8QhA30+Nl24S6z8EVg4tsp3zP4PAyqFFtv8/AAAAAAAAFED8qfHSTWIGQDMzMzMzM/8/001iEFg5AECHFtnO91MMQMP1KFyPwgRAHLEWnwIAFECYbhKDwMoFQAaBlUOLbP0/d76fGi/dBkAAAAAAAAACQJzEILByaAdARIts5/up4T/2KFyPwvUEQAaBlUOLbPk/8KfGSzeJ+z956SYxCKz+PwAAAAAAAAJAhxbZzvdT8T+TGARWDi3yPwAAAAAAAPA/eekmMQis/j+Nl24Sg8DyPxkEVg4tsvE/RIts5/up6T8xCKwcWmTvP+f7qfHSTQRAYhBYObTI3j8MAiuHFtn+P3Noke18P/U/nMQgsHJo/z9Ei2zn+6kJQFpkO99PjQlAsp3vp8ZLAEDFILByaJEAQMUgsHJokek/HLEWnwIAFEBmZmZmZmYKQD0K16NwPfY/AAAAAAAA/j8730+Nl+4RQGiR7Xw/Nfw/vp8aL90k/D956SYxCKzwP8HKoUW28/k/46WbxCCw+j+YbhKDwMr5P+XQItv5fvg/tMh2vp8a+T+yne+nxkv5P8/3U+Olm+g/EFg5tMh2+j+F61G4HoXnP4ts5/up8fI/YhBYObTI9j8GgZVDi2wGQPT91HjpJvE/hxbZzvdT/T8EVg4tsp3vP8P1KFyPwgJA9ihcj8L19j9I4XoUrkfxP7Kd76fGS+8/j8L1KFyP5j/fT42XbhICQMl2vp8aLwNAbef7qfHS9T9MN4lBYOX8P166SQwCKwNAqMZLN4lBBUC8dJMYBFYAQJqZmZmZmfM/UrgehetRAEBzaJHtfD//P90kBoGVQwFAHLEWnwIAFECoxks3iUHoPwisHFpkOwVATDeJQWDlBUA5tMh2vp/yPzVeukkMAuM/7FG4HoXr9T/fT42XbhLzP/Cnxks3iQNAMzMzMzMz+z8GgZVDi2wGQM3MzMzMzAZA0SLb+X5q8D9I4XoUrkfzPyGwcmiR7QxAg8DKoUU2EkDfT42XbhIBQEjhehSuR/k/XI/C9ShcAUD8qfHSTWLkPyUGgZVDiwNAkxgEVg4t+D/ufD81XrrxPycxCKwcWhFAhxbZzvdT5z9cj8L1KFzxP7TIdr6fGhJATmIQWDm0EkCq8dJNYhAFQPLSTWIQWAVAHLEWnwIAFECJQWDl0CLnPz0K16NwPfg/",
          "dtype": "f8"
         },
         "y": {
          "bdata": "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",
          "dtype": "f8"
         }
        },
        {
         "line": {
          "color": "green",
          "dash": "dash"
         },
         "mode": "lines",
         "type": "scatter",
         "x": [
          0.14999,
          5.00001
         ],
         "y": [
          0.14999,
          5.00001
         ]
        }
       ],
       "layout": {
        "height": 600,
        "showlegend": false,
        "template": {
         "data": {
          "bar": [
           {
            "error_x": {
             "color": "#2a3f5f"
            },
            "error_y": {
             "color": "#2a3f5f"
            },
            "marker": {
             "line": {
              "color": "#E5ECF6",
              "width": 0.5
             },
             "pattern": {
              "fillmode": "overlay",
              "size": 10,
              "solidity": 0.2
             }
            },
            "type": "bar"
           }
          ],
          "barpolar": [
           {
            "marker": {
             "line": {
              "color": "#E5ECF6",
              "width": 0.5
             },
             "pattern": {
              "fillmode": "overlay",
              "size": 10,
              "solidity": 0.2
             }
            },
            "type": "barpolar"
           }
          ],
          "carpet": [
           {
            "aaxis": {
             "endlinecolor": "#2a3f5f",
             "gridcolor": "white",
             "linecolor": "white",
             "minorgridcolor": "white",
             "startlinecolor": "#2a3f5f"
            },
            "baxis": {
             "endlinecolor": "#2a3f5f",
             "gridcolor": "white",
             "linecolor": "white",
             "minorgridcolor": "white",
             "startlinecolor": "#2a3f5f"
            },
            "type": "carpet"
           }
          ],
          "choropleth": [
           {
            "colorbar": {
             "outlinewidth": 0,
             "ticks": ""
            },
            "type": "choropleth"
           }
          ],
          "contour": [
           {
            "colorbar": {
             "outlinewidth": 0,
             "ticks": ""
            },
            "colorscale": [
             [
              0,
              "#0d0887"
             ],
             [
              0.1111111111111111,
              "#46039f"
             ],
             [
              0.2222222222222222,
              "#7201a8"
             ],
             [
              0.3333333333333333,
              "#9c179e"
             ],
             [
              0.4444444444444444,
              "#bd3786"
             ],
             [
              0.5555555555555556,
              "#d8576b"
             ],
             [
              0.6666666666666666,
              "#ed7953"
             ],
             [
              0.7777777777777778,
              "#fb9f3a"
             ],
             [
              0.8888888888888888,
              "#fdca26"
             ],
             [
              1,
              "#f0f921"
             ]
            ],
            "type": "contour"
           }
          ],
          "contourcarpet": [
           {
            "colorbar": {
             "outlinewidth": 0,
             "ticks": ""
            },
            "type": "contourcarpet"
           }
          ],
          "heatmap": [
           {
            "colorbar": {
             "outlinewidth": 0,
             "ticks": ""
            },
            "colorscale": [
             [
              0,
              "#0d0887"
             ],
             [
              0.1111111111111111,
              "#46039f"
             ],
             [
              0.2222222222222222,
              "#7201a8"
             ],
             [
              0.3333333333333333,
              "#9c179e"
             ],
             [
              0.4444444444444444,
              "#bd3786"
             ],
             [
              0.5555555555555556,
              "#d8576b"
             ],
             [
              0.6666666666666666,
              "#ed7953"
             ],
             [
              0.7777777777777778,
              "#fb9f3a"
             ],
             [
              0.8888888888888888,
              "#fdca26"
             ],
             [
              1,
              "#f0f921"
             ]
            ],
            "type": "heatmap"
           }
          ],
          "histogram": [
           {
            "marker": {
             "pattern": {
              "fillmode": "overlay",
              "size": 10,
              "solidity": 0.2
             }
            },
            "type": "histogram"
           }
          ],
          "histogram2d": [
           {
            "colorbar": {
             "outlinewidth": 0,
             "ticks": ""
            },
            "colorscale": [
             [
              0,
              "#0d0887"
             ],
             [
              0.1111111111111111,
              "#46039f"
             ],
             [
              0.2222222222222222,
              "#7201a8"
             ],
             [
              0.3333333333333333,
              "#9c179e"
             ],
             [
              0.4444444444444444,
              "#bd3786"
             ],
             [
              0.5555555555555556,
              "#d8576b"
             ],
             [
              0.6666666666666666,
              "#ed7953"
             ],
             [
              0.7777777777777778,
              "#fb9f3a"
             ],
             [
              0.8888888888888888,
              "#fdca26"
             ],
             [
              1,
              "#f0f921"
             ]
            ],
            "type": "histogram2d"
           }
          ],
          "histogram2dcontour": [
           {
            "colorbar": {
             "outlinewidth": 0,
             "ticks": ""
            },
            "colorscale": [
             [
              0,
              "#0d0887"
             ],
             [
              0.1111111111111111,
              "#46039f"
             ],
             [
              0.2222222222222222,
              "#7201a8"
             ],
             [
              0.3333333333333333,
              "#9c179e"
             ],
             [
              0.4444444444444444,
              "#bd3786"
             ],
             [
              0.5555555555555556,
              "#d8576b"
             ],
             [
              0.6666666666666666,
              "#ed7953"
             ],
             [
              0.7777777777777778,
              "#fb9f3a"
             ],
             [
              0.8888888888888888,
              "#fdca26"
             ],
             [
              1,
              "#f0f921"
             ]
            ],
            "type": "histogram2dcontour"
           }
          ],
          "mesh3d": [
           {
            "colorbar": {
             "outlinewidth": 0,
             "ticks": ""
            },
            "type": "mesh3d"
           }
          ],
          "parcoords": [
           {
            "line": {
             "colorbar": {
              "outlinewidth": 0,
              "ticks": ""
             }
            },
            "type": "parcoords"
           }
          ],
          "pie": [
           {
            "automargin": true,
            "type": "pie"
           }
          ],
          "scatter": [
           {
            "fillpattern": {
             "fillmode": "overlay",
             "size": 10,
             "solidity": 0.2
            },
            "type": "scatter"
           }
          ],
          "scatter3d": [
           {
            "line": {
             "colorbar": {
              "outlinewidth": 0,
              "ticks": ""
             }
            },
            "marker": {
             "colorbar": {
              "outlinewidth": 0,
              "ticks": ""
             }
            },
            "type": "scatter3d"
           }
          ],
          "scattercarpet": [
           {
            "marker": {
             "colorbar": {
              "outlinewidth": 0,
              "ticks": ""
             }
            },
            "type": "scattercarpet"
           }
          ],
          "scattergeo": [
           {
            "marker": {
             "colorbar": {
              "outlinewidth": 0,
              "ticks": ""
             }
            },
            "type": "scattergeo"
           }
          ],
          "scattergl": [
           {
            "marker": {
             "colorbar": {
              "outlinewidth": 0,
              "ticks": ""
             }
            },
            "type": "scattergl"
           }
          ],
          "scattermap": [
           {
            "marker": {
             "colorbar": {
              "outlinewidth": 0,
              "ticks": ""
             }
            },
            "type": "scattermap"
           }
          ],
          "scattermapbox": [
           {
            "marker": {
             "colorbar": {
              "outlinewidth": 0,
              "ticks": ""
             }
            },
            "type": "scattermapbox"
           }
          ],
          "scatterpolar": [
           {
            "marker": {
             "colorbar": {
              "outlinewidth": 0,
              "ticks": ""
             }
            },
            "type": "scatterpolar"
           }
          ],
          "scatterpolargl": [
           {
            "marker": {
             "colorbar": {
              "outlinewidth": 0,
              "ticks": ""
             }
            },
            "type": "scatterpolargl"
           }
          ],
          "scatterternary": [
           {
            "marker": {
             "colorbar": {
              "outlinewidth": 0,
              "ticks": ""
             }
            },
            "type": "scatterternary"
           }
          ],
          "surface": [
           {
            "colorbar": {
             "outlinewidth": 0,
             "ticks": ""
            },
            "colorscale": [
             [
              0,
              "#0d0887"
             ],
             [
              0.1111111111111111,
              "#46039f"
             ],
             [
              0.2222222222222222,
              "#7201a8"
             ],
             [
              0.3333333333333333,
              "#9c179e"
             ],
             [
              0.4444444444444444,
              "#bd3786"
             ],
             [
              0.5555555555555556,
              "#d8576b"
             ],
             [
              0.6666666666666666,
              "#ed7953"
             ],
             [
              0.7777777777777778,
              "#fb9f3a"
             ],
             [
              0.8888888888888888,
              "#fdca26"
             ],
             [
              1,
              "#f0f921"
             ]
            ],
            "type": "surface"
           }
          ],
          "table": [
           {
            "cells": {
             "fill": {
              "color": "#EBF0F8"
             },
             "line": {
              "color": "white"
             }
            },
            "header": {
             "fill": {
              "color": "#C8D4E3"
             },
             "line": {
              "color": "white"
             }
            },
            "type": "table"
           }
          ]
         },
         "layout": {
          "annotationdefaults": {
           "arrowcolor": "#2a3f5f",
           "arrowhead": 0,
           "arrowwidth": 1
          },
          "autotypenumbers": "strict",
          "coloraxis": {
           "colorbar": {
            "outlinewidth": 0,
            "ticks": ""
           }
          },
          "colorscale": {
           "diverging": [
            [
             0,
             "#8e0152"
            ],
            [
             0.1,
             "#c51b7d"
            ],
            [
             0.2,
             "#de77ae"
            ],
            [
             0.3,
             "#f1b6da"
            ],
            [
             0.4,
             "#fde0ef"
            ],
            [
             0.5,
             "#f7f7f7"
            ],
            [
             0.6,
             "#e6f5d0"
            ],
            [
             0.7,
             "#b8e186"
            ],
            [
             0.8,
             "#7fbc41"
            ],
            [
             0.9,
             "#4d9221"
            ],
            [
             1,
             "#276419"
            ]
           ],
           "sequential": [
            [
             0,
             "#0d0887"
            ],
            [
             0.1111111111111111,
             "#46039f"
            ],
            [
             0.2222222222222222,
             "#7201a8"
            ],
            [
             0.3333333333333333,
             "#9c179e"
            ],
            [
             0.4444444444444444,
             "#bd3786"
            ],
            [
             0.5555555555555556,
             "#d8576b"
            ],
            [
             0.6666666666666666,
             "#ed7953"
            ],
            [
             0.7777777777777778,
             "#fb9f3a"
            ],
            [
             0.8888888888888888,
             "#fdca26"
            ],
            [
             1,
             "#f0f921"
            ]
           ],
           "sequentialminus": [
            [
             0,
             "#0d0887"
            ],
            [
             0.1111111111111111,
             "#46039f"
            ],
            [
             0.2222222222222222,
             "#7201a8"
            ],
            [
             0.3333333333333333,
             "#9c179e"
            ],
            [
             0.4444444444444444,
             "#bd3786"
            ],
            [
             0.5555555555555556,
             "#d8576b"
            ],
            [
             0.6666666666666666,
             "#ed7953"
            ],
            [
             0.7777777777777778,
             "#fb9f3a"
            ],
            [
             0.8888888888888888,
             "#fdca26"
            ],
            [
             1,
             "#f0f921"
            ]
           ]
          },
          "colorway": [
           "#636efa",
           "#EF553B",
           "#00cc96",
           "#ab63fa",
           "#FFA15A",
           "#19d3f3",
           "#FF6692",
           "#B6E880",
           "#FF97FF",
           "#FECB52"
          ],
          "font": {
           "color": "#2a3f5f"
          },
          "geo": {
           "bgcolor": "white",
           "lakecolor": "white",
           "landcolor": "#E5ECF6",
           "showlakes": true,
           "showland": true,
           "subunitcolor": "white"
          },
          "hoverlabel": {
           "align": "left"
          },
          "hovermode": "closest",
          "mapbox": {
           "style": "light"
          },
          "paper_bgcolor": "white",
          "plot_bgcolor": "#E5ECF6",
          "polar": {
           "angularaxis": {
            "gridcolor": "white",
            "linecolor": "white",
            "ticks": ""
           },
           "bgcolor": "#E5ECF6",
           "radialaxis": {
            "gridcolor": "white",
            "linecolor": "white",
            "ticks": ""
           }
          },
          "scene": {
           "xaxis": {
            "backgroundcolor": "#E5ECF6",
            "gridcolor": "white",
            "gridwidth": 2,
            "linecolor": "white",
            "showbackground": true,
            "ticks": "",
            "zerolinecolor": "white"
           },
           "yaxis": {
            "backgroundcolor": "#E5ECF6",
            "gridcolor": "white",
            "gridwidth": 2,
            "linecolor": "white",
            "showbackground": true,
            "ticks": "",
            "zerolinecolor": "white"
           },
           "zaxis": {
            "backgroundcolor": "#E5ECF6",
            "gridcolor": "white",
            "gridwidth": 2,
            "linecolor": "white",
            "showbackground": true,
            "ticks": "",
            "zerolinecolor": "white"
           }
          },
          "shapedefaults": {
           "line": {
            "color": "#2a3f5f"
           }
          },
          "ternary": {
           "aaxis": {
            "gridcolor": "white",
            "linecolor": "white",
            "ticks": ""
           },
           "baxis": {
            "gridcolor": "white",
            "linecolor": "white",
            "ticks": ""
           },
           "bgcolor": "#E5ECF6",
           "caxis": {
            "gridcolor": "white",
            "linecolor": "white",
            "ticks": ""
           }
          },
          "title": {
           "x": 0.05
          },
          "xaxis": {
           "automargin": true,
           "gridcolor": "white",
           "linecolor": "white",
           "ticks": "",
           "title": {
            "standoff": 15
           },
           "zerolinecolor": "white",
           "zerolinewidth": 2
          },
          "yaxis": {
           "automargin": true,
           "gridcolor": "white",
           "linecolor": "white",
           "ticks": "",
           "title": {
            "standoff": 15
           },
           "zerolinecolor": "white",
           "zerolinewidth": 2
          }
         }
        },
        "title": {
         "text": "Vorhersage vs Tatsächlicher wert<br>(MSE = 0.2554)"
        },
        "width": 800
       }
      }
     },
     "metadata": {},
     "output_type": "display_data"
    }
   ],
   "source": [
    "fehler_quadrat = (y_test - y_pred) ** 2\n",
    "\n",
    "fig3 = go.Figure()\n",
    "\n",
    "# Tatsächlichen werte vs. vorhergesagtewerte\n",
    "fig3.add_trace(go.Scatter(\n",
    "    x=y_test,\n",
    "    y=y_pred,\n",
    "    mode=\"markers\",\n",
    "    marker=dict(\n",
    "        size=6,\n",
    "        color=fehler_quadrat,\n",
    "        colorscale=\"Reds\",\n",
    "        colorbar=dict(title=\"Quadratische Fehler\")\n",
    "    )\n",
    "))\n",
    "\n",
    "fig3.add_trace(go.Scatter(\n",
    "    x=[min(y_test), max(y_test)],\n",
    "    y=[min(y_test), max(y_test)],\n",
    "    mode=\"lines\",\n",
    "    line=dict(color=\"green\", dash=\"dash\")\n",
    "))\n",
    "\n",
    "fig3.update_layout(\n",
    "    title=f\"Vorhersage vs Tatsächlicher wert<br>(MSE = {mse:.4f})\",\n",
    "    width=800,\n",
    "    height=600,\n",
    "    showlegend=False\n",
    ")\n",
    "\n",
    "fig3"
   ]
  },
  {
   "cell_type": "markdown",
   "metadata": {},
   "source": [
    "# RMSE (Wurzel des mittleren quadratischen Fehlers)"
   ]
  },
  {
   "cell_type": "code",
   "execution_count": 13,
   "metadata": {},
   "outputs": [
    {
     "name": "stdout",
     "output_type": "stream",
     "text": [
      "Root Mean Squared Error (RMSE): 0.5053\n"
     ]
    }
   ],
   "source": [
    "rmse = np.sqrt(mse)\n",
    "print(f\"Root Mean Squared Error (RMSE): {rmse:.4f}\")"
   ]
  },
  {
   "cell_type": "code",
   "execution_count": 15,
   "metadata": {},
   "outputs": [
    {
     "data": {
      "text/plain": [
       "0.5053399773665033"
      ]
     },
     "execution_count": 15,
     "metadata": {},
     "output_type": "execute_result"
    }
   ],
   "source": [
    "from sklearn.metrics import root_mean_squared_error\n",
    "\n",
    "rmse = root_mean_squared_error(y_test, y_pred)\n",
    "rmse"
   ]
  },
  {
   "cell_type": "code",
   "execution_count": 18,
   "metadata": {},
   "outputs": [
    {
     "data": {
      "application/vnd.plotly.v1+json": {
       "config": {
        "plotlyServerURL": "https://plot.ly"
       },
       "data": [
        {
         "marker": {
          "color": {
           "bdata": "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",
           "dtype": "f8"
          },
          "colorbar": {
           "title": {
            "text": "Wurzel aus MSE"
           }
          },
          "colorscale": [
           [
            0,
            "#440154"
           ],
           [
            0.1111111111111111,
            "#482878"
           ],
           [
            0.2222222222222222,
            "#3e4989"
           ],
           [
            0.3333333333333333,
            "#31688e"
           ],
           [
            0.4444444444444444,
            "#26828e"
           ],
           [
            0.5555555555555556,
            "#1f9e89"
           ],
           [
            0.6666666666666666,
            "#35b779"
           ],
           [
            0.7777777777777778,
            "#6ece58"
           ],
           [
            0.8888888888888888,
            "#b5de2b"
           ],
           [
            1,
            "#fde725"
           ]
          ],
          "size": 6
         },
         "mode": "markers",
         "showlegend": true,
         "type": "scatter",
         "x": {
          "bdata": "ukkMAiuH3j8dWmQ730/dPxyxFp8CABRAsHJoke18AUA9CtejcD0GQDEIrBxaZPk/g8DKoUW2/z8zMzMzMzP5PzMzMzMzMwtAd76fGi/dEUCDwMqhRbbzPx1aZDvfTwRAaJHtfD81AUCkcD0K16MBQC/dJAaBlQFAmG4Sg8DK9T8lBoGVQ4v8PwAAAAAAAP4/ke18PzVe9j8AAAAAAAD2PwAAAAAAABFA001iEFg5EEBoke18PzX2PxyxFp8CABRAVg4tsp3v+T+mm8QgsHLgP2iR7Xw/Nfg/vHSTGARW7j+HFtnO91MAQOxRuB6F6wxACKwcWmQ76z++nxov3ST2PwAAAAAAAPY/mpmZmZmZEkBYObTIdr4FQPT91HjpJgNAEoPAyqFFC0Cq8dJNYhD4P+XQItv5fvQ/9ihcj8L1+D/ZzvdT46UEQPYoXI/C9ew/N4lBYOXQ5j/6fmq8dJMBQClcj8L1KPg/aJHtfD81B0C4HoXrUbj2P1K4HoXrUQdAO99PjZduBEAxCKwcWmTvP/T91HjpJgRAVg4tsp3v+T9OYhBYObT0P8/3U+Olm+w/FK5H4XoU+D+cxCCwcmj1P+58PzVeuuk/F9nO91PjAECmm8QgsHIEQClcj8L1KAFAHLEWnwIAFEBeukkMAisAQBSuR+F6FOo/BFYOLbKd7z9aZDvfT40GQPCnxks3if0/x0s3iUFgBEBMN4lBYOX2PwAAAAAAAPo/N4lBYOXQ9j+wcmiR7XzrP4GVQ4ts5/0/N4lBYOXQ5j+BlUOLbOf7PwAAAAAAAAJAcT0K16Nw9z8zMzMzMzMQQLx0kxgEVv4/5/up8dJN+j8AAAAAAAALQDMzMzMzM+c/NV66SQwC9z+amZmZmZn5P0w3iUFg5fI/7FG4HoXrDUCe76fGSzcAQLbz/dR46e4/dZMYBFYO5T9iEFg5tMj6P/hT46WbxPw/i2zn+6nx7j99PzVeukkFQPT91HjpJu0/rBxaZDvf3z+gGi/dJAbtP7pJDAIrh/I/fT81XrpJBkAAAAAAAAAEQDMzMzMzM+s/UrgehetR/D+BlUOLbOfvP8/3U+OlmwxAAAAAAAAAE0AX2c73U+MFQMl2vp8aL/0/c2iR7Xw/+T81XrpJDAL/P+Olm8QgsApAXrpJDAIrBUDjpZvEILDiP1g5tMh2vvs/yXa+nxovAUAAAAAAAAAAQLbz/dR46RBAwcqhRbbz7T9aZDvfT43zPzeJQWDl0Po/fT81XrpJCEAlBoGVQ4sFQPT91HjpJgVAj8L1KFyP/j/P91PjpZv4PwrXo3A9CgZATmIQWDm0AED4U+Olm8T2P1K4HoXrUeQ/Di2yne+n7j/wp8ZLN4kCQLgehetRuAFApHA9Ctej7D8UrkfhehQCQByxFp8CABRABFYOLbKdBUDfT42XbhLjPyGwcmiR7f4/x0s3iUFg9T+BlUOLbOf5P5qZmZmZmQxAH4XrUbgeBkAhsHJokW0QQAAAAAAAAA5AbxKDwMqh9T+Nl24Sg8D6Pylcj8L1KARAeekmMQisCEDwp8ZLN4n7PxyxFp8CABRANV66SQwC/z+iRbbz/dTwP3WTGARWDu0/NV66SQwC+z9WDi2yne/5P5huEoPAyvk/AAAAAAAA9j++nxov3SQHQLKd76fGSwZArBxaZDvf+T97FK5H4XoCQAAAAAAAAOw/ObTIdr6f7j9zaJHtfD8DQFTjpZvEIAFAvp8aL90kEUAAAAAAAAD0P6abxCCwcug/tMh2vp8aBUDdJAaBlUPzP9v5fmq8dPE/sp3vp8ZL+z9kO99PjZcEQJqZmZmZmQlAXrpJDAIrB0Av3SQGgZUIQArXo3A9CgpA46WbxCCw4j8K16NwPQrfP7x0kxgEVgFAhxbZzvdT7z/HSzeJQWD5PxSuR+F6FOY/YhBYObTICUBoke18P7USQBSuR+F6FPo/K4cW2c73BkBGtvP91HjhPyGwcmiR7ew/4XoUrkfh+D8AAAAAAAD8P6abxCCwchBAxSCwcmiRCkBkO99PjZf2P/hT46WbxANAexSuR+F6+D/NzMzMzMz4P90kBoGVQw9AzczMzMzM7D9GtvP91Hj/P23n+6nx0uU/HLEWnwIAFEBGtvP91HjtP6JFtvP91AdAHLEWnwIAFEAv3SQGgZUKQMdLN4lBYPs/vHSTGARW+D+PwvUoXI8CQLx0kxgEVvQ/AAAAAAAA7D8Sg8DKoUUAQH0/NV66SQJAeekmMQis8j9eukkMAqsQQGiR7Xw/NQJAO99PjZduBUC0yHa+nxrvPwAAAAAAAPY/AiuHFtnO/z/ByqFFtvPlPzMzMzMzMwxAz/dT46Wb8D9zaJHtfD/xP99PjZduEvU/TmIQWDm0BUCJQWDl0CLvP2ZmZmZmZu4/mpmZmZmZ5T9KDAIrhxYKQMuhRbbz/eQ/PzVeukkMAkC0yHa+nxoFQHe+nxov3QtAAAAAAAAACkCcxCCwcmjxPwAAAAAAABBAvp8aL90k9j+F61G4HoXjPzm0yHa+HxJAHLEWnwIAFEAIrBxaZDvzP7x0kxgEVgpAnMQgsHJo/z8AAAAAAAD4P1K4HoXrUfg/yXa+nxov+z8AAAAAAAD2P6RwPQrXowZArkfhehQuEED2KFyPwvX+P5zEILByaABAsp3vp8ZL9z8AAAAAAAACQBKDwMqhRQFAXI/C9Shc+T/ByqFFtvPzPyGwcmiR7eQ/0SLb+X5qBkDhehSuR+H8P3e+nxov3fA/AAAAAAAA8D/P91PjpZv6P0jhehSuR/k/Gy/dJAaBA0DVeOkmMQgNQPT91HjpJgBAokW28/3U4D8csRafAgAUQOxRuB6F6/E/AAAAAAAAAkB/arx0k5gRQKjGSzeJQew/HLEWnwIAFEC+nxov3SQGQHnpJjEIrPw/wcqhRbbz/z8fhetRuB71PwRWDi2yneM/Gy/dJAaB+z8CK4cW2c7zP9nO91PjpfU/Vg4tsp3v9T/jpZvEILD0PwisHFpkOwJAaJHtfD817j+PwvUoXI/wP0SLbOf7qQlAAAAAAAAA9D9kO99PjZcKQNv5fmq8dPk/wcqhRbbzAkAQWDm0yHYSQLTIdr6fGvk/g8DKoUW29z+kcD0K16P6Pxsv3SQGgf8/DAIrhxbZ+j8Sg8DKoUX0PxyxFp8CABRAukkMAiuH4j8K16NwPQoDQLgehetRuPY/AiuHFtnO6z/sUbgehevhPxyxFp8CABRAlkOLbOf78T8nMQisHFrkP42XbhKDQBFAEoPAyqFFBUCPwvUoXI/iP3WTGARWDv8/DAIrhxbZ9j9kO99PjZf8PwAAAAAAAP4/AAAAAAAAAkAK16NwPQoJQByxFp8CABRA+n5qvHST+D9WDi2yne/jPx+F61G4Hv8/001iEFg5+j+BlUOLbOcPQIcW2c73UwBAF9nO91Pj/z8Sg8DKoUX8PxyxFp8CABRAtvP91HjpA0AAAAAAAAD4P/Cnxks3iQJAj8L1KFyP4j8pXI/C9Sj0P1TjpZvEIPo/vp8aL90k8j8AAAAAAAAIQKwcWmQ73whAGy/dJAaBAUC6SQwCK4fmP2q8dJMYBANANV66SQwC8z8xCKwcWmTnPwAAAAAAAOg/ukkMAisHEkCe76fGSzcDQHWTGARWDuU/TmIQWDm05D9qvHSTGAT8P0w3iUFg5QFAN4lBYOXQ7j9OYhBYOTQQQL6fGi/dJA5AHLEWnwIAFEAAAAAAAAAMQAAAAAAAAPo/ke18PzVe/D+wcmiR7XzvP2iR7Xw/NfY/AAAAAAAA/D+sHFpkO98EQI2XbhKDwPA/hetRuB6F+T956SYxCKwHQAAAAAAAAPY/HLEWnwIAFEApXI/C9SgCQOkmMQisHAVARIts5/up+T+4HoXrUbj2PwAAAAAAAPo/O99PjZduAkAcsRafAgAUQNEi2/l+agFASOF6FK5H/T9Ei2zn+6kDQHnpJjEIrPQ/hxbZzvdT4z+amZmZmZnlPwRWDi2ynQdAN4lBYOXQ/j9/arx0kxj4P+kmMQisHPQ/fT81XrpJ5D9oke18PzX4P9nO91PjpQNAHLEWnwIAFEB7FK5H4Xr6Pylcj8L1KPI/LbKd76fGCUAAAAAAAAANQBKDwMqhReY/YOXQItv5+D8AAAAAAADsP0w3iUFg5f4/cT0K16NwAUB9PzVeuknwPw4tsp3vp/Q/NV66SQwC+T8dWmQ730/9PxkEVg4tsvc/HLEWnwIAFED4U+Olm8QBQDeJQWDl0Po/hetRuB6F/T+amZmZmZkNQPT91HjpJgNAeekmMQis+j9Ei2zn+6kCQDMzMzMzMwNAnu+nxks37T/Xo3A9ClcTQBSuR+F6FPg/16NwPQrX7z+e76fGSzcDQI/C9Shcj+4/HLEWnwIAFEBU46WbxCAEQIcW2c73U/M/g8DKoUW29T/VeOkmMQgCQByxFp8CABRACKwcWmQ76z8csRafAgAUQJHtfD81Xvo/QmDl0CLb8T/D9Shcj8L5P39qvHSTGAFApHA9Ctej8j8AAAAAAAAMQC/dJAaBlfk/1XjpJjGIEUDHSzeJQWD7P+Olm8QgsAVAHLEWnwIAFEDD9Shcj8LlP3npJjEIrP4/Rrbz/dR4BEAAAAAAAADyP/T91HjpJv0/AiuHFtnOC0CPwvUoXI8KQFg5tMh2vvE/wcqhRbbzAEAAAAAAAAAFQNV46SYxCANAzczMzMzM7D9KDAIrhxYRQKRwPQrXow1Az/dT46Wb8j+HFtnO91P7P9ejcD0K1wZA16NwPQrX8T85tMh2vp/qP0Jg5dAi2wNApHA9CtejD0AQWDm0yHYBQByxFp8CABRAppvEILBy7D/2KFyPwvX8P0a28/3UeAZAObTIdr6fC0D2KFyPwvX8P42XbhKDwP4/y6FFtvP96D8AAAAAAADoP6JFtvP9VBFABFYOLbKd+T9GtvP91HjxP2IQWDm0yO4/ObTIdr6f/j/NzMzMzMwMQBkEVg4tsv0/NV66SQwC8z9vEoPAyqHzPxsv3SQGgQBAsp3vp8ZL/z/+1HjpJjHoP+Olm8QgsPA/rBxaZDvfDkDTTWIQWDnyP5zEILByaOk/arx0kxgE6j956SYxCKz0P4XrUbgehec/vp8aL90k/D9iEFg5tMj2P+58PzVeugJAVg4tsp3vBkCamZmZmZntP57vp8ZLN/s/F9nO91Pj+T+gGi/dJAYCQLKd76fGS/s/WmQ730+NCUAOLbKd76fuP7ByaJHtfOc/wcqhRbbz7T8lBoGVQ4vgPxkEVg4tsgxATmIQWDm05D/wp8ZLN4kLQB+F61G4HglAg8DKoUW2/T/y0k1iEFgGQLTIdr6fGvM/O99PjZduBkBWDi2yne/9PzeJQWDl0Oo/WDm0yHa+CEC8dJMYBFYCQJqZmZmZmQNAaJHtfD81AkAcsRafAgAUQESLbOf7qQlAxSCwcmiR9z8rhxbZzvf5PxKDwMqhRQVAHLEWnwIAFECoxks3iUH+Px1aZDvfTwlAtMh2vp8a/T/sUbgehesEQBSuR+F6FOY/NV66SQwC/T9xPQrXo3AHQC2yne+nxvE/EFg5tMh2AUBaZDvfT433Pxsv3SQGgQNA16NwPQrXAUAAAAAAAAD2PzEIrBxaZOM/AAAAAAAABkAAAAAAAAAMQDEIrBxaZPs/uB6F61G46j8AAAAAAAACQOXQItv5fvo/UrgehetR+D+4HoXrUbj+P7x0kxgEVgRAAAAAAAAA+D8AAAAAAAABQO58PzVeuuk/hetRuB6FAECwcmiR7XwKQOkmMQisHABAvp8aL90k/j/dJAaBlUP/PzMzMzMzsxFAO99PjZdu+D8csRafAgAUQMl2vp8aLwNAGy/dJAaB+T/HSzeJQWDtPxKDwMqhRQNAbef7qfHS9T/6fmq8dJPwPzMzMzMzM/U/O99PjZduB0B/arx0kxjkP1YOLbKd7/E/UI2XbhKD7D8dWmQ730/zP0Jg5dAi2xJAkxgEVg4tCUDpJjEIrBwCQBfZzvdTYxBA16NwPQrX9z9GtvP91Hj7P9ejcD0K1wJAbef7qfHSCUCPwvUoXI8DQMHKoUW28/k/EoPAyqFFC0CR7Xw/NV7iP23n+6nx0v8/WmQ730+N8T8AAAAAAAD2PwaBlUOLbOs/2/l+arx07z9QjZduEoP8PwAAAAAAAPY/AAAAAAAABkCF61G4HoUOQByxFp8CABRAHLEWnwIAFEB56SYxCKz8P1yPwvUoXABAukkMAiuHD0AbL90kBoH9P9ejcD0K1/s/bef7qfHS6T+8dJMYBFb+PzMzMzMzM+M/qMZLN4lB9D8AAAAAAAAFQBKDwMqhRfY/0SLb+X5q4D+8dJMYBFYCQJMYBFYOLfA/3SQGgZVD7z+HFtnO91P5PyGwcmiR7QtAXI/C9Shc6z9U46WbxCABQF66SQwCKwJAtvP91Hjp+D/HSzeJQWDlPy/dJAaBlQBAbef7qfHSAUBcj8L1KFwMQD0K16NwPQtAIbByaJHt4D/l0CLb+X72P1TjpZvEIPg/wcqhRbbz4T/4U+Olm8QEQFCNl24SgwlAWDm0yHa+9z/+1HjpJjEHQBfZzvdT4/k/ZmZmZmZmBEAAAAAAAADsP5qZmZmZmQNAZmZmZmZmCEAzMzMzMzMBQOxRuB6F6wNAHLEWnwIAFECamZmZmZkJQNejcD0K1/s/ZmZmZmZmB0AcsRafAgAUQP7UeOkmMQdA8KfGSzeJEUAfhetRuB79P0jhehSuR/s/vp8aL90k5j9kO99PjZfuP23n+6nx0gVAarx0kxgE6j+YbhKDwMoFQNEi2/l+avg/F9nO91Pj4T8UrkfhehQBQBsv3SQGgQpAvp8aL90kAEASg8DKoUXiPyUGgZVDiwpAEoPAyqFFDUBmZmZmZmb0PxfZzvdT4/E/sp3vp8ZLDEDy0k1iEFgCQAAAAAAAAOw/AAAAAAAAA0BU46WbxCDyPwAAAAAAAPI/KVyPwvUo9j9kO99PjZcIQL6fGi/dJPA/sp3vp8ZL7z8Sg8DKoUX8P3E9CtejcAFAc2iR7Xw/B0AIrBxaZDv5P9ejcD0K1wtAGy/dJAaB5T+iRbbz/dQEQC2yne+nxvM/mpmZmZmZ5T+28/3UeOn0Px+F61G4HuU/Di2yne+n+j8/NV66SQwCQMUgsHJokQRAHLEWnwIAFEDTTWIQWDnyPx+F61G4Hu0/MQisHFpkAUC4HoXrUbjuP3npJjEIrPQ/arx0kxgEDEDJdr6fGq8RQKJFtvP91AFAarx0kxgE6j8ZBFYOLbL5PxyxFp8CABRAsp3vp8ZLC0DVeOkmMQgHQPp+arx0kwtAzczMzMzM/D8MAiuHFtn6P5qZmZmZmeE/qMZLN4lB4D83iUFg5dD2P3e+nxov3QJA1XjpJjEI8j83iUFg5dAAQEJg5dAi2wBAIbByaJHt5D8AAAAAAAD6Pz81XrpJDPg/HLEWnwIAFEDTTWIQWDnwP1g5tMh2vgFAbef7qfHSBEDP91PjpZv8P90kBoGVQ/s/WmQ730+NCUDl0CLb+X7+P9v5fmq8dP0/+n5qvHST/j9WDi2yne/3PxyxFp8CABRA8tJNYhBY/T/dJAaBlcMRQNEi2/l+agNA/Knx0k1i6D/dJAaBlUP1PzEIrBxaZBBAAAAAAAAA8j9U46WbxCAOQClcj8L1KOA/HLEWnwIAFEDD9Shcj8IAQEw3iUFg5eg/YOXQItv5B0AAAAAAAAAOQArXo3A9Cvk/MzMzMzMzA0BOYhBYObToP4XrUbgehe8/HLEWnwIAFEBEi2zn+6nxP9nO91Pjpes/O99PjZduAkDTTWIQWDn6PxyxFp8CABRArkfhehSu3z/Jdr6fGi/xPwAAAAAAAA1AMzMzMzMz9z97FK5H4XoBQDeJQWDl0PQ/XI/C9Shc9z9mZmZmZmb4P30/NV66SRJAO99PjZdu+j/6fmq8dJMPQLTIdr6fGvc/QmDl0CLb9T8dWmQ7308BQD0K16NwPfY/z/dT46Wb8D8K16NwPYoTQF66SQwCKwJACtejcD0KA0BzaJHtfD8BQPyp8dJNYgdA8tJNYhBY9z8rhxbZzvf9P0SLbOf7qf0/ZmZmZmZmBkD6fmq8dJP2PyUGgZVDi/4/AAAAAAAABUCuR+F6FK4RQJZDi2zn+wVAXI/C9Shc6z8lBoGVQ4sCQClcj8L1KAhAd76fGi/dAkC0yHa+nxrnP8l2vp8aL/0/HLEWnwIAFEDJdr6fGi/pPzVeukkMAv0/rkfhehSu/z9WDi2yne//P6jGSzeJQeQ/FK5H4XoU7j8X2c73U+P9P7gehetRuPI/DAIrhxbZ8j9cj8L1KFzzP0a28/3UeAJAZDvfT40XEUDl0CLb+X70Py2yne+nxg5ACKwcWmQ7B0Ce76fGSzftPwIrhxbZzuM/+n5qvHSTAkAj2/l+arz0P2ZmZmZmZvQ/FK5H4XoU+D8AAAAAAAD+P2q8dJMYhBFAPQrXo3A99D+JQWDl0CISQCcxCKwcWgJA/tR46SYxDUBOYhBYObT+PwAAAAAAAOw/MzMzMzMz0z9CYOXQItsKQJHtfD81XgNAmG4Sg8DK+z8dWmQ730/hPzm0yHa+nwBAAAAAAAAA8j956SYxCKz6P1g5tMh2vgVA+n5qvHST9j8AAAAAAAAOQEJg5dAi2/k/Gy/dJAaB+T8EVg4tsp3rPxsv3SQGgQRAdZMYBFYOAUCHFtnO91MEQJ7vp8ZLN/U/SgwCK4cW+z83iUFg5dALQFpkO99Pjfk/SgwCK4cW7T89CtejcD0HQPyp8dJNYv4/bef7qfHSE0BEi2zn+6kKQJzEILByaP0/PQrXo3A9/j8zMzMzMzP5Px1aZDvfT+U/yXa+nxov9T/2KFyPwvX4PwwCK4cW2QtA6SYxCKwcAkBYObTIdr7nP4cW2c73U/k/HLEWnwIAFEB7FK5H4Xr6P1yPwvUoXApAvHSTGARW9j8QWDm0yHb4P/yp8dJNYg1AZmZmZmZm5j9eukkMAivvP0oMAiuHFuU/WmQ730+N3z8OLbKd76f4P23n+6nx0gVA+FPjpZvEA0AbL90kBoEFQAIrhxbZzgNAeekmMQisEEDb+X5qvHTzP0a28/3UePs/AiuHFtnO+z8MAiuHFtkCQAIrhxbZzgRAAAAAAAAAAEDufD81XroHQCuHFtnO9w1AppvEILBy/D+PwvUoXI8FQNejcD0K1+M/BFYOLbKd/z93vp8aL93gPzm0yHa+n/4/0SLb+X5qCUAnMQisHFoKQNv5fmq8dApAlkOLbOf7/T/sUbgehesGQByxFp8CABRABoGVQ4ts9T8rhxbZzvf/P83MzMzMzNw/ke18PzVeDEC0yHa+nxoFQBKDwMqhRQZARIts5/up+T/n+6nx0k0DQESLbOf7qQBASgwCK4cWBUAzMzMzMzP3PzMzMzMzM/U/nMQgsHJo/T/ByqFFtvPpPz0K16NwPfw/cT0K16NwBED6fmq8dJP6P1K4HoXrUfA/WmQ730+N6z9/arx0kxjwPwAAAAAAABRAmG4Sg8DKAEDNzMzMzMzgP9V46SYxCAVAnMQgsHJo+T/D9Shcj8IAQAAAAAAAAAxAke18PzVeAUA5tMh2vp/2PxfZzvdT4+0/g8DKoUW2/z/ByqFFtvP9P9nO91Pjpf0/HLEWnwIAFEAbL90kBoEGQPp+arx0k/A/1XjpJjEIB0BEi2zn+6kAQAAAAAAAAPw/CKwcWmQ79T+F61G4HoX7PxyxFp8CABRAexSuR+F65D8IrBxaZDsCQP7UeOkmMeQ/tvP91Hjp6j+JQWDl0CILQDVeukkMAvk/46WbxCCwDkBWDi2yne/1P5MYBFYOLeI/ZmZmZmZm5j83iUFg5dDuP28Sg8DKoe0/7nw/NV66DEAxCKwcWmT5PxyxFp8CABRAvHSTGARW8j+cxCCwcmgQQFpkO99PjQZAEoPAyqFF8D9KDAIrhxb7Pzm0yHa+nwBAkxgEVg4tCkAIrBxaZDsGQG3n+6nx0vE/mG4Sg8DK6T+amZmZmZkAQKAaL90kBgZA16NwPQrXEEDP91PjpZv0P+kmMQisHAlAbxKDwMqh5T/P91PjpZvkPzm0yHa+n/g/tvP91Hjp9D8UrkfhehQDQJHtfD81Xg5AcT0K16Nw9z8/NV66SQz4PxkEVg4tsuk/EFg5tMh2B0AK16NwPQoHQHWTGARWDvc/UrgehetR9D+8dJMYBFb4P0oMAiuHFvk/YhBYObTI8D8csRafAgAUQBsv3SQGgfU/HLEWnwIAFEBt5/up8dIFQKjGSzeJQfg/NV66SQwCDUDfT42XbhL7PxBYObTIdvY/K4cW2c732z/D9Shcj8L1P/T91HjpJgVAJzEIrBxa+D8AAAAAAAD2P5MYBFYOLQFA8tJNYhBY+z9MN4lBYOUCQG3n+6nx0gdAUrgehetR7D/RItv5fmr0P0SLbOf7qek/exSuR+F6CEDb+X5qvHQRQOkmMQisHANA8KfGSzeJAkBEi2zn+6nzP9v5fmq8dAFAw/UoXI/CD0Bt5/up8dIEQCGwcmiRbRFAPQrXo3A9+j8fhetRuJ4RQIcW2c73U+s/5/up8dJN8D8bL90kBoH5P6abxCCwcv4/AAAAAAAA8D+8dJMYBFb2PxyxFp8CABRAuB6F61G4+D9I4XoUrkf7PxkEVg4tsvE/ZDvfT42X/j9g5dAi2/kGQGq8dJMYBPg/qvHSTWIQA0B56SYxCKz4P3E9CtejcAZAgZVDi2zn+T9zaJHtfD8FQG8Sg8DKofM/5dAi2/l+AkC6SQwCK4cJQBsv3SQGgQJAHLEWnwIAFEAxCKwcWmTzP83MzMzMzAFAAAAAAAAAEkC8dJMYBFbwP39qvHSTGABAeekmMQis8D8csRafAgAUQB+F61G4HvU/46WbxCCwAUCoxks3iUH4Pxsv3SQGgfc//tR46SYx+D/RItv5fmr6P0oMAiuHFgFAFK5H4XoUAUAcsRafAgAUQIXrUbgehRFAnMQgsHJo/T8AAAAAAAAMQLByaJHtfPk/Di2yne+n9D9QjZduEoPoPwAAAAAAAAJAEFg5tMh2AkASg8DKoUURQI/C9Shcj/4/tMh2vp8a6z9mZmZmZmb4P28Sg8DKoeU/g8DKoUW2/z8bL90kBoEIQPCnxks3ifM/SgwCK4cWBkB7FK5H4XrwP3e+nxovXRBAbxKDwMqh9T/b+X5qvHTzP3Noke18P/0/PQrXo3A9AkCamZmZmZnxP5huEoPAyvE/tMh2vp8a6z8xCKwcWuQRQKjGSzeJQew/rBxaZDvf6z8AAAAAAAD+Pxsv3SQGgfc/5dAi2/l+8D/l0CLb+X4LQAaBlUOLbO8/AAAAAAAABUD4U+Olm8ToPwRWDi2ynfU/WmQ730+N9T8bL90kBoECQMdLN4lBYPk/qMZLN4lB8D+F61G4HoXzP2ZmZmZmZg5A5/up8dJN/j+amZmZmZkRQGZmZmZmZuY/ZmZmZmZm5j+uR+F6FK4KQH0/NV66SfA/HLEWnwIAFEDXo3A9CtcMQB+F61G4Hvs/ppvEILByAEDP91PjpZv6P83MzMzMzNQ/arx0kxgEDUDsUbgehev7PwRWDi2ynf8/SOF6FK5H/T+HFtnO91P5P9V46SYxCPA/AAAAAAAA7D+LbOf7qXESQDvfT42Xbv4/L90kBoGVAkDufD81XroBQPT91HjpJgJAVg4tsp3vAUBeukkMAivzP6AaL90kBuk/0SLb+X5q+j/pJjEIrBwBQOf7qfHSTeY/IbByaJHt8D8AAAAAAADoP/LSTWIQWO0/j8L1KFyPBUBt5/up8dLlP7pJDAIrh/o/I9v5fmq8+D+cxCCwcugSQHnpJjEIrAtA2/l+arx0AkAAAAAAAAAIQMHKoUW28wNAIbByaJFtEUCq8dJNYhACQAAAAAAAAPw/JQaBlUOL/D8UrkfhehQGQCUGgZVDi/I/vp8aL90kAUAhsHJoke3yPxyxFp8CABRAvHSTGARW+D8QWDm0yHb2PwIrhxbZzgFASOF6FK7HEUAAAAAAAAAUQFTjpZvEIPo/NV66SQwC/z/2KFyPwvXsPzvfT42XbvI/hetRuB6F9z+28/3UeOkFQCUGgZVDi/4/Vg4tsp3v5z8csRafAgAUQPYoXI/C9fI/HLEWnwIAFECamZmZmZnhP+Olm8QgsOI/Di2yne+n7j9YObTIdr7vP2IQWDm0yPo/j8L1KFyP5j+amZmZmZnlP9NNYhBYOeg/SOF6FK5H/T8csRafAgAUQIlBYOXQIu8/ZmZmZmZmAkC6SQwCK4fqP05iEFg5tOA/ke18PzVe8j8pXI/C9SjsP1YOLbKd7wFAAAAAAAAA+D+8dJMYBFYLQN9PjZduEv0/5dAi2/l+9j/dJAaBlUPnP6wcWmQ73wBA3SQGgZVD7z9aZDvfT43xP+XQItv5fvo/ppvEILByAkBoke18PzX6Pw4tsp3vp+4/YhBYObTI3j/RItv5fmrcP9V46SYxCANAYhBYObTIBkCR7Xw/NV76PwAAAAAAAABATDeJQWDl6D/D9Shcj8L9P/T91HjpJvs/jZduEoPAEEDb+X5qvHTnP9ejcD0K1+s/tvP91Hjp+j/jpZvEILD4PwAAAAAAAAJApHA9CtejCkDfT42XbhICQH9qvHSTGPY/1XjpJjEI8j+6SQwCK4cCQN0kBoGVwxBA46WbxCCwAUB3vp8aL934PxKDwMqhRfg/tvP91HjpA0BQjZduEoP4Pz0K16NwPfQ/MzMzMzMzA0Atsp3vp8b9PxyxFp8CABRAdZMYBFYO/T/l0CLb+X78P76fGi/dJOY/x0s3iUFg5T8csRafAgAUQDVeukkMAv0/g8DKoUW2D0AAAAAAAAD+P6JFtvP91AdAbxKDwMqhC0DP91PjpZsDQOF6FK5H4fA/kxgEVg4t8D956SYxCKz2PyPb+X5qPBFAgZVDi2znBkAUrkfhehTyP166SQwCqxJAYOXQItv5+j/Xo3A9CtcMQFCNl24SgwRA001iEFg58j/VeOkmMQgMQO58PzVeugBACtejcD0K9T+8dJMYBFYBQGiR7Xw/NfA/001iEFg5AEA3iUFg5dDyP5zEILByaAdAHLEWnwIAFEAMAiuHFtn0P8UgsHJoke0/AAAAAAAA8j956SYxCKz4P6RwPQrXo/A/2/l+arx08z8bL90kBoEAQIcW2c73U/E/wcqhRbbzC0AOLbKd76fqP0SLbOf7qQNASOF6FK5H7T8csRafAgAUQByxFp8CABRAexSuR+F6/j+HFtnO91PxP3npJjEIrOw/HLEWnwIAFEASg8DKoUXuP5qZmZmZmeU/ZmZmZmZm/D+BlUOLbOcEQByxFp8CABRAi2zn+6nx+j85tMh2vp8DQDMzMzMzMwNACtejcD0K+T8csRafAgAUQAwCK4cW2QJAGQRWDi2y/T+8dJMYBFYJQDVeukkMAvM/4XoUrkfhA0DsUbgehesCQBKDwMqhRe4/fT81XrpJ/D8tsp3vp8b3P3Noke18P/8/EoPAyqFFAUCoxks3iUH0P23n+6nx0vs/SOF6FK5H/T8tsp3vp8bnP2Dl0CLb+QFAqMZLN4lB8D9I4XoUrkcPQDMzMzMzMwVAHLEWnwIAFEDXo3A9Ctf9P/YoXI/C9eg/QmDl0CLb6T+8dJMYBFb+P6wcWmQ73/8/vHSTGARW/j+amZmZmZn5P6AaL90kBg5AeekmMQis+j9zaJHtfD8BQH0/NV66SQJAnMQgsHJo+z89CtejcD0RQDVeukkMAgZAvp8aL90kBkBvEoPAyqHdPwrXo3A9Cvc/kxgEVg4t7j+e76fGSzf5Px+F61G4Hv8/SgwCK4cWDECJQWDl0CISQCuHFtnO9wFATDeJQWDl+D9cj8L1KFwDQGZmZmZmZuY/N4lBYOXQ5j/HSzeJQWDlP+XQItv5fvg/AAAAAAAA9j8730+Nl24CQMdLN4lBYANA9P3UeOkmCEBvEoPAyqEQQArXo3A9Cvk/9P3UeOkm6T8OLbKd76cRQLByaJHtfP0/H4XrUbgeBkA5tMh2vp8CQIcW2c73U+M/IbByaJHtAUCPwvUoXI8RQBkEVg4tsvM/2/l+arx0BEA730+Nl27iPyuHFtnO9/8/0SLb+X5q4D9CYOXQItsLQKAaL90kBg1A001iEFg5A0BaZDvfT43nPwRWDi2ynfs/UrgehetRAkDP91PjpZv6Pw4tsp3vp+o/HLEWnwIAFEBvEoPAyqEKQMdLN4lBYOE/vHSTGARWA0AAAAAAAAAPQG3n+6nx0vU/2/l+arx07z8pXI/C9Sj8Pylcj8L1KOQ/wcqhRbbzAkC0yHa+nxrvP5qZmZmZmQFAIbByaJHt8D956SYxCKwFQAIrhxbZzu8/z/dT46Wb+j81XrpJDAL3P+XQItv5fvY/Rrbz/dR4CkC0yHa+nxr5PxyxFp8CABRAAAAAAAAA+j8rhxbZzvfzP30/NV66SQFABoGVQ4ts+z8/NV66SQwKQMUgsHJokfE/f2q8dJMYBkBiEFg5tMj0P/yp8dJNYgdAUrgehetRC0DHSzeJQWDlP7TIdr6fGgNA+FPjpZvE6D+R7Xw/NV7qP5huEoPAygxAVOOlm8SgEkAfhetRuB4BQIlBYOXQIvE/c2iR7Xw/+T9KDAIrhxbzP28Sg8DKoQJAuB6F61G4/D8730+Nl27mP5qZmZmZmeE/SgwCK4cW5T+sHFpkO9/vPxyxFp8CABRAqMZLN4lB+j+kcD0K16PoP6abxCCwcvY/RIts5/up+z8csRafAgAUQL6fGi/dJAlAHLEWnwIAFEAcsRafAgAUQOF6FK5H4fY/ppvEILByBkAAAAAAAAAOQAAAAAAAAPY/K4cW2c73CkB7FK5H4Xr0P0SLbOf7qf0/KVyPwvUo5D+F61G4HoXxPwAAAAAAABBA5/up8dJN+D9qvHSTGATiP2ZmZmZmZvA/AAAAAAAAAkBI4XoUrkf3Pz81XrpJDA1A7FG4HoXrA0DpJjEIrJwQQDEIrBxaZAVAAAAAAAAA6D8AAAAAAAAEQBfZzvdT4/k/MzMzMzMz7z/Xo3A9CtfxP1YOLbKd7+s/okW28/3UBUCBlUOLbOfzP7Kd76fGSwJAXI/C9ShcAkAAAAAAAAD6P5qZmZmZmek/NV66SQwC8z/wp8ZLN4kDQAAAAAAAAP4/rkfhehSuA0DRItv5fmrwP3npJjEIrPI/AAAAAAAA9j8bL90kBoH7P+XQItv5fvA/VOOlm8QgA0AK16NwPQr/P2Q730+NlwFAZmZmZmZmDkC28/3UeOn4P/hT46WbxOw/+n5qvHST7D+amZmZmZnhP6wcWmQ7398/BoGVQ4ts9z89CtejcD0GQH9qvHSTGAdAeekmMQis9D/ufD81XroBQDEIrBxaZOs/RIts5/up+T8730+Nl27iP+F6FK5H4QtAgZVDi2zn/z/fT42XbhLvP2Q730+Nl+I/FK5H4XoUCEBYObTIdr7nP8HKoUW28wNAXI/C9ShcBUDJdr6fGi/zP3e+nxov3eg/i2zn+6nx9j8v3SQGgZXjPyUGgZVDiwBAqMZLN4lBCkAMAiuHFtkMQHNoke18P/E/exSuR+F64D+amZmZmZnlP9v5fmq8dP0/AAAAAAAAAEBSuB6F61EMQBsv3SQGgQ9AiUFg5dAi9T+F61G4HoUIQC/dJAaBlfU/JQaBlUOLCUAdWmQ7308IQAAAAAAAAAxA5dAi2/l+AkA1XrpJDAL1P4cW2c73U/M/bxKDwMqh9T8/NV66SQzmPwAAAAAAABFArkfhehSu+T8pXI/C9Sj4P/YoXI/C9QtA3SQGgZVD4z+DwMqhRbYPQEjhehSuRwZAvp8aL90kA0DLoUW28/0BQJ7vp8ZLN+0/bef7qfHS8T9U46WbxCD4P05iEFg5tOQ/TmIQWDm0DEA5tMh2vp8CQJzEILByaOE/BoGVQ4ts7z+q8dJNYhACQPp+arx0k/I/BoGVQ4ts/z+DwMqhRbbzP6AaL90kBvk/46WbxCCw+j8Sg8DKoUUBQPhT46WbxPI/2/l+arx0A0CHFtnO91PnP3npJjEIrP4/MzMzMzMz4z/dJAaBlUP/P0Jg5dAi2/E/exSuR+F6BUDNzMzMzMwEQM/3U+Olm+w/N4lBYOXQAkAX2c73U+MOQAAAAAAAAP4/rBxaZDvfAUBzaJHtfD/zP+58PzVeuvU/ZDvfT42XCEC+nxov3SQKQOXQItv5fuY/bef7qfHS5T+8dJMYBFbyPycxCKwcWvw/aJHtfD816j/LoUW28/3sP5MYBFYOLeI/gZVDi2znCUBaZDvfT40DQEoMAiuHFvc/EoPAyqFF+j81XrpJDAIDQHE9CtejcANADi2yne+n6j8AAAAAAADsP99PjZduEvU/FK5H4XoU3j9zaJHtfD//P9v5fmq8dP0/z/dT46Wb9D+28/3UeOnyP6AaL90kBgFAz/dT46Wb9j9eukkMAisCQEJg5dAi2+k/tMh2vp8aAECHFtnO91P9P83MzMzMzPg/NV66SQwC9z8AAAAAAAD2P5zEILByaAZAeekmMQisA0CwcmiR7XwDQHsUrkfhevA/z/dT46Wb8D+sHFpkO98CQIGVQ4ts5/k/WmQ730+ND0CHFtnO91P3P8UgsHJokf0//Knx0k1iA0DXo3A9CtcKQHsUrkfhevo//Knx0k1iAEBaZDvfT435P3WTGARWDvs/vp8aL90kE0CDwMqhRbYEQOxRuB6F6wlA5dAi2/l+8D9/arx0kxj2Px1aZDvfT+0/HVpkO99PAkBoke18PzX2P5MYBFYOLQRAHVpkO9/PEECwcmiR7XwDQCPb+X5qvPY/mpmZmZmZ5T8ZBFYOLbLtP7pJDAIrh/4/tvP91HjpAUCLbOf7qfH2PwisHFpkO/U/rkfhehSu7z9Ei2zn+6nlP/7UeOkmMQJAfT81XrpJAkDufD81Xrr1PyuHFtnO9wxAGy/dJAaBBkAcsRafAgAUQMuhRbbz/ew/nu+nxks35T/VeOkmMQj4P3Noke18P/s/LbKd76fG7z+iRbbz/dQJQHWTGARWDgFAXI/C9ShcAUA730+Nl24FQBsv3SQGgQBAvp8aL90kDkAAAAAAAADsP8dLN4lBYAhAnMQgsHJoEkCPwvUoXI/0P/hT46WbxAZAiUFg5dAi8z/jpZvEILAAQM3MzMzMzPI/nMQgsHJo5T/8qfHSTWIAQKwcWmQ73+c/2/l+arx08T99PzVeuknyP0SLbOf7qQhAFK5H4XoU8j/y0k1iEFjtP0a28/3UePU/AAAAAAAAEUBzaJHtfD/hPwwCK4cW2QhAvHSTGARWA0C+nxov3SQCQFTjpZvEIPA/CtejcD0KA0CkcD0K16MDQArXo3A9Cvk/5dAi2/l+8j9zaJHtfD/lPzeJQWDl0OI/F9nO91PjAUBKDAIrhxb7P3npJjEIrPo/AAAAAAAAAkAIrBxaZDvnP9nO91Pjpfk/mpmZmZmZ9z/Jdr6fGi/tP0SLbOf7qQBAbef7qfHSCkCPwvUoXI/iPx+F61G4HgJABFYOLbKdC0BKDAIrhxbxPxyxFp8CABRAAAAAAAAABkAOLbKd76fuP7TIdr6fGu8/zczMzMzM+D8AAAAAAAAQQByxFp8CABRA8tJNYhBYCEAj2/l+arwMQPT91HjpJvc/001iEFg5DECmm8QgsHIMQIPAyqFFtu8/1XjpJjEIBEBMN4lBYOXwPxyxFp8CABRA7FG4HoXr+T8tsp3vp8YFQHnpJjEIrANAhxbZzvdT/T8OLbKd76cBQMP1KFyPwvk/HVpkO99PCECyne+nxksFQKJFtvP91Ow/AAAAAAAA7D+Nl24Sg8AAQP7UeOkmMf4/001iEFg58D8AAAAAAAAPQO58PzVeugxAyXa+nxovCkC8dJMYBFYGQOOlm8QgsAJAKVyPwvUo+j+sHFpkO9/zPwAAAAAAABJAgZVDi2zn8T91kxgEVg7tP7Kd76fGS/M/JzEIrBxaE0C8dJMYBFYNQBSuR+F6FABA46WbxCCwCkAAAAAAAAANQJ7vp8ZLN/s/I9v5fmq8A0CYbhKDwMr5P4XrUbgehfc/d76fGi/d8j8CK4cW2c7xP1K4HoXrUQVAKVyPwvUo8j+HFtnO91MKQByxFp8CABRA7FG4HoXrAkBaZDvfT43zP2iR7Xw/Neo/tvP91HjpDkDFILByaJH9P4PAyqFFtvk/qMZLN4lB8D/2KFyPwvUQQAAAAAAAAAVAWmQ730+NDUDRItv5fmryP/Cnxks3iQZAMQisHFpk7z9g5dAi2/n0P76fGi/dJARABFYOLbKdAkASg8DKoUX2P+F6FK5H4eY/PQrXo3A9C0BEi2zn+6kFQEw3iUFg5fg/JQaBlUOL7D+4HoXrUbj6P+XQItv5fvA/4XoUrkfh/D/8qfHSTWLgP5HtfD81XgBAYOXQItv5DkAAAAAAAAD6P90kBoGVQ/M/JzEIrBxa9j8GgZVDi2zvP1pkO99PjQVAukkMAiuHBUAcsRafAgAUQFg5tMh2vt8/j8L1KFyP4j9KDAIrhxblP6rx0k1iEPw/8tJNYhBYD0AQWDm0yHYGQKAaL90kBu0/HLEWnwIAFEDwp8ZLN4ntP166SQwCKwJAAAAAAAAA+j8Sg8DKoUUHQLKd76fGS/0/Di2yne+nBkD8qfHSTWL8P39qvHSTGANATmIQWDm0CUDsUbgehesEQC2yne+nxu8/SgwCK4cWAkAlBoGVQ4vgP7TIdr6fGvk/WDm0yHa++T+YbhKDwMoBQNEi2/l+aghAaJHtfD819j/b+X5qvHQCQJMYBFYOLe4/tMh2vp8a7z/FILByaJEOQLbz/dR46f4/w/UoXI/CAEBQjZduEoMCQPp+arx0k+w/x0s3iUFg/z8pXI/C9SjyPyUGgZVDi/w/w/UoXI9CEECoxks3iUECQGIQWDm0yAJAGy/dJAaBAkAcsRafAgAUQNv5fmq8dP0/f2q8dJMYAUAcsRafAgAUQN9PjZduEvs/ZDvfT42XAkCJQWDl0CIMQPhT46WbxAJAAAAAAAAA8j8IrBxaZDv3P4GVQ4ts5+s/H4XrUbge4T/VeOkmMQjcP76fGi/dJO4/Gy/dJAaBAUBOYhBYObT+P/T91HjpJvU/wcqhRbbz3T/ByqFFtvP3P2iR7Xw/NfQ/Rrbz/dR4BEA9CtejcD3uPyuHFtnO9wJAHLEWnwIAFEAAAAAAAADsP6jGSzeJQfQ/z/dT46WbA0DJdr6fGi/5P0oMAiuHFuk/ppvEILByAUAAAAAAAAAMQFg5tMh2vv8/oBov3SQG9z/VeOkmMQgLQNEi2/l+aug/BFYOLbKd+T9MN4lBYOX0PwAAAAAAAPI/vHSTGARWCkBEi2zn+6kCQFg5tMh2vu8/RIts5/up/z+HFtnO91MAQAAAAAAAAAxArBxaZDvf4z8QWDm0yHb2P7x0kxgEVvg/4XoUrkfh9D+e76fGSzf/P+xRuB6F6/8/AAAAAAAA9j8AAAAAAAAGQESLbOf7qfM/cT0K16Nw8T9GtvP91HjzPylcj8L1KAhAvHSTGARWA0BQjZduEoP4P0oMAiuHFvs/rkfhehSuDEAAAAAAAAD8PwAAAAAAAPI/FK5H4XoUDkA1XrpJDALzPwrXo3A9ChBA3SQGgZVD8T+TGARWDi0LQEjhehSuR/k/jZduEoPAEkD+1HjpJjHkP/Cnxks3if0/JzEIrBxa/j8lBoGVQ4v+P5qZmZmZmeU/sp3vp8ZL6z8tsp3vp8b7P42XbhKDwPQ/9ihcj8L1/D8csRafAgAUQH9qvHSTGA5AcT0K16NwA0CDwMqhRbb3Pz81XrpJDANAAAAAAAAAEkAzMzMzMzMDQByxFp8CABRAIbByaJHtBUDRItv5fmr+P0a28/3UeAVAi2zn+6nxC0B1kxgEVg4GQHNoke18P/0/HLEWnwIAFEB1kxgEVg4BQLgehetRuPw/KVyPwvUo9j81XrpJDAL9Pz0K16NwPQtAAAAAAAAAAkBCYOXQItvlP9V46SYxCANAwcqhRbbz9z9U46WbxCD0P9V46SYxCOw/AAAAAAAA9D81XrpJDAL7P5qZmZmZmfU/BFYOLbKd6z/4U+Olm8TkPzVeukkMAvE/QmDl0CLbBkCYbhKDwMoFQNEi2/l+agFAx0s3iUFg7T8UrkfhehT6P57vp8ZLN/8/zczMzMzM1D+gGi/dJAYGQIGVQ4ts5/U/dZMYBFYO/z/RItv5fmoCQGDl0CLb+fY/8tJNYhBY2T+JQWDl0CLjP0Jg5dAi2wBANV66SQwC+T9zaJHtfD8BQGZmZmZmZvw/UI2XbhKDAUAlBoGVQ4v0P+XQItv5fv4/d76fGi/dD0CR7Xw/NV4NQJqZmZmZmfM/SgwCK4cWDkCe76fGSzf5P+XQItv5fvw/XrpJDAIr5z81XrpJDAIHQAAAAAAAAPw/EFg5tMh2BkCuR+F6FK75P8dLN4lBYPk/SgwCK4cW9z8CK4cW2c71P9v5fmq8dAFADi2yne+nEkAX2c73U+MOQH9qvHSTGARAEFg5tMh2/j8MAiuHFtkBQOF6FK5H4QxAAAAAAAAABkAOLbKd76fmP2ZmZmZmZhJAmpmZmZmZ5T8AAAAAAAACQJMYBFYOLfw/+FPjpZvE4D83iUFg5dD6P4GVQ4ts5+8/ppvEILBy7D9MN4lBYOUBQOF6FK5H4fw/bef7qfHS7T8CK4cW2c77P28Sg8DKoRNAeekmMQis8D9KDAIrhxYGQMdLN4lBYARAlkOLbOf7AEAAAAAAAADsP76fGi/dJO4/KVyPwvUo+j8csRafAgAUQAAAAAAAAPQ/XrpJDAIr/T+sHFpkO9/xP1yPwvUoXPc/HLEWnwIAFECkcD0K16MJQLgehetRuN4/NV66SQwC+z+amZmZmZnlPxkEVg4tsvs/AAAAAAAA+D+8dJMYBFYKQI/C9Shcj/Y/PQrXo3A9DkBEi2zn+6npP90kBoGVQwBAZDvfT42XD0AK16NwPQrrP8l2vp8aLwpAf2q8dJMYAEAAAAAAAAD6P0jhehSuRwVAGQRWDi2yAUA9CtejcD38Pxsv3SQGgQBAHLEWnwIAFECsHFpkO9/9PwAAAAAAAPI/9ihcj8L17D+6SQwCK4f+PwIrhxbZzv8/5dAi2/l++j8csRafAgAUQB1aZDvfT/c/nu+nxks37T8QWDm0yHb2P3npJjEIrP4/WmQ730+N4z97FK5H4Xr4P1yPwvUoXOs/UrgehetR+j9MN4lBYOUOQOf7qfHSTQtAg8DKoUW2A0CwcmiR7XzzPzMzMzMzM/U/XI/C9Shc7z8dWmQ7308DQJzEILByaPs/nu+nxks38z8csRafAgAUQKJFtvP91P4/ObTIdr6fAkDjpZvEILD+P5zEILByaP8/UI2XbhKDB0DfT42XbhLrPxyxFp8CABRAHLEWnwIAFEBeukkMAivxPwAAAAAAAPg/vHSTGARWAEAQWDm0yHYFQI/C9Shcj/A/16NwPQrX+T+YbhKDwMoBQE5iEFg5tPo/vHSTGARWAkBGtvP91HgAQI/C9Shcj+4/AAAAAAAA+j+oxks3iUEDQOXQItv5fuo/0SLb+X5qAkBYObTIdr79PyGwcmiR7fA/NV66SQwC8z+0yHa+nxr/P4cW2c73U/0/ZmZmZmZmB0DfT42XbhL3PxyxFp8CABRARrbz/dR49T9MN4lBYOXgP/7UeOkmMf4/UrgehetRAEC4HoXrUbj8P9nO91Pjpe8/MQisHFpkBkCe76fGSzcKQKRwPQrXowBARIts5/upAEAAAAAAAADyPy2yne+nxgJAKVyPwvUoAUAUrkfhehQLQByxFp8CABRA7nw/NV66BkAcsRafAgAUQDVeukkMAv0/AAAAAAAA9D8AAAAAAIAQQAAAAAAAAPI/TDeJQWDl7D+4HoXrUbjuP83MzMzMzPY/5/up8dJNBUBmZmZmZmb6P+F6FK5H4fI/oBov3SQG+T/fT42XbhIRQOOlm8QgsAhAiUFg5dAiA0AbL90kBoHxPx1aZDvfT+U/exSuR+F6DUBxPQrXo3AKQBfZzvdT4wVAHLEWnwIAFEDjpZvEILAJQJzEILByaANAWmQ730+NAkDTTWIQWDn4P9NNYhBYOQJAZmZmZmZmDkAQWDm0yHbuP6AaL90kBv8/QmDl0CLbBECPwvUoXI/+P/hT46WbxOQ/ukkMAiuH9D+R7Xw/NV7+P4cW2c73U/0/fT81XrpJ+D8v3SQGgZUEQAAAAAAAAPY/AAAAAAAA9D+mm8QgsHIBQEw3iUFg5fo/JQaBlUOLAkDXo3A9Ctf3P3Noke18P/s/5/up8dJND0Av3SQGgZUGQByxFp8CABRARIts5/up9T8Sg8DKoUUKQAAAAAAAAAxAXrpJDAIr/T8csRafAgAUQLgehetRuP4/3SQGgZVDA0AAAAAAAAD8P9NNYhBYOfQ/vp8aL90k9D/0/dR46Sb/P/LSTWIQWAtAwcqhRbbzAEAAAAAAAAD2P9nO91PjpQVAxSCwcmiR+z8rhxbZzvcEQEJg5dAi2/c/VOOlm8QgC0AX2c73U+MDQGQ730+Nl/Q/UI2XbhKDC0AAAAAAAAD8PwAAAAAAAAdAYOXQItv59j8ZBFYOLbILQPp+arx0kwJAAAAAAAAAAEBSuB6F61EDQJqZmZmZmeU/eekmMQis/j+6SQwCK4f8P1CNl24Sg/w/HVpkO99P9T+BlUOLbOcFQCcxCKwcWvg/Vg4tsp3v/T8AAAAAAAD2P0SLbOf7qfE/c2iR7Xw/A0AAAAAAAAD6PzeJQWDl0Oo/c2iR7Xw/BUDsUbgehesAQFg5tMh2vvs/zczMzMzMCEDXo3A9CtfvPzm0yHa+n/4/z/dT46WbAUD4U+Olm8T6P83MzMzMzOQ/46WbxCCw9j9zaJHtfD8HQPCnxks3iQlANV66SQwC8z8AAAAAAAAAQI/C9ShcjwFA9P3UeOkmB0A5tMh2vp/yPyuHFtnO9/k/qMZLN4lB8j83iUFg5dDmP3sUrkfhev4/xSCwcmiR/z+0yHa+nxrnP7pJDAIrh/A/4XoUrkfh9j9kO99PjZcDQByxFp8CABRAhxbZzvdT/T9aZDvfT43rP0a28/3UeAFA7nw/NV668T+BlUOLbOcAQLTIdr6fGgtAGQRWDi2y8z+PwvUoXI8FQIPAyqFFtglAaJHtfD816j8csRafAgAUQJHtfD81XghAhxbZzvdT5z9I4XoUrkf5P4GVQ4ts5+M/z/dT46Wb8j9U46WbxCAJQAAAAAAAAA1AHLEWnwIAFECDwMqhRbbnPwAAAAAAAPg/mpmZmZmZBUCHFtnO91PzPwAAAAAAAARAtMh2vp8a5z8AAAAAAAAOQF66SQwCKwNAhxbZzvdT/T+YbhKDwMr5PxSuR+F6FARAH4XrUbge3T/l0CLb+X78P4PAyqFFtgRAhxbZzvdT9z+0yHa+nxrrP7x0kxgEVgFAd76fGi/d9D9cj8L1KFz5PwwCK4cW2fI/MzMzMzMzAUCwcmiR7XwFQAAAAAAAAPA/BFYOLbKdCkCsHFpkO9/9P/YoXI/C9eA/wcqhRbbz9z9Ei2zn+6kLQOxRuB6F6/M/1XjpJjEIE0AcsRafAgAUQByxFp8CABRAvp8aL90k/D+HFtnO91P9P3Noke18PwRADAIrhxbZ8j/2KFyPwvX2PxyxFp8CABRA+FPjpZvE9j9cj8L1KFzzPxsv3SQGgQVA0SLb+X5qCkCwcmiR7XzzP5MYBFYOrRBAvHSTGARWBUDn+6nx0k3+P1g5tMh2vhFAFK5H4XoU+j+amZmZmZkOQDVeukkMAvE/5dAi2/l+4j9mZmZmZmbiPwrXo3A9CgNAUI2XbhKDAUBg5dAi2/nyP+58PzVeughAdZMYBFYOAUCiRbbz/dT8P6JFtvP91BJAYOXQItv5CkDl0CLb+X7uPzm0yHa+n/A/HLEWnwIAFEAzMzMzMzMBQOf7qfHSTf4/BoGVQ4ts+z+PwvUoXI8MQDEIrBxaZP8/hetRuB6F7z/P91PjpZv8P1TjpZvEIAJABoGVQ4ts+z+DwMqhRbYFQPLSTWIQWAFA7nw/NV665T+cxCCwcmj7P1g5tMh2vvE/mpmZmZmZCkAAAAAAAAD4P1g5tMh2vvs/AAAAAAAAA0B1kxgEVg7lPxkEVg4tsvs/GQRWDi2yCUAzMzMzMzMFQAAAAAAAAOw/bef7qfHSAEBt5/up8dIDQHWTGARWDg5A/tR46SYx8j8csRafAgAUQMl2vp8aL90/TDeJQWDl9D8tsp3vp8b/PyuHFtnOdxFAbxKDwMqh7T8AAAAAAAD4P5huEoPAygxAHLEWnwIAFEBqvHSTGATuP0SLbOf7qQ5AeekmMQis/j/HSzeJQWAFQNEi2/l+agZAeekmMQis4D9vEoPAyqHxP7x0kxgEVvo/lkOLbOf7CUBvEoPAyqHzP7x0kxgEVgFAWmQ730+N5z+HFtnO91MEQAAAAAAAAP4/j8L1KFyP+j/dJAaBlUP5PzVeukkMAv8/ukkMAiuH9j/l0CLb+X7uPylcj8L1KAJAc2iR7Xw/BUB3vp8aL93sPx1aZDvfT/0/8KfGSzeJ/T8AAAAAAAD6PwAAAAAAAPQ/tMh2vp8a7z8GgZVDi2wMQJhuEoPAyvU/AAAAAAAA9D+mm8QgsHIIQKjGSzeJQfw/F9nO91PjC0BWDi2yne8HQN9PjZduEuc/hetRuB6F8T+wcmiR7XwGQDVeukkMAvk/I9v5fmq8AkC0yHa+nxrjPwAAAAAAAARA3SQGgZVDAEAZBFYOLbL7P6AaL90kBghACtejcD0KA0CkcD0K16P8P4/C9Shcj/o/g8DKoUW2+T+amZmZmZn3PyPb+X5qvP4/PzVeukkM4j/8qfHSTWIIQGQ730+NlxFAAAAAAAAA9j8AAAAAAAD2P/Cnxks3ifU/AAAAAAAABUDjpZvEILDqPylcj8L1KPI/DAIrhxbZ5j9cj8L1KFwAQGQ730+NlwZAHVpkO99P9z+TGARWDi0FQAAAAAAAAAZA2/l+arx0+z+8dJMYBFYBQLbz/dR46fw/AAAAAAAAAUCiRbbz/dT6PzMzMzMzM9s/30+Nl24SA0AK16NwPQr3P4GVQ4ts59s/FK5H4XoUDUCYbhKDwMr9P5qZmZmZmeU/8KfGSzeJ+T+yne+nxkv/P/hT46WbxPg/ukkMAisHEkCR7Xw/NV7mP/T91HjpJvU/PQrXo3A9CkBt5/up8dIFQJ7vp8ZLN+U/46WbxCCw9D956SYxCKzoP+F6FK5H4fg/KVyPwvUo9D/TTWIQWDkDQEjhehSuR/U/ke18PzVe7j8dWmQ7308AQIXrUbgeheM/EoPAyqFF9j+8dJMYBFYCQAwCK4cW2QRASgwCK4cWBEBoke18PzUKQHe+nxov3fo/9ihcj8L1AEBEi2zn+6kCQDvfT42XbgRAmpmZmZmZ5T/sUbgehev5P42XbhKDwPI/WmQ730+N8T8AAAAAAAAGQBfZzvdT4/E/j8L1KFyP+j9Ei2zn+6ntP8P1KFyPwv0/iUFg5dAi7z/n+6nx0k0DQK5H4XoUrgRA6SYxCKwc9j/HSzeJQWD/P/hT46WbxBBAaJHtfD819j9U46WbxCAOQNEi2/l+avo/SgwCK4cW/T+LbOf7qfEAQAAAAAAAAPI/SgwCK4cW9z/D9Shcj8IBQPT91HjpJuE/IbByaJHt9D9oke18PzUCQAAAAAAAAAZATmIQWDm0/j9QjZduEoPkP5huEoPAyuU/0SLb+X5qBEC6SQwCK4cDQPYoXI/C9QpARIts5/upAEAcsRafAgAUQPCnxks3ifs/ObTIdr6f9D/Jdr6fGi/3PwrXo3A9Cuc/d76fGi/d9j+LbOf7qXERQLx0kxgEVgBAHVpkO99P/z/2KFyPwvXsPxfZzvdT4wJAgZVDi2zn/T8AAAAAAAD6PwAAAAAAAPI/j8L1KFyP4j9kO99PjZcIQOf7qfHSTQxAEoPAyqFFB0DjpZvEILAMQBkEVg4tsgNA30+Nl24S5z8zMzMzMzPxP/T91HjpJuk/arx0kxgE/j+HFtnO91PvP0Jg5dAi2/0/Gy/dJAaB/z/Xo3A9CtfxPzVeukkMAvk/2/l+arx0AUB7FK5H4XoHQOF6FK5H4eI/PzVeukkM+j8QWDm0yHbwP8dLN4lBYOE/z/dT46Wb+j9mZmZmZmb4PzeJQWDl0PY/AAAAAAAA+D81XrpJDALrP83MzMzMzABAAAAAAAAA9j8AAAAAAAAMQBsv3SQGgfs/TDeJQWDl9j9kO99PjRcSQClcj8L1KPw/1XjpJjEI8j8X2c73U+PlP1CNl24Sg/4/JQaBlUOLCkBxPQrXo3D9PwAAAAAAAPo/TmIQWDm09D/ZzvdT46X7P/p+arx0k/4/ZDvfT42XB0CTGARWDi3+P9Ei2/l+auQ/vp8aL92kEkAX2c73U+P9P30/NV66SfY/BoGVQ4tsCkBiEFg5tMgGQAIrhxbZzv8/kxgEVg4t5j9I4XoUrkf3P2Q730+Nl/o/gZVDi2znBUDXo3A9Ctf3PwisHFpkOwFAoBov3SQGB0CNl24Sg0AQQNnO91Pjpfk/MzMzMzMzA0CwcmiR7XzjP/hT46WbxPY/iUFg5dAi6z8730+Nl24AQFg5tMh2vg9ARIts5/up9T8QWDm0yHbyPwAAAAAAAPo/AAAAAAAAEUB9PzVeuknyPxyxFp8CABRAHLEWnwIAFEBeukkMAivfP/p+arx0kwdACtejcD0KCEDb+X5qvHQLQHE9CtejcO0/c2iR7Xw/BkBGtvP91HgOQMl2vp8aLwtAYOXQItv57j+amZmZmZkFQGZmZmZmZv4/NV66SQwC/T9/arx0kxjwP4cW2c73U/s/O99PjZdu+D99PzVeukkMQAAAAAAAAABA30+Nl24SAUDl0CLb+X74P8dLN4lBYA5AAAAAAAAABkD0/dR46SbpP1TjpZvEIP4/FK5H4XoU9j8csRafAgAUQC/dJAaBlf8/xSCwcmiRA0Cmm8QgsHL6P9V46SYxCAhA001iEFg57D8csRafAgAUQH9qvHSTGPo/TmIQWDm0/j8GgZVDi2wMQIPAyqFFNhFAhxbZzvdT2z9zaJHtfD8OQB+F61G4HgVAgZVDi2zn8T/2KFyPwvUBQAAAAAAAAPQ/UI2XbhKD5D99PzVeuknsP4lBYOXQIg9ANV66SQwC/z8csRafAgAUQAAAAAAAAP4/bef7qfHSAECgGi/dJAYBQGZmZmZmZvw/NV66SQwC/T+F61G4HoX5P2ZmZmZmZvw/+n5qvHST8j8csRafAgAUQAAAAAAAAPo/rkfhehSu9T+sHFpkO9/vP/YoXI/C9fI/tMh2vp8a+T9aZDvfT433P9v5fmq8dOs/HLEWnwIAFEDy0k1iEFj7P28Sg8DKoQRAfT81XrpJ+j91kxgEVo4RQFyPwvUoXO8/f2q8dJMYB0Coxks3iUEAQOOlm8QgsAZAAAAAAAAA+j/l0CLb+X7uP6wcWmQ73/k/AAAAAAAA/j9I4XoUrkf5P1g5tMh2PhJAEFg5tMh28D8QWDm0yHb6P5zEILByaOE/WmQ730+N9z9mZmZmZmbuP+F6FK5H4fY/tMh2vp8a7z+q8dJNYhDyP+58PzVeuvs/ppvEILByD0ApXI/C9SjkP2IQWDm0yAdAke18PzVeA0BQjZduEoMHQH9qvHSTGPI/wcqhRbbz9T/4U+Olm8QHQHsUrkfhegNABFYOLbKd7z8v3SQGgZUDQNNNYhBYOQpAAAAAAACAEUApXI/C9Sj6P/yp8dJNYvA/wcqhRbbz8T8lBoGVQ4v6PwAAAAAAAARAsp3vp8ZL+T8AAAAAAADsP5qZmZmZmfU/cT0K16Nw6T9WDi2yne/5PxKDwMqhRQJA5dAi2/l+9j83iUFg5dDmP+f7qfHSTQVAarx0kxgE6j+amZmZmZn9P/LSTWIQWApANV66SQwC+z9Ei2zn+6nxPxyxFp8CABRABoGVQ4ts6z+oxks3iUHkPxyxFp8CABRAnMQgsHJo/T/pJjEIrBz4PzvfT42XbgNAiUFg5dAiCkBvEoPAyqEBQKjGSzeJQQNAHLEWnwIAFECwcmiR7XzvP05iEFg5tPo/O99PjZduAECiRbbz/dTsP5HtfD81Xv4/AAAAAAAA+j8ZBFYOLbIKQAisHFpkO+s/Gy/dJAaB9T+JQWDl0CL3PzMzMzMzMwFAMzMzMzMz7z/NzMzMzMwAQPYoXI/C9QhAAAAAAAAACED+1HjpJjEAQIcW2c73UwRAj8L1KFyP8j+4HoXrUbj6P42XbhKDwA9AKVyPwvUoAkAcsRafAgAUQByxFp8CABRA16NwPQrX/z+6SQwCK4cNQM3MzMzMzMw/ObTIdr6f7j8Sg8DKoUUNQN0kBoGVQwFAcT0K16NwAEAcsRafAgAUQKrx0k1iEARASgwCK4cWDUDwp8ZLN4kHQAaBlUOLbPs/gZVDi2znBED8qfHSTWLyP3npJjEIrARANV66SQwC8T/ZzvdT46XvP1yPwvUoXANAx0s3iUFg9z8j2/l+arz4P5qZmZmZmf8/XrpJDAIrB0B1kxgEVg4KQHWTGARWDuE/f2q8dJMY7D+6SQwCK4f8P/Cnxks3if8/WDm0yHa+8z8730+Nl24HQMUgsHJokfE/rBxaZDvf8z+8dJMYBFbiP+Olm8QgMBBAAAAAAAAA/j/8qfHSTWLkP/7UeOkmMfA/AAAAAAAAFEAfhetRuB7dPwrXo3A9ihJANV66SQwC/T9kO99PjZcIQFg5tMh2vg1A7FG4HoXr4T++nxov3SQHQFCNl24Sg/Q/g8DKoUW2BUCJQWDl0CL9P1pkO99PjQFASgwCK4cW6T+Nl24Sg8DuP/p+arx0kw9AzczMzMzMAUAAAAAAAADsPwAAAAAAAPY/46WbxCCwA0DpJjEIrBz8P6jGSzeJQfo/c2iR7Xw/9T956SYxCKz0PyGwcmiR7QFAObTIdr6f8D8/NV66SQzyPxsv3SQGgQNAJzEIrBxa7D8tsp3vp8b9Py2yne+nxv0/WDm0yHa++T+sHFpkO9/3P6abxCCwcug/HLEWnwIAFEBkO99PjZfuPwAAAAAAAANACKwcWmS7EECamZmZmZn/P3Noke18P+U/hetRuB6FBUCF61G4HoUBQLTIdr6fGvk/Rrbz/dR49T+8dJMYBFYAQBsv3SQGgQFASgwCK4cW/T/2KFyPwvX6P1YOLbKd7wdAj8L1KFyP+j/2KFyPwvX+PwAAAAAAAAFATDeJQWDlDkBGtvP91HgFQOXQItv5fvQ/GQRWDi2yBUB9PzVeuknsPz0K16NwPfA/UrgehevRE0D4U+Olm8T6P8/3U+Olm/Y/HLEWnwIAFEBOYhBYObQJQBKDwMqhReo/7nw/NV667T/hehSuR+H6P5qZmZmZmfU/ppvEILByA0CJQWDl0CL5P4cW2c73U+8/O99PjZdu/D9KDAIrhxb1Pxsv3SQGgQVAvp8aL90kCUDHSzeJQWD9PwAAAAAAAPA/+n5qvHSTAkB/arx0kxj2PwAAAAAAAPo/mG4Sg8BKEkASg8DKoUX2P4/C9ShcjwNAg8DKoUW24z/2KFyPwvUCQAAAAAAAAPI/xSCwcmiR8z8csRafAgAUQARWDi2ynfE/30+Nl24SCEDNzMzMzMz6P4PAyqFFtgNA8tJNYhBYBkCPwvUoXI8QQGIQWDm0yOI/ZDvfT42XB0Ce76fGSzcNQBBYObTIdg1AiUFg5dAiA0AGgZVDi2zzPzMzMzMzMwFA001iEFg58j+28/3UeOkCQEa28/3UePs/4XoUrkfhA0A5tMh2vp/iPxkEVg4tsuU/001iEFg56D97FK5H4Xr8P4cW2c73U+M/SgwCK4cWAkC4HoXrUbj8Px1aZDvfT/k/fT81XrpJBkAIrBxaZDsTQPhT46WbxP4/eekmMQis9j8QWDm0yHYKQAAAAAAAAPA/UI2XbhKD8D8fhetRuB7hP4PAyqFFtv0/d76fGi/d/j97FK5H4XoEQClcj8L1KPY/EoPAyqFF5j9YObTIdr4DQBKDwMqhRQVAAAAAAAAA+j83iUFg5dAJQG3n+6nx0vc/KVyPwvUoEUAcsRafAgAUQIcW2c73UwRAc2iR7Xw/CkB1kxgEVg77PzvfT42XbgRAppvEILBy6D/TTWIQWDn4PxfZzvdT4whAAAAAAAAA/j91kxgEVg4BQESLbOf7qQBA001iEFg5AECiRbbz/dTsP8UgsHJoke0/16NwPQrX9T8bL90kBoHtP5zEILByaOk/j8L1KFyP7j9WDi2yne8DQKwcWmQ73/E/5dAi2/l+/j/jpZvEILD+PxyxFp8CABRAqMZLN4lB4D8pXI/C9Sj6P1CNl24Sgw1APQrXo3A94j8AAAAAAADoP1K4HoXrUQJAEoPAyqFFC0BU46WbxCAGQL6fGi/dJP4/2c73U+Ol5z8AAAAAAAD4P/Cnxks3ifc/AiuHFtnO/T+YbhKDwMoCQJqZmZmZmfM/tvP91HjpD0AAAAAAAAAEQJMYBFYOLfI/L90kBoGVA0AAAAAAAAACQIGVQ4ts5/0/LbKd76fGCEBMN4lBYOX0P/yp8dJNYgtAzczMzMzM5D8dWmQ7308GQDVeukkMAvs/I9v5fmq8EEBxPQrXo3DxPwRWDi2ynfk/mpmZmZmZC0CNl24Sg8AQQO58PzVeugBAMzMzMzMz7z8csRafAgAUQMdLN4lBYPE/hxbZzvdT9T99PzVeukngPyGwcmiR7QhAPQrXo3A9DUAAAAAAAAD8P3Noke18P/s/XI/C9ShcBkC+nxov3ST0P7bz/dR46fg/Di2yne+n6j81XrpJDAL5P8l2vp8aLwFA2c73U+Ol8T9mZmZmZmb6P/YoXI/C9QtAHLEWnwIAFEDpJjEIrBz0P0w3iUFg5f4/HLEWnwIAFEBWDi2yne//PxyxFp8CABRAvp8aL90k+j8AAAAAAAD2P3E9CtejcPM/5dAi2/l+DkCBlUOLbOfxP4/C9Shcj+I/0SLb+X5q5D91kxgEVg4NQFCNl24SgwBARIts5/upDUCTGARWDi3qP7gehetRuAVAhetRuB6F/z+wcmiR7XznP4lBYOXQIghAiUFg5dAi8z/ZzvdT46UEQGZmZmZmZsY/HVpkO99P9z9SuB6F61HwPwAAAAAAABBAWDm0yHa+7z/RItv5fmoTQC/dJAaBFRNAnMQgsHJo5T/VeOkmMQgOQIlBYOXQIvs/AiuHFtnOA0AnMQisHFr6P42XbhKDwAhA2c73U+Ol/T/RItv5fmoCQGDl0CLb+fg/MzMzMzMzCECyne+nxkvvP7TIdr6fGgRAGy/dJAaBBkDl0CLb+X74P6abxCCwcgxAaJHtfD818D9I4XoUrkcFQIPAyqFFtvk/EFg5tMh2CECamZmZmZn3PwIrhxbZzv0/arx0kxgE+j8X2c73U2MTQAAAAAAAAPw/JzEIrBxa9D9oke18PzUNQOxRuB6F6wJAH4XrUbgeAUCq8dJNYhACQDm0yHa+n/Q/hetRuB6F5z8nMQisHFryPwAAAAAAAPw/ppvEILByCUDl0CLb+X4KQM3MzMzMzP4/hetRuB6F+T/VeOkmMQj6P/Cnxks3ieU/1XjpJjEIAUDl0CLb+X72P9ejcD0K1/0/2/l+arx0D0AZBFYOLbLhPzEIrBxaZBBA46WbxCCw/j/Xo3A9CtfvPwAAAAAAAPw/SOF6FK5H+T+0yHa+nxrxP5MYBFYOLQZAiUFg5dAiCkC4HoXrUbjuPxKDwMqhRRFAWmQ730+N+z8AAAAAAADyPwAAAAAAAAJAw/UoXI/CBEBSuB6F61EHQFTjpZvEIOA/AAAAAAAA+D8rhxbZzvcBQEw3iUFg5fQ/5/up8dJN5j89CtejcD0MQOXQItv5fgJAnMQgsHJoAEAMAiuHFtkPQM/3U+Olm/Y/7nw/NV66+z8QWDm0yHb0Pylcj8L1KAdA46WbxCCw7j/y0k1iEFj1P7ByaJHtfPc/NV66SQwC/T9GtvP91HjhP8P1KFyPwuE/AAAAAAAA+D+mm8QgsHLwP0Jg5dAi2+0/GQRWDi2y8z8lBoGVQ4sCQIXrUbgehfk/hxbZzvdT8T8v3SQGgZXbP0w3iUFg5fA/IbByaJHt+j/pJjEIrBzSP28Sg8DKoQZAWDm0yHa+AkAAAAAAAAABQKabxCCwcgBAAAAAAAAA+D/hehSuR+H+P6YPXVDfMsM/MzMzMzMz+z8hsHJoke36P+xRuB6F6+0/46WbxCCw/j8K16NwPQr9P90kBoGVQ/8/Gy/dJAaB8z83iUFg5dD2P4cW2c73U/k/ppvEILBy+j/NzMzMzMz4P0a28/3UeO0/mG4Sg8DK5T+0yHa+nxoGQDeJQWDl0ApAx0s3iUFg8z+8dJMYBFb8PwAAAAAAAP4/uB6F61G4/j9/arx0kxgIQNv5fmq8dPk/HLEWnwIAFEBMN4lBYOUFQIPAyqFFtgJAHLEWnwIAFEBt5/up8dIBQDvfT42XbvY/xSCwcmiR+T81XrpJDALzPxyxFp8CABRA4XoUrkfh8D8GgZVDi2wBQAAAAAAAAP4/lkOLbOf7BkD2KFyPwvX0P0Jg5dAi2+E/gZVDi2zn+T99PzVeukkEQM3MzMzMzPg/7FG4HoXrCEB/arx0kxjsPyGwcmiR7fA/7FG4HoXr9T81XrpJDAL5P42XbhKDwPg/YhBYObTI+j8dWmQ7308SQByxFp8CABRAVOOlm8Qg/j+e76fGS7cRQByxFp8CABRAHLEWnwIAFEAAAAAAAAD+P5HtfD81XuI/AAAAAAAAD0DD9Shcj8IFQDeJQWDl0Po/2c73U+MlEEB56SYxCKz+PxyxFp8CABRAVg4tsp3v/T8MAiuHFtnuP8UgsHJoke0/6SYxCKwcAUDNzMzMzMz4P0jhehSuR/U/AAAAAAAABkAUrkfhehQDQIcW2c73U/k/j8L1KFyP5j9iEFg5tMgBQGDl0CLbeRBABFYOLbKd/T8csRafAgAUQJHtfD81XvY/5dAi2/l+/D+wcmiR7Xz5PwAAAAAAAPQ/8KfGSzeJ/z97FK5H4XrkP4lBYOXQIv8/AAAAAAAA+j81XrpJDALrPwRWDi2yneM/2/l+arx0DUDwp8ZLN4nzP1pkO99Pjes/mG4Sg8DKAECHFtnO91P7PwAAAAAAAPw/qMZLN4lB9D/6fmq8dJMGQARWDi2ynQBAeekmMQis8D++nxov3SQBQBkEVg4tsuk/DAIrhxbZBUAAAAAAAAADQARWDi2ynec/Gy/dJAaB/T9cj8L1KFwLQI2XbhKDwPQ/7FG4HoXrAUC0yHa+nxr5P2Q730+Nlw9ACKwcWmQ7+T/Jdr6fGi/zPycxCKwcWglAAAAAAAAAAUBCYOXQItvlP9Ei2/l+avo/wcqhRbbz7T/RItv5fmrsP1pkO99Pjf0/XrpJDAIrCkCwcmiR7Xz1PxyxFp8CABRAVg4tsp3v+T8csRafAgAUQLx0kxgEVgJAAAAAAAAA8j+8dJMYBFYMQCuHFtnO9wxAAAAAAAAA+j8UrkfhehTwP0SLbOf7qeU/EoPAyqFF4j+R7Xw/NV76P7x0kxgEVgBAMQisHFpkC0AK16NwPQr9P1yPwvUoXAhAbef7qfHSAkAMAiuHFtnwPx1aZDvfTwdA8KfGSzeJ+T8X2c73U+PxP4lBYOXQIvM/x0s3iUFgCkCsHFpkO9/1P9NNYhBYOfA/YOXQItv58j+HFtnO91P1P83MzMzMzOA/+FPjpZvEAkAAAAAAAADoP2iR7Xw/Nfw/WDm0yHa+C0C+nxov3SQEQPLSTWIQWOE/mpmZmZmZ5T/NzMzMzMz2P6jGSzeJQfA/yXa+nxovAkBg5dAi2/kKQDVeukkMAvM/mpmZmZmZ5T8pXI/C9SgAQL6fGi/dJO4/YhBYObTI7j8AAAAAAAACQBkEVg4tsgRA5dAi2/l+8D+Nl24Sg8DyP5HtfD81Xvo/CtejcD0K9z8csRafAgAUQHe+nxov3fg/JzEIrBxa8j8ZBFYOLbLzP76fGi/dJAJAd76fGi/d/D+sHFpkO98IQAIrhxbZzvc/tMh2vp8a6z/8qfHSTWLkP/YoXI/C9QRAoBov3SSGEUAfhetRuB4CQNV46SYxCOw/pHA9CtejC0DRItv5fmr2P7x0kxgEVg1ARIts5/upBUA1XrpJDAL7Pxsv3SQGgQdAvp8aL90kBEAIrBxaZDvrP2ZmZmZmZgVAJQaBlUOL9j/Xo3A9CtcGQGiR7Xw/Nfg/AAAAAAAAAkAlBoGVQ4vcPwAAAAAAABJA8tJNYhBYAkAAAAAAAAACQBSuR+F6FPY/NV66SQwC7z+YbhKDwMr5P0oMAiuHFvc/AAAAAAAAEkCamZmZmZnzP0w3iUFg5QNARrbz/dR49T8MAiuHFtkLQHWTGARWDuk/c2iR7Xw/8T8bL90kBoH3P1TjpZvEIP4/AAAAAAAA+j+Nl24Sg8DiPzEIrBxaZP0/d76fGi/d/D8AAAAAAAD8P8HKoUW28/U/mpmZmZmZ8T956SYxCKwCQLpJDAIrh/Q/AAAAAAAADECiRbbz/dT4P/Cnxks3iQRAsHJoke186z8GgZVDi2znP0SLbOf7qQRAf2q8dJMY5D9mZmZmZmYTQNejcD0K1/M/XI/C9Shc+T+JQWDl0CLvP6wcWmQ73/0/ukkMAiuHC0B56SYxCKz6PwaBlUOLbPE/N4lBYOVQE0AnMQisHFoAQNv5fmq8dAJA9ihcj8L14D+PwvUoXI/8PxyxFp8CABRAHLEWnwIAFEBeukkMAivrPxyxFp8CABRAWDm0yHa+A0A1XrpJDAL5P/hT46WbxAJACKwcWmQ73z+HFtnO91P3P7gehetRuAVAHLEWnwIAFEAAAAAAAADsP+kmMQisHOY/fT81XrpJ9j+sHFpkO98FQMdLN4lBYAJAbef7qfHS5T99PzVeuknyPy/dJAaBlfk/Di2yne+n8j+YbhKDwMoAQD81XrpJDOY/001iEFg58D8fhetRuB4BQAaBlUOLbAxATDeJQWDl7D+wcmiR7Xz5P6abxCCwcuQ/2/l+arx0AUB9PzVeukkEQGq8dJMYBOo/kxgEVg4t/j8QWDm0yHb6PzVeukkMAvE/AiuHFtnOAEAEVg4tsp33PwAAAAAAAPI/AAAAAAAA/D91kxgEVg75P/hT46WbxPI/vHSTGARWAkAAAAAAAAAMQBsv3SQGgfs/F9nO91Pj/z9U46WbxCAEQAAAAAAAAAhABoGVQ4ts+T/y0k1iEFgBQK5H4XoUrv8/sHJoke18DED4U+Olm8T+Pylcj8L1KAlAAAAAAAAA4D8AAAAAAAD6PyPb+X5qvPo/aJHtfD819j8EVg4tsp33PxSuR+F6FANAg8DKoUW28T9OYhBYObQKQCPb+X5qvP4/hetRuB6FB0C4HoXrUbj4P+f7qfHSTfg/HLEWnwIAFECiRbbz/dQJQOXQItv5fvo/GQRWDi2yAUDdJAaBlUP7P5huEoPAyv8/AAAAAAAA+j+mm8QgsHIQQNejcD0K1wpAQmDl0CLb9z+F61G4HoUOQAaBlUOLbP0/yXa+nxov7T/2KFyPwnUQQDm0yHa+nwFAsp3vp8ZL+T8Sg8DKoUXmP6RwPQrXowVAIbByaJHtBEApXI/C9SgPQAAAAAAAAOg/0SLb+X5q/D/dJAaBlUP7P3npJjEIrPg/tMh2vp8a9T/RItv5fmrcPzMzMzMzM/c/IbByaJHtAUAAAAAAAAD+P3e+nxov3f4/JzEIrBxa7D8GgZVDi2z9PwAAAAAAAAJAc2iR7Xw//T9qvHSTGAT2P9NNYhBYOQVABoGVQ4ts1z8UrkfhehT0P5MYBFYOLfY/lkOLbOd7E0D6fmq8dJP8P4XrUbgehfU/8KfGSzeJCEC6SQwCK4fyP3Noke18P+0/rBxaZDvfAEAj2/l+arwEQGIQWDm0yAtAi2zn+6nx+j++nxov3ST4Pylcj8L1KPI/aJHtfD81CEA730+Nl+4QQOOlm8QgsBNA5dAi2/l+/j+amZmZmZkDQG3n+6nx0uE/4XoUrkfh6j8AAAAAAAAGQLx0kxgEVv4/30+Nl24SBkAv3SQGgZUJQLx0kxgEVgdA7nw/NV665T89CtejcD3+P83MzMzMzOw/zczMzMzMCkASg8DKoUX8P4XrUbgehe8/PzVeukkMAEDdJAaBlUPjP05iEFg5tP4/+n5qvHST/j+WQ4ts5/sKQAAAAAAAAAJAc2iR7Xw/B0BxPQrXo3DzP9v5fmq8dAdAH4XrUbge8T8dWmQ7308FQM/3U+Olm+g/ObTIdr6fAUCTGARWDi3wP5ZDi2zn+xJATDeJQWDl5D/+1HjpJjHyP4lBYOXQIgFAvHSTGARWAUBYObTIdr7/P2Dl0CLb+QBAN4lBYOXQAUASg8DKoUUFQAAAAAAAANg/MzMzMzMzBUAxCKwcWmTxPxfZzvdT490/AAAAAAAA/j+DwMqhRbbjP3E9CtejcAtAj8L1KFyP+j8csRafAgAUQAAAAAAAAPY/y6FFtvP97D+kcD0K16PoPxkEVg4tsvc/HVpkO99P7T++nxov3ST4PzeJQWDl0Pg/JQaBlUOL7D8IrBxaZDsBQG8Sg8DKoeE/L90kBoGV/z9OYhBYObT4P3npJjEIrPY/sHJoke187z/RItv5fmr4P/Cnxks3ifE/nMQgsHJo+z8OLbKd76fwPzm0yHa+n/g/mpmZmZmZBUDsUbgehesGQM3MzMzMzApA1XjpJjEI9j+PwvUoXI8CQBsv3SQGgQ9A5dAi2/l+5j956SYxCKz2PzVeukkMAvk/AAAAAAAAEkArhxbZzvf/P+XQItv5fu4/AiuHFtnO6z8AAAAAAAD+P1g5tMh2vgFAN4lBYOXQ4j8bL90kBoH1P0oMAiuHFgNAWDm0yHa++T9t5/up8dL1PwrXo3A9Cvc/sHJoke18+T8MAiuHFtn4PzeJQWDl0PY/HVpkO99P8z/+1HjpJjH0P99PjZduEgFATmIQWDm08j/ufD81Xrr9P3sUrkfhegxAAAAAAAAA+D+mm8QgsHLsP+58PzVeugRAHLEWnwIAFEDRItv5fmr0P5HtfD81XuY/7FG4HoXr9T9MN4lBYOUFQHE9CtejcO0/IbByaJHt8j8730+Nl24QQBSuR+F6FPA/nu+nxku3E0D2KFyPwvXyPylcj8L1KPI/+FPjpZvE7D8csRafAgAUQByxFp8CABRAnMQgsHJo9z8pXI/C9SjyPwAAAAAAAAZAZmZmZmZm8D/wp8ZLN4n3PwAAAAAAAAJA5/up8dJN9j9U46WbxCD8Pz0K16NwPeI/xSCwcmiRBUCiRbbz/dQFQPyp8dJNYug/d76fGi9dE0BMN4lBYOX8PwrXo3A9CgNAAAAAAAAA9j8CK4cW2c79P3e+nxov3f4/CtejcD0K6z+e76fGSzfxP8P1KFyPwuE/001iEFg5BUCq8dJNYhAPQAIrhxbZThNAGQRWDi2y/z9Ei2zn+6ntPxkEVg4tsgtAokW28/3U2D++nxov3STiP5huEoPAyvM/arx0kxgE7j9t5/up8dLtPylcj8L1KNw/vp8aL90k5j++nxov3SQIQLx0kxgEVgRAYhBYObTIAECF61G4HoX9P7ByaJHtfOc/H4XrUbgeC0CYbhKDwMrtP8l2vp8aLwBAhxbZzvdT9T8OLbKd76cFQJ7vp8ZLNwNAfT81XrpJ9j89CtejcD3iPx1aZDvfT/s/30+Nl24S8z+R7Xw/NV78P166SQwCKwdAAiuHFtnOB0Av3SQGgZXxP5qZmZmZmfc/yXa+nxov6T/ZzvdT46X5P3e+nxov3eg/cT0K16PwEkAcsRafAgAUQLKd76fGS/U/7FG4HoXr7T+cxCCwcmgGQPCnxks3iQRACtejcD0KB0Atsp3vp8b5P+xRuB6F6/U/16NwPQrX4z+Nl24Sg8ARQEJg5dAi2+U/K4cW2c73BEAbL90kBoHxP6wcWmQ7XxBA1XjpJjEI/D9vEoPAyqH3PwAAAAAAAAdAbef7qfHS7T9qvHSTGATuPy/dJAaBlfs/sHJoke18CUBvEoPAyqH9P3e+nxov3eQ/jZduEoPA/D9GtvP91Hj5P+f7qfHSTfg/i2zn+6nx5j8EVg4tsp0DQN0kBoGVQwJABoGVQ4ts/z9iEFg5tMj+P0oMAiuHFuU/L90kBoGVBkDZzvdT46X9PycxCKwcWuw/mpmZmZmZ5T+LbOf7qfH2P7TIdr6fGvM/3SQGgZVDAUBkO99PjZcEQKwcWmQ73w1Ake18PzVe+D8OLbKd76cDQJqZmZmZmek/wcqhRbbz9T8nMQisHFoFQDm0yHa+nw9A+FPjpZvEAUAcsRafAgAUQByxFp8CABRAbxKDwMqhAkAtsp3vp8YEQKjGSzeJQQFA2/l+arx0A0CDwMqhRbYBQAAAAAAAAPI/FK5H4XoUD0BmZmZmZmYQQBSuR+F6FPo/AAAAAAAAFEAbL90kBoECQCcxCKwcWug/8tJNYhBYEkDn+6nx0k0NQFg5tMh2vgdAjZduEoPA4j+JQWDl0CLrP/hT46WbxPI/qMZLN4lB9D+HFtnO91P7PxfZzvdT4/c/CtejcD0K8z8AAAAAAAAOQJhuEoPAygZAnu+nxks3+z8csRafAgAUQC/dJAaBle8/2/l+arx04z8MAiuHFtn2P7bz/dR46QFAAAAAAAAA9j9t5/up8dIHQNV46SYxCPI/VOOlm8Qg8j8GgZVDi2zzP6wcWmQ73wNAHVpkO99PEEC6SQwCK4cMQDVeukkMAvE/BoGVQ4ts8z8Sg8DKoUUDQPhT46WbxANAqvHSTWIQ9j8EVg4tsp3rPxyxFp8CABRA5/up8dJNAUCmm8QgsHIIQIcW2c73U/k/L90kBoEVEkBmZmZmZmbuP7bz/dR46fA/30+Nl24S6z9oke18PzUDQAAAAAAAAPo/tvP91Hjp7j8bL90kBoHtP6jGSzeJQQJA/tR46SYx8j8UrkfhehTmPxyxFp8CABRAAAAAAAAAAkDXo3A9Ctf7PxyxFp8CABRAPQrXo3A9BEBoke18PzUGQDeJQWDl0AZATDeJQWDl7D/8qfHSTWL+P4cW2c73UwlA9P3UeOkmCECYbhKDwMrtP76fGi/dJO4/tMh2vp8aAUAAAAAAAAD+PxyxFp8CABRAdZMYBFYOCkAAAAAAAAAIQKAaL90kBvc/HLEWnwIAFEBU46WbxCAFQFYOLbKd7+M/aJHtfD819j93vp8aL93wP1K4HoXrUeQ/HLEWnwIAFECyne+nxkvvP/yp8dJNYvQ/2c73U+Ol9T9g5dAi2/n4P6wcWmQ73xFAzczMzMzM5D99PzVeukn4P42XbhKDwP4/5dAi2/l++D+6SQwCK4f6P7x0kxgEVgRAI9v5fmq8AkAAAAAAAADyP8uhRbbz/fI/EoPAyqFFA0BEi2zn+6kGQAAAAAAAABJAeekmMQis4D8X2c73U+PhP/7UeOkmMew/tvP91HjpA0DByqFFtvPlPzVeukkMAvk/N4lBYOXQBUAIrBxaZDsLQBsv3SQGgQFAO99PjZdu5j8csRafAgAUQAAAAAAAAPo/F9nO91Pj8T9vEoPAyqHxP1g5tMh2vuc/UI2XbhKD8D/wp8ZLN4n7Px+F61G4HvU/z/dT46Wb+j9eukkMAivxP90kBoGVQ/E/EoPAyqFF7j/0/dR46SblPx1aZDvfT/k/Di2yne+n7j+4HoXrUbjyP/LSTWIQWPs/7nw/NV667T8AAAAAAAD6PzVeukkMAv8/8KfGSzeJ9T8ZBFYOLbLzP1CNl24Sg/I/uB6F61G46j+BlUOLbOfjPwIrhxbZzuc/N4lBYOXQ/D+HFtnO91P/PxyxFp8CABRASgwCK4cW9z+q8dJNYhD0P0Jg5dAi2+k/SgwCK4cW5T/dJAaBlUP5PxyxFp8CABRAIbByaJHt/D9MN4lBYOUCQHsUrkfhevA/JzEIrBxaAUBEi2zn+6kOQByxFp8CABRAuB6F61G46j/0/dR46SYBQAAAAAAAAPA/nu+nxks36T8IrBxaZDvvPyUGgZVDi/w/K4cW2c73BkDP91PjpZsFQK5H4XoUrv0/y6FFtvP97D9KDAIrhxYBQBfZzvdT4/M/ZmZmZmZmAEDwp8ZLN4kEQNEi2/l+ag9AhxbZzvdT9T9WDi2yne/9PzvfT42XbgRAmG4Sg8DKC0BGtvP91Hj7PwAAAAAAAPI/O99PjZdu6j+0yHa+nxrfP9v5fmq8dPU/qvHSTWIQAkAcsRafAgAUQM3MzMzMzBJAqvHSTWIQAkBI4XoUrkf5PyPb+X5qvPI/9P3UeOmmEECHFtnO91PzP7TIdr6fGgJAWmQ730+N8z8AAAAAAADwP1yPwvUoXAJAhxbZzvdT/z8zMzMzMzPrP5MYBFYOLQVAuB6F61E4EkApXI/C9Sj8P8HKoUW28+k/ObTIdr6f+j8730+Nl27qPy2yne+nxgVA46WbxCCwBUD0/dR46SYDQLByaJHtfPs/sHJoke188z8tsp3vp8b7P76fGi/dJANAN4lBYOXQ4j8AAAAAAAAHQDm0yHa+n+Y/30+Nl24S/T/+1HjpJjHyPyGwcmiR7QFAtMh2vp8aDEC0yHa+nxoIQG3n+6nx0uk/0SLb+X5q+D/LoUW28/0CQE5iEFg5tPw/HLEWnwIAFEAIrBxaZDv7P6abxCCwcvo/30+Nl24SAkBaZDvfT435PxSuR+F6FA1AiUFg5dAi9T++nxov3SQOQDVeukkMAu8/sp3vp8ZLCUCBlUOLbOcJQAAAAAAAAA9AQmDl0CLb9z8csRafAgAUQAAAAAAAAAJAz/dT46Wb/D8AAAAAAADsPzeJQWDl0PQ/HLEWnwIAFEDsUbgehesLQFyPwvUoXOc/+n5qvHSTA0DVeOkmMQgGQBkEVg4tsgNATDeJQWDlAkD6fmq8dJMCQHWTGARWDuE/f2q8dJMY+j9eukkMAivnP8P1KFyPwgJAAAAAAAAA+D/6fmq8dJPyPzVeukkMAv0/XI/C9Shc8z/8qfHSTWLsPzMzMzMzM/0/L90kBoGV/z/l0CLb+X70P3sUrkfheug/AAAAAAAACEAcsRafAgAUQNnO91Pjpfk/DAIrhxbZCkCe76fGSzf5P+XQItv5fv4/IbByaJHt/D956SYxCKzwPxfZzvdT4/E/dZMYBFYO/z/n+6nx0k0EQLgehetRuPQ/N4lBYOXQ8j/Jdr6fGi8LQDvfT42XbgtASOF6FK5H/z83iUFg5dDqP76fGi/dJO4/5dAi2/l+9j9YObTIdr75P0oMAiuHFvs/30+Nl24SBkAxCKwcWmT3P8l2vp8aLwBApHA9Ctej+D+uR+F6FK71P6wcWmQ73wJAz/dT46Wb9D8rhxbZzvcDQAAAAAAAAAhA2/l+arx09T/jpZvEILAIQAAAAAAAAAxA7nw/NV668T+6SQwCK4f+P5zEILByaPE/tMh2vp8a9z+q8dJNYhD6P9NNYhBYOfo/XI/C9Shc7z8IrBxaZDv1P9nO91PjpQZAfT81XrpJEEBCYOXQItsDQKRwPQrXo+Q/HLEWnwIAFEC0yHa+nxr/PwAAAAAAAPY/ke18PzVe9D+yne+nxkvrP8l2vp8aL/8/46WbxCCwAUCNl24Sg8D+P65H4XoULhBAhetRuB6F5z8ZBFYOLbICQDVeukkMAvM/ZmZmZmZm5j9zaJHtfD/9PxyxFp8CABRACKwcWmQ7+T+iRbbz/dQDQByxFp8CABRAbxKDwMqhDEBoke18PzXiP/7UeOkmMQhAqvHSTWIQ9D+28/3UeOkOQH9qvHSTGPw/rkfhehSu8T9WDi2yne8OQAAAAAAAAPY/sp3vp8ZLAkCBlUOLbOf3Py/dJAaBlec/HLEWnwIAFECJQWDl0CL1P65H4XoUrus/nu+nxku3EEAEVg4tsp37P4GVQ4ts5+8/MzMzMzMz5z8hsHJoke38P3npJjEIrAhAqvHSTWIQB0CTGARWDi0IQLTIdr6fGgdAAAAAAAAA8D+kcD0K16MCQIGVQ4ts5/U/jZduEoPAAEDufD81XroDQHe+nxov3eQ/2c73U+OlE0Dwp8ZLN4kMQH0/NV66Sfo/001iEFg57D+LbOf7qfH4P3npJjEIrP4/NV66SQwC6z/RItv5fmr+PwAAAAAAAPI/O99PjZdu8j9WDi2yne/7Pylcj8L1KPI//Knx0k1i+D+gGi/dJAYEQDEIrBxaZP0/HLEWnwIAFECsHFpkO98IQKabxCCwcgJA7FG4HoXr5T8xCKwcWmQFQHNoke18P/c/j8L1KFyPBkDFILByaJEGQJHtfD81Xv4/JzEIrBxaBECsHFpkO9/5P2iR7Xw/Nf4/HLEWnwIAFEBoke18PzXuPwaBlUOLbAtApHA9Ctej/j/4U+Olm8QAQM3MzMzMzAJAUI2XbhKDAkCiRbbz/dT0Pw4tsp3vpwBAHLEWnwIAFEBg5dAi2/n6P3Noke18PwJA5/up8dJN9D+uR+F6FK71P99PjZduEvk/46WbxCCwAEArhxbZzncRQLgehetRuOY/0SLb+X5q7D+HFtnO91MLQAisHFpkO/M/g8DKoUW29z8csRafAgAUQAAAAAAAAA5AAAAAAAAA9j8j2/l+arzkPyUGgZVDiwJAg8DKoUW2+T8UrkfhehQEQM3MzMzMzPY/PQrXo3A9/D+8dJMYBFb8P4ts5/up8QhA30+Nl24S6z8EVg4tsp3zP4PAyqFFtv8/AAAAAAAAFED8qfHSTWIGQDMzMzMzM/8/001iEFg5AECHFtnO91MMQMP1KFyPwgRAHLEWnwIAFECYbhKDwMoFQAaBlUOLbP0/d76fGi/dBkAAAAAAAAACQJzEILByaAdARIts5/up4T/2KFyPwvUEQAaBlUOLbPk/8KfGSzeJ+z956SYxCKz+PwAAAAAAAAJAhxbZzvdT8T+TGARWDi3yPwAAAAAAAPA/eekmMQis/j+Nl24Sg8DyPxkEVg4tsvE/RIts5/up6T8xCKwcWmTvP+f7qfHSTQRAYhBYObTI3j8MAiuHFtn+P3Noke18P/U/nMQgsHJo/z9Ei2zn+6kJQFpkO99PjQlAsp3vp8ZLAEDFILByaJEAQMUgsHJokek/HLEWnwIAFEBmZmZmZmYKQD0K16NwPfY/AAAAAAAA/j8730+Nl+4RQGiR7Xw/Nfw/vp8aL90k/D956SYxCKzwP8HKoUW28/k/46WbxCCw+j+YbhKDwMr5P+XQItv5fvg/tMh2vp8a+T+yne+nxkv5P8/3U+Olm+g/EFg5tMh2+j+F61G4HoXnP4ts5/up8fI/YhBYObTI9j8GgZVDi2wGQPT91HjpJvE/hxbZzvdT/T8EVg4tsp3vP8P1KFyPwgJA9ihcj8L19j9I4XoUrkfxP7Kd76fGS+8/j8L1KFyP5j/fT42XbhICQMl2vp8aLwNAbef7qfHS9T9MN4lBYOX8P166SQwCKwNAqMZLN4lBBUC8dJMYBFYAQJqZmZmZmfM/UrgehetRAEBzaJHtfD//P90kBoGVQwFAHLEWnwIAFECoxks3iUHoPwisHFpkOwVATDeJQWDlBUA5tMh2vp/yPzVeukkMAuM/7FG4HoXr9T/fT42XbhLzP/Cnxks3iQNAMzMzMzMz+z8GgZVDi2wGQM3MzMzMzAZA0SLb+X5q8D9I4XoUrkfzPyGwcmiR7QxAg8DKoUU2EkDfT42XbhIBQEjhehSuR/k/XI/C9ShcAUD8qfHSTWLkPyUGgZVDiwNAkxgEVg4t+D/ufD81XrrxPycxCKwcWhFAhxbZzvdT5z9cj8L1KFzxP7TIdr6fGhJATmIQWDm0EkCq8dJNYhAFQPLSTWIQWAVAHLEWnwIAFECJQWDl0CLnPz0K16NwPfg/",
          "dtype": "f8"
         },
         "y": {
          "bdata": "5vup8dJN4D+0XgzlRLvnP/YyKU9qsRNAkxPtKqQ8BEAe8PlhhDACQJsNMsnIWfo/T0mdgCYCA0CB8GjjiLX6P+4nvjULLwZA2/UWxWGnE0AtW+uLhDbyP05VV/Q9+f8/N+Dzwwhh+z+K/WX35OH8P1wHzhlRWgNA7CEa3UFs+T+seCPzyJ//P0V3EDtTaPw/naPH72369z+UeeQPBp7sP0AaFTjZtg9A3IBMIUaeDUA/7fDXZI33P0JNT7ObbBBAhZAsYAK3/D9jEFg5tMjgPzIS2nIuxfs/eJJ0zeQb8T9Et5c0Rmv6P4GAjTVtkA5Aqj5XW7E/8D8uHAjJAqb1P9QPj2kS8QBArQrUYvCQEEBJNLqD2BkGQODcuvZgvQRAcdgAts2eCUDT3TzVIbf5P65Cyk+qffU/XJy/CYWI+D9A5IgQslcIQIPAyqFFtu4/OGu3XWgu8T+NXaJ6ayACQFxortNIS/g/4Tsx68UQAUC6awn5oOf0P1eoNc07zvs/2v6VlSYlAkDaSxqjddTwP41ucxntBwVAl1cJcUC2AEBvn47HDNT5PyMyrOKNzOY/Ws6luKrs9T+aVFwLaeP+P8TFihpMw+g/mtfYJaq3AUBmqbwd4TT+P82qz9VWbAJASOO8pNbwEEDkOWxswOECQLr4FADjGe8/siRATS1b7z9c4+lLJdIIQFJJnYAmwv4/JemayTfb9T+74xQdyeX4P87OWOoPo/w/COv/HOZL+T8Zu0T11kDzPwVX1LvTyABAv9qK/WX36j9h1ouhnGj+P4YuqG+Z0/w/GK2jqgkiAUD/A/bi1XMQQMHk/AObiQNADUBqEyf3/D8ovW987VkIQMPicOZXc+w/Bnx+GCG8+z9gbCHIQYn9P47C9Shcj/4/V/qXpDIdEEBoAG+BBEUCQFcwhWKG4es/GK2jqgmi6T8P3NzzVzMAQDhj88wm6wFATcx6MZST8j83evzepn8FQBcS91j60O4/QKhSswda3z+F2iVgKozwPywrTUpBt/Q/HAGjy5vDDUAz0lJ5O0L7P5dfzQGCufU/HUYIjzaO+z9dhyC9l1H3P9COZQtSuhBAP6Vs7G3+DEC8HqdDArEFQLl+wW7YNgFA/5qsUQ9R+T98RRIYRiUCQPfSb7rA0AVAr2necYoOBUBF4h5LH7rpP2PCL/XzJvk/HUYIjzbOA0BNF87aEg4DQKkMd4lFhw5Acqd0sP5P+T8hrouR24X/P6C/CYUIOPs/5XUf241pB0Cx5gDBHD0EQM4n8iTpGgNA809wsaIG+z8la9RDNDr/P8+tpHCYowlA+tUcIJij/j8MHxFTIgn2P6yy74rgf+w/O2u3XWgu8j8kEK/rF2wBQO22C811mgVA0l/X5UqT/j+BI9y/DSwLQBE8uOCx9BNAwRjKiXbVBUCArRIsDmfoP8PTK2UZYgBAFBiyutXz8j/y9EpZhjgDQHYwUXOoNQdADqt4I/PIAkCdFPdpJpkGQI4JQsOs0QVABfUtc7qs9D8hufyH9Nv1P6tvuysWqgJAS9JGv8c6EUB7gosVNRj5P5L9utOdHxJAzxOWeEAZAUBExTh/EwryP0UWxJuQsfc/DS54LBHTAEAjLZW3I5z2P9bVVuwvO/k/+1I/byrS9j+4StKQTLIHQIBqvHSTWAZAXy7iOzHrAUC/9sySADUDQOzKZ3ke3Ow/B1BTy9Z68D/zMorlltYDQKsOuRluwABATeyQUVRMEEABK4cW2U73P9ZNYhBYOew/TNTBsLLMA0CKMhtkkpEAQOS9amXCL+w/qN4a2CpBAUDdyQKBKW4EQLN4RUt5mAlAFt/1PvpbCEAP8Fr4sK0FQAkkKH6M+QZAVJEKYwtB4z+gBtMwfETkP4t2FVJ+0vE/8azddqE58D8hVKnZAy36P9olqrcGtuc/Sj/yGC/XCkDaMEPjifAKQMFCrWnecfs/owJgPIMGBkAvxVVl3xXiP2FsIchBifI/zemymNh8+T8b80sO6TEGQGGlzBfF9BBAd6hcl9CzB0Du8Ndkjfr4PyjfbHNjugNASJNS0O0l+D9A0AoMWd37P7gPQGoTp/k/JQFqatla7T8tGJXUCej/P+Olm8QgsOw/ELEWnwIAFEDi1TkGZK/yPy+CIQYVAAdASQXc8/xpEkD0oQvqW+YHQC1W1GAaxgBAqrwd4bTg+z8WMIFbd7MBQBJ/TdaoB/Y/bbddaK7T8j/hWBe30QD+P+4hGt1B7P8/cbUV+8tu8T9YwKPXsPATQOA9eViotf0/TC1b64tEB0CYLy/APjr0PxikGYumM/c/idi7mpduAEC/rbt5qkPiP9TPm4pUWAZALJW3I5yW8T94FVJ+Um3yP7s1sFWCRfw/QTp15bM8CUCxD6EAQOQBQB+i0R3ETvA/Ttu/stIk+T8SzNHj9/YIQDOBW3fzVOw/2bYos0FmAECM+E7MenEIQHErGPCNTAhAAXSYLy8ABEDmHafoSC7zP4Rn59lR8Q1ABSFZwARu9T+AwW7YtijpPxbL0vMTUxFAczLGh9njE0AvPWGJB5T0PxT7y+7JwwdAFcLF5dPOAEB7AfbRqavxPz+9UpYhDvw/sgxxrIvb+D+IbYsyG+T8P6pbPSe9bwVAws4UOq/xAkC9/KlMjNACQFZEl4EUFg1ASrpm8s02+T/7P4f58oLwP5PLf0i/PQFA+96mP/sR+j8j2lVI+Un1P9MmTu53KOg/7jMuHAhJAECPAdnr3Z/7P2MBE7h1N/M/6mRwlLw68D8aVvFG5hH3PyxDHOviNv0/8iICxBOQBUBdNa25SJYOQPI8uDtrt/0/gVFJnYAm6z/fH+9VKxMOQORYF7fRAPQ/xIJWu4EtAEDGeN7Xkr8OQFMAjGfQUPU/ELEWnwIAFEB4zsyCP9L+P8nDQq1pXvk/WBH8byU7/T+oXOFdLmL0Pw1slWBxOOs/UC4heq3vAEA8U+i8xq70Pz/fT42X7vQ/9Y2vPbPkAkC6cCAkCxj5P4c4+B0ebQNAIY51cRsN8T/OAYI5enz1P93H83QJkhBArkwa/i5fEEDqP6Tfvo4JQJLQlnMprvg/AU4oRMAhA0D/Z6VaVYASQIOQLGACt/k/BhIUP8Zc8D/xuyL430r6P97EkJxMLARAzCN/MPBc/T9cZwqd19juP5eGPN3UwxBAHHIz3IDP4T8r3sg88scBQC3O34RCBP4/9XP5xVs98z9qCp3X2CXnP13ZpOw+yRNALGowDcPH8j/Wo3A9CtfxP4YfGWFAdRJAY5T7eENFBECMI9biUwDjP/za+uk/+w1AVCHlJ9W++D+plq31RcL6PyYsOw7NxgNAw6owbIPp/j9Rwkzbv7IFQBCxFp8CABRAYxVvZB55+D988rBQa5roP6apZWt9Ef8/RexMofMa+z+qg81KpJ4NQHRLzXkhCARAQIRMjSvZAUBY4xGBj3YCQOZzEM9tNRNAQRNhw9MrAECDwMqhRbb4P+TCgZAs4P8/6lyKq8q+7j8T6BN5kvT2P6WIDKt4o/k/YKbtX1np8z8NHxFTIokCQLjmRHF9rglAc+rKZ3keAEA61sVtNIDmPww34PPDiAZACNhHp6588z+6Yn/ZPXnnPxPCSNSwRPI/LHAvH//DEEBDPujZrPoCQKlc4V0u4uQ/OhUE6igi5z/SxhFr8WkBQB89fm/TnwJAoRUYsrpV8D8NlwtL8pIPQKTYwAx82wpAnIXcVsT6E0BqkrMLYeAEQNwHxfsWwgBAAPvo1JXP/j/PuHAgJAvxP8L1KFyPwvM/tt2pJcLLBEA3RuuoaoL/P0iU9gZfmOs/PiXWmMYFAUCMNzKP/IEHQDj6PVaVAgpAxhtxEpTMEED129eBcwYCQOJKdmwE4gJAdi0hH/Rs+j/YtYR80LP3P+CmP/uRIvs/RiBe1y/Y+z9Rnqy99AMSQNfPm4pU2AVAH5DfNq4qA0DlHafoSC7/P7hJDAIrh/Y/SeoENBE26D+TXP5D+u3sPwDyJVRwSAdAKv3ZjxSR/z/OejGUE234PwU5KGGm7fc/l66ZfLPN6z/0tgvNdRr+P2XfNxmwjwlAr3FpoQlJE0BunuqQm+H8PwIhWcAE7vI/hSQfYFLhCUAXBWYqafoQQMamXOFdLuk/4zEDlfFv+T8WNZiG4SP0P9gcIJijRwBAAIxn0NA/AUBai08BMJ7uPz3BxYoazPI/KDqSy3/I9j82gLdAguL7P8QgsHJokfk/Ss6DYPrzE0D/m7xtS5kLQLdVgsXhTP0/iBbZzveTAUAiVBW/zkIQQCz7rgj+dwNARmRYxRsZ+z9uV2WViEb/PyP1MuWe2QNAF6kwthDk7z8MdwZXiiYTQLMQ5KCEGfo/YFbeROPf9j98jV2iemsCQPERMSWSaPI/scnKijzsE0CxshHjkPgAQJ4pdF5jl/E/hCGrWz2n8T/SHcTOFDoBQH3k+PyLoxFAxiXHndLB8j+0uTE9YRkNQK/OMSB7Pfk/GqGOfX9Z9z8d5ssLsI/4P62ek943PgBAzXADPj+M8z/EberynAMOQG2LMhtkkgFAjtYYdEL4B0DDVgkWh7P7PyM0OADRIgdAtGZTZGP0AUAWyol2FVLuPwcDz72HSwFADkBqEyc3BUCkTkATYcP0P+GzPA/uTv0/NCuR+qGoCUCE61G4HsUHQHvCEg8om/Q/rMCQ1a1eAkCczarP1dYDQIIb8PlhBANAaHrCEg8o+j+h5xa6EvENQGlkRi7upQ1AQwQcQpWa8T872jhiLb77P+Cd1zPf7AhAEqCmlq31+T8Ei8OZX830P5gJv9TP2wJAyn/tBQuMCkBhTzv8Ndn/P1PxDYXP9hJA0UBl/PuM7j9oOjsZHCX9P6yCc6FNeQxAqJIBoIrrB0BVJvxSP68BQBO86CtIcwBAMwisHFpk5T/xe5v+7Mf1P/Ja+LDNpBBAMT4FwHgG+j9XavZAKzD1P/OOU3Qkl/Q/YxBYObRI+T9aUaXByDYBQGFYxRuZRwJA1PoioS3n8j/XVuwvuyfyP6NwPQrXI/4/RUJbzqW49j9sjNZR1QTuP4gW2c73U/I/xvi+uFTlEUBpxqLp7GT3P49c/kP6bfI/PZ/Ik6Rr5z+UtyOcFjz9P+punuqQm+g/BH7GhQMh+z/NbJBJRs75P/qMCwdCMgFAg3kjToJiB0D5a7JGPUT0PxQmUwWjEvw/f+z17o/3+j/mxvSEJd4FQMZHxJRIIvg/+zDnvkFgCkAMRiV1AprsP+l0WUxsPuw/Ne84RUdy8z+k374OnDPhP8kGPqtxWw1AXNO84xQd5j8twD46daUHQLf9TYP9gglA8kbmkT9YAEAums5OBkcEQISPiCmRBABAvzWwVYKFB0ANT6+UZcgAQAySBUzg1uo/LwisHFpkA0CKzce1oaIGQOapDrkZLgJANNdppKXyBUAqHFJWHesRQPqS6MDNjQVAyOU/pN8++D8jhEcbR6z8P6MPXVDfcgVAc++5XXnCEkBrTfOOU/QAQKSMAo5Opw9A4WJFDaZh/T8hyIuWTUoKQJP8wcBz7+Q/gY+IKZFEBUCj+fd00JAIQHIlOzYC8fQ/G1vPEI5pBUDlHafoSK73P1daDYl7LPk/Sr7Z5sb0AUBsrS8S2nL5P5/Ik6RrJuU/HzxuU5dn+j+o6O10jFACQPrRqSuf5fY/sjLhl/p57j8jdOFRdJ4GQGDVSAFY8/w/f4y5awn5+j/Ejo1AvK4AQJjxEYze1AZAhD3t8Nfk8T+MipNW10wDQFLHYwYq4+Q/M4/8wcAzBECh3dc35gsLQJ+caFchJQRABrfu5qkO/z89kSdJ18z+P4aGextRUBJApcwGmWTk/j8QsRafAgAUQDSQwlDi3gRA4FgXt9EA8j+4jQbwFkjyPzh15bM8DwRA3+UivhOz9j9vB7Ezhc7vPxcEVg4tsvY/HGEHhIzWBUCg7gOQ2sT0P2vsEtVbg/M/wFKWIY517D92e0ljtI7zP4UmmlE9gwxA5L9AECBjDEDydoTTglcDQP+wW7o4UAdAG4aPiCkR9j+f7yTYbikQQDtodt1bMQxAvI0oSMdAB0AGVg4tsh0FQLrNjekJy/k/MXQlAtVPDUABWyVYHM7gP2jttgvNtQBAAcWPMXet+z/DIVSp2YP0P4XX9Qt2Q/U/uDwP7s7a7D9q44i1+BT8P394Xb9gtwNAWoEhq1t9BUAYITzaOGIIQJGf4jjw4hNAZqYg5GFOE0AfWcAEbt32P2yad5yi4wFAS89g+C2HEEB/HThnRGn+Py3saYe/Jvk/jLacS3FV7j+38/3UeOn9P0DnNXaJ6uk/Vs9J7xvf8T+UZYhjXRwCQBefAmA8A/Y/bjmX4qqy4T8JSI86lbcCQLQBnx9GCPk/UbSrkPKT7j8UfqmfN5X3PxR80/TZKRBAOXaJ6q0B8j9hQPZ690cEQCQ7NgLxegJApFNXPstz9T+IQWDl0CLpP8e+K4L/bQJAiTIbZJIRAEANLLOtC+QMQFQcUetHRAtA97naiv1l5T8tz4O7s/b8P0lQ/Bhz1/0/nO+nxks35z93w7ZFmQ0HQDHNvjyuxwdAU9UEUfcBBEAWMIFbd3MCQNFcp5GWygFAuu1Cc51GAUAJxxtPugP3PwxfmEwVTAdA5gJNOoBUCkDTVamPdrIFQJQXYB+dOgZApshlkkf+E0DLkgA1tWwEQI/axMn9Dv0/3G+jty6LA0DWZFQZxp0SQLJ4RUt5mAhArwDfbd4IDUBhLuI7MWv+P7al1ZC4R/8/m21uTE9Y5j8P6bevA2fzP9cyvtR0EgtASDCLP0BN/D9pGD4ipgQHQOhciqvKPvg/IfPIHww85j8FpDZxcj8BQNfEyf0Oxfs/TTeJQWDl/z/p9pLGaB3mP+DzHsJT8w9Ab+tunuoQAkDN0eP3Nn3xP7f3cMlxp+0/ptqn4zFDBEBwmpn0UpwDQGEoJ9pVSO0/6Pge5KvzA0CgoiO5/IfuP8t71cqE3/E/rCuf5Xnw8T+IF1XQ/jEMQKXydoTTAvI/46WbxCCw7T+vOga/aDoBQLjlfuJbAwFAbYNuiiLPAkCzKVd4lwv9P1xWvOwyJwtA8Uv9vKlI6j8o6PaSxigCQNIUOq+xS/Y/Gk1nJ4Oj5T8t/yH99nX4P4RWYMjqVuw/eKG5TiOt/T9RWOIBZdP/PzpdFhObjwFAeqXz4VliE0CPiCmRRK/zP7j3cMlxJ/Q/iuB/K9lxAEBm3xXB/1bwP0TFOH8TCvM/eqAVGLK6C0APLj/LTsoTQAPso1NXvvk/DkBqEyf36T+sYFRSJyD6P6jzA7IyVQpAinhu67g7C0DSItv5fuoGQORdq/NeCxJACche7/54/j8mkCPnDhwCQOWyPR8KS+0/C6Zh+IiY4D8XEvdY+lD9Px377UZ6/ABAY7ml1ZA49j/7F8+gof//PyeHFtnOd/E/5qT3ja895D/9rgj+txL7P2whyEEJM/s/RLihc8hXEkDzVIfcDDf0P3+rK1VY/wVAsFBrmnecAkBsHVVNEPX9Py0rTUpBN/o/c6oQ6n1uDUAbrP9zmG8AQEb7kSIyLP8/lpUmpaAbAEDYA63AkFUBQIZ008FVQRFAWESGVbwR/j8D9vMB3FcNQNt3RfC/VQRAu1hRg2kY7z/JN9vcmB74P29SLBJuXQhA1ADeAgmK7D8bstwtJMsJQI2ryr4rgu4/VycMb3u3DkA3Z0Rpb/D+P6wD54wo7es/Txn/PuNCCUCsu8M3XosDQLQubqMBvPM/T8HQ2bjkBUDjBdhHp67qP6yy74rgf+o/2F37XTMEDUC23NJqSFz5P0A+6Nms+vk/gCo1e6BVA0ASBp57D9cAQMHOgB967xFAewBSmzi56D8730+Nl270P2VA9nr3x/s/O/w1WaOe9j+3I5wWvGgEQCOmRBK9DPc/eInqrYEt+T9MKETAIVTxP9obnrnifRJAptB5jV2i+z/FtQ1IZ9UKQIrvxKwXw/Y/yL/PuHCg8T9HHncAenADQO+ePCzUmvU/xOHMr+YA8T9bx5aKMmAPQNRuYBfqVQRAxStJnuvLAUBtRzgteBEIQCDpHbgUUQxAgBMKEXAI9z8CK4cW2Q4AQO+OU3Qkl/o/XhqGj4gpAUDBKt7IPHL2PxMn9zsURQNAKCSZ1Tv8/D+YlQ+cjosOQOYYkL3e/QdA910R/G8l6z+sBIvDmR8FQC6azk4GxwdAligxvh7iB0CubvWc9L7uP1+U2SCTDPw/E+cltQYdE0BtbkxPWOLoP6M8TixLnwJAZg+0AkPWAUApDwu1pnkBQOxetTLhl+w/b5ExLaAm9D+tX7Abtq38PwiUTbnCO/Q/a5+OxwzU8j8h6j4Aqc32P4qdKXReY/8/v/Bbvj8PEEBjzF1LyAf5P+Rzu/K09wVAcmQe+YMBBkA9HjNQGf/zP6HuA5DaxOo/OORmuAFfA0BTAIxn0ND0Py2jWG5pNfE/ivTb14Fz+j/de7jkuFPyPxec4zfgZhJAafrbVJPGBECSXDHIApMSQCe1zUNcTwFACcQ1iCCYDEBDyk+qfToAQNaGeUWm8vc/sTic+dUc7D/D4KtnUkQGQF1LyAc9GwNAeUXwv5VsAEA9CtejcD3hP5wRpb3BlwBAnDi536Eo6D/JmLuWkA/9PzGO23ksdwRApAbTMHxE+D/pt68D5wz+P0pL5e0Ip/s/5xN5knRNAUBIJXUCmgjyP8Mq3sg88gJA/X3GhQNhAUAx8Nx7uOQBQBqeXinLEPc/Xw5gNqYs/D9kJgei3QcNQG5gqwSLw/g/hCXDlsPT+j/m/TUPFqQFQGZ3Fa03lQNAkTPsQVJlE0DokIq1rocNQAgkKH6Muf0/m2NA9nr3/D/Wlc/yPDj2P7/7471qZeQ/M+dSXFV2+T+38/3UeGn5PwjP39/7RgZA6sYW3dXWBUDjUHV+QHbxPySg0z38xv0/Csp4Sr31E0CPXP5D+m3+P1eQZiyaTgVARs7Cnnb4+j8qXI/C9aj2P2rHDb+bPgZAziN/MPDc6D9USPlJtU/yP3Ez3IDPD/A/hLacS3FV4D8UXKyowbT6P+GX+nlT0QBAbxea6zSSBkDcRgN4C2QBQLOrkPKTqgBAwYBv5MsFC0BdiqvKvivzP6ZYbmk1JPo/Xe/+eK/aAUCIJeXuc8wEQMHarFUWcAZAt9qK/WX3/z97Nqs+V9sDQNxtF5rrNANAPSiD/p3YAkDk1TkGZK8GQGwAb4EExek/RsSUSKKXAEAWkL3e/fHkP7r8h/TbV/4/EyrG+ZsQCUCBnMR7afUFQBNfo5uzpA5AzywJUFNLAUCcWrbWF4kBQIoe5+xTNABANo5Yi08B/j/Q0eP3Nv0AQBYOhGQBE+U/ltkgk4ycCEADCYofY24FQBWHM7+aQwRAYEax3NLq+D+sSKcJNhkFQD33Hi45bgBA8r7xtWdWBUAlKH6MuWv6P2XV52or9vk/jBmojH+f/j/yhclUwajpP5MNMsnI2f0/paMLoM4rAUBortNIS2UBQIGaWrbWl/g/riDNWDSd8z8D9S1zuizuP5ITSOQWng9ALra1Ki7zBEBlRGlv8IXpPxQ6r7FLFAJAfL37471q+D9sgQTFj3EAQHrCEg8omwBAjWfQ0D/BAkDRE5Z4QNn0PymzQSYZufA/E2vxKQDG/D93nKIjufz6PxpiSiTRS/8/7c8dDlxHEUBJZyeDo2T/P9x7uOS40/E/bPqzHykiBkCWXCCcqiYBQKjknNhDSwpAilkvhnKi8j9SavZAKzD9P0LfSbDdmhNA6JE/GHju5z+ePCzUmuYAQNogk4ycheY/XHLcKR2s8D+dCzTpABIJQMjR4/c2/e0/b0EzPoLhDECGhVrTvGP3P3aJ6q2Breg/TEUqjC0E7j+uga0SLA7sP9K3zOmyGPc/5mGh1jTvCkC3quy7Ivj9P8x/tKRIGxJAf1ZgyOpW/j+O5lzlZM0NQLMubqMB/AJAaGrZWl8k9D/Y/pWVJiX+P27ZfLfUrAFAdoDMc+mUC0Duj/eqlUkFQIHeVKTC2O8/PKBsyhXe7j8Jo/4fzCIGQDc4Sl6dYwNAJlD9g0iWCkAux+GCImz+P/jGWo02iAlAfRSuR+F66T8lkuhlFMvmP4n029eB8/k/r6cd/pqs9D/o8uZwrQYJQAlnt5bJkBBA75HNVfN8AkCpmiDqPgD+P5SERNrGP/I/KL1vfO2Z9T/k0cYRa/EIQLNBJhk5C/g/VhNE3Qcg9z9UYMjqVk//P30O8+UFWPc/wH0dOGdE9T8QsRafAgAUQD0BTYQNz/c/2sUu9gPzE0CpD11Q3/IGQMYRa/EpgPE/pOLuYlC8B0Dc+NozSwIDQKlXyjLEMfw/+K4I/reS3z8P5iyi3Iz+Pz73Hi45LgNAuH7Bbtg2/j+96330l9cCQKRh+IiYkvw/bA1slWDxAUApg6Pk1TkCQDLYDdsWpQRAKMKGp1dK8T/pspjYfFzzP2gPtAJDVuw/cj+4TJe/CkD0oQvqW2YEQA39E1ysKAFAM9WCze9KB0DxOEVHcnn1PxRSflLtkwJAj1yMgXXUE0CX1AloIuz7P9t8AWK3NA5AP9UhN8MN+j8/TIkkelkJQN9iRQ2mYew/zdHj9zZ98D8J+UWuQNkFQKQdgYmJhwVAc+/hkuNO6j+IvyZr1EP4PxCxFp8CABRAbIoR08/VBUAs1T4djxn8P+RdLuI7Me8/KO0NvjDZBkAfGifPBuoMQEHL8+DuLPY/Dv0TXKzoAkBau+1Cc535Py7Pg7uztgNAvPyH9NtX+z+043Wz9WIHQIg97fDX5PU/3AOtwJAVA0B70LNZ9XkFQG+2uTE9oQJAzN3Q71b5EkBpXDgQkoX0P/yfw3x5wQJAhYcOJmreB0CmUrMHWgHwP7PbLjTXaf4/c1XZd0Xw8j8QsRafAgAUQCgK9Ik8yfU/1oFzRpQ2AUBIB+v/HGb2P+EoeXWOgfw/Bplk5Cxs+j9kLuI7MWv6P50sa1FVRwhAyNKHLqhvA0DaM1wuLPkQQAGH9evzfQ5A+D+H+fKC/T+Wuiu7YAgQQG931m670PM/2BwgmKNH9D+MXkax3NLjP03D8BExpf8/NBrAWyDBAECge2pQj7AQQETdByC1yQlAwy/186Yi8D/TxW00gDf6P1oXt9EA3uM/BtTUsrU+AUAjOzYC8XoBQBpz1xLyQfM/BFYOLbKdAECcbW5MT9jwP1KKDGHraAdA/1vJjo3A9z8dyeU/pF/8P1ME/1vJjvs/1zCenPzBA0AxVTAqqRPyP3ZsBOJ1/fA/wBcmUwWj5j8hI8IawpwRQFzmdFlMbPA/kcFR8uoc6T+OiCmRRC//P+Zph78ma/s/eTarPlfb8j/sASzy65cNQH2kLVM4Z/M/cpMYBFYO/T+cilQYWwjuPwZ8fhghPPg/1wOtwJBV9j8ON+Dzwwj3P0nNHmgFhvk/YbAbti3K8T8xkKD4MWb2P5vfi4qTBg1AxeHMr+aA+j/6b2/IUB8JQCmHFtnO9+k/buf7qfHS5D+3mPrUDFQKQASd19glqvM/3AQj5d3/E0Bh8GlOXvQKQGyVYHE48/4/rNNIS+Vt/D/WUnk7wun+Pw889x4uOe4/vIxiuaUVB0Cl2qfjMYP4Py7iOzHrRf0/o1huaTWkAUBAP4wQHm36P61u9Zz0PvM/HvsPnyo18D+3hPnh1jMOQLImqhLAuARARiV1AprIAEAfyEEJM20DQMkD7P4MGgBACqt4I/MIA0CvBIvDmd/0P9tHp658luw/89bAVgkW+D+rbQfZaAcSQDpmoDL+feg/Hb+36c/+8j9tLYK1IOryP+/Jw0Kt6fk/pKr4dZaPB0AvnZ0MjpLlPzRZox6i0fw/ts74vrgkAUAUVdD+UdUPQETp9BfV/Q5Ar0tUbw1sA0CoUZK/xYQDQCjkg57Nqv0/FjvhJTi1EEB8EciAR48FQBP2tMNfE/g/Ws6luKrs9j/04O6s3fb+Pzmlg/V/jvE/XOFdLuI7/z92/2m0ZtXwP5xyp89pQQhA+hhz1xJy+T8KzhlR2pv6P09Bt5c0BgJA/5ZbtcaLCkCSs8HTdQIPQBqBeF2/YPY/dueJ52whBEA7g4b+CS7tPyzQJ/IkafI/Uap9Oh4z9j+tkPKTat8DQNwjYkokUf8/TtGRXP5D5j97ceKrHVUFQBYmUwWjkvM/art1ozSABkD9fcaFA2ECQCOA1CZO7uk/VH2utmJ/9j/pIRrdQezyP8O7XMR3YgBAybCKNzKP6D8fOGdEaW/qPwbm6PF7m+0/N/3ZjxSR+z8QsRafAgAUQOGS407pYPA/jzeedMfXBkADxY8xdy3vP1+KBoQxPeY/0TWTb7Y58z9YCRaHM7/vP4FkARO49fw/IHxhMlUw+T/OJLGk3N0KQGdBvAkZcwJAesucLovJAEDExYoaTMPqP4eb5+M1agBAoGNA9np39D8hq1s9J73yPxLn8jD+dwJA2u9QFOgTBEDvETElkuj9PzR8REyJJOk/IF7XL9gN6D9KgJpattbgP+vYCMTregFAclyvRPtzDkCqaoKo+wD2PwBE+u3rQPk/42JFDaZh6T8EyqZc4V3+P67TSEvl7fo/XSz7ZHtDBEBy+Q/pty/xP7OvA+eMKO8/aPfkYaGWAEDFVWXfFcH6P3SoEgq2pgtA3ziEhe79CEDodR/bjSkEQA5Z3eo5afg/HZQw0/av8T/aLCuoA0QDQOVNRSqMLQVAYS0+BcA4AEB3uhv63Wr/P1uxv+yevPo/e6UsQxyrBkCSklfnGBD1P33VyoRf6vQ/8xsEwvP3CEBPNuUK7/L9PzIEIh9Phg1ADmrQ4WtJAEDOzZJb7ncDQEZenWNA9u0/htLe4AuT5j/vff/mxdkTQOhSAZyDTP4/+Lp45LScEkAj7rH0oYsDQF8fnbryGQZAhOHZ1C8nD0BLWYY41kUDQIQgByXMNPE/OkVHcvkP5z+GzmvsEhUAQKYJou4DIA5AJXUCmgjbBEDtdygK9InwPzwhTJu75wxAqd4a2CpB/D98iQwGMmYKQNj20QTl4QVAN7qD2JlC9z8vwQTJlvgQQAl4LXzYNgJAAalNnNxv/j+sYRrhSAsGQGyM1lHVhPE/WecYkL2eAUA2nPnVHKD2P7pE9dbA1gRAhCuac5XjE0Cbgcr495n1P/Lb14FzRug/VhNE3Qcg8j/v3Hu45Dj8P+Un1T4dj+s/E6iMf59x/T+p1JHI4078PxK4Gn7cY/g/7YSoDC3sC0DzZMtNL0zrP7LmAMEc/QRAyV+TNeqh/j9vAEFv4PwTQGm2qAXl7AtA8ikAxjPo+T+/YduizAbuP2DgufdwSfI/ELEWnwIAFEDdLZCg+DH2P5xxK85iMwtANRrAWyBBAkD/W8mOjcAFQLTIdr6f2gFA4dv0Zz/S/j9xJgHFI9wFQJbOqb+5qgpAHRZqTfMO8j/xObAcIZMDQGf2QCswJARA0R3EzhQ6/j88ELRd/FgBQMpdS8gHPe4/uFQA5yCTBUCduvJZngcFQGOwG7Ytyus/OK+xS1Tv+T+fMVpHVZP9P4DeVKTCWP0/9nXgnBGlAEDllbIMcaz1P5kqGJXUyQBAc6vWeJ9Z/j9fv2A3bNvzP8V71cqE3/8//YLdsG1R7T/OQSuLHfgIQA34/DBCeAFATEoqroWME0Cgk943vjYDQGE9J71vfO0/eHYyOEpe7T+87UJznYYDQFYytsZWJghARgLU1LI1/j8ythDkoAT4P32R8u4jYgxAgOfewyVH9T+G/gkuVlQCQGWz6nO1VQJAbBsN4C2Q/T8NVQlgFP4PQPnRqSufJQRAiv4rhgYNBUBQU8vW+iLiP9pJM8y/bPg/oC3nUlxV5z923CkdrP/3P9abrKzIUwNAOpz51RzgAkAgOLHRgwwMQCPzyB8MPAFAKR2s/3OY+T/7S3TxEt8SQDVG66hqAvE/+mabG9MT8z9aOlj/5zDsP5DzWfnAuQFAqvJ2hNMC/D9joDL+fUYDQC63tBoStwVATUpBt5f0AkA2DB8RU+IJQP28qUiFMfo/+uRhodY06j9gLvNniW8OQExxVdl3RQBAVz2qq0wyCkA2MevFUE7/Pw3bFmU2SPA/xk3DpoT2AkBAeKNFbCYLQIb029eB8/A/8mVYe46eB0CKS447pYPoPzPiOzHrxQBAN4lBYOXQ4j/TqdDlcmgJQPTT67vHLg9APSKmRBI9BUAgRgiPNo7lPyzT9q+sNP4/Ws6luKosA0Dfvg6cM6L6PyAQr+sX7O0/5565PffkE0DcMqfLYmIIQPO0w1+TNeI/MgRsrGljCkB02VSCatgNQPefRmtWtwBAOznRrkLK/T87EViUbQsDQG9GlPYGX+Y/ndmu0AdrBkDkTulg/R/3P+7BpPj4FAJAwczSqYY49j99MJUjCScFQDtnRGlv8O8/wLtcxHdi/D8zqG+Z02X4P/LNNjemJ/Y/YIFDAwx2CUDY9Gc/UgQFQCGfaGhNNRBARvGWUGYI/j+g7gOQ2kT6P319dOrK5/Y/20YDeAsk/j/TgA5OnwgJQJNEL6NY7vI/5GvPLAkQBUAzrOKNzKP2PzRVMCqpEwRATC0AMhnzCkBKl8XE5uPmP9He4AuTKQBA1OP3Nv3Z8j9vTE9Y4gHtP66AMRElQA1ACUIvkiy2EUAKN+DzwwgBQO0uF/GdmO4/TTeJQWBl+z9D9dbAVgn8P8rDQq1pXgRANCkF3V6SAEAmufyH9NvpPzqZuFUQo/c/2FHVBFH35D+GZAETuHXvPyiGF+nqoxJAVcGopE6AAUBqg0wychbuP9zlIr4TM/g/VNHVDF81+D9UZxB6kUQMQGPASB4+fwJAiwaVXdUGEUAQsRafAgAUQNFXkGYsGvo/WCXbCquyBUAgMA+Z8oEHQBj4QOGi6fw/pP1IERlWCUC86rdldmz4P5xBQ/8EF/0/Ot9PjZdu6D8m6ZrJN9v3P4hH4uXpbAJAaiFLMOYoBkB6U5EKYwvlP4BIv30dOOk/ruyCwTWHB0Czpx3+mqz6P6AP4D68qAVAaA4QzNFjAkCogh7FlNMMQNHgKHl1jv8/xYu+gjRj6D8/CtejcL0EQKFuVjMhPPk/20u/6QJD7j+hSs0eaIX2P4kVNZiG4e0/N6Pmq+RTDkBTKxN+qR/yPxZj9Df8aQlAoUrNHmiFAUC3C811Gmn4P6iQ8pNqH/M/WghyUMLM8j+uiPWhZgMJQNyOcFrwIv4/+wW7YdviAUCuzjEge73vP/aqlQm/1O4/0SjJ32JK/T83J/bQPpYNQJf/kH77uvE/fb37472qBEDUK2UZ4pgAQGR/2T152ANAdzQwTWwREkAoK01KQTf5P/geLjnulO0/QnOdRloq9D8zj/zBwHPuPx8MPPceLuE/iDjWxW00+D83Y5gTtBkIQIzWUdUE0QpAUgEwnkHD+D+R6GUUy20CQMRRPHg3YP8/OHXlszwP+D8STgte9BXnP6peNBqvXw1Ac2N6whIPBEAzp8tiYnPxP0hpb/CFyeU/KDoVulz+CUDomsk321z2PzSCVIodzQ1APKLWj6h7BkA6Mo/8wcDyP3tmSYCaWug/AM+9h0sO8z8BQ1a3ek7lP2TzcW2omPo/1PX6SWtCB0AAwRw9fm8IQH5hMlUwqvM/p2sm32xz4T+NNo5Yi0/0P4BIv30dOPo/faAVGLI69j+W/U7u0kEBQFaMXx1spglALETAIVQp9j9G+Um1T8cFQAWGrG71HPY/qiVncnvDC0ATC7WmeYcGQOZrzywJUPg/ESOmn8u/BEDN5Jttbkz3Pw2Jeyx96PM/+tozSwLU7z+Pvd798V7pPzYC8bp+AQJA5eR+h6LA/j+4awn5oOf4P/93Zt2avxFAwVHy6hwD5j8OPb2tT2QKQPFqFO2FvQpAJmrbMAoi/D/kf00xYkoDQEqrIXGPJfE/zKFFtvN99T9jqwSLwxnyP4j029eBc+I/KsEs/gC1CkDdAgmKH+P9P5fFxObj2uU/6ZrJN9vc8D/PTWIQWLn+PwZUxr/PuPQ/RQ8yfzufA0AfAw2RLlHpP0Q9RKM7yANAVvksz4M7/D+8XMR3YpYAQNeZQuc19vg/NyknNQ9LAEAYs14M5UTwP3VA2ZQrPABApq8x+bB4AkAB5L1qZcL9P5N9VwT/2/M/MVAZ/z5jBEC4C811GikEQJjx7zMunPE/ZcteW+QDDUDxCjMjctAGQNPUsrW+yPc/6uxkcJS8AED/PuPCgZD3P5ZbWg2J+/Q/BJXx7zMuBkAFiqJRy1ADQOOMvAdD+PU/u+grSDMW6z+TytsRTovzP8P/VrJj4wBAuECC4scY8j/c/pWVJiXzP1p8CoDxDOc/pnnHKTqSCkAGsTOFzmv2P4FkARO49fk/epeL+E5M+j+snpPeN74DQBODwMqhRQJA6Q8GnnsP7j/RS3s5olH1P98zSwLUVPY/BJXx7zMu4z/lLOxph7/8P1AiiV5GsQBAGm7A54cR8T8V6BN5knTyPy8OZ341h/w/qe1fWWnS9j/jcOZXcwD+Pxcbqa3HIwBAPSe9b3wtAUCAEwoRcAgAQHQaaam8Hfk/pqDbSxoj/D84GcFrPP0CQGz7V1aa1AFAcymuKvvuAkD8ag4QzFEEQJObhk0J7fc/qrwd4bTg8D+8M8l+zF0AQCp96IL6FgJAbOnRVE+GDkBJxEq7h7rnP2Dv/niv2vw/77p+wW7YA0CKsOHplbICQD0YeO49XPQ/IajQLwAjC0DRAN4CCQr3P8QSDyib8vg/tHIvMCukA0ATNwJMdAEDQKAlyAiowApA0sBWCRaH6z9f1y/YDVv9P+Ydp+hILu8/N2fpr/xeCEBqUgq6vST1P9atnpPetwNA4FdzgGAeEUBT6LzGLhEEQIMJ3LqbJ/c/yKtzDMhe5D+zS1RvDezwP/M8uDtrNwJATKYKRiW1AUDRZtXnaiv8PxRk8yfgrfM/nBvTE5Z47j8DHebLC7DnP0fSNZNvtgNAqMtiYvNxBUAYEvdY+lD1P+CECaNZ6Q5ArHZedMNwCUAQsRafAgAUQG+oGOdvwvU/YduizAaZ6j9R/qSQGun4P5iZmZmZmfo/lgm/1M+b8z91rK0zGUERQLe9pDFax/c/h6JAn8jTAkBTWOIBZdP9P5sb0xOWeABArO2BsRlLB0Aau0T11sDpP6XzPBP17QNABlvs9ln1DEARMSWS6GXyP9vgjoGGeAtAmobhI2LK9z9X/+cwX54CQM5YNJ2dzAFAm1/NAYI55D/vqzlAMMf7P3x5AfbRKfY/07fM6bKY8T8qkUQvo1j2P28DPj+M0AVAH0YIjzYO9D/FpwAYz6DsP/tqDhDM0fI/MBzgk5hZEUBJj9/b9GfjPwZVavZAawFAgReOMcHyEEAl7rH0oYsBQJ/0vvG15/Q/+MJkqmAUA0CeDhqwmr0BQDHiOzHrxfk/MWR1q+ck+D8MMsnIWdjmPxQxJZLoZeQ/N2xblNmg/z8gBoGVQ4v6PyDcnbXbLvk/gWCOHr+3AkDN1voioS3pP8Q0DB8R0/g/P1PovMYu9D/anf9oSRH6Py0012mkJfg/+/imRG1WCkAvwD46deXrP011yM1wg/0/hKP1AZKKC0Dj9zb92Y/rPwjuUclKjQFAvGsaJfkrBkCfMv59xgXxPxtVTRB1n/Y/Q3i0ccTa9z+Dq7mS080MQOlsI/mlmQ1ATVmGONZFBUCfIOo+AOkKQBI2PL1Slvk/du+oMSH2B0C4J7RRQhUKQJPBUfLqHPQ/zywJUFMLBEAOou4DkFrxPyN7XGW32BJAGrzoK0iz/D9jf9k9edgHQCibcoV3OQdALprOTgZH/z+lpE5AE2EGQL/RRI5j+vw/YVgPqbMkC0CnB5m/nW8DQDqSy39Iv+o/7i4X8Z0Y+T/kZ1w4EBL6P4PdsG1RpgFAr3vysFBr8T8MjU+3oqMMQCR04VF0HglAQMDGmjYIC0CxXgzlRHsGQMH+NWrPZgRAC56dZ0cVA0BY1uw3yeX/P+BQ50DFLxBAw4UDIVnA8j+YPnRBfcvwP6ZYbmk1JPg/+4FKplSTE0AO9d0I5sMMQGDRdHYyeAFAsU6Ew8G0CkA3iYvt/y3/P8WxLm6jgfo/RMmrcwwIBECtBIvDmd/5Py/KbJBJRvQ/KKCJsOHp9j95dY4B2WvzP6Y/+5EiMgNAI9v5fmo88j9B6WbaWW8LQBzLpOHvYhNA8lAU6BP5/T+SdM3km+3wP9FvXwfOGe4/f+DgwQUvC0Bl83FtqBj+P+POOwREl/4/5CzsaYe/8D8Mf8rny+kSQEEF4tC2BQJAIZ8kuOz7CUBTQ+IeSx/3P17I6lbPyQBA5zV2ieot8z8Nx7q4jQb4P3x+GCE8mgFADzY8vVKWAUBUmzi536H0P8z0hCUeUOo/w8UvYdnxCEDdnntqUB8CQCrw3Hu4ZPw/8R/Sb18H6j8amus00lL6P6UiFcYWAvU/j6mCUUmd+T8Ryy2thsTkP+SEQgQcggBAVoOLcO4aAEANf03WqAf0P1RNEHUfAPU/bmk1JO6x/D8OBp57D5ftP+PbFsDvCgRAcrosJjbfBUBz4Oaev1oNQEqx3NJqSOc/9HFtqBjn6j/UwFYJFoflP2Vv8IXJVP4/Hcakv5fiDEBt1s9R/RkGQL99HThnRPY/qn6fFij+E0D430p2bITxP1o4EJIFjAJA0ocuqG8Z9j+0WfW52ooGQHqNXaJ6a/s/XEGasWi6CEDMpsjGKIQJQNIF9S1zugZAEx3J5T9kCED6rs+c9bkFQNO3zOmyGPM/hSUeUDalAUA6uoPYmULfP9F/SL99Hfk/e8ucLouJ+j8dXJWfr9QGQAljC0EOigVAboqO5PKf9j8tlbcjnNYCQMq/z7hwIO4/5cyv5gDB8D/BPvDnyiYLQGxlwi/18wFAF1bxRuYRAECpjH+fceH6P48ANbVsrfE/X9aLoZxo/z/cByC1iRPzP0rqBDQR9gFAhna6mAtBDUDgyDzyB4MCQLqD2JlC5wJApN++Dpwz/z93kvHeB/YPQKqVCb/Uz/w/lsrbEU7LAkBtOPOrOfASQJpyhXe5iP8/NbBVgsXhA0CJbBqAsr4PQN2S407pYP4/H97OGawzAkC2Z5YEqCn3P30YITzaOO8//3L0+L1N7T964JwRpb3jP6AaL90kBu0/k92Th4Va+z+7dJMYBNb+PyUILws3qg5A8G36sx8p4D8muFhRg+n/PzawVYLFYfQ/LouJzce1BECyQSYZOQvuP+oA43TtdgJATWMal7uIE0CZ8Ev9vKnwP9zXgXNGFPE/bOwS1VvDAkDkYaHWNO8AQNi3zOmymOk/TPOOU3TkAkDBrKtdbosGQAFh4Ln3cPw/w3gGDf0T+D/kLVc/NtkMQCRZwARu3ew/Xxsqxvkb/j+bDTLJyFn1Px3392OkiPM/Uiy3tBqSBEAxychZ2BMCQJ7JN9vcmPI/lxPtKqR8/j/0GrtE9VYCQIb+rnTjQgZAWMUbmUf+4j/uKFyPwnX9P/DzKRHy+wNAY9r+lZUm7z9VBP9byc4BQK/EA8qmnAFAxcTm49pQ7j9P8uocA/IAQCORRC+j2P0/ZQETuHU3/T/zk2qfjsfwP5eKVBhbyAlA/vIkRFRMAkB4f7xXrcz4P8AtH0lJvxBAvPPmy2YJD0D9HnLpTgb8P1KgT+RJUvU/FqrOD8i6DkBb64uEthzzP1rB/YAHlhBAZmCrBIvD7z8m1gSssEQKQIiUn1T79Po/JU7dS9BVEEADkNrEyf3iP2M730+NFwBA+obTk0PFAkAPwqONI1YEQBjxnZj14vU/OAt72uGv7z/AYDdsWxT6P9Ei2/l+avM/o8827RitBEBnZVBtcLoTQHxMIUa+gQ9AVR1yM9zAA0CyogbTMPz0Px6i0R3EzgNAplIf7SRXDEA0WkdVE0QEQKQ9XkiHZwNA6RiQvd79BUBIbqhzoDIBQBMZVvFGJgVA0iZO7neoA0Bbox6i0R0GQCzPzUjOkwJAyG8ETlvgE0D4g4Hn3oMDQGRMsO4Of/4/gLIpV3iX+j+6vaQxWsf6P2xCa48oPg1AJIDUJk5u/T8C2evdH+/xP+RhodY0bwRA2MBWCRYH9z/37o/3qpX1P8ffBzHhkQFAl2qfjseM9j/229eBc8bzP9Oa5h2n6PQ/dHqlLEMc7z8P+PwwQvjwP11idmBKHgZAmjRG66gqBkAWRN0HILUFQPGTap+OhwJArhdDOdEu8D/3vU1/9qP7P1g4EJIFzP0/WoEhq1s98j//09SytT77P7fM6bKYWPY/VAkWhzO/9z96vfvjveoEQFKzB1qBIfc/++01TlQA7j9ut11ortPlP73BFyZTRQFAtilXeJeL8D/eheY6jXQCQAB+xoUDIf8/Zmcs9YeRAkBq2LYos0H0P0mwOJz51fs/zIgcbPsoEECqqME0DB/9PwG37uapDgBAJJwWvOgr/D9PXfkszwP5P7GsNCkFXfk/tkEmGTkL6D/ESzeJQaACQFsvhnKi3fY/dQF5wIbhAUBhiQeUTTn8P8mTpGsm3/c/7EMX1LfM+z/SJk7ud6j1P+s00lJ5+wFApoAg5czLEECy39qJkvASQMbctYR80AJAgAncupsn/j9DCTNt/8oFQE40/jM5ywRAsvShC+rb+D+VYHE486vyP381rE5zlwtA1LzjFB3J7T8hq1s9Jz32P5wui4nNx/4/gS9MpgpG5D8D9tGpK5/7P91oAG+BBPM/6BiQvd798D/PFDqvsQsCQHtTkQpjywBAjwpjC0GO8T+4O2u3XWj8P7shnjb0KBFA56kOuRlu8D8ai6azk4EBQIsHlE25AgRA1MH6P4e5AUANILWJk/vtP7cZbsDnh+s/U2uad5xiAEBWWexA568IQJYQB2QKEQBAf+2ZJQFq+z9TOlj/5zD1Pw33WPrQhf0/uNFEjmNSE0Dd6jnpfWMFQBLgLZCg+N8/Ity/DYynAkAYrkfhehTpPy7YDdsWZfk/FlJ+Uu3T7D9v3nGKjiQKQAglzLT9K/g/Q5mQIKZ+DUAYMIFbd/PlP7M3+MJkagFAadxAJr6nEED8qfHSTWLsPz36FSErngtA1BcJbTkX/T/tzJjd7uADQLE0S12N1wZAfeiC+pa5AkAqHaz/c5j9P0bwv5XsWPs/gY1XxcDvEEDCmV/NAcIAQIlPS724nvw/amrZWl8k6j+fQJ/Ik2QAQODurN12ofY/hMlUwagkAUBWevtz0fgSQHGKjuTyH/k/HLEWnwJg8T/b9Gc/UsT4P/gLdsO2BQBAegskKH6M5j/06hwDstfxP539SBEZVug/L+ohGt3B/D+W3INrSSIMQKVQcXcxSAxAlM0LZgKUBUAqweJw5tf2P/KOU3QkF/s/lN43vvZM8D9qoDL+fUb9Px97vfvjvfs/Ex3J5T8k9z8QsRafAgAUQIl2FVJ+Uv8/UzblCu9y/j/TLAlQUwsAQGU3bFuU2f4/oAWQkDcPCUBkYvNxbajtP8348Txd2hJARzGsh9RREUBEyk+qfTr1P7/Uz5uK1AFAet/42jNL/T/8dDxmoHICQBauR+F6FPM/Kcb5m1AI+T9u2VpfJDT/P+7sZHCUvPs/4QPPGEGOA0C0HykiwyoAQEBNLVvri+M/asdGIF5X/D/2qXTBKtgDQLyI78Ssl/A/hs4QM6DD+j/oNXaJ6q39P6lM+KV+XvM/xrWhYpy/9D8lx53Swfr+PynB4nDmV/g/SZkNMslI/j9ppUkp6Pb1P1pu1RrvgwlA6njMQGV8AECNtFTejnDgPztvKlJh7P4/bLJGPUTjAUCxR+F6FC7/P8oyxLEubuw/4R5LH7ogA0BNnNzvUNQHQDFxcr9DUQBAkfHvMy5cAEA0eSUkLSAEQA/Co40jFghA9I5TdCSX/j8BVx5J7uUOQBCxFp8CABRArGwOxj5XBEB9+K9ip1YQQMkbmUf+4Ps/8xAyNa7k9D+GX+rnTcUIQCpJ10y+2fE/0VynkZbK5D8WWwhyUMLxP2a4AZ8fxv0/ppat9UVCA0CKGkzD8JH7P+wX7IZti/Y/NIlBYOVQ/T+wMC1FTZ8TQHcfgNQmzgdA9gLso1NX9j8OEMzR43fyP4XOa+wS1ec/z9hN3yFrC0BW31T/exsIQAxvxbQlAQdABAoARLD4E0CyrmWN1aEMQIDix5i7Fv4/xCCwcmhRBkDP91PjpZv5PxzTE5Z4AABAIadULvnUDkBYEqCmlq0AQC+s4o3Mo/w/yHvVyoRfAkCyKVd4lwv7P2zn+6nx0uU/VvFG5pE/+D9yQo3n2LYKQMEma9RDNP0/aoKo+wAk8j8zzTtO0ZH/PyjLEMe6OPA/H8TOFDqv7T83evzepj/8P9hfdk8elvs/IOAQqtTs9j+xq5Dyk+rzP9aVz/I8eAFAUUe2qXDaBUC2Agr19CEMQKOkqfmFwhFA43eJoCAH+T/XsrW+SCgFQBZT6SecrQJATe53KAo0AkCriN6YVPsTQMG2RZkNsv0/B2V1BqEnBEC9mBwtvQwBQO1HisiwivI/lCaloNtL9z+XBKipZSsCQLbsa7gj5w5ALB2s/3OY/T/NejGUE+3oP1QzpIriNQlAwAjh0caR+z/8PuPCgdAAQI16iEZ3EPo/CD2bVZ/rAEDd/fFetbICQOWwbVFmg/8/89JNYhCYAkD/bJotD6j7P1byDHWz6ghA4IlZL4by+T9KbD6uDRUGQDweM1AZPwVAgB8OEqKc/D+9pDFaR5UGQNyF5jqNtOg/bg1slWBx+z/meXB31q4AQK4XQznRrvk/fBSuR+F68z9P/Bhz1xIGQB84Z0Rp7/Y/HAclzLQ9AEAFQ1a3ek72P4WB597DJfU/3r4OnDOiAEBAE2HD0yv4P2Kh1jTvOPI/9i1zuiymAkCSs7CnHT4CQKboSC7/4QJAs3AP+LIjB0B/iEZ3EDvvP/1dEfxvJf4/LyB7vfsjAECuOJz51Zz+Pxv1EI3uIOU/xYGQLGAC+T/fukDux9IHQB2pGa3+wwpA+gZfmEyV8z++m8mSlB8BQAXhVLXuIAJAbLJGPURjBUD9+4wLB0LzP4+XbhKDQPk/n0ZaKm/H9D8GMJ5BQ//qPy1B1H0AUvw/QcHFihrM/j+UPxh47j3mP2/hQEgWsPg/HFSp2QOt7z/9aCc5FmoDQISWK3I+MxBADfSJPEm68z/8If32dWD5PyoF3V7SmANAQjnRrkLK8T+PxwxUxn8AQDcMHxFT4ghAKWowDcNH9z82JO6x9CH2P45xIH/E2gdA7hwDste77z9vrqU2J/0TQAEI1byZBw1AjQMhWcAE7z8c+YOB5972P7zYQpCDEuY/TMx6MZQT7z8AUz9vKtL0Pw/VWwNb5QVAeh2kTA+vEkCyijcyj/zwP0ZaKm9HOPU/mLFoOjvZA0Cz6nO1FXv2P5XjTulgvQFARrA4nPnV6D9gH5268lkHQLII/reS3QRAFsloLoHVAUC8YduizIb7P9NXkGYs2gJAvK5fsBu25D8KdsO2RRkBQLgZbsDnBwVA21pfJLRl+D9sNIC3QILsP41BYOXQIv0/YzJVMCop9T8BFFysqEH5PzG2EOSgBPU/rVs9J70vAkBuBU1LrNwFQAptOZfiKvA/H5St5BnKEUCqNCkF3d77PwW8BRIUP+M/YxniWBc3+j+BYho8Ag4JQIO7s3bbBfY/LzTRjOqZE0BEUncKXjkOQBCxFp8CABRAL8+Du7P2+j9UflLt0zEDQGZR6XEpKAlAFkzD8BGx8z8MiNf1C3b3P8Oi2MAMvAxAZSeDo+RV8j8jXtcv2I32P2ggp/l0NghADe10MReCDEB70LNZ9bn3P+2UsxyNqA1AIYyOmmVlCUC7eapDbob/PwlHkEqxcwlAxl7v/ngv+z+TGARWDq0IQMjJ/Q5FAfY/kcL1KFyP6j/TxhFr8SnoPwmfY/ZoQAZAX+FdLuL7AUBxZB75g4H0PwxEBT2KWQ1AhYHn3sOl/z93QNmUKzz9P8EaiSvCqA5AEtBE2PB0/z+d+dUcIBjwP99ASBYwAfU/7RrjeV/7BEBlwi/18yYAQDgf14aKcQJAAW+BBMUP+j9TRhJz/2cLQMo329yYnv8/WDm0yHY+8D/x/dR46aYAQDgLe9rhrwVA5n6HokCf/z8D2rFsQZoDQO1AjMaQMgVA1p9YAoQq8D/21RwgmCP4P2nttgvN9fU/slWkHZJFBUAzchb2tEP2PzMzMzMzcwRADUKygAlcBEDUNZNvtrnmP6k65Ga4Af4/YAiUqHLFCkDEHdvXJuoOQAAAAAAAAO8/+MJkqmDUAkC9++O9aqUFQOR+mM6YYxBAHy2VtyMc9D9YUe9O4zsQQE963/jaM+A/nELnNXYJ9D/FrBdDOdEAQNonJanxVxFAvvG1Z5YE8z/JRwhFqZP7Px3sqMU76wVAs/rCddagE0A9Cnzq/avyP68+5ZgsTg1A6lbPSe8b+T+GaRg+ImYDQK19Oh4zkANAXUI+6Nms4T+8D0BqEyfyP5D2Bl+YzPI/EbDT/r1qDEC436Eo0Cf2Pyiqtwa2ygNAWjgQkgVM8T+26zlEN+YDQPooXI/Cdfg/rRIsDmf+AUDaFmU2yKT6P38TChFwiABAnN2Th4Xa8j+yJEBNLVvqP1paDYl7rARAGqN1VDWBBUC5TiMtlTfzPwbAeAYN/f8/snvysFBr/D+lqgmi7oP+P4qwK3ewj/k/fcaFAyFZ9T8dUqCqnUwGQBcOhGQBE/Y/jYVa07zj+D8StzKXCgAIQEWAmlq2Vvg/Zren9ciwCEDY690f75UCQDGIowYuyvs/mJSCbi9p+j9MvPIPEc0IQISUn1T79P0/1EhL5e0IA0DudygK9InmPyyuKvuuyAZA0zjlGxv7BECr0WF0L0YAQH9cGyrGOQZA2iCTjJzFAkCILqhvmVP7P5bZIJOMHP4/IFSp2QOt/T8FUfcBSO34PyH1EI3uoP4/Jz+p9ul44D96rHTSVuAJQEAXL3E/Sw9AXwzlRLsK8z9BHY8ZqIzyP7a+SGjLOfk/Ix5QNuXKA0D49xkXDoTuP1PHYwYq4+0/yUYgXtcv7T9wF5rrNBIBQIFlx6HZIApARRfUt8zp+T8DZ9/LM4UGQEa5Rao5ugZARgN4CySo+j8nZ4On6/QBQLPgRV9B2gBAq+KNzCN/8T/WQzS6g5gFQHs1Bwjm6N8/JPxSP28qBUC4O2u3XWjrP5cvL8A+OuA/Fwv5Vtp4BUBELPbylhYBQA34/DBCeOQ/WypvRzgtBUBNk3Qonl4BQISYEkn0Mv0/OP4cMFl2EkBlodY07zjlP+iHEcKjjfU/BlQQTepVDUCDCdy6m2cGQDJtpBHYgfU/WOFdLuK79j9ReTvCacHrP05iEFg5tPw/EXUfgNSm9z+x/s9hvrz/P8HTK2UZ4vU/EK/rF+yG8z+Ehv4JLpYFQMXYQpCDEug/Jh2s/3MY9j+pfToeM1ACQIjNIm8UBA1A/PycJ0PKA0DX2CWqt0YCQGbV52ordv4/uEkMAitHAkCU1AloImwBQKBrqc1J6QZAUSegibDh7T/DBDV8CzsFQFrp/2ZzxvM/7J48LNSa9D8Sr+sX7IbvP7Tpz36kiPU/2+GvyRp1/j88nPnVHCDvP9eQuMfSh/8/GvD5YYTw8j/qGLIVj7YHQAdyUMJM2wNAgf+tZMdG+T+FDhU+tpAFQDb4mi9AtBJArVEP0egO9j+yQO7Hkj4TQOAxA5Xx7/o/g7lx5rKM/j+/g9iZQmf6P6UZi6azE/g/59Ai2/n+8z+9g9iZQmcDQNTKhF/q5+U/X51jQPZ69T/2lrxL84gHQFGQ6Rp3BAZA2NyYnrBE/j/lQEgWMIHmPwwI5ujxe+4/T2IQWDn0AkAtVTAqqdMEQFa55BMNvQVALIcW2c73+z/v1cFmJWoTQIzEPZY+dPw/TeDW3TzV6T9liGNd3MbwP9p7bleedug/nKxRD9Fo+D/FCm3vCSgIQANIbeLkfvw/OnXlszxPAkAwL8A+OvXxPw3pt68DZ/0/Pdo4Yi2+/j9OQbeXNEb+PwPdXtIYrfc/4PPDCOHR4T9/xxIxgFMQQD/bMXVXLhJAWxfZKbEWBkB2ekpz0MoLQF3+Q/rtawFAb/qzHyki8z8xEtpyLkX0P3PJcad0sOg/xq/mAMGc/T8qZRniWJf0Pz4wR4/fGwNAi9Le4AtTAEDodFlMbD7tP4+b4QZ8/v0/yAc9m1UfBUDecwWAz/QRQO4zLhwIye8/00y+2ebG9T9DzsKednjwP+as3Xahuew/drRxxFp89z9Gj9/b9Gf+P0AmGTkLOwBAd4nqrYEt9j+fzarP1VbsP93plbIMcf8/biAkC5jA9D+zos1xbqMHQMpAZfz7DPQ/NLBVgsXh+T/hyKjX0lgOQIYqNXugFfo/2oFzRpR28j8PdR+A1CbqPxN9BWnGov0/gyxm33CaEEAwZHWr5yQAQEk8oGzKFfU/vNBcp5EW9z8l6ZrJN1v2P/SqlQm/1Ps/s2kAyjpHCEAsQxzr4rb/P7cv+9BgjvQ/GJ2YmqlVEkCM4H8r2bH/P6i0N/jC5PU/9H8O8+WFA0CgnvR0ZDsIQH55AfbRaQBARBYwgVt36T/DBG7dzVP3PyEyrOKNTPs/lCcQdorlBEB9Ik+Srhn2Pz9TChV3JwJAzraroR4cDUCfo+lHHnMEQAG8BRIUP/c/mNfH+VGDCEDxmSUBamrsP/K+8bVnFvg/RgiPNo5Y8T+Gns2qz9X/P61dkOM97QxATcYgZuXt/T+2c1B4v2D3P8X6q2zEyAZA6DnpfePrA0BaS8gHPZvuP5Mn+Wx43RNAqAY5OY2mE0BvDWyVYHHjPzhB1H0AkghAojuInSm0AkDUlc/yPLj9P7pGgfQDLfo/26tWJvzSB0CRfsLZrT0QQG/gHwCCMwZAO7MkQE0t8T/sxVBOtCsAQHThQEgW8ABAfbdAguJH/T9vAz4/jJDwP1HWqIdo9Pc/VGQ730+N+D9NRpVh3N0FQDVId8atGAFAaUJJN3iFB0C7lpAPejb6P7ZY9sn2BgdAbQc0ImKEAkDcQexMoXP3P2zsEtVbQwNA6Lsi+N9K+D/irHGR1oMTQBdcrKjBtP4/OPRxyGEbB0B0bATidX35P7ECQ1a3uglAqyuf5Xnw8D8sb4vojWETQIVLjjulg/U/RcfEnFZgAEAq9wKzQqEKQCxymeSROQtAlpAPejar4D+oYJ7fQX0NQJELB0KygANAzjtO0ZFc/T/kNhrAW2AAQFgNiXssffs/ZE6XxcTm6D+Emlq21hfvP8CxVqMNZgxAbOf7qfFS8j9Mi2YKQg4SQNomo8ow3gxAbBg+IqbEAEA412mkpXIAQBMy6yAKUQFAoNtLGqP19z8dlDDT9q/4P+ZrzywJ0Pw//w5FgT4R9D94TcV8L/QOQCiS6GUUS/k/cSAkC5hA+T9mTpfFxGbyPzygbMoVXvQ/1sVtNIC39z8qMGR1q2f4P80eaAWGrO0/pntTR334CkB0EoPAyqH9P8/aj29KZAxA4ww34PND+j/SAucxb3oPQOzrwDkjSvE/gB04Z0SpBkCclUj9UFQEQEigsHp2jwZAjziXh/E/CkDI155ZEqDvP2H9n8N8+fc/ITfDDfh8+T9bKm9HOK34PxqBeF2/4AZARQ2mYfiI9j8XdHtJY7T/P2tN845TdOA/aE3zjlP09z9wd9Zuu1DwP9RZHIRvsANANCB7vftj9T/WnlkSoKbzP6ntX1lpUvo/CEzg1t18BkCUEkn0MorpP18z+WabWwVA26tWJvzS/j/7GbxUEZMKQOzKZ3keXPY/3uR+h6LA8z+gC+pb5vT8P4i6D0BqEwNA7f8c5ssL6z+htDf4wuQDQJyINODihwpAlLu+xXkeDUC9gjRj0XT6P8NkqmBU0vQ/8GPMXUvI8D+muKrsu+IAQNfFbTSAtwVAbyU7NgJx/D9MN4lBYGXxP9poAG+BhPY/yGqpcpBm9j/KKJZbWg31P+bUlc/yfABAeyPzyB+M/D/swN5p12n7P46IKZFELwVAk6mCUUmd6D9zmC8vwD4CQHGrD9ph8glAbewS1VsD+D+EmbZ/ZaX4P988UjNa/RFA/H3GhQOh+D+xlGWIY13hP/+R4/Mv3hNAnLXbLjSXAECgf4KLFTX1P+piib0G0wRArWwwHu8PBkAy9E9wsSL/P684nPnVXAFAo7O1GQKjE0BEwCFUqdnyP4pPATCeQf4/RAN4CyQo/z8Xho+IKZHvP+G593DJ8fo/sW1RZoPM8z/DRf8VQzMEQBUOhGQBk/E/UFPL1voi9D/35GGh1rT8P41iuaXVUABAXlX2XRH88z9kQ0gnXMkGQNQXCW05VwhArH8yIUE8BkDX0w5/TVb/PyTYE7jQkApAknTN5Jtt+D/Ox7WhYhz9P6MqOu2EAgpAlKPH7216/j+TxtQCIPMPQE5dwMsMWxNA/hzmywuwAEAdXfqXpFoTQNz7r86MufQ/2MngKHl18D8cWhquxAIRQD9+b9OffQJATUUqjC0E+z8jTHOGPcASQHqVQ4ts5/8/bmIP7WMFD0CT21H3XGEIQDoawFsgwfg/76zddqF5AUC0pnnHKbr1Pxy6oL5lTgFAJguYwK276j9WVz7L82DxP/O52or95QBAqRdDOdGu+z8kcxvDUjP+P5SRaSONUAJAP+x01l0/CUBmImx4euUBQISo+wCkNuM/dqbQeY3d8D8gdafglYn+P7/snjwsVP8/BQ39E1ys9z8hT5KumfwIQE+EDU+vlPQ/vMBz7+GS+z/B1M+bilThP+AyTBLwUAtARz4KMl3zA0Bpgqj7AKTpPxNNZyeDo/I/N7YbMz8NE0Bla32R0JblPy5TpAxmzQ1AZBTLLa3GA0C7WHPbGREGQKA6wg4IURBAM4XOa+wS6T9RjPM3oVABQF1egH106vk/UVxV9l1RBEA9h/nyAuz+P3Pqymd5HgJAN4xxtJkZ8D9HzsKedvjxP8ZqTrkdlQ9AHyCYo8fvAUDgF/JjJ3f+P6SNI9biU/o/+K3FXXMd/j9oWMUbmUf6P1uZ8Ev9vPk/wyCwcmgR8z/GsS5uowHrPxbyQc9m1f4/Q/8EFytq6j/d5SK+E7P0P70qBv6mVgZAD7kZbsDn7j/YJaq3BrYDQPOiryDNWPQ/G9gqweJw9z872jhiLb73P5YrvMtFfOc/qd3ALtSrDEBEkIMSZtr1P8g6CzFN5/0/HVIdvMCmDkAqOpLLf0gBQLIbti3KbOg/evJVl/iIC0AYLRimAJIKQJEdG4F4Xfk/jTF3LSEf+D9kQybPqxD9P58plrYTUAlABB/ezhkcBkA6I0p7gy8AQFY+y/PgLgNAji0EOSjh9z8RmkzL/s/4PyPgEKrUrAJAbhTthV1/A0C8xi5RvbX/P73GLlG9NQNAQd0HILVJBUABgjl6/F7xP8Qlx53SwfA/XyiqyDI+DkBNCrq9pDH5P+qUDtb/ufs/ELEWnwIAFEBDlmDM8TULQEn71dKSHfE/uzZUjPO38j/plbIMcaz3Pzany2Ji8/Y/mvs/4rL1AkAbTMPwETH5P2qdAqrJ/fI/xpRIopfR/z8YNPRPcLH1P+RAD7Vt6AhAKP7eXLIAAkAbzvxqDhABQEaLbOf7qeU/TNu/stKkAkCf1ZC4x1L1PzqmJyzxAPc/ihKIMq/OCED7ljldFhP3PyShLedSnAZAtDOFzmvs4j/T9q+sNOkAQL8JhQg4hPY/NyTusfSh9z/RYb68AHsFQHuW58HdWfY/kr6kjBNKCECI+fIC7KP2P72NzY5UbwdAjUXT2clgDEB25FmTuBgIQMKjjSPW4uA/l/bN/dVzDUDGgj+yb00LQLw6EQ4H0wpAtB8pIsOqAEBaPSe9b3z7P3Mprir7rgBATH5S7dNx9D/kWBe30UADQBLR6A5i5/0/F9S3zOnyBkDfwyXHndLkP4MSZtr+leM/uicPC7Wm7j/fSnZsBOL9P+/ErBdDOeM/mhr8WBzZB0DOSe8bXzsAQEEhAg6hyv4/hLLw9bV+B0CMwZt/BXoPQGpMT1jigf4/QTBHj99b8z+BIatbPacIQJTs2AjE6+8/9muyRj3E8z8J0zB8REziP863zOmyGPo/RQN4CySo/T+Bn3HhQAgHQKE8LNSa5vk/kKomiLqP8D/Sbsz8tKsNQOgyySMT2wdA/AW7Ydui9D96JclzfX8NQFoWE5uPa/w/DNtxHqmpEUB0HLxlPQsTQDh/EwoRcAZAqJswBnuICUBPZoNMMrIAQNo9eViotQJAs9NIS+Xt7j87OnXls7z9P8XOFDqvcQdA4Y3MI38wAEAkHlA25QoBQAGaCBue3vw/pNB5jV0iAkAIVWr2QCsBQIwo7Q2+MPI//p/DfHmB8z/Un/1IEZnwP3L+JhQi4Ok/nIpUGFuI8D8RkWEVb6QCQEWsxacAGPQ/g7acS3FV/D9DrWnecUoCQL+uJk9ZRRFAAET67evA5j+3WFGDaZjxP7QP9tz4GQ9AW0vIBz2b5T80AvG6fkHyP/eX3ZOHhQVA+6OoM/dADEA3zTtO0REGQM8Bgjl6fP0/u+MUHcnl6D+uad5xik4AQONoRB/idfk/lialoNtL/T8KKT+p9ikCQK0cWmQ73/Q/vHX+7bLvCUAy62qX2yIKQIytVtxuWPo/sRDkoISZBEAcEfhoFk0CQB9vhnapvAZAzywrqAPECkAJOShhpm33P2GP5E3Z1AVAXT0nvW985z8+3qtWJvwBQPIrMSoELQJA39ZJIqC3DUDSFwltOZf2P39WYMjqVv4/tyrkpfZdC0BTSWQfZGkLQGg6OxkcJQJAbdOf/UgR8T9zrgDwmUYTQGHpQxfUt+k/ZaHWNO+4+z8wWkdVE0TjPxFmf0UjRAlAJMfnX9zXCkAXu46C8d0DQLt0kxgEVvY/URn/PuOCAkCu8C4X8Z33P05KQbeXNPo/EjkLe9rh6z96dY4B2WsBQD206s5uGAZAFxwlr84x6j/jehSuR+HuP2m6nui6oAxAELEWnwIAFEDTpBR0e0nzP3iE04IXPQJAfaktdZDvE0BOYhBYObQCQIEX2L7bJw1AoQ4asJo9/j+f+DHmriX5PyVdM/lmG/Y/salOYmvxC0DbxMn9DsX5P0q1T8djBuk/DK/rF+yG8T+dslAhDT0JQIyO5PIf0v4/VuhhDbz/A0CIk/sdigLtPwFqatlaXwNAAGsOEMxRAUBRO/w1WaPsPzOixWNQxwpAyEEJM23/+j/jQEgWMMEBQG/tRElIxAlAhu3d1WFb/D+mzAaZZOTuPxjnkZrRSg9A6DnpfeNr7j9OqVzyiXYPQGysMCL29hJAojws1Jrm4j/W9KCgFO0RQC2pNSj1kAFAD1g5tMj2BEA/3qtWJnz7P7f+8blu9QZAfEDZlCs8/D8V3uUivtMCQJiyDHGsC/k/aSub3mrCCUBVz0nvG9/yP6q6Ngr/OAdAliGOdXGbBUBN1qiHaHT0P8h7nGnChg9AnDOitDd48T904JwRpb0BQGaR7Xw/Nfk/NGPRdHZyB0A2dy0hH3TyPzQawFsgwfw/D5ccd0qH+z+S83tRcYIOQOR5cHfW7gBAdEc4LXhR9D8pcneM4UAIQC1DHOviNv0/ylTBqKSOAEBJJXUCmsgGQOTB3Vm7bfQ/RQJ5G0Ck9j8Xaam8HWH7Pwg6EEh40f0/bUc4LXjRAUCl2QOtwJAJQCtOENDYggNAXbpJDAKr9j+Gk/sdioL7P4hZL4Zyou8/k+fB3Vk7/D9W2XdF8L/5PxRIUPwY8/Y/rxyN6ENcD0CI7iB2ptDmP0pE0OLWLg1Aztb6IqEt/z+4QILixxj0P53ZZEPtDf8/nVT7dDxm+T8JSzygbMrxP8i1oWKc/wJAG878ag4QCUDY3TzVITfnPxY40yk03RNATKKXUSy3/j92yM1wAz72P5EiMqziDfQ/5EVfQZpxAUDDstKkFLQHQF3ri4S2nOU/Xc3wVeHFBUAPcnIa/VMEQE+vlGWIY/Y/LOI7MevF6T8U77bBP7sEQGPNyCB3oQVAln1XBP/b/D/SqrjMRMwPQH+zzY3pifg/W1aalILu9j+4awn5oOfyP/piSn+KDgFAHYums5NB8T8or84xIPv4P3Q8ZqAy/vo/Ha3FArraAUAmDwu1pnnpP83MzMzMzOE/I0BNLVvr/D9twOeHEcLsP9W84xQdSfA/gxbZzvfT9T/ogvqWOV34P1hfJLTl3Po/qey7Ivhf8z+xawn5oGffPzi+9sySAO0/dOrKZ3ke+j9chPBo4wj1P8D/VrJjIwRAoZxoVyFl/z+zKVd4l4vxP+BO6WD9n/8/ZvEpAMYz/j+XwVHy6hz+P6owthDkoARA38yv5gBB+j+DlUOLbGf7P2t9kdCW8/I/ccUgCywrAUC4D0BqE2cCQKn7AKQ2cQBAt/gUAOOZ+T/EDFTGv8/9P2wr9pfdE/Y/rxGI1/UL9z+61XPS+0b3P6QBvAUSFPA/DPSJPEm65D9v46oNqQ0FQI8zTdh+MhBAkT0xoThW9T8Gi8OZX034P8V7ehESTvo/HwXdXtIY/j9EyvTwCukGQCZw626e6vc/ELEWnwIAFECwJeSDns0DQFdD4h5LXwNA+k+SCVM/BUA/r9OjBCgEQCQQr+sXbPk/5WGh1jRv+j9I+KV+3tTzPxKrvNNTyg1ABUNWt3pO9z+UCoVj8UYAQBNiLqnavgBAg1pWq8AKC0DNqnQc5BoBQAOy17s/3uM/ulzEd2JW+z89gcF/BH8CQKH4Meaupfk/RiXh52TeC0Dm7QinBS/tPxNJ9DKK5e8/ZTbIJCPn+j/6RJ4kXTP5P8aKGkzDcPc/fE3WqIdo+D+mJFdWP8sQQJObqKW5pQ5AIwUn7Ow1DkDWP2YMGIkJQHFWPnA6/hNAPbBg0WMqEkByaJHtfD/8P9gS8kHPZuE/M/RPcLGiAEAR4/xNKAQHQPO52or9ZfQ/06agkb7fBkBoatlaX6T3P7IjMDHx4ghA4dHGEWtx/j/d/fFetbL2P69LVG8N7PM/WP/nMF9eAUBU8uocA/ICQI0Mq3gjc/k/HeG04EXf/D/BNAwfEZMCQDsZHCWvzvQ/gURMiSR66z9WvtnmxvT8P6zHnwMmew5AfcxAZfx7/z/vf5HhwrsKQNPe4AuTqfU/TL01sFWC/j+kCwy0li0AQD4mGTkL+/E/YfNxbaiYAkAsm3KFd7nmPyZdM/lm2wBAmzi536Eo9T+WIY51cRvgP3ZQwkzbP/E/aHjEMkdgC0C017s/3qv1P7fm6bcKHfk/1lHVBFG3AUDPfqSIDKv6P2QYPiKmRPo//0gRGVZx8z9pbs89NZgIQDF96IL6lv8/A3mvWplw/T8dds4F5PELQPrfSnZsBOg/BGVTrvAu/j/zWZ4HdycCQGP9n8N8+fA/BAmKH2Nu/T/BfgUfOSgIQAQXK2owjfY/U4DeChfIBEC6OseA7HXzP2agMv59BgRAvLQaEvdY/z8g2/l+arzxPzrrCQGvJQ1A/nQ8ZqAyBEANsUSxJqDoP4XEPZY+9Pw/ZVch5SfV7z/Iq3MMyF7wP2OBIatbPf8/MZ9RXzuNDEBxFva0w1/xP2DI6lbPCQlAqGqCqPuA+j8QsRafAgAUQAzIXu/+OAFAVm5pNSTu7D+hvmVOl0UDQKpHKwgvywpApiRdM/lm7j9TuB6F61HzP8oLsI9OXes/asu5FFeV4z9hQZqxaLoDQLRdaK7TyABAiU+mdiuwCkAYK2owDUP5PyB4EJYM6wVAs+VciqsKAkBB8ilbfzYDQNYvfVRoRQdAWm5pNSTu+z/BOSNKewPyP/vBwHPvYfY/OMgkI2fh/T/qMF9egP34P/fuj/eqle4/PFj/5zDf8T+Sp5t6kzX3P2HD0ytlGeE/A2Svd388A0BxxFp8CoDrPyodrP9zGPs/iHnq7L9JCEDUmMblLqgHQHbIzXADPuU/DJjArbv59T+mSSno9hL7P+NrzywJUPI/JoeZx6ttCEAzh1qJL5EQQA1ggDPnrwJAMVAZ/z7j6T8nufyH9NsCQJvc71AU6O4/jxpMw/AR7z88Yi0+BYAEQF44EJIFTAJABmEkalhi8j/k0CLb+f72P8XLiSyIV/w/lGtDxTh/+T+P4C/BBDkPQGFZaVIKuvs/5CK+E7Pe8j9F+Um1T8f3P6Ghf4KL1QBAGvonuFhR+j+cp0sQv7wOQKwrn+V58Pk/ipP7HYoC8T+kO4idKXTmP7cg77Dk1QJAV2IKe3+4EEDM2m0XmisDQCLNWDSdnfA/ifZn9cQJDUC9Q1GgT2TxP4hUvaGV4AdARVPRs7ROCEA5vvbMkgAAQJzlaEQfYg1AmNNlMbG5BUBK4NbdPNXsP8pKk1LQrQZA7OapDrmZ9z+SvDrHgOz/P4qdKXReY/I/V0kJZvGXA0Bz+Q/pt6/mP6g2k8pvPAJALAu6GF40CEB2w7ZFmQ3lP6mMf59xYf0/LfXzpiIV6z8om3KFd7kAQAhfmEwVjPM/SOcNQR/WB0DczZ2qjJD1P2K0jqomCAJAescpOpLL9j8TQGoTJ7cLQLFM+KV+3vI/LZFEL6NY8D8duqC+Zc71P+O593DJ8f4/ITlPKzvT+D/KHww89x7jP5xoVyHlJ/4/LG6jAbwFAEAf0m9fB078P4iWK3I+iwJAwdMrZRkiA0DYWl8ktCUDQHHEWnwKgPY/SfAre7duAkAMHxFTIon7Px3VZlL5/QhAQUgWMIFb8D9yieqtga3oP6E8LNSapgJAHTP1X4wt5j+lVNM/0pEKQCOduvJZHvY/pYP1fw7z+j+UlSaloFvwPxeuR+F6lP4/2+FUEKijDEBWyjLEsS77P3npJjEILPI/OwBOlClzEUDudRn+000LQLsKKT+p9gBAlOzYCMTr5j+mJeSDnk37Pwqlij0POQpAHTlPKzvDEEDb690f71XnP+OcRCnG/g1AW7G/7J58BEDTceskEXD4PzjPx2sU6Pw/aq0vEtpy6z8dcjPcgE/8P1j+xujKoQNAO+XiuQg9D0Bs2+Z8Z4r3P2XWi6GcaOI/FG9kHvkD9j/K68Gk+MgFQDJCeLRxBAFA8wt2w7ZF5T9pK/aX3ZP2P/snuFhRAwJAnP7sR4rI8T93Ed+JWa8AQEHZlCu8y+Q/7OxkcJQ88j+Dbi9pjJYBQCikoetnFgtAPZEnSdfM9D8aDeAtkCD6PzsZHCWvzuk/LWACt+4mA0AaGZqhp9cHQGtgqwSLw/E/NkbrqGpCAUB4bpD/uNMCQEmrIXGPpfk/Dfj8MEJ4A0CBwMqhRTb3P8xi9g2npwZAb79DUaBP+z8kTu53KAr7P+YPBp57j/Y/Z5sb0xMWAkADkNrEyX3/P2EA0BcxQv4/kQoIUs48AUA0pOWbyEcKQPp3Ii06rgpARsmrcwxI+z8VTWcng2MDQPiNrz2zZAJAYq4d1mWCEEA1QFh8+YMBQKgwthDkYANAduWzPA/u4z8fKSLDKt7+P5Q5XRYTG/w/M+vFUE408z+4SrA4nPn4P0KH+fICLAFARW6GG/D59j8Nv9TPm0oJQDA9YYkHFABA5fUWxWFPBEAXDoRkARP4P5rTZTGxefk/y/2+2qy9E0AKndfYJSoEQIFDqFKzBwNA01eQZixaAEAhQE0tW+v7P9YhN8MN+ABAhAMhWcCE9T/Mh7GWTI8MQFgXpqWo6QpATLSrkPKT9z9sNqDvuJIOQK/rYXmhyv4/T9obfGEy+T9PY1nVNxUOQOn6Bbth2wRAVvt0PGag9z+a2SCTjJzrP+TVOQZkbwdA9H8O8+WFBUAj8Ief/z4MQJepglFJne4/z6rP1VZsAECEwMqhRTb3P2PzcW2omPc/V2DI6lZP9z9XZd8Vwf/iPx8MPPceLvc/eAfTizVHBUBSrAlYYQn/PxeQvd798QBA+1j60AV18T9Vn6ut2B8AQMhxp3SwvgRA45ZWQ+Ie+z+fWRKgppb5P88KDFnd6gJAdzvCacGL6D9lx0YgXlf3P9SjcD0KVwJAabMMzGVeDkC4rwPnjCj7P48PejarPv4/lmBxOPMrC0Ahe7374736P1D3AUhtYvQ/E9VbA1tlAEDAo40j1uIFQHIx9akZ6AxAPVNUopEEA0D2AUht4mT3P88i2/l+6vI/AwsWPabEBkBBEmLT76cHQMLGKHQDOhFAAwouVtRg/D8PfqmfN5X+PzGQoPgx5ug/4L+y0qSU9D+gk943vnYFQBpbCHJQQv4/QB5VqMm3BEAfnbryWR4KQAexM4XOKwNAbRyxFp8C5j+IdhVSftL9P+PyH9JvX/M/zyCZaVaxCkBybATidX37P5iL+E7M+vA/luKqsu/KAkAMXvQVpBnpP9Thr8kadf4/+Fj60AV1AECBfRkxWBYJQBdA1vjxjAxALPddbLXyAUAsTUpBt5f0P8SIVc29AQlAkIgpkUQv9D91zeSbbe4CQBjFckurofM/rv9zmC+v+j/bjxSRYZXxP/rZXJCIdA1AyhXe5SK+5T9XlX1XBH/0P7xqZcIvdQFAG1A25QpvAkAIPZtVn6v/P6SNI9bikwJAhXgkXp7eDkCjcD0K16MCQH8Uv3M5r+o/3XJQHQYeBUAa8PlhhHDyPx5ZwARu3eA/mUZaKm9HAUDUQzS6g9jmP9hMvtnmRgpAF8strYZE/j9MiSR6GcUFQGfbxCS3UQBAVNDtJY3R7j/vv5Xs2AjvP7y36c9+pPc/QAkzbf/K9T8kzLT9Kyv+PyxpjNZR1fc/wDQMHxFT6z+WfsLZrXUBQKGrrdhfduU/AZusUQ9R/j9/dOrKZ3n5P62aIOo+gPw/PZfiqrLv6j9fLJrOTgb+P9szSwLUVPM/mopUGFsI/T8830+Nl27uPzfWxW00gPg/P35v0599A0DvJY3ROqoGQNHWHHtR5gFA71AU6BP5+D//09Sytf4CQFOVAEbh9AtA4EHsTKHz6z+ls5PBUXL3P5rX2CWqN/k/DhSJU/eSB0CNCwdCsgD/Pxo+IqZEkvI/Jvc7FAX68D+sBIvDmV/6P56oAHOIYwBASeF6FK5H6D/aiBaPQf34P92YnrDEwwVAcxVSflLt+z/GckurIXH+Pz94tHHEWvk/fYeiQJ9I/j/IhF/q5837P9/ti5XiZAFAdsjNcAM+8z/gtOBFX8H7P+gYkL3e/QFA9CTpmsm39T9INLqD2Jn8P0Y1JVmHcxBA3F92Tx4W9z+Azw8jhEfrP4akzLwLqgRA01LU9DTDEEA4EJIFTODyP9atnpPeN/A/j/KTap+O/T/gWbvtQjMFQG9V2XdFcPA/fZbnwd3Z+D9Crqx+trcSQDsZHCWvzvA/sPKB03GDEEBN+KV+3tTyP434Tsx6sfM/QXqKHCKO/z+yGgHLAKYQQPxwijMr8BNApGXua24GCECsad5xig7yP9p0Tv3NdQNATmcng6Pk8j88fm/Tn/37P9rWPtMBn/8/LhwIyQKm+z92nKIjufz5P5Nqn47HDOk/GyrG+ZvQ+z+asWg6O1kEQJoJv9TPm+4/s3ZHa7EwEUDGzhQ6r7H4P+rKZ3kenAJAdxVSflLt9D/7pNqn4zH4PyB2ptB5TQBAauzIR0Em5T9awaikTkD6Pyx96IL6luQ/Tphp+1eWBEAdR84dWIEQQESwcf27vg9ADtHoDmJnBkBILv8h/fbnPxvPoKF/ggxATe8bX3tm5j+ttmJ/2T3jPzc3picscfc/81meB3dn6T+WytsRTovzP+0cA7LXu+Y/ndLB+j8H8T8sqtleZsMEQLpOIy2VtwBAXernTUVqA0Bske18P7X9P3HTn/1IEeo/Ml66SQzCCkDD155ZEqDtP3RPHhZqTQBAYV6AfXTq6z+0rDQpBR0GQENbzqW4qgZAVhn/PuNC9D8KHxFTIonmP1I1QdR9APY/6kJznUba8z9XDYl7LP37P8EOnDOidAZA3QsWmF/HBkCiaybfbHP0PwEFFytqMPs/w5lfzQEC8D+2hHzQs9n9PxNE3QcgtfI/xw9c5QkkEkCyumOxTfoSQEVfQZqxaPY/220Xmus06D8/I2zTMygHQLpwICQLWAFAfABSmzi5BEBA1SE3ww38P3v9gt2wbfs/X8mOjUC87D8TmpB7X8kRQK95C9qaA/I/HZ5eKctQBUBzbagY52/0P9bt1SL9QQ9Af4y5awl5+z9W7C+7J4/7PzxuU5fnzAFAau22C8318T9uEd+JWS/2P5ZS0O0lDf0/Jq3nWmpTCEBolgSoqWX9P8QSauENhOQ/B3gLJCh+8j8AuJIdGwH6P/h3bLpU+/0/8tbAVgkW9T/2X50Zs/v9Pw+RYRVvNA1A86EL6ltmAUC4TiMtlXcAQFv60AX1LeU/dHWOAdlr/z+xKvuuCH7+P693f7xXre4/Eq/rF+yG5j8q32xzY3rvPypJ10y+WfE/IZijx+/tBkDUkLjH0kcFQKQCgpQzPwRAodtLGqN19D+NwvUoXI8CQHbbheY6jeU/gEOoUrMH+D/uj/eqlYkEQDO/mgMEcwxABt1e0hitAUDNdb+vNusFQGgrQCX4EBBAW0xsPq6NAkC2w1+TNaoJQOjzB7lBw/w/KCLDKt7IAkApq5/thy79P7rrW5znXvQ/TUXP0rpy/j+kETP7PCYLQK2sNCkFXQBAio/M2fFFEkClWTT4Vg8DQCpRYnw9RO8/VKE3yxu2B0DawyXHndILQMMmMnOBmwNAWN3qOel94T/8FADjGTTuP3a5iO/ErP0/iZP7HYqC9j8qZRniWJf7PzojSnuDL/c/qqROQBNh8z/xz8JU6b0LQJQJv9TPWwdAAR6KAn2i8z/kR+te3YcIQCpDwTFwJfc/MSqpE9BE5j8uF/GdmPX1P8bXnlkSYAJAJH8w8Nw7AUDUEOkSaUYIQF7mdFlMbPM/irDh6ZUy8D9YHM78ao72P8T1KFyPggRA/zhy7sDaD0CzsW2sH1YOQL4hVKnZg/I/HYF4Xb9g8z9Pa5p3nKL+PyyGcqJdhfs/sQPnjCht8T8Wyy2thsTnPxJryfSV8Q5AgSGrWz0nAkAsntVdNP8KQA1Z3eo5qQBAvGfatAhjEEB/8+LEV9v0P19txf6ye+w/IUsfuqC+6T+vCP63kh36P0jXTL7ZZvw/D+m3rwNn9D+zRj1EozvsPzGBW3fzlABABsTr+gU7+D9vyhXe5SLmPyoruS8MlRFAWCfC4WCaAUC28/3UeOn5P4rU5w9yKxJAzTdHwmN0CUCkO088ZxsMQPFL/bypyAVAE2d+NQeI8D9mLJrOTob6Py1/dKA9rQVAz2bV52qrBUAPs14M5UTvP4ao+wCkNu8/0x3EzhS6AUAhLZW3I5z9P2Yu3F53rxBAtqlwuhsqCkCKFdreExAEQIUik0IPi/o/kB8ksN5VE0AcxZSjW1oFQL/PuHAgJOo/Nm3/ykqT9D84qz5XW7HzPyPMtP0rK+c/kaW0o91N/z/ek4eFWtPxP0zvG197ZvY/dC7FVWVf+T+9MJkqGBX2P5CRek/lFBNAj2fQ0D/B6j/gGTT0T3D7P+FLGqN1VP4/bMX+snvy/j/KNjemJ6z8PyD11yssCAdAvKvUovTbBUCOZ3UXza/vP+DurN12ofI/CDNt/8pKAkDuPDsqSK0MQPL4UWi0MPs/TX/2I0Vk4z9yRpT2Bl/lP/evrDQphfM/M6zijczjAECd4AeMmhT6PwHBHD1+b/o/6fOKpx65CEBGmz6WmY0LQCTkKOVaWQJA8nub/uxH6j9lA+li02oJQCq8y0V8pwNAKnl1jgFZ8j+J+E7MerH2P/U7FAX6ROQ/G878ag4Q8z8cITzaOOL+P7rH0ocuKPI/VpEKYwtB9D8DNBE2PD3xP7cCQ1a3eu8/9gFIbeJk8D8kZr0YyonuP8FfkzXqIfo/39JqSNxj7j9bwARu3U3yP2rjiLX4FP0/tpxLcVVZ8z+fuvJZnof6P0PUfQBSm/o/Pn5v05998T9ztRX7y+7nP4D7OnDOiPg/+nDJcad08D8ISzygbMrhP0AipkQSve0/c+WzPA/u/j/PlnMprioCQAHTrY1n9hNAeBnFcksr9j8IJcy0/SvxP+b7qfHSTeg/FCf3OxQF5z929Pi9Tf/5P2F01CwrGAhA6QlLPKBsAkBDGJpG7pQEQM11GmmpvPA/JlyPwvWo+z+lPE4sS18HQD88AQP3kgNA+pfdk4eF7D9tVdl3RfAAQJAsYAK3bvI/QIwQHm0c7D8O/reSHRvwP0DnNXaJqgNA1m/L7JivCkAYwoyEEfYJQO3e5X13lgFA5EfrXt2H8z8g3J212y78Pwb1LXO6rPM/1/85zJeX8z9aguc5fegEQDyDPHHvGBFAiAyreCPz9T/fA63AkFX+P+T8b4D0eApAY/X9iusuCkB/8rBQaxr8P6OKPQ9JaP8/+6Bns+pz7T+vZ5YEqKnfPzrMlxdgnwRAU2DI6laPAUDRmEP3UYoTQJ74MeauzRBAov1IERkWAUA5/DVZox4AQN0QqtTsAfY/eBHwtbFLEEA8Yi0+BUDzP0yil1EsNwJARLsKKT+p8z/SDn9N1ijzP4aPiCmRRABAxkYgXtcv6z+9zXbg9yoEQKYKRiV1ggJAF+Kz0CkLEUCm3hrYKsH9P3QMyF7v/u8/d4TTghc9AEDt5QXYR6fqP0OZDTLJyAFAo2cf0D6LDUAzmSoYlRQFQFTBqKROAABAdk8eFmpN8D9zEd+JWS/7P+9BdK1iVgRA2HdF8L+V5z82WmmtwzwFQFTejnBacPE/hPqWOV2W/D/Yci7FVWX0P//iGTT0TwJAbv6pAv/1EEAsJZLoZdQDQLpa3aCsbvk/ZuwYshXv+z8KsI9OXXkEQJSKVBhbCPs/D4JmIUtAE0BOpWYPtIIAQNtyLsVV5fc/ajzHNl87AUCqTPilfl74P0NKDjOPZxBARrpm8s229j/SO5KB8nUQQPSTxVgB2es/8U1QeSpGDECO63MQz30LQAqLrJBN1RBAerPNjekJ9z8QsRafAgAUQAw1+RwOIfc/VKTC2EKQAECpkZbK25HxP5bZIJOMHPM/3+iFltB4EUAjn0YQnTQJQM2+K4L/reg/QWOBCqI5BED0GrtE9RYCQObj2lAxzgNA9L+3RImBAkBfhbb3BPQHQKYOuRluQPE//c9hvrwA+D9KG+zyUpbuP+ak942vPQJAireEMkM5+T8vwD46deXxP4aAQ6hSMwBAJVgczvxq9j+cOLnfoSjxP1s9J71v/P0/am8S3nmNAUDfe7jkuNP1P/Q8uDtrt+4/+hQA4xl0CECz/NGB9jQRQKjydoTTAvk/DPqIToWOC0DShusHK6T5P1UdcjPcgAFAiqpOvSS0AkAY2c73U+PwPw5TIolexvY/qiFxj6UP/z/Adf7tsi8LQLh1N091iAJAaDhUQma9+j/mjbUabdALQNIm0dxUnglAFPa0w18T/j/j/fFetTLpPzYk7rH0ofE/PYwQHm0c9D8OyF7v/ngDQOwENBE2vPs/z8NkBRoXBUBofjUHCOb1PwS2SrA4HP8/Je6x9KEL+D+Dbi9pjNb2P0YMAiuHlgJAzSiWW1oN9T9dUN8yp8v+P+4YV1wcZQZAo+nsZHAU+z+FVVCsrp4LQH/7OnDOCAlADEEOSphp9z+1ZnW8E+0BQEGH+fICbPI/O5bjus7r+T+q9UVCW872P07udygK9Ps/E5FhFW9k7j9YkGYsms72P5OtP9Nc+ARArjFDPkNzC0D3OxQF+gQFQBPe5SK+E+4/bY4HtqXJCUDynjws1NoIQP1l9+RhIfk/iaGcaFch9T/0LXO6LCbrPzINw0fElP8/IKz/c5gvBUDEXu/+eK//P1z2RgjqDwhAd44B2evd5z/sZHCUvDoBQApVavZAq/I/xIoaTMNw8T9dIEHxY8z6PxMewvhpnBNAht9e40S1AEBJjRpd7/gGQPiOZKB8Gw9AhDh7DPuiBkC4NlSM8zfiP/hnYar0fgpAhPV/DvPl9D8APmfBesIGQBIjhEcbx/k/j0JIzKKG9j+miiYGN+gRQIQ97fDX5Po/BawcWmR7A0BKTXELTP3+P7+fGi/dJOc/qCCrAIQMEEDb3TzVITf3Pz32evfH+/I/3PrSNlkuDECtga0SLA7+Pw6mYfiImOw/AUkRGVbx7T9Kc7+eCiMAQF2wG7YtigVAX9qBhHKcBUCAG5VA78IMQO1WlugsQwxAlMFR8uoc9D95cHfWbvsCQBfLLa2GxPU/hutRuB5FA0A0SwLU1LIFQC2VtyOclvA/gPDUyFNLDEBSxNj4AokHQGBi83FtqANAGrzoK0gz7T91Tx4Wak30P+4sMBrosPk/QWT9C6mH/D8K2EenrjwBQOqymNh8XPQ/VtRgGoYP+j96REyJJPr/P52FPe3w1/o/0ojS3uCLAkBOC170FSQDQLHddqG5zv8/ev5qxILRBkCcCD32DiIHQA4MWd3quf8/v9nmxvSE8T8KN+Dzw8gFQAVu3c1THf0/jfM3oRDBBkD0cRLvpdX2P49PATCewf0/L26jAbxFA0AxCKwcWmT7P+xph78m6/w/6enINhXuDEDvLhfxnZjoP82I0t7giwNAtC3KbJBJBkD4471qZcL/P/t+arx0k/4/WMv4UtMZDEAuYjMbv6v9PyZSYWwhCABAaPON6J6lE0BaBcXq6jkAQFDzsKsk3QBAX/5D+u1r+z+WE+0qpPz0P1gSoKaWLQBATShEwCFUA0ApkUQvo9gDQJs90AoMWeE/VIxO8RMi7T+gVOpI5HEOQOpSXFX23fE/qbwd4bRg+T8/azRvi4gPQMD/+/jwEQZArD5XW7E/+D9B48KBkCzsP8bONpJfqgVAjc6vnHNG+z88cZQX9EkDQLxXrUz45QBAmC8vwD46AEDgFoeOeB0CQGkQQTCiaAxAmLZ/ZaXJ8z9TliGOdfHyPwHso1NX/gFAUxkyw+tfEUDs0tBQ7U0HQCMv/3y2eQFAd1ORCmOL/D9WDxWZb5MNQEqsxacAmAZAc/+R6dA5CUAEglvSrNcHQIrZgSm5Gf0/o4mw4elVBECyOWKI94cBQHxrYKsEiwVAcYV3uYjv4D+KUKVmD3QBQJwMjpJXZ/s/KocW2c53AEA8qpog6r4AQKQZi6azUwJAZmZmZmbm8j/4x3vVygTxP51syhXe5fU/Jvc7FAX6AUChq63YX3bsP13Opbiq7PA/KsHicOZX6z/aQpCDEub0Pxr/PuPCQQRAkaUPXVDf4D8Ay0qTUlD6P5qjx+9t+vM/0pIANbVs/T9vtT0wNhMFQHqgX6XMVwhAt9YXCW05BEDhCzjwDwAFQJnwS/28qfE/o7uh3616EEC8D0BqE6cBQKqGxD2WPvc/ZAETuHU3/j+vnTk14WgKQCjyJOmayfw/xgPKplxh8D8STgte9JX0P1KzB1qBofk/0nUaaam8+T88syRATS36P1MBMJ5Bw/c/o5I6AU2E8j/mMQOV8e/6P/3VHCCYo+o/Hx/0bFb9+j9gZ/lwf6T9P5G4x9KHrvs/Dlnd6jnp+z/TDyOER9sGQAmOklfnGPg/9LRopiAk/D+DNGPRdHbmPxjKiXYVEgFAwHx5AfbR9z/fh3JY0Ir5P1MKur2ksfA/hkZ3EDtT6T8sxVVl35X+Pw6mYfiIGARATBqjdVQ1/T8joS3nUtz7P6Og20sao/8/6a2BrRLsBEDI6z62G9P9P1eoNc07Tvw/+povQOwGBECpBIvDmd/9P2gKndfYZQFAxG+plOjOE0BTwkzbv7LnP5q3j4HhkQtACv9EwHz9D0A/BcB4Bg3yP0gWMIFbd+g/7Cqk/KTa8D9sdAexM4XnP9bRJ6iXLgVAAIxn0NA/+j8TPBl33jEKQFQh9lMtQw1AsQxxrItb+z/jSdI1k+/xP01jQswltRBAHBcfsLxFEUAGo5I6Ac0CQANgPIOGPgBAnSRdM/lmAECWSKKXUSzkP13SGK2jqgdAJeAQqtRs+z+Tap+Ox4zxP3o+Nm7W9RJAaM6luKrs7j//RJ4kXbP1P94FSgosEBFA3YUq6+29E0AxUBn/PiMCQPO52or95f8/x9yee2oIE0AJ0oxF09nmP0YX1LfMafo/",
          "dtype": "f8"
         }
        },
        {
         "mode": "lines",
         "type": "scatter",
         "x": [
          0.14999,
          5.00001
         ],
         "y": [
          0.14999,
          5.00001
         ]
        }
       ],
       "layout": {
        "template": {
         "data": {
          "bar": [
           {
            "error_x": {
             "color": "#2a3f5f"
            },
            "error_y": {
             "color": "#2a3f5f"
            },
            "marker": {
             "line": {
              "color": "#E5ECF6",
              "width": 0.5
             },
             "pattern": {
              "fillmode": "overlay",
              "size": 10,
              "solidity": 0.2
             }
            },
            "type": "bar"
           }
          ],
          "barpolar": [
           {
            "marker": {
             "line": {
              "color": "#E5ECF6",
              "width": 0.5
             },
             "pattern": {
              "fillmode": "overlay",
              "size": 10,
              "solidity": 0.2
             }
            },
            "type": "barpolar"
           }
          ],
          "carpet": [
           {
            "aaxis": {
             "endlinecolor": "#2a3f5f",
             "gridcolor": "white",
             "linecolor": "white",
             "minorgridcolor": "white",
             "startlinecolor": "#2a3f5f"
            },
            "baxis": {
             "endlinecolor": "#2a3f5f",
             "gridcolor": "white",
             "linecolor": "white",
             "minorgridcolor": "white",
             "startlinecolor": "#2a3f5f"
            },
            "type": "carpet"
           }
          ],
          "choropleth": [
           {
            "colorbar": {
             "outlinewidth": 0,
             "ticks": ""
            },
            "type": "choropleth"
           }
          ],
          "contour": [
           {
            "colorbar": {
             "outlinewidth": 0,
             "ticks": ""
            },
            "colorscale": [
             [
              0,
              "#0d0887"
             ],
             [
              0.1111111111111111,
              "#46039f"
             ],
             [
              0.2222222222222222,
              "#7201a8"
             ],
             [
              0.3333333333333333,
              "#9c179e"
             ],
             [
              0.4444444444444444,
              "#bd3786"
             ],
             [
              0.5555555555555556,
              "#d8576b"
             ],
             [
              0.6666666666666666,
              "#ed7953"
             ],
             [
              0.7777777777777778,
              "#fb9f3a"
             ],
             [
              0.8888888888888888,
              "#fdca26"
             ],
             [
              1,
              "#f0f921"
             ]
            ],
            "type": "contour"
           }
          ],
          "contourcarpet": [
           {
            "colorbar": {
             "outlinewidth": 0,
             "ticks": ""
            },
            "type": "contourcarpet"
           }
          ],
          "heatmap": [
           {
            "colorbar": {
             "outlinewidth": 0,
             "ticks": ""
            },
            "colorscale": [
             [
              0,
              "#0d0887"
             ],
             [
              0.1111111111111111,
              "#46039f"
             ],
             [
              0.2222222222222222,
              "#7201a8"
             ],
             [
              0.3333333333333333,
              "#9c179e"
             ],
             [
              0.4444444444444444,
              "#bd3786"
             ],
             [
              0.5555555555555556,
              "#d8576b"
             ],
             [
              0.6666666666666666,
              "#ed7953"
             ],
             [
              0.7777777777777778,
              "#fb9f3a"
             ],
             [
              0.8888888888888888,
              "#fdca26"
             ],
             [
              1,
              "#f0f921"
             ]
            ],
            "type": "heatmap"
           }
          ],
          "histogram": [
           {
            "marker": {
             "pattern": {
              "fillmode": "overlay",
              "size": 10,
              "solidity": 0.2
             }
            },
            "type": "histogram"
           }
          ],
          "histogram2d": [
           {
            "colorbar": {
             "outlinewidth": 0,
             "ticks": ""
            },
            "colorscale": [
             [
              0,
              "#0d0887"
             ],
             [
              0.1111111111111111,
              "#46039f"
             ],
             [
              0.2222222222222222,
              "#7201a8"
             ],
             [
              0.3333333333333333,
              "#9c179e"
             ],
             [
              0.4444444444444444,
              "#bd3786"
             ],
             [
              0.5555555555555556,
              "#d8576b"
             ],
             [
              0.6666666666666666,
              "#ed7953"
             ],
             [
              0.7777777777777778,
              "#fb9f3a"
             ],
             [
              0.8888888888888888,
              "#fdca26"
             ],
             [
              1,
              "#f0f921"
             ]
            ],
            "type": "histogram2d"
           }
          ],
          "histogram2dcontour": [
           {
            "colorbar": {
             "outlinewidth": 0,
             "ticks": ""
            },
            "colorscale": [
             [
              0,
              "#0d0887"
             ],
             [
              0.1111111111111111,
              "#46039f"
             ],
             [
              0.2222222222222222,
              "#7201a8"
             ],
             [
              0.3333333333333333,
              "#9c179e"
             ],
             [
              0.4444444444444444,
              "#bd3786"
             ],
             [
              0.5555555555555556,
              "#d8576b"
             ],
             [
              0.6666666666666666,
              "#ed7953"
             ],
             [
              0.7777777777777778,
              "#fb9f3a"
             ],
             [
              0.8888888888888888,
              "#fdca26"
             ],
             [
              1,
              "#f0f921"
             ]
            ],
            "type": "histogram2dcontour"
           }
          ],
          "mesh3d": [
           {
            "colorbar": {
             "outlinewidth": 0,
             "ticks": ""
            },
            "type": "mesh3d"
           }
          ],
          "parcoords": [
           {
            "line": {
             "colorbar": {
              "outlinewidth": 0,
              "ticks": ""
             }
            },
            "type": "parcoords"
           }
          ],
          "pie": [
           {
            "automargin": true,
            "type": "pie"
           }
          ],
          "scatter": [
           {
            "fillpattern": {
             "fillmode": "overlay",
             "size": 10,
             "solidity": 0.2
            },
            "type": "scatter"
           }
          ],
          "scatter3d": [
           {
            "line": {
             "colorbar": {
              "outlinewidth": 0,
              "ticks": ""
             }
            },
            "marker": {
             "colorbar": {
              "outlinewidth": 0,
              "ticks": ""
             }
            },
            "type": "scatter3d"
           }
          ],
          "scattercarpet": [
           {
            "marker": {
             "colorbar": {
              "outlinewidth": 0,
              "ticks": ""
             }
            },
            "type": "scattercarpet"
           }
          ],
          "scattergeo": [
           {
            "marker": {
             "colorbar": {
              "outlinewidth": 0,
              "ticks": ""
             }
            },
            "type": "scattergeo"
           }
          ],
          "scattergl": [
           {
            "marker": {
             "colorbar": {
              "outlinewidth": 0,
              "ticks": ""
             }
            },
            "type": "scattergl"
           }
          ],
          "scattermap": [
           {
            "marker": {
             "colorbar": {
              "outlinewidth": 0,
              "ticks": ""
             }
            },
            "type": "scattermap"
           }
          ],
          "scattermapbox": [
           {
            "marker": {
             "colorbar": {
              "outlinewidth": 0,
              "ticks": ""
             }
            },
            "type": "scattermapbox"
           }
          ],
          "scatterpolar": [
           {
            "marker": {
             "colorbar": {
              "outlinewidth": 0,
              "ticks": ""
             }
            },
            "type": "scatterpolar"
           }
          ],
          "scatterpolargl": [
           {
            "marker": {
             "colorbar": {
              "outlinewidth": 0,
              "ticks": ""
             }
            },
            "type": "scatterpolargl"
           }
          ],
          "scatterternary": [
           {
            "marker": {
             "colorbar": {
              "outlinewidth": 0,
              "ticks": ""
             }
            },
            "type": "scatterternary"
           }
          ],
          "surface": [
           {
            "colorbar": {
             "outlinewidth": 0,
             "ticks": ""
            },
            "colorscale": [
             [
              0,
              "#0d0887"
             ],
             [
              0.1111111111111111,
              "#46039f"
             ],
             [
              0.2222222222222222,
              "#7201a8"
             ],
             [
              0.3333333333333333,
              "#9c179e"
             ],
             [
              0.4444444444444444,
              "#bd3786"
             ],
             [
              0.5555555555555556,
              "#d8576b"
             ],
             [
              0.6666666666666666,
              "#ed7953"
             ],
             [
              0.7777777777777778,
              "#fb9f3a"
             ],
             [
              0.8888888888888888,
              "#fdca26"
             ],
             [
              1,
              "#f0f921"
             ]
            ],
            "type": "surface"
           }
          ],
          "table": [
           {
            "cells": {
             "fill": {
              "color": "#EBF0F8"
             },
             "line": {
              "color": "white"
             }
            },
            "header": {
             "fill": {
              "color": "#C8D4E3"
             },
             "line": {
              "color": "white"
             }
            },
            "type": "table"
           }
          ]
         },
         "layout": {
          "annotationdefaults": {
           "arrowcolor": "#2a3f5f",
           "arrowhead": 0,
           "arrowwidth": 1
          },
          "autotypenumbers": "strict",
          "coloraxis": {
           "colorbar": {
            "outlinewidth": 0,
            "ticks": ""
           }
          },
          "colorscale": {
           "diverging": [
            [
             0,
             "#8e0152"
            ],
            [
             0.1,
             "#c51b7d"
            ],
            [
             0.2,
             "#de77ae"
            ],
            [
             0.3,
             "#f1b6da"
            ],
            [
             0.4,
             "#fde0ef"
            ],
            [
             0.5,
             "#f7f7f7"
            ],
            [
             0.6,
             "#e6f5d0"
            ],
            [
             0.7,
             "#b8e186"
            ],
            [
             0.8,
             "#7fbc41"
            ],
            [
             0.9,
             "#4d9221"
            ],
            [
             1,
             "#276419"
            ]
           ],
           "sequential": [
            [
             0,
             "#0d0887"
            ],
            [
             0.1111111111111111,
             "#46039f"
            ],
            [
             0.2222222222222222,
             "#7201a8"
            ],
            [
             0.3333333333333333,
             "#9c179e"
            ],
            [
             0.4444444444444444,
             "#bd3786"
            ],
            [
             0.5555555555555556,
             "#d8576b"
            ],
            [
             0.6666666666666666,
             "#ed7953"
            ],
            [
             0.7777777777777778,
             "#fb9f3a"
            ],
            [
             0.8888888888888888,
             "#fdca26"
            ],
            [
             1,
             "#f0f921"
            ]
           ],
           "sequentialminus": [
            [
             0,
             "#0d0887"
            ],
            [
             0.1111111111111111,
             "#46039f"
            ],
            [
             0.2222222222222222,
             "#7201a8"
            ],
            [
             0.3333333333333333,
             "#9c179e"
            ],
            [
             0.4444444444444444,
             "#bd3786"
            ],
            [
             0.5555555555555556,
             "#d8576b"
            ],
            [
             0.6666666666666666,
             "#ed7953"
            ],
            [
             0.7777777777777778,
             "#fb9f3a"
            ],
            [
             0.8888888888888888,
             "#fdca26"
            ],
            [
             1,
             "#f0f921"
            ]
           ]
          },
          "colorway": [
           "#636efa",
           "#EF553B",
           "#00cc96",
           "#ab63fa",
           "#FFA15A",
           "#19d3f3",
           "#FF6692",
           "#B6E880",
           "#FF97FF",
           "#FECB52"
          ],
          "font": {
           "color": "#2a3f5f"
          },
          "geo": {
           "bgcolor": "white",
           "lakecolor": "white",
           "landcolor": "#E5ECF6",
           "showlakes": true,
           "showland": true,
           "subunitcolor": "white"
          },
          "hoverlabel": {
           "align": "left"
          },
          "hovermode": "closest",
          "mapbox": {
           "style": "light"
          },
          "paper_bgcolor": "white",
          "plot_bgcolor": "#E5ECF6",
          "polar": {
           "angularaxis": {
            "gridcolor": "white",
            "linecolor": "white",
            "ticks": ""
           },
           "bgcolor": "#E5ECF6",
           "radialaxis": {
            "gridcolor": "white",
            "linecolor": "white",
            "ticks": ""
           }
          },
          "scene": {
           "xaxis": {
            "backgroundcolor": "#E5ECF6",
            "gridcolor": "white",
            "gridwidth": 2,
            "linecolor": "white",
            "showbackground": true,
            "ticks": "",
            "zerolinecolor": "white"
           },
           "yaxis": {
            "backgroundcolor": "#E5ECF6",
            "gridcolor": "white",
            "gridwidth": 2,
            "linecolor": "white",
            "showbackground": true,
            "ticks": "",
            "zerolinecolor": "white"
           },
           "zaxis": {
            "backgroundcolor": "#E5ECF6",
            "gridcolor": "white",
            "gridwidth": 2,
            "linecolor": "white",
            "showbackground": true,
            "ticks": "",
            "zerolinecolor": "white"
           }
          },
          "shapedefaults": {
           "line": {
            "color": "#2a3f5f"
           }
          },
          "ternary": {
           "aaxis": {
            "gridcolor": "white",
            "linecolor": "white",
            "ticks": ""
           },
           "baxis": {
            "gridcolor": "white",
            "linecolor": "white",
            "ticks": ""
           },
           "bgcolor": "#E5ECF6",
           "caxis": {
            "gridcolor": "white",
            "linecolor": "white",
            "ticks": ""
           }
          },
          "title": {
           "x": 0.05
          },
          "xaxis": {
           "automargin": true,
           "gridcolor": "white",
           "linecolor": "white",
           "ticks": "",
           "title": {
            "standoff": 15
           },
           "zerolinecolor": "white",
           "zerolinewidth": 2
          },
          "yaxis": {
           "automargin": true,
           "gridcolor": "white",
           "linecolor": "white",
           "ticks": "",
           "title": {
            "standoff": 15
           },
           "zerolinecolor": "white",
           "zerolinewidth": 2
          }
         }
        }
       }
      }
     },
     "metadata": {},
     "output_type": "display_data"
    }
   ],
   "source": [
    "fig4 = go.Figure()\n",
    "\n",
    "error_square = np.sqrt((y_test - y_pred) ** 2)\n",
    "\n",
    "fig4.add_trace(go.Scatter(\n",
    "    x=y_test,\n",
    "    y=y_pred,\n",
    "    mode=\"markers\",\n",
    "    showlegend=True,\n",
    "    marker=dict(\n",
    "        color=error_square,\n",
    "        colorscale=\"Viridis\",\n",
    "        colorbar=dict(title=\"Wurzel aus MSE\"),\n",
    "        size=6\n",
    "    )\n",
    "))\n",
    "\n",
    "fig4.add_trace(go.Scatter(\n",
    "    x=[min(y_test), max(y_test)],\n",
    "    y=[min(y_test), max(y_test)],\n",
    "    mode=\"lines\"\n",
    "))"
   ]
  },
  {
   "cell_type": "markdown",
   "metadata": {},
   "source": [
    "## Zusammenfassung\n",
    " \n",
    "| Metrik | Wert  |\n",
    "| ------ | ----- |\n",
    "| R²     | 0,805 |\n",
    "| MAE    | 0,327 |\n",
    "| MSE    | 0,255 |\n",
    "| RMSE   | 0,505 |"
   ]
  },
  {
   "cell_type": "markdown",
   "metadata": {},
   "source": [
    "| $\\frac{RMSE}{MAE}$ | Bedeutung                                |\n",
    "| ------------------ | ---------------------------------------- |\n",
    "| 1,0 - 1,2          | Stabil, kaum Ausreißer, gute Vorhersagen |\n",
    "| 1,3 - 1,6          | Gute Vorhersagen mit größeren Fehlern    |\n",
    "| > 2                | Viele oder sehr große Ausreißer          |\n",
    " \n",
    " \n",
    " "
   ]
  }
 ],
 "metadata": {
  "kernelspec": {
   "display_name": ".venv",
   "language": "python",
   "name": "python3"
  },
  "language_info": {
   "codemirror_mode": {
    "name": "ipython",
    "version": 3
   },
   "file_extension": ".py",
   "mimetype": "text/x-python",
   "name": "python",
   "nbconvert_exporter": "python",
   "pygments_lexer": "ipython3",
   "version": "3.13.2"
  }
 },
 "nbformat": 4,
 "nbformat_minor": 2
}
