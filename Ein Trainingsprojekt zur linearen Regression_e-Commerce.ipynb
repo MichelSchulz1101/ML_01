{
 "cells": [
  {
   "cell_type": "markdown",
   "metadata": {},
   "source": [
    "# Ein Trainingsprojekt zur linearen Regression: Kundendaten im E-Commerce"
   ]
  },
  {
   "cell_type": "markdown",
   "metadata": {},
   "source": [
    "## 1. Daten vorbereiten Teil A\n",
    "### 1.1 Daten laden"
   ]
  },
  {
   "cell_type": "code",
   "execution_count": 1,
   "metadata": {},
   "outputs": [],
   "source": [
    "import pandas as pd\n",
    "import plotly.express as px\n",
    "from sklearn.model_selection import train_test_split\n",
    "from sklearn.preprocessing import StandardScaler\n",
    "import numpy as np"
   ]
  },
  {
   "cell_type": "code",
   "execution_count": 2,
   "metadata": {},
   "outputs": [
    {
     "data": {
      "application/vnd.microsoft.datawrangler.viewer.v0+json": {
       "columns": [
        {
         "name": "index",
         "rawType": "int64",
         "type": "integer"
        },
        {
         "name": "Email",
         "rawType": "object",
         "type": "string"
        },
        {
         "name": "Address",
         "rawType": "object",
         "type": "string"
        },
        {
         "name": "Avatar",
         "rawType": "object",
         "type": "string"
        },
        {
         "name": "Avg. Session Length",
         "rawType": "float64",
         "type": "float"
        },
        {
         "name": "Time on App",
         "rawType": "float64",
         "type": "float"
        },
        {
         "name": "Time on Website",
         "rawType": "float64",
         "type": "float"
        },
        {
         "name": "Length of Membership",
         "rawType": "float64",
         "type": "float"
        },
        {
         "name": "Yearly Amount Spent",
         "rawType": "float64",
         "type": "float"
        }
       ],
       "ref": "d0ddb98a-b359-4ccd-ba7f-110d5546452e",
       "rows": [
        [
         "0",
         "mstephenson@fernandez.com",
         "835 Frank Tunnel\nWrightmouth, MI 82180-9605",
         "Violet",
         "34.49726772511229",
         "12.655651149166752",
         "39.57766801952616",
         "4.082620632952961",
         "587.9510539684005"
        ],
        [
         "1",
         "hduke@hotmail.com",
         "4547 Archer Common\nDiazchester, CA 06566-8576",
         "DarkGreen",
         "31.92627202636016",
         "11.109460728682564",
         "37.268958868297744",
         "2.66403418213262",
         "392.2049334443264"
        ],
        [
         "2",
         "pallen@yahoo.com",
         "24645 Valerie Unions Suite 582\nCobbborough, DC 99414-7564",
         "Bisque",
         "33.000914755642675",
         "11.330278057777512",
         "37.11059744212085",
         "4.104543202376424",
         "487.54750486747207"
        ],
        [
         "3",
         "riverarebecca@gmail.com",
         "1414 David Throughway\nPort Jason, OH 22070-1220",
         "SaddleBrown",
         "34.30555662975554",
         "13.717513665142508",
         "36.72128267790313",
         "3.120178782748092",
         "581.8523440352178"
        ],
        [
         "4",
         "mstephens@davidson-herman.com",
         "14023 Rodriguez Passage\nPort Jacobville, PR 37242-1057",
         "MediumAquaMarine",
         "33.33067252364639",
         "12.795188551078114",
         "37.53665330059473",
         "4.446308318351435",
         "599.4060920457634"
        ],
        [
         "5",
         "alvareznancy@lucas.biz",
         "645 Martha Park Apt. 611\nJeffreychester, MN 67218-7250",
         "FloralWhite",
         "33.87103787934198",
         "12.026925339755058",
         "34.47687762925054",
         "5.493507201364199",
         "637.102447915074"
        ],
        [
         "6",
         "katherine20@yahoo.com",
         "68388 Reyes Lights Suite 692\nJosephbury, WV 92213-0247",
         "DarkSlateBlue",
         "32.02159550138701",
         "11.366348309710526",
         "36.683776152869605",
         "4.685017246570912",
         "521.5721747578274"
        ],
        [
         "7",
         "awatkins@yahoo.com",
         "Unit 6538 Box 8980\nDPO AP 09026-4941",
         "Aqua",
         "32.739142938380326",
         "12.35195897300293",
         "37.373358858547554",
         "4.4342734348999375",
         "549.9041461052942"
        ],
        [
         "8",
         "vchurch@walter-martinez.com",
         "860 Lee Key\nWest Debra, SD 97450-0495",
         "Salmon",
         "33.98777289568564",
         "13.386235275676434",
         "37.534497341555735",
         "3.2734335777477144",
         "570.2004089636195"
        ],
        [
         "9",
         "bonnie69@lin.biz",
         "PSC 2734, Box 5255\nAPO AA 98456-7482",
         "Brown",
         "31.936548618448917",
         "11.814128294972196",
         "37.14516822352819",
         "3.202806071553459",
         "427.19938489532814"
        ],
        [
         "10",
         "andrew06@peterson.com",
         "26104 Alexander Groves\nAlexandriaport, WY 28244-9149",
         "Tomato",
         "33.99257277495374",
         "13.338975447662111",
         "37.22580613162114",
         "2.482607770510596",
         "492.6060127179966"
        ],
        [
         "11",
         "ryanwerner@freeman.biz",
         "Unit 2413 Box 0347\nDPO AA 07580-2652",
         "Tomato",
         "33.87936082480498",
         "11.584782999535266",
         "37.087926070983805",
         "3.71320920294043",
         "522.3374046069357"
        ],
        [
         "12",
         "knelson@gmail.com",
         "6705 Miller Orchard Suite 186\nLake Shanestad, MO 75696-5051",
         "RoyalBlue",
         "29.532428967057943",
         "10.961298400154098",
         "37.42021557502538",
         "4.046423164299585",
         "408.64035107262754"
        ],
        [
         "13",
         "wrightpeter@yahoo.com",
         "05302 Dunlap Ferry\nNew Stephaniehaven, MP 42268",
         "Bisque",
         "33.19033404372265",
         "12.959226091609382",
         "36.14466670004192",
         "3.918541839158999",
         "573.4158673313865"
        ],
        [
         "14",
         "taylormason@gmail.com",
         "7773 Powell Springs Suite 190\nSamanthaland, ND 44358",
         "DarkBlue",
         "32.38797585315387",
         "13.148725692056516",
         "36.61995708279922",
         "2.494543646659249",
         "470.45273330095546"
        ],
        [
         "15",
         "jstark@anderson.com",
         "49558 Ramirez Road Suite 399\nPhillipstad, OH 35641-3238",
         "Peru",
         "30.737720372628186",
         "12.636606052000127",
         "36.213763093698624",
         "3.357846842326294",
         "461.7807421962299"
        ],
        [
         "16",
         "wjennings@gmail.com",
         "6362 Wilson Mountain\nJohnsonfurt, GA 15169",
         "PowderBlue",
         "32.12538689728784",
         "11.733861690857392",
         "34.8940927514398",
         "3.1361327164897803",
         "457.84769594494855"
        ],
        [
         "17",
         "rebecca45@hale-bauer.biz",
         "8982 Burton Row\nWilsonton, PW 88606",
         "OliveDrab",
         "32.33889932306719",
         "12.0131946940144",
         "38.38513659413844",
         "2.420806160901484",
         "407.7045475495441"
        ],
        [
         "18",
         "alejandro75@hotmail.com",
         "64475 Andre Club Apt. 795\nPort Dannytown, PW 63227",
         "Cyan",
         "32.187812045932155",
         "14.7153875441565",
         "38.24411459434352",
         "1.516575580831944",
         "452.31567548003545"
        ],
        [
         "19",
         "samuel46@love-west.net",
         "544 Alexander Heights Suite 768\nNorth Johnview, MT 57912",
         "LightSeaGreen",
         "32.61785606282345",
         "13.989592555825254",
         "37.19050380039796",
         "4.064548550437977",
         "605.061038804892"
        ],
        [
         "20",
         "megan33@gmail.com",
         "84426 Julia Vista\nNorth Teresa, KY 50756",
         "PeachPuff",
         "32.91278511115979",
         "11.365492025516156",
         "37.60779252420698",
         "4.599937357614995",
         "534.7057438060227"
        ],
        [
         "21",
         "agolden@yahoo.com",
         "PSC 2490, Box 2120\nAPO AE 15445-2876",
         "Black",
         "33.50308725671972",
         "12.87798369625634",
         "37.44102133556604",
         "1.559151939957077",
         "419.9387748391792"
        ],
        [
         "22",
         "vstafford@hotmail.com",
         "PSC 5723, Box 8159\nAPO AA 74738",
         "Olive",
         "31.531604482572902",
         "13.378562784168986",
         "38.73400628989712",
         "2.2451477874052825",
         "436.51560572936256"
        ],
        [
         "23",
         "denise22@hernandez-townsend.com",
         "USNS Cardenas\nFPO AA 85439-9449",
         "Silver",
         "32.903250973372074",
         "11.657575922065584",
         "36.77260376125875",
         "3.919302308553184",
         "519.3409891307888"
        ],
        [
         "24",
         "youngbarbara@yahoo.com",
         "019 Elliott Tunnel Suite 190\nNicholsbury, WV 60804-4440",
         "Wheat",
         "34.50755099852662",
         "12.893669504071738",
         "37.63575587790592",
         "5.705153970601026",
         "700.9170916173961"
        ],
        [
         "25",
         "william25@mcconnell.com",
         "9495 Mary Fall Apt. 777\nGlassport, ND 17957-5596",
         "Teal",
         "33.02933195350689",
         "11.765812645482358",
         "37.73852494557909",
         "2.7217359920452187",
         "423.17999168059777"
        ],
        [
         "26",
         "ijones@schaefer-carr.net",
         "657 Judith Crossroad\nHancockchester, VI 75658-5788",
         "Linen",
         "33.54123131310037",
         "12.78389178427502",
         "36.430649621049305",
         "4.648199316428601",
         "619.8956398616368"
        ],
        [
         "27",
         "heatherhall@yahoo.com",
         "8522 Regina Port Suite 782\nPort Kaitlin, TX 50501-7264",
         "MediumSlateBlue",
         "32.33598963740772",
         "13.007819424388568",
         "37.85177916943607",
         "2.996364526268539",
         "486.83893476506273"
        ],
        [
         "28",
         "tinasmith@martinez.info",
         "40000 Ann Port Suite 474\nYoungberg, MS 03651",
         "LemonChiffon",
         "33.11020505771776",
         "11.982044994015611",
         "35.29308775436051",
         "3.923488745527437",
         "529.537665336851"
        ],
        [
         "29",
         "chasejennifer@hotmail.com",
         "9507 Robert Prairie Apt. 601\nEast Crystalview, SC 56814",
         "DarkOrchid",
         "33.10543794246846",
         "11.965020002997898",
         "37.27781174207212",
         "4.742577519573315",
         "554.7220838330761"
        ],
        [
         "30",
         "jenniferbarnett@gmail.com",
         "0772 Michael Isle Suite 617\nMeyerstown, WA 45449-6768",
         "SeaGreen",
         "33.24190043446127",
         "12.305417813429443",
         "36.16364817104465",
         "3.062368145311689",
         "497.5866713004408"
        ],
        [
         "31",
         "jared39@hotmail.com",
         "739 David Isle Suite 818\nChandlertown, DC 34587",
         "SteelBlue",
         "33.46105629551836",
         "10.869163814130363",
         "35.62244242064545",
         "3.471413452477678",
         "447.6879065360586"
        ],
        [
         "32",
         "briancarlson@page-fleming.com",
         "USCGC Gill\nFPO AA 26496",
         "DarkMagenta",
         "32.175501237949376",
         "13.387492105579694",
         "35.69417498569782",
         "4.343062915388998",
         "588.7126055095755"
        ],
        [
         "33",
         "joshuaodom@gmail.com",
         "5277 Patel Brook\nEast Audrey, NJ 19075",
         "DarkGoldenRod",
         "32.72836000313375",
         "13.1045072428758",
         "38.878040506759845",
         "2.8200972339734696",
         "491.0732236795197"
        ],
        [
         "34",
         "vickie90@lee-wilson.com",
         "9135 Rodriguez Dam\nRamirezberg, MS 77223",
         "DarkSeaGreen",
         "32.82030994541536",
         "11.634893252550466",
         "35.36862632536302",
         "4.1245852967146535",
         "507.4418323396167"
        ],
        [
         "35",
         "duane56@hotmail.com",
         "24373 Mcgee Drive Apt. 990\nNew Mariahaven, NH 14470",
         "Gainsboro",
         "33.61603789276768",
         "11.936386499892285",
         "38.76864099802668",
         "3.649286157714702",
         "521.8835731664784"
        ],
        [
         "36",
         "enash@gmail.com",
         "997 Campbell Flat Suite 970\nEast Amanda, PW 22048",
         "HotPink",
         "31.72165236050904",
         "11.75502370305383",
         "36.7657223578584",
         "1.8473704233395083",
         "347.7769266318726"
        ],
        [
         "37",
         "sandraharrison@bailey-gordon.net",
         "7835 Rogers Roads\nEast Amberhaven, MI 70835-2286",
         "LightSeaGreen",
         "32.8653271748764",
         "11.984417523634924",
         "37.0443614002997",
         "3.452388582630727",
         "490.7386321439546"
        ],
        [
         "38",
         "cunninghamwilliam@hotmail.com",
         "4589 Dan Fords\nBeasleyburgh, ME 96590-8272",
         "HoneyDew",
         "32.74936818112046",
         "9.954975969174418",
         "37.38831486719822",
         "4.650491269094463",
         "478.1703340540876"
        ],
        [
         "39",
         "teresaallen@hill-leach.info",
         "1958 Robert Bridge Apt. 250\nMalloryland, ID 03393-5336",
         "WhiteSmoke",
         "32.56723048027511",
         "12.489013215743665",
         "36.37147981406854",
         "4.22243622534277",
         "537.8461952695957"
        ],
        [
         "40",
         "rhonda96@little.org",
         "2977 Perez Row\nLake Jack, TN 45336-9436",
         "GhostWhite",
         "32.07054622092545",
         "11.733106220383402",
         "37.53429101112127",
         "4.671275460906252",
         "532.7517875818365"
        ],
        [
         "41",
         "lisacabrera@yahoo.com",
         "9801 Thomas Pike Suite 058\nBrandishire, AK 88122-1314",
         "DarkSlateBlue",
         "33.01954798572344",
         "10.634561317920278",
         "37.49669014561275",
         "4.646119976606155",
         "501.8744302842695"
        ],
        [
         "42",
         "jasonrichardson@elliott.com",
         "18372 Matthew Fork Suite 705\nNorth Matthewmouth, KY 99737",
         "Chocolate",
         "33.79203907501622",
         "12.507525374016035",
         "37.14286198458455",
         "4.214495086037866",
         "591.1971781805905"
        ],
        [
         "43",
         "hoovernicole@dorsey.net",
         "69403 Hernandez Knolls\nMarciashire, DE 36417-5667",
         "HoneyDew",
         "32.89398062181101",
         "11.52987820576495",
         "36.888086054199256",
         "4.643258549800133",
         "547.2443434159983"
        ],
        [
         "44",
         "christopher20@gmail.com",
         "USNV Fuller\nFPO AE 32122-5711",
         "Snow",
         "32.04448612744043",
         "13.41493473585169",
         "36.11243501077792",
         "2.258686386946843",
         "448.22982918655"
        ],
        [
         "45",
         "brianwilson@yahoo.com",
         "448 Stewart Divide\nNew Ashleyfort, FM 84050",
         "BurlyWood",
         "34.555767994657494",
         "12.170525424959395",
         "39.13109673366661",
         "3.663105491283854",
         "549.860590464497"
        ],
        [
         "46",
         "gonzaleskatie@gmail.com",
         "70129 Darrell Spring\nThomasmouth, HI 39319-2739",
         "Moccasin",
         "34.56455770619167",
         "13.14655143290706",
         "37.33544589432572",
         "3.8768751769237673",
         "593.915002968289"
        ],
        [
         "47",
         "lsmith@chung.com",
         "412 Jackson River\nKleinburgh, KS 52039-7404",
         "BlueViolet",
         "32.726784597863976",
         "12.988510147185291",
         "36.46200325853961",
         "4.113226122724209",
         "563.6728733601082"
        ],
        [
         "48",
         "dongarcia@hotmail.com",
         "546 Benjamin Lights Suite 421\nRomerofurt, NC 43746-4501",
         "MediumBlue",
         "33.117218732994786",
         "11.86412635894251",
         "36.58272776540628",
         "3.202531199210734",
         "479.73194908594513"
        ],
        [
         "49",
         "kimberly46@garcia-nelson.biz",
         "4066 Gonzalez Dam Apt. 277\nWest Jessica, TN 36880",
         "GreenYellow",
         "31.66104982274608",
         "11.398064190096813",
         "36.59445670006827",
         "3.198399271684906",
         "416.3583535799008"
        ]
       ],
       "shape": {
        "columns": 8,
        "rows": 500
       }
      },
      "text/html": [
       "<div>\n",
       "<style scoped>\n",
       "    .dataframe tbody tr th:only-of-type {\n",
       "        vertical-align: middle;\n",
       "    }\n",
       "\n",
       "    .dataframe tbody tr th {\n",
       "        vertical-align: top;\n",
       "    }\n",
       "\n",
       "    .dataframe thead th {\n",
       "        text-align: right;\n",
       "    }\n",
       "</style>\n",
       "<table border=\"1\" class=\"dataframe\">\n",
       "  <thead>\n",
       "    <tr style=\"text-align: right;\">\n",
       "      <th></th>\n",
       "      <th>Email</th>\n",
       "      <th>Address</th>\n",
       "      <th>Avatar</th>\n",
       "      <th>Avg. Session Length</th>\n",
       "      <th>Time on App</th>\n",
       "      <th>Time on Website</th>\n",
       "      <th>Length of Membership</th>\n",
       "      <th>Yearly Amount Spent</th>\n",
       "    </tr>\n",
       "  </thead>\n",
       "  <tbody>\n",
       "    <tr>\n",
       "      <th>0</th>\n",
       "      <td>mstephenson@fernandez.com</td>\n",
       "      <td>835 Frank Tunnel\\nWrightmouth, MI 82180-9605</td>\n",
       "      <td>Violet</td>\n",
       "      <td>34.497268</td>\n",
       "      <td>12.655651</td>\n",
       "      <td>39.577668</td>\n",
       "      <td>4.082621</td>\n",
       "      <td>587.951054</td>\n",
       "    </tr>\n",
       "    <tr>\n",
       "      <th>1</th>\n",
       "      <td>hduke@hotmail.com</td>\n",
       "      <td>4547 Archer Common\\nDiazchester, CA 06566-8576</td>\n",
       "      <td>DarkGreen</td>\n",
       "      <td>31.926272</td>\n",
       "      <td>11.109461</td>\n",
       "      <td>37.268959</td>\n",
       "      <td>2.664034</td>\n",
       "      <td>392.204933</td>\n",
       "    </tr>\n",
       "    <tr>\n",
       "      <th>2</th>\n",
       "      <td>pallen@yahoo.com</td>\n",
       "      <td>24645 Valerie Unions Suite 582\\nCobbborough, D...</td>\n",
       "      <td>Bisque</td>\n",
       "      <td>33.000915</td>\n",
       "      <td>11.330278</td>\n",
       "      <td>37.110597</td>\n",
       "      <td>4.104543</td>\n",
       "      <td>487.547505</td>\n",
       "    </tr>\n",
       "    <tr>\n",
       "      <th>3</th>\n",
       "      <td>riverarebecca@gmail.com</td>\n",
       "      <td>1414 David Throughway\\nPort Jason, OH 22070-1220</td>\n",
       "      <td>SaddleBrown</td>\n",
       "      <td>34.305557</td>\n",
       "      <td>13.717514</td>\n",
       "      <td>36.721283</td>\n",
       "      <td>3.120179</td>\n",
       "      <td>581.852344</td>\n",
       "    </tr>\n",
       "    <tr>\n",
       "      <th>4</th>\n",
       "      <td>mstephens@davidson-herman.com</td>\n",
       "      <td>14023 Rodriguez Passage\\nPort Jacobville, PR 3...</td>\n",
       "      <td>MediumAquaMarine</td>\n",
       "      <td>33.330673</td>\n",
       "      <td>12.795189</td>\n",
       "      <td>37.536653</td>\n",
       "      <td>4.446308</td>\n",
       "      <td>599.406092</td>\n",
       "    </tr>\n",
       "    <tr>\n",
       "      <th>...</th>\n",
       "      <td>...</td>\n",
       "      <td>...</td>\n",
       "      <td>...</td>\n",
       "      <td>...</td>\n",
       "      <td>...</td>\n",
       "      <td>...</td>\n",
       "      <td>...</td>\n",
       "      <td>...</td>\n",
       "    </tr>\n",
       "    <tr>\n",
       "      <th>495</th>\n",
       "      <td>lewisjessica@craig-evans.com</td>\n",
       "      <td>4483 Jones Motorway Suite 872\\nLake Jamiefurt,...</td>\n",
       "      <td>Tan</td>\n",
       "      <td>33.237660</td>\n",
       "      <td>13.566160</td>\n",
       "      <td>36.417985</td>\n",
       "      <td>3.746573</td>\n",
       "      <td>573.847438</td>\n",
       "    </tr>\n",
       "    <tr>\n",
       "      <th>496</th>\n",
       "      <td>katrina56@gmail.com</td>\n",
       "      <td>172 Owen Divide Suite 497\\nWest Richard, CA 19320</td>\n",
       "      <td>PaleVioletRed</td>\n",
       "      <td>34.702529</td>\n",
       "      <td>11.695736</td>\n",
       "      <td>37.190268</td>\n",
       "      <td>3.576526</td>\n",
       "      <td>529.049004</td>\n",
       "    </tr>\n",
       "    <tr>\n",
       "      <th>497</th>\n",
       "      <td>dale88@hotmail.com</td>\n",
       "      <td>0787 Andrews Ranch Apt. 633\\nSouth Chadburgh, ...</td>\n",
       "      <td>Cornsilk</td>\n",
       "      <td>32.646777</td>\n",
       "      <td>11.499409</td>\n",
       "      <td>38.332576</td>\n",
       "      <td>4.958264</td>\n",
       "      <td>551.620145</td>\n",
       "    </tr>\n",
       "    <tr>\n",
       "      <th>498</th>\n",
       "      <td>cwilson@hotmail.com</td>\n",
       "      <td>680 Jennifer Lodge Apt. 808\\nBrendachester, TX...</td>\n",
       "      <td>Teal</td>\n",
       "      <td>33.322501</td>\n",
       "      <td>12.391423</td>\n",
       "      <td>36.840086</td>\n",
       "      <td>2.336485</td>\n",
       "      <td>456.469510</td>\n",
       "    </tr>\n",
       "    <tr>\n",
       "      <th>499</th>\n",
       "      <td>hannahwilson@davidson.com</td>\n",
       "      <td>49791 Rachel Heights Apt. 898\\nEast Drewboroug...</td>\n",
       "      <td>DarkMagenta</td>\n",
       "      <td>33.715981</td>\n",
       "      <td>12.418808</td>\n",
       "      <td>35.771016</td>\n",
       "      <td>2.735160</td>\n",
       "      <td>497.778642</td>\n",
       "    </tr>\n",
       "  </tbody>\n",
       "</table>\n",
       "<p>500 rows × 8 columns</p>\n",
       "</div>"
      ],
      "text/plain": [
       "                             Email  \\\n",
       "0        mstephenson@fernandez.com   \n",
       "1                hduke@hotmail.com   \n",
       "2                 pallen@yahoo.com   \n",
       "3          riverarebecca@gmail.com   \n",
       "4    mstephens@davidson-herman.com   \n",
       "..                             ...   \n",
       "495   lewisjessica@craig-evans.com   \n",
       "496            katrina56@gmail.com   \n",
       "497             dale88@hotmail.com   \n",
       "498            cwilson@hotmail.com   \n",
       "499      hannahwilson@davidson.com   \n",
       "\n",
       "                                               Address            Avatar  \\\n",
       "0         835 Frank Tunnel\\nWrightmouth, MI 82180-9605            Violet   \n",
       "1       4547 Archer Common\\nDiazchester, CA 06566-8576         DarkGreen   \n",
       "2    24645 Valerie Unions Suite 582\\nCobbborough, D...            Bisque   \n",
       "3     1414 David Throughway\\nPort Jason, OH 22070-1220       SaddleBrown   \n",
       "4    14023 Rodriguez Passage\\nPort Jacobville, PR 3...  MediumAquaMarine   \n",
       "..                                                 ...               ...   \n",
       "495  4483 Jones Motorway Suite 872\\nLake Jamiefurt,...               Tan   \n",
       "496  172 Owen Divide Suite 497\\nWest Richard, CA 19320     PaleVioletRed   \n",
       "497  0787 Andrews Ranch Apt. 633\\nSouth Chadburgh, ...          Cornsilk   \n",
       "498  680 Jennifer Lodge Apt. 808\\nBrendachester, TX...              Teal   \n",
       "499  49791 Rachel Heights Apt. 898\\nEast Drewboroug...       DarkMagenta   \n",
       "\n",
       "     Avg. Session Length  Time on App  Time on Website  Length of Membership  \\\n",
       "0              34.497268    12.655651        39.577668              4.082621   \n",
       "1              31.926272    11.109461        37.268959              2.664034   \n",
       "2              33.000915    11.330278        37.110597              4.104543   \n",
       "3              34.305557    13.717514        36.721283              3.120179   \n",
       "4              33.330673    12.795189        37.536653              4.446308   \n",
       "..                   ...          ...              ...                   ...   \n",
       "495            33.237660    13.566160        36.417985              3.746573   \n",
       "496            34.702529    11.695736        37.190268              3.576526   \n",
       "497            32.646777    11.499409        38.332576              4.958264   \n",
       "498            33.322501    12.391423        36.840086              2.336485   \n",
       "499            33.715981    12.418808        35.771016              2.735160   \n",
       "\n",
       "     Yearly Amount Spent  \n",
       "0             587.951054  \n",
       "1             392.204933  \n",
       "2             487.547505  \n",
       "3             581.852344  \n",
       "4             599.406092  \n",
       "..                   ...  \n",
       "495           573.847438  \n",
       "496           529.049004  \n",
       "497           551.620145  \n",
       "498           456.469510  \n",
       "499           497.778642  \n",
       "\n",
       "[500 rows x 8 columns]"
      ]
     },
     "execution_count": 2,
     "metadata": {},
     "output_type": "execute_result"
    }
   ],
   "source": [
    "customers = pd.read_csv(\"data/Ecommerce Customers.csv\")\n",
    "customers"
   ]
  },
  {
   "cell_type": "markdown",
   "metadata": {},
   "source": [
    "### 1.2 Fehlende Werte prüfen/behandeln"
   ]
  },
  {
   "cell_type": "code",
   "execution_count": 3,
   "metadata": {},
   "outputs": [
    {
     "name": "stdout",
     "output_type": "stream",
     "text": [
      "<class 'pandas.core.frame.DataFrame'>\n",
      "RangeIndex: 500 entries, 0 to 499\n",
      "Data columns (total 8 columns):\n",
      " #   Column                Non-Null Count  Dtype  \n",
      "---  ------                --------------  -----  \n",
      " 0   Email                 500 non-null    object \n",
      " 1   Address               500 non-null    object \n",
      " 2   Avatar                500 non-null    object \n",
      " 3   Avg. Session Length   500 non-null    float64\n",
      " 4   Time on App           500 non-null    float64\n",
      " 5   Time on Website       500 non-null    float64\n",
      " 6   Length of Membership  500 non-null    float64\n",
      " 7   Yearly Amount Spent   500 non-null    float64\n",
      "dtypes: float64(5), object(3)\n",
      "memory usage: 31.4+ KB\n"
     ]
    }
   ],
   "source": [
    "customers.info()"
   ]
  },
  {
   "cell_type": "markdown",
   "metadata": {},
   "source": [
    "Es sind keine fehlenden Werte vorhanden, daher müssen wir nichts weiter unternehmen.\n",
    "\n",
    "## 2. Explorative Datenanalyse (EDA)\n",
    "### 2.1 Frage:\n",
    "- Wie hängen die auf den Plattformen verbrachten Zeiten der Kunden mit ihren jährlichen Ausgaben zusammen?"
   ]
  },
  {
   "cell_type": "code",
   "execution_count": 4,
   "metadata": {},
   "outputs": [
    {
     "data": {
      "application/vnd.plotly.v1+json": {
       "config": {
        "plotlyServerURL": "https://plot.ly"
       },
       "data": [
        {
         "hovertemplate": "Time on Website=%{x}<br>Yearly Amount Spent=%{y}<br>Avg. Session Length=%{marker.size}<br>Length of Membership=%{marker.color}<extra></extra>",
         "legendgroup": "",
         "marker": {
          "color": {
           "bdata": "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",
           "dtype": "f8"
          },
          "coloraxis": "coloraxis",
          "line": {
           "color": "DarkSlateGrey",
           "width": 0.5
          },
          "opacity": 0.5,
          "size": {
           "bdata": "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",
           "dtype": "f8"
          },
          "sizemode": "area",
          "sizeref": 0.5646822263873519,
          "symbol": "circle"
         },
         "mode": "markers",
         "name": "",
         "orientation": "v",
         "showlegend": false,
         "type": "scatter",
         "x": {
          "bdata": "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",
          "dtype": "f8"
         },
         "xaxis": "x",
         "y": {
          "bdata": "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",
          "dtype": "f8"
         },
         "yaxis": "y"
        },
        {
         "bingroup": "x",
         "hovertemplate": "Time on Website=%{x}<br>count=%{y}<extra></extra>",
         "legendgroup": "",
         "marker": {
          "color": "#0d0887",
          "line": {
           "color": "DarkSlateGrey",
           "width": 0.5
          }
         },
         "name": "",
         "opacity": 0.5,
         "showlegend": false,
         "type": "histogram",
         "x": {
          "bdata": "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",
          "dtype": "f8"
         },
         "xaxis": "x3",
         "yaxis": "y3"
        },
        {
         "bingroup": "y",
         "hovertemplate": "Yearly Amount Spent=%{y}<br>count=%{x}<extra></extra>",
         "legendgroup": "",
         "marker": {
          "color": "#0d0887",
          "line": {
           "color": "DarkSlateGrey",
           "width": 0.5
          }
         },
         "name": "",
         "opacity": 0.5,
         "showlegend": false,
         "type": "histogram",
         "xaxis": "x2",
         "y": {
          "bdata": "F9guwptfgkDRk0poR4N4QBjDdpTCeH5AnOG/mdEugkDCvS+tP7uCQEpmNtDR6INAuQNc0JNMgEBbCPSwOy+BQJHEA3Ca0YFAA0w3rjCzekAWTGQ6ssl+QHjCLwGzUoBATS7E4D6KeUA9XkCyU+uBQJ8WRmU+Z31AonaH633cfEAYiJ8pkJ18QE28ptNFe3lAbG67AQ1FfEBitukBfeiCQMcxAl2ltYBAUQnEOAU/ekDhE8vrP0h7QDxogli6OoBAN0EhNFbnhUCD2/Q+4XJ6QMtVO0UqX4NAwDbcRmxtfkC+73sjTYyAQEKA49PGVYFAUg5yAWMZf0A5sUiqAft7QJx0hGqzZYJAR82X7CuxfkCBj8m+Ebd/QC/tzo4RT4BAjLSeSm68dUDzYPBv0at+QDl7M7C54n1AjIcGAsXOgEA3LDWpA6aAQB0ZnKr9XX9A+Ggn0pN5gkClJVJq9BmBQGB+XmGtA3xAHeJAfeIugUBahBPtUY+CQB2gbQtinYFAi6c+ELb7fUBBofbQuwV6QBzb/bKtrIZAtLkoEK2qe0Ay8+hvBgp4QC6AzrNRN3xAMqZprjtTgED3HqHexTp+QL8MJbswR4BAVOAZSLZSfEDIHN1MaQp/QPPu1M7rGoFAmO5F689Gg0DroMCuZrN/QHfpDGrLLINA4J9hN44yfkAwqKxxG+KAQDZ8X88l7IdA/ahq8c9MgUAdP+dJ+VR9QH7oEkrsiXlACk2kATY5fECWzN3+ds97QDpIaCuVnoJAeKtvu2YiekCQ7mSuN7aAQDsCos7uEYJAhY5afILrfUD4gL0Tk8R7QK6QMCk9BoFAuC/MtJOMfkAO5UMkJbx9QBzTafP/nH5AKQe6t1zufEALVVf+cKOCQMsISigeJXVAiAZglh6sgECmuZLZLMaAQA6lL6MRdn5AElPK2KmbfUD6/YDoARmBQHHOUEHQkX9A47FHByARfEBWaSkNABiDQGa/rmmhHoBAGmOcPjJxe0AFonovthCAQN4dFqm4+oBA5jLrwyRJgEDi7vAAuTWDQFZubrE9tn9Ai7tEhMr0fkAs8Pk2hDCAQH11jwGnYXhAnM11gs1LekCs/mlLrsF+QBGhfCAdoXlAKMICDDgYf0A6bEps1Oh+QONrCmVLpXdA0LN5Ip3TgUCde0jZECiBQPyhnt2PtHxAZ7T27x7PfkBi3UrBM4x6QEAF8RLUZnpAXIKCCNAQhECNydjS8tV5QBMae46y831A2My1MJ6IgkD3tArFwah/QHWO37912oFA3dSPSn0CgkC7lfidawaCQBS11onqEYBAaSNrsdDyfkB6/XVFsRKAQLM/RAvQ6YBAidowB6cmgEAg5Vu9IUd9QBsihBg+IoFAnO/LPOL5ekAs2dXThUeBQKiopyRz6oFAJaKIPAlKfEAy3l9FsfWAQM1TOk/dfHlAxHBaOaglfkDYnH0514mAQBd6GsLHEHtA4L5xBxDDfUAitfRQ9397QKTI28TuDnxAbXcKPuCPfUAWro61xv58QGKFS2Pu4HVA/XUA/vrAfECaOzyXVpx/QIaAiorC93xAtJQ/BLb7fUDJBdzI94J6QHIR9586Hn1A95vgSGesekBOpeu0TmGFQCIGDQkkX4FA/KThzSiIhECLRpc4bp6CQLoey3Cnf39Aa3zdOD9RgkB2tkJixkGHQNzLXFWaBoBACeGQXMqBgEBq7I+znU59QMIVLYl2WXZAay2ghGLDgEDgJMk7TqN+QGDU7HFhMIFAb+YQxZoLgECgRVGq/Rx/QNPkidvjF4JAhCf5EJWof0DmyRDc/Ft/QDYkLv13X3pApTdRr0J+e0C2Fjw2AdGEQCTcJy8xrHJAY3/1ctMSfUAWe5zsK153QCdUIWm9pYBA0ma6zTRXgUBjsNdvL86AQPaTvpqaUX9AUzycMlIpgEBc483zO2yBQHYMf9CB235A2NG4RfZBfEAJbyoJMAqCQNZigyTFXn5AHR6f5eubekAlwoxtuMmAQLAMMY0aZYBALsMWkCrufUB8cmnzFCODQDEcjIBEzH1AJnAKCeqRf0CsDy9ekA+BQB4E1+FYIHtAxrV2882KekCVlTc+zQh2QD63zU6wt4RApE1+NXuEgUBN/L3IBzh9QJ5uhErtjX9Am4ooc4B0gkBWCRk1c797QHYe2lj1h3hA7A9zmL3FgUBE8GOtK0OGQKYio2m81HlAqDtqB6iQgUBIGnP3NMB5QAvs+wiySn1A84O0hN0If0DgTK3yJSSBQLt7phMMwYBA+lfPBWtzgUBojaLK0V12QJvE1Qt0iIBAmtPmkbY1eECbnQINeIeAQFrt5ZaoTnpAVUFXZe8Of0Dk30Lb+zqAQFJ2gXuAe4JAwaUIe45mf0D/SKHAreKCQCidLhKMWIFAEdF+tLoKcEBKmrhK4xiBQDeqaOm73nxAh1920wemfEBgTFo1iUR7QPOSA1R7p4BASfUhl2sEgEDIM7DRYbODQJdI5onv+3xA6A9vKuLSfkCuLnTFWFN/QL6JRCzaXn9Ay08M8mOFd0BSZ7LhOVV6QHnFUhAz1oBAXl8ukZ3ieEBkyIitxNuBQEAB7ckOOnxAgmWYaZupfkDyE9CrP36CQIPETacgkXlAS6sme5GbgUAtCDSl9DyEQAsTf2FyBXxAwLqlt0o2gEDFnZVMEl2AQH6co8q3nXhAL9cFB3miekAxBU3JNHZ/QJRQyLSjKX5AkTWQimFmgEC0xYQePfWBQNNcTU769YFAKZMFx2ajhECJvscSYHZ3QL5n1X2AAYRA5FlhGxQQgEAA10AP84d3QK2fWyNRSH5ArbxATNY1g0BtuFHSzLuBQI4e2VUGUIFAZRYl8L3/eEA41ez/w/J9QEZsyGp0T4JARc0QRvfngEBqRwfnYaCDQL7mtXXvM4JAg8+bEUoGhEAGB9nisuZ7QJG53XAK1YFA/g287+50ekBD/QhESEWDQKxFFlbmkoBA6IQsVM+le0BOyauBrf9/QIz/6OKMg4FA+mzM+za0fUBqK0GWUGR3QFAEwHJ2+XxA1+saaqV5fUD5Ydk9JpCDQKJIGZCNB3tArUC3XdlJdkCHSqt32DZ9QAUPNXF6c39AfWNpupOnd0CPLCQbv0GCQOWPAVSlO3xACba8pxJtgUCKAm4PiAt7QAJGZCHIpn9AbzGQnI7if0DeWHgwmVyCQJu28ziKp3FAu22ynTKffUAiT69ih55+QCaWwxLH74BArt8Lp2GhcEDoRheX/up+QOfkagNNjoVAcVqvMo44eEAnXkqaWJ57QEm1XAW75oJAvrdIYwjjckCL1cNE1vl9QA6dGhMeon9AVi+Vptz+c0CmIflKeYKAQOjeOzYGEYNA3cBC2thAgkAMyPk6vSZ9QMXsL0UxTXlAWSmP51OmgUDQBIwyIqSCQOHYx/95CndACXmZwEzzgEA/3XKrMeR9QDAqAZfElX1AgjR0ppd5gUDbsFCXAPN7QHI1FFyuk39A3BWhgAVqgUCIMltY5mV6QOJxO7b+0HtA3oS41gehe0D4LhILUqiAQGXRoMc+g3pAXkZSaSsqf0AoO9jZgql0QPJa29sRt3tA4ogJWp3pfUAhBANBC4B7QGgEIp+HXHZA3LvtWjrCfUDgo6a59VF/QBahwPOBhYJAGfD6tVVhfkBWHjGzMwCCQMtgwfaQq3tArFOwxKfcfEBGgTtOM4Z+QG+Za09AiYJAMT5NLPeMeEBpyTzRJ7N7QOuhqaDYu4BAwkxkJCyrgECR8AkEBaGAQOiX8ruVd4FAHCbiulnMf0CQviE7RTx5QCUFpSisBIRA+mekbQ3afEAvnbhgqOZ3QNIbhUz/joFAckLp4jfJe0CBpsu4hxB5QB5ksIc3BXhANWlHk0N+gEAidz7oUSJ+QNrRXCQykoJA5KaJ/nphf0Dl7t/Ng3p5QDYbNEJ7J4ZAd4dpQbGfgEAYMjAe7UmAQGiHEInn9XtAqET1+W8SeECZlB0QbOl6QI4u5dSkKXpACAYy9DjvfUB5yuqNvjx+QHRp8SmJ14BAxyTF655ifkCk0yEmhRF4QMB5kDNFfoBAGqGYp4YZgUAz842opal5QO0N14nSP4JAZfDfa4SofUBydSgC9u55QNUS8caBNoFAkdvvg3+sfEA86l24rHh5QOUwzbF4KoJAiZHBDXQUgUCEIyEmzXJ/QP6sS3YNKYFAKbfUt0stfkBv1H643WyBQNtBYgwITn5A+FrrqeXvhECg030Orh2BQGGwmi2azoBALb39bXiDeUCaMfk5mbiEQAl82owDpn9ASfyGyVqDgEBTn8cb/cCDQMqH9SNThH5AoZZNmMXLf0AjUYTN/bJ5QE6L5S2DkXlACJ8RltA8fUAnxcGxUwGAQDWFMK4sAoNAL+dCQDZogkBvm0B53MB7QKASWHLm0n5AFHnOZsylgEALFtrZsT5xQHJUH96e8H9AwlY/Eq9me0AaBc/gmbt9QK7zDOywOH5AlXK99m2+hEASh3swRgOBQMB+svpAsYNA6KcCxcvRfEAVL16Glb5+QMW8ElVT84FAfdtjPSKWgEDEVwnwYy6CQPkA15diYoFAE8WY5x9if0CEI/aufWGBQGnHZGUlsX1AhlXtISdvfkCEr8imTiJ7QMJME2IrAnNA8i6+YLrZgUAOoQUYoziCQPoXh1n/23tAZsC8R+CPeEAtj8x09K+BQEGSfhA+Mn9AgOqleKHof0BH9V+mcUhzQDWshNshjIFAHBTLTYd3ekBqDLWSOQmAQJMb6F+OiYBA24LCKwSnc0B4FUk8Wel9QAyDOYxQyXtAOqCAGz+wfUBr1pNlh0t7QCzV9/6PSYBA0TsF0O3ifUASBM3dsgd7QEU/wvzbZHtARezjfAxPeEAoqUwALLaAQMmBRHZTz4BAbD8rpQV+eUCIQiSMxFaDQFSZSFJWbH9AArhjtrrWeEB1UUVckIR4QD6BjrbiiYVAlDRfng/5gECISP9g4w2CQP8CZLZKSXtAloVtF/VPgUDUfaRZtLV6QMP62Q6pi3pA1SjGDWbogEAPfuFdIVZ9QKpdRZK6yHtAwU10yujIfkCJ6U6okrqAQHo4EVhVj3lAyw/9J+N4fkD+1hj3Vnp+QGFVWoisInlAoUmEGy84gUAqouqgOxZ/QCxM3b436n5AlUJNa/XzfUDHnP8Zgep8QIzSDhQFHIBAoka1I9IDgkC8TgRNul12QMwonkXrrYJA6L8DGAx2dEABSEwWbOZ/QHEOSw4G6H9AaNvTwBw9eUC368KY05yDQNFDcLOW6n9AwuRsjcfugUAu6kZcZIiAQPfZ1A72PIFASb78HIOHfEAaOopRdRx/QA==",
          "dtype": "f8"
         },
         "yaxis": "y2"
        }
       ],
       "layout": {
        "barmode": "overlay",
        "coloraxis": {
         "colorbar": {
          "title": {
           "text": "Dauer der <br>Mitgliedschaft (Minuten)"
          }
         },
         "colorscale": [
          [
           0,
           "#0d0887"
          ],
          [
           0.1111111111111111,
           "#46039f"
          ],
          [
           0.2222222222222222,
           "#7201a8"
          ],
          [
           0.3333333333333333,
           "#9c179e"
          ],
          [
           0.4444444444444444,
           "#bd3786"
          ],
          [
           0.5555555555555556,
           "#d8576b"
          ],
          [
           0.6666666666666666,
           "#ed7953"
          ],
          [
           0.7777777777777778,
           "#fb9f3a"
          ],
          [
           0.8888888888888888,
           "#fdca26"
          ],
          [
           1,
           "#f0f921"
          ]
         ]
        },
        "legend": {
         "itemsizing": "constant",
         "tracegroupgap": 0
        },
        "template": {
         "data": {
          "bar": [
           {
            "error_x": {
             "color": "#2a3f5f"
            },
            "error_y": {
             "color": "#2a3f5f"
            },
            "marker": {
             "line": {
              "color": "white",
              "width": 0.5
             },
             "pattern": {
              "fillmode": "overlay",
              "size": 10,
              "solidity": 0.2
             }
            },
            "type": "bar"
           }
          ],
          "barpolar": [
           {
            "marker": {
             "line": {
              "color": "white",
              "width": 0.5
             },
             "pattern": {
              "fillmode": "overlay",
              "size": 10,
              "solidity": 0.2
             }
            },
            "type": "barpolar"
           }
          ],
          "carpet": [
           {
            "aaxis": {
             "endlinecolor": "#2a3f5f",
             "gridcolor": "#C8D4E3",
             "linecolor": "#C8D4E3",
             "minorgridcolor": "#C8D4E3",
             "startlinecolor": "#2a3f5f"
            },
            "baxis": {
             "endlinecolor": "#2a3f5f",
             "gridcolor": "#C8D4E3",
             "linecolor": "#C8D4E3",
             "minorgridcolor": "#C8D4E3",
             "startlinecolor": "#2a3f5f"
            },
            "type": "carpet"
           }
          ],
          "choropleth": [
           {
            "colorbar": {
             "outlinewidth": 0,
             "ticks": ""
            },
            "type": "choropleth"
           }
          ],
          "contour": [
           {
            "colorbar": {
             "outlinewidth": 0,
             "ticks": ""
            },
            "colorscale": [
             [
              0,
              "#0d0887"
             ],
             [
              0.1111111111111111,
              "#46039f"
             ],
             [
              0.2222222222222222,
              "#7201a8"
             ],
             [
              0.3333333333333333,
              "#9c179e"
             ],
             [
              0.4444444444444444,
              "#bd3786"
             ],
             [
              0.5555555555555556,
              "#d8576b"
             ],
             [
              0.6666666666666666,
              "#ed7953"
             ],
             [
              0.7777777777777778,
              "#fb9f3a"
             ],
             [
              0.8888888888888888,
              "#fdca26"
             ],
             [
              1,
              "#f0f921"
             ]
            ],
            "type": "contour"
           }
          ],
          "contourcarpet": [
           {
            "colorbar": {
             "outlinewidth": 0,
             "ticks": ""
            },
            "type": "contourcarpet"
           }
          ],
          "heatmap": [
           {
            "colorbar": {
             "outlinewidth": 0,
             "ticks": ""
            },
            "colorscale": [
             [
              0,
              "#0d0887"
             ],
             [
              0.1111111111111111,
              "#46039f"
             ],
             [
              0.2222222222222222,
              "#7201a8"
             ],
             [
              0.3333333333333333,
              "#9c179e"
             ],
             [
              0.4444444444444444,
              "#bd3786"
             ],
             [
              0.5555555555555556,
              "#d8576b"
             ],
             [
              0.6666666666666666,
              "#ed7953"
             ],
             [
              0.7777777777777778,
              "#fb9f3a"
             ],
             [
              0.8888888888888888,
              "#fdca26"
             ],
             [
              1,
              "#f0f921"
             ]
            ],
            "type": "heatmap"
           }
          ],
          "histogram": [
           {
            "marker": {
             "pattern": {
              "fillmode": "overlay",
              "size": 10,
              "solidity": 0.2
             }
            },
            "type": "histogram"
           }
          ],
          "histogram2d": [
           {
            "colorbar": {
             "outlinewidth": 0,
             "ticks": ""
            },
            "colorscale": [
             [
              0,
              "#0d0887"
             ],
             [
              0.1111111111111111,
              "#46039f"
             ],
             [
              0.2222222222222222,
              "#7201a8"
             ],
             [
              0.3333333333333333,
              "#9c179e"
             ],
             [
              0.4444444444444444,
              "#bd3786"
             ],
             [
              0.5555555555555556,
              "#d8576b"
             ],
             [
              0.6666666666666666,
              "#ed7953"
             ],
             [
              0.7777777777777778,
              "#fb9f3a"
             ],
             [
              0.8888888888888888,
              "#fdca26"
             ],
             [
              1,
              "#f0f921"
             ]
            ],
            "type": "histogram2d"
           }
          ],
          "histogram2dcontour": [
           {
            "colorbar": {
             "outlinewidth": 0,
             "ticks": ""
            },
            "colorscale": [
             [
              0,
              "#0d0887"
             ],
             [
              0.1111111111111111,
              "#46039f"
             ],
             [
              0.2222222222222222,
              "#7201a8"
             ],
             [
              0.3333333333333333,
              "#9c179e"
             ],
             [
              0.4444444444444444,
              "#bd3786"
             ],
             [
              0.5555555555555556,
              "#d8576b"
             ],
             [
              0.6666666666666666,
              "#ed7953"
             ],
             [
              0.7777777777777778,
              "#fb9f3a"
             ],
             [
              0.8888888888888888,
              "#fdca26"
             ],
             [
              1,
              "#f0f921"
             ]
            ],
            "type": "histogram2dcontour"
           }
          ],
          "mesh3d": [
           {
            "colorbar": {
             "outlinewidth": 0,
             "ticks": ""
            },
            "type": "mesh3d"
           }
          ],
          "parcoords": [
           {
            "line": {
             "colorbar": {
              "outlinewidth": 0,
              "ticks": ""
             }
            },
            "type": "parcoords"
           }
          ],
          "pie": [
           {
            "automargin": true,
            "type": "pie"
           }
          ],
          "scatter": [
           {
            "fillpattern": {
             "fillmode": "overlay",
             "size": 10,
             "solidity": 0.2
            },
            "type": "scatter"
           }
          ],
          "scatter3d": [
           {
            "line": {
             "colorbar": {
              "outlinewidth": 0,
              "ticks": ""
             }
            },
            "marker": {
             "colorbar": {
              "outlinewidth": 0,
              "ticks": ""
             }
            },
            "type": "scatter3d"
           }
          ],
          "scattercarpet": [
           {
            "marker": {
             "colorbar": {
              "outlinewidth": 0,
              "ticks": ""
             }
            },
            "type": "scattercarpet"
           }
          ],
          "scattergeo": [
           {
            "marker": {
             "colorbar": {
              "outlinewidth": 0,
              "ticks": ""
             }
            },
            "type": "scattergeo"
           }
          ],
          "scattergl": [
           {
            "marker": {
             "colorbar": {
              "outlinewidth": 0,
              "ticks": ""
             }
            },
            "type": "scattergl"
           }
          ],
          "scattermap": [
           {
            "marker": {
             "colorbar": {
              "outlinewidth": 0,
              "ticks": ""
             }
            },
            "type": "scattermap"
           }
          ],
          "scattermapbox": [
           {
            "marker": {
             "colorbar": {
              "outlinewidth": 0,
              "ticks": ""
             }
            },
            "type": "scattermapbox"
           }
          ],
          "scatterpolar": [
           {
            "marker": {
             "colorbar": {
              "outlinewidth": 0,
              "ticks": ""
             }
            },
            "type": "scatterpolar"
           }
          ],
          "scatterpolargl": [
           {
            "marker": {
             "colorbar": {
              "outlinewidth": 0,
              "ticks": ""
             }
            },
            "type": "scatterpolargl"
           }
          ],
          "scatterternary": [
           {
            "marker": {
             "colorbar": {
              "outlinewidth": 0,
              "ticks": ""
             }
            },
            "type": "scatterternary"
           }
          ],
          "surface": [
           {
            "colorbar": {
             "outlinewidth": 0,
             "ticks": ""
            },
            "colorscale": [
             [
              0,
              "#0d0887"
             ],
             [
              0.1111111111111111,
              "#46039f"
             ],
             [
              0.2222222222222222,
              "#7201a8"
             ],
             [
              0.3333333333333333,
              "#9c179e"
             ],
             [
              0.4444444444444444,
              "#bd3786"
             ],
             [
              0.5555555555555556,
              "#d8576b"
             ],
             [
              0.6666666666666666,
              "#ed7953"
             ],
             [
              0.7777777777777778,
              "#fb9f3a"
             ],
             [
              0.8888888888888888,
              "#fdca26"
             ],
             [
              1,
              "#f0f921"
             ]
            ],
            "type": "surface"
           }
          ],
          "table": [
           {
            "cells": {
             "fill": {
              "color": "#EBF0F8"
             },
             "line": {
              "color": "white"
             }
            },
            "header": {
             "fill": {
              "color": "#C8D4E3"
             },
             "line": {
              "color": "white"
             }
            },
            "type": "table"
           }
          ]
         },
         "layout": {
          "annotationdefaults": {
           "arrowcolor": "#2a3f5f",
           "arrowhead": 0,
           "arrowwidth": 1
          },
          "autotypenumbers": "strict",
          "coloraxis": {
           "colorbar": {
            "outlinewidth": 0,
            "ticks": ""
           }
          },
          "colorscale": {
           "diverging": [
            [
             0,
             "#8e0152"
            ],
            [
             0.1,
             "#c51b7d"
            ],
            [
             0.2,
             "#de77ae"
            ],
            [
             0.3,
             "#f1b6da"
            ],
            [
             0.4,
             "#fde0ef"
            ],
            [
             0.5,
             "#f7f7f7"
            ],
            [
             0.6,
             "#e6f5d0"
            ],
            [
             0.7,
             "#b8e186"
            ],
            [
             0.8,
             "#7fbc41"
            ],
            [
             0.9,
             "#4d9221"
            ],
            [
             1,
             "#276419"
            ]
           ],
           "sequential": [
            [
             0,
             "#0d0887"
            ],
            [
             0.1111111111111111,
             "#46039f"
            ],
            [
             0.2222222222222222,
             "#7201a8"
            ],
            [
             0.3333333333333333,
             "#9c179e"
            ],
            [
             0.4444444444444444,
             "#bd3786"
            ],
            [
             0.5555555555555556,
             "#d8576b"
            ],
            [
             0.6666666666666666,
             "#ed7953"
            ],
            [
             0.7777777777777778,
             "#fb9f3a"
            ],
            [
             0.8888888888888888,
             "#fdca26"
            ],
            [
             1,
             "#f0f921"
            ]
           ],
           "sequentialminus": [
            [
             0,
             "#0d0887"
            ],
            [
             0.1111111111111111,
             "#46039f"
            ],
            [
             0.2222222222222222,
             "#7201a8"
            ],
            [
             0.3333333333333333,
             "#9c179e"
            ],
            [
             0.4444444444444444,
             "#bd3786"
            ],
            [
             0.5555555555555556,
             "#d8576b"
            ],
            [
             0.6666666666666666,
             "#ed7953"
            ],
            [
             0.7777777777777778,
             "#fb9f3a"
            ],
            [
             0.8888888888888888,
             "#fdca26"
            ],
            [
             1,
             "#f0f921"
            ]
           ]
          },
          "colorway": [
           "#636efa",
           "#EF553B",
           "#00cc96",
           "#ab63fa",
           "#FFA15A",
           "#19d3f3",
           "#FF6692",
           "#B6E880",
           "#FF97FF",
           "#FECB52"
          ],
          "font": {
           "color": "#2a3f5f"
          },
          "geo": {
           "bgcolor": "white",
           "lakecolor": "white",
           "landcolor": "white",
           "showlakes": true,
           "showland": true,
           "subunitcolor": "#C8D4E3"
          },
          "hoverlabel": {
           "align": "left"
          },
          "hovermode": "closest",
          "mapbox": {
           "style": "light"
          },
          "paper_bgcolor": "white",
          "plot_bgcolor": "white",
          "polar": {
           "angularaxis": {
            "gridcolor": "#EBF0F8",
            "linecolor": "#EBF0F8",
            "ticks": ""
           },
           "bgcolor": "white",
           "radialaxis": {
            "gridcolor": "#EBF0F8",
            "linecolor": "#EBF0F8",
            "ticks": ""
           }
          },
          "scene": {
           "xaxis": {
            "backgroundcolor": "white",
            "gridcolor": "#DFE8F3",
            "gridwidth": 2,
            "linecolor": "#EBF0F8",
            "showbackground": true,
            "ticks": "",
            "zerolinecolor": "#EBF0F8"
           },
           "yaxis": {
            "backgroundcolor": "white",
            "gridcolor": "#DFE8F3",
            "gridwidth": 2,
            "linecolor": "#EBF0F8",
            "showbackground": true,
            "ticks": "",
            "zerolinecolor": "#EBF0F8"
           },
           "zaxis": {
            "backgroundcolor": "white",
            "gridcolor": "#DFE8F3",
            "gridwidth": 2,
            "linecolor": "#EBF0F8",
            "showbackground": true,
            "ticks": "",
            "zerolinecolor": "#EBF0F8"
           }
          },
          "shapedefaults": {
           "line": {
            "color": "#2a3f5f"
           }
          },
          "ternary": {
           "aaxis": {
            "gridcolor": "#DFE8F3",
            "linecolor": "#A2B1C6",
            "ticks": ""
           },
           "baxis": {
            "gridcolor": "#DFE8F3",
            "linecolor": "#A2B1C6",
            "ticks": ""
           },
           "bgcolor": "white",
           "caxis": {
            "gridcolor": "#DFE8F3",
            "linecolor": "#A2B1C6",
            "ticks": ""
           }
          },
          "title": {
           "x": 0.05
          },
          "xaxis": {
           "automargin": true,
           "gridcolor": "#EBF0F8",
           "linecolor": "#EBF0F8",
           "ticks": "",
           "title": {
            "standoff": 15
           },
           "zerolinecolor": "#EBF0F8",
           "zerolinewidth": 2
          },
          "yaxis": {
           "automargin": true,
           "gridcolor": "#EBF0F8",
           "linecolor": "#EBF0F8",
           "ticks": "",
           "title": {
            "standoff": 15
           },
           "zerolinecolor": "#EBF0F8",
           "zerolinewidth": 2
          }
         }
        },
        "title": {
         "font": {
          "family": "Arial",
          "size": 18
         },
         "text": "Website-Zeit vs. Jahresausgaben"
        },
        "xaxis": {
         "anchor": "y",
         "domain": [
          0,
          0.7363
         ],
         "title": {
          "text": "Durchschnittliche Zeit auf der Website (Minuten)"
         }
        },
        "xaxis2": {
         "anchor": "y2",
         "domain": [
          0.7413,
          1
         ],
         "matches": "x2",
         "showgrid": true,
         "showline": false,
         "showticklabels": false,
         "ticks": ""
        },
        "xaxis3": {
         "anchor": "y3",
         "domain": [
          0,
          0.7363
         ],
         "matches": "x",
         "showgrid": true,
         "showticklabels": false
        },
        "xaxis4": {
         "anchor": "y4",
         "domain": [
          0.7413,
          1
         ],
         "matches": "x2",
         "showgrid": true,
         "showline": false,
         "showticklabels": false,
         "ticks": ""
        },
        "yaxis": {
         "anchor": "x",
         "domain": [
          0,
          0.7326
         ],
         "title": {
          "text": "Jährliche Ausgaben ($)"
         }
        },
        "yaxis2": {
         "anchor": "x2",
         "domain": [
          0,
          0.7326
         ],
         "matches": "y",
         "showgrid": true,
         "showticklabels": false
        },
        "yaxis3": {
         "anchor": "x3",
         "domain": [
          0.7426,
          1
         ],
         "matches": "y3",
         "showgrid": true,
         "showline": false,
         "showticklabels": false,
         "ticks": ""
        },
        "yaxis4": {
         "anchor": "x4",
         "domain": [
          0.7426,
          1
         ],
         "matches": "y3",
         "showgrid": true,
         "showline": false,
         "showticklabels": false,
         "ticks": ""
        }
       }
      }
     },
     "metadata": {},
     "output_type": "display_data"
    }
   ],
   "source": [
    "fig_1 = px.scatter(\n",
    "    customers,\n",
    "    x=\"Time on Website\",\n",
    "    y=\"Yearly Amount Spent\",\n",
    "    color=\"Length of Membership\",            \n",
    "    size=\"Avg. Session Length\",   \n",
    "    marginal_x=\"histogram\",\n",
    "    marginal_y=\"histogram\",\n",
    "    opacity=0.5,\n",
    "    size_max=8,\n",
    "    title=\"Website-Zeit vs. Jahresausgaben\"\n",
    ")\n",
    "\n",
    "fig_1.update_traces(marker=dict(line=dict(width=0.5, color=\"DarkSlateGrey\")))\n",
    "fig_1.update_layout(\n",
    "    title_font=dict(size=18, family=\"Arial\"),\n",
    "    xaxis_title=\"Durchschnittliche Zeit auf der Website (Minuten)\",\n",
    "    yaxis_title=\"Jährliche Ausgaben ($)\",\n",
    "    template=\"plotly_white\",          \n",
    "    coloraxis_colorbar=dict(title=\"Dauer der <br>Mitgliedschaft (Minuten)\")\n",
    ")\n",
    "\n",
    "fig_1"
   ]
  },
  {
   "cell_type": "markdown",
   "metadata": {},
   "source": [
    "Die Punkte sind ziemlich gleichmäßig gestreut. Es gibt keine klare Tendenz, dass mehr Zeit auf der Website automatisch zu höheren Ausgaben führt. Kunden mit langer oder kurzer Website-Nutzung geben ähnliche Beträge im Jahr aus. Die reine Nutzungszeit auf der Website scheint kein guter Prädiktor (Voraussager) für die Ausgaben zu sein."
   ]
  },
  {
   "cell_type": "code",
   "execution_count": 5,
   "metadata": {},
   "outputs": [
    {
     "data": {
      "application/vnd.plotly.v1+json": {
       "config": {
        "plotlyServerURL": "https://plot.ly"
       },
       "data": [
        {
         "hovertemplate": "Time on App=%{x}<br>Yearly Amount Spent=%{y}<br>Avg. Session Length=%{marker.size}<br>Length of Membership=%{marker.color}<extra></extra>",
         "legendgroup": "",
         "marker": {
          "color": {
           "bdata": "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",
           "dtype": "f8"
          },
          "coloraxis": "coloraxis",
          "line": {
           "color": "DarkSlateGrey",
           "width": 0.5
          },
          "opacity": 0.5,
          "size": {
           "bdata": "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",
           "dtype": "f8"
          },
          "sizemode": "area",
          "sizeref": 0.5646822263873519,
          "symbol": "circle"
         },
         "mode": "markers",
         "name": "",
         "orientation": "v",
         "showlegend": false,
         "type": "scatter",
         "x": {
          "bdata": "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",
          "dtype": "f8"
         },
         "xaxis": "x",
         "y": {
          "bdata": "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",
          "dtype": "f8"
         },
         "yaxis": "y"
        },
        {
         "bingroup": "x",
         "hovertemplate": "Time on App=%{x}<br>count=%{y}<extra></extra>",
         "legendgroup": "",
         "marker": {
          "color": "#0d0887",
          "line": {
           "color": "DarkSlateGrey",
           "width": 0.5
          }
         },
         "name": "",
         "opacity": 0.5,
         "showlegend": false,
         "type": "histogram",
         "x": {
          "bdata": "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",
          "dtype": "f8"
         },
         "xaxis": "x3",
         "yaxis": "y3"
        },
        {
         "bingroup": "y",
         "hovertemplate": "Yearly Amount Spent=%{y}<br>count=%{x}<extra></extra>",
         "legendgroup": "",
         "marker": {
          "color": "#0d0887",
          "line": {
           "color": "DarkSlateGrey",
           "width": 0.5
          }
         },
         "name": "",
         "opacity": 0.5,
         "showlegend": false,
         "type": "histogram",
         "xaxis": "x2",
         "y": {
          "bdata": "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",
          "dtype": "f8"
         },
         "yaxis": "y2"
        }
       ],
       "layout": {
        "barmode": "overlay",
        "coloraxis": {
         "colorbar": {
          "title": {
           "text": "Dauer der <br>Mitgliedschaft (Minuten)"
          }
         },
         "colorscale": [
          [
           0,
           "#0d0887"
          ],
          [
           0.1111111111111111,
           "#46039f"
          ],
          [
           0.2222222222222222,
           "#7201a8"
          ],
          [
           0.3333333333333333,
           "#9c179e"
          ],
          [
           0.4444444444444444,
           "#bd3786"
          ],
          [
           0.5555555555555556,
           "#d8576b"
          ],
          [
           0.6666666666666666,
           "#ed7953"
          ],
          [
           0.7777777777777778,
           "#fb9f3a"
          ],
          [
           0.8888888888888888,
           "#fdca26"
          ],
          [
           1,
           "#f0f921"
          ]
         ]
        },
        "legend": {
         "itemsizing": "constant",
         "tracegroupgap": 0
        },
        "template": {
         "data": {
          "bar": [
           {
            "error_x": {
             "color": "#2a3f5f"
            },
            "error_y": {
             "color": "#2a3f5f"
            },
            "marker": {
             "line": {
              "color": "white",
              "width": 0.5
             },
             "pattern": {
              "fillmode": "overlay",
              "size": 10,
              "solidity": 0.2
             }
            },
            "type": "bar"
           }
          ],
          "barpolar": [
           {
            "marker": {
             "line": {
              "color": "white",
              "width": 0.5
             },
             "pattern": {
              "fillmode": "overlay",
              "size": 10,
              "solidity": 0.2
             }
            },
            "type": "barpolar"
           }
          ],
          "carpet": [
           {
            "aaxis": {
             "endlinecolor": "#2a3f5f",
             "gridcolor": "#C8D4E3",
             "linecolor": "#C8D4E3",
             "minorgridcolor": "#C8D4E3",
             "startlinecolor": "#2a3f5f"
            },
            "baxis": {
             "endlinecolor": "#2a3f5f",
             "gridcolor": "#C8D4E3",
             "linecolor": "#C8D4E3",
             "minorgridcolor": "#C8D4E3",
             "startlinecolor": "#2a3f5f"
            },
            "type": "carpet"
           }
          ],
          "choropleth": [
           {
            "colorbar": {
             "outlinewidth": 0,
             "ticks": ""
            },
            "type": "choropleth"
           }
          ],
          "contour": [
           {
            "colorbar": {
             "outlinewidth": 0,
             "ticks": ""
            },
            "colorscale": [
             [
              0,
              "#0d0887"
             ],
             [
              0.1111111111111111,
              "#46039f"
             ],
             [
              0.2222222222222222,
              "#7201a8"
             ],
             [
              0.3333333333333333,
              "#9c179e"
             ],
             [
              0.4444444444444444,
              "#bd3786"
             ],
             [
              0.5555555555555556,
              "#d8576b"
             ],
             [
              0.6666666666666666,
              "#ed7953"
             ],
             [
              0.7777777777777778,
              "#fb9f3a"
             ],
             [
              0.8888888888888888,
              "#fdca26"
             ],
             [
              1,
              "#f0f921"
             ]
            ],
            "type": "contour"
           }
          ],
          "contourcarpet": [
           {
            "colorbar": {
             "outlinewidth": 0,
             "ticks": ""
            },
            "type": "contourcarpet"
           }
          ],
          "heatmap": [
           {
            "colorbar": {
             "outlinewidth": 0,
             "ticks": ""
            },
            "colorscale": [
             [
              0,
              "#0d0887"
             ],
             [
              0.1111111111111111,
              "#46039f"
             ],
             [
              0.2222222222222222,
              "#7201a8"
             ],
             [
              0.3333333333333333,
              "#9c179e"
             ],
             [
              0.4444444444444444,
              "#bd3786"
             ],
             [
              0.5555555555555556,
              "#d8576b"
             ],
             [
              0.6666666666666666,
              "#ed7953"
             ],
             [
              0.7777777777777778,
              "#fb9f3a"
             ],
             [
              0.8888888888888888,
              "#fdca26"
             ],
             [
              1,
              "#f0f921"
             ]
            ],
            "type": "heatmap"
           }
          ],
          "histogram": [
           {
            "marker": {
             "pattern": {
              "fillmode": "overlay",
              "size": 10,
              "solidity": 0.2
             }
            },
            "type": "histogram"
           }
          ],
          "histogram2d": [
           {
            "colorbar": {
             "outlinewidth": 0,
             "ticks": ""
            },
            "colorscale": [
             [
              0,
              "#0d0887"
             ],
             [
              0.1111111111111111,
              "#46039f"
             ],
             [
              0.2222222222222222,
              "#7201a8"
             ],
             [
              0.3333333333333333,
              "#9c179e"
             ],
             [
              0.4444444444444444,
              "#bd3786"
             ],
             [
              0.5555555555555556,
              "#d8576b"
             ],
             [
              0.6666666666666666,
              "#ed7953"
             ],
             [
              0.7777777777777778,
              "#fb9f3a"
             ],
             [
              0.8888888888888888,
              "#fdca26"
             ],
             [
              1,
              "#f0f921"
             ]
            ],
            "type": "histogram2d"
           }
          ],
          "histogram2dcontour": [
           {
            "colorbar": {
             "outlinewidth": 0,
             "ticks": ""
            },
            "colorscale": [
             [
              0,
              "#0d0887"
             ],
             [
              0.1111111111111111,
              "#46039f"
             ],
             [
              0.2222222222222222,
              "#7201a8"
             ],
             [
              0.3333333333333333,
              "#9c179e"
             ],
             [
              0.4444444444444444,
              "#bd3786"
             ],
             [
              0.5555555555555556,
              "#d8576b"
             ],
             [
              0.6666666666666666,
              "#ed7953"
             ],
             [
              0.7777777777777778,
              "#fb9f3a"
             ],
             [
              0.8888888888888888,
              "#fdca26"
             ],
             [
              1,
              "#f0f921"
             ]
            ],
            "type": "histogram2dcontour"
           }
          ],
          "mesh3d": [
           {
            "colorbar": {
             "outlinewidth": 0,
             "ticks": ""
            },
            "type": "mesh3d"
           }
          ],
          "parcoords": [
           {
            "line": {
             "colorbar": {
              "outlinewidth": 0,
              "ticks": ""
             }
            },
            "type": "parcoords"
           }
          ],
          "pie": [
           {
            "automargin": true,
            "type": "pie"
           }
          ],
          "scatter": [
           {
            "fillpattern": {
             "fillmode": "overlay",
             "size": 10,
             "solidity": 0.2
            },
            "type": "scatter"
           }
          ],
          "scatter3d": [
           {
            "line": {
             "colorbar": {
              "outlinewidth": 0,
              "ticks": ""
             }
            },
            "marker": {
             "colorbar": {
              "outlinewidth": 0,
              "ticks": ""
             }
            },
            "type": "scatter3d"
           }
          ],
          "scattercarpet": [
           {
            "marker": {
             "colorbar": {
              "outlinewidth": 0,
              "ticks": ""
             }
            },
            "type": "scattercarpet"
           }
          ],
          "scattergeo": [
           {
            "marker": {
             "colorbar": {
              "outlinewidth": 0,
              "ticks": ""
             }
            },
            "type": "scattergeo"
           }
          ],
          "scattergl": [
           {
            "marker": {
             "colorbar": {
              "outlinewidth": 0,
              "ticks": ""
             }
            },
            "type": "scattergl"
           }
          ],
          "scattermap": [
           {
            "marker": {
             "colorbar": {
              "outlinewidth": 0,
              "ticks": ""
             }
            },
            "type": "scattermap"
           }
          ],
          "scattermapbox": [
           {
            "marker": {
             "colorbar": {
              "outlinewidth": 0,
              "ticks": ""
             }
            },
            "type": "scattermapbox"
           }
          ],
          "scatterpolar": [
           {
            "marker": {
             "colorbar": {
              "outlinewidth": 0,
              "ticks": ""
             }
            },
            "type": "scatterpolar"
           }
          ],
          "scatterpolargl": [
           {
            "marker": {
             "colorbar": {
              "outlinewidth": 0,
              "ticks": ""
             }
            },
            "type": "scatterpolargl"
           }
          ],
          "scatterternary": [
           {
            "marker": {
             "colorbar": {
              "outlinewidth": 0,
              "ticks": ""
             }
            },
            "type": "scatterternary"
           }
          ],
          "surface": [
           {
            "colorbar": {
             "outlinewidth": 0,
             "ticks": ""
            },
            "colorscale": [
             [
              0,
              "#0d0887"
             ],
             [
              0.1111111111111111,
              "#46039f"
             ],
             [
              0.2222222222222222,
              "#7201a8"
             ],
             [
              0.3333333333333333,
              "#9c179e"
             ],
             [
              0.4444444444444444,
              "#bd3786"
             ],
             [
              0.5555555555555556,
              "#d8576b"
             ],
             [
              0.6666666666666666,
              "#ed7953"
             ],
             [
              0.7777777777777778,
              "#fb9f3a"
             ],
             [
              0.8888888888888888,
              "#fdca26"
             ],
             [
              1,
              "#f0f921"
             ]
            ],
            "type": "surface"
           }
          ],
          "table": [
           {
            "cells": {
             "fill": {
              "color": "#EBF0F8"
             },
             "line": {
              "color": "white"
             }
            },
            "header": {
             "fill": {
              "color": "#C8D4E3"
             },
             "line": {
              "color": "white"
             }
            },
            "type": "table"
           }
          ]
         },
         "layout": {
          "annotationdefaults": {
           "arrowcolor": "#2a3f5f",
           "arrowhead": 0,
           "arrowwidth": 1
          },
          "autotypenumbers": "strict",
          "coloraxis": {
           "colorbar": {
            "outlinewidth": 0,
            "ticks": ""
           }
          },
          "colorscale": {
           "diverging": [
            [
             0,
             "#8e0152"
            ],
            [
             0.1,
             "#c51b7d"
            ],
            [
             0.2,
             "#de77ae"
            ],
            [
             0.3,
             "#f1b6da"
            ],
            [
             0.4,
             "#fde0ef"
            ],
            [
             0.5,
             "#f7f7f7"
            ],
            [
             0.6,
             "#e6f5d0"
            ],
            [
             0.7,
             "#b8e186"
            ],
            [
             0.8,
             "#7fbc41"
            ],
            [
             0.9,
             "#4d9221"
            ],
            [
             1,
             "#276419"
            ]
           ],
           "sequential": [
            [
             0,
             "#0d0887"
            ],
            [
             0.1111111111111111,
             "#46039f"
            ],
            [
             0.2222222222222222,
             "#7201a8"
            ],
            [
             0.3333333333333333,
             "#9c179e"
            ],
            [
             0.4444444444444444,
             "#bd3786"
            ],
            [
             0.5555555555555556,
             "#d8576b"
            ],
            [
             0.6666666666666666,
             "#ed7953"
            ],
            [
             0.7777777777777778,
             "#fb9f3a"
            ],
            [
             0.8888888888888888,
             "#fdca26"
            ],
            [
             1,
             "#f0f921"
            ]
           ],
           "sequentialminus": [
            [
             0,
             "#0d0887"
            ],
            [
             0.1111111111111111,
             "#46039f"
            ],
            [
             0.2222222222222222,
             "#7201a8"
            ],
            [
             0.3333333333333333,
             "#9c179e"
            ],
            [
             0.4444444444444444,
             "#bd3786"
            ],
            [
             0.5555555555555556,
             "#d8576b"
            ],
            [
             0.6666666666666666,
             "#ed7953"
            ],
            [
             0.7777777777777778,
             "#fb9f3a"
            ],
            [
             0.8888888888888888,
             "#fdca26"
            ],
            [
             1,
             "#f0f921"
            ]
           ]
          },
          "colorway": [
           "#636efa",
           "#EF553B",
           "#00cc96",
           "#ab63fa",
           "#FFA15A",
           "#19d3f3",
           "#FF6692",
           "#B6E880",
           "#FF97FF",
           "#FECB52"
          ],
          "font": {
           "color": "#2a3f5f"
          },
          "geo": {
           "bgcolor": "white",
           "lakecolor": "white",
           "landcolor": "white",
           "showlakes": true,
           "showland": true,
           "subunitcolor": "#C8D4E3"
          },
          "hoverlabel": {
           "align": "left"
          },
          "hovermode": "closest",
          "mapbox": {
           "style": "light"
          },
          "paper_bgcolor": "white",
          "plot_bgcolor": "white",
          "polar": {
           "angularaxis": {
            "gridcolor": "#EBF0F8",
            "linecolor": "#EBF0F8",
            "ticks": ""
           },
           "bgcolor": "white",
           "radialaxis": {
            "gridcolor": "#EBF0F8",
            "linecolor": "#EBF0F8",
            "ticks": ""
           }
          },
          "scene": {
           "xaxis": {
            "backgroundcolor": "white",
            "gridcolor": "#DFE8F3",
            "gridwidth": 2,
            "linecolor": "#EBF0F8",
            "showbackground": true,
            "ticks": "",
            "zerolinecolor": "#EBF0F8"
           },
           "yaxis": {
            "backgroundcolor": "white",
            "gridcolor": "#DFE8F3",
            "gridwidth": 2,
            "linecolor": "#EBF0F8",
            "showbackground": true,
            "ticks": "",
            "zerolinecolor": "#EBF0F8"
           },
           "zaxis": {
            "backgroundcolor": "white",
            "gridcolor": "#DFE8F3",
            "gridwidth": 2,
            "linecolor": "#EBF0F8",
            "showbackground": true,
            "ticks": "",
            "zerolinecolor": "#EBF0F8"
           }
          },
          "shapedefaults": {
           "line": {
            "color": "#2a3f5f"
           }
          },
          "ternary": {
           "aaxis": {
            "gridcolor": "#DFE8F3",
            "linecolor": "#A2B1C6",
            "ticks": ""
           },
           "baxis": {
            "gridcolor": "#DFE8F3",
            "linecolor": "#A2B1C6",
            "ticks": ""
           },
           "bgcolor": "white",
           "caxis": {
            "gridcolor": "#DFE8F3",
            "linecolor": "#A2B1C6",
            "ticks": ""
           }
          },
          "title": {
           "x": 0.05
          },
          "xaxis": {
           "automargin": true,
           "gridcolor": "#EBF0F8",
           "linecolor": "#EBF0F8",
           "ticks": "",
           "title": {
            "standoff": 15
           },
           "zerolinecolor": "#EBF0F8",
           "zerolinewidth": 2
          },
          "yaxis": {
           "automargin": true,
           "gridcolor": "#EBF0F8",
           "linecolor": "#EBF0F8",
           "ticks": "",
           "title": {
            "standoff": 15
           },
           "zerolinecolor": "#EBF0F8",
           "zerolinewidth": 2
          }
         }
        },
        "title": {
         "font": {
          "family": "Arial",
          "size": 18
         },
         "text": "App-Zeit vs. Jahresausgaben"
        },
        "xaxis": {
         "anchor": "y",
         "domain": [
          0,
          0.7363
         ],
         "title": {
          "text": "Durchschnittliche Zeit auf der App (Minuten)"
         }
        },
        "xaxis2": {
         "anchor": "y2",
         "domain": [
          0.7413,
          1
         ],
         "matches": "x2",
         "showgrid": true,
         "showline": false,
         "showticklabels": false,
         "ticks": ""
        },
        "xaxis3": {
         "anchor": "y3",
         "domain": [
          0,
          0.7363
         ],
         "matches": "x",
         "showgrid": true,
         "showticklabels": false
        },
        "xaxis4": {
         "anchor": "y4",
         "domain": [
          0.7413,
          1
         ],
         "matches": "x2",
         "showgrid": true,
         "showline": false,
         "showticklabels": false,
         "ticks": ""
        },
        "yaxis": {
         "anchor": "x",
         "domain": [
          0,
          0.7326
         ],
         "title": {
          "text": "Jährliche Ausgaben ($)"
         }
        },
        "yaxis2": {
         "anchor": "x2",
         "domain": [
          0,
          0.7326
         ],
         "matches": "y",
         "showgrid": true,
         "showticklabels": false
        },
        "yaxis3": {
         "anchor": "x3",
         "domain": [
          0.7426,
          1
         ],
         "matches": "y3",
         "showgrid": true,
         "showline": false,
         "showticklabels": false,
         "ticks": ""
        },
        "yaxis4": {
         "anchor": "x4",
         "domain": [
          0.7426,
          1
         ],
         "matches": "y3",
         "showgrid": true,
         "showline": false,
         "showticklabels": false,
         "ticks": ""
        }
       }
      }
     },
     "metadata": {},
     "output_type": "display_data"
    }
   ],
   "source": [
    "fig_2 = px.scatter(\n",
    "    customers,\n",
    "    x=\"Time on App\",\n",
    "    y=\"Yearly Amount Spent\",\n",
    "    color=\"Length of Membership\",            \n",
    "    size=\"Avg. Session Length\",   \n",
    "    marginal_x=\"histogram\",\n",
    "    marginal_y=\"histogram\",\n",
    "    opacity=0.5,\n",
    "    size_max=8,\n",
    "     title=\"App-Zeit vs. Jahresausgaben\"\n",
    ")\n",
    "\n",
    "fig_2.update_traces(marker=dict(line=dict(width=0.5, color=\"DarkSlateGrey\")))\n",
    "fig_2.update_layout(\n",
    "    title_font=dict(size=18, family=\"Arial\"),\n",
    "    xaxis_title=\"Durchschnittliche Zeit auf der App (Minuten)\",\n",
    "    yaxis_title=\"Jährliche Ausgaben ($)\",\n",
    "    template=\"plotly_white\",          \n",
    "    coloraxis_colorbar=dict(title=\"Dauer der <br>Mitgliedschaft (Minuten)\")\n",
    ")\n",
    "\n",
    "fig_2"
   ]
  },
  {
   "cell_type": "markdown",
   "metadata": {},
   "source": [
    "Hier erkennt man zumindest eine leichte positive Tendenz: Mit steigender App-Nutzung neigen Kunden dazu, mehr auszugeben. Der Zusammenhang ist aber nicht sehr stark – es ist mehr ein schwacher Trend als eine klare Linie. Die App-Nutzung könnte etwas mehr Einfluss auf die Ausgaben haben als die Website-Nutzung, möglicherweise weil der Kaufprozess dort einfacher oder zielgerichteter ist.\n",
    "\n",
    "In beiden Plots sieht man: Kunden mit längerer Mitgliedschaft (gelbe/orange Punkte) geben tendenziell mehr Geld aus. Das ist eine starke Korrelation, die man schon visuell erkennen kann. Die Mitgliedsdauer ist vermutlich der wichtigste Einflussfaktor auf die Ausgaben – deutlich stärker als die Nutzungsdauer auf Website oder App."
   ]
  },
  {
   "cell_type": "markdown",
   "metadata": {},
   "source": [
    "### 2.2 Frage\n",
    "- Welche Muster und Korrelationen lassen sich zwischen den Kundenmerkmalen erkennen, wenn man alle Variablen gleichzeitig betrachtet?"
   ]
  },
  {
   "cell_type": "code",
   "execution_count": 6,
   "metadata": {},
   "outputs": [
    {
     "data": {
      "application/vnd.plotly.v1+json": {
       "config": {
        "plotlyServerURL": "https://plot.ly"
       },
       "data": [
        {
         "diagonal": {
          "visible": true
         },
         "dimensions": [
          {
           "axis": {
            "matches": true
           },
           "label": "Avg. Session Length",
           "values": {
            "bdata": "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",
            "dtype": "f8"
           }
          },
          {
           "axis": {
            "matches": true
           },
           "label": "Time on App",
           "values": {
            "bdata": "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",
            "dtype": "f8"
           }
          },
          {
           "axis": {
            "matches": true
           },
           "label": "Time on Website",
           "values": {
            "bdata": "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",
            "dtype": "f8"
           }
          },
          {
           "axis": {
            "matches": true
           },
           "label": "Length of Membership",
           "values": {
            "bdata": "+QfSgJpUEEBWfD0n8U8FQEXnjF8NaxBA8ZssSyD2CEA5Aj0MBckRQITMqPNZ+RVARd88KXW9EkDSquEssrwRQApwkPH9LwpAzAQmylifCUCdG3l2YdwDQNmuzgantA1AM8bRjYkvEECTkLl2LFkPQLjEpkzT9ANAeyUmzt7cCkD66em/zBYJQK432J7PXQNA0V2ZweRD+D+RiuQDGUIQQJVrivpVZhJABsX5TUny+D9WvQwLEPYBQF78Miu7Wg9A+oDp4RPSFkBRcRGFHcYFQM5mxY/BlxJAR7759o34B0CCHUIRTmMPQK4/xT1m+BJANGjD3rp/CEDjSYpqdMULQMBDiOJLXxFAHqZ7I4+PBkC9zrtJk38QQIkK6fC8MQ1ALXT9SdSO/T+03LvnfZ4LQIRgHGIamhJA6itlUsbjEEB5zJzVYq8SQExDo3mglRJAyr2OmaTbEEBLDolespISQFPbHivKEQJAt+V2QApODUCOfvwh1wMPQAqdeIzxcxBA9TxorcieCUDAfntbUpYJQNofVOc16BdAjIER5xCfB0AoETOVVsIAQILb3okB2A5ARYE3qiz/BkCgn+dd6yILQEqYj6NR9wdAg6ZHjpSFCkBMbU6KfcYLQEdCTKuyww9Asfoz/amOEkDzag29KFMUQIp2083kNRNAxIHlKUhRC0D7kPa8ybILQPe9cuSnghVA4yCjR9QBEEDwLicOSIQLQCit3lt1PAZAROkppNNrDEAm3sfne9EEQA53Fmv8xhJAeHXSWFE2C0BcDcyLCNAOQJdztXydEApAx2zQ1ez2CEA+sayLG7QGQAqy+sGR4RFA+qHY46nEEUB+XksozlEJQCn3o2eNAw5AdkeBVi1HCUC/+c5BsoUQQKPPosEcoP4/y2586iuWEUDgRjoFCnQUQFEUtFoKXAVA4KYHi4TuCkCguCAR7EgSQFr5wpzwVg9A1UeV/SHPA0CdSPQvmYAQQCYyBQdh+g9AxGcLVoPN9T9IfKzk9sUQQDezc6HQ9w5Auj7rFcRTEEAQI3jjDQIRQLwNEeotSw9A+emrRmIsCEDbJE9ZGXoJQInoGnqOBAdAJpNgRRyyBECaMDK80sEHQPx97xlObgtAhktmpF9qB0AE6QlwLEEOQGSbZXS2CQhAYdCIY/bVDkB99Omx8owKQGKF1xD/5ApA34H3Js7HDUBq/CIyL1kMQFE9EjPRUAZAaFiP4qPxFUDvAUyK5sAEQCeoJkADBwZAsK56r+8EFECe9kBomPwOQOiKnhnKYw5AdtwITaZXCkBBRTKgSt0SQOCMgREtExBAXhrhIAMaDUCUBGwlYawOQD0s1hjBIBJArdK+uJlsEEDKwBbsAb8JQK0+gFjxRApA2s1H+mRkB0BaLb7f8z0PQHi9wPJnrhNAn25Uw+zJA0DGCr5ibYYQQAQJlP6fSPw/EgizPfnKBUAf6nkUSy0PQL6oMX3x7gNAj3AmmUvoDkCOZHTPCqEMQNq3HrXPqw9AtQp0MJEDCkD7S47oqFAPQAqVTkOjGPc/mk+N9cFHB0CRgz23usMKQP12h1datwhAqjf7HHYOEkDWwrvX0jb9P3AFhi8C8w9AADX5xZ43BUBkXoK725oZQMbOJm2qkBVAGuGYSn5OGEBK2HQbPOsOQID4klwCiAdA5pIE4uVWFEAaYxl51bAbQLdskOnO1QxAELl0fIpHDkDhkJuVNHkKQBdiqc7z/u4/AE920AMmDkCAZfeyaK4MQO3XCoTXFBJA3fVoaiNoDUBciVFc6/sGQBZbblUdORBAdH0eOhQfCECS3QEfUN4SQBdLk4pCaQdAkoyejYHjAkCem1cU/t8TQCC8lEsEpuk/qfYR9ZJaDUBVGxnC0nP7P+7Tzi4RGBNAMEaaA/JZEECZJAjL6oYQQE5W2k7aigtA5M79cmflEkA9NnnQCNkJQNf05jc2xwdAFudYSml1CUCoTOe2szkTQFKNROuB9gxACfiDbTEXCkBxCZcXmccMQP81d3gkKBNAHLAGqx6ICkCXypvXo4cSQMiexPawdwpA14xHzV4QEEAcPu5JO3oRQEBubnh6iARAuykLevomDEDvuFGnyQ/4P/zwWgjqKBRAPCBWozPqEUA1NDNZleQKQGv3OidAu/4/fgXYz6ZSEUB/dFSub30OQA9LteDJtQhAs81PKbIqEkAQ3cYuTEQUQP+UbIoY3AhAgjhi3ur8EkDpvsy5D7wIQKwtPj+kkAlAnf1SaV/NDkAAJjdx0ssPQHOyBN0zwA5A15BMOqZFB0A85WklujnyPwNEvJ12ewVA9yVD9wzfCEDjgx2FT2kTQGhTNgvedQJAoMu105RXE0CUW19HwG0NQF6qq2rSBBVAMhPTSaQkD0Bi3NJZzY4RQKBzl6NnAxBAzJH8QL9D6T/eDh/7DJ0RQAuE4oBTMAVAdALtaFrxAkBrogs03GcIQAJVikPJIQ1A4lyCs8wtC0CYEHm81DARQFLj7aBKbQ5AlWTBfz4RBUADzGy7nxINQP1E4t5xvAtAjgOPirLo9z8E9WKNVCMCQC5yAzWCGBRAWIISNyXGA0BbcC8Y4jARQCqZiUvkfgNAZfz4yYBBDUB/zaXLPwAUQMkroVF6TQNAwMBODeZBFUCGl3lGpE8QQMiA4kFYMwpAC25ByXgUDUAeX1AGGtwPQGoxK502TQpActWTlb2BAkAHyDcHZ3YMQMPFIzpfzQpAQGw7/bpBB0DAMZRdeVcOQGif8iQpHhBAmYfzjvXpE0APB539s5gFQPqux3LmcQ9A+f46612mC0D0qiVQxXQBQGNr0kscrQVAHeTdK2BgEkB9JKOgJgcRQP8S4fcwRg5A/cok14b5+T+tytCl6FALQO8oMxVE2QxAk2Vx37M0CkCFUsJOcgcUQAhfdSxW+ApAvlu7X93QFUCYdBdABQwOQKDrJmEzqBJA27D15Q90DkBBNxswIDMUQGfFPKG/+QZAw8R4LNTkCUDlOoiY0bAIQCzLqMEhPRJAmogz3egUCECoJ3q6mvL8PxD9EcodwQxAjmz1vMBkCEBCdqf3IBMNQCrW+76+t/c/PMOX0uxeB0DyZQVRFvb8P242pk0e/ApAmHgIw+e3AUCPfUnSXtEVQP8kqDhKnQlAQffj/v3qEkCbSgfK7KQJQDUpAh6Law5ARiGW9CF3EEBwQOHMmdkVQJjb2KKztPc/E5pvUd4rDkCfVmiwty8HQOQefEJojQxAfDxjHnZa8T9sddBeEzAIQHhUsWb6QxZAeHSV6E0pA0AO4nEj5gkMQPvr3tIg6BRAmSQVoE9p/T+bbZo7ROgKQMY7xuTaqAdAK9ZtxqarAEAMPNgWYHINQOnoVLJhxhJAmGr6fI0IEEDIqCFRoEEEQAI8I/zH9wZA+I8aKiEgDEBTKdk4mEcQQGBVgo8uNfM/aMkVW+rVCUBf7aLYpFgQQF5eLQnwExBAeqkeeNjSEEDIA845QyUAQAm9KBGq+RBAuhGf4RmBEkBA6+JUDgYIQKN8gSRyLf0/h28I+S9QEEDtg6IA84QNQKT+8AVkhQFApOoyDnCnCUCgt+A50qH/P7bdwSlBywpAceuL7kxDDEDx6rfQQswHQAtifacA8gRAqiEdu55uBkCn8JupSrcHQDJxlSRPZxFAzXl+pr36DkCMiU5QMnYSQB/kqTBT0QVAFaXQmgdMDEBsyUVoFwMJQG7NQtUfjRRAMVjzznMHCUD69TmZfm4JQKEUh0N3ng5Agaf4Vbg7E0Cqu9mgrDEQQF/NB1VfLBJAyu6IGjfZC0C4tbM9YAUFQPKBqDFgLRNA10HMEEsYBkD2iQU5BEcBQIRDBCVPyBBA+NmJUn8dAUDVxqNy+nkLQDWKeHmK8gZA1OJ3nrcYCUCjPgP+2TQMQFcvn6YFJxRAVCb5o93lDEAWp70qHSkHQIk0ix/i0hZAbqoBriYwFEC43cxDqx0TQEUuejmDuwdAk/QwnPJZBUBYsnZ3fPYMQPv5f+oD9BBAbNACHrDVA0DQKucDRQ4MQBMg2xowewpAzhLlzVJJDEA+/V4CbxbyP9JkNPBp1AlAImH963LECkDWIYeHr7kJQLF5rf8MUw5Ag3+mbl59DECqIU3x9HMHQNVdXrBQXwhAIpsv7+HpBUAnROd1jkUGQDH4PFRWUhFA5CWQ5WVUC0DEhLCz0rAKQCb+W+vAphJAqHjyR9LGCUA9XE1iCi8OQA/nW1t3XAtA20pitvZ1GEBEJZ5EfOcLQLRWogPYVBBAQRjmhzmjBkC8WXnfIp8VQHhs5XkvnQtAE8UM8A98B0AOUPxjXgATQKNBxdlPQAxATURbr188D0CtJ62+UDEDQBLbiasbyAZAy1V6zO1ADkBxhVNQLGYRQPQQQhQSTBJAhBvMbk57EkBWsZjIsBoIQFrUJWkYKhNAQA2BeQRWEUCaiutsdtz2P6jvatRJjBBAb9dEYsRIB0D9u0s0FdwPQGfQUBAenA1AnuKEkq1cF0AaMXh32D0SQC81+hnD9RFAhGhNQujgDkBCmdJnel8IQJbSPOCFnBJAC0smJaIWEEAaPBwZXsEPQEIhhJni5w1A2o1avHQDC0BA33W00GESQCCvDRW9ygFArSF5E2knEUD52AdCZvAAQCd5KM/J9+0/Ko5lY7gYDkAUVTGZ/AAQQJcK8luYQgxAQLsIcdxHDEBIw5sFA6IQQP3JNwRtZAxAA+JIV1uEEEDM0qVjAgUCQD1/4ZqdNBBAchD0p5yTCEAEl7rm01MRQJ7KJCG+gA9AEMioOA9G0T+tiXrOWDwKQDii/0EAkwRA44u+8LWbDkC3TyW3OTgDQNujVTt7HBBAhSeRXeMIDUCz9Zo3UoQJQIPsN2PcJgtAtCRdlX6ZBEBjFTIls8YLQGyPJQQcyxBA2hEOTNewAEAGm8Hh89gMQAVJJR42IxBA4fY/pnyQAkAL5+1Xwu0LQMVbkq/GRxVAxkDZv1cLCUDI3maS2fATQBHZjvOiofs/6YdDJeycDUAYce+NEpD8PzQt+KBwLghAmiMGHzwqEECoXDdMwB0JQLnJDyangARAuaYmQlkIA0DN8ACSPjURQIVp6mcSwgBAyIdGi3lbEEBO3xhb3yAMQOPJklAKIv0/aVUWA4q7EEBIfUSBtiYLQAJAGMmYtBFANPsrnO09B0BmvlCJFkMGQAEhhhB+kwtA/j9bwlPZEkAiBWY2WabzP0IynDeCExBAbARj5HdR+z9OoHEkA04JQIV0uXClkwtALO5vgaarAUBTfSwiQaYVQKY//tibJgZAenQ8QPv4DUDbr3qeuZwMQJRDK0hD1RNAcTOp3x6xAkDarc9Wm+EFQA==",
            "dtype": "f8"
           }
          },
          {
           "axis": {
            "matches": true
           },
           "label": "Yearly Amount Spent",
           "values": {
            "bdata": "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",
            "dtype": "f8"
           }
          }
         ],
         "hovertemplate": "%{xaxis.title.text}=%{x}<br>%{yaxis.title.text}=%{y}<br>Length of Membership=%{marker.color}<extra></extra>",
         "legendgroup": "",
         "marker": {
          "color": {
           "bdata": "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",
           "dtype": "f8"
          },
          "coloraxis": "coloraxis",
          "opacity": 0.5,
          "symbol": "circle"
         },
         "name": "",
         "showlegend": false,
         "type": "splom"
        }
       ],
       "layout": {
        "coloraxis": {
         "colorbar": {
          "title": {
           "text": "Length of Membership"
          }
         },
         "colorscale": [
          [
           0,
           "#0d0887"
          ],
          [
           0.1111111111111111,
           "#46039f"
          ],
          [
           0.2222222222222222,
           "#7201a8"
          ],
          [
           0.3333333333333333,
           "#9c179e"
          ],
          [
           0.4444444444444444,
           "#bd3786"
          ],
          [
           0.5555555555555556,
           "#d8576b"
          ],
          [
           0.6666666666666666,
           "#ed7953"
          ],
          [
           0.7777777777777778,
           "#fb9f3a"
          ],
          [
           0.8888888888888888,
           "#fdca26"
          ],
          [
           1,
           "#f0f921"
          ]
         ]
        },
        "dragmode": "select",
        "height": 1000,
        "legend": {
         "tracegroupgap": 0
        },
        "margin": {
         "t": 60
        },
        "template": {
         "data": {
          "bar": [
           {
            "error_x": {
             "color": "#2a3f5f"
            },
            "error_y": {
             "color": "#2a3f5f"
            },
            "marker": {
             "line": {
              "color": "#E5ECF6",
              "width": 0.5
             },
             "pattern": {
              "fillmode": "overlay",
              "size": 10,
              "solidity": 0.2
             }
            },
            "type": "bar"
           }
          ],
          "barpolar": [
           {
            "marker": {
             "line": {
              "color": "#E5ECF6",
              "width": 0.5
             },
             "pattern": {
              "fillmode": "overlay",
              "size": 10,
              "solidity": 0.2
             }
            },
            "type": "barpolar"
           }
          ],
          "carpet": [
           {
            "aaxis": {
             "endlinecolor": "#2a3f5f",
             "gridcolor": "white",
             "linecolor": "white",
             "minorgridcolor": "white",
             "startlinecolor": "#2a3f5f"
            },
            "baxis": {
             "endlinecolor": "#2a3f5f",
             "gridcolor": "white",
             "linecolor": "white",
             "minorgridcolor": "white",
             "startlinecolor": "#2a3f5f"
            },
            "type": "carpet"
           }
          ],
          "choropleth": [
           {
            "colorbar": {
             "outlinewidth": 0,
             "ticks": ""
            },
            "type": "choropleth"
           }
          ],
          "contour": [
           {
            "colorbar": {
             "outlinewidth": 0,
             "ticks": ""
            },
            "colorscale": [
             [
              0,
              "#0d0887"
             ],
             [
              0.1111111111111111,
              "#46039f"
             ],
             [
              0.2222222222222222,
              "#7201a8"
             ],
             [
              0.3333333333333333,
              "#9c179e"
             ],
             [
              0.4444444444444444,
              "#bd3786"
             ],
             [
              0.5555555555555556,
              "#d8576b"
             ],
             [
              0.6666666666666666,
              "#ed7953"
             ],
             [
              0.7777777777777778,
              "#fb9f3a"
             ],
             [
              0.8888888888888888,
              "#fdca26"
             ],
             [
              1,
              "#f0f921"
             ]
            ],
            "type": "contour"
           }
          ],
          "contourcarpet": [
           {
            "colorbar": {
             "outlinewidth": 0,
             "ticks": ""
            },
            "type": "contourcarpet"
           }
          ],
          "heatmap": [
           {
            "colorbar": {
             "outlinewidth": 0,
             "ticks": ""
            },
            "colorscale": [
             [
              0,
              "#0d0887"
             ],
             [
              0.1111111111111111,
              "#46039f"
             ],
             [
              0.2222222222222222,
              "#7201a8"
             ],
             [
              0.3333333333333333,
              "#9c179e"
             ],
             [
              0.4444444444444444,
              "#bd3786"
             ],
             [
              0.5555555555555556,
              "#d8576b"
             ],
             [
              0.6666666666666666,
              "#ed7953"
             ],
             [
              0.7777777777777778,
              "#fb9f3a"
             ],
             [
              0.8888888888888888,
              "#fdca26"
             ],
             [
              1,
              "#f0f921"
             ]
            ],
            "type": "heatmap"
           }
          ],
          "histogram": [
           {
            "marker": {
             "pattern": {
              "fillmode": "overlay",
              "size": 10,
              "solidity": 0.2
             }
            },
            "type": "histogram"
           }
          ],
          "histogram2d": [
           {
            "colorbar": {
             "outlinewidth": 0,
             "ticks": ""
            },
            "colorscale": [
             [
              0,
              "#0d0887"
             ],
             [
              0.1111111111111111,
              "#46039f"
             ],
             [
              0.2222222222222222,
              "#7201a8"
             ],
             [
              0.3333333333333333,
              "#9c179e"
             ],
             [
              0.4444444444444444,
              "#bd3786"
             ],
             [
              0.5555555555555556,
              "#d8576b"
             ],
             [
              0.6666666666666666,
              "#ed7953"
             ],
             [
              0.7777777777777778,
              "#fb9f3a"
             ],
             [
              0.8888888888888888,
              "#fdca26"
             ],
             [
              1,
              "#f0f921"
             ]
            ],
            "type": "histogram2d"
           }
          ],
          "histogram2dcontour": [
           {
            "colorbar": {
             "outlinewidth": 0,
             "ticks": ""
            },
            "colorscale": [
             [
              0,
              "#0d0887"
             ],
             [
              0.1111111111111111,
              "#46039f"
             ],
             [
              0.2222222222222222,
              "#7201a8"
             ],
             [
              0.3333333333333333,
              "#9c179e"
             ],
             [
              0.4444444444444444,
              "#bd3786"
             ],
             [
              0.5555555555555556,
              "#d8576b"
             ],
             [
              0.6666666666666666,
              "#ed7953"
             ],
             [
              0.7777777777777778,
              "#fb9f3a"
             ],
             [
              0.8888888888888888,
              "#fdca26"
             ],
             [
              1,
              "#f0f921"
             ]
            ],
            "type": "histogram2dcontour"
           }
          ],
          "mesh3d": [
           {
            "colorbar": {
             "outlinewidth": 0,
             "ticks": ""
            },
            "type": "mesh3d"
           }
          ],
          "parcoords": [
           {
            "line": {
             "colorbar": {
              "outlinewidth": 0,
              "ticks": ""
             }
            },
            "type": "parcoords"
           }
          ],
          "pie": [
           {
            "automargin": true,
            "type": "pie"
           }
          ],
          "scatter": [
           {
            "fillpattern": {
             "fillmode": "overlay",
             "size": 10,
             "solidity": 0.2
            },
            "type": "scatter"
           }
          ],
          "scatter3d": [
           {
            "line": {
             "colorbar": {
              "outlinewidth": 0,
              "ticks": ""
             }
            },
            "marker": {
             "colorbar": {
              "outlinewidth": 0,
              "ticks": ""
             }
            },
            "type": "scatter3d"
           }
          ],
          "scattercarpet": [
           {
            "marker": {
             "colorbar": {
              "outlinewidth": 0,
              "ticks": ""
             }
            },
            "type": "scattercarpet"
           }
          ],
          "scattergeo": [
           {
            "marker": {
             "colorbar": {
              "outlinewidth": 0,
              "ticks": ""
             }
            },
            "type": "scattergeo"
           }
          ],
          "scattergl": [
           {
            "marker": {
             "colorbar": {
              "outlinewidth": 0,
              "ticks": ""
             }
            },
            "type": "scattergl"
           }
          ],
          "scattermap": [
           {
            "marker": {
             "colorbar": {
              "outlinewidth": 0,
              "ticks": ""
             }
            },
            "type": "scattermap"
           }
          ],
          "scattermapbox": [
           {
            "marker": {
             "colorbar": {
              "outlinewidth": 0,
              "ticks": ""
             }
            },
            "type": "scattermapbox"
           }
          ],
          "scatterpolar": [
           {
            "marker": {
             "colorbar": {
              "outlinewidth": 0,
              "ticks": ""
             }
            },
            "type": "scatterpolar"
           }
          ],
          "scatterpolargl": [
           {
            "marker": {
             "colorbar": {
              "outlinewidth": 0,
              "ticks": ""
             }
            },
            "type": "scatterpolargl"
           }
          ],
          "scatterternary": [
           {
            "marker": {
             "colorbar": {
              "outlinewidth": 0,
              "ticks": ""
             }
            },
            "type": "scatterternary"
           }
          ],
          "surface": [
           {
            "colorbar": {
             "outlinewidth": 0,
             "ticks": ""
            },
            "colorscale": [
             [
              0,
              "#0d0887"
             ],
             [
              0.1111111111111111,
              "#46039f"
             ],
             [
              0.2222222222222222,
              "#7201a8"
             ],
             [
              0.3333333333333333,
              "#9c179e"
             ],
             [
              0.4444444444444444,
              "#bd3786"
             ],
             [
              0.5555555555555556,
              "#d8576b"
             ],
             [
              0.6666666666666666,
              "#ed7953"
             ],
             [
              0.7777777777777778,
              "#fb9f3a"
             ],
             [
              0.8888888888888888,
              "#fdca26"
             ],
             [
              1,
              "#f0f921"
             ]
            ],
            "type": "surface"
           }
          ],
          "table": [
           {
            "cells": {
             "fill": {
              "color": "#EBF0F8"
             },
             "line": {
              "color": "white"
             }
            },
            "header": {
             "fill": {
              "color": "#C8D4E3"
             },
             "line": {
              "color": "white"
             }
            },
            "type": "table"
           }
          ]
         },
         "layout": {
          "annotationdefaults": {
           "arrowcolor": "#2a3f5f",
           "arrowhead": 0,
           "arrowwidth": 1
          },
          "autotypenumbers": "strict",
          "coloraxis": {
           "colorbar": {
            "outlinewidth": 0,
            "ticks": ""
           }
          },
          "colorscale": {
           "diverging": [
            [
             0,
             "#8e0152"
            ],
            [
             0.1,
             "#c51b7d"
            ],
            [
             0.2,
             "#de77ae"
            ],
            [
             0.3,
             "#f1b6da"
            ],
            [
             0.4,
             "#fde0ef"
            ],
            [
             0.5,
             "#f7f7f7"
            ],
            [
             0.6,
             "#e6f5d0"
            ],
            [
             0.7,
             "#b8e186"
            ],
            [
             0.8,
             "#7fbc41"
            ],
            [
             0.9,
             "#4d9221"
            ],
            [
             1,
             "#276419"
            ]
           ],
           "sequential": [
            [
             0,
             "#0d0887"
            ],
            [
             0.1111111111111111,
             "#46039f"
            ],
            [
             0.2222222222222222,
             "#7201a8"
            ],
            [
             0.3333333333333333,
             "#9c179e"
            ],
            [
             0.4444444444444444,
             "#bd3786"
            ],
            [
             0.5555555555555556,
             "#d8576b"
            ],
            [
             0.6666666666666666,
             "#ed7953"
            ],
            [
             0.7777777777777778,
             "#fb9f3a"
            ],
            [
             0.8888888888888888,
             "#fdca26"
            ],
            [
             1,
             "#f0f921"
            ]
           ],
           "sequentialminus": [
            [
             0,
             "#0d0887"
            ],
            [
             0.1111111111111111,
             "#46039f"
            ],
            [
             0.2222222222222222,
             "#7201a8"
            ],
            [
             0.3333333333333333,
             "#9c179e"
            ],
            [
             0.4444444444444444,
             "#bd3786"
            ],
            [
             0.5555555555555556,
             "#d8576b"
            ],
            [
             0.6666666666666666,
             "#ed7953"
            ],
            [
             0.7777777777777778,
             "#fb9f3a"
            ],
            [
             0.8888888888888888,
             "#fdca26"
            ],
            [
             1,
             "#f0f921"
            ]
           ]
          },
          "colorway": [
           "#636efa",
           "#EF553B",
           "#00cc96",
           "#ab63fa",
           "#FFA15A",
           "#19d3f3",
           "#FF6692",
           "#B6E880",
           "#FF97FF",
           "#FECB52"
          ],
          "font": {
           "color": "#2a3f5f"
          },
          "geo": {
           "bgcolor": "white",
           "lakecolor": "white",
           "landcolor": "#E5ECF6",
           "showlakes": true,
           "showland": true,
           "subunitcolor": "white"
          },
          "hoverlabel": {
           "align": "left"
          },
          "hovermode": "closest",
          "mapbox": {
           "style": "light"
          },
          "paper_bgcolor": "white",
          "plot_bgcolor": "#E5ECF6",
          "polar": {
           "angularaxis": {
            "gridcolor": "white",
            "linecolor": "white",
            "ticks": ""
           },
           "bgcolor": "#E5ECF6",
           "radialaxis": {
            "gridcolor": "white",
            "linecolor": "white",
            "ticks": ""
           }
          },
          "scene": {
           "xaxis": {
            "backgroundcolor": "#E5ECF6",
            "gridcolor": "white",
            "gridwidth": 2,
            "linecolor": "white",
            "showbackground": true,
            "ticks": "",
            "zerolinecolor": "white"
           },
           "yaxis": {
            "backgroundcolor": "#E5ECF6",
            "gridcolor": "white",
            "gridwidth": 2,
            "linecolor": "white",
            "showbackground": true,
            "ticks": "",
            "zerolinecolor": "white"
           },
           "zaxis": {
            "backgroundcolor": "#E5ECF6",
            "gridcolor": "white",
            "gridwidth": 2,
            "linecolor": "white",
            "showbackground": true,
            "ticks": "",
            "zerolinecolor": "white"
           }
          },
          "shapedefaults": {
           "line": {
            "color": "#2a3f5f"
           }
          },
          "ternary": {
           "aaxis": {
            "gridcolor": "white",
            "linecolor": "white",
            "ticks": ""
           },
           "baxis": {
            "gridcolor": "white",
            "linecolor": "white",
            "ticks": ""
           },
           "bgcolor": "#E5ECF6",
           "caxis": {
            "gridcolor": "white",
            "linecolor": "white",
            "ticks": ""
           }
          },
          "title": {
           "x": 0.05
          },
          "xaxis": {
           "automargin": true,
           "gridcolor": "white",
           "linecolor": "white",
           "ticks": "",
           "title": {
            "standoff": 15
           },
           "zerolinecolor": "white",
           "zerolinewidth": 2
          },
          "yaxis": {
           "automargin": true,
           "gridcolor": "white",
           "linecolor": "white",
           "ticks": "",
           "title": {
            "standoff": 15
           },
           "zerolinecolor": "white",
           "zerolinewidth": 2
          }
         }
        },
        "title": {
         "text": "Scatter-Matrix der Kundenmerkmale"
        },
        "width": 1200
       }
      }
     },
     "metadata": {},
     "output_type": "display_data"
    }
   ],
   "source": [
    "fig3 = px.scatter_matrix(\n",
    "    customers,\n",
    "    dimensions=[\"Avg. Session Length\", \"Time on App\", \"Time on Website\", \"Length of Membership\", \"Yearly Amount Spent\"],\n",
    "    color=\"Length of Membership\",\n",
    "    opacity=0.5\n",
    ")\n",
    "fig3.update_traces(diagonal_visible=True) \n",
    "fig3.update_layout(\n",
    "    title=\"Scatter-Matrix der Kundenmerkmale\",\n",
    "    width=1200,\n",
    "    height=1000,\n",
    ")\n",
    "\n",
    "fig3"
   ]
  },
  {
   "cell_type": "markdown",
   "metadata": {},
   "source": [
    "In der Korrelationsmatrix spiegelt sich unsere Annahme wieder: Das Merkmal Length of Membership hat die höchste positive Korrelation mit Yearly Amount Spent. Die Problematik ist sehr gut für ein lineares Regressionsmodell geeignet."
   ]
  },
  {
   "cell_type": "markdown",
   "metadata": {},
   "source": [
    "## 3. Daten vorbereiten Teil B\n",
    "### 3.1 Aufteilen der Daten in Trainings- und Testdaten"
   ]
  },
  {
   "cell_type": "code",
   "execution_count": 7,
   "metadata": {},
   "outputs": [],
   "source": [
    "# Feature-Matrix:\n",
    "X = customers.drop(\"Yearly Amount Spent\", axis=1)\n",
    "\n",
    "# Label-Vektor:\n",
    "y = customers[\"Yearly Amount Spent\"]\n",
    "\n",
    "# Aufteilen der Daten:\n",
    "X_train, X_test, y_train, y_test = train_test_split(X, y, test_size=0.2, random_state=42)"
   ]
  },
  {
   "cell_type": "markdown",
   "metadata": {},
   "source": [
    "### 3.2 Ausreißerprüfung (outlier detection/treatment)\n",
    "Für uns sind nur die numerischen Features relevant:\n",
    "\n",
    "- Avg. Session Length\n",
    "- Time on App\n",
    "- Time on Website\n",
    "- Length of Membership\n",
    "- Yearly Amount Spent"
   ]
  },
  {
   "cell_type": "code",
   "execution_count": 8,
   "metadata": {},
   "outputs": [
    {
     "data": {
      "text/plain": [
       "Index(['Avg. Session Length', 'Time on App', 'Time on Website',\n",
       "       'Length of Membership'],\n",
       "      dtype='object')"
      ]
     },
     "execution_count": 8,
     "metadata": {},
     "output_type": "execute_result"
    }
   ],
   "source": [
    "# Nur numerische Features:\n",
    "num_cols = X_train.select_dtypes(include=\"number\").columns\n",
    "num_cols"
   ]
  },
  {
   "cell_type": "code",
   "execution_count": 9,
   "metadata": {},
   "outputs": [
    {
     "data": {
      "application/vnd.microsoft.datawrangler.viewer.v0+json": {
       "columns": [
        {
         "name": "index",
         "rawType": "object",
         "type": "string"
        },
        {
         "name": "Q1",
         "rawType": "float64",
         "type": "float"
        },
        {
         "name": "Q3",
         "rawType": "float64",
         "type": "float"
        },
        {
         "name": "IQR",
         "rawType": "float64",
         "type": "float"
        },
        {
         "name": "lower",
         "rawType": "float64",
         "type": "float"
        },
        {
         "name": "upper",
         "rawType": "float64",
         "type": "float"
        },
        {
         "name": "n_outliers",
         "rawType": "int64",
         "type": "integer"
        }
       ],
       "ref": "90272906-50c7-4591-94b5-cfbe71c87eba",
       "rows": [
        [
         "Avg. Session Length",
         "32.335",
         "33.737",
         "1.402",
         "30.233",
         "35.839",
         "2"
        ],
        [
         "Time on App",
         "11.394",
         "12.76",
         "1.366",
         "9.344",
         "14.809",
         "3"
        ],
        [
         "Time on Website",
         "36.312",
         "37.684",
         "1.373",
         "34.253",
         "39.743",
         "1"
        ],
        [
         "Length of Membership",
         "2.956",
         "4.142",
         "1.186",
         "1.177",
         "5.921",
         "12"
        ]
       ],
       "shape": {
        "columns": 6,
        "rows": 4
       }
      },
      "text/html": [
       "<div>\n",
       "<style scoped>\n",
       "    .dataframe tbody tr th:only-of-type {\n",
       "        vertical-align: middle;\n",
       "    }\n",
       "\n",
       "    .dataframe tbody tr th {\n",
       "        vertical-align: top;\n",
       "    }\n",
       "\n",
       "    .dataframe thead th {\n",
       "        text-align: right;\n",
       "    }\n",
       "</style>\n",
       "<table border=\"1\" class=\"dataframe\">\n",
       "  <thead>\n",
       "    <tr style=\"text-align: right;\">\n",
       "      <th></th>\n",
       "      <th>Q1</th>\n",
       "      <th>Q3</th>\n",
       "      <th>IQR</th>\n",
       "      <th>lower</th>\n",
       "      <th>upper</th>\n",
       "      <th>n_outliers</th>\n",
       "    </tr>\n",
       "  </thead>\n",
       "  <tbody>\n",
       "    <tr>\n",
       "      <th>Avg. Session Length</th>\n",
       "      <td>32.335</td>\n",
       "      <td>33.737</td>\n",
       "      <td>1.402</td>\n",
       "      <td>30.233</td>\n",
       "      <td>35.839</td>\n",
       "      <td>2</td>\n",
       "    </tr>\n",
       "    <tr>\n",
       "      <th>Time on App</th>\n",
       "      <td>11.394</td>\n",
       "      <td>12.760</td>\n",
       "      <td>1.366</td>\n",
       "      <td>9.344</td>\n",
       "      <td>14.809</td>\n",
       "      <td>3</td>\n",
       "    </tr>\n",
       "    <tr>\n",
       "      <th>Time on Website</th>\n",
       "      <td>36.312</td>\n",
       "      <td>37.684</td>\n",
       "      <td>1.373</td>\n",
       "      <td>34.253</td>\n",
       "      <td>39.743</td>\n",
       "      <td>1</td>\n",
       "    </tr>\n",
       "    <tr>\n",
       "      <th>Length of Membership</th>\n",
       "      <td>2.956</td>\n",
       "      <td>4.142</td>\n",
       "      <td>1.186</td>\n",
       "      <td>1.177</td>\n",
       "      <td>5.921</td>\n",
       "      <td>12</td>\n",
       "    </tr>\n",
       "  </tbody>\n",
       "</table>\n",
       "</div>"
      ],
      "text/plain": [
       "                          Q1      Q3    IQR   lower   upper  n_outliers\n",
       "Avg. Session Length   32.335  33.737  1.402  30.233  35.839           2\n",
       "Time on App           11.394  12.760  1.366   9.344  14.809           3\n",
       "Time on Website       36.312  37.684  1.373  34.253  39.743           1\n",
       "Length of Membership   2.956   4.142  1.186   1.177   5.921          12"
      ]
     },
     "execution_count": 9,
     "metadata": {},
     "output_type": "execute_result"
    }
   ],
   "source": [
    "import sys, os\n",
    "sys.path.insert(0, os.path.abspath(\"..\"))\n",
    "from outliers import compute_iqr_report_df\n",
    "\n",
    "iqr_info = compute_iqr_report_df(X_train, num_cols)\n",
    "iqr_info"
   ]
  },
  {
   "cell_type": "code",
   "execution_count": 10,
   "metadata": {},
   "outputs": [
    {
     "data": {
      "application/vnd.plotly.v1+json": {
       "config": {
        "plotlyServerURL": "https://plot.ly"
       },
       "data": [
        {
         "boxpoints": false,
         "name": "Avg. Session Length",
         "showlegend": false,
         "type": "box",
         "xaxis": "x",
         "y": {
          "bdata": "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",
          "dtype": "f8"
         },
         "yaxis": "y"
        },
        {
         "marker": {
          "color": "blue",
          "opacity": 0.6,
          "size": 5
         },
         "mode": "markers",
         "name": "Normal",
         "showlegend": true,
         "type": "scatter",
         "x": [
          "Avg. Session Length",
          "Avg. Session Length",
          "Avg. Session Length",
          "Avg. Session Length",
          "Avg. Session Length",
          "Avg. Session Length",
          "Avg. Session Length",
          "Avg. Session Length",
          "Avg. Session Length",
          "Avg. Session Length",
          "Avg. Session Length",
          "Avg. Session Length",
          "Avg. Session Length",
          "Avg. Session Length",
          "Avg. Session Length",
          "Avg. Session Length",
          "Avg. Session Length",
          "Avg. Session Length",
          "Avg. Session Length",
          "Avg. Session Length",
          "Avg. Session Length",
          "Avg. Session Length",
          "Avg. Session Length",
          "Avg. Session Length",
          "Avg. Session Length",
          "Avg. Session Length",
          "Avg. Session Length",
          "Avg. Session Length",
          "Avg. Session Length",
          "Avg. Session Length",
          "Avg. Session Length",
          "Avg. Session Length",
          "Avg. Session Length",
          "Avg. Session Length",
          "Avg. Session Length",
          "Avg. Session Length",
          "Avg. Session Length",
          "Avg. Session Length",
          "Avg. Session Length",
          "Avg. Session Length",
          "Avg. Session Length",
          "Avg. Session Length",
          "Avg. Session Length",
          "Avg. Session Length",
          "Avg. Session Length",
          "Avg. Session Length",
          "Avg. Session Length",
          "Avg. Session Length",
          "Avg. Session Length",
          "Avg. Session Length",
          "Avg. Session Length",
          "Avg. Session Length",
          "Avg. Session Length",
          "Avg. Session Length",
          "Avg. Session Length",
          "Avg. Session Length",
          "Avg. Session Length",
          "Avg. Session Length",
          "Avg. Session Length",
          "Avg. Session Length",
          "Avg. Session Length",
          "Avg. Session Length",
          "Avg. Session Length",
          "Avg. Session Length",
          "Avg. Session Length",
          "Avg. Session Length",
          "Avg. Session Length",
          "Avg. Session Length",
          "Avg. Session Length",
          "Avg. Session Length",
          "Avg. Session Length",
          "Avg. Session Length",
          "Avg. Session Length",
          "Avg. Session Length",
          "Avg. Session Length",
          "Avg. Session Length",
          "Avg. Session Length",
          "Avg. Session Length",
          "Avg. Session Length",
          "Avg. Session Length",
          "Avg. Session Length",
          "Avg. Session Length",
          "Avg. Session Length",
          "Avg. Session Length",
          "Avg. Session Length",
          "Avg. Session Length",
          "Avg. Session Length",
          "Avg. Session Length",
          "Avg. Session Length",
          "Avg. Session Length",
          "Avg. Session Length",
          "Avg. Session Length",
          "Avg. Session Length",
          "Avg. Session Length",
          "Avg. Session Length",
          "Avg. Session Length",
          "Avg. Session Length",
          "Avg. Session Length",
          "Avg. Session Length",
          "Avg. Session Length",
          "Avg. Session Length",
          "Avg. Session Length",
          "Avg. Session Length",
          "Avg. Session Length",
          "Avg. Session Length",
          "Avg. Session Length",
          "Avg. Session Length",
          "Avg. Session Length",
          "Avg. Session Length",
          "Avg. Session Length",
          "Avg. Session Length",
          "Avg. Session Length",
          "Avg. Session Length",
          "Avg. Session Length",
          "Avg. Session Length",
          "Avg. Session Length",
          "Avg. Session Length",
          "Avg. Session Length",
          "Avg. Session Length",
          "Avg. Session Length",
          "Avg. Session Length",
          "Avg. Session Length",
          "Avg. Session Length",
          "Avg. Session Length",
          "Avg. Session Length",
          "Avg. Session Length",
          "Avg. Session Length",
          "Avg. Session Length",
          "Avg. Session Length",
          "Avg. Session Length",
          "Avg. Session Length",
          "Avg. Session Length",
          "Avg. Session Length",
          "Avg. Session Length",
          "Avg. Session Length",
          "Avg. Session Length",
          "Avg. Session Length",
          "Avg. Session Length",
          "Avg. Session Length",
          "Avg. Session Length",
          "Avg. Session Length",
          "Avg. Session Length",
          "Avg. Session Length",
          "Avg. Session Length",
          "Avg. Session Length",
          "Avg. Session Length",
          "Avg. Session Length",
          "Avg. Session Length",
          "Avg. Session Length",
          "Avg. Session Length",
          "Avg. Session Length",
          "Avg. Session Length",
          "Avg. Session Length",
          "Avg. Session Length",
          "Avg. Session Length",
          "Avg. Session Length",
          "Avg. Session Length",
          "Avg. Session Length",
          "Avg. Session Length",
          "Avg. Session Length",
          "Avg. Session Length",
          "Avg. Session Length",
          "Avg. Session Length",
          "Avg. Session Length",
          "Avg. Session Length",
          "Avg. Session Length",
          "Avg. Session Length",
          "Avg. Session Length",
          "Avg. Session Length",
          "Avg. Session Length",
          "Avg. Session Length",
          "Avg. Session Length",
          "Avg. Session Length",
          "Avg. Session Length",
          "Avg. Session Length",
          "Avg. Session Length",
          "Avg. Session Length",
          "Avg. Session Length",
          "Avg. Session Length",
          "Avg. Session Length",
          "Avg. Session Length",
          "Avg. Session Length",
          "Avg. Session Length",
          "Avg. Session Length",
          "Avg. Session Length",
          "Avg. Session Length",
          "Avg. Session Length",
          "Avg. Session Length",
          "Avg. Session Length",
          "Avg. Session Length",
          "Avg. Session Length",
          "Avg. Session Length",
          "Avg. Session Length",
          "Avg. Session Length",
          "Avg. Session Length",
          "Avg. Session Length",
          "Avg. Session Length",
          "Avg. Session Length",
          "Avg. Session Length",
          "Avg. Session Length",
          "Avg. Session Length",
          "Avg. Session Length",
          "Avg. Session Length",
          "Avg. Session Length",
          "Avg. Session Length",
          "Avg. Session Length",
          "Avg. Session Length",
          "Avg. Session Length",
          "Avg. Session Length",
          "Avg. Session Length",
          "Avg. Session Length",
          "Avg. Session Length",
          "Avg. Session Length",
          "Avg. Session Length",
          "Avg. Session Length",
          "Avg. Session Length",
          "Avg. Session Length",
          "Avg. Session Length",
          "Avg. Session Length",
          "Avg. Session Length",
          "Avg. Session Length",
          "Avg. Session Length",
          "Avg. Session Length",
          "Avg. Session Length",
          "Avg. Session Length",
          "Avg. Session Length",
          "Avg. Session Length",
          "Avg. Session Length",
          "Avg. Session Length",
          "Avg. Session Length",
          "Avg. Session Length",
          "Avg. Session Length",
          "Avg. Session Length",
          "Avg. Session Length",
          "Avg. Session Length",
          "Avg. Session Length",
          "Avg. Session Length",
          "Avg. Session Length",
          "Avg. Session Length",
          "Avg. Session Length",
          "Avg. Session Length",
          "Avg. Session Length",
          "Avg. Session Length",
          "Avg. Session Length",
          "Avg. Session Length",
          "Avg. Session Length",
          "Avg. Session Length",
          "Avg. Session Length",
          "Avg. Session Length",
          "Avg. Session Length",
          "Avg. Session Length",
          "Avg. Session Length",
          "Avg. Session Length",
          "Avg. Session Length",
          "Avg. Session Length",
          "Avg. Session Length",
          "Avg. Session Length",
          "Avg. Session Length",
          "Avg. Session Length",
          "Avg. Session Length",
          "Avg. Session Length",
          "Avg. Session Length",
          "Avg. Session Length",
          "Avg. Session Length",
          "Avg. Session Length",
          "Avg. Session Length",
          "Avg. Session Length",
          "Avg. Session Length",
          "Avg. Session Length",
          "Avg. Session Length",
          "Avg. Session Length",
          "Avg. Session Length",
          "Avg. Session Length",
          "Avg. Session Length",
          "Avg. Session Length",
          "Avg. Session Length",
          "Avg. Session Length",
          "Avg. Session Length",
          "Avg. Session Length",
          "Avg. Session Length",
          "Avg. Session Length",
          "Avg. Session Length",
          "Avg. Session Length",
          "Avg. Session Length",
          "Avg. Session Length",
          "Avg. Session Length",
          "Avg. Session Length",
          "Avg. Session Length",
          "Avg. Session Length",
          "Avg. Session Length",
          "Avg. Session Length",
          "Avg. Session Length",
          "Avg. Session Length",
          "Avg. Session Length",
          "Avg. Session Length",
          "Avg. Session Length",
          "Avg. Session Length",
          "Avg. Session Length",
          "Avg. Session Length",
          "Avg. Session Length",
          "Avg. Session Length",
          "Avg. Session Length",
          "Avg. Session Length",
          "Avg. Session Length",
          "Avg. Session Length",
          "Avg. Session Length",
          "Avg. Session Length",
          "Avg. Session Length",
          "Avg. Session Length",
          "Avg. Session Length",
          "Avg. Session Length",
          "Avg. Session Length",
          "Avg. Session Length",
          "Avg. Session Length",
          "Avg. Session Length",
          "Avg. Session Length",
          "Avg. Session Length",
          "Avg. Session Length",
          "Avg. Session Length",
          "Avg. Session Length",
          "Avg. Session Length",
          "Avg. Session Length",
          "Avg. Session Length",
          "Avg. Session Length",
          "Avg. Session Length",
          "Avg. Session Length",
          "Avg. Session Length",
          "Avg. Session Length",
          "Avg. Session Length",
          "Avg. Session Length",
          "Avg. Session Length",
          "Avg. Session Length",
          "Avg. Session Length",
          "Avg. Session Length",
          "Avg. Session Length",
          "Avg. Session Length",
          "Avg. Session Length",
          "Avg. Session Length",
          "Avg. Session Length",
          "Avg. Session Length",
          "Avg. Session Length",
          "Avg. Session Length",
          "Avg. Session Length",
          "Avg. Session Length",
          "Avg. Session Length",
          "Avg. Session Length",
          "Avg. Session Length",
          "Avg. Session Length",
          "Avg. Session Length",
          "Avg. Session Length",
          "Avg. Session Length",
          "Avg. Session Length",
          "Avg. Session Length",
          "Avg. Session Length",
          "Avg. Session Length",
          "Avg. Session Length",
          "Avg. Session Length",
          "Avg. Session Length",
          "Avg. Session Length",
          "Avg. Session Length",
          "Avg. Session Length",
          "Avg. Session Length",
          "Avg. Session Length",
          "Avg. Session Length",
          "Avg. Session Length",
          "Avg. Session Length",
          "Avg. Session Length",
          "Avg. Session Length",
          "Avg. Session Length",
          "Avg. Session Length",
          "Avg. Session Length",
          "Avg. Session Length",
          "Avg. Session Length",
          "Avg. Session Length",
          "Avg. Session Length",
          "Avg. Session Length",
          "Avg. Session Length",
          "Avg. Session Length",
          "Avg. Session Length",
          "Avg. Session Length",
          "Avg. Session Length",
          "Avg. Session Length",
          "Avg. Session Length",
          "Avg. Session Length",
          "Avg. Session Length",
          "Avg. Session Length",
          "Avg. Session Length",
          "Avg. Session Length",
          "Avg. Session Length",
          "Avg. Session Length",
          "Avg. Session Length",
          "Avg. Session Length",
          "Avg. Session Length",
          "Avg. Session Length",
          "Avg. Session Length",
          "Avg. Session Length",
          "Avg. Session Length",
          "Avg. Session Length"
         ],
         "xaxis": "x",
         "y": {
          "bdata": "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",
          "dtype": "f8"
         },
         "yaxis": "y"
        },
        {
         "marker": {
          "color": "red",
          "opacity": 0.85,
          "size": 6
         },
         "mode": "markers",
         "name": "Ausreißer",
         "showlegend": true,
         "type": "scatter",
         "x": [
          "Avg. Session Length",
          "Avg. Session Length"
         ],
         "xaxis": "x",
         "y": {
          "bdata": "mtblOhzuQUD59MhDTYg9QA==",
          "dtype": "f8"
         },
         "yaxis": "y"
        },
        {
         "boxpoints": false,
         "name": "Time on App",
         "showlegend": false,
         "type": "box",
         "xaxis": "x2",
         "y": {
          "bdata": "JhjoaNTVJ0A2Et7IO6UnQOBEH+Cr+itANvZF69l2JUDJouBjXXknQPVhIqLnhStAFAbY76VfKkDYzTPMy/clQPSbCQzd6ClADN54OgWfJ0AO4zuPGZAmQGQVPaYCzCRA8liWXK05J0CBa1aYGIgnQN2QjXNaPixAde4VQfM9J0AhW3UsJHEsQCGjX941YCpASSAEfapzJ0D9k6Zd2gMpQBdCis0JLydASUtqQvcYJ0AYFd5fyO8pQKt75El47ilAHpXuehxKKECfbArmsysqQNrtD5QHbyhAlrwu9jlmJkAgsFTkdOonQJhd4xDQXipA8hwZCgO9JUDTnoMZfzQnQL6HYN68BCdAP4d8+6vEKUCl9g5QXngnQA2RYoX3IiVA6H5eWcRnJkBg15oMj8kpQI+LdnTBBihA9Mv6q3VWJ0CV5NGNPmQpQLyp+p7VFSVAlFRIohWGJ0A2QdEMFKknQEhUCxE2WCpAd1kDIziOJ0BF0Y/KrVAnQNSYFqkKOCZAfJa6Ah4VKkC4pdrG/ooqQANdeyjJDShAWdvOqKQFKECZrMYbT1coQB4KNLi8dydAFLYvKoJ3JkBmO2femLUnQLpwfPNdbytAWi02D4+1KECSxTrs0HgmQInUuC6+/ShAJE7G8XpMKEASF0rH31QrQN5sWXtpFCxAPbkRGhfuJ0DnQjSXkvYmQPwT+iTBzyZA7CCSQ1qRKUCkKW33M7QoQGNiRFla8SVAtZ0+KPTcKUAcPtuSBfgnQIklHwcjaihAMcGxPHGcJkAirfn7uS0oQMlY9G/kdilA0QoTryRiJ0CHr8mliVMmQIA9gUMFWypArbpTD6XSJ0Bw5UFEn/QiQAC/EUAZdidAdFEzOMqKJUBflMjGEA4pQOTCmPEZ7ChAGcgRq4otJ0AoXk0vgtYoQCQRMdzUSSlAacmRhcOrJ0AOMN+inuIoQFp3jyXuUSpA+PEOtThAKUBIgn1t54UpQLWAHGBKKCpAV4yn4qOmKkCAs2xyfecqQJxj03SxFydAKSYI6+P5KECpwEQxFFMnQJVf12g8+CVAXd7ej+nhJEAGBa/+KlQpQMdYUldJwCVAaYKwaf5mJkBHq6fUom8pQFUwoNCUjypANx60jkEzKkB7D5Qr2QYqQAkKPuv0LCtAdNdnu1WHJ0BqUqLHdNYnQCc0UFdXjShAVp20mCQjKkAwasDULFAnQDw2Ai45ICdAiAyaO1rIK0ABQdYNnW8pQLBdsFGJ8SdAkGcGZVqDJEDhmu64sN8nQDzJMZYvESpACiaPCHLoI0BQqA/L/XMmQFykgHeSgidA5uKI1hujJ0Ctya+bH+0lQMppqKxlhydAGVff+4tzKUBCkBdog9soQIGWpj68pixAMzxaI9kgKEBzu54+TlsoQB1ud9w7IyhAn3uEQA3TJ0CdTXIBkrsmQGZzAfPrXilA6ZzOSFoDKUDWuf5urygkQNWtxRIyLCdAm8XVGcZuJUCIjKdrsHInQKc4A+8S1ihAKCO8qR+3J0BCiWM0OjApQCK2mzCOrSpAfrJM0niQKUCeJ4bv2jApQHvcvxP/5CVA2yM4nPLoI0DnTaNsqBAqQMwDRNPr8ihARS3hkrvwK0ATXXPl7fAmQL0W7aBy8SpAP70wnNVRJ0CclSEhYRMmQO1t3zGUCCZA6NzNc+rCKEDuFnBnpwcnQNXa1/0E9iRAopw3I7ocKUDz1DDHZtQpQLZ17wupnilA4Aqxy511KUDqrqCAeuInQKF9iPCm1idABe7MHzOBJ0DCfmzoMVYhQK0AGconsypAC4vUwDUXKEBtBVZgBjomQC7ZZPChBCdAsqCOMBmuJkCEpTyJzLEmQHXZGC8f6ypAkgWjza9VJkAZSe9xB8YmQO35FfZWECtAOMtlU2ixKUA0OSbDq14nQDmpnePnKClArLW6lfXJKkD6za4Q2jooQK0jWfWFqChAsO6jzT9/JUAExTP95xQnQDIjowIsRShA8A32pZGdKUBH2Pk72EMoQO0irotVHChAnEsM/7ARJUDJtJcAivAlQPnIhKPUTiZA9x+dkpfHJUBjOQCmdpMsQIuz/+ldBSZAFrpiu8KjKECWbunusvglQBUJcnXlxShAWqSYZ9bTJ0CtBS2DIPcoQIwUkdbAmSpAEf0X5FjKJkAMrcRDDe8nQCYfYXV+lydAiK7akDVuKECoQSXcGp4rQNc85BSGIyxAdPwjcuDRK0Cq8SxoXXImQF2THUzBtSlAdwM1bRgxKEBLta1so7snQMEDpMFmgSpAeRMKiELUKUDvgy/qt00lQOWOrlscMChA82ufvDsCKkAI2hFlNHAlQLCirDSMUyRAWdwCyjoUKkB+19/LsYQpQPCrSsniPSZAMepgU3LUKkDUsLDRXS8rQO1IOmUFQS5A6oA5jhjvJkA+v48780QnQCZC+Gv8xiZA0I0ePtPdJUB7+RszkkIqQJYNeqGUwSZAy7fMTS/sJUAT6CINbt8nQMH++JnO9idANK97jAVGJUB91z35GRMlQKBliuwVIydAvots8LzRJkBWQ/RpF3kmQDh/hLMQlSpA84t3geDpJUCQRSsl4CInQBARJjK5zidAM8EisAPnKECLs0zubVsoQGuMlzjlRCVA6IIjmGjIKECulbaXE+IpQFMHTTMOECZArPykMGcHKkDzLRuqD6coQMbPMyoLDCdAeREq9CKXKUDkqW+qotwpQApSXoIe9ihA2rMjB0/SKkBnUOJGUlYoQP+bEMkh0CdAuZDAcuVxK0CMG/obBuMqQNL9yyFMCihAcd11D3BJJkB5gofnx14rQPGMYvPxNiNAltmDAB76KUCP2IFdZcYqQNI+tv0PRyhAda/NWdOOKkCXOSU5wyIqQG1ge4+n5CdAfgtY6AAEKkA8T67GjcYnQCJpfFbXNSpAJzTzCF3aLECILCX9F6YjQHKnhxPAFSlAIQ5NL9EuJ0C33wZ9gXglQHwTFJ8OdStAhCnCyEloKUAWXIAvEIEpQN4ezjhefiZABC9LocDFKkBQa22J1v8lQIaSANuolCRALyUL5niNKkDLQRPNmHQoQFjqHsYlTCpAhwBQLNfiKEDuFNKyWXcnQHav26qlkShAoIh/C+tVKUAKYVce5C8qQI/NtFNxBiRA5GbJcjlKJ0AlW+UHtvglQJPG8kA3RiZAofGShBvsKEBIjX+OlTMpQFHj+ZpOKyZAVKNxeMnBKED10P8p9OQnQGFuJgcS6ClA9efY0G9DJECwWc6vNEAoQEfRdXgHAyhAlLU6ieqzJ0DQ3NeEpGIpQKbjRnL+zSpAERxA5Rf9KEDfMp/igswoQEs/OTJMDydADtfES/7eJkA79HK7sOknQJQVcqzeEyhADOeihSwEIUA/3HudGpwlQHopNmnHKypAaTdfRRL4I0D65S8OEVQpQKDGkzwLOCZA73Y5sSM+JkCVDHlhdXYnQF1ZzBHPyyZA6yUMqCqdJUCD50zU+zApQKIbMPjH1itAhk94uhBFJ0BhaQgNbPsoQLa54Az4+SlAAKZJnQqqJ0CdyVVqVggrQM14VvCwLSlA8WR1CuFrKUBhyxxH5qMkQHdQIj6YOCVAYdrvT+XIKUCq59ns8kYpQEndqa4f6ylANpZsHS7lKECS8w63ZKgpQMqQmqc5FChAIUhyFTJRKECOE8e4TBQoQIXHm4+CQSVAFCj9KjRnJkCnrhcJK7QnQMryE2cAlidABE+m78AZJ0BAO3XnQMgqQDDpHhFepSdADOx6BFdKKUCKF8KfwCkpQM6OifZTtytAhp3edgsnJkDCgRKcHrglQDyJJ6hKdydANqILjNCNKED+SCaMN2QnQOcgI+lpqipA2YR3KsoaJkCnOHhrIaonQA6KJsVuuidAoSY6gbFYJ0Bguk2m3D4nQAUI+l7LDShAMq87FIfBKUCAZXVc1FopQDlQiTPqUCdAHGqX+4q6KEDKtLZIN7EjQNfrPxkpAilAwdLDPO5yJ0Bx8Jqj8vElQOJoe0ky9yVArf8btSKhJEA3XC4le6EpQDRdVv8twiZAt5lZ5G1GKUDotYIvJLklQPYmmEpK2SdAyeQFAT3GKEBGjwF9oUwqQBVlQxIOKyhAxVQcRlmJJkA2rUyVJzclQCMEm1caJSVAHjstsryzJkAiZQljqnMpQLZl7BBeiiVAohsyiscgJ0CgOHQLbtYoQNUUUcUhuyZAvbOL2RvOJUCJZDLuNnUoQD5xhdiFYShA1IVUFp3pKUBgonSIGsYlQI8WfJwKRCxA108MbNblJkA=",
          "dtype": "f8"
         },
         "yaxis": "y2"
        },
        {
         "marker": {
          "color": "blue",
          "opacity": 0.6,
          "size": 5
         },
         "mode": "markers",
         "name": "Normal",
         "showlegend": false,
         "type": "scatter",
         "x": [
          "Time on App",
          "Time on App",
          "Time on App",
          "Time on App",
          "Time on App",
          "Time on App",
          "Time on App",
          "Time on App",
          "Time on App",
          "Time on App",
          "Time on App",
          "Time on App",
          "Time on App",
          "Time on App",
          "Time on App",
          "Time on App",
          "Time on App",
          "Time on App",
          "Time on App",
          "Time on App",
          "Time on App",
          "Time on App",
          "Time on App",
          "Time on App",
          "Time on App",
          "Time on App",
          "Time on App",
          "Time on App",
          "Time on App",
          "Time on App",
          "Time on App",
          "Time on App",
          "Time on App",
          "Time on App",
          "Time on App",
          "Time on App",
          "Time on App",
          "Time on App",
          "Time on App",
          "Time on App",
          "Time on App",
          "Time on App",
          "Time on App",
          "Time on App",
          "Time on App",
          "Time on App",
          "Time on App",
          "Time on App",
          "Time on App",
          "Time on App",
          "Time on App",
          "Time on App",
          "Time on App",
          "Time on App",
          "Time on App",
          "Time on App",
          "Time on App",
          "Time on App",
          "Time on App",
          "Time on App",
          "Time on App",
          "Time on App",
          "Time on App",
          "Time on App",
          "Time on App",
          "Time on App",
          "Time on App",
          "Time on App",
          "Time on App",
          "Time on App",
          "Time on App",
          "Time on App",
          "Time on App",
          "Time on App",
          "Time on App",
          "Time on App",
          "Time on App",
          "Time on App",
          "Time on App",
          "Time on App",
          "Time on App",
          "Time on App",
          "Time on App",
          "Time on App",
          "Time on App",
          "Time on App",
          "Time on App",
          "Time on App",
          "Time on App",
          "Time on App",
          "Time on App",
          "Time on App",
          "Time on App",
          "Time on App",
          "Time on App",
          "Time on App",
          "Time on App",
          "Time on App",
          "Time on App",
          "Time on App",
          "Time on App",
          "Time on App",
          "Time on App",
          "Time on App",
          "Time on App",
          "Time on App",
          "Time on App",
          "Time on App",
          "Time on App",
          "Time on App",
          "Time on App",
          "Time on App",
          "Time on App",
          "Time on App",
          "Time on App",
          "Time on App",
          "Time on App",
          "Time on App",
          "Time on App",
          "Time on App",
          "Time on App",
          "Time on App",
          "Time on App",
          "Time on App",
          "Time on App",
          "Time on App",
          "Time on App",
          "Time on App",
          "Time on App",
          "Time on App",
          "Time on App",
          "Time on App",
          "Time on App",
          "Time on App",
          "Time on App",
          "Time on App",
          "Time on App",
          "Time on App",
          "Time on App",
          "Time on App",
          "Time on App",
          "Time on App",
          "Time on App",
          "Time on App",
          "Time on App",
          "Time on App",
          "Time on App",
          "Time on App",
          "Time on App",
          "Time on App",
          "Time on App",
          "Time on App",
          "Time on App",
          "Time on App",
          "Time on App",
          "Time on App",
          "Time on App",
          "Time on App",
          "Time on App",
          "Time on App",
          "Time on App",
          "Time on App",
          "Time on App",
          "Time on App",
          "Time on App",
          "Time on App",
          "Time on App",
          "Time on App",
          "Time on App",
          "Time on App",
          "Time on App",
          "Time on App",
          "Time on App",
          "Time on App",
          "Time on App",
          "Time on App",
          "Time on App",
          "Time on App",
          "Time on App",
          "Time on App",
          "Time on App",
          "Time on App",
          "Time on App",
          "Time on App",
          "Time on App",
          "Time on App",
          "Time on App",
          "Time on App",
          "Time on App",
          "Time on App",
          "Time on App",
          "Time on App",
          "Time on App",
          "Time on App",
          "Time on App",
          "Time on App",
          "Time on App",
          "Time on App",
          "Time on App",
          "Time on App",
          "Time on App",
          "Time on App",
          "Time on App",
          "Time on App",
          "Time on App",
          "Time on App",
          "Time on App",
          "Time on App",
          "Time on App",
          "Time on App",
          "Time on App",
          "Time on App",
          "Time on App",
          "Time on App",
          "Time on App",
          "Time on App",
          "Time on App",
          "Time on App",
          "Time on App",
          "Time on App",
          "Time on App",
          "Time on App",
          "Time on App",
          "Time on App",
          "Time on App",
          "Time on App",
          "Time on App",
          "Time on App",
          "Time on App",
          "Time on App",
          "Time on App",
          "Time on App",
          "Time on App",
          "Time on App",
          "Time on App",
          "Time on App",
          "Time on App",
          "Time on App",
          "Time on App",
          "Time on App",
          "Time on App",
          "Time on App",
          "Time on App",
          "Time on App",
          "Time on App",
          "Time on App",
          "Time on App",
          "Time on App",
          "Time on App",
          "Time on App",
          "Time on App",
          "Time on App",
          "Time on App",
          "Time on App",
          "Time on App",
          "Time on App",
          "Time on App",
          "Time on App",
          "Time on App",
          "Time on App",
          "Time on App",
          "Time on App",
          "Time on App",
          "Time on App",
          "Time on App",
          "Time on App",
          "Time on App",
          "Time on App",
          "Time on App",
          "Time on App",
          "Time on App",
          "Time on App",
          "Time on App",
          "Time on App",
          "Time on App",
          "Time on App",
          "Time on App",
          "Time on App",
          "Time on App",
          "Time on App",
          "Time on App",
          "Time on App",
          "Time on App",
          "Time on App",
          "Time on App",
          "Time on App",
          "Time on App",
          "Time on App",
          "Time on App",
          "Time on App",
          "Time on App",
          "Time on App",
          "Time on App",
          "Time on App",
          "Time on App",
          "Time on App",
          "Time on App",
          "Time on App",
          "Time on App",
          "Time on App",
          "Time on App",
          "Time on App",
          "Time on App",
          "Time on App",
          "Time on App",
          "Time on App",
          "Time on App",
          "Time on App",
          "Time on App",
          "Time on App",
          "Time on App",
          "Time on App",
          "Time on App",
          "Time on App",
          "Time on App",
          "Time on App",
          "Time on App",
          "Time on App",
          "Time on App",
          "Time on App",
          "Time on App",
          "Time on App",
          "Time on App",
          "Time on App",
          "Time on App",
          "Time on App",
          "Time on App",
          "Time on App",
          "Time on App",
          "Time on App",
          "Time on App",
          "Time on App",
          "Time on App",
          "Time on App",
          "Time on App",
          "Time on App",
          "Time on App",
          "Time on App",
          "Time on App",
          "Time on App",
          "Time on App",
          "Time on App",
          "Time on App",
          "Time on App",
          "Time on App",
          "Time on App",
          "Time on App",
          "Time on App",
          "Time on App",
          "Time on App",
          "Time on App",
          "Time on App",
          "Time on App",
          "Time on App",
          "Time on App",
          "Time on App",
          "Time on App",
          "Time on App",
          "Time on App",
          "Time on App",
          "Time on App",
          "Time on App",
          "Time on App",
          "Time on App",
          "Time on App",
          "Time on App",
          "Time on App",
          "Time on App",
          "Time on App",
          "Time on App",
          "Time on App",
          "Time on App",
          "Time on App",
          "Time on App",
          "Time on App",
          "Time on App",
          "Time on App",
          "Time on App",
          "Time on App",
          "Time on App",
          "Time on App",
          "Time on App",
          "Time on App",
          "Time on App",
          "Time on App",
          "Time on App",
          "Time on App",
          "Time on App",
          "Time on App",
          "Time on App",
          "Time on App",
          "Time on App",
          "Time on App",
          "Time on App",
          "Time on App",
          "Time on App",
          "Time on App"
         ],
         "xaxis": "x2",
         "y": {
          "bdata": "JhjoaNTVJ0A2Et7IO6UnQOBEH+Cr+itANvZF69l2JUDJouBjXXknQPVhIqLnhStAFAbY76VfKkDYzTPMy/clQPSbCQzd6ClADN54OgWfJ0AO4zuPGZAmQGQVPaYCzCRA8liWXK05J0CBa1aYGIgnQN2QjXNaPixAde4VQfM9J0AhW3UsJHEsQCGjX941YCpASSAEfapzJ0D9k6Zd2gMpQBdCis0JLydASUtqQvcYJ0AYFd5fyO8pQKt75El47ilAHpXuehxKKECfbArmsysqQNrtD5QHbyhAlrwu9jlmJkAgsFTkdOonQJhd4xDQXipA8hwZCgO9JUDTnoMZfzQnQL6HYN68BCdAP4d8+6vEKUCl9g5QXngnQA2RYoX3IiVA6H5eWcRnJkBg15oMj8kpQI+LdnTBBihA9Mv6q3VWJ0CV5NGNPmQpQLyp+p7VFSVAlFRIohWGJ0A2QdEMFKknQEhUCxE2WCpAd1kDIziOJ0BF0Y/KrVAnQNSYFqkKOCZAfJa6Ah4VKkC4pdrG/ooqQANdeyjJDShAWdvOqKQFKECZrMYbT1coQB4KNLi8dydAFLYvKoJ3JkBmO2femLUnQLpwfPNdbytAWi02D4+1KECSxTrs0HgmQInUuC6+/ShAJE7G8XpMKEASF0rH31QrQN5sWXtpFCxAPbkRGhfuJ0DnQjSXkvYmQPwT+iTBzyZA7CCSQ1qRKUCkKW33M7QoQGNiRFla8SVAtZ0+KPTcKUAcPtuSBfgnQIklHwcjaihAMcGxPHGcJkAirfn7uS0oQMlY9G/kdilA0QoTryRiJ0CHr8mliVMmQIA9gUMFWypArbpTD6XSJ0Bw5UFEn/QiQAC/EUAZdidAdFEzOMqKJUBflMjGEA4pQOTCmPEZ7ChAGcgRq4otJ0AoXk0vgtYoQCQRMdzUSSlAacmRhcOrJ0AOMN+inuIoQFp3jyXuUSpA+PEOtThAKUBIgn1t54UpQLWAHGBKKCpAV4yn4qOmKkCAs2xyfecqQJxj03SxFydAKSYI6+P5KECpwEQxFFMnQJVf12g8+CVAXd7ej+nhJEAGBa/+KlQpQMdYUldJwCVAaYKwaf5mJkBHq6fUom8pQFUwoNCUjypANx60jkEzKkB7D5Qr2QYqQAkKPuv0LCtAdNdnu1WHJ0BqUqLHdNYnQCc0UFdXjShAVp20mCQjKkAwasDULFAnQDw2Ai45ICdAiAyaO1rIK0ABQdYNnW8pQLBdsFGJ8SdAkGcGZVqDJEDhmu64sN8nQDzJMZYvESpACiaPCHLoI0BQqA/L/XMmQFykgHeSgidA5uKI1hujJ0Ctya+bH+0lQMppqKxlhydAGVff+4tzKUBCkBdog9soQIGWpj68pixAMzxaI9kgKEBzu54+TlsoQB1ud9w7IyhAn3uEQA3TJ0CdTXIBkrsmQGZzAfPrXilA6ZzOSFoDKUDWuf5urygkQNWtxRIyLCdAm8XVGcZuJUCIjKdrsHInQKc4A+8S1ihAKCO8qR+3J0BCiWM0OjApQCK2mzCOrSpAfrJM0niQKUCeJ4bv2jApQHvcvxP/5CVA2yM4nPLoI0DnTaNsqBAqQMwDRNPr8ihARS3hkrvwK0ATXXPl7fAmQL0W7aBy8SpAP70wnNVRJ0CclSEhYRMmQO1t3zGUCCZA6NzNc+rCKEDuFnBnpwcnQNXa1/0E9iRAopw3I7ocKUDz1DDHZtQpQLZ17wupnilA4Aqxy511KUDqrqCAeuInQKF9iPCm1idABe7MHzOBJ0CtABnKJ7MqQAuL1MA1FyhAbQVWYAY6JkAu2WTwoQQnQLKgjjAZriZAhKU8icyxJkB12RgvH+sqQJIFo82vVSZAGUnvcQfGJkDt+RX2VhArQDjLZVNosSlANDkmw6teJ0A5qZ3j5ygpQKy1upX1ySpA+s2uENo6KECtI1n1hagoQLDuo80/fyVABMUz/ecUJ0AyI6MCLEUoQPAN9qWRnSlAR9j5O9hDKEDtIq6LVRwoQJxLDP+wESVAybSXAIrwJUD5yISj1E4mQPcfnZKXxyVAYzkApnaTLECLs//pXQUmQBa6YrvCoyhAlm7p7rL4JUAVCXJ15cUoQFqkmGfW0ydArQUtgyD3KECMFJHWwJkqQBH9F+RYyiZADK3EQw3vJ0AmH2F1fpcnQIiu2pA1bihAqEEl3BqeK0DXPOQUhiMsQHT8I3Lg0StAqvEsaF1yJkBdkx1MwbUpQHcDNW0YMShAS7WtbKO7J0DBA6TBZoEqQHkTCohC1ClA74Mv6rdNJUDljq5bHDAoQPNrn7w7AipACNoRZTRwJUCwoqw0jFMkQFncAso6FCpAftffy7GEKUDwq0rJ4j0mQDHqYFNy1CpA1LCw0V0vK0DqgDmOGO8mQD6/jzvzRCdAJkL4a/zGJkDQjR4+090lQHv5GzOSQipAlg16oZTBJkDLt8xNL+wlQBPoIg1u3ydAwf74mc72J0A0r3uMBUYlQH3XPfkZEyVAoGWK7BUjJ0C+i2zwvNEmQFZD9GkXeSZAOH+EsxCVKkDzi3eB4OklQJBFKyXgIidAEBEmMrnOJ0AzwSKwA+coQIuzTO5tWyhAa4yXOOVEJUDogiOYaMgoQK6VtpcT4ilAUwdNMw4QJkCs/KQwZwcqQPMtG6oPpyhAxs8zKgsMJ0B5ESr0IpcpQOSpb6qi3ClAClJegh72KEDasyMHT9IqQGdQ4kZSVihA/5sQySHQJ0C5kMBy5XErQIwb+hsG4ypA0v3LIUwKKEBx3XUPcEkmQHmCh+fHXitA8Yxi8/E2I0CW2YMAHvopQI/YgV1lxipA0j62/Q9HKEB1r81Z044qQJc5JTnDIipAbWB7j6fkJ0B+C1joAAQqQDxPrsaNxidAIml8Vtc1KkAnNPMIXdosQIgsJf0XpiNAcqeHE8AVKUAhDk0v0S4nQLffBn2BeCVAfBMUnw51K0CEKcLISWgpQBZcgC8QgSlA3h7OOF5+JkAEL0uhwMUqQFBrbYnW/yVAhpIA26iUJEAvJQvmeI0qQMtBE82YdChAWOoexiVMKkCHAFAs1+IoQO4U0rJZdydAdq/bqqWRKECgiH8L61UpQAphVx7kLypAj820U3EGJEDkZslyOUonQCVb5Qe2+CVAk8byQDdGJkCh8ZKEG+woQEiNf46VMylAUeP5mk4rJkBUo3F4ycEoQPXQ/yn05CdAYW4mBxLoKUD159jQb0MkQLBZzq80QChAR9F1eAcDKECUtTqJ6rMnQNDc14SkYilApuNGcv7NKkARHEDlF/0oQN8yn+KCzChASz85MkwPJ0AO18RL/t4mQDv0cruw6SdAlBVyrN4TKEA/3HudGpwlQHopNmnHKypAaTdfRRL4I0D65S8OEVQpQKDGkzwLOCZA73Y5sSM+JkCVDHlhdXYnQF1ZzBHPyyZA6yUMqCqdJUCD50zU+zApQKIbMPjH1itAhk94uhBFJ0BhaQgNbPsoQLa54Az4+SlAAKZJnQqqJ0CdyVVqVggrQM14VvCwLSlA8WR1CuFrKUBhyxxH5qMkQHdQIj6YOCVAYdrvT+XIKUCq59ns8kYpQEndqa4f6ylANpZsHS7lKECS8w63ZKgpQMqQmqc5FChAIUhyFTJRKECOE8e4TBQoQIXHm4+CQSVAFCj9KjRnJkCnrhcJK7QnQMryE2cAlidABE+m78AZJ0BAO3XnQMgqQDDpHhFepSdADOx6BFdKKUCKF8KfwCkpQM6OifZTtytAhp3edgsnJkDCgRKcHrglQDyJJ6hKdydANqILjNCNKED+SCaMN2QnQOcgI+lpqipA2YR3KsoaJkCnOHhrIaonQA6KJsVuuidAoSY6gbFYJ0Bguk2m3D4nQAUI+l7LDShAMq87FIfBKUCAZXVc1FopQDlQiTPqUCdAHGqX+4q6KEDKtLZIN7EjQNfrPxkpAilAwdLDPO5yJ0Bx8Jqj8vElQOJoe0ky9yVArf8btSKhJEA3XC4le6EpQDRdVv8twiZAt5lZ5G1GKUDotYIvJLklQPYmmEpK2SdAyeQFAT3GKEBGjwF9oUwqQBVlQxIOKyhAxVQcRlmJJkA2rUyVJzclQCMEm1caJSVAHjstsryzJkAiZQljqnMpQLZl7BBeiiVAohsyiscgJ0CgOHQLbtYoQNUUUcUhuyZAvbOL2RvOJUCJZDLuNnUoQD5xhdiFYShA1IVUFp3pKUBgonSIGsYlQI8WfJwKRCxA108MbNblJkA=",
          "dtype": "f8"
         },
         "yaxis": "y2"
        },
        {
         "marker": {
          "color": "red",
          "opacity": 0.85,
          "size": 6
         },
         "mode": "markers",
         "name": "Ausreißer",
         "showlegend": false,
         "type": "scatter",
         "x": [
          "Time on App",
          "Time on App",
          "Time on App"
         ],
         "xaxis": "x2",
         "y": {
          "bdata": "wn5s6DFWIUDtSDplBUEuQAznooUsBCFA",
          "dtype": "f8"
         },
         "yaxis": "y2"
        },
        {
         "boxpoints": false,
         "name": "Time on Website",
         "showlegend": false,
         "type": "box",
         "xaxis": "x3",
         "y": {
          "bdata": "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",
          "dtype": "f8"
         },
         "yaxis": "y3"
        },
        {
         "marker": {
          "color": "blue",
          "opacity": 0.6,
          "size": 5
         },
         "mode": "markers",
         "name": "Normal",
         "showlegend": false,
         "type": "scatter",
         "x": [
          "Time on Website",
          "Time on Website",
          "Time on Website",
          "Time on Website",
          "Time on Website",
          "Time on Website",
          "Time on Website",
          "Time on Website",
          "Time on Website",
          "Time on Website",
          "Time on Website",
          "Time on Website",
          "Time on Website",
          "Time on Website",
          "Time on Website",
          "Time on Website",
          "Time on Website",
          "Time on Website",
          "Time on Website",
          "Time on Website",
          "Time on Website",
          "Time on Website",
          "Time on Website",
          "Time on Website",
          "Time on Website",
          "Time on Website",
          "Time on Website",
          "Time on Website",
          "Time on Website",
          "Time on Website",
          "Time on Website",
          "Time on Website",
          "Time on Website",
          "Time on Website",
          "Time on Website",
          "Time on Website",
          "Time on Website",
          "Time on Website",
          "Time on Website",
          "Time on Website",
          "Time on Website",
          "Time on Website",
          "Time on Website",
          "Time on Website",
          "Time on Website",
          "Time on Website",
          "Time on Website",
          "Time on Website",
          "Time on Website",
          "Time on Website",
          "Time on Website",
          "Time on Website",
          "Time on Website",
          "Time on Website",
          "Time on Website",
          "Time on Website",
          "Time on Website",
          "Time on Website",
          "Time on Website",
          "Time on Website",
          "Time on Website",
          "Time on Website",
          "Time on Website",
          "Time on Website",
          "Time on Website",
          "Time on Website",
          "Time on Website",
          "Time on Website",
          "Time on Website",
          "Time on Website",
          "Time on Website",
          "Time on Website",
          "Time on Website",
          "Time on Website",
          "Time on Website",
          "Time on Website",
          "Time on Website",
          "Time on Website",
          "Time on Website",
          "Time on Website",
          "Time on Website",
          "Time on Website",
          "Time on Website",
          "Time on Website",
          "Time on Website",
          "Time on Website",
          "Time on Website",
          "Time on Website",
          "Time on Website",
          "Time on Website",
          "Time on Website",
          "Time on Website",
          "Time on Website",
          "Time on Website",
          "Time on Website",
          "Time on Website",
          "Time on Website",
          "Time on Website",
          "Time on Website",
          "Time on Website",
          "Time on Website",
          "Time on Website",
          "Time on Website",
          "Time on Website",
          "Time on Website",
          "Time on Website",
          "Time on Website",
          "Time on Website",
          "Time on Website",
          "Time on Website",
          "Time on Website",
          "Time on Website",
          "Time on Website",
          "Time on Website",
          "Time on Website",
          "Time on Website",
          "Time on Website",
          "Time on Website",
          "Time on Website",
          "Time on Website",
          "Time on Website",
          "Time on Website",
          "Time on Website",
          "Time on Website",
          "Time on Website",
          "Time on Website",
          "Time on Website",
          "Time on Website",
          "Time on Website",
          "Time on Website",
          "Time on Website",
          "Time on Website",
          "Time on Website",
          "Time on Website",
          "Time on Website",
          "Time on Website",
          "Time on Website",
          "Time on Website",
          "Time on Website",
          "Time on Website",
          "Time on Website",
          "Time on Website",
          "Time on Website",
          "Time on Website",
          "Time on Website",
          "Time on Website",
          "Time on Website",
          "Time on Website",
          "Time on Website",
          "Time on Website",
          "Time on Website",
          "Time on Website",
          "Time on Website",
          "Time on Website",
          "Time on Website",
          "Time on Website",
          "Time on Website",
          "Time on Website",
          "Time on Website",
          "Time on Website",
          "Time on Website",
          "Time on Website",
          "Time on Website",
          "Time on Website",
          "Time on Website",
          "Time on Website",
          "Time on Website",
          "Time on Website",
          "Time on Website",
          "Time on Website",
          "Time on Website",
          "Time on Website",
          "Time on Website",
          "Time on Website",
          "Time on Website",
          "Time on Website",
          "Time on Website",
          "Time on Website",
          "Time on Website",
          "Time on Website",
          "Time on Website",
          "Time on Website",
          "Time on Website",
          "Time on Website",
          "Time on Website",
          "Time on Website",
          "Time on Website",
          "Time on Website",
          "Time on Website",
          "Time on Website",
          "Time on Website",
          "Time on Website",
          "Time on Website",
          "Time on Website",
          "Time on Website",
          "Time on Website",
          "Time on Website",
          "Time on Website",
          "Time on Website",
          "Time on Website",
          "Time on Website",
          "Time on Website",
          "Time on Website",
          "Time on Website",
          "Time on Website",
          "Time on Website",
          "Time on Website",
          "Time on Website",
          "Time on Website",
          "Time on Website",
          "Time on Website",
          "Time on Website",
          "Time on Website",
          "Time on Website",
          "Time on Website",
          "Time on Website",
          "Time on Website",
          "Time on Website",
          "Time on Website",
          "Time on Website",
          "Time on Website",
          "Time on Website",
          "Time on Website",
          "Time on Website",
          "Time on Website",
          "Time on Website",
          "Time on Website",
          "Time on Website",
          "Time on Website",
          "Time on Website",
          "Time on Website",
          "Time on Website",
          "Time on Website",
          "Time on Website",
          "Time on Website",
          "Time on Website",
          "Time on Website",
          "Time on Website",
          "Time on Website",
          "Time on Website",
          "Time on Website",
          "Time on Website",
          "Time on Website",
          "Time on Website",
          "Time on Website",
          "Time on Website",
          "Time on Website",
          "Time on Website",
          "Time on Website",
          "Time on Website",
          "Time on Website",
          "Time on Website",
          "Time on Website",
          "Time on Website",
          "Time on Website",
          "Time on Website",
          "Time on Website",
          "Time on Website",
          "Time on Website",
          "Time on Website",
          "Time on Website",
          "Time on Website",
          "Time on Website",
          "Time on Website",
          "Time on Website",
          "Time on Website",
          "Time on Website",
          "Time on Website",
          "Time on Website",
          "Time on Website",
          "Time on Website",
          "Time on Website",
          "Time on Website",
          "Time on Website",
          "Time on Website",
          "Time on Website",
          "Time on Website",
          "Time on Website",
          "Time on Website",
          "Time on Website",
          "Time on Website",
          "Time on Website",
          "Time on Website",
          "Time on Website",
          "Time on Website",
          "Time on Website",
          "Time on Website",
          "Time on Website",
          "Time on Website",
          "Time on Website",
          "Time on Website",
          "Time on Website",
          "Time on Website",
          "Time on Website",
          "Time on Website",
          "Time on Website",
          "Time on Website",
          "Time on Website",
          "Time on Website",
          "Time on Website",
          "Time on Website",
          "Time on Website",
          "Time on Website",
          "Time on Website",
          "Time on Website",
          "Time on Website",
          "Time on Website",
          "Time on Website",
          "Time on Website",
          "Time on Website",
          "Time on Website",
          "Time on Website",
          "Time on Website",
          "Time on Website",
          "Time on Website",
          "Time on Website",
          "Time on Website",
          "Time on Website",
          "Time on Website",
          "Time on Website",
          "Time on Website",
          "Time on Website",
          "Time on Website",
          "Time on Website",
          "Time on Website",
          "Time on Website",
          "Time on Website",
          "Time on Website",
          "Time on Website",
          "Time on Website",
          "Time on Website",
          "Time on Website",
          "Time on Website",
          "Time on Website",
          "Time on Website",
          "Time on Website",
          "Time on Website",
          "Time on Website",
          "Time on Website",
          "Time on Website",
          "Time on Website",
          "Time on Website",
          "Time on Website",
          "Time on Website",
          "Time on Website",
          "Time on Website",
          "Time on Website",
          "Time on Website",
          "Time on Website",
          "Time on Website",
          "Time on Website",
          "Time on Website",
          "Time on Website",
          "Time on Website",
          "Time on Website",
          "Time on Website",
          "Time on Website",
          "Time on Website",
          "Time on Website",
          "Time on Website",
          "Time on Website",
          "Time on Website",
          "Time on Website",
          "Time on Website",
          "Time on Website",
          "Time on Website",
          "Time on Website",
          "Time on Website",
          "Time on Website",
          "Time on Website",
          "Time on Website",
          "Time on Website",
          "Time on Website",
          "Time on Website",
          "Time on Website",
          "Time on Website",
          "Time on Website",
          "Time on Website",
          "Time on Website",
          "Time on Website",
          "Time on Website",
          "Time on Website",
          "Time on Website",
          "Time on Website",
          "Time on Website",
          "Time on Website",
          "Time on Website",
          "Time on Website",
          "Time on Website",
          "Time on Website",
          "Time on Website",
          "Time on Website",
          "Time on Website",
          "Time on Website",
          "Time on Website",
          "Time on Website",
          "Time on Website",
          "Time on Website",
          "Time on Website"
         ],
         "xaxis": "x3",
         "y": {
          "bdata": "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",
          "dtype": "f8"
         },
         "yaxis": "y3"
        },
        {
         "marker": {
          "color": "red",
          "opacity": 0.85,
          "size": 6
         },
         "mode": "markers",
         "name": "Ausreißer",
         "showlegend": false,
         "type": "scatter",
         "x": [
          "Time on Website"
         ],
         "xaxis": "x3",
         "y": {
          "bdata": "NPVU8vj0QEA=",
          "dtype": "f8"
         },
         "yaxis": "y3"
        },
        {
         "boxpoints": false,
         "name": "Length of Membership",
         "showlegend": false,
         "type": "box",
         "xaxis": "x4",
         "y": {
          "bdata": "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",
          "dtype": "f8"
         },
         "yaxis": "y4"
        },
        {
         "marker": {
          "color": "blue",
          "opacity": 0.6,
          "size": 5
         },
         "mode": "markers",
         "name": "Normal",
         "showlegend": false,
         "type": "scatter",
         "x": [
          "Length of Membership",
          "Length of Membership",
          "Length of Membership",
          "Length of Membership",
          "Length of Membership",
          "Length of Membership",
          "Length of Membership",
          "Length of Membership",
          "Length of Membership",
          "Length of Membership",
          "Length of Membership",
          "Length of Membership",
          "Length of Membership",
          "Length of Membership",
          "Length of Membership",
          "Length of Membership",
          "Length of Membership",
          "Length of Membership",
          "Length of Membership",
          "Length of Membership",
          "Length of Membership",
          "Length of Membership",
          "Length of Membership",
          "Length of Membership",
          "Length of Membership",
          "Length of Membership",
          "Length of Membership",
          "Length of Membership",
          "Length of Membership",
          "Length of Membership",
          "Length of Membership",
          "Length of Membership",
          "Length of Membership",
          "Length of Membership",
          "Length of Membership",
          "Length of Membership",
          "Length of Membership",
          "Length of Membership",
          "Length of Membership",
          "Length of Membership",
          "Length of Membership",
          "Length of Membership",
          "Length of Membership",
          "Length of Membership",
          "Length of Membership",
          "Length of Membership",
          "Length of Membership",
          "Length of Membership",
          "Length of Membership",
          "Length of Membership",
          "Length of Membership",
          "Length of Membership",
          "Length of Membership",
          "Length of Membership",
          "Length of Membership",
          "Length of Membership",
          "Length of Membership",
          "Length of Membership",
          "Length of Membership",
          "Length of Membership",
          "Length of Membership",
          "Length of Membership",
          "Length of Membership",
          "Length of Membership",
          "Length of Membership",
          "Length of Membership",
          "Length of Membership",
          "Length of Membership",
          "Length of Membership",
          "Length of Membership",
          "Length of Membership",
          "Length of Membership",
          "Length of Membership",
          "Length of Membership",
          "Length of Membership",
          "Length of Membership",
          "Length of Membership",
          "Length of Membership",
          "Length of Membership",
          "Length of Membership",
          "Length of Membership",
          "Length of Membership",
          "Length of Membership",
          "Length of Membership",
          "Length of Membership",
          "Length of Membership",
          "Length of Membership",
          "Length of Membership",
          "Length of Membership",
          "Length of Membership",
          "Length of Membership",
          "Length of Membership",
          "Length of Membership",
          "Length of Membership",
          "Length of Membership",
          "Length of Membership",
          "Length of Membership",
          "Length of Membership",
          "Length of Membership",
          "Length of Membership",
          "Length of Membership",
          "Length of Membership",
          "Length of Membership",
          "Length of Membership",
          "Length of Membership",
          "Length of Membership",
          "Length of Membership",
          "Length of Membership",
          "Length of Membership",
          "Length of Membership",
          "Length of Membership",
          "Length of Membership",
          "Length of Membership",
          "Length of Membership",
          "Length of Membership",
          "Length of Membership",
          "Length of Membership",
          "Length of Membership",
          "Length of Membership",
          "Length of Membership",
          "Length of Membership",
          "Length of Membership",
          "Length of Membership",
          "Length of Membership",
          "Length of Membership",
          "Length of Membership",
          "Length of Membership",
          "Length of Membership",
          "Length of Membership",
          "Length of Membership",
          "Length of Membership",
          "Length of Membership",
          "Length of Membership",
          "Length of Membership",
          "Length of Membership",
          "Length of Membership",
          "Length of Membership",
          "Length of Membership",
          "Length of Membership",
          "Length of Membership",
          "Length of Membership",
          "Length of Membership",
          "Length of Membership",
          "Length of Membership",
          "Length of Membership",
          "Length of Membership",
          "Length of Membership",
          "Length of Membership",
          "Length of Membership",
          "Length of Membership",
          "Length of Membership",
          "Length of Membership",
          "Length of Membership",
          "Length of Membership",
          "Length of Membership",
          "Length of Membership",
          "Length of Membership",
          "Length of Membership",
          "Length of Membership",
          "Length of Membership",
          "Length of Membership",
          "Length of Membership",
          "Length of Membership",
          "Length of Membership",
          "Length of Membership",
          "Length of Membership",
          "Length of Membership",
          "Length of Membership",
          "Length of Membership",
          "Length of Membership",
          "Length of Membership",
          "Length of Membership",
          "Length of Membership",
          "Length of Membership",
          "Length of Membership",
          "Length of Membership",
          "Length of Membership",
          "Length of Membership",
          "Length of Membership",
          "Length of Membership",
          "Length of Membership",
          "Length of Membership",
          "Length of Membership",
          "Length of Membership",
          "Length of Membership",
          "Length of Membership",
          "Length of Membership",
          "Length of Membership",
          "Length of Membership",
          "Length of Membership",
          "Length of Membership",
          "Length of Membership",
          "Length of Membership",
          "Length of Membership",
          "Length of Membership",
          "Length of Membership",
          "Length of Membership",
          "Length of Membership",
          "Length of Membership",
          "Length of Membership",
          "Length of Membership",
          "Length of Membership",
          "Length of Membership",
          "Length of Membership",
          "Length of Membership",
          "Length of Membership",
          "Length of Membership",
          "Length of Membership",
          "Length of Membership",
          "Length of Membership",
          "Length of Membership",
          "Length of Membership",
          "Length of Membership",
          "Length of Membership",
          "Length of Membership",
          "Length of Membership",
          "Length of Membership",
          "Length of Membership",
          "Length of Membership",
          "Length of Membership",
          "Length of Membership",
          "Length of Membership",
          "Length of Membership",
          "Length of Membership",
          "Length of Membership",
          "Length of Membership",
          "Length of Membership",
          "Length of Membership",
          "Length of Membership",
          "Length of Membership",
          "Length of Membership",
          "Length of Membership",
          "Length of Membership",
          "Length of Membership",
          "Length of Membership",
          "Length of Membership",
          "Length of Membership",
          "Length of Membership",
          "Length of Membership",
          "Length of Membership",
          "Length of Membership",
          "Length of Membership",
          "Length of Membership",
          "Length of Membership",
          "Length of Membership",
          "Length of Membership",
          "Length of Membership",
          "Length of Membership",
          "Length of Membership",
          "Length of Membership",
          "Length of Membership",
          "Length of Membership",
          "Length of Membership",
          "Length of Membership",
          "Length of Membership",
          "Length of Membership",
          "Length of Membership",
          "Length of Membership",
          "Length of Membership",
          "Length of Membership",
          "Length of Membership",
          "Length of Membership",
          "Length of Membership",
          "Length of Membership",
          "Length of Membership",
          "Length of Membership",
          "Length of Membership",
          "Length of Membership",
          "Length of Membership",
          "Length of Membership",
          "Length of Membership",
          "Length of Membership",
          "Length of Membership",
          "Length of Membership",
          "Length of Membership",
          "Length of Membership",
          "Length of Membership",
          "Length of Membership",
          "Length of Membership",
          "Length of Membership",
          "Length of Membership",
          "Length of Membership",
          "Length of Membership",
          "Length of Membership",
          "Length of Membership",
          "Length of Membership",
          "Length of Membership",
          "Length of Membership",
          "Length of Membership",
          "Length of Membership",
          "Length of Membership",
          "Length of Membership",
          "Length of Membership",
          "Length of Membership",
          "Length of Membership",
          "Length of Membership",
          "Length of Membership",
          "Length of Membership",
          "Length of Membership",
          "Length of Membership",
          "Length of Membership",
          "Length of Membership",
          "Length of Membership",
          "Length of Membership",
          "Length of Membership",
          "Length of Membership",
          "Length of Membership",
          "Length of Membership",
          "Length of Membership",
          "Length of Membership",
          "Length of Membership",
          "Length of Membership",
          "Length of Membership",
          "Length of Membership",
          "Length of Membership",
          "Length of Membership",
          "Length of Membership",
          "Length of Membership",
          "Length of Membership",
          "Length of Membership",
          "Length of Membership",
          "Length of Membership",
          "Length of Membership",
          "Length of Membership",
          "Length of Membership",
          "Length of Membership",
          "Length of Membership",
          "Length of Membership",
          "Length of Membership",
          "Length of Membership",
          "Length of Membership",
          "Length of Membership",
          "Length of Membership",
          "Length of Membership",
          "Length of Membership",
          "Length of Membership",
          "Length of Membership",
          "Length of Membership",
          "Length of Membership",
          "Length of Membership",
          "Length of Membership",
          "Length of Membership",
          "Length of Membership",
          "Length of Membership",
          "Length of Membership",
          "Length of Membership",
          "Length of Membership",
          "Length of Membership",
          "Length of Membership",
          "Length of Membership",
          "Length of Membership",
          "Length of Membership",
          "Length of Membership",
          "Length of Membership",
          "Length of Membership",
          "Length of Membership",
          "Length of Membership",
          "Length of Membership",
          "Length of Membership",
          "Length of Membership",
          "Length of Membership",
          "Length of Membership",
          "Length of Membership",
          "Length of Membership",
          "Length of Membership",
          "Length of Membership",
          "Length of Membership",
          "Length of Membership",
          "Length of Membership",
          "Length of Membership",
          "Length of Membership",
          "Length of Membership",
          "Length of Membership",
          "Length of Membership",
          "Length of Membership",
          "Length of Membership",
          "Length of Membership",
          "Length of Membership",
          "Length of Membership",
          "Length of Membership",
          "Length of Membership",
          "Length of Membership",
          "Length of Membership",
          "Length of Membership",
          "Length of Membership",
          "Length of Membership",
          "Length of Membership",
          "Length of Membership"
         ],
         "xaxis": "x4",
         "y": {
          "bdata": "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",
          "dtype": "f8"
         },
         "yaxis": "y4"
        },
        {
         "marker": {
          "color": "red",
          "opacity": 0.85,
          "size": 6
         },
         "mode": "markers",
         "name": "Ausreißer",
         "showlegend": false,
         "type": "scatter",
         "x": [
          "Length of Membership",
          "Length of Membership",
          "Length of Membership",
          "Length of Membership",
          "Length of Membership",
          "Length of Membership",
          "Length of Membership",
          "Length of Membership",
          "Length of Membership",
          "Length of Membership",
          "Length of Membership",
          "Length of Membership"
         ],
         "xaxis": "x4",
         "y": {
          "bdata": "GuGYSn5OGEAaYxl51bAbQMyR/EC/Q+k/EMioOA9G0T/bSmK29nUYQD79XgJvFvI/J3koz8n37T98PGMedlrxPxdiqc7z/u4/2h9U5zXoF0BkXoK725oZQDzlaSW6OfI/",
          "dtype": "f8"
         },
         "yaxis": "y4"
        }
       ],
       "layout": {
        "annotations": [
         {
          "font": {
           "size": 16
          },
          "showarrow": false,
          "text": "Avg. Session Length",
          "x": 0.225,
          "xanchor": "center",
          "xref": "paper",
          "y": 1,
          "yanchor": "bottom",
          "yref": "paper"
         },
         {
          "font": {
           "size": 16
          },
          "showarrow": false,
          "text": "Time on App",
          "x": 0.775,
          "xanchor": "center",
          "xref": "paper",
          "y": 1,
          "yanchor": "bottom",
          "yref": "paper"
         },
         {
          "font": {
           "size": 16
          },
          "showarrow": false,
          "text": "Time on Website",
          "x": 0.225,
          "xanchor": "center",
          "xref": "paper",
          "y": 0.375,
          "yanchor": "bottom",
          "yref": "paper"
         },
         {
          "font": {
           "size": 16
          },
          "showarrow": false,
          "text": "Length of Membership",
          "x": 0.775,
          "xanchor": "center",
          "xref": "paper",
          "y": 0.375,
          "yanchor": "bottom",
          "yref": "paper"
         }
        ],
        "height": 600,
        "margin": {
         "b": 40,
         "l": 40,
         "r": 20,
         "t": 60
        },
        "showlegend": true,
        "template": {
         "data": {
          "bar": [
           {
            "error_x": {
             "color": "#2a3f5f"
            },
            "error_y": {
             "color": "#2a3f5f"
            },
            "marker": {
             "line": {
              "color": "#E5ECF6",
              "width": 0.5
             },
             "pattern": {
              "fillmode": "overlay",
              "size": 10,
              "solidity": 0.2
             }
            },
            "type": "bar"
           }
          ],
          "barpolar": [
           {
            "marker": {
             "line": {
              "color": "#E5ECF6",
              "width": 0.5
             },
             "pattern": {
              "fillmode": "overlay",
              "size": 10,
              "solidity": 0.2
             }
            },
            "type": "barpolar"
           }
          ],
          "carpet": [
           {
            "aaxis": {
             "endlinecolor": "#2a3f5f",
             "gridcolor": "white",
             "linecolor": "white",
             "minorgridcolor": "white",
             "startlinecolor": "#2a3f5f"
            },
            "baxis": {
             "endlinecolor": "#2a3f5f",
             "gridcolor": "white",
             "linecolor": "white",
             "minorgridcolor": "white",
             "startlinecolor": "#2a3f5f"
            },
            "type": "carpet"
           }
          ],
          "choropleth": [
           {
            "colorbar": {
             "outlinewidth": 0,
             "ticks": ""
            },
            "type": "choropleth"
           }
          ],
          "contour": [
           {
            "colorbar": {
             "outlinewidth": 0,
             "ticks": ""
            },
            "colorscale": [
             [
              0,
              "#0d0887"
             ],
             [
              0.1111111111111111,
              "#46039f"
             ],
             [
              0.2222222222222222,
              "#7201a8"
             ],
             [
              0.3333333333333333,
              "#9c179e"
             ],
             [
              0.4444444444444444,
              "#bd3786"
             ],
             [
              0.5555555555555556,
              "#d8576b"
             ],
             [
              0.6666666666666666,
              "#ed7953"
             ],
             [
              0.7777777777777778,
              "#fb9f3a"
             ],
             [
              0.8888888888888888,
              "#fdca26"
             ],
             [
              1,
              "#f0f921"
             ]
            ],
            "type": "contour"
           }
          ],
          "contourcarpet": [
           {
            "colorbar": {
             "outlinewidth": 0,
             "ticks": ""
            },
            "type": "contourcarpet"
           }
          ],
          "heatmap": [
           {
            "colorbar": {
             "outlinewidth": 0,
             "ticks": ""
            },
            "colorscale": [
             [
              0,
              "#0d0887"
             ],
             [
              0.1111111111111111,
              "#46039f"
             ],
             [
              0.2222222222222222,
              "#7201a8"
             ],
             [
              0.3333333333333333,
              "#9c179e"
             ],
             [
              0.4444444444444444,
              "#bd3786"
             ],
             [
              0.5555555555555556,
              "#d8576b"
             ],
             [
              0.6666666666666666,
              "#ed7953"
             ],
             [
              0.7777777777777778,
              "#fb9f3a"
             ],
             [
              0.8888888888888888,
              "#fdca26"
             ],
             [
              1,
              "#f0f921"
             ]
            ],
            "type": "heatmap"
           }
          ],
          "histogram": [
           {
            "marker": {
             "pattern": {
              "fillmode": "overlay",
              "size": 10,
              "solidity": 0.2
             }
            },
            "type": "histogram"
           }
          ],
          "histogram2d": [
           {
            "colorbar": {
             "outlinewidth": 0,
             "ticks": ""
            },
            "colorscale": [
             [
              0,
              "#0d0887"
             ],
             [
              0.1111111111111111,
              "#46039f"
             ],
             [
              0.2222222222222222,
              "#7201a8"
             ],
             [
              0.3333333333333333,
              "#9c179e"
             ],
             [
              0.4444444444444444,
              "#bd3786"
             ],
             [
              0.5555555555555556,
              "#d8576b"
             ],
             [
              0.6666666666666666,
              "#ed7953"
             ],
             [
              0.7777777777777778,
              "#fb9f3a"
             ],
             [
              0.8888888888888888,
              "#fdca26"
             ],
             [
              1,
              "#f0f921"
             ]
            ],
            "type": "histogram2d"
           }
          ],
          "histogram2dcontour": [
           {
            "colorbar": {
             "outlinewidth": 0,
             "ticks": ""
            },
            "colorscale": [
             [
              0,
              "#0d0887"
             ],
             [
              0.1111111111111111,
              "#46039f"
             ],
             [
              0.2222222222222222,
              "#7201a8"
             ],
             [
              0.3333333333333333,
              "#9c179e"
             ],
             [
              0.4444444444444444,
              "#bd3786"
             ],
             [
              0.5555555555555556,
              "#d8576b"
             ],
             [
              0.6666666666666666,
              "#ed7953"
             ],
             [
              0.7777777777777778,
              "#fb9f3a"
             ],
             [
              0.8888888888888888,
              "#fdca26"
             ],
             [
              1,
              "#f0f921"
             ]
            ],
            "type": "histogram2dcontour"
           }
          ],
          "mesh3d": [
           {
            "colorbar": {
             "outlinewidth": 0,
             "ticks": ""
            },
            "type": "mesh3d"
           }
          ],
          "parcoords": [
           {
            "line": {
             "colorbar": {
              "outlinewidth": 0,
              "ticks": ""
             }
            },
            "type": "parcoords"
           }
          ],
          "pie": [
           {
            "automargin": true,
            "type": "pie"
           }
          ],
          "scatter": [
           {
            "fillpattern": {
             "fillmode": "overlay",
             "size": 10,
             "solidity": 0.2
            },
            "type": "scatter"
           }
          ],
          "scatter3d": [
           {
            "line": {
             "colorbar": {
              "outlinewidth": 0,
              "ticks": ""
             }
            },
            "marker": {
             "colorbar": {
              "outlinewidth": 0,
              "ticks": ""
             }
            },
            "type": "scatter3d"
           }
          ],
          "scattercarpet": [
           {
            "marker": {
             "colorbar": {
              "outlinewidth": 0,
              "ticks": ""
             }
            },
            "type": "scattercarpet"
           }
          ],
          "scattergeo": [
           {
            "marker": {
             "colorbar": {
              "outlinewidth": 0,
              "ticks": ""
             }
            },
            "type": "scattergeo"
           }
          ],
          "scattergl": [
           {
            "marker": {
             "colorbar": {
              "outlinewidth": 0,
              "ticks": ""
             }
            },
            "type": "scattergl"
           }
          ],
          "scattermap": [
           {
            "marker": {
             "colorbar": {
              "outlinewidth": 0,
              "ticks": ""
             }
            },
            "type": "scattermap"
           }
          ],
          "scattermapbox": [
           {
            "marker": {
             "colorbar": {
              "outlinewidth": 0,
              "ticks": ""
             }
            },
            "type": "scattermapbox"
           }
          ],
          "scatterpolar": [
           {
            "marker": {
             "colorbar": {
              "outlinewidth": 0,
              "ticks": ""
             }
            },
            "type": "scatterpolar"
           }
          ],
          "scatterpolargl": [
           {
            "marker": {
             "colorbar": {
              "outlinewidth": 0,
              "ticks": ""
             }
            },
            "type": "scatterpolargl"
           }
          ],
          "scatterternary": [
           {
            "marker": {
             "colorbar": {
              "outlinewidth": 0,
              "ticks": ""
             }
            },
            "type": "scatterternary"
           }
          ],
          "surface": [
           {
            "colorbar": {
             "outlinewidth": 0,
             "ticks": ""
            },
            "colorscale": [
             [
              0,
              "#0d0887"
             ],
             [
              0.1111111111111111,
              "#46039f"
             ],
             [
              0.2222222222222222,
              "#7201a8"
             ],
             [
              0.3333333333333333,
              "#9c179e"
             ],
             [
              0.4444444444444444,
              "#bd3786"
             ],
             [
              0.5555555555555556,
              "#d8576b"
             ],
             [
              0.6666666666666666,
              "#ed7953"
             ],
             [
              0.7777777777777778,
              "#fb9f3a"
             ],
             [
              0.8888888888888888,
              "#fdca26"
             ],
             [
              1,
              "#f0f921"
             ]
            ],
            "type": "surface"
           }
          ],
          "table": [
           {
            "cells": {
             "fill": {
              "color": "#EBF0F8"
             },
             "line": {
              "color": "white"
             }
            },
            "header": {
             "fill": {
              "color": "#C8D4E3"
             },
             "line": {
              "color": "white"
             }
            },
            "type": "table"
           }
          ]
         },
         "layout": {
          "annotationdefaults": {
           "arrowcolor": "#2a3f5f",
           "arrowhead": 0,
           "arrowwidth": 1
          },
          "autotypenumbers": "strict",
          "coloraxis": {
           "colorbar": {
            "outlinewidth": 0,
            "ticks": ""
           }
          },
          "colorscale": {
           "diverging": [
            [
             0,
             "#8e0152"
            ],
            [
             0.1,
             "#c51b7d"
            ],
            [
             0.2,
             "#de77ae"
            ],
            [
             0.3,
             "#f1b6da"
            ],
            [
             0.4,
             "#fde0ef"
            ],
            [
             0.5,
             "#f7f7f7"
            ],
            [
             0.6,
             "#e6f5d0"
            ],
            [
             0.7,
             "#b8e186"
            ],
            [
             0.8,
             "#7fbc41"
            ],
            [
             0.9,
             "#4d9221"
            ],
            [
             1,
             "#276419"
            ]
           ],
           "sequential": [
            [
             0,
             "#0d0887"
            ],
            [
             0.1111111111111111,
             "#46039f"
            ],
            [
             0.2222222222222222,
             "#7201a8"
            ],
            [
             0.3333333333333333,
             "#9c179e"
            ],
            [
             0.4444444444444444,
             "#bd3786"
            ],
            [
             0.5555555555555556,
             "#d8576b"
            ],
            [
             0.6666666666666666,
             "#ed7953"
            ],
            [
             0.7777777777777778,
             "#fb9f3a"
            ],
            [
             0.8888888888888888,
             "#fdca26"
            ],
            [
             1,
             "#f0f921"
            ]
           ],
           "sequentialminus": [
            [
             0,
             "#0d0887"
            ],
            [
             0.1111111111111111,
             "#46039f"
            ],
            [
             0.2222222222222222,
             "#7201a8"
            ],
            [
             0.3333333333333333,
             "#9c179e"
            ],
            [
             0.4444444444444444,
             "#bd3786"
            ],
            [
             0.5555555555555556,
             "#d8576b"
            ],
            [
             0.6666666666666666,
             "#ed7953"
            ],
            [
             0.7777777777777778,
             "#fb9f3a"
            ],
            [
             0.8888888888888888,
             "#fdca26"
            ],
            [
             1,
             "#f0f921"
            ]
           ]
          },
          "colorway": [
           "#636efa",
           "#EF553B",
           "#00cc96",
           "#ab63fa",
           "#FFA15A",
           "#19d3f3",
           "#FF6692",
           "#B6E880",
           "#FF97FF",
           "#FECB52"
          ],
          "font": {
           "color": "#2a3f5f"
          },
          "geo": {
           "bgcolor": "white",
           "lakecolor": "white",
           "landcolor": "#E5ECF6",
           "showlakes": true,
           "showland": true,
           "subunitcolor": "white"
          },
          "hoverlabel": {
           "align": "left"
          },
          "hovermode": "closest",
          "mapbox": {
           "style": "light"
          },
          "paper_bgcolor": "white",
          "plot_bgcolor": "#E5ECF6",
          "polar": {
           "angularaxis": {
            "gridcolor": "white",
            "linecolor": "white",
            "ticks": ""
           },
           "bgcolor": "#E5ECF6",
           "radialaxis": {
            "gridcolor": "white",
            "linecolor": "white",
            "ticks": ""
           }
          },
          "scene": {
           "xaxis": {
            "backgroundcolor": "#E5ECF6",
            "gridcolor": "white",
            "gridwidth": 2,
            "linecolor": "white",
            "showbackground": true,
            "ticks": "",
            "zerolinecolor": "white"
           },
           "yaxis": {
            "backgroundcolor": "#E5ECF6",
            "gridcolor": "white",
            "gridwidth": 2,
            "linecolor": "white",
            "showbackground": true,
            "ticks": "",
            "zerolinecolor": "white"
           },
           "zaxis": {
            "backgroundcolor": "#E5ECF6",
            "gridcolor": "white",
            "gridwidth": 2,
            "linecolor": "white",
            "showbackground": true,
            "ticks": "",
            "zerolinecolor": "white"
           }
          },
          "shapedefaults": {
           "line": {
            "color": "#2a3f5f"
           }
          },
          "ternary": {
           "aaxis": {
            "gridcolor": "white",
            "linecolor": "white",
            "ticks": ""
           },
           "baxis": {
            "gridcolor": "white",
            "linecolor": "white",
            "ticks": ""
           },
           "bgcolor": "#E5ECF6",
           "caxis": {
            "gridcolor": "white",
            "linecolor": "white",
            "ticks": ""
           }
          },
          "title": {
           "x": 0.05
          },
          "xaxis": {
           "automargin": true,
           "gridcolor": "white",
           "linecolor": "white",
           "ticks": "",
           "title": {
            "standoff": 15
           },
           "zerolinecolor": "white",
           "zerolinewidth": 2
          },
          "yaxis": {
           "automargin": true,
           "gridcolor": "white",
           "linecolor": "white",
           "ticks": "",
           "title": {
            "standoff": 15
           },
           "zerolinecolor": "white",
           "zerolinewidth": 2
          }
         }
        },
        "title": {
         "text": "Boxplots mit Ausreißer (X_train)"
        },
        "width": 640,
        "xaxis": {
         "anchor": "y",
         "domain": [
          0,
          0.45
         ]
        },
        "xaxis2": {
         "anchor": "y2",
         "domain": [
          0.55,
          1
         ]
        },
        "xaxis3": {
         "anchor": "y3",
         "domain": [
          0,
          0.45
         ]
        },
        "xaxis4": {
         "anchor": "y4",
         "domain": [
          0.55,
          1
         ]
        },
        "yaxis": {
         "anchor": "x",
         "domain": [
          0.625,
          1
         ]
        },
        "yaxis2": {
         "anchor": "x2",
         "domain": [
          0.625,
          1
         ]
        },
        "yaxis3": {
         "anchor": "x3",
         "domain": [
          0,
          0.375
         ]
        },
        "yaxis4": {
         "anchor": "x4",
         "domain": [
          0,
          0.375
         ]
        }
       }
      }
     },
     "metadata": {},
     "output_type": "display_data"
    }
   ],
   "source": [
    "from outliers import plot_box_outliers_matrix\n",
    "\n",
    "fig5, _ = plot_box_outliers_matrix(\n",
    "    X_train, columns=num_cols, bounds=iqr_info,\n",
    "    title=\"Boxplots mit Ausreißer (X_train)\"\n",
    ")\n",
    "\n",
    "fig5"
   ]
  },
  {
   "cell_type": "markdown",
   "metadata": {},
   "source": [
    "Wir sehen deutlich das Ausreißer vorhanden sind, diese müssen wir behandeln. Dazu erstelle nwir eine Funktion, mit der wir alle notwendigen Informationen über Ausreißer erhalten:"
   ]
  },
  {
   "cell_type": "code",
   "execution_count": 11,
   "metadata": {},
   "outputs": [
    {
     "data": {
      "application/vnd.microsoft.datawrangler.viewer.v0+json": {
       "columns": [
        {
         "name": "index",
         "rawType": "int64",
         "type": "integer"
        },
        {
         "name": "Email",
         "rawType": "object",
         "type": "string"
        },
        {
         "name": "Address",
         "rawType": "object",
         "type": "string"
        },
        {
         "name": "Avatar",
         "rawType": "object",
         "type": "string"
        },
        {
         "name": "Avg. Session Length",
         "rawType": "float64",
         "type": "float"
        },
        {
         "name": "Time on App",
         "rawType": "float64",
         "type": "float"
        },
        {
         "name": "Time on Website",
         "rawType": "float64",
         "type": "float"
        },
        {
         "name": "Length of Membership",
         "rawType": "float64",
         "type": "float"
        }
       ],
       "ref": "f9906c48-1aca-4cf7-b3cf-d89ef2595ea7",
       "rows": [
        [
         "249",
         "anntaylor@hotmail.com",
         "PSC 1634, Box 8167\nAPO AA 49814",
         "Teal",
         "33.780156763295054",
         "11.91763618310149",
         "36.84473381504451",
         "3.634996006306897"
        ],
        [
         "433",
         "efoster@williamson-boyd.org",
         "4968 Bennett Manors\nRogerschester, IL 81579-8333",
         "Lavender",
         "34.27824787999725",
         "11.822721745594304",
         "36.30854529439036",
         "2.11738254152726"
        ],
        [
         "19",
         "samuel46@love-west.net",
         "544 Alexander Heights Suite 768\nNorth Johnview, MT 57912",
         "LightSeaGreen",
         "32.61785606282345",
         "13.989592555825254",
         "37.19050380039796",
         "4.064548550437977"
        ],
        [
         "322",
         "suzanne63@gmail.com",
         "229 Eric Mountains\nNew Caleb, PA 00396",
         "LightSalmon",
         "33.26463207316392",
         "10.732131340303663",
         "36.14579171248221",
         "4.086566338485993"
        ],
        [
         "332",
         "davisbriana@gmail.com",
         "15298 Erickson Shore Apt. 056\nSouth Patrickfort, MD 16503-3145",
         "MediumVioletRed",
         "33.14423399987652",
         "11.73704063527238",
         "37.93518904595916",
         "2.190132185380053"
        ],
        [
         "56",
         "gregoryholmes@hotmail.com",
         "2891 Martin Plain Suite 197\nMelaniestad, NE 65650-8529",
         "DarkSalmon",
         "32.68822929602445",
         "13.761532847115612",
         "39.25293095040623",
         "2.995761182613056"
        ],
        [
         "301",
         "javier02@landry.net",
         "Unit 7029 Box 3429\nDPO AE 56975",
         "CadetBlue",
         "33.0264203526517",
         "13.18681287300118",
         "38.06692960186935",
         "2.898299577888636"
        ],
        [
         "229",
         "lucastaylor@yahoo.com",
         "63872 Chavez Lodge\nDanielton, NJ 85847",
         "MediumTurquoise",
         "33.94624061993669",
         "10.9839767277944",
         "37.9514894585739",
         "3.0507129732180167"
        ],
        [
         "331",
         "stephaniehill@hotmail.com",
         "8248 Parker Overpass Apt. 024\nLake Pamela, WY 44322-1735",
         "Wheat",
         "32.27459383033916",
         "12.954811454937932",
         "37.1088163801084",
         "3.689916615447592"
        ],
        [
         "132",
         "krista86@norton.net",
         "0537 Rice Village\nWest Kylieberg, NJ 19433-5090",
         "Azure",
         "34.31216699740784",
         "11.810586764578169",
         "37.41413357473937",
         "2.473596120847858"
        ],
        [
         "137",
         "ashleychristopher@gmail.com",
         "9271 Christopher Prairie\nDouglasshire, NM 18581",
         "MediumOrchid",
         "34.558294609144475",
         "11.28144500356714",
         "36.4944064828881",
         "2.491671541288354"
        ],
        [
         "423",
         "dana59@hotmail.com",
         "31927 Jill Mountain\nSouth Jessica, MN 63418",
         "Blue",
         "33.12869268643142",
         "10.39845771308564",
         "36.68339299807869",
         "3.859817998874009"
        ],
        [
         "335",
         "anneingram@miller-alexander.com",
         "4301 Park Lake Apt. 158\nSpencertown, SD 45934",
         "HoneyDew",
         "32.13386240984833",
         "11.612650769570312",
         "39.24880390433504",
         "3.349245382527182"
        ],
        [
         "25",
         "william25@mcconnell.com",
         "9495 Mary Fall Apt. 777\nGlassport, ND 17957-5596",
         "Teal",
         "33.02933195350689",
         "11.765812645482358",
         "37.73852494557909",
         "2.7217359920452187"
        ],
        [
         "464",
         "susanibarra@yahoo.com",
         "426 Scott Radial Apt. 065\nAbigailstad, MS 16590-2222",
         "Thistle",
         "32.53323998265473",
         "14.121783839255324",
         "38.40632901011416",
         "5.320093863780987"
        ],
        [
         "281",
         "greenelizabeth@edwards.com",
         "54051 Jenkins View\nEast Danielshire, IN 32905-7784",
         "DarkViolet",
         "33.79512493081247",
         "11.620996507575208",
         "38.4194685327455",
         "4.559699083258959"
        ],
        [
         "247",
         "vmartin@yahoo.com",
         "30242 Rubio Forest\nPort Kyleland, VA 18339-5779",
         "Turquoise",
         "34.40240964824356",
         "14.220979108167343",
         "37.52319665049046",
         "4.0777750980104255"
        ],
        [
         "237",
         "christopher66@hotmail.com",
         "388 Kelly Pike\nWest Jeffery, DE 44039-7785",
         "BurlyWood",
         "31.625360134830608",
         "13.187910985159364",
         "37.06708996741924",
         "1.4943108951995074"
        ],
        [
         "117",
         "dtaylor@webb.com",
         "18219 Jackson Well\nFosterton, MP 85302",
         "Orange",
         "33.05926409135838",
         "11.725910097840954",
         "35.9990993016087",
         "5.004820577490747"
        ],
        [
         "42",
         "jasonrichardson@elliott.com",
         "18372 Matthew Fork Suite 705\nNorth Matthewmouth, KY 99737",
         "Chocolate",
         "33.79203907501622",
         "12.507525374016035",
         "37.14286198458455",
         "4.214495086037866"
        ],
        [
         "220",
         "madisonalexander@gmail.com",
         "791 Allen Trafficway Suite 776\nChristopherland, DC 41460",
         "Orange",
         "34.11756669418932",
         "11.59187166512224",
         "37.743619699549896",
         "3.6785893989539975"
        ],
        [
         "176",
         "clifford76@johnson.com",
         "8032 Hodge Circle Apt. 255\nLake Jessicashire, OR 54914",
         "RosyBrown",
         "32.33263706834172",
         "11.548761439776756",
         "38.57651554990162",
         "4.773503047345896"
        ],
        [
         "320",
         "wheelernancy@hernandez.com",
         "66340 Michael Lane Suite 878\nWest Brian, LA 69137-1147",
         "Gold",
         "32.495418773654315",
         "12.96832561098067",
         "38.296110372778266",
         "1.2004838567566694"
        ],
        [
         "153",
         "ebrown@osborne.com",
         "4291 Nichols Fork Apt. 562\nThomaschester, SC 08938-8769",
         "DarkSlateGray",
         "31.945395748344524",
         "12.965761479512215",
         "36.96638889642577",
         "5.921"
        ],
        [
         "231",
         "dominguezmaria@gmail.com",
         "1768 Rosales Ford Apt. 793\nLake Markbury, SC 31567",
         "RoyalBlue",
         "34.173752023676585",
         "12.144748536704864",
         "37.25803145871123",
         "3.397363092819078"
        ],
        [
         "227",
         "melinda39@morton.info",
         "13693 Cox Falls Apt. 693\nPadillaview, PW 28998-0386",
         "Moccasin",
         "31.94801742116136",
         "13.085356892368791",
         "37.60565280041329",
         "2.648596770203317"
        ],
        [
         "417",
         "lawrencewalton@hotmail.com",
         "584 Patterson Falls\nWest Alicia, DE 45751",
         "Chocolate",
         "32.21552741998912",
         "12.216854693359824",
         "36.95395970110429",
         "2.910530822492482"
        ],
        [
         "203",
         "tylerhernandez@barton.info",
         "7613 Miguel Knoll Suite 762\nWest Katherine, WV 19406",
         "SlateGray",
         "31.04722213948752",
         "11.199660962300452",
         "38.68870909942437",
         "3.0887639575315755"
        ],
        [
         "126",
         "angelaphillips@gmail.com",
         "102 Karen Court\nNew Jameston, SC 57761-6570",
         "MintCream",
         "32.657268594778124",
         "11.957923064554109",
         "36.63465232853774",
         "4.106055151602658"
        ],
        [
         "329",
         "elizabeth61@berg-braun.com",
         "649 King Extension\nNorth April, NY 54175",
         "Lavender",
         "32.837893053239185",
         "13.185181167368498",
         "35.92159518889928",
         "1.823595182991803"
        ],
        [
         "31",
         "jared39@hotmail.com",
         "739 David Isle Suite 818\nChandlertown, DC 34587",
         "SteelBlue",
         "33.46105629551836",
         "10.869163814130363",
         "35.62244242064545",
         "3.471413452477678"
        ],
        [
         "113",
         "josephallen@hotmail.com",
         "3144 Jamie Rest\nMaxwellville, NC 93749-1190",
         "PeachPuff",
         "32.65318145878372",
         "11.60253219348616",
         "37.3096887708795",
         "2.789461516374708"
        ],
        [
         "470",
         "kennethperry@bowen.org",
         "272 Frederick Lodge\nEast Andrew, FL 07414",
         "SlateGray",
         "32.518196813999246",
         "11.509253453525044",
         "36.59928908739349",
         "3.0226757598626595"
        ],
        [
         "271",
         "beckycarson@jones-brown.biz",
         "78787 Mitchell Lights\nMatthewville, AZ 30310-0130",
         "Gold",
         "33.54047906012372",
         "12.884124621344766",
         "36.22604169397467",
         "5.007271986589903"
        ],
        [
         "140",
         "thomasgeorge@gonzalez-grant.com",
         "93306 Donald Greens\nNew Christopherbury, SC 59447",
         "FloralWhite",
         "31.066218161637597",
         "11.735094549013704",
         "36.59937399114725",
         "3.9588922643660966"
        ],
        [
         "57",
         "jeffreydawson@gmail.com",
         "9944 Trevor Expressway\nRobinsonstad, OR 34630-1840",
         "DarkSeaGreen",
         "34.3018702154015",
         "10.56829468563276",
         "36.17312563197192",
         "3.315224753915403"
        ],
        [
         "192",
         "ethomas@yahoo.com",
         "1279 Douglas Mountains\nPort Christopherberg, RI 32811-8325",
         "LightGreen",
         "33.69489765096749",
         "11.202669899735568",
         "35.49396408005127",
         "4.015986640445781"
        ],
        [
         "24",
         "youngbarbara@yahoo.com",
         "019 Elliott Tunnel Suite 190\nNicholsbury, WV 60804-4440",
         "Wheat",
         "34.50755099852662",
         "12.893669504071738",
         "37.63575587790592",
         "5.705153970601026"
        ],
        [
         "17",
         "rebecca45@hale-bauer.biz",
         "8982 Burton Row\nWilsonton, PW 88606",
         "OliveDrab",
         "32.33889932306719",
         "12.0131946940144",
         "38.38513659413844",
         "2.420806160901484"
        ],
        [
         "265",
         "jasmin20@salas.com",
         "634 Nancy Shoals Suite 241\nSouth Barry, AR 52307",
         "HotPink",
         "33.902717794463925",
         "11.668866514553862",
         "37.34126616101072",
         "4.25698328967803"
        ],
        [
         "66",
         "tadams@contreras.info",
         "049 Matthew Terrace\nLake Matthew, MS 20210",
         "Aqua",
         "33.0787172146689",
         "12.695789749023144",
         "35.358444307206696",
         "4.001786345798084"
        ],
        [
         "208",
         "freemantina@cannon.org",
         "870 Dennis Throughway\nWilsonport, PW 12658",
         "AntiqueWhite",
         "32.903454333014224",
         "10.54264542398311",
         "35.53386350026307",
         "3.091826869545788"
        ],
        [
         "479",
         "annstone@hotmail.com",
         "543 Reynolds Burg\nMelindaberg, KY 46631",
         "LightPink",
         "34.60624245261783",
         "11.761883803681748",
         "38.12651979793058",
         "1.8208106181524435"
        ],
        [
         "94",
         "raylopez@hotmail.com",
         "3600 Amber Plains Suite 002\nNorth Jamesburgh, VA 07917",
         "DarkGoldenRod",
         "32.19772379742183",
         "11.83023109487895",
         "36.63385670229112",
         "4.193324635532072"
        ],
        [
         "253",
         "jmartinez@anderson.org",
         "14889 Page Prairie\nDennisville, NV 27982-4210",
         "PeachPuff",
         "31.72420252384518",
         "13.172287495263063",
         "36.19975347391624",
         "3.557813698186695"
        ],
        [
         "266",
         "christophermorrison@mcguire-carter.biz",
         "90089 Eric Well\nNicoleside, MT 95918",
         "Blue",
         "34.55528258670921",
         "11.777772039564963",
         "37.97982686004657",
         "3.784273087078304"
        ],
        [
         "23",
         "denise22@hernandez-townsend.com",
         "USNS Cardenas\nFPO AA 85439-9449",
         "Silver",
         "32.903250973372074",
         "11.657575922065584",
         "36.77260376125875",
         "3.919302308553184"
        ],
        [
         "222",
         "sanchezkara@hotmail.com",
         "40494 Robert Park\nHeatherside, IL 70364",
         "SlateBlue",
         "34.33486453305801",
         "11.109456333168431",
         "38.585854757332655",
         "3.8928914802112553"
        ],
        [
         "261",
         "swilliams@ball-arroyo.com",
         "450 Samantha Valleys\nCollinsborough, KS 37205-9891",
         "Orchid",
         "32.55052657442161",
         "13.041244588162265",
         "36.655208083959465",
         "3.456233823526301"
        ],
        [
         "426",
         "rwilliams@trujillo.biz",
         "54560 Thompson Creek Apt. 029\nNew Brianville, FL 84430-8588",
         "BlanchedAlmond",
         "31.42522688085481",
         "13.27147504252467",
         "37.23984661097634",
         "4.022102909528949"
        ]
       ],
       "shape": {
        "columns": 7,
        "rows": 400
       }
      },
      "text/html": [
       "<div>\n",
       "<style scoped>\n",
       "    .dataframe tbody tr th:only-of-type {\n",
       "        vertical-align: middle;\n",
       "    }\n",
       "\n",
       "    .dataframe tbody tr th {\n",
       "        vertical-align: top;\n",
       "    }\n",
       "\n",
       "    .dataframe thead th {\n",
       "        text-align: right;\n",
       "    }\n",
       "</style>\n",
       "<table border=\"1\" class=\"dataframe\">\n",
       "  <thead>\n",
       "    <tr style=\"text-align: right;\">\n",
       "      <th></th>\n",
       "      <th>Email</th>\n",
       "      <th>Address</th>\n",
       "      <th>Avatar</th>\n",
       "      <th>Avg. Session Length</th>\n",
       "      <th>Time on App</th>\n",
       "      <th>Time on Website</th>\n",
       "      <th>Length of Membership</th>\n",
       "    </tr>\n",
       "  </thead>\n",
       "  <tbody>\n",
       "    <tr>\n",
       "      <th>249</th>\n",
       "      <td>anntaylor@hotmail.com</td>\n",
       "      <td>PSC 1634, Box 8167\\nAPO AA 49814</td>\n",
       "      <td>Teal</td>\n",
       "      <td>33.780157</td>\n",
       "      <td>11.917636</td>\n",
       "      <td>36.844734</td>\n",
       "      <td>3.634996</td>\n",
       "    </tr>\n",
       "    <tr>\n",
       "      <th>433</th>\n",
       "      <td>efoster@williamson-boyd.org</td>\n",
       "      <td>4968 Bennett Manors\\nRogerschester, IL 81579-8333</td>\n",
       "      <td>Lavender</td>\n",
       "      <td>34.278248</td>\n",
       "      <td>11.822722</td>\n",
       "      <td>36.308545</td>\n",
       "      <td>2.117383</td>\n",
       "    </tr>\n",
       "    <tr>\n",
       "      <th>19</th>\n",
       "      <td>samuel46@love-west.net</td>\n",
       "      <td>544 Alexander Heights Suite 768\\nNorth Johnvie...</td>\n",
       "      <td>LightSeaGreen</td>\n",
       "      <td>32.617856</td>\n",
       "      <td>13.989593</td>\n",
       "      <td>37.190504</td>\n",
       "      <td>4.064549</td>\n",
       "    </tr>\n",
       "    <tr>\n",
       "      <th>322</th>\n",
       "      <td>suzanne63@gmail.com</td>\n",
       "      <td>229 Eric Mountains\\nNew Caleb, PA 00396</td>\n",
       "      <td>LightSalmon</td>\n",
       "      <td>33.264632</td>\n",
       "      <td>10.732131</td>\n",
       "      <td>36.145792</td>\n",
       "      <td>4.086566</td>\n",
       "    </tr>\n",
       "    <tr>\n",
       "      <th>332</th>\n",
       "      <td>davisbriana@gmail.com</td>\n",
       "      <td>15298 Erickson Shore Apt. 056\\nSouth Patrickfo...</td>\n",
       "      <td>MediumVioletRed</td>\n",
       "      <td>33.144234</td>\n",
       "      <td>11.737041</td>\n",
       "      <td>37.935189</td>\n",
       "      <td>2.190132</td>\n",
       "    </tr>\n",
       "    <tr>\n",
       "      <th>...</th>\n",
       "      <td>...</td>\n",
       "      <td>...</td>\n",
       "      <td>...</td>\n",
       "      <td>...</td>\n",
       "      <td>...</td>\n",
       "      <td>...</td>\n",
       "      <td>...</td>\n",
       "    </tr>\n",
       "    <tr>\n",
       "      <th>106</th>\n",
       "      <td>afry@ford.biz</td>\n",
       "      <td>399 Jeremy Skyway Suite 377\\nNorth Keithville,...</td>\n",
       "      <td>PaleTurquoise</td>\n",
       "      <td>32.291756</td>\n",
       "      <td>12.190474</td>\n",
       "      <td>36.152462</td>\n",
       "      <td>3.781823</td>\n",
       "    </tr>\n",
       "    <tr>\n",
       "      <th>270</th>\n",
       "      <td>jessicabrewer@simmons.net</td>\n",
       "      <td>5052 Mccoy Passage Apt. 328\\nTeresaport, FM 97139</td>\n",
       "      <td>LightBlue</td>\n",
       "      <td>34.006489</td>\n",
       "      <td>12.956277</td>\n",
       "      <td>38.655095</td>\n",
       "      <td>3.275734</td>\n",
       "    </tr>\n",
       "    <tr>\n",
       "      <th>348</th>\n",
       "      <td>qmorse@yahoo.com</td>\n",
       "      <td>0360 Pearson Dam Suite 263\\nLake Shawn, UT 659...</td>\n",
       "      <td>MediumTurquoise</td>\n",
       "      <td>31.812483</td>\n",
       "      <td>10.886921</td>\n",
       "      <td>34.897828</td>\n",
       "      <td>3.128639</td>\n",
       "    </tr>\n",
       "    <tr>\n",
       "      <th>435</th>\n",
       "      <td>sanchezamber@scott-patterson.com</td>\n",
       "      <td>257 Hunt Manors\\nSouth Charlottefort, CT 15033</td>\n",
       "      <td>Fuchsia</td>\n",
       "      <td>32.259973</td>\n",
       "      <td>14.132893</td>\n",
       "      <td>37.023479</td>\n",
       "      <td>3.762070</td>\n",
       "    </tr>\n",
       "    <tr>\n",
       "      <th>102</th>\n",
       "      <td>acampbell@sanchez-velasquez.info</td>\n",
       "      <td>5791 Jessica Cove\\nMckinneyborough, OK 64460-7536</td>\n",
       "      <td>Wheat</td>\n",
       "      <td>32.425697</td>\n",
       "      <td>11.448902</td>\n",
       "      <td>37.580190</td>\n",
       "      <td>2.586968</td>\n",
       "    </tr>\n",
       "  </tbody>\n",
       "</table>\n",
       "<p>400 rows × 7 columns</p>\n",
       "</div>"
      ],
      "text/plain": [
       "                                Email  \\\n",
       "249             anntaylor@hotmail.com   \n",
       "433       efoster@williamson-boyd.org   \n",
       "19             samuel46@love-west.net   \n",
       "322               suzanne63@gmail.com   \n",
       "332             davisbriana@gmail.com   \n",
       "..                                ...   \n",
       "106                     afry@ford.biz   \n",
       "270         jessicabrewer@simmons.net   \n",
       "348                  qmorse@yahoo.com   \n",
       "435  sanchezamber@scott-patterson.com   \n",
       "102  acampbell@sanchez-velasquez.info   \n",
       "\n",
       "                                               Address           Avatar  \\\n",
       "249                   PSC 1634, Box 8167\\nAPO AA 49814             Teal   \n",
       "433  4968 Bennett Manors\\nRogerschester, IL 81579-8333         Lavender   \n",
       "19   544 Alexander Heights Suite 768\\nNorth Johnvie...    LightSeaGreen   \n",
       "322            229 Eric Mountains\\nNew Caleb, PA 00396      LightSalmon   \n",
       "332  15298 Erickson Shore Apt. 056\\nSouth Patrickfo...  MediumVioletRed   \n",
       "..                                                 ...              ...   \n",
       "106  399 Jeremy Skyway Suite 377\\nNorth Keithville,...    PaleTurquoise   \n",
       "270  5052 Mccoy Passage Apt. 328\\nTeresaport, FM 97139        LightBlue   \n",
       "348  0360 Pearson Dam Suite 263\\nLake Shawn, UT 659...  MediumTurquoise   \n",
       "435     257 Hunt Manors\\nSouth Charlottefort, CT 15033          Fuchsia   \n",
       "102  5791 Jessica Cove\\nMckinneyborough, OK 64460-7536            Wheat   \n",
       "\n",
       "     Avg. Session Length  Time on App  Time on Website  Length of Membership  \n",
       "249            33.780157    11.917636        36.844734              3.634996  \n",
       "433            34.278248    11.822722        36.308545              2.117383  \n",
       "19             32.617856    13.989593        37.190504              4.064549  \n",
       "322            33.264632    10.732131        36.145792              4.086566  \n",
       "332            33.144234    11.737041        37.935189              2.190132  \n",
       "..                   ...          ...              ...                   ...  \n",
       "106            32.291756    12.190474        36.152462              3.781823  \n",
       "270            34.006489    12.956277        38.655095              3.275734  \n",
       "348            31.812483    10.886921        34.897828              3.128639  \n",
       "435            32.259973    14.132893        37.023479              3.762070  \n",
       "102            32.425697    11.448902        37.580190              2.586968  \n",
       "\n",
       "[400 rows x 7 columns]"
      ]
     },
     "execution_count": 11,
     "metadata": {},
     "output_type": "execute_result"
    }
   ],
   "source": [
    "from outliers import iqr_clip_cols\n",
    "\n",
    "X_train_clipped = iqr_clip_cols(df=X_train, columns=num_cols, bounds=iqr_info)\n",
    "X_test_clipped = iqr_clip_cols(df=X_test, columns=num_cols, bounds=iqr_info)\n",
    "X_train_clipped"
   ]
  },
  {
   "cell_type": "code",
   "execution_count": 12,
   "metadata": {},
   "outputs": [
    {
     "data": {
      "application/vnd.plotly.v1+json": {
       "config": {
        "plotlyServerURL": "https://plot.ly"
       },
       "data": [
        {
         "boxpoints": false,
         "name": "Avg. Session Length",
         "showlegend": false,
         "type": "box",
         "xaxis": "x",
         "y": {
          "bdata": "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",
          "dtype": "f8"
         },
         "yaxis": "y"
        },
        {
         "marker": {
          "color": "blue",
          "opacity": 0.6,
          "size": 5
         },
         "mode": "markers",
         "name": "Normal",
         "showlegend": true,
         "type": "scatter",
         "x": [
          "Avg. Session Length",
          "Avg. Session Length",
          "Avg. Session Length",
          "Avg. Session Length",
          "Avg. Session Length",
          "Avg. Session Length",
          "Avg. Session Length",
          "Avg. Session Length",
          "Avg. Session Length",
          "Avg. Session Length",
          "Avg. Session Length",
          "Avg. Session Length",
          "Avg. Session Length",
          "Avg. Session Length",
          "Avg. Session Length",
          "Avg. Session Length",
          "Avg. Session Length",
          "Avg. Session Length",
          "Avg. Session Length",
          "Avg. Session Length",
          "Avg. Session Length",
          "Avg. Session Length",
          "Avg. Session Length",
          "Avg. Session Length",
          "Avg. Session Length",
          "Avg. Session Length",
          "Avg. Session Length",
          "Avg. Session Length",
          "Avg. Session Length",
          "Avg. Session Length",
          "Avg. Session Length",
          "Avg. Session Length",
          "Avg. Session Length",
          "Avg. Session Length",
          "Avg. Session Length",
          "Avg. Session Length",
          "Avg. Session Length",
          "Avg. Session Length",
          "Avg. Session Length",
          "Avg. Session Length",
          "Avg. Session Length",
          "Avg. Session Length",
          "Avg. Session Length",
          "Avg. Session Length",
          "Avg. Session Length",
          "Avg. Session Length",
          "Avg. Session Length",
          "Avg. Session Length",
          "Avg. Session Length",
          "Avg. Session Length",
          "Avg. Session Length",
          "Avg. Session Length",
          "Avg. Session Length",
          "Avg. Session Length",
          "Avg. Session Length",
          "Avg. Session Length",
          "Avg. Session Length",
          "Avg. Session Length",
          "Avg. Session Length",
          "Avg. Session Length",
          "Avg. Session Length",
          "Avg. Session Length",
          "Avg. Session Length",
          "Avg. Session Length",
          "Avg. Session Length",
          "Avg. Session Length",
          "Avg. Session Length",
          "Avg. Session Length",
          "Avg. Session Length",
          "Avg. Session Length",
          "Avg. Session Length",
          "Avg. Session Length",
          "Avg. Session Length",
          "Avg. Session Length",
          "Avg. Session Length",
          "Avg. Session Length",
          "Avg. Session Length",
          "Avg. Session Length",
          "Avg. Session Length",
          "Avg. Session Length",
          "Avg. Session Length",
          "Avg. Session Length",
          "Avg. Session Length",
          "Avg. Session Length",
          "Avg. Session Length",
          "Avg. Session Length",
          "Avg. Session Length",
          "Avg. Session Length",
          "Avg. Session Length",
          "Avg. Session Length",
          "Avg. Session Length",
          "Avg. Session Length",
          "Avg. Session Length",
          "Avg. Session Length",
          "Avg. Session Length",
          "Avg. Session Length",
          "Avg. Session Length",
          "Avg. Session Length",
          "Avg. Session Length",
          "Avg. Session Length",
          "Avg. Session Length",
          "Avg. Session Length",
          "Avg. Session Length",
          "Avg. Session Length",
          "Avg. Session Length",
          "Avg. Session Length",
          "Avg. Session Length",
          "Avg. Session Length",
          "Avg. Session Length",
          "Avg. Session Length",
          "Avg. Session Length",
          "Avg. Session Length",
          "Avg. Session Length",
          "Avg. Session Length",
          "Avg. Session Length",
          "Avg. Session Length",
          "Avg. Session Length",
          "Avg. Session Length",
          "Avg. Session Length",
          "Avg. Session Length",
          "Avg. Session Length",
          "Avg. Session Length",
          "Avg. Session Length",
          "Avg. Session Length",
          "Avg. Session Length",
          "Avg. Session Length",
          "Avg. Session Length",
          "Avg. Session Length",
          "Avg. Session Length",
          "Avg. Session Length",
          "Avg. Session Length",
          "Avg. Session Length",
          "Avg. Session Length",
          "Avg. Session Length",
          "Avg. Session Length",
          "Avg. Session Length",
          "Avg. Session Length",
          "Avg. Session Length",
          "Avg. Session Length",
          "Avg. Session Length",
          "Avg. Session Length",
          "Avg. Session Length",
          "Avg. Session Length",
          "Avg. Session Length",
          "Avg. Session Length",
          "Avg. Session Length",
          "Avg. Session Length",
          "Avg. Session Length",
          "Avg. Session Length",
          "Avg. Session Length",
          "Avg. Session Length",
          "Avg. Session Length",
          "Avg. Session Length",
          "Avg. Session Length",
          "Avg. Session Length",
          "Avg. Session Length",
          "Avg. Session Length",
          "Avg. Session Length",
          "Avg. Session Length",
          "Avg. Session Length",
          "Avg. Session Length",
          "Avg. Session Length",
          "Avg. Session Length",
          "Avg. Session Length",
          "Avg. Session Length",
          "Avg. Session Length",
          "Avg. Session Length",
          "Avg. Session Length",
          "Avg. Session Length",
          "Avg. Session Length",
          "Avg. Session Length",
          "Avg. Session Length",
          "Avg. Session Length",
          "Avg. Session Length",
          "Avg. Session Length",
          "Avg. Session Length",
          "Avg. Session Length",
          "Avg. Session Length",
          "Avg. Session Length",
          "Avg. Session Length",
          "Avg. Session Length",
          "Avg. Session Length",
          "Avg. Session Length",
          "Avg. Session Length",
          "Avg. Session Length",
          "Avg. Session Length",
          "Avg. Session Length",
          "Avg. Session Length",
          "Avg. Session Length",
          "Avg. Session Length",
          "Avg. Session Length",
          "Avg. Session Length",
          "Avg. Session Length",
          "Avg. Session Length",
          "Avg. Session Length",
          "Avg. Session Length",
          "Avg. Session Length",
          "Avg. Session Length",
          "Avg. Session Length",
          "Avg. Session Length",
          "Avg. Session Length",
          "Avg. Session Length",
          "Avg. Session Length",
          "Avg. Session Length",
          "Avg. Session Length",
          "Avg. Session Length",
          "Avg. Session Length",
          "Avg. Session Length",
          "Avg. Session Length",
          "Avg. Session Length",
          "Avg. Session Length",
          "Avg. Session Length",
          "Avg. Session Length",
          "Avg. Session Length",
          "Avg. Session Length",
          "Avg. Session Length",
          "Avg. Session Length",
          "Avg. Session Length",
          "Avg. Session Length",
          "Avg. Session Length",
          "Avg. Session Length",
          "Avg. Session Length",
          "Avg. Session Length",
          "Avg. Session Length",
          "Avg. Session Length",
          "Avg. Session Length",
          "Avg. Session Length",
          "Avg. Session Length",
          "Avg. Session Length",
          "Avg. Session Length",
          "Avg. Session Length",
          "Avg. Session Length",
          "Avg. Session Length",
          "Avg. Session Length",
          "Avg. Session Length",
          "Avg. Session Length",
          "Avg. Session Length",
          "Avg. Session Length",
          "Avg. Session Length",
          "Avg. Session Length",
          "Avg. Session Length",
          "Avg. Session Length",
          "Avg. Session Length",
          "Avg. Session Length",
          "Avg. Session Length",
          "Avg. Session Length",
          "Avg. Session Length",
          "Avg. Session Length",
          "Avg. Session Length",
          "Avg. Session Length",
          "Avg. Session Length",
          "Avg. Session Length",
          "Avg. Session Length",
          "Avg. Session Length",
          "Avg. Session Length",
          "Avg. Session Length",
          "Avg. Session Length",
          "Avg. Session Length",
          "Avg. Session Length",
          "Avg. Session Length",
          "Avg. Session Length",
          "Avg. Session Length",
          "Avg. Session Length",
          "Avg. Session Length",
          "Avg. Session Length",
          "Avg. Session Length",
          "Avg. Session Length",
          "Avg. Session Length",
          "Avg. Session Length",
          "Avg. Session Length",
          "Avg. Session Length",
          "Avg. Session Length",
          "Avg. Session Length",
          "Avg. Session Length",
          "Avg. Session Length",
          "Avg. Session Length",
          "Avg. Session Length",
          "Avg. Session Length",
          "Avg. Session Length",
          "Avg. Session Length",
          "Avg. Session Length",
          "Avg. Session Length",
          "Avg. Session Length",
          "Avg. Session Length",
          "Avg. Session Length",
          "Avg. Session Length",
          "Avg. Session Length",
          "Avg. Session Length",
          "Avg. Session Length",
          "Avg. Session Length",
          "Avg. Session Length",
          "Avg. Session Length",
          "Avg. Session Length",
          "Avg. Session Length",
          "Avg. Session Length",
          "Avg. Session Length",
          "Avg. Session Length",
          "Avg. Session Length",
          "Avg. Session Length",
          "Avg. Session Length",
          "Avg. Session Length",
          "Avg. Session Length",
          "Avg. Session Length",
          "Avg. Session Length",
          "Avg. Session Length",
          "Avg. Session Length",
          "Avg. Session Length",
          "Avg. Session Length",
          "Avg. Session Length",
          "Avg. Session Length",
          "Avg. Session Length",
          "Avg. Session Length",
          "Avg. Session Length",
          "Avg. Session Length",
          "Avg. Session Length",
          "Avg. Session Length",
          "Avg. Session Length",
          "Avg. Session Length",
          "Avg. Session Length",
          "Avg. Session Length",
          "Avg. Session Length",
          "Avg. Session Length",
          "Avg. Session Length",
          "Avg. Session Length",
          "Avg. Session Length",
          "Avg. Session Length",
          "Avg. Session Length",
          "Avg. Session Length",
          "Avg. Session Length",
          "Avg. Session Length",
          "Avg. Session Length",
          "Avg. Session Length",
          "Avg. Session Length",
          "Avg. Session Length",
          "Avg. Session Length",
          "Avg. Session Length",
          "Avg. Session Length",
          "Avg. Session Length",
          "Avg. Session Length",
          "Avg. Session Length",
          "Avg. Session Length",
          "Avg. Session Length",
          "Avg. Session Length",
          "Avg. Session Length",
          "Avg. Session Length",
          "Avg. Session Length",
          "Avg. Session Length",
          "Avg. Session Length",
          "Avg. Session Length",
          "Avg. Session Length",
          "Avg. Session Length",
          "Avg. Session Length",
          "Avg. Session Length",
          "Avg. Session Length",
          "Avg. Session Length",
          "Avg. Session Length",
          "Avg. Session Length",
          "Avg. Session Length",
          "Avg. Session Length",
          "Avg. Session Length",
          "Avg. Session Length",
          "Avg. Session Length",
          "Avg. Session Length",
          "Avg. Session Length",
          "Avg. Session Length",
          "Avg. Session Length",
          "Avg. Session Length",
          "Avg. Session Length",
          "Avg. Session Length",
          "Avg. Session Length",
          "Avg. Session Length",
          "Avg. Session Length",
          "Avg. Session Length",
          "Avg. Session Length",
          "Avg. Session Length",
          "Avg. Session Length",
          "Avg. Session Length",
          "Avg. Session Length",
          "Avg. Session Length",
          "Avg. Session Length",
          "Avg. Session Length",
          "Avg. Session Length",
          "Avg. Session Length",
          "Avg. Session Length",
          "Avg. Session Length",
          "Avg. Session Length",
          "Avg. Session Length",
          "Avg. Session Length",
          "Avg. Session Length",
          "Avg. Session Length",
          "Avg. Session Length",
          "Avg. Session Length",
          "Avg. Session Length",
          "Avg. Session Length",
          "Avg. Session Length",
          "Avg. Session Length",
          "Avg. Session Length",
          "Avg. Session Length",
          "Avg. Session Length",
          "Avg. Session Length"
         ],
         "xaxis": "x",
         "y": {
          "bdata": "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",
          "dtype": "f8"
         },
         "yaxis": "y"
        },
        {
         "marker": {
          "color": "red",
          "opacity": 0.85,
          "size": 6
         },
         "mode": "markers",
         "name": "Ausreißer",
         "showlegend": true,
         "type": "scatter",
         "x": [],
         "xaxis": "x",
         "y": [],
         "yaxis": "y"
        },
        {
         "boxpoints": false,
         "name": "Time on App",
         "showlegend": false,
         "type": "box",
         "xaxis": "x2",
         "y": {
          "bdata": "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",
          "dtype": "f8"
         },
         "yaxis": "y2"
        },
        {
         "marker": {
          "color": "blue",
          "opacity": 0.6,
          "size": 5
         },
         "mode": "markers",
         "name": "Normal",
         "showlegend": false,
         "type": "scatter",
         "x": [
          "Time on App",
          "Time on App",
          "Time on App",
          "Time on App",
          "Time on App",
          "Time on App",
          "Time on App",
          "Time on App",
          "Time on App",
          "Time on App",
          "Time on App",
          "Time on App",
          "Time on App",
          "Time on App",
          "Time on App",
          "Time on App",
          "Time on App",
          "Time on App",
          "Time on App",
          "Time on App",
          "Time on App",
          "Time on App",
          "Time on App",
          "Time on App",
          "Time on App",
          "Time on App",
          "Time on App",
          "Time on App",
          "Time on App",
          "Time on App",
          "Time on App",
          "Time on App",
          "Time on App",
          "Time on App",
          "Time on App",
          "Time on App",
          "Time on App",
          "Time on App",
          "Time on App",
          "Time on App",
          "Time on App",
          "Time on App",
          "Time on App",
          "Time on App",
          "Time on App",
          "Time on App",
          "Time on App",
          "Time on App",
          "Time on App",
          "Time on App",
          "Time on App",
          "Time on App",
          "Time on App",
          "Time on App",
          "Time on App",
          "Time on App",
          "Time on App",
          "Time on App",
          "Time on App",
          "Time on App",
          "Time on App",
          "Time on App",
          "Time on App",
          "Time on App",
          "Time on App",
          "Time on App",
          "Time on App",
          "Time on App",
          "Time on App",
          "Time on App",
          "Time on App",
          "Time on App",
          "Time on App",
          "Time on App",
          "Time on App",
          "Time on App",
          "Time on App",
          "Time on App",
          "Time on App",
          "Time on App",
          "Time on App",
          "Time on App",
          "Time on App",
          "Time on App",
          "Time on App",
          "Time on App",
          "Time on App",
          "Time on App",
          "Time on App",
          "Time on App",
          "Time on App",
          "Time on App",
          "Time on App",
          "Time on App",
          "Time on App",
          "Time on App",
          "Time on App",
          "Time on App",
          "Time on App",
          "Time on App",
          "Time on App",
          "Time on App",
          "Time on App",
          "Time on App",
          "Time on App",
          "Time on App",
          "Time on App",
          "Time on App",
          "Time on App",
          "Time on App",
          "Time on App",
          "Time on App",
          "Time on App",
          "Time on App",
          "Time on App",
          "Time on App",
          "Time on App",
          "Time on App",
          "Time on App",
          "Time on App",
          "Time on App",
          "Time on App",
          "Time on App",
          "Time on App",
          "Time on App",
          "Time on App",
          "Time on App",
          "Time on App",
          "Time on App",
          "Time on App",
          "Time on App",
          "Time on App",
          "Time on App",
          "Time on App",
          "Time on App",
          "Time on App",
          "Time on App",
          "Time on App",
          "Time on App",
          "Time on App",
          "Time on App",
          "Time on App",
          "Time on App",
          "Time on App",
          "Time on App",
          "Time on App",
          "Time on App",
          "Time on App",
          "Time on App",
          "Time on App",
          "Time on App",
          "Time on App",
          "Time on App",
          "Time on App",
          "Time on App",
          "Time on App",
          "Time on App",
          "Time on App",
          "Time on App",
          "Time on App",
          "Time on App",
          "Time on App",
          "Time on App",
          "Time on App",
          "Time on App",
          "Time on App",
          "Time on App",
          "Time on App",
          "Time on App",
          "Time on App",
          "Time on App",
          "Time on App",
          "Time on App",
          "Time on App",
          "Time on App",
          "Time on App",
          "Time on App",
          "Time on App",
          "Time on App",
          "Time on App",
          "Time on App",
          "Time on App",
          "Time on App",
          "Time on App",
          "Time on App",
          "Time on App",
          "Time on App",
          "Time on App",
          "Time on App",
          "Time on App",
          "Time on App",
          "Time on App",
          "Time on App",
          "Time on App",
          "Time on App",
          "Time on App",
          "Time on App",
          "Time on App",
          "Time on App",
          "Time on App",
          "Time on App",
          "Time on App",
          "Time on App",
          "Time on App",
          "Time on App",
          "Time on App",
          "Time on App",
          "Time on App",
          "Time on App",
          "Time on App",
          "Time on App",
          "Time on App",
          "Time on App",
          "Time on App",
          "Time on App",
          "Time on App",
          "Time on App",
          "Time on App",
          "Time on App",
          "Time on App",
          "Time on App",
          "Time on App",
          "Time on App",
          "Time on App",
          "Time on App",
          "Time on App",
          "Time on App",
          "Time on App",
          "Time on App",
          "Time on App",
          "Time on App",
          "Time on App",
          "Time on App",
          "Time on App",
          "Time on App",
          "Time on App",
          "Time on App",
          "Time on App",
          "Time on App",
          "Time on App",
          "Time on App",
          "Time on App",
          "Time on App",
          "Time on App",
          "Time on App",
          "Time on App",
          "Time on App",
          "Time on App",
          "Time on App",
          "Time on App",
          "Time on App",
          "Time on App",
          "Time on App",
          "Time on App",
          "Time on App",
          "Time on App",
          "Time on App",
          "Time on App",
          "Time on App",
          "Time on App",
          "Time on App",
          "Time on App",
          "Time on App",
          "Time on App",
          "Time on App",
          "Time on App",
          "Time on App",
          "Time on App",
          "Time on App",
          "Time on App",
          "Time on App",
          "Time on App",
          "Time on App",
          "Time on App",
          "Time on App",
          "Time on App",
          "Time on App",
          "Time on App",
          "Time on App",
          "Time on App",
          "Time on App",
          "Time on App",
          "Time on App",
          "Time on App",
          "Time on App",
          "Time on App",
          "Time on App",
          "Time on App",
          "Time on App",
          "Time on App",
          "Time on App",
          "Time on App",
          "Time on App",
          "Time on App",
          "Time on App",
          "Time on App",
          "Time on App",
          "Time on App",
          "Time on App",
          "Time on App",
          "Time on App",
          "Time on App",
          "Time on App",
          "Time on App",
          "Time on App",
          "Time on App",
          "Time on App",
          "Time on App",
          "Time on App",
          "Time on App",
          "Time on App",
          "Time on App",
          "Time on App",
          "Time on App",
          "Time on App",
          "Time on App",
          "Time on App",
          "Time on App",
          "Time on App",
          "Time on App",
          "Time on App",
          "Time on App",
          "Time on App",
          "Time on App",
          "Time on App",
          "Time on App",
          "Time on App",
          "Time on App",
          "Time on App",
          "Time on App",
          "Time on App",
          "Time on App",
          "Time on App",
          "Time on App",
          "Time on App",
          "Time on App",
          "Time on App",
          "Time on App",
          "Time on App",
          "Time on App",
          "Time on App",
          "Time on App",
          "Time on App",
          "Time on App",
          "Time on App",
          "Time on App",
          "Time on App",
          "Time on App",
          "Time on App",
          "Time on App",
          "Time on App",
          "Time on App",
          "Time on App",
          "Time on App",
          "Time on App",
          "Time on App",
          "Time on App",
          "Time on App",
          "Time on App",
          "Time on App",
          "Time on App",
          "Time on App",
          "Time on App",
          "Time on App",
          "Time on App",
          "Time on App",
          "Time on App",
          "Time on App",
          "Time on App",
          "Time on App",
          "Time on App",
          "Time on App",
          "Time on App",
          "Time on App",
          "Time on App",
          "Time on App",
          "Time on App",
          "Time on App",
          "Time on App",
          "Time on App",
          "Time on App",
          "Time on App",
          "Time on App",
          "Time on App",
          "Time on App",
          "Time on App",
          "Time on App",
          "Time on App",
          "Time on App",
          "Time on App",
          "Time on App",
          "Time on App",
          "Time on App",
          "Time on App",
          "Time on App",
          "Time on App",
          "Time on App",
          "Time on App",
          "Time on App",
          "Time on App"
         ],
         "xaxis": "x2",
         "y": {
          "bdata": "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",
          "dtype": "f8"
         },
         "yaxis": "y2"
        },
        {
         "marker": {
          "color": "red",
          "opacity": 0.85,
          "size": 6
         },
         "mode": "markers",
         "name": "Ausreißer",
         "showlegend": false,
         "type": "scatter",
         "x": [],
         "xaxis": "x2",
         "y": [],
         "yaxis": "y2"
        },
        {
         "boxpoints": false,
         "name": "Time on Website",
         "showlegend": false,
         "type": "box",
         "xaxis": "x3",
         "y": {
          "bdata": "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",
          "dtype": "f8"
         },
         "yaxis": "y3"
        },
        {
         "marker": {
          "color": "blue",
          "opacity": 0.6,
          "size": 5
         },
         "mode": "markers",
         "name": "Normal",
         "showlegend": false,
         "type": "scatter",
         "x": [
          "Time on Website",
          "Time on Website",
          "Time on Website",
          "Time on Website",
          "Time on Website",
          "Time on Website",
          "Time on Website",
          "Time on Website",
          "Time on Website",
          "Time on Website",
          "Time on Website",
          "Time on Website",
          "Time on Website",
          "Time on Website",
          "Time on Website",
          "Time on Website",
          "Time on Website",
          "Time on Website",
          "Time on Website",
          "Time on Website",
          "Time on Website",
          "Time on Website",
          "Time on Website",
          "Time on Website",
          "Time on Website",
          "Time on Website",
          "Time on Website",
          "Time on Website",
          "Time on Website",
          "Time on Website",
          "Time on Website",
          "Time on Website",
          "Time on Website",
          "Time on Website",
          "Time on Website",
          "Time on Website",
          "Time on Website",
          "Time on Website",
          "Time on Website",
          "Time on Website",
          "Time on Website",
          "Time on Website",
          "Time on Website",
          "Time on Website",
          "Time on Website",
          "Time on Website",
          "Time on Website",
          "Time on Website",
          "Time on Website",
          "Time on Website",
          "Time on Website",
          "Time on Website",
          "Time on Website",
          "Time on Website",
          "Time on Website",
          "Time on Website",
          "Time on Website",
          "Time on Website",
          "Time on Website",
          "Time on Website",
          "Time on Website",
          "Time on Website",
          "Time on Website",
          "Time on Website",
          "Time on Website",
          "Time on Website",
          "Time on Website",
          "Time on Website",
          "Time on Website",
          "Time on Website",
          "Time on Website",
          "Time on Website",
          "Time on Website",
          "Time on Website",
          "Time on Website",
          "Time on Website",
          "Time on Website",
          "Time on Website",
          "Time on Website",
          "Time on Website",
          "Time on Website",
          "Time on Website",
          "Time on Website",
          "Time on Website",
          "Time on Website",
          "Time on Website",
          "Time on Website",
          "Time on Website",
          "Time on Website",
          "Time on Website",
          "Time on Website",
          "Time on Website",
          "Time on Website",
          "Time on Website",
          "Time on Website",
          "Time on Website",
          "Time on Website",
          "Time on Website",
          "Time on Website",
          "Time on Website",
          "Time on Website",
          "Time on Website",
          "Time on Website",
          "Time on Website",
          "Time on Website",
          "Time on Website",
          "Time on Website",
          "Time on Website",
          "Time on Website",
          "Time on Website",
          "Time on Website",
          "Time on Website",
          "Time on Website",
          "Time on Website",
          "Time on Website",
          "Time on Website",
          "Time on Website",
          "Time on Website",
          "Time on Website",
          "Time on Website",
          "Time on Website",
          "Time on Website",
          "Time on Website",
          "Time on Website",
          "Time on Website",
          "Time on Website",
          "Time on Website",
          "Time on Website",
          "Time on Website",
          "Time on Website",
          "Time on Website",
          "Time on Website",
          "Time on Website",
          "Time on Website",
          "Time on Website",
          "Time on Website",
          "Time on Website",
          "Time on Website",
          "Time on Website",
          "Time on Website",
          "Time on Website",
          "Time on Website",
          "Time on Website",
          "Time on Website",
          "Time on Website",
          "Time on Website",
          "Time on Website",
          "Time on Website",
          "Time on Website",
          "Time on Website",
          "Time on Website",
          "Time on Website",
          "Time on Website",
          "Time on Website",
          "Time on Website",
          "Time on Website",
          "Time on Website",
          "Time on Website",
          "Time on Website",
          "Time on Website",
          "Time on Website",
          "Time on Website",
          "Time on Website",
          "Time on Website",
          "Time on Website",
          "Time on Website",
          "Time on Website",
          "Time on Website",
          "Time on Website",
          "Time on Website",
          "Time on Website",
          "Time on Website",
          "Time on Website",
          "Time on Website",
          "Time on Website",
          "Time on Website",
          "Time on Website",
          "Time on Website",
          "Time on Website",
          "Time on Website",
          "Time on Website",
          "Time on Website",
          "Time on Website",
          "Time on Website",
          "Time on Website",
          "Time on Website",
          "Time on Website",
          "Time on Website",
          "Time on Website",
          "Time on Website",
          "Time on Website",
          "Time on Website",
          "Time on Website",
          "Time on Website",
          "Time on Website",
          "Time on Website",
          "Time on Website",
          "Time on Website",
          "Time on Website",
          "Time on Website",
          "Time on Website",
          "Time on Website",
          "Time on Website",
          "Time on Website",
          "Time on Website",
          "Time on Website",
          "Time on Website",
          "Time on Website",
          "Time on Website",
          "Time on Website",
          "Time on Website",
          "Time on Website",
          "Time on Website",
          "Time on Website",
          "Time on Website",
          "Time on Website",
          "Time on Website",
          "Time on Website",
          "Time on Website",
          "Time on Website",
          "Time on Website",
          "Time on Website",
          "Time on Website",
          "Time on Website",
          "Time on Website",
          "Time on Website",
          "Time on Website",
          "Time on Website",
          "Time on Website",
          "Time on Website",
          "Time on Website",
          "Time on Website",
          "Time on Website",
          "Time on Website",
          "Time on Website",
          "Time on Website",
          "Time on Website",
          "Time on Website",
          "Time on Website",
          "Time on Website",
          "Time on Website",
          "Time on Website",
          "Time on Website",
          "Time on Website",
          "Time on Website",
          "Time on Website",
          "Time on Website",
          "Time on Website",
          "Time on Website",
          "Time on Website",
          "Time on Website",
          "Time on Website",
          "Time on Website",
          "Time on Website",
          "Time on Website",
          "Time on Website",
          "Time on Website",
          "Time on Website",
          "Time on Website",
          "Time on Website",
          "Time on Website",
          "Time on Website",
          "Time on Website",
          "Time on Website",
          "Time on Website",
          "Time on Website",
          "Time on Website",
          "Time on Website",
          "Time on Website",
          "Time on Website",
          "Time on Website",
          "Time on Website",
          "Time on Website",
          "Time on Website",
          "Time on Website",
          "Time on Website",
          "Time on Website",
          "Time on Website",
          "Time on Website",
          "Time on Website",
          "Time on Website",
          "Time on Website",
          "Time on Website",
          "Time on Website",
          "Time on Website",
          "Time on Website",
          "Time on Website",
          "Time on Website",
          "Time on Website",
          "Time on Website",
          "Time on Website",
          "Time on Website",
          "Time on Website",
          "Time on Website",
          "Time on Website",
          "Time on Website",
          "Time on Website",
          "Time on Website",
          "Time on Website",
          "Time on Website",
          "Time on Website",
          "Time on Website",
          "Time on Website",
          "Time on Website",
          "Time on Website",
          "Time on Website",
          "Time on Website",
          "Time on Website",
          "Time on Website",
          "Time on Website",
          "Time on Website",
          "Time on Website",
          "Time on Website",
          "Time on Website",
          "Time on Website",
          "Time on Website",
          "Time on Website",
          "Time on Website",
          "Time on Website",
          "Time on Website",
          "Time on Website",
          "Time on Website",
          "Time on Website",
          "Time on Website",
          "Time on Website",
          "Time on Website",
          "Time on Website",
          "Time on Website",
          "Time on Website",
          "Time on Website",
          "Time on Website",
          "Time on Website",
          "Time on Website",
          "Time on Website",
          "Time on Website",
          "Time on Website",
          "Time on Website",
          "Time on Website",
          "Time on Website",
          "Time on Website",
          "Time on Website",
          "Time on Website",
          "Time on Website",
          "Time on Website",
          "Time on Website",
          "Time on Website",
          "Time on Website",
          "Time on Website",
          "Time on Website",
          "Time on Website",
          "Time on Website",
          "Time on Website",
          "Time on Website",
          "Time on Website",
          "Time on Website",
          "Time on Website",
          "Time on Website",
          "Time on Website",
          "Time on Website",
          "Time on Website",
          "Time on Website",
          "Time on Website",
          "Time on Website",
          "Time on Website",
          "Time on Website",
          "Time on Website",
          "Time on Website",
          "Time on Website",
          "Time on Website",
          "Time on Website",
          "Time on Website",
          "Time on Website",
          "Time on Website",
          "Time on Website",
          "Time on Website",
          "Time on Website",
          "Time on Website",
          "Time on Website",
          "Time on Website",
          "Time on Website",
          "Time on Website",
          "Time on Website",
          "Time on Website",
          "Time on Website",
          "Time on Website",
          "Time on Website",
          "Time on Website",
          "Time on Website",
          "Time on Website",
          "Time on Website",
          "Time on Website",
          "Time on Website",
          "Time on Website",
          "Time on Website",
          "Time on Website",
          "Time on Website",
          "Time on Website",
          "Time on Website",
          "Time on Website",
          "Time on Website"
         ],
         "xaxis": "x3",
         "y": {
          "bdata": "g7jWPCBsQkDjXoZpfidCQIo8tG1imEJAyJGGTakSQkBs/E9GtPdCQAsSmApgoENA4pQxJpEIQ0AmiBVoyvlCQNfq9LHtjUJAMNc3VAK1QkCndy22SD9CQByI+Gt5V0JAOR5sztifQ0BsRUT8h95CQJ7tyJYCNENA6OsWJbE1Q0DcnZsb+MJCQEn6b2eWiEJA0+5kfOL/QUDv0C9NSZJCQDQdKe4u30JAQTv0QstJQ0Bli9fx5iVDQOCuoKGye0JAgEDCLAehQkDBQO0Hhs1CQPH4+lkbekJAHj6pnidYQ0Aus5lJPFFCQJc8xtT29UFAWyh4MazPQUDVbrPho6dCQDSaO4G1TEJAq5Mp7+4cQkB1BnVJuExCQJm1D/soFkJABpwINzq/QUBA7NdyYNFCQKEo6idMMUNA4mIMnK6rQkDwcciA4a1BQDgUoaNVxEFARTT9zDEQQ0BrWGc3IlFCQMfdloWRGUJAOtJv92r9QkC8rxeu5GJCQJJ550n9SkNAIlfG291TQkCUGTNLs55CQJzpflMKPUFAHggQFbxZQkDy2hvHx5BDQCaDm6FxckFAPa87DAebQkBube5S9r5CQPRhpP1SXEJAf/P9AamPQkABQZUhvIZCQENgl+q7BkNAbclFjaSpQkCjLhVvOnNCQLIay7XZgkJAgFLNVY+jQkAmLJnv155DQNpYPy9rMEJAhTjbhh83QkAbkRs5yq9CQC6ahoZ23EJAL1Gkwk0VQ0D5vmWirYVCQKrx0k1iIEFAM98yTAqRQkDGKdkPqydDQBWZELDnzEFAMCkNho69QkDutYYMTotCQCgtUsaSbUNAkV8JcSkjQ0BJ3KZI+PNCQFOi10LqcEJAT6sAeKqjQkAF3BVlHFhCQH6BERNw30JAtWXf6TspQkDBh+6wI/1BQNef6OE7AENA11qKKgIwQkCfTI3w2xBDQE4RhxExNEJAnAJ7ngLFQUASQr6OP3RCQApzKH83qkJAc8EKlmFiQkCviw6YYkBDQHNy7otWeUJAmAq5ZFpCQkAt3TlKbgZCQLa/5G3AskJAEP9b7C/4QUCxVTK49C5CQBFbunr840JAj0GyMTzYQkBJddEkn9RCQF8oDRLUd0JAHy0/NzD0QUDxFyUTXVNCQCnQ+EJTIUNAlzqA2ABwQkAmoTO1rttBQELmXXWtmEJAcAlgxS/FQkCowJaxOEZCQKIFvBQA/UFAxyRtUkCcQ0AZ0zhAfZBBQIP4CeCEmUJAdc2gl2sSQkBTwLB7O/NBQMHIdWzUiUJAdBlkLEGsQkCKHX5vwNVBQK9osjADYkJAfwPOXA+NQkAoyjBm5KlCQIT9jigb9kJAW9rQ/Zr7QUBBfRoZFqdCQNumg9Zk3EFAeqF1ZLeiQkD+omBvpdtCQNCYCKhwDUJAofyAcXkLQkAJLhv6hVdCQMGjcy5FBkJA7dAQW2fpQUDwp8OGCwlDQBeCCL0cjENACFr9dVInQ0A8xuF8LGhCQM8XiA7iE0JA+h76qSALQkBGLW46iddCQEhGHzfnnEJA8byktH/GQUDsBQ5CiiFCQEoIY7om8UFAXpUzTbSxQkAIgV5be+9CQMhje3jYhEFAbZdVFURWQkAshuBq5YdCQMq8tJoriUJALw8lrgSkQkCdpLzQBE9DQD3K02eT0UJADnjNSLKdQkD88SiZY5BCQNPbsoZZq0JAkX7e7hrnQkBFLuOM0IhDQL2PTIVbRkJAEJclxrUdQkAzzLjvHQhDQMp3VzejpUNAuPxj5WtJQ0CxQrSXEPRBQJXI1g3o6UJAFzfxyMBAQ0DaHxUzqLFCQNfDMTJkoEJAKyyMyA6FQkAuF69xbSlCQBCjqWx1K0JAiUl/AzTQQUDVsI4hRxlDQGSHukrqeUNAoKQkgELvQkAYv/cnyVtDQKd+bxrwi0JA9EtWC0vnQkDmPQro9CRCQBxouv2EiUJArxZn943eQUDLJaXDYcNCQEJXQiAwkkJAOPsYKYhGQ0CcQptceLpBQFAQRVW910JAhe58CnSEQkBQvbX5vvxBQHE4Zx7DnkJAhj7xNmDIQUDJvq3jDWNCQPeXIRUgNUNARMogE9roQkBBh7VxJ69CQHqClg3p0EFAD+nAw4EHQkBLwalznMRBQIMjiTtkMkJA5agBqpmqQkA+i4KiF0ZCQCZTE49N1EJAaE0vCxRMQkD8tCddoLZCQFcMqTAlf0NANjQxCmjlQkCkGYtQndhCQHWEuS31gEFANDhON1IwQkB1N/Ln39tCQGhVar4pp0JA90s0/+kFQkCdfIlXsJJCQAfFh4R1T0JAoHhQ1hV+QkDq/Kp7M9tCQOJehVSr4UJAlq2ebAcoQkB3KbC2r0xCQF8v4d14Z0JAuRs7RWQOQkC19wYbWWtCQDWJvAYtlEJAIrA1Pn7WQUDD+XtyXRdCQMaarbZwikNAjf/lJdNFQkAdxOJt9LZBQMJ6een4JkNAfgC8n8m1QkDYcQbUYmJDQBLrR+aDpUFA/ybxRRfKQkDm6rm9gt1BQJd2XI2ZdUNAQTO9XY7jQUAk+1EUZ9ZCQJ+6NaUaUUNA9BwaESmiQkAqR02BZnRCQF6Degvxb0JA7nDOpjhVQkA7eIEFTtZBQH3T7YqTv0JAwpff7YdrQkAKMPve1VxCQBNJkZdhIENA/+6cJP/kQkDX02GlQVZCQC/huN0R+EFAI6wrDrHEQkA/zYaUHC5CQELoEqoT10JAVd6RV8j+QUC+BDZBbIlCQEXoLnMgNkNADDRYevXiQUAgMFKjbHBCQP5ANfKFiUNAil1zmyP5QUAJOvmBLHJBQDha1CU7P0JAWgk77CI7QkD/ota52thBQG/+OwVMbUJApZ+pIY+xQkDn/cv8z1ZCQMeTZOY/PkJALBKOGQftQkA8A1/nQ+5CQEo0aGmUyUFAcB6+PuWvQkAYP+piE99BQEYeEs7aJ0NA72WppXs6QkBS9e8FrLpCQNUjI52e/0JADcDHw+oMQkD7K2TeaFtCQEa1yudeV0NA8uOsaGrEQkACyyuUrDhDQAdMRm0Cd0JArUM0Q+ZMQkDXPKxpMn5CQOrF8cBaT0JAXEys7PapQkAEqNmlY8RCQPDGUFPaJUNAEwk5oVe+QkBgAAInZyhDQNUWNVNvLUNA40lftHCDQkDnHo3PHi1CQCMDizZgM0NA3M3DYum2QkDUArEIYK9CQA5n3YJUY0JA8V5kfdRhQ0At4TY5bRhCQAP6+UVjhEJAcS/jBj1sQUByWuqjCBhDQJm1Nz9dREJAJrBvz2d2QkBmReMYs6pCQO0UjbhhpUJAPyRCndEFQkDtqcugo4FBQOVox82scUJAtK7qh50cQkBhJc1lOEJCQAvRtX1R0UJAauEE7S+7QUBm0YWrtq9CQKT9FxBE7EFAXwxGRHv3QUA5YcSpeYNCQGyngz5tokJACU3tElx9QkDXc0rkiglCQDXXOigXTEJAD/xqnJMBQkDWFNMi2cxDQAWDb5Hb+UJAffC9JS+vQUBZ2iadlR5DQIat33UX1kNAy6Z8/7VrQkDopOy19WJCQDBsYt2GqkJAWiQkrE4VQkARcaktCbpCQASN/BIb/UJABqm/dYFDQkD/iE+8cQxCQAnAPHCEEkJAOzenfGvEQkCClVSTznlCQPZU3xFcPkFAAKTL+51JQkAEjgZ8SHZDQOHmi/8oBUNAXWB98+/qQkCo2hiWV7ZCQOkfhTcAIUJA2GuxZHniQUCP3pBA25hCQOsiTaYaeUJAneMs8vE7Q0DJ42Kq3bhBQHfvmLbf40JAiKJM3c5jQUBswbk892pDQNSgJ2cl0UFA+yB1CsYdQ0B68DyxWphCQC3HcyRx+0JArkXbcwbRQkCkRoR/MWhCQBFyy9KWSkJAyI3olZrrQkCi9SPGBPxBQLSJtnIjEUJAFYwaY3O4QkCI2hkVr89BQPNJI4hvtkJAEDpRiQEFQ0ApSjMIK3BCQBaBbNiq0kJAVmLFeJqTQkCa/Wi8eUlBQIPwd8XCZ0FAWL/d1VBdQkCZlT2DmfpCQGArGtxrUUJAiQzG3S9CQkBlABzazkpCQPx7Vjldn0JAfFepODC3QkCqlFlQQNNCQMms3j/38UFASBfS1316QkDftiwf2GhCQMfZHQZcbkJA+AwhU1+LQkCwpp2Nt0VCQMRG4KUsU0FAAuXbwSvWQkAD1ZeosOJBQHMcOyXMzUJAJ7PMHhAMQkAqofLWHhRCQLo1suCDE0JAyF5JI9pTQ0DJXocE7HJBQLA/HF4Bg0JAZmITrkPKQkA=",
          "dtype": "f8"
         },
         "yaxis": "y3"
        },
        {
         "marker": {
          "color": "red",
          "opacity": 0.85,
          "size": 6
         },
         "mode": "markers",
         "name": "Ausreißer",
         "showlegend": false,
         "type": "scatter",
         "x": [],
         "xaxis": "x3",
         "y": [],
         "yaxis": "y3"
        },
        {
         "boxpoints": false,
         "name": "Length of Membership",
         "showlegend": false,
         "type": "box",
         "xaxis": "x4",
         "y": {
          "bdata": "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",
          "dtype": "f8"
         },
         "yaxis": "y4"
        },
        {
         "marker": {
          "color": "blue",
          "opacity": 0.6,
          "size": 5
         },
         "mode": "markers",
         "name": "Normal",
         "showlegend": false,
         "type": "scatter",
         "x": [
          "Length of Membership",
          "Length of Membership",
          "Length of Membership",
          "Length of Membership",
          "Length of Membership",
          "Length of Membership",
          "Length of Membership",
          "Length of Membership",
          "Length of Membership",
          "Length of Membership",
          "Length of Membership",
          "Length of Membership",
          "Length of Membership",
          "Length of Membership",
          "Length of Membership",
          "Length of Membership",
          "Length of Membership",
          "Length of Membership",
          "Length of Membership",
          "Length of Membership",
          "Length of Membership",
          "Length of Membership",
          "Length of Membership",
          "Length of Membership",
          "Length of Membership",
          "Length of Membership",
          "Length of Membership",
          "Length of Membership",
          "Length of Membership",
          "Length of Membership",
          "Length of Membership",
          "Length of Membership",
          "Length of Membership",
          "Length of Membership",
          "Length of Membership",
          "Length of Membership",
          "Length of Membership",
          "Length of Membership",
          "Length of Membership",
          "Length of Membership",
          "Length of Membership",
          "Length of Membership",
          "Length of Membership",
          "Length of Membership",
          "Length of Membership",
          "Length of Membership",
          "Length of Membership",
          "Length of Membership",
          "Length of Membership",
          "Length of Membership",
          "Length of Membership",
          "Length of Membership",
          "Length of Membership",
          "Length of Membership",
          "Length of Membership",
          "Length of Membership",
          "Length of Membership",
          "Length of Membership",
          "Length of Membership",
          "Length of Membership",
          "Length of Membership",
          "Length of Membership",
          "Length of Membership",
          "Length of Membership",
          "Length of Membership",
          "Length of Membership",
          "Length of Membership",
          "Length of Membership",
          "Length of Membership",
          "Length of Membership",
          "Length of Membership",
          "Length of Membership",
          "Length of Membership",
          "Length of Membership",
          "Length of Membership",
          "Length of Membership",
          "Length of Membership",
          "Length of Membership",
          "Length of Membership",
          "Length of Membership",
          "Length of Membership",
          "Length of Membership",
          "Length of Membership",
          "Length of Membership",
          "Length of Membership",
          "Length of Membership",
          "Length of Membership",
          "Length of Membership",
          "Length of Membership",
          "Length of Membership",
          "Length of Membership",
          "Length of Membership",
          "Length of Membership",
          "Length of Membership",
          "Length of Membership",
          "Length of Membership",
          "Length of Membership",
          "Length of Membership",
          "Length of Membership",
          "Length of Membership",
          "Length of Membership",
          "Length of Membership",
          "Length of Membership",
          "Length of Membership",
          "Length of Membership",
          "Length of Membership",
          "Length of Membership",
          "Length of Membership",
          "Length of Membership",
          "Length of Membership",
          "Length of Membership",
          "Length of Membership",
          "Length of Membership",
          "Length of Membership",
          "Length of Membership",
          "Length of Membership",
          "Length of Membership",
          "Length of Membership",
          "Length of Membership",
          "Length of Membership",
          "Length of Membership",
          "Length of Membership",
          "Length of Membership",
          "Length of Membership",
          "Length of Membership",
          "Length of Membership",
          "Length of Membership",
          "Length of Membership",
          "Length of Membership",
          "Length of Membership",
          "Length of Membership",
          "Length of Membership",
          "Length of Membership",
          "Length of Membership",
          "Length of Membership",
          "Length of Membership",
          "Length of Membership",
          "Length of Membership",
          "Length of Membership",
          "Length of Membership",
          "Length of Membership",
          "Length of Membership",
          "Length of Membership",
          "Length of Membership",
          "Length of Membership",
          "Length of Membership",
          "Length of Membership",
          "Length of Membership",
          "Length of Membership",
          "Length of Membership",
          "Length of Membership",
          "Length of Membership",
          "Length of Membership",
          "Length of Membership",
          "Length of Membership",
          "Length of Membership",
          "Length of Membership",
          "Length of Membership",
          "Length of Membership",
          "Length of Membership",
          "Length of Membership",
          "Length of Membership",
          "Length of Membership",
          "Length of Membership",
          "Length of Membership",
          "Length of Membership",
          "Length of Membership",
          "Length of Membership",
          "Length of Membership",
          "Length of Membership",
          "Length of Membership",
          "Length of Membership",
          "Length of Membership",
          "Length of Membership",
          "Length of Membership",
          "Length of Membership",
          "Length of Membership",
          "Length of Membership",
          "Length of Membership",
          "Length of Membership",
          "Length of Membership",
          "Length of Membership",
          "Length of Membership",
          "Length of Membership",
          "Length of Membership",
          "Length of Membership",
          "Length of Membership",
          "Length of Membership",
          "Length of Membership",
          "Length of Membership",
          "Length of Membership",
          "Length of Membership",
          "Length of Membership",
          "Length of Membership",
          "Length of Membership",
          "Length of Membership",
          "Length of Membership",
          "Length of Membership",
          "Length of Membership",
          "Length of Membership",
          "Length of Membership",
          "Length of Membership",
          "Length of Membership",
          "Length of Membership",
          "Length of Membership",
          "Length of Membership",
          "Length of Membership",
          "Length of Membership",
          "Length of Membership",
          "Length of Membership",
          "Length of Membership",
          "Length of Membership",
          "Length of Membership",
          "Length of Membership",
          "Length of Membership",
          "Length of Membership",
          "Length of Membership",
          "Length of Membership",
          "Length of Membership",
          "Length of Membership",
          "Length of Membership",
          "Length of Membership",
          "Length of Membership",
          "Length of Membership",
          "Length of Membership",
          "Length of Membership",
          "Length of Membership",
          "Length of Membership",
          "Length of Membership",
          "Length of Membership",
          "Length of Membership",
          "Length of Membership",
          "Length of Membership",
          "Length of Membership",
          "Length of Membership",
          "Length of Membership",
          "Length of Membership",
          "Length of Membership",
          "Length of Membership",
          "Length of Membership",
          "Length of Membership",
          "Length of Membership",
          "Length of Membership",
          "Length of Membership",
          "Length of Membership",
          "Length of Membership",
          "Length of Membership",
          "Length of Membership",
          "Length of Membership",
          "Length of Membership",
          "Length of Membership",
          "Length of Membership",
          "Length of Membership",
          "Length of Membership",
          "Length of Membership",
          "Length of Membership",
          "Length of Membership",
          "Length of Membership",
          "Length of Membership",
          "Length of Membership",
          "Length of Membership",
          "Length of Membership",
          "Length of Membership",
          "Length of Membership",
          "Length of Membership",
          "Length of Membership",
          "Length of Membership",
          "Length of Membership",
          "Length of Membership",
          "Length of Membership",
          "Length of Membership",
          "Length of Membership",
          "Length of Membership",
          "Length of Membership",
          "Length of Membership",
          "Length of Membership",
          "Length of Membership",
          "Length of Membership",
          "Length of Membership",
          "Length of Membership",
          "Length of Membership",
          "Length of Membership",
          "Length of Membership",
          "Length of Membership",
          "Length of Membership",
          "Length of Membership",
          "Length of Membership",
          "Length of Membership",
          "Length of Membership",
          "Length of Membership",
          "Length of Membership",
          "Length of Membership",
          "Length of Membership",
          "Length of Membership",
          "Length of Membership",
          "Length of Membership",
          "Length of Membership",
          "Length of Membership",
          "Length of Membership",
          "Length of Membership",
          "Length of Membership",
          "Length of Membership",
          "Length of Membership",
          "Length of Membership",
          "Length of Membership",
          "Length of Membership",
          "Length of Membership",
          "Length of Membership",
          "Length of Membership",
          "Length of Membership",
          "Length of Membership",
          "Length of Membership",
          "Length of Membership",
          "Length of Membership",
          "Length of Membership",
          "Length of Membership",
          "Length of Membership",
          "Length of Membership",
          "Length of Membership",
          "Length of Membership",
          "Length of Membership",
          "Length of Membership",
          "Length of Membership",
          "Length of Membership",
          "Length of Membership",
          "Length of Membership",
          "Length of Membership",
          "Length of Membership",
          "Length of Membership",
          "Length of Membership",
          "Length of Membership",
          "Length of Membership",
          "Length of Membership",
          "Length of Membership",
          "Length of Membership",
          "Length of Membership",
          "Length of Membership",
          "Length of Membership",
          "Length of Membership",
          "Length of Membership",
          "Length of Membership",
          "Length of Membership",
          "Length of Membership",
          "Length of Membership",
          "Length of Membership",
          "Length of Membership",
          "Length of Membership",
          "Length of Membership",
          "Length of Membership",
          "Length of Membership",
          "Length of Membership",
          "Length of Membership",
          "Length of Membership",
          "Length of Membership",
          "Length of Membership",
          "Length of Membership",
          "Length of Membership",
          "Length of Membership",
          "Length of Membership",
          "Length of Membership",
          "Length of Membership",
          "Length of Membership",
          "Length of Membership",
          "Length of Membership",
          "Length of Membership",
          "Length of Membership",
          "Length of Membership",
          "Length of Membership",
          "Length of Membership",
          "Length of Membership",
          "Length of Membership",
          "Length of Membership",
          "Length of Membership",
          "Length of Membership",
          "Length of Membership",
          "Length of Membership",
          "Length of Membership",
          "Length of Membership",
          "Length of Membership",
          "Length of Membership",
          "Length of Membership",
          "Length of Membership",
          "Length of Membership",
          "Length of Membership",
          "Length of Membership",
          "Length of Membership",
          "Length of Membership",
          "Length of Membership",
          "Length of Membership",
          "Length of Membership",
          "Length of Membership",
          "Length of Membership",
          "Length of Membership",
          "Length of Membership",
          "Length of Membership",
          "Length of Membership",
          "Length of Membership",
          "Length of Membership",
          "Length of Membership",
          "Length of Membership"
         ],
         "xaxis": "x4",
         "y": {
          "bdata": "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",
          "dtype": "f8"
         },
         "yaxis": "y4"
        },
        {
         "marker": {
          "color": "red",
          "opacity": 0.85,
          "size": 6
         },
         "mode": "markers",
         "name": "Ausreißer",
         "showlegend": false,
         "type": "scatter",
         "x": [],
         "xaxis": "x4",
         "y": [],
         "yaxis": "y4"
        }
       ],
       "layout": {
        "annotations": [
         {
          "font": {
           "size": 16
          },
          "showarrow": false,
          "text": "Avg. Session Length",
          "x": 0.225,
          "xanchor": "center",
          "xref": "paper",
          "y": 1,
          "yanchor": "bottom",
          "yref": "paper"
         },
         {
          "font": {
           "size": 16
          },
          "showarrow": false,
          "text": "Time on App",
          "x": 0.775,
          "xanchor": "center",
          "xref": "paper",
          "y": 1,
          "yanchor": "bottom",
          "yref": "paper"
         },
         {
          "font": {
           "size": 16
          },
          "showarrow": false,
          "text": "Time on Website",
          "x": 0.225,
          "xanchor": "center",
          "xref": "paper",
          "y": 0.375,
          "yanchor": "bottom",
          "yref": "paper"
         },
         {
          "font": {
           "size": 16
          },
          "showarrow": false,
          "text": "Length of Membership",
          "x": 0.775,
          "xanchor": "center",
          "xref": "paper",
          "y": 0.375,
          "yanchor": "bottom",
          "yref": "paper"
         }
        ],
        "height": 600,
        "margin": {
         "b": 40,
         "l": 40,
         "r": 20,
         "t": 60
        },
        "showlegend": true,
        "template": {
         "data": {
          "bar": [
           {
            "error_x": {
             "color": "#2a3f5f"
            },
            "error_y": {
             "color": "#2a3f5f"
            },
            "marker": {
             "line": {
              "color": "#E5ECF6",
              "width": 0.5
             },
             "pattern": {
              "fillmode": "overlay",
              "size": 10,
              "solidity": 0.2
             }
            },
            "type": "bar"
           }
          ],
          "barpolar": [
           {
            "marker": {
             "line": {
              "color": "#E5ECF6",
              "width": 0.5
             },
             "pattern": {
              "fillmode": "overlay",
              "size": 10,
              "solidity": 0.2
             }
            },
            "type": "barpolar"
           }
          ],
          "carpet": [
           {
            "aaxis": {
             "endlinecolor": "#2a3f5f",
             "gridcolor": "white",
             "linecolor": "white",
             "minorgridcolor": "white",
             "startlinecolor": "#2a3f5f"
            },
            "baxis": {
             "endlinecolor": "#2a3f5f",
             "gridcolor": "white",
             "linecolor": "white",
             "minorgridcolor": "white",
             "startlinecolor": "#2a3f5f"
            },
            "type": "carpet"
           }
          ],
          "choropleth": [
           {
            "colorbar": {
             "outlinewidth": 0,
             "ticks": ""
            },
            "type": "choropleth"
           }
          ],
          "contour": [
           {
            "colorbar": {
             "outlinewidth": 0,
             "ticks": ""
            },
            "colorscale": [
             [
              0,
              "#0d0887"
             ],
             [
              0.1111111111111111,
              "#46039f"
             ],
             [
              0.2222222222222222,
              "#7201a8"
             ],
             [
              0.3333333333333333,
              "#9c179e"
             ],
             [
              0.4444444444444444,
              "#bd3786"
             ],
             [
              0.5555555555555556,
              "#d8576b"
             ],
             [
              0.6666666666666666,
              "#ed7953"
             ],
             [
              0.7777777777777778,
              "#fb9f3a"
             ],
             [
              0.8888888888888888,
              "#fdca26"
             ],
             [
              1,
              "#f0f921"
             ]
            ],
            "type": "contour"
           }
          ],
          "contourcarpet": [
           {
            "colorbar": {
             "outlinewidth": 0,
             "ticks": ""
            },
            "type": "contourcarpet"
           }
          ],
          "heatmap": [
           {
            "colorbar": {
             "outlinewidth": 0,
             "ticks": ""
            },
            "colorscale": [
             [
              0,
              "#0d0887"
             ],
             [
              0.1111111111111111,
              "#46039f"
             ],
             [
              0.2222222222222222,
              "#7201a8"
             ],
             [
              0.3333333333333333,
              "#9c179e"
             ],
             [
              0.4444444444444444,
              "#bd3786"
             ],
             [
              0.5555555555555556,
              "#d8576b"
             ],
             [
              0.6666666666666666,
              "#ed7953"
             ],
             [
              0.7777777777777778,
              "#fb9f3a"
             ],
             [
              0.8888888888888888,
              "#fdca26"
             ],
             [
              1,
              "#f0f921"
             ]
            ],
            "type": "heatmap"
           }
          ],
          "histogram": [
           {
            "marker": {
             "pattern": {
              "fillmode": "overlay",
              "size": 10,
              "solidity": 0.2
             }
            },
            "type": "histogram"
           }
          ],
          "histogram2d": [
           {
            "colorbar": {
             "outlinewidth": 0,
             "ticks": ""
            },
            "colorscale": [
             [
              0,
              "#0d0887"
             ],
             [
              0.1111111111111111,
              "#46039f"
             ],
             [
              0.2222222222222222,
              "#7201a8"
             ],
             [
              0.3333333333333333,
              "#9c179e"
             ],
             [
              0.4444444444444444,
              "#bd3786"
             ],
             [
              0.5555555555555556,
              "#d8576b"
             ],
             [
              0.6666666666666666,
              "#ed7953"
             ],
             [
              0.7777777777777778,
              "#fb9f3a"
             ],
             [
              0.8888888888888888,
              "#fdca26"
             ],
             [
              1,
              "#f0f921"
             ]
            ],
            "type": "histogram2d"
           }
          ],
          "histogram2dcontour": [
           {
            "colorbar": {
             "outlinewidth": 0,
             "ticks": ""
            },
            "colorscale": [
             [
              0,
              "#0d0887"
             ],
             [
              0.1111111111111111,
              "#46039f"
             ],
             [
              0.2222222222222222,
              "#7201a8"
             ],
             [
              0.3333333333333333,
              "#9c179e"
             ],
             [
              0.4444444444444444,
              "#bd3786"
             ],
             [
              0.5555555555555556,
              "#d8576b"
             ],
             [
              0.6666666666666666,
              "#ed7953"
             ],
             [
              0.7777777777777778,
              "#fb9f3a"
             ],
             [
              0.8888888888888888,
              "#fdca26"
             ],
             [
              1,
              "#f0f921"
             ]
            ],
            "type": "histogram2dcontour"
           }
          ],
          "mesh3d": [
           {
            "colorbar": {
             "outlinewidth": 0,
             "ticks": ""
            },
            "type": "mesh3d"
           }
          ],
          "parcoords": [
           {
            "line": {
             "colorbar": {
              "outlinewidth": 0,
              "ticks": ""
             }
            },
            "type": "parcoords"
           }
          ],
          "pie": [
           {
            "automargin": true,
            "type": "pie"
           }
          ],
          "scatter": [
           {
            "fillpattern": {
             "fillmode": "overlay",
             "size": 10,
             "solidity": 0.2
            },
            "type": "scatter"
           }
          ],
          "scatter3d": [
           {
            "line": {
             "colorbar": {
              "outlinewidth": 0,
              "ticks": ""
             }
            },
            "marker": {
             "colorbar": {
              "outlinewidth": 0,
              "ticks": ""
             }
            },
            "type": "scatter3d"
           }
          ],
          "scattercarpet": [
           {
            "marker": {
             "colorbar": {
              "outlinewidth": 0,
              "ticks": ""
             }
            },
            "type": "scattercarpet"
           }
          ],
          "scattergeo": [
           {
            "marker": {
             "colorbar": {
              "outlinewidth": 0,
              "ticks": ""
             }
            },
            "type": "scattergeo"
           }
          ],
          "scattergl": [
           {
            "marker": {
             "colorbar": {
              "outlinewidth": 0,
              "ticks": ""
             }
            },
            "type": "scattergl"
           }
          ],
          "scattermap": [
           {
            "marker": {
             "colorbar": {
              "outlinewidth": 0,
              "ticks": ""
             }
            },
            "type": "scattermap"
           }
          ],
          "scattermapbox": [
           {
            "marker": {
             "colorbar": {
              "outlinewidth": 0,
              "ticks": ""
             }
            },
            "type": "scattermapbox"
           }
          ],
          "scatterpolar": [
           {
            "marker": {
             "colorbar": {
              "outlinewidth": 0,
              "ticks": ""
             }
            },
            "type": "scatterpolar"
           }
          ],
          "scatterpolargl": [
           {
            "marker": {
             "colorbar": {
              "outlinewidth": 0,
              "ticks": ""
             }
            },
            "type": "scatterpolargl"
           }
          ],
          "scatterternary": [
           {
            "marker": {
             "colorbar": {
              "outlinewidth": 0,
              "ticks": ""
             }
            },
            "type": "scatterternary"
           }
          ],
          "surface": [
           {
            "colorbar": {
             "outlinewidth": 0,
             "ticks": ""
            },
            "colorscale": [
             [
              0,
              "#0d0887"
             ],
             [
              0.1111111111111111,
              "#46039f"
             ],
             [
              0.2222222222222222,
              "#7201a8"
             ],
             [
              0.3333333333333333,
              "#9c179e"
             ],
             [
              0.4444444444444444,
              "#bd3786"
             ],
             [
              0.5555555555555556,
              "#d8576b"
             ],
             [
              0.6666666666666666,
              "#ed7953"
             ],
             [
              0.7777777777777778,
              "#fb9f3a"
             ],
             [
              0.8888888888888888,
              "#fdca26"
             ],
             [
              1,
              "#f0f921"
             ]
            ],
            "type": "surface"
           }
          ],
          "table": [
           {
            "cells": {
             "fill": {
              "color": "#EBF0F8"
             },
             "line": {
              "color": "white"
             }
            },
            "header": {
             "fill": {
              "color": "#C8D4E3"
             },
             "line": {
              "color": "white"
             }
            },
            "type": "table"
           }
          ]
         },
         "layout": {
          "annotationdefaults": {
           "arrowcolor": "#2a3f5f",
           "arrowhead": 0,
           "arrowwidth": 1
          },
          "autotypenumbers": "strict",
          "coloraxis": {
           "colorbar": {
            "outlinewidth": 0,
            "ticks": ""
           }
          },
          "colorscale": {
           "diverging": [
            [
             0,
             "#8e0152"
            ],
            [
             0.1,
             "#c51b7d"
            ],
            [
             0.2,
             "#de77ae"
            ],
            [
             0.3,
             "#f1b6da"
            ],
            [
             0.4,
             "#fde0ef"
            ],
            [
             0.5,
             "#f7f7f7"
            ],
            [
             0.6,
             "#e6f5d0"
            ],
            [
             0.7,
             "#b8e186"
            ],
            [
             0.8,
             "#7fbc41"
            ],
            [
             0.9,
             "#4d9221"
            ],
            [
             1,
             "#276419"
            ]
           ],
           "sequential": [
            [
             0,
             "#0d0887"
            ],
            [
             0.1111111111111111,
             "#46039f"
            ],
            [
             0.2222222222222222,
             "#7201a8"
            ],
            [
             0.3333333333333333,
             "#9c179e"
            ],
            [
             0.4444444444444444,
             "#bd3786"
            ],
            [
             0.5555555555555556,
             "#d8576b"
            ],
            [
             0.6666666666666666,
             "#ed7953"
            ],
            [
             0.7777777777777778,
             "#fb9f3a"
            ],
            [
             0.8888888888888888,
             "#fdca26"
            ],
            [
             1,
             "#f0f921"
            ]
           ],
           "sequentialminus": [
            [
             0,
             "#0d0887"
            ],
            [
             0.1111111111111111,
             "#46039f"
            ],
            [
             0.2222222222222222,
             "#7201a8"
            ],
            [
             0.3333333333333333,
             "#9c179e"
            ],
            [
             0.4444444444444444,
             "#bd3786"
            ],
            [
             0.5555555555555556,
             "#d8576b"
            ],
            [
             0.6666666666666666,
             "#ed7953"
            ],
            [
             0.7777777777777778,
             "#fb9f3a"
            ],
            [
             0.8888888888888888,
             "#fdca26"
            ],
            [
             1,
             "#f0f921"
            ]
           ]
          },
          "colorway": [
           "#636efa",
           "#EF553B",
           "#00cc96",
           "#ab63fa",
           "#FFA15A",
           "#19d3f3",
           "#FF6692",
           "#B6E880",
           "#FF97FF",
           "#FECB52"
          ],
          "font": {
           "color": "#2a3f5f"
          },
          "geo": {
           "bgcolor": "white",
           "lakecolor": "white",
           "landcolor": "#E5ECF6",
           "showlakes": true,
           "showland": true,
           "subunitcolor": "white"
          },
          "hoverlabel": {
           "align": "left"
          },
          "hovermode": "closest",
          "mapbox": {
           "style": "light"
          },
          "paper_bgcolor": "white",
          "plot_bgcolor": "#E5ECF6",
          "polar": {
           "angularaxis": {
            "gridcolor": "white",
            "linecolor": "white",
            "ticks": ""
           },
           "bgcolor": "#E5ECF6",
           "radialaxis": {
            "gridcolor": "white",
            "linecolor": "white",
            "ticks": ""
           }
          },
          "scene": {
           "xaxis": {
            "backgroundcolor": "#E5ECF6",
            "gridcolor": "white",
            "gridwidth": 2,
            "linecolor": "white",
            "showbackground": true,
            "ticks": "",
            "zerolinecolor": "white"
           },
           "yaxis": {
            "backgroundcolor": "#E5ECF6",
            "gridcolor": "white",
            "gridwidth": 2,
            "linecolor": "white",
            "showbackground": true,
            "ticks": "",
            "zerolinecolor": "white"
           },
           "zaxis": {
            "backgroundcolor": "#E5ECF6",
            "gridcolor": "white",
            "gridwidth": 2,
            "linecolor": "white",
            "showbackground": true,
            "ticks": "",
            "zerolinecolor": "white"
           }
          },
          "shapedefaults": {
           "line": {
            "color": "#2a3f5f"
           }
          },
          "ternary": {
           "aaxis": {
            "gridcolor": "white",
            "linecolor": "white",
            "ticks": ""
           },
           "baxis": {
            "gridcolor": "white",
            "linecolor": "white",
            "ticks": ""
           },
           "bgcolor": "#E5ECF6",
           "caxis": {
            "gridcolor": "white",
            "linecolor": "white",
            "ticks": ""
           }
          },
          "title": {
           "x": 0.05
          },
          "xaxis": {
           "automargin": true,
           "gridcolor": "white",
           "linecolor": "white",
           "ticks": "",
           "title": {
            "standoff": 15
           },
           "zerolinecolor": "white",
           "zerolinewidth": 2
          },
          "yaxis": {
           "automargin": true,
           "gridcolor": "white",
           "linecolor": "white",
           "ticks": "",
           "title": {
            "standoff": 15
           },
           "zerolinecolor": "white",
           "zerolinewidth": 2
          }
         }
        },
        "title": {
         "text": "Boxplots mit Ausreißer (X_train)"
        },
        "width": 640,
        "xaxis": {
         "anchor": "y",
         "domain": [
          0,
          0.45
         ]
        },
        "xaxis2": {
         "anchor": "y2",
         "domain": [
          0.55,
          1
         ]
        },
        "xaxis3": {
         "anchor": "y3",
         "domain": [
          0,
          0.45
         ]
        },
        "xaxis4": {
         "anchor": "y4",
         "domain": [
          0.55,
          1
         ]
        },
        "yaxis": {
         "anchor": "x",
         "domain": [
          0.625,
          1
         ]
        },
        "yaxis2": {
         "anchor": "x2",
         "domain": [
          0.625,
          1
         ]
        },
        "yaxis3": {
         "anchor": "x3",
         "domain": [
          0,
          0.375
         ]
        },
        "yaxis4": {
         "anchor": "x4",
         "domain": [
          0,
          0.375
         ]
        }
       }
      }
     },
     "metadata": {},
     "output_type": "display_data"
    }
   ],
   "source": [
    "fig6, _ = plot_box_outliers_matrix(\n",
    "    X_train_clipped, columns=num_cols, bounds=iqr_info,\n",
    "    title=\"Boxplots mit Ausreißer (X_train)\"\n",
    ")\n",
    "\n",
    "fig6"
   ]
  },
  {
   "cell_type": "code",
   "execution_count": 13,
   "metadata": {},
   "outputs": [
    {
     "data": {
      "application/vnd.plotly.v1+json": {
       "config": {
        "plotlyServerURL": "https://plot.ly"
       },
       "data": [
        {
         "boxpoints": false,
         "name": "Avg. Session Length",
         "showlegend": false,
         "type": "box",
         "xaxis": "x",
         "y": {
          "bdata": "xXF3eO4JQEDSdxhng2dAQCT9etqLcj9ADvop7Ik5QEA2c8Lfu2M/QJSB87clN0BAURoMKcuEQUAMUhi25IFAQA0IaxMjN0BAbG67Kst/QEAiWnemwe8/QBbJKyPQukBAsnGlMMJuQEBcZWr05lNBQJc3qPC/M0BAOejuCZXLQEBwNnKka55AQB5z65f2nkBA16eYO4LIQEBOVUzXG4BAQMOe1CEJWUFAhYkSogUsQUB86qnsyyJAQH3LMO4c1kBAJMZqCRHHQECdZa98n2JAQNKCCZTJUkBAiorwYXMKQUAby738qeI/QBws6Zj6+T9AC2NY4ebnQEBelWEPuiZAQBKw2MutmUBAJBA4ds9DQEDZyIb5HYBAQES594IlvkBA/a92DlALQEC1VkAIvJNAQDMWjHidR0BA3XXnRBdlQECk7V7/BsxAQPzd76322kBA3K3k30evQEAYL550U0RAQEOWjOY6XUBAriPIpy+SQEBXWwR4pj9BQOL1P+WO8EBAFdAtGGKEP0DADjs7F4g/QGrhZ7NwMUBAMMz9MqQ/QEBR8UNkSjhAQGfjoBX6oUBAJRV6rviRP0BBoHgecPZAQINn506gWEBAZ4mhOQoYQEBUESVpQkxBQKPRPHtwTEBAk0qaMC63QEDeZTomj0pAQLwVKyiYYUBAU2yrSa3NQECkOr69ZJVAQLkJJQKbSEBA874OHLj4QEAlZkptQ0hBQPTv1cC5Qj9ArxOo5q+9QEBBW3nowXdBQKC9POoSO0FAP+40zaMYQEBn02vZLjZAQCN9UD6lbEBAfXmGcv70QEDRJuUqu5k/QFKFdr/sFkBAdJbgR+q1QEBfgdLc92xBQAisHFpk60FAdZHm4izAQECShGYBsw8/QBDQPuS+PUFAieVEiEbWQEBOEui45z5AQGkRt4Z1HUBAl2rRvcUwQECqqv69p2Q+QLJUncHPTUBAAYpbNz3HQEAiNr4rP9VAQOcwQZeR/UBAoLhQU1+9QEBckAFYjhJBQD8mODaJ4kBA5pB1ElvwQECKCBwjYQZAQPLISWoUE0BA7wcKPtu8PkA=",
          "dtype": "f8"
         },
         "yaxis": "y"
        },
        {
         "marker": {
          "color": "blue",
          "opacity": 0.6,
          "size": 5
         },
         "mode": "markers",
         "name": "Normal",
         "showlegend": true,
         "type": "scatter",
         "x": [
          "Avg. Session Length",
          "Avg. Session Length",
          "Avg. Session Length",
          "Avg. Session Length",
          "Avg. Session Length",
          "Avg. Session Length",
          "Avg. Session Length",
          "Avg. Session Length",
          "Avg. Session Length",
          "Avg. Session Length",
          "Avg. Session Length",
          "Avg. Session Length",
          "Avg. Session Length",
          "Avg. Session Length",
          "Avg. Session Length",
          "Avg. Session Length",
          "Avg. Session Length",
          "Avg. Session Length",
          "Avg. Session Length",
          "Avg. Session Length",
          "Avg. Session Length",
          "Avg. Session Length",
          "Avg. Session Length",
          "Avg. Session Length",
          "Avg. Session Length",
          "Avg. Session Length",
          "Avg. Session Length",
          "Avg. Session Length",
          "Avg. Session Length",
          "Avg. Session Length",
          "Avg. Session Length",
          "Avg. Session Length",
          "Avg. Session Length",
          "Avg. Session Length",
          "Avg. Session Length",
          "Avg. Session Length",
          "Avg. Session Length",
          "Avg. Session Length",
          "Avg. Session Length",
          "Avg. Session Length",
          "Avg. Session Length",
          "Avg. Session Length",
          "Avg. Session Length",
          "Avg. Session Length",
          "Avg. Session Length",
          "Avg. Session Length",
          "Avg. Session Length",
          "Avg. Session Length",
          "Avg. Session Length",
          "Avg. Session Length",
          "Avg. Session Length",
          "Avg. Session Length",
          "Avg. Session Length",
          "Avg. Session Length",
          "Avg. Session Length",
          "Avg. Session Length",
          "Avg. Session Length",
          "Avg. Session Length",
          "Avg. Session Length",
          "Avg. Session Length",
          "Avg. Session Length",
          "Avg. Session Length",
          "Avg. Session Length",
          "Avg. Session Length",
          "Avg. Session Length",
          "Avg. Session Length",
          "Avg. Session Length",
          "Avg. Session Length",
          "Avg. Session Length",
          "Avg. Session Length",
          "Avg. Session Length",
          "Avg. Session Length",
          "Avg. Session Length",
          "Avg. Session Length",
          "Avg. Session Length",
          "Avg. Session Length",
          "Avg. Session Length",
          "Avg. Session Length",
          "Avg. Session Length",
          "Avg. Session Length",
          "Avg. Session Length",
          "Avg. Session Length",
          "Avg. Session Length",
          "Avg. Session Length",
          "Avg. Session Length",
          "Avg. Session Length",
          "Avg. Session Length",
          "Avg. Session Length",
          "Avg. Session Length",
          "Avg. Session Length",
          "Avg. Session Length",
          "Avg. Session Length",
          "Avg. Session Length",
          "Avg. Session Length",
          "Avg. Session Length",
          "Avg. Session Length",
          "Avg. Session Length",
          "Avg. Session Length",
          "Avg. Session Length",
          "Avg. Session Length"
         ],
         "xaxis": "x",
         "y": {
          "bdata": "xXF3eO4JQEDSdxhng2dAQCT9etqLcj9ADvop7Ik5QEA2c8Lfu2M/QJSB87clN0BAURoMKcuEQUAMUhi25IFAQA0IaxMjN0BAbG67Kst/QEAiWnemwe8/QBbJKyPQukBAsnGlMMJuQEBcZWr05lNBQJc3qPC/M0BAOejuCZXLQEBwNnKka55AQB5z65f2nkBA16eYO4LIQEBOVUzXG4BAQMOe1CEJWUFAhYkSogUsQUB86qnsyyJAQH3LMO4c1kBAJMZqCRHHQECdZa98n2JAQNKCCZTJUkBAiorwYXMKQUAby738qeI/QBws6Zj6+T9AC2NY4ebnQEBelWEPuiZAQBKw2MutmUBAJBA4ds9DQEDZyIb5HYBAQES594IlvkBA/a92DlALQEC1VkAIvJNAQDMWjHidR0BA3XXnRBdlQECk7V7/BsxAQPzd76322kBA3K3k30evQEAYL550U0RAQEOWjOY6XUBAriPIpy+SQEBXWwR4pj9BQOL1P+WO8EBAFdAtGGKEP0DADjs7F4g/QGrhZ7NwMUBAMMz9MqQ/QEBR8UNkSjhAQGfjoBX6oUBAJRV6rviRP0BBoHgecPZAQINn506gWEBAZ4mhOQoYQEBUESVpQkxBQKPRPHtwTEBAk0qaMC63QEDeZTomj0pAQLwVKyiYYUBAU2yrSa3NQECkOr69ZJVAQLkJJQKbSEBA874OHLj4QEAlZkptQ0hBQPTv1cC5Qj9ArxOo5q+9QEBBW3nowXdBQKC9POoSO0FAP+40zaMYQEBn02vZLjZAQCN9UD6lbEBAfXmGcv70QEDRJuUqu5k/QFKFdr/sFkBAdJbgR+q1QEBfgdLc92xBQAisHFpk60FAdZHm4izAQECShGYBsw8/QBDQPuS+PUFAieVEiEbWQEBOEui45z5AQGkRt4Z1HUBAl2rRvcUwQECqqv69p2Q+QLJUncHPTUBAAYpbNz3HQEAiNr4rP9VAQOcwQZeR/UBAoLhQU1+9QEBckAFYjhJBQD8mODaJ4kBA5pB1ElvwQECKCBwjYQZAQPLISWoUE0BA7wcKPtu8PkA=",
          "dtype": "f8"
         },
         "yaxis": "y"
        },
        {
         "marker": {
          "color": "red",
          "opacity": 0.85,
          "size": 6
         },
         "mode": "markers",
         "name": "Ausreißer",
         "showlegend": true,
         "type": "scatter",
         "x": [],
         "xaxis": "x",
         "y": [],
         "yaxis": "y"
        },
        {
         "boxpoints": false,
         "name": "Time on App",
         "showlegend": false,
         "type": "box",
         "xaxis": "x2",
         "y": {
          "bdata": "NExR7RyyJEAGz5+lXKIpQHmC5yIJNCRA0CBk7FrqKkDZBuXqCv0lQD0ShvZIxitA7hsx3jLfJ0D1IwlhuIUnQGmzYnzKnCZAjAN6d8jkJUDCToNs1aAnQJzArzv4xiZAIkPII1AmKEDkuEHdF60kQFXO1pPONydA4KYJ81biJUD3DT2s3yErQDCXQLlfnChAb3sdVKh4KECBnpj8I3YmQDGKzXbONydAtE0lhthiJ0AwHRwZU/gqQMJzgsVR1ypAVU7MTYgaJ0DBkaRKWL4mQPioYIuy/yZAuCXLlYY1KECqAA5FWZAmQDnnLKqmgyVAj11yZKVfJkAVYfyLR/UnQP7oLPeU7idAAQmGsNZ+J0BMe6E0GqkmQMg6mR9SxidA79Uc8dDQJ0CrmZGhZcYnQLucWqd4mCdAdY9R4RJXJ0BVhOi6hwonQGP/X9VZVCtAL6NMaulxKEC+7BIMNJYoQIGxLPmBNSpAC9SA+ePdJkAVg+aBsU8pQIGFZK1oKydAVCOrWol9JUAd+jL70sEqQGqwEi5sWSVAkZYpImWqKUBMvgyfJ9koQAyP0VG7GipAgNRChJHBKkAn1F8+ZC0nQNTfWirRlyhAYDy0RkduLUDnd4rWO6omQJMO1E51xyVAh2MD/4WzKkBT5+eyv3onQCOcvtya5yVAFNvyEpttKECJm+AwkdsnQJbcsfBf+ihAZycl5Oj3JkAYCRfKCEsqQDWIH9CUiCpASgBc9FvWJ0AN21hG83QlQD1lPjCQ1SdAAQcRbZymKkBlUb6a1h0qQE6z+0xC8iVAnxPxMHOIKEDU+QXKKHIoQBrnoRkFYCZAYgbg6sxpJUBeRI3qwdQoQARzf6C8GShAjWQuZ9HLK0A3iIxXHLcoQLxNIq/pkCpAqN2pwhLwKUBHHm0Aiw8pQDa69VcxKyZA6FbMBcPdKEDK6qvzIJsnQLRkife/WitAK5tBYK3rKUCx49MABocoQOOlm8QgsCJA5q+fRcA3KUDN5aMXKs4pQPJ9ynvimyZApDA9jgsJKUDXhimn4nkoQM5/D6M5GCRAbY17OvFFKUA=",
          "dtype": "f8"
         },
         "yaxis": "y2"
        },
        {
         "marker": {
          "color": "blue",
          "opacity": 0.6,
          "size": 5
         },
         "mode": "markers",
         "name": "Normal",
         "showlegend": false,
         "type": "scatter",
         "x": [
          "Time on App",
          "Time on App",
          "Time on App",
          "Time on App",
          "Time on App",
          "Time on App",
          "Time on App",
          "Time on App",
          "Time on App",
          "Time on App",
          "Time on App",
          "Time on App",
          "Time on App",
          "Time on App",
          "Time on App",
          "Time on App",
          "Time on App",
          "Time on App",
          "Time on App",
          "Time on App",
          "Time on App",
          "Time on App",
          "Time on App",
          "Time on App",
          "Time on App",
          "Time on App",
          "Time on App",
          "Time on App",
          "Time on App",
          "Time on App",
          "Time on App",
          "Time on App",
          "Time on App",
          "Time on App",
          "Time on App",
          "Time on App",
          "Time on App",
          "Time on App",
          "Time on App",
          "Time on App",
          "Time on App",
          "Time on App",
          "Time on App",
          "Time on App",
          "Time on App",
          "Time on App",
          "Time on App",
          "Time on App",
          "Time on App",
          "Time on App",
          "Time on App",
          "Time on App",
          "Time on App",
          "Time on App",
          "Time on App",
          "Time on App",
          "Time on App",
          "Time on App",
          "Time on App",
          "Time on App",
          "Time on App",
          "Time on App",
          "Time on App",
          "Time on App",
          "Time on App",
          "Time on App",
          "Time on App",
          "Time on App",
          "Time on App",
          "Time on App",
          "Time on App",
          "Time on App",
          "Time on App",
          "Time on App",
          "Time on App",
          "Time on App",
          "Time on App",
          "Time on App",
          "Time on App",
          "Time on App",
          "Time on App",
          "Time on App",
          "Time on App",
          "Time on App",
          "Time on App",
          "Time on App",
          "Time on App",
          "Time on App",
          "Time on App",
          "Time on App",
          "Time on App",
          "Time on App",
          "Time on App",
          "Time on App",
          "Time on App",
          "Time on App",
          "Time on App",
          "Time on App",
          "Time on App",
          "Time on App"
         ],
         "xaxis": "x2",
         "y": {
          "bdata": "NExR7RyyJEAGz5+lXKIpQHmC5yIJNCRA0CBk7FrqKkDZBuXqCv0lQD0ShvZIxitA7hsx3jLfJ0D1IwlhuIUnQGmzYnzKnCZAjAN6d8jkJUDCToNs1aAnQJzArzv4xiZAIkPII1AmKEDkuEHdF60kQFXO1pPONydA4KYJ81biJUD3DT2s3yErQDCXQLlfnChAb3sdVKh4KECBnpj8I3YmQDGKzXbONydAtE0lhthiJ0AwHRwZU/gqQMJzgsVR1ypAVU7MTYgaJ0DBkaRKWL4mQPioYIuy/yZAuCXLlYY1KECqAA5FWZAmQDnnLKqmgyVAj11yZKVfJkAVYfyLR/UnQP7oLPeU7idAAQmGsNZ+J0BMe6E0GqkmQMg6mR9SxidA79Uc8dDQJ0CrmZGhZcYnQLucWqd4mCdAdY9R4RJXJ0BVhOi6hwonQGP/X9VZVCtAL6NMaulxKEC+7BIMNJYoQIGxLPmBNSpAC9SA+ePdJkAVg+aBsU8pQIGFZK1oKydAVCOrWol9JUAd+jL70sEqQGqwEi5sWSVAkZYpImWqKUBMvgyfJ9koQAyP0VG7GipAgNRChJHBKkAn1F8+ZC0nQNTfWirRlyhAYDy0RkduLUDnd4rWO6omQJMO1E51xyVAh2MD/4WzKkBT5+eyv3onQCOcvtya5yVAFNvyEpttKECJm+AwkdsnQJbcsfBf+ihAZycl5Oj3JkAYCRfKCEsqQDWIH9CUiCpASgBc9FvWJ0AN21hG83QlQD1lPjCQ1SdAAQcRbZymKkBlUb6a1h0qQE6z+0xC8iVAnxPxMHOIKEDU+QXKKHIoQBrnoRkFYCZAYgbg6sxpJUBeRI3qwdQoQARzf6C8GShAjWQuZ9HLK0A3iIxXHLcoQLxNIq/pkCpAqN2pwhLwKUBHHm0Aiw8pQDa69VcxKyZA6FbMBcPdKEDK6qvzIJsnQLRkife/WitAK5tBYK3rKUCx49MABocoQOOlm8QgsCJA5q+fRcA3KUDN5aMXKs4pQPJ9ynvimyZApDA9jgsJKUDXhimn4nkoQM5/D6M5GCRAbY17OvFFKUA=",
          "dtype": "f8"
         },
         "yaxis": "y2"
        },
        {
         "marker": {
          "color": "red",
          "opacity": 0.85,
          "size": 6
         },
         "mode": "markers",
         "name": "Ausreißer",
         "showlegend": false,
         "type": "scatter",
         "x": [],
         "xaxis": "x2",
         "y": [],
         "yaxis": "y2"
        },
        {
         "boxpoints": false,
         "name": "Time on Website",
         "showlegend": false,
         "type": "box",
         "xaxis": "x3",
         "y": {
          "bdata": "hptvqceFQ0C+RiB6CYRCQNUkQduPBUNAfQIuL5GeQkCa3imohwlDQBlr7O7jMENAVZn+nFfkQUDOM/0g+8hCQJV49nMX10JAgrzVX+vSQkBqPFLflJJCQDW5Uahe9EJAhqStktrIQUDBuHj2IBRCQBs3sXMjDkNAH+gHwdIVQkDvX5uGgDVCQO9XW2zyFEJAw38+hoejQkDXRQ2rZX9CQEeb/Q6q10JAYmq1OQ5oQkAcYtc/g8ZCQKcnbJvA4UJAbB1hpH1QQkAIqDDFeKFBQMyYetyRKkNA022+eqIHQkAC4ecVUrFCQAkinmZFTEJA+QLeIEImQkB9QKuUcCJDQGRrSsRvakJAsRwWDk54QkAUd5YOKI5CQB8Edapk7kFAXcUMKjWYQUA+kPeK6yFCQIsX8biA40JAXPC93lG0QkDu+n14NRhCQMVNhK+43EJAPtMvVngtQkCGYemBRYhCQGSMnqFjcENA5tclMzvyQUCs55EG8clDQK2rVylBi0JA7tifLUdlQ0BNFQnr811DQLhHtrfXAENAexDkfPHWQkBacDcZc3lDQGm7GwBJY0NAZDgLCD0rQkBtg3J3SaBBQIe4po/MeUJAQ5ejJT8fQ0AeMb3I3LpBQIRfZoU1G0NAYEpI9aT7QkAuSexwam1CQCJYdbC50kJAvpw4FWaZQkBBPFC0EnVCQDdGiqaML0JAwarwVnBrQkBt2hzk76pCQJnO9h5QfEJA9ElHjqqoQkCPya3pynBCQEXazMoi4kJA4Gm8jNpyQkBaUaWsxqFCQIgel1QETkJAT5pxnZpJQkCgcUz6T2lCQMl2vp8a30NAmO5hURHiQUDWG8WpDtZCQF/jkpbVekJALxuGdIqHQkDonSzaQBVCQJSF11oi9EFAC9KNQ6OqQkB3u/EtB/BCQNvmkO/W+kJAwzdqez7QQkCII03taihCQNMA0lFS30JAKhx/YNn5QkCykmwpHG5DQCV92iEddUJAGaWszFydQkB7n/DCO05CQIEP6pW/6kJAwjrfInKTQkAsw5ngjF1DQB6YXKo5l0JAgUPMllwbQkA=",
          "dtype": "f8"
         },
         "yaxis": "y3"
        },
        {
         "marker": {
          "color": "blue",
          "opacity": 0.6,
          "size": 5
         },
         "mode": "markers",
         "name": "Normal",
         "showlegend": false,
         "type": "scatter",
         "x": [
          "Time on Website",
          "Time on Website",
          "Time on Website",
          "Time on Website",
          "Time on Website",
          "Time on Website",
          "Time on Website",
          "Time on Website",
          "Time on Website",
          "Time on Website",
          "Time on Website",
          "Time on Website",
          "Time on Website",
          "Time on Website",
          "Time on Website",
          "Time on Website",
          "Time on Website",
          "Time on Website",
          "Time on Website",
          "Time on Website",
          "Time on Website",
          "Time on Website",
          "Time on Website",
          "Time on Website",
          "Time on Website",
          "Time on Website",
          "Time on Website",
          "Time on Website",
          "Time on Website",
          "Time on Website",
          "Time on Website",
          "Time on Website",
          "Time on Website",
          "Time on Website",
          "Time on Website",
          "Time on Website",
          "Time on Website",
          "Time on Website",
          "Time on Website",
          "Time on Website",
          "Time on Website",
          "Time on Website",
          "Time on Website",
          "Time on Website",
          "Time on Website",
          "Time on Website",
          "Time on Website",
          "Time on Website",
          "Time on Website",
          "Time on Website",
          "Time on Website",
          "Time on Website",
          "Time on Website",
          "Time on Website",
          "Time on Website",
          "Time on Website",
          "Time on Website",
          "Time on Website",
          "Time on Website",
          "Time on Website",
          "Time on Website",
          "Time on Website",
          "Time on Website",
          "Time on Website",
          "Time on Website",
          "Time on Website",
          "Time on Website",
          "Time on Website",
          "Time on Website",
          "Time on Website",
          "Time on Website",
          "Time on Website",
          "Time on Website",
          "Time on Website",
          "Time on Website",
          "Time on Website",
          "Time on Website",
          "Time on Website",
          "Time on Website",
          "Time on Website",
          "Time on Website",
          "Time on Website",
          "Time on Website",
          "Time on Website",
          "Time on Website",
          "Time on Website",
          "Time on Website",
          "Time on Website",
          "Time on Website",
          "Time on Website",
          "Time on Website",
          "Time on Website",
          "Time on Website",
          "Time on Website",
          "Time on Website",
          "Time on Website",
          "Time on Website",
          "Time on Website",
          "Time on Website",
          "Time on Website"
         ],
         "xaxis": "x3",
         "y": {
          "bdata": "hptvqceFQ0C+RiB6CYRCQNUkQduPBUNAfQIuL5GeQkCa3imohwlDQBlr7O7jMENAVZn+nFfkQUDOM/0g+8hCQJV49nMX10JAgrzVX+vSQkBqPFLflJJCQDW5Uahe9EJAhqStktrIQUDBuHj2IBRCQBs3sXMjDkNAH+gHwdIVQkDvX5uGgDVCQO9XW2zyFEJAw38+hoejQkDXRQ2rZX9CQEeb/Q6q10JAYmq1OQ5oQkAcYtc/g8ZCQKcnbJvA4UJAbB1hpH1QQkAIqDDFeKFBQMyYetyRKkNA022+eqIHQkAC4ecVUrFCQAkinmZFTEJA+QLeIEImQkB9QKuUcCJDQGRrSsRvakJAsRwWDk54QkAUd5YOKI5CQB8Edapk7kFAXcUMKjWYQUA+kPeK6yFCQIsX8biA40JAXPC93lG0QkDu+n14NRhCQMVNhK+43EJAPtMvVngtQkCGYemBRYhCQGSMnqFjcENA5tclMzvyQUCs55EG8clDQK2rVylBi0JA7tifLUdlQ0BNFQnr811DQLhHtrfXAENAexDkfPHWQkBacDcZc3lDQGm7GwBJY0NAZDgLCD0rQkBtg3J3SaBBQIe4po/MeUJAQ5ejJT8fQ0AeMb3I3LpBQIRfZoU1G0NAYEpI9aT7QkAuSexwam1CQCJYdbC50kJAvpw4FWaZQkBBPFC0EnVCQDdGiqaML0JAwarwVnBrQkBt2hzk76pCQJnO9h5QfEJA9ElHjqqoQkCPya3pynBCQEXazMoi4kJA4Gm8jNpyQkBaUaWsxqFCQIgel1QETkJAT5pxnZpJQkCgcUz6T2lCQMl2vp8a30NAmO5hURHiQUDWG8WpDtZCQF/jkpbVekJALxuGdIqHQkDonSzaQBVCQJSF11oi9EFAC9KNQ6OqQkB3u/EtB/BCQNvmkO/W+kJAwzdqez7QQkCII03taihCQNMA0lFS30JAKhx/YNn5QkCykmwpHG5DQCV92iEddUJAGaWszFydQkB7n/DCO05CQIEP6pW/6kJAwjrfInKTQkAsw5ngjF1DQB6YXKo5l0JAgUPMllwbQkA=",
          "dtype": "f8"
         },
         "yaxis": "y3"
        },
        {
         "marker": {
          "color": "red",
          "opacity": 0.85,
          "size": 6
         },
         "mode": "markers",
         "name": "Ausreißer",
         "showlegend": false,
         "type": "scatter",
         "x": [],
         "xaxis": "x3",
         "y": [],
         "yaxis": "y3"
        },
        {
         "boxpoints": false,
         "name": "Length of Membership",
         "showlegend": false,
         "type": "box",
         "xaxis": "x4",
         "y": {
          "bdata": "1cajcvp5C0BcDcyLCNAOQPv5f+oD9BBAgPiSXAKIB0D8fe8ZTm4LQD1cTWIKLw5AEyDbGjB7CkCUBGwlYawOQCit3lt1PAZA44u+8LWbDkDMBCbKWJ8JQEBubnh6iARArSetvlAxA0DLbnzqK5YRQEUuejmDuwdAJ0TndY5FBkB6dDxA+/gNQDRow966fwhAyKghUaBBBEDLVXrM7UAOQE6gcSQDTglAhXS5cKWTC0DlOoiY0bAIQPKBqDFgLRNAPrGsixu0BkAFSSUeNiMQQJRDK0hD1RNAACY3cdLLD0CJ6Bp6jgQHQKC34DnSof8/zfAAkj41EUBx64vuTEMMQP3JNwRtZAxAokW28/3U8j9F54xfDWsQQKTqMg5wpwlAcYVTUCxmEUAm3sfne9EEQKwtPj+kkAlAxIHlKUhRC0CDf6ZuXn0MQMRnC1aDzfU/ASGGEH6TC0BSjUTrgfYMQB6meyOPjwZACrL6wZHhEUD5B9KAmlQQQNmuzgantA1AmorrbHbc9j9WvQwLEPYBQHh10lhRNgtA1/TmNzbHB0B4vcDyZ64TQPQQQhQSTBJAHD7uSTt6EUCgn+dd6yILQNbCu9fSNv0/0V2ZweRD+D+zzU8psioSQPqh2OOpxBFApj/+2JsmBkD0qiVQxXQBQF5eLQnwExBANPsrnO09B0B+XksozlEJQOorZVLG4xBAt08ltzk4A0COfvwh1wMPQAT1Yo1UIwJAxISws9KwCkCqu9mgrDEQQDJxlSRPZxFAQTcbMCAzFEBuNqZNHvwKQAI8I/zH9wZAbHXQXhMwCECtytCl6FALQETpKaTTawxAg+w3Y9wmC0DGQNm/VwsJQErYdBs86w5Av/nOQbKFEEDIh0aLeVsQQJ6bVxT+3xNAaMkVW+rVCUDVR5X9Ic8DQOTO/XJn5RJAQA2BeQRWEUAr1m3GpqsAQGfFPKG/+QZAImH963LECkCoXDdMwB0JQDWKeHmK8gZAeqkeeNjSEEAgrw0VvcoBQG7NQtUfjRRAURS0WgpcBUDHbNDV7PYIQEC7CHHcRwxAeyUmzt7cCkA=",
          "dtype": "f8"
         },
         "yaxis": "y4"
        },
        {
         "marker": {
          "color": "blue",
          "opacity": 0.6,
          "size": 5
         },
         "mode": "markers",
         "name": "Normal",
         "showlegend": false,
         "type": "scatter",
         "x": [
          "Length of Membership",
          "Length of Membership",
          "Length of Membership",
          "Length of Membership",
          "Length of Membership",
          "Length of Membership",
          "Length of Membership",
          "Length of Membership",
          "Length of Membership",
          "Length of Membership",
          "Length of Membership",
          "Length of Membership",
          "Length of Membership",
          "Length of Membership",
          "Length of Membership",
          "Length of Membership",
          "Length of Membership",
          "Length of Membership",
          "Length of Membership",
          "Length of Membership",
          "Length of Membership",
          "Length of Membership",
          "Length of Membership",
          "Length of Membership",
          "Length of Membership",
          "Length of Membership",
          "Length of Membership",
          "Length of Membership",
          "Length of Membership",
          "Length of Membership",
          "Length of Membership",
          "Length of Membership",
          "Length of Membership",
          "Length of Membership",
          "Length of Membership",
          "Length of Membership",
          "Length of Membership",
          "Length of Membership",
          "Length of Membership",
          "Length of Membership",
          "Length of Membership",
          "Length of Membership",
          "Length of Membership",
          "Length of Membership",
          "Length of Membership",
          "Length of Membership",
          "Length of Membership",
          "Length of Membership",
          "Length of Membership",
          "Length of Membership",
          "Length of Membership",
          "Length of Membership",
          "Length of Membership",
          "Length of Membership",
          "Length of Membership",
          "Length of Membership",
          "Length of Membership",
          "Length of Membership",
          "Length of Membership",
          "Length of Membership",
          "Length of Membership",
          "Length of Membership",
          "Length of Membership",
          "Length of Membership",
          "Length of Membership",
          "Length of Membership",
          "Length of Membership",
          "Length of Membership",
          "Length of Membership",
          "Length of Membership",
          "Length of Membership",
          "Length of Membership",
          "Length of Membership",
          "Length of Membership",
          "Length of Membership",
          "Length of Membership",
          "Length of Membership",
          "Length of Membership",
          "Length of Membership",
          "Length of Membership",
          "Length of Membership",
          "Length of Membership",
          "Length of Membership",
          "Length of Membership",
          "Length of Membership",
          "Length of Membership",
          "Length of Membership",
          "Length of Membership",
          "Length of Membership",
          "Length of Membership",
          "Length of Membership",
          "Length of Membership",
          "Length of Membership",
          "Length of Membership",
          "Length of Membership",
          "Length of Membership",
          "Length of Membership",
          "Length of Membership",
          "Length of Membership",
          "Length of Membership"
         ],
         "xaxis": "x4",
         "y": {
          "bdata": "1cajcvp5C0BcDcyLCNAOQPv5f+oD9BBAgPiSXAKIB0D8fe8ZTm4LQD1cTWIKLw5AEyDbGjB7CkCUBGwlYawOQCit3lt1PAZA44u+8LWbDkDMBCbKWJ8JQEBubnh6iARArSetvlAxA0DLbnzqK5YRQEUuejmDuwdAJ0TndY5FBkB6dDxA+/gNQDRow966fwhAyKghUaBBBEDLVXrM7UAOQE6gcSQDTglAhXS5cKWTC0DlOoiY0bAIQPKBqDFgLRNAPrGsixu0BkAFSSUeNiMQQJRDK0hD1RNAACY3cdLLD0CJ6Bp6jgQHQKC34DnSof8/zfAAkj41EUBx64vuTEMMQP3JNwRtZAxAokW28/3U8j9F54xfDWsQQKTqMg5wpwlAcYVTUCxmEUAm3sfne9EEQKwtPj+kkAlAxIHlKUhRC0CDf6ZuXn0MQMRnC1aDzfU/ASGGEH6TC0BSjUTrgfYMQB6meyOPjwZACrL6wZHhEUD5B9KAmlQQQNmuzgantA1AmorrbHbc9j9WvQwLEPYBQHh10lhRNgtA1/TmNzbHB0B4vcDyZ64TQPQQQhQSTBJAHD7uSTt6EUCgn+dd6yILQNbCu9fSNv0/0V2ZweRD+D+zzU8psioSQPqh2OOpxBFApj/+2JsmBkD0qiVQxXQBQF5eLQnwExBANPsrnO09B0B+XksozlEJQOorZVLG4xBAt08ltzk4A0COfvwh1wMPQAT1Yo1UIwJAxISws9KwCkCqu9mgrDEQQDJxlSRPZxFAQTcbMCAzFEBuNqZNHvwKQAI8I/zH9wZAbHXQXhMwCECtytCl6FALQETpKaTTawxAg+w3Y9wmC0DGQNm/VwsJQErYdBs86w5Av/nOQbKFEEDIh0aLeVsQQJ6bVxT+3xNAaMkVW+rVCUDVR5X9Ic8DQOTO/XJn5RJAQA2BeQRWEUAr1m3GpqsAQGfFPKG/+QZAImH963LECkCoXDdMwB0JQDWKeHmK8gZAeqkeeNjSEEAgrw0VvcoBQG7NQtUfjRRAURS0WgpcBUDHbNDV7PYIQEC7CHHcRwxAeyUmzt7cCkA=",
          "dtype": "f8"
         },
         "yaxis": "y4"
        },
        {
         "marker": {
          "color": "red",
          "opacity": 0.85,
          "size": 6
         },
         "mode": "markers",
         "name": "Ausreißer",
         "showlegend": false,
         "type": "scatter",
         "x": [],
         "xaxis": "x4",
         "y": [],
         "yaxis": "y4"
        }
       ],
       "layout": {
        "annotations": [
         {
          "font": {
           "size": 16
          },
          "showarrow": false,
          "text": "Avg. Session Length",
          "x": 0.225,
          "xanchor": "center",
          "xref": "paper",
          "y": 1,
          "yanchor": "bottom",
          "yref": "paper"
         },
         {
          "font": {
           "size": 16
          },
          "showarrow": false,
          "text": "Time on App",
          "x": 0.775,
          "xanchor": "center",
          "xref": "paper",
          "y": 1,
          "yanchor": "bottom",
          "yref": "paper"
         },
         {
          "font": {
           "size": 16
          },
          "showarrow": false,
          "text": "Time on Website",
          "x": 0.225,
          "xanchor": "center",
          "xref": "paper",
          "y": 0.375,
          "yanchor": "bottom",
          "yref": "paper"
         },
         {
          "font": {
           "size": 16
          },
          "showarrow": false,
          "text": "Length of Membership",
          "x": 0.775,
          "xanchor": "center",
          "xref": "paper",
          "y": 0.375,
          "yanchor": "bottom",
          "yref": "paper"
         }
        ],
        "height": 600,
        "margin": {
         "b": 40,
         "l": 40,
         "r": 20,
         "t": 60
        },
        "showlegend": true,
        "template": {
         "data": {
          "bar": [
           {
            "error_x": {
             "color": "#2a3f5f"
            },
            "error_y": {
             "color": "#2a3f5f"
            },
            "marker": {
             "line": {
              "color": "#E5ECF6",
              "width": 0.5
             },
             "pattern": {
              "fillmode": "overlay",
              "size": 10,
              "solidity": 0.2
             }
            },
            "type": "bar"
           }
          ],
          "barpolar": [
           {
            "marker": {
             "line": {
              "color": "#E5ECF6",
              "width": 0.5
             },
             "pattern": {
              "fillmode": "overlay",
              "size": 10,
              "solidity": 0.2
             }
            },
            "type": "barpolar"
           }
          ],
          "carpet": [
           {
            "aaxis": {
             "endlinecolor": "#2a3f5f",
             "gridcolor": "white",
             "linecolor": "white",
             "minorgridcolor": "white",
             "startlinecolor": "#2a3f5f"
            },
            "baxis": {
             "endlinecolor": "#2a3f5f",
             "gridcolor": "white",
             "linecolor": "white",
             "minorgridcolor": "white",
             "startlinecolor": "#2a3f5f"
            },
            "type": "carpet"
           }
          ],
          "choropleth": [
           {
            "colorbar": {
             "outlinewidth": 0,
             "ticks": ""
            },
            "type": "choropleth"
           }
          ],
          "contour": [
           {
            "colorbar": {
             "outlinewidth": 0,
             "ticks": ""
            },
            "colorscale": [
             [
              0,
              "#0d0887"
             ],
             [
              0.1111111111111111,
              "#46039f"
             ],
             [
              0.2222222222222222,
              "#7201a8"
             ],
             [
              0.3333333333333333,
              "#9c179e"
             ],
             [
              0.4444444444444444,
              "#bd3786"
             ],
             [
              0.5555555555555556,
              "#d8576b"
             ],
             [
              0.6666666666666666,
              "#ed7953"
             ],
             [
              0.7777777777777778,
              "#fb9f3a"
             ],
             [
              0.8888888888888888,
              "#fdca26"
             ],
             [
              1,
              "#f0f921"
             ]
            ],
            "type": "contour"
           }
          ],
          "contourcarpet": [
           {
            "colorbar": {
             "outlinewidth": 0,
             "ticks": ""
            },
            "type": "contourcarpet"
           }
          ],
          "heatmap": [
           {
            "colorbar": {
             "outlinewidth": 0,
             "ticks": ""
            },
            "colorscale": [
             [
              0,
              "#0d0887"
             ],
             [
              0.1111111111111111,
              "#46039f"
             ],
             [
              0.2222222222222222,
              "#7201a8"
             ],
             [
              0.3333333333333333,
              "#9c179e"
             ],
             [
              0.4444444444444444,
              "#bd3786"
             ],
             [
              0.5555555555555556,
              "#d8576b"
             ],
             [
              0.6666666666666666,
              "#ed7953"
             ],
             [
              0.7777777777777778,
              "#fb9f3a"
             ],
             [
              0.8888888888888888,
              "#fdca26"
             ],
             [
              1,
              "#f0f921"
             ]
            ],
            "type": "heatmap"
           }
          ],
          "histogram": [
           {
            "marker": {
             "pattern": {
              "fillmode": "overlay",
              "size": 10,
              "solidity": 0.2
             }
            },
            "type": "histogram"
           }
          ],
          "histogram2d": [
           {
            "colorbar": {
             "outlinewidth": 0,
             "ticks": ""
            },
            "colorscale": [
             [
              0,
              "#0d0887"
             ],
             [
              0.1111111111111111,
              "#46039f"
             ],
             [
              0.2222222222222222,
              "#7201a8"
             ],
             [
              0.3333333333333333,
              "#9c179e"
             ],
             [
              0.4444444444444444,
              "#bd3786"
             ],
             [
              0.5555555555555556,
              "#d8576b"
             ],
             [
              0.6666666666666666,
              "#ed7953"
             ],
             [
              0.7777777777777778,
              "#fb9f3a"
             ],
             [
              0.8888888888888888,
              "#fdca26"
             ],
             [
              1,
              "#f0f921"
             ]
            ],
            "type": "histogram2d"
           }
          ],
          "histogram2dcontour": [
           {
            "colorbar": {
             "outlinewidth": 0,
             "ticks": ""
            },
            "colorscale": [
             [
              0,
              "#0d0887"
             ],
             [
              0.1111111111111111,
              "#46039f"
             ],
             [
              0.2222222222222222,
              "#7201a8"
             ],
             [
              0.3333333333333333,
              "#9c179e"
             ],
             [
              0.4444444444444444,
              "#bd3786"
             ],
             [
              0.5555555555555556,
              "#d8576b"
             ],
             [
              0.6666666666666666,
              "#ed7953"
             ],
             [
              0.7777777777777778,
              "#fb9f3a"
             ],
             [
              0.8888888888888888,
              "#fdca26"
             ],
             [
              1,
              "#f0f921"
             ]
            ],
            "type": "histogram2dcontour"
           }
          ],
          "mesh3d": [
           {
            "colorbar": {
             "outlinewidth": 0,
             "ticks": ""
            },
            "type": "mesh3d"
           }
          ],
          "parcoords": [
           {
            "line": {
             "colorbar": {
              "outlinewidth": 0,
              "ticks": ""
             }
            },
            "type": "parcoords"
           }
          ],
          "pie": [
           {
            "automargin": true,
            "type": "pie"
           }
          ],
          "scatter": [
           {
            "fillpattern": {
             "fillmode": "overlay",
             "size": 10,
             "solidity": 0.2
            },
            "type": "scatter"
           }
          ],
          "scatter3d": [
           {
            "line": {
             "colorbar": {
              "outlinewidth": 0,
              "ticks": ""
             }
            },
            "marker": {
             "colorbar": {
              "outlinewidth": 0,
              "ticks": ""
             }
            },
            "type": "scatter3d"
           }
          ],
          "scattercarpet": [
           {
            "marker": {
             "colorbar": {
              "outlinewidth": 0,
              "ticks": ""
             }
            },
            "type": "scattercarpet"
           }
          ],
          "scattergeo": [
           {
            "marker": {
             "colorbar": {
              "outlinewidth": 0,
              "ticks": ""
             }
            },
            "type": "scattergeo"
           }
          ],
          "scattergl": [
           {
            "marker": {
             "colorbar": {
              "outlinewidth": 0,
              "ticks": ""
             }
            },
            "type": "scattergl"
           }
          ],
          "scattermap": [
           {
            "marker": {
             "colorbar": {
              "outlinewidth": 0,
              "ticks": ""
             }
            },
            "type": "scattermap"
           }
          ],
          "scattermapbox": [
           {
            "marker": {
             "colorbar": {
              "outlinewidth": 0,
              "ticks": ""
             }
            },
            "type": "scattermapbox"
           }
          ],
          "scatterpolar": [
           {
            "marker": {
             "colorbar": {
              "outlinewidth": 0,
              "ticks": ""
             }
            },
            "type": "scatterpolar"
           }
          ],
          "scatterpolargl": [
           {
            "marker": {
             "colorbar": {
              "outlinewidth": 0,
              "ticks": ""
             }
            },
            "type": "scatterpolargl"
           }
          ],
          "scatterternary": [
           {
            "marker": {
             "colorbar": {
              "outlinewidth": 0,
              "ticks": ""
             }
            },
            "type": "scatterternary"
           }
          ],
          "surface": [
           {
            "colorbar": {
             "outlinewidth": 0,
             "ticks": ""
            },
            "colorscale": [
             [
              0,
              "#0d0887"
             ],
             [
              0.1111111111111111,
              "#46039f"
             ],
             [
              0.2222222222222222,
              "#7201a8"
             ],
             [
              0.3333333333333333,
              "#9c179e"
             ],
             [
              0.4444444444444444,
              "#bd3786"
             ],
             [
              0.5555555555555556,
              "#d8576b"
             ],
             [
              0.6666666666666666,
              "#ed7953"
             ],
             [
              0.7777777777777778,
              "#fb9f3a"
             ],
             [
              0.8888888888888888,
              "#fdca26"
             ],
             [
              1,
              "#f0f921"
             ]
            ],
            "type": "surface"
           }
          ],
          "table": [
           {
            "cells": {
             "fill": {
              "color": "#EBF0F8"
             },
             "line": {
              "color": "white"
             }
            },
            "header": {
             "fill": {
              "color": "#C8D4E3"
             },
             "line": {
              "color": "white"
             }
            },
            "type": "table"
           }
          ]
         },
         "layout": {
          "annotationdefaults": {
           "arrowcolor": "#2a3f5f",
           "arrowhead": 0,
           "arrowwidth": 1
          },
          "autotypenumbers": "strict",
          "coloraxis": {
           "colorbar": {
            "outlinewidth": 0,
            "ticks": ""
           }
          },
          "colorscale": {
           "diverging": [
            [
             0,
             "#8e0152"
            ],
            [
             0.1,
             "#c51b7d"
            ],
            [
             0.2,
             "#de77ae"
            ],
            [
             0.3,
             "#f1b6da"
            ],
            [
             0.4,
             "#fde0ef"
            ],
            [
             0.5,
             "#f7f7f7"
            ],
            [
             0.6,
             "#e6f5d0"
            ],
            [
             0.7,
             "#b8e186"
            ],
            [
             0.8,
             "#7fbc41"
            ],
            [
             0.9,
             "#4d9221"
            ],
            [
             1,
             "#276419"
            ]
           ],
           "sequential": [
            [
             0,
             "#0d0887"
            ],
            [
             0.1111111111111111,
             "#46039f"
            ],
            [
             0.2222222222222222,
             "#7201a8"
            ],
            [
             0.3333333333333333,
             "#9c179e"
            ],
            [
             0.4444444444444444,
             "#bd3786"
            ],
            [
             0.5555555555555556,
             "#d8576b"
            ],
            [
             0.6666666666666666,
             "#ed7953"
            ],
            [
             0.7777777777777778,
             "#fb9f3a"
            ],
            [
             0.8888888888888888,
             "#fdca26"
            ],
            [
             1,
             "#f0f921"
            ]
           ],
           "sequentialminus": [
            [
             0,
             "#0d0887"
            ],
            [
             0.1111111111111111,
             "#46039f"
            ],
            [
             0.2222222222222222,
             "#7201a8"
            ],
            [
             0.3333333333333333,
             "#9c179e"
            ],
            [
             0.4444444444444444,
             "#bd3786"
            ],
            [
             0.5555555555555556,
             "#d8576b"
            ],
            [
             0.6666666666666666,
             "#ed7953"
            ],
            [
             0.7777777777777778,
             "#fb9f3a"
            ],
            [
             0.8888888888888888,
             "#fdca26"
            ],
            [
             1,
             "#f0f921"
            ]
           ]
          },
          "colorway": [
           "#636efa",
           "#EF553B",
           "#00cc96",
           "#ab63fa",
           "#FFA15A",
           "#19d3f3",
           "#FF6692",
           "#B6E880",
           "#FF97FF",
           "#FECB52"
          ],
          "font": {
           "color": "#2a3f5f"
          },
          "geo": {
           "bgcolor": "white",
           "lakecolor": "white",
           "landcolor": "#E5ECF6",
           "showlakes": true,
           "showland": true,
           "subunitcolor": "white"
          },
          "hoverlabel": {
           "align": "left"
          },
          "hovermode": "closest",
          "mapbox": {
           "style": "light"
          },
          "paper_bgcolor": "white",
          "plot_bgcolor": "#E5ECF6",
          "polar": {
           "angularaxis": {
            "gridcolor": "white",
            "linecolor": "white",
            "ticks": ""
           },
           "bgcolor": "#E5ECF6",
           "radialaxis": {
            "gridcolor": "white",
            "linecolor": "white",
            "ticks": ""
           }
          },
          "scene": {
           "xaxis": {
            "backgroundcolor": "#E5ECF6",
            "gridcolor": "white",
            "gridwidth": 2,
            "linecolor": "white",
            "showbackground": true,
            "ticks": "",
            "zerolinecolor": "white"
           },
           "yaxis": {
            "backgroundcolor": "#E5ECF6",
            "gridcolor": "white",
            "gridwidth": 2,
            "linecolor": "white",
            "showbackground": true,
            "ticks": "",
            "zerolinecolor": "white"
           },
           "zaxis": {
            "backgroundcolor": "#E5ECF6",
            "gridcolor": "white",
            "gridwidth": 2,
            "linecolor": "white",
            "showbackground": true,
            "ticks": "",
            "zerolinecolor": "white"
           }
          },
          "shapedefaults": {
           "line": {
            "color": "#2a3f5f"
           }
          },
          "ternary": {
           "aaxis": {
            "gridcolor": "white",
            "linecolor": "white",
            "ticks": ""
           },
           "baxis": {
            "gridcolor": "white",
            "linecolor": "white",
            "ticks": ""
           },
           "bgcolor": "#E5ECF6",
           "caxis": {
            "gridcolor": "white",
            "linecolor": "white",
            "ticks": ""
           }
          },
          "title": {
           "x": 0.05
          },
          "xaxis": {
           "automargin": true,
           "gridcolor": "white",
           "linecolor": "white",
           "ticks": "",
           "title": {
            "standoff": 15
           },
           "zerolinecolor": "white",
           "zerolinewidth": 2
          },
          "yaxis": {
           "automargin": true,
           "gridcolor": "white",
           "linecolor": "white",
           "ticks": "",
           "title": {
            "standoff": 15
           },
           "zerolinecolor": "white",
           "zerolinewidth": 2
          }
         }
        },
        "title": {
         "text": "Boxplots mit Ausreißer (X_test)"
        },
        "width": 640,
        "xaxis": {
         "anchor": "y",
         "domain": [
          0,
          0.45
         ]
        },
        "xaxis2": {
         "anchor": "y2",
         "domain": [
          0.55,
          1
         ]
        },
        "xaxis3": {
         "anchor": "y3",
         "domain": [
          0,
          0.45
         ]
        },
        "xaxis4": {
         "anchor": "y4",
         "domain": [
          0.55,
          1
         ]
        },
        "yaxis": {
         "anchor": "x",
         "domain": [
          0.625,
          1
         ]
        },
        "yaxis2": {
         "anchor": "x2",
         "domain": [
          0.625,
          1
         ]
        },
        "yaxis3": {
         "anchor": "x3",
         "domain": [
          0,
          0.375
         ]
        },
        "yaxis4": {
         "anchor": "x4",
         "domain": [
          0,
          0.375
         ]
        }
       }
      }
     },
     "metadata": {},
     "output_type": "display_data"
    }
   ],
   "source": [
    "fig7, _ = plot_box_outliers_matrix(\n",
    "    X_test_clipped, columns=num_cols, bounds=iqr_info,\n",
    "    title=\"Boxplots mit Ausreißer (X_test)\"\n",
    ")\n",
    "\n",
    "fig7"
   ]
  },
  {
   "cell_type": "markdown",
   "metadata": {},
   "source": [
    "### 3.3 Verteilung der Daten prüfen\n",
    "Jetzt können wir die Verteilung der kontinuierlichen Spalten begutachten. Dazu betrachten wir die sogenannte Skewness, diese Kenngröße beschreibt wie symmetrisch oder schief die Verteilung unserer Daten sind:\n",
    "\n",
    "- 0: Symmetrische Verteilung (ähnlich Normalverteilung)\n",
    "- > 0: Rechts-schiefe Verteilung\n",
    "- < 0: Links-schiefe Verteilung"
   ]
  },
  {
   "cell_type": "code",
   "execution_count": 14,
   "metadata": {},
   "outputs": [
    {
     "data": {
      "application/vnd.plotly.v1+json": {
       "config": {
        "plotlyServerURL": "https://plot.ly"
       },
       "data": [
        {
         "name": "Avg. Session Length",
         "nbinsx": 30,
         "showlegend": false,
         "type": "histogram",
         "x": {
          "bdata": "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",
          "dtype": "f8"
         },
         "xaxis": "x",
         "yaxis": "y"
        },
        {
         "name": "Time on App",
         "nbinsx": 30,
         "showlegend": false,
         "type": "histogram",
         "x": {
          "bdata": "JhjoaNTVJ0A2Et7IO6UnQOBEH+Cr+itANvZF69l2JUDJouBjXXknQPVhIqLnhStAFAbY76VfKkDYzTPMy/clQPSbCQzd6ClADN54OgWfJ0AO4zuPGZAmQGQVPaYCzCRA8liWXK05J0CBa1aYGIgnQN2QjXNaPixAde4VQfM9J0AhW3UsJHEsQCGjX941YCpASSAEfapzJ0D9k6Zd2gMpQBdCis0JLydASUtqQvcYJ0AYFd5fyO8pQKt75El47ilAHpXuehxKKECfbArmsysqQNrtD5QHbyhAlrwu9jlmJkAgsFTkdOonQJhd4xDQXipA8hwZCgO9JUDTnoMZfzQnQL6HYN68BCdAP4d8+6vEKUCl9g5QXngnQA2RYoX3IiVA6H5eWcRnJkBg15oMj8kpQI+LdnTBBihA9Mv6q3VWJ0CV5NGNPmQpQLyp+p7VFSVAlFRIohWGJ0A2QdEMFKknQEhUCxE2WCpAd1kDIziOJ0BF0Y/KrVAnQNSYFqkKOCZAfJa6Ah4VKkC4pdrG/ooqQANdeyjJDShAWdvOqKQFKECZrMYbT1coQB4KNLi8dydAFLYvKoJ3JkBmO2femLUnQLpwfPNdbytAWi02D4+1KECSxTrs0HgmQInUuC6+/ShAJE7G8XpMKEASF0rH31QrQN5sWXtpFCxAPbkRGhfuJ0DnQjSXkvYmQPwT+iTBzyZA7CCSQ1qRKUCkKW33M7QoQGNiRFla8SVAtZ0+KPTcKUAcPtuSBfgnQIklHwcjaihAMcGxPHGcJkAirfn7uS0oQMlY9G/kdilA0QoTryRiJ0CHr8mliVMmQIA9gUMFWypArbpTD6XSJ0Bw5UFEn/QiQAC/EUAZdidAdFEzOMqKJUBflMjGEA4pQOTCmPEZ7ChAGcgRq4otJ0AoXk0vgtYoQCQRMdzUSSlAacmRhcOrJ0AOMN+inuIoQFp3jyXuUSpA+PEOtThAKUBIgn1t54UpQLWAHGBKKCpAV4yn4qOmKkCAs2xyfecqQJxj03SxFydAKSYI6+P5KECpwEQxFFMnQJVf12g8+CVAXd7ej+nhJEAGBa/+KlQpQMdYUldJwCVAaYKwaf5mJkBHq6fUom8pQFUwoNCUjypANx60jkEzKkB7D5Qr2QYqQAkKPuv0LCtAdNdnu1WHJ0BqUqLHdNYnQCc0UFdXjShAVp20mCQjKkAwasDULFAnQDw2Ai45ICdAiAyaO1rIK0ABQdYNnW8pQLBdsFGJ8SdAkGcGZVqDJEDhmu64sN8nQDzJMZYvESpACiaPCHLoI0BQqA/L/XMmQFykgHeSgidA5uKI1hujJ0Ctya+bH+0lQMppqKxlhydAGVff+4tzKUBCkBdog9soQIGWpj68pixAMzxaI9kgKEBzu54+TlsoQB1ud9w7IyhAn3uEQA3TJ0CdTXIBkrsmQGZzAfPrXilA6ZzOSFoDKUDWuf5urygkQNWtxRIyLCdAm8XVGcZuJUCIjKdrsHInQKc4A+8S1ihAKCO8qR+3J0BCiWM0OjApQCK2mzCOrSpAfrJM0niQKUCeJ4bv2jApQHvcvxP/5CVA2yM4nPLoI0DnTaNsqBAqQMwDRNPr8ihARS3hkrvwK0ATXXPl7fAmQL0W7aBy8SpAP70wnNVRJ0CclSEhYRMmQO1t3zGUCCZA6NzNc+rCKEDuFnBnpwcnQNXa1/0E9iRAopw3I7ocKUDz1DDHZtQpQLZ17wupnilA4Aqxy511KUDqrqCAeuInQKF9iPCm1idABe7MHzOBJ0DjpZvEILAiQK0AGconsypAC4vUwDUXKEBtBVZgBjomQC7ZZPChBCdAsqCOMBmuJkCEpTyJzLEmQHXZGC8f6ypAkgWjza9VJkAZSe9xB8YmQO35FfZWECtAOMtlU2ixKUA0OSbDq14nQDmpnePnKClArLW6lfXJKkD6za4Q2jooQK0jWfWFqChAsO6jzT9/JUAExTP95xQnQDIjowIsRShA8A32pZGdKUBH2Pk72EMoQO0irotVHChAnEsM/7ARJUDJtJcAivAlQPnIhKPUTiZA9x+dkpfHJUBjOQCmdpMsQIuz/+ldBSZAFrpiu8KjKECWbunusvglQBUJcnXlxShAWqSYZ9bTJ0CtBS2DIPcoQIwUkdbAmSpAEf0X5FjKJkAMrcRDDe8nQCYfYXV+lydAiK7akDVuKECoQSXcGp4rQNc85BSGIyxAdPwjcuDRK0Cq8SxoXXImQF2THUzBtSlAdwM1bRgxKEBLta1so7snQMEDpMFmgSpAeRMKiELUKUDvgy/qt00lQOWOrlscMChA82ufvDsCKkAI2hFlNHAlQLCirDSMUyRAWdwCyjoUKkB+19/LsYQpQPCrSsniPSZAMepgU3LUKkDUsLDRXS8rQJHtfD81ni1A6oA5jhjvJkA+v48780QnQCZC+Gv8xiZA0I0ePtPdJUB7+RszkkIqQJYNeqGUwSZAy7fMTS/sJUAT6CINbt8nQMH++JnO9idANK97jAVGJUB91z35GRMlQKBliuwVIydAvots8LzRJkBWQ/RpF3kmQDh/hLMQlSpA84t3geDpJUCQRSsl4CInQBARJjK5zidAM8EisAPnKECLs0zubVsoQGuMlzjlRCVA6IIjmGjIKECulbaXE+IpQFMHTTMOECZArPykMGcHKkDzLRuqD6coQMbPMyoLDCdAeREq9CKXKUDkqW+qotwpQApSXoIe9ihA2rMjB0/SKkBnUOJGUlYoQP+bEMkh0CdAuZDAcuVxK0CMG/obBuMqQNL9yyFMCihAcd11D3BJJkB5gofnx14rQPGMYvPxNiNAltmDAB76KUCP2IFdZcYqQNI+tv0PRyhAda/NWdOOKkCXOSU5wyIqQG1ge4+n5CdAfgtY6AAEKkA8T67GjcYnQCJpfFbXNSpAJzTzCF3aLECILCX9F6YjQHKnhxPAFSlAIQ5NL9EuJ0C33wZ9gXglQHwTFJ8OdStAhCnCyEloKUAWXIAvEIEpQN4ezjhefiZABC9LocDFKkBQa22J1v8lQIaSANuolCRALyUL5niNKkDLQRPNmHQoQFjqHsYlTCpAhwBQLNfiKEDuFNKyWXcnQHav26qlkShAoIh/C+tVKUAKYVce5C8qQI/NtFNxBiRA5GbJcjlKJ0AlW+UHtvglQJPG8kA3RiZAofGShBvsKEBIjX+OlTMpQFHj+ZpOKyZAVKNxeMnBKED10P8p9OQnQGFuJgcS6ClA9efY0G9DJECwWc6vNEAoQEfRdXgHAyhAlLU6ieqzJ0DQ3NeEpGIpQKbjRnL+zSpAERxA5Rf9KEDfMp/igswoQEs/OTJMDydADtfES/7eJkA79HK7sOknQJQVcqzeEyhA46WbxCCwIkA/3HudGpwlQHopNmnHKypAaTdfRRL4I0D65S8OEVQpQKDGkzwLOCZA73Y5sSM+JkCVDHlhdXYnQF1ZzBHPyyZA6yUMqCqdJUCD50zU+zApQKIbMPjH1itAhk94uhBFJ0BhaQgNbPsoQLa54Az4+SlAAKZJnQqqJ0CdyVVqVggrQM14VvCwLSlA8WR1CuFrKUBhyxxH5qMkQHdQIj6YOCVAYdrvT+XIKUCq59ns8kYpQEndqa4f6ylANpZsHS7lKECS8w63ZKgpQMqQmqc5FChAIUhyFTJRKECOE8e4TBQoQIXHm4+CQSVAFCj9KjRnJkCnrhcJK7QnQMryE2cAlidABE+m78AZJ0BAO3XnQMgqQDDpHhFepSdADOx6BFdKKUCKF8KfwCkpQM6OifZTtytAhp3edgsnJkDCgRKcHrglQDyJJ6hKdydANqILjNCNKED+SCaMN2QnQOcgI+lpqipA2YR3KsoaJkCnOHhrIaonQA6KJsVuuidAoSY6gbFYJ0Bguk2m3D4nQAUI+l7LDShAMq87FIfBKUCAZXVc1FopQDlQiTPqUCdAHGqX+4q6KEDKtLZIN7EjQNfrPxkpAilAwdLDPO5yJ0Bx8Jqj8vElQOJoe0ky9yVArf8btSKhJEA3XC4le6EpQDRdVv8twiZAt5lZ5G1GKUDotYIvJLklQPYmmEpK2SdAyeQFAT3GKEBGjwF9oUwqQBVlQxIOKyhAxVQcRlmJJkA2rUyVJzclQCMEm1caJSVAHjstsryzJkAiZQljqnMpQLZl7BBeiiVAohsyiscgJ0CgOHQLbtYoQNUUUcUhuyZAvbOL2RvOJUCJZDLuNnUoQD5xhdiFYShA1IVUFp3pKUBgonSIGsYlQI8WfJwKRCxA108MbNblJkA=",
          "dtype": "f8"
         },
         "xaxis": "x2",
         "yaxis": "y2"
        },
        {
         "name": "Time on Website",
         "nbinsx": 30,
         "showlegend": false,
         "type": "histogram",
         "x": {
          "bdata": "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",
          "dtype": "f8"
         },
         "xaxis": "x3",
         "yaxis": "y3"
        },
        {
         "name": "Length of Membership",
         "nbinsx": 30,
         "showlegend": false,
         "type": "histogram",
         "x": {
          "bdata": "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",
          "dtype": "f8"
         },
         "xaxis": "x4",
         "yaxis": "y4"
        }
       ],
       "layout": {
        "annotations": [
         {
          "showarrow": false,
          "text": "Avg. Session Length | Skew=-0.0271 | n=400",
          "x": 0.5,
          "xref": "x domain",
          "y": 1.08,
          "yref": "y domain"
         },
         {
          "showarrow": false,
          "text": "Time on App | Skew=-0.0468 | n=400",
          "x": 0.5,
          "xref": "x2 domain",
          "y": 1.08,
          "yref": "y2 domain"
         },
         {
          "showarrow": false,
          "text": "Time on Website | Skew=-0.0045 | n=400",
          "x": 0.5,
          "xref": "x3 domain",
          "y": 1.08,
          "yref": "y3 domain"
         },
         {
          "showarrow": false,
          "text": "Length of Membership | Skew=-0.1125 | n=400",
          "x": 0.5,
          "xref": "x4 domain",
          "y": 1.08,
          "yref": "y4 domain"
         }
        ],
        "bargap": 0.05,
        "height": 600,
        "margin": {
         "b": 40,
         "l": 40,
         "r": 20,
         "t": 60
        },
        "showlegend": false,
        "template": {
         "data": {
          "bar": [
           {
            "error_x": {
             "color": "#2a3f5f"
            },
            "error_y": {
             "color": "#2a3f5f"
            },
            "marker": {
             "line": {
              "color": "#E5ECF6",
              "width": 0.5
             },
             "pattern": {
              "fillmode": "overlay",
              "size": 10,
              "solidity": 0.2
             }
            },
            "type": "bar"
           }
          ],
          "barpolar": [
           {
            "marker": {
             "line": {
              "color": "#E5ECF6",
              "width": 0.5
             },
             "pattern": {
              "fillmode": "overlay",
              "size": 10,
              "solidity": 0.2
             }
            },
            "type": "barpolar"
           }
          ],
          "carpet": [
           {
            "aaxis": {
             "endlinecolor": "#2a3f5f",
             "gridcolor": "white",
             "linecolor": "white",
             "minorgridcolor": "white",
             "startlinecolor": "#2a3f5f"
            },
            "baxis": {
             "endlinecolor": "#2a3f5f",
             "gridcolor": "white",
             "linecolor": "white",
             "minorgridcolor": "white",
             "startlinecolor": "#2a3f5f"
            },
            "type": "carpet"
           }
          ],
          "choropleth": [
           {
            "colorbar": {
             "outlinewidth": 0,
             "ticks": ""
            },
            "type": "choropleth"
           }
          ],
          "contour": [
           {
            "colorbar": {
             "outlinewidth": 0,
             "ticks": ""
            },
            "colorscale": [
             [
              0,
              "#0d0887"
             ],
             [
              0.1111111111111111,
              "#46039f"
             ],
             [
              0.2222222222222222,
              "#7201a8"
             ],
             [
              0.3333333333333333,
              "#9c179e"
             ],
             [
              0.4444444444444444,
              "#bd3786"
             ],
             [
              0.5555555555555556,
              "#d8576b"
             ],
             [
              0.6666666666666666,
              "#ed7953"
             ],
             [
              0.7777777777777778,
              "#fb9f3a"
             ],
             [
              0.8888888888888888,
              "#fdca26"
             ],
             [
              1,
              "#f0f921"
             ]
            ],
            "type": "contour"
           }
          ],
          "contourcarpet": [
           {
            "colorbar": {
             "outlinewidth": 0,
             "ticks": ""
            },
            "type": "contourcarpet"
           }
          ],
          "heatmap": [
           {
            "colorbar": {
             "outlinewidth": 0,
             "ticks": ""
            },
            "colorscale": [
             [
              0,
              "#0d0887"
             ],
             [
              0.1111111111111111,
              "#46039f"
             ],
             [
              0.2222222222222222,
              "#7201a8"
             ],
             [
              0.3333333333333333,
              "#9c179e"
             ],
             [
              0.4444444444444444,
              "#bd3786"
             ],
             [
              0.5555555555555556,
              "#d8576b"
             ],
             [
              0.6666666666666666,
              "#ed7953"
             ],
             [
              0.7777777777777778,
              "#fb9f3a"
             ],
             [
              0.8888888888888888,
              "#fdca26"
             ],
             [
              1,
              "#f0f921"
             ]
            ],
            "type": "heatmap"
           }
          ],
          "histogram": [
           {
            "marker": {
             "pattern": {
              "fillmode": "overlay",
              "size": 10,
              "solidity": 0.2
             }
            },
            "type": "histogram"
           }
          ],
          "histogram2d": [
           {
            "colorbar": {
             "outlinewidth": 0,
             "ticks": ""
            },
            "colorscale": [
             [
              0,
              "#0d0887"
             ],
             [
              0.1111111111111111,
              "#46039f"
             ],
             [
              0.2222222222222222,
              "#7201a8"
             ],
             [
              0.3333333333333333,
              "#9c179e"
             ],
             [
              0.4444444444444444,
              "#bd3786"
             ],
             [
              0.5555555555555556,
              "#d8576b"
             ],
             [
              0.6666666666666666,
              "#ed7953"
             ],
             [
              0.7777777777777778,
              "#fb9f3a"
             ],
             [
              0.8888888888888888,
              "#fdca26"
             ],
             [
              1,
              "#f0f921"
             ]
            ],
            "type": "histogram2d"
           }
          ],
          "histogram2dcontour": [
           {
            "colorbar": {
             "outlinewidth": 0,
             "ticks": ""
            },
            "colorscale": [
             [
              0,
              "#0d0887"
             ],
             [
              0.1111111111111111,
              "#46039f"
             ],
             [
              0.2222222222222222,
              "#7201a8"
             ],
             [
              0.3333333333333333,
              "#9c179e"
             ],
             [
              0.4444444444444444,
              "#bd3786"
             ],
             [
              0.5555555555555556,
              "#d8576b"
             ],
             [
              0.6666666666666666,
              "#ed7953"
             ],
             [
              0.7777777777777778,
              "#fb9f3a"
             ],
             [
              0.8888888888888888,
              "#fdca26"
             ],
             [
              1,
              "#f0f921"
             ]
            ],
            "type": "histogram2dcontour"
           }
          ],
          "mesh3d": [
           {
            "colorbar": {
             "outlinewidth": 0,
             "ticks": ""
            },
            "type": "mesh3d"
           }
          ],
          "parcoords": [
           {
            "line": {
             "colorbar": {
              "outlinewidth": 0,
              "ticks": ""
             }
            },
            "type": "parcoords"
           }
          ],
          "pie": [
           {
            "automargin": true,
            "type": "pie"
           }
          ],
          "scatter": [
           {
            "fillpattern": {
             "fillmode": "overlay",
             "size": 10,
             "solidity": 0.2
            },
            "type": "scatter"
           }
          ],
          "scatter3d": [
           {
            "line": {
             "colorbar": {
              "outlinewidth": 0,
              "ticks": ""
             }
            },
            "marker": {
             "colorbar": {
              "outlinewidth": 0,
              "ticks": ""
             }
            },
            "type": "scatter3d"
           }
          ],
          "scattercarpet": [
           {
            "marker": {
             "colorbar": {
              "outlinewidth": 0,
              "ticks": ""
             }
            },
            "type": "scattercarpet"
           }
          ],
          "scattergeo": [
           {
            "marker": {
             "colorbar": {
              "outlinewidth": 0,
              "ticks": ""
             }
            },
            "type": "scattergeo"
           }
          ],
          "scattergl": [
           {
            "marker": {
             "colorbar": {
              "outlinewidth": 0,
              "ticks": ""
             }
            },
            "type": "scattergl"
           }
          ],
          "scattermap": [
           {
            "marker": {
             "colorbar": {
              "outlinewidth": 0,
              "ticks": ""
             }
            },
            "type": "scattermap"
           }
          ],
          "scattermapbox": [
           {
            "marker": {
             "colorbar": {
              "outlinewidth": 0,
              "ticks": ""
             }
            },
            "type": "scattermapbox"
           }
          ],
          "scatterpolar": [
           {
            "marker": {
             "colorbar": {
              "outlinewidth": 0,
              "ticks": ""
             }
            },
            "type": "scatterpolar"
           }
          ],
          "scatterpolargl": [
           {
            "marker": {
             "colorbar": {
              "outlinewidth": 0,
              "ticks": ""
             }
            },
            "type": "scatterpolargl"
           }
          ],
          "scatterternary": [
           {
            "marker": {
             "colorbar": {
              "outlinewidth": 0,
              "ticks": ""
             }
            },
            "type": "scatterternary"
           }
          ],
          "surface": [
           {
            "colorbar": {
             "outlinewidth": 0,
             "ticks": ""
            },
            "colorscale": [
             [
              0,
              "#0d0887"
             ],
             [
              0.1111111111111111,
              "#46039f"
             ],
             [
              0.2222222222222222,
              "#7201a8"
             ],
             [
              0.3333333333333333,
              "#9c179e"
             ],
             [
              0.4444444444444444,
              "#bd3786"
             ],
             [
              0.5555555555555556,
              "#d8576b"
             ],
             [
              0.6666666666666666,
              "#ed7953"
             ],
             [
              0.7777777777777778,
              "#fb9f3a"
             ],
             [
              0.8888888888888888,
              "#fdca26"
             ],
             [
              1,
              "#f0f921"
             ]
            ],
            "type": "surface"
           }
          ],
          "table": [
           {
            "cells": {
             "fill": {
              "color": "#EBF0F8"
             },
             "line": {
              "color": "white"
             }
            },
            "header": {
             "fill": {
              "color": "#C8D4E3"
             },
             "line": {
              "color": "white"
             }
            },
            "type": "table"
           }
          ]
         },
         "layout": {
          "annotationdefaults": {
           "arrowcolor": "#2a3f5f",
           "arrowhead": 0,
           "arrowwidth": 1
          },
          "autotypenumbers": "strict",
          "coloraxis": {
           "colorbar": {
            "outlinewidth": 0,
            "ticks": ""
           }
          },
          "colorscale": {
           "diverging": [
            [
             0,
             "#8e0152"
            ],
            [
             0.1,
             "#c51b7d"
            ],
            [
             0.2,
             "#de77ae"
            ],
            [
             0.3,
             "#f1b6da"
            ],
            [
             0.4,
             "#fde0ef"
            ],
            [
             0.5,
             "#f7f7f7"
            ],
            [
             0.6,
             "#e6f5d0"
            ],
            [
             0.7,
             "#b8e186"
            ],
            [
             0.8,
             "#7fbc41"
            ],
            [
             0.9,
             "#4d9221"
            ],
            [
             1,
             "#276419"
            ]
           ],
           "sequential": [
            [
             0,
             "#0d0887"
            ],
            [
             0.1111111111111111,
             "#46039f"
            ],
            [
             0.2222222222222222,
             "#7201a8"
            ],
            [
             0.3333333333333333,
             "#9c179e"
            ],
            [
             0.4444444444444444,
             "#bd3786"
            ],
            [
             0.5555555555555556,
             "#d8576b"
            ],
            [
             0.6666666666666666,
             "#ed7953"
            ],
            [
             0.7777777777777778,
             "#fb9f3a"
            ],
            [
             0.8888888888888888,
             "#fdca26"
            ],
            [
             1,
             "#f0f921"
            ]
           ],
           "sequentialminus": [
            [
             0,
             "#0d0887"
            ],
            [
             0.1111111111111111,
             "#46039f"
            ],
            [
             0.2222222222222222,
             "#7201a8"
            ],
            [
             0.3333333333333333,
             "#9c179e"
            ],
            [
             0.4444444444444444,
             "#bd3786"
            ],
            [
             0.5555555555555556,
             "#d8576b"
            ],
            [
             0.6666666666666666,
             "#ed7953"
            ],
            [
             0.7777777777777778,
             "#fb9f3a"
            ],
            [
             0.8888888888888888,
             "#fdca26"
            ],
            [
             1,
             "#f0f921"
            ]
           ]
          },
          "colorway": [
           "#636efa",
           "#EF553B",
           "#00cc96",
           "#ab63fa",
           "#FFA15A",
           "#19d3f3",
           "#FF6692",
           "#B6E880",
           "#FF97FF",
           "#FECB52"
          ],
          "font": {
           "color": "#2a3f5f"
          },
          "geo": {
           "bgcolor": "white",
           "lakecolor": "white",
           "landcolor": "#E5ECF6",
           "showlakes": true,
           "showland": true,
           "subunitcolor": "white"
          },
          "hoverlabel": {
           "align": "left"
          },
          "hovermode": "closest",
          "mapbox": {
           "style": "light"
          },
          "paper_bgcolor": "white",
          "plot_bgcolor": "#E5ECF6",
          "polar": {
           "angularaxis": {
            "gridcolor": "white",
            "linecolor": "white",
            "ticks": ""
           },
           "bgcolor": "#E5ECF6",
           "radialaxis": {
            "gridcolor": "white",
            "linecolor": "white",
            "ticks": ""
           }
          },
          "scene": {
           "xaxis": {
            "backgroundcolor": "#E5ECF6",
            "gridcolor": "white",
            "gridwidth": 2,
            "linecolor": "white",
            "showbackground": true,
            "ticks": "",
            "zerolinecolor": "white"
           },
           "yaxis": {
            "backgroundcolor": "#E5ECF6",
            "gridcolor": "white",
            "gridwidth": 2,
            "linecolor": "white",
            "showbackground": true,
            "ticks": "",
            "zerolinecolor": "white"
           },
           "zaxis": {
            "backgroundcolor": "#E5ECF6",
            "gridcolor": "white",
            "gridwidth": 2,
            "linecolor": "white",
            "showbackground": true,
            "ticks": "",
            "zerolinecolor": "white"
           }
          },
          "shapedefaults": {
           "line": {
            "color": "#2a3f5f"
           }
          },
          "ternary": {
           "aaxis": {
            "gridcolor": "white",
            "linecolor": "white",
            "ticks": ""
           },
           "baxis": {
            "gridcolor": "white",
            "linecolor": "white",
            "ticks": ""
           },
           "bgcolor": "#E5ECF6",
           "caxis": {
            "gridcolor": "white",
            "linecolor": "white",
            "ticks": ""
           }
          },
          "title": {
           "x": 0.05
          },
          "xaxis": {
           "automargin": true,
           "gridcolor": "white",
           "linecolor": "white",
           "ticks": "",
           "title": {
            "standoff": 15
           },
           "zerolinecolor": "white",
           "zerolinewidth": 2
          },
          "yaxis": {
           "automargin": true,
           "gridcolor": "white",
           "linecolor": "white",
           "ticks": "",
           "title": {
            "standoff": 15
           },
           "zerolinecolor": "white",
           "zerolinewidth": 2
          }
         }
        },
        "title": {
         "text": "Histogramme mit Schiefe (skew)"
        },
        "width": 760,
        "xaxis": {
         "anchor": "y",
         "domain": [
          0,
          0.45
         ],
         "title": {
          "text": "Avg. Session Length"
         }
        },
        "xaxis2": {
         "anchor": "y2",
         "domain": [
          0.55,
          1
         ],
         "title": {
          "text": "Time on App"
         }
        },
        "xaxis3": {
         "anchor": "y3",
         "domain": [
          0,
          0.45
         ],
         "title": {
          "text": "Time on Website"
         }
        },
        "xaxis4": {
         "anchor": "y4",
         "domain": [
          0.55,
          1
         ],
         "title": {
          "text": "Length of Membership"
         }
        },
        "yaxis": {
         "anchor": "x",
         "domain": [
          0.625,
          1
         ],
         "title": {
          "text": "Häufigkeit"
         }
        },
        "yaxis2": {
         "anchor": "x2",
         "domain": [
          0.625,
          1
         ],
         "title": {
          "text": "Häufigkeit"
         }
        },
        "yaxis3": {
         "anchor": "x3",
         "domain": [
          0,
          0.375
         ],
         "title": {
          "text": "Häufigkeit"
         }
        },
        "yaxis4": {
         "anchor": "x4",
         "domain": [
          0,
          0.375
         ],
         "title": {
          "text": "Häufigkeit"
         }
        }
       }
      }
     },
     "metadata": {},
     "output_type": "display_data"
    }
   ],
   "source": [
    "from eda import hist_skew_matrix\n",
    "\n",
    "fig8, sk = hist_skew_matrix(X_train_clipped, columns=num_cols)\n",
    "fig8"
   ]
  },
  {
   "cell_type": "markdown",
   "metadata": {},
   "source": [
    "Unsere Daten haben eine symmetrische Verteilung, wir müssen also nichts unternehmen."
   ]
  },
  {
   "cell_type": "markdown",
   "metadata": {},
   "source": [
    "### 3.4 Skalierung / Standardisierung\n",
    "In unserem Datensatz können Features sehr unterschiedliche Einheiten und Wertebereiche haben."
   ]
  },
  {
   "cell_type": "code",
   "execution_count": 15,
   "metadata": {},
   "outputs": [
    {
     "name": "stdout",
     "output_type": "stream",
     "text": [
      "Avg. Session Length\n",
      "Mittelwert = 33.0629\n",
      "Standardabweichung = 0.9807\n",
      "Time on App\n",
      "Mittelwert = 12.0607\n",
      "Standardabweichung = 0.9837\n",
      "Time on Website\n",
      "Mittelwert = 37.0216\n",
      "Standardabweichung = 1.0139\n",
      "Length of Membership\n",
      "Mittelwert = 3.5681\n",
      "Standardabweichung = 1.0014\n"
     ]
    }
   ],
   "source": [
    "# Standardabweichung und Mittelwert vor Standardisierung prüfen:\n",
    "for col in num_cols:\n",
    "    mean_val = X_train_clipped[col].mean()\n",
    "    std_val = X_train_clipped[col].std(ddof=0)\n",
    "    print(f\"{col}\\nMittelwert = {mean_val:.4f}\\nStandardabweichung = {std_val:.4f}\")"
   ]
  },
  {
   "cell_type": "code",
   "execution_count": 16,
   "metadata": {},
   "outputs": [],
   "source": [
    "# 1) Scaler NUR auf dem TRAIN fitten\n",
    "scaler = StandardScaler()\n",
    "scaler.fit(X_train_clipped[num_cols].astype(float))\n",
    "\n",
    "# 2) Kopien anlegen (Train/Test getrennt)\n",
    "X_train_scaled = X_train_clipped.copy()\n",
    "X_test_scaled  = X_test_clipped.copy()\n",
    "\n",
    "# 3) Transform auf beide Datensätze anwenden\n",
    "X_train_scaled[num_cols] = scaler.transform(X_train_clipped[num_cols].astype(float))\n",
    "X_test_scaled[num_cols]  = scaler.transform(X_test_clipped[num_cols].astype(float))"
   ]
  },
  {
   "cell_type": "code",
   "execution_count": 17,
   "metadata": {},
   "outputs": [
    {
     "name": "stdout",
     "output_type": "stream",
     "text": [
      "Avg. Session Length\n",
      "Mittelwert = -0.0000\n",
      "Standardabweichung = 1.0000\n",
      "Time on App\n",
      "Mittelwert = -0.0000\n",
      "Standardabweichung = 1.0000\n",
      "Time on Website\n",
      "Mittelwert = -0.0000\n",
      "Standardabweichung = 1.0000\n",
      "Length of Membership\n",
      "Mittelwert = -0.0000\n",
      "Standardabweichung = 1.0000\n"
     ]
    }
   ],
   "source": [
    "# Standardabweichung und Mittelwert nach Standardisierung prüfen:\n",
    "for col in num_cols:\n",
    "    mean_val = X_train_scaled[col].mean()\n",
    "    std_val = X_train_scaled[col].std(ddof=0)\n",
    "    print(f\"{col}\\nMittelwert = {mean_val:.4f}\\nStandardabweichung = {std_val:.4f}\")"
   ]
  },
  {
   "cell_type": "markdown",
   "metadata": {},
   "source": [
    "### 3.5 Unnötige Features entfernen\n",
    "Einige Features sind für uns nicht interessant, deswegen entfernen wir sie:"
   ]
  },
  {
   "cell_type": "code",
   "execution_count": 18,
   "metadata": {},
   "outputs": [
    {
     "data": {
      "application/vnd.microsoft.datawrangler.viewer.v0+json": {
       "columns": [
        {
         "name": "index",
         "rawType": "int64",
         "type": "integer"
        },
        {
         "name": "Email",
         "rawType": "object",
         "type": "string"
        },
        {
         "name": "Address",
         "rawType": "object",
         "type": "string"
        },
        {
         "name": "Avatar",
         "rawType": "object",
         "type": "string"
        },
        {
         "name": "Avg. Session Length",
         "rawType": "float64",
         "type": "float"
        },
        {
         "name": "Time on App",
         "rawType": "float64",
         "type": "float"
        },
        {
         "name": "Time on Website",
         "rawType": "float64",
         "type": "float"
        },
        {
         "name": "Length of Membership",
         "rawType": "float64",
         "type": "float"
        }
       ],
       "ref": "563d5349-7b1f-4a68-8735-ccb3cc635f84",
       "rows": [
        [
         "249",
         "anntaylor@hotmail.com",
         "PSC 1634, Box 8167\nAPO AA 49814",
         "Teal",
         "0.7313435224851198",
         "-0.1454280732202548",
         "-0.1744714149264014",
         "0.06675710745373645"
        ],
        [
         "433",
         "efoster@williamson-boyd.org",
         "4968 Bennett Manors\nRogerschester, IL 81579-8333",
         "Lavender",
         "1.2392497757528225",
         "-0.24191099145871653",
         "-0.7032967156331363",
         "-1.448753207181975"
        ],
        [
         "19",
         "samuel46@love-west.net",
         "544 Alexander Heights Suite 768\nNorth Johnview, MT 57912",
         "LightSeaGreen",
         "-0.4538608992590938",
         "1.9607678075490225",
         "0.16655027695320426",
         "0.4957143659498518"
        ],
        [
         "322",
         "suzanne63@gmail.com",
         "229 Eric Mountains\nNew Caleb, PA 00396",
         "LightSalmon",
         "0.20566015843498645",
         "-1.3505236289970466",
         "-0.8638152806122513",
         "0.5177016411464885"
        ],
        [
         "332",
         "davisbriana@gmail.com",
         "15298 Erickson Shore Apt. 056\nSouth Patrickfort, MD 16503-3145",
         "MediumVioletRed",
         "0.0828895804151952",
         "-0.32900799986847423",
         "0.9010091169808203",
         "-1.3761043817704326"
        ],
        [
         "56",
         "gregoryholmes@hotmail.com",
         "2891 Martin Plain Suite 197\nMelaniestad, NE 65650-8529",
         "DarkSalmon",
         "-0.38210092601944623",
         "1.7289393649345464",
         "2.200655103476247",
         "-0.5715918471814445"
        ],
        [
         "301",
         "javier02@landry.net",
         "Unit 7029 Box 3429\nDPO AE 56975",
         "CadetBlue",
         "-0.03724564412352763",
         "1.1447220242555187",
         "1.0309405429827814",
         "-0.6689183869550323"
        ],
        [
         "229",
         "lucastaylor@yahoo.com",
         "63872 Chavez Lodge\nDanielton, NJ 85847",
         "MediumTurquoise",
         "0.9007001452524707",
         "-1.0945164443349358",
         "0.9170856838422615",
         "-0.5167162102671318"
        ],
        [
         "331",
         "stephaniehill@hotmail.com",
         "8248 Parker Overpass Apt. 024\nLake Pamela, WY 44322-1735",
         "Wheat",
         "-0.8038872870889382",
         "0.9088867347242606",
         "0.08598463085193567",
         "0.12160160611590783"
        ],
        [
         "132",
         "krista86@norton.net",
         "0537 Rice Village\nWest Kylieberg, NJ 19433-5090",
         "Azure",
         "1.2738372864721927",
         "-0.2542465055486194",
         "0.3871090507941545",
         "-1.0930332783580303"
        ],
        [
         "137",
         "ashleychristopher@gmail.com",
         "9271 Christopher Prairie\nDouglasshire, NM 18581",
         "MediumOrchid",
         "1.5248149668824664",
         "-0.7921324437160127",
         "-0.5199878697497583",
         "-1.0749829073283255"
        ],
        [
         "423",
         "dana59@hotmail.com",
         "31927 Jill Mountain\nSouth Jessica, MN 63418",
         "Blue",
         "0.06704201755356283",
         "-1.6897112819899882",
         "-0.33359661578697053",
         "0.29126753556982155"
        ],
        [
         "335",
         "anneingram@miller-alexander.com",
         "4301 Park Lake Apt. 158\nSpencertown, SD 45934",
         "HoneyDew",
         "-0.9473918911697917",
         "-0.4554534338554523",
         "2.1965847321505705",
         "-0.21859751531552576"
        ],
        [
         "25",
         "william25@mcconnell.com",
         "9495 Mary Fall Apt. 777\nGlassport, ND 17957-5596",
         "Teal",
         "-0.034276668705610344",
         "-0.2997605262327038",
         "0.7070457104259168",
         "-0.8452372861640748"
        ],
        [
         "464",
         "susanibarra@yahoo.com",
         "426 Scott Radial Apt. 065\nAbigailstad, MS 16590-2222",
         "Thistle",
         "-0.54014438194644",
         "2.095143579307193",
         "1.3656791418356313",
         "1.7495197103430966"
        ],
        [
         "281",
         "greenelizabeth@edwards.com",
         "54051 Jenkins View\nEast Danielshire, IN 32905-7784",
         "DarkViolet",
         "0.746606645289616",
         "-0.4469697808020893",
         "1.3786382257007266",
         "0.9901787056534588"
        ],
        [
         "247",
         "vmartin@yahoo.com",
         "30242 Rubio Forest\nPort Kyleland, VA 18339-5779",
         "Turquoise",
         "1.3658582142381455",
         "2.1959780705757748",
         "0.49467441560224545",
         "0.5089225838118195"
        ],
        [
         "237",
         "christopher66@hotmail.com",
         "388 Kelly Pike\nWest Jeffery, DE 44039-7785",
         "BurlyWood",
         "-1.4659144598763707",
         "1.1458382829444742",
         "0.044831226987867755",
         "-2.070961383823235"
        ],
        [
         "117",
         "dtaylor@webb.com",
         "18219 Jackson Well\nFosterton, MP 85302",
         "Orange",
         "-0.003754702987575614",
         "-0.34032247173546715",
         "-1.0084932349200693",
         "1.434683338374471"
        ],
        [
         "42",
         "jasonrichardson@elliott.com",
         "18372 Matthew Fork Suite 705\nNorth Matthewmouth, KY 99737",
         "Chocolate",
         "0.7434599811491772",
         "0.45420915870720485",
         "0.11956270336060575",
         "0.6454531015497756"
        ],
        [
         "220",
         "madisonalexander@gmail.com",
         "791 Allen Trafficway Suite 776\nChristopherland, DC 41460",
         "Orange",
         "1.0754022861716905",
         "-0.4765759173067193",
         "0.7120705005824702",
         "0.11029008718796582"
        ],
        [
         "176",
         "clifford76@johnson.com",
         "8032 Hodge Circle Apt. 255\nLake Jessicashire, OR 54914",
         "RosyBrown",
         "-0.7447002778192419",
         "-0.5203985480517525",
         "1.5335285914462697",
         "1.203686374373837"
        ],
        [
         "320",
         "wheelernancy@hernandez.com",
         "66340 Michael Lane Suite 878\nWest Brian, LA 69137-1147",
         "Gold",
         "-0.5787108769376355",
         "0.922624214993631",
         "1.2569740842160966",
         "-2.364381228739835"
        ],
        [
         "153",
         "ebrown@osborne.com",
         "4291 Nichols Fork Apt. 562\nThomaschester, SC 08938-8769",
         "DarkSlateGray",
         "-1.1395723832533324",
         "0.9200177107217714",
         "-0.05448696446584848",
         "2.3495930944442587"
        ],
        [
         "231",
         "dominguezmaria@gmail.com",
         "1768 Rosales Ford Apt. 793\nLake Markbury, SC 31567",
         "RoyalBlue",
         "1.132694775902137",
         "0.08543735904867802",
         "0.2331506103023191",
         "-0.17054648785932836"
        ],
        [
         "227",
         "melinda39@morton.info",
         "13693 Cox Falls Apt. 693\nPadillaview, PW 28998-0386",
         "Moccasin",
         "-1.136899049051933",
         "1.0415894625373217",
         "0.5759982347411939",
         "-0.91827514967692"
        ],
        [
         "417",
         "lawrencewalton@hotmail.com",
         "584 Patterson Falls\nWest Alicia, DE 45751",
         "Chocolate",
         "-0.8641176308330434",
         "0.1587350848715132",
         "-0.06674547560556089",
         "-0.6567040927436579"
        ],
        [
         "203",
         "tylerhernandez@barton.info",
         "7613 Miguel Knoll Suite 762\nWest Katherine, WV 19406",
         "SlateGray",
         "-2.0554449558839343",
         "-0.8752679831975312",
         "1.6441814407302136",
         "-0.4787179580457643"
        ],
        [
         "126",
         "angelaphillips@gmail.com",
         "102 Karen Court\nNew Jameston, SC 57761-6570",
         "MintCream",
         "-0.4136717234925628",
         "-0.10447544271047154",
         "-0.38166795307556695",
         "0.5371634461342307"
        ],
        [
         "329",
         "elizabeth61@berg-braun.com",
         "649 King Extension\nNorth April, NY 54175",
         "Lavender",
         "-0.22948796901634022",
         "1.143063354349421",
         "-1.0849330207990442",
         "-1.7421334271806923"
        ],
        [
         "31",
         "jared39@hotmail.com",
         "739 David Isle Suite 818\nChandlertown, DC 34587",
         "SteelBlue",
         "0.4059550191175072",
         "-1.211226665168601",
         "-1.379977667476825",
         "-0.09659874920942926"
        ],
        [
         "113",
         "josephallen@hotmail.com",
         "3144 Jamie Rest\nMaxwellville, NC 93749-1190",
         "PeachPuff",
         "-0.4178393985622513",
         "-0.4657392215043853",
         "0.2840985373630436",
         "-0.7776056177139292"
        ],
        [
         "470",
         "kennethperry@bowen.org",
         "272 Frederick Lodge\nEast Andrew, FL 07414",
         "SlateGray",
         "-0.5554839838242379",
         "-0.5605594119561675",
         "-0.41654556777955076",
         "-0.5447145688872932"
        ],
        [
         "271",
         "beckycarson@jones-brown.biz",
         "78787 Mitchell Lights\nMatthewville, AZ 30310-0130",
         "Gold",
         "0.48694284934012505",
         "0.8370317865706784",
         "-0.7846673336500751",
         "1.4371313502440168"
        ],
        [
         "140",
         "thomasgeorge@gonzalez-grant.com",
         "93306 Donald Greens\nNew Christopherbury, SC 59447",
         "FloralWhite",
         "-2.036074607540612",
         "-0.33098624560550133",
         "-0.4164618299683388",
         "0.3902045012417873"
        ],
        [
         "57",
         "jeffreydawson@gmail.com",
         "9944 Trevor Expressway\nRobinsonstad, OR 34630-1840",
         "DarkSeaGreen",
         "1.2633376011853286",
         "-1.517067718307793",
         "-0.8368567247371528",
         "-0.25257099721200355"
        ],
        [
         "192",
         "ethomas@yahoo.com",
         "1279 Douglas Mountains\nPort Christopherberg, RI 32811-8325",
         "LightGreen",
         "0.6444043363660601",
         "-0.8722093224483176",
         "-1.5066916766020642",
         "0.44721975437741734"
        ],
        [
         "24",
         "youngbarbara@yahoo.com",
         "019 Elliott Tunnel Suite 190\nNicholsbury, WV 60804-4440",
         "Wheat",
         "1.473071427835171",
         "0.8467344004609253",
         "0.6056879210996754",
         "2.1340461903616657"
        ],
        [
         "17",
         "rebecca45@hale-bauer.biz",
         "8982 Burton Row\nWilsonton, PW 88606",
         "OliveDrab",
         "-0.7383146222073123",
         "-0.048290438129686565",
         "1.344777751150518",
         "-1.1457500805376637"
        ],
        [
         "265",
         "jasmin20@salas.com",
         "634 Nancy Shoals Suite 241\nSouth Barry, AR 52307",
         "HotPink",
         "0.856319680561887",
         "-0.3983087120469129",
         "0.31524229033132145",
         "0.6878824238781466"
        ],
        [
         "66",
         "tadams@contreras.info",
         "049 Matthew Terrace\nLake Matthew, MS 20210",
         "Aqua",
         "0.016081753925001486",
         "0.6455846414903255",
         "-1.6403504213637157",
         "0.4330391388854639"
        ],
        [
         "208",
         "freemantina@cannon.org",
         "870 Dennis Throughway\nWilsonport, PW 12658",
         "AntiqueWhite",
         "-0.16263477117084477",
         "-1.5431408393167296",
         "-1.4673401760033835",
         "-0.47565929069858526"
        ],
        [
         "479",
         "annstone@hotmail.com",
         "543 Reynolds Burg\nMelindaberg, KY 46631",
         "LightPink",
         "1.573707646784198",
         "-0.303754292957512",
         "1.0897124154443687",
         "-1.7449141330941271"
        ],
        [
         "94",
         "raylopez@hotmail.com",
         "3600 Amber Plains Suite 002\nNorth Jamesburgh, VA 07917",
         "DarkGoldenRod",
         "-0.8822720827586583",
         "-0.2342775486223753",
         "-0.38245265336830386",
         "0.6243119896318773"
        ],
        [
         "253",
         "jmartinez@anderson.org",
         "14889 Page Prairie\nDennisville, NV 27982-4210",
         "PeachPuff",
         "-1.3651243317552242",
         "1.129956611642886",
         "-0.8105945501829567",
         "-0.0103182393181388"
        ],
        [
         "266",
         "christophermorrison@mcguire-carter.biz",
         "90089 Eric Well\nNicoleside, MT 95918",
         "Blue",
         "1.5217435910266148",
         "-0.28760350068676155",
         "0.9450339413632343",
         "0.21582731597394428"
        ],
        [
         "23",
         "denise22@hernandez-townsend.com",
         "USNS Cardenas\nFPO AA 85439-9449",
         "Silver",
         "-0.16284213811726617",
         "-0.40978588391370957",
         "-0.24561094125701577",
         "0.35066941026975684"
        ],
        [
         "222",
         "sanchezkara@hotmail.com",
         "40494 Robert Park\nHeatherside, IL 70364",
         "SlateBlue",
         "1.296982088505229",
         "-0.9669632625022913",
         "1.542739548018136",
         "0.3242951827743004"
        ],
        [
         "261",
         "swilliams@ball-arroyo.com",
         "450 Samantha Valleys\nCollinsborough, KS 37205-9891",
         "Orchid",
         "-0.5225171491738161",
         "0.9967481933705916",
         "-0.36139447999023133",
         "-0.11175734181686581"
        ],
        [
         "426",
         "rwilliams@trujillo.biz",
         "54560 Thompson Creek Apt. 029\nNew Brianville, FL 84430-8588",
         "BlanchedAlmond",
         "-1.669991440518237",
         "1.2307832536591836",
         "0.2152154863649859",
         "0.45332754736802283"
        ]
       ],
       "shape": {
        "columns": 7,
        "rows": 400
       }
      },
      "text/html": [
       "<div>\n",
       "<style scoped>\n",
       "    .dataframe tbody tr th:only-of-type {\n",
       "        vertical-align: middle;\n",
       "    }\n",
       "\n",
       "    .dataframe tbody tr th {\n",
       "        vertical-align: top;\n",
       "    }\n",
       "\n",
       "    .dataframe thead th {\n",
       "        text-align: right;\n",
       "    }\n",
       "</style>\n",
       "<table border=\"1\" class=\"dataframe\">\n",
       "  <thead>\n",
       "    <tr style=\"text-align: right;\">\n",
       "      <th></th>\n",
       "      <th>Email</th>\n",
       "      <th>Address</th>\n",
       "      <th>Avatar</th>\n",
       "      <th>Avg. Session Length</th>\n",
       "      <th>Time on App</th>\n",
       "      <th>Time on Website</th>\n",
       "      <th>Length of Membership</th>\n",
       "    </tr>\n",
       "  </thead>\n",
       "  <tbody>\n",
       "    <tr>\n",
       "      <th>249</th>\n",
       "      <td>anntaylor@hotmail.com</td>\n",
       "      <td>PSC 1634, Box 8167\\nAPO AA 49814</td>\n",
       "      <td>Teal</td>\n",
       "      <td>0.731344</td>\n",
       "      <td>-0.145428</td>\n",
       "      <td>-0.174471</td>\n",
       "      <td>0.066757</td>\n",
       "    </tr>\n",
       "    <tr>\n",
       "      <th>433</th>\n",
       "      <td>efoster@williamson-boyd.org</td>\n",
       "      <td>4968 Bennett Manors\\nRogerschester, IL 81579-8333</td>\n",
       "      <td>Lavender</td>\n",
       "      <td>1.239250</td>\n",
       "      <td>-0.241911</td>\n",
       "      <td>-0.703297</td>\n",
       "      <td>-1.448753</td>\n",
       "    </tr>\n",
       "    <tr>\n",
       "      <th>19</th>\n",
       "      <td>samuel46@love-west.net</td>\n",
       "      <td>544 Alexander Heights Suite 768\\nNorth Johnvie...</td>\n",
       "      <td>LightSeaGreen</td>\n",
       "      <td>-0.453861</td>\n",
       "      <td>1.960768</td>\n",
       "      <td>0.166550</td>\n",
       "      <td>0.495714</td>\n",
       "    </tr>\n",
       "    <tr>\n",
       "      <th>322</th>\n",
       "      <td>suzanne63@gmail.com</td>\n",
       "      <td>229 Eric Mountains\\nNew Caleb, PA 00396</td>\n",
       "      <td>LightSalmon</td>\n",
       "      <td>0.205660</td>\n",
       "      <td>-1.350524</td>\n",
       "      <td>-0.863815</td>\n",
       "      <td>0.517702</td>\n",
       "    </tr>\n",
       "    <tr>\n",
       "      <th>332</th>\n",
       "      <td>davisbriana@gmail.com</td>\n",
       "      <td>15298 Erickson Shore Apt. 056\\nSouth Patrickfo...</td>\n",
       "      <td>MediumVioletRed</td>\n",
       "      <td>0.082890</td>\n",
       "      <td>-0.329008</td>\n",
       "      <td>0.901009</td>\n",
       "      <td>-1.376104</td>\n",
       "    </tr>\n",
       "    <tr>\n",
       "      <th>...</th>\n",
       "      <td>...</td>\n",
       "      <td>...</td>\n",
       "      <td>...</td>\n",
       "      <td>...</td>\n",
       "      <td>...</td>\n",
       "      <td>...</td>\n",
       "      <td>...</td>\n",
       "    </tr>\n",
       "    <tr>\n",
       "      <th>106</th>\n",
       "      <td>afry@ford.biz</td>\n",
       "      <td>399 Jeremy Skyway Suite 377\\nNorth Keithville,...</td>\n",
       "      <td>PaleTurquoise</td>\n",
       "      <td>-0.786387</td>\n",
       "      <td>0.131919</td>\n",
       "      <td>-0.857237</td>\n",
       "      <td>0.213381</td>\n",
       "    </tr>\n",
       "    <tr>\n",
       "      <th>270</th>\n",
       "      <td>jessicabrewer@simmons.net</td>\n",
       "      <td>5052 Mccoy Passage Apt. 328\\nTeresaport, FM 97139</td>\n",
       "      <td>LightBlue</td>\n",
       "      <td>0.962136</td>\n",
       "      <td>0.910376</td>\n",
       "      <td>1.611028</td>\n",
       "      <td>-0.292007</td>\n",
       "    </tr>\n",
       "    <tr>\n",
       "      <th>348</th>\n",
       "      <td>qmorse@yahoo.com</td>\n",
       "      <td>0360 Pearson Dam Suite 263\\nLake Shawn, UT 659...</td>\n",
       "      <td>MediumTurquoise</td>\n",
       "      <td>-1.275105</td>\n",
       "      <td>-1.193176</td>\n",
       "      <td>-2.094642</td>\n",
       "      <td>-0.438898</td>\n",
       "    </tr>\n",
       "    <tr>\n",
       "      <th>435</th>\n",
       "      <td>sanchezamber@scott-patterson.com</td>\n",
       "      <td>257 Hunt Manors\\nSouth Charlottefort, CT 15033</td>\n",
       "      <td>Fuchsia</td>\n",
       "      <td>-0.818796</td>\n",
       "      <td>2.106437</td>\n",
       "      <td>0.001819</td>\n",
       "      <td>0.193655</td>\n",
       "    </tr>\n",
       "    <tr>\n",
       "      <th>102</th>\n",
       "      <td>acampbell@sanchez-velasquez.info</td>\n",
       "      <td>5791 Jessica Cove\\nMckinneyborough, OK 64460-7536</td>\n",
       "      <td>Wheat</td>\n",
       "      <td>-0.649806</td>\n",
       "      <td>-0.621909</td>\n",
       "      <td>0.550886</td>\n",
       "      <td>-0.979819</td>\n",
       "    </tr>\n",
       "  </tbody>\n",
       "</table>\n",
       "<p>400 rows × 7 columns</p>\n",
       "</div>"
      ],
      "text/plain": [
       "                                Email  \\\n",
       "249             anntaylor@hotmail.com   \n",
       "433       efoster@williamson-boyd.org   \n",
       "19             samuel46@love-west.net   \n",
       "322               suzanne63@gmail.com   \n",
       "332             davisbriana@gmail.com   \n",
       "..                                ...   \n",
       "106                     afry@ford.biz   \n",
       "270         jessicabrewer@simmons.net   \n",
       "348                  qmorse@yahoo.com   \n",
       "435  sanchezamber@scott-patterson.com   \n",
       "102  acampbell@sanchez-velasquez.info   \n",
       "\n",
       "                                               Address           Avatar  \\\n",
       "249                   PSC 1634, Box 8167\\nAPO AA 49814             Teal   \n",
       "433  4968 Bennett Manors\\nRogerschester, IL 81579-8333         Lavender   \n",
       "19   544 Alexander Heights Suite 768\\nNorth Johnvie...    LightSeaGreen   \n",
       "322            229 Eric Mountains\\nNew Caleb, PA 00396      LightSalmon   \n",
       "332  15298 Erickson Shore Apt. 056\\nSouth Patrickfo...  MediumVioletRed   \n",
       "..                                                 ...              ...   \n",
       "106  399 Jeremy Skyway Suite 377\\nNorth Keithville,...    PaleTurquoise   \n",
       "270  5052 Mccoy Passage Apt. 328\\nTeresaport, FM 97139        LightBlue   \n",
       "348  0360 Pearson Dam Suite 263\\nLake Shawn, UT 659...  MediumTurquoise   \n",
       "435     257 Hunt Manors\\nSouth Charlottefort, CT 15033          Fuchsia   \n",
       "102  5791 Jessica Cove\\nMckinneyborough, OK 64460-7536            Wheat   \n",
       "\n",
       "     Avg. Session Length  Time on App  Time on Website  Length of Membership  \n",
       "249             0.731344    -0.145428        -0.174471              0.066757  \n",
       "433             1.239250    -0.241911        -0.703297             -1.448753  \n",
       "19             -0.453861     1.960768         0.166550              0.495714  \n",
       "322             0.205660    -1.350524        -0.863815              0.517702  \n",
       "332             0.082890    -0.329008         0.901009             -1.376104  \n",
       "..                   ...          ...              ...                   ...  \n",
       "106            -0.786387     0.131919        -0.857237              0.213381  \n",
       "270             0.962136     0.910376         1.611028             -0.292007  \n",
       "348            -1.275105    -1.193176        -2.094642             -0.438898  \n",
       "435            -0.818796     2.106437         0.001819              0.193655  \n",
       "102            -0.649806    -0.621909         0.550886             -0.979819  \n",
       "\n",
       "[400 rows x 7 columns]"
      ]
     },
     "execution_count": 18,
     "metadata": {},
     "output_type": "execute_result"
    }
   ],
   "source": [
    "X_train_scaled"
   ]
  },
  {
   "cell_type": "code",
   "execution_count": 19,
   "metadata": {},
   "outputs": [],
   "source": [
    "X_train_scaled.drop([\"Email\", \"Address\", \"Avatar\"], axis=1, inplace=True)\n",
    "X_test_scaled.drop([\"Email\", \"Address\", \"Avatar\"], axis=1, inplace=True)"
   ]
  },
  {
   "cell_type": "markdown",
   "metadata": {},
   "source": [
    "### 4. Das richtige Modell auswählen\n",
    "Für die Modellauswahl orientieren wir uns an der offiziellen Scikit-Learn-Map:\n",
    "\n",
    "Dabei entscheiden wir uns für die Ridge Regression. Es ist ein Verfahren, das wie eine normale lineare Regression arbeitet, aber zusätzlich verhindert, dass einzelne Merkmale (Features) zu viel Einfluss bekommen. Sie bestraft im Training große Zahlen bei den Modell-Gewichten (Koeffizienten). Dadurch werden sehr Große, extreme Gewichte kleiner gemacht, wodurch das Modell \"ruhiger\" und stabiler wird. Ridge Regression ist wie eine normale Regression, aber mit einem \"Dämpfer\" auf den Gewichten, damit sie nicht zu verrückt spielt.\n",
    "\n"
   ]
  },
  {
   "cell_type": "markdown",
   "metadata": {},
   "source": [
    "### 5. Modell trainieren\n",
    "Nachdem die Daten vollständig vorbereitet wurden, kann das eigentliche Modelltraining beginnen. In diesem Schritt wird das zuvor ausgewählte Machine-Learning-Modell – in unserem Fall die Ridge Regression – auf die Trainingsdaten angepasst (fitting).\n",
    "\n",
    "Damit das Modell möglichst gute Vorhersagen liefern kann, muss der wichtigste Hyperparameter alpha festgelegt werden. Er bestimmt die Stärke der Regularisierung:\n",
    "\n",
    "- Wenn er klein ist, ähnelt das Modell einer normalen linearen Regression.\n",
    "- Wenn er groß ist, hat man eine stärkere Glättung und weniger Varianz, aber möglicherweise höherer Bias."
   ]
  },
  {
   "cell_type": "code",
   "execution_count": 20,
   "metadata": {},
   "outputs": [
    {
     "data": {
      "text/html": [
       "<style>#sk-container-id-1 {\n",
       "  /* Definition of color scheme common for light and dark mode */\n",
       "  --sklearn-color-text: #000;\n",
       "  --sklearn-color-text-muted: #666;\n",
       "  --sklearn-color-line: gray;\n",
       "  /* Definition of color scheme for unfitted estimators */\n",
       "  --sklearn-color-unfitted-level-0: #fff5e6;\n",
       "  --sklearn-color-unfitted-level-1: #f6e4d2;\n",
       "  --sklearn-color-unfitted-level-2: #ffe0b3;\n",
       "  --sklearn-color-unfitted-level-3: chocolate;\n",
       "  /* Definition of color scheme for fitted estimators */\n",
       "  --sklearn-color-fitted-level-0: #f0f8ff;\n",
       "  --sklearn-color-fitted-level-1: #d4ebff;\n",
       "  --sklearn-color-fitted-level-2: #b3dbfd;\n",
       "  --sklearn-color-fitted-level-3: cornflowerblue;\n",
       "\n",
       "  /* Specific color for light theme */\n",
       "  --sklearn-color-text-on-default-background: var(--sg-text-color, var(--theme-code-foreground, var(--jp-content-font-color1, black)));\n",
       "  --sklearn-color-background: var(--sg-background-color, var(--theme-background, var(--jp-layout-color0, white)));\n",
       "  --sklearn-color-border-box: var(--sg-text-color, var(--theme-code-foreground, var(--jp-content-font-color1, black)));\n",
       "  --sklearn-color-icon: #696969;\n",
       "\n",
       "  @media (prefers-color-scheme: dark) {\n",
       "    /* Redefinition of color scheme for dark theme */\n",
       "    --sklearn-color-text-on-default-background: var(--sg-text-color, var(--theme-code-foreground, var(--jp-content-font-color1, white)));\n",
       "    --sklearn-color-background: var(--sg-background-color, var(--theme-background, var(--jp-layout-color0, #111)));\n",
       "    --sklearn-color-border-box: var(--sg-text-color, var(--theme-code-foreground, var(--jp-content-font-color1, white)));\n",
       "    --sklearn-color-icon: #878787;\n",
       "  }\n",
       "}\n",
       "\n",
       "#sk-container-id-1 {\n",
       "  color: var(--sklearn-color-text);\n",
       "}\n",
       "\n",
       "#sk-container-id-1 pre {\n",
       "  padding: 0;\n",
       "}\n",
       "\n",
       "#sk-container-id-1 input.sk-hidden--visually {\n",
       "  border: 0;\n",
       "  clip: rect(1px 1px 1px 1px);\n",
       "  clip: rect(1px, 1px, 1px, 1px);\n",
       "  height: 1px;\n",
       "  margin: -1px;\n",
       "  overflow: hidden;\n",
       "  padding: 0;\n",
       "  position: absolute;\n",
       "  width: 1px;\n",
       "}\n",
       "\n",
       "#sk-container-id-1 div.sk-dashed-wrapped {\n",
       "  border: 1px dashed var(--sklearn-color-line);\n",
       "  margin: 0 0.4em 0.5em 0.4em;\n",
       "  box-sizing: border-box;\n",
       "  padding-bottom: 0.4em;\n",
       "  background-color: var(--sklearn-color-background);\n",
       "}\n",
       "\n",
       "#sk-container-id-1 div.sk-container {\n",
       "  /* jupyter's `normalize.less` sets `[hidden] { display: none; }`\n",
       "     but bootstrap.min.css set `[hidden] { display: none !important; }`\n",
       "     so we also need the `!important` here to be able to override the\n",
       "     default hidden behavior on the sphinx rendered scikit-learn.org.\n",
       "     See: https://github.com/scikit-learn/scikit-learn/issues/21755 */\n",
       "  display: inline-block !important;\n",
       "  position: relative;\n",
       "}\n",
       "\n",
       "#sk-container-id-1 div.sk-text-repr-fallback {\n",
       "  display: none;\n",
       "}\n",
       "\n",
       "div.sk-parallel-item,\n",
       "div.sk-serial,\n",
       "div.sk-item {\n",
       "  /* draw centered vertical line to link estimators */\n",
       "  background-image: linear-gradient(var(--sklearn-color-text-on-default-background), var(--sklearn-color-text-on-default-background));\n",
       "  background-size: 2px 100%;\n",
       "  background-repeat: no-repeat;\n",
       "  background-position: center center;\n",
       "}\n",
       "\n",
       "/* Parallel-specific style estimator block */\n",
       "\n",
       "#sk-container-id-1 div.sk-parallel-item::after {\n",
       "  content: \"\";\n",
       "  width: 100%;\n",
       "  border-bottom: 2px solid var(--sklearn-color-text-on-default-background);\n",
       "  flex-grow: 1;\n",
       "}\n",
       "\n",
       "#sk-container-id-1 div.sk-parallel {\n",
       "  display: flex;\n",
       "  align-items: stretch;\n",
       "  justify-content: center;\n",
       "  background-color: var(--sklearn-color-background);\n",
       "  position: relative;\n",
       "}\n",
       "\n",
       "#sk-container-id-1 div.sk-parallel-item {\n",
       "  display: flex;\n",
       "  flex-direction: column;\n",
       "}\n",
       "\n",
       "#sk-container-id-1 div.sk-parallel-item:first-child::after {\n",
       "  align-self: flex-end;\n",
       "  width: 50%;\n",
       "}\n",
       "\n",
       "#sk-container-id-1 div.sk-parallel-item:last-child::after {\n",
       "  align-self: flex-start;\n",
       "  width: 50%;\n",
       "}\n",
       "\n",
       "#sk-container-id-1 div.sk-parallel-item:only-child::after {\n",
       "  width: 0;\n",
       "}\n",
       "\n",
       "/* Serial-specific style estimator block */\n",
       "\n",
       "#sk-container-id-1 div.sk-serial {\n",
       "  display: flex;\n",
       "  flex-direction: column;\n",
       "  align-items: center;\n",
       "  background-color: var(--sklearn-color-background);\n",
       "  padding-right: 1em;\n",
       "  padding-left: 1em;\n",
       "}\n",
       "\n",
       "\n",
       "/* Toggleable style: style used for estimator/Pipeline/ColumnTransformer box that is\n",
       "clickable and can be expanded/collapsed.\n",
       "- Pipeline and ColumnTransformer use this feature and define the default style\n",
       "- Estimators will overwrite some part of the style using the `sk-estimator` class\n",
       "*/\n",
       "\n",
       "/* Pipeline and ColumnTransformer style (default) */\n",
       "\n",
       "#sk-container-id-1 div.sk-toggleable {\n",
       "  /* Default theme specific background. It is overwritten whether we have a\n",
       "  specific estimator or a Pipeline/ColumnTransformer */\n",
       "  background-color: var(--sklearn-color-background);\n",
       "}\n",
       "\n",
       "/* Toggleable label */\n",
       "#sk-container-id-1 label.sk-toggleable__label {\n",
       "  cursor: pointer;\n",
       "  display: flex;\n",
       "  width: 100%;\n",
       "  margin-bottom: 0;\n",
       "  padding: 0.5em;\n",
       "  box-sizing: border-box;\n",
       "  text-align: center;\n",
       "  align-items: start;\n",
       "  justify-content: space-between;\n",
       "  gap: 0.5em;\n",
       "}\n",
       "\n",
       "#sk-container-id-1 label.sk-toggleable__label .caption {\n",
       "  font-size: 0.6rem;\n",
       "  font-weight: lighter;\n",
       "  color: var(--sklearn-color-text-muted);\n",
       "}\n",
       "\n",
       "#sk-container-id-1 label.sk-toggleable__label-arrow:before {\n",
       "  /* Arrow on the left of the label */\n",
       "  content: \"▸\";\n",
       "  float: left;\n",
       "  margin-right: 0.25em;\n",
       "  color: var(--sklearn-color-icon);\n",
       "}\n",
       "\n",
       "#sk-container-id-1 label.sk-toggleable__label-arrow:hover:before {\n",
       "  color: var(--sklearn-color-text);\n",
       "}\n",
       "\n",
       "/* Toggleable content - dropdown */\n",
       "\n",
       "#sk-container-id-1 div.sk-toggleable__content {\n",
       "  display: none;\n",
       "  text-align: left;\n",
       "  /* unfitted */\n",
       "  background-color: var(--sklearn-color-unfitted-level-0);\n",
       "}\n",
       "\n",
       "#sk-container-id-1 div.sk-toggleable__content.fitted {\n",
       "  /* fitted */\n",
       "  background-color: var(--sklearn-color-fitted-level-0);\n",
       "}\n",
       "\n",
       "#sk-container-id-1 div.sk-toggleable__content pre {\n",
       "  margin: 0.2em;\n",
       "  border-radius: 0.25em;\n",
       "  color: var(--sklearn-color-text);\n",
       "  /* unfitted */\n",
       "  background-color: var(--sklearn-color-unfitted-level-0);\n",
       "}\n",
       "\n",
       "#sk-container-id-1 div.sk-toggleable__content.fitted pre {\n",
       "  /* unfitted */\n",
       "  background-color: var(--sklearn-color-fitted-level-0);\n",
       "}\n",
       "\n",
       "#sk-container-id-1 input.sk-toggleable__control:checked~div.sk-toggleable__content {\n",
       "  /* Expand drop-down */\n",
       "  display: block;\n",
       "  width: 100%;\n",
       "  overflow: visible;\n",
       "}\n",
       "\n",
       "#sk-container-id-1 input.sk-toggleable__control:checked~label.sk-toggleable__label-arrow:before {\n",
       "  content: \"▾\";\n",
       "}\n",
       "\n",
       "/* Pipeline/ColumnTransformer-specific style */\n",
       "\n",
       "#sk-container-id-1 div.sk-label input.sk-toggleable__control:checked~label.sk-toggleable__label {\n",
       "  color: var(--sklearn-color-text);\n",
       "  background-color: var(--sklearn-color-unfitted-level-2);\n",
       "}\n",
       "\n",
       "#sk-container-id-1 div.sk-label.fitted input.sk-toggleable__control:checked~label.sk-toggleable__label {\n",
       "  background-color: var(--sklearn-color-fitted-level-2);\n",
       "}\n",
       "\n",
       "/* Estimator-specific style */\n",
       "\n",
       "/* Colorize estimator box */\n",
       "#sk-container-id-1 div.sk-estimator input.sk-toggleable__control:checked~label.sk-toggleable__label {\n",
       "  /* unfitted */\n",
       "  background-color: var(--sklearn-color-unfitted-level-2);\n",
       "}\n",
       "\n",
       "#sk-container-id-1 div.sk-estimator.fitted input.sk-toggleable__control:checked~label.sk-toggleable__label {\n",
       "  /* fitted */\n",
       "  background-color: var(--sklearn-color-fitted-level-2);\n",
       "}\n",
       "\n",
       "#sk-container-id-1 div.sk-label label.sk-toggleable__label,\n",
       "#sk-container-id-1 div.sk-label label {\n",
       "  /* The background is the default theme color */\n",
       "  color: var(--sklearn-color-text-on-default-background);\n",
       "}\n",
       "\n",
       "/* On hover, darken the color of the background */\n",
       "#sk-container-id-1 div.sk-label:hover label.sk-toggleable__label {\n",
       "  color: var(--sklearn-color-text);\n",
       "  background-color: var(--sklearn-color-unfitted-level-2);\n",
       "}\n",
       "\n",
       "/* Label box, darken color on hover, fitted */\n",
       "#sk-container-id-1 div.sk-label.fitted:hover label.sk-toggleable__label.fitted {\n",
       "  color: var(--sklearn-color-text);\n",
       "  background-color: var(--sklearn-color-fitted-level-2);\n",
       "}\n",
       "\n",
       "/* Estimator label */\n",
       "\n",
       "#sk-container-id-1 div.sk-label label {\n",
       "  font-family: monospace;\n",
       "  font-weight: bold;\n",
       "  display: inline-block;\n",
       "  line-height: 1.2em;\n",
       "}\n",
       "\n",
       "#sk-container-id-1 div.sk-label-container {\n",
       "  text-align: center;\n",
       "}\n",
       "\n",
       "/* Estimator-specific */\n",
       "#sk-container-id-1 div.sk-estimator {\n",
       "  font-family: monospace;\n",
       "  border: 1px dotted var(--sklearn-color-border-box);\n",
       "  border-radius: 0.25em;\n",
       "  box-sizing: border-box;\n",
       "  margin-bottom: 0.5em;\n",
       "  /* unfitted */\n",
       "  background-color: var(--sklearn-color-unfitted-level-0);\n",
       "}\n",
       "\n",
       "#sk-container-id-1 div.sk-estimator.fitted {\n",
       "  /* fitted */\n",
       "  background-color: var(--sklearn-color-fitted-level-0);\n",
       "}\n",
       "\n",
       "/* on hover */\n",
       "#sk-container-id-1 div.sk-estimator:hover {\n",
       "  /* unfitted */\n",
       "  background-color: var(--sklearn-color-unfitted-level-2);\n",
       "}\n",
       "\n",
       "#sk-container-id-1 div.sk-estimator.fitted:hover {\n",
       "  /* fitted */\n",
       "  background-color: var(--sklearn-color-fitted-level-2);\n",
       "}\n",
       "\n",
       "/* Specification for estimator info (e.g. \"i\" and \"?\") */\n",
       "\n",
       "/* Common style for \"i\" and \"?\" */\n",
       "\n",
       ".sk-estimator-doc-link,\n",
       "a:link.sk-estimator-doc-link,\n",
       "a:visited.sk-estimator-doc-link {\n",
       "  float: right;\n",
       "  font-size: smaller;\n",
       "  line-height: 1em;\n",
       "  font-family: monospace;\n",
       "  background-color: var(--sklearn-color-background);\n",
       "  border-radius: 1em;\n",
       "  height: 1em;\n",
       "  width: 1em;\n",
       "  text-decoration: none !important;\n",
       "  margin-left: 0.5em;\n",
       "  text-align: center;\n",
       "  /* unfitted */\n",
       "  border: var(--sklearn-color-unfitted-level-1) 1pt solid;\n",
       "  color: var(--sklearn-color-unfitted-level-1);\n",
       "}\n",
       "\n",
       ".sk-estimator-doc-link.fitted,\n",
       "a:link.sk-estimator-doc-link.fitted,\n",
       "a:visited.sk-estimator-doc-link.fitted {\n",
       "  /* fitted */\n",
       "  border: var(--sklearn-color-fitted-level-1) 1pt solid;\n",
       "  color: var(--sklearn-color-fitted-level-1);\n",
       "}\n",
       "\n",
       "/* On hover */\n",
       "div.sk-estimator:hover .sk-estimator-doc-link:hover,\n",
       ".sk-estimator-doc-link:hover,\n",
       "div.sk-label-container:hover .sk-estimator-doc-link:hover,\n",
       ".sk-estimator-doc-link:hover {\n",
       "  /* unfitted */\n",
       "  background-color: var(--sklearn-color-unfitted-level-3);\n",
       "  color: var(--sklearn-color-background);\n",
       "  text-decoration: none;\n",
       "}\n",
       "\n",
       "div.sk-estimator.fitted:hover .sk-estimator-doc-link.fitted:hover,\n",
       ".sk-estimator-doc-link.fitted:hover,\n",
       "div.sk-label-container:hover .sk-estimator-doc-link.fitted:hover,\n",
       ".sk-estimator-doc-link.fitted:hover {\n",
       "  /* fitted */\n",
       "  background-color: var(--sklearn-color-fitted-level-3);\n",
       "  color: var(--sklearn-color-background);\n",
       "  text-decoration: none;\n",
       "}\n",
       "\n",
       "/* Span, style for the box shown on hovering the info icon */\n",
       ".sk-estimator-doc-link span {\n",
       "  display: none;\n",
       "  z-index: 9999;\n",
       "  position: relative;\n",
       "  font-weight: normal;\n",
       "  right: .2ex;\n",
       "  padding: .5ex;\n",
       "  margin: .5ex;\n",
       "  width: min-content;\n",
       "  min-width: 20ex;\n",
       "  max-width: 50ex;\n",
       "  color: var(--sklearn-color-text);\n",
       "  box-shadow: 2pt 2pt 4pt #999;\n",
       "  /* unfitted */\n",
       "  background: var(--sklearn-color-unfitted-level-0);\n",
       "  border: .5pt solid var(--sklearn-color-unfitted-level-3);\n",
       "}\n",
       "\n",
       ".sk-estimator-doc-link.fitted span {\n",
       "  /* fitted */\n",
       "  background: var(--sklearn-color-fitted-level-0);\n",
       "  border: var(--sklearn-color-fitted-level-3);\n",
       "}\n",
       "\n",
       ".sk-estimator-doc-link:hover span {\n",
       "  display: block;\n",
       "}\n",
       "\n",
       "/* \"?\"-specific style due to the `<a>` HTML tag */\n",
       "\n",
       "#sk-container-id-1 a.estimator_doc_link {\n",
       "  float: right;\n",
       "  font-size: 1rem;\n",
       "  line-height: 1em;\n",
       "  font-family: monospace;\n",
       "  background-color: var(--sklearn-color-background);\n",
       "  border-radius: 1rem;\n",
       "  height: 1rem;\n",
       "  width: 1rem;\n",
       "  text-decoration: none;\n",
       "  /* unfitted */\n",
       "  color: var(--sklearn-color-unfitted-level-1);\n",
       "  border: var(--sklearn-color-unfitted-level-1) 1pt solid;\n",
       "}\n",
       "\n",
       "#sk-container-id-1 a.estimator_doc_link.fitted {\n",
       "  /* fitted */\n",
       "  border: var(--sklearn-color-fitted-level-1) 1pt solid;\n",
       "  color: var(--sklearn-color-fitted-level-1);\n",
       "}\n",
       "\n",
       "/* On hover */\n",
       "#sk-container-id-1 a.estimator_doc_link:hover {\n",
       "  /* unfitted */\n",
       "  background-color: var(--sklearn-color-unfitted-level-3);\n",
       "  color: var(--sklearn-color-background);\n",
       "  text-decoration: none;\n",
       "}\n",
       "\n",
       "#sk-container-id-1 a.estimator_doc_link.fitted:hover {\n",
       "  /* fitted */\n",
       "  background-color: var(--sklearn-color-fitted-level-3);\n",
       "}\n",
       "\n",
       ".estimator-table summary {\n",
       "    padding: .5rem;\n",
       "    font-family: monospace;\n",
       "    cursor: pointer;\n",
       "}\n",
       "\n",
       ".estimator-table details[open] {\n",
       "    padding-left: 0.1rem;\n",
       "    padding-right: 0.1rem;\n",
       "    padding-bottom: 0.3rem;\n",
       "}\n",
       "\n",
       ".estimator-table .parameters-table {\n",
       "    margin-left: auto !important;\n",
       "    margin-right: auto !important;\n",
       "}\n",
       "\n",
       ".estimator-table .parameters-table tr:nth-child(odd) {\n",
       "    background-color: #fff;\n",
       "}\n",
       "\n",
       ".estimator-table .parameters-table tr:nth-child(even) {\n",
       "    background-color: #f6f6f6;\n",
       "}\n",
       "\n",
       ".estimator-table .parameters-table tr:hover {\n",
       "    background-color: #e0e0e0;\n",
       "}\n",
       "\n",
       ".estimator-table table td {\n",
       "    border: 1px solid rgba(106, 105, 104, 0.232);\n",
       "}\n",
       "\n",
       ".user-set td {\n",
       "    color:rgb(255, 94, 0);\n",
       "    text-align: left;\n",
       "}\n",
       "\n",
       ".user-set td.value pre {\n",
       "    color:rgb(255, 94, 0) !important;\n",
       "    background-color: transparent !important;\n",
       "}\n",
       "\n",
       ".default td {\n",
       "    color: black;\n",
       "    text-align: left;\n",
       "}\n",
       "\n",
       ".user-set td i,\n",
       ".default td i {\n",
       "    color: black;\n",
       "}\n",
       "\n",
       ".copy-paste-icon {\n",
       "    background-image: url(data:image/svg+xml;base64,PHN2ZyB4bWxucz0iaHR0cDovL3d3dy53My5vcmcvMjAwMC9zdmciIHZpZXdCb3g9IjAgMCA0NDggNTEyIj48IS0tIUZvbnQgQXdlc29tZSBGcmVlIDYuNy4yIGJ5IEBmb250YXdlc29tZSAtIGh0dHBzOi8vZm9udGF3ZXNvbWUuY29tIExpY2Vuc2UgLSBodHRwczovL2ZvbnRhd2Vzb21lLmNvbS9saWNlbnNlL2ZyZWUgQ29weXJpZ2h0IDIwMjUgRm9udGljb25zLCBJbmMuLS0+PHBhdGggZD0iTTIwOCAwTDMzMi4xIDBjMTIuNyAwIDI0LjkgNS4xIDMzLjkgMTQuMWw2Ny45IDY3LjljOSA5IDE0LjEgMjEuMiAxNC4xIDMzLjlMNDQ4IDMzNmMwIDI2LjUtMjEuNSA0OC00OCA0OGwtMTkyIDBjLTI2LjUgMC00OC0yMS41LTQ4LTQ4bDAtMjg4YzAtMjYuNSAyMS41LTQ4IDQ4LTQ4ek00OCAxMjhsODAgMCAwIDY0LTY0IDAgMCAyNTYgMTkyIDAgMC0zMiA2NCAwIDAgNDhjMCAyNi41LTIxLjUgNDgtNDggNDhMNDggNTEyYy0yNi41IDAtNDgtMjEuNS00OC00OEwwIDE3NmMwLTI2LjUgMjEuNS00OCA0OC00OHoiLz48L3N2Zz4=);\n",
       "    background-repeat: no-repeat;\n",
       "    background-size: 14px 14px;\n",
       "    background-position: 0;\n",
       "    display: inline-block;\n",
       "    width: 14px;\n",
       "    height: 14px;\n",
       "    cursor: pointer;\n",
       "}\n",
       "</style><body><div id=\"sk-container-id-1\" class=\"sk-top-container\"><div class=\"sk-text-repr-fallback\"><pre>Ridge(random_state=42)</pre><b>In a Jupyter environment, please rerun this cell to show the HTML representation or trust the notebook. <br />On GitHub, the HTML representation is unable to render, please try loading this page with nbviewer.org.</b></div><div class=\"sk-container\" hidden><div class=\"sk-item\"><div class=\"sk-estimator fitted sk-toggleable\"><input class=\"sk-toggleable__control sk-hidden--visually\" id=\"sk-estimator-id-1\" type=\"checkbox\" checked><label for=\"sk-estimator-id-1\" class=\"sk-toggleable__label fitted sk-toggleable__label-arrow\"><div><div>Ridge</div></div><div><a class=\"sk-estimator-doc-link fitted\" rel=\"noreferrer\" target=\"_blank\" href=\"https://scikit-learn.org/1.7/modules/generated/sklearn.linear_model.Ridge.html\">?<span>Documentation for Ridge</span></a><span class=\"sk-estimator-doc-link fitted\">i<span>Fitted</span></span></div></label><div class=\"sk-toggleable__content fitted\" data-param-prefix=\"\">\n",
       "        <div class=\"estimator-table\">\n",
       "            <details>\n",
       "                <summary>Parameters</summary>\n",
       "                <table class=\"parameters-table\">\n",
       "                  <tbody>\n",
       "                    \n",
       "        <tr class=\"default\">\n",
       "            <td><i class=\"copy-paste-icon\"\n",
       "                 onclick=\"copyToClipboard('alpha',\n",
       "                          this.parentElement.nextElementSibling)\"\n",
       "            ></i></td>\n",
       "            <td class=\"param\">alpha&nbsp;</td>\n",
       "            <td class=\"value\">1.0</td>\n",
       "        </tr>\n",
       "    \n",
       "\n",
       "        <tr class=\"default\">\n",
       "            <td><i class=\"copy-paste-icon\"\n",
       "                 onclick=\"copyToClipboard('fit_intercept',\n",
       "                          this.parentElement.nextElementSibling)\"\n",
       "            ></i></td>\n",
       "            <td class=\"param\">fit_intercept&nbsp;</td>\n",
       "            <td class=\"value\">True</td>\n",
       "        </tr>\n",
       "    \n",
       "\n",
       "        <tr class=\"default\">\n",
       "            <td><i class=\"copy-paste-icon\"\n",
       "                 onclick=\"copyToClipboard('copy_X',\n",
       "                          this.parentElement.nextElementSibling)\"\n",
       "            ></i></td>\n",
       "            <td class=\"param\">copy_X&nbsp;</td>\n",
       "            <td class=\"value\">True</td>\n",
       "        </tr>\n",
       "    \n",
       "\n",
       "        <tr class=\"default\">\n",
       "            <td><i class=\"copy-paste-icon\"\n",
       "                 onclick=\"copyToClipboard('max_iter',\n",
       "                          this.parentElement.nextElementSibling)\"\n",
       "            ></i></td>\n",
       "            <td class=\"param\">max_iter&nbsp;</td>\n",
       "            <td class=\"value\">None</td>\n",
       "        </tr>\n",
       "    \n",
       "\n",
       "        <tr class=\"default\">\n",
       "            <td><i class=\"copy-paste-icon\"\n",
       "                 onclick=\"copyToClipboard('tol',\n",
       "                          this.parentElement.nextElementSibling)\"\n",
       "            ></i></td>\n",
       "            <td class=\"param\">tol&nbsp;</td>\n",
       "            <td class=\"value\">0.0001</td>\n",
       "        </tr>\n",
       "    \n",
       "\n",
       "        <tr class=\"default\">\n",
       "            <td><i class=\"copy-paste-icon\"\n",
       "                 onclick=\"copyToClipboard('solver',\n",
       "                          this.parentElement.nextElementSibling)\"\n",
       "            ></i></td>\n",
       "            <td class=\"param\">solver&nbsp;</td>\n",
       "            <td class=\"value\">&#x27;auto&#x27;</td>\n",
       "        </tr>\n",
       "    \n",
       "\n",
       "        <tr class=\"default\">\n",
       "            <td><i class=\"copy-paste-icon\"\n",
       "                 onclick=\"copyToClipboard('positive',\n",
       "                          this.parentElement.nextElementSibling)\"\n",
       "            ></i></td>\n",
       "            <td class=\"param\">positive&nbsp;</td>\n",
       "            <td class=\"value\">False</td>\n",
       "        </tr>\n",
       "    \n",
       "\n",
       "        <tr class=\"user-set\">\n",
       "            <td><i class=\"copy-paste-icon\"\n",
       "                 onclick=\"copyToClipboard('random_state',\n",
       "                          this.parentElement.nextElementSibling)\"\n",
       "            ></i></td>\n",
       "            <td class=\"param\">random_state&nbsp;</td>\n",
       "            <td class=\"value\">42</td>\n",
       "        </tr>\n",
       "    \n",
       "                  </tbody>\n",
       "                </table>\n",
       "            </details>\n",
       "        </div>\n",
       "    </div></div></div></div></div><script>function copyToClipboard(text, element) {\n",
       "    // Get the parameter prefix from the closest toggleable content\n",
       "    const toggleableContent = element.closest('.sk-toggleable__content');\n",
       "    const paramPrefix = toggleableContent ? toggleableContent.dataset.paramPrefix : '';\n",
       "    const fullParamName = paramPrefix ? `${paramPrefix}${text}` : text;\n",
       "\n",
       "    const originalStyle = element.style;\n",
       "    const computedStyle = window.getComputedStyle(element);\n",
       "    const originalWidth = computedStyle.width;\n",
       "    const originalHTML = element.innerHTML.replace('Copied!', '');\n",
       "\n",
       "    navigator.clipboard.writeText(fullParamName)\n",
       "        .then(() => {\n",
       "            element.style.width = originalWidth;\n",
       "            element.style.color = 'green';\n",
       "            element.innerHTML = \"Copied!\";\n",
       "\n",
       "            setTimeout(() => {\n",
       "                element.innerHTML = originalHTML;\n",
       "                element.style = originalStyle;\n",
       "            }, 2000);\n",
       "        })\n",
       "        .catch(err => {\n",
       "            console.error('Failed to copy:', err);\n",
       "            element.style.color = 'red';\n",
       "            element.innerHTML = \"Failed!\";\n",
       "            setTimeout(() => {\n",
       "                element.innerHTML = originalHTML;\n",
       "                element.style = originalStyle;\n",
       "            }, 2000);\n",
       "        });\n",
       "    return false;\n",
       "}\n",
       "\n",
       "document.querySelectorAll('.fa-regular.fa-copy').forEach(function(element) {\n",
       "    const toggleableContent = element.closest('.sk-toggleable__content');\n",
       "    const paramPrefix = toggleableContent ? toggleableContent.dataset.paramPrefix : '';\n",
       "    const paramName = element.parentElement.nextElementSibling.textContent.trim();\n",
       "    const fullParamName = paramPrefix ? `${paramPrefix}${paramName}` : paramName;\n",
       "\n",
       "    element.setAttribute('title', fullParamName);\n",
       "});\n",
       "</script></body>"
      ],
      "text/plain": [
       "Ridge(random_state=42)"
      ]
     },
     "execution_count": 20,
     "metadata": {},
     "output_type": "execute_result"
    }
   ],
   "source": [
    "from sklearn.linear_model import Ridge\n",
    "\n",
    "ridge_basic = Ridge(alpha=1.0, random_state=42)\n",
    "ridge_basic.fit(X_train_scaled, y_train)"
   ]
  },
  {
   "cell_type": "markdown",
   "metadata": {},
   "source": [
    "### 6. Vorhersagen machen\n",
    "Nachdem das Ridge-Regressionsmodell mit den Trainingsdaten trainiert wurde, kann es nun auf neue, unbekannte Daten angewendet werden. In unserem Fall sind das die zuvor zurückgehaltenen Testdaten.\n",
    "\n",
    "Das Modell berechnet für jede Zeile im Testdatensatz einen geschätzten Verkaufspreis. Diese Vorhersagen lassen sich anschließend mit den tatsächlichen Werten vergleichen, um einen ersten Eindruck von der Modellgüte zu bekommen."
   ]
  },
  {
   "cell_type": "code",
   "execution_count": 21,
   "metadata": {},
   "outputs": [
    {
     "data": {
      "application/vnd.microsoft.datawrangler.viewer.v0+json": {
       "columns": [
        {
         "name": "index",
         "rawType": "int64",
         "type": "integer"
        },
        {
         "name": "Tatsächlicher Wert",
         "rawType": "float64",
         "type": "float"
        },
        {
         "name": "Vorhergesagter Wert",
         "rawType": "float64",
         "type": "float"
        },
        {
         "name": "Abweichung (Residuum)",
         "rawType": "float64",
         "type": "float"
        },
        {
         "name": "Abweichung (%)",
         "rawType": "float64",
         "type": "float"
        },
        {
         "name": "Absoluter Fehler",
         "rawType": "float64",
         "type": "float"
        },
        {
         "name": "Absoluter Fehler (%)",
         "rawType": "float64",
         "type": "float"
        },
        {
         "name": "Quadratischer Fehler",
         "rawType": "float64",
         "type": "float"
        }
       ],
       "ref": "5ce203d7-368c-4a3b-8b8c-c006c5c3bbd9",
       "rows": [
        [
         "361",
         "401.033",
         "400.84",
         "0.193",
         "0.048",
         "0.193",
         "0.048",
         "0.037"
        ],
        [
         "73",
         "534.777",
         "543.14",
         "-8.363",
         "-1.564",
         "8.363",
         "1.564",
         "69.939"
        ],
        [
         "374",
         "418.603",
         "425.701",
         "-7.098",
         "-1.696",
         "7.098",
         "1.696",
         "50.379"
        ],
        [
         "155",
         "503.978",
         "501.387",
         "2.591",
         "0.514",
         "2.591",
         "0.514",
         "6.716"
        ],
        [
         "104",
         "410.07",
         "408.022",
         "2.047",
         "0.499",
         "2.047",
         "0.499",
         "4.191"
        ],
        [
         "394",
         "557.608",
         "570.613",
         "-13.005",
         "-2.332",
         "13.005",
         "2.332",
         "169.125"
        ],
        [
         "377",
         "538.942",
         "531.688",
         "7.254",
         "1.346",
         "7.254",
         "1.346",
         "52.627"
        ],
        [
         "124",
         "514.337",
         "505.874",
         "8.463",
         "1.645",
         "8.463",
         "1.645",
         "71.621"
        ],
        [
         "68",
         "408.62",
         "406.036",
         "2.584",
         "0.632",
         "2.584",
         "0.632",
         "6.676"
        ],
        [
         "450",
         "475.015",
         "472.903",
         "2.113",
         "0.445",
         "2.113",
         "0.445",
         "4.464"
        ]
       ],
       "shape": {
        "columns": 7,
        "rows": 10
       }
      },
      "text/html": [
       "<div>\n",
       "<style scoped>\n",
       "    .dataframe tbody tr th:only-of-type {\n",
       "        vertical-align: middle;\n",
       "    }\n",
       "\n",
       "    .dataframe tbody tr th {\n",
       "        vertical-align: top;\n",
       "    }\n",
       "\n",
       "    .dataframe thead th {\n",
       "        text-align: right;\n",
       "    }\n",
       "</style>\n",
       "<table border=\"1\" class=\"dataframe\">\n",
       "  <thead>\n",
       "    <tr style=\"text-align: right;\">\n",
       "      <th></th>\n",
       "      <th>Tatsächlicher Wert</th>\n",
       "      <th>Vorhergesagter Wert</th>\n",
       "      <th>Abweichung (Residuum)</th>\n",
       "      <th>Abweichung (%)</th>\n",
       "      <th>Absoluter Fehler</th>\n",
       "      <th>Absoluter Fehler (%)</th>\n",
       "      <th>Quadratischer Fehler</th>\n",
       "    </tr>\n",
       "  </thead>\n",
       "  <tbody>\n",
       "    <tr>\n",
       "      <th>361</th>\n",
       "      <td>401.033</td>\n",
       "      <td>400.840</td>\n",
       "      <td>0.193</td>\n",
       "      <td>0.048</td>\n",
       "      <td>0.193</td>\n",
       "      <td>0.048</td>\n",
       "      <td>0.037</td>\n",
       "    </tr>\n",
       "    <tr>\n",
       "      <th>73</th>\n",
       "      <td>534.777</td>\n",
       "      <td>543.140</td>\n",
       "      <td>-8.363</td>\n",
       "      <td>-1.564</td>\n",
       "      <td>8.363</td>\n",
       "      <td>1.564</td>\n",
       "      <td>69.939</td>\n",
       "    </tr>\n",
       "    <tr>\n",
       "      <th>374</th>\n",
       "      <td>418.603</td>\n",
       "      <td>425.701</td>\n",
       "      <td>-7.098</td>\n",
       "      <td>-1.696</td>\n",
       "      <td>7.098</td>\n",
       "      <td>1.696</td>\n",
       "      <td>50.379</td>\n",
       "    </tr>\n",
       "    <tr>\n",
       "      <th>155</th>\n",
       "      <td>503.978</td>\n",
       "      <td>501.387</td>\n",
       "      <td>2.591</td>\n",
       "      <td>0.514</td>\n",
       "      <td>2.591</td>\n",
       "      <td>0.514</td>\n",
       "      <td>6.716</td>\n",
       "    </tr>\n",
       "    <tr>\n",
       "      <th>104</th>\n",
       "      <td>410.070</td>\n",
       "      <td>408.022</td>\n",
       "      <td>2.047</td>\n",
       "      <td>0.499</td>\n",
       "      <td>2.047</td>\n",
       "      <td>0.499</td>\n",
       "      <td>4.191</td>\n",
       "    </tr>\n",
       "    <tr>\n",
       "      <th>394</th>\n",
       "      <td>557.608</td>\n",
       "      <td>570.613</td>\n",
       "      <td>-13.005</td>\n",
       "      <td>-2.332</td>\n",
       "      <td>13.005</td>\n",
       "      <td>2.332</td>\n",
       "      <td>169.125</td>\n",
       "    </tr>\n",
       "    <tr>\n",
       "      <th>377</th>\n",
       "      <td>538.942</td>\n",
       "      <td>531.688</td>\n",
       "      <td>7.254</td>\n",
       "      <td>1.346</td>\n",
       "      <td>7.254</td>\n",
       "      <td>1.346</td>\n",
       "      <td>52.627</td>\n",
       "    </tr>\n",
       "    <tr>\n",
       "      <th>124</th>\n",
       "      <td>514.337</td>\n",
       "      <td>505.874</td>\n",
       "      <td>8.463</td>\n",
       "      <td>1.645</td>\n",
       "      <td>8.463</td>\n",
       "      <td>1.645</td>\n",
       "      <td>71.621</td>\n",
       "    </tr>\n",
       "    <tr>\n",
       "      <th>68</th>\n",
       "      <td>408.620</td>\n",
       "      <td>406.036</td>\n",
       "      <td>2.584</td>\n",
       "      <td>0.632</td>\n",
       "      <td>2.584</td>\n",
       "      <td>0.632</td>\n",
       "      <td>6.676</td>\n",
       "    </tr>\n",
       "    <tr>\n",
       "      <th>450</th>\n",
       "      <td>475.015</td>\n",
       "      <td>472.903</td>\n",
       "      <td>2.113</td>\n",
       "      <td>0.445</td>\n",
       "      <td>2.113</td>\n",
       "      <td>0.445</td>\n",
       "      <td>4.464</td>\n",
       "    </tr>\n",
       "  </tbody>\n",
       "</table>\n",
       "</div>"
      ],
      "text/plain": [
       "     Tatsächlicher Wert  Vorhergesagter Wert  Abweichung (Residuum)  \\\n",
       "361             401.033              400.840                  0.193   \n",
       "73              534.777              543.140                 -8.363   \n",
       "374             418.603              425.701                 -7.098   \n",
       "155             503.978              501.387                  2.591   \n",
       "104             410.070              408.022                  2.047   \n",
       "394             557.608              570.613                -13.005   \n",
       "377             538.942              531.688                  7.254   \n",
       "124             514.337              505.874                  8.463   \n",
       "68              408.620              406.036                  2.584   \n",
       "450             475.015              472.903                  2.113   \n",
       "\n",
       "     Abweichung (%)  Absoluter Fehler  Absoluter Fehler (%)  \\\n",
       "361           0.048             0.193                 0.048   \n",
       "73           -1.564             8.363                 1.564   \n",
       "374          -1.696             7.098                 1.696   \n",
       "155           0.514             2.591                 0.514   \n",
       "104           0.499             2.047                 0.499   \n",
       "394          -2.332            13.005                 2.332   \n",
       "377           1.346             7.254                 1.346   \n",
       "124           1.645             8.463                 1.645   \n",
       "68            0.632             2.584                 0.632   \n",
       "450           0.445             2.113                 0.445   \n",
       "\n",
       "     Quadratischer Fehler  \n",
       "361                 0.037  \n",
       "73                 69.939  \n",
       "374                50.379  \n",
       "155                 6.716  \n",
       "104                 4.191  \n",
       "394               169.125  \n",
       "377                52.627  \n",
       "124                71.621  \n",
       "68                  6.676  \n",
       "450                 4.464  "
      ]
     },
     "execution_count": 21,
     "metadata": {},
     "output_type": "execute_result"
    }
   ],
   "source": [
    "from evaluation import preview_regression_errors\n",
    "\n",
    "y_pred_basic = ridge_basic.predict(X_test_scaled)\n",
    "\n",
    "preview_regression_errors(y_test, y_pred_basic, n=10)"
   ]
  },
  {
   "cell_type": "markdown",
   "metadata": {},
   "source": [
    "### 7. Modell evaluieren\n",
    "Die gängigen und aussagekräftigen Kennzahlen für ein Regressionsmodell sind:\n",
    "\n",
    "- MAE (Mean Absolute Error): Durchschnittlicher absoluter Fehler\n",
    "- RMSE (Root Mean Squared Error): Mittlerer quadratischer Fehler, große Ausreißer stärker gewichtet\n",
    "- R² (Bestimmtheitsmaß): Erklärt den Anteil der Varianz, den das Modell erfasst"
   ]
  },
  {
   "cell_type": "code",
   "execution_count": 22,
   "metadata": {},
   "outputs": [
    {
     "name": "stdout",
     "output_type": "stream",
     "text": [
      "RMSE (Test): 11.1009\n",
      "R² (Test): 0.9751\n",
      "Adjusted R² (Test): 0.9741\n",
      "MAE (Test): 9.0082 | MedAE: 8.4632 | MAPE: 1.89%\n",
      "CV-R2 (Train)  Mittel: 0.9820 | Std: 0.0033 | Folds: 5\n",
      "RMSE (Train):       10.6878\n",
      "R² (Train):         0.9826\n"
     ]
    }
   ],
   "source": [
    "from evaluation import evaluate_regression\n",
    "\n",
    "res = evaluate_regression(\n",
    "    Ridge(),\n",
    "    X_train_scaled, y_train,\n",
    "    X_test_scaled, y_test,\n",
    "    scoring=\"r2\",\n",
    "    with_train_metrics=True,\n",
    "    extra_test_metrics=True,\n",
    "    return_print=True\n",
    ")"
   ]
  },
  {
   "cell_type": "markdown",
   "metadata": {},
   "source": [
    "### 8. Pipeline erstellen\n",
    "Nachdem alle notwendigen Schritte geklärt sind, ist es an der Zeite eine Scikit-Learn-Pipeline zu erzeugen."
   ]
  },
  {
   "cell_type": "code",
   "execution_count": null,
   "metadata": {},
   "outputs": [],
   "source": [
    "# importe \n",
    "\n",
    "import numpy as np\n",
    "import pandas as pd\n",
    "\n",
    "from sklearn.base import BaseEstimator, TransformerMixin\n",
    "from sklearn.model_selection import train_test_split, KFold, cross_val_score\n",
    "from sklearn.compose import ColumnTransformer, make_column_selector\n",
    "from sklearn.pipeline import Pipeline\n",
    "from sklearn.preprocessing import StandardScaler\n",
    "from sklearn.linear_model import LinearRegression\n",
    "\n",
    "\n",
    "# Daten laden falls noch nicht vorhanden mit \".read\"\n",
    "\n",
    "# 1. Ziel & Features festlegen\n",
    "X = customers.drop(columns=[\"Yearly Amount Spent\"])\n",
    "y = customers[\"Yearly Amount Spent\"]\n",
    "\n",
    "# Train/Test-Split\n",
    "X_train, X_test, y_train, y_test = train_test_split(\n",
    "    X, y, test_size=0.2, random_state=42, shuffle=True\n",
    ")\n",
    "\n",
    "# 2. Einfacher Ausreißer-Clipper als Transformer\n",
    "class IQRClipper(BaseEstimator, TransformerMixin):\n",
    "    \n",
    "    def __init__(self, factor=1.5):\n",
    "        self.factor = factor\n",
    "\n",
    "    def fit(self, X, y=None):\n",
    "        X = np.asarray(X, dtype=float)\n",
    "        q1 = np.nanpercentile(X, 25, axis=0)\n",
    "        q3 = np.nanpercentile(X, 75, axis=0)\n",
    "        iqr = q3 - q1\n",
    "\n",
    "        lower = q1 - self.factor * iqr\n",
    "        upper = q3 + self.factor * iqr\n",
    "\n",
    "        # Konstante Spalten sauber behandeln (IQR==0)\n",
    "        mask = (iqr == 0)\n",
    "        lower[mask] = q1[mask]\n",
    "        upper[mask] = q3[mask]\n",
    "\n",
    "        self.lower_ = lower\n",
    "        self.upper_ = upper\n",
    "        return self\n",
    "\n",
    "    def transform(self, X):\n",
    "        X = np.asarray(X, dtype=float)\n",
    "        return np.clip(X, self.lower_, self.upper_)\n",
    "    \n",
    "# 3. Preprocessing + Modell als Pipeline\n",
    "# -> nur numerische Spalten verarbeiten (Textspalten werden ignoriert/gedroppt)\n",
    "num_selector = make_column_selector(dtype_include=np.number)\n",
    "\n",
    "preprocess = ColumnTransformer(\n",
    "    transformers=[\n",
    "        (\"num\", Pipeline(steps=[\n",
    "            (\"clip\", IQRClipper(factor=1.5)),   # Ausreißer stutzen\n",
    "            (\"scale\", StandardScaler())         # Standardisieren\n",
    "        ]), num_selector)\n",
    "    ],\n",
    "    remainder=\"drop\"  # nicht-numerische Spalten verwerfen (Email, Address, Avatar)\n",
    ")\n",
    "\n",
    "pipe = Pipeline(steps=[\n",
    "    (\"prep\", preprocess),\n",
    "    (\"model\", LinearRegression())\n",
    "])\n",
    "\n",
    "# 4. Training, CV und Test-Vorhersage\n",
    "# Cross-Validation nur auf dem TRAIN-Set (leakage-sicher)\n",
    "cv = KFold(n_splits=5, shuffle=True, random_state=42)\n",
    "cv_scores = cross_val_score(pipe, X_train, y_train, scoring=\"r2\", cv=cv)\n",
    "\n",
    "# Fitte Pipeline auf dem kompletten TRAIN\n",
    "pipe.fit(X_train, y_train)\n",
    "\n",
    "# Test-Vorhersage\n",
    "y_pred = pipe.predict(X_test)\n",
    "\n",
    "# 5. Einfache Auswertung (Test-Set)\n",
    "from evaluation import evaluate_regression\n",
    "\n",
    "res = evaluate_regression(\n",
    "    Ridge(),\n",
    "    X_train_scaled, y_train,\n",
    "    X_test_scaled, y_test,\n",
    "    scoring=\"r2\",\n",
    "    with_train_metrics=True,\n",
    "    extra_test_metrics=True,\n",
    "    return_print=True\n",
    ")\n"
   ]
  }
 ],
 "metadata": {
  "kernelspec": {
   "display_name": ".venv",
   "language": "python",
   "name": "python3"
  },
  "language_info": {
   "codemirror_mode": {
    "name": "ipython",
    "version": 3
   },
   "file_extension": ".py",
   "mimetype": "text/x-python",
   "name": "python",
   "nbconvert_exporter": "python",
   "pygments_lexer": "ipython3",
   "version": "3.13.2"
  }
 },
 "nbformat": 4,
 "nbformat_minor": 2
}
