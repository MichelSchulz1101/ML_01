{
 "cells": [
  {
   "cell_type": "markdown",
   "metadata": {},
   "source": [
    "# Umgang mit fehlenden werten in sklearn"
   ]
  },
  {
   "cell_type": "code",
   "execution_count": 15,
   "metadata": {},
   "outputs": [
    {
     "data": {
      "application/vnd.microsoft.datawrangler.viewer.v0+json": {
       "columns": [
        {
         "name": "index",
         "rawType": "object",
         "type": "string"
        },
        {
         "name": "0",
         "rawType": "int64",
         "type": "integer"
        }
       ],
       "ref": "813a9a7f-5352-4c6b-961d-930ad9cbd961",
       "rows": [
        [
         "Make",
         "49"
        ],
        [
         "Colour",
         "50"
        ],
        [
         "Odometer (KM)",
         "50"
        ],
        [
         "Doors",
         "50"
        ],
        [
         "Price",
         "50"
        ]
       ],
       "shape": {
        "columns": 1,
        "rows": 5
       }
      },
      "text/plain": [
       "Make             49\n",
       "Colour           50\n",
       "Odometer (KM)    50\n",
       "Doors            50\n",
       "Price            50\n",
       "dtype: int64"
      ]
     },
     "execution_count": 15,
     "metadata": {},
     "output_type": "execute_result"
    }
   ],
   "source": [
    "import pandas as pd\n",
    "import numpy as np\n",
    "\n",
    "car_sales_missing = pd.read_csv(\"data/car-sales-extended-missing-data.csv\")\n",
    "car_sales_missing.isna().sum()"
   ]
  },
  {
   "cell_type": "code",
   "execution_count": 2,
   "metadata": {},
   "outputs": [
    {
     "data": {
      "application/vnd.microsoft.datawrangler.viewer.v0+json": {
       "columns": [
        {
         "name": "index",
         "rawType": "object",
         "type": "string"
        },
        {
         "name": "0",
         "rawType": "int64",
         "type": "integer"
        }
       ],
       "ref": "4dc9c6bb-3bb3-4c6c-bc79-24329fc84453",
       "rows": [
        [
         "Make",
         "47"
        ],
        [
         "Colour",
         "46"
        ],
        [
         "Odometer (KM)",
         "48"
        ],
        [
         "Doors",
         "47"
        ],
        [
         "Price",
         "0"
        ]
       ],
       "shape": {
        "columns": 1,
        "rows": 5
       }
      },
      "text/plain": [
       "Make             47\n",
       "Colour           46\n",
       "Odometer (KM)    48\n",
       "Doors            47\n",
       "Price             0\n",
       "dtype: int64"
      ]
     },
     "execution_count": 2,
     "metadata": {},
     "output_type": "execute_result"
    }
   ],
   "source": [
    "car_sales_missing.dropna(subset=[\"Price\"], inplace=True)\n",
    "car_sales_missing.isna().sum()"
   ]
  },
  {
   "cell_type": "code",
   "execution_count": 3,
   "metadata": {},
   "outputs": [],
   "source": [
    "X = car_sales_missing.drop(\"Price\", axis=1)\n",
    "y = car_sales_missing[\"Price\"]"
   ]
  },
  {
   "cell_type": "code",
   "execution_count": 4,
   "metadata": {},
   "outputs": [],
   "source": [
    "categorical_features = [\"Make\", \"Colour\"]\n",
    "door_features = [\"Doors\"]\n",
    "numerical_features = [\"Odometer (KM)\"]"
   ]
  },
  {
   "cell_type": "code",
   "execution_count": 5,
   "metadata": {},
   "outputs": [],
   "source": [
    "from sklearn.impute import SimpleImputer\n",
    "\n",
    "categorical_inputer = SimpleImputer(strategy=\"constant\", fill_value=\"missing\")\n",
    "door_inputer = SimpleImputer(strategy=\"constant\", fill_value=4)\n",
    "numerical_inputer = SimpleImputer(strategy=\"mean\")"
   ]
  },
  {
   "cell_type": "code",
   "execution_count": 6,
   "metadata": {},
   "outputs": [],
   "source": [
    "from sklearn.compose import ColumnTransformer\n",
    "\n",
    "inputer = ColumnTransformer([\n",
    "    # Hier wird der inputer auf 2 verschiedene Spalten angewendet:\n",
    "    (\"cat_inputer\", categorical_inputer, categorical_features),\n",
    "\n",
    "    # Auf \"Doors\" Spalte einen Inputer anwenden:\n",
    "    (\"door_inputer\", door_inputer, door_features),\n",
    "\n",
    "    # Auf \"Odometer (KM)\" Spalte einen Inputer anwenden:\n",
    "    (\"numerical_inputer\", numerical_inputer, numerical_features),\n",
    "])"
   ]
  },
  {
   "cell_type": "code",
   "execution_count": 7,
   "metadata": {},
   "outputs": [],
   "source": [
    "from sklearn.model_selection import train_test_split\n",
    "\n",
    "X_train, X_test, y_train, y_test = train_test_split(X, y, test_size=0.2, random_state=42)"
   ]
  },
  {
   "cell_type": "code",
   "execution_count": 8,
   "metadata": {},
   "outputs": [],
   "source": [
    "filled_X_train = inputer.fit_transform(X_train)\n",
    "filled_X_test = inputer.fit_transform(X_test)"
   ]
  },
  {
   "cell_type": "code",
   "execution_count": 9,
   "metadata": {},
   "outputs": [],
   "source": [
    "filled_columns = categorical_features + door_features + numerical_features\n",
    "X_train_df = pd.DataFrame(filled_X_train, columns=filled_columns)\n",
    "X_test_df = pd.DataFrame(filled_X_test, columns=filled_columns)"
   ]
  },
  {
   "cell_type": "code",
   "execution_count": 10,
   "metadata": {},
   "outputs": [
    {
     "data": {
      "application/vnd.microsoft.datawrangler.viewer.v0+json": {
       "columns": [
        {
         "name": "index",
         "rawType": "object",
         "type": "string"
        },
        {
         "name": "0",
         "rawType": "int64",
         "type": "integer"
        }
       ],
       "ref": "808f1eaa-ee58-421b-8ff7-78d7dd7fca46",
       "rows": [
        [
         "Make",
         "0"
        ],
        [
         "Colour",
         "0"
        ],
        [
         "Doors",
         "0"
        ],
        [
         "Odometer (KM)",
         "0"
        ]
       ],
       "shape": {
        "columns": 1,
        "rows": 4
       }
      },
      "text/plain": [
       "Make             0\n",
       "Colour           0\n",
       "Doors            0\n",
       "Odometer (KM)    0\n",
       "dtype: int64"
      ]
     },
     "execution_count": 10,
     "metadata": {},
     "output_type": "execute_result"
    }
   ],
   "source": [
    "X_test_df.isna().sum()"
   ]
  },
  {
   "cell_type": "code",
   "execution_count": 11,
   "metadata": {},
   "outputs": [],
   "source": [
    "from sklearn.preprocessing import OneHotEncoder\n",
    "\n",
    "\n",
    "# Liste von Spaltennamen, die kategoriale Werte enthalten:\n",
    "categorical_features = [\"Make\", \"Colour\", \"Doors\"]\n",
    "\n",
    "one_hot = OneHotEncoder()\n",
    "\n",
    "# Hier wird der \"OneHotEncoder\" auf die Spalten in \"categorical_features\" angewand.\n",
    "transformer = ColumnTransformer([(\"one_hot\", one_hot, categorical_features)], remainder=\"passthrough\")\n",
    "\n",
    "X_train_transformed = inputer.fit_transform(X_train_df)\n",
    "X_test_transformed = inputer.fit_transform(X_test_df)"
   ]
  },
  {
   "cell_type": "code",
   "execution_count": 12,
   "metadata": {},
   "outputs": [
    {
     "data": {
      "text/plain": [
       "array([['Honda', 'White', 4.0, 71934.0],\n",
       "       ['Toyota', 'Red', 4.0, 162665.0],\n",
       "       ['Honda', 'White', 4.0, 42844.0],\n",
       "       ...,\n",
       "       ['Toyota', 'White', 4.0, 196225.0],\n",
       "       ['Honda', 'Blue', 4.0, 133117.0],\n",
       "       ['Honda', 'missing', 4.0, 150582.0]], shape=(760, 4), dtype=object)"
      ]
     },
     "execution_count": 12,
     "metadata": {},
     "output_type": "execute_result"
    }
   ],
   "source": [
    "X_train_transformed"
   ]
  },
  {
   "cell_type": "code",
   "execution_count": 25,
   "metadata": {},
   "outputs": [
    {
     "ename": "AttributeError",
     "evalue": "'numpy.ndarray' object has no attribute 'toarray'",
     "output_type": "error",
     "traceback": [
      "\u001b[31m---------------------------------------------------------------------------\u001b[39m",
      "\u001b[31mAttributeError\u001b[39m                            Traceback (most recent call last)",
      "\u001b[36mCell\u001b[39m\u001b[36m \u001b[39m\u001b[32mIn[25]\u001b[39m\u001b[32m, line 1\u001b[39m\n\u001b[32m----> \u001b[39m\u001b[32m1\u001b[39m X_train_array = \u001b[43mX_train_transformed\u001b[49m\u001b[43m.\u001b[49m\u001b[43mtoarray\u001b[49m()\n\u001b[32m      2\u001b[39m X_test_array = X_test_transformed.toarray()\n\u001b[32m      4\u001b[39m ohe_columns = transformer.named_transformers_[\u001b[33m\"\u001b[39m\u001b[33mone_hot\u001b[39m\u001b[33m\"\u001b[39m].get_feature_names_out()\n",
      "\u001b[31mAttributeError\u001b[39m: 'numpy.ndarray' object has no attribute 'toarray'"
     ]
    }
   ],
   "source": [
    "\n",
    "\n",
    "X_train_array = X_train_transformed.toarray()\n",
    "X_test_array = X_test_transformed.toarray()\n",
    "\n",
    "ohe_columns = transformer.named_transformers_[\"one_hot\"].get_feature_names_out()\n",
    "all_feature_names = list(ohe_columns) + list(numerical_features)\n",
    "\n",
    "X_train_df_final = pd.DataFrame(X_train_array, columns=all_feature_names)\n",
    "X_test_df_final = pd.DataFrame(X_test_array,columns=all_feature_names)\n",
    "X_test_df_final              "
   ]
  },
  {
   "cell_type": "code",
   "execution_count": 26,
   "metadata": {},
   "outputs": [
    {
     "ename": "NameError",
     "evalue": "name 'X_train_df_final' is not defined",
     "output_type": "error",
     "traceback": [
      "\u001b[31m---------------------------------------------------------------------------\u001b[39m",
      "\u001b[31mNameError\u001b[39m                                 Traceback (most recent call last)",
      "\u001b[36mCell\u001b[39m\u001b[36m \u001b[39m\u001b[32mIn[26]\u001b[39m\u001b[32m, line 7\u001b[39m\n\u001b[32m      4\u001b[39m model = RandomForestRegressor(random_state=\u001b[32m42\u001b[39m)\n\u001b[32m      6\u001b[39m \u001b[38;5;66;03m# Modell trainieren:\u001b[39;00m\n\u001b[32m----> \u001b[39m\u001b[32m7\u001b[39m model.fit(\u001b[43mX_train_df_final\u001b[49m, y_train)\n\u001b[32m      9\u001b[39m \u001b[38;5;66;03m# Modellbewertung:\u001b[39;00m\n\u001b[32m     10\u001b[39m model.score(X_test_df_final, y_test)\n",
      "\u001b[31mNameError\u001b[39m: name 'X_train_df_final' is not defined"
     ]
    }
   ],
   "source": [
    "from sklearn.ensemble import RandomForestRegressor\n",
    "\n",
    "# Modell erstellen:\n",
    "model = RandomForestRegressor(random_state=42)\n",
    "\n",
    "# Modell trainieren:\n",
    "model.fit(X_train_df_final, y_train)\n",
    "\n",
    "# Modellbewertung:\n",
    "model.score(X_test_df_final, y_test)"
   ]
  }
 ],
 "metadata": {
  "kernelspec": {
   "display_name": ".venv",
   "language": "python",
   "name": "python3"
  },
  "language_info": {
   "codemirror_mode": {
    "name": "ipython",
    "version": 3
   },
   "file_extension": ".py",
   "mimetype": "text/x-python",
   "name": "python",
   "nbconvert_exporter": "python",
   "pygments_lexer": "ipython3",
   "version": "3.13.2"
  }
 },
 "nbformat": 4,
 "nbformat_minor": 2
}
