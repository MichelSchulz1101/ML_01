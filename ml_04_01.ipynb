{
 "cells": [
  {
   "cell_type": "markdown",
   "metadata": {},
   "source": [
    "# Vorhersagen mit einem trainierten Modell treffen"
   ]
  },
  {
   "cell_type": "code",
   "execution_count": 1,
   "metadata": {},
   "outputs": [],
   "source": [
    "import joblib\n",
    "\n",
    "scaler = joblib.load(\"scaler.pkl\")\n",
    "clf = joblib.load(\"knn_model.pkl\")"
   ]
  },
  {
   "cell_type": "code",
   "execution_count": 2,
   "metadata": {},
   "outputs": [
    {
     "name": "stdout",
     "output_type": "stream",
     "text": [
      "Fehler bei der Vorhersage:\n",
      "Expected 2D array, got 1D array instead:\n",
      "array=[1 7 8 3 4].\n",
      "Reshape your data either using array.reshape(-1, 1) if your data has a single feature or array.reshape(1, -1) if it contains a single sample.\n"
     ]
    }
   ],
   "source": [
    "import numpy as np\n",
    "\n",
    "try:\n",
    "    clf.predict(np.array([1, 7, 8, 3, 4]))\n",
    "\n",
    "except Exception as e:\n",
    "    print(f\"Fehler bei der Vorhersage:\\n{e}\")"
   ]
  },
  {
   "cell_type": "code",
   "execution_count": 3,
   "metadata": {},
   "outputs": [
    {
     "data": {
      "application/vnd.microsoft.datawrangler.viewer.v0+json": {
       "columns": [
        {
         "name": "index",
         "rawType": "int64",
         "type": "integer"
        },
        {
         "name": "age",
         "rawType": "float64",
         "type": "float"
        },
        {
         "name": "sex",
         "rawType": "float64",
         "type": "float"
        },
        {
         "name": "cp",
         "rawType": "float64",
         "type": "float"
        },
        {
         "name": "trestbps",
         "rawType": "float64",
         "type": "float"
        },
        {
         "name": "chol",
         "rawType": "float64",
         "type": "float"
        },
        {
         "name": "fbs",
         "rawType": "float64",
         "type": "float"
        },
        {
         "name": "restecg",
         "rawType": "float64",
         "type": "float"
        },
        {
         "name": "thalach",
         "rawType": "float64",
         "type": "float"
        },
        {
         "name": "exang",
         "rawType": "float64",
         "type": "float"
        },
        {
         "name": "oldpeak",
         "rawType": "float64",
         "type": "float"
        },
        {
         "name": "slope",
         "rawType": "float64",
         "type": "float"
        },
        {
         "name": "ca",
         "rawType": "float64",
         "type": "float"
        },
        {
         "name": "thal",
         "rawType": "float64",
         "type": "float"
        }
       ],
       "ref": "17dac850-b2fb-4ac0-9c5b-2334a5b11082",
       "rows": [
        [
         "0",
         "57.0",
         "1.0",
         "2.0",
         "130.0",
         "236.0",
         "0.0",
         "0.0",
         "174.0",
         "0.0",
         "0.0",
         "1.0",
         "1.0",
         "2.0"
        ]
       ],
       "shape": {
        "columns": 13,
        "rows": 1
       }
      },
      "text/html": [
       "<div>\n",
       "<style scoped>\n",
       "    .dataframe tbody tr th:only-of-type {\n",
       "        vertical-align: middle;\n",
       "    }\n",
       "\n",
       "    .dataframe tbody tr th {\n",
       "        vertical-align: top;\n",
       "    }\n",
       "\n",
       "    .dataframe thead th {\n",
       "        text-align: right;\n",
       "    }\n",
       "</style>\n",
       "<table border=\"1\" class=\"dataframe\">\n",
       "  <thead>\n",
       "    <tr style=\"text-align: right;\">\n",
       "      <th></th>\n",
       "      <th>age</th>\n",
       "      <th>sex</th>\n",
       "      <th>cp</th>\n",
       "      <th>trestbps</th>\n",
       "      <th>chol</th>\n",
       "      <th>fbs</th>\n",
       "      <th>restecg</th>\n",
       "      <th>thalach</th>\n",
       "      <th>exang</th>\n",
       "      <th>oldpeak</th>\n",
       "      <th>slope</th>\n",
       "      <th>ca</th>\n",
       "      <th>thal</th>\n",
       "    </tr>\n",
       "  </thead>\n",
       "  <tbody>\n",
       "    <tr>\n",
       "      <th>0</th>\n",
       "      <td>57.0</td>\n",
       "      <td>1.0</td>\n",
       "      <td>2.0</td>\n",
       "      <td>130.0</td>\n",
       "      <td>236.0</td>\n",
       "      <td>0.0</td>\n",
       "      <td>0.0</td>\n",
       "      <td>174.0</td>\n",
       "      <td>0.0</td>\n",
       "      <td>0.0</td>\n",
       "      <td>1.0</td>\n",
       "      <td>1.0</td>\n",
       "      <td>2.0</td>\n",
       "    </tr>\n",
       "  </tbody>\n",
       "</table>\n",
       "</div>"
      ],
      "text/plain": [
       "    age  sex   cp  trestbps   chol  fbs  restecg  thalach  exang  oldpeak  \\\n",
       "0  57.0  1.0  2.0     130.0  236.0  0.0      0.0    174.0    0.0      0.0   \n",
       "\n",
       "   slope   ca  thal  \n",
       "0    1.0  1.0   2.0  "
      ]
     },
     "execution_count": 3,
     "metadata": {},
     "output_type": "execute_result"
    }
   ],
   "source": [
    "import pandas as pd\n",
    "\n",
    "feature_names = [\n",
    "    \"age\", \"sex\", \"cp\", \"trestbps\", \"chol\", \"fbs\",\n",
    "    \"restecg\", \"thalach\", \"exang\", \"oldpeak\", \"slope\",\n",
    "    \"ca\", \"thal\"\n",
    "]\n",
    "\n",
    "neuer_partient = np.array([[57, 1, 2, 130, 236, 0, 0, 174, 0, 0.0, 1, 1, 2]])\n",
    "neuer_partient_df = pd.DataFrame(neuer_partient, columns=feature_names)\n",
    "neuer_partient_df"
   ]
  },
  {
   "cell_type": "code",
   "execution_count": 4,
   "metadata": {},
   "outputs": [
    {
     "data": {
      "text/plain": [
       "array([[ 0.27621823,  0.72250438,  0.98808912, -0.02140663, -0.20580267,\n",
       "        -0.38330071, -1.04610909,  1.07074858, -0.67663234, -0.92086403,\n",
       "        -0.69498803,  0.32186034, -0.50904773]])"
      ]
     },
     "execution_count": 4,
     "metadata": {},
     "output_type": "execute_result"
    }
   ],
   "source": [
    "neuer_partient_scaled = scaler.transform(neuer_partient_df)\n",
    "neuer_partient_scaled"
   ]
  },
  {
   "cell_type": "code",
   "execution_count": 5,
   "metadata": {},
   "outputs": [
    {
     "name": "stdout",
     "output_type": "stream",
     "text": [
      "Vorhersage (0 = keiner herzerkrankung, 1 = Herzerkrankung) [0]\n"
     ]
    }
   ],
   "source": [
    "prediction = clf.predict(neuer_partient_scaled)\n",
    "print(f\"Vorhersage (0 = keiner herzerkrankung, 1 = Herzerkrankung) {prediction}\")"
   ]
  },
  {
   "cell_type": "code",
   "execution_count": 6,
   "metadata": {},
   "outputs": [],
   "source": [
    "def add_partient(partient_data: list, df: pd.DataFrame = None) -> pd.DataFrame:\n",
    "\n",
    "    feature_names = [\n",
    "    \"age\", \"sex\", \"cp\", \"trestbps\", \"chol\", \"fbs\",\n",
    "    \"restecg\", \"thalach\", \"exang\", \"oldpeak\", \"slope\",\n",
    "    \"ca\", \"thal\"\n",
    "    ]\n",
    "    \n",
    "    if len(partient_data) != len(feature_names):\n",
    "        raise ValueError(f\"Es werden {len(partient_data)} wurde übergeben.\")\n",
    "    \n",
    "    new_entry = pd.DataFrame([partient_data], columns=feature_names)\n",
    "\n",
    "    if df is None or df.empty:\n",
    "        df_new = new_entry.copy()\n",
    "    else:\n",
    "        if list(df.columns) != feature_names:\n",
    "            raise ValueError(\"Die Spalten im DataFrame stimmen nicht mit den erwartungen überein\")\n",
    "        df_new = pd.concat([df, new_entry], ignore_index=True)\n",
    "\n",
    "    print(\"Neuer Partient wurde erfolgreich hinzugefügt\")\n",
    "    return df_new"
   ]
  },
  {
   "cell_type": "code",
   "execution_count": 7,
   "metadata": {},
   "outputs": [
    {
     "name": "stdout",
     "output_type": "stream",
     "text": [
      "Neuer Partient wurde erfolgreich hinzugefügt\n"
     ]
    },
    {
     "data": {
      "application/vnd.microsoft.datawrangler.viewer.v0+json": {
       "columns": [
        {
         "name": "index",
         "rawType": "int64",
         "type": "integer"
        },
        {
         "name": "age",
         "rawType": "int64",
         "type": "integer"
        },
        {
         "name": "sex",
         "rawType": "int64",
         "type": "integer"
        },
        {
         "name": "cp",
         "rawType": "int64",
         "type": "integer"
        },
        {
         "name": "trestbps",
         "rawType": "int64",
         "type": "integer"
        },
        {
         "name": "chol",
         "rawType": "int64",
         "type": "integer"
        },
        {
         "name": "fbs",
         "rawType": "int64",
         "type": "integer"
        },
        {
         "name": "restecg",
         "rawType": "int64",
         "type": "integer"
        },
        {
         "name": "thalach",
         "rawType": "int64",
         "type": "integer"
        },
        {
         "name": "exang",
         "rawType": "int64",
         "type": "integer"
        },
        {
         "name": "oldpeak",
         "rawType": "float64",
         "type": "float"
        },
        {
         "name": "slope",
         "rawType": "int64",
         "type": "integer"
        },
        {
         "name": "ca",
         "rawType": "int64",
         "type": "integer"
        },
        {
         "name": "thal",
         "rawType": "int64",
         "type": "integer"
        }
       ],
       "ref": "d04fbc51-f70c-4859-9eb9-0c041882822a",
       "rows": [
        [
         "0",
         "57",
         "1",
         "2",
         "130",
         "236",
         "0",
         "0",
         "174",
         "0",
         "0.0",
         "1",
         "1",
         "2"
        ]
       ],
       "shape": {
        "columns": 13,
        "rows": 1
       }
      },
      "text/html": [
       "<div>\n",
       "<style scoped>\n",
       "    .dataframe tbody tr th:only-of-type {\n",
       "        vertical-align: middle;\n",
       "    }\n",
       "\n",
       "    .dataframe tbody tr th {\n",
       "        vertical-align: top;\n",
       "    }\n",
       "\n",
       "    .dataframe thead th {\n",
       "        text-align: right;\n",
       "    }\n",
       "</style>\n",
       "<table border=\"1\" class=\"dataframe\">\n",
       "  <thead>\n",
       "    <tr style=\"text-align: right;\">\n",
       "      <th></th>\n",
       "      <th>age</th>\n",
       "      <th>sex</th>\n",
       "      <th>cp</th>\n",
       "      <th>trestbps</th>\n",
       "      <th>chol</th>\n",
       "      <th>fbs</th>\n",
       "      <th>restecg</th>\n",
       "      <th>thalach</th>\n",
       "      <th>exang</th>\n",
       "      <th>oldpeak</th>\n",
       "      <th>slope</th>\n",
       "      <th>ca</th>\n",
       "      <th>thal</th>\n",
       "    </tr>\n",
       "  </thead>\n",
       "  <tbody>\n",
       "    <tr>\n",
       "      <th>0</th>\n",
       "      <td>57</td>\n",
       "      <td>1</td>\n",
       "      <td>2</td>\n",
       "      <td>130</td>\n",
       "      <td>236</td>\n",
       "      <td>0</td>\n",
       "      <td>0</td>\n",
       "      <td>174</td>\n",
       "      <td>0</td>\n",
       "      <td>0.0</td>\n",
       "      <td>1</td>\n",
       "      <td>1</td>\n",
       "      <td>2</td>\n",
       "    </tr>\n",
       "  </tbody>\n",
       "</table>\n",
       "</div>"
      ],
      "text/plain": [
       "   age  sex  cp  trestbps  chol  fbs  restecg  thalach  exang  oldpeak  slope  \\\n",
       "0   57    1   2       130   236    0        0      174      0      0.0      1   \n",
       "\n",
       "   ca  thal  \n",
       "0   1     2  "
      ]
     },
     "execution_count": 7,
     "metadata": {},
     "output_type": "execute_result"
    }
   ],
   "source": [
    "X_neue_patienten = pd.DataFrame(columns=feature_names)\n",
    "\n",
    "df_new_patients = add_partient([57, 1, 2, 130, 236, 0, 0, 174, 0, 0.0, 1, 1, 2], df=X_neue_patienten)\n",
    "df_new_patients"
   ]
  },
  {
   "cell_type": "code",
   "execution_count": 8,
   "metadata": {},
   "outputs": [
    {
     "name": "stdout",
     "output_type": "stream",
     "text": [
      "Neuer Partient wurde erfolgreich hinzugefügt\n",
      "Neuer Partient wurde erfolgreich hinzugefügt\n",
      "Neuer Partient wurde erfolgreich hinzugefügt\n"
     ]
    },
    {
     "data": {
      "application/vnd.microsoft.datawrangler.viewer.v0+json": {
       "columns": [
        {
         "name": "index",
         "rawType": "int64",
         "type": "integer"
        },
        {
         "name": "age",
         "rawType": "int64",
         "type": "integer"
        },
        {
         "name": "sex",
         "rawType": "int64",
         "type": "integer"
        },
        {
         "name": "cp",
         "rawType": "int64",
         "type": "integer"
        },
        {
         "name": "trestbps",
         "rawType": "int64",
         "type": "integer"
        },
        {
         "name": "chol",
         "rawType": "int64",
         "type": "integer"
        },
        {
         "name": "fbs",
         "rawType": "int64",
         "type": "integer"
        },
        {
         "name": "restecg",
         "rawType": "int64",
         "type": "integer"
        },
        {
         "name": "thalach",
         "rawType": "int64",
         "type": "integer"
        },
        {
         "name": "exang",
         "rawType": "int64",
         "type": "integer"
        },
        {
         "name": "oldpeak",
         "rawType": "float64",
         "type": "float"
        },
        {
         "name": "slope",
         "rawType": "int64",
         "type": "integer"
        },
        {
         "name": "ca",
         "rawType": "int64",
         "type": "integer"
        },
        {
         "name": "thal",
         "rawType": "int64",
         "type": "integer"
        }
       ],
       "ref": "041729f2-ba90-427d-9950-9cf5fa8f1a7c",
       "rows": [
        [
         "0",
         "57",
         "1",
         "2",
         "130",
         "236",
         "0",
         "0",
         "174",
         "0",
         "0.0",
         "1",
         "1",
         "2"
        ],
        [
         "1",
         "57",
         "1",
         "2",
         "130",
         "236",
         "0",
         "0",
         "174",
         "0",
         "0.0",
         "1",
         "1",
         "2"
        ],
        [
         "2",
         "63",
         "0",
         "1",
         "145",
         "233",
         "1",
         "2",
         "150",
         "0",
         "2.3",
         "0",
         "0",
         "1"
        ],
        [
         "3",
         "51",
         "1",
         "0",
         "120",
         "198",
         "0",
         "1",
         "160",
         "1",
         "1.4",
         "2",
         "1",
         "3"
        ]
       ],
       "shape": {
        "columns": 13,
        "rows": 4
       }
      },
      "text/html": [
       "<div>\n",
       "<style scoped>\n",
       "    .dataframe tbody tr th:only-of-type {\n",
       "        vertical-align: middle;\n",
       "    }\n",
       "\n",
       "    .dataframe tbody tr th {\n",
       "        vertical-align: top;\n",
       "    }\n",
       "\n",
       "    .dataframe thead th {\n",
       "        text-align: right;\n",
       "    }\n",
       "</style>\n",
       "<table border=\"1\" class=\"dataframe\">\n",
       "  <thead>\n",
       "    <tr style=\"text-align: right;\">\n",
       "      <th></th>\n",
       "      <th>age</th>\n",
       "      <th>sex</th>\n",
       "      <th>cp</th>\n",
       "      <th>trestbps</th>\n",
       "      <th>chol</th>\n",
       "      <th>fbs</th>\n",
       "      <th>restecg</th>\n",
       "      <th>thalach</th>\n",
       "      <th>exang</th>\n",
       "      <th>oldpeak</th>\n",
       "      <th>slope</th>\n",
       "      <th>ca</th>\n",
       "      <th>thal</th>\n",
       "    </tr>\n",
       "  </thead>\n",
       "  <tbody>\n",
       "    <tr>\n",
       "      <th>0</th>\n",
       "      <td>57</td>\n",
       "      <td>1</td>\n",
       "      <td>2</td>\n",
       "      <td>130</td>\n",
       "      <td>236</td>\n",
       "      <td>0</td>\n",
       "      <td>0</td>\n",
       "      <td>174</td>\n",
       "      <td>0</td>\n",
       "      <td>0.0</td>\n",
       "      <td>1</td>\n",
       "      <td>1</td>\n",
       "      <td>2</td>\n",
       "    </tr>\n",
       "    <tr>\n",
       "      <th>1</th>\n",
       "      <td>57</td>\n",
       "      <td>1</td>\n",
       "      <td>2</td>\n",
       "      <td>130</td>\n",
       "      <td>236</td>\n",
       "      <td>0</td>\n",
       "      <td>0</td>\n",
       "      <td>174</td>\n",
       "      <td>0</td>\n",
       "      <td>0.0</td>\n",
       "      <td>1</td>\n",
       "      <td>1</td>\n",
       "      <td>2</td>\n",
       "    </tr>\n",
       "    <tr>\n",
       "      <th>2</th>\n",
       "      <td>63</td>\n",
       "      <td>0</td>\n",
       "      <td>1</td>\n",
       "      <td>145</td>\n",
       "      <td>233</td>\n",
       "      <td>1</td>\n",
       "      <td>2</td>\n",
       "      <td>150</td>\n",
       "      <td>0</td>\n",
       "      <td>2.3</td>\n",
       "      <td>0</td>\n",
       "      <td>0</td>\n",
       "      <td>1</td>\n",
       "    </tr>\n",
       "    <tr>\n",
       "      <th>3</th>\n",
       "      <td>51</td>\n",
       "      <td>1</td>\n",
       "      <td>0</td>\n",
       "      <td>120</td>\n",
       "      <td>198</td>\n",
       "      <td>0</td>\n",
       "      <td>1</td>\n",
       "      <td>160</td>\n",
       "      <td>1</td>\n",
       "      <td>1.4</td>\n",
       "      <td>2</td>\n",
       "      <td>1</td>\n",
       "      <td>3</td>\n",
       "    </tr>\n",
       "  </tbody>\n",
       "</table>\n",
       "</div>"
      ],
      "text/plain": [
       "   age  sex  cp  trestbps  chol  fbs  restecg  thalach  exang  oldpeak  slope  \\\n",
       "0   57    1   2       130   236    0        0      174      0      0.0      1   \n",
       "1   57    1   2       130   236    0        0      174      0      0.0      1   \n",
       "2   63    0   1       145   233    1        2      150      0      2.3      0   \n",
       "3   51    1   0       120   198    0        1      160      1      1.4      2   \n",
       "\n",
       "   ca  thal  \n",
       "0   1     2  \n",
       "1   1     2  \n",
       "2   0     1  \n",
       "3   1     3  "
      ]
     },
     "execution_count": 8,
     "metadata": {},
     "output_type": "execute_result"
    }
   ],
   "source": [
    "new_patients = [\n",
    "    [57, 1, 2, 130, 236, 0, 0, 174, 0, 0.0, 1, 1, 2],\n",
    "    [63, 0, 1, 145, 233, 1, 2, 150, 0, 2.3, 0, 0, 1],\n",
    "    [51, 1, 0, 120, 198, 0, 1, 160, 1, 1.4, 2, 1, 3]\n",
    "]\n",
    "\n",
    "for patient in new_patients:\n",
    "    df_new_patients = add_partient(patient, df_new_patients)\n",
    "\n",
    "df_new_patients"
   ]
  },
  {
   "cell_type": "code",
   "execution_count": 9,
   "metadata": {},
   "outputs": [
    {
     "name": "stdout",
     "output_type": "stream",
     "text": [
      "Vorhersagen (0 = keine Herzerkrankung, 1 = Herzerkrankung): [0 0 1 0]\n"
     ]
    }
   ],
   "source": [
    "X_new_scaled = scaler.transform(df_new_patients)\n",
    "predictions = clf.predict(X_new_scaled)\n",
    "print(f\"Vorhersagen (0 = keine Herzerkrankung, 1 = Herzerkrankung): {predictions}\")"
   ]
  },
  {
   "cell_type": "code",
   "execution_count": 10,
   "metadata": {},
   "outputs": [
    {
     "data": {
      "text/plain": [
       "array([[0.6, 0.4],\n",
       "       [0.6, 0.4],\n",
       "       [0.2, 0.8],\n",
       "       [0.8, 0.2]])"
      ]
     },
     "execution_count": 10,
     "metadata": {},
     "output_type": "execute_result"
    }
   ],
   "source": [
    "clf.predict_proba(X_new_scaled)"
   ]
  }
 ],
 "metadata": {
  "kernelspec": {
   "display_name": ".venv",
   "language": "python",
   "name": "python3"
  },
  "language_info": {
   "codemirror_mode": {
    "name": "ipython",
    "version": 3
   },
   "file_extension": ".py",
   "mimetype": "text/x-python",
   "name": "python",
   "nbconvert_exporter": "python",
   "pygments_lexer": "ipython3",
   "version": "3.13.2"
  }
 },
 "nbformat": 4,
 "nbformat_minor": 2
}
