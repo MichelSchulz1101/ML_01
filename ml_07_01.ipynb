{
 "cells": [
  {
   "cell_type": "markdown",
   "id": "b47e533c",
   "metadata": {},
   "source": [
    "# Modelle bewerten mit dem `scoring`-Parameter und Cross-Validation"
   ]
  },
  {
   "cell_type": "code",
   "execution_count": 2,
   "id": "49b71588",
   "metadata": {},
   "outputs": [
    {
     "data": {
      "text/plain": [
       "array([0.81967213, 0.8852459 , 0.83606557, 0.85      , 0.8       ])"
      ]
     },
     "execution_count": 2,
     "metadata": {},
     "output_type": "execute_result"
    }
   ],
   "source": [
    "import pandas as pd\n",
    "from sklearn.ensemble import RandomForestClassifier\n",
    "from sklearn.model_selection import cross_val_score\n",
    "\n",
    "# Daten importieren\n",
    "heart_disease = pd.read_csv(\"data/heart-disease.csv\")\n",
    "\n",
    "# Feature-Matrix und Label-Vektor:\n",
    "X = heart_disease.drop(\"target\", axis=1)\n",
    "y = heart_disease[\"target\"]\n",
    "\n",
    "# Modell erstellen:\n",
    "clf = RandomForestClassifier(random_state=42)\n",
    "\n",
    "# Cross-validation anwenden:\n",
    "cv_acc = cross_val_score(clf, X, y, cv=5, scoring=None) # Teilung der Daten in 5 gleiche Teile (Folds)\n",
    "cv_acc"
   ]
  },
  {
   "cell_type": "markdown",
   "id": "446e9edf",
   "metadata": {},
   "source": [
    "`Gesamtdaten = [Fold 1] [Fold 2] [Fold 3] [Fold 4] [Fold 5]`"
   ]
  },
  {
   "cell_type": "markdown",
   "id": "7e282d28",
   "metadata": {},
   "source": [
    "| Durchgang | Trainingsdaten                | Testdaten |\n",
    "| --------- | ----------------------------- | --------- |\n",
    "| 1         | Fold2 + Fold3 + Fold4 + Fold5 | Fold1     |\n",
    "| 2         | Fold1 + Fold3 + Fold4 + Fold5 | Fold2     |\n",
    "| 3         | Fold1 + Fold2 + Fold4 + Fold5 | Fold3     |\n",
    "| 4         | Fold1 + Fold2 + Fold3 + Fold5 | Fold4     |\n",
    "| 5         | Fold1 + Fold2 + Fold3 + Fold4 | Fold5     |\n"
   ]
  },
  {
   "cell_type": "markdown",
   "id": "448ebda4",
   "metadata": {},
   "source": [
    "$$\\text{Accuracy}=\\frac{\\text{Anzahl korrekt vorhergesagter Klassen}}{\\text{Gesamtanzahl}}$$"
   ]
  },
  {
   "cell_type": "code",
   "execution_count": 3,
   "id": "a9cd8945",
   "metadata": {},
   "outputs": [
    {
     "name": "stdout",
     "output_type": "stream",
     "text": [
      "Durchschnitt der Accuracy: 0.8382\n"
     ]
    }
   ],
   "source": [
    "mean_accuracy = cv_acc.mean()\n",
    "print(f\"Durchschnitt der Accuracy: {mean_accuracy:.4f}\")"
   ]
  },
  {
   "cell_type": "code",
   "execution_count": 4,
   "id": "e3701f13",
   "metadata": {},
   "outputs": [
    {
     "name": "stdout",
     "output_type": "stream",
     "text": [
      "Standardabweichung der Accuracy: 0.0288\n"
     ]
    }
   ],
   "source": [
    "std_accuracy = cv_acc.std()\n",
    "print(f\"Standardabweichung der Accuracy: {std_accuracy:.4f}\")"
   ]
  },
  {
   "cell_type": "markdown",
   "id": "ce455dd8",
   "metadata": {},
   "source": [
    "Anzahl der Fold erhöhen:"
   ]
  },
  {
   "cell_type": "code",
   "execution_count": 5,
   "id": "2bf95015",
   "metadata": {},
   "outputs": [
    {
     "name": "stdout",
     "output_type": "stream",
     "text": [
      "Durchschnitt der Accuracy: 0.8176\n",
      "Standardabweichung der Accuracy: 0.1600\n"
     ]
    }
   ],
   "source": [
    "cv_acc = cross_val_score(clf, X, y, cv=50, scoring=None) \n",
    "\n",
    "mean_accuracy = cv_acc.mean()\n",
    "print(f\"Durchschnitt der Accuracy: {mean_accuracy:.4f}\")\n",
    "\n",
    "std_accuracy = cv_acc.std()\n",
    "print(f\"Standardabweichung der Accuracy: {std_accuracy:.4f}\")"
   ]
  },
  {
   "cell_type": "markdown",
   "id": "695f1ce2",
   "metadata": {},
   "source": [
    "Mit mehreren Metriken:"
   ]
  },
  {
   "cell_type": "code",
   "execution_count": 6,
   "id": "e59951f4",
   "metadata": {},
   "outputs": [
    {
     "data": {
      "application/vnd.microsoft.datawrangler.viewer.v0+json": {
       "columns": [
        {
         "name": "index",
         "rawType": "int64",
         "type": "integer"
        },
        {
         "name": "fit_time",
         "rawType": "float64",
         "type": "float"
        },
        {
         "name": "score_time",
         "rawType": "float64",
         "type": "float"
        },
        {
         "name": "test_accuracy",
         "rawType": "float64",
         "type": "float"
        },
        {
         "name": "test_precision",
         "rawType": "float64",
         "type": "float"
        },
        {
         "name": "test_recall",
         "rawType": "float64",
         "type": "float"
        },
        {
         "name": "test_f1",
         "rawType": "float64",
         "type": "float"
        }
       ],
       "ref": "a353277a-9b50-4b52-af30-c12dbf2374c5",
       "rows": [
        [
         "0",
         "0.1122281551361084",
         "0.017496824264526367",
         "0.819672131147541",
         "0.8235294117647058",
         "0.8484848484848485",
         "0.835820895522388"
        ],
        [
         "1",
         "0.10593175888061523",
         "0.01291799545288086",
         "0.8852459016393442",
         "0.90625",
         "0.8787878787878788",
         "0.8923076923076924"
        ],
        [
         "2",
         "0.10817790031433105",
         "0.011316299438476562",
         "0.8360655737704918",
         "0.8484848484848485",
         "0.8484848484848485",
         "0.8484848484848485"
        ],
        [
         "3",
         "0.1073141098022461",
         "0.011801958084106445",
         "0.85",
         "0.875",
         "0.8484848484848485",
         "0.8615384615384616"
        ],
        [
         "4",
         "0.11025118827819824",
         "0.011596918106079102",
         "0.8",
         "0.7837837837837838",
         "0.8787878787878788",
         "0.8285714285714286"
        ]
       ],
       "shape": {
        "columns": 6,
        "rows": 5
       }
      },
      "text/html": [
       "<div>\n",
       "<style scoped>\n",
       "    .dataframe tbody tr th:only-of-type {\n",
       "        vertical-align: middle;\n",
       "    }\n",
       "\n",
       "    .dataframe tbody tr th {\n",
       "        vertical-align: top;\n",
       "    }\n",
       "\n",
       "    .dataframe thead th {\n",
       "        text-align: right;\n",
       "    }\n",
       "</style>\n",
       "<table border=\"1\" class=\"dataframe\">\n",
       "  <thead>\n",
       "    <tr style=\"text-align: right;\">\n",
       "      <th></th>\n",
       "      <th>fit_time</th>\n",
       "      <th>score_time</th>\n",
       "      <th>test_accuracy</th>\n",
       "      <th>test_precision</th>\n",
       "      <th>test_recall</th>\n",
       "      <th>test_f1</th>\n",
       "    </tr>\n",
       "  </thead>\n",
       "  <tbody>\n",
       "    <tr>\n",
       "      <th>0</th>\n",
       "      <td>0.112228</td>\n",
       "      <td>0.017497</td>\n",
       "      <td>0.819672</td>\n",
       "      <td>0.823529</td>\n",
       "      <td>0.848485</td>\n",
       "      <td>0.835821</td>\n",
       "    </tr>\n",
       "    <tr>\n",
       "      <th>1</th>\n",
       "      <td>0.105932</td>\n",
       "      <td>0.012918</td>\n",
       "      <td>0.885246</td>\n",
       "      <td>0.906250</td>\n",
       "      <td>0.878788</td>\n",
       "      <td>0.892308</td>\n",
       "    </tr>\n",
       "    <tr>\n",
       "      <th>2</th>\n",
       "      <td>0.108178</td>\n",
       "      <td>0.011316</td>\n",
       "      <td>0.836066</td>\n",
       "      <td>0.848485</td>\n",
       "      <td>0.848485</td>\n",
       "      <td>0.848485</td>\n",
       "    </tr>\n",
       "    <tr>\n",
       "      <th>3</th>\n",
       "      <td>0.107314</td>\n",
       "      <td>0.011802</td>\n",
       "      <td>0.850000</td>\n",
       "      <td>0.875000</td>\n",
       "      <td>0.848485</td>\n",
       "      <td>0.861538</td>\n",
       "    </tr>\n",
       "    <tr>\n",
       "      <th>4</th>\n",
       "      <td>0.110251</td>\n",
       "      <td>0.011597</td>\n",
       "      <td>0.800000</td>\n",
       "      <td>0.783784</td>\n",
       "      <td>0.878788</td>\n",
       "      <td>0.828571</td>\n",
       "    </tr>\n",
       "  </tbody>\n",
       "</table>\n",
       "</div>"
      ],
      "text/plain": [
       "   fit_time  score_time  test_accuracy  test_precision  test_recall   test_f1\n",
       "0  0.112228    0.017497       0.819672        0.823529     0.848485  0.835821\n",
       "1  0.105932    0.012918       0.885246        0.906250     0.878788  0.892308\n",
       "2  0.108178    0.011316       0.836066        0.848485     0.848485  0.848485\n",
       "3  0.107314    0.011802       0.850000        0.875000     0.848485  0.861538\n",
       "4  0.110251    0.011597       0.800000        0.783784     0.878788  0.828571"
      ]
     },
     "execution_count": 6,
     "metadata": {},
     "output_type": "execute_result"
    }
   ],
   "source": [
    "from sklearn.model_selection import cross_validate\n",
    "\n",
    "scoring = [\"accuracy\", \"precision\", \"recall\", \"f1\"]\n",
    "\n",
    "scores = cross_validate(\n",
    "    estimator=RandomForestClassifier(random_state=42),\n",
    "    X=X,\n",
    "    y=y,\n",
    "    cv=5,\n",
    "    scoring=scoring\n",
    ")\n",
    "\n",
    "df_scores = pd.DataFrame(scores)\n",
    "df_scores"
   ]
  },
  {
   "cell_type": "code",
   "execution_count": 7,
   "id": "83f18bf6",
   "metadata": {},
   "outputs": [
    {
     "data": {
      "application/vnd.microsoft.datawrangler.viewer.v0+json": {
       "columns": [
        {
         "name": "index",
         "rawType": "object",
         "type": "string"
        },
        {
         "name": "0",
         "rawType": "float64",
         "type": "float"
        }
       ],
       "ref": "acba0a5d-adda-4b03-bf91-f6c1400cb070",
       "rows": [
        [
         "fit_time",
         "0.1087806224822998"
        ],
        [
         "score_time",
         "0.013025999069213867"
        ],
        [
         "test_accuracy",
         "0.8381967213114756"
        ],
        [
         "test_precision",
         "0.8474096088066677"
        ],
        [
         "test_recall",
         "0.8606060606060606"
        ],
        [
         "test_f1",
         "0.8533446652849639"
        ]
       ],
       "shape": {
        "columns": 1,
        "rows": 6
       }
      },
      "text/plain": [
       "fit_time          0.108781\n",
       "score_time        0.013026\n",
       "test_accuracy     0.838197\n",
       "test_precision    0.847410\n",
       "test_recall       0.860606\n",
       "test_f1           0.853345\n",
       "dtype: float64"
      ]
     },
     "execution_count": 7,
     "metadata": {},
     "output_type": "execute_result"
    }
   ],
   "source": [
    "mean_row = df_scores.mean()\n",
    "mean_row"
   ]
  },
  {
   "cell_type": "code",
   "execution_count": 8,
   "id": "f462d203",
   "metadata": {},
   "outputs": [
    {
     "data": {
      "application/vnd.microsoft.datawrangler.viewer.v0+json": {
       "columns": [
        {
         "name": "index",
         "rawType": "object",
         "type": "string"
        },
        {
         "name": "0",
         "rawType": "float64",
         "type": "float"
        }
       ],
       "ref": "27b11676-84fa-416a-8009-c1965960898f",
       "rows": [
        [
         "fit_time",
         "0.0024838479438496924"
        ],
        [
         "score_time",
         "0.002572137451028924"
        ],
        [
         "test_accuracy",
         "0.03224761427940442"
        ],
        [
         "test_precision",
         "0.047018844315222665"
        ],
        [
         "test_recall",
         "0.016597653257732294"
        ],
        [
         "test_f1",
         "0.025147909232702652"
        ]
       ],
       "shape": {
        "columns": 1,
        "rows": 6
       }
      },
      "text/plain": [
       "fit_time          0.002484\n",
       "score_time        0.002572\n",
       "test_accuracy     0.032248\n",
       "test_precision    0.047019\n",
       "test_recall       0.016598\n",
       "test_f1           0.025148\n",
       "dtype: float64"
      ]
     },
     "execution_count": 8,
     "metadata": {},
     "output_type": "execute_result"
    }
   ],
   "source": [
    "std_row = df_scores.std()\n",
    "std_row"
   ]
  },
  {
   "cell_type": "code",
   "execution_count": 9,
   "id": "89dc8ee8",
   "metadata": {},
   "outputs": [
    {
     "data": {
      "application/vnd.microsoft.datawrangler.viewer.v0+json": {
       "columns": [
        {
         "name": "index",
         "rawType": "object",
         "type": "unknown"
        },
        {
         "name": "fit_time",
         "rawType": "float64",
         "type": "float"
        },
        {
         "name": "score_time",
         "rawType": "float64",
         "type": "float"
        },
        {
         "name": "test_accuracy",
         "rawType": "float64",
         "type": "float"
        },
        {
         "name": "test_precision",
         "rawType": "float64",
         "type": "float"
        },
        {
         "name": "test_recall",
         "rawType": "float64",
         "type": "float"
        },
        {
         "name": "test_f1",
         "rawType": "float64",
         "type": "float"
        }
       ],
       "ref": "4b9d3b0d-036a-4552-9876-962134519a57",
       "rows": [
        [
         "0",
         "0.1122281551361084",
         "0.017496824264526367",
         "0.819672131147541",
         "0.8235294117647058",
         "0.8484848484848485",
         "0.835820895522388"
        ],
        [
         "1",
         "0.10593175888061523",
         "0.01291799545288086",
         "0.8852459016393442",
         "0.90625",
         "0.8787878787878788",
         "0.8923076923076924"
        ],
        [
         "2",
         "0.10817790031433105",
         "0.011316299438476562",
         "0.8360655737704918",
         "0.8484848484848485",
         "0.8484848484848485",
         "0.8484848484848485"
        ],
        [
         "3",
         "0.1073141098022461",
         "0.011801958084106445",
         "0.85",
         "0.875",
         "0.8484848484848485",
         "0.8615384615384616"
        ],
        [
         "4",
         "0.11025118827819824",
         "0.011596918106079102",
         "0.8",
         "0.7837837837837838",
         "0.8787878787878788",
         "0.8285714285714286"
        ],
        [
         "mean",
         "0.1087806224822998",
         "0.013025999069213867",
         "0.8381967213114756",
         "0.8474096088066677",
         "0.8606060606060606",
         "0.8533446652849639"
        ],
        [
         "std",
         "0.0024838479438496924",
         "0.002572137451028924",
         "0.03224761427940442",
         "0.047018844315222665",
         "0.016597653257732294",
         "0.025147909232702652"
        ]
       ],
       "shape": {
        "columns": 6,
        "rows": 7
       }
      },
      "text/html": [
       "<div>\n",
       "<style scoped>\n",
       "    .dataframe tbody tr th:only-of-type {\n",
       "        vertical-align: middle;\n",
       "    }\n",
       "\n",
       "    .dataframe tbody tr th {\n",
       "        vertical-align: top;\n",
       "    }\n",
       "\n",
       "    .dataframe thead th {\n",
       "        text-align: right;\n",
       "    }\n",
       "</style>\n",
       "<table border=\"1\" class=\"dataframe\">\n",
       "  <thead>\n",
       "    <tr style=\"text-align: right;\">\n",
       "      <th></th>\n",
       "      <th>fit_time</th>\n",
       "      <th>score_time</th>\n",
       "      <th>test_accuracy</th>\n",
       "      <th>test_precision</th>\n",
       "      <th>test_recall</th>\n",
       "      <th>test_f1</th>\n",
       "    </tr>\n",
       "  </thead>\n",
       "  <tbody>\n",
       "    <tr>\n",
       "      <th>0</th>\n",
       "      <td>0.112228</td>\n",
       "      <td>0.017497</td>\n",
       "      <td>0.819672</td>\n",
       "      <td>0.823529</td>\n",
       "      <td>0.848485</td>\n",
       "      <td>0.835821</td>\n",
       "    </tr>\n",
       "    <tr>\n",
       "      <th>1</th>\n",
       "      <td>0.105932</td>\n",
       "      <td>0.012918</td>\n",
       "      <td>0.885246</td>\n",
       "      <td>0.906250</td>\n",
       "      <td>0.878788</td>\n",
       "      <td>0.892308</td>\n",
       "    </tr>\n",
       "    <tr>\n",
       "      <th>2</th>\n",
       "      <td>0.108178</td>\n",
       "      <td>0.011316</td>\n",
       "      <td>0.836066</td>\n",
       "      <td>0.848485</td>\n",
       "      <td>0.848485</td>\n",
       "      <td>0.848485</td>\n",
       "    </tr>\n",
       "    <tr>\n",
       "      <th>3</th>\n",
       "      <td>0.107314</td>\n",
       "      <td>0.011802</td>\n",
       "      <td>0.850000</td>\n",
       "      <td>0.875000</td>\n",
       "      <td>0.848485</td>\n",
       "      <td>0.861538</td>\n",
       "    </tr>\n",
       "    <tr>\n",
       "      <th>4</th>\n",
       "      <td>0.110251</td>\n",
       "      <td>0.011597</td>\n",
       "      <td>0.800000</td>\n",
       "      <td>0.783784</td>\n",
       "      <td>0.878788</td>\n",
       "      <td>0.828571</td>\n",
       "    </tr>\n",
       "    <tr>\n",
       "      <th>mean</th>\n",
       "      <td>0.108781</td>\n",
       "      <td>0.013026</td>\n",
       "      <td>0.838197</td>\n",
       "      <td>0.847410</td>\n",
       "      <td>0.860606</td>\n",
       "      <td>0.853345</td>\n",
       "    </tr>\n",
       "    <tr>\n",
       "      <th>std</th>\n",
       "      <td>0.002484</td>\n",
       "      <td>0.002572</td>\n",
       "      <td>0.032248</td>\n",
       "      <td>0.047019</td>\n",
       "      <td>0.016598</td>\n",
       "      <td>0.025148</td>\n",
       "    </tr>\n",
       "  </tbody>\n",
       "</table>\n",
       "</div>"
      ],
      "text/plain": [
       "      fit_time  score_time  test_accuracy  test_precision  test_recall  \\\n",
       "0     0.112228    0.017497       0.819672        0.823529     0.848485   \n",
       "1     0.105932    0.012918       0.885246        0.906250     0.878788   \n",
       "2     0.108178    0.011316       0.836066        0.848485     0.848485   \n",
       "3     0.107314    0.011802       0.850000        0.875000     0.848485   \n",
       "4     0.110251    0.011597       0.800000        0.783784     0.878788   \n",
       "mean  0.108781    0.013026       0.838197        0.847410     0.860606   \n",
       "std   0.002484    0.002572       0.032248        0.047019     0.016598   \n",
       "\n",
       "       test_f1  \n",
       "0     0.835821  \n",
       "1     0.892308  \n",
       "2     0.848485  \n",
       "3     0.861538  \n",
       "4     0.828571  \n",
       "mean  0.853345  \n",
       "std   0.025148  "
      ]
     },
     "execution_count": 9,
     "metadata": {},
     "output_type": "execute_result"
    }
   ],
   "source": [
    "df_mean_std = pd.DataFrame([mean_row, std_row], index=[\"mean\", \"std\"])\n",
    "df_scores = pd.concat([df_scores, df_mean_std])\n",
    "df_scores"
   ]
  },
  {
   "cell_type": "code",
   "execution_count": 10,
   "id": "5e3e4db2",
   "metadata": {},
   "outputs": [],
   "source": [
    "new_index = []\n",
    "for i in range(5):\n",
    "    new_index.append(f\"Fold{i + 1}\")\n",
    "\n",
    "new_index.extend([\"mean\", \"std\"])"
   ]
  },
  {
   "cell_type": "code",
   "execution_count": 11,
   "id": "39894f49",
   "metadata": {},
   "outputs": [
    {
     "data": {
      "application/vnd.microsoft.datawrangler.viewer.v0+json": {
       "columns": [
        {
         "name": "index",
         "rawType": "object",
         "type": "string"
        },
        {
         "name": "fit_time",
         "rawType": "float64",
         "type": "float"
        },
        {
         "name": "score_time",
         "rawType": "float64",
         "type": "float"
        },
        {
         "name": "test_accuracy",
         "rawType": "float64",
         "type": "float"
        },
        {
         "name": "test_precision",
         "rawType": "float64",
         "type": "float"
        },
        {
         "name": "test_recall",
         "rawType": "float64",
         "type": "float"
        },
        {
         "name": "test_f1",
         "rawType": "float64",
         "type": "float"
        }
       ],
       "ref": "cd2cf865-64b1-4a10-942e-46a86b32ee79",
       "rows": [
        [
         "Fold1",
         "0.1122281551361084",
         "0.017496824264526367",
         "0.819672131147541",
         "0.8235294117647058",
         "0.8484848484848485",
         "0.835820895522388"
        ],
        [
         "Fold2",
         "0.10593175888061523",
         "0.01291799545288086",
         "0.8852459016393442",
         "0.90625",
         "0.8787878787878788",
         "0.8923076923076924"
        ],
        [
         "Fold3",
         "0.10817790031433105",
         "0.011316299438476562",
         "0.8360655737704918",
         "0.8484848484848485",
         "0.8484848484848485",
         "0.8484848484848485"
        ],
        [
         "Fold4",
         "0.1073141098022461",
         "0.011801958084106445",
         "0.85",
         "0.875",
         "0.8484848484848485",
         "0.8615384615384616"
        ],
        [
         "Fold5",
         "0.11025118827819824",
         "0.011596918106079102",
         "0.8",
         "0.7837837837837838",
         "0.8787878787878788",
         "0.8285714285714286"
        ],
        [
         "mean",
         "0.1087806224822998",
         "0.013025999069213867",
         "0.8381967213114756",
         "0.8474096088066677",
         "0.8606060606060606",
         "0.8533446652849639"
        ],
        [
         "std",
         "0.0024838479438496924",
         "0.002572137451028924",
         "0.03224761427940442",
         "0.047018844315222665",
         "0.016597653257732294",
         "0.025147909232702652"
        ]
       ],
       "shape": {
        "columns": 6,
        "rows": 7
       }
      },
      "text/html": [
       "<div>\n",
       "<style scoped>\n",
       "    .dataframe tbody tr th:only-of-type {\n",
       "        vertical-align: middle;\n",
       "    }\n",
       "\n",
       "    .dataframe tbody tr th {\n",
       "        vertical-align: top;\n",
       "    }\n",
       "\n",
       "    .dataframe thead th {\n",
       "        text-align: right;\n",
       "    }\n",
       "</style>\n",
       "<table border=\"1\" class=\"dataframe\">\n",
       "  <thead>\n",
       "    <tr style=\"text-align: right;\">\n",
       "      <th></th>\n",
       "      <th>fit_time</th>\n",
       "      <th>score_time</th>\n",
       "      <th>test_accuracy</th>\n",
       "      <th>test_precision</th>\n",
       "      <th>test_recall</th>\n",
       "      <th>test_f1</th>\n",
       "    </tr>\n",
       "  </thead>\n",
       "  <tbody>\n",
       "    <tr>\n",
       "      <th>Fold1</th>\n",
       "      <td>0.112228</td>\n",
       "      <td>0.017497</td>\n",
       "      <td>0.819672</td>\n",
       "      <td>0.823529</td>\n",
       "      <td>0.848485</td>\n",
       "      <td>0.835821</td>\n",
       "    </tr>\n",
       "    <tr>\n",
       "      <th>Fold2</th>\n",
       "      <td>0.105932</td>\n",
       "      <td>0.012918</td>\n",
       "      <td>0.885246</td>\n",
       "      <td>0.906250</td>\n",
       "      <td>0.878788</td>\n",
       "      <td>0.892308</td>\n",
       "    </tr>\n",
       "    <tr>\n",
       "      <th>Fold3</th>\n",
       "      <td>0.108178</td>\n",
       "      <td>0.011316</td>\n",
       "      <td>0.836066</td>\n",
       "      <td>0.848485</td>\n",
       "      <td>0.848485</td>\n",
       "      <td>0.848485</td>\n",
       "    </tr>\n",
       "    <tr>\n",
       "      <th>Fold4</th>\n",
       "      <td>0.107314</td>\n",
       "      <td>0.011802</td>\n",
       "      <td>0.850000</td>\n",
       "      <td>0.875000</td>\n",
       "      <td>0.848485</td>\n",
       "      <td>0.861538</td>\n",
       "    </tr>\n",
       "    <tr>\n",
       "      <th>Fold5</th>\n",
       "      <td>0.110251</td>\n",
       "      <td>0.011597</td>\n",
       "      <td>0.800000</td>\n",
       "      <td>0.783784</td>\n",
       "      <td>0.878788</td>\n",
       "      <td>0.828571</td>\n",
       "    </tr>\n",
       "    <tr>\n",
       "      <th>mean</th>\n",
       "      <td>0.108781</td>\n",
       "      <td>0.013026</td>\n",
       "      <td>0.838197</td>\n",
       "      <td>0.847410</td>\n",
       "      <td>0.860606</td>\n",
       "      <td>0.853345</td>\n",
       "    </tr>\n",
       "    <tr>\n",
       "      <th>std</th>\n",
       "      <td>0.002484</td>\n",
       "      <td>0.002572</td>\n",
       "      <td>0.032248</td>\n",
       "      <td>0.047019</td>\n",
       "      <td>0.016598</td>\n",
       "      <td>0.025148</td>\n",
       "    </tr>\n",
       "  </tbody>\n",
       "</table>\n",
       "</div>"
      ],
      "text/plain": [
       "       fit_time  score_time  test_accuracy  test_precision  test_recall  \\\n",
       "Fold1  0.112228    0.017497       0.819672        0.823529     0.848485   \n",
       "Fold2  0.105932    0.012918       0.885246        0.906250     0.878788   \n",
       "Fold3  0.108178    0.011316       0.836066        0.848485     0.848485   \n",
       "Fold4  0.107314    0.011802       0.850000        0.875000     0.848485   \n",
       "Fold5  0.110251    0.011597       0.800000        0.783784     0.878788   \n",
       "mean   0.108781    0.013026       0.838197        0.847410     0.860606   \n",
       "std    0.002484    0.002572       0.032248        0.047019     0.016598   \n",
       "\n",
       "        test_f1  \n",
       "Fold1  0.835821  \n",
       "Fold2  0.892308  \n",
       "Fold3  0.848485  \n",
       "Fold4  0.861538  \n",
       "Fold5  0.828571  \n",
       "mean   0.853345  \n",
       "std    0.025148  "
      ]
     },
     "execution_count": 11,
     "metadata": {},
     "output_type": "execute_result"
    }
   ],
   "source": [
    "df_scores.index = new_index\n",
    "df_scores"
   ]
  },
  {
   "cell_type": "code",
   "execution_count": 12,
   "id": "53ed1618",
   "metadata": {},
   "outputs": [
    {
     "data": {
      "application/vnd.plotly.v1+json": {
       "config": {
        "plotlyServerURL": "https://plot.ly"
       },
       "data": [
        {
         "marker": {
          "color": "steelblue"
         },
         "name": "Accuracy pro Fold",
         "type": "bar",
         "x": [
          "Fold 1",
          "Fold 2",
          "Fold 3",
          "Fold 4",
          "Fold 5",
          "Fold 6",
          "Fold 7",
          "Fold 8",
          "Fold 9",
          "Fold 10"
         ],
         "y": {
          "bdata": "zjnnnHPO6T/XWmuttdbqP9daa6211uo/zczMzMzM7D/NzMzMzMzsP6uqqqqqquo/d3d3d3d35z+rqqqqqqrqP4mIiIiIiOg/vLu7u7u76z8=",
          "dtype": "f8"
         }
        },
        {
         "line": {
          "color": "red",
          "dash": "dash"
         },
         "mode": "lines",
         "name": "Durchschnitt: 0.832",
         "type": "scatter",
         "x": [
          "Fold 1",
          "Fold 2",
          "Fold 3",
          "Fold 4",
          "Fold 5",
          "Fold 6",
          "Fold 7",
          "Fold 8",
          "Fold 9",
          "Fold 10"
         ],
         "y": [
          0.8317204301075268,
          0.8317204301075268,
          0.8317204301075268,
          0.8317204301075268,
          0.8317204301075268,
          0.8317204301075268,
          0.8317204301075268,
          0.8317204301075268,
          0.8317204301075268,
          0.8317204301075268
         ]
        },
        {
         "line": {
          "color": "orange",
          "dash": "dot"
         },
         "mode": "lines",
         "name": "+1 Std: 0.882",
         "type": "scatter",
         "x": [
          "Fold 1",
          "Fold 2",
          "Fold 3",
          "Fold 4",
          "Fold 5",
          "Fold 6",
          "Fold 7",
          "Fold 8",
          "Fold 9",
          "Fold 10"
         ],
         "y": [
          0.8819189031132183,
          0.8819189031132183,
          0.8819189031132183,
          0.8819189031132183,
          0.8819189031132183,
          0.8819189031132183,
          0.8819189031132183,
          0.8819189031132183,
          0.8819189031132183,
          0.8819189031132183
         ]
        },
        {
         "fill": "tonexty",
         "fillcolor": "rgba(255, 165, 0, 0.2)",
         "line": {
          "color": "orange",
          "dash": "dot"
         },
         "mode": "lines",
         "name": "-1 Std: 0.782",
         "type": "scatter",
         "x": [
          "Fold 1",
          "Fold 2",
          "Fold 3",
          "Fold 4",
          "Fold 5",
          "Fold 6",
          "Fold 7",
          "Fold 8",
          "Fold 9",
          "Fold 10"
         ],
         "y": [
          0.7815219571018354,
          0.7815219571018354,
          0.7815219571018354,
          0.7815219571018354,
          0.7815219571018354,
          0.7815219571018354,
          0.7815219571018354,
          0.7815219571018354,
          0.7815219571018354,
          0.7815219571018354
         ]
        }
       ],
       "layout": {
        "template": {
         "data": {
          "bar": [
           {
            "error_x": {
             "color": "#2a3f5f"
            },
            "error_y": {
             "color": "#2a3f5f"
            },
            "marker": {
             "line": {
              "color": "#E5ECF6",
              "width": 0.5
             },
             "pattern": {
              "fillmode": "overlay",
              "size": 10,
              "solidity": 0.2
             }
            },
            "type": "bar"
           }
          ],
          "barpolar": [
           {
            "marker": {
             "line": {
              "color": "#E5ECF6",
              "width": 0.5
             },
             "pattern": {
              "fillmode": "overlay",
              "size": 10,
              "solidity": 0.2
             }
            },
            "type": "barpolar"
           }
          ],
          "carpet": [
           {
            "aaxis": {
             "endlinecolor": "#2a3f5f",
             "gridcolor": "white",
             "linecolor": "white",
             "minorgridcolor": "white",
             "startlinecolor": "#2a3f5f"
            },
            "baxis": {
             "endlinecolor": "#2a3f5f",
             "gridcolor": "white",
             "linecolor": "white",
             "minorgridcolor": "white",
             "startlinecolor": "#2a3f5f"
            },
            "type": "carpet"
           }
          ],
          "choropleth": [
           {
            "colorbar": {
             "outlinewidth": 0,
             "ticks": ""
            },
            "type": "choropleth"
           }
          ],
          "contour": [
           {
            "colorbar": {
             "outlinewidth": 0,
             "ticks": ""
            },
            "colorscale": [
             [
              0,
              "#0d0887"
             ],
             [
              0.1111111111111111,
              "#46039f"
             ],
             [
              0.2222222222222222,
              "#7201a8"
             ],
             [
              0.3333333333333333,
              "#9c179e"
             ],
             [
              0.4444444444444444,
              "#bd3786"
             ],
             [
              0.5555555555555556,
              "#d8576b"
             ],
             [
              0.6666666666666666,
              "#ed7953"
             ],
             [
              0.7777777777777778,
              "#fb9f3a"
             ],
             [
              0.8888888888888888,
              "#fdca26"
             ],
             [
              1,
              "#f0f921"
             ]
            ],
            "type": "contour"
           }
          ],
          "contourcarpet": [
           {
            "colorbar": {
             "outlinewidth": 0,
             "ticks": ""
            },
            "type": "contourcarpet"
           }
          ],
          "heatmap": [
           {
            "colorbar": {
             "outlinewidth": 0,
             "ticks": ""
            },
            "colorscale": [
             [
              0,
              "#0d0887"
             ],
             [
              0.1111111111111111,
              "#46039f"
             ],
             [
              0.2222222222222222,
              "#7201a8"
             ],
             [
              0.3333333333333333,
              "#9c179e"
             ],
             [
              0.4444444444444444,
              "#bd3786"
             ],
             [
              0.5555555555555556,
              "#d8576b"
             ],
             [
              0.6666666666666666,
              "#ed7953"
             ],
             [
              0.7777777777777778,
              "#fb9f3a"
             ],
             [
              0.8888888888888888,
              "#fdca26"
             ],
             [
              1,
              "#f0f921"
             ]
            ],
            "type": "heatmap"
           }
          ],
          "histogram": [
           {
            "marker": {
             "pattern": {
              "fillmode": "overlay",
              "size": 10,
              "solidity": 0.2
             }
            },
            "type": "histogram"
           }
          ],
          "histogram2d": [
           {
            "colorbar": {
             "outlinewidth": 0,
             "ticks": ""
            },
            "colorscale": [
             [
              0,
              "#0d0887"
             ],
             [
              0.1111111111111111,
              "#46039f"
             ],
             [
              0.2222222222222222,
              "#7201a8"
             ],
             [
              0.3333333333333333,
              "#9c179e"
             ],
             [
              0.4444444444444444,
              "#bd3786"
             ],
             [
              0.5555555555555556,
              "#d8576b"
             ],
             [
              0.6666666666666666,
              "#ed7953"
             ],
             [
              0.7777777777777778,
              "#fb9f3a"
             ],
             [
              0.8888888888888888,
              "#fdca26"
             ],
             [
              1,
              "#f0f921"
             ]
            ],
            "type": "histogram2d"
           }
          ],
          "histogram2dcontour": [
           {
            "colorbar": {
             "outlinewidth": 0,
             "ticks": ""
            },
            "colorscale": [
             [
              0,
              "#0d0887"
             ],
             [
              0.1111111111111111,
              "#46039f"
             ],
             [
              0.2222222222222222,
              "#7201a8"
             ],
             [
              0.3333333333333333,
              "#9c179e"
             ],
             [
              0.4444444444444444,
              "#bd3786"
             ],
             [
              0.5555555555555556,
              "#d8576b"
             ],
             [
              0.6666666666666666,
              "#ed7953"
             ],
             [
              0.7777777777777778,
              "#fb9f3a"
             ],
             [
              0.8888888888888888,
              "#fdca26"
             ],
             [
              1,
              "#f0f921"
             ]
            ],
            "type": "histogram2dcontour"
           }
          ],
          "mesh3d": [
           {
            "colorbar": {
             "outlinewidth": 0,
             "ticks": ""
            },
            "type": "mesh3d"
           }
          ],
          "parcoords": [
           {
            "line": {
             "colorbar": {
              "outlinewidth": 0,
              "ticks": ""
             }
            },
            "type": "parcoords"
           }
          ],
          "pie": [
           {
            "automargin": true,
            "type": "pie"
           }
          ],
          "scatter": [
           {
            "fillpattern": {
             "fillmode": "overlay",
             "size": 10,
             "solidity": 0.2
            },
            "type": "scatter"
           }
          ],
          "scatter3d": [
           {
            "line": {
             "colorbar": {
              "outlinewidth": 0,
              "ticks": ""
             }
            },
            "marker": {
             "colorbar": {
              "outlinewidth": 0,
              "ticks": ""
             }
            },
            "type": "scatter3d"
           }
          ],
          "scattercarpet": [
           {
            "marker": {
             "colorbar": {
              "outlinewidth": 0,
              "ticks": ""
             }
            },
            "type": "scattercarpet"
           }
          ],
          "scattergeo": [
           {
            "marker": {
             "colorbar": {
              "outlinewidth": 0,
              "ticks": ""
             }
            },
            "type": "scattergeo"
           }
          ],
          "scattergl": [
           {
            "marker": {
             "colorbar": {
              "outlinewidth": 0,
              "ticks": ""
             }
            },
            "type": "scattergl"
           }
          ],
          "scattermap": [
           {
            "marker": {
             "colorbar": {
              "outlinewidth": 0,
              "ticks": ""
             }
            },
            "type": "scattermap"
           }
          ],
          "scattermapbox": [
           {
            "marker": {
             "colorbar": {
              "outlinewidth": 0,
              "ticks": ""
             }
            },
            "type": "scattermapbox"
           }
          ],
          "scatterpolar": [
           {
            "marker": {
             "colorbar": {
              "outlinewidth": 0,
              "ticks": ""
             }
            },
            "type": "scatterpolar"
           }
          ],
          "scatterpolargl": [
           {
            "marker": {
             "colorbar": {
              "outlinewidth": 0,
              "ticks": ""
             }
            },
            "type": "scatterpolargl"
           }
          ],
          "scatterternary": [
           {
            "marker": {
             "colorbar": {
              "outlinewidth": 0,
              "ticks": ""
             }
            },
            "type": "scatterternary"
           }
          ],
          "surface": [
           {
            "colorbar": {
             "outlinewidth": 0,
             "ticks": ""
            },
            "colorscale": [
             [
              0,
              "#0d0887"
             ],
             [
              0.1111111111111111,
              "#46039f"
             ],
             [
              0.2222222222222222,
              "#7201a8"
             ],
             [
              0.3333333333333333,
              "#9c179e"
             ],
             [
              0.4444444444444444,
              "#bd3786"
             ],
             [
              0.5555555555555556,
              "#d8576b"
             ],
             [
              0.6666666666666666,
              "#ed7953"
             ],
             [
              0.7777777777777778,
              "#fb9f3a"
             ],
             [
              0.8888888888888888,
              "#fdca26"
             ],
             [
              1,
              "#f0f921"
             ]
            ],
            "type": "surface"
           }
          ],
          "table": [
           {
            "cells": {
             "fill": {
              "color": "#EBF0F8"
             },
             "line": {
              "color": "white"
             }
            },
            "header": {
             "fill": {
              "color": "#C8D4E3"
             },
             "line": {
              "color": "white"
             }
            },
            "type": "table"
           }
          ]
         },
         "layout": {
          "annotationdefaults": {
           "arrowcolor": "#2a3f5f",
           "arrowhead": 0,
           "arrowwidth": 1
          },
          "autotypenumbers": "strict",
          "coloraxis": {
           "colorbar": {
            "outlinewidth": 0,
            "ticks": ""
           }
          },
          "colorscale": {
           "diverging": [
            [
             0,
             "#8e0152"
            ],
            [
             0.1,
             "#c51b7d"
            ],
            [
             0.2,
             "#de77ae"
            ],
            [
             0.3,
             "#f1b6da"
            ],
            [
             0.4,
             "#fde0ef"
            ],
            [
             0.5,
             "#f7f7f7"
            ],
            [
             0.6,
             "#e6f5d0"
            ],
            [
             0.7,
             "#b8e186"
            ],
            [
             0.8,
             "#7fbc41"
            ],
            [
             0.9,
             "#4d9221"
            ],
            [
             1,
             "#276419"
            ]
           ],
           "sequential": [
            [
             0,
             "#0d0887"
            ],
            [
             0.1111111111111111,
             "#46039f"
            ],
            [
             0.2222222222222222,
             "#7201a8"
            ],
            [
             0.3333333333333333,
             "#9c179e"
            ],
            [
             0.4444444444444444,
             "#bd3786"
            ],
            [
             0.5555555555555556,
             "#d8576b"
            ],
            [
             0.6666666666666666,
             "#ed7953"
            ],
            [
             0.7777777777777778,
             "#fb9f3a"
            ],
            [
             0.8888888888888888,
             "#fdca26"
            ],
            [
             1,
             "#f0f921"
            ]
           ],
           "sequentialminus": [
            [
             0,
             "#0d0887"
            ],
            [
             0.1111111111111111,
             "#46039f"
            ],
            [
             0.2222222222222222,
             "#7201a8"
            ],
            [
             0.3333333333333333,
             "#9c179e"
            ],
            [
             0.4444444444444444,
             "#bd3786"
            ],
            [
             0.5555555555555556,
             "#d8576b"
            ],
            [
             0.6666666666666666,
             "#ed7953"
            ],
            [
             0.7777777777777778,
             "#fb9f3a"
            ],
            [
             0.8888888888888888,
             "#fdca26"
            ],
            [
             1,
             "#f0f921"
            ]
           ]
          },
          "colorway": [
           "#636efa",
           "#EF553B",
           "#00cc96",
           "#ab63fa",
           "#FFA15A",
           "#19d3f3",
           "#FF6692",
           "#B6E880",
           "#FF97FF",
           "#FECB52"
          ],
          "font": {
           "color": "#2a3f5f"
          },
          "geo": {
           "bgcolor": "white",
           "lakecolor": "white",
           "landcolor": "#E5ECF6",
           "showlakes": true,
           "showland": true,
           "subunitcolor": "white"
          },
          "hoverlabel": {
           "align": "left"
          },
          "hovermode": "closest",
          "mapbox": {
           "style": "light"
          },
          "paper_bgcolor": "white",
          "plot_bgcolor": "#E5ECF6",
          "polar": {
           "angularaxis": {
            "gridcolor": "white",
            "linecolor": "white",
            "ticks": ""
           },
           "bgcolor": "#E5ECF6",
           "radialaxis": {
            "gridcolor": "white",
            "linecolor": "white",
            "ticks": ""
           }
          },
          "scene": {
           "xaxis": {
            "backgroundcolor": "#E5ECF6",
            "gridcolor": "white",
            "gridwidth": 2,
            "linecolor": "white",
            "showbackground": true,
            "ticks": "",
            "zerolinecolor": "white"
           },
           "yaxis": {
            "backgroundcolor": "#E5ECF6",
            "gridcolor": "white",
            "gridwidth": 2,
            "linecolor": "white",
            "showbackground": true,
            "ticks": "",
            "zerolinecolor": "white"
           },
           "zaxis": {
            "backgroundcolor": "#E5ECF6",
            "gridcolor": "white",
            "gridwidth": 2,
            "linecolor": "white",
            "showbackground": true,
            "ticks": "",
            "zerolinecolor": "white"
           }
          },
          "shapedefaults": {
           "line": {
            "color": "#2a3f5f"
           }
          },
          "ternary": {
           "aaxis": {
            "gridcolor": "white",
            "linecolor": "white",
            "ticks": ""
           },
           "baxis": {
            "gridcolor": "white",
            "linecolor": "white",
            "ticks": ""
           },
           "bgcolor": "#E5ECF6",
           "caxis": {
            "gridcolor": "white",
            "linecolor": "white",
            "ticks": ""
           }
          },
          "title": {
           "x": 0.05
          },
          "xaxis": {
           "automargin": true,
           "gridcolor": "white",
           "linecolor": "white",
           "ticks": "",
           "title": {
            "standoff": 15
           },
           "zerolinecolor": "white",
           "zerolinewidth": 2
          },
          "yaxis": {
           "automargin": true,
           "gridcolor": "white",
           "linecolor": "white",
           "ticks": "",
           "title": {
            "standoff": 15
           },
           "zerolinecolor": "white",
           "zerolinewidth": 2
          }
         }
        },
        "title": {
         "text": "Cross-Validation pro Fold"
        },
        "xaxis": {
         "title": {
          "text": "Fold"
         }
        },
        "yaxis": {
         "range": [
          0,
          1
         ],
         "title": {
          "text": "Accuracy"
         }
        }
       }
      }
     },
     "metadata": {},
     "output_type": "display_data"
    }
   ],
   "source": [
    "import plotly.graph_objects as go\n",
    "\n",
    "cv_acc = cross_val_score(clf, X, y, cv=10)\n",
    "mean_accuracy = cv_acc.mean()\n",
    "std_accuracy = cv_acc.std()\n",
    "\n",
    "fig1 = go.Figure()\n",
    "\n",
    "# Accuracy pro Fold:\n",
    "fig1.add_trace(go.Bar(\n",
    "    x=[f\"Fold {i+1}\" for i in range(len(cv_acc))],\n",
    "    y=cv_acc,\n",
    "    name=\"Accuracy pro Fold\",\n",
    "    marker_color=\"steelblue\"\n",
    "))\n",
    "\n",
    "# Durchschnittslinie:\n",
    "fig1.add_trace(go.Scatter(\n",
    "    x=[f\"Fold {i+1}\" for i in range(len(cv_acc))],\n",
    "    y=[mean_accuracy] * len(cv_acc),\n",
    "    mode=\"lines\",\n",
    "    name=f\"Durchschnitt: {mean_accuracy:.3f}\",\n",
    "    line=dict(\n",
    "        color=\"red\",\n",
    "        dash=\"dash\"\n",
    "    )\n",
    "))\n",
    "\n",
    "# +std-Linie:\n",
    "fig1.add_trace(go.Scatter(\n",
    "    x=[f\"Fold {i+1}\" for i in range(len(cv_acc))],\n",
    "    y=[mean_accuracy + std_accuracy] * len(cv_acc),\n",
    "    mode=\"lines\",\n",
    "    name=f\"+1 Std: {(mean_accuracy + std_accuracy):.3f}\",\n",
    "    line=dict(color=\"orange\", dash=\"dot\")\n",
    "))\n",
    "\n",
    "# -std-Linie:\n",
    "fig1.add_trace(go.Scatter(\n",
    "    x=[f\"Fold {i+1}\" for i in range(len(cv_acc))],\n",
    "    y=[mean_accuracy - std_accuracy] * len(cv_acc),\n",
    "    mode=\"lines\",\n",
    "    name=f\"-1 Std: {(mean_accuracy - std_accuracy):.3f}\",\n",
    "    line=dict(color=\"orange\", dash=\"dot\"),\n",
    "    fill=\"tonexty\",\n",
    "    fillcolor=\"rgba(255, 165, 0, 0.2)\"\n",
    "))\n",
    "\n",
    "fig1.update_layout(\n",
    "    title=\"Cross-Validation pro Fold\",\n",
    "    xaxis_title=\"Fold\",\n",
    "    yaxis_title=\"Accuracy\",\n",
    "    yaxis=dict(range=[0, 1])\n",
    ")\n"
   ]
  }
 ],
 "metadata": {
  "kernelspec": {
   "display_name": ".venv",
   "language": "python",
   "name": "python3"
  },
  "language_info": {
   "codemirror_mode": {
    "name": "ipython",
    "version": 3
   },
   "file_extension": ".py",
   "mimetype": "text/x-python",
   "name": "python",
   "nbconvert_exporter": "python",
   "pygments_lexer": "ipython3",
   "version": "3.13.2"
  }
 },
 "nbformat": 4,
 "nbformat_minor": 5
}
